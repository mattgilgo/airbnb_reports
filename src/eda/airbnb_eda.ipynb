{
 "cells": [
  {
   "cell_type": "code",
   "execution_count": 3,
   "metadata": {},
   "outputs": [],
   "source": [
    "import pandas as pd\n",
    "import matplotlib.pyplot as plt\n",
    "import folium\n",
    "import numpy as np\n",
    "import seaborn as sns\n",
    "import os\n",
    "import fastparquet\n",
    "import warnings\n",
    "import geopy\n",
    "from geopy.point import Point\n",
    "import time\n",
    "warnings.simplefilter(action='ignore', category=FutureWarning)\n",
    "\n",
    "#df = pd.read_parquet('Downloads/airbnb_parquets')\n",
    "#df.to_csv('csv_printout.csv')"
   ]
  },
  {
   "cell_type": "code",
   "execution_count": 2,
   "metadata": {},
   "outputs": [],
   "source": [
    "def append_fig_to_html(list_of_figs):\n",
    "    for fig in list_of_figs:\n",
    "        with open(\"reports/report_draft.html\",'a') as f:\n",
    "            f.write(fig.to_html(full_html=False, include_plotlyjs='cdn'))\n",
    "\n",
    "# write this later\n",
    "\"\"\"\n",
    "def overwrite_html(list_of_figs):\n",
    "    \n",
    "    with open(\"reports/report_draft.html\",'w') as f:\n",
    "    f.write(listing_fig.to_html(full_html=False, include_plotlyjs='cdn'))\n",
    "    f.write(price_fig.to_html(full_html=False, include_plotlyjs='cdn'))\n",
    "    f.write(price_v_numlist_fig.to_html(full_html=False, include_plotlyjs='cdn'))\n",
    "\"\"\"\n",
    "\n",
    "def calculate_mortgage(home_value, interest_rate, num_years, down_payment_pct=0):\n",
    "    per_payment_interest = 0\n",
    "    loan_value = 0\n",
    "\n",
    "    if down_payment_pct >= 1:\n",
    "        down_payment = down_payment_pct/100 * home_value\n",
    "        loan_value = home_value - down_payment\n",
    "    else:\n",
    "        down_payment = down_payment_pct * home_value\n",
    "        loan_value = home_value - down_payment\n",
    "\n",
    "    if loan_value/home_value < 0.80: \n",
    "        # insert pmi calc here\n",
    "        pmi = 0.01  # using near average value here\n",
    "        pmi_cost = 0.0007*home_value    # shot in the dark after interpolating nerdwallet calculator\n",
    "        if interest_rate >= 1:\n",
    "            per_payment_interest = interest_rate/100/12\n",
    "        else:\n",
    "            per_payment_interest = interest_rate/12\n",
    "        num_months = num_years*12\n",
    "        mortgage = loan_value*(per_payment_interest*(1+per_payment_interest)**num_months)/((1+per_payment_interest)**num_months-1) + pmi_cost\n",
    "\n",
    "        mortgage = np.round(mortgage, 2)\n",
    "        return mortgage\n",
    "    else:\n",
    "        if interest_rate >= 1:\n",
    "            per_payment_interest = interest_rate/100/12\n",
    "        else:\n",
    "            per_payment_interest = interest_rate/12\n",
    "        num_months = num_years*12\n",
    "        mortgage = loan_value*(per_payment_interest*(1+per_payment_interest)**num_months)/((1+per_payment_interest)**num_months-1)\n",
    "\n",
    "        mortgage = np.round(mortgage, 2)\n",
    "        return mortgage\n",
    "\n",
    "def calculate_roi(airbnb_daily_price, occupancy_rate, monthly_mortgage, monthly_maintenence=0, monthly_taxes=0):\n",
    "    gross_rev = airbnb_daily_price * occupancy_rate * 365/12\n",
    "    net_rev = gross_rev - monthly_maintenence - monthly_taxes\n",
    "    profit = net_rev - monthly_mortgage\n",
    "    roi = profit/monthly_mortgage\n",
    "    roi = roi\n",
    "    return roi\n",
    "\n",
    "def set_location_desc(df,lat,long,geolocator):\n",
    "    start_time = time.time()\n",
    "    lat = str(lat)\n",
    "    print(\"---Lat casted at value at %s seconds ---\" % (time.time() - start_time))\n",
    "\n",
    "    long = str(long)\n",
    "    print(\"---Long casted at %s seconds ---\" % (time.time() - start_time))\n",
    "\n",
    "    location = geolocator.reverse(lat+\",\"+long)\n",
    "    print(\"---Get location at %s seconds ---\" % (time.time() - start_time))\n",
    "\n",
    "    address = location.raw['address']\n",
    "    print(\"---Get address at %s seconds ---\" % (time.time() - start_time))\n",
    "\n",
    "    city = address.get('city', '')\n",
    "    print(\"---Get city value at %s seconds ---\" % (time.time() - start_time))\n",
    "\n",
    "    state = address.get('state', '')\n",
    "    print(\"---Get state value at %s seconds ---\" % (time.time() - start_time))\n",
    "\n",
    "    country = address.get('country')\n",
    "    print(\"---Get country value at %s seconds ---\" % (time.time() - start_time))\n",
    "    country_code = address.get('country_code')\n",
    "    print(\"---Get country_code value at %s seconds ---\" % (time.time() - start_time))\n",
    "    return city\n",
    "\n",
    "def set_city(lat, long, geolocator):\n",
    "    start_time = time.time()\n",
    "    lat = str(lat)\n",
    "    print(\"---Latitude casted to string at %s seconds ---\" % (time.time() - start_time))\n",
    "\n",
    "    long = str(long)\n",
    "    print(\"---Longitude casted at %s seconds ---\" % (time.time() - start_time))\n",
    "\n",
    "    location = geolocator.reverse(lat+\",\"+long)\n",
    "    print(\"---Get location json from geopy at %s seconds ---\" % (time.time() - start_time))\n",
    "\n",
    "    address = location.raw['address']\n",
    "    print(\"---Get address json at %s seconds ---\" % (time.time() - start_time))\n",
    "\n",
    "    city = address.get('city', '')\n",
    "    print(\"---Get city value at %s seconds ---\" % (time.time() - start_time))\n",
    "    return city\n",
    "\n",
    "def set_state(lat, long):\n",
    "    from geopy.geocoders import Nominatim\n",
    "    geolocator = Nominatim(user_agent=\"geoapiExercises\")\n",
    "    lat = str(lat)\n",
    "    long = str(long)\n",
    "    location = geolocator.reverse(Point(lat,long))\n",
    "    address = location.raw['address']\n",
    "    state = address.get('state', '')\n",
    "    return state\n",
    "\n",
    "def set_country(lat, long):\n",
    "    from geopy.geocoders import Nominatim\n",
    "    geolocator = Nominatim(user_agent=\"geoapiExercises\")\n",
    "    lat = str(lat)\n",
    "    long = str(long)\n",
    "    location = geolocator.reverse(Point(lat,long))\n",
    "    address = location.raw['address']\n",
    "    country = address.get('country')\n",
    "    return country\n",
    "\n",
    "def set_country_code(lat, long):\n",
    "    from geopy.geocoders import Nominatim\n",
    "    geolocator = Nominatim(user_agent=\"geoapiExercises\")\n",
    "    lat = str(lat)\n",
    "    long = str(long)\n",
    "    location = geolocator.reverse(lat+\",\"+long)\n",
    "    address = location.raw['address']\n",
    "    country_code = address.get('country_code')\n",
    "    return country_code\n",
    "\n",
    "def set_zipcode(lat, long):\n",
    "    from geopy.geocoders import Nominatim\n",
    "    geolocator = Nominatim(user_agent=\"geoapiExercises\")\n",
    "    lat = str(lat)\n",
    "    long = str(long)\n",
    "    location = geolocator.reverse(Point(lat,long))\n",
    "    address = location.raw['address']\n",
    "    zipcode = address.get('postcode', '')\n",
    "    return zipcode\n"
   ]
  },
  {
   "cell_type": "code",
   "execution_count": 3,
   "metadata": {},
   "outputs": [
    {
     "data": {
      "text/plain": [
       "\"\\nimport os, json\\nimport pandas as pd\\n\\n# this finds our json files\\npath_to_json = '/Users/matthewgilgo/Downloads/airbnb_data/all_ids/all_ids.json/'\\njson_files = [pos_json for pos_json in os.listdir(path_to_json) if pos_json.endswith('.json')]\\n\\n# here I define my pandas Dataframe with the columns I want to get from the json\\njsons_data = pd.DataFrame(columns=['index', 'id', 'name', 'price', 'displayPrice','monthlyPriceFactor','weeklyPriceFactor','avgRating','reviewsCount','isNewListing','isSuperhost','lat','lng','personCapacity','size','beds','baths','title','property_type','town','top_lat','right_long','botton_lat','left_long','url'])\\n\\n# we need both the json and an index number so use enumerate()\\nfor ind, js in enumerate(json_files):\\n    with open(os.path.join(path_to_json, js)) as json_file:\\n        json_text = json.load(json_file)\\n\\n        # here you need to know the layout of your json and each json has to have\\n        # the same structure (obviously not the structure I have here)\\n        index = json_text['features'][0]['index']\\n        id = json_text['features'][0]['id']\\n        name = json_text['features'][0]['name']\\n        price = json_text['features'][0]['price']\\n        displayPrice = json_text['features'][0]['displayPrice']\\n        monthlyPriceFactor = json_text['features'][0]['monthlyPriceFactor']\\n        weeklyPriceFactor = json_text['features'][0]['weeklyPriceFactor']\\n        avgRating = json_text['features'][0]['avgRating']\\n        reviewsCount = json_text['features'][0]['reviewsCount']\\n        isNewListing = json_text['features'][0]['isNewListing']\\n        isSuperhost = json_text['features'][0]['isSuperhost']\\n        lat = json_text['features'][0]['lat']\\n        lng = json_text['features'][0]['lng']\\n        personCapacity = json_text['features'][0]['personCapacity']\\n        size = json_text['features'][0]['size']\\n        beds = json_text['features'][0]['beds']\\n        baths = json_text['features'][0]['baths']\\n        title = json_text['features'][0]['title']\\n        property_type = json_text['features'][0]['property_type']\\n        town = json_text['features'][0]['town']\\n        top_lat = json_text['features'][0]['top_lat']\\n        right_long = json_text['features'][0]['right_long']\\n        botton_lat = json_text['features'][0]['botton_lat']\\n        left_long = json_text['features'][0]['left_long']\\n        url = json_text['features'][0]['url']          \\n        # here I push a list of data into a pandas DataFrame at row given by 'index'\\n        jsons_data.loc[ind] = [index,id,name,price,displayPrice,monthlyPriceFactor,weeklyPriceFactor,avgRating,reviewsCount,isNewListing,isSuperhost,lat,lng,personCapacity,size,beds,baths,title,property_type,town,top_lat,right_long,botton_lat,left_long,url]\\n\\n# now that we have the pertinent json data in our DataFrame let's look at it\\nprint(jsons_data)\\n\""
      ]
     },
     "execution_count": 3,
     "metadata": {},
     "output_type": "execute_result"
    }
   ],
   "source": [
    "\"\"\"\n",
    "import os, json\n",
    "import pandas as pd\n",
    "\n",
    "# this finds our json files\n",
    "path_to_json = '/Users/matthewgilgo/Downloads/airbnb_data/all_ids/all_ids.json/'\n",
    "json_files = [pos_json for pos_json in os.listdir(path_to_json) if pos_json.endswith('.json')]\n",
    "\n",
    "# here I define my pandas Dataframe with the columns I want to get from the json\n",
    "jsons_data = pd.DataFrame(columns=['index', 'id', 'name', 'price', 'displayPrice','monthlyPriceFactor','weeklyPriceFactor','avgRating','reviewsCount','isNewListing','isSuperhost','lat','lng','personCapacity','size','beds','baths','title','property_type','town','top_lat','right_long','botton_lat','left_long','url'])\n",
    "\n",
    "# we need both the json and an index number so use enumerate()\n",
    "for ind, js in enumerate(json_files):\n",
    "    with open(os.path.join(path_to_json, js)) as json_file:\n",
    "        json_text = json.load(json_file)\n",
    "\n",
    "        # here you need to know the layout of your json and each json has to have\n",
    "        # the same structure (obviously not the structure I have here)\n",
    "        index = json_text['features'][0]['index']\n",
    "        id = json_text['features'][0]['id']\n",
    "        name = json_text['features'][0]['name']\n",
    "        price = json_text['features'][0]['price']\n",
    "        displayPrice = json_text['features'][0]['displayPrice']\n",
    "        monthlyPriceFactor = json_text['features'][0]['monthlyPriceFactor']\n",
    "        weeklyPriceFactor = json_text['features'][0]['weeklyPriceFactor']\n",
    "        avgRating = json_text['features'][0]['avgRating']\n",
    "        reviewsCount = json_text['features'][0]['reviewsCount']\n",
    "        isNewListing = json_text['features'][0]['isNewListing']\n",
    "        isSuperhost = json_text['features'][0]['isSuperhost']\n",
    "        lat = json_text['features'][0]['lat']\n",
    "        lng = json_text['features'][0]['lng']\n",
    "        personCapacity = json_text['features'][0]['personCapacity']\n",
    "        size = json_text['features'][0]['size']\n",
    "        beds = json_text['features'][0]['beds']\n",
    "        baths = json_text['features'][0]['baths']\n",
    "        title = json_text['features'][0]['title']\n",
    "        property_type = json_text['features'][0]['property_type']\n",
    "        town = json_text['features'][0]['town']\n",
    "        top_lat = json_text['features'][0]['top_lat']\n",
    "        right_long = json_text['features'][0]['right_long']\n",
    "        botton_lat = json_text['features'][0]['botton_lat']\n",
    "        left_long = json_text['features'][0]['left_long']\n",
    "        url = json_text['features'][0]['url']          \n",
    "        # here I push a list of data into a pandas DataFrame at row given by 'index'\n",
    "        jsons_data.loc[ind] = [index,id,name,price,displayPrice,monthlyPriceFactor,weeklyPriceFactor,avgRating,reviewsCount,isNewListing,isSuperhost,lat,lng,personCapacity,size,beds,baths,title,property_type,town,top_lat,right_long,botton_lat,left_long,url]\n",
    "\n",
    "# now that we have the pertinent json data in our DataFrame let's look at it\n",
    "print(jsons_data)\n",
    "\"\"\""
   ]
  },
  {
   "cell_type": "code",
   "execution_count": 4,
   "metadata": {},
   "outputs": [
    {
     "name": "stdout",
     "output_type": "stream",
     "text": [
      "(1, 25)\n"
     ]
    },
    {
     "ename": "KeyboardInterrupt",
     "evalue": "",
     "output_type": "error",
     "traceback": [
      "\u001b[1;31m---------------------------------------------------------------------------\u001b[0m",
      "\u001b[1;31mFileNotFoundError\u001b[0m                         Traceback (most recent call last)",
      "File \u001b[1;32mc:\\Users\\mattg\\AppData\\Local\\Programs\\Python\\Python310\\lib\\genericpath.py:19\u001b[0m, in \u001b[0;36mexists\u001b[1;34m(path)\u001b[0m\n\u001b[0;32m     <a href='file:///c%3A/Users/mattg/AppData/Local/Programs/Python/Python310/lib/genericpath.py?line=17'>18</a>\u001b[0m \u001b[39mtry\u001b[39;00m:\n\u001b[1;32m---> <a href='file:///c%3A/Users/mattg/AppData/Local/Programs/Python/Python310/lib/genericpath.py?line=18'>19</a>\u001b[0m     os\u001b[39m.\u001b[39;49mstat(path)\n\u001b[0;32m     <a href='file:///c%3A/Users/mattg/AppData/Local/Programs/Python/Python310/lib/genericpath.py?line=19'>20</a>\u001b[0m \u001b[39mexcept\u001b[39;00m (\u001b[39mOSError\u001b[39;00m, \u001b[39mValueError\u001b[39;00m):\n",
      "\u001b[1;31mFileNotFoundError\u001b[0m: [WinError 3] The system cannot find the path specified: 'C:\\\\Users\\\\mattg\\\\AppData\\\\Local\\\\Temp\\\\ipykernel_15692\\\\4116336862.py'",
      "\nDuring handling of the above exception, another exception occurred:\n",
      "\u001b[1;31mKeyboardInterrupt\u001b[0m                         Traceback (most recent call last)",
      "\u001b[1;32mc:\\Users\\mattg\\Desktop\\Hobbies\\airbnb_reports\\airbnb_eda.ipynb Cell 4'\u001b[0m in \u001b[0;36m<cell line: 9>\u001b[1;34m()\u001b[0m\n\u001b[0;32m     <a href='vscode-notebook-cell:/c%3A/Users/mattg/Desktop/Hobbies/airbnb_reports/airbnb_eda.ipynb#ch0000003?line=10'>11</a>\u001b[0m     \u001b[39mif\u001b[39;00m next_file \u001b[39m!=\u001b[39m first_file:\n\u001b[0;32m     <a href='vscode-notebook-cell:/c%3A/Users/mattg/Desktop/Hobbies/airbnb_reports/airbnb_eda.ipynb#ch0000003?line=11'>12</a>\u001b[0m         next_listing \u001b[39m=\u001b[39m pd\u001b[39m.\u001b[39mread_parquet(next_file)\n\u001b[1;32m---> <a href='vscode-notebook-cell:/c%3A/Users/mattg/Desktop/Hobbies/airbnb_reports/airbnb_eda.ipynb#ch0000003?line=12'>13</a>\u001b[0m         listing_data \u001b[39m=\u001b[39m listing_data\u001b[39m.\u001b[39;49mappend(next_listing)\n\u001b[0;32m     <a href='vscode-notebook-cell:/c%3A/Users/mattg/Desktop/Hobbies/airbnb_reports/airbnb_eda.ipynb#ch0000003?line=13'>14</a>\u001b[0m \u001b[39mprint\u001b[39m(listing_data\u001b[39m.\u001b[39mshape)\n\u001b[0;32m     <a href='vscode-notebook-cell:/c%3A/Users/mattg/Desktop/Hobbies/airbnb_reports/airbnb_eda.ipynb#ch0000003?line=15'>16</a>\u001b[0m ne_dir \u001b[39m=\u001b[39m \u001b[39m'\u001b[39m\u001b[39mC:/Users/mattg/Desktop/Hobbies/airbnb_reports/bucket_data/listings/vt_nh\u001b[39m\u001b[39m'\u001b[39m\n",
      "File \u001b[1;32mc:\\Users\\mattg\\AppData\\Local\\Programs\\Python\\Python310\\lib\\site-packages\\pandas\\core\\frame.py:9036\u001b[0m, in \u001b[0;36mDataFrame.append\u001b[1;34m(self, other, ignore_index, verify_integrity, sort)\u001b[0m\n\u001b[0;32m   <a href='file:///c%3A/Users/mattg/AppData/Local/Programs/Python/Python310/lib/site-packages/pandas/core/frame.py?line=8928'>8929</a>\u001b[0m \u001b[39mdef\u001b[39;00m \u001b[39mappend\u001b[39m(\n\u001b[0;32m   <a href='file:///c%3A/Users/mattg/AppData/Local/Programs/Python/Python310/lib/site-packages/pandas/core/frame.py?line=8929'>8930</a>\u001b[0m     \u001b[39mself\u001b[39m,\n\u001b[0;32m   <a href='file:///c%3A/Users/mattg/AppData/Local/Programs/Python/Python310/lib/site-packages/pandas/core/frame.py?line=8930'>8931</a>\u001b[0m     other,\n\u001b[1;32m   (...)\u001b[0m\n\u001b[0;32m   <a href='file:///c%3A/Users/mattg/AppData/Local/Programs/Python/Python310/lib/site-packages/pandas/core/frame.py?line=8933'>8934</a>\u001b[0m     sort: \u001b[39mbool\u001b[39m \u001b[39m=\u001b[39m \u001b[39mFalse\u001b[39;00m,\n\u001b[0;32m   <a href='file:///c%3A/Users/mattg/AppData/Local/Programs/Python/Python310/lib/site-packages/pandas/core/frame.py?line=8934'>8935</a>\u001b[0m ) \u001b[39m-\u001b[39m\u001b[39m>\u001b[39m DataFrame:\n\u001b[0;32m   <a href='file:///c%3A/Users/mattg/AppData/Local/Programs/Python/Python310/lib/site-packages/pandas/core/frame.py?line=8935'>8936</a>\u001b[0m     \u001b[39m\"\"\"\u001b[39;00m\n\u001b[0;32m   <a href='file:///c%3A/Users/mattg/AppData/Local/Programs/Python/Python310/lib/site-packages/pandas/core/frame.py?line=8936'>8937</a>\u001b[0m \u001b[39m    Append rows of `other` to the end of caller, returning a new object.\u001b[39;00m\n\u001b[0;32m   <a href='file:///c%3A/Users/mattg/AppData/Local/Programs/Python/Python310/lib/site-packages/pandas/core/frame.py?line=8937'>8938</a>\u001b[0m \n\u001b[1;32m   (...)\u001b[0m\n\u001b[0;32m   <a href='file:///c%3A/Users/mattg/AppData/Local/Programs/Python/Python310/lib/site-packages/pandas/core/frame.py?line=9028'>9029</a>\u001b[0m \u001b[39m    4  4\u001b[39;00m\n\u001b[0;32m   <a href='file:///c%3A/Users/mattg/AppData/Local/Programs/Python/Python310/lib/site-packages/pandas/core/frame.py?line=9029'>9030</a>\u001b[0m \u001b[39m    \"\"\"\u001b[39;00m\n\u001b[0;32m   <a href='file:///c%3A/Users/mattg/AppData/Local/Programs/Python/Python310/lib/site-packages/pandas/core/frame.py?line=9030'>9031</a>\u001b[0m     warnings\u001b[39m.\u001b[39mwarn(\n\u001b[0;32m   <a href='file:///c%3A/Users/mattg/AppData/Local/Programs/Python/Python310/lib/site-packages/pandas/core/frame.py?line=9031'>9032</a>\u001b[0m         \u001b[39m\"\u001b[39m\u001b[39mThe frame.append method is deprecated \u001b[39m\u001b[39m\"\u001b[39m\n\u001b[0;32m   <a href='file:///c%3A/Users/mattg/AppData/Local/Programs/Python/Python310/lib/site-packages/pandas/core/frame.py?line=9032'>9033</a>\u001b[0m         \u001b[39m\"\u001b[39m\u001b[39mand will be removed from pandas in a future version. \u001b[39m\u001b[39m\"\u001b[39m\n\u001b[0;32m   <a href='file:///c%3A/Users/mattg/AppData/Local/Programs/Python/Python310/lib/site-packages/pandas/core/frame.py?line=9033'>9034</a>\u001b[0m         \u001b[39m\"\u001b[39m\u001b[39mUse pandas.concat instead.\u001b[39m\u001b[39m\"\u001b[39m,\n\u001b[0;32m   <a href='file:///c%3A/Users/mattg/AppData/Local/Programs/Python/Python310/lib/site-packages/pandas/core/frame.py?line=9034'>9035</a>\u001b[0m         \u001b[39mFutureWarning\u001b[39;00m,\n\u001b[1;32m-> <a href='file:///c%3A/Users/mattg/AppData/Local/Programs/Python/Python310/lib/site-packages/pandas/core/frame.py?line=9035'>9036</a>\u001b[0m         stacklevel\u001b[39m=\u001b[39mfind_stack_level(),\n\u001b[0;32m   <a href='file:///c%3A/Users/mattg/AppData/Local/Programs/Python/Python310/lib/site-packages/pandas/core/frame.py?line=9036'>9037</a>\u001b[0m     )\n\u001b[0;32m   <a href='file:///c%3A/Users/mattg/AppData/Local/Programs/Python/Python310/lib/site-packages/pandas/core/frame.py?line=9038'>9039</a>\u001b[0m     \u001b[39mreturn\u001b[39;00m \u001b[39mself\u001b[39m\u001b[39m.\u001b[39m_append(other, ignore_index, verify_integrity, sort)\n",
      "File \u001b[1;32mc:\\Users\\mattg\\AppData\\Local\\Programs\\Python\\Python310\\lib\\site-packages\\pandas\\util\\_exceptions.py:32\u001b[0m, in \u001b[0;36mfind_stack_level\u001b[1;34m()\u001b[0m\n\u001b[0;32m     <a href='file:///c%3A/Users/mattg/AppData/Local/Programs/Python/Python310/lib/site-packages/pandas/util/_exceptions.py?line=26'>27</a>\u001b[0m \u001b[39mdef\u001b[39;00m \u001b[39mfind_stack_level\u001b[39m() \u001b[39m-\u001b[39m\u001b[39m>\u001b[39m \u001b[39mint\u001b[39m:\n\u001b[0;32m     <a href='file:///c%3A/Users/mattg/AppData/Local/Programs/Python/Python310/lib/site-packages/pandas/util/_exceptions.py?line=27'>28</a>\u001b[0m     \u001b[39m\"\"\"\u001b[39;00m\n\u001b[0;32m     <a href='file:///c%3A/Users/mattg/AppData/Local/Programs/Python/Python310/lib/site-packages/pandas/util/_exceptions.py?line=28'>29</a>\u001b[0m \u001b[39m    Find the first place in the stack that is not inside pandas\u001b[39;00m\n\u001b[0;32m     <a href='file:///c%3A/Users/mattg/AppData/Local/Programs/Python/Python310/lib/site-packages/pandas/util/_exceptions.py?line=29'>30</a>\u001b[0m \u001b[39m    (tests notwithstanding).\u001b[39;00m\n\u001b[0;32m     <a href='file:///c%3A/Users/mattg/AppData/Local/Programs/Python/Python310/lib/site-packages/pandas/util/_exceptions.py?line=30'>31</a>\u001b[0m \u001b[39m    \"\"\"\u001b[39;00m\n\u001b[1;32m---> <a href='file:///c%3A/Users/mattg/AppData/Local/Programs/Python/Python310/lib/site-packages/pandas/util/_exceptions.py?line=31'>32</a>\u001b[0m     stack \u001b[39m=\u001b[39m inspect\u001b[39m.\u001b[39;49mstack()\n\u001b[0;32m     <a href='file:///c%3A/Users/mattg/AppData/Local/Programs/Python/Python310/lib/site-packages/pandas/util/_exceptions.py?line=33'>34</a>\u001b[0m     \u001b[39mimport\u001b[39;00m \u001b[39mpandas\u001b[39;00m \u001b[39mas\u001b[39;00m \u001b[39mpd\u001b[39;00m\n\u001b[0;32m     <a href='file:///c%3A/Users/mattg/AppData/Local/Programs/Python/Python310/lib/site-packages/pandas/util/_exceptions.py?line=35'>36</a>\u001b[0m     pkg_dir \u001b[39m=\u001b[39m os\u001b[39m.\u001b[39mpath\u001b[39m.\u001b[39mdirname(pd\u001b[39m.\u001b[39m\u001b[39m__file__\u001b[39m)\n",
      "File \u001b[1;32mc:\\Users\\mattg\\AppData\\Local\\Programs\\Python\\Python310\\lib\\inspect.py:1678\u001b[0m, in \u001b[0;36mstack\u001b[1;34m(context)\u001b[0m\n\u001b[0;32m   <a href='file:///c%3A/Users/mattg/AppData/Local/Programs/Python/Python310/lib/inspect.py?line=1675'>1676</a>\u001b[0m \u001b[39mdef\u001b[39;00m \u001b[39mstack\u001b[39m(context\u001b[39m=\u001b[39m\u001b[39m1\u001b[39m):\n\u001b[0;32m   <a href='file:///c%3A/Users/mattg/AppData/Local/Programs/Python/Python310/lib/inspect.py?line=1676'>1677</a>\u001b[0m     \u001b[39m\"\"\"Return a list of records for the stack above the caller's frame.\"\"\"\u001b[39;00m\n\u001b[1;32m-> <a href='file:///c%3A/Users/mattg/AppData/Local/Programs/Python/Python310/lib/inspect.py?line=1677'>1678</a>\u001b[0m     \u001b[39mreturn\u001b[39;00m getouterframes(sys\u001b[39m.\u001b[39;49m_getframe(\u001b[39m1\u001b[39;49m), context)\n",
      "File \u001b[1;32mc:\\Users\\mattg\\AppData\\Local\\Programs\\Python\\Python310\\lib\\inspect.py:1655\u001b[0m, in \u001b[0;36mgetouterframes\u001b[1;34m(frame, context)\u001b[0m\n\u001b[0;32m   <a href='file:///c%3A/Users/mattg/AppData/Local/Programs/Python/Python310/lib/inspect.py?line=1652'>1653</a>\u001b[0m framelist \u001b[39m=\u001b[39m []\n\u001b[0;32m   <a href='file:///c%3A/Users/mattg/AppData/Local/Programs/Python/Python310/lib/inspect.py?line=1653'>1654</a>\u001b[0m \u001b[39mwhile\u001b[39;00m frame:\n\u001b[1;32m-> <a href='file:///c%3A/Users/mattg/AppData/Local/Programs/Python/Python310/lib/inspect.py?line=1654'>1655</a>\u001b[0m     frameinfo \u001b[39m=\u001b[39m (frame,) \u001b[39m+\u001b[39m getframeinfo(frame, context)\n\u001b[0;32m   <a href='file:///c%3A/Users/mattg/AppData/Local/Programs/Python/Python310/lib/inspect.py?line=1655'>1656</a>\u001b[0m     framelist\u001b[39m.\u001b[39mappend(FrameInfo(\u001b[39m*\u001b[39mframeinfo))\n\u001b[0;32m   <a href='file:///c%3A/Users/mattg/AppData/Local/Programs/Python/Python310/lib/inspect.py?line=1656'>1657</a>\u001b[0m     frame \u001b[39m=\u001b[39m frame\u001b[39m.\u001b[39mf_back\n",
      "File \u001b[1;32mc:\\Users\\mattg\\AppData\\Local\\Programs\\Python\\Python310\\lib\\inspect.py:1629\u001b[0m, in \u001b[0;36mgetframeinfo\u001b[1;34m(frame, context)\u001b[0m\n\u001b[0;32m   <a href='file:///c%3A/Users/mattg/AppData/Local/Programs/Python/Python310/lib/inspect.py?line=1626'>1627</a>\u001b[0m start \u001b[39m=\u001b[39m lineno \u001b[39m-\u001b[39m \u001b[39m1\u001b[39m \u001b[39m-\u001b[39m context\u001b[39m/\u001b[39m\u001b[39m/\u001b[39m\u001b[39m2\u001b[39m\n\u001b[0;32m   <a href='file:///c%3A/Users/mattg/AppData/Local/Programs/Python/Python310/lib/inspect.py?line=1627'>1628</a>\u001b[0m \u001b[39mtry\u001b[39;00m:\n\u001b[1;32m-> <a href='file:///c%3A/Users/mattg/AppData/Local/Programs/Python/Python310/lib/inspect.py?line=1628'>1629</a>\u001b[0m     lines, lnum \u001b[39m=\u001b[39m findsource(frame)\n\u001b[0;32m   <a href='file:///c%3A/Users/mattg/AppData/Local/Programs/Python/Python310/lib/inspect.py?line=1629'>1630</a>\u001b[0m \u001b[39mexcept\u001b[39;00m \u001b[39mOSError\u001b[39;00m:\n\u001b[0;32m   <a href='file:///c%3A/Users/mattg/AppData/Local/Programs/Python/Python310/lib/inspect.py?line=1630'>1631</a>\u001b[0m     lines \u001b[39m=\u001b[39m index \u001b[39m=\u001b[39m \u001b[39mNone\u001b[39;00m\n",
      "File \u001b[1;32mc:\\Users\\mattg\\AppData\\Local\\Programs\\Python\\Python310\\lib\\inspect.py:940\u001b[0m, in \u001b[0;36mfindsource\u001b[1;34m(object)\u001b[0m\n\u001b[0;32m    <a href='file:///c%3A/Users/mattg/AppData/Local/Programs/Python/Python310/lib/inspect.py?line=931'>932</a>\u001b[0m \u001b[39mdef\u001b[39;00m \u001b[39mfindsource\u001b[39m(\u001b[39mobject\u001b[39m):\n\u001b[0;32m    <a href='file:///c%3A/Users/mattg/AppData/Local/Programs/Python/Python310/lib/inspect.py?line=932'>933</a>\u001b[0m     \u001b[39m\"\"\"Return the entire source file and starting line number for an object.\u001b[39;00m\n\u001b[0;32m    <a href='file:///c%3A/Users/mattg/AppData/Local/Programs/Python/Python310/lib/inspect.py?line=933'>934</a>\u001b[0m \n\u001b[0;32m    <a href='file:///c%3A/Users/mattg/AppData/Local/Programs/Python/Python310/lib/inspect.py?line=934'>935</a>\u001b[0m \u001b[39m    The argument may be a module, class, method, function, traceback, frame,\u001b[39;00m\n\u001b[0;32m    <a href='file:///c%3A/Users/mattg/AppData/Local/Programs/Python/Python310/lib/inspect.py?line=935'>936</a>\u001b[0m \u001b[39m    or code object.  The source code is returned as a list of all the lines\u001b[39;00m\n\u001b[0;32m    <a href='file:///c%3A/Users/mattg/AppData/Local/Programs/Python/Python310/lib/inspect.py?line=936'>937</a>\u001b[0m \u001b[39m    in the file and the line number indexes a line in that list.  An OSError\u001b[39;00m\n\u001b[0;32m    <a href='file:///c%3A/Users/mattg/AppData/Local/Programs/Python/Python310/lib/inspect.py?line=937'>938</a>\u001b[0m \u001b[39m    is raised if the source code cannot be retrieved.\"\"\"\u001b[39;00m\n\u001b[1;32m--> <a href='file:///c%3A/Users/mattg/AppData/Local/Programs/Python/Python310/lib/inspect.py?line=939'>940</a>\u001b[0m     file \u001b[39m=\u001b[39m getsourcefile(\u001b[39mobject\u001b[39;49m)\n\u001b[0;32m    <a href='file:///c%3A/Users/mattg/AppData/Local/Programs/Python/Python310/lib/inspect.py?line=940'>941</a>\u001b[0m     \u001b[39mif\u001b[39;00m file:\n\u001b[0;32m    <a href='file:///c%3A/Users/mattg/AppData/Local/Programs/Python/Python310/lib/inspect.py?line=941'>942</a>\u001b[0m         \u001b[39m# Invalidate cache if needed.\u001b[39;00m\n\u001b[0;32m    <a href='file:///c%3A/Users/mattg/AppData/Local/Programs/Python/Python310/lib/inspect.py?line=942'>943</a>\u001b[0m         linecache\u001b[39m.\u001b[39mcheckcache(file)\n",
      "File \u001b[1;32mc:\\Users\\mattg\\AppData\\Local\\Programs\\Python\\Python310\\lib\\inspect.py:826\u001b[0m, in \u001b[0;36mgetsourcefile\u001b[1;34m(object)\u001b[0m\n\u001b[0;32m    <a href='file:///c%3A/Users/mattg/AppData/Local/Programs/Python/Python310/lib/inspect.py?line=822'>823</a>\u001b[0m \u001b[39melif\u001b[39;00m \u001b[39many\u001b[39m(filename\u001b[39m.\u001b[39mendswith(s) \u001b[39mfor\u001b[39;00m s \u001b[39min\u001b[39;00m\n\u001b[0;32m    <a href='file:///c%3A/Users/mattg/AppData/Local/Programs/Python/Python310/lib/inspect.py?line=823'>824</a>\u001b[0m              importlib\u001b[39m.\u001b[39mmachinery\u001b[39m.\u001b[39mEXTENSION_SUFFIXES):\n\u001b[0;32m    <a href='file:///c%3A/Users/mattg/AppData/Local/Programs/Python/Python310/lib/inspect.py?line=824'>825</a>\u001b[0m     \u001b[39mreturn\u001b[39;00m \u001b[39mNone\u001b[39;00m\n\u001b[1;32m--> <a href='file:///c%3A/Users/mattg/AppData/Local/Programs/Python/Python310/lib/inspect.py?line=825'>826</a>\u001b[0m \u001b[39mif\u001b[39;00m os\u001b[39m.\u001b[39;49mpath\u001b[39m.\u001b[39;49mexists(filename):\n\u001b[0;32m    <a href='file:///c%3A/Users/mattg/AppData/Local/Programs/Python/Python310/lib/inspect.py?line=826'>827</a>\u001b[0m     \u001b[39mreturn\u001b[39;00m filename\n\u001b[0;32m    <a href='file:///c%3A/Users/mattg/AppData/Local/Programs/Python/Python310/lib/inspect.py?line=827'>828</a>\u001b[0m \u001b[39m# only return a non-existent filename if the module has a PEP 302 loader\u001b[39;00m\n",
      "File \u001b[1;32mc:\\Users\\mattg\\AppData\\Local\\Programs\\Python\\Python310\\lib\\genericpath.py:19\u001b[0m, in \u001b[0;36mexists\u001b[1;34m(path)\u001b[0m\n\u001b[0;32m     <a href='file:///c%3A/Users/mattg/AppData/Local/Programs/Python/Python310/lib/genericpath.py?line=16'>17</a>\u001b[0m \u001b[39m\"\"\"Test whether a path exists.  Returns False for broken symbolic links\"\"\"\u001b[39;00m\n\u001b[0;32m     <a href='file:///c%3A/Users/mattg/AppData/Local/Programs/Python/Python310/lib/genericpath.py?line=17'>18</a>\u001b[0m \u001b[39mtry\u001b[39;00m:\n\u001b[1;32m---> <a href='file:///c%3A/Users/mattg/AppData/Local/Programs/Python/Python310/lib/genericpath.py?line=18'>19</a>\u001b[0m     os\u001b[39m.\u001b[39;49mstat(path)\n\u001b[0;32m     <a href='file:///c%3A/Users/mattg/AppData/Local/Programs/Python/Python310/lib/genericpath.py?line=19'>20</a>\u001b[0m \u001b[39mexcept\u001b[39;00m (\u001b[39mOSError\u001b[39;00m, \u001b[39mValueError\u001b[39;00m):\n\u001b[0;32m     <a href='file:///c%3A/Users/mattg/AppData/Local/Programs/Python/Python310/lib/genericpath.py?line=20'>21</a>\u001b[0m     \u001b[39mreturn\u001b[39;00m \u001b[39mFalse\u001b[39;00m\n",
      "\u001b[1;31mKeyboardInterrupt\u001b[0m: "
     ]
    }
   ],
   "source": [
    "# Load in listing data\n",
    "nc_dir = 'C:/Users/mattg/Desktop/Hobbies/airbnb_reports/bucket_data/listings/north_carolina'\n",
    "first_file = ''\n",
    "for file in os.listdir(nc_dir):\n",
    "    first_file = os.path.join(nc_dir,file)\n",
    "    break\n",
    "listing_data = pd.read_parquet(first_file)\n",
    "print(listing_data.shape)\n",
    "for file in os.listdir(nc_dir):\n",
    "    next_file = os.path.join(nc_dir,file)\n",
    "    if next_file != first_file:\n",
    "        next_listing = pd.read_parquet(next_file)\n",
    "        listing_data = listing_data.append(next_listing)\n",
    "print(listing_data.shape)\n",
    "\n",
    "ne_dir = 'C:/Users/mattg/Desktop/Hobbies/airbnb_reports/bucket_data/listings/vt_nh'\n",
    "for file in os.listdir(ne_dir):\n",
    "    next_file = os.path.join(ne_dir,file)\n",
    "    next_listing = pd.read_parquet(next_file)\n",
    "    listing_data = listing_data.append(next_listing)\n",
    "print(listing_data.shape)\n",
    "\n",
    "miami_dir = 'C:/Users/mattg/Desktop/Hobbies/airbnb_reports/bucket_data/listings/miami'\n",
    "for file in os.listdir(miami_dir):\n",
    "    next_file = os.path.join(miami_dir,file)\n",
    "    next_listing = pd.read_parquet(next_file)\n",
    "    listing_data = listing_data.append(next_listing)\n",
    "print(listing_data.shape)\n",
    "\n",
    "# Load in occupancy data\n",
    "occ_data = pd.read_parquet('C:/Users/mattg/Desktop/Hobbies/airbnb_reports/bucket_data/occupancy')\n",
    "\n",
    "# Load in price data\n",
    "price_data = pd.read_parquet('C:/Users/mattg/Desktop/Hobbies/airbnb_reports/bucket_data/prices')"
   ]
  },
  {
   "cell_type": "code",
   "execution_count": null,
   "metadata": {},
   "outputs": [],
   "source": [
    "#listing_data = pd.read_parquet('C:/Users/mattg/Desktop/Hobbies/airbnb_reports/bucket_data/listings')\n",
    "occ_data = pd.read_parquet('C:/Users/mattg/Desktop/Hobbies/airbnb_reports/bucket_data/occupancy')\n",
    "price_data = pd.read_parquet('C:/Users/mattg/Desktop/Hobbies/airbnb_reports/bucket_data/prices')"
   ]
  },
  {
   "cell_type": "code",
   "execution_count": null,
   "metadata": {},
   "outputs": [],
   "source": [
    "# Clean up listing_data\n",
    "conditions = [\n",
    "    listing_data['baths'].str.contains('shared', na=False),\n",
    "    listing_data['baths'].str.contains('Shared', na=False)\n",
    "]\n",
    "\n",
    "values = ['Shared', 'Shared']\n",
    "\n",
    "listing_data['baths_type'] = np.select(conditions, values, default='Private')\n",
    "\n",
    "conditions_loc = [\n",
    "    listing_data['top_lat'] > 35.5,\n",
    "    listing_data['top_lat'] < 28\n",
    "]\n",
    "\n",
    "values_loc = ['New England', 'Miami']\n",
    "\n",
    "listing_data['Region'] = np.select(conditions_loc, values_loc, default='Carolinas')\n",
    "\n",
    "\n",
    "conditions_halfbath = [\n",
    "    listing_data['baths'].str.contains('Half-bath', na=False),\n",
    "    listing_data['baths'].str.contains('Shared half-bath', na=False),\n",
    "    listing_data['baths'].str.contains('Private half-bath', na=False)\n",
    "]\n",
    "\n",
    "values_halfbath = [0.5,0.5,0.5]\n",
    "\n",
    "listing_data['baths'] = np.select(conditions_halfbath, values_halfbath, default=listing_data['baths'])\n",
    "\n",
    "listing_data['baths_no'] = listing_data['baths'].str.split(' ').str[0]\n",
    "listing_data['beds_no'] = listing_data['beds'].str.split(' ').str[0]\n",
    "listing_data['guest_no'] = listing_data['title'].str.split(' ').str[0]\n",
    "listing_data['guest_no'] = listing_data['guest_no'].astype('float')\n",
    "listing_data['id'] = listing_data['id'].astype('float64')\n",
    "listing_data['id'] = listing_data['id'].astype('str')\n",
    "listing_data['town'] = listing_data['town'].str.lower()\n",
    "listing_data = listing_data[listing_data.lat.isna() == False]\n",
    "#listing_data['city_geopy'] = listing_data.apply(lambda row: set_city(row['lat'], row['lng']), axis=1)\n",
    "#listing_data['state_geopy'] = listing_data.apply(lambda row: set_state(row['lat'], row['lng']), axis=1)\n",
    "#listing_data['country_geopy'] = listing_data.apply(lambda row: set_country(row['lat'], row['lng']), axis=1)\n",
    "#listing_data['country_code_geopy'] = listing_data.apply(lambda row: set_country_code(row['lat'], row['lng']), axis=1)\n",
    "#listing_data['zipcode_geopy'] = listing_data.apply(lambda row: set_zipcode(row['lat'], row['lng']), axis=1)\n",
    "\n",
    "# Clean up occ_data\n",
    "#occ_data['id'] = occ_data['id'].astype('int')\n",
    "occ_data['id'] = occ_data['id'].astype('str')\n",
    "\n",
    "# Clean up price_data\n",
    "#price_data['id'] = price_data['id'].astype('int')\n",
    "price_data['id'] = price_data['id'].astype('str')"
   ]
  },
  {
   "cell_type": "code",
   "execution_count": null,
   "metadata": {},
   "outputs": [],
   "source": [
    "from geopy.geocoders import Nominatim\n",
    "geolocator = Nominatim(user_agent=\"geoapiExercises\")\n",
    "#listing_data['city_geopy'] = listing_data.apply(lambda row: set_city(row['lat'], row['lng'], geolocator), axis=1)\n",
    "print(set_city(35, -76, geolocator))\n"
   ]
  },
  {
   "cell_type": "code",
   "execution_count": null,
   "metadata": {},
   "outputs": [],
   "source": [
    "price_data_grouped = price_data.groupby('id').mean()"
   ]
  },
  {
   "cell_type": "code",
   "execution_count": null,
   "metadata": {},
   "outputs": [],
   "source": [
    "list_n_price_data = listing_data.merge(price_data_grouped, how = 'left', on='id')"
   ]
  },
  {
   "cell_type": "code",
   "execution_count": null,
   "metadata": {},
   "outputs": [],
   "source": [
    "# Future way to pull down listing data\n",
    "\"\"\"\n",
    "path = 'C:/Users/mattg/Desktop/Hobbies/bucket_data'\n",
    "df = pd.DataFrame(columns=['observation'])\n",
    "for directory in os.listdir(path):\n",
    "    if os.path.isdir(directory):\n",
    "        for filename in os.listdir(directory):\n",
    "            with open(os.path.join(directory, filename)) as f:\n",
    "                observation = f.read()\n",
    "                print('hi')\n",
    "                current_df = pd.DataFrame({'observation': [observation]})\n",
    "                df = df.append(current_df, ignore_index=True)\n",
    "\"\"\""
   ]
  },
  {
   "cell_type": "code",
   "execution_count": null,
   "metadata": {},
   "outputs": [],
   "source": [
    "from pandas.plotting import scatter_matrix\n",
    "scatter_matrix(listing_data, alpha=0.2, figsize=(15,15))"
   ]
  },
  {
   "cell_type": "code",
   "execution_count": null,
   "metadata": {},
   "outputs": [],
   "source": [
    "#null_town = all_ne_data[all_ne_data['town'].isna()]\n",
    "#null_town.to_csv('nulltowns.csv')"
   ]
  },
  {
   "cell_type": "code",
   "execution_count": null,
   "metadata": {},
   "outputs": [],
   "source": [
    "#bed_bath_prices = all_ne_data.groupby(['beds', 'baths'])['price'].mean().reset_index()\n",
    "#bed_bath_counts = all_ne_data.groupby(['beds', 'baths'])['price'].count().reset_index()\n",
    "bed_bath_prices = pd.read_csv('data/bed_bath_avgs_wbeds.csv')\n",
    "bed_bath_counts = pd.read_csv('data/bed_bath_counts_wbeds.csv')\n"
   ]
  },
  {
   "cell_type": "code",
   "execution_count": null,
   "metadata": {},
   "outputs": [],
   "source": []
  },
  {
   "cell_type": "code",
   "execution_count": null,
   "metadata": {},
   "outputs": [],
   "source": [
    "\n",
    "bed_bath_prices_rev2 = listing_data.groupby(['beds_no', 'baths_no', 'baths_type'])['price'].mean().reset_index()\n",
    "bed_bath_counts_rev2 = listing_data.groupby(['beds_no', 'baths_no', 'baths_type'])['price'].count().reset_index()\n",
    "bed_bath_prices_rev2 = bed_bath_prices_rev2.dropna(axis=0, subset=['beds_no'])\n",
    "bed_bath_counts_rev2 = bed_bath_counts_rev2.dropna(axis=0, subset=['beds_no'])\n",
    "bed_bath_prices_rev2.to_csv('grouped_data/bed_bath_prices_rev2.csv')\n",
    "bed_bath_prices_rev2.to_csv('grouped_data/bed_bath_counts_rev2.csv')\n"
   ]
  },
  {
   "cell_type": "code",
   "execution_count": null,
   "metadata": {},
   "outputs": [],
   "source": [
    "bed_bath_prices_rev2 = pd.read_csv('grouped_data/bed_bath_prices_rev2.csv')\n",
    "bed_bath_counts_rev2 = pd.read_csv('grouped_data/bed_bath_counts_rev2.csv')"
   ]
  },
  {
   "cell_type": "code",
   "execution_count": null,
   "metadata": {},
   "outputs": [],
   "source": [
    "import matplotlib.pyplot as plt\n",
    "import seaborn as sns\n",
    "sns.scatterplot(x=bed_bath_prices_rev2['beds_no'], y=bed_bath_prices_rev2['baths_no'], style=bed_bath_prices_rev2['baths_type'], hue=bed_bath_prices_rev2['price'])\n",
    "plt.title('Price vs Bed/Bath Combinations')\n",
    "plt.xlabel('Baths')\n",
    "plt.ylabel('Beds')"
   ]
  },
  {
   "cell_type": "code",
   "execution_count": null,
   "metadata": {},
   "outputs": [],
   "source": [
    "avgs = listing_data.groupby(['guest_no','Region'])['price'].mean().reset_index()\n",
    "import seaborn as sns\n",
    "sns.scatterplot(x=avgs['guest_no'], y=avgs['price'], hue = avgs['Region'])\n",
    "plt.title('Price vs Guests')\n",
    "plt.xlabel('Guests')\n",
    "plt.ylabel('Avg Price')\n"
   ]
  },
  {
   "cell_type": "code",
   "execution_count": null,
   "metadata": {},
   "outputs": [],
   "source": [
    "avgRats = listing_data.groupby(['guest_no','Region'])['avgRating'].mean().reset_index()\n",
    "sns.scatterplot(x=avgRats['guest_no'], y=avgRats['avgRating'], hue = avgRats['Region'])\n",
    "plt.title('Avg Rating vs Guests')\n",
    "plt.xlabel('Guests')\n",
    "plt.ylabel('Avg Rating')\n"
   ]
  },
  {
   "cell_type": "code",
   "execution_count": null,
   "metadata": {},
   "outputs": [],
   "source": [
    "sns.boxplot(x=\"guest_no\", y=\"price\", data=listing_data)\n",
    "plt.ylim([0,2000])"
   ]
  },
  {
   "cell_type": "code",
   "execution_count": null,
   "metadata": {},
   "outputs": [],
   "source": [
    "counts = listing_data.groupby(['guest_no'])['id'].count().reset_index()\n",
    "sns.scatterplot(x=counts['guest_no'], y=counts['id'])\n",
    "plt.title('Count of IDs vs Guests')\n",
    "plt.xlabel('# of Guests')\n",
    "plt.ylabel('ID Count')"
   ]
  },
  {
   "cell_type": "code",
   "execution_count": null,
   "metadata": {},
   "outputs": [],
   "source": [
    "counts_loc = listing_data.groupby(['guest_no','Region'])['id'].count().reset_index()\n",
    "sns.scatterplot(x=counts_loc['guest_no'], y=counts_loc['id'], hue = counts_loc['Region'])\n",
    "plt.title('Count of IDs vs Guests')\n",
    "plt.xlabel('# of Guests')\n",
    "plt.ylabel('ID Count')"
   ]
  },
  {
   "cell_type": "code",
   "execution_count": null,
   "metadata": {},
   "outputs": [],
   "source": [
    "sns.boxplot(x=\"guest_no\", y=\"avgRating\", data=listing_data)\n",
    "#plt.ylim([0,2000])"
   ]
  },
  {
   "cell_type": "code",
   "execution_count": null,
   "metadata": {},
   "outputs": [],
   "source": [
    "listing_data.columns"
   ]
  },
  {
   "cell_type": "code",
   "execution_count": null,
   "metadata": {},
   "outputs": [],
   "source": [
    "import folium\n",
    "#listing_locations = all_ne_data[[\"lat\", \"lng\", \"name\"]]\n",
    "#listing_locations = listing_locations.dropna()\n",
    "listing_data = listing_data.dropna()\n",
    "m = folium.Map(location=[listing_data.lat.mean(), listing_data.lng.mean()], zoom_start=3)\n",
    "\n",
    "tooltip = \"Click me!\"\n",
    "counter = 0\n",
    "for index, location_info in listing_data.iterrows():\n",
    "#for index, location_info in listing_locations.iterrows():\n",
    "    if location_info.reviewsCount > 100:\n",
    "        folium.Marker(\n",
    "            [location_info[\"lat\"], location_info[\"lng\"]], popup=location_info[\"price\"], icon=folium.Icon(color=\"darkgreen\")\n",
    "        ).add_to(m)\n",
    "    else:\n",
    "        folium.Marker(\n",
    "            [location_info[\"lat\"], location_info[\"lng\"]], popup=location_info[\"price\"], icon=folium.Icon(color=\"blue\")\n",
    "        ).add_to(m)        \n",
    "    counter += 1\n",
    "    if counter == 1000:\n",
    "        break\n",
    "\n",
    "#m.save('map.html')"
   ]
  },
  {
   "cell_type": "code",
   "execution_count": null,
   "metadata": {},
   "outputs": [],
   "source": [
    "m"
   ]
  },
  {
   "cell_type": "code",
   "execution_count": null,
   "metadata": {},
   "outputs": [],
   "source": [
    "listing_data.isSuperhost.unique()"
   ]
  },
  {
   "cell_type": "code",
   "execution_count": null,
   "metadata": {},
   "outputs": [],
   "source": [
    "listing_data.shape"
   ]
  },
  {
   "cell_type": "code",
   "execution_count": null,
   "metadata": {},
   "outputs": [],
   "source": [
    "listing_data"
   ]
  },
  {
   "cell_type": "code",
   "execution_count": null,
   "metadata": {},
   "outputs": [],
   "source": [
    "nc = listing_data[listing_data['top_lat'] < 35.5]"
   ]
  },
  {
   "cell_type": "code",
   "execution_count": null,
   "metadata": {},
   "outputs": [],
   "source": [
    "nc.shape"
   ]
  },
  {
   "cell_type": "code",
   "execution_count": null,
   "metadata": {},
   "outputs": [],
   "source": [
    "nc.town.unique()"
   ]
  },
  {
   "cell_type": "code",
   "execution_count": null,
   "metadata": {},
   "outputs": [],
   "source": [
    "from glob import glob\n",
    "import numpy as np\n",
    "import folium\n",
    "from folium import plugins\n",
    "from folium.plugins import HeatMap\n",
    "\n",
    "lon, lat = -77.5, 34.2\n",
    "zoom_start = 5\n",
    "\n",
    "#data = (\n",
    "#    np.random.normal(size=(100, 3)) *\n",
    "#    np.array([[1, 1, 1]]) +\n",
    "#    np.array([[48, 5, 1]])\n",
    "#).tolist()\n",
    "m = folium.Map([48, 5], tiles='stamentoner', zoom_start=6)\n",
    "#nc = nc.dropna()\n",
    "HeatMap(listing_data[['lat','lng']].groupby(['lat','lng']).sum().reset_index().values.tolist(), radius=7, max_zoom=10).add_to(folium.FeatureGroup(name='Heat Map').add_to(m))\n",
    "folium.LayerControl().add_to(m)"
   ]
  },
  {
   "cell_type": "code",
   "execution_count": null,
   "metadata": {},
   "outputs": [],
   "source": [
    "m"
   ]
  },
  {
   "cell_type": "code",
   "execution_count": 42,
   "metadata": {},
   "outputs": [],
   "source": [
    "import plotly.express as px\n",
    "listing_fig = px.density_mapbox(listing_data, lat='lat', lon='lng', z='id', radius=10,\n",
    "                        center=dict(lat=listing_data.lat.mean(), lon=listing_data.lng.mean()), zoom=3,\n",
    "                        mapbox_style=\"stamen-terrain\")\n",
    "#fig.show()\n",
    "listing_fig.update_layout(title_text=\"Heatmap for Airbnb Listings\")\n",
    "\n",
    "listing_fig.write_html(\"reports/listing_heatmap.html\")"
   ]
  },
  {
   "cell_type": "code",
   "execution_count": 43,
   "metadata": {},
   "outputs": [],
   "source": [
    "price_fig = px.density_mapbox(listing_data, lat='lat', lon='lng', z='price', radius=10,\n",
    "                        center=dict(lat=listing_data.lat.mean(), lon=listing_data.lng.mean()), zoom=3,\n",
    "                        mapbox_style=\"stamen-terrain\")\n",
    "#fig.show()\n",
    "price_fig.update_layout(title_text=\"Heatmap for Airbnb Price\")\n",
    "price_fig.write_html(\"reports/price_heatmap.html\")"
   ]
  },
  {
   "cell_type": "code",
   "execution_count": null,
   "metadata": {},
   "outputs": [],
   "source": []
  },
  {
   "cell_type": "code",
   "execution_count": null,
   "metadata": {},
   "outputs": [],
   "source": [
    "pip install us"
   ]
  },
  {
   "cell_type": "code",
   "execution_count": 44,
   "metadata": {},
   "outputs": [],
   "source": [
    "city_data = pd.read_csv('resource_data/uscities.csv')"
   ]
  },
  {
   "cell_type": "code",
   "execution_count": null,
   "metadata": {},
   "outputs": [],
   "source": [
    "city_data.columns"
   ]
  },
  {
   "cell_type": "code",
   "execution_count": null,
   "metadata": {},
   "outputs": [],
   "source": [
    "test_zip = 91311\n",
    "city_name = 'Los Angeles'\n",
    "    zip_codes = city_data[city_data['city'] == city_name].zips"
   ]
  },
  {
   "cell_type": "code",
   "execution_count": 45,
   "metadata": {},
   "outputs": [],
   "source": [
    "home_value = pd.read_csv('resource_data/home_value_zillow.csv')"
   ]
  },
  {
   "cell_type": "code",
   "execution_count": 10,
   "metadata": {},
   "outputs": [],
   "source": [
    "city_home = city_data.merge(home_value, left_on = ['city','state_id'], right_on = ['RegionName','State'])"
   ]
  },
  {
   "cell_type": "code",
   "execution_count": null,
   "metadata": {},
   "outputs": [],
   "source": [
    "city_home"
   ]
  },
  {
   "cell_type": "code",
   "execution_count": null,
   "metadata": {},
   "outputs": [],
   "source": [
    "city_home.shape"
   ]
  },
  {
   "cell_type": "code",
   "execution_count": 11,
   "metadata": {},
   "outputs": [],
   "source": [
    "city_home['city'] = city_home['city'].str.lower()\n",
    "lists_per_city = listing_data.groupby(['town'])['id'].count().reset_index()\n",
    "lists_per_city.rename(columns = {'id':'num_lists_in_town'}, inplace = True)\n",
    "median_price_per_city = listing_data.groupby(['town'])['price'].median().reset_index()\n",
    "median_price_per_city.rename(columns = {'price':'median_price_per_city'}, inplace = True)\n",
    "\n",
    "# Calculate occupancy rate\n",
    "occ_rate = occ_data.groupby('id')['available'].apply(lambda row: np.sum(row)/len(row))\n",
    "listing_occ_rate = listing_data.merge(occ_rate, on = 'id')\n",
    "\n",
    "\n",
    "# Calculate pricing avgs\n",
    "cleaning_fee = price_data.groupby(['id'])['cleaning_fee'].median().reset_index()\n",
    "cleaning_fee.rename(columns = {'cleaning_fee':'median_cleaning_fee'}, inplace = True)\n",
    "service_fee = price_data.groupby(['id'])['service_fee'].median().reset_index()\n",
    "service_fee.rename(columns = {'service_fee':'median_service_fee'}, inplace = True)\n",
    "#total_price = price_data.groupby(['id'])['total_price'].median().reset_index()\n",
    "#total_price.rename(columns = {'total_price':'median_total_price'}, inplace = True)\n",
    "\n",
    "listing_occ_rate_fees = listing_occ_rate.merge(cleaning_fee, on='id')\n",
    "listing_occ_rate_fees = listing_occ_rate_fees.merge(service_fee, on='id')\n",
    "#listing_occ_rate_fees = listing_occ_rate_fees.merge(total_price, on='id')\n",
    "\n",
    "median_occ_rate_per_city = listing_occ_rate_fees.groupby(['town'])['available'].median().reset_index()\n",
    "median_occ_rate_per_city.rename(columns = {'available':'occupancy_rate'}, inplace = True)\n",
    "\n",
    "median_cleaning_fee_per_city = listing_occ_rate_fees.groupby(['town'])['median_cleaning_fee'].median().reset_index()\n",
    "median_service_fee_per_city = listing_occ_rate_fees.groupby(['town'])['median_service_fee'].median().reset_index()\n",
    "#median_total_price_per_city = listing_occ_rate_fees.groupby(['town'])['median_total_price'].median().reset_index()\n",
    "#fees_and_price = cleaning_fee.merge(service_fee, on = 'id')\n",
    "#fees_and_price = fees_and_price.merge(total_price, on = 'id')\n"
   ]
  },
  {
   "cell_type": "code",
   "execution_count": 12,
   "metadata": {},
   "outputs": [],
   "source": [
    "lists_town_price = lists_per_city.merge(median_price_per_city, left_on = 'town', right_on = 'town')\n",
    "lists_town_price = lists_town_price.merge(median_cleaning_fee_per_city, left_on = 'town', right_on = 'town')\n",
    "lists_town_price = lists_town_price.merge(median_service_fee_per_city, left_on = 'town', right_on = 'town')\n",
    "#lists_town_price = lists_town_price.merge(median_total_price_per_city, left_on = 'town', right_on = 'town')\n",
    "lists_town_price['median_total_price'] = lists_town_price['median_price_per_city'] + lists_town_price['median_cleaning_fee'] + lists_town_price['median_service_fee']\n",
    "lists_town_price_occ = lists_town_price.merge(median_occ_rate_per_city, left_on = 'town', right_on = 'town')\n",
    "lists_town_home_price_occ = lists_town_price_occ.merge(city_home, left_on = 'town', right_on = 'city')"
   ]
  },
  {
   "cell_type": "code",
   "execution_count": null,
   "metadata": {},
   "outputs": [],
   "source": [
    "lists_town_home_price_occ.head(5)"
   ]
  },
  {
   "cell_type": "code",
   "execution_count": 67,
   "metadata": {},
   "outputs": [],
   "source": [
    "lists_town_home_price_occ_vt = lists_town_home_price_occ[(lists_town_home_price_occ['state_id'] == 'VT')]\n",
    "lists_town_home_price_occ_nh = lists_town_home_price_occ[(lists_town_home_price_occ['state_id'] == 'NH')]\n",
    "lists_town_home_price_occ_nc = lists_town_home_price_occ[(lists_town_home_price_occ['state_id'] == 'NC')]\n",
    "lists_town_home_price_occ_sc = lists_town_home_price_occ[(lists_town_home_price_occ['state_id'] == 'SC')]\n",
    "lists_town_home_price_occ_fl = lists_town_home_price_occ[(lists_town_home_price_occ['state_id'] == 'FL')]\n",
    "lists_town_home_price_occ_fl = lists_town_home_price_occ[(lists_town_home_price_occ['state_id'] == 'ME')]\n",
    "\n",
    "\n",
    "lists_town_home_price_occ_all = lists_town_home_price_occ_vt.append(lists_town_home_price_occ_nh)\n",
    "lists_town_home_price_occ_all = lists_town_home_price_occ_all.append(lists_town_home_price_occ_nc)\n",
    "lists_town_home_price_occ_all = lists_town_home_price_occ_all.append(lists_town_home_price_occ_sc)\n",
    "lists_town_home_price_occ_all = lists_town_home_price_occ_all.append(lists_town_home_price_occ_fl)\n",
    "lists_town_home_price_occ_all = lists_town_home_price_occ_all.append(lists_town_home_price_occ_me)\n",
    "\n"
   ]
  },
  {
   "cell_type": "code",
   "execution_count": null,
   "metadata": {},
   "outputs": [],
   "source": [
    "lists_town_home_price_occ_all"
   ]
  },
  {
   "cell_type": "code",
   "execution_count": 68,
   "metadata": {},
   "outputs": [
    {
     "data": {
      "application/vnd.plotly.v1+json": {
       "config": {
        "plotlyServerURL": "https://plot.ly"
       },
       "data": [
        {
         "name": "Price",
         "type": "bar",
         "x": [
          "lincoln",
          "newport",
          "atlantic beach",
          "bald head island",
          "carolina beach",
          "conway",
          "fairfield",
          "holden beach",
          "newport",
          "wilmington",
          "wrightsville beach",
          "atlantic beach",
          "conway",
          "denmark",
          "greenwood",
          "murrells inlet",
          "myrtle beach",
          "north myrtle beach",
          "pawleys island",
          "saco"
         ],
         "y": [
          269,
          90,
          150.5,
          335,
          254,
          112,
          184,
          338.5,
          90,
          148,
          322,
          150.5,
          112,
          157,
          180,
          242.5,
          153,
          242,
          189.5,
          357.5
         ]
        },
        {
         "name": "# of Listings",
         "type": "bar",
         "x": [
          "lincoln",
          "newport",
          "atlantic beach",
          "bald head island",
          "carolina beach",
          "conway",
          "fairfield",
          "holden beach",
          "newport",
          "wilmington",
          "wrightsville beach",
          "atlantic beach",
          "conway",
          "denmark",
          "greenwood",
          "murrells inlet",
          "myrtle beach",
          "north myrtle beach",
          "pawleys island",
          "saco"
         ],
         "y": [
          6,
          9,
          20,
          20,
          97,
          3,
          3,
          20,
          9,
          32,
          286,
          20,
          3,
          9,
          9,
          16,
          452,
          376,
          38,
          14
         ]
        }
       ],
       "layout": {
        "barmode": "group",
        "template": {
         "data": {
          "bar": [
           {
            "error_x": {
             "color": "#2a3f5f"
            },
            "error_y": {
             "color": "#2a3f5f"
            },
            "marker": {
             "line": {
              "color": "#E5ECF6",
              "width": 0.5
             },
             "pattern": {
              "fillmode": "overlay",
              "size": 10,
              "solidity": 0.2
             }
            },
            "type": "bar"
           }
          ],
          "barpolar": [
           {
            "marker": {
             "line": {
              "color": "#E5ECF6",
              "width": 0.5
             },
             "pattern": {
              "fillmode": "overlay",
              "size": 10,
              "solidity": 0.2
             }
            },
            "type": "barpolar"
           }
          ],
          "carpet": [
           {
            "aaxis": {
             "endlinecolor": "#2a3f5f",
             "gridcolor": "white",
             "linecolor": "white",
             "minorgridcolor": "white",
             "startlinecolor": "#2a3f5f"
            },
            "baxis": {
             "endlinecolor": "#2a3f5f",
             "gridcolor": "white",
             "linecolor": "white",
             "minorgridcolor": "white",
             "startlinecolor": "#2a3f5f"
            },
            "type": "carpet"
           }
          ],
          "choropleth": [
           {
            "colorbar": {
             "outlinewidth": 0,
             "ticks": ""
            },
            "type": "choropleth"
           }
          ],
          "contour": [
           {
            "colorbar": {
             "outlinewidth": 0,
             "ticks": ""
            },
            "colorscale": [
             [
              0,
              "#0d0887"
             ],
             [
              0.1111111111111111,
              "#46039f"
             ],
             [
              0.2222222222222222,
              "#7201a8"
             ],
             [
              0.3333333333333333,
              "#9c179e"
             ],
             [
              0.4444444444444444,
              "#bd3786"
             ],
             [
              0.5555555555555556,
              "#d8576b"
             ],
             [
              0.6666666666666666,
              "#ed7953"
             ],
             [
              0.7777777777777778,
              "#fb9f3a"
             ],
             [
              0.8888888888888888,
              "#fdca26"
             ],
             [
              1,
              "#f0f921"
             ]
            ],
            "type": "contour"
           }
          ],
          "contourcarpet": [
           {
            "colorbar": {
             "outlinewidth": 0,
             "ticks": ""
            },
            "type": "contourcarpet"
           }
          ],
          "heatmap": [
           {
            "colorbar": {
             "outlinewidth": 0,
             "ticks": ""
            },
            "colorscale": [
             [
              0,
              "#0d0887"
             ],
             [
              0.1111111111111111,
              "#46039f"
             ],
             [
              0.2222222222222222,
              "#7201a8"
             ],
             [
              0.3333333333333333,
              "#9c179e"
             ],
             [
              0.4444444444444444,
              "#bd3786"
             ],
             [
              0.5555555555555556,
              "#d8576b"
             ],
             [
              0.6666666666666666,
              "#ed7953"
             ],
             [
              0.7777777777777778,
              "#fb9f3a"
             ],
             [
              0.8888888888888888,
              "#fdca26"
             ],
             [
              1,
              "#f0f921"
             ]
            ],
            "type": "heatmap"
           }
          ],
          "heatmapgl": [
           {
            "colorbar": {
             "outlinewidth": 0,
             "ticks": ""
            },
            "colorscale": [
             [
              0,
              "#0d0887"
             ],
             [
              0.1111111111111111,
              "#46039f"
             ],
             [
              0.2222222222222222,
              "#7201a8"
             ],
             [
              0.3333333333333333,
              "#9c179e"
             ],
             [
              0.4444444444444444,
              "#bd3786"
             ],
             [
              0.5555555555555556,
              "#d8576b"
             ],
             [
              0.6666666666666666,
              "#ed7953"
             ],
             [
              0.7777777777777778,
              "#fb9f3a"
             ],
             [
              0.8888888888888888,
              "#fdca26"
             ],
             [
              1,
              "#f0f921"
             ]
            ],
            "type": "heatmapgl"
           }
          ],
          "histogram": [
           {
            "marker": {
             "pattern": {
              "fillmode": "overlay",
              "size": 10,
              "solidity": 0.2
             }
            },
            "type": "histogram"
           }
          ],
          "histogram2d": [
           {
            "colorbar": {
             "outlinewidth": 0,
             "ticks": ""
            },
            "colorscale": [
             [
              0,
              "#0d0887"
             ],
             [
              0.1111111111111111,
              "#46039f"
             ],
             [
              0.2222222222222222,
              "#7201a8"
             ],
             [
              0.3333333333333333,
              "#9c179e"
             ],
             [
              0.4444444444444444,
              "#bd3786"
             ],
             [
              0.5555555555555556,
              "#d8576b"
             ],
             [
              0.6666666666666666,
              "#ed7953"
             ],
             [
              0.7777777777777778,
              "#fb9f3a"
             ],
             [
              0.8888888888888888,
              "#fdca26"
             ],
             [
              1,
              "#f0f921"
             ]
            ],
            "type": "histogram2d"
           }
          ],
          "histogram2dcontour": [
           {
            "colorbar": {
             "outlinewidth": 0,
             "ticks": ""
            },
            "colorscale": [
             [
              0,
              "#0d0887"
             ],
             [
              0.1111111111111111,
              "#46039f"
             ],
             [
              0.2222222222222222,
              "#7201a8"
             ],
             [
              0.3333333333333333,
              "#9c179e"
             ],
             [
              0.4444444444444444,
              "#bd3786"
             ],
             [
              0.5555555555555556,
              "#d8576b"
             ],
             [
              0.6666666666666666,
              "#ed7953"
             ],
             [
              0.7777777777777778,
              "#fb9f3a"
             ],
             [
              0.8888888888888888,
              "#fdca26"
             ],
             [
              1,
              "#f0f921"
             ]
            ],
            "type": "histogram2dcontour"
           }
          ],
          "mesh3d": [
           {
            "colorbar": {
             "outlinewidth": 0,
             "ticks": ""
            },
            "type": "mesh3d"
           }
          ],
          "parcoords": [
           {
            "line": {
             "colorbar": {
              "outlinewidth": 0,
              "ticks": ""
             }
            },
            "type": "parcoords"
           }
          ],
          "pie": [
           {
            "automargin": true,
            "type": "pie"
           }
          ],
          "scatter": [
           {
            "fillpattern": {
             "fillmode": "overlay",
             "size": 10,
             "solidity": 0.2
            },
            "type": "scatter"
           }
          ],
          "scatter3d": [
           {
            "line": {
             "colorbar": {
              "outlinewidth": 0,
              "ticks": ""
             }
            },
            "marker": {
             "colorbar": {
              "outlinewidth": 0,
              "ticks": ""
             }
            },
            "type": "scatter3d"
           }
          ],
          "scattercarpet": [
           {
            "marker": {
             "colorbar": {
              "outlinewidth": 0,
              "ticks": ""
             }
            },
            "type": "scattercarpet"
           }
          ],
          "scattergeo": [
           {
            "marker": {
             "colorbar": {
              "outlinewidth": 0,
              "ticks": ""
             }
            },
            "type": "scattergeo"
           }
          ],
          "scattergl": [
           {
            "marker": {
             "colorbar": {
              "outlinewidth": 0,
              "ticks": ""
             }
            },
            "type": "scattergl"
           }
          ],
          "scattermapbox": [
           {
            "marker": {
             "colorbar": {
              "outlinewidth": 0,
              "ticks": ""
             }
            },
            "type": "scattermapbox"
           }
          ],
          "scatterpolar": [
           {
            "marker": {
             "colorbar": {
              "outlinewidth": 0,
              "ticks": ""
             }
            },
            "type": "scatterpolar"
           }
          ],
          "scatterpolargl": [
           {
            "marker": {
             "colorbar": {
              "outlinewidth": 0,
              "ticks": ""
             }
            },
            "type": "scatterpolargl"
           }
          ],
          "scatterternary": [
           {
            "marker": {
             "colorbar": {
              "outlinewidth": 0,
              "ticks": ""
             }
            },
            "type": "scatterternary"
           }
          ],
          "surface": [
           {
            "colorbar": {
             "outlinewidth": 0,
             "ticks": ""
            },
            "colorscale": [
             [
              0,
              "#0d0887"
             ],
             [
              0.1111111111111111,
              "#46039f"
             ],
             [
              0.2222222222222222,
              "#7201a8"
             ],
             [
              0.3333333333333333,
              "#9c179e"
             ],
             [
              0.4444444444444444,
              "#bd3786"
             ],
             [
              0.5555555555555556,
              "#d8576b"
             ],
             [
              0.6666666666666666,
              "#ed7953"
             ],
             [
              0.7777777777777778,
              "#fb9f3a"
             ],
             [
              0.8888888888888888,
              "#fdca26"
             ],
             [
              1,
              "#f0f921"
             ]
            ],
            "type": "surface"
           }
          ],
          "table": [
           {
            "cells": {
             "fill": {
              "color": "#EBF0F8"
             },
             "line": {
              "color": "white"
             }
            },
            "header": {
             "fill": {
              "color": "#C8D4E3"
             },
             "line": {
              "color": "white"
             }
            },
            "type": "table"
           }
          ]
         },
         "layout": {
          "annotationdefaults": {
           "arrowcolor": "#2a3f5f",
           "arrowhead": 0,
           "arrowwidth": 1
          },
          "autotypenumbers": "strict",
          "coloraxis": {
           "colorbar": {
            "outlinewidth": 0,
            "ticks": ""
           }
          },
          "colorscale": {
           "diverging": [
            [
             0,
             "#8e0152"
            ],
            [
             0.1,
             "#c51b7d"
            ],
            [
             0.2,
             "#de77ae"
            ],
            [
             0.3,
             "#f1b6da"
            ],
            [
             0.4,
             "#fde0ef"
            ],
            [
             0.5,
             "#f7f7f7"
            ],
            [
             0.6,
             "#e6f5d0"
            ],
            [
             0.7,
             "#b8e186"
            ],
            [
             0.8,
             "#7fbc41"
            ],
            [
             0.9,
             "#4d9221"
            ],
            [
             1,
             "#276419"
            ]
           ],
           "sequential": [
            [
             0,
             "#0d0887"
            ],
            [
             0.1111111111111111,
             "#46039f"
            ],
            [
             0.2222222222222222,
             "#7201a8"
            ],
            [
             0.3333333333333333,
             "#9c179e"
            ],
            [
             0.4444444444444444,
             "#bd3786"
            ],
            [
             0.5555555555555556,
             "#d8576b"
            ],
            [
             0.6666666666666666,
             "#ed7953"
            ],
            [
             0.7777777777777778,
             "#fb9f3a"
            ],
            [
             0.8888888888888888,
             "#fdca26"
            ],
            [
             1,
             "#f0f921"
            ]
           ],
           "sequentialminus": [
            [
             0,
             "#0d0887"
            ],
            [
             0.1111111111111111,
             "#46039f"
            ],
            [
             0.2222222222222222,
             "#7201a8"
            ],
            [
             0.3333333333333333,
             "#9c179e"
            ],
            [
             0.4444444444444444,
             "#bd3786"
            ],
            [
             0.5555555555555556,
             "#d8576b"
            ],
            [
             0.6666666666666666,
             "#ed7953"
            ],
            [
             0.7777777777777778,
             "#fb9f3a"
            ],
            [
             0.8888888888888888,
             "#fdca26"
            ],
            [
             1,
             "#f0f921"
            ]
           ]
          },
          "colorway": [
           "#636efa",
           "#EF553B",
           "#00cc96",
           "#ab63fa",
           "#FFA15A",
           "#19d3f3",
           "#FF6692",
           "#B6E880",
           "#FF97FF",
           "#FECB52"
          ],
          "font": {
           "color": "#2a3f5f"
          },
          "geo": {
           "bgcolor": "white",
           "lakecolor": "white",
           "landcolor": "#E5ECF6",
           "showlakes": true,
           "showland": true,
           "subunitcolor": "white"
          },
          "hoverlabel": {
           "align": "left"
          },
          "hovermode": "closest",
          "mapbox": {
           "style": "light"
          },
          "paper_bgcolor": "white",
          "plot_bgcolor": "#E5ECF6",
          "polar": {
           "angularaxis": {
            "gridcolor": "white",
            "linecolor": "white",
            "ticks": ""
           },
           "bgcolor": "#E5ECF6",
           "radialaxis": {
            "gridcolor": "white",
            "linecolor": "white",
            "ticks": ""
           }
          },
          "scene": {
           "xaxis": {
            "backgroundcolor": "#E5ECF6",
            "gridcolor": "white",
            "gridwidth": 2,
            "linecolor": "white",
            "showbackground": true,
            "ticks": "",
            "zerolinecolor": "white"
           },
           "yaxis": {
            "backgroundcolor": "#E5ECF6",
            "gridcolor": "white",
            "gridwidth": 2,
            "linecolor": "white",
            "showbackground": true,
            "ticks": "",
            "zerolinecolor": "white"
           },
           "zaxis": {
            "backgroundcolor": "#E5ECF6",
            "gridcolor": "white",
            "gridwidth": 2,
            "linecolor": "white",
            "showbackground": true,
            "ticks": "",
            "zerolinecolor": "white"
           }
          },
          "shapedefaults": {
           "line": {
            "color": "#2a3f5f"
           }
          },
          "ternary": {
           "aaxis": {
            "gridcolor": "white",
            "linecolor": "white",
            "ticks": ""
           },
           "baxis": {
            "gridcolor": "white",
            "linecolor": "white",
            "ticks": ""
           },
           "bgcolor": "#E5ECF6",
           "caxis": {
            "gridcolor": "white",
            "linecolor": "white",
            "ticks": ""
           }
          },
          "title": {
           "x": 0.05
          },
          "xaxis": {
           "automargin": true,
           "gridcolor": "white",
           "linecolor": "white",
           "ticks": "",
           "title": {
            "standoff": 15
           },
           "zerolinecolor": "white",
           "zerolinewidth": 2
          },
          "yaxis": {
           "automargin": true,
           "gridcolor": "white",
           "linecolor": "white",
           "ticks": "",
           "title": {
            "standoff": 15
           },
           "zerolinecolor": "white",
           "zerolinewidth": 2
          }
         }
        },
        "title": {
         "text": "Price vs Number of Airbnb Listings"
        }
       }
      }
     },
     "metadata": {},
     "output_type": "display_data"
    }
   ],
   "source": [
    "import plotly.graph_objects as go\n",
    "\n",
    "price_v_numlist_fig = go.Figure(data=[\n",
    "    go.Bar(name='Price', x=lists_town_home_price_occ_all['town'], y=lists_town_home_price_occ_all['median_price_per_city']),\n",
    "    go.Bar(name='# of Listings', x=lists_town_home_price_occ_all['town'], y=lists_town_home_price_occ_all['num_lists_in_town'])\n",
    "])\n",
    "# Change the bar mode\n",
    "price_v_numlist_fig.update_layout(title_text='Price vs Number of Airbnb Listings', barmode='group')\n",
    "price_v_numlist_fig.show()"
   ]
  },
  {
   "cell_type": "code",
   "execution_count": null,
   "metadata": {},
   "outputs": [],
   "source": [
    "print(calculate_mortgage(100000, 3, 15))"
   ]
  },
  {
   "cell_type": "code",
   "execution_count": 69,
   "metadata": {},
   "outputs": [],
   "source": [
    "lists_town_home_price_occ_all['avg_30_yr_mort'] = lists_town_home_price_occ_all.apply(lambda row: calculate_mortgage(row['2022-04-30'], 5, 30), axis=1)"
   ]
  },
  {
   "cell_type": "code",
   "execution_count": 70,
   "metadata": {},
   "outputs": [],
   "source": [
    "lists_town_home_price_occ_all['median_ROI'] = lists_town_home_price_occ_all.apply(lambda row: calculate_roi(row['median_price_per_city'], row['occupancy_rate'], row['avg_30_yr_mort']), axis=1)"
   ]
  },
  {
   "cell_type": "code",
   "execution_count": null,
   "metadata": {},
   "outputs": [],
   "source": [
    "lists_town_home_price_occ_all.head(5)"
   ]
  },
  {
   "cell_type": "code",
   "execution_count": 71,
   "metadata": {},
   "outputs": [
    {
     "data": {
      "application/vnd.plotly.v1+json": {
       "config": {
        "plotlyServerURL": "https://plot.ly"
       },
       "data": [
        {
         "name": "ROI",
         "type": "bar",
         "x": [
          "lincoln",
          "newport",
          "atlantic beach",
          "bald head island",
          "carolina beach",
          "conway",
          "fairfield",
          "holden beach",
          "newport",
          "wilmington",
          "wrightsville beach",
          "atlantic beach",
          "conway",
          "denmark",
          "greenwood",
          "murrells inlet",
          "myrtle beach",
          "north myrtle beach",
          "pawleys island",
          "saco"
         ],
         "y": [
          1.011037576091826,
          -0.20879776331739638,
          0.44742313897870667,
          -0.39751293435807955,
          1.0587739433788532,
          1.840412209574847,
          3.837436008821841,
          -0.7244708719770329,
          -0.45650715263426284,
          0.9857952892805246,
          -0.06373128003944559,
          1.3095951631077791,
          0.018874634682176893,
          5.51383582611211,
          2.1294484623248087,
          0.3125076746354371,
          0.8963465576463262,
          1.0829162086495498,
          -0.09033451499561033,
          0.7145679533732747
         ]
        }
       ],
       "layout": {
        "barmode": "group",
        "template": {
         "data": {
          "bar": [
           {
            "error_x": {
             "color": "#2a3f5f"
            },
            "error_y": {
             "color": "#2a3f5f"
            },
            "marker": {
             "line": {
              "color": "#E5ECF6",
              "width": 0.5
             },
             "pattern": {
              "fillmode": "overlay",
              "size": 10,
              "solidity": 0.2
             }
            },
            "type": "bar"
           }
          ],
          "barpolar": [
           {
            "marker": {
             "line": {
              "color": "#E5ECF6",
              "width": 0.5
             },
             "pattern": {
              "fillmode": "overlay",
              "size": 10,
              "solidity": 0.2
             }
            },
            "type": "barpolar"
           }
          ],
          "carpet": [
           {
            "aaxis": {
             "endlinecolor": "#2a3f5f",
             "gridcolor": "white",
             "linecolor": "white",
             "minorgridcolor": "white",
             "startlinecolor": "#2a3f5f"
            },
            "baxis": {
             "endlinecolor": "#2a3f5f",
             "gridcolor": "white",
             "linecolor": "white",
             "minorgridcolor": "white",
             "startlinecolor": "#2a3f5f"
            },
            "type": "carpet"
           }
          ],
          "choropleth": [
           {
            "colorbar": {
             "outlinewidth": 0,
             "ticks": ""
            },
            "type": "choropleth"
           }
          ],
          "contour": [
           {
            "colorbar": {
             "outlinewidth": 0,
             "ticks": ""
            },
            "colorscale": [
             [
              0,
              "#0d0887"
             ],
             [
              0.1111111111111111,
              "#46039f"
             ],
             [
              0.2222222222222222,
              "#7201a8"
             ],
             [
              0.3333333333333333,
              "#9c179e"
             ],
             [
              0.4444444444444444,
              "#bd3786"
             ],
             [
              0.5555555555555556,
              "#d8576b"
             ],
             [
              0.6666666666666666,
              "#ed7953"
             ],
             [
              0.7777777777777778,
              "#fb9f3a"
             ],
             [
              0.8888888888888888,
              "#fdca26"
             ],
             [
              1,
              "#f0f921"
             ]
            ],
            "type": "contour"
           }
          ],
          "contourcarpet": [
           {
            "colorbar": {
             "outlinewidth": 0,
             "ticks": ""
            },
            "type": "contourcarpet"
           }
          ],
          "heatmap": [
           {
            "colorbar": {
             "outlinewidth": 0,
             "ticks": ""
            },
            "colorscale": [
             [
              0,
              "#0d0887"
             ],
             [
              0.1111111111111111,
              "#46039f"
             ],
             [
              0.2222222222222222,
              "#7201a8"
             ],
             [
              0.3333333333333333,
              "#9c179e"
             ],
             [
              0.4444444444444444,
              "#bd3786"
             ],
             [
              0.5555555555555556,
              "#d8576b"
             ],
             [
              0.6666666666666666,
              "#ed7953"
             ],
             [
              0.7777777777777778,
              "#fb9f3a"
             ],
             [
              0.8888888888888888,
              "#fdca26"
             ],
             [
              1,
              "#f0f921"
             ]
            ],
            "type": "heatmap"
           }
          ],
          "heatmapgl": [
           {
            "colorbar": {
             "outlinewidth": 0,
             "ticks": ""
            },
            "colorscale": [
             [
              0,
              "#0d0887"
             ],
             [
              0.1111111111111111,
              "#46039f"
             ],
             [
              0.2222222222222222,
              "#7201a8"
             ],
             [
              0.3333333333333333,
              "#9c179e"
             ],
             [
              0.4444444444444444,
              "#bd3786"
             ],
             [
              0.5555555555555556,
              "#d8576b"
             ],
             [
              0.6666666666666666,
              "#ed7953"
             ],
             [
              0.7777777777777778,
              "#fb9f3a"
             ],
             [
              0.8888888888888888,
              "#fdca26"
             ],
             [
              1,
              "#f0f921"
             ]
            ],
            "type": "heatmapgl"
           }
          ],
          "histogram": [
           {
            "marker": {
             "pattern": {
              "fillmode": "overlay",
              "size": 10,
              "solidity": 0.2
             }
            },
            "type": "histogram"
           }
          ],
          "histogram2d": [
           {
            "colorbar": {
             "outlinewidth": 0,
             "ticks": ""
            },
            "colorscale": [
             [
              0,
              "#0d0887"
             ],
             [
              0.1111111111111111,
              "#46039f"
             ],
             [
              0.2222222222222222,
              "#7201a8"
             ],
             [
              0.3333333333333333,
              "#9c179e"
             ],
             [
              0.4444444444444444,
              "#bd3786"
             ],
             [
              0.5555555555555556,
              "#d8576b"
             ],
             [
              0.6666666666666666,
              "#ed7953"
             ],
             [
              0.7777777777777778,
              "#fb9f3a"
             ],
             [
              0.8888888888888888,
              "#fdca26"
             ],
             [
              1,
              "#f0f921"
             ]
            ],
            "type": "histogram2d"
           }
          ],
          "histogram2dcontour": [
           {
            "colorbar": {
             "outlinewidth": 0,
             "ticks": ""
            },
            "colorscale": [
             [
              0,
              "#0d0887"
             ],
             [
              0.1111111111111111,
              "#46039f"
             ],
             [
              0.2222222222222222,
              "#7201a8"
             ],
             [
              0.3333333333333333,
              "#9c179e"
             ],
             [
              0.4444444444444444,
              "#bd3786"
             ],
             [
              0.5555555555555556,
              "#d8576b"
             ],
             [
              0.6666666666666666,
              "#ed7953"
             ],
             [
              0.7777777777777778,
              "#fb9f3a"
             ],
             [
              0.8888888888888888,
              "#fdca26"
             ],
             [
              1,
              "#f0f921"
             ]
            ],
            "type": "histogram2dcontour"
           }
          ],
          "mesh3d": [
           {
            "colorbar": {
             "outlinewidth": 0,
             "ticks": ""
            },
            "type": "mesh3d"
           }
          ],
          "parcoords": [
           {
            "line": {
             "colorbar": {
              "outlinewidth": 0,
              "ticks": ""
             }
            },
            "type": "parcoords"
           }
          ],
          "pie": [
           {
            "automargin": true,
            "type": "pie"
           }
          ],
          "scatter": [
           {
            "fillpattern": {
             "fillmode": "overlay",
             "size": 10,
             "solidity": 0.2
            },
            "type": "scatter"
           }
          ],
          "scatter3d": [
           {
            "line": {
             "colorbar": {
              "outlinewidth": 0,
              "ticks": ""
             }
            },
            "marker": {
             "colorbar": {
              "outlinewidth": 0,
              "ticks": ""
             }
            },
            "type": "scatter3d"
           }
          ],
          "scattercarpet": [
           {
            "marker": {
             "colorbar": {
              "outlinewidth": 0,
              "ticks": ""
             }
            },
            "type": "scattercarpet"
           }
          ],
          "scattergeo": [
           {
            "marker": {
             "colorbar": {
              "outlinewidth": 0,
              "ticks": ""
             }
            },
            "type": "scattergeo"
           }
          ],
          "scattergl": [
           {
            "marker": {
             "colorbar": {
              "outlinewidth": 0,
              "ticks": ""
             }
            },
            "type": "scattergl"
           }
          ],
          "scattermapbox": [
           {
            "marker": {
             "colorbar": {
              "outlinewidth": 0,
              "ticks": ""
             }
            },
            "type": "scattermapbox"
           }
          ],
          "scatterpolar": [
           {
            "marker": {
             "colorbar": {
              "outlinewidth": 0,
              "ticks": ""
             }
            },
            "type": "scatterpolar"
           }
          ],
          "scatterpolargl": [
           {
            "marker": {
             "colorbar": {
              "outlinewidth": 0,
              "ticks": ""
             }
            },
            "type": "scatterpolargl"
           }
          ],
          "scatterternary": [
           {
            "marker": {
             "colorbar": {
              "outlinewidth": 0,
              "ticks": ""
             }
            },
            "type": "scatterternary"
           }
          ],
          "surface": [
           {
            "colorbar": {
             "outlinewidth": 0,
             "ticks": ""
            },
            "colorscale": [
             [
              0,
              "#0d0887"
             ],
             [
              0.1111111111111111,
              "#46039f"
             ],
             [
              0.2222222222222222,
              "#7201a8"
             ],
             [
              0.3333333333333333,
              "#9c179e"
             ],
             [
              0.4444444444444444,
              "#bd3786"
             ],
             [
              0.5555555555555556,
              "#d8576b"
             ],
             [
              0.6666666666666666,
              "#ed7953"
             ],
             [
              0.7777777777777778,
              "#fb9f3a"
             ],
             [
              0.8888888888888888,
              "#fdca26"
             ],
             [
              1,
              "#f0f921"
             ]
            ],
            "type": "surface"
           }
          ],
          "table": [
           {
            "cells": {
             "fill": {
              "color": "#EBF0F8"
             },
             "line": {
              "color": "white"
             }
            },
            "header": {
             "fill": {
              "color": "#C8D4E3"
             },
             "line": {
              "color": "white"
             }
            },
            "type": "table"
           }
          ]
         },
         "layout": {
          "annotationdefaults": {
           "arrowcolor": "#2a3f5f",
           "arrowhead": 0,
           "arrowwidth": 1
          },
          "autotypenumbers": "strict",
          "coloraxis": {
           "colorbar": {
            "outlinewidth": 0,
            "ticks": ""
           }
          },
          "colorscale": {
           "diverging": [
            [
             0,
             "#8e0152"
            ],
            [
             0.1,
             "#c51b7d"
            ],
            [
             0.2,
             "#de77ae"
            ],
            [
             0.3,
             "#f1b6da"
            ],
            [
             0.4,
             "#fde0ef"
            ],
            [
             0.5,
             "#f7f7f7"
            ],
            [
             0.6,
             "#e6f5d0"
            ],
            [
             0.7,
             "#b8e186"
            ],
            [
             0.8,
             "#7fbc41"
            ],
            [
             0.9,
             "#4d9221"
            ],
            [
             1,
             "#276419"
            ]
           ],
           "sequential": [
            [
             0,
             "#0d0887"
            ],
            [
             0.1111111111111111,
             "#46039f"
            ],
            [
             0.2222222222222222,
             "#7201a8"
            ],
            [
             0.3333333333333333,
             "#9c179e"
            ],
            [
             0.4444444444444444,
             "#bd3786"
            ],
            [
             0.5555555555555556,
             "#d8576b"
            ],
            [
             0.6666666666666666,
             "#ed7953"
            ],
            [
             0.7777777777777778,
             "#fb9f3a"
            ],
            [
             0.8888888888888888,
             "#fdca26"
            ],
            [
             1,
             "#f0f921"
            ]
           ],
           "sequentialminus": [
            [
             0,
             "#0d0887"
            ],
            [
             0.1111111111111111,
             "#46039f"
            ],
            [
             0.2222222222222222,
             "#7201a8"
            ],
            [
             0.3333333333333333,
             "#9c179e"
            ],
            [
             0.4444444444444444,
             "#bd3786"
            ],
            [
             0.5555555555555556,
             "#d8576b"
            ],
            [
             0.6666666666666666,
             "#ed7953"
            ],
            [
             0.7777777777777778,
             "#fb9f3a"
            ],
            [
             0.8888888888888888,
             "#fdca26"
            ],
            [
             1,
             "#f0f921"
            ]
           ]
          },
          "colorway": [
           "#636efa",
           "#EF553B",
           "#00cc96",
           "#ab63fa",
           "#FFA15A",
           "#19d3f3",
           "#FF6692",
           "#B6E880",
           "#FF97FF",
           "#FECB52"
          ],
          "font": {
           "color": "#2a3f5f"
          },
          "geo": {
           "bgcolor": "white",
           "lakecolor": "white",
           "landcolor": "#E5ECF6",
           "showlakes": true,
           "showland": true,
           "subunitcolor": "white"
          },
          "hoverlabel": {
           "align": "left"
          },
          "hovermode": "closest",
          "mapbox": {
           "style": "light"
          },
          "paper_bgcolor": "white",
          "plot_bgcolor": "#E5ECF6",
          "polar": {
           "angularaxis": {
            "gridcolor": "white",
            "linecolor": "white",
            "ticks": ""
           },
           "bgcolor": "#E5ECF6",
           "radialaxis": {
            "gridcolor": "white",
            "linecolor": "white",
            "ticks": ""
           }
          },
          "scene": {
           "xaxis": {
            "backgroundcolor": "#E5ECF6",
            "gridcolor": "white",
            "gridwidth": 2,
            "linecolor": "white",
            "showbackground": true,
            "ticks": "",
            "zerolinecolor": "white"
           },
           "yaxis": {
            "backgroundcolor": "#E5ECF6",
            "gridcolor": "white",
            "gridwidth": 2,
            "linecolor": "white",
            "showbackground": true,
            "ticks": "",
            "zerolinecolor": "white"
           },
           "zaxis": {
            "backgroundcolor": "#E5ECF6",
            "gridcolor": "white",
            "gridwidth": 2,
            "linecolor": "white",
            "showbackground": true,
            "ticks": "",
            "zerolinecolor": "white"
           }
          },
          "shapedefaults": {
           "line": {
            "color": "#2a3f5f"
           }
          },
          "ternary": {
           "aaxis": {
            "gridcolor": "white",
            "linecolor": "white",
            "ticks": ""
           },
           "baxis": {
            "gridcolor": "white",
            "linecolor": "white",
            "ticks": ""
           },
           "bgcolor": "#E5ECF6",
           "caxis": {
            "gridcolor": "white",
            "linecolor": "white",
            "ticks": ""
           }
          },
          "title": {
           "x": 0.05
          },
          "xaxis": {
           "automargin": true,
           "gridcolor": "white",
           "linecolor": "white",
           "ticks": "",
           "title": {
            "standoff": 15
           },
           "zerolinecolor": "white",
           "zerolinewidth": 2
          },
          "yaxis": {
           "automargin": true,
           "gridcolor": "white",
           "linecolor": "white",
           "ticks": "",
           "title": {
            "standoff": 15
           },
           "zerolinecolor": "white",
           "zerolinewidth": 2
          }
         }
        },
        "title": {
         "text": "ROI by City"
        }
       }
      }
     },
     "metadata": {},
     "output_type": "display_data"
    }
   ],
   "source": [
    "import plotly.graph_objects as go\n",
    "\n",
    "roi_fig = go.Figure(data=[\n",
    "    go.Bar(name='ROI', x=lists_town_home_price_occ_all['town'], y=lists_town_home_price_occ_all['median_ROI']),\n",
    "])\n",
    "# Change the bar mode\n",
    "roi_fig.update_layout(title_text = 'ROI by City', barmode='group')\n",
    "roi_fig.show()"
   ]
  },
  {
   "cell_type": "code",
   "execution_count": null,
   "metadata": {},
   "outputs": [],
   "source": [
    "lists_town_home_price_occ_all['median_cleaning_fee_per_city'].sort_values(ascending=False)"
   ]
  },
  {
   "cell_type": "code",
   "execution_count": 72,
   "metadata": {},
   "outputs": [
    {
     "data": {
      "application/vnd.plotly.v1+json": {
       "config": {
        "plotlyServerURL": "https://plot.ly"
       },
       "data": [
        {
         "name": "VT",
         "type": "bar",
         "x": [
          "lincoln",
          "newport"
         ],
         "xaxis": "x",
         "y": [
          1.011037576091826,
          -0.20879776331739638
         ],
         "yaxis": "y"
        },
        {
         "name": "NH",
         "type": "bar",
         "x": [],
         "xaxis": "x2",
         "y": [],
         "yaxis": "y2"
        },
        {
         "name": "NC",
         "type": "bar",
         "x": [
          "atlantic beach",
          "bald head island",
          "carolina beach",
          "conway",
          "fairfield",
          "holden beach",
          "newport",
          "wilmington",
          "wrightsville beach"
         ],
         "xaxis": "x3",
         "y": [
          0.44742313897870667,
          -0.39751293435807955,
          1.0587739433788532,
          1.840412209574847,
          3.837436008821841,
          -0.7244708719770329,
          -0.45650715263426284,
          0.9857952892805246,
          -0.06373128003944559
         ],
         "yaxis": "y3"
        },
        {
         "name": "SC",
         "type": "bar",
         "x": [
          "atlantic beach",
          "conway",
          "denmark",
          "greenwood",
          "murrells inlet",
          "myrtle beach",
          "north myrtle beach",
          "pawleys island"
         ],
         "xaxis": "x4",
         "y": [
          1.3095951631077791,
          0.018874634682176893,
          5.51383582611211,
          2.1294484623248087,
          0.3125076746354371,
          0.8963465576463262,
          1.0829162086495498,
          -0.09033451499561033
         ],
         "yaxis": "y4"
        },
        {
         "name": "FL",
         "type": "bar",
         "x": [],
         "xaxis": "x5",
         "y": [],
         "yaxis": "y5"
        },
        {
         "name": "ME",
         "type": "bar",
         "x": [
          "saco"
         ],
         "xaxis": "x6",
         "y": [
          0.7145679533732747
         ],
         "yaxis": "y6"
        }
       ],
       "layout": {
        "barmode": "group",
        "height": 1100,
        "template": {
         "data": {
          "bar": [
           {
            "error_x": {
             "color": "#2a3f5f"
            },
            "error_y": {
             "color": "#2a3f5f"
            },
            "marker": {
             "line": {
              "color": "#E5ECF6",
              "width": 0.5
             },
             "pattern": {
              "fillmode": "overlay",
              "size": 10,
              "solidity": 0.2
             }
            },
            "type": "bar"
           }
          ],
          "barpolar": [
           {
            "marker": {
             "line": {
              "color": "#E5ECF6",
              "width": 0.5
             },
             "pattern": {
              "fillmode": "overlay",
              "size": 10,
              "solidity": 0.2
             }
            },
            "type": "barpolar"
           }
          ],
          "carpet": [
           {
            "aaxis": {
             "endlinecolor": "#2a3f5f",
             "gridcolor": "white",
             "linecolor": "white",
             "minorgridcolor": "white",
             "startlinecolor": "#2a3f5f"
            },
            "baxis": {
             "endlinecolor": "#2a3f5f",
             "gridcolor": "white",
             "linecolor": "white",
             "minorgridcolor": "white",
             "startlinecolor": "#2a3f5f"
            },
            "type": "carpet"
           }
          ],
          "choropleth": [
           {
            "colorbar": {
             "outlinewidth": 0,
             "ticks": ""
            },
            "type": "choropleth"
           }
          ],
          "contour": [
           {
            "colorbar": {
             "outlinewidth": 0,
             "ticks": ""
            },
            "colorscale": [
             [
              0,
              "#0d0887"
             ],
             [
              0.1111111111111111,
              "#46039f"
             ],
             [
              0.2222222222222222,
              "#7201a8"
             ],
             [
              0.3333333333333333,
              "#9c179e"
             ],
             [
              0.4444444444444444,
              "#bd3786"
             ],
             [
              0.5555555555555556,
              "#d8576b"
             ],
             [
              0.6666666666666666,
              "#ed7953"
             ],
             [
              0.7777777777777778,
              "#fb9f3a"
             ],
             [
              0.8888888888888888,
              "#fdca26"
             ],
             [
              1,
              "#f0f921"
             ]
            ],
            "type": "contour"
           }
          ],
          "contourcarpet": [
           {
            "colorbar": {
             "outlinewidth": 0,
             "ticks": ""
            },
            "type": "contourcarpet"
           }
          ],
          "heatmap": [
           {
            "colorbar": {
             "outlinewidth": 0,
             "ticks": ""
            },
            "colorscale": [
             [
              0,
              "#0d0887"
             ],
             [
              0.1111111111111111,
              "#46039f"
             ],
             [
              0.2222222222222222,
              "#7201a8"
             ],
             [
              0.3333333333333333,
              "#9c179e"
             ],
             [
              0.4444444444444444,
              "#bd3786"
             ],
             [
              0.5555555555555556,
              "#d8576b"
             ],
             [
              0.6666666666666666,
              "#ed7953"
             ],
             [
              0.7777777777777778,
              "#fb9f3a"
             ],
             [
              0.8888888888888888,
              "#fdca26"
             ],
             [
              1,
              "#f0f921"
             ]
            ],
            "type": "heatmap"
           }
          ],
          "heatmapgl": [
           {
            "colorbar": {
             "outlinewidth": 0,
             "ticks": ""
            },
            "colorscale": [
             [
              0,
              "#0d0887"
             ],
             [
              0.1111111111111111,
              "#46039f"
             ],
             [
              0.2222222222222222,
              "#7201a8"
             ],
             [
              0.3333333333333333,
              "#9c179e"
             ],
             [
              0.4444444444444444,
              "#bd3786"
             ],
             [
              0.5555555555555556,
              "#d8576b"
             ],
             [
              0.6666666666666666,
              "#ed7953"
             ],
             [
              0.7777777777777778,
              "#fb9f3a"
             ],
             [
              0.8888888888888888,
              "#fdca26"
             ],
             [
              1,
              "#f0f921"
             ]
            ],
            "type": "heatmapgl"
           }
          ],
          "histogram": [
           {
            "marker": {
             "pattern": {
              "fillmode": "overlay",
              "size": 10,
              "solidity": 0.2
             }
            },
            "type": "histogram"
           }
          ],
          "histogram2d": [
           {
            "colorbar": {
             "outlinewidth": 0,
             "ticks": ""
            },
            "colorscale": [
             [
              0,
              "#0d0887"
             ],
             [
              0.1111111111111111,
              "#46039f"
             ],
             [
              0.2222222222222222,
              "#7201a8"
             ],
             [
              0.3333333333333333,
              "#9c179e"
             ],
             [
              0.4444444444444444,
              "#bd3786"
             ],
             [
              0.5555555555555556,
              "#d8576b"
             ],
             [
              0.6666666666666666,
              "#ed7953"
             ],
             [
              0.7777777777777778,
              "#fb9f3a"
             ],
             [
              0.8888888888888888,
              "#fdca26"
             ],
             [
              1,
              "#f0f921"
             ]
            ],
            "type": "histogram2d"
           }
          ],
          "histogram2dcontour": [
           {
            "colorbar": {
             "outlinewidth": 0,
             "ticks": ""
            },
            "colorscale": [
             [
              0,
              "#0d0887"
             ],
             [
              0.1111111111111111,
              "#46039f"
             ],
             [
              0.2222222222222222,
              "#7201a8"
             ],
             [
              0.3333333333333333,
              "#9c179e"
             ],
             [
              0.4444444444444444,
              "#bd3786"
             ],
             [
              0.5555555555555556,
              "#d8576b"
             ],
             [
              0.6666666666666666,
              "#ed7953"
             ],
             [
              0.7777777777777778,
              "#fb9f3a"
             ],
             [
              0.8888888888888888,
              "#fdca26"
             ],
             [
              1,
              "#f0f921"
             ]
            ],
            "type": "histogram2dcontour"
           }
          ],
          "mesh3d": [
           {
            "colorbar": {
             "outlinewidth": 0,
             "ticks": ""
            },
            "type": "mesh3d"
           }
          ],
          "parcoords": [
           {
            "line": {
             "colorbar": {
              "outlinewidth": 0,
              "ticks": ""
             }
            },
            "type": "parcoords"
           }
          ],
          "pie": [
           {
            "automargin": true,
            "type": "pie"
           }
          ],
          "scatter": [
           {
            "fillpattern": {
             "fillmode": "overlay",
             "size": 10,
             "solidity": 0.2
            },
            "type": "scatter"
           }
          ],
          "scatter3d": [
           {
            "line": {
             "colorbar": {
              "outlinewidth": 0,
              "ticks": ""
             }
            },
            "marker": {
             "colorbar": {
              "outlinewidth": 0,
              "ticks": ""
             }
            },
            "type": "scatter3d"
           }
          ],
          "scattercarpet": [
           {
            "marker": {
             "colorbar": {
              "outlinewidth": 0,
              "ticks": ""
             }
            },
            "type": "scattercarpet"
           }
          ],
          "scattergeo": [
           {
            "marker": {
             "colorbar": {
              "outlinewidth": 0,
              "ticks": ""
             }
            },
            "type": "scattergeo"
           }
          ],
          "scattergl": [
           {
            "marker": {
             "colorbar": {
              "outlinewidth": 0,
              "ticks": ""
             }
            },
            "type": "scattergl"
           }
          ],
          "scattermapbox": [
           {
            "marker": {
             "colorbar": {
              "outlinewidth": 0,
              "ticks": ""
             }
            },
            "type": "scattermapbox"
           }
          ],
          "scatterpolar": [
           {
            "marker": {
             "colorbar": {
              "outlinewidth": 0,
              "ticks": ""
             }
            },
            "type": "scatterpolar"
           }
          ],
          "scatterpolargl": [
           {
            "marker": {
             "colorbar": {
              "outlinewidth": 0,
              "ticks": ""
             }
            },
            "type": "scatterpolargl"
           }
          ],
          "scatterternary": [
           {
            "marker": {
             "colorbar": {
              "outlinewidth": 0,
              "ticks": ""
             }
            },
            "type": "scatterternary"
           }
          ],
          "surface": [
           {
            "colorbar": {
             "outlinewidth": 0,
             "ticks": ""
            },
            "colorscale": [
             [
              0,
              "#0d0887"
             ],
             [
              0.1111111111111111,
              "#46039f"
             ],
             [
              0.2222222222222222,
              "#7201a8"
             ],
             [
              0.3333333333333333,
              "#9c179e"
             ],
             [
              0.4444444444444444,
              "#bd3786"
             ],
             [
              0.5555555555555556,
              "#d8576b"
             ],
             [
              0.6666666666666666,
              "#ed7953"
             ],
             [
              0.7777777777777778,
              "#fb9f3a"
             ],
             [
              0.8888888888888888,
              "#fdca26"
             ],
             [
              1,
              "#f0f921"
             ]
            ],
            "type": "surface"
           }
          ],
          "table": [
           {
            "cells": {
             "fill": {
              "color": "#EBF0F8"
             },
             "line": {
              "color": "white"
             }
            },
            "header": {
             "fill": {
              "color": "#C8D4E3"
             },
             "line": {
              "color": "white"
             }
            },
            "type": "table"
           }
          ]
         },
         "layout": {
          "annotationdefaults": {
           "arrowcolor": "#2a3f5f",
           "arrowhead": 0,
           "arrowwidth": 1
          },
          "autotypenumbers": "strict",
          "coloraxis": {
           "colorbar": {
            "outlinewidth": 0,
            "ticks": ""
           }
          },
          "colorscale": {
           "diverging": [
            [
             0,
             "#8e0152"
            ],
            [
             0.1,
             "#c51b7d"
            ],
            [
             0.2,
             "#de77ae"
            ],
            [
             0.3,
             "#f1b6da"
            ],
            [
             0.4,
             "#fde0ef"
            ],
            [
             0.5,
             "#f7f7f7"
            ],
            [
             0.6,
             "#e6f5d0"
            ],
            [
             0.7,
             "#b8e186"
            ],
            [
             0.8,
             "#7fbc41"
            ],
            [
             0.9,
             "#4d9221"
            ],
            [
             1,
             "#276419"
            ]
           ],
           "sequential": [
            [
             0,
             "#0d0887"
            ],
            [
             0.1111111111111111,
             "#46039f"
            ],
            [
             0.2222222222222222,
             "#7201a8"
            ],
            [
             0.3333333333333333,
             "#9c179e"
            ],
            [
             0.4444444444444444,
             "#bd3786"
            ],
            [
             0.5555555555555556,
             "#d8576b"
            ],
            [
             0.6666666666666666,
             "#ed7953"
            ],
            [
             0.7777777777777778,
             "#fb9f3a"
            ],
            [
             0.8888888888888888,
             "#fdca26"
            ],
            [
             1,
             "#f0f921"
            ]
           ],
           "sequentialminus": [
            [
             0,
             "#0d0887"
            ],
            [
             0.1111111111111111,
             "#46039f"
            ],
            [
             0.2222222222222222,
             "#7201a8"
            ],
            [
             0.3333333333333333,
             "#9c179e"
            ],
            [
             0.4444444444444444,
             "#bd3786"
            ],
            [
             0.5555555555555556,
             "#d8576b"
            ],
            [
             0.6666666666666666,
             "#ed7953"
            ],
            [
             0.7777777777777778,
             "#fb9f3a"
            ],
            [
             0.8888888888888888,
             "#fdca26"
            ],
            [
             1,
             "#f0f921"
            ]
           ]
          },
          "colorway": [
           "#636efa",
           "#EF553B",
           "#00cc96",
           "#ab63fa",
           "#FFA15A",
           "#19d3f3",
           "#FF6692",
           "#B6E880",
           "#FF97FF",
           "#FECB52"
          ],
          "font": {
           "color": "#2a3f5f"
          },
          "geo": {
           "bgcolor": "white",
           "lakecolor": "white",
           "landcolor": "#E5ECF6",
           "showlakes": true,
           "showland": true,
           "subunitcolor": "white"
          },
          "hoverlabel": {
           "align": "left"
          },
          "hovermode": "closest",
          "mapbox": {
           "style": "light"
          },
          "paper_bgcolor": "white",
          "plot_bgcolor": "#E5ECF6",
          "polar": {
           "angularaxis": {
            "gridcolor": "white",
            "linecolor": "white",
            "ticks": ""
           },
           "bgcolor": "#E5ECF6",
           "radialaxis": {
            "gridcolor": "white",
            "linecolor": "white",
            "ticks": ""
           }
          },
          "scene": {
           "xaxis": {
            "backgroundcolor": "#E5ECF6",
            "gridcolor": "white",
            "gridwidth": 2,
            "linecolor": "white",
            "showbackground": true,
            "ticks": "",
            "zerolinecolor": "white"
           },
           "yaxis": {
            "backgroundcolor": "#E5ECF6",
            "gridcolor": "white",
            "gridwidth": 2,
            "linecolor": "white",
            "showbackground": true,
            "ticks": "",
            "zerolinecolor": "white"
           },
           "zaxis": {
            "backgroundcolor": "#E5ECF6",
            "gridcolor": "white",
            "gridwidth": 2,
            "linecolor": "white",
            "showbackground": true,
            "ticks": "",
            "zerolinecolor": "white"
           }
          },
          "shapedefaults": {
           "line": {
            "color": "#2a3f5f"
           }
          },
          "ternary": {
           "aaxis": {
            "gridcolor": "white",
            "linecolor": "white",
            "ticks": ""
           },
           "baxis": {
            "gridcolor": "white",
            "linecolor": "white",
            "ticks": ""
           },
           "bgcolor": "#E5ECF6",
           "caxis": {
            "gridcolor": "white",
            "linecolor": "white",
            "ticks": ""
           }
          },
          "title": {
           "x": 0.05
          },
          "xaxis": {
           "automargin": true,
           "gridcolor": "white",
           "linecolor": "white",
           "ticks": "",
           "title": {
            "standoff": 15
           },
           "zerolinecolor": "white",
           "zerolinewidth": 2
          },
          "yaxis": {
           "automargin": true,
           "gridcolor": "white",
           "linecolor": "white",
           "ticks": "",
           "title": {
            "standoff": 15
           },
           "zerolinecolor": "white",
           "zerolinewidth": 2
          }
         }
        },
        "title": {
         "text": "ROI for Cities in each State"
        },
        "xaxis": {
         "anchor": "y",
         "domain": [
          0,
          0.45
         ]
        },
        "xaxis2": {
         "anchor": "y2",
         "domain": [
          0.55,
          1
         ]
        },
        "xaxis3": {
         "anchor": "y3",
         "domain": [
          0,
          0.45
         ]
        },
        "xaxis4": {
         "anchor": "y4",
         "domain": [
          0.55,
          1
         ]
        },
        "xaxis5": {
         "anchor": "y5",
         "domain": [
          0,
          0.45
         ]
        },
        "xaxis6": {
         "anchor": "y6",
         "domain": [
          0.55,
          1
         ]
        },
        "yaxis": {
         "anchor": "x",
         "domain": [
          0.7333333333333333,
          1
         ]
        },
        "yaxis2": {
         "anchor": "x2",
         "domain": [
          0.7333333333333333,
          1
         ]
        },
        "yaxis3": {
         "anchor": "x3",
         "domain": [
          0.36666666666666664,
          0.6333333333333333
         ]
        },
        "yaxis4": {
         "anchor": "x4",
         "domain": [
          0.36666666666666664,
          0.6333333333333333
         ]
        },
        "yaxis5": {
         "anchor": "x5",
         "domain": [
          0,
          0.26666666666666666
         ]
        },
        "yaxis6": {
         "anchor": "x6",
         "domain": [
          0,
          0.26666666666666666
         ]
        }
       }
      }
     },
     "metadata": {},
     "output_type": "display_data"
    }
   ],
   "source": [
    "from plotly.subplots import make_subplots\n",
    "import plotly.graph_objects as go\n",
    "\n",
    "roi_subplots = make_subplots(rows=3, cols=2)\n",
    "\n",
    "lists_town_home_price_occ_vt = lists_town_home_price_occ_all[(lists_town_home_price_occ_all['state_id'] == 'VT')]\n",
    "lists_town_home_price_occ_nh = lists_town_home_price_occ_all[(lists_town_home_price_occ_all['state_id'] == 'NH')]\n",
    "lists_town_home_price_occ_nc = lists_town_home_price_occ_all[(lists_town_home_price_occ_all['state_id'] == 'NC')]\n",
    "lists_town_home_price_occ_sc = lists_town_home_price_occ_all[(lists_town_home_price_occ_all['state_id'] == 'SC')]\n",
    "lists_town_home_price_occ_fl = lists_town_home_price_occ_all[(lists_town_home_price_occ_all['state_id'] == 'FL')]\n",
    "lists_town_home_price_occ_me = lists_town_home_price_occ_all[(lists_town_home_price_occ_all['state_id'] == 'ME')]\n",
    "\n",
    "roi_subplots.append_trace(\n",
    "    go.Bar(x=lists_town_home_price_occ_vt['town'],\n",
    "    y=lists_town_home_price_occ_vt['median_ROI'], name=\"VT\"\n",
    "), row=1, col=1)\n",
    "\n",
    "roi_subplots.append_trace(go.Bar(\n",
    "    x=lists_town_home_price_occ_nh['town'],\n",
    "    y=lists_town_home_price_occ_nh['median_ROI'], name=\"NH\"\n",
    "), row=1, col=2)\n",
    "\n",
    "roi_subplots.append_trace(go.Bar(\n",
    "    x=lists_town_home_price_occ_nc['town'],\n",
    "    y=lists_town_home_price_occ_nc['median_ROI'], name=\"NC\"\n",
    "), row=2, col=1)\n",
    "\n",
    "roi_subplots.append_trace(go.Bar(\n",
    "    x=lists_town_home_price_occ_sc['town'],\n",
    "    y=lists_town_home_price_occ_sc['median_ROI'], name=\"SC\"\n",
    "), row=2, col=2)\n",
    "\n",
    "roi_subplots.append_trace(go.Bar(\n",
    "    x=lists_town_home_price_occ_fl['town'],\n",
    "    y=lists_town_home_price_occ_fl['median_ROI'], name=\"FL\"\n",
    "), row=3, col=1)\n",
    "\n",
    "roi_subplots.append_trace(go.Bar(\n",
    "    x=lists_town_home_price_occ_me['town'],\n",
    "    y=lists_town_home_price_occ_me['median_ROI'], name=\"ME\"\n",
    "), row=3, col=2)\n",
    "\n",
    "\n",
    "roi_subplots.update_layout(height = 1100, title_text=\"ROI for Cities in each State\", barmode='group')\n",
    "roi_subplots.show()"
   ]
  },
  {
   "cell_type": "code",
   "execution_count": null,
   "metadata": {},
   "outputs": [],
   "source": [
    "vt_pricing_fig = go.Figure(data=[\n",
    "    go.Bar(name='Display Price', x=lists_town_home_price_occ_vt['town'], y=lists_town_home_price_occ_vt['median_price_per_city']),\n",
    "    go.Bar(name='Cleaning Fee', x=lists_town_home_price_occ_vt['town'], y=lists_town_home_price_occ_vt['median_cleaning_fee']),\n",
    "    go.Bar(name='Service Fee', x=lists_town_home_price_occ_vt['town'], y=lists_town_home_price_occ_vt['median_service_fee']),\n",
    "    #go.Bar(name='Total Price', x=lists_town_home_price_occ_vt['town'], y=lists_town_home_price_occ_vt['median_total_price'])\n",
    "])\n",
    "# Change the bar mode\n",
    "vt_pricing_fig.update_layout(title_text='Pricing Data by City (Vermont)', barmode='stack')\n",
    "vt_pricing_fig.show()\n"
   ]
  },
  {
   "cell_type": "code",
   "execution_count": null,
   "metadata": {},
   "outputs": [],
   "source": [
    "nh_pricing_fig = go.Figure(data=[\n",
    "    go.Bar(name='Display Price', x=lists_town_home_price_occ_nh['town'], y=lists_town_home_price_occ_nh['median_price_per_city']),\n",
    "    go.Bar(name='Cleaning Fee', x=lists_town_home_price_occ_nh['town'], y=lists_town_home_price_occ_nh['median_cleaning_fee']),\n",
    "    go.Bar(name='Service Fee', x=lists_town_home_price_occ_nh['town'], y=lists_town_home_price_occ_nh['median_service_fee']),\n",
    "    #go.Bar(name='Total Price', x=lists_town_home_price_occ_nh['town'], y=lists_town_home_price_occ_nh['median_total_price'])\n",
    "])\n",
    "# Change the bar mode\n",
    "nh_pricing_fig.update_layout(title_text='Pricing Data by City (New Hampshire)', barmode='stack')\n",
    "nh_pricing_fig.show()"
   ]
  },
  {
   "cell_type": "code",
   "execution_count": null,
   "metadata": {},
   "outputs": [],
   "source": [
    "nc_pricing_fig = go.Figure(data=[\n",
    "    go.Bar(name='Display Price', x=lists_town_home_price_occ_nc['town'], y=lists_town_home_price_occ_nc['median_price_per_city']),\n",
    "    go.Bar(name='Cleaning Fee', x=lists_town_home_price_occ_nc['town'], y=lists_town_home_price_occ_nc['median_cleaning_fee']),\n",
    "    go.Bar(name='Service Fee', x=lists_town_home_price_occ_nc['town'], y=lists_town_home_price_occ_nc['median_service_fee']),\n",
    "    #go.Bar(name='Total Price', x=lists_town_home_price_occ_nc['town'], y=lists_town_home_price_occ_nc['median_total_price'])\n",
    "])\n",
    "# Change the bar mode\n",
    "nc_pricing_fig.update_layout(title_text='Pricing Data by City (North Carolina)', barmode='stack')\n",
    "nc_pricing_fig.show()"
   ]
  },
  {
   "cell_type": "code",
   "execution_count": null,
   "metadata": {},
   "outputs": [],
   "source": [
    "sc_pricing_fig = go.Figure(data=[\n",
    "    go.Bar(name='Display Price', x=lists_town_home_price_occ_sc['town'], y=lists_town_home_price_occ_sc['median_price_per_city']),\n",
    "    go.Bar(name='Cleaning Fee', x=lists_town_home_price_occ_sc['town'], y=lists_town_home_price_occ_sc['median_cleaning_fee']),\n",
    "    go.Bar(name='Service Fee', x=lists_town_home_price_occ_sc['town'], y=lists_town_home_price_occ_sc['median_service_fee']),\n",
    "    #go.Bar(name='Total Price', x=lists_town_home_price_occ_sc['town'], y=lists_town_home_price_occ_sc['median_total_price'])\n",
    "])\n",
    "# Change the bar mode\n",
    "sc_pricing_fig.update_layout(title_text='Pricing Data by City (South Carolina)', barmode='stack')\n",
    "sc_pricing_fig.show()"
   ]
  },
  {
   "cell_type": "code",
   "execution_count": 18,
   "metadata": {},
   "outputs": [],
   "source": [
    "# grouping by town and guests\n",
    "\n",
    "city_home['city'] = city_home['city'].str.lower()\n",
    "lists_per_city_guest = listing_data.groupby(['town', 'guest_no'])['id'].count().reset_index()\n",
    "lists_per_city_guest.rename(columns = {'id':'num_lists_in_town'}, inplace = True)\n",
    "median_price_per_city_guest = listing_data.groupby(['town', 'guest_no'])['price'].median().reset_index()\n",
    "median_price_per_city_guest.rename(columns = {'price':'median_price_per_city'}, inplace = True)\n",
    "\n",
    "# Calculate occupancy rate\n",
    "occ_rate = occ_data.groupby('id')['available'].apply(lambda row: np.sum(row)/len(row))\n",
    "listing_occ_rate = listing_data.merge(occ_rate, on = 'id')\n",
    "\n",
    "\n",
    "# Calculate pricing avgs\n",
    "cleaning_fee = price_data.groupby(['id'])['cleaning_fee'].median().reset_index()\n",
    "cleaning_fee.rename(columns = {'cleaning_fee':'median_cleaning_fee'}, inplace = True)\n",
    "service_fee = price_data.groupby(['id'])['service_fee'].median().reset_index()\n",
    "service_fee.rename(columns = {'service_fee':'median_service_fee'}, inplace = True)\n",
    "#total_price = price_data.groupby(['id'])['total_price'].median().reset_index()\n",
    "#total_price.rename(columns = {'total_price':'median_total_price'}, inplace = True)\n",
    "\n",
    "listing_occ_rate_fees = listing_occ_rate.merge(cleaning_fee, on='id')\n",
    "listing_occ_rate_fees = listing_occ_rate_fees.merge(service_fee, on='id')\n",
    "#listing_occ_rate_fees = listing_occ_rate_fees.merge(total_price, on='id')\n",
    "\n",
    "median_occ_rate_per_city_guest = listing_occ_rate_fees.groupby(['town', 'guest_no'])['available'].median().reset_index()\n",
    "median_occ_rate_per_city_guest.rename(columns = {'available':'occupancy_rate'}, inplace = True)\n",
    "\n",
    "median_cleaning_fee_per_city_guest = listing_occ_rate_fees.groupby(['town', 'guest_no'])['median_cleaning_fee'].median().reset_index()\n",
    "median_service_fee_per_city_guest = listing_occ_rate_fees.groupby(['town', 'guest_no'])['median_service_fee'].median().reset_index()\n",
    "\n",
    "\n",
    "lists_town_price_guest = lists_per_city_guest.merge(median_price_per_city_guest, left_on = 'town', right_on = 'town')\n",
    "lists_town_price_guest = lists_town_price_guest.merge(median_cleaning_fee_per_city_guest, left_on = 'town', right_on = 'town')\n",
    "lists_town_price_guest = lists_town_price_guest.merge(median_service_fee_per_city_guest, left_on = 'town', right_on = 'town')\n",
    "#lists_town_price = lists_town_price.merge(median_total_price_per_city, left_on = 'town', right_on = 'town')\n",
    "lists_town_price_guest['median_total_price'] = lists_town_price_guest['median_price_per_city'] + lists_town_price_guest['median_cleaning_fee'] + lists_town_price_guest['median_service_fee']\n",
    "lists_town_price_occ_guest = lists_town_price_guest.merge(median_occ_rate_per_city_guest, left_on = 'town', right_on = 'town')\n",
    "city_home_needed_cols = city_home[['city','state_id','population','2022-04-30']]\n",
    "lists_town_home_price_occ_guest = lists_town_price_occ_guest.merge(city_home_needed_cols, how='inner', left_on = 'town', right_on = 'city')"
   ]
  },
  {
   "cell_type": "code",
   "execution_count": 13,
   "metadata": {},
   "outputs": [
    {
     "data": {
      "text/html": [
       "<div>\n",
       "<style scoped>\n",
       "    .dataframe tbody tr th:only-of-type {\n",
       "        vertical-align: middle;\n",
       "    }\n",
       "\n",
       "    .dataframe tbody tr th {\n",
       "        vertical-align: top;\n",
       "    }\n",
       "\n",
       "    .dataframe thead th {\n",
       "        text-align: right;\n",
       "    }\n",
       "</style>\n",
       "<table border=\"1\" class=\"dataframe\">\n",
       "  <thead>\n",
       "    <tr style=\"text-align: right;\">\n",
       "      <th></th>\n",
       "      <th>town</th>\n",
       "      <th>guest_no_x</th>\n",
       "      <th>num_lists_in_town</th>\n",
       "      <th>guest_no_y</th>\n",
       "      <th>median_price_per_city</th>\n",
       "      <th>guest_no_x</th>\n",
       "      <th>median_cleaning_fee</th>\n",
       "      <th>guest_no_y</th>\n",
       "      <th>median_service_fee</th>\n",
       "      <th>median_total_price</th>\n",
       "      <th>guest_no</th>\n",
       "      <th>occupancy_rate</th>\n",
       "      <th>city</th>\n",
       "      <th>state_id</th>\n",
       "      <th>population</th>\n",
       "      <th>2022-04-30</th>\n",
       "    </tr>\n",
       "  </thead>\n",
       "  <tbody>\n",
       "    <tr>\n",
       "      <th>0</th>\n",
       "      <td>south londonderry</td>\n",
       "      <td>11.0</td>\n",
       "      <td>1</td>\n",
       "      <td>11.0</td>\n",
       "      <td>2500.0</td>\n",
       "      <td>11.0</td>\n",
       "      <td>150.0</td>\n",
       "      <td>11.0</td>\n",
       "      <td>374.0</td>\n",
       "      <td>3024.0</td>\n",
       "      <td>11.0</td>\n",
       "      <td>0.978082</td>\n",
       "      <td>NaN</td>\n",
       "      <td>NaN</td>\n",
       "      <td>NaN</td>\n",
       "      <td>NaN</td>\n",
       "    </tr>\n",
       "    <tr>\n",
       "      <th>1</th>\n",
       "      <td>acton</td>\n",
       "      <td>2.0</td>\n",
       "      <td>4</td>\n",
       "      <td>2.0</td>\n",
       "      <td>155.0</td>\n",
       "      <td>2.0</td>\n",
       "      <td>50.0</td>\n",
       "      <td>2.0</td>\n",
       "      <td>29.0</td>\n",
       "      <td>234.0</td>\n",
       "      <td>2.0</td>\n",
       "      <td>0.317260</td>\n",
       "      <td>acton</td>\n",
       "      <td>CA</td>\n",
       "      <td>7054.0</td>\n",
       "      <td>885107.0</td>\n",
       "    </tr>\n",
       "    <tr>\n",
       "      <th>2</th>\n",
       "      <td>acton</td>\n",
       "      <td>2.0</td>\n",
       "      <td>4</td>\n",
       "      <td>2.0</td>\n",
       "      <td>155.0</td>\n",
       "      <td>2.0</td>\n",
       "      <td>50.0</td>\n",
       "      <td>2.0</td>\n",
       "      <td>29.0</td>\n",
       "      <td>234.0</td>\n",
       "      <td>6.0</td>\n",
       "      <td>0.071233</td>\n",
       "      <td>acton</td>\n",
       "      <td>CA</td>\n",
       "      <td>7054.0</td>\n",
       "      <td>885107.0</td>\n",
       "    </tr>\n",
       "    <tr>\n",
       "      <th>3</th>\n",
       "      <td>acton</td>\n",
       "      <td>2.0</td>\n",
       "      <td>4</td>\n",
       "      <td>2.0</td>\n",
       "      <td>155.0</td>\n",
       "      <td>2.0</td>\n",
       "      <td>50.0</td>\n",
       "      <td>2.0</td>\n",
       "      <td>29.0</td>\n",
       "      <td>234.0</td>\n",
       "      <td>10.0</td>\n",
       "      <td>0.312329</td>\n",
       "      <td>acton</td>\n",
       "      <td>CA</td>\n",
       "      <td>7054.0</td>\n",
       "      <td>885107.0</td>\n",
       "    </tr>\n",
       "    <tr>\n",
       "      <th>4</th>\n",
       "      <td>acton</td>\n",
       "      <td>2.0</td>\n",
       "      <td>4</td>\n",
       "      <td>2.0</td>\n",
       "      <td>155.0</td>\n",
       "      <td>2.0</td>\n",
       "      <td>50.0</td>\n",
       "      <td>6.0</td>\n",
       "      <td>74.0</td>\n",
       "      <td>279.0</td>\n",
       "      <td>2.0</td>\n",
       "      <td>0.317260</td>\n",
       "      <td>acton</td>\n",
       "      <td>CA</td>\n",
       "      <td>7054.0</td>\n",
       "      <td>885107.0</td>\n",
       "    </tr>\n",
       "  </tbody>\n",
       "</table>\n",
       "</div>"
      ],
      "text/plain": [
       "                 town  guest_no_x  num_lists_in_town  guest_no_y  \\\n",
       "0   south londonderry        11.0                  1        11.0   \n",
       "1               acton         2.0                  4         2.0   \n",
       "2               acton         2.0                  4         2.0   \n",
       "3               acton         2.0                  4         2.0   \n",
       "4               acton         2.0                  4         2.0   \n",
       "\n",
       "   median_price_per_city  guest_no_x  median_cleaning_fee  guest_no_y  \\\n",
       "0                 2500.0        11.0                150.0        11.0   \n",
       "1                  155.0         2.0                 50.0         2.0   \n",
       "2                  155.0         2.0                 50.0         2.0   \n",
       "3                  155.0         2.0                 50.0         2.0   \n",
       "4                  155.0         2.0                 50.0         6.0   \n",
       "\n",
       "   median_service_fee  median_total_price  guest_no  occupancy_rate   city  \\\n",
       "0               374.0              3024.0      11.0        0.978082    NaN   \n",
       "1                29.0               234.0       2.0        0.317260  acton   \n",
       "2                29.0               234.0       6.0        0.071233  acton   \n",
       "3                29.0               234.0      10.0        0.312329  acton   \n",
       "4                74.0               279.0       2.0        0.317260  acton   \n",
       "\n",
       "  state_id  population  2022-04-30  \n",
       "0      NaN         NaN         NaN  \n",
       "1       CA      7054.0    885107.0  \n",
       "2       CA      7054.0    885107.0  \n",
       "3       CA      7054.0    885107.0  \n",
       "4       CA      7054.0    885107.0  "
      ]
     },
     "execution_count": 13,
     "metadata": {},
     "output_type": "execute_result"
    }
   ],
   "source": [
    "lists_town_home_price_occ_guest.head(5)"
   ]
  },
  {
   "cell_type": "code",
   "execution_count": 46,
   "metadata": {},
   "outputs": [
    {
     "name": "stdout",
     "output_type": "stream",
     "text": [
      "city home shape: (18381, 293)\n",
      "lists_per_city_guest shape: (3456, 3)\n",
      "median_price_per_city_guest shape: (3456, 3)\n",
      "listing_occ_rate shape: (3978, 31)\n",
      "listing_occ_rate_fees shape: (3978, 32)\n",
      "listing_occ_rate_fees shape: (3978, 33)\n",
      "median_occ_rate_per_city_guest shape: (1162, 3)\n",
      "median_occ_rate_per_city_guest shape: (1162, 3)\n",
      "median_service_fee_per_city_guest shape: (1162, 3)\n",
      "lists_town_price_guest shape: (3456, 4)\n",
      "lists_town_price_guest shape: (1162, 5)\n",
      "lists_town_price_guest shape: (1162, 6)\n",
      "lists_town_price_guest shape: (1162, 7)\n",
      "lists_town_price_guest shape: (1162, 7)\n",
      "city_home_needed_cols shape: (18381, 4)\n",
      "lists_town_home_price_occ_guest shape: (3310, 12)\n",
      "wb_data shape: (9, 14)\n"
     ]
    }
   ],
   "source": [
    "# grouping by town and guests\n",
    "\n",
    "city_home['city'] = city_home['city'].str.lower()\n",
    "print(\"city home shape: \" + str(city_home.shape))\n",
    "lists_per_city_guest = listing_data.groupby(['town', 'guest_no'])['id'].count().reset_index()\n",
    "lists_per_city_guest.rename(columns = {'id':'num_lists_in_town'}, inplace = True)\n",
    "print(\"lists_per_city_guest shape: \" + str(lists_per_city_guest.shape))\n",
    "median_price_per_city_guest = listing_data.groupby(['town', 'guest_no'])['price'].median().reset_index()\n",
    "median_price_per_city_guest.rename(columns = {'price':'median_price_per_city'}, inplace = True)\n",
    "print(\"median_price_per_city_guest shape: \" + str(median_price_per_city_guest.shape))\n",
    "\n",
    "\n",
    "# Calculate occupancy rate\n",
    "occ_rate = occ_data.groupby('id')['available'].apply(lambda row: np.sum(row)/len(row))\n",
    "listing_occ_rate = listing_data.merge(occ_rate, on = 'id')\n",
    "print(\"listing_occ_rate shape: \" + str(listing_occ_rate.shape))\n",
    "\n",
    "\n",
    "\n",
    "# Calculate pricing avgs\n",
    "cleaning_fee = price_data.groupby(['id'])['cleaning_fee'].median().reset_index()\n",
    "cleaning_fee.rename(columns = {'cleaning_fee':'median_cleaning_fee'}, inplace = True)\n",
    "service_fee = price_data.groupby(['id'])['service_fee'].median().reset_index()\n",
    "service_fee.rename(columns = {'service_fee':'median_service_fee'}, inplace = True)\n",
    "#total_price = price_data.groupby(['id'])['total_price'].median().reset_index()\n",
    "#total_price.rename(columns = {'total_price':'median_total_price'}, inplace = True)\n",
    "\n",
    "listing_occ_rate_fees = listing_occ_rate.merge(cleaning_fee, on='id')\n",
    "print(\"listing_occ_rate_fees shape: \" + str(listing_occ_rate_fees.shape))\n",
    "listing_occ_rate_fees = listing_occ_rate_fees.merge(service_fee, on='id')\n",
    "print(\"listing_occ_rate_fees shape: \" + str(listing_occ_rate_fees.shape))\n",
    "\n",
    "#listing_occ_rate_fees = listing_occ_rate_fees.merge(total_price, on='id')\n",
    "\n",
    "median_occ_rate_per_city_guest = listing_occ_rate_fees.groupby(['town', 'guest_no'])['available'].median().reset_index()\n",
    "median_occ_rate_per_city_guest.rename(columns = {'available':'occupancy_rate'}, inplace = True)\n",
    "print(\"median_occ_rate_per_city_guest shape: \" + str(median_occ_rate_per_city_guest.shape))\n",
    "\n",
    "\n",
    "median_cleaning_fee_per_city_guest = listing_occ_rate_fees.groupby(['town', 'guest_no'])['median_cleaning_fee'].median().reset_index()\n",
    "print(\"median_occ_rate_per_city_guest shape: \" + str(median_occ_rate_per_city_guest.shape))\n",
    "\n",
    "median_service_fee_per_city_guest = listing_occ_rate_fees.groupby(['town', 'guest_no'])['median_service_fee'].median().reset_index()\n",
    "print(\"median_service_fee_per_city_guest shape: \" + str(median_service_fee_per_city_guest.shape))\n",
    "\n",
    "\n",
    "lists_town_price_guest = lists_per_city_guest.merge(median_price_per_city_guest, on = ['town', 'guest_no'])\n",
    "print(\"lists_town_price_guest shape: \" + str(lists_town_price_guest.shape))\n",
    "\n",
    "lists_town_price_guest = lists_town_price_guest.merge(median_cleaning_fee_per_city_guest, on = ['town', 'guest_no'])\n",
    "print(\"lists_town_price_guest shape: \" + str(lists_town_price_guest.shape))\n",
    "\n",
    "lists_town_price_guest = lists_town_price_guest.merge(median_service_fee_per_city_guest, on = ['town', 'guest_no'])\n",
    "print(\"lists_town_price_guest shape: \" + str(lists_town_price_guest.shape))\n",
    "\n",
    "#lists_town_price = lists_town_price.merge(median_total_price_per_city, left_on = 'town', right_on = 'town')\n",
    "lists_town_price_guest['median_total_price'] = lists_town_price_guest['median_price_per_city'] + lists_town_price_guest['median_cleaning_fee'] + lists_town_price_guest['median_service_fee']\n",
    "print(\"lists_town_price_guest shape: \" + str(lists_town_price_guest.shape))\n",
    "\n",
    "lists_town_price_occ_guest = lists_town_price_guest.merge(median_occ_rate_per_city_guest, on = ['town', 'guest_no'])\n",
    "print(\"lists_town_price_guest shape: \" + str(lists_town_price_guest.shape))\n",
    "\n",
    "city_home_needed_cols = city_home[['city','state_id','population','2022-04-30']]\n",
    "print(\"city_home_needed_cols shape: \" + str(city_home_needed_cols.shape))\n",
    "\n",
    "lists_town_home_price_occ_guest = lists_town_price_occ_guest.merge(city_home_needed_cols, how='inner', left_on = 'town', right_on = 'city')\n",
    "print(\"lists_town_home_price_occ_guest shape: \" + str(lists_town_home_price_occ_guest.shape))\n",
    "\n",
    "lists_town_home_price_occ_guest['avg_30_yr_mort'] = lists_town_home_price_occ_guest.apply(lambda row: calculate_mortgage(row['2022-04-30'], 5, 30), axis=1)\n",
    "\n",
    "lists_town_home_price_occ_guest['median_ROI'] = lists_town_home_price_occ_guest.apply(lambda row: calculate_roi(row['median_price_per_city'], row['occupancy_rate'], row['avg_30_yr_mort']), axis=1)\n",
    "\n",
    "\n",
    "wb_data = lists_town_home_price_occ_guest[lists_town_home_price_occ_guest['town'] == 'wrightsville beach']\n",
    "print(\"wb_data shape: \" + str(wb_data.shape))\n",
    "\n"
   ]
  },
  {
   "cell_type": "code",
   "execution_count": 45,
   "metadata": {},
   "outputs": [
    {
     "data": {
      "application/vnd.plotly.v1+json": {
       "config": {
        "plotlyServerURL": "https://plot.ly"
       },
       "data": [
        {
         "name": "Total Price",
         "offsetgroup": "1",
         "type": "bar",
         "x": [
          2,
          4,
          5,
          6,
          7,
          8,
          9,
          14,
          16
         ],
         "y": [
          345,
          319.5,
          428,
          736.5,
          725,
          786.5,
          694,
          1377,
          1730.5
         ],
         "yaxis": "y"
        },
        {
         "name": "Occupancy Rate",
         "offsetgroup": "2",
         "type": "bar",
         "x": [
          2,
          4,
          5,
          6,
          7,
          8,
          9,
          14,
          16
         ],
         "y": [
          0.8438356164383561,
          0.9561643835616438,
          0.7567123287671232,
          0.7342465753424657,
          0.5287671232876713,
          0.6005479452054795,
          0.5282191780821918,
          0.7780821917808219,
          0.7852054794520548
         ],
         "yaxis": "y2"
        }
       ],
       "layout": {
        "barmode": "group",
        "template": {
         "data": {
          "bar": [
           {
            "error_x": {
             "color": "#2a3f5f"
            },
            "error_y": {
             "color": "#2a3f5f"
            },
            "marker": {
             "line": {
              "color": "#E5ECF6",
              "width": 0.5
             },
             "pattern": {
              "fillmode": "overlay",
              "size": 10,
              "solidity": 0.2
             }
            },
            "type": "bar"
           }
          ],
          "barpolar": [
           {
            "marker": {
             "line": {
              "color": "#E5ECF6",
              "width": 0.5
             },
             "pattern": {
              "fillmode": "overlay",
              "size": 10,
              "solidity": 0.2
             }
            },
            "type": "barpolar"
           }
          ],
          "carpet": [
           {
            "aaxis": {
             "endlinecolor": "#2a3f5f",
             "gridcolor": "white",
             "linecolor": "white",
             "minorgridcolor": "white",
             "startlinecolor": "#2a3f5f"
            },
            "baxis": {
             "endlinecolor": "#2a3f5f",
             "gridcolor": "white",
             "linecolor": "white",
             "minorgridcolor": "white",
             "startlinecolor": "#2a3f5f"
            },
            "type": "carpet"
           }
          ],
          "choropleth": [
           {
            "colorbar": {
             "outlinewidth": 0,
             "ticks": ""
            },
            "type": "choropleth"
           }
          ],
          "contour": [
           {
            "colorbar": {
             "outlinewidth": 0,
             "ticks": ""
            },
            "colorscale": [
             [
              0,
              "#0d0887"
             ],
             [
              0.1111111111111111,
              "#46039f"
             ],
             [
              0.2222222222222222,
              "#7201a8"
             ],
             [
              0.3333333333333333,
              "#9c179e"
             ],
             [
              0.4444444444444444,
              "#bd3786"
             ],
             [
              0.5555555555555556,
              "#d8576b"
             ],
             [
              0.6666666666666666,
              "#ed7953"
             ],
             [
              0.7777777777777778,
              "#fb9f3a"
             ],
             [
              0.8888888888888888,
              "#fdca26"
             ],
             [
              1,
              "#f0f921"
             ]
            ],
            "type": "contour"
           }
          ],
          "contourcarpet": [
           {
            "colorbar": {
             "outlinewidth": 0,
             "ticks": ""
            },
            "type": "contourcarpet"
           }
          ],
          "heatmap": [
           {
            "colorbar": {
             "outlinewidth": 0,
             "ticks": ""
            },
            "colorscale": [
             [
              0,
              "#0d0887"
             ],
             [
              0.1111111111111111,
              "#46039f"
             ],
             [
              0.2222222222222222,
              "#7201a8"
             ],
             [
              0.3333333333333333,
              "#9c179e"
             ],
             [
              0.4444444444444444,
              "#bd3786"
             ],
             [
              0.5555555555555556,
              "#d8576b"
             ],
             [
              0.6666666666666666,
              "#ed7953"
             ],
             [
              0.7777777777777778,
              "#fb9f3a"
             ],
             [
              0.8888888888888888,
              "#fdca26"
             ],
             [
              1,
              "#f0f921"
             ]
            ],
            "type": "heatmap"
           }
          ],
          "heatmapgl": [
           {
            "colorbar": {
             "outlinewidth": 0,
             "ticks": ""
            },
            "colorscale": [
             [
              0,
              "#0d0887"
             ],
             [
              0.1111111111111111,
              "#46039f"
             ],
             [
              0.2222222222222222,
              "#7201a8"
             ],
             [
              0.3333333333333333,
              "#9c179e"
             ],
             [
              0.4444444444444444,
              "#bd3786"
             ],
             [
              0.5555555555555556,
              "#d8576b"
             ],
             [
              0.6666666666666666,
              "#ed7953"
             ],
             [
              0.7777777777777778,
              "#fb9f3a"
             ],
             [
              0.8888888888888888,
              "#fdca26"
             ],
             [
              1,
              "#f0f921"
             ]
            ],
            "type": "heatmapgl"
           }
          ],
          "histogram": [
           {
            "marker": {
             "pattern": {
              "fillmode": "overlay",
              "size": 10,
              "solidity": 0.2
             }
            },
            "type": "histogram"
           }
          ],
          "histogram2d": [
           {
            "colorbar": {
             "outlinewidth": 0,
             "ticks": ""
            },
            "colorscale": [
             [
              0,
              "#0d0887"
             ],
             [
              0.1111111111111111,
              "#46039f"
             ],
             [
              0.2222222222222222,
              "#7201a8"
             ],
             [
              0.3333333333333333,
              "#9c179e"
             ],
             [
              0.4444444444444444,
              "#bd3786"
             ],
             [
              0.5555555555555556,
              "#d8576b"
             ],
             [
              0.6666666666666666,
              "#ed7953"
             ],
             [
              0.7777777777777778,
              "#fb9f3a"
             ],
             [
              0.8888888888888888,
              "#fdca26"
             ],
             [
              1,
              "#f0f921"
             ]
            ],
            "type": "histogram2d"
           }
          ],
          "histogram2dcontour": [
           {
            "colorbar": {
             "outlinewidth": 0,
             "ticks": ""
            },
            "colorscale": [
             [
              0,
              "#0d0887"
             ],
             [
              0.1111111111111111,
              "#46039f"
             ],
             [
              0.2222222222222222,
              "#7201a8"
             ],
             [
              0.3333333333333333,
              "#9c179e"
             ],
             [
              0.4444444444444444,
              "#bd3786"
             ],
             [
              0.5555555555555556,
              "#d8576b"
             ],
             [
              0.6666666666666666,
              "#ed7953"
             ],
             [
              0.7777777777777778,
              "#fb9f3a"
             ],
             [
              0.8888888888888888,
              "#fdca26"
             ],
             [
              1,
              "#f0f921"
             ]
            ],
            "type": "histogram2dcontour"
           }
          ],
          "mesh3d": [
           {
            "colorbar": {
             "outlinewidth": 0,
             "ticks": ""
            },
            "type": "mesh3d"
           }
          ],
          "parcoords": [
           {
            "line": {
             "colorbar": {
              "outlinewidth": 0,
              "ticks": ""
             }
            },
            "type": "parcoords"
           }
          ],
          "pie": [
           {
            "automargin": true,
            "type": "pie"
           }
          ],
          "scatter": [
           {
            "fillpattern": {
             "fillmode": "overlay",
             "size": 10,
             "solidity": 0.2
            },
            "type": "scatter"
           }
          ],
          "scatter3d": [
           {
            "line": {
             "colorbar": {
              "outlinewidth": 0,
              "ticks": ""
             }
            },
            "marker": {
             "colorbar": {
              "outlinewidth": 0,
              "ticks": ""
             }
            },
            "type": "scatter3d"
           }
          ],
          "scattercarpet": [
           {
            "marker": {
             "colorbar": {
              "outlinewidth": 0,
              "ticks": ""
             }
            },
            "type": "scattercarpet"
           }
          ],
          "scattergeo": [
           {
            "marker": {
             "colorbar": {
              "outlinewidth": 0,
              "ticks": ""
             }
            },
            "type": "scattergeo"
           }
          ],
          "scattergl": [
           {
            "marker": {
             "colorbar": {
              "outlinewidth": 0,
              "ticks": ""
             }
            },
            "type": "scattergl"
           }
          ],
          "scattermapbox": [
           {
            "marker": {
             "colorbar": {
              "outlinewidth": 0,
              "ticks": ""
             }
            },
            "type": "scattermapbox"
           }
          ],
          "scatterpolar": [
           {
            "marker": {
             "colorbar": {
              "outlinewidth": 0,
              "ticks": ""
             }
            },
            "type": "scatterpolar"
           }
          ],
          "scatterpolargl": [
           {
            "marker": {
             "colorbar": {
              "outlinewidth": 0,
              "ticks": ""
             }
            },
            "type": "scatterpolargl"
           }
          ],
          "scatterternary": [
           {
            "marker": {
             "colorbar": {
              "outlinewidth": 0,
              "ticks": ""
             }
            },
            "type": "scatterternary"
           }
          ],
          "surface": [
           {
            "colorbar": {
             "outlinewidth": 0,
             "ticks": ""
            },
            "colorscale": [
             [
              0,
              "#0d0887"
             ],
             [
              0.1111111111111111,
              "#46039f"
             ],
             [
              0.2222222222222222,
              "#7201a8"
             ],
             [
              0.3333333333333333,
              "#9c179e"
             ],
             [
              0.4444444444444444,
              "#bd3786"
             ],
             [
              0.5555555555555556,
              "#d8576b"
             ],
             [
              0.6666666666666666,
              "#ed7953"
             ],
             [
              0.7777777777777778,
              "#fb9f3a"
             ],
             [
              0.8888888888888888,
              "#fdca26"
             ],
             [
              1,
              "#f0f921"
             ]
            ],
            "type": "surface"
           }
          ],
          "table": [
           {
            "cells": {
             "fill": {
              "color": "#EBF0F8"
             },
             "line": {
              "color": "white"
             }
            },
            "header": {
             "fill": {
              "color": "#C8D4E3"
             },
             "line": {
              "color": "white"
             }
            },
            "type": "table"
           }
          ]
         },
         "layout": {
          "annotationdefaults": {
           "arrowcolor": "#2a3f5f",
           "arrowhead": 0,
           "arrowwidth": 1
          },
          "autotypenumbers": "strict",
          "coloraxis": {
           "colorbar": {
            "outlinewidth": 0,
            "ticks": ""
           }
          },
          "colorscale": {
           "diverging": [
            [
             0,
             "#8e0152"
            ],
            [
             0.1,
             "#c51b7d"
            ],
            [
             0.2,
             "#de77ae"
            ],
            [
             0.3,
             "#f1b6da"
            ],
            [
             0.4,
             "#fde0ef"
            ],
            [
             0.5,
             "#f7f7f7"
            ],
            [
             0.6,
             "#e6f5d0"
            ],
            [
             0.7,
             "#b8e186"
            ],
            [
             0.8,
             "#7fbc41"
            ],
            [
             0.9,
             "#4d9221"
            ],
            [
             1,
             "#276419"
            ]
           ],
           "sequential": [
            [
             0,
             "#0d0887"
            ],
            [
             0.1111111111111111,
             "#46039f"
            ],
            [
             0.2222222222222222,
             "#7201a8"
            ],
            [
             0.3333333333333333,
             "#9c179e"
            ],
            [
             0.4444444444444444,
             "#bd3786"
            ],
            [
             0.5555555555555556,
             "#d8576b"
            ],
            [
             0.6666666666666666,
             "#ed7953"
            ],
            [
             0.7777777777777778,
             "#fb9f3a"
            ],
            [
             0.8888888888888888,
             "#fdca26"
            ],
            [
             1,
             "#f0f921"
            ]
           ],
           "sequentialminus": [
            [
             0,
             "#0d0887"
            ],
            [
             0.1111111111111111,
             "#46039f"
            ],
            [
             0.2222222222222222,
             "#7201a8"
            ],
            [
             0.3333333333333333,
             "#9c179e"
            ],
            [
             0.4444444444444444,
             "#bd3786"
            ],
            [
             0.5555555555555556,
             "#d8576b"
            ],
            [
             0.6666666666666666,
             "#ed7953"
            ],
            [
             0.7777777777777778,
             "#fb9f3a"
            ],
            [
             0.8888888888888888,
             "#fdca26"
            ],
            [
             1,
             "#f0f921"
            ]
           ]
          },
          "colorway": [
           "#636efa",
           "#EF553B",
           "#00cc96",
           "#ab63fa",
           "#FFA15A",
           "#19d3f3",
           "#FF6692",
           "#B6E880",
           "#FF97FF",
           "#FECB52"
          ],
          "font": {
           "color": "#2a3f5f"
          },
          "geo": {
           "bgcolor": "white",
           "lakecolor": "white",
           "landcolor": "#E5ECF6",
           "showlakes": true,
           "showland": true,
           "subunitcolor": "white"
          },
          "hoverlabel": {
           "align": "left"
          },
          "hovermode": "closest",
          "mapbox": {
           "style": "light"
          },
          "paper_bgcolor": "white",
          "plot_bgcolor": "#E5ECF6",
          "polar": {
           "angularaxis": {
            "gridcolor": "white",
            "linecolor": "white",
            "ticks": ""
           },
           "bgcolor": "#E5ECF6",
           "radialaxis": {
            "gridcolor": "white",
            "linecolor": "white",
            "ticks": ""
           }
          },
          "scene": {
           "xaxis": {
            "backgroundcolor": "#E5ECF6",
            "gridcolor": "white",
            "gridwidth": 2,
            "linecolor": "white",
            "showbackground": true,
            "ticks": "",
            "zerolinecolor": "white"
           },
           "yaxis": {
            "backgroundcolor": "#E5ECF6",
            "gridcolor": "white",
            "gridwidth": 2,
            "linecolor": "white",
            "showbackground": true,
            "ticks": "",
            "zerolinecolor": "white"
           },
           "zaxis": {
            "backgroundcolor": "#E5ECF6",
            "gridcolor": "white",
            "gridwidth": 2,
            "linecolor": "white",
            "showbackground": true,
            "ticks": "",
            "zerolinecolor": "white"
           }
          },
          "shapedefaults": {
           "line": {
            "color": "#2a3f5f"
           }
          },
          "ternary": {
           "aaxis": {
            "gridcolor": "white",
            "linecolor": "white",
            "ticks": ""
           },
           "baxis": {
            "gridcolor": "white",
            "linecolor": "white",
            "ticks": ""
           },
           "bgcolor": "#E5ECF6",
           "caxis": {
            "gridcolor": "white",
            "linecolor": "white",
            "ticks": ""
           }
          },
          "title": {
           "x": 0.05
          },
          "xaxis": {
           "automargin": true,
           "gridcolor": "white",
           "linecolor": "white",
           "ticks": "",
           "title": {
            "standoff": 15
           },
           "zerolinecolor": "white",
           "zerolinewidth": 2
          },
          "yaxis": {
           "automargin": true,
           "gridcolor": "white",
           "linecolor": "white",
           "ticks": "",
           "title": {
            "standoff": 15
           },
           "zerolinecolor": "white",
           "zerolinewidth": 2
          }
         }
        },
        "title": {
         "text": "Wrightsville Beach Price and Occupancy by # of Guests"
        },
        "xaxis": {
         "title": {
          "text": "# of Guests"
         }
        },
        "yaxis": {
         "title": {
          "text": "Total Price"
         }
        },
        "yaxis2": {
         "overlaying": "y",
         "side": "right",
         "title": {
          "text": "Occupancy Rate"
         }
        }
       }
      }
     },
     "metadata": {},
     "output_type": "display_data"
    }
   ],
   "source": [
    "wb_fig = go.Figure(data=[\n",
    "    go.Bar(name='Total Price', x=wb_data['guest_no'], y=wb_data['median_total_price'], yaxis='y', offsetgroup=1),\n",
    "    go.Bar(name='Occupancy Rate', x=wb_data['guest_no'], y=wb_data['occupancy_rate'], yaxis='y2', offsetgroup=2)\n",
    "],\n",
    "    layout={\n",
    "        'xaxis': {'title': '# of Guests'},\n",
    "        'yaxis': {'title': 'Total Price'},\n",
    "        'yaxis2': {'title': 'Occupancy Rate', 'overlaying': 'y', 'side': 'right'}\n",
    "    }\n",
    ")\n",
    "\n",
    "# Change the bar mode\n",
    "wb_fig.update_layout(title_text='Wrightsville Beach Price and Occupancy by # of Guests', barmode='group')\n",
    "wb_fig.show()"
   ]
  },
  {
   "cell_type": "code",
   "execution_count": 49,
   "metadata": {},
   "outputs": [
    {
     "data": {
      "application/vnd.plotly.v1+json": {
       "config": {
        "plotlyServerURL": "https://plot.ly"
       },
       "data": [
        {
         "name": "Total Price",
         "offsetgroup": "1",
         "type": "bar",
         "x": [
          2,
          4,
          5,
          6,
          7,
          8,
          9,
          14,
          16
         ],
         "y": [
          345,
          319.5,
          428,
          736.5,
          725,
          786.5,
          694,
          1377,
          1730.5
         ],
         "yaxis": "y"
        },
        {
         "name": "Occupancy Rate",
         "offsetgroup": "2",
         "type": "bar",
         "x": [
          2,
          4,
          5,
          6,
          7,
          8,
          9,
          14,
          16
         ],
         "y": [
          0.8438356164383561,
          0.9561643835616438,
          0.7567123287671232,
          0.7342465753424657,
          0.5287671232876713,
          0.6005479452054795,
          0.5282191780821918,
          0.7780821917808219,
          0.7852054794520548
         ],
         "yaxis": "y2"
        }
       ],
       "layout": {
        "barmode": "group",
        "template": {
         "data": {
          "bar": [
           {
            "error_x": {
             "color": "#2a3f5f"
            },
            "error_y": {
             "color": "#2a3f5f"
            },
            "marker": {
             "line": {
              "color": "#E5ECF6",
              "width": 0.5
             },
             "pattern": {
              "fillmode": "overlay",
              "size": 10,
              "solidity": 0.2
             }
            },
            "type": "bar"
           }
          ],
          "barpolar": [
           {
            "marker": {
             "line": {
              "color": "#E5ECF6",
              "width": 0.5
             },
             "pattern": {
              "fillmode": "overlay",
              "size": 10,
              "solidity": 0.2
             }
            },
            "type": "barpolar"
           }
          ],
          "carpet": [
           {
            "aaxis": {
             "endlinecolor": "#2a3f5f",
             "gridcolor": "white",
             "linecolor": "white",
             "minorgridcolor": "white",
             "startlinecolor": "#2a3f5f"
            },
            "baxis": {
             "endlinecolor": "#2a3f5f",
             "gridcolor": "white",
             "linecolor": "white",
             "minorgridcolor": "white",
             "startlinecolor": "#2a3f5f"
            },
            "type": "carpet"
           }
          ],
          "choropleth": [
           {
            "colorbar": {
             "outlinewidth": 0,
             "ticks": ""
            },
            "type": "choropleth"
           }
          ],
          "contour": [
           {
            "colorbar": {
             "outlinewidth": 0,
             "ticks": ""
            },
            "colorscale": [
             [
              0,
              "#0d0887"
             ],
             [
              0.1111111111111111,
              "#46039f"
             ],
             [
              0.2222222222222222,
              "#7201a8"
             ],
             [
              0.3333333333333333,
              "#9c179e"
             ],
             [
              0.4444444444444444,
              "#bd3786"
             ],
             [
              0.5555555555555556,
              "#d8576b"
             ],
             [
              0.6666666666666666,
              "#ed7953"
             ],
             [
              0.7777777777777778,
              "#fb9f3a"
             ],
             [
              0.8888888888888888,
              "#fdca26"
             ],
             [
              1,
              "#f0f921"
             ]
            ],
            "type": "contour"
           }
          ],
          "contourcarpet": [
           {
            "colorbar": {
             "outlinewidth": 0,
             "ticks": ""
            },
            "type": "contourcarpet"
           }
          ],
          "heatmap": [
           {
            "colorbar": {
             "outlinewidth": 0,
             "ticks": ""
            },
            "colorscale": [
             [
              0,
              "#0d0887"
             ],
             [
              0.1111111111111111,
              "#46039f"
             ],
             [
              0.2222222222222222,
              "#7201a8"
             ],
             [
              0.3333333333333333,
              "#9c179e"
             ],
             [
              0.4444444444444444,
              "#bd3786"
             ],
             [
              0.5555555555555556,
              "#d8576b"
             ],
             [
              0.6666666666666666,
              "#ed7953"
             ],
             [
              0.7777777777777778,
              "#fb9f3a"
             ],
             [
              0.8888888888888888,
              "#fdca26"
             ],
             [
              1,
              "#f0f921"
             ]
            ],
            "type": "heatmap"
           }
          ],
          "heatmapgl": [
           {
            "colorbar": {
             "outlinewidth": 0,
             "ticks": ""
            },
            "colorscale": [
             [
              0,
              "#0d0887"
             ],
             [
              0.1111111111111111,
              "#46039f"
             ],
             [
              0.2222222222222222,
              "#7201a8"
             ],
             [
              0.3333333333333333,
              "#9c179e"
             ],
             [
              0.4444444444444444,
              "#bd3786"
             ],
             [
              0.5555555555555556,
              "#d8576b"
             ],
             [
              0.6666666666666666,
              "#ed7953"
             ],
             [
              0.7777777777777778,
              "#fb9f3a"
             ],
             [
              0.8888888888888888,
              "#fdca26"
             ],
             [
              1,
              "#f0f921"
             ]
            ],
            "type": "heatmapgl"
           }
          ],
          "histogram": [
           {
            "marker": {
             "pattern": {
              "fillmode": "overlay",
              "size": 10,
              "solidity": 0.2
             }
            },
            "type": "histogram"
           }
          ],
          "histogram2d": [
           {
            "colorbar": {
             "outlinewidth": 0,
             "ticks": ""
            },
            "colorscale": [
             [
              0,
              "#0d0887"
             ],
             [
              0.1111111111111111,
              "#46039f"
             ],
             [
              0.2222222222222222,
              "#7201a8"
             ],
             [
              0.3333333333333333,
              "#9c179e"
             ],
             [
              0.4444444444444444,
              "#bd3786"
             ],
             [
              0.5555555555555556,
              "#d8576b"
             ],
             [
              0.6666666666666666,
              "#ed7953"
             ],
             [
              0.7777777777777778,
              "#fb9f3a"
             ],
             [
              0.8888888888888888,
              "#fdca26"
             ],
             [
              1,
              "#f0f921"
             ]
            ],
            "type": "histogram2d"
           }
          ],
          "histogram2dcontour": [
           {
            "colorbar": {
             "outlinewidth": 0,
             "ticks": ""
            },
            "colorscale": [
             [
              0,
              "#0d0887"
             ],
             [
              0.1111111111111111,
              "#46039f"
             ],
             [
              0.2222222222222222,
              "#7201a8"
             ],
             [
              0.3333333333333333,
              "#9c179e"
             ],
             [
              0.4444444444444444,
              "#bd3786"
             ],
             [
              0.5555555555555556,
              "#d8576b"
             ],
             [
              0.6666666666666666,
              "#ed7953"
             ],
             [
              0.7777777777777778,
              "#fb9f3a"
             ],
             [
              0.8888888888888888,
              "#fdca26"
             ],
             [
              1,
              "#f0f921"
             ]
            ],
            "type": "histogram2dcontour"
           }
          ],
          "mesh3d": [
           {
            "colorbar": {
             "outlinewidth": 0,
             "ticks": ""
            },
            "type": "mesh3d"
           }
          ],
          "parcoords": [
           {
            "line": {
             "colorbar": {
              "outlinewidth": 0,
              "ticks": ""
             }
            },
            "type": "parcoords"
           }
          ],
          "pie": [
           {
            "automargin": true,
            "type": "pie"
           }
          ],
          "scatter": [
           {
            "fillpattern": {
             "fillmode": "overlay",
             "size": 10,
             "solidity": 0.2
            },
            "type": "scatter"
           }
          ],
          "scatter3d": [
           {
            "line": {
             "colorbar": {
              "outlinewidth": 0,
              "ticks": ""
             }
            },
            "marker": {
             "colorbar": {
              "outlinewidth": 0,
              "ticks": ""
             }
            },
            "type": "scatter3d"
           }
          ],
          "scattercarpet": [
           {
            "marker": {
             "colorbar": {
              "outlinewidth": 0,
              "ticks": ""
             }
            },
            "type": "scattercarpet"
           }
          ],
          "scattergeo": [
           {
            "marker": {
             "colorbar": {
              "outlinewidth": 0,
              "ticks": ""
             }
            },
            "type": "scattergeo"
           }
          ],
          "scattergl": [
           {
            "marker": {
             "colorbar": {
              "outlinewidth": 0,
              "ticks": ""
             }
            },
            "type": "scattergl"
           }
          ],
          "scattermapbox": [
           {
            "marker": {
             "colorbar": {
              "outlinewidth": 0,
              "ticks": ""
             }
            },
            "type": "scattermapbox"
           }
          ],
          "scatterpolar": [
           {
            "marker": {
             "colorbar": {
              "outlinewidth": 0,
              "ticks": ""
             }
            },
            "type": "scatterpolar"
           }
          ],
          "scatterpolargl": [
           {
            "marker": {
             "colorbar": {
              "outlinewidth": 0,
              "ticks": ""
             }
            },
            "type": "scatterpolargl"
           }
          ],
          "scatterternary": [
           {
            "marker": {
             "colorbar": {
              "outlinewidth": 0,
              "ticks": ""
             }
            },
            "type": "scatterternary"
           }
          ],
          "surface": [
           {
            "colorbar": {
             "outlinewidth": 0,
             "ticks": ""
            },
            "colorscale": [
             [
              0,
              "#0d0887"
             ],
             [
              0.1111111111111111,
              "#46039f"
             ],
             [
              0.2222222222222222,
              "#7201a8"
             ],
             [
              0.3333333333333333,
              "#9c179e"
             ],
             [
              0.4444444444444444,
              "#bd3786"
             ],
             [
              0.5555555555555556,
              "#d8576b"
             ],
             [
              0.6666666666666666,
              "#ed7953"
             ],
             [
              0.7777777777777778,
              "#fb9f3a"
             ],
             [
              0.8888888888888888,
              "#fdca26"
             ],
             [
              1,
              "#f0f921"
             ]
            ],
            "type": "surface"
           }
          ],
          "table": [
           {
            "cells": {
             "fill": {
              "color": "#EBF0F8"
             },
             "line": {
              "color": "white"
             }
            },
            "header": {
             "fill": {
              "color": "#C8D4E3"
             },
             "line": {
              "color": "white"
             }
            },
            "type": "table"
           }
          ]
         },
         "layout": {
          "annotationdefaults": {
           "arrowcolor": "#2a3f5f",
           "arrowhead": 0,
           "arrowwidth": 1
          },
          "autotypenumbers": "strict",
          "coloraxis": {
           "colorbar": {
            "outlinewidth": 0,
            "ticks": ""
           }
          },
          "colorscale": {
           "diverging": [
            [
             0,
             "#8e0152"
            ],
            [
             0.1,
             "#c51b7d"
            ],
            [
             0.2,
             "#de77ae"
            ],
            [
             0.3,
             "#f1b6da"
            ],
            [
             0.4,
             "#fde0ef"
            ],
            [
             0.5,
             "#f7f7f7"
            ],
            [
             0.6,
             "#e6f5d0"
            ],
            [
             0.7,
             "#b8e186"
            ],
            [
             0.8,
             "#7fbc41"
            ],
            [
             0.9,
             "#4d9221"
            ],
            [
             1,
             "#276419"
            ]
           ],
           "sequential": [
            [
             0,
             "#0d0887"
            ],
            [
             0.1111111111111111,
             "#46039f"
            ],
            [
             0.2222222222222222,
             "#7201a8"
            ],
            [
             0.3333333333333333,
             "#9c179e"
            ],
            [
             0.4444444444444444,
             "#bd3786"
            ],
            [
             0.5555555555555556,
             "#d8576b"
            ],
            [
             0.6666666666666666,
             "#ed7953"
            ],
            [
             0.7777777777777778,
             "#fb9f3a"
            ],
            [
             0.8888888888888888,
             "#fdca26"
            ],
            [
             1,
             "#f0f921"
            ]
           ],
           "sequentialminus": [
            [
             0,
             "#0d0887"
            ],
            [
             0.1111111111111111,
             "#46039f"
            ],
            [
             0.2222222222222222,
             "#7201a8"
            ],
            [
             0.3333333333333333,
             "#9c179e"
            ],
            [
             0.4444444444444444,
             "#bd3786"
            ],
            [
             0.5555555555555556,
             "#d8576b"
            ],
            [
             0.6666666666666666,
             "#ed7953"
            ],
            [
             0.7777777777777778,
             "#fb9f3a"
            ],
            [
             0.8888888888888888,
             "#fdca26"
            ],
            [
             1,
             "#f0f921"
            ]
           ]
          },
          "colorway": [
           "#636efa",
           "#EF553B",
           "#00cc96",
           "#ab63fa",
           "#FFA15A",
           "#19d3f3",
           "#FF6692",
           "#B6E880",
           "#FF97FF",
           "#FECB52"
          ],
          "font": {
           "color": "#2a3f5f"
          },
          "geo": {
           "bgcolor": "white",
           "lakecolor": "white",
           "landcolor": "#E5ECF6",
           "showlakes": true,
           "showland": true,
           "subunitcolor": "white"
          },
          "hoverlabel": {
           "align": "left"
          },
          "hovermode": "closest",
          "mapbox": {
           "style": "light"
          },
          "paper_bgcolor": "white",
          "plot_bgcolor": "#E5ECF6",
          "polar": {
           "angularaxis": {
            "gridcolor": "white",
            "linecolor": "white",
            "ticks": ""
           },
           "bgcolor": "#E5ECF6",
           "radialaxis": {
            "gridcolor": "white",
            "linecolor": "white",
            "ticks": ""
           }
          },
          "scene": {
           "xaxis": {
            "backgroundcolor": "#E5ECF6",
            "gridcolor": "white",
            "gridwidth": 2,
            "linecolor": "white",
            "showbackground": true,
            "ticks": "",
            "zerolinecolor": "white"
           },
           "yaxis": {
            "backgroundcolor": "#E5ECF6",
            "gridcolor": "white",
            "gridwidth": 2,
            "linecolor": "white",
            "showbackground": true,
            "ticks": "",
            "zerolinecolor": "white"
           },
           "zaxis": {
            "backgroundcolor": "#E5ECF6",
            "gridcolor": "white",
            "gridwidth": 2,
            "linecolor": "white",
            "showbackground": true,
            "ticks": "",
            "zerolinecolor": "white"
           }
          },
          "shapedefaults": {
           "line": {
            "color": "#2a3f5f"
           }
          },
          "ternary": {
           "aaxis": {
            "gridcolor": "white",
            "linecolor": "white",
            "ticks": ""
           },
           "baxis": {
            "gridcolor": "white",
            "linecolor": "white",
            "ticks": ""
           },
           "bgcolor": "#E5ECF6",
           "caxis": {
            "gridcolor": "white",
            "linecolor": "white",
            "ticks": ""
           }
          },
          "title": {
           "x": 0.05
          },
          "xaxis": {
           "automargin": true,
           "gridcolor": "white",
           "linecolor": "white",
           "ticks": "",
           "title": {
            "standoff": 15
           },
           "zerolinecolor": "white",
           "zerolinewidth": 2
          },
          "yaxis": {
           "automargin": true,
           "gridcolor": "white",
           "linecolor": "white",
           "ticks": "",
           "title": {
            "standoff": 15
           },
           "zerolinecolor": "white",
           "zerolinewidth": 2
          }
         }
        },
        "title": {
         "text": "Wrightsville Beach Price and Occupancy by # of Guests"
        },
        "xaxis": {
         "title": {
          "text": "# of Guests"
         }
        },
        "yaxis": {
         "title": {
          "text": "Total Price"
         }
        },
        "yaxis2": {
         "overlaying": "y",
         "side": "right",
         "title": {
          "text": "Occupancy Rate"
         }
        }
       }
      }
     },
     "metadata": {},
     "output_type": "display_data"
    }
   ],
   "source": [
    "wb_fig = go.Figure(data=[\n",
    "    go.Bar(name='Total Price', x=wb_data['guest_no'], y=wb_data['median_total_price'], yaxis='y', offsetgroup=1),\n",
    "    go.Bar(name='Occupancy Rate', x=wb_data['guest_no'], y=wb_data['occupancy_rate'], yaxis='y2', offsetgroup=2),\n",
    "],\n",
    "    layout={\n",
    "        'xaxis': {'title': '# of Guests'},\n",
    "        'yaxis': {'title': 'Total Price'},\n",
    "        'yaxis2': {'title': 'Occupancy Rate', 'overlaying': 'y', 'side': 'right'}\n",
    "    }\n",
    ")\n",
    "\n",
    "# Change the bar mode\n",
    "wb_fig.update_layout(title_text='Wrightsville Beach Price and Occupancy by # of Guests', barmode='group')\n",
    "wb_fig.show()"
   ]
  },
  {
   "cell_type": "code",
   "execution_count": 51,
   "metadata": {},
   "outputs": [],
   "source": [
    "append_fig_to_html([wb_fig])"
   ]
  },
  {
   "cell_type": "code",
   "execution_count": 95,
   "metadata": {},
   "outputs": [
    {
     "data": {
      "text/plain": [
       "Index(['town', 'guest_no', 'num_lists_in_town', 'median_price_per_city',\n",
       "       'median_cleaning_fee', 'median_service_fee', 'median_total_price',\n",
       "       'occupancy_rate', 'city', 'state_id', 'population', '2022-04-30',\n",
       "       'avg_30_yr_mort', 'median_ROI'],\n",
       "      dtype='object')"
      ]
     },
     "execution_count": 95,
     "metadata": {},
     "output_type": "execute_result"
    }
   ],
   "source": [
    "#nh_data = lists_town_home_price_occ_guest[lists_town_home_price_occ_guest['town'] == 'wrightsville beach']\n",
    "lists_town_home_price_occ_guest.columns"
   ]
  },
  {
   "cell_type": "code",
   "execution_count": null,
   "metadata": {},
   "outputs": [],
   "source": []
  },
  {
   "cell_type": "code",
   "execution_count": 62,
   "metadata": {},
   "outputs": [
    {
     "data": {
      "text/html": [
       "<div>\n",
       "<style scoped>\n",
       "    .dataframe tbody tr th:only-of-type {\n",
       "        vertical-align: middle;\n",
       "    }\n",
       "\n",
       "    .dataframe tbody tr th {\n",
       "        vertical-align: top;\n",
       "    }\n",
       "\n",
       "    .dataframe thead th {\n",
       "        text-align: right;\n",
       "    }\n",
       "</style>\n",
       "<table border=\"1\" class=\"dataframe\">\n",
       "  <thead>\n",
       "    <tr style=\"text-align: right;\">\n",
       "      <th></th>\n",
       "      <th>town</th>\n",
       "      <th>guest_no</th>\n",
       "      <th>num_lists_in_town</th>\n",
       "      <th>median_price_per_city</th>\n",
       "      <th>median_cleaning_fee</th>\n",
       "      <th>median_service_fee</th>\n",
       "      <th>median_total_price</th>\n",
       "      <th>occupancy_rate</th>\n",
       "      <th>city</th>\n",
       "      <th>state_id</th>\n",
       "      <th>population</th>\n",
       "      <th>2022-04-30</th>\n",
       "      <th>avg_30_yr_mort</th>\n",
       "      <th>median_ROI</th>\n",
       "    </tr>\n",
       "  </thead>\n",
       "  <tbody>\n",
       "    <tr>\n",
       "      <th>0</th>\n",
       "      <td>acton</td>\n",
       "      <td>2.0</td>\n",
       "      <td>4</td>\n",
       "      <td>155.0</td>\n",
       "      <td>50.0</td>\n",
       "      <td>29.0</td>\n",
       "      <td>234.0</td>\n",
       "      <td>0.317260</td>\n",
       "      <td>acton</td>\n",
       "      <td>CA</td>\n",
       "      <td>7054</td>\n",
       "      <td>885107.0</td>\n",
       "      <td>4751.45</td>\n",
       "      <td>-0.685201</td>\n",
       "    </tr>\n",
       "    <tr>\n",
       "      <th>1</th>\n",
       "      <td>acton</td>\n",
       "      <td>6.0</td>\n",
       "      <td>5</td>\n",
       "      <td>280.0</td>\n",
       "      <td>175.0</td>\n",
       "      <td>74.0</td>\n",
       "      <td>529.0</td>\n",
       "      <td>0.071233</td>\n",
       "      <td>acton</td>\n",
       "      <td>CA</td>\n",
       "      <td>7054</td>\n",
       "      <td>885107.0</td>\n",
       "      <td>4751.45</td>\n",
       "      <td>-0.872320</td>\n",
       "    </tr>\n",
       "    <tr>\n",
       "      <th>2</th>\n",
       "      <td>acton</td>\n",
       "      <td>10.0</td>\n",
       "      <td>4</td>\n",
       "      <td>300.0</td>\n",
       "      <td>150.0</td>\n",
       "      <td>64.0</td>\n",
       "      <td>514.0</td>\n",
       "      <td>0.312329</td>\n",
       "      <td>acton</td>\n",
       "      <td>CA</td>\n",
       "      <td>7054</td>\n",
       "      <td>885107.0</td>\n",
       "      <td>4751.45</td>\n",
       "      <td>-0.400183</td>\n",
       "    </tr>\n",
       "    <tr>\n",
       "      <th>3</th>\n",
       "      <td>albany</td>\n",
       "      <td>2.0</td>\n",
       "      <td>2</td>\n",
       "      <td>119.0</td>\n",
       "      <td>NaN</td>\n",
       "      <td>20.0</td>\n",
       "      <td>NaN</td>\n",
       "      <td>0.534247</td>\n",
       "      <td>albany</td>\n",
       "      <td>NY</td>\n",
       "      <td>590823</td>\n",
       "      <td>259080.0</td>\n",
       "      <td>1390.80</td>\n",
       "      <td>0.390387</td>\n",
       "    </tr>\n",
       "    <tr>\n",
       "      <th>4</th>\n",
       "      <td>albany</td>\n",
       "      <td>2.0</td>\n",
       "      <td>2</td>\n",
       "      <td>119.0</td>\n",
       "      <td>NaN</td>\n",
       "      <td>20.0</td>\n",
       "      <td>NaN</td>\n",
       "      <td>0.534247</td>\n",
       "      <td>albany</td>\n",
       "      <td>GA</td>\n",
       "      <td>89323</td>\n",
       "      <td>109595.0</td>\n",
       "      <td>588.33</td>\n",
       "      <td>2.286846</td>\n",
       "    </tr>\n",
       "    <tr>\n",
       "      <th>...</th>\n",
       "      <td>...</td>\n",
       "      <td>...</td>\n",
       "      <td>...</td>\n",
       "      <td>...</td>\n",
       "      <td>...</td>\n",
       "      <td>...</td>\n",
       "      <td>...</td>\n",
       "      <td>...</td>\n",
       "      <td>...</td>\n",
       "      <td>...</td>\n",
       "      <td>...</td>\n",
       "      <td>...</td>\n",
       "      <td>...</td>\n",
       "      <td>...</td>\n",
       "    </tr>\n",
       "    <tr>\n",
       "      <th>3305</th>\n",
       "      <td>york</td>\n",
       "      <td>14.0</td>\n",
       "      <td>12</td>\n",
       "      <td>707.0</td>\n",
       "      <td>650.0</td>\n",
       "      <td>215.0</td>\n",
       "      <td>1572.0</td>\n",
       "      <td>0.789041</td>\n",
       "      <td>york</td>\n",
       "      <td>AL</td>\n",
       "      <td>2448</td>\n",
       "      <td>47528.0</td>\n",
       "      <td>255.14</td>\n",
       "      <td>65.504664</td>\n",
       "    </tr>\n",
       "    <tr>\n",
       "      <th>3306</th>\n",
       "      <td>york</td>\n",
       "      <td>16.0</td>\n",
       "      <td>7</td>\n",
       "      <td>1090.0</td>\n",
       "      <td>485.0</td>\n",
       "      <td>241.5</td>\n",
       "      <td>1816.5</td>\n",
       "      <td>0.568219</td>\n",
       "      <td>york</td>\n",
       "      <td>PA</td>\n",
       "      <td>236818</td>\n",
       "      <td>229906.0</td>\n",
       "      <td>1234.19</td>\n",
       "      <td>14.264127</td>\n",
       "    </tr>\n",
       "    <tr>\n",
       "      <th>3307</th>\n",
       "      <td>york</td>\n",
       "      <td>16.0</td>\n",
       "      <td>7</td>\n",
       "      <td>1090.0</td>\n",
       "      <td>485.0</td>\n",
       "      <td>241.5</td>\n",
       "      <td>1816.5</td>\n",
       "      <td>0.568219</td>\n",
       "      <td>york</td>\n",
       "      <td>SC</td>\n",
       "      <td>8287</td>\n",
       "      <td>318429.0</td>\n",
       "      <td>1709.40</td>\n",
       "      <td>10.020729</td>\n",
       "    </tr>\n",
       "    <tr>\n",
       "      <th>3308</th>\n",
       "      <td>york</td>\n",
       "      <td>16.0</td>\n",
       "      <td>7</td>\n",
       "      <td>1090.0</td>\n",
       "      <td>485.0</td>\n",
       "      <td>241.5</td>\n",
       "      <td>1816.5</td>\n",
       "      <td>0.568219</td>\n",
       "      <td>york</td>\n",
       "      <td>NE</td>\n",
       "      <td>7810</td>\n",
       "      <td>165233.0</td>\n",
       "      <td>887.01</td>\n",
       "      <td>20.238581</td>\n",
       "    </tr>\n",
       "    <tr>\n",
       "      <th>3309</th>\n",
       "      <td>york</td>\n",
       "      <td>16.0</td>\n",
       "      <td>7</td>\n",
       "      <td>1090.0</td>\n",
       "      <td>485.0</td>\n",
       "      <td>241.5</td>\n",
       "      <td>1816.5</td>\n",
       "      <td>0.568219</td>\n",
       "      <td>york</td>\n",
       "      <td>AL</td>\n",
       "      <td>2448</td>\n",
       "      <td>47528.0</td>\n",
       "      <td>255.14</td>\n",
       "      <td>72.837240</td>\n",
       "    </tr>\n",
       "  </tbody>\n",
       "</table>\n",
       "<p>3310 rows × 14 columns</p>\n",
       "</div>"
      ],
      "text/plain": [
       "        town  guest_no  num_lists_in_town  median_price_per_city  \\\n",
       "0      acton       2.0                  4                  155.0   \n",
       "1      acton       6.0                  5                  280.0   \n",
       "2      acton      10.0                  4                  300.0   \n",
       "3     albany       2.0                  2                  119.0   \n",
       "4     albany       2.0                  2                  119.0   \n",
       "...      ...       ...                ...                    ...   \n",
       "3305    york      14.0                 12                  707.0   \n",
       "3306    york      16.0                  7                 1090.0   \n",
       "3307    york      16.0                  7                 1090.0   \n",
       "3308    york      16.0                  7                 1090.0   \n",
       "3309    york      16.0                  7                 1090.0   \n",
       "\n",
       "      median_cleaning_fee  median_service_fee  median_total_price  \\\n",
       "0                    50.0                29.0               234.0   \n",
       "1                   175.0                74.0               529.0   \n",
       "2                   150.0                64.0               514.0   \n",
       "3                     NaN                20.0                 NaN   \n",
       "4                     NaN                20.0                 NaN   \n",
       "...                   ...                 ...                 ...   \n",
       "3305                650.0               215.0              1572.0   \n",
       "3306                485.0               241.5              1816.5   \n",
       "3307                485.0               241.5              1816.5   \n",
       "3308                485.0               241.5              1816.5   \n",
       "3309                485.0               241.5              1816.5   \n",
       "\n",
       "      occupancy_rate    city state_id  population  2022-04-30  avg_30_yr_mort  \\\n",
       "0           0.317260   acton       CA        7054    885107.0         4751.45   \n",
       "1           0.071233   acton       CA        7054    885107.0         4751.45   \n",
       "2           0.312329   acton       CA        7054    885107.0         4751.45   \n",
       "3           0.534247  albany       NY      590823    259080.0         1390.80   \n",
       "4           0.534247  albany       GA       89323    109595.0          588.33   \n",
       "...              ...     ...      ...         ...         ...             ...   \n",
       "3305        0.789041    york       AL        2448     47528.0          255.14   \n",
       "3306        0.568219    york       PA      236818    229906.0         1234.19   \n",
       "3307        0.568219    york       SC        8287    318429.0         1709.40   \n",
       "3308        0.568219    york       NE        7810    165233.0          887.01   \n",
       "3309        0.568219    york       AL        2448     47528.0          255.14   \n",
       "\n",
       "      median_ROI  \n",
       "0      -0.685201  \n",
       "1      -0.872320  \n",
       "2      -0.400183  \n",
       "3       0.390387  \n",
       "4       2.286846  \n",
       "...          ...  \n",
       "3305   65.504664  \n",
       "3306   14.264127  \n",
       "3307   10.020729  \n",
       "3308   20.238581  \n",
       "3309   72.837240  \n",
       "\n",
       "[3310 rows x 14 columns]"
      ]
     },
     "execution_count": 62,
     "metadata": {},
     "output_type": "execute_result"
    }
   ],
   "source": [
    "c"
   ]
  },
  {
   "cell_type": "code",
   "execution_count": 66,
   "metadata": {},
   "outputs": [],
   "source": [
    "lists_town_home_price_occ_guest_nc = lists_town_home_price_occ_guest[(lists_town_home_price_occ_guest['state_id'] == 'NC')]\n",
    "\n",
    "\n",
    "num_lists_pivot = lists_town_home_price_occ_guest_nc.pivot(index='town', columns='guest_no', values='num_lists_in_town')"
   ]
  },
  {
   "cell_type": "code",
   "execution_count": 1,
   "metadata": {},
   "outputs": [
    {
     "name": "stderr",
     "output_type": "stream",
     "text": [
      "C:\\Users\\mattg\\AppData\\Local\\Temp\\ipykernel_15692\\2909838520.py:2: UserWarning: \n",
      "The dash_html_components package is deprecated. Please replace\n",
      "`import dash_html_components as html` with `from dash import html`\n",
      "  import dash_html_components as html\n",
      "C:\\Users\\mattg\\AppData\\Local\\Temp\\ipykernel_15692\\2909838520.py:4: UserWarning: \n",
      "The dash_core_components package is deprecated. Please replace\n",
      "`import dash_core_components as dcc` with `from dash import dcc`\n",
      "  import dash_core_components as dcc\n"
     ]
    },
    {
     "name": "stdout",
     "output_type": "stream",
     "text": [
      "Dash is running on http://127.0.0.1:8050/\n",
      "\n",
      " * Serving Flask app '__main__' (lazy loading)\n",
      " * Environment: production\n",
      "\u001b[31m   WARNING: This is a development server. Do not use it in a production deployment.\u001b[0m\n",
      "\u001b[2m   Use a production WSGI server instead.\u001b[0m\n",
      " * Debug mode: off\n"
     ]
    },
    {
     "name": "stderr",
     "output_type": "stream",
     "text": [
      " * Running on http://127.0.0.1:8050 (Press CTRL+C to quit)\n",
      "127.0.0.1 - - [22/May/2022 18:12:25] \"GET / HTTP/1.1\" 200 -\n",
      "127.0.0.1 - - [22/May/2022 18:12:25] \"GET /_dash-layout HTTP/1.1\" 200 -\n",
      "127.0.0.1 - - [22/May/2022 18:12:25] \"GET /_dash-dependencies HTTP/1.1\" 200 -\n",
      "127.0.0.1 - - [22/May/2022 18:12:25] \"GET /_favicon.ico?v=2.4.1 HTTP/1.1\" 200 -\n",
      "127.0.0.1 - - [22/May/2022 18:12:25] \"GET /_dash-component-suites/dash/dcc/async-dropdown.js HTTP/1.1\" 304 -\n",
      "127.0.0.1 - - [22/May/2022 18:12:25] \"GET /_dash-component-suites/dash/dcc/async-graph.js HTTP/1.1\" 304 -\n",
      "127.0.0.1 - - [22/May/2022 18:12:25] \"GET /_dash-component-suites/dash/dcc/async-plotlyjs.js HTTP/1.1\" 304 -\n"
     ]
    },
    {
     "name": "stdout",
     "output_type": "stream",
     "text": [
      "GOOG\n",
      "Exception on /_dash-update-component [POST]\n",
      "Traceback (most recent call last):\n",
      "  File \"c:\\Users\\mattg\\AppData\\Local\\Programs\\Python\\Python310\\lib\\site-packages\\flask\\app.py\", line 2077, in wsgi_app\n",
      "    response = self.full_dispatch_request()\n",
      "  File \"c:\\Users\\mattg\\AppData\\Local\\Programs\\Python\\Python310\\lib\\site-packages\\flask\\app.py\", line 1525, in full_dispatch_request\n",
      "    rv = self.handle_user_exception(e)\n",
      "  File \"c:\\Users\\mattg\\AppData\\Local\\Programs\\Python\\Python310\\lib\\site-packages\\flask\\app.py\", line 1523, in full_dispatch_request\n",
      "    rv = self.dispatch_request()\n",
      "  File \"c:\\Users\\mattg\\AppData\\Local\\Programs\\Python\\Python310\\lib\\site-packages\\flask\\app.py\", line 1509, in dispatch_request\n",
      "    return self.ensure_sync(self.view_functions[rule.endpoint])(**req.view_args)\n",
      "  File \"c:\\Users\\mattg\\AppData\\Local\\Programs\\Python\\Python310\\lib\\site-packages\\dash\\dash.py\", line 1372, in dispatch\n",
      "    response.set_data(func(*args, outputs_list=outputs_list))\n",
      "  File \"c:\\Users\\mattg\\AppData\\Local\\Programs\\Python\\Python310\\lib\\site-packages\\dash\\_callback.py\", line 151, in add_context\n",
      "    output_value = func(*func_args, **func_kwargs)  # %% callback invoked %%\n",
      "  File \"C:\\Users\\mattg\\AppData\\Local\\Temp\\ipykernel_15692\\2909838520.py\", line 33, in graph_update\n",
      "    fig = go.Figure([go.Bar(x = df['date'], y = df['{}'.format(dropdown_value)],\\\n",
      "  File \"c:\\Users\\mattg\\AppData\\Local\\Programs\\Python\\Python310\\lib\\site-packages\\plotly\\graph_objs\\_bar.py\", line 3252, in __init__\n",
      "    self._process_kwargs(**dict(arg, **kwargs))\n",
      "  File \"c:\\Users\\mattg\\AppData\\Local\\Programs\\Python\\Python310\\lib\\site-packages\\plotly\\basedatatypes.py\", line 4354, in _process_kwargs\n",
      "    raise err\n",
      "ValueError: Invalid property specified for object of type plotly.graph_objs.Bar: 'line'\n",
      "\n",
      "Did you mean \"base\"?\n",
      "\n",
      "    Valid properties:\n",
      "        alignmentgroup\n",
      "            Set several traces linked to the same position axis or\n",
      "            matching axes to the same alignmentgroup. This controls\n",
      "            whether bars compute their positional range dependently\n",
      "            or independently.\n",
      "        base\n",
      "            Sets where the bar base is drawn (in position axis\n",
      "            units). In \"stack\" or \"relative\" barmode, traces that\n",
      "            set \"base\" will be excluded and drawn in \"overlay\" mode\n",
      "            instead.\n",
      "        basesrc\n",
      "            Sets the source reference on Chart Studio Cloud for\n",
      "            `base`.\n",
      "        cliponaxis\n",
      "            Determines whether the text nodes are clipped about the\n",
      "            subplot axes. To show the text nodes above axis lines\n",
      "            and tick labels, make sure to set `xaxis.layer` and\n",
      "            `yaxis.layer` to *below traces*.\n",
      "        constraintext\n",
      "            Constrain the size of text inside or outside a bar to\n",
      "            be no larger than the bar itself.\n",
      "        customdata\n",
      "            Assigns extra data each datum. This may be useful when\n",
      "            listening to hover, click and selection events. Note\n",
      "            that, \"scatter\" traces also appends customdata items in\n",
      "            the markers DOM elements\n",
      "        customdatasrc\n",
      "            Sets the source reference on Chart Studio Cloud for\n",
      "            `customdata`.\n",
      "        dx\n",
      "            Sets the x coordinate step. See `x0` for more info.\n",
      "        dy\n",
      "            Sets the y coordinate step. See `y0` for more info.\n",
      "        error_x\n",
      "            :class:`plotly.graph_objects.bar.ErrorX` instance or\n",
      "            dict with compatible properties\n",
      "        error_y\n",
      "            :class:`plotly.graph_objects.bar.ErrorY` instance or\n",
      "            dict with compatible properties\n",
      "        hoverinfo\n",
      "            Determines which trace information appear on hover. If\n",
      "            `none` or `skip` are set, no information is displayed\n",
      "            upon hovering. But, if `none` is set, click and hover\n",
      "            events are still fired.\n",
      "        hoverinfosrc\n",
      "            Sets the source reference on Chart Studio Cloud for\n",
      "            `hoverinfo`.\n",
      "        hoverlabel\n",
      "            :class:`plotly.graph_objects.bar.Hoverlabel` instance\n",
      "            or dict with compatible properties\n",
      "        hovertemplate\n",
      "            Template string used for rendering the information that\n",
      "            appear on hover box. Note that this will override\n",
      "            `hoverinfo`. Variables are inserted using %{variable},\n",
      "            for example \"y: %{y}\" as well as %{xother}, {%_xother},\n",
      "            {%_xother_}, {%xother_}. When showing info for several\n",
      "            points, \"xother\" will be added to those with different\n",
      "            x positions from the first point. An underscore before\n",
      "            or after \"(x|y)other\" will add a space on that side,\n",
      "            only when this field is shown. Numbers are formatted\n",
      "            using d3-format's syntax %{variable:d3-format}, for\n",
      "            example \"Price: %{y:$.2f}\".\n",
      "            https://github.com/d3/d3-format/tree/v1.4.5#d3-format\n",
      "            for details on the formatting syntax. Dates are\n",
      "            formatted using d3-time-format's syntax\n",
      "            %{variable|d3-time-format}, for example \"Day:\n",
      "            %{2019-01-01|%A}\". https://github.com/d3/d3-time-\n",
      "            format/tree/v2.2.3#locale_format for details on the\n",
      "            date formatting syntax. The variables available in\n",
      "            `hovertemplate` are the ones emitted as event data\n",
      "            described at this link\n",
      "            https://plotly.com/javascript/plotlyjs-events/#event-\n",
      "            data. Additionally, every attributes that can be\n",
      "            specified per-point (the ones that are `arrayOk: true`)\n",
      "            are available. variables `value` and `label`. Anything\n",
      "            contained in tag `<extra>` is displayed in the\n",
      "            secondary box, for example\n",
      "            \"<extra>{fullData.name}</extra>\". To hide the secondary\n",
      "            box completely, use an empty tag `<extra></extra>`.\n",
      "        hovertemplatesrc\n",
      "            Sets the source reference on Chart Studio Cloud for\n",
      "            `hovertemplate`.\n",
      "        hovertext\n",
      "            Sets hover text elements associated with each (x,y)\n",
      "            pair. If a single string, the same string appears over\n",
      "            all the data points. If an array of string, the items\n",
      "            are mapped in order to the this trace's (x,y)\n",
      "            coordinates. To be seen, trace `hoverinfo` must contain\n",
      "            a \"text\" flag.\n",
      "        hovertextsrc\n",
      "            Sets the source reference on Chart Studio Cloud for\n",
      "            `hovertext`.\n",
      "        ids\n",
      "            Assigns id labels to each datum. These ids for object\n",
      "            constancy of data points during animation. Should be an\n",
      "            array of strings, not numbers or any other type.\n",
      "        idssrc\n",
      "            Sets the source reference on Chart Studio Cloud for\n",
      "            `ids`.\n",
      "        insidetextanchor\n",
      "            Determines if texts are kept at center or start/end\n",
      "            points in `textposition` \"inside\" mode.\n",
      "        insidetextfont\n",
      "            Sets the font used for `text` lying inside the bar.\n",
      "        legendgroup\n",
      "            Sets the legend group for this trace. Traces part of\n",
      "            the same legend group hide/show at the same time when\n",
      "            toggling legend items.\n",
      "        legendgrouptitle\n",
      "            :class:`plotly.graph_objects.bar.Legendgrouptitle`\n",
      "            instance or dict with compatible properties\n",
      "        legendrank\n",
      "            Sets the legend rank for this trace. Items and groups\n",
      "            with smaller ranks are presented on top/left side while\n",
      "            with `*reversed* `legend.traceorder` they are on\n",
      "            bottom/right side. The default legendrank is 1000, so\n",
      "            that you can use ranks less than 1000 to place certain\n",
      "            items before all unranked items, and ranks greater than\n",
      "            1000 to go after all unranked items.\n",
      "        marker\n",
      "            :class:`plotly.graph_objects.bar.Marker` instance or\n",
      "            dict with compatible properties\n",
      "        meta\n",
      "            Assigns extra meta information associated with this\n",
      "            trace that can be used in various text attributes.\n",
      "            Attributes such as trace `name`, graph, axis and\n",
      "            colorbar `title.text`, annotation `text`\n",
      "            `rangeselector`, `updatemenues` and `sliders` `label`\n",
      "            text all support `meta`. To access the trace `meta`\n",
      "            values in an attribute in the same trace, simply use\n",
      "            `%{meta[i]}` where `i` is the index or key of the\n",
      "            `meta` item in question. To access trace `meta` in\n",
      "            layout attributes, use `%{data[n[.meta[i]}` where `i`\n",
      "            is the index or key of the `meta` and `n` is the trace\n",
      "            index.\n",
      "        metasrc\n",
      "            Sets the source reference on Chart Studio Cloud for\n",
      "            `meta`.\n",
      "        name\n",
      "            Sets the trace name. The trace name appear as the\n",
      "            legend item and on hover.\n",
      "        offset\n",
      "            Shifts the position where the bar is drawn (in position\n",
      "            axis units). In \"group\" barmode, traces that set\n",
      "            \"offset\" will be excluded and drawn in \"overlay\" mode\n",
      "            instead.\n",
      "        offsetgroup\n",
      "            Set several traces linked to the same position axis or\n",
      "            matching axes to the same offsetgroup where bars of the\n",
      "            same position coordinate will line up.\n",
      "        offsetsrc\n",
      "            Sets the source reference on Chart Studio Cloud for\n",
      "            `offset`.\n",
      "        opacity\n",
      "            Sets the opacity of the trace.\n",
      "        orientation\n",
      "            Sets the orientation of the bars. With \"v\" (\"h\"), the\n",
      "            value of the each bar spans along the vertical\n",
      "            (horizontal).\n",
      "        outsidetextfont\n",
      "            Sets the font used for `text` lying outside the bar.\n",
      "        selected\n",
      "            :class:`plotly.graph_objects.bar.Selected` instance or\n",
      "            dict with compatible properties\n",
      "        selectedpoints\n",
      "            Array containing integer indices of selected points.\n",
      "            Has an effect only for traces that support selections.\n",
      "            Note that an empty array means an empty selection where\n",
      "            the `unselected` are turned on for all points, whereas,\n",
      "            any other non-array values means no selection all where\n",
      "            the `selected` and `unselected` styles have no effect.\n",
      "        showlegend\n",
      "            Determines whether or not an item corresponding to this\n",
      "            trace is shown in the legend.\n",
      "        stream\n",
      "            :class:`plotly.graph_objects.bar.Stream` instance or\n",
      "            dict with compatible properties\n",
      "        text\n",
      "            Sets text elements associated with each (x,y) pair. If\n",
      "            a single string, the same string appears over all the\n",
      "            data points. If an array of string, the items are\n",
      "            mapped in order to the this trace's (x,y) coordinates.\n",
      "            If trace `hoverinfo` contains a \"text\" flag and\n",
      "            \"hovertext\" is not set, these elements will be seen in\n",
      "            the hover labels.\n",
      "        textangle\n",
      "            Sets the angle of the tick labels with respect to the\n",
      "            bar. For example, a `tickangle` of -90 draws the tick\n",
      "            labels vertically. With \"auto\" the texts may\n",
      "            automatically be rotated to fit with the maximum size\n",
      "            in bars.\n",
      "        textfont\n",
      "            Sets the font used for `text`.\n",
      "        textposition\n",
      "            Specifies the location of the `text`. \"inside\"\n",
      "            positions `text` inside, next to the bar end (rotated\n",
      "            and scaled if needed). \"outside\" positions `text`\n",
      "            outside, next to the bar end (scaled if needed), unless\n",
      "            there is another bar stacked on this one, then the text\n",
      "            gets pushed inside. \"auto\" tries to position `text`\n",
      "            inside the bar, but if the bar is too small and no bar\n",
      "            is stacked on this one the text is moved outside. If\n",
      "            \"none\", no text appears.\n",
      "        textpositionsrc\n",
      "            Sets the source reference on Chart Studio Cloud for\n",
      "            `textposition`.\n",
      "        textsrc\n",
      "            Sets the source reference on Chart Studio Cloud for\n",
      "            `text`.\n",
      "        texttemplate\n",
      "            Template string used for rendering the information text\n",
      "            that appear on points. Note that this will override\n",
      "            `textinfo`. Variables are inserted using %{variable},\n",
      "            for example \"y: %{y}\". Numbers are formatted using\n",
      "            d3-format's syntax %{variable:d3-format}, for example\n",
      "            \"Price: %{y:$.2f}\".\n",
      "            https://github.com/d3/d3-format/tree/v1.4.5#d3-format\n",
      "            for details on the formatting syntax. Dates are\n",
      "            formatted using d3-time-format's syntax\n",
      "            %{variable|d3-time-format}, for example \"Day:\n",
      "            %{2019-01-01|%A}\". https://github.com/d3/d3-time-\n",
      "            format/tree/v2.2.3#locale_format for details on the\n",
      "            date formatting syntax. Every attributes that can be\n",
      "            specified per-point (the ones that are `arrayOk: true`)\n",
      "            are available. variables `value` and `label`.\n",
      "        texttemplatesrc\n",
      "            Sets the source reference on Chart Studio Cloud for\n",
      "            `texttemplate`.\n",
      "        uid\n",
      "            Assign an id to this trace, Use this to provide object\n",
      "            constancy between traces during animations and\n",
      "            transitions.\n",
      "        uirevision\n",
      "            Controls persistence of some user-driven changes to the\n",
      "            trace: `constraintrange` in `parcoords` traces, as well\n",
      "            as some `editable: true` modifications such as `name`\n",
      "            and `colorbar.title`. Defaults to `layout.uirevision`.\n",
      "            Note that other user-driven trace attribute changes are\n",
      "            controlled by `layout` attributes: `trace.visible` is\n",
      "            controlled by `layout.legend.uirevision`,\n",
      "            `selectedpoints` is controlled by\n",
      "            `layout.selectionrevision`, and `colorbar.(x|y)`\n",
      "            (accessible with `config: {editable: true}`) is\n",
      "            controlled by `layout.editrevision`. Trace changes are\n",
      "            tracked by `uid`, which only falls back on trace index\n",
      "            if no `uid` is provided. So if your app can add/remove\n",
      "            traces before the end of the `data` array, such that\n",
      "            the same trace has a different index, you can still\n",
      "            preserve user-driven changes if you give each trace a\n",
      "            `uid` that stays with it as it moves.\n",
      "        unselected\n",
      "            :class:`plotly.graph_objects.bar.Unselected` instance\n",
      "            or dict with compatible properties\n",
      "        visible\n",
      "            Determines whether or not this trace is visible. If\n",
      "            \"legendonly\", the trace is not drawn, but can appear as\n",
      "            a legend item (provided that the legend itself is\n",
      "            visible).\n",
      "        width\n",
      "            Sets the bar width (in position axis units).\n",
      "        widthsrc\n",
      "            Sets the source reference on Chart Studio Cloud for\n",
      "            `width`.\n",
      "        x\n",
      "            Sets the x coordinates.\n",
      "        x0\n",
      "            Alternate to `x`. Builds a linear space of x\n",
      "            coordinates. Use with `dx` where `x0` is the starting\n",
      "            coordinate and `dx` the step.\n",
      "        xaxis\n",
      "            Sets a reference between this trace's x coordinates and\n",
      "            a 2D cartesian x axis. If \"x\" (the default value), the\n",
      "            x coordinates refer to `layout.xaxis`. If \"x2\", the x\n",
      "            coordinates refer to `layout.xaxis2`, and so on.\n",
      "        xcalendar\n",
      "            Sets the calendar system to use with `x` date data.\n",
      "        xhoverformat\n",
      "            Sets the hover text formatting rulefor `x`  using d3\n",
      "            formatting mini-languages which are very similar to\n",
      "            those in Python. For numbers, see:\n",
      "            https://github.com/d3/d3-format/tree/v1.4.5#d3-format.\n",
      "            And for dates see: https://github.com/d3/d3-time-\n",
      "            format/tree/v2.2.3#locale_format. We add two items to\n",
      "            d3's date formatter: \"%h\" for half of the year as a\n",
      "            decimal number as well as \"%{n}f\" for fractional\n",
      "            seconds with n digits. For example, *2016-10-13\n",
      "            09:15:23.456* with tickformat \"%H~%M~%S.%2f\" would\n",
      "            display *09~15~23.46*By default the values are\n",
      "            formatted using `xaxis.hoverformat`.\n",
      "        xperiod\n",
      "            Only relevant when the axis `type` is \"date\". Sets the\n",
      "            period positioning in milliseconds or \"M<n>\" on the x\n",
      "            axis. Special values in the form of \"M<n>\" could be\n",
      "            used to declare the number of months. In this case `n`\n",
      "            must be a positive integer.\n",
      "        xperiod0\n",
      "            Only relevant when the axis `type` is \"date\". Sets the\n",
      "            base for period positioning in milliseconds or date\n",
      "            string on the x0 axis. When `x0period` is round number\n",
      "            of weeks, the `x0period0` by default would be on a\n",
      "            Sunday i.e. 2000-01-02, otherwise it would be at\n",
      "            2000-01-01.\n",
      "        xperiodalignment\n",
      "            Only relevant when the axis `type` is \"date\". Sets the\n",
      "            alignment of data points on the x axis.\n",
      "        xsrc\n",
      "            Sets the source reference on Chart Studio Cloud for\n",
      "            `x`.\n",
      "        y\n",
      "            Sets the y coordinates.\n",
      "        y0\n",
      "            Alternate to `y`. Builds a linear space of y\n",
      "            coordinates. Use with `dy` where `y0` is the starting\n",
      "            coordinate and `dy` the step.\n",
      "        yaxis\n",
      "            Sets a reference between this trace's y coordinates and\n",
      "            a 2D cartesian y axis. If \"y\" (the default value), the\n",
      "            y coordinates refer to `layout.yaxis`. If \"y2\", the y\n",
      "            coordinates refer to `layout.yaxis2`, and so on.\n",
      "        ycalendar\n",
      "            Sets the calendar system to use with `y` date data.\n",
      "        yhoverformat\n",
      "            Sets the hover text formatting rulefor `y`  using d3\n",
      "            formatting mini-languages which are very similar to\n",
      "            those in Python. For numbers, see:\n",
      "            https://github.com/d3/d3-format/tree/v1.4.5#d3-format.\n",
      "            And for dates see: https://github.com/d3/d3-time-\n",
      "            format/tree/v2.2.3#locale_format. We add two items to\n",
      "            d3's date formatter: \"%h\" for half of the year as a\n",
      "            decimal number as well as \"%{n}f\" for fractional\n",
      "            seconds with n digits. For example, *2016-10-13\n",
      "            09:15:23.456* with tickformat \"%H~%M~%S.%2f\" would\n",
      "            display *09~15~23.46*By default the values are\n",
      "            formatted using `yaxis.hoverformat`.\n",
      "        yperiod\n",
      "            Only relevant when the axis `type` is \"date\". Sets the\n",
      "            period positioning in milliseconds or \"M<n>\" on the y\n",
      "            axis. Special values in the form of \"M<n>\" could be\n",
      "            used to declare the number of months. In this case `n`\n",
      "            must be a positive integer.\n",
      "        yperiod0\n",
      "            Only relevant when the axis `type` is \"date\". Sets the\n",
      "            base for period positioning in milliseconds or date\n",
      "            string on the y0 axis. When `y0period` is round number\n",
      "            of weeks, the `y0period0` by default would be on a\n",
      "            Sunday i.e. 2000-01-02, otherwise it would be at\n",
      "            2000-01-01.\n",
      "        yperiodalignment\n",
      "            Only relevant when the axis `type` is \"date\". Sets the\n",
      "            alignment of data points on the y axis.\n",
      "        ysrc\n",
      "            Sets the source reference on Chart Studio Cloud for\n",
      "            `y`.\n",
      "        \n",
      "Did you mean \"base\"?\n",
      "\n",
      "Bad property path:\n",
      "line\n",
      "^^^^\n"
     ]
    },
    {
     "name": "stderr",
     "output_type": "stream",
     "text": [
      "127.0.0.1 - - [22/May/2022 18:12:25] \"POST /_dash-update-component HTTP/1.1\" 500 -\n",
      "127.0.0.1 - - [22/May/2022 18:12:26] \"GET /_favicon.ico?v=2.4.1 HTTP/1.1\" 200 -\n"
     ]
    },
    {
     "name": "stdout",
     "output_type": "stream",
     "text": [
      "AAPL\n",
      "Exception on /_dash-update-component [POST]\n",
      "Traceback (most recent call last):\n",
      "  File \"c:\\Users\\mattg\\AppData\\Local\\Programs\\Python\\Python310\\lib\\site-packages\\flask\\app.py\", line 2077, in wsgi_app\n",
      "    response = self.full_dispatch_request()\n",
      "  File \"c:\\Users\\mattg\\AppData\\Local\\Programs\\Python\\Python310\\lib\\site-packages\\flask\\app.py\", line 1525, in full_dispatch_request\n",
      "    rv = self.handle_user_exception(e)\n",
      "  File \"c:\\Users\\mattg\\AppData\\Local\\Programs\\Python\\Python310\\lib\\site-packages\\flask\\app.py\", line 1523, in full_dispatch_request\n",
      "    rv = self.dispatch_request()\n",
      "  File \"c:\\Users\\mattg\\AppData\\Local\\Programs\\Python\\Python310\\lib\\site-packages\\flask\\app.py\", line 1509, in dispatch_request\n",
      "    return self.ensure_sync(self.view_functions[rule.endpoint])(**req.view_args)\n",
      "  File \"c:\\Users\\mattg\\AppData\\Local\\Programs\\Python\\Python310\\lib\\site-packages\\dash\\dash.py\", line 1372, in dispatch\n",
      "    response.set_data(func(*args, outputs_list=outputs_list))\n",
      "  File \"c:\\Users\\mattg\\AppData\\Local\\Programs\\Python\\Python310\\lib\\site-packages\\dash\\_callback.py\", line 151, in add_context\n",
      "    output_value = func(*func_args, **func_kwargs)  # %% callback invoked %%\n",
      "  File \"C:\\Users\\mattg\\AppData\\Local\\Temp\\ipykernel_15692\\2909838520.py\", line 33, in graph_update\n",
      "    fig = go.Figure([go.Bar(x = df['date'], y = df['{}'.format(dropdown_value)],\\\n",
      "  File \"c:\\Users\\mattg\\AppData\\Local\\Programs\\Python\\Python310\\lib\\site-packages\\plotly\\graph_objs\\_bar.py\", line 3252, in __init__\n",
      "    self._process_kwargs(**dict(arg, **kwargs))\n",
      "  File \"c:\\Users\\mattg\\AppData\\Local\\Programs\\Python\\Python310\\lib\\site-packages\\plotly\\basedatatypes.py\", line 4354, in _process_kwargs\n",
      "    raise err\n",
      "ValueError: Invalid property specified for object of type plotly.graph_objs.Bar: 'line'\n",
      "\n",
      "Did you mean \"base\"?\n",
      "\n",
      "    Valid properties:\n",
      "        alignmentgroup\n",
      "            Set several traces linked to the same position axis or\n",
      "            matching axes to the same alignmentgroup. This controls\n",
      "            whether bars compute their positional range dependently\n",
      "            or independently.\n",
      "        base\n",
      "            Sets where the bar base is drawn (in position axis\n",
      "            units). In \"stack\" or \"relative\" barmode, traces that\n",
      "            set \"base\" will be excluded and drawn in \"overlay\" mode\n",
      "            instead.\n",
      "        basesrc\n",
      "            Sets the source reference on Chart Studio Cloud for\n",
      "            `base`.\n",
      "        cliponaxis\n",
      "            Determines whether the text nodes are clipped about the\n",
      "            subplot axes. To show the text nodes above axis lines\n",
      "            and tick labels, make sure to set `xaxis.layer` and\n",
      "            `yaxis.layer` to *below traces*.\n",
      "        constraintext\n",
      "            Constrain the size of text inside or outside a bar to\n",
      "            be no larger than the bar itself.\n",
      "        customdata\n",
      "            Assigns extra data each datum. This may be useful when\n",
      "            listening to hover, click and selection events. Note\n",
      "            that, \"scatter\" traces also appends customdata items in\n",
      "            the markers DOM elements\n",
      "        customdatasrc\n",
      "            Sets the source reference on Chart Studio Cloud for\n",
      "            `customdata`.\n",
      "        dx\n",
      "            Sets the x coordinate step. See `x0` for more info.\n",
      "        dy\n",
      "            Sets the y coordinate step. See `y0` for more info.\n",
      "        error_x\n",
      "            :class:`plotly.graph_objects.bar.ErrorX` instance or\n",
      "            dict with compatible properties\n",
      "        error_y\n",
      "            :class:`plotly.graph_objects.bar.ErrorY` instance or\n",
      "            dict with compatible properties\n",
      "        hoverinfo\n",
      "            Determines which trace information appear on hover. If\n",
      "            `none` or `skip` are set, no information is displayed\n",
      "            upon hovering. But, if `none` is set, click and hover\n",
      "            events are still fired.\n",
      "        hoverinfosrc\n",
      "            Sets the source reference on Chart Studio Cloud for\n",
      "            `hoverinfo`.\n",
      "        hoverlabel\n",
      "            :class:`plotly.graph_objects.bar.Hoverlabel` instance\n",
      "            or dict with compatible properties\n",
      "        hovertemplate\n",
      "            Template string used for rendering the information that\n",
      "            appear on hover box. Note that this will override\n",
      "            `hoverinfo`. Variables are inserted using %{variable},\n",
      "            for example \"y: %{y}\" as well as %{xother}, {%_xother},\n",
      "            {%_xother_}, {%xother_}. When showing info for several\n",
      "            points, \"xother\" will be added to those with different\n",
      "            x positions from the first point. An underscore before\n",
      "            or after \"(x|y)other\" will add a space on that side,\n",
      "            only when this field is shown. Numbers are formatted\n",
      "            using d3-format's syntax %{variable:d3-format}, for\n",
      "            example \"Price: %{y:$.2f}\".\n",
      "            https://github.com/d3/d3-format/tree/v1.4.5#d3-format\n",
      "            for details on the formatting syntax. Dates are\n",
      "            formatted using d3-time-format's syntax\n",
      "            %{variable|d3-time-format}, for example \"Day:\n",
      "            %{2019-01-01|%A}\". https://github.com/d3/d3-time-\n",
      "            format/tree/v2.2.3#locale_format for details on the\n",
      "            date formatting syntax. The variables available in\n",
      "            `hovertemplate` are the ones emitted as event data\n",
      "            described at this link\n",
      "            https://plotly.com/javascript/plotlyjs-events/#event-\n",
      "            data. Additionally, every attributes that can be\n",
      "            specified per-point (the ones that are `arrayOk: true`)\n",
      "            are available. variables `value` and `label`. Anything\n",
      "            contained in tag `<extra>` is displayed in the\n",
      "            secondary box, for example\n",
      "            \"<extra>{fullData.name}</extra>\". To hide the secondary\n",
      "            box completely, use an empty tag `<extra></extra>`.\n",
      "        hovertemplatesrc\n",
      "            Sets the source reference on Chart Studio Cloud for\n",
      "            `hovertemplate`.\n",
      "        hovertext\n",
      "            Sets hover text elements associated with each (x,y)\n",
      "            pair. If a single string, the same string appears over\n",
      "            all the data points. If an array of string, the items\n",
      "            are mapped in order to the this trace's (x,y)\n",
      "            coordinates. To be seen, trace `hoverinfo` must contain\n",
      "            a \"text\" flag.\n",
      "        hovertextsrc\n",
      "            Sets the source reference on Chart Studio Cloud for\n",
      "            `hovertext`.\n",
      "        ids\n",
      "            Assigns id labels to each datum. These ids for object\n",
      "            constancy of data points during animation. Should be an\n",
      "            array of strings, not numbers or any other type.\n",
      "        idssrc\n",
      "            Sets the source reference on Chart Studio Cloud for\n",
      "            `ids`.\n",
      "        insidetextanchor\n",
      "            Determines if texts are kept at center or start/end\n",
      "            points in `textposition` \"inside\" mode.\n",
      "        insidetextfont\n",
      "            Sets the font used for `text` lying inside the bar.\n",
      "        legendgroup\n",
      "            Sets the legend group for this trace. Traces part of\n",
      "            the same legend group hide/show at the same time when\n",
      "            toggling legend items.\n",
      "        legendgrouptitle\n",
      "            :class:`plotly.graph_objects.bar.Legendgrouptitle`\n",
      "            instance or dict with compatible properties\n",
      "        legendrank\n",
      "            Sets the legend rank for this trace. Items and groups\n",
      "            with smaller ranks are presented on top/left side while\n",
      "            with `*reversed* `legend.traceorder` they are on\n",
      "            bottom/right side. The default legendrank is 1000, so\n",
      "            that you can use ranks less than 1000 to place certain\n",
      "            items before all unranked items, and ranks greater than\n",
      "            1000 to go after all unranked items.\n",
      "        marker\n",
      "            :class:`plotly.graph_objects.bar.Marker` instance or\n",
      "            dict with compatible properties\n",
      "        meta\n",
      "            Assigns extra meta information associated with this\n",
      "            trace that can be used in various text attributes.\n",
      "            Attributes such as trace `name`, graph, axis and\n",
      "            colorbar `title.text`, annotation `text`\n",
      "            `rangeselector`, `updatemenues` and `sliders` `label`\n",
      "            text all support `meta`. To access the trace `meta`\n",
      "            values in an attribute in the same trace, simply use\n",
      "            `%{meta[i]}` where `i` is the index or key of the\n",
      "            `meta` item in question. To access trace `meta` in\n",
      "            layout attributes, use `%{data[n[.meta[i]}` where `i`\n",
      "            is the index or key of the `meta` and `n` is the trace\n",
      "            index.\n",
      "        metasrc\n",
      "            Sets the source reference on Chart Studio Cloud for\n",
      "            `meta`.\n",
      "        name\n",
      "            Sets the trace name. The trace name appear as the\n",
      "            legend item and on hover.\n",
      "        offset\n",
      "            Shifts the position where the bar is drawn (in position\n",
      "            axis units). In \"group\" barmode, traces that set\n",
      "            \"offset\" will be excluded and drawn in \"overlay\" mode\n",
      "            instead.\n",
      "        offsetgroup\n",
      "            Set several traces linked to the same position axis or\n",
      "            matching axes to the same offsetgroup where bars of the\n",
      "            same position coordinate will line up.\n",
      "        offsetsrc\n",
      "            Sets the source reference on Chart Studio Cloud for\n",
      "            `offset`.\n",
      "        opacity\n",
      "            Sets the opacity of the trace.\n",
      "        orientation\n",
      "            Sets the orientation of the bars. With \"v\" (\"h\"), the\n",
      "            value of the each bar spans along the vertical\n",
      "            (horizontal).\n",
      "        outsidetextfont\n",
      "            Sets the font used for `text` lying outside the bar.\n",
      "        selected\n",
      "            :class:`plotly.graph_objects.bar.Selected` instance or\n",
      "            dict with compatible properties\n",
      "        selectedpoints\n",
      "            Array containing integer indices of selected points.\n",
      "            Has an effect only for traces that support selections.\n",
      "            Note that an empty array means an empty selection where\n",
      "            the `unselected` are turned on for all points, whereas,\n",
      "            any other non-array values means no selection all where\n",
      "            the `selected` and `unselected` styles have no effect.\n",
      "        showlegend\n",
      "            Determines whether or not an item corresponding to this\n",
      "            trace is shown in the legend.\n",
      "        stream\n",
      "            :class:`plotly.graph_objects.bar.Stream` instance or\n",
      "            dict with compatible properties\n",
      "        text\n",
      "            Sets text elements associated with each (x,y) pair. If\n",
      "            a single string, the same string appears over all the\n",
      "            data points. If an array of string, the items are\n",
      "            mapped in order to the this trace's (x,y) coordinates.\n",
      "            If trace `hoverinfo` contains a \"text\" flag and\n",
      "            \"hovertext\" is not set, these elements will be seen in\n",
      "            the hover labels.\n",
      "        textangle\n",
      "            Sets the angle of the tick labels with respect to the\n",
      "            bar. For example, a `tickangle` of -90 draws the tick\n",
      "            labels vertically. With \"auto\" the texts may\n",
      "            automatically be rotated to fit with the maximum size\n",
      "            in bars.\n",
      "        textfont\n",
      "            Sets the font used for `text`.\n",
      "        textposition\n",
      "            Specifies the location of the `text`. \"inside\"\n",
      "            positions `text` inside, next to the bar end (rotated\n",
      "            and scaled if needed). \"outside\" positions `text`\n",
      "            outside, next to the bar end (scaled if needed), unless\n",
      "            there is another bar stacked on this one, then the text\n",
      "            gets pushed inside. \"auto\" tries to position `text`\n",
      "            inside the bar, but if the bar is too small and no bar\n",
      "            is stacked on this one the text is moved outside. If\n",
      "            \"none\", no text appears.\n",
      "        textpositionsrc\n",
      "            Sets the source reference on Chart Studio Cloud for\n",
      "            `textposition`.\n",
      "        textsrc\n",
      "            Sets the source reference on Chart Studio Cloud for\n",
      "            `text`.\n",
      "        texttemplate\n",
      "            Template string used for rendering the information text\n",
      "            that appear on points. Note that this will override\n",
      "            `textinfo`. Variables are inserted using %{variable},\n",
      "            for example \"y: %{y}\". Numbers are formatted using\n",
      "            d3-format's syntax %{variable:d3-format}, for example\n",
      "            \"Price: %{y:$.2f}\".\n",
      "            https://github.com/d3/d3-format/tree/v1.4.5#d3-format\n",
      "            for details on the formatting syntax. Dates are\n",
      "            formatted using d3-time-format's syntax\n",
      "            %{variable|d3-time-format}, for example \"Day:\n",
      "            %{2019-01-01|%A}\". https://github.com/d3/d3-time-\n",
      "            format/tree/v2.2.3#locale_format for details on the\n",
      "            date formatting syntax. Every attributes that can be\n",
      "            specified per-point (the ones that are `arrayOk: true`)\n",
      "            are available. variables `value` and `label`.\n",
      "        texttemplatesrc\n",
      "            Sets the source reference on Chart Studio Cloud for\n",
      "            `texttemplate`.\n",
      "        uid\n",
      "            Assign an id to this trace, Use this to provide object\n",
      "            constancy between traces during animations and\n",
      "            transitions.\n",
      "        uirevision\n",
      "            Controls persistence of some user-driven changes to the\n",
      "            trace: `constraintrange` in `parcoords` traces, as well\n",
      "            as some `editable: true` modifications such as `name`\n",
      "            and `colorbar.title`. Defaults to `layout.uirevision`.\n",
      "            Note that other user-driven trace attribute changes are\n",
      "            controlled by `layout` attributes: `trace.visible` is\n",
      "            controlled by `layout.legend.uirevision`,\n",
      "            `selectedpoints` is controlled by\n",
      "            `layout.selectionrevision`, and `colorbar.(x|y)`\n",
      "            (accessible with `config: {editable: true}`) is\n",
      "            controlled by `layout.editrevision`. Trace changes are\n",
      "            tracked by `uid`, which only falls back on trace index\n",
      "            if no `uid` is provided. So if your app can add/remove\n",
      "            traces before the end of the `data` array, such that\n",
      "            the same trace has a different index, you can still\n",
      "            preserve user-driven changes if you give each trace a\n",
      "            `uid` that stays with it as it moves.\n",
      "        unselected\n",
      "            :class:`plotly.graph_objects.bar.Unselected` instance\n",
      "            or dict with compatible properties\n",
      "        visible\n",
      "            Determines whether or not this trace is visible. If\n",
      "            \"legendonly\", the trace is not drawn, but can appear as\n",
      "            a legend item (provided that the legend itself is\n",
      "            visible).\n",
      "        width\n",
      "            Sets the bar width (in position axis units).\n",
      "        widthsrc\n",
      "            Sets the source reference on Chart Studio Cloud for\n",
      "            `width`.\n",
      "        x\n",
      "            Sets the x coordinates.\n",
      "        x0\n",
      "            Alternate to `x`. Builds a linear space of x\n",
      "            coordinates. Use with `dx` where `x0` is the starting\n",
      "            coordinate and `dx` the step.\n",
      "        xaxis\n",
      "            Sets a reference between this trace's x coordinates and\n",
      "            a 2D cartesian x axis. If \"x\" (the default value), the\n",
      "            x coordinates refer to `layout.xaxis`. If \"x2\", the x\n",
      "            coordinates refer to `layout.xaxis2`, and so on.\n",
      "        xcalendar\n",
      "            Sets the calendar system to use with `x` date data.\n",
      "        xhoverformat\n",
      "            Sets the hover text formatting rulefor `x`  using d3\n",
      "            formatting mini-languages which are very similar to\n",
      "            those in Python. For numbers, see:\n",
      "            https://github.com/d3/d3-format/tree/v1.4.5#d3-format.\n",
      "            And for dates see: https://github.com/d3/d3-time-\n",
      "            format/tree/v2.2.3#locale_format. We add two items to\n",
      "            d3's date formatter: \"%h\" for half of the year as a\n",
      "            decimal number as well as \"%{n}f\" for fractional\n",
      "            seconds with n digits. For example, *2016-10-13\n",
      "            09:15:23.456* with tickformat \"%H~%M~%S.%2f\" would\n",
      "            display *09~15~23.46*By default the values are\n",
      "            formatted using `xaxis.hoverformat`.\n",
      "        xperiod\n",
      "            Only relevant when the axis `type` is \"date\". Sets the\n",
      "            period positioning in milliseconds or \"M<n>\" on the x\n",
      "            axis. Special values in the form of \"M<n>\" could be\n",
      "            used to declare the number of months. In this case `n`\n",
      "            must be a positive integer.\n",
      "        xperiod0\n",
      "            Only relevant when the axis `type` is \"date\". Sets the\n",
      "            base for period positioning in milliseconds or date\n",
      "            string on the x0 axis. When `x0period` is round number\n",
      "            of weeks, the `x0period0` by default would be on a\n",
      "            Sunday i.e. 2000-01-02, otherwise it would be at\n",
      "            2000-01-01.\n",
      "        xperiodalignment\n",
      "            Only relevant when the axis `type` is \"date\". Sets the\n",
      "            alignment of data points on the x axis.\n",
      "        xsrc\n",
      "            Sets the source reference on Chart Studio Cloud for\n",
      "            `x`.\n",
      "        y\n",
      "            Sets the y coordinates.\n",
      "        y0\n",
      "            Alternate to `y`. Builds a linear space of y\n",
      "            coordinates. Use with `dy` where `y0` is the starting\n",
      "            coordinate and `dy` the step.\n",
      "        yaxis\n",
      "            Sets a reference between this trace's y coordinates and\n",
      "            a 2D cartesian y axis. If \"y\" (the default value), the\n",
      "            y coordinates refer to `layout.yaxis`. If \"y2\", the y\n",
      "            coordinates refer to `layout.yaxis2`, and so on.\n",
      "        ycalendar\n",
      "            Sets the calendar system to use with `y` date data.\n",
      "        yhoverformat\n",
      "            Sets the hover text formatting rulefor `y`  using d3\n",
      "            formatting mini-languages which are very similar to\n",
      "            those in Python. For numbers, see:\n",
      "            https://github.com/d3/d3-format/tree/v1.4.5#d3-format.\n",
      "            And for dates see: https://github.com/d3/d3-time-\n",
      "            format/tree/v2.2.3#locale_format. We add two items to\n",
      "            d3's date formatter: \"%h\" for half of the year as a\n",
      "            decimal number as well as \"%{n}f\" for fractional\n",
      "            seconds with n digits. For example, *2016-10-13\n",
      "            09:15:23.456* with tickformat \"%H~%M~%S.%2f\" would\n",
      "            display *09~15~23.46*By default the values are\n",
      "            formatted using `yaxis.hoverformat`.\n",
      "        yperiod\n",
      "            Only relevant when the axis `type` is \"date\". Sets the\n",
      "            period positioning in milliseconds or \"M<n>\" on the y\n",
      "            axis. Special values in the form of \"M<n>\" could be\n",
      "            used to declare the number of months. In this case `n`\n",
      "            must be a positive integer.\n",
      "        yperiod0\n",
      "            Only relevant when the axis `type` is \"date\". Sets the\n",
      "            base for period positioning in milliseconds or date\n",
      "            string on the y0 axis. When `y0period` is round number\n",
      "            of weeks, the `y0period0` by default would be on a\n",
      "            Sunday i.e. 2000-01-02, otherwise it would be at\n",
      "            2000-01-01.\n",
      "        yperiodalignment\n",
      "            Only relevant when the axis `type` is \"date\". Sets the\n",
      "            alignment of data points on the y axis.\n",
      "        ysrc\n",
      "            Sets the source reference on Chart Studio Cloud for\n",
      "            `y`.\n",
      "        \n",
      "Did you mean \"base\"?\n",
      "\n",
      "Bad property path:\n",
      "line\n",
      "^^^^\n"
     ]
    },
    {
     "name": "stderr",
     "output_type": "stream",
     "text": [
      "127.0.0.1 - - [22/May/2022 18:12:27] \"POST /_dash-update-component HTTP/1.1\" 500 -\n"
     ]
    }
   ],
   "source": [
    "import dash\n",
    "import dash_html_components as html\n",
    "import plotly.graph_objects as go\n",
    "import dash_core_components as dcc\n",
    "import plotly.express as px\n",
    "from dash.dependencies import Input, Output\n",
    "\n",
    "\n",
    "app = dash.Dash()\n",
    "\n",
    "df = px.data.stocks()\n",
    "\n",
    "\n",
    "app.layout = html.Div(id = 'parent', children = [\n",
    "    html.H1(id = 'H1', children = 'Styling using html components', style = {'textAlign':'center',\\\n",
    "                                            'marginTop':40,'marginBottom':40}),\n",
    "\n",
    "        dcc.Dropdown( id = 'dropdown',\n",
    "        options = [\n",
    "            {'label':'Google', 'value':'GOOG' },\n",
    "            {'label': 'Apple', 'value':'AAPL'},\n",
    "            {'label': 'Amazon', 'value':'AMZN'},\n",
    "            ],\n",
    "        value = 'GOOG'),\n",
    "        dcc.Graph(id = 'bar_plot')\n",
    "    ])\n",
    "    \n",
    "    \n",
    "@app.callback(Output(component_id='bar_plot', component_property= 'figure'),\n",
    "              [Input(component_id='dropdown', component_property= 'value')])\n",
    "def graph_update(dropdown_value):\n",
    "    print(dropdown_value)\n",
    "    fig = go.Figure([go.Bar(x = df['date'], y = df['{}'.format(dropdown_value)],\\\n",
    "                     line = dict(color = 'firebrick', width = 4))\n",
    "                     ])\n",
    "    \n",
    "    fig.update_layout(title = 'Stock prices over time',\n",
    "                      xaxis_title = 'Dates',\n",
    "                      yaxis_title = 'Prices'\n",
    "                      )\n",
    "    return fig  \n",
    "\n",
    "\n",
    "\n",
    "if __name__ == '__main__': \n",
    "    app.run_server()"
   ]
  },
  {
   "cell_type": "code",
   "execution_count": null,
   "metadata": {},
   "outputs": [],
   "source": [
    "        dcc.Dropdown( id = 'dropdown',\n",
    "        options = [\n",
    "            {'label':'Google', 'value':'GOOG' },\n",
    "            {'label': 'Apple', 'value':'AAPL'},\n",
    "            {'label': 'Amazon', 'value':'AMZN'},\n",
    "            ],\n",
    "        value = 'GOOG'),\n",
    "        dcc.Graph(id = 'bar_plot')\n",
    "    ]"
   ]
  },
  {
   "cell_type": "code",
   "execution_count": 2,
   "metadata": {},
   "outputs": [],
   "source": [
    "def list_options_for_dash(df_series):\n",
    "    options = []\n",
    "    for i in df_series:\n",
    "        town = {'label':i, 'value':i}\n",
    "        dict_copy = town.copy()\n",
    "        print(town)\n",
    "        options_df = options.append(dict_copy)\n",
    "        print(options_df)\n",
    "    return options"
   ]
  },
  {
   "cell_type": "code",
   "execution_count": 92,
   "metadata": {},
   "outputs": [
    {
     "name": "stdout",
     "output_type": "stream",
     "text": [
      "{'label': 'arapahoe', 'value': 'arapahoe'}\n",
      "None\n",
      "{'label': 'atlantic', 'value': 'atlantic'}\n",
      "None\n",
      "{'label': 'atlantic beach', 'value': 'atlantic beach'}\n",
      "None\n",
      "{'label': 'bald head island', 'value': 'bald head island'}\n",
      "None\n",
      "{'label': 'bath', 'value': 'bath'}\n",
      "None\n",
      "{'label': 'beaufort', 'value': 'beaufort'}\n",
      "None\n",
      "{'label': 'belmont', 'value': 'belmont'}\n",
      "None\n",
      "{'label': 'bethel', 'value': 'bethel'}\n",
      "None\n",
      "{'label': 'beulaville', 'value': 'beulaville'}\n",
      "None\n",
      "{'label': 'bolton', 'value': 'bolton'}\n",
      "None\n",
      "{'label': 'burgaw', 'value': 'burgaw'}\n",
      "None\n",
      "{'label': 'calabash', 'value': 'calabash'}\n",
      "None\n",
      "{'label': 'canton', 'value': 'canton'}\n",
      "None\n",
      "{'label': 'carolina beach', 'value': 'carolina beach'}\n",
      "None\n",
      "{'label': 'caswell beach', 'value': 'caswell beach'}\n",
      "None\n",
      "{'label': 'cedar point', 'value': 'cedar point'}\n",
      "None\n",
      "{'label': 'claremont', 'value': 'claremont'}\n",
      "None\n",
      "{'label': 'concord', 'value': 'concord'}\n",
      "None\n",
      "{'label': 'conway', 'value': 'conway'}\n",
      "None\n",
      "{'label': 'davis', 'value': 'davis'}\n",
      "None\n",
      "{'label': 'dover', 'value': 'dover'}\n",
      "None\n",
      "{'label': 'eden', 'value': 'eden'}\n",
      "None\n",
      "{'label': 'elizabethtown', 'value': 'elizabethtown'}\n",
      "None\n",
      "{'label': 'emerald isle', 'value': 'emerald isle'}\n",
      "None\n",
      "{'label': 'enfield', 'value': 'enfield'}\n",
      "None\n",
      "{'label': 'fair bluff', 'value': 'fair bluff'}\n",
      "None\n",
      "{'label': 'fairfield', 'value': 'fairfield'}\n",
      "None\n",
      "{'label': 'fayetteville', 'value': 'fayetteville'}\n",
      "None\n",
      "{'label': 'franklin', 'value': 'franklin'}\n",
      "None\n",
      "{'label': 'gloucester', 'value': 'gloucester'}\n",
      "None\n",
      "{'label': 'greensboro', 'value': 'greensboro'}\n",
      "None\n",
      "{'label': 'hampstead', 'value': 'hampstead'}\n",
      "None\n",
      "{'label': 'harkers island', 'value': 'harkers island'}\n",
      "None\n",
      "{'label': 'harrells', 'value': 'harrells'}\n",
      "None\n",
      "{'label': 'havelock', 'value': 'havelock'}\n",
      "None\n",
      "{'label': 'holden beach', 'value': 'holden beach'}\n",
      "None\n",
      "{'label': 'holly ridge', 'value': 'holly ridge'}\n",
      "None\n",
      "{'label': 'hope mills', 'value': 'hope mills'}\n",
      "None\n",
      "{'label': 'indian beach', 'value': 'indian beach'}\n",
      "None\n",
      "{'label': 'jackson', 'value': 'jackson'}\n",
      "None\n",
      "{'label': 'jacksonville', 'value': 'jacksonville'}\n",
      "None\n",
      "{'label': 'jefferson', 'value': 'jefferson'}\n",
      "None\n",
      "{'label': 'kure beach', 'value': 'kure beach'}\n",
      "None\n",
      "{'label': 'leland', 'value': 'leland'}\n",
      "None\n",
      "{'label': 'littleton', 'value': 'littleton'}\n",
      "None\n",
      "{'label': 'lowell', 'value': 'lowell'}\n",
      "None\n",
      "{'label': 'lumber bridge', 'value': 'lumber bridge'}\n",
      "None\n",
      "{'label': 'lumberton', 'value': 'lumberton'}\n",
      "None\n",
      "{'label': 'madison', 'value': 'madison'}\n",
      "None\n",
      "{'label': 'marshallberg', 'value': 'marshallberg'}\n",
      "None\n",
      "{'label': 'middlesex', 'value': 'middlesex'}\n",
      "None\n",
      "{'label': 'milton', 'value': 'milton'}\n",
      "None\n",
      "{'label': 'minnesott beach', 'value': 'minnesott beach'}\n",
      "None\n",
      "{'label': 'morehead city', 'value': 'morehead city'}\n",
      "None\n",
      "{'label': 'mount holly', 'value': 'mount holly'}\n",
      "None\n",
      "{'label': 'new london', 'value': 'new london'}\n",
      "None\n",
      "{'label': 'newport', 'value': 'newport'}\n",
      "None\n",
      "{'label': 'north topsail beach', 'value': 'north topsail beach'}\n",
      "None\n",
      "{'label': 'oak island', 'value': 'oak island'}\n",
      "None\n",
      "{'label': 'ocean isle beach', 'value': 'ocean isle beach'}\n",
      "None\n",
      "{'label': 'oriental', 'value': 'oriental'}\n",
      "None\n",
      "{'label': 'ossipee', 'value': 'ossipee'}\n",
      "None\n",
      "{'label': 'pine knoll shores', 'value': 'pine knoll shores'}\n",
      "None\n",
      "{'label': 'plymouth', 'value': 'plymouth'}\n",
      "None\n",
      "{'label': 'rocky point', 'value': 'rocky point'}\n",
      "None\n",
      "{'label': 'roseboro', 'value': 'roseboro'}\n",
      "None\n",
      "{'label': 'salisbury', 'value': 'salisbury'}\n",
      "None\n",
      "{'label': 'sanford', 'value': 'sanford'}\n",
      "None\n",
      "{'label': 'shallotte', 'value': 'shallotte'}\n",
      "None\n",
      "{'label': 'sneads ferry', 'value': 'sneads ferry'}\n",
      "None\n",
      "{'label': 'southport', 'value': 'southport'}\n",
      "None\n",
      "{'label': 'sunset beach', 'value': 'sunset beach'}\n",
      "None\n",
      "{'label': 'surf city', 'value': 'surf city'}\n",
      "None\n",
      "{'label': 'swansboro', 'value': 'swansboro'}\n",
      "None\n",
      "{'label': 'tabor city', 'value': 'tabor city'}\n",
      "None\n",
      "{'label': 'troy', 'value': 'troy'}\n",
      "None\n",
      "{'label': 'wallace', 'value': 'wallace'}\n",
      "None\n",
      "{'label': 'washington', 'value': 'washington'}\n",
      "None\n",
      "{'label': 'wentworth', 'value': 'wentworth'}\n",
      "None\n",
      "{'label': 'whiteville', 'value': 'whiteville'}\n",
      "None\n",
      "{'label': 'wilmington', 'value': 'wilmington'}\n",
      "None\n",
      "{'label': 'windsor', 'value': 'windsor'}\n",
      "None\n",
      "{'label': 'wrightsville beach', 'value': 'wrightsville beach'}\n",
      "None\n"
     ]
    }
   ],
   "source": [
    "towns = lists_town_home_price_occ_guest_nc['town'].unique()\n",
    "towns_for_dash = list_options_for_dash(towns)"
   ]
  },
  {
   "cell_type": "code",
   "execution_count": 77,
   "metadata": {},
   "outputs": [],
   "source": [
    "options = [\n",
    "    {'label':'Google', 'value':'GOOG' },\n",
    "    {'label': 'Apple', 'value':'AAPL'},\n",
    "    {'label': 'Amazon', 'value':'AMZN'},\n",
    "    ]"
   ]
  },
  {
   "cell_type": "code",
   "execution_count": 82,
   "metadata": {},
   "outputs": [
    {
     "name": "stdout",
     "output_type": "stream",
     "text": [
      "['arapahoe' 'atlantic' 'atlantic beach' 'bald head island' 'bath'\n",
      " 'beaufort' 'belmont' 'bethel' 'beulaville' 'bolton' 'burgaw' 'calabash'\n",
      " 'canton' 'carolina beach' 'caswell beach' 'cedar point' 'claremont'\n",
      " 'concord' 'conway' 'davis' 'dover' 'eden' 'elizabethtown' 'emerald isle'\n",
      " 'enfield' 'fair bluff' 'fairfield' 'fayetteville' 'franklin' 'gloucester'\n",
      " 'greensboro' 'hampstead' 'harkers island' 'harrells' 'havelock'\n",
      " 'holden beach' 'holly ridge' 'hope mills' 'indian beach' 'jackson'\n",
      " 'jacksonville' 'jefferson' 'kure beach' 'leland' 'littleton' 'lowell'\n",
      " 'lumber bridge' 'lumberton' 'madison' 'marshallberg' 'middlesex' 'milton'\n",
      " 'minnesott beach' 'morehead city' 'mount holly' 'new london' 'newport'\n",
      " 'north topsail beach' 'oak island' 'ocean isle beach' 'oriental'\n",
      " 'ossipee' 'pine knoll shores' 'plymouth' 'rocky point' 'roseboro'\n",
      " 'salisbury' 'sanford' 'shallotte' 'sneads ferry' 'southport'\n",
      " 'sunset beach' 'surf city' 'swansboro' 'tabor city' 'troy' 'wallace'\n",
      " 'washington' 'wentworth' 'whiteville' 'wilmington' 'windsor'\n",
      " 'wrightsville beach']\n"
     ]
    }
   ],
   "source": [
    "print(towns)"
   ]
  },
  {
   "cell_type": "code",
   "execution_count": 93,
   "metadata": {},
   "outputs": [
    {
     "data": {
      "text/html": [
       "<div>\n",
       "<style scoped>\n",
       "    .dataframe tbody tr th:only-of-type {\n",
       "        vertical-align: middle;\n",
       "    }\n",
       "\n",
       "    .dataframe tbody tr th {\n",
       "        vertical-align: top;\n",
       "    }\n",
       "\n",
       "    .dataframe thead th {\n",
       "        text-align: right;\n",
       "    }\n",
       "</style>\n",
       "<table border=\"1\" class=\"dataframe\">\n",
       "  <thead>\n",
       "    <tr style=\"text-align: right;\">\n",
       "      <th>guest_no</th>\n",
       "      <th>1.0</th>\n",
       "      <th>2.0</th>\n",
       "      <th>3.0</th>\n",
       "      <th>4.0</th>\n",
       "      <th>5.0</th>\n",
       "      <th>6.0</th>\n",
       "      <th>7.0</th>\n",
       "      <th>8.0</th>\n",
       "      <th>9.0</th>\n",
       "      <th>10.0</th>\n",
       "      <th>11.0</th>\n",
       "      <th>12.0</th>\n",
       "      <th>13.0</th>\n",
       "      <th>14.0</th>\n",
       "      <th>15.0</th>\n",
       "      <th>16.0</th>\n",
       "    </tr>\n",
       "    <tr>\n",
       "      <th>town</th>\n",
       "      <th></th>\n",
       "      <th></th>\n",
       "      <th></th>\n",
       "      <th></th>\n",
       "      <th></th>\n",
       "      <th></th>\n",
       "      <th></th>\n",
       "      <th></th>\n",
       "      <th></th>\n",
       "      <th></th>\n",
       "      <th></th>\n",
       "      <th></th>\n",
       "      <th></th>\n",
       "      <th></th>\n",
       "      <th></th>\n",
       "      <th></th>\n",
       "    </tr>\n",
       "  </thead>\n",
       "  <tbody>\n",
       "    <tr>\n",
       "      <th>arapahoe</th>\n",
       "      <td>NaN</td>\n",
       "      <td>5.0</td>\n",
       "      <td>NaN</td>\n",
       "      <td>9.0</td>\n",
       "      <td>NaN</td>\n",
       "      <td>NaN</td>\n",
       "      <td>NaN</td>\n",
       "      <td>NaN</td>\n",
       "      <td>NaN</td>\n",
       "      <td>NaN</td>\n",
       "      <td>NaN</td>\n",
       "      <td>NaN</td>\n",
       "      <td>NaN</td>\n",
       "      <td>NaN</td>\n",
       "      <td>NaN</td>\n",
       "      <td>NaN</td>\n",
       "    </tr>\n",
       "    <tr>\n",
       "      <th>atlantic</th>\n",
       "      <td>NaN</td>\n",
       "      <td>2.0</td>\n",
       "      <td>NaN</td>\n",
       "      <td>NaN</td>\n",
       "      <td>NaN</td>\n",
       "      <td>NaN</td>\n",
       "      <td>NaN</td>\n",
       "      <td>NaN</td>\n",
       "      <td>NaN</td>\n",
       "      <td>NaN</td>\n",
       "      <td>NaN</td>\n",
       "      <td>NaN</td>\n",
       "      <td>NaN</td>\n",
       "      <td>NaN</td>\n",
       "      <td>NaN</td>\n",
       "      <td>NaN</td>\n",
       "    </tr>\n",
       "    <tr>\n",
       "      <th>atlantic beach</th>\n",
       "      <td>NaN</td>\n",
       "      <td>13.0</td>\n",
       "      <td>13.0</td>\n",
       "      <td>114.0</td>\n",
       "      <td>16.0</td>\n",
       "      <td>190.0</td>\n",
       "      <td>NaN</td>\n",
       "      <td>76.0</td>\n",
       "      <td>6.0</td>\n",
       "      <td>24.0</td>\n",
       "      <td>NaN</td>\n",
       "      <td>13.0</td>\n",
       "      <td>NaN</td>\n",
       "      <td>NaN</td>\n",
       "      <td>NaN</td>\n",
       "      <td>NaN</td>\n",
       "    </tr>\n",
       "    <tr>\n",
       "      <th>bald head island</th>\n",
       "      <td>NaN</td>\n",
       "      <td>NaN</td>\n",
       "      <td>NaN</td>\n",
       "      <td>NaN</td>\n",
       "      <td>NaN</td>\n",
       "      <td>25.0</td>\n",
       "      <td>NaN</td>\n",
       "      <td>45.0</td>\n",
       "      <td>4.0</td>\n",
       "      <td>18.0</td>\n",
       "      <td>3.0</td>\n",
       "      <td>NaN</td>\n",
       "      <td>NaN</td>\n",
       "      <td>NaN</td>\n",
       "      <td>NaN</td>\n",
       "      <td>NaN</td>\n",
       "    </tr>\n",
       "    <tr>\n",
       "      <th>bath</th>\n",
       "      <td>NaN</td>\n",
       "      <td>NaN</td>\n",
       "      <td>NaN</td>\n",
       "      <td>NaN</td>\n",
       "      <td>NaN</td>\n",
       "      <td>6.0</td>\n",
       "      <td>NaN</td>\n",
       "      <td>NaN</td>\n",
       "      <td>NaN</td>\n",
       "      <td>1.0</td>\n",
       "      <td>NaN</td>\n",
       "      <td>NaN</td>\n",
       "      <td>NaN</td>\n",
       "      <td>NaN</td>\n",
       "      <td>NaN</td>\n",
       "      <td>NaN</td>\n",
       "    </tr>\n",
       "    <tr>\n",
       "      <th>...</th>\n",
       "      <td>...</td>\n",
       "      <td>...</td>\n",
       "      <td>...</td>\n",
       "      <td>...</td>\n",
       "      <td>...</td>\n",
       "      <td>...</td>\n",
       "      <td>...</td>\n",
       "      <td>...</td>\n",
       "      <td>...</td>\n",
       "      <td>...</td>\n",
       "      <td>...</td>\n",
       "      <td>...</td>\n",
       "      <td>...</td>\n",
       "      <td>...</td>\n",
       "      <td>...</td>\n",
       "      <td>...</td>\n",
       "    </tr>\n",
       "    <tr>\n",
       "      <th>wentworth</th>\n",
       "      <td>NaN</td>\n",
       "      <td>4.0</td>\n",
       "      <td>NaN</td>\n",
       "      <td>4.0</td>\n",
       "      <td>NaN</td>\n",
       "      <td>NaN</td>\n",
       "      <td>NaN</td>\n",
       "      <td>NaN</td>\n",
       "      <td>NaN</td>\n",
       "      <td>NaN</td>\n",
       "      <td>NaN</td>\n",
       "      <td>NaN</td>\n",
       "      <td>NaN</td>\n",
       "      <td>NaN</td>\n",
       "      <td>NaN</td>\n",
       "      <td>NaN</td>\n",
       "    </tr>\n",
       "    <tr>\n",
       "      <th>whiteville</th>\n",
       "      <td>NaN</td>\n",
       "      <td>8.0</td>\n",
       "      <td>NaN</td>\n",
       "      <td>NaN</td>\n",
       "      <td>NaN</td>\n",
       "      <td>NaN</td>\n",
       "      <td>NaN</td>\n",
       "      <td>NaN</td>\n",
       "      <td>NaN</td>\n",
       "      <td>NaN</td>\n",
       "      <td>NaN</td>\n",
       "      <td>NaN</td>\n",
       "      <td>NaN</td>\n",
       "      <td>NaN</td>\n",
       "      <td>NaN</td>\n",
       "      <td>NaN</td>\n",
       "    </tr>\n",
       "    <tr>\n",
       "      <th>wilmington</th>\n",
       "      <td>12.0</td>\n",
       "      <td>307.0</td>\n",
       "      <td>56.0</td>\n",
       "      <td>274.0</td>\n",
       "      <td>54.0</td>\n",
       "      <td>215.0</td>\n",
       "      <td>36.0</td>\n",
       "      <td>79.0</td>\n",
       "      <td>NaN</td>\n",
       "      <td>28.0</td>\n",
       "      <td>NaN</td>\n",
       "      <td>10.0</td>\n",
       "      <td>NaN</td>\n",
       "      <td>NaN</td>\n",
       "      <td>NaN</td>\n",
       "      <td>NaN</td>\n",
       "    </tr>\n",
       "    <tr>\n",
       "      <th>windsor</th>\n",
       "      <td>5.0</td>\n",
       "      <td>NaN</td>\n",
       "      <td>NaN</td>\n",
       "      <td>6.0</td>\n",
       "      <td>NaN</td>\n",
       "      <td>NaN</td>\n",
       "      <td>1.0</td>\n",
       "      <td>NaN</td>\n",
       "      <td>NaN</td>\n",
       "      <td>NaN</td>\n",
       "      <td>NaN</td>\n",
       "      <td>NaN</td>\n",
       "      <td>NaN</td>\n",
       "      <td>NaN</td>\n",
       "      <td>NaN</td>\n",
       "      <td>NaN</td>\n",
       "    </tr>\n",
       "    <tr>\n",
       "      <th>wrightsville beach</th>\n",
       "      <td>NaN</td>\n",
       "      <td>14.0</td>\n",
       "      <td>NaN</td>\n",
       "      <td>72.0</td>\n",
       "      <td>17.0</td>\n",
       "      <td>96.0</td>\n",
       "      <td>25.0</td>\n",
       "      <td>64.0</td>\n",
       "      <td>9.0</td>\n",
       "      <td>NaN</td>\n",
       "      <td>NaN</td>\n",
       "      <td>NaN</td>\n",
       "      <td>NaN</td>\n",
       "      <td>15.0</td>\n",
       "      <td>NaN</td>\n",
       "      <td>18.0</td>\n",
       "    </tr>\n",
       "  </tbody>\n",
       "</table>\n",
       "<p>83 rows × 16 columns</p>\n",
       "</div>"
      ],
      "text/plain": [
       "guest_no            1.0    2.0   3.0    4.0   5.0    6.0   7.0   8.0   9.0   \\\n",
       "town                                                                          \n",
       "arapahoe             NaN    5.0   NaN    9.0   NaN    NaN   NaN   NaN   NaN   \n",
       "atlantic             NaN    2.0   NaN    NaN   NaN    NaN   NaN   NaN   NaN   \n",
       "atlantic beach       NaN   13.0  13.0  114.0  16.0  190.0   NaN  76.0   6.0   \n",
       "bald head island     NaN    NaN   NaN    NaN   NaN   25.0   NaN  45.0   4.0   \n",
       "bath                 NaN    NaN   NaN    NaN   NaN    6.0   NaN   NaN   NaN   \n",
       "...                  ...    ...   ...    ...   ...    ...   ...   ...   ...   \n",
       "wentworth            NaN    4.0   NaN    4.0   NaN    NaN   NaN   NaN   NaN   \n",
       "whiteville           NaN    8.0   NaN    NaN   NaN    NaN   NaN   NaN   NaN   \n",
       "wilmington          12.0  307.0  56.0  274.0  54.0  215.0  36.0  79.0   NaN   \n",
       "windsor              5.0    NaN   NaN    6.0   NaN    NaN   1.0   NaN   NaN   \n",
       "wrightsville beach   NaN   14.0   NaN   72.0  17.0   96.0  25.0  64.0   9.0   \n",
       "\n",
       "guest_no            10.0  11.0  12.0  13.0  14.0  15.0  16.0  \n",
       "town                                                          \n",
       "arapahoe             NaN   NaN   NaN   NaN   NaN   NaN   NaN  \n",
       "atlantic             NaN   NaN   NaN   NaN   NaN   NaN   NaN  \n",
       "atlantic beach      24.0   NaN  13.0   NaN   NaN   NaN   NaN  \n",
       "bald head island    18.0   3.0   NaN   NaN   NaN   NaN   NaN  \n",
       "bath                 1.0   NaN   NaN   NaN   NaN   NaN   NaN  \n",
       "...                  ...   ...   ...   ...   ...   ...   ...  \n",
       "wentworth            NaN   NaN   NaN   NaN   NaN   NaN   NaN  \n",
       "whiteville           NaN   NaN   NaN   NaN   NaN   NaN   NaN  \n",
       "wilmington          28.0   NaN  10.0   NaN   NaN   NaN   NaN  \n",
       "windsor              NaN   NaN   NaN   NaN   NaN   NaN   NaN  \n",
       "wrightsville beach   NaN   NaN   NaN   NaN  15.0   NaN  18.0  \n",
       "\n",
       "[83 rows x 16 columns]"
      ]
     },
     "execution_count": 93,
     "metadata": {},
     "output_type": "execute_result"
    }
   ],
   "source": [
    "num_lists_pivot"
   ]
  },
  {
   "cell_type": "code",
   "execution_count": null,
   "metadata": {},
   "outputs": [],
   "source": [
    "# combined_data df in table_generation notebook\n",
    "region_proptype_roi = combined_data.groupby(['Region','property_type'])['median_ROI'].median().reset_index()\n",
    "\n",
    "from plotly.subplots import make_subplots\n",
    "import plotly.graph_objects as go\n",
    "\n",
    "neweng = region_proptype_roi[region_proptype_roi['Region'] == 'New England']\n",
    "carolinas = region_proptype_roi[region_proptype_roi['Region'] == 'Carolinas']\n",
    "\n",
    "roi_region_subplots = make_subplots(rows=1, cols=2)\n",
    "\n",
    "roi_region_subplots.append_trace(\n",
    "    go.Bar(x=neweng['property_type'],\n",
    "    y=neweng['median_ROI'], name=\"New England\"\n",
    "), row=1, col=1)\n",
    "\n",
    "roi_region_subplots.append_trace(go.Bar(\n",
    "    x=carolinas['property_type'],\n",
    "    y=carolinas['median_ROI'], name=\"Carolinas\"\n",
    "), row=1, col=2)\n",
    "\n",
    "# Change the bar mode\n",
    "roi_region_subplots.update_layout(title_text='ROI by Property Type', barmode='group')\n",
    "roi_region_subplots.show()"
   ]
  },
  {
   "cell_type": "code",
   "execution_count": null,
   "metadata": {},
   "outputs": [],
   "source": [
    "with open(\"reports/report_draft.html\",'w') as f:\n",
    "    f.write(listing_fig.to_html(full_html=False, include_plotlyjs='cdn'))\n",
    "    f.write(price_fig.to_html(full_html=False, include_plotlyjs='cdn'))\n",
    "    f.write(price_v_numlist_fig.to_html(full_html=False, include_plotlyjs='cdn'))\n",
    "    f.write(roi_fig.to_html(full_html=False, include_plotlyjs='cdn'))\n",
    "    f.write(roi_subplots.to_html(full_html=False, include_plotlyjs='cdn'))\n",
    "    f.write(vt_pricing_fig.to_html(full_html=False, include_plotlyjs='cdn'))\n",
    "    f.write(nh_pricing_fig.to_html(full_html=False, include_plotlyjs='cdn'))\n",
    "    f.write(nc_pricing_fig.to_html(full_html=False, include_plotlyjs='cdn'))\n",
    "    f.write(sc_pricing_fig.to_html(full_html=False, include_plotlyjs='cdn'))"
   ]
  },
  {
   "cell_type": "code",
   "execution_count": 65,
   "metadata": {},
   "outputs": [
    {
     "data": {
      "text/plain": [
       "(5535, 25)"
      ]
     },
     "execution_count": 65,
     "metadata": {},
     "output_type": "execute_result"
    }
   ],
   "source": [
    "listing_data.shape"
   ]
  },
  {
   "cell_type": "code",
   "execution_count": 59,
   "metadata": {},
   "outputs": [
    {
     "data": {
      "text/plain": [
       "False    2775\n",
       "True     2760\n",
       "Name: lat, dtype: int64"
      ]
     },
     "execution_count": 59,
     "metadata": {},
     "output_type": "execute_result"
    }
   ],
   "source": [
    "listing_data.lat.isna().value_counts()"
   ]
  },
  {
   "cell_type": "code",
   "execution_count": 50,
   "metadata": {},
   "outputs": [],
   "source": [
    "lat_nas = listing_data[listing_data.lat.isna()]"
   ]
  },
  {
   "cell_type": "code",
   "execution_count": 60,
   "metadata": {},
   "outputs": [],
   "source": [
    "lat_notnas = listing_data[listing_data.lat.isna() == False]"
   ]
  },
  {
   "cell_type": "code",
   "execution_count": 61,
   "metadata": {},
   "outputs": [
    {
     "data": {
      "text/html": [
       "<div>\n",
       "<style scoped>\n",
       "    .dataframe tbody tr th:only-of-type {\n",
       "        vertical-align: middle;\n",
       "    }\n",
       "\n",
       "    .dataframe tbody tr th {\n",
       "        vertical-align: top;\n",
       "    }\n",
       "\n",
       "    .dataframe thead th {\n",
       "        text-align: right;\n",
       "    }\n",
       "</style>\n",
       "<table border=\"1\" class=\"dataframe\">\n",
       "  <thead>\n",
       "    <tr style=\"text-align: right;\">\n",
       "      <th></th>\n",
       "      <th>index</th>\n",
       "      <th>id</th>\n",
       "      <th>name</th>\n",
       "      <th>price</th>\n",
       "      <th>displayPrice</th>\n",
       "      <th>monthlyPriceFactor</th>\n",
       "      <th>weeklyPriceFactor</th>\n",
       "      <th>avgRating</th>\n",
       "      <th>reviewsCount</th>\n",
       "      <th>isNewListing</th>\n",
       "      <th>...</th>\n",
       "      <th>beds</th>\n",
       "      <th>baths</th>\n",
       "      <th>title</th>\n",
       "      <th>property_type</th>\n",
       "      <th>town</th>\n",
       "      <th>top_lat</th>\n",
       "      <th>right_long</th>\n",
       "      <th>bottom_lat</th>\n",
       "      <th>left_long</th>\n",
       "      <th>url</th>\n",
       "    </tr>\n",
       "  </thead>\n",
       "  <tbody>\n",
       "    <tr>\n",
       "      <th>0</th>\n",
       "      <td>0</td>\n",
       "      <td>630349775766419403</td>\n",
       "      <td>Pawleys Island Retreat</td>\n",
       "      <td>100.0</td>\n",
       "      <td>$100</td>\n",
       "      <td>1.00</td>\n",
       "      <td>1.00</td>\n",
       "      <td>NaN</td>\n",
       "      <td>0.0</td>\n",
       "      <td>1.0</td>\n",
       "      <td>...</td>\n",
       "      <td>5 beds</td>\n",
       "      <td>3 baths</td>\n",
       "      <td>8 guests</td>\n",
       "      <td>entire_home</td>\n",
       "      <td>Pawleys Island</td>\n",
       "      <td>33.520872</td>\n",
       "      <td>-79.097172</td>\n",
       "      <td>33.421340</td>\n",
       "      <td>-79.290213</td>\n",
       "      <td>https://www.airbnb.com/s/homes?refinement_path...</td>\n",
       "    </tr>\n",
       "    <tr>\n",
       "      <th>1</th>\n",
       "      <td>1</td>\n",
       "      <td>574462908054659911</td>\n",
       "      <td>NEW! Pawleys Paradise Family Beach Home w/Golf...</td>\n",
       "      <td>492.0</td>\n",
       "      <td>$492</td>\n",
       "      <td>0.80</td>\n",
       "      <td>0.86</td>\n",
       "      <td>5.00</td>\n",
       "      <td>8.0</td>\n",
       "      <td>0.0</td>\n",
       "      <td>...</td>\n",
       "      <td>8 beds</td>\n",
       "      <td>3.5 baths</td>\n",
       "      <td>14 guests</td>\n",
       "      <td>entire_home</td>\n",
       "      <td>Pawleys Island</td>\n",
       "      <td>33.520872</td>\n",
       "      <td>-79.097172</td>\n",
       "      <td>33.421340</td>\n",
       "      <td>-79.290213</td>\n",
       "      <td>https://www.airbnb.com/s/homes?refinement_path...</td>\n",
       "    </tr>\n",
       "    <tr>\n",
       "      <th>2</th>\n",
       "      <td>2</td>\n",
       "      <td>36442397</td>\n",
       "      <td>Peaceful home nestled on golf course</td>\n",
       "      <td>281.0</td>\n",
       "      <td>$281</td>\n",
       "      <td>1.00</td>\n",
       "      <td>0.95</td>\n",
       "      <td>4.64</td>\n",
       "      <td>28.0</td>\n",
       "      <td>0.0</td>\n",
       "      <td>...</td>\n",
       "      <td>5 beds</td>\n",
       "      <td>2 baths</td>\n",
       "      <td>8 guests</td>\n",
       "      <td>entire_home</td>\n",
       "      <td>Pawleys Island</td>\n",
       "      <td>33.520872</td>\n",
       "      <td>-79.097172</td>\n",
       "      <td>33.421340</td>\n",
       "      <td>-79.290213</td>\n",
       "      <td>https://www.airbnb.com/s/homes?refinement_path...</td>\n",
       "    </tr>\n",
       "    <tr>\n",
       "      <th>3</th>\n",
       "      <td>3</td>\n",
       "      <td>52108693</td>\n",
       "      <td>Golf, Beach and Pool! Open 3Bd 2Bath in True Blue</td>\n",
       "      <td>185.0</td>\n",
       "      <td>$185</td>\n",
       "      <td>0.80</td>\n",
       "      <td>0.90</td>\n",
       "      <td>4.92</td>\n",
       "      <td>13.0</td>\n",
       "      <td>0.0</td>\n",
       "      <td>...</td>\n",
       "      <td>6 beds</td>\n",
       "      <td>2 baths</td>\n",
       "      <td>7 guests</td>\n",
       "      <td>entire_home</td>\n",
       "      <td>Pawleys Island</td>\n",
       "      <td>33.520872</td>\n",
       "      <td>-79.097172</td>\n",
       "      <td>33.421340</td>\n",
       "      <td>-79.290213</td>\n",
       "      <td>https://www.airbnb.com/s/homes?refinement_path...</td>\n",
       "    </tr>\n",
       "    <tr>\n",
       "      <th>4</th>\n",
       "      <td>4</td>\n",
       "      <td>49887128</td>\n",
       "      <td>Hampton</td>\n",
       "      <td>164.0</td>\n",
       "      <td>$164</td>\n",
       "      <td>1.00</td>\n",
       "      <td>1.00</td>\n",
       "      <td>5.00</td>\n",
       "      <td>6.0</td>\n",
       "      <td>0.0</td>\n",
       "      <td>...</td>\n",
       "      <td>1 bed</td>\n",
       "      <td>1 bath</td>\n",
       "      <td>2 guests</td>\n",
       "      <td>entire_home</td>\n",
       "      <td>Pawleys Island</td>\n",
       "      <td>33.520872</td>\n",
       "      <td>-79.097172</td>\n",
       "      <td>33.421340</td>\n",
       "      <td>-79.290213</td>\n",
       "      <td>https://www.airbnb.com/s/homes?refinement_path...</td>\n",
       "    </tr>\n",
       "    <tr>\n",
       "      <th>...</th>\n",
       "      <td>...</td>\n",
       "      <td>...</td>\n",
       "      <td>...</td>\n",
       "      <td>...</td>\n",
       "      <td>...</td>\n",
       "      <td>...</td>\n",
       "      <td>...</td>\n",
       "      <td>...</td>\n",
       "      <td>...</td>\n",
       "      <td>...</td>\n",
       "      <td>...</td>\n",
       "      <td>...</td>\n",
       "      <td>...</td>\n",
       "      <td>...</td>\n",
       "      <td>...</td>\n",
       "      <td>...</td>\n",
       "      <td>...</td>\n",
       "      <td>...</td>\n",
       "      <td>...</td>\n",
       "      <td>...</td>\n",
       "      <td>...</td>\n",
       "    </tr>\n",
       "    <tr>\n",
       "      <th>8</th>\n",
       "      <td>8</td>\n",
       "      <td>588577981345597145</td>\n",
       "      <td>Stylish Home Away From Home.</td>\n",
       "      <td>166.0</td>\n",
       "      <td>$166</td>\n",
       "      <td>0.95</td>\n",
       "      <td>0.97</td>\n",
       "      <td>3.67</td>\n",
       "      <td>3.0</td>\n",
       "      <td>0.0</td>\n",
       "      <td>...</td>\n",
       "      <td>5 beds</td>\n",
       "      <td>1 bath</td>\n",
       "      <td>8 guests</td>\n",
       "      <td>entire_home</td>\n",
       "      <td>Miami</td>\n",
       "      <td>25.888884</td>\n",
       "      <td>-80.212473</td>\n",
       "      <td>25.858383</td>\n",
       "      <td>-80.248915</td>\n",
       "      <td>https://www.airbnb.com/s/homes?refinement_path...</td>\n",
       "    </tr>\n",
       "    <tr>\n",
       "      <th>9</th>\n",
       "      <td>9</td>\n",
       "      <td>595940242771022474</td>\n",
       "      <td>Clean master room with in suite bathroom</td>\n",
       "      <td>85.0</td>\n",
       "      <td>$85</td>\n",
       "      <td>1.00</td>\n",
       "      <td>1.00</td>\n",
       "      <td>NaN</td>\n",
       "      <td>0.0</td>\n",
       "      <td>1.0</td>\n",
       "      <td>...</td>\n",
       "      <td>1 bed</td>\n",
       "      <td>1 private bath</td>\n",
       "      <td>1 guest</td>\n",
       "      <td>private_room</td>\n",
       "      <td>Miami</td>\n",
       "      <td>25.888884</td>\n",
       "      <td>-80.212473</td>\n",
       "      <td>25.858383</td>\n",
       "      <td>-80.248915</td>\n",
       "      <td>https://www.airbnb.com/s/homes?refinement_path...</td>\n",
       "    </tr>\n",
       "    <tr>\n",
       "      <th>10</th>\n",
       "      <td>10</td>\n",
       "      <td>48503887</td>\n",
       "      <td>S. Florida Oasis (N. Miami) Unit 2</td>\n",
       "      <td>271.0</td>\n",
       "      <td>$271</td>\n",
       "      <td>0.75</td>\n",
       "      <td>0.90</td>\n",
       "      <td>4.27</td>\n",
       "      <td>15.0</td>\n",
       "      <td>0.0</td>\n",
       "      <td>...</td>\n",
       "      <td>2 beds</td>\n",
       "      <td>2 baths</td>\n",
       "      <td>4 guests</td>\n",
       "      <td>entire_home</td>\n",
       "      <td>Miami</td>\n",
       "      <td>25.888884</td>\n",
       "      <td>-80.212473</td>\n",
       "      <td>25.858383</td>\n",
       "      <td>-80.248915</td>\n",
       "      <td>https://www.airbnb.com/s/homes?refinement_path...</td>\n",
       "    </tr>\n",
       "    <tr>\n",
       "      <th>11</th>\n",
       "      <td>11</td>\n",
       "      <td>50302209</td>\n",
       "      <td>NoMi Oasis Unit 4</td>\n",
       "      <td>259.0</td>\n",
       "      <td>$259</td>\n",
       "      <td>1.00</td>\n",
       "      <td>1.00</td>\n",
       "      <td>NaN</td>\n",
       "      <td>0.0</td>\n",
       "      <td>0.0</td>\n",
       "      <td>...</td>\n",
       "      <td>1 bed</td>\n",
       "      <td>1 bath</td>\n",
       "      <td>2 guests</td>\n",
       "      <td>entire_home</td>\n",
       "      <td>Miami</td>\n",
       "      <td>25.888884</td>\n",
       "      <td>-80.212473</td>\n",
       "      <td>25.858383</td>\n",
       "      <td>-80.248915</td>\n",
       "      <td>https://www.airbnb.com/s/homes?refinement_path...</td>\n",
       "    </tr>\n",
       "    <tr>\n",
       "      <th>12</th>\n",
       "      <td>12</td>\n",
       "      <td>49997192</td>\n",
       "      <td>Gateway WB</td>\n",
       "      <td>293.0</td>\n",
       "      <td>$293</td>\n",
       "      <td>0.92</td>\n",
       "      <td>0.95</td>\n",
       "      <td>NaN</td>\n",
       "      <td>2.0</td>\n",
       "      <td>0.0</td>\n",
       "      <td>...</td>\n",
       "      <td>4 beds</td>\n",
       "      <td>2 baths</td>\n",
       "      <td>8 guests</td>\n",
       "      <td>entire_home</td>\n",
       "      <td>North Miami</td>\n",
       "      <td>25.888884</td>\n",
       "      <td>-80.212473</td>\n",
       "      <td>25.858383</td>\n",
       "      <td>-80.248915</td>\n",
       "      <td>https://www.airbnb.com/s/homes?refinement_path...</td>\n",
       "    </tr>\n",
       "  </tbody>\n",
       "</table>\n",
       "<p>2775 rows × 25 columns</p>\n",
       "</div>"
      ],
      "text/plain": [
       "    index                  id  \\\n",
       "0       0  630349775766419403   \n",
       "1       1  574462908054659911   \n",
       "2       2            36442397   \n",
       "3       3            52108693   \n",
       "4       4            49887128   \n",
       "..    ...                 ...   \n",
       "8       8  588577981345597145   \n",
       "9       9  595940242771022474   \n",
       "10     10            48503887   \n",
       "11     11            50302209   \n",
       "12     12            49997192   \n",
       "\n",
       "                                                 name  price displayPrice  \\\n",
       "0                              Pawleys Island Retreat  100.0         $100   \n",
       "1   NEW! Pawleys Paradise Family Beach Home w/Golf...  492.0         $492   \n",
       "2                Peaceful home nestled on golf course  281.0         $281   \n",
       "3   Golf, Beach and Pool! Open 3Bd 2Bath in True Blue  185.0         $185   \n",
       "4                                             Hampton  164.0         $164   \n",
       "..                                                ...    ...          ...   \n",
       "8                        Stylish Home Away From Home.  166.0         $166   \n",
       "9            Clean master room with in suite bathroom   85.0          $85   \n",
       "10                 S. Florida Oasis (N. Miami) Unit 2  271.0         $271   \n",
       "11                                  NoMi Oasis Unit 4  259.0         $259   \n",
       "12                                         Gateway WB  293.0         $293   \n",
       "\n",
       "    monthlyPriceFactor  weeklyPriceFactor  avgRating  reviewsCount  \\\n",
       "0                 1.00               1.00        NaN           0.0   \n",
       "1                 0.80               0.86       5.00           8.0   \n",
       "2                 1.00               0.95       4.64          28.0   \n",
       "3                 0.80               0.90       4.92          13.0   \n",
       "4                 1.00               1.00       5.00           6.0   \n",
       "..                 ...                ...        ...           ...   \n",
       "8                 0.95               0.97       3.67           3.0   \n",
       "9                 1.00               1.00        NaN           0.0   \n",
       "10                0.75               0.90       4.27          15.0   \n",
       "11                1.00               1.00        NaN           0.0   \n",
       "12                0.92               0.95        NaN           2.0   \n",
       "\n",
       "    isNewListing  ...    beds           baths      title  property_type  \\\n",
       "0            1.0  ...  5 beds         3 baths   8 guests    entire_home   \n",
       "1            0.0  ...  8 beds       3.5 baths  14 guests    entire_home   \n",
       "2            0.0  ...  5 beds         2 baths   8 guests    entire_home   \n",
       "3            0.0  ...  6 beds         2 baths   7 guests    entire_home   \n",
       "4            0.0  ...   1 bed          1 bath   2 guests    entire_home   \n",
       "..           ...  ...     ...             ...        ...            ...   \n",
       "8            0.0  ...  5 beds          1 bath   8 guests    entire_home   \n",
       "9            1.0  ...   1 bed  1 private bath    1 guest   private_room   \n",
       "10           0.0  ...  2 beds         2 baths   4 guests    entire_home   \n",
       "11           0.0  ...   1 bed          1 bath   2 guests    entire_home   \n",
       "12           0.0  ...  4 beds         2 baths   8 guests    entire_home   \n",
       "\n",
       "              town    top_lat right_long bottom_lat  left_long  \\\n",
       "0   Pawleys Island  33.520872 -79.097172  33.421340 -79.290213   \n",
       "1   Pawleys Island  33.520872 -79.097172  33.421340 -79.290213   \n",
       "2   Pawleys Island  33.520872 -79.097172  33.421340 -79.290213   \n",
       "3   Pawleys Island  33.520872 -79.097172  33.421340 -79.290213   \n",
       "4   Pawleys Island  33.520872 -79.097172  33.421340 -79.290213   \n",
       "..             ...        ...        ...        ...        ...   \n",
       "8            Miami  25.888884 -80.212473  25.858383 -80.248915   \n",
       "9            Miami  25.888884 -80.212473  25.858383 -80.248915   \n",
       "10           Miami  25.888884 -80.212473  25.858383 -80.248915   \n",
       "11           Miami  25.888884 -80.212473  25.858383 -80.248915   \n",
       "12     North Miami  25.888884 -80.212473  25.858383 -80.248915   \n",
       "\n",
       "                                                  url  \n",
       "0   https://www.airbnb.com/s/homes?refinement_path...  \n",
       "1   https://www.airbnb.com/s/homes?refinement_path...  \n",
       "2   https://www.airbnb.com/s/homes?refinement_path...  \n",
       "3   https://www.airbnb.com/s/homes?refinement_path...  \n",
       "4   https://www.airbnb.com/s/homes?refinement_path...  \n",
       "..                                                ...  \n",
       "8   https://www.airbnb.com/s/homes?refinement_path...  \n",
       "9   https://www.airbnb.com/s/homes?refinement_path...  \n",
       "10  https://www.airbnb.com/s/homes?refinement_path...  \n",
       "11  https://www.airbnb.com/s/homes?refinement_path...  \n",
       "12  https://www.airbnb.com/s/homes?refinement_path...  \n",
       "\n",
       "[2775 rows x 25 columns]"
      ]
     },
     "execution_count": 61,
     "metadata": {},
     "output_type": "execute_result"
    }
   ],
   "source": [
    "lat_notnas"
   ]
  },
  {
   "cell_type": "code",
   "execution_count": null,
   "metadata": {},
   "outputs": [],
   "source": []
  }
 ],
 "metadata": {
  "interpreter": {
   "hash": "8cda3f1edda61d067a8dccfe73833b0b57e2a1d4ac0e36527d0cd620f4d2a66c"
  },
  "kernelspec": {
   "display_name": "Python 3.10.4 64-bit",
   "language": "python",
   "name": "python3"
  },
  "language_info": {
   "codemirror_mode": {
    "name": "ipython",
    "version": 3
   },
   "file_extension": ".py",
   "mimetype": "text/x-python",
   "name": "python",
   "nbconvert_exporter": "python",
   "pygments_lexer": "ipython3",
   "version": "3.10.4"
  },
  "orig_nbformat": 4
 },
 "nbformat": 4,
 "nbformat_minor": 2
}
