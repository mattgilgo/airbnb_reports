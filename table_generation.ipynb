{
 "cells": [
  {
   "cell_type": "code",
   "execution_count": 86,
   "metadata": {},
   "outputs": [],
   "source": [
    "import pandas as pd\n",
    "import matplotlib.pyplot as plt\n",
    "import folium\n",
    "import numpy as np\n",
    "import seaborn as sns\n",
    "import os\n",
    "import fastparquet\n",
    "import warnings\n",
    "import geopy\n",
    "from geopy.point import Point\n",
    "import time\n",
    "from pandas.core.common import SettingWithCopyWarning\n",
    "warnings.simplefilter(action='ignore', category=FutureWarning)\n",
    "warnings.simplefilter(action=\"ignore\", category=SettingWithCopyWarning)\n",
    "\n",
    "#df = pd.read_parquet('Downloads/airbnb_parquets')\n",
    "#df.to_csv('csv_printout.csv')"
   ]
  },
  {
   "cell_type": "code",
   "execution_count": 251,
   "metadata": {},
   "outputs": [],
   "source": [
    "def append_fig_to_html(list_of_figs):\n",
    "    for fig in list_of_figs:\n",
    "        with open(\"reports/report_draft.html\",'a') as f:\n",
    "            f.write(fig.to_html(full_html=False, include_plotlyjs='cdn'))\n",
    "\n",
    "# write this later\n",
    "\"\"\"\n",
    "def overwrite_html(list_of_figs):\n",
    "    \n",
    "    with open(\"reports/report_draft.html\",'w') as f:\n",
    "    f.write(listing_fig.to_html(full_html=False, include_plotlyjs='cdn'))\n",
    "    f.write(price_fig.to_html(full_html=False, include_plotlyjs='cdn'))\n",
    "    f.write(price_v_numlist_fig.to_html(full_html=False, include_plotlyjs='cdn'))\n",
    "\"\"\"\n",
    "\n",
    "def calculate_mortgage(home_value, interest_rate, num_years, down_payment_pct=0):\n",
    "    if home_value is None:\n",
    "        return None\n",
    "    \n",
    "    per_payment_interest = 0\n",
    "    loan_value = 0\n",
    "\n",
    "\n",
    "    if down_payment_pct >= 1:\n",
    "        down_payment = down_payment_pct/100 * home_value\n",
    "        loan_value = home_value - down_payment\n",
    "    else:\n",
    "        down_payment = down_payment_pct * home_value\n",
    "        loan_value = home_value - down_payment\n",
    "    \n",
    "    if loan_value/home_value < 0.80: \n",
    "        # insert pmi calc here\n",
    "        pmi = 0.01  # using near average value here\n",
    "        pmi_cost = 0.0007*home_value    # shot in the dark after interpolating nerdwallet calculator\n",
    "        if interest_rate >= 1:\n",
    "            per_payment_interest = interest_rate/100/12\n",
    "        else:\n",
    "            per_payment_interest = interest_rate/12\n",
    "        num_months = num_years*12\n",
    "        mortgage = loan_value*(per_payment_interest*(1+per_payment_interest)**num_months)/((1+per_payment_interest)**num_months-1) + pmi_cost\n",
    "\n",
    "        mortgage = np.round(mortgage, 2)\n",
    "        return mortgage\n",
    "    else:\n",
    "        if interest_rate >= 1:\n",
    "            per_payment_interest = interest_rate/100/12\n",
    "        else:\n",
    "            per_payment_interest = interest_rate/12\n",
    "        num_months = num_years*12\n",
    "        mortgage = loan_value*(per_payment_interest*(1+per_payment_interest)**num_months)/((1+per_payment_interest)**num_months-1)\n",
    "\n",
    "        mortgage = np.round(mortgage, 2)\n",
    "        return mortgage\n",
    "\n",
    "def calculate_roi(airbnb_daily_price, occupancy_rate, monthly_mortgage, monthly_maintenence=0, monthly_taxes=0):\n",
    "    gross_rev = airbnb_daily_price * occupancy_rate * 365/12\n",
    "    net_rev = gross_rev - monthly_maintenence - monthly_taxes\n",
    "    profit = net_rev - monthly_mortgage\n",
    "    roi = profit/monthly_mortgage\n",
    "    roi = roi\n",
    "    return roi\n",
    "\n",
    "def set_location_desc(lat,long,geolocator):\n",
    "    lat = str(lat)\n",
    "    long = str(long)\n",
    "    location = geolocator.reverse(lat+\",\"+long)\n",
    "    address = location.raw['address']\n",
    "    city = address.get('city', '')\n",
    "    state = address.get('state', '')\n",
    "    country = address.get('country')\n",
    "    country_code = address.get('country_code')\n",
    "    zipcode = address.get('postcode', '')\n",
    "    return city, state, country, country_code, zipcode\n",
    "\n",
    "def set_city(lat, long, geolocator):\n",
    "    start_time = time.time()\n",
    "    lat = str(lat)\n",
    "    print(\"---Latitude casted to string at %s seconds ---\" % (time.time() - start_time))\n",
    "\n",
    "    long = str(long)\n",
    "    print(\"---Longitude casted at %s seconds ---\" % (time.time() - start_time))\n",
    "\n",
    "    location = geolocator.reverse(lat+\",\"+long)\n",
    "    print(\"---Get location json from geopy at %s seconds ---\" % (time.time() - start_time))\n",
    "\n",
    "    address = location.raw['address']\n",
    "    print(\"---Get address json at %s seconds ---\" % (time.time() - start_time))\n",
    "\n",
    "    city = address.get('city', '')\n",
    "    print(\"---Get city value at %s seconds ---\" % (time.time() - start_time))\n",
    "    return city\n",
    "\n",
    "def set_state(lat, long):\n",
    "    from geopy.geocoders import Nominatim\n",
    "    geolocator = Nominatim(user_agent=\"geoapiExercises\")\n",
    "    lat = str(lat)\n",
    "    long = str(long)\n",
    "    location = geolocator.reverse(Point(lat,long))\n",
    "    address = location.raw['address']\n",
    "    state = address.get('state', '')\n",
    "    return state\n",
    "\n",
    "def set_country(lat, long):\n",
    "    from geopy.geocoders import Nominatim\n",
    "    geolocator = Nominatim(user_agent=\"geoapiExercises\")\n",
    "    lat = str(lat)\n",
    "    long = str(long)\n",
    "    location = geolocator.reverse(Point(lat,long))\n",
    "    address = location.raw['address']\n",
    "    country = address.get('country')\n",
    "    return country\n",
    "\n",
    "def set_country_code(lat, long):\n",
    "    from geopy.geocoders import Nominatim\n",
    "    geolocator = Nominatim(user_agent=\"geoapiExercises\")\n",
    "    lat = str(lat)\n",
    "    long = str(long)\n",
    "    location = geolocator.reverse(lat+\",\"+long)\n",
    "    address = location.raw['address']\n",
    "    country_code = address.get('country_code')\n",
    "    return country_code\n",
    "\n",
    "def set_zipcode(lat, long):\n",
    "    from geopy.geocoders import Nominatim\n",
    "    geolocator = Nominatim(user_agent=\"geoapiExercises\")\n",
    "    lat = str(lat)\n",
    "    long = str(long)\n",
    "    location = geolocator.reverse(Point(lat,long))\n",
    "    address = location.raw['address']\n",
    "    zipcode = address.get('postcode', '')\n",
    "    return zipcode\n",
    "\n",
    "def set_interpolated_state(top_lat,bottom_lat,left_long,right_long):\n",
    "    lat = (top_lat+bottom_lat)/2\n",
    "    long = (left_long+right_long)/2\n",
    "    state = set_state(lat, long)\n",
    "    return state\n",
    "\n",
    "\n",
    "def set_avg_home_val(home_values, city, state, num_beds):\n",
    "    if num_beds <= 5:\n",
    "        desired_row = home_values[(home_values['RegionName'] == city) & (home_values['State'] == state) & (home_values['num_beds'] == num_beds)]\n",
    "        avg_value = desired_row['2022-04-30']\n",
    "        if len(avg_value) == 0:\n",
    "            return None\n",
    "        else:\n",
    "            return avg_value.iloc[0]\n",
    "    else:\n",
    "        desired_row = home_values[(home_values['RegionName'] == city) & (home_values['State'] == state) & (home_values['num_beds'] == 5)]\n",
    "        avg_value = desired_row['2022-04-30']\n",
    "        if len(avg_value) == 0:\n",
    "            return None\n",
    "        else:\n",
    "            return avg_value.iloc[0]*num_beds/5  # <-- improve this with linear regression later on\n"
   ]
  },
  {
   "cell_type": "code",
   "execution_count": 176,
   "metadata": {},
   "outputs": [
    {
     "data": {
      "text/plain": [
       "0    SC\n",
       "1    SC\n",
       "2    SC\n",
       "3    SC\n",
       "4    SC\n",
       "Name: state_id, dtype: object"
      ]
     },
     "execution_count": 176,
     "metadata": {},
     "output_type": "execute_result"
    }
   ],
   "source": [
    "listing_data_static['state_id'].head()"
   ]
  },
  {
   "cell_type": "code",
   "execution_count": 38,
   "metadata": {},
   "outputs": [
    {
     "name": "stdout",
     "output_type": "stream",
     "text": [
      "(1, 25)\n",
      "(2468, 25)\n",
      "(4224, 25)\n",
      "(5535, 25)\n"
     ]
    }
   ],
   "source": [
    "# Load in listing data\n",
    "nc_dir = 'C:/Users/mattg/Desktop/Hobbies/airbnb_reports/bucket_data/listings/north_carolina'\n",
    "first_file = ''\n",
    "for file in os.listdir(nc_dir):\n",
    "    first_file = os.path.join(nc_dir,file)\n",
    "    break\n",
    "listing_data = pd.read_parquet(first_file)\n",
    "print(listing_data.shape)\n",
    "for file in os.listdir(nc_dir):\n",
    "    next_file = os.path.join(nc_dir,file)\n",
    "    if next_file != first_file:\n",
    "        next_listing = pd.read_parquet(next_file)\n",
    "        listing_data = listing_data.append(next_listing)\n",
    "print(listing_data.shape)\n",
    "\n",
    "ne_dir = 'C:/Users/mattg/Desktop/Hobbies/airbnb_reports/bucket_data/listings/vt_nh'\n",
    "for file in os.listdir(ne_dir):\n",
    "    next_file = os.path.join(ne_dir,file)\n",
    "    next_listing = pd.read_parquet(next_file)\n",
    "    listing_data = listing_data.append(next_listing)\n",
    "print(listing_data.shape)\n",
    "\n",
    "miami_dir = 'C:/Users/mattg/Desktop/Hobbies/airbnb_reports/bucket_data/listings/miami'\n",
    "for file in os.listdir(miami_dir):\n",
    "    next_file = os.path.join(miami_dir,file)\n",
    "    next_listing = pd.read_parquet(next_file)\n",
    "    listing_data = listing_data.append(next_listing)\n",
    "print(listing_data.shape)\n",
    "\n",
    "# Load in occupancy data\n",
    "occ_data = pd.read_parquet('C:/Users/mattg/Desktop/Hobbies/airbnb_reports/bucket_data/occupancy')\n",
    "\n",
    "# Load in price data\n",
    "price_data = pd.read_parquet('C:/Users/mattg/Desktop/Hobbies/airbnb_reports/bucket_data/prices')"
   ]
  },
  {
   "cell_type": "code",
   "execution_count": 103,
   "metadata": {},
   "outputs": [
    {
     "ename": "ValueError",
     "evalue": "All arrays must be of the same length",
     "output_type": "error",
     "traceback": [
      "\u001b[1;31m---------------------------------------------------------------------------\u001b[0m",
      "\u001b[1;31mValueError\u001b[0m                                Traceback (most recent call last)",
      "\u001b[1;32mc:\\Users\\mattg\\Desktop\\Hobbies\\airbnb_reports\\table_generation.ipynb Cell 4'\u001b[0m in \u001b[0;36m<cell line: 6>\u001b[1;34m()\u001b[0m\n\u001b[0;32m      <a href='vscode-notebook-cell:/c%3A/Users/mattg/Desktop/Hobbies/airbnb_reports/table_generation.ipynb#ch0000025?line=3'>4</a>\u001b[0m right_longs \u001b[39m=\u001b[39m listing_data\u001b[39m.\u001b[39mright_long\u001b[39m.\u001b[39munique()\n\u001b[0;32m      <a href='vscode-notebook-cell:/c%3A/Users/mattg/Desktop/Hobbies/airbnb_reports/table_generation.ipynb#ch0000025?line=4'>5</a>\u001b[0m partitions \u001b[39m=\u001b[39m {\u001b[39m'\u001b[39m\u001b[39mtop_lat\u001b[39m\u001b[39m'\u001b[39m: top_lats, \u001b[39m'\u001b[39m\u001b[39mbottom_lat\u001b[39m\u001b[39m'\u001b[39m: bottom_lats, \u001b[39m'\u001b[39m\u001b[39mleft_long\u001b[39m\u001b[39m'\u001b[39m: left_longs, \u001b[39m'\u001b[39m\u001b[39mright_long\u001b[39m\u001b[39m'\u001b[39m: right_longs}\n\u001b[1;32m----> <a href='vscode-notebook-cell:/c%3A/Users/mattg/Desktop/Hobbies/airbnb_reports/table_generation.ipynb#ch0000025?line=5'>6</a>\u001b[0m partition_df \u001b[39m=\u001b[39m pd\u001b[39m.\u001b[39;49mDataFrame(data\u001b[39m=\u001b[39;49mpartitions)\n",
      "File \u001b[1;32mc:\\Users\\mattg\\AppData\\Local\\Programs\\Python\\Python310\\lib\\site-packages\\pandas\\core\\frame.py:636\u001b[0m, in \u001b[0;36mDataFrame.__init__\u001b[1;34m(self, data, index, columns, dtype, copy)\u001b[0m\n\u001b[0;32m    <a href='file:///c%3A/Users/mattg/AppData/Local/Programs/Python/Python310/lib/site-packages/pandas/core/frame.py?line=629'>630</a>\u001b[0m     mgr \u001b[39m=\u001b[39m \u001b[39mself\u001b[39m\u001b[39m.\u001b[39m_init_mgr(\n\u001b[0;32m    <a href='file:///c%3A/Users/mattg/AppData/Local/Programs/Python/Python310/lib/site-packages/pandas/core/frame.py?line=630'>631</a>\u001b[0m         data, axes\u001b[39m=\u001b[39m{\u001b[39m\"\u001b[39m\u001b[39mindex\u001b[39m\u001b[39m\"\u001b[39m: index, \u001b[39m\"\u001b[39m\u001b[39mcolumns\u001b[39m\u001b[39m\"\u001b[39m: columns}, dtype\u001b[39m=\u001b[39mdtype, copy\u001b[39m=\u001b[39mcopy\n\u001b[0;32m    <a href='file:///c%3A/Users/mattg/AppData/Local/Programs/Python/Python310/lib/site-packages/pandas/core/frame.py?line=631'>632</a>\u001b[0m     )\n\u001b[0;32m    <a href='file:///c%3A/Users/mattg/AppData/Local/Programs/Python/Python310/lib/site-packages/pandas/core/frame.py?line=633'>634</a>\u001b[0m \u001b[39melif\u001b[39;00m \u001b[39misinstance\u001b[39m(data, \u001b[39mdict\u001b[39m):\n\u001b[0;32m    <a href='file:///c%3A/Users/mattg/AppData/Local/Programs/Python/Python310/lib/site-packages/pandas/core/frame.py?line=634'>635</a>\u001b[0m     \u001b[39m# GH#38939 de facto copy defaults to False only in non-dict cases\u001b[39;00m\n\u001b[1;32m--> <a href='file:///c%3A/Users/mattg/AppData/Local/Programs/Python/Python310/lib/site-packages/pandas/core/frame.py?line=635'>636</a>\u001b[0m     mgr \u001b[39m=\u001b[39m dict_to_mgr(data, index, columns, dtype\u001b[39m=\u001b[39;49mdtype, copy\u001b[39m=\u001b[39;49mcopy, typ\u001b[39m=\u001b[39;49mmanager)\n\u001b[0;32m    <a href='file:///c%3A/Users/mattg/AppData/Local/Programs/Python/Python310/lib/site-packages/pandas/core/frame.py?line=636'>637</a>\u001b[0m \u001b[39melif\u001b[39;00m \u001b[39misinstance\u001b[39m(data, ma\u001b[39m.\u001b[39mMaskedArray):\n\u001b[0;32m    <a href='file:///c%3A/Users/mattg/AppData/Local/Programs/Python/Python310/lib/site-packages/pandas/core/frame.py?line=637'>638</a>\u001b[0m     \u001b[39mimport\u001b[39;00m \u001b[39mnumpy\u001b[39;00m\u001b[39m.\u001b[39;00m\u001b[39mma\u001b[39;00m\u001b[39m.\u001b[39;00m\u001b[39mmrecords\u001b[39;00m \u001b[39mas\u001b[39;00m \u001b[39mmrecords\u001b[39;00m\n",
      "File \u001b[1;32mc:\\Users\\mattg\\AppData\\Local\\Programs\\Python\\Python310\\lib\\site-packages\\pandas\\core\\internals\\construction.py:502\u001b[0m, in \u001b[0;36mdict_to_mgr\u001b[1;34m(data, index, columns, dtype, typ, copy)\u001b[0m\n\u001b[0;32m    <a href='file:///c%3A/Users/mattg/AppData/Local/Programs/Python/Python310/lib/site-packages/pandas/core/internals/construction.py?line=493'>494</a>\u001b[0m     arrays \u001b[39m=\u001b[39m [\n\u001b[0;32m    <a href='file:///c%3A/Users/mattg/AppData/Local/Programs/Python/Python310/lib/site-packages/pandas/core/internals/construction.py?line=494'>495</a>\u001b[0m         x\n\u001b[0;32m    <a href='file:///c%3A/Users/mattg/AppData/Local/Programs/Python/Python310/lib/site-packages/pandas/core/internals/construction.py?line=495'>496</a>\u001b[0m         \u001b[39mif\u001b[39;00m \u001b[39mnot\u001b[39;00m \u001b[39mhasattr\u001b[39m(x, \u001b[39m\"\u001b[39m\u001b[39mdtype\u001b[39m\u001b[39m\"\u001b[39m) \u001b[39mor\u001b[39;00m \u001b[39mnot\u001b[39;00m \u001b[39misinstance\u001b[39m(x\u001b[39m.\u001b[39mdtype, ExtensionDtype)\n\u001b[0;32m    <a href='file:///c%3A/Users/mattg/AppData/Local/Programs/Python/Python310/lib/site-packages/pandas/core/internals/construction.py?line=496'>497</a>\u001b[0m         \u001b[39melse\u001b[39;00m x\u001b[39m.\u001b[39mcopy()\n\u001b[0;32m    <a href='file:///c%3A/Users/mattg/AppData/Local/Programs/Python/Python310/lib/site-packages/pandas/core/internals/construction.py?line=497'>498</a>\u001b[0m         \u001b[39mfor\u001b[39;00m x \u001b[39min\u001b[39;00m arrays\n\u001b[0;32m    <a href='file:///c%3A/Users/mattg/AppData/Local/Programs/Python/Python310/lib/site-packages/pandas/core/internals/construction.py?line=498'>499</a>\u001b[0m     ]\n\u001b[0;32m    <a href='file:///c%3A/Users/mattg/AppData/Local/Programs/Python/Python310/lib/site-packages/pandas/core/internals/construction.py?line=499'>500</a>\u001b[0m     \u001b[39m# TODO: can we get rid of the dt64tz special case above?\u001b[39;00m\n\u001b[1;32m--> <a href='file:///c%3A/Users/mattg/AppData/Local/Programs/Python/Python310/lib/site-packages/pandas/core/internals/construction.py?line=501'>502</a>\u001b[0m \u001b[39mreturn\u001b[39;00m arrays_to_mgr(arrays, columns, index, dtype\u001b[39m=\u001b[39;49mdtype, typ\u001b[39m=\u001b[39;49mtyp, consolidate\u001b[39m=\u001b[39;49mcopy)\n",
      "File \u001b[1;32mc:\\Users\\mattg\\AppData\\Local\\Programs\\Python\\Python310\\lib\\site-packages\\pandas\\core\\internals\\construction.py:120\u001b[0m, in \u001b[0;36marrays_to_mgr\u001b[1;34m(arrays, columns, index, dtype, verify_integrity, typ, consolidate)\u001b[0m\n\u001b[0;32m    <a href='file:///c%3A/Users/mattg/AppData/Local/Programs/Python/Python310/lib/site-packages/pandas/core/internals/construction.py?line=116'>117</a>\u001b[0m \u001b[39mif\u001b[39;00m verify_integrity:\n\u001b[0;32m    <a href='file:///c%3A/Users/mattg/AppData/Local/Programs/Python/Python310/lib/site-packages/pandas/core/internals/construction.py?line=117'>118</a>\u001b[0m     \u001b[39m# figure out the index, if necessary\u001b[39;00m\n\u001b[0;32m    <a href='file:///c%3A/Users/mattg/AppData/Local/Programs/Python/Python310/lib/site-packages/pandas/core/internals/construction.py?line=118'>119</a>\u001b[0m     \u001b[39mif\u001b[39;00m index \u001b[39mis\u001b[39;00m \u001b[39mNone\u001b[39;00m:\n\u001b[1;32m--> <a href='file:///c%3A/Users/mattg/AppData/Local/Programs/Python/Python310/lib/site-packages/pandas/core/internals/construction.py?line=119'>120</a>\u001b[0m         index \u001b[39m=\u001b[39m _extract_index(arrays)\n\u001b[0;32m    <a href='file:///c%3A/Users/mattg/AppData/Local/Programs/Python/Python310/lib/site-packages/pandas/core/internals/construction.py?line=120'>121</a>\u001b[0m     \u001b[39melse\u001b[39;00m:\n\u001b[0;32m    <a href='file:///c%3A/Users/mattg/AppData/Local/Programs/Python/Python310/lib/site-packages/pandas/core/internals/construction.py?line=121'>122</a>\u001b[0m         index \u001b[39m=\u001b[39m ensure_index(index)\n",
      "File \u001b[1;32mc:\\Users\\mattg\\AppData\\Local\\Programs\\Python\\Python310\\lib\\site-packages\\pandas\\core\\internals\\construction.py:674\u001b[0m, in \u001b[0;36m_extract_index\u001b[1;34m(data)\u001b[0m\n\u001b[0;32m    <a href='file:///c%3A/Users/mattg/AppData/Local/Programs/Python/Python310/lib/site-packages/pandas/core/internals/construction.py?line=671'>672</a>\u001b[0m lengths \u001b[39m=\u001b[39m \u001b[39mlist\u001b[39m(\u001b[39mset\u001b[39m(raw_lengths))\n\u001b[0;32m    <a href='file:///c%3A/Users/mattg/AppData/Local/Programs/Python/Python310/lib/site-packages/pandas/core/internals/construction.py?line=672'>673</a>\u001b[0m \u001b[39mif\u001b[39;00m \u001b[39mlen\u001b[39m(lengths) \u001b[39m>\u001b[39m \u001b[39m1\u001b[39m:\n\u001b[1;32m--> <a href='file:///c%3A/Users/mattg/AppData/Local/Programs/Python/Python310/lib/site-packages/pandas/core/internals/construction.py?line=673'>674</a>\u001b[0m     \u001b[39mraise\u001b[39;00m \u001b[39mValueError\u001b[39;00m(\u001b[39m\"\u001b[39m\u001b[39mAll arrays must be of the same length\u001b[39m\u001b[39m\"\u001b[39m)\n\u001b[0;32m    <a href='file:///c%3A/Users/mattg/AppData/Local/Programs/Python/Python310/lib/site-packages/pandas/core/internals/construction.py?line=675'>676</a>\u001b[0m \u001b[39mif\u001b[39;00m have_dicts:\n\u001b[0;32m    <a href='file:///c%3A/Users/mattg/AppData/Local/Programs/Python/Python310/lib/site-packages/pandas/core/internals/construction.py?line=676'>677</a>\u001b[0m     \u001b[39mraise\u001b[39;00m \u001b[39mValueError\u001b[39;00m(\n\u001b[0;32m    <a href='file:///c%3A/Users/mattg/AppData/Local/Programs/Python/Python310/lib/site-packages/pandas/core/internals/construction.py?line=677'>678</a>\u001b[0m         \u001b[39m\"\u001b[39m\u001b[39mMixing dicts with non-Series may lead to ambiguous ordering.\u001b[39m\u001b[39m\"\u001b[39m\n\u001b[0;32m    <a href='file:///c%3A/Users/mattg/AppData/Local/Programs/Python/Python310/lib/site-packages/pandas/core/internals/construction.py?line=678'>679</a>\u001b[0m     )\n",
      "\u001b[1;31mValueError\u001b[0m: All arrays must be of the same length"
     ]
    }
   ],
   "source": [
    "top_lats = listing_data.top_lat.unique()\n",
    "bottom_lats = listing_data.bottom_lat.unique()\n",
    "left_longs = listing_data.left_long.unique()\n",
    "right_longs = listing_data.right_long.unique()\n",
    "partitions = {'top_lat': top_lats, 'bottom_lat': bottom_lats, 'left_long': left_longs, 'right_long': right_longs}\n",
    "partition_df = pd.DataFrame(data=partitions)"
   ]
  },
  {
   "cell_type": "code",
   "execution_count": 106,
   "metadata": {},
   "outputs": [],
   "source": [
    "# Clean up listing_data\n",
    "conditions = [\n",
    "    listing_data['baths'].str.contains('shared', na=False),\n",
    "    listing_data['baths'].str.contains('Shared', na=False)\n",
    "]\n",
    "\n",
    "values = ['Shared', 'Shared']\n",
    "\n",
    "listing_data['baths_type'] = np.select(conditions, values, default='Private')\n",
    "\n",
    "conditions_loc = [\n",
    "    listing_data['top_lat'] > 35.5,\n",
    "    listing_data['top_lat'] < 28\n",
    "]\n",
    "\n",
    "values_loc = ['New England', 'Miami']\n",
    "\n",
    "listing_data['Region'] = np.select(conditions_loc, values_loc, default='Carolinas')\n",
    "\n",
    "\n",
    "conditions_halfbath = [\n",
    "    listing_data['baths'].str.contains('Half-bath', na=False),\n",
    "    listing_data['baths'].str.contains('Shared half-bath', na=False),\n",
    "    listing_data['baths'].str.contains('Private half-bath', na=False)\n",
    "]\n",
    "\n",
    "values_halfbath = [0.5,0.5,0.5]\n",
    "\n",
    "listing_data['baths'] = np.select(conditions_halfbath, values_halfbath, default=listing_data['baths'])\n",
    "\n",
    "listing_data['baths_no'] = listing_data['baths'].str.split(' ').str[0]\n",
    "listing_data['beds_no'] = listing_data['beds'].str.split(' ').str[0]\n",
    "listing_data['guest_no'] = listing_data['title'].str.split(' ').str[0]\n",
    "listing_data['guest_no'] = listing_data['guest_no'].astype('float')\n",
    "listing_data['id'] = listing_data['id'].astype('float64')\n",
    "listing_data['id'] = listing_data['id'].astype('str')\n",
    "listing_data['town'] = listing_data['town'].str.lower()\n",
    "listing_data = listing_data[listing_data.lat.isna() == False]\n",
    "#listing_data['city_geopy'] = listing_data.apply(lambda row: set_city(row['lat'], row['lng']), axis=1)\n",
    "#listing_data['state_geopy'] = listing_data.apply(lambda row: set_state(row['lat'], row['lng']), axis=1)\n",
    "#listing_data['country_geopy'] = listing_data.apply(lambda row: set_country(row['lat'], row['lng']), axis=1)\n",
    "#listing_data['country_code_geopy'] = listing_data.apply(lambda row: set_country_code(row['lat'], row['lng']), axis=1)\n",
    "#listing_data['zipcode_geopy'] = listing_data.apply(lambda row: set_zipcode(row['lat'], row['lng']), axis=1)\n",
    "\n",
    "# Clean up occ_data\n",
    "#occ_data['id'] = occ_data['id'].astype('int')\n",
    "occ_data['id'] = occ_data['id'].astype('str')\n",
    "\n",
    "# Clean up price_data\n",
    "#price_data['id'] = price_data['id'].astype('int')\n",
    "price_data['id'] = price_data['id'].astype('str')"
   ]
  },
  {
   "cell_type": "code",
   "execution_count": 107,
   "metadata": {},
   "outputs": [
    {
     "name": "stdout",
     "output_type": "stream",
     "text": [
      "Time to run was -1388.3272874355316\n"
     ]
    }
   ],
   "source": [
    "start_time = time.time()\n",
    "listing_data['state'] = listing_data.apply(lambda row: set_state(row['lat'], row['lng']), axis=1)\n",
    "end_time = time.time()\n",
    "print('Time to run was ' + str(start_time-end_time))"
   ]
  },
  {
   "cell_type": "code",
   "execution_count": 109,
   "metadata": {},
   "outputs": [],
   "source": [
    "listing_data.to_csv('listings_w_states.csv')"
   ]
  },
  {
   "cell_type": "code",
   "execution_count": 160,
   "metadata": {},
   "outputs": [],
   "source": [
    "listing_data_static = pd.read_csv('listings_w_states.csv')\n",
    "city_data = pd.read_csv('resource_data/uscities.csv')\n",
    "state_convert = city_data[['state_name','state_id']]\n",
    "state_convert = state_convert.drop_duplicates()\n",
    "listing_data_static = listing_data_static.merge(state_convert, left_on='state', right_on='state_name')\n",
    "#home_value = pd.read_csv('resource_data/home_value_zillow.csv')\n",
    "home_value_1bed = pd.read_csv('resource_data/zillow_city_onebed.csv')\n",
    "home_value_2bed = pd.read_csv('resource_data/zillow_city_twobed.csv')\n",
    "home_value_3bed = pd.read_csv('resource_data/zillow_city_threebed.csv')\n",
    "home_value_4bed = pd.read_csv('resource_data/zillow_city_fourbed.csv')\n",
    "home_value_5plusbed = pd.read_csv('resource_data/zillow_city_fiveplusbed.csv')\n",
    "\n",
    "home_value_1bed['RegionName'] = home_value_1bed['RegionName'].str.lower()\n",
    "home_value_1bed_reduced = home_value_1bed[['RegionName','CountyName', 'Metro', 'StateName','State', '2022-04-30']]\n",
    "home_value_1bed_reduced['num_beds'] = 1\n",
    "\n",
    "home_value_2bed['RegionName'] = home_value_2bed['RegionName'].str.lower()\n",
    "home_value_2bed_reduced = home_value_2bed[['RegionName','CountyName', 'Metro', 'StateName','State', '2022-04-30']]\n",
    "home_value_2bed_reduced['num_beds'] = 2\n",
    "\n",
    "home_value_3bed['RegionName'] = home_value_3bed['RegionName'].str.lower()\n",
    "home_value_3bed_reduced = home_value_3bed[['RegionName','CountyName', 'Metro', 'StateName','State', '2022-04-30']]\n",
    "home_value_3bed_reduced['num_beds'] = 3\n",
    "\n",
    "home_value_4bed['RegionName'] = home_value_4bed['RegionName'].str.lower()\n",
    "home_value_4bed_reduced = home_value_4bed[['RegionName','CountyName', 'Metro', 'StateName','State', '2022-04-30']]\n",
    "home_value_4bed_reduced['num_beds'] = 4\n",
    "\n",
    "home_value_5plusbed['RegionName'] = home_value_5plusbed['RegionName'].str.lower()\n",
    "home_value_5plusbed_reduced = home_value_5plusbed[['RegionName','CountyName', 'Metro', 'StateName','State', '2022-04-30']]\n",
    "home_value_5plusbed_reduced['num_beds'] = 5\n",
    "\n",
    "home_values = home_value_1bed_reduced.append(home_value_2bed_reduced)\n",
    "home_values = home_values.append(home_value_3bed_reduced)\n",
    "home_values = home_values.append(home_value_4bed_reduced)\n",
    "home_values = home_values.append(home_value_5plusbed_reduced)\n",
    "\n",
    "home_values_lookup = home_values[['RegionName','State', 'num_beds', '2022-04-30']]\n",
    "home_values_lookup = home_values_lookup.drop_duplicates()\n",
    "#listing_data_static = listing_data_static.merge(home_values, how='inner', left_on = ['state_id','beds_no'], right_on=['State','num_beds'])  # <-- Join to give avg house value for bedroom size\n",
    "#home_values = [['RegionName', 'CountyName', 'Metro', 'State', 'state_name', '2022-04-30', 'num_beds']] "
   ]
  },
  {
   "cell_type": "code",
   "execution_count": 252,
   "metadata": {},
   "outputs": [],
   "source": [
    "listing_data_static['avg_home_value'] = listing_data_static.apply(lambda row: set_avg_home_val(home_values, row['town'], row['state_id'], row['beds_no']),axis=1)\n",
    "#lambda row: set_avg_home_val(home_values, listing_data_static['town'], listing_data_static['state_id'], listing_data_static['beds_no'], axis=1)"
   ]
  },
  {
   "cell_type": "code",
   "execution_count": 228,
   "metadata": {},
   "outputs": [
    {
     "name": "stdout",
     "output_type": "stream",
     "text": [
      "2122    87152.0\n",
      "Name: 2022-04-30, dtype: float64\n"
     ]
    }
   ],
   "source": [
    "value = set_avg_home_val(home_values, 'clinton', 'NC', 2)\n"
   ]
  },
  {
   "cell_type": "code",
   "execution_count": 240,
   "metadata": {},
   "outputs": [
    {
     "data": {
      "text/html": [
       "<div>\n",
       "<style scoped>\n",
       "    .dataframe tbody tr th:only-of-type {\n",
       "        vertical-align: middle;\n",
       "    }\n",
       "\n",
       "    .dataframe tbody tr th {\n",
       "        vertical-align: top;\n",
       "    }\n",
       "\n",
       "    .dataframe thead th {\n",
       "        text-align: right;\n",
       "    }\n",
       "</style>\n",
       "<table border=\"1\" class=\"dataframe\">\n",
       "  <thead>\n",
       "    <tr style=\"text-align: right;\">\n",
       "      <th></th>\n",
       "      <th>Unnamed: 0</th>\n",
       "      <th>index</th>\n",
       "      <th>id</th>\n",
       "      <th>name</th>\n",
       "      <th>price</th>\n",
       "      <th>displayPrice</th>\n",
       "      <th>monthlyPriceFactor</th>\n",
       "      <th>weeklyPriceFactor</th>\n",
       "      <th>avgRating</th>\n",
       "      <th>reviewsCount</th>\n",
       "      <th>...</th>\n",
       "      <th>url</th>\n",
       "      <th>baths_type</th>\n",
       "      <th>Region</th>\n",
       "      <th>baths_no</th>\n",
       "      <th>beds_no</th>\n",
       "      <th>guest_no</th>\n",
       "      <th>state</th>\n",
       "      <th>state_name</th>\n",
       "      <th>state_id</th>\n",
       "      <th>avg_home_value</th>\n",
       "    </tr>\n",
       "  </thead>\n",
       "  <tbody>\n",
       "    <tr>\n",
       "      <th>0</th>\n",
       "      <td>0</td>\n",
       "      <td>0</td>\n",
       "      <td>6.303498e+17</td>\n",
       "      <td>Pawleys Island Retreat</td>\n",
       "      <td>100.0</td>\n",
       "      <td>$100</td>\n",
       "      <td>1.0</td>\n",
       "      <td>1.00</td>\n",
       "      <td>NaN</td>\n",
       "      <td>0.0</td>\n",
       "      <td>...</td>\n",
       "      <td>https://www.airbnb.com/s/homes?refinement_path...</td>\n",
       "      <td>Private</td>\n",
       "      <td>Carolinas</td>\n",
       "      <td>3.0</td>\n",
       "      <td>5.0</td>\n",
       "      <td>8.0</td>\n",
       "      <td>South Carolina</td>\n",
       "      <td>South Carolina</td>\n",
       "      <td>SC</td>\n",
       "      <td>1019368.0</td>\n",
       "    </tr>\n",
       "    <tr>\n",
       "      <th>1</th>\n",
       "      <td>1</td>\n",
       "      <td>1</td>\n",
       "      <td>5.744629e+17</td>\n",
       "      <td>NEW! Pawleys Paradise Family Beach Home w/Golf...</td>\n",
       "      <td>492.0</td>\n",
       "      <td>$492</td>\n",
       "      <td>0.8</td>\n",
       "      <td>0.86</td>\n",
       "      <td>5.00</td>\n",
       "      <td>8.0</td>\n",
       "      <td>...</td>\n",
       "      <td>https://www.airbnb.com/s/homes?refinement_path...</td>\n",
       "      <td>Private</td>\n",
       "      <td>Carolinas</td>\n",
       "      <td>3.5</td>\n",
       "      <td>8.0</td>\n",
       "      <td>14.0</td>\n",
       "      <td>South Carolina</td>\n",
       "      <td>South Carolina</td>\n",
       "      <td>SC</td>\n",
       "      <td>1630988.8</td>\n",
       "    </tr>\n",
       "    <tr>\n",
       "      <th>2</th>\n",
       "      <td>2</td>\n",
       "      <td>2</td>\n",
       "      <td>3.644240e+07</td>\n",
       "      <td>Peaceful home nestled on golf course</td>\n",
       "      <td>281.0</td>\n",
       "      <td>$281</td>\n",
       "      <td>1.0</td>\n",
       "      <td>0.95</td>\n",
       "      <td>4.64</td>\n",
       "      <td>28.0</td>\n",
       "      <td>...</td>\n",
       "      <td>https://www.airbnb.com/s/homes?refinement_path...</td>\n",
       "      <td>Private</td>\n",
       "      <td>Carolinas</td>\n",
       "      <td>2.0</td>\n",
       "      <td>5.0</td>\n",
       "      <td>8.0</td>\n",
       "      <td>South Carolina</td>\n",
       "      <td>South Carolina</td>\n",
       "      <td>SC</td>\n",
       "      <td>1019368.0</td>\n",
       "    </tr>\n",
       "    <tr>\n",
       "      <th>3</th>\n",
       "      <td>3</td>\n",
       "      <td>3</td>\n",
       "      <td>5.210869e+07</td>\n",
       "      <td>Golf, Beach and Pool! Open 3Bd 2Bath in True Blue</td>\n",
       "      <td>185.0</td>\n",
       "      <td>$185</td>\n",
       "      <td>0.8</td>\n",
       "      <td>0.90</td>\n",
       "      <td>4.92</td>\n",
       "      <td>13.0</td>\n",
       "      <td>...</td>\n",
       "      <td>https://www.airbnb.com/s/homes?refinement_path...</td>\n",
       "      <td>Private</td>\n",
       "      <td>Carolinas</td>\n",
       "      <td>2.0</td>\n",
       "      <td>6.0</td>\n",
       "      <td>7.0</td>\n",
       "      <td>South Carolina</td>\n",
       "      <td>South Carolina</td>\n",
       "      <td>SC</td>\n",
       "      <td>1223241.6</td>\n",
       "    </tr>\n",
       "    <tr>\n",
       "      <th>4</th>\n",
       "      <td>4</td>\n",
       "      <td>4</td>\n",
       "      <td>4.988713e+07</td>\n",
       "      <td>Hampton</td>\n",
       "      <td>164.0</td>\n",
       "      <td>$164</td>\n",
       "      <td>1.0</td>\n",
       "      <td>1.00</td>\n",
       "      <td>5.00</td>\n",
       "      <td>6.0</td>\n",
       "      <td>...</td>\n",
       "      <td>https://www.airbnb.com/s/homes?refinement_path...</td>\n",
       "      <td>Private</td>\n",
       "      <td>Carolinas</td>\n",
       "      <td>1.0</td>\n",
       "      <td>1.0</td>\n",
       "      <td>2.0</td>\n",
       "      <td>South Carolina</td>\n",
       "      <td>South Carolina</td>\n",
       "      <td>SC</td>\n",
       "      <td>205198.0</td>\n",
       "    </tr>\n",
       "  </tbody>\n",
       "</table>\n",
       "<p>5 rows × 35 columns</p>\n",
       "</div>"
      ],
      "text/plain": [
       "   Unnamed: 0  index            id  \\\n",
       "0           0      0  6.303498e+17   \n",
       "1           1      1  5.744629e+17   \n",
       "2           2      2  3.644240e+07   \n",
       "3           3      3  5.210869e+07   \n",
       "4           4      4  4.988713e+07   \n",
       "\n",
       "                                                name  price displayPrice  \\\n",
       "0                             Pawleys Island Retreat  100.0         $100   \n",
       "1  NEW! Pawleys Paradise Family Beach Home w/Golf...  492.0         $492   \n",
       "2               Peaceful home nestled on golf course  281.0         $281   \n",
       "3  Golf, Beach and Pool! Open 3Bd 2Bath in True Blue  185.0         $185   \n",
       "4                                            Hampton  164.0         $164   \n",
       "\n",
       "   monthlyPriceFactor  weeklyPriceFactor  avgRating  reviewsCount  ...  \\\n",
       "0                 1.0               1.00        NaN           0.0  ...   \n",
       "1                 0.8               0.86       5.00           8.0  ...   \n",
       "2                 1.0               0.95       4.64          28.0  ...   \n",
       "3                 0.8               0.90       4.92          13.0  ...   \n",
       "4                 1.0               1.00       5.00           6.0  ...   \n",
       "\n",
       "                                                 url  baths_type     Region  \\\n",
       "0  https://www.airbnb.com/s/homes?refinement_path...     Private  Carolinas   \n",
       "1  https://www.airbnb.com/s/homes?refinement_path...     Private  Carolinas   \n",
       "2  https://www.airbnb.com/s/homes?refinement_path...     Private  Carolinas   \n",
       "3  https://www.airbnb.com/s/homes?refinement_path...     Private  Carolinas   \n",
       "4  https://www.airbnb.com/s/homes?refinement_path...     Private  Carolinas   \n",
       "\n",
       "   baths_no  beds_no guest_no           state      state_name state_id  \\\n",
       "0       3.0      5.0      8.0  South Carolina  South Carolina       SC   \n",
       "1       3.5      8.0     14.0  South Carolina  South Carolina       SC   \n",
       "2       2.0      5.0      8.0  South Carolina  South Carolina       SC   \n",
       "3       2.0      6.0      7.0  South Carolina  South Carolina       SC   \n",
       "4       1.0      1.0      2.0  South Carolina  South Carolina       SC   \n",
       "\n",
       "  avg_home_value  \n",
       "0      1019368.0  \n",
       "1      1630988.8  \n",
       "2      1019368.0  \n",
       "3      1223241.6  \n",
       "4       205198.0  \n",
       "\n",
       "[5 rows x 35 columns]"
      ]
     },
     "execution_count": 240,
     "metadata": {},
     "output_type": "execute_result"
    }
   ],
   "source": [
    "listing_data_static.head(5)"
   ]
  },
  {
   "cell_type": "code",
   "execution_count": 253,
   "metadata": {},
   "outputs": [],
   "source": [
    "listing_data = listing_data_static\n",
    "listing_data['id'] = listing_data['id'].astype('str')\n",
    "\n",
    "occ_rate = occ_data.groupby('id')['available'].apply(lambda row: np.sum(row)/len(row))\n",
    "combined_data = listing_data.merge(occ_rate, on = 'id')\n",
    "combined_data.rename(columns = {'available':'occupancy_rate'}, inplace = True)\n",
    "\n",
    "cleaning_fee = price_data.groupby(['id'])['cleaning_fee'].median().reset_index()\n",
    "cleaning_fee.rename(columns = {'cleaning_fee':'median_cleaning_fee'}, inplace = True)\n",
    "service_fee = price_data.groupby(['id'])['service_fee'].median().reset_index()\n",
    "service_fee.rename(columns = {'service_fee':'median_service_fee'}, inplace = True)\n",
    "combined_data = combined_data.merge(cleaning_fee, on='id')\n",
    "combined_data = combined_data.merge(service_fee, on='id')\n",
    "combined_data['median_total_price'] = combined_data['price'] + combined_data['median_cleaning_fee'] + combined_data['median_service_fee']\n",
    "\n",
    "#home_value['RegionName'] = home_value['RegionName'].str.lower()\n",
    "#home_value_reduced = home_value[['RegionName','CountyName', 'Metro', 'State', '2022-04-30']]\n",
    "#combined_data = combined_data.merge(home_value, left_on='town', right_on='RegionName')\n"
   ]
  },
  {
   "cell_type": "code",
   "execution_count": 254,
   "metadata": {},
   "outputs": [],
   "source": [
    "#listing_data.top_lat.unique()\n",
    "combined_data.to_csv('post_home_cals_and_merges.csv')"
   ]
  },
  {
   "cell_type": "code",
   "execution_count": 255,
   "metadata": {},
   "outputs": [],
   "source": [
    "# Adding avg mortgage and median ROI\n",
    "combined_data['avg_30_yr_mort'] = combined_data.apply(lambda row: calculate_mortgage(row['avg_home_value'], 5, 30), axis=1)\n",
    "combined_data['median_ROI'] = combined_data.apply(lambda row: calculate_roi(row['median_total_price'], row['occupancy_rate'], row['avg_30_yr_mort']), axis=1)"
   ]
  },
  {
   "cell_type": "code",
   "execution_count": 256,
   "metadata": {},
   "outputs": [],
   "source": [
    "combined_data.to_csv('post_mort_and_roi_calcs.csv')"
   ]
  },
  {
   "cell_type": "code",
   "execution_count": null,
   "metadata": {},
   "outputs": [],
   "source": [
    "# Table for region and property type\n",
    "region_proptype_roi = combined_data.groupby(['Region','property_type'])['median_ROI'].median().reset_index()"
   ]
  },
  {
   "cell_type": "code",
   "execution_count": 42,
   "metadata": {},
   "outputs": [
    {
     "data": {
      "text/plain": [
       "2420"
      ]
     },
     "execution_count": 42,
     "metadata": {},
     "output_type": "execute_result"
    }
   ],
   "source": [
    "len(listing_data.id.unique())"
   ]
  },
  {
   "cell_type": "code",
   "execution_count": 53,
   "metadata": {},
   "outputs": [
    {
     "data": {
      "text/html": [
       "<div>\n",
       "<style scoped>\n",
       "    .dataframe tbody tr th:only-of-type {\n",
       "        vertical-align: middle;\n",
       "    }\n",
       "\n",
       "    .dataframe tbody tr th {\n",
       "        vertical-align: top;\n",
       "    }\n",
       "\n",
       "    .dataframe thead th {\n",
       "        text-align: right;\n",
       "    }\n",
       "</style>\n",
       "<table border=\"1\" class=\"dataframe\">\n",
       "  <thead>\n",
       "    <tr style=\"text-align: right;\">\n",
       "      <th></th>\n",
       "      <th>index</th>\n",
       "      <th>id</th>\n",
       "      <th>name</th>\n",
       "      <th>price</th>\n",
       "      <th>displayPrice</th>\n",
       "      <th>monthlyPriceFactor</th>\n",
       "      <th>weeklyPriceFactor</th>\n",
       "      <th>avgRating</th>\n",
       "      <th>reviewsCount</th>\n",
       "      <th>isNewListing</th>\n",
       "      <th>...</th>\n",
       "      <th>2021-09-30</th>\n",
       "      <th>2021-10-31</th>\n",
       "      <th>2021-11-30</th>\n",
       "      <th>2021-12-31</th>\n",
       "      <th>2022-01-31</th>\n",
       "      <th>2022-02-28</th>\n",
       "      <th>2022-03-31</th>\n",
       "      <th>2022-04-30</th>\n",
       "      <th>avg_30_yr_mort</th>\n",
       "      <th>median_ROI</th>\n",
       "    </tr>\n",
       "  </thead>\n",
       "  <tbody>\n",
       "    <tr>\n",
       "      <th>0</th>\n",
       "      <td>6</td>\n",
       "      <td>41953607.0</td>\n",
       "      <td>DropAnchor, 3BR/2BA Creek Front Beach House</td>\n",
       "      <td>100.0</td>\n",
       "      <td>$100</td>\n",
       "      <td>1.00</td>\n",
       "      <td>1.0</td>\n",
       "      <td>NaN</td>\n",
       "      <td>1.0</td>\n",
       "      <td>0.0</td>\n",
       "      <td>...</td>\n",
       "      <td>394175.0</td>\n",
       "      <td>404367.0</td>\n",
       "      <td>413364.0</td>\n",
       "      <td>422399.0</td>\n",
       "      <td>430296.0</td>\n",
       "      <td>437008.0</td>\n",
       "      <td>445186.0</td>\n",
       "      <td>454096.0</td>\n",
       "      <td>2437.69</td>\n",
       "      <td>0.608116</td>\n",
       "    </tr>\n",
       "    <tr>\n",
       "      <th>1</th>\n",
       "      <td>13</td>\n",
       "      <td>23525446.0</td>\n",
       "      <td>Pawleys Island- Beautiful True Blue Golf Condo</td>\n",
       "      <td>175.0</td>\n",
       "      <td>$175</td>\n",
       "      <td>0.80</td>\n",
       "      <td>0.9</td>\n",
       "      <td>4.82</td>\n",
       "      <td>50.0</td>\n",
       "      <td>0.0</td>\n",
       "      <td>...</td>\n",
       "      <td>394175.0</td>\n",
       "      <td>404367.0</td>\n",
       "      <td>413364.0</td>\n",
       "      <td>422399.0</td>\n",
       "      <td>430296.0</td>\n",
       "      <td>437008.0</td>\n",
       "      <td>445186.0</td>\n",
       "      <td>454096.0</td>\n",
       "      <td>2437.69</td>\n",
       "      <td>-0.780373</td>\n",
       "    </tr>\n",
       "    <tr>\n",
       "      <th>2</th>\n",
       "      <td>1</td>\n",
       "      <td>2095742.0</td>\n",
       "      <td>True Blue Golf and Tennis Resort</td>\n",
       "      <td>125.0</td>\n",
       "      <td>$125</td>\n",
       "      <td>0.48</td>\n",
       "      <td>0.8</td>\n",
       "      <td>4.95</td>\n",
       "      <td>22.0</td>\n",
       "      <td>0.0</td>\n",
       "      <td>...</td>\n",
       "      <td>394175.0</td>\n",
       "      <td>404367.0</td>\n",
       "      <td>413364.0</td>\n",
       "      <td>422399.0</td>\n",
       "      <td>430296.0</td>\n",
       "      <td>437008.0</td>\n",
       "      <td>445186.0</td>\n",
       "      <td>454096.0</td>\n",
       "      <td>2437.69</td>\n",
       "      <td>0.537658</td>\n",
       "    </tr>\n",
       "    <tr>\n",
       "      <th>3</th>\n",
       "      <td>10</td>\n",
       "      <td>19143185.0</td>\n",
       "      <td>Relaxing family beach house in gated commuity</td>\n",
       "      <td>175.0</td>\n",
       "      <td>$175</td>\n",
       "      <td>1.00</td>\n",
       "      <td>1.0</td>\n",
       "      <td>4.91</td>\n",
       "      <td>32.0</td>\n",
       "      <td>0.0</td>\n",
       "      <td>...</td>\n",
       "      <td>309942.0</td>\n",
       "      <td>321135.0</td>\n",
       "      <td>329764.0</td>\n",
       "      <td>339075.0</td>\n",
       "      <td>347724.0</td>\n",
       "      <td>353249.0</td>\n",
       "      <td>358775.0</td>\n",
       "      <td>366214.0</td>\n",
       "      <td>1965.92</td>\n",
       "      <td>-0.766649</td>\n",
       "    </tr>\n",
       "    <tr>\n",
       "      <th>4</th>\n",
       "      <td>16</td>\n",
       "      <td>38490169.0</td>\n",
       "      <td>Oceanfront, Incredible Water's Edge Views with...</td>\n",
       "      <td>203.0</td>\n",
       "      <td>$203</td>\n",
       "      <td>0.83</td>\n",
       "      <td>1.0</td>\n",
       "      <td>NaN</td>\n",
       "      <td>2.0</td>\n",
       "      <td>0.0</td>\n",
       "      <td>...</td>\n",
       "      <td>309942.0</td>\n",
       "      <td>321135.0</td>\n",
       "      <td>329764.0</td>\n",
       "      <td>339075.0</td>\n",
       "      <td>347724.0</td>\n",
       "      <td>353249.0</td>\n",
       "      <td>358775.0</td>\n",
       "      <td>366214.0</td>\n",
       "      <td>1965.92</td>\n",
       "      <td>3.411824</td>\n",
       "    </tr>\n",
       "    <tr>\n",
       "      <th>...</th>\n",
       "      <td>...</td>\n",
       "      <td>...</td>\n",
       "      <td>...</td>\n",
       "      <td>...</td>\n",
       "      <td>...</td>\n",
       "      <td>...</td>\n",
       "      <td>...</td>\n",
       "      <td>...</td>\n",
       "      <td>...</td>\n",
       "      <td>...</td>\n",
       "      <td>...</td>\n",
       "      <td>...</td>\n",
       "      <td>...</td>\n",
       "      <td>...</td>\n",
       "      <td>...</td>\n",
       "      <td>...</td>\n",
       "      <td>...</td>\n",
       "      <td>...</td>\n",
       "      <td>...</td>\n",
       "      <td>...</td>\n",
       "      <td>...</td>\n",
       "    </tr>\n",
       "    <tr>\n",
       "      <th>574</th>\n",
       "      <td>1</td>\n",
       "      <td>18975805.0</td>\n",
       "      <td>Luxurious Town Home Steps to the Shore | * Dhalia</td>\n",
       "      <td>217.0</td>\n",
       "      <td>$217</td>\n",
       "      <td>0.80</td>\n",
       "      <td>0.9</td>\n",
       "      <td>4.81</td>\n",
       "      <td>37.0</td>\n",
       "      <td>0.0</td>\n",
       "      <td>...</td>\n",
       "      <td>401843.0</td>\n",
       "      <td>407483.0</td>\n",
       "      <td>413791.0</td>\n",
       "      <td>420294.0</td>\n",
       "      <td>428052.0</td>\n",
       "      <td>434398.0</td>\n",
       "      <td>442541.0</td>\n",
       "      <td>450764.0</td>\n",
       "      <td>2419.80</td>\n",
       "      <td>1.719785</td>\n",
       "    </tr>\n",
       "    <tr>\n",
       "      <th>575</th>\n",
       "      <td>1</td>\n",
       "      <td>30378679.0</td>\n",
       "      <td>MODERN AMAZING BEACH GETAWAY! RIGHT ON THE BEACH</td>\n",
       "      <td>95.0</td>\n",
       "      <td>$95</td>\n",
       "      <td>0.90</td>\n",
       "      <td>1.0</td>\n",
       "      <td>4.74</td>\n",
       "      <td>69.0</td>\n",
       "      <td>0.0</td>\n",
       "      <td>...</td>\n",
       "      <td>401843.0</td>\n",
       "      <td>407483.0</td>\n",
       "      <td>413791.0</td>\n",
       "      <td>420294.0</td>\n",
       "      <td>428052.0</td>\n",
       "      <td>434398.0</td>\n",
       "      <td>442541.0</td>\n",
       "      <td>450764.0</td>\n",
       "      <td>2419.80</td>\n",
       "      <td>0.251393</td>\n",
       "    </tr>\n",
       "    <tr>\n",
       "      <th>576</th>\n",
       "      <td>16</td>\n",
       "      <td>51669928.0</td>\n",
       "      <td>Stunning 1 BR Beachfront APT @ The Carillon Hotel</td>\n",
       "      <td>367.0</td>\n",
       "      <td>$367</td>\n",
       "      <td>0.95</td>\n",
       "      <td>1.0</td>\n",
       "      <td>4.96</td>\n",
       "      <td>27.0</td>\n",
       "      <td>0.0</td>\n",
       "      <td>...</td>\n",
       "      <td>401843.0</td>\n",
       "      <td>407483.0</td>\n",
       "      <td>413791.0</td>\n",
       "      <td>420294.0</td>\n",
       "      <td>428052.0</td>\n",
       "      <td>434398.0</td>\n",
       "      <td>442541.0</td>\n",
       "      <td>450764.0</td>\n",
       "      <td>2419.80</td>\n",
       "      <td>2.386977</td>\n",
       "    </tr>\n",
       "    <tr>\n",
       "      <th>577</th>\n",
       "      <td>13</td>\n",
       "      <td>48435649.0</td>\n",
       "      <td>Unit 102 Byron is a walking distance to the beach</td>\n",
       "      <td>134.0</td>\n",
       "      <td>$134</td>\n",
       "      <td>0.80</td>\n",
       "      <td>0.9</td>\n",
       "      <td>4.63</td>\n",
       "      <td>24.0</td>\n",
       "      <td>0.0</td>\n",
       "      <td>...</td>\n",
       "      <td>401843.0</td>\n",
       "      <td>407483.0</td>\n",
       "      <td>413791.0</td>\n",
       "      <td>420294.0</td>\n",
       "      <td>428052.0</td>\n",
       "      <td>434398.0</td>\n",
       "      <td>442541.0</td>\n",
       "      <td>450764.0</td>\n",
       "      <td>2419.80</td>\n",
       "      <td>2.801078</td>\n",
       "    </tr>\n",
       "    <tr>\n",
       "      <th>578</th>\n",
       "      <td>4</td>\n",
       "      <td>4770882.0</td>\n",
       "      <td>Amazing Views of MIAMI in Penthouse</td>\n",
       "      <td>140.0</td>\n",
       "      <td>$140</td>\n",
       "      <td>1.00</td>\n",
       "      <td>1.0</td>\n",
       "      <td>4.92</td>\n",
       "      <td>12.0</td>\n",
       "      <td>0.0</td>\n",
       "      <td>...</td>\n",
       "      <td>307840.0</td>\n",
       "      <td>314142.0</td>\n",
       "      <td>320788.0</td>\n",
       "      <td>327490.0</td>\n",
       "      <td>334787.0</td>\n",
       "      <td>340601.0</td>\n",
       "      <td>347625.0</td>\n",
       "      <td>355113.0</td>\n",
       "      <td>1906.32</td>\n",
       "      <td>2.114917</td>\n",
       "    </tr>\n",
       "  </tbody>\n",
       "</table>\n",
       "<p>444 rows × 312 columns</p>\n",
       "</div>"
      ],
      "text/plain": [
       "     index          id                                               name  \\\n",
       "0        6  41953607.0        DropAnchor, 3BR/2BA Creek Front Beach House   \n",
       "1       13  23525446.0     Pawleys Island- Beautiful True Blue Golf Condo   \n",
       "2        1   2095742.0                   True Blue Golf and Tennis Resort   \n",
       "3       10  19143185.0      Relaxing family beach house in gated commuity   \n",
       "4       16  38490169.0  Oceanfront, Incredible Water's Edge Views with...   \n",
       "..     ...         ...                                                ...   \n",
       "574      1  18975805.0  Luxurious Town Home Steps to the Shore | * Dhalia   \n",
       "575      1  30378679.0   MODERN AMAZING BEACH GETAWAY! RIGHT ON THE BEACH   \n",
       "576     16  51669928.0  Stunning 1 BR Beachfront APT @ The Carillon Hotel   \n",
       "577     13  48435649.0  Unit 102 Byron is a walking distance to the beach   \n",
       "578      4   4770882.0                Amazing Views of MIAMI in Penthouse   \n",
       "\n",
       "     price displayPrice  monthlyPriceFactor  weeklyPriceFactor  avgRating  \\\n",
       "0    100.0         $100                1.00                1.0        NaN   \n",
       "1    175.0         $175                0.80                0.9       4.82   \n",
       "2    125.0         $125                0.48                0.8       4.95   \n",
       "3    175.0         $175                1.00                1.0       4.91   \n",
       "4    203.0         $203                0.83                1.0        NaN   \n",
       "..     ...          ...                 ...                ...        ...   \n",
       "574  217.0         $217                0.80                0.9       4.81   \n",
       "575   95.0          $95                0.90                1.0       4.74   \n",
       "576  367.0         $367                0.95                1.0       4.96   \n",
       "577  134.0         $134                0.80                0.9       4.63   \n",
       "578  140.0         $140                1.00                1.0       4.92   \n",
       "\n",
       "     reviewsCount  isNewListing  ...  2021-09-30  2021-10-31  2021-11-30  \\\n",
       "0             1.0           0.0  ...    394175.0    404367.0    413364.0   \n",
       "1            50.0           0.0  ...    394175.0    404367.0    413364.0   \n",
       "2            22.0           0.0  ...    394175.0    404367.0    413364.0   \n",
       "3            32.0           0.0  ...    309942.0    321135.0    329764.0   \n",
       "4             2.0           0.0  ...    309942.0    321135.0    329764.0   \n",
       "..            ...           ...  ...         ...         ...         ...   \n",
       "574          37.0           0.0  ...    401843.0    407483.0    413791.0   \n",
       "575          69.0           0.0  ...    401843.0    407483.0    413791.0   \n",
       "576          27.0           0.0  ...    401843.0    407483.0    413791.0   \n",
       "577          24.0           0.0  ...    401843.0    407483.0    413791.0   \n",
       "578          12.0           0.0  ...    307840.0    314142.0    320788.0   \n",
       "\n",
       "     2021-12-31 2022-01-31 2022-02-28 2022-03-31 2022-04-30 avg_30_yr_mort  \\\n",
       "0      422399.0   430296.0   437008.0   445186.0   454096.0        2437.69   \n",
       "1      422399.0   430296.0   437008.0   445186.0   454096.0        2437.69   \n",
       "2      422399.0   430296.0   437008.0   445186.0   454096.0        2437.69   \n",
       "3      339075.0   347724.0   353249.0   358775.0   366214.0        1965.92   \n",
       "4      339075.0   347724.0   353249.0   358775.0   366214.0        1965.92   \n",
       "..          ...        ...        ...        ...        ...            ...   \n",
       "574    420294.0   428052.0   434398.0   442541.0   450764.0        2419.80   \n",
       "575    420294.0   428052.0   434398.0   442541.0   450764.0        2419.80   \n",
       "576    420294.0   428052.0   434398.0   442541.0   450764.0        2419.80   \n",
       "577    420294.0   428052.0   434398.0   442541.0   450764.0        2419.80   \n",
       "578    327490.0   334787.0   340601.0   347625.0   355113.0        1906.32   \n",
       "\n",
       "    median_ROI  \n",
       "0     0.608116  \n",
       "1    -0.780373  \n",
       "2     0.537658  \n",
       "3    -0.766649  \n",
       "4     3.411824  \n",
       "..         ...  \n",
       "574   1.719785  \n",
       "575   0.251393  \n",
       "576   2.386977  \n",
       "577   2.801078  \n",
       "578   2.114917  \n",
       "\n",
       "[444 rows x 312 columns]"
      ]
     },
     "execution_count": 53,
     "metadata": {},
     "output_type": "execute_result"
    }
   ],
   "source": [
    "combined_data_grouped.head(5)"
   ]
  },
  {
   "cell_type": "code",
   "execution_count": 54,
   "metadata": {},
   "outputs": [
    {
     "data": {
      "application/vnd.plotly.v1+json": {
       "config": {
        "plotlyServerURL": "https://plot.ly"
       },
       "data": [
        {
         "name": "VT",
         "type": "bar",
         "x": [
          "wilmington",
          "killington",
          "killington",
          "killington",
          "lincoln",
          "lincoln",
          "starksboro",
          "starksboro",
          "waitsfield",
          "waitsfield",
          "waitsfield",
          "stowe",
          "andover",
          "roxbury",
          "newport",
          "irasburg",
          "fairfield"
         ],
         "xaxis": "x",
         "y": [
          2.8988464877441356,
          3.7225199430059543,
          4.0505369339778445,
          -0.8377577603416275,
          7.201349084776888,
          1.1845355248385232,
          5.783008581939503,
          2.570114096429886,
          2.7939458812699254,
          1.0038689961220983,
          1.4187263191445167,
          3.3111485920214547,
          0.9309385611083936,
          4.799414508349504,
          1.1098726311536098,
          3.6340493237867935,
          1.9252274665251732
         ],
         "yaxis": "y"
        },
        {
         "name": "NH",
         "type": "bar",
         "x": [
          "conway",
          "alton",
          "freedom",
          "raymond",
          "raymond",
          "raymond",
          "raymond",
          "raymond",
          "windham",
          "windham",
          "windham",
          "windham",
          "lincoln",
          "lincoln",
          "bethlehem",
          "bethlehem",
          "andover",
          "roxbury",
          "newport"
         ],
         "xaxis": "x2",
         "y": [
          0.44366499565250034,
          -0.29976471546310185,
          17.66173693372723,
          4.136928502623135,
          1.2228800488719107,
          0.12790873556080976,
          0.12790873556080976,
          0.2846977370344253,
          2.2606003055200032,
          2.2606003055200032,
          1.3804104311395717,
          1.3804104311395717,
          6.921451856777669,
          1.109981273879608,
          0.48953731569037545,
          null,
          0.9235665850994298,
          4.105315023384067,
          0.8079113284334106
         ],
         "yaxis": "y2"
        },
        {
         "name": "NC",
         "type": "bar",
         "x": [
          "conway",
          "bald head island",
          "bald head island",
          "holden beach",
          "carolina beach",
          "carolina beach",
          "carolina beach",
          "carolina beach",
          "carolina beach",
          "carolina beach",
          "carolina beach",
          "wrightsville beach",
          "wrightsville beach",
          "wrightsville beach",
          "wrightsville beach",
          "wrightsville beach",
          "wrightsville beach",
          "wrightsville beach",
          "wrightsville beach",
          "wrightsville beach",
          "wrightsville beach",
          "wrightsville beach",
          "wrightsville beach",
          "wrightsville beach",
          "wrightsville beach",
          "wrightsville beach",
          "wrightsville beach",
          "wrightsville beach",
          "wrightsville beach",
          "wrightsville beach",
          "wrightsville beach",
          "wrightsville beach",
          "wrightsville beach",
          "wrightsville beach",
          "wilmington",
          "atlantic beach",
          "atlantic beach",
          "atlantic beach",
          "atlantic beach",
          "newport",
          "fairfield"
         ],
         "xaxis": "x3",
         "y": [
          4.376494539552389,
          0.1377932125125576,
          2.6646650123449693,
          null,
          2.293920412544698,
          4.048579401767746,
          null,
          null,
          null,
          3.9686158554773114,
          0.7457345070648452,
          null,
          null,
          null,
          null,
          0.2902397659908823,
          -0.8943413129765492,
          1.3988251365448987,
          0.3320719529994564,
          0.3320719529994564,
          0.3663497793198593,
          -0.7803571335957638,
          1.9363420115899954,
          null,
          null,
          null,
          null,
          0.26581832174270104,
          1.558740556821667,
          -0.4423353197139196,
          -0.4423353197139196,
          2.04264672042478,
          5.961112489594272,
          0.10408994588975906,
          2.7166573995317926,
          2.687829664733358,
          null,
          2.009823720384677,
          3.793018027100798,
          0.4493142596419658,
          6.387606078689876
         ],
         "yaxis": "y3"
        },
        {
         "name": "SC",
         "type": "bar",
         "x": [
          "pawleys island",
          "pawleys island",
          "pawleys island",
          "murrells inlet",
          "murrells inlet",
          "myrtle beach",
          "myrtle beach",
          "myrtle beach",
          "myrtle beach",
          "myrtle beach",
          "myrtle beach",
          "myrtle beach",
          "myrtle beach",
          "myrtle beach",
          "myrtle beach",
          "myrtle beach",
          "myrtle beach",
          "myrtle beach",
          "myrtle beach",
          "myrtle beach",
          "myrtle beach",
          "myrtle beach",
          "myrtle beach",
          "myrtle beach",
          "myrtle beach",
          "myrtle beach",
          "myrtle beach",
          "myrtle beach",
          "myrtle beach",
          "myrtle beach",
          "myrtle beach",
          "myrtle beach",
          "myrtle beach",
          "myrtle beach",
          "myrtle beach",
          "myrtle beach",
          "myrtle beach",
          "myrtle beach",
          "myrtle beach",
          "myrtle beach",
          "myrtle beach",
          "myrtle beach",
          "myrtle beach",
          "myrtle beach",
          "myrtle beach",
          "myrtle beach",
          "myrtle beach",
          "myrtle beach",
          "myrtle beach",
          "myrtle beach",
          "myrtle beach",
          "myrtle beach",
          "myrtle beach",
          "north myrtle beach",
          "north myrtle beach",
          "north myrtle beach",
          "north myrtle beach",
          "north myrtle beach",
          "north myrtle beach",
          "north myrtle beach",
          "north myrtle beach",
          "north myrtle beach",
          "north myrtle beach",
          "north myrtle beach",
          "north myrtle beach",
          "north myrtle beach",
          "north myrtle beach",
          "north myrtle beach",
          "north myrtle beach",
          "north myrtle beach",
          "north myrtle beach",
          "north myrtle beach",
          "north myrtle beach",
          "north myrtle beach",
          "north myrtle beach",
          "north myrtle beach",
          "north myrtle beach",
          "north myrtle beach",
          "north myrtle beach",
          "north myrtle beach",
          "north myrtle beach",
          "north myrtle beach",
          "north myrtle beach",
          "north myrtle beach",
          "north myrtle beach",
          "north myrtle beach",
          "north myrtle beach",
          "north myrtle beach",
          "north myrtle beach",
          "north myrtle beach",
          "north myrtle beach",
          "north myrtle beach",
          "conway",
          "atlantic beach",
          "atlantic beach",
          "atlantic beach",
          "atlantic beach",
          "denmark",
          "greenwood"
         ],
         "xaxis": "x4",
         "y": [
          0.6081157650473381,
          -0.7803733949159375,
          0.5376579193143236,
          -0.7666486937413527,
          3.4118244179056747,
          3.89800358636104,
          4.4087723344027685,
          0.8063911219358257,
          2.1346241850558707,
          2.1346241850558707,
          3.9108489444329817,
          2.5042990929806135,
          2.2936711831080507,
          2.2936711831080507,
          1.0324267185246023,
          1.0324267185246023,
          1.359410196899223,
          2.892177210649038,
          null,
          4.241883824019269,
          4.241883824019269,
          4.241883824019269,
          4.869654341865888,
          2.0012735222893374,
          2.0012735222893374,
          0.9217464832039358,
          9.222522509158075,
          8.504620957420842,
          8.504620957420842,
          11.370416971786067,
          3.252968255445286,
          1.2855971506905477,
          1.2855971506905477,
          4.415987312427428,
          4.415987312427428,
          6.189152449114178,
          6.197648591460973,
          8.391650921831445,
          0.917279265501751,
          9.168942868612328,
          4.594406301710151,
          5.0455559556384495,
          5.719476484790782,
          1.5394025458757974,
          4.78245649997595,
          1.4458016919460617,
          4.696860113488683,
          4.859053830928565,
          5.097195868447351,
          4.917124851486084,
          3.245763311602346,
          -0.852413241574996,
          0.4167064501903541,
          6.599077991535135,
          6.599077991535135,
          null,
          null,
          -0.8790108807110437,
          -0.941416669575059,
          2.0673042212449433,
          3.0519721392637953,
          3.0519721392637953,
          0.5194869554450919,
          2.8817983888468888,
          5.715727089762957,
          2.895605598563316,
          2.895605598563316,
          5.126456197031724,
          5.126456197031724,
          2.678963174330433,
          5.101800465395248,
          4.379362380693593,
          4.379362380693593,
          -0.8767191550564958,
          -0.8767191550564958,
          5.117580133642592,
          5.2201479772503365,
          null,
          0.8910519746759067,
          6.909633058859823,
          3.991017222668175,
          3.2970000349007065,
          5.866340261954738,
          2.5447179091274803,
          3.1453599596866195,
          0.9417651518272621,
          4.086082726222843,
          11.559852745255537,
          6.14077659584797,
          0.5898190700089821,
          2.561796513480551,
          3.578830682847648,
          0.9285841299341207,
          4.884522173690942,
          null,
          3.802655228596408,
          6.648027003279271,
          5.721282826943704,
          6.441133010416767
         ],
         "yaxis": "y4"
        },
        {
         "name": "FL",
         "type": "bar",
         "x": [
          "conway",
          "atlantic beach",
          "atlantic beach",
          "atlantic beach",
          "atlantic beach",
          "naples",
          "naples",
          "naples",
          "naples",
          "naples",
          "greenwood",
          "miami",
          "miami",
          "miami",
          "miami",
          "miami",
          "miami",
          "miami",
          "miami",
          "miami",
          "miami",
          "miami",
          "miami",
          "miami",
          "miami",
          "miami",
          "miami",
          "miami",
          "miami",
          "miami",
          "miami",
          "miami beach",
          "miami beach",
          "miami beach",
          "miami beach",
          "miami beach",
          "miami beach",
          "miami beach",
          "miami beach",
          "miami beach",
          "miami beach",
          "miami beach",
          "miami beach",
          "miami beach",
          "miami beach",
          "miami beach",
          "miami beach",
          "miami beach",
          "miami beach",
          "miami beach",
          "miami beach",
          "miami beach",
          "miami beach",
          "north bay village"
         ],
         "xaxis": "x5",
         "y": [
          0.29796492514895995,
          1.6545860595508322,
          null,
          1.1665415206795562,
          2.450126495697995,
          4.242228051571134,
          0.40853279031589995,
          -0.3935909652929271,
          1.7981702266517972,
          1.7981702266517972,
          8.022880482999168,
          2.1667852012895303,
          -0.3152494012614287,
          0.753358551862938,
          2.5320603852996983,
          -0.36605747606757005,
          1.3181143626415808,
          7.638889587580926,
          4.679609845506432,
          0.2718746806521725,
          8.706618606375498,
          4.736747665123104,
          null,
          0.4156442371941599,
          4.197990286277012,
          4.373203009649363,
          4.258975975079418,
          1.4020910698287403,
          1.598399229713294,
          2.09512977627395,
          -0.19826101425214282,
          2.7599192859624933,
          0.5325513438860584,
          3.8602990383102833,
          0.6555487123702572,
          1.829486041235079,
          -0.5565982525881904,
          6.6235154624553205,
          null,
          1.6365815356641042,
          1.8254201226974236,
          0.31278511420565264,
          0.6677464679832245,
          -0.4994965370816214,
          1.7450115845351124,
          3.314432811029437,
          null,
          null,
          1.4261369241392914,
          1.719785115094378,
          0.2513930770071638,
          2.386976796269486,
          2.801078379355976,
          2.1149165815696094
         ],
         "yaxis": "y5"
        },
        {
         "name": "ME",
         "type": "bar",
         "x": [
          "kennebunk",
          "old orchard beach",
          "old orchard beach",
          "old orchard beach",
          "old orchard beach",
          "old orchard beach",
          "old orchard beach",
          "old orchard beach",
          "old orchard beach",
          "old orchard beach",
          "old orchard beach",
          "old orchard beach",
          "old orchard beach",
          "old orchard beach",
          "old orchard beach",
          "old orchard beach",
          "old orchard beach",
          "old orchard beach",
          "old orchard beach",
          "old orchard beach",
          "old orchard beach",
          "old orchard beach",
          "old orchard beach",
          "old orchard beach",
          "old orchard beach",
          "old orchard beach",
          "old orchard beach",
          "old orchard beach",
          "old orchard beach",
          "old orchard beach",
          "old orchard beach",
          "old orchard beach",
          "old orchard beach",
          "old orchard beach",
          "old orchard beach",
          "old orchard beach",
          "old orchard beach",
          "old orchard beach",
          "old orchard beach",
          "old orchard beach",
          "old orchard beach",
          "old orchard beach",
          "old orchard beach",
          "old orchard beach",
          "old orchard beach",
          "old orchard beach",
          "old orchard beach",
          "old orchard beach",
          "saco",
          "freedom",
          "sebago",
          "sebago",
          "naples",
          "naples",
          "naples",
          "naples",
          "naples",
          "gray",
          "gray",
          "gray",
          "gray",
          "poland",
          "casco",
          "casco",
          "casco",
          "casco",
          "casco",
          "casco",
          "casco",
          "casco",
          "raymond",
          "raymond",
          "raymond",
          "raymond",
          "raymond",
          "windham",
          "windham",
          "windham",
          "windham",
          "standish",
          "standish",
          "hiram",
          "denmark",
          "lincoln",
          "lincoln",
          "greenwood",
          "andover",
          "newport",
          "fairfield"
         ],
         "xaxis": "x6",
         "y": [
          -0.7135757490706847,
          -0.3210964476300095,
          1.7997156472194402,
          1.1115669703583013,
          0.12358430868423526,
          0.12358430868423526,
          null,
          null,
          2.6748260437375735,
          2.6748260437375735,
          -0.18079633103633844,
          -0.18079633103633844,
          -0.4537980450629556,
          -0.4537980450629556,
          0.4431269525702925,
          5.239018738446514,
          null,
          null,
          1.2346224968484831,
          1.0814356498851505,
          -0.08979316457146848,
          2.403795974155069,
          0.4783012451606151,
          0.4783012451606151,
          0.4783012451606151,
          6.058138714704255,
          -0.24130810375840195,
          -0.24130810375840195,
          null,
          null,
          null,
          null,
          null,
          null,
          0.1370627270213307,
          0.0032906414894093095,
          null,
          3.9871899555050634,
          3.975982918279795,
          4.539324360852429,
          4.539324360852429,
          5.930456733284503,
          0.6585119385726458,
          3.4656559390524024,
          0.1464927540023018,
          null,
          -0.5386858049696807,
          null,
          1.1246254639003093,
          38.74068852045273,
          null,
          2.616528650268285,
          6.837770108834491,
          1.105928260397314,
          -0.09334455517825173,
          3.1836056627313427,
          3.1836056627313427,
          0.952932344609959,
          0.952932344609959,
          4.024507129545166,
          4.024507129545166,
          3.4434528312693247,
          1.345299333369315,
          1.345299333369315,
          11.60109697559747,
          1.2068605043807756,
          1.2068605043807756,
          -0.6596699506911952,
          -0.6596699506911952,
          -0.6596699506911952,
          3.4412760292990074,
          0.9218534717819298,
          -0.024834776671470767,
          -0.024834776671470767,
          0.11072156473894844,
          4.480759221347028,
          4.480759221347028,
          3.001243697049278,
          3.001243697049278,
          4.9525568930261334,
          null,
          -0.4683944431446397,
          0.7479554138709961,
          14.301708175757849,
          3.075808108534433,
          3.868984975429637,
          5.156105219243352,
          0.843204877882276,
          4.395798405397537
         ],
         "yaxis": "y6"
        }
       ],
       "layout": {
        "barmode": "group",
        "height": 1100,
        "template": {
         "data": {
          "bar": [
           {
            "error_x": {
             "color": "#2a3f5f"
            },
            "error_y": {
             "color": "#2a3f5f"
            },
            "marker": {
             "line": {
              "color": "#E5ECF6",
              "width": 0.5
             },
             "pattern": {
              "fillmode": "overlay",
              "size": 10,
              "solidity": 0.2
             }
            },
            "type": "bar"
           }
          ],
          "barpolar": [
           {
            "marker": {
             "line": {
              "color": "#E5ECF6",
              "width": 0.5
             },
             "pattern": {
              "fillmode": "overlay",
              "size": 10,
              "solidity": 0.2
             }
            },
            "type": "barpolar"
           }
          ],
          "carpet": [
           {
            "aaxis": {
             "endlinecolor": "#2a3f5f",
             "gridcolor": "white",
             "linecolor": "white",
             "minorgridcolor": "white",
             "startlinecolor": "#2a3f5f"
            },
            "baxis": {
             "endlinecolor": "#2a3f5f",
             "gridcolor": "white",
             "linecolor": "white",
             "minorgridcolor": "white",
             "startlinecolor": "#2a3f5f"
            },
            "type": "carpet"
           }
          ],
          "choropleth": [
           {
            "colorbar": {
             "outlinewidth": 0,
             "ticks": ""
            },
            "type": "choropleth"
           }
          ],
          "contour": [
           {
            "colorbar": {
             "outlinewidth": 0,
             "ticks": ""
            },
            "colorscale": [
             [
              0,
              "#0d0887"
             ],
             [
              0.1111111111111111,
              "#46039f"
             ],
             [
              0.2222222222222222,
              "#7201a8"
             ],
             [
              0.3333333333333333,
              "#9c179e"
             ],
             [
              0.4444444444444444,
              "#bd3786"
             ],
             [
              0.5555555555555556,
              "#d8576b"
             ],
             [
              0.6666666666666666,
              "#ed7953"
             ],
             [
              0.7777777777777778,
              "#fb9f3a"
             ],
             [
              0.8888888888888888,
              "#fdca26"
             ],
             [
              1,
              "#f0f921"
             ]
            ],
            "type": "contour"
           }
          ],
          "contourcarpet": [
           {
            "colorbar": {
             "outlinewidth": 0,
             "ticks": ""
            },
            "type": "contourcarpet"
           }
          ],
          "heatmap": [
           {
            "colorbar": {
             "outlinewidth": 0,
             "ticks": ""
            },
            "colorscale": [
             [
              0,
              "#0d0887"
             ],
             [
              0.1111111111111111,
              "#46039f"
             ],
             [
              0.2222222222222222,
              "#7201a8"
             ],
             [
              0.3333333333333333,
              "#9c179e"
             ],
             [
              0.4444444444444444,
              "#bd3786"
             ],
             [
              0.5555555555555556,
              "#d8576b"
             ],
             [
              0.6666666666666666,
              "#ed7953"
             ],
             [
              0.7777777777777778,
              "#fb9f3a"
             ],
             [
              0.8888888888888888,
              "#fdca26"
             ],
             [
              1,
              "#f0f921"
             ]
            ],
            "type": "heatmap"
           }
          ],
          "heatmapgl": [
           {
            "colorbar": {
             "outlinewidth": 0,
             "ticks": ""
            },
            "colorscale": [
             [
              0,
              "#0d0887"
             ],
             [
              0.1111111111111111,
              "#46039f"
             ],
             [
              0.2222222222222222,
              "#7201a8"
             ],
             [
              0.3333333333333333,
              "#9c179e"
             ],
             [
              0.4444444444444444,
              "#bd3786"
             ],
             [
              0.5555555555555556,
              "#d8576b"
             ],
             [
              0.6666666666666666,
              "#ed7953"
             ],
             [
              0.7777777777777778,
              "#fb9f3a"
             ],
             [
              0.8888888888888888,
              "#fdca26"
             ],
             [
              1,
              "#f0f921"
             ]
            ],
            "type": "heatmapgl"
           }
          ],
          "histogram": [
           {
            "marker": {
             "pattern": {
              "fillmode": "overlay",
              "size": 10,
              "solidity": 0.2
             }
            },
            "type": "histogram"
           }
          ],
          "histogram2d": [
           {
            "colorbar": {
             "outlinewidth": 0,
             "ticks": ""
            },
            "colorscale": [
             [
              0,
              "#0d0887"
             ],
             [
              0.1111111111111111,
              "#46039f"
             ],
             [
              0.2222222222222222,
              "#7201a8"
             ],
             [
              0.3333333333333333,
              "#9c179e"
             ],
             [
              0.4444444444444444,
              "#bd3786"
             ],
             [
              0.5555555555555556,
              "#d8576b"
             ],
             [
              0.6666666666666666,
              "#ed7953"
             ],
             [
              0.7777777777777778,
              "#fb9f3a"
             ],
             [
              0.8888888888888888,
              "#fdca26"
             ],
             [
              1,
              "#f0f921"
             ]
            ],
            "type": "histogram2d"
           }
          ],
          "histogram2dcontour": [
           {
            "colorbar": {
             "outlinewidth": 0,
             "ticks": ""
            },
            "colorscale": [
             [
              0,
              "#0d0887"
             ],
             [
              0.1111111111111111,
              "#46039f"
             ],
             [
              0.2222222222222222,
              "#7201a8"
             ],
             [
              0.3333333333333333,
              "#9c179e"
             ],
             [
              0.4444444444444444,
              "#bd3786"
             ],
             [
              0.5555555555555556,
              "#d8576b"
             ],
             [
              0.6666666666666666,
              "#ed7953"
             ],
             [
              0.7777777777777778,
              "#fb9f3a"
             ],
             [
              0.8888888888888888,
              "#fdca26"
             ],
             [
              1,
              "#f0f921"
             ]
            ],
            "type": "histogram2dcontour"
           }
          ],
          "mesh3d": [
           {
            "colorbar": {
             "outlinewidth": 0,
             "ticks": ""
            },
            "type": "mesh3d"
           }
          ],
          "parcoords": [
           {
            "line": {
             "colorbar": {
              "outlinewidth": 0,
              "ticks": ""
             }
            },
            "type": "parcoords"
           }
          ],
          "pie": [
           {
            "automargin": true,
            "type": "pie"
           }
          ],
          "scatter": [
           {
            "fillpattern": {
             "fillmode": "overlay",
             "size": 10,
             "solidity": 0.2
            },
            "type": "scatter"
           }
          ],
          "scatter3d": [
           {
            "line": {
             "colorbar": {
              "outlinewidth": 0,
              "ticks": ""
             }
            },
            "marker": {
             "colorbar": {
              "outlinewidth": 0,
              "ticks": ""
             }
            },
            "type": "scatter3d"
           }
          ],
          "scattercarpet": [
           {
            "marker": {
             "colorbar": {
              "outlinewidth": 0,
              "ticks": ""
             }
            },
            "type": "scattercarpet"
           }
          ],
          "scattergeo": [
           {
            "marker": {
             "colorbar": {
              "outlinewidth": 0,
              "ticks": ""
             }
            },
            "type": "scattergeo"
           }
          ],
          "scattergl": [
           {
            "marker": {
             "colorbar": {
              "outlinewidth": 0,
              "ticks": ""
             }
            },
            "type": "scattergl"
           }
          ],
          "scattermapbox": [
           {
            "marker": {
             "colorbar": {
              "outlinewidth": 0,
              "ticks": ""
             }
            },
            "type": "scattermapbox"
           }
          ],
          "scatterpolar": [
           {
            "marker": {
             "colorbar": {
              "outlinewidth": 0,
              "ticks": ""
             }
            },
            "type": "scatterpolar"
           }
          ],
          "scatterpolargl": [
           {
            "marker": {
             "colorbar": {
              "outlinewidth": 0,
              "ticks": ""
             }
            },
            "type": "scatterpolargl"
           }
          ],
          "scatterternary": [
           {
            "marker": {
             "colorbar": {
              "outlinewidth": 0,
              "ticks": ""
             }
            },
            "type": "scatterternary"
           }
          ],
          "surface": [
           {
            "colorbar": {
             "outlinewidth": 0,
             "ticks": ""
            },
            "colorscale": [
             [
              0,
              "#0d0887"
             ],
             [
              0.1111111111111111,
              "#46039f"
             ],
             [
              0.2222222222222222,
              "#7201a8"
             ],
             [
              0.3333333333333333,
              "#9c179e"
             ],
             [
              0.4444444444444444,
              "#bd3786"
             ],
             [
              0.5555555555555556,
              "#d8576b"
             ],
             [
              0.6666666666666666,
              "#ed7953"
             ],
             [
              0.7777777777777778,
              "#fb9f3a"
             ],
             [
              0.8888888888888888,
              "#fdca26"
             ],
             [
              1,
              "#f0f921"
             ]
            ],
            "type": "surface"
           }
          ],
          "table": [
           {
            "cells": {
             "fill": {
              "color": "#EBF0F8"
             },
             "line": {
              "color": "white"
             }
            },
            "header": {
             "fill": {
              "color": "#C8D4E3"
             },
             "line": {
              "color": "white"
             }
            },
            "type": "table"
           }
          ]
         },
         "layout": {
          "annotationdefaults": {
           "arrowcolor": "#2a3f5f",
           "arrowhead": 0,
           "arrowwidth": 1
          },
          "autotypenumbers": "strict",
          "coloraxis": {
           "colorbar": {
            "outlinewidth": 0,
            "ticks": ""
           }
          },
          "colorscale": {
           "diverging": [
            [
             0,
             "#8e0152"
            ],
            [
             0.1,
             "#c51b7d"
            ],
            [
             0.2,
             "#de77ae"
            ],
            [
             0.3,
             "#f1b6da"
            ],
            [
             0.4,
             "#fde0ef"
            ],
            [
             0.5,
             "#f7f7f7"
            ],
            [
             0.6,
             "#e6f5d0"
            ],
            [
             0.7,
             "#b8e186"
            ],
            [
             0.8,
             "#7fbc41"
            ],
            [
             0.9,
             "#4d9221"
            ],
            [
             1,
             "#276419"
            ]
           ],
           "sequential": [
            [
             0,
             "#0d0887"
            ],
            [
             0.1111111111111111,
             "#46039f"
            ],
            [
             0.2222222222222222,
             "#7201a8"
            ],
            [
             0.3333333333333333,
             "#9c179e"
            ],
            [
             0.4444444444444444,
             "#bd3786"
            ],
            [
             0.5555555555555556,
             "#d8576b"
            ],
            [
             0.6666666666666666,
             "#ed7953"
            ],
            [
             0.7777777777777778,
             "#fb9f3a"
            ],
            [
             0.8888888888888888,
             "#fdca26"
            ],
            [
             1,
             "#f0f921"
            ]
           ],
           "sequentialminus": [
            [
             0,
             "#0d0887"
            ],
            [
             0.1111111111111111,
             "#46039f"
            ],
            [
             0.2222222222222222,
             "#7201a8"
            ],
            [
             0.3333333333333333,
             "#9c179e"
            ],
            [
             0.4444444444444444,
             "#bd3786"
            ],
            [
             0.5555555555555556,
             "#d8576b"
            ],
            [
             0.6666666666666666,
             "#ed7953"
            ],
            [
             0.7777777777777778,
             "#fb9f3a"
            ],
            [
             0.8888888888888888,
             "#fdca26"
            ],
            [
             1,
             "#f0f921"
            ]
           ]
          },
          "colorway": [
           "#636efa",
           "#EF553B",
           "#00cc96",
           "#ab63fa",
           "#FFA15A",
           "#19d3f3",
           "#FF6692",
           "#B6E880",
           "#FF97FF",
           "#FECB52"
          ],
          "font": {
           "color": "#2a3f5f"
          },
          "geo": {
           "bgcolor": "white",
           "lakecolor": "white",
           "landcolor": "#E5ECF6",
           "showlakes": true,
           "showland": true,
           "subunitcolor": "white"
          },
          "hoverlabel": {
           "align": "left"
          },
          "hovermode": "closest",
          "mapbox": {
           "style": "light"
          },
          "paper_bgcolor": "white",
          "plot_bgcolor": "#E5ECF6",
          "polar": {
           "angularaxis": {
            "gridcolor": "white",
            "linecolor": "white",
            "ticks": ""
           },
           "bgcolor": "#E5ECF6",
           "radialaxis": {
            "gridcolor": "white",
            "linecolor": "white",
            "ticks": ""
           }
          },
          "scene": {
           "xaxis": {
            "backgroundcolor": "#E5ECF6",
            "gridcolor": "white",
            "gridwidth": 2,
            "linecolor": "white",
            "showbackground": true,
            "ticks": "",
            "zerolinecolor": "white"
           },
           "yaxis": {
            "backgroundcolor": "#E5ECF6",
            "gridcolor": "white",
            "gridwidth": 2,
            "linecolor": "white",
            "showbackground": true,
            "ticks": "",
            "zerolinecolor": "white"
           },
           "zaxis": {
            "backgroundcolor": "#E5ECF6",
            "gridcolor": "white",
            "gridwidth": 2,
            "linecolor": "white",
            "showbackground": true,
            "ticks": "",
            "zerolinecolor": "white"
           }
          },
          "shapedefaults": {
           "line": {
            "color": "#2a3f5f"
           }
          },
          "ternary": {
           "aaxis": {
            "gridcolor": "white",
            "linecolor": "white",
            "ticks": ""
           },
           "baxis": {
            "gridcolor": "white",
            "linecolor": "white",
            "ticks": ""
           },
           "bgcolor": "#E5ECF6",
           "caxis": {
            "gridcolor": "white",
            "linecolor": "white",
            "ticks": ""
           }
          },
          "title": {
           "x": 0.05
          },
          "xaxis": {
           "automargin": true,
           "gridcolor": "white",
           "linecolor": "white",
           "ticks": "",
           "title": {
            "standoff": 15
           },
           "zerolinecolor": "white",
           "zerolinewidth": 2
          },
          "yaxis": {
           "automargin": true,
           "gridcolor": "white",
           "linecolor": "white",
           "ticks": "",
           "title": {
            "standoff": 15
           },
           "zerolinecolor": "white",
           "zerolinewidth": 2
          }
         }
        },
        "title": {
         "text": "ROI for Cities in each State"
        },
        "xaxis": {
         "anchor": "y",
         "domain": [
          0,
          0.45
         ]
        },
        "xaxis2": {
         "anchor": "y2",
         "domain": [
          0.55,
          1
         ]
        },
        "xaxis3": {
         "anchor": "y3",
         "domain": [
          0,
          0.45
         ]
        },
        "xaxis4": {
         "anchor": "y4",
         "domain": [
          0.55,
          1
         ]
        },
        "xaxis5": {
         "anchor": "y5",
         "domain": [
          0,
          0.45
         ]
        },
        "xaxis6": {
         "anchor": "y6",
         "domain": [
          0.55,
          1
         ]
        },
        "yaxis": {
         "anchor": "x",
         "domain": [
          0.7333333333333333,
          1
         ]
        },
        "yaxis2": {
         "anchor": "x2",
         "domain": [
          0.7333333333333333,
          1
         ]
        },
        "yaxis3": {
         "anchor": "x3",
         "domain": [
          0.36666666666666664,
          0.6333333333333333
         ]
        },
        "yaxis4": {
         "anchor": "x4",
         "domain": [
          0.36666666666666664,
          0.6333333333333333
         ]
        },
        "yaxis5": {
         "anchor": "x5",
         "domain": [
          0,
          0.26666666666666666
         ]
        },
        "yaxis6": {
         "anchor": "x6",
         "domain": [
          0,
          0.26666666666666666
         ]
        }
       }
      }
     },
     "metadata": {},
     "output_type": "display_data"
    }
   ],
   "source": [
    "from plotly.subplots import make_subplots\n",
    "import plotly.graph_objects as go\n",
    "\n",
    "roi_subplots = make_subplots(rows=3, cols=2)\n",
    "\n",
    "combined_data_vt = combined_data[(combined_data['State'] == 'VT')]\n",
    "combined_data_nh = combined_data[(combined_data['State'] == 'NH')]\n",
    "combined_data_nc = combined_data[(combined_data['State'] == 'NC')]\n",
    "combined_data_sc = combined_data[(combined_data['State'] == 'SC')]\n",
    "combined_data_fl = combined_data[(combined_data['State'] == 'FL')]\n",
    "combined_data_me = combined_data[(combined_data['State'] == 'ME')]\n",
    "\n",
    "roi_subplots.append_trace(\n",
    "    go.Bar(x=combined_data_vt['town'],\n",
    "    y=combined_data_vt['median_ROI'], name=\"VT\"\n",
    "), row=1, col=1)\n",
    "\n",
    "roi_subplots.append_trace(go.Bar(\n",
    "    x=combined_data_nh['town'],\n",
    "    y=combined_data_nh['median_ROI'], name=\"NH\"\n",
    "), row=1, col=2)\n",
    "\n",
    "roi_subplots.append_trace(go.Bar(\n",
    "    x=combined_data_nc['town'],\n",
    "    y=combined_data_nc['median_ROI'], name=\"NC\"\n",
    "), row=2, col=1)\n",
    "\n",
    "roi_subplots.append_trace(go.Bar(\n",
    "    x=combined_data_sc['town'],\n",
    "    y=combined_data_sc['median_ROI'], name=\"SC\"\n",
    "), row=2, col=2)\n",
    "\n",
    "roi_subplots.append_trace(go.Bar(\n",
    "    x=combined_data_fl['town'],\n",
    "    y=combined_data_fl['median_ROI'], name=\"FL\"\n",
    "), row=3, col=1)\n",
    "\n",
    "roi_subplots.append_trace(go.Bar(\n",
    "    x=combined_data_me['town'],\n",
    "    y=combined_data_me['median_ROI'], name=\"ME\"\n",
    "), row=3, col=2)\n",
    "\n",
    "\n",
    "roi_subplots.update_layout(height = 1100, title_text=\"ROI for Cities in each State\", barmode='group')\n",
    "roi_subplots.show()"
   ]
  },
  {
   "cell_type": "code",
   "execution_count": 68,
   "metadata": {},
   "outputs": [
    {
     "data": {
      "application/vnd.plotly.v1+json": {
       "config": {
        "plotlyServerURL": "https://plot.ly"
       },
       "data": [
        {
         "name": "Total Price",
         "offsetgroup": "1",
         "type": "bar",
         "x": [
          2,
          3,
          4,
          5,
          6,
          7,
          8,
          10,
          16
         ],
         "y": [
          237,
          280.5,
          480,
          378,
          492,
          430,
          617,
          523,
          null
         ],
         "yaxis": "y"
        },
        {
         "name": "Occupancy Rate",
         "offsetgroup": "2",
         "type": "bar",
         "x": [
          2,
          3,
          4,
          5,
          6,
          7,
          8,
          10,
          16
         ],
         "y": [
          0.9074291300097752,
          0.4496313696304393,
          0.5133451171011931,
          0.612152010605391,
          0.7064958020326999,
          0.9263367211665929,
          0.3027904616945713,
          0.8966858152894388,
          0.8869642068051259
         ],
         "yaxis": "y2"
        }
       ],
       "layout": {
        "barmode": "group",
        "template": {
         "data": {
          "bar": [
           {
            "error_x": {
             "color": "#2a3f5f"
            },
            "error_y": {
             "color": "#2a3f5f"
            },
            "marker": {
             "line": {
              "color": "#E5ECF6",
              "width": 0.5
             },
             "pattern": {
              "fillmode": "overlay",
              "size": 10,
              "solidity": 0.2
             }
            },
            "type": "bar"
           }
          ],
          "barpolar": [
           {
            "marker": {
             "line": {
              "color": "#E5ECF6",
              "width": 0.5
             },
             "pattern": {
              "fillmode": "overlay",
              "size": 10,
              "solidity": 0.2
             }
            },
            "type": "barpolar"
           }
          ],
          "carpet": [
           {
            "aaxis": {
             "endlinecolor": "#2a3f5f",
             "gridcolor": "white",
             "linecolor": "white",
             "minorgridcolor": "white",
             "startlinecolor": "#2a3f5f"
            },
            "baxis": {
             "endlinecolor": "#2a3f5f",
             "gridcolor": "white",
             "linecolor": "white",
             "minorgridcolor": "white",
             "startlinecolor": "#2a3f5f"
            },
            "type": "carpet"
           }
          ],
          "choropleth": [
           {
            "colorbar": {
             "outlinewidth": 0,
             "ticks": ""
            },
            "type": "choropleth"
           }
          ],
          "contour": [
           {
            "colorbar": {
             "outlinewidth": 0,
             "ticks": ""
            },
            "colorscale": [
             [
              0,
              "#0d0887"
             ],
             [
              0.1111111111111111,
              "#46039f"
             ],
             [
              0.2222222222222222,
              "#7201a8"
             ],
             [
              0.3333333333333333,
              "#9c179e"
             ],
             [
              0.4444444444444444,
              "#bd3786"
             ],
             [
              0.5555555555555556,
              "#d8576b"
             ],
             [
              0.6666666666666666,
              "#ed7953"
             ],
             [
              0.7777777777777778,
              "#fb9f3a"
             ],
             [
              0.8888888888888888,
              "#fdca26"
             ],
             [
              1,
              "#f0f921"
             ]
            ],
            "type": "contour"
           }
          ],
          "contourcarpet": [
           {
            "colorbar": {
             "outlinewidth": 0,
             "ticks": ""
            },
            "type": "contourcarpet"
           }
          ],
          "heatmap": [
           {
            "colorbar": {
             "outlinewidth": 0,
             "ticks": ""
            },
            "colorscale": [
             [
              0,
              "#0d0887"
             ],
             [
              0.1111111111111111,
              "#46039f"
             ],
             [
              0.2222222222222222,
              "#7201a8"
             ],
             [
              0.3333333333333333,
              "#9c179e"
             ],
             [
              0.4444444444444444,
              "#bd3786"
             ],
             [
              0.5555555555555556,
              "#d8576b"
             ],
             [
              0.6666666666666666,
              "#ed7953"
             ],
             [
              0.7777777777777778,
              "#fb9f3a"
             ],
             [
              0.8888888888888888,
              "#fdca26"
             ],
             [
              1,
              "#f0f921"
             ]
            ],
            "type": "heatmap"
           }
          ],
          "heatmapgl": [
           {
            "colorbar": {
             "outlinewidth": 0,
             "ticks": ""
            },
            "colorscale": [
             [
              0,
              "#0d0887"
             ],
             [
              0.1111111111111111,
              "#46039f"
             ],
             [
              0.2222222222222222,
              "#7201a8"
             ],
             [
              0.3333333333333333,
              "#9c179e"
             ],
             [
              0.4444444444444444,
              "#bd3786"
             ],
             [
              0.5555555555555556,
              "#d8576b"
             ],
             [
              0.6666666666666666,
              "#ed7953"
             ],
             [
              0.7777777777777778,
              "#fb9f3a"
             ],
             [
              0.8888888888888888,
              "#fdca26"
             ],
             [
              1,
              "#f0f921"
             ]
            ],
            "type": "heatmapgl"
           }
          ],
          "histogram": [
           {
            "marker": {
             "pattern": {
              "fillmode": "overlay",
              "size": 10,
              "solidity": 0.2
             }
            },
            "type": "histogram"
           }
          ],
          "histogram2d": [
           {
            "colorbar": {
             "outlinewidth": 0,
             "ticks": ""
            },
            "colorscale": [
             [
              0,
              "#0d0887"
             ],
             [
              0.1111111111111111,
              "#46039f"
             ],
             [
              0.2222222222222222,
              "#7201a8"
             ],
             [
              0.3333333333333333,
              "#9c179e"
             ],
             [
              0.4444444444444444,
              "#bd3786"
             ],
             [
              0.5555555555555556,
              "#d8576b"
             ],
             [
              0.6666666666666666,
              "#ed7953"
             ],
             [
              0.7777777777777778,
              "#fb9f3a"
             ],
             [
              0.8888888888888888,
              "#fdca26"
             ],
             [
              1,
              "#f0f921"
             ]
            ],
            "type": "histogram2d"
           }
          ],
          "histogram2dcontour": [
           {
            "colorbar": {
             "outlinewidth": 0,
             "ticks": ""
            },
            "colorscale": [
             [
              0,
              "#0d0887"
             ],
             [
              0.1111111111111111,
              "#46039f"
             ],
             [
              0.2222222222222222,
              "#7201a8"
             ],
             [
              0.3333333333333333,
              "#9c179e"
             ],
             [
              0.4444444444444444,
              "#bd3786"
             ],
             [
              0.5555555555555556,
              "#d8576b"
             ],
             [
              0.6666666666666666,
              "#ed7953"
             ],
             [
              0.7777777777777778,
              "#fb9f3a"
             ],
             [
              0.8888888888888888,
              "#fdca26"
             ],
             [
              1,
              "#f0f921"
             ]
            ],
            "type": "histogram2dcontour"
           }
          ],
          "mesh3d": [
           {
            "colorbar": {
             "outlinewidth": 0,
             "ticks": ""
            },
            "type": "mesh3d"
           }
          ],
          "parcoords": [
           {
            "line": {
             "colorbar": {
              "outlinewidth": 0,
              "ticks": ""
             }
            },
            "type": "parcoords"
           }
          ],
          "pie": [
           {
            "automargin": true,
            "type": "pie"
           }
          ],
          "scatter": [
           {
            "fillpattern": {
             "fillmode": "overlay",
             "size": 10,
             "solidity": 0.2
            },
            "type": "scatter"
           }
          ],
          "scatter3d": [
           {
            "line": {
             "colorbar": {
              "outlinewidth": 0,
              "ticks": ""
             }
            },
            "marker": {
             "colorbar": {
              "outlinewidth": 0,
              "ticks": ""
             }
            },
            "type": "scatter3d"
           }
          ],
          "scattercarpet": [
           {
            "marker": {
             "colorbar": {
              "outlinewidth": 0,
              "ticks": ""
             }
            },
            "type": "scattercarpet"
           }
          ],
          "scattergeo": [
           {
            "marker": {
             "colorbar": {
              "outlinewidth": 0,
              "ticks": ""
             }
            },
            "type": "scattergeo"
           }
          ],
          "scattergl": [
           {
            "marker": {
             "colorbar": {
              "outlinewidth": 0,
              "ticks": ""
             }
            },
            "type": "scattergl"
           }
          ],
          "scattermapbox": [
           {
            "marker": {
             "colorbar": {
              "outlinewidth": 0,
              "ticks": ""
             }
            },
            "type": "scattermapbox"
           }
          ],
          "scatterpolar": [
           {
            "marker": {
             "colorbar": {
              "outlinewidth": 0,
              "ticks": ""
             }
            },
            "type": "scatterpolar"
           }
          ],
          "scatterpolargl": [
           {
            "marker": {
             "colorbar": {
              "outlinewidth": 0,
              "ticks": ""
             }
            },
            "type": "scatterpolargl"
           }
          ],
          "scatterternary": [
           {
            "marker": {
             "colorbar": {
              "outlinewidth": 0,
              "ticks": ""
             }
            },
            "type": "scatterternary"
           }
          ],
          "surface": [
           {
            "colorbar": {
             "outlinewidth": 0,
             "ticks": ""
            },
            "colorscale": [
             [
              0,
              "#0d0887"
             ],
             [
              0.1111111111111111,
              "#46039f"
             ],
             [
              0.2222222222222222,
              "#7201a8"
             ],
             [
              0.3333333333333333,
              "#9c179e"
             ],
             [
              0.4444444444444444,
              "#bd3786"
             ],
             [
              0.5555555555555556,
              "#d8576b"
             ],
             [
              0.6666666666666666,
              "#ed7953"
             ],
             [
              0.7777777777777778,
              "#fb9f3a"
             ],
             [
              0.8888888888888888,
              "#fdca26"
             ],
             [
              1,
              "#f0f921"
             ]
            ],
            "type": "surface"
           }
          ],
          "table": [
           {
            "cells": {
             "fill": {
              "color": "#EBF0F8"
             },
             "line": {
              "color": "white"
             }
            },
            "header": {
             "fill": {
              "color": "#C8D4E3"
             },
             "line": {
              "color": "white"
             }
            },
            "type": "table"
           }
          ]
         },
         "layout": {
          "annotationdefaults": {
           "arrowcolor": "#2a3f5f",
           "arrowhead": 0,
           "arrowwidth": 1
          },
          "autotypenumbers": "strict",
          "coloraxis": {
           "colorbar": {
            "outlinewidth": 0,
            "ticks": ""
           }
          },
          "colorscale": {
           "diverging": [
            [
             0,
             "#8e0152"
            ],
            [
             0.1,
             "#c51b7d"
            ],
            [
             0.2,
             "#de77ae"
            ],
            [
             0.3,
             "#f1b6da"
            ],
            [
             0.4,
             "#fde0ef"
            ],
            [
             0.5,
             "#f7f7f7"
            ],
            [
             0.6,
             "#e6f5d0"
            ],
            [
             0.7,
             "#b8e186"
            ],
            [
             0.8,
             "#7fbc41"
            ],
            [
             0.9,
             "#4d9221"
            ],
            [
             1,
             "#276419"
            ]
           ],
           "sequential": [
            [
             0,
             "#0d0887"
            ],
            [
             0.1111111111111111,
             "#46039f"
            ],
            [
             0.2222222222222222,
             "#7201a8"
            ],
            [
             0.3333333333333333,
             "#9c179e"
            ],
            [
             0.4444444444444444,
             "#bd3786"
            ],
            [
             0.5555555555555556,
             "#d8576b"
            ],
            [
             0.6666666666666666,
             "#ed7953"
            ],
            [
             0.7777777777777778,
             "#fb9f3a"
            ],
            [
             0.8888888888888888,
             "#fdca26"
            ],
            [
             1,
             "#f0f921"
            ]
           ],
           "sequentialminus": [
            [
             0,
             "#0d0887"
            ],
            [
             0.1111111111111111,
             "#46039f"
            ],
            [
             0.2222222222222222,
             "#7201a8"
            ],
            [
             0.3333333333333333,
             "#9c179e"
            ],
            [
             0.4444444444444444,
             "#bd3786"
            ],
            [
             0.5555555555555556,
             "#d8576b"
            ],
            [
             0.6666666666666666,
             "#ed7953"
            ],
            [
             0.7777777777777778,
             "#fb9f3a"
            ],
            [
             0.8888888888888888,
             "#fdca26"
            ],
            [
             1,
             "#f0f921"
            ]
           ]
          },
          "colorway": [
           "#636efa",
           "#EF553B",
           "#00cc96",
           "#ab63fa",
           "#FFA15A",
           "#19d3f3",
           "#FF6692",
           "#B6E880",
           "#FF97FF",
           "#FECB52"
          ],
          "font": {
           "color": "#2a3f5f"
          },
          "geo": {
           "bgcolor": "white",
           "lakecolor": "white",
           "landcolor": "#E5ECF6",
           "showlakes": true,
           "showland": true,
           "subunitcolor": "white"
          },
          "hoverlabel": {
           "align": "left"
          },
          "hovermode": "closest",
          "mapbox": {
           "style": "light"
          },
          "paper_bgcolor": "white",
          "plot_bgcolor": "#E5ECF6",
          "polar": {
           "angularaxis": {
            "gridcolor": "white",
            "linecolor": "white",
            "ticks": ""
           },
           "bgcolor": "#E5ECF6",
           "radialaxis": {
            "gridcolor": "white",
            "linecolor": "white",
            "ticks": ""
           }
          },
          "scene": {
           "xaxis": {
            "backgroundcolor": "#E5ECF6",
            "gridcolor": "white",
            "gridwidth": 2,
            "linecolor": "white",
            "showbackground": true,
            "ticks": "",
            "zerolinecolor": "white"
           },
           "yaxis": {
            "backgroundcolor": "#E5ECF6",
            "gridcolor": "white",
            "gridwidth": 2,
            "linecolor": "white",
            "showbackground": true,
            "ticks": "",
            "zerolinecolor": "white"
           },
           "zaxis": {
            "backgroundcolor": "#E5ECF6",
            "gridcolor": "white",
            "gridwidth": 2,
            "linecolor": "white",
            "showbackground": true,
            "ticks": "",
            "zerolinecolor": "white"
           }
          },
          "shapedefaults": {
           "line": {
            "color": "#2a3f5f"
           }
          },
          "ternary": {
           "aaxis": {
            "gridcolor": "white",
            "linecolor": "white",
            "ticks": ""
           },
           "baxis": {
            "gridcolor": "white",
            "linecolor": "white",
            "ticks": ""
           },
           "bgcolor": "#E5ECF6",
           "caxis": {
            "gridcolor": "white",
            "linecolor": "white",
            "ticks": ""
           }
          },
          "title": {
           "x": 0.05
          },
          "xaxis": {
           "automargin": true,
           "gridcolor": "white",
           "linecolor": "white",
           "ticks": "",
           "title": {
            "standoff": 15
           },
           "zerolinecolor": "white",
           "zerolinewidth": 2
          },
          "yaxis": {
           "automargin": true,
           "gridcolor": "white",
           "linecolor": "white",
           "ticks": "",
           "title": {
            "standoff": 15
           },
           "zerolinecolor": "white",
           "zerolinewidth": 2
          }
         }
        },
        "title": {
         "text": "Median Price and Occupancy by # of Guests in Miami"
        },
        "xaxis": {
         "title": {
          "text": "# of Guests"
         }
        },
        "yaxis": {
         "title": {
          "text": "Total Price"
         }
        },
        "yaxis2": {
         "overlaying": "y",
         "side": "right",
         "title": {
          "text": "Occupancy Rate"
         }
        }
       }
      }
     },
     "metadata": {},
     "output_type": "display_data"
    }
   ],
   "source": [
    "combined_data_fl_guests = combined_data_fl.groupby(['guest_no'])['median_total_price'].median().reset_index()\n",
    "combined_data_fl_occ = combined_data_fl.groupby(['guest_no'])['occupancy_rate'].median().reset_index()\n",
    "\n",
    "miami_fig = go.Figure(data=[\n",
    "    go.Bar(name='Total Price', x=combined_data_fl_guests['guest_no'], y=combined_data_fl_guests['median_total_price'], yaxis='y', offsetgroup=1),\n",
    "    go.Bar(name='Occupancy Rate', x=combined_data_fl_occ['guest_no'], y=combined_data_fl_occ['occupancy_rate'], yaxis='y2', offsetgroup=2),\n",
    "],\n",
    "    layout={\n",
    "        'xaxis': {'title': '# of Guests'},\n",
    "        'yaxis': {'title': 'Total Price'},\n",
    "        'yaxis2': {'title': 'Occupancy Rate', 'overlaying': 'y', 'side': 'right'}\n",
    "    }\n",
    ")\n",
    "\n",
    "# Change the bar mode\n",
    "miami_fig.update_layout(title_text='Median Price and Occupancy by # of Guests in Miami', barmode='group')\n",
    "miami_fig.show()"
   ]
  },
  {
   "cell_type": "code",
   "execution_count": 73,
   "metadata": {},
   "outputs": [],
   "source": [
    "def list_options_for_dash(df_series):\n",
    "    options = []\n",
    "    for i in df_series:\n",
    "        town = {'label':i, 'value':i}\n",
    "        dict_copy = town.copy()\n",
    "        options.append(dict_copy)\n",
    "    return options\n",
    "\n",
    "towns = combined_data_nc['town'].unique()\n",
    "towns_for_dash = list_options_for_dash(towns)"
   ]
  },
  {
   "cell_type": "code",
   "execution_count": null,
   "metadata": {},
   "outputs": [],
   "source": []
  },
  {
   "cell_type": "code",
   "execution_count": null,
   "metadata": {},
   "outputs": [],
   "source": [
    "lists_per_city = listing_data.groupby(['town'])['id'].count().reset_index()\n",
    "lists_per_city.rename(columns = {'id':'num_lists_in_town'}, inplace = True)\n",
    "median_price_per_city = listing_data.groupby(['town'])['price'].median().reset_index()\n",
    "median_price_per_city.rename(columns = {'price':'median_price_per_city'}, inplace = True)\n",
    "\n",
    "# Calculate occupancy rate\n",
    "occ_rate = occ_data.groupby('id')['available'].apply(lambda row: np.sum(row)/len(row))\n",
    "listing_occ_rate = listing_data.merge(occ_rate, on = 'id')\n",
    "\n",
    "\n",
    "# Calculate pricing avgs\n",
    "cleaning_fee = price_data.groupby(['id'])['cleaning_fee'].median().reset_index()\n",
    "cleaning_fee.rename(columns = {'cleaning_fee':'median_cleaning_fee'}, inplace = True)\n",
    "service_fee = price_data.groupby(['id'])['service_fee'].median().reset_index()\n",
    "service_fee.rename(columns = {'service_fee':'median_service_fee'}, inplace = True)\n",
    "#total_price = price_data.groupby(['id'])['total_price'].median().reset_index()\n",
    "#total_price.rename(columns = {'total_price':'median_total_price'}, inplace = True)\n",
    "\n",
    "listing_occ_rate_fees = listing_occ_rate.merge(cleaning_fee, on='id')\n",
    "listing_occ_rate_fees = listing_occ_rate_fees.merge(service_fee, on='id')\n",
    "#listing_occ_rate_fees = listing_occ_rate_fees.merge(total_price, on='id')\n",
    "\n",
    "median_occ_rate_per_city = listing_occ_rate_fees.groupby(['town'])['available'].median().reset_index()\n",
    "median_occ_rate_per_city.rename(columns = {'available':'occupancy_rate'}, inplace = True)\n",
    "\n",
    "median_cleaning_fee_per_city = listing_occ_rate_fees.groupby(['town'])['median_cleaning_fee'].median().reset_index()\n",
    "median_service_fee_per_city = listing_occ_rate_fees.groupby(['town'])['median_service_fee'].median().reset_index()\n",
    "#median_total_price_per_city = listing_occ_rate_fees.groupby(['town'])['median_total_price'].median().reset_index()\n",
    "#fees_and_price = cleaning_fee.merge(service_fee, on = 'id')\n",
    "#fees_and_price = fees_and_price.merge(total_price, on = 'id')\n",
    "\n",
    "lists_town_price = lists_per_city.merge(median_price_per_city, left_on = 'town', right_on = 'town')\n",
    "lists_town_price = lists_town_price.merge(median_cleaning_fee_per_city, left_on = 'town', right_on = 'town')\n",
    "lists_town_price = lists_town_price.merge(median_service_fee_per_city, left_on = 'town', right_on = 'town')\n",
    "#lists_town_price = lists_town_price.merge(median_total_price_per_city, left_on = 'town', right_on = 'town')\n",
    "lists_town_price['median_total_price'] = lists_town_price['median_price_per_city'] + lists_town_price['median_cleaning_fee'] + lists_town_price['median_service_fee']\n",
    "lists_town_price_occ = lists_town_price.merge(median_occ_rate_per_city, left_on = 'town', right_on = 'town')\n",
    "lists_town_home_price_occ = lists_town_price_occ.merge(city_home, left_on = 'town', right_on = 'city')\n",
    "\n",
    "lists_town_home_price_occ_vt = lists_town_home_price_occ[(lists_town_home_price_occ['state_id'] == 'VT')]\n",
    "lists_town_home_price_occ_nh = lists_town_home_price_occ[(lists_town_home_price_occ['state_id'] == 'NH')]\n",
    "lists_town_home_price_occ_nc = lists_town_home_price_occ[(lists_town_home_price_occ['state_id'] == 'NC')]\n",
    "lists_town_home_price_occ_sc = lists_town_home_price_occ[(lists_town_home_price_occ['state_id'] == 'SC')]\n",
    "\n",
    "lists_town_home_price_occ_all = lists_town_home_price_occ_vt.append(lists_town_home_price_occ_nh)\n",
    "lists_town_home_price_occ_all = lists_town_home_price_occ_all.append(lists_town_home_price_occ_nc)\n",
    "lists_town_home_price_occ_all = lists_town_home_price_occ_all.append(lists_town_home_price_occ_sc)\n",
    "\n",
    "lists_town_home_price_occ_all['avg_30_yr_mort'] = lists_town_home_price_occ_all.apply(lambda row: calculate_mortgage(row['2022-04-30'], 5, 30), axis=1)\n",
    "lists_town_home_price_occ_all['median_ROI'] = lists_town_home_price_occ_all.apply(lambda row: calculate_roi(row['median_price_per_city'], row['occupancy_rate'], row['avg_30_yr_mort']), axis=1)"
   ]
  },
  {
   "cell_type": "code",
   "execution_count": null,
   "metadata": {},
   "outputs": [],
   "source": [
    "# grouping by town and guests\n",
    "\n",
    "city_home['city'] = city_home['city'].str.lower()\n",
    "#print(\"city home shape: \" + str(city_home.shape))\n",
    "lists_per_city_guest = listing_data.groupby(['town', 'guest_no'])['id'].count().reset_index()\n",
    "lists_per_city_guest.rename(columns = {'id':'num_lists_in_town'}, inplace = True)\n",
    "#print(\"lists_per_city_guest shape: \" + str(lists_per_city_guest.shape))\n",
    "median_price_per_city_guest = listing_data.groupby(['town', 'guest_no'])['price'].median().reset_index()\n",
    "median_price_per_city_guest.rename(columns = {'price':'median_price_per_city'}, inplace = True)\n",
    "#print(\"median_price_per_city_guest shape: \" + str(median_price_per_city_guest.shape))\n",
    "\n",
    "\n",
    "# Calculate occupancy rate\n",
    "occ_rate = occ_data.groupby('id')['available'].apply(lambda row: np.sum(row)/len(row))\n",
    "listing_occ_rate = listing_data.merge(occ_rate, on = 'id')\n",
    "#print(\"listing_occ_rate shape: \" + str(listing_occ_rate.shape))\n",
    "\n",
    "\n",
    "\n",
    "# Calculate pricing avgs\n",
    "cleaning_fee = price_data.groupby(['id'])['cleaning_fee'].median().reset_index()\n",
    "cleaning_fee.rename(columns = {'cleaning_fee':'median_cleaning_fee'}, inplace = True)\n",
    "service_fee = price_data.groupby(['id'])['service_fee'].median().reset_index()\n",
    "service_fee.rename(columns = {'service_fee':'median_service_fee'}, inplace = True)\n",
    "#total_price = price_data.groupby(['id'])['total_price'].median().reset_index()\n",
    "#total_price.rename(columns = {'total_price':'median_total_price'}, inplace = True)\n",
    "\n",
    "listing_occ_rate_fees = listing_occ_rate.merge(cleaning_fee, on='id')\n",
    "#print(\"listing_occ_rate_fees shape: \" + str(listing_occ_rate_fees.shape))\n",
    "listing_occ_rate_fees = listing_occ_rate_fees.merge(service_fee, on='id')\n",
    "#print(\"listing_occ_rate_fees shape: \" + str(listing_occ_rate_fees.shape))\n",
    "\n",
    "#listing_occ_rate_fees = listing_occ_rate_fees.merge(total_price, on='id')\n",
    "\n",
    "median_occ_rate_per_city_guest = listing_occ_rate_fees.groupby(['town', 'guest_no'])['available'].median().reset_index()\n",
    "median_occ_rate_per_city_guest.rename(columns = {'available':'occupancy_rate'}, inplace = True)\n",
    "#print(\"median_occ_rate_per_city_guest shape: \" + str(median_occ_rate_per_city_guest.shape))\n",
    "\n",
    "\n",
    "median_cleaning_fee_per_city_guest = listing_occ_rate_fees.groupby(['town', 'guest_no'])['median_cleaning_fee'].median().reset_index()\n",
    "#print(\"median_occ_rate_per_city_guest shape: \" + str(median_occ_rate_per_city_guest.shape))\n",
    "\n",
    "median_service_fee_per_city_guest = listing_occ_rate_fees.groupby(['town', 'guest_no'])['median_service_fee'].median().reset_index()\n",
    "#print(\"median_service_fee_per_city_guest shape: \" + str(median_service_fee_per_city_guest.shape))\n",
    "\n",
    "\n",
    "lists_town_price_guest = lists_per_city_guest.merge(median_price_per_city_guest, on = ['town', 'guest_no'])\n",
    "#print(\"lists_town_price_guest shape: \" + str(lists_town_price_guest.shape))\n",
    "\n",
    "lists_town_price_guest = lists_town_price_guest.merge(median_cleaning_fee_per_city_guest, on = ['town', 'guest_no'])\n",
    "#print(\"lists_town_price_guest shape: \" + str(lists_town_price_guest.shape))\n",
    "\n",
    "lists_town_price_guest = lists_town_price_guest.merge(median_service_fee_per_city_guest, on = ['town', 'guest_no'])\n",
    "#print(\"lists_town_price_guest shape: \" + str(lists_town_price_guest.shape))\n",
    "\n",
    "#lists_town_price = lists_town_price.merge(median_total_price_per_city, left_on = 'town', right_on = 'town')\n",
    "lists_town_price_guest['median_total_price'] = lists_town_price_guest['median_price_per_city'] + lists_town_price_guest['median_cleaning_fee'] + lists_town_price_guest['median_service_fee']\n",
    "#print(\"lists_town_price_guest shape: \" + str(lists_town_price_guest.shape))\n",
    "\n",
    "lists_town_price_occ_guest = lists_town_price_guest.merge(median_occ_rate_per_city_guest, on = ['town', 'guest_no'])\n",
    "#print(\"lists_town_price_guest shape: \" + str(lists_town_price_guest.shape))\n",
    "\n",
    "city_home_needed_cols = city_home[['city','state_id','population','2022-04-30']]\n",
    "#print(\"city_home_needed_cols shape: \" + str(city_home_needed_cols.shape))\n",
    "\n",
    "lists_town_home_price_occ_guest = lists_town_price_occ_guest.merge(city_home_needed_cols, how='inner', left_on = 'town', right_on = 'city')\n",
    "#print(\"lists_town_home_price_occ_guest shape: \" + str(lists_town_home_price_occ_guest.shape))\n",
    "\n",
    "# Calculate 30 year mortgage for town\n",
    "lists_town_home_price_occ_guest['avg_30_yr_mort'] = lists_town_home_price_occ_guest.apply(lambda row: calculate_mortgage(row['2022-04-30'], 5, 30), axis=1)\n",
    "# Calculate median ROI for town\n",
    "lists_town_home_price_occ_guest['median_ROI'] = lists_town_home_price_occ_guest.apply(lambda row: calculate_roi(row['median_price_per_city'], row['occupancy_rate'], row['avg_30_yr_mort']), axis=1)\n",
    "\n",
    "\n",
    "wb_data = lists_town_home_price_occ_guest[lists_town_home_price_occ_guest['town'] == 'wrightsville beach']\n",
    "#print(\"wb_data shape: \" + str(wb_data.shape))\n",
    "\n",
    "# Create pivot table for nc towns\n",
    "lists_town_home_price_occ_guest_nc = lists_town_home_price_occ_guest[(lists_town_home_price_occ_guest['state_id'] == 'NC')]\n",
    "num_lists_pivot = lists_town_home_price_occ_guest_nc.pivot(index='town', columns='guest_no', values='num_lists_in_town')"
   ]
  },
  {
   "cell_type": "code",
   "execution_count": 2,
   "metadata": {},
   "outputs": [],
   "source": []
  },
  {
   "cell_type": "code",
   "execution_count": null,
   "metadata": {},
   "outputs": [],
   "source": []
  }
 ],
 "metadata": {
  "interpreter": {
   "hash": "8cda3f1edda61d067a8dccfe73833b0b57e2a1d4ac0e36527d0cd620f4d2a66c"
  },
  "kernelspec": {
   "display_name": "Python 3.10.4 64-bit",
   "language": "python",
   "name": "python3"
  },
  "language_info": {
   "codemirror_mode": {
    "name": "ipython",
    "version": 3
   },
   "file_extension": ".py",
   "mimetype": "text/x-python",
   "name": "python",
   "nbconvert_exporter": "python",
   "pygments_lexer": "ipython3",
   "version": "3.10.4"
  },
  "orig_nbformat": 4
 },
 "nbformat": 4,
 "nbformat_minor": 2
}
