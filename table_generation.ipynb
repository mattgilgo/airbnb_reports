{
 "cells": [
  {
   "cell_type": "code",
   "execution_count": 65,
   "metadata": {},
   "outputs": [],
   "source": [
    "import pandas as pd\n",
    "import matplotlib.pyplot as plt\n",
    "import folium\n",
    "import numpy as np\n",
    "import seaborn as sns\n",
    "import os\n",
    "import fastparquet\n",
    "import warnings\n",
    "import geopy\n",
    "from geopy.point import Point\n",
    "import time\n",
    "from pandas.core.common import SettingWithCopyWarning\n",
    "import plotly.graph_objects as go\n",
    "import plotly.express as px\n",
    "warnings.simplefilter(action='ignore', category=FutureWarning)\n",
    "warnings.simplefilter(action=\"ignore\", category=SettingWithCopyWarning)\n",
    "\n",
    "#df = pd.read_parquet('Downloads/airbnb_parquets')\n",
    "#df.to_csv('csv_printout.csv')"
   ]
  },
  {
   "cell_type": "code",
   "execution_count": 95,
   "metadata": {},
   "outputs": [],
   "source": [
    "def append_fig_to_html(list_of_figs):\n",
    "    for fig in list_of_figs:\n",
    "        with open(\"reports/report_draft.html\",'a') as f:\n",
    "            f.write(fig.to_html(full_html=False, include_plotlyjs='cdn'))\n",
    "\n",
    "# write this later\n",
    "\"\"\"\n",
    "def overwrite_html(list_of_figs):\n",
    "    \n",
    "    with open(\"reports/report_draft.html\",'w') as f:\n",
    "    f.write(listing_fig.to_html(full_html=False, include_plotlyjs='cdn'))\n",
    "    f.write(price_fig.to_html(full_html=False, include_plotlyjs='cdn'))\n",
    "    f.write(price_v_numlist_fig.to_html(full_html=False, include_plotlyjs='cdn'))\n",
    "\"\"\"\n",
    "\n",
    "property_tax_map = {\n",
    "    'AL' : 0.0037,\n",
    "    'AK' : 0.0098,\n",
    "    'AZ' : 0.0060,\n",
    "    'AK' : 0.0061,\n",
    "    'CA' : 0.0070,\n",
    "    'CO' : 0.0052,\n",
    "    'CT' : 0.0173,\n",
    "    'DE' : 0.0059,\n",
    "    'FL' : 0.0086,\n",
    "    'GA' : 0.0087,\n",
    "    'HI' : 0.0031,\n",
    "    'ID' : 0.0065,\n",
    "    'IL' : 0.0197,\n",
    "    'IN' : 0.0081,\n",
    "    'IA' : 0.0143,\n",
    "    'KS' : 0.0128,\n",
    "    'KY' : 0.0078,\n",
    "    'LA' : 0.0051,\n",
    "    'ME' : 0.0120,\n",
    "    'MD' : 0.0101,\n",
    "    'MA' : 0.0108,\n",
    "    'MI' : 0.0131,\n",
    "    'MN' : 0.0105,\n",
    "    'MS' : 0.0063,\n",
    "    'MO' : 0.0096,\n",
    "    'MT' : 0.0074,\n",
    "    'NE' : 0.0154,\n",
    "    'NV' : 0.0056,\n",
    "    'NH' : 0.0189,\n",
    "    'NJ' : 0.0213,\n",
    "    'NM' : 0.0059,\n",
    "    'NY' : 0.0130,\n",
    "    'NC' : 0.0078,\n",
    "    'ND' : 0.0088,\n",
    "    'OH' : 0.0152,\n",
    "    'OK' : 0.0083,\n",
    "    'OR' : 0.0091,\n",
    "    'PA' : 0.0143,\n",
    "    'RI' : 0.0137,\n",
    "    'SC' : 0.0053,\n",
    "    'SD' : 0.0114,\n",
    "    'TN' : 0.0063,\n",
    "    'TX' : 0.0160,\n",
    "    'UT' : 0.0056,\n",
    "    'VT' : 0.0176,\n",
    "    'VA' : 0.0084,\n",
    "    'WA' : 0.0084,\n",
    "    'WV' : 0.0053,\n",
    "    'WI' : 0.0153,\n",
    "    'WY' : 0.0051,\n",
    "    'DC' : 0.0058\n",
    "}\n",
    "\n",
    "def calculate_monthly_maintenance(home_value):\n",
    "    monthly_maintenance = home_value/100/12\n",
    "    return monthly_maintenance\n",
    "\n",
    "def calculate_monthly_taxes(home_value, state_id, property_tax_map=property_tax_map):\n",
    "    tax_rate = property_tax_map.get(state_id)\n",
    "    monthly_tax = home_value*tax_rate/12\n",
    "    return monthly_tax\n",
    "\n",
    "def calculate_mortgage(home_value, interest_rate, num_years, down_payment_pct=0):\n",
    "    if home_value is None:\n",
    "        return None\n",
    "    \n",
    "    per_payment_interest = 0\n",
    "    loan_value = 0\n",
    "\n",
    "\n",
    "    if down_payment_pct >= 1:\n",
    "        down_payment = down_payment_pct/100 * home_value\n",
    "        loan_value = home_value - down_payment\n",
    "    else:\n",
    "        down_payment = down_payment_pct * home_value\n",
    "        loan_value = home_value - down_payment\n",
    "    \n",
    "    if loan_value/home_value < 0.80: \n",
    "        # insert pmi calc here\n",
    "        pmi = 0.01  # using near average value here\n",
    "        pmi_cost = 0.0007*home_value    # shot in the dark after interpolating nerdwallet calculator\n",
    "        if interest_rate >= 1:\n",
    "            per_payment_interest = interest_rate/100/12\n",
    "        else:\n",
    "            per_payment_interest = interest_rate/12\n",
    "        num_months = num_years*12\n",
    "        mortgage = loan_value*(per_payment_interest*(1+per_payment_interest)**num_months)/((1+per_payment_interest)**num_months-1) + pmi_cost\n",
    "\n",
    "        mortgage = np.round(mortgage, 2)\n",
    "        return mortgage\n",
    "    else:\n",
    "        if interest_rate >= 1:\n",
    "            per_payment_interest = interest_rate/100/12\n",
    "        else:\n",
    "            per_payment_interest = interest_rate/12\n",
    "        num_months = num_years*12\n",
    "        mortgage = loan_value*(per_payment_interest*(1+per_payment_interest)**num_months)/((1+per_payment_interest)**num_months-1)\n",
    "\n",
    "        mortgage = np.round(mortgage, 2)\n",
    "        return mortgage\n",
    "\n",
    "def calculate_roi(airbnb_daily_price, occupancy_rate, monthly_mortgage, monthly_maintenence=0, monthly_taxes=0):\n",
    "    gross_rev = airbnb_daily_price * occupancy_rate * 365/12\n",
    "    net_rev = gross_rev - monthly_maintenence - monthly_taxes\n",
    "    profit = net_rev - monthly_mortgage\n",
    "    roi = profit/monthly_mortgage\n",
    "    roi = roi\n",
    "    return roi\n",
    "\n",
    "def set_location_desc(lat,long):\n",
    "    from geopy.geocoders import Nominatim\n",
    "    geolocator = Nominatim(user_agent=\"geoapiExercises\")\n",
    "    lat = str(lat)\n",
    "    long = str(long)\n",
    "    location = geolocator.reverse(lat+\",\"+long)\n",
    "    address = location.raw['address']\n",
    "    city = address.get('city', '')\n",
    "    state = address.get('state', '')\n",
    "    country = address.get('country')\n",
    "    country_code = address.get('country_code')\n",
    "    zipcode = address.get('postcode', '')\n",
    "    return city, state, country, country_code, zipcode\n",
    "\n",
    "def set_city(lat, long):\n",
    "    from geopy.geocoders import Nominatim\n",
    "    geolocator = Nominatim(user_agent=\"geoapiExercises\")\n",
    "    #start_time = time.time()\n",
    "    lat = str(lat)\n",
    "    #print(\"---Latitude casted to string at %s seconds ---\" % (time.time() - start_time))\n",
    "\n",
    "    long = str(long)\n",
    "    #print(\"---Longitude casted at %s seconds ---\" % (time.time() - start_time))\n",
    "\n",
    "    location = geolocator.reverse(lat+\",\"+long)\n",
    "    #print(\"---Get location json from geopy at %s seconds ---\" % (time.time() - start_time))\n",
    "\n",
    "    address = location.raw['address']\n",
    "    #print(\"---Get address json at %s seconds ---\" % (time.time() - start_time))\n",
    "\n",
    "    city = address.get('city', '')\n",
    "    #print(\"---Get city value at %s seconds ---\" % (time.time() - start_time))\n",
    "    return city\n",
    "\n",
    "def set_state(lat, long):\n",
    "    from geopy.geocoders import Nominatim\n",
    "    geolocator = Nominatim(user_agent=\"geoapiExercises\")\n",
    "    lat = str(lat)\n",
    "    long = str(long)\n",
    "    location = geolocator.reverse(Point(lat,long))\n",
    "    address = location.raw['address']\n",
    "    state = address.get('state', '')\n",
    "    return state\n",
    "\n",
    "def set_country(lat, long):\n",
    "    from geopy.geocoders import Nominatim\n",
    "    geolocator = Nominatim(user_agent=\"geoapiExercises\")\n",
    "    lat = str(lat)\n",
    "    long = str(long)\n",
    "    location = geolocator.reverse(Point(lat,long))\n",
    "    address = location.raw['address']\n",
    "    country = address.get('country')\n",
    "    return country\n",
    "\n",
    "def set_country_code(lat, long):\n",
    "    from geopy.geocoders import Nominatim\n",
    "    geolocator = Nominatim(user_agent=\"geoapiExercises\")\n",
    "    lat = str(lat)\n",
    "    long = str(long)\n",
    "    location = geolocator.reverse(lat+\",\"+long)\n",
    "    address = location.raw['address']\n",
    "    country_code = address.get('country_code')\n",
    "    return country_code\n",
    "\n",
    "def set_zipcode(lat, long):\n",
    "    from geopy.geocoders import Nominatim\n",
    "    geolocator = Nominatim(user_agent=\"geoapiExercises\")\n",
    "    lat = str(lat)\n",
    "    long = str(long)\n",
    "    location = geolocator.reverse(Point(lat,long))\n",
    "    address = location.raw['address']\n",
    "    zipcode = address.get('postcode', '')\n",
    "    return zipcode\n",
    "\n",
    "def set_interpolated_state(top_lat,bottom_lat,left_long,right_long):\n",
    "    lat = (top_lat+bottom_lat)/2\n",
    "    long = (left_long+right_long)/2\n",
    "    state = set_state(lat, long)\n",
    "    return state\n",
    "\n",
    "\n",
    "def set_avg_home_val(home_values, city, state, num_beds):\n",
    "    if num_beds <= 5:\n",
    "        desired_row = home_values[(home_values['RegionName'] == city) & (home_values['State'] == state) & (home_values['num_beds'] == num_beds)]\n",
    "        avg_value = desired_row['2022-04-30']\n",
    "        if len(avg_value) == 0:\n",
    "            return None\n",
    "        else:\n",
    "            return avg_value.iloc[0]\n",
    "    else:\n",
    "        desired_row = home_values[(home_values['RegionName'] == city) & (home_values['State'] == state) & (home_values['num_beds'] == 5)]\n",
    "        avg_value = desired_row['2022-04-30']\n",
    "        if len(avg_value) == 0:\n",
    "            return None\n",
    "        else:\n",
    "            return avg_value.iloc[0]*num_beds/5  # <-- improve this with linear regression later on\n",
    "\n",
    "def list_options_for_dash(df_series):\n",
    "    options = []\n",
    "    value = 0\n",
    "    for i in df_series:\n",
    "        if value == 0:\n",
    "            value = i\n",
    "        town = {'label':i, 'value':i}\n",
    "        dict_copy = town.copy()\n",
    "        options.append(dict_copy)\n",
    "    return options, value\n"
   ]
  },
  {
   "cell_type": "code",
   "execution_count": 176,
   "metadata": {},
   "outputs": [
    {
     "data": {
      "text/plain": [
       "0    SC\n",
       "1    SC\n",
       "2    SC\n",
       "3    SC\n",
       "4    SC\n",
       "Name: state_id, dtype: object"
      ]
     },
     "execution_count": 176,
     "metadata": {},
     "output_type": "execute_result"
    }
   ],
   "source": [
    "listing_data_static['state_id'].head()"
   ]
  },
  {
   "cell_type": "code",
   "execution_count": 47,
   "metadata": {},
   "outputs": [
    {
     "name": "stdout",
     "output_type": "stream",
     "text": [
      "(1, 25)\n",
      "(2468, 25)\n",
      "(4224, 25)\n",
      "(5535, 25)\n"
     ]
    }
   ],
   "source": [
    "# Load in listing data\n",
    "nc_dir = 'C:/Users/mattg/Desktop/Hobbies/airbnb_reports/bucket_data/listings/north_carolina'\n",
    "first_file = ''\n",
    "for file in os.listdir(nc_dir):\n",
    "    first_file = os.path.join(nc_dir,file)\n",
    "    break\n",
    "listing_data = pd.read_parquet(first_file)\n",
    "print(listing_data.shape)\n",
    "for file in os.listdir(nc_dir):\n",
    "    next_file = os.path.join(nc_dir,file)\n",
    "    if next_file != first_file:\n",
    "        next_listing = pd.read_parquet(next_file)\n",
    "        listing_data = listing_data.append(next_listing)\n",
    "print(listing_data.shape)\n",
    "\n",
    "ne_dir = 'C:/Users/mattg/Desktop/Hobbies/airbnb_reports/bucket_data/listings/vt_nh'\n",
    "for file in os.listdir(ne_dir):\n",
    "    next_file = os.path.join(ne_dir,file)\n",
    "    next_listing = pd.read_parquet(next_file)\n",
    "    listing_data = listing_data.append(next_listing)\n",
    "print(listing_data.shape)\n",
    "\n",
    "miami_dir = 'C:/Users/mattg/Desktop/Hobbies/airbnb_reports/bucket_data/listings/miami'\n",
    "for file in os.listdir(miami_dir):\n",
    "    next_file = os.path.join(miami_dir,file)\n",
    "    next_listing = pd.read_parquet(next_file)\n",
    "    listing_data = listing_data.append(next_listing)\n",
    "print(listing_data.shape)\n",
    "\n",
    "# Load in occupancy data\n",
    "occ_data = pd.read_parquet('C:/Users/mattg/Desktop/Hobbies/airbnb_reports/bucket_data/occupancy')\n",
    "\n",
    "# Load in price data\n",
    "price_data = pd.read_parquet('C:/Users/mattg/Desktop/Hobbies/airbnb_reports/bucket_data/prices')"
   ]
  },
  {
   "cell_type": "code",
   "execution_count": 28,
   "metadata": {},
   "outputs": [],
   "source": [
    "# Load in occupancy data\n",
    "occ_data = pd.read_parquet('C:/Users/mattg/Desktop/Hobbies/airbnb_reports/bucket_data/occupancy')\n",
    "\n",
    "# Load in price data\n",
    "price_data = pd.read_parquet('C:/Users/mattg/Desktop/Hobbies/airbnb_reports/bucket_data/prices')"
   ]
  },
  {
   "cell_type": "code",
   "execution_count": 4,
   "metadata": {},
   "outputs": [
    {
     "ename": "ValueError",
     "evalue": "All arrays must be of the same length",
     "output_type": "error",
     "traceback": [
      "\u001b[1;31m---------------------------------------------------------------------------\u001b[0m",
      "\u001b[1;31mValueError\u001b[0m                                Traceback (most recent call last)",
      "\u001b[1;32mc:\\Users\\mattg\\Desktop\\Hobbies\\airbnb_reports\\table_generation.ipynb Cell 5'\u001b[0m in \u001b[0;36m<cell line: 6>\u001b[1;34m()\u001b[0m\n\u001b[0;32m      <a href='vscode-notebook-cell:/c%3A/Users/mattg/Desktop/Hobbies/airbnb_reports/table_generation.ipynb#ch0000004?line=3'>4</a>\u001b[0m right_longs \u001b[39m=\u001b[39m listing_data\u001b[39m.\u001b[39mright_long\u001b[39m.\u001b[39munique()\n\u001b[0;32m      <a href='vscode-notebook-cell:/c%3A/Users/mattg/Desktop/Hobbies/airbnb_reports/table_generation.ipynb#ch0000004?line=4'>5</a>\u001b[0m partitions \u001b[39m=\u001b[39m {\u001b[39m'\u001b[39m\u001b[39mtop_lat\u001b[39m\u001b[39m'\u001b[39m: top_lats, \u001b[39m'\u001b[39m\u001b[39mbottom_lat\u001b[39m\u001b[39m'\u001b[39m: bottom_lats, \u001b[39m'\u001b[39m\u001b[39mleft_long\u001b[39m\u001b[39m'\u001b[39m: left_longs, \u001b[39m'\u001b[39m\u001b[39mright_long\u001b[39m\u001b[39m'\u001b[39m: right_longs}\n\u001b[1;32m----> <a href='vscode-notebook-cell:/c%3A/Users/mattg/Desktop/Hobbies/airbnb_reports/table_generation.ipynb#ch0000004?line=5'>6</a>\u001b[0m partition_df \u001b[39m=\u001b[39m pd\u001b[39m.\u001b[39;49mDataFrame(data\u001b[39m=\u001b[39;49mpartitions)\n",
      "File \u001b[1;32mc:\\Users\\mattg\\AppData\\Local\\Programs\\Python\\Python310\\lib\\site-packages\\pandas\\core\\frame.py:636\u001b[0m, in \u001b[0;36mDataFrame.__init__\u001b[1;34m(self, data, index, columns, dtype, copy)\u001b[0m\n\u001b[0;32m    <a href='file:///c%3A/Users/mattg/AppData/Local/Programs/Python/Python310/lib/site-packages/pandas/core/frame.py?line=629'>630</a>\u001b[0m     mgr \u001b[39m=\u001b[39m \u001b[39mself\u001b[39m\u001b[39m.\u001b[39m_init_mgr(\n\u001b[0;32m    <a href='file:///c%3A/Users/mattg/AppData/Local/Programs/Python/Python310/lib/site-packages/pandas/core/frame.py?line=630'>631</a>\u001b[0m         data, axes\u001b[39m=\u001b[39m{\u001b[39m\"\u001b[39m\u001b[39mindex\u001b[39m\u001b[39m\"\u001b[39m: index, \u001b[39m\"\u001b[39m\u001b[39mcolumns\u001b[39m\u001b[39m\"\u001b[39m: columns}, dtype\u001b[39m=\u001b[39mdtype, copy\u001b[39m=\u001b[39mcopy\n\u001b[0;32m    <a href='file:///c%3A/Users/mattg/AppData/Local/Programs/Python/Python310/lib/site-packages/pandas/core/frame.py?line=631'>632</a>\u001b[0m     )\n\u001b[0;32m    <a href='file:///c%3A/Users/mattg/AppData/Local/Programs/Python/Python310/lib/site-packages/pandas/core/frame.py?line=633'>634</a>\u001b[0m \u001b[39melif\u001b[39;00m \u001b[39misinstance\u001b[39m(data, \u001b[39mdict\u001b[39m):\n\u001b[0;32m    <a href='file:///c%3A/Users/mattg/AppData/Local/Programs/Python/Python310/lib/site-packages/pandas/core/frame.py?line=634'>635</a>\u001b[0m     \u001b[39m# GH#38939 de facto copy defaults to False only in non-dict cases\u001b[39;00m\n\u001b[1;32m--> <a href='file:///c%3A/Users/mattg/AppData/Local/Programs/Python/Python310/lib/site-packages/pandas/core/frame.py?line=635'>636</a>\u001b[0m     mgr \u001b[39m=\u001b[39m dict_to_mgr(data, index, columns, dtype\u001b[39m=\u001b[39;49mdtype, copy\u001b[39m=\u001b[39;49mcopy, typ\u001b[39m=\u001b[39;49mmanager)\n\u001b[0;32m    <a href='file:///c%3A/Users/mattg/AppData/Local/Programs/Python/Python310/lib/site-packages/pandas/core/frame.py?line=636'>637</a>\u001b[0m \u001b[39melif\u001b[39;00m \u001b[39misinstance\u001b[39m(data, ma\u001b[39m.\u001b[39mMaskedArray):\n\u001b[0;32m    <a href='file:///c%3A/Users/mattg/AppData/Local/Programs/Python/Python310/lib/site-packages/pandas/core/frame.py?line=637'>638</a>\u001b[0m     \u001b[39mimport\u001b[39;00m \u001b[39mnumpy\u001b[39;00m\u001b[39m.\u001b[39;00m\u001b[39mma\u001b[39;00m\u001b[39m.\u001b[39;00m\u001b[39mmrecords\u001b[39;00m \u001b[39mas\u001b[39;00m \u001b[39mmrecords\u001b[39;00m\n",
      "File \u001b[1;32mc:\\Users\\mattg\\AppData\\Local\\Programs\\Python\\Python310\\lib\\site-packages\\pandas\\core\\internals\\construction.py:502\u001b[0m, in \u001b[0;36mdict_to_mgr\u001b[1;34m(data, index, columns, dtype, typ, copy)\u001b[0m\n\u001b[0;32m    <a href='file:///c%3A/Users/mattg/AppData/Local/Programs/Python/Python310/lib/site-packages/pandas/core/internals/construction.py?line=493'>494</a>\u001b[0m     arrays \u001b[39m=\u001b[39m [\n\u001b[0;32m    <a href='file:///c%3A/Users/mattg/AppData/Local/Programs/Python/Python310/lib/site-packages/pandas/core/internals/construction.py?line=494'>495</a>\u001b[0m         x\n\u001b[0;32m    <a href='file:///c%3A/Users/mattg/AppData/Local/Programs/Python/Python310/lib/site-packages/pandas/core/internals/construction.py?line=495'>496</a>\u001b[0m         \u001b[39mif\u001b[39;00m \u001b[39mnot\u001b[39;00m \u001b[39mhasattr\u001b[39m(x, \u001b[39m\"\u001b[39m\u001b[39mdtype\u001b[39m\u001b[39m\"\u001b[39m) \u001b[39mor\u001b[39;00m \u001b[39mnot\u001b[39;00m \u001b[39misinstance\u001b[39m(x\u001b[39m.\u001b[39mdtype, ExtensionDtype)\n\u001b[0;32m    <a href='file:///c%3A/Users/mattg/AppData/Local/Programs/Python/Python310/lib/site-packages/pandas/core/internals/construction.py?line=496'>497</a>\u001b[0m         \u001b[39melse\u001b[39;00m x\u001b[39m.\u001b[39mcopy()\n\u001b[0;32m    <a href='file:///c%3A/Users/mattg/AppData/Local/Programs/Python/Python310/lib/site-packages/pandas/core/internals/construction.py?line=497'>498</a>\u001b[0m         \u001b[39mfor\u001b[39;00m x \u001b[39min\u001b[39;00m arrays\n\u001b[0;32m    <a href='file:///c%3A/Users/mattg/AppData/Local/Programs/Python/Python310/lib/site-packages/pandas/core/internals/construction.py?line=498'>499</a>\u001b[0m     ]\n\u001b[0;32m    <a href='file:///c%3A/Users/mattg/AppData/Local/Programs/Python/Python310/lib/site-packages/pandas/core/internals/construction.py?line=499'>500</a>\u001b[0m     \u001b[39m# TODO: can we get rid of the dt64tz special case above?\u001b[39;00m\n\u001b[1;32m--> <a href='file:///c%3A/Users/mattg/AppData/Local/Programs/Python/Python310/lib/site-packages/pandas/core/internals/construction.py?line=501'>502</a>\u001b[0m \u001b[39mreturn\u001b[39;00m arrays_to_mgr(arrays, columns, index, dtype\u001b[39m=\u001b[39;49mdtype, typ\u001b[39m=\u001b[39;49mtyp, consolidate\u001b[39m=\u001b[39;49mcopy)\n",
      "File \u001b[1;32mc:\\Users\\mattg\\AppData\\Local\\Programs\\Python\\Python310\\lib\\site-packages\\pandas\\core\\internals\\construction.py:120\u001b[0m, in \u001b[0;36marrays_to_mgr\u001b[1;34m(arrays, columns, index, dtype, verify_integrity, typ, consolidate)\u001b[0m\n\u001b[0;32m    <a href='file:///c%3A/Users/mattg/AppData/Local/Programs/Python/Python310/lib/site-packages/pandas/core/internals/construction.py?line=116'>117</a>\u001b[0m \u001b[39mif\u001b[39;00m verify_integrity:\n\u001b[0;32m    <a href='file:///c%3A/Users/mattg/AppData/Local/Programs/Python/Python310/lib/site-packages/pandas/core/internals/construction.py?line=117'>118</a>\u001b[0m     \u001b[39m# figure out the index, if necessary\u001b[39;00m\n\u001b[0;32m    <a href='file:///c%3A/Users/mattg/AppData/Local/Programs/Python/Python310/lib/site-packages/pandas/core/internals/construction.py?line=118'>119</a>\u001b[0m     \u001b[39mif\u001b[39;00m index \u001b[39mis\u001b[39;00m \u001b[39mNone\u001b[39;00m:\n\u001b[1;32m--> <a href='file:///c%3A/Users/mattg/AppData/Local/Programs/Python/Python310/lib/site-packages/pandas/core/internals/construction.py?line=119'>120</a>\u001b[0m         index \u001b[39m=\u001b[39m _extract_index(arrays)\n\u001b[0;32m    <a href='file:///c%3A/Users/mattg/AppData/Local/Programs/Python/Python310/lib/site-packages/pandas/core/internals/construction.py?line=120'>121</a>\u001b[0m     \u001b[39melse\u001b[39;00m:\n\u001b[0;32m    <a href='file:///c%3A/Users/mattg/AppData/Local/Programs/Python/Python310/lib/site-packages/pandas/core/internals/construction.py?line=121'>122</a>\u001b[0m         index \u001b[39m=\u001b[39m ensure_index(index)\n",
      "File \u001b[1;32mc:\\Users\\mattg\\AppData\\Local\\Programs\\Python\\Python310\\lib\\site-packages\\pandas\\core\\internals\\construction.py:674\u001b[0m, in \u001b[0;36m_extract_index\u001b[1;34m(data)\u001b[0m\n\u001b[0;32m    <a href='file:///c%3A/Users/mattg/AppData/Local/Programs/Python/Python310/lib/site-packages/pandas/core/internals/construction.py?line=671'>672</a>\u001b[0m lengths \u001b[39m=\u001b[39m \u001b[39mlist\u001b[39m(\u001b[39mset\u001b[39m(raw_lengths))\n\u001b[0;32m    <a href='file:///c%3A/Users/mattg/AppData/Local/Programs/Python/Python310/lib/site-packages/pandas/core/internals/construction.py?line=672'>673</a>\u001b[0m \u001b[39mif\u001b[39;00m \u001b[39mlen\u001b[39m(lengths) \u001b[39m>\u001b[39m \u001b[39m1\u001b[39m:\n\u001b[1;32m--> <a href='file:///c%3A/Users/mattg/AppData/Local/Programs/Python/Python310/lib/site-packages/pandas/core/internals/construction.py?line=673'>674</a>\u001b[0m     \u001b[39mraise\u001b[39;00m \u001b[39mValueError\u001b[39;00m(\u001b[39m\"\u001b[39m\u001b[39mAll arrays must be of the same length\u001b[39m\u001b[39m\"\u001b[39m)\n\u001b[0;32m    <a href='file:///c%3A/Users/mattg/AppData/Local/Programs/Python/Python310/lib/site-packages/pandas/core/internals/construction.py?line=675'>676</a>\u001b[0m \u001b[39mif\u001b[39;00m have_dicts:\n\u001b[0;32m    <a href='file:///c%3A/Users/mattg/AppData/Local/Programs/Python/Python310/lib/site-packages/pandas/core/internals/construction.py?line=676'>677</a>\u001b[0m     \u001b[39mraise\u001b[39;00m \u001b[39mValueError\u001b[39;00m(\n\u001b[0;32m    <a href='file:///c%3A/Users/mattg/AppData/Local/Programs/Python/Python310/lib/site-packages/pandas/core/internals/construction.py?line=677'>678</a>\u001b[0m         \u001b[39m\"\u001b[39m\u001b[39mMixing dicts with non-Series may lead to ambiguous ordering.\u001b[39m\u001b[39m\"\u001b[39m\n\u001b[0;32m    <a href='file:///c%3A/Users/mattg/AppData/Local/Programs/Python/Python310/lib/site-packages/pandas/core/internals/construction.py?line=678'>679</a>\u001b[0m     )\n",
      "\u001b[1;31mValueError\u001b[0m: All arrays must be of the same length"
     ]
    }
   ],
   "source": [
    "top_lats = listing_data.top_lat.unique()\n",
    "bottom_lats = listing_data.bottom_lat.unique()\n",
    "left_longs = listing_data.left_long.unique()\n",
    "right_longs = listing_data.right_long.unique()\n",
    "partitions = {'top_lat': top_lats, 'bottom_lat': bottom_lats, 'left_long': left_longs, 'right_long': right_longs}\n",
    "partition_df = pd.DataFrame(data=partitions)"
   ]
  },
  {
   "cell_type": "code",
   "execution_count": 5,
   "metadata": {},
   "outputs": [],
   "source": [
    "# Clean up listing_data\n",
    "conditions = [\n",
    "    listing_data['baths'].str.contains('shared', na=False),\n",
    "    listing_data['baths'].str.contains('Shared', na=False)\n",
    "]\n",
    "\n",
    "values = ['Shared', 'Shared']\n",
    "\n",
    "listing_data['baths_type'] = np.select(conditions, values, default='Private')\n",
    "\n",
    "conditions_loc = [\n",
    "    listing_data['top_lat'] > 35.5,\n",
    "    listing_data['top_lat'] < 28\n",
    "]\n",
    "\n",
    "values_loc = ['New England', 'Miami']\n",
    "\n",
    "listing_data['Region'] = np.select(conditions_loc, values_loc, default='Carolinas')\n",
    "\n",
    "\n",
    "conditions_halfbath = [\n",
    "    listing_data['baths'].str.contains('Half-bath', na=False),\n",
    "    listing_data['baths'].str.contains('Shared half-bath', na=False),\n",
    "    listing_data['baths'].str.contains('Private half-bath', na=False)\n",
    "]\n",
    "\n",
    "values_halfbath = [0.5,0.5,0.5]\n",
    "\n",
    "listing_data['baths'] = np.select(conditions_halfbath, values_halfbath, default=listing_data['baths'])\n",
    "\n",
    "listing_data['baths_no'] = listing_data['baths'].str.split(' ').str[0]\n",
    "listing_data['beds_no'] = listing_data['beds'].str.split(' ').str[0]\n",
    "listing_data['guest_no'] = listing_data['title'].str.split(' ').str[0]\n",
    "listing_data['guest_no'] = listing_data['guest_no'].astype('float')\n",
    "listing_data['id'] = listing_data['id'].astype('float64')\n",
    "listing_data['id'] = listing_data['id'].astype('str')\n",
    "listing_data['town'] = listing_data['town'].str.lower()\n",
    "listing_data = listing_data[listing_data.lat.isna() == False]\n",
    "#listing_data['city_geopy'] = listing_data.apply(lambda row: set_city(row['lat'], row['lng']), axis=1)\n",
    "#listing_data['state_geopy'] = listing_data.apply(lambda row: set_state(row['lat'], row['lng']), axis=1)\n",
    "#listing_data['country_geopy'] = listing_data.apply(lambda row: set_country(row['lat'], row['lng']), axis=1)\n",
    "#listing_data['country_code_geopy'] = listing_data.apply(lambda row: set_country_code(row['lat'], row['lng']), axis=1)\n",
    "#listing_data['zipcode_geopy'] = listing_data.apply(lambda row: set_zipcode(row['lat'], row['lng']), axis=1)\n",
    "\n",
    "# Clean up occ_data\n",
    "#occ_data['id'] = occ_data['id'].astype('int')\n",
    "occ_data['id'] = occ_data['id'].astype('str')\n",
    "\n",
    "# Clean up price_data\n",
    "#price_data['id'] = price_data['id'].astype('int')\n",
    "price_data['id'] = price_data['id'].astype('str')"
   ]
  },
  {
   "cell_type": "code",
   "execution_count": 81,
   "metadata": {},
   "outputs": [
    {
     "data": {
      "application/vnd.plotly.v1+json": {
       "config": {
        "plotlyServerURL": "https://plot.ly"
       },
       "data": [
        {
         "hovertemplate": "date=%{x}<br>available=%{y}<extra></extra>",
         "legendgroup": "",
         "line": {
          "color": "#636efa",
          "dash": "solid"
         },
         "marker": {
          "symbol": "circle"
         },
         "mode": "lines",
         "name": "",
         "orientation": "v",
         "showlegend": false,
         "type": "scatter",
         "x": [
          "2022-04-01",
          "2022-04-02",
          "2022-04-03",
          "2022-04-04",
          "2022-04-05",
          "2022-04-06",
          "2022-04-07",
          "2022-04-08",
          "2022-04-09",
          "2022-04-10",
          "2022-04-11",
          "2022-04-12",
          "2022-04-13",
          "2022-04-14",
          "2022-04-15",
          "2022-04-16",
          "2022-04-17",
          "2022-04-18",
          "2022-04-19",
          "2022-04-20",
          "2022-04-21",
          "2022-04-22",
          "2022-04-23",
          "2022-04-24",
          "2022-04-25",
          "2022-04-26",
          "2022-04-27",
          "2022-04-28",
          "2022-04-29",
          "2022-04-30",
          "2022-05-01",
          "2022-05-02",
          "2022-05-03",
          "2022-05-04",
          "2022-05-05",
          "2022-05-06",
          "2022-05-07",
          "2022-05-08",
          "2022-05-09",
          "2022-05-10",
          "2022-05-11",
          "2022-05-12",
          "2022-05-13",
          "2022-05-14",
          "2022-05-15",
          "2022-05-16",
          "2022-05-17",
          "2022-05-18",
          "2022-05-19",
          "2022-05-20",
          "2022-05-21",
          "2022-05-22",
          "2022-05-23",
          "2022-05-24",
          "2022-05-25",
          "2022-05-26",
          "2022-05-27",
          "2022-05-28",
          "2022-05-29",
          "2022-05-30",
          "2022-05-31",
          "2022-06-01",
          "2022-06-02",
          "2022-06-03",
          "2022-06-04",
          "2022-06-05",
          "2022-06-06",
          "2022-06-07",
          "2022-06-08",
          "2022-06-09",
          "2022-06-10",
          "2022-06-11",
          "2022-06-12",
          "2022-06-13",
          "2022-06-14",
          "2022-06-15",
          "2022-06-16",
          "2022-06-17",
          "2022-06-18",
          "2022-06-19",
          "2022-06-20",
          "2022-06-21",
          "2022-06-22",
          "2022-06-23",
          "2022-06-24",
          "2022-06-25",
          "2022-06-26",
          "2022-06-27",
          "2022-06-28",
          "2022-06-29",
          "2022-06-30",
          "2022-07-01",
          "2022-07-02",
          "2022-07-03",
          "2022-07-04",
          "2022-07-05",
          "2022-07-06",
          "2022-07-07",
          "2022-07-08",
          "2022-07-09",
          "2022-07-10",
          "2022-07-11",
          "2022-07-12",
          "2022-07-13",
          "2022-07-14",
          "2022-07-15",
          "2022-07-16",
          "2022-07-17",
          "2022-07-18",
          "2022-07-19",
          "2022-07-20",
          "2022-07-21",
          "2022-07-22",
          "2022-07-23",
          "2022-07-24",
          "2022-07-25",
          "2022-07-26",
          "2022-07-27",
          "2022-07-28",
          "2022-07-29",
          "2022-07-30",
          "2022-07-31",
          "2022-08-01",
          "2022-08-02",
          "2022-08-03",
          "2022-08-04",
          "2022-08-05",
          "2022-08-06",
          "2022-08-07",
          "2022-08-08",
          "2022-08-09",
          "2022-08-10",
          "2022-08-11",
          "2022-08-12",
          "2022-08-13",
          "2022-08-14",
          "2022-08-15",
          "2022-08-16",
          "2022-08-17",
          "2022-08-18",
          "2022-08-19",
          "2022-08-20",
          "2022-08-21",
          "2022-08-22",
          "2022-08-23",
          "2022-08-24",
          "2022-08-25",
          "2022-08-26",
          "2022-08-27",
          "2022-08-28",
          "2022-08-29",
          "2022-08-30",
          "2022-08-31",
          "2022-09-01",
          "2022-09-02",
          "2022-09-03",
          "2022-09-04",
          "2022-09-05",
          "2022-09-06",
          "2022-09-07",
          "2022-09-08",
          "2022-09-09",
          "2022-09-10",
          "2022-09-11",
          "2022-09-12",
          "2022-09-13",
          "2022-09-14",
          "2022-09-15",
          "2022-09-16",
          "2022-09-17",
          "2022-09-18",
          "2022-09-19",
          "2022-09-20",
          "2022-09-21",
          "2022-09-22",
          "2022-09-23",
          "2022-09-24",
          "2022-09-25",
          "2022-09-26",
          "2022-09-27",
          "2022-09-28",
          "2022-09-29",
          "2022-09-30",
          "2022-10-01",
          "2022-10-02",
          "2022-10-03",
          "2022-10-04",
          "2022-10-05",
          "2022-10-06",
          "2022-10-07",
          "2022-10-08",
          "2022-10-09",
          "2022-10-10",
          "2022-10-11",
          "2022-10-12",
          "2022-10-13",
          "2022-10-14",
          "2022-10-15",
          "2022-10-16",
          "2022-10-17",
          "2022-10-18",
          "2022-10-19",
          "2022-10-20",
          "2022-10-21",
          "2022-10-22",
          "2022-10-23",
          "2022-10-24",
          "2022-10-25",
          "2022-10-26",
          "2022-10-27",
          "2022-10-28",
          "2022-10-29",
          "2022-10-30",
          "2022-10-31",
          "2022-11-01",
          "2022-11-02",
          "2022-11-03",
          "2022-11-04",
          "2022-11-05",
          "2022-11-06",
          "2022-11-07",
          "2022-11-08",
          "2022-11-09",
          "2022-11-10",
          "2022-11-11",
          "2022-11-12",
          "2022-11-13",
          "2022-11-14",
          "2022-11-15",
          "2022-11-16",
          "2022-11-17",
          "2022-11-18",
          "2022-11-19",
          "2022-11-20",
          "2022-11-21",
          "2022-11-22",
          "2022-11-23",
          "2022-11-24",
          "2022-11-25",
          "2022-11-26",
          "2022-11-27",
          "2022-11-28",
          "2022-11-29",
          "2022-11-30",
          "2022-12-01",
          "2022-12-02",
          "2022-12-03",
          "2022-12-04",
          "2022-12-05",
          "2022-12-06",
          "2022-12-07",
          "2022-12-08",
          "2022-12-09",
          "2022-12-10",
          "2022-12-11",
          "2022-12-12",
          "2022-12-13",
          "2022-12-14",
          "2022-12-15",
          "2022-12-16",
          "2022-12-17",
          "2022-12-18",
          "2022-12-19",
          "2022-12-20",
          "2022-12-21",
          "2022-12-22",
          "2022-12-23",
          "2022-12-24",
          "2022-12-25",
          "2022-12-26",
          "2022-12-27",
          "2022-12-28",
          "2022-12-29",
          "2022-12-30",
          "2022-12-31",
          "2023-01-01",
          "2023-01-02",
          "2023-01-03",
          "2023-01-04",
          "2023-01-05",
          "2023-01-06",
          "2023-01-07",
          "2023-01-08",
          "2023-01-09",
          "2023-01-10",
          "2023-01-11",
          "2023-01-12",
          "2023-01-13",
          "2023-01-14",
          "2023-01-15",
          "2023-01-16",
          "2023-01-17",
          "2023-01-18",
          "2023-01-19",
          "2023-01-20",
          "2023-01-21",
          "2023-01-22",
          "2023-01-23",
          "2023-01-24",
          "2023-01-25",
          "2023-01-26",
          "2023-01-27",
          "2023-01-28",
          "2023-01-29",
          "2023-01-30",
          "2023-01-31",
          "2023-02-01",
          "2023-02-02",
          "2023-02-03",
          "2023-02-04",
          "2023-02-05",
          "2023-02-06",
          "2023-02-07",
          "2023-02-08",
          "2023-02-09",
          "2023-02-10",
          "2023-02-11",
          "2023-02-12",
          "2023-02-13",
          "2023-02-14",
          "2023-02-15",
          "2023-02-16",
          "2023-02-17",
          "2023-02-18",
          "2023-02-19",
          "2023-02-20",
          "2023-02-21",
          "2023-02-22",
          "2023-02-23",
          "2023-02-24",
          "2023-02-25",
          "2023-02-26",
          "2023-02-27",
          "2023-02-28",
          "2023-03-01",
          "2023-03-02",
          "2023-03-03",
          "2023-03-04",
          "2023-03-05",
          "2023-03-06",
          "2023-03-07",
          "2023-03-08",
          "2023-03-09",
          "2023-03-10",
          "2023-03-11",
          "2023-03-12",
          "2023-03-13",
          "2023-03-14",
          "2023-03-15",
          "2023-03-16",
          "2023-03-17",
          "2023-03-18",
          "2023-03-19",
          "2023-03-20",
          "2023-03-21",
          "2023-03-22",
          "2023-03-23",
          "2023-03-24",
          "2023-03-25",
          "2023-03-26",
          "2023-03-27",
          "2023-03-28",
          "2023-03-29",
          "2023-03-30",
          "2023-03-31",
          "2023-04-01",
          "2023-04-02",
          "2023-04-03",
          "2023-04-04",
          "2023-04-05",
          "2023-04-06",
          "2023-04-07",
          "2023-04-08",
          "2023-04-09",
          "2023-04-10",
          "2023-04-11",
          "2023-04-12",
          "2023-04-13",
          "2023-04-14",
          "2023-04-15",
          "2023-04-16",
          "2023-04-17",
          "2023-04-18",
          "2023-04-19",
          "2023-04-20",
          "2023-04-21",
          "2023-04-22",
          "2023-04-23",
          "2023-04-24",
          "2023-04-25",
          "2023-04-26",
          "2023-04-27",
          "2023-04-28",
          "2023-04-29",
          "2023-04-30"
         ],
         "xaxis": "x",
         "y": [
          0,
          0,
          0,
          0,
          0,
          0,
          0,
          0,
          0,
          0,
          0,
          0,
          0,
          0,
          0,
          0,
          0,
          0.022446908182386007,
          0.05168644597126796,
          0.07792004996876951,
          0.08619612742036227,
          0.08502498438475953,
          0.1009525296689569,
          0.1761008744534666,
          0.22439100562148656,
          0.24871174266083698,
          0.282948157401624,
          0.2605793254216115,
          0.22692848219862585,
          0.2826358525921299,
          0.1016705369984974,
          0.1416220038408691,
          0.1691348402182385,
          0.18409655205663272,
          0.17469526158889845,
          0.15534628086556154,
          0.1703240632859519,
          0.24638612787362094,
          0.32027866389181286,
          0.3579079316357442,
          0.3691975154880234,
          0.33568231673510057,
          0.2920908630706061,
          0.301564471157323,
          0.4234116238519578,
          0.49605868976544987,
          0.537456508987473,
          0.5380752263943239,
          0.47734449703096,
          0.3961880579505187,
          0.39245164763641915,
          0.5167736699584575,
          0.5769178230789628,
          0.6053707885031057,
          0.6031530481876402,
          0.5335834987264064,
          0.40502687804838855,
          0.3779318768029184,
          0.4350386899261557,
          0.5818434564607757,
          0.6488577833846253,
          0.6466320077781617,
          0.5969658741191313,
          0.5305622293111345,
          0.5119685659416155,
          0.5868333721705732,
          0.6130605619882524,
          0.6238599930896498,
          0.6132453736812079,
          0.5632417578002588,
          0.5160906702236221,
          0.5064161798619538,
          0.5706020843544849,
          0.6051216944821657,
          0.6134542912471576,
          0.5957846863424159,
          0.5555841254791042,
          0.510007954938088,
          0.5021655109239781,
          0.5619159347855782,
          0.5970864034841021,
          0.6085527637383388,
          0.5958168275064082,
          0.5454917999855364,
          0.5049617921913042,
          0.5059822741480583,
          0.5681272147270814,
          0.6014174253320584,
          0.6167085841013732,
          0.6149890318277876,
          0.6000916023173779,
          0.5380350499393336,
          0.5061349446770215,
          0.5116632248836892,
          0.5377377441724052,
          0.5795132220713373,
          0.5909233352885874,
          0.5698467670006669,
          0.5453471647475713,
          0.5449534354886663,
          0.5767651525499996,
          0.5875003013234125,
          0.5857325373038385,
          0.5804372805361147,
          0.5585652184393858,
          0.5309559585700396,
          0.5292685474604463,
          0.5707627901744462,
          0.5905376413206804,
          0.594788310258656,
          0.5742260005946115,
          0.5058054977461008,
          0.4688994061919952,
          0.47035379386264475,
          0.5066652738828936,
          0.5652746864227688,
          0.5813533037098938,
          0.5862628665097106,
          0.5612490056327389,
          0.540244754963801,
          0.5556966195530771,
          0.6108428216727869,
          0.6019075780829403,
          0.6041012125254116,
          0.5967007095161951,
          0.5690593084828567,
          0.5486737752207697,
          0.5587741360053354,
          0.5948124161316503,
          0.6084161637913718,
          0.6111963744767017,
          0.6051216944821657,
          0.5781873990566568,
          0.5564680074888912,
          0.5676531325581956,
          0.6009272725811765,
          0.619207559601771,
          0.6242055106025665,
          0.6194968300777013,
          0.6029682364946847,
          0.585668254975854,
          0.604020859615431,
          0.6398180810118038,
          0.6603562848028541,
          0.6692915283927008,
          0.6661979413584463,
          0.6497497006854103,
          0.6296614731902516,
          0.648697077564664,
          0.6827184996504648,
          0.7040280913773292,
          0.7105527476677568,
          0.7113000297305767,
          0.6734216679657054,
          0.6307623080569863,
          0.6267607331399506,
          0.64186708021631,
          0.684630898908004,
          0.705016432170091,
          0.7057315730689186,
          0.6867441804404947,
          0.6649765771267406,
          0.6608625081357321,
          0.6921680018641875,
          0.7070815019565934,
          0.7111553944926116,
          0.7063743963487638,
          0.6889137090099718,
          0.6700066692915284,
          0.6714449863801818,
          0.7009987866710593,
          0.715896216181469,
          0.7183148387718862,
          0.714875734224715,
          0.6991426344505066,
          0.6814891001277611,
          0.6833773935123061,
          0.709829571477931,
          0.7199379675534949,
          0.7237708013595713,
          0.719303179564648,
          0.6998175988943439,
          0.6811516179058424,
          0.6681746229439699,
          0.6896609910727917,
          0.6999863400053032,
          0.7046146676201879,
          0.696024941543258,
          0.6775196663747177,
          0.6505773356582109,
          0.6484881599987143,
          0.6665675647443572,
          0.6904002378446136,
          0.7048637616411279,
          0.7043736088902459,
          0.6940643305397305,
          0.6826461820314823,
          0.6809266297578966,
          0.6970293529180159,
          0.7091224658701015,
          0.7128910173481933,
          0.7087448071931925,
          0.6987890816465918,
          0.6889137090099718,
          0.6911716257804277,
          0.7054181967199942,
          0.7095161951290065,
          0.711589300206507,
          0.7103840065567975,
          0.7019549862998289,
          0.6907618259395264,
          0.6863343805995934,
          0.6863424158905915,
          0.689572602871813,
          0.6713967746341933,
          0.6647917654337852,
          0.6540646519513704,
          0.6420036801632771,
          0.6369173409615029,
          0.6393681047159123,
          0.6386609991080827,
          0.6333496717583628,
          0.6270901800708713,
          0.6147238672248515,
          0.6056118472330475,
          0.6030726952776595,
          0.6059091529999759,
          0.6041413889804019,
          0.6033298245895975,
          0.6026066483997718,
          0.5997782259684534,
          0.5977051208909531,
          0.5939687105768535,
          0.592634852271175,
          0.5918956054993532,
          0.5872994190484608,
          0.5727957187969562,
          0.5669299563683698,
          0.5673076150452788,
          0.5736072831877607,
          0.5890752183590329,
          0.5946838514756811,
          0.5967087448071932,
          0.5974319209970189,
          0.5779302697447188,
          0.5694369671597657,
          0.5689066379538935,
          0.5780427638186917,
          0.5820764798997196,
          0.5838522792102916,
          0.5853147021719391,
          0.5835147969883729,
          0.5786775518075387,
          0.5785248812785755,
          0.5824059268306402,
          0.5841736908502141,
          0.5852263139709605,
          0.5848486552940515,
          0.5819157740797583,
          0.576315176254108,
          0.5735028244047858,
          0.5741376123936328,
          0.5756241412282745,
          0.573518894986782,
          0.5710520606503765,
          0.5613293585427196,
          0.5523780443708769,
          0.5488826927867193,
          0.5436436830559819,
          0.5368779680356124,
          0.53099613502503,
          0.5272195482559401,
          0.5254758901093604,
          0.5235233143968309,
          0.5303452764541868,
          0.5227840676250091,
          0.5333102988324722,
          0.5378502382463781,
          0.533157628303509,
          0.5324906991506697,
          0.5313255819559506,
          0.5317514523788479,
          0.5319603699447976,
          0.5365244152316976,
          0.5370949208925602,
          0.5294613944443998,
          0.5246803963005521,
          0.5166852817574789,
          0.5167334935034672,
          0.5171673992173627,
          0.5217073386312685,
          0.5241982788406682,
          0.523659914343798,
          0.5210323741874312,
          0.5192565748768592,
          0.5195699512257836,
          0.5222055266731485,
          0.523282255666889,
          0.523659914343798,
          0.521265397626375,
          0.5156165880547364,
          0.5114944837727299,
          0.5097588609171481,
          0.5085053555214503,
          0.5089231906533496,
          0.5081196615535432,
          0.4974407598171168,
          0.4928204674932303,
          0.4877501988734522,
          0.4851547998810777,
          0.48503427051610676,
          0.4853717527380254,
          0.4834754240624824,
          0.4796666961294003,
          0.4749660508955332,
          0.4688994061919952,
          0.46629597190862265,
          0.4669227246064716,
          0.4687949474090204,
          0.46850567693309014,
          0.46788695952623927,
          0.4655486898458028,
          0.45981952736418347,
          0.45665362271094645,
          0.4574410812287567,
          0.4600605860941254,
          0.4612096327068485,
          0.4612257032888446,
          0.4613381973628175,
          0.4611694562518582,
          0.4648335489469751,
          0.47203316968124,
          0.4736161220078585,
          0.4781962378767547,
          0.47707933242802386,
          0.476589179677142,
          0.4746044628006203,
          0.47528746253545573,
          0.4762758033282175,
          0.4768061325340897,
          0.47715165004700644,
          0.4779953556018031,
          0.47688648544407036,
          0.4741705570867249,
          0.47383307486480625,
          0.4749339097315409,
          0.4781721320037605,
          0.4781962378767547,
          0.4785417553896714,
          0.4777784027448554,
          0.47611509750825626,
          0.47713557946501034,
          0.4794336726904565,
          0.48021309591726863,
          0.48096037798008856,
          0.48006042538830546,
          0.4784935436436831,
          0.4768141678250878,
          0.47732842644896384,
          0.4781319555487702,
          0.483041518348587,
          0.4834673887714844,
          0.48330668295152307,
          0.4832343653325405,
          0.4929811733131915,
          0.5045378661405373,
          0.505529417716396,
          0.5059948398846562,
          0.5065108514190317,
          0.5062882582081246,
          0.5047301057317752,
          0.5045581018869834,
          0.5064501441796935,
          0.5071179238124146,
          0.5080993575150503,
          0.5082612434866192,
          0.5083523043456265,
          0.5081701826276117,
          0.5089694946122325,
          0.5097384529771842,
          0.5074619315019983,
          0.5086254869226489,
          0.5089087873728942,
          0.5089897303586786,
          0.5075125208681135,
          0.5071179238124146,
          0.5070572165730763,
          0.5086254869226489,
          0.5094450346537158,
          0.5093944452876006,
          0.5090403197247938,
          0.5091718520766935,
          0.5092123235695857,
          0.509910456821976,
          0.5154348156017605
         ],
         "yaxis": "y"
        }
       ],
       "layout": {
        "legend": {
         "tracegroupgap": 0
        },
        "template": {
         "data": {
          "bar": [
           {
            "error_x": {
             "color": "#2a3f5f"
            },
            "error_y": {
             "color": "#2a3f5f"
            },
            "marker": {
             "line": {
              "color": "#E5ECF6",
              "width": 0.5
             },
             "pattern": {
              "fillmode": "overlay",
              "size": 10,
              "solidity": 0.2
             }
            },
            "type": "bar"
           }
          ],
          "barpolar": [
           {
            "marker": {
             "line": {
              "color": "#E5ECF6",
              "width": 0.5
             },
             "pattern": {
              "fillmode": "overlay",
              "size": 10,
              "solidity": 0.2
             }
            },
            "type": "barpolar"
           }
          ],
          "carpet": [
           {
            "aaxis": {
             "endlinecolor": "#2a3f5f",
             "gridcolor": "white",
             "linecolor": "white",
             "minorgridcolor": "white",
             "startlinecolor": "#2a3f5f"
            },
            "baxis": {
             "endlinecolor": "#2a3f5f",
             "gridcolor": "white",
             "linecolor": "white",
             "minorgridcolor": "white",
             "startlinecolor": "#2a3f5f"
            },
            "type": "carpet"
           }
          ],
          "choropleth": [
           {
            "colorbar": {
             "outlinewidth": 0,
             "ticks": ""
            },
            "type": "choropleth"
           }
          ],
          "contour": [
           {
            "colorbar": {
             "outlinewidth": 0,
             "ticks": ""
            },
            "colorscale": [
             [
              0,
              "#0d0887"
             ],
             [
              0.1111111111111111,
              "#46039f"
             ],
             [
              0.2222222222222222,
              "#7201a8"
             ],
             [
              0.3333333333333333,
              "#9c179e"
             ],
             [
              0.4444444444444444,
              "#bd3786"
             ],
             [
              0.5555555555555556,
              "#d8576b"
             ],
             [
              0.6666666666666666,
              "#ed7953"
             ],
             [
              0.7777777777777778,
              "#fb9f3a"
             ],
             [
              0.8888888888888888,
              "#fdca26"
             ],
             [
              1,
              "#f0f921"
             ]
            ],
            "type": "contour"
           }
          ],
          "contourcarpet": [
           {
            "colorbar": {
             "outlinewidth": 0,
             "ticks": ""
            },
            "type": "contourcarpet"
           }
          ],
          "heatmap": [
           {
            "colorbar": {
             "outlinewidth": 0,
             "ticks": ""
            },
            "colorscale": [
             [
              0,
              "#0d0887"
             ],
             [
              0.1111111111111111,
              "#46039f"
             ],
             [
              0.2222222222222222,
              "#7201a8"
             ],
             [
              0.3333333333333333,
              "#9c179e"
             ],
             [
              0.4444444444444444,
              "#bd3786"
             ],
             [
              0.5555555555555556,
              "#d8576b"
             ],
             [
              0.6666666666666666,
              "#ed7953"
             ],
             [
              0.7777777777777778,
              "#fb9f3a"
             ],
             [
              0.8888888888888888,
              "#fdca26"
             ],
             [
              1,
              "#f0f921"
             ]
            ],
            "type": "heatmap"
           }
          ],
          "heatmapgl": [
           {
            "colorbar": {
             "outlinewidth": 0,
             "ticks": ""
            },
            "colorscale": [
             [
              0,
              "#0d0887"
             ],
             [
              0.1111111111111111,
              "#46039f"
             ],
             [
              0.2222222222222222,
              "#7201a8"
             ],
             [
              0.3333333333333333,
              "#9c179e"
             ],
             [
              0.4444444444444444,
              "#bd3786"
             ],
             [
              0.5555555555555556,
              "#d8576b"
             ],
             [
              0.6666666666666666,
              "#ed7953"
             ],
             [
              0.7777777777777778,
              "#fb9f3a"
             ],
             [
              0.8888888888888888,
              "#fdca26"
             ],
             [
              1,
              "#f0f921"
             ]
            ],
            "type": "heatmapgl"
           }
          ],
          "histogram": [
           {
            "marker": {
             "pattern": {
              "fillmode": "overlay",
              "size": 10,
              "solidity": 0.2
             }
            },
            "type": "histogram"
           }
          ],
          "histogram2d": [
           {
            "colorbar": {
             "outlinewidth": 0,
             "ticks": ""
            },
            "colorscale": [
             [
              0,
              "#0d0887"
             ],
             [
              0.1111111111111111,
              "#46039f"
             ],
             [
              0.2222222222222222,
              "#7201a8"
             ],
             [
              0.3333333333333333,
              "#9c179e"
             ],
             [
              0.4444444444444444,
              "#bd3786"
             ],
             [
              0.5555555555555556,
              "#d8576b"
             ],
             [
              0.6666666666666666,
              "#ed7953"
             ],
             [
              0.7777777777777778,
              "#fb9f3a"
             ],
             [
              0.8888888888888888,
              "#fdca26"
             ],
             [
              1,
              "#f0f921"
             ]
            ],
            "type": "histogram2d"
           }
          ],
          "histogram2dcontour": [
           {
            "colorbar": {
             "outlinewidth": 0,
             "ticks": ""
            },
            "colorscale": [
             [
              0,
              "#0d0887"
             ],
             [
              0.1111111111111111,
              "#46039f"
             ],
             [
              0.2222222222222222,
              "#7201a8"
             ],
             [
              0.3333333333333333,
              "#9c179e"
             ],
             [
              0.4444444444444444,
              "#bd3786"
             ],
             [
              0.5555555555555556,
              "#d8576b"
             ],
             [
              0.6666666666666666,
              "#ed7953"
             ],
             [
              0.7777777777777778,
              "#fb9f3a"
             ],
             [
              0.8888888888888888,
              "#fdca26"
             ],
             [
              1,
              "#f0f921"
             ]
            ],
            "type": "histogram2dcontour"
           }
          ],
          "mesh3d": [
           {
            "colorbar": {
             "outlinewidth": 0,
             "ticks": ""
            },
            "type": "mesh3d"
           }
          ],
          "parcoords": [
           {
            "line": {
             "colorbar": {
              "outlinewidth": 0,
              "ticks": ""
             }
            },
            "type": "parcoords"
           }
          ],
          "pie": [
           {
            "automargin": true,
            "type": "pie"
           }
          ],
          "scatter": [
           {
            "fillpattern": {
             "fillmode": "overlay",
             "size": 10,
             "solidity": 0.2
            },
            "type": "scatter"
           }
          ],
          "scatter3d": [
           {
            "line": {
             "colorbar": {
              "outlinewidth": 0,
              "ticks": ""
             }
            },
            "marker": {
             "colorbar": {
              "outlinewidth": 0,
              "ticks": ""
             }
            },
            "type": "scatter3d"
           }
          ],
          "scattercarpet": [
           {
            "marker": {
             "colorbar": {
              "outlinewidth": 0,
              "ticks": ""
             }
            },
            "type": "scattercarpet"
           }
          ],
          "scattergeo": [
           {
            "marker": {
             "colorbar": {
              "outlinewidth": 0,
              "ticks": ""
             }
            },
            "type": "scattergeo"
           }
          ],
          "scattergl": [
           {
            "marker": {
             "colorbar": {
              "outlinewidth": 0,
              "ticks": ""
             }
            },
            "type": "scattergl"
           }
          ],
          "scattermapbox": [
           {
            "marker": {
             "colorbar": {
              "outlinewidth": 0,
              "ticks": ""
             }
            },
            "type": "scattermapbox"
           }
          ],
          "scatterpolar": [
           {
            "marker": {
             "colorbar": {
              "outlinewidth": 0,
              "ticks": ""
             }
            },
            "type": "scatterpolar"
           }
          ],
          "scatterpolargl": [
           {
            "marker": {
             "colorbar": {
              "outlinewidth": 0,
              "ticks": ""
             }
            },
            "type": "scatterpolargl"
           }
          ],
          "scatterternary": [
           {
            "marker": {
             "colorbar": {
              "outlinewidth": 0,
              "ticks": ""
             }
            },
            "type": "scatterternary"
           }
          ],
          "surface": [
           {
            "colorbar": {
             "outlinewidth": 0,
             "ticks": ""
            },
            "colorscale": [
             [
              0,
              "#0d0887"
             ],
             [
              0.1111111111111111,
              "#46039f"
             ],
             [
              0.2222222222222222,
              "#7201a8"
             ],
             [
              0.3333333333333333,
              "#9c179e"
             ],
             [
              0.4444444444444444,
              "#bd3786"
             ],
             [
              0.5555555555555556,
              "#d8576b"
             ],
             [
              0.6666666666666666,
              "#ed7953"
             ],
             [
              0.7777777777777778,
              "#fb9f3a"
             ],
             [
              0.8888888888888888,
              "#fdca26"
             ],
             [
              1,
              "#f0f921"
             ]
            ],
            "type": "surface"
           }
          ],
          "table": [
           {
            "cells": {
             "fill": {
              "color": "#EBF0F8"
             },
             "line": {
              "color": "white"
             }
            },
            "header": {
             "fill": {
              "color": "#C8D4E3"
             },
             "line": {
              "color": "white"
             }
            },
            "type": "table"
           }
          ]
         },
         "layout": {
          "annotationdefaults": {
           "arrowcolor": "#2a3f5f",
           "arrowhead": 0,
           "arrowwidth": 1
          },
          "autotypenumbers": "strict",
          "coloraxis": {
           "colorbar": {
            "outlinewidth": 0,
            "ticks": ""
           }
          },
          "colorscale": {
           "diverging": [
            [
             0,
             "#8e0152"
            ],
            [
             0.1,
             "#c51b7d"
            ],
            [
             0.2,
             "#de77ae"
            ],
            [
             0.3,
             "#f1b6da"
            ],
            [
             0.4,
             "#fde0ef"
            ],
            [
             0.5,
             "#f7f7f7"
            ],
            [
             0.6,
             "#e6f5d0"
            ],
            [
             0.7,
             "#b8e186"
            ],
            [
             0.8,
             "#7fbc41"
            ],
            [
             0.9,
             "#4d9221"
            ],
            [
             1,
             "#276419"
            ]
           ],
           "sequential": [
            [
             0,
             "#0d0887"
            ],
            [
             0.1111111111111111,
             "#46039f"
            ],
            [
             0.2222222222222222,
             "#7201a8"
            ],
            [
             0.3333333333333333,
             "#9c179e"
            ],
            [
             0.4444444444444444,
             "#bd3786"
            ],
            [
             0.5555555555555556,
             "#d8576b"
            ],
            [
             0.6666666666666666,
             "#ed7953"
            ],
            [
             0.7777777777777778,
             "#fb9f3a"
            ],
            [
             0.8888888888888888,
             "#fdca26"
            ],
            [
             1,
             "#f0f921"
            ]
           ],
           "sequentialminus": [
            [
             0,
             "#0d0887"
            ],
            [
             0.1111111111111111,
             "#46039f"
            ],
            [
             0.2222222222222222,
             "#7201a8"
            ],
            [
             0.3333333333333333,
             "#9c179e"
            ],
            [
             0.4444444444444444,
             "#bd3786"
            ],
            [
             0.5555555555555556,
             "#d8576b"
            ],
            [
             0.6666666666666666,
             "#ed7953"
            ],
            [
             0.7777777777777778,
             "#fb9f3a"
            ],
            [
             0.8888888888888888,
             "#fdca26"
            ],
            [
             1,
             "#f0f921"
            ]
           ]
          },
          "colorway": [
           "#636efa",
           "#EF553B",
           "#00cc96",
           "#ab63fa",
           "#FFA15A",
           "#19d3f3",
           "#FF6692",
           "#B6E880",
           "#FF97FF",
           "#FECB52"
          ],
          "font": {
           "color": "#2a3f5f"
          },
          "geo": {
           "bgcolor": "white",
           "lakecolor": "white",
           "landcolor": "#E5ECF6",
           "showlakes": true,
           "showland": true,
           "subunitcolor": "white"
          },
          "hoverlabel": {
           "align": "left"
          },
          "hovermode": "closest",
          "mapbox": {
           "style": "light"
          },
          "paper_bgcolor": "white",
          "plot_bgcolor": "#E5ECF6",
          "polar": {
           "angularaxis": {
            "gridcolor": "white",
            "linecolor": "white",
            "ticks": ""
           },
           "bgcolor": "#E5ECF6",
           "radialaxis": {
            "gridcolor": "white",
            "linecolor": "white",
            "ticks": ""
           }
          },
          "scene": {
           "xaxis": {
            "backgroundcolor": "#E5ECF6",
            "gridcolor": "white",
            "gridwidth": 2,
            "linecolor": "white",
            "showbackground": true,
            "ticks": "",
            "zerolinecolor": "white"
           },
           "yaxis": {
            "backgroundcolor": "#E5ECF6",
            "gridcolor": "white",
            "gridwidth": 2,
            "linecolor": "white",
            "showbackground": true,
            "ticks": "",
            "zerolinecolor": "white"
           },
           "zaxis": {
            "backgroundcolor": "#E5ECF6",
            "gridcolor": "white",
            "gridwidth": 2,
            "linecolor": "white",
            "showbackground": true,
            "ticks": "",
            "zerolinecolor": "white"
           }
          },
          "shapedefaults": {
           "line": {
            "color": "#2a3f5f"
           }
          },
          "ternary": {
           "aaxis": {
            "gridcolor": "white",
            "linecolor": "white",
            "ticks": ""
           },
           "baxis": {
            "gridcolor": "white",
            "linecolor": "white",
            "ticks": ""
           },
           "bgcolor": "#E5ECF6",
           "caxis": {
            "gridcolor": "white",
            "linecolor": "white",
            "ticks": ""
           }
          },
          "title": {
           "x": 0.05
          },
          "xaxis": {
           "automargin": true,
           "gridcolor": "white",
           "linecolor": "white",
           "ticks": "",
           "title": {
            "standoff": 15
           },
           "zerolinecolor": "white",
           "zerolinewidth": 2
          },
          "yaxis": {
           "automargin": true,
           "gridcolor": "white",
           "linecolor": "white",
           "ticks": "",
           "title": {
            "standoff": 15
           },
           "zerolinecolor": "white",
           "zerolinewidth": 2
          }
         }
        },
        "title": {
         "text": "Occupancy Rate by Date"
        },
        "xaxis": {
         "anchor": "y",
         "domain": [
          0,
          1
         ],
         "title": {
          "text": "date"
         }
        },
        "yaxis": {
         "anchor": "x",
         "domain": [
          0,
          1
         ],
         "title": {
          "text": "available"
         }
        }
       }
      }
     },
     "metadata": {},
     "output_type": "display_data"
    }
   ],
   "source": [
    "occ_data_date = occ_data.groupby(['date'])['available'].apply(lambda row: np.sum(row)/len(row)).reset_index()\n",
    "\n",
    "occupancy_rate_fig = px.line(occ_data_date,\n",
    "        x=\"date\",\n",
    "        y=\"available\",\n",
    "        title=\"Occupancy Rate by Date\"\n",
    "    )\n",
    "\n",
    "filename = \"newsletter_features/occupancy_rate_line_fig.png\"\n",
    "occupancy_rate_fig.write_image(filename, engine='kaleido')\n",
    "occupancy_rate_fig.show()"
   ]
  },
  {
   "cell_type": "code",
   "execution_count": 68,
   "metadata": {},
   "outputs": [],
   "source": [
    "price_data_date = price_data.groupby(['check_in'])['cleaning_fee','service_fee','total_price'].apply(lambda row: np.sum(row)/len(row)).reset_index()"
   ]
  },
  {
   "cell_type": "code",
   "execution_count": 79,
   "metadata": {},
   "outputs": [
    {
     "data": {
      "application/vnd.plotly.v1+json": {
       "config": {
        "plotlyServerURL": "https://plot.ly"
       },
       "data": [
        {
         "mode": "lines",
         "name": "Cleaning Fee",
         "type": "scatter",
         "x": [
          "2022-04-18",
          "2022-04-19",
          "2022-04-20",
          "2022-04-21",
          "2022-04-22",
          "2022-04-23",
          "2022-04-24",
          "2022-04-25",
          "2022-04-26",
          "2022-04-27",
          "2022-04-28",
          "2022-04-29",
          "2022-04-30",
          "2022-05-01",
          "2022-05-02",
          "2022-05-03",
          "2022-05-04",
          "2022-05-05",
          "2022-05-06",
          "2022-05-07",
          "2022-05-08",
          "2022-05-09",
          "2022-05-10",
          "2022-05-11",
          "2022-05-12",
          "2022-05-13",
          "2022-05-14",
          "2022-05-15",
          "2022-05-16",
          "2022-05-17",
          "2022-05-18",
          "2022-05-19",
          "2022-05-20",
          "2022-05-21",
          "2022-05-22",
          "2022-05-23",
          "2022-05-24",
          "2022-05-25",
          "2022-05-26",
          "2022-05-27",
          "2022-05-28",
          "2022-05-29",
          "2022-05-30",
          "2022-05-31",
          "2022-06-01",
          "2022-06-02",
          "2022-06-03",
          "2022-06-04",
          "2022-06-05",
          "2022-06-06",
          "2022-06-07",
          "2022-06-08",
          "2022-06-09",
          "2022-06-10",
          "2022-06-11",
          "2022-06-12",
          "2022-06-13",
          "2022-06-14",
          "2022-06-15",
          "2022-06-16",
          "2022-06-17",
          "2022-06-18",
          "2022-06-19",
          "2022-06-20",
          "2022-06-21",
          "2022-06-22",
          "2022-06-23",
          "2022-06-24",
          "2022-06-25",
          "2022-06-26",
          "2022-06-27",
          "2022-06-28",
          "2022-06-29",
          "2022-06-30",
          "2022-07-01",
          "2022-07-02",
          "2022-07-03",
          "2022-07-04",
          "2022-07-05",
          "2022-07-06",
          "2022-07-07",
          "2022-07-08",
          "2022-07-09",
          "2022-07-10",
          "2022-07-11",
          "2022-07-12",
          "2022-07-13",
          "2022-07-14",
          "2022-07-15",
          "2022-07-16",
          "2022-07-17",
          "2022-07-18",
          "2022-07-19",
          "2022-07-20",
          "2022-07-21",
          "2022-07-22",
          "2022-07-23",
          "2022-07-24",
          "2022-07-25",
          "2022-07-26",
          "2022-07-27",
          "2022-07-28",
          "2022-07-29",
          "2022-07-30",
          "2022-07-31",
          "2022-08-01",
          "2022-08-02",
          "2022-08-03",
          "2022-08-04",
          "2022-08-05",
          "2022-08-06",
          "2022-08-07",
          "2022-08-08",
          "2022-08-09",
          "2022-08-10",
          "2022-08-11",
          "2022-08-12",
          "2022-08-13",
          "2022-08-14"
         ],
         "y": [
          115.82025761124122,
          116.2538882803943,
          116.33384446878422,
          116.31186329280315,
          116.61728180633956,
          116.75339988425925,
          116.71055245189324,
          116.69661037993544,
          116.72563132096543,
          116.82269263336156,
          116.80646619941217,
          116.87487073422957,
          119.74230074282272,
          121.57227768291081,
          122.85016530992138,
          123.78976260413155,
          124.51799600560915,
          125.42500237665178,
          125.56636498158917,
          125.96605961565658,
          126.30490750517075,
          126.65156331737154,
          126.95750640905396,
          127.2059043960934,
          127.44092675997402,
          127.59675443332364,
          127.73866147997525,
          127.86474519710288,
          128.00189827381269,
          128.09926318193737,
          128.20449454557217,
          128.209461426492,
          128.2023805673254,
          128.2099789746078,
          128.21644766101969,
          128.19959726333155,
          128.20546992511603,
          128.2063116019955,
          128.2026862026862,
          128.21444280932127,
          128.1974380125188,
          128.20204920021348,
          128.1898209160367,
          128.19908785095097,
          128.19406931797965,
          128.2074107619402,
          128.2046189675249,
          128.18557017934137,
          128.21735437580386,
          128.20548033839634,
          128.2096965971318,
          128.21358139534883,
          128.20185534158827,
          128.20975763604164,
          128.20095105618995,
          128.19768542106414,
          128.2032733330099,
          128.2051899952289,
          128.20837444000583,
          128.20519020508507,
          128.2045476598635,
          128.20928013456034,
          128.20889596843313,
          128.20613205258817,
          128.2036385688296,
          128.20526545595678,
          128.20422239112506,
          128.20983731159842,
          128.21356954574122,
          128.20775943644202,
          128.2040171099126,
          128.21360063401696,
          128.20754121956546,
          128.20422802888777,
          128.2018678741813,
          128.21347987480894,
          128.2062001585222,
          128.193970466933,
          128.20053536480825,
          128.20041404184087,
          128.19663739143093,
          128.22738742236024,
          128.2299156428693,
          128.21401712719245,
          128.20277492541175,
          128.21449249579507,
          128.20134239042537,
          128.20728443082297,
          128.19192074403557,
          128.2129717229055,
          128.78694140591875,
          128.76894896626584,
          128.78298966011553,
          129.01067319927634,
          129.25403443067492,
          129.54485208594434,
          129.52073134449464,
          129.51194071563157,
          129.8939758588327,
          130.1185996036614,
          130.3088699086456,
          130.3275278964742,
          130.38371743701987,
          130.4073267258979,
          130.43613498575638,
          130.46545938817877,
          130.49976079248043,
          130.53615073613548,
          130.58581163259527,
          130.6371506125743,
          130.56476409619418,
          130.5120862518885,
          130.47956517194524,
          130.32140899957378,
          130.36543029417138,
          130.40853184582323,
          130.49002623070822,
          130.52813615152348,
          130.50504494588148
         ]
        },
        {
         "mode": "lines",
         "name": "Service Fee",
         "type": "scatter",
         "x": [
          "2022-04-18",
          "2022-04-19",
          "2022-04-20",
          "2022-04-21",
          "2022-04-22",
          "2022-04-23",
          "2022-04-24",
          "2022-04-25",
          "2022-04-26",
          "2022-04-27",
          "2022-04-28",
          "2022-04-29",
          "2022-04-30",
          "2022-05-01",
          "2022-05-02",
          "2022-05-03",
          "2022-05-04",
          "2022-05-05",
          "2022-05-06",
          "2022-05-07",
          "2022-05-08",
          "2022-05-09",
          "2022-05-10",
          "2022-05-11",
          "2022-05-12",
          "2022-05-13",
          "2022-05-14",
          "2022-05-15",
          "2022-05-16",
          "2022-05-17",
          "2022-05-18",
          "2022-05-19",
          "2022-05-20",
          "2022-05-21",
          "2022-05-22",
          "2022-05-23",
          "2022-05-24",
          "2022-05-25",
          "2022-05-26",
          "2022-05-27",
          "2022-05-28",
          "2022-05-29",
          "2022-05-30",
          "2022-05-31",
          "2022-06-01",
          "2022-06-02",
          "2022-06-03",
          "2022-06-04",
          "2022-06-05",
          "2022-06-06",
          "2022-06-07",
          "2022-06-08",
          "2022-06-09",
          "2022-06-10",
          "2022-06-11",
          "2022-06-12",
          "2022-06-13",
          "2022-06-14",
          "2022-06-15",
          "2022-06-16",
          "2022-06-17",
          "2022-06-18",
          "2022-06-19",
          "2022-06-20",
          "2022-06-21",
          "2022-06-22",
          "2022-06-23",
          "2022-06-24",
          "2022-06-25",
          "2022-06-26",
          "2022-06-27",
          "2022-06-28",
          "2022-06-29",
          "2022-06-30",
          "2022-07-01",
          "2022-07-02",
          "2022-07-03",
          "2022-07-04",
          "2022-07-05",
          "2022-07-06",
          "2022-07-07",
          "2022-07-08",
          "2022-07-09",
          "2022-07-10",
          "2022-07-11",
          "2022-07-12",
          "2022-07-13",
          "2022-07-14",
          "2022-07-15",
          "2022-07-16",
          "2022-07-17",
          "2022-07-18",
          "2022-07-19",
          "2022-07-20",
          "2022-07-21",
          "2022-07-22",
          "2022-07-23",
          "2022-07-24",
          "2022-07-25",
          "2022-07-26",
          "2022-07-27",
          "2022-07-28",
          "2022-07-29",
          "2022-07-30",
          "2022-07-31",
          "2022-08-01",
          "2022-08-02",
          "2022-08-03",
          "2022-08-04",
          "2022-08-05",
          "2022-08-06",
          "2022-08-07",
          "2022-08-08",
          "2022-08-09",
          "2022-08-10",
          "2022-08-11",
          "2022-08-12",
          "2022-08-13",
          "2022-08-14"
         ],
         "y": [
          58.545081967213115,
          59.40142387732749,
          58.935049288061336,
          61.663380435973274,
          66.50369083803734,
          65.84252025462963,
          58.86530105524519,
          56.41705984603924,
          56.1368120617981,
          56.09901213660739,
          59.91917250734795,
          65.27362978283351,
          64.75615338285485,
          60.06603835544463,
          57.928791709499066,
          57.786897481581356,
          58.74871457102792,
          66.01026713565928,
          71.26855707354004,
          71.21930830753759,
          66.55008027307308,
          59.792630745912305,
          58.412367910961045,
          58.191922149097124,
          59.97980420874123,
          63.831471406619876,
          64.0638316682875,
          59.87761817317462,
          58.30683733390104,
          58.23452978149242,
          58.298639021195044,
          60.18685104318292,
          64.3745027007795,
          64.7008571890668,
          60.48573969999595,
          59.09111714946545,
          59.02752753562244,
          59.2549625233471,
          62.18633610686591,
          68.54464964341737,
          68.90602002361427,
          66.3692522926135,
          63.01801350204148,
          61.02640218657006,
          61.13139040287235,
          62.45982467774022,
          66.22152768792859,
          66.59453643857336,
          62.87396358282844,
          61.5079746364504,
          61.511708228518735,
          61.60074418604651,
          63.57541470200496,
          67.24741826180482,
          67.67816937857859,
          64.17654527662535,
          62.504309996280305,
          62.44166713838639,
          62.57529394640229,
          64.29320049168662,
          68.08559206908821,
          68.01352881240801,
          64.0985736694859,
          62.53273823962225,
          62.51242369112593,
          62.60424988275628,
          64.1876142115562,
          68.00663852771848,
          68.28429580995197,
          64.29268943652289,
          62.75969305657753,
          62.75194086821505,
          62.99206740682639,
          65.06450412855537,
          72.22945742702353,
          72.99805905330325,
          70.71043011274486,
          68.06703973863398,
          65.52498099535802,
          65.21094299646609,
          66.46863829718407,
          69.7384025621118,
          69.77943400651887,
          65.99915091822129,
          64.39235440131307,
          64.35502652348299,
          64.46002749474366,
          66.20130032912559,
          70.11448443186413,
          70.3962027670637,
          66.34050708047147,
          64.85029935041807,
          64.83939674111271,
          65.30174077889251,
          68.17470608499023,
          72.53097584506217,
          72.88627737357892,
          68.7445885884803,
          66.0571285205869,
          65.54621119184675,
          65.7591042858923,
          66.85914052532453,
          70.43686966224625,
          70.30762212160266,
          66.36071680747973,
          64.8945045762557,
          64.77003714752068,
          64.84526661072546,
          66.02757368254444,
          69.53963392267626,
          69.50540634099656,
          65.4172274870668,
          64.22475697710881,
          64.02115934969251,
          64.18717339667458,
          65.42869553289745,
          69.06716281339597,
          69.0327568853509,
          64.89451476793249
         ]
        },
        {
         "mode": "lines",
         "name": "Total Price",
         "type": "scatter",
         "x": [
          "2022-04-18",
          "2022-04-19",
          "2022-04-20",
          "2022-04-21",
          "2022-04-22",
          "2022-04-23",
          "2022-04-24",
          "2022-04-25",
          "2022-04-26",
          "2022-04-27",
          "2022-04-28",
          "2022-04-29",
          "2022-04-30",
          "2022-05-01",
          "2022-05-02",
          "2022-05-03",
          "2022-05-04",
          "2022-05-05",
          "2022-05-06",
          "2022-05-07",
          "2022-05-08",
          "2022-05-09",
          "2022-05-10",
          "2022-05-11",
          "2022-05-12",
          "2022-05-13",
          "2022-05-14",
          "2022-05-15",
          "2022-05-16",
          "2022-05-17",
          "2022-05-18",
          "2022-05-19",
          "2022-05-20",
          "2022-05-21",
          "2022-05-22",
          "2022-05-23",
          "2022-05-24",
          "2022-05-25",
          "2022-05-26",
          "2022-05-27",
          "2022-05-28",
          "2022-05-29",
          "2022-05-30",
          "2022-05-31",
          "2022-06-01",
          "2022-06-02",
          "2022-06-03",
          "2022-06-04",
          "2022-06-05",
          "2022-06-06",
          "2022-06-07",
          "2022-06-08",
          "2022-06-09",
          "2022-06-10",
          "2022-06-11",
          "2022-06-12",
          "2022-06-13",
          "2022-06-14",
          "2022-06-15",
          "2022-06-16",
          "2022-06-17",
          "2022-06-18",
          "2022-06-19",
          "2022-06-20",
          "2022-06-21",
          "2022-06-22",
          "2022-06-23",
          "2022-06-24",
          "2022-06-25",
          "2022-06-26",
          "2022-06-27",
          "2022-06-28",
          "2022-06-29",
          "2022-06-30",
          "2022-07-01",
          "2022-07-02",
          "2022-07-03",
          "2022-07-04",
          "2022-07-05",
          "2022-07-06",
          "2022-07-07",
          "2022-07-08",
          "2022-07-09",
          "2022-07-10",
          "2022-07-11",
          "2022-07-12",
          "2022-07-13",
          "2022-07-14",
          "2022-07-15",
          "2022-07-16",
          "2022-07-17",
          "2022-07-18",
          "2022-07-19",
          "2022-07-20",
          "2022-07-21",
          "2022-07-22",
          "2022-07-23",
          "2022-07-24",
          "2022-07-25",
          "2022-07-26",
          "2022-07-27",
          "2022-07-28",
          "2022-07-29",
          "2022-07-30",
          "2022-07-31",
          "2022-08-01",
          "2022-08-02",
          "2022-08-03",
          "2022-08-04",
          "2022-08-05",
          "2022-08-06",
          "2022-08-07",
          "2022-08-08",
          "2022-08-09",
          "2022-08-10",
          "2022-08-11",
          "2022-08-12",
          "2022-08-13",
          "2022-08-14"
         ],
         "y": [
          368.64695550351286,
          380.015443592552,
          376.20832420591455,
          398.17460839084237,
          433.0266608771168,
          426.9916087962963,
          367.32445685909374,
          349.9593990563695,
          347.27331389216357,
          347.36477561388654,
          381.1344675559575,
          426.18686659772493,
          408.46821923308573,
          362.80007881255744,
          344.9105659433779,
          334.89904656426063,
          339.0884927548549,
          394.5301454510885,
          435.62675935166385,
          433.3563897487469,
          393.68718089645495,
          340.5207570453235,
          328.46704183080095,
          327.36123146825304,
          342.9989648831089,
          374.1270920719299,
          374.6853014273225,
          338.75297122456396,
          326.1748540812887,
          325.2639517472993,
          325.19496850259986,
          341.3294840692221,
          375.4022463369667,
          377.4173702086366,
          341.5761290583431,
          329.65688938489654,
          328.73091106115254,
          331.27240311456455,
          356.4508728945815,
          408.1532820156217,
          407.36606984003754,
          385.33794821200405,
          358.9075554836884,
          344.189303273386,
          344.7380440232246,
          354.4372705364797,
          383.7300750420494,
          386.71293247801714,
          357.1198967829611,
          346.7479659015545,
          346.7695480906892,
          347.5129544994944,
          363.35848369903675,
          391.6789263850813,
          394.6413968233429,
          366.79737325213705,
          354.128911746155,
          353.6830609488845,
          354.7280894696835,
          368.4204890987902,
          397.7797651777339,
          397.4658423768013,
          366.5493879069166,
          354.53236630605284,
          354.32566808166564,
          355.17464463023754,
          367.91503468797,
          398.17370140371304,
          400.0533984507657,
          368.1369750006066,
          356.2626808225049,
          356.0490230963318,
          357.78927280519457,
          375.70271975155885,
          431.7005255923021,
          437.9111208158446,
          419.3532294851264,
          397.99264099370845,
          379.2438497743704,
          376.6216611811514,
          385.2740631115856,
          411.1838687241201,
          411.4983541058387,
          381.3185835698633,
          369.3607807307627,
          369.02854508992107,
          369.9059275432638,
          383.93483798448983,
          414.96508693894054,
          417.1558919373489,
          382.05036886288474,
          370.8300571564254,
          370.6261864572112,
          373.7963262726903,
          398.6333548267425,
          432.45650939058146,
          434.4892579269557,
          399.52713143351696,
          376.46984212531476,
          370.70772860243466,
          371.27435078940556,
          380.54939346685836,
          408.3139779408609,
          407.66507373487383,
          376.1377614375107,
          365.34087555979164,
          364.4738560252153,
          365.2998550614082,
          374.80786724646373,
          402.00981219279583,
          402.04245657618765,
          369.8264203635032,
          360.8434723528797,
          359.4613956037265,
          360.62744381509225,
          370.4102693063875,
          398.50753370341,
          398.1410925061762,
          365.79123096679507
         ]
        }
       ],
       "layout": {
        "template": {
         "data": {
          "bar": [
           {
            "error_x": {
             "color": "#2a3f5f"
            },
            "error_y": {
             "color": "#2a3f5f"
            },
            "marker": {
             "line": {
              "color": "#E5ECF6",
              "width": 0.5
             },
             "pattern": {
              "fillmode": "overlay",
              "size": 10,
              "solidity": 0.2
             }
            },
            "type": "bar"
           }
          ],
          "barpolar": [
           {
            "marker": {
             "line": {
              "color": "#E5ECF6",
              "width": 0.5
             },
             "pattern": {
              "fillmode": "overlay",
              "size": 10,
              "solidity": 0.2
             }
            },
            "type": "barpolar"
           }
          ],
          "carpet": [
           {
            "aaxis": {
             "endlinecolor": "#2a3f5f",
             "gridcolor": "white",
             "linecolor": "white",
             "minorgridcolor": "white",
             "startlinecolor": "#2a3f5f"
            },
            "baxis": {
             "endlinecolor": "#2a3f5f",
             "gridcolor": "white",
             "linecolor": "white",
             "minorgridcolor": "white",
             "startlinecolor": "#2a3f5f"
            },
            "type": "carpet"
           }
          ],
          "choropleth": [
           {
            "colorbar": {
             "outlinewidth": 0,
             "ticks": ""
            },
            "type": "choropleth"
           }
          ],
          "contour": [
           {
            "colorbar": {
             "outlinewidth": 0,
             "ticks": ""
            },
            "colorscale": [
             [
              0,
              "#0d0887"
             ],
             [
              0.1111111111111111,
              "#46039f"
             ],
             [
              0.2222222222222222,
              "#7201a8"
             ],
             [
              0.3333333333333333,
              "#9c179e"
             ],
             [
              0.4444444444444444,
              "#bd3786"
             ],
             [
              0.5555555555555556,
              "#d8576b"
             ],
             [
              0.6666666666666666,
              "#ed7953"
             ],
             [
              0.7777777777777778,
              "#fb9f3a"
             ],
             [
              0.8888888888888888,
              "#fdca26"
             ],
             [
              1,
              "#f0f921"
             ]
            ],
            "type": "contour"
           }
          ],
          "contourcarpet": [
           {
            "colorbar": {
             "outlinewidth": 0,
             "ticks": ""
            },
            "type": "contourcarpet"
           }
          ],
          "heatmap": [
           {
            "colorbar": {
             "outlinewidth": 0,
             "ticks": ""
            },
            "colorscale": [
             [
              0,
              "#0d0887"
             ],
             [
              0.1111111111111111,
              "#46039f"
             ],
             [
              0.2222222222222222,
              "#7201a8"
             ],
             [
              0.3333333333333333,
              "#9c179e"
             ],
             [
              0.4444444444444444,
              "#bd3786"
             ],
             [
              0.5555555555555556,
              "#d8576b"
             ],
             [
              0.6666666666666666,
              "#ed7953"
             ],
             [
              0.7777777777777778,
              "#fb9f3a"
             ],
             [
              0.8888888888888888,
              "#fdca26"
             ],
             [
              1,
              "#f0f921"
             ]
            ],
            "type": "heatmap"
           }
          ],
          "heatmapgl": [
           {
            "colorbar": {
             "outlinewidth": 0,
             "ticks": ""
            },
            "colorscale": [
             [
              0,
              "#0d0887"
             ],
             [
              0.1111111111111111,
              "#46039f"
             ],
             [
              0.2222222222222222,
              "#7201a8"
             ],
             [
              0.3333333333333333,
              "#9c179e"
             ],
             [
              0.4444444444444444,
              "#bd3786"
             ],
             [
              0.5555555555555556,
              "#d8576b"
             ],
             [
              0.6666666666666666,
              "#ed7953"
             ],
             [
              0.7777777777777778,
              "#fb9f3a"
             ],
             [
              0.8888888888888888,
              "#fdca26"
             ],
             [
              1,
              "#f0f921"
             ]
            ],
            "type": "heatmapgl"
           }
          ],
          "histogram": [
           {
            "marker": {
             "pattern": {
              "fillmode": "overlay",
              "size": 10,
              "solidity": 0.2
             }
            },
            "type": "histogram"
           }
          ],
          "histogram2d": [
           {
            "colorbar": {
             "outlinewidth": 0,
             "ticks": ""
            },
            "colorscale": [
             [
              0,
              "#0d0887"
             ],
             [
              0.1111111111111111,
              "#46039f"
             ],
             [
              0.2222222222222222,
              "#7201a8"
             ],
             [
              0.3333333333333333,
              "#9c179e"
             ],
             [
              0.4444444444444444,
              "#bd3786"
             ],
             [
              0.5555555555555556,
              "#d8576b"
             ],
             [
              0.6666666666666666,
              "#ed7953"
             ],
             [
              0.7777777777777778,
              "#fb9f3a"
             ],
             [
              0.8888888888888888,
              "#fdca26"
             ],
             [
              1,
              "#f0f921"
             ]
            ],
            "type": "histogram2d"
           }
          ],
          "histogram2dcontour": [
           {
            "colorbar": {
             "outlinewidth": 0,
             "ticks": ""
            },
            "colorscale": [
             [
              0,
              "#0d0887"
             ],
             [
              0.1111111111111111,
              "#46039f"
             ],
             [
              0.2222222222222222,
              "#7201a8"
             ],
             [
              0.3333333333333333,
              "#9c179e"
             ],
             [
              0.4444444444444444,
              "#bd3786"
             ],
             [
              0.5555555555555556,
              "#d8576b"
             ],
             [
              0.6666666666666666,
              "#ed7953"
             ],
             [
              0.7777777777777778,
              "#fb9f3a"
             ],
             [
              0.8888888888888888,
              "#fdca26"
             ],
             [
              1,
              "#f0f921"
             ]
            ],
            "type": "histogram2dcontour"
           }
          ],
          "mesh3d": [
           {
            "colorbar": {
             "outlinewidth": 0,
             "ticks": ""
            },
            "type": "mesh3d"
           }
          ],
          "parcoords": [
           {
            "line": {
             "colorbar": {
              "outlinewidth": 0,
              "ticks": ""
             }
            },
            "type": "parcoords"
           }
          ],
          "pie": [
           {
            "automargin": true,
            "type": "pie"
           }
          ],
          "scatter": [
           {
            "fillpattern": {
             "fillmode": "overlay",
             "size": 10,
             "solidity": 0.2
            },
            "type": "scatter"
           }
          ],
          "scatter3d": [
           {
            "line": {
             "colorbar": {
              "outlinewidth": 0,
              "ticks": ""
             }
            },
            "marker": {
             "colorbar": {
              "outlinewidth": 0,
              "ticks": ""
             }
            },
            "type": "scatter3d"
           }
          ],
          "scattercarpet": [
           {
            "marker": {
             "colorbar": {
              "outlinewidth": 0,
              "ticks": ""
             }
            },
            "type": "scattercarpet"
           }
          ],
          "scattergeo": [
           {
            "marker": {
             "colorbar": {
              "outlinewidth": 0,
              "ticks": ""
             }
            },
            "type": "scattergeo"
           }
          ],
          "scattergl": [
           {
            "marker": {
             "colorbar": {
              "outlinewidth": 0,
              "ticks": ""
             }
            },
            "type": "scattergl"
           }
          ],
          "scattermapbox": [
           {
            "marker": {
             "colorbar": {
              "outlinewidth": 0,
              "ticks": ""
             }
            },
            "type": "scattermapbox"
           }
          ],
          "scatterpolar": [
           {
            "marker": {
             "colorbar": {
              "outlinewidth": 0,
              "ticks": ""
             }
            },
            "type": "scatterpolar"
           }
          ],
          "scatterpolargl": [
           {
            "marker": {
             "colorbar": {
              "outlinewidth": 0,
              "ticks": ""
             }
            },
            "type": "scatterpolargl"
           }
          ],
          "scatterternary": [
           {
            "marker": {
             "colorbar": {
              "outlinewidth": 0,
              "ticks": ""
             }
            },
            "type": "scatterternary"
           }
          ],
          "surface": [
           {
            "colorbar": {
             "outlinewidth": 0,
             "ticks": ""
            },
            "colorscale": [
             [
              0,
              "#0d0887"
             ],
             [
              0.1111111111111111,
              "#46039f"
             ],
             [
              0.2222222222222222,
              "#7201a8"
             ],
             [
              0.3333333333333333,
              "#9c179e"
             ],
             [
              0.4444444444444444,
              "#bd3786"
             ],
             [
              0.5555555555555556,
              "#d8576b"
             ],
             [
              0.6666666666666666,
              "#ed7953"
             ],
             [
              0.7777777777777778,
              "#fb9f3a"
             ],
             [
              0.8888888888888888,
              "#fdca26"
             ],
             [
              1,
              "#f0f921"
             ]
            ],
            "type": "surface"
           }
          ],
          "table": [
           {
            "cells": {
             "fill": {
              "color": "#EBF0F8"
             },
             "line": {
              "color": "white"
             }
            },
            "header": {
             "fill": {
              "color": "#C8D4E3"
             },
             "line": {
              "color": "white"
             }
            },
            "type": "table"
           }
          ]
         },
         "layout": {
          "annotationdefaults": {
           "arrowcolor": "#2a3f5f",
           "arrowhead": 0,
           "arrowwidth": 1
          },
          "autotypenumbers": "strict",
          "coloraxis": {
           "colorbar": {
            "outlinewidth": 0,
            "ticks": ""
           }
          },
          "colorscale": {
           "diverging": [
            [
             0,
             "#8e0152"
            ],
            [
             0.1,
             "#c51b7d"
            ],
            [
             0.2,
             "#de77ae"
            ],
            [
             0.3,
             "#f1b6da"
            ],
            [
             0.4,
             "#fde0ef"
            ],
            [
             0.5,
             "#f7f7f7"
            ],
            [
             0.6,
             "#e6f5d0"
            ],
            [
             0.7,
             "#b8e186"
            ],
            [
             0.8,
             "#7fbc41"
            ],
            [
             0.9,
             "#4d9221"
            ],
            [
             1,
             "#276419"
            ]
           ],
           "sequential": [
            [
             0,
             "#0d0887"
            ],
            [
             0.1111111111111111,
             "#46039f"
            ],
            [
             0.2222222222222222,
             "#7201a8"
            ],
            [
             0.3333333333333333,
             "#9c179e"
            ],
            [
             0.4444444444444444,
             "#bd3786"
            ],
            [
             0.5555555555555556,
             "#d8576b"
            ],
            [
             0.6666666666666666,
             "#ed7953"
            ],
            [
             0.7777777777777778,
             "#fb9f3a"
            ],
            [
             0.8888888888888888,
             "#fdca26"
            ],
            [
             1,
             "#f0f921"
            ]
           ],
           "sequentialminus": [
            [
             0,
             "#0d0887"
            ],
            [
             0.1111111111111111,
             "#46039f"
            ],
            [
             0.2222222222222222,
             "#7201a8"
            ],
            [
             0.3333333333333333,
             "#9c179e"
            ],
            [
             0.4444444444444444,
             "#bd3786"
            ],
            [
             0.5555555555555556,
             "#d8576b"
            ],
            [
             0.6666666666666666,
             "#ed7953"
            ],
            [
             0.7777777777777778,
             "#fb9f3a"
            ],
            [
             0.8888888888888888,
             "#fdca26"
            ],
            [
             1,
             "#f0f921"
            ]
           ]
          },
          "colorway": [
           "#636efa",
           "#EF553B",
           "#00cc96",
           "#ab63fa",
           "#FFA15A",
           "#19d3f3",
           "#FF6692",
           "#B6E880",
           "#FF97FF",
           "#FECB52"
          ],
          "font": {
           "color": "#2a3f5f"
          },
          "geo": {
           "bgcolor": "white",
           "lakecolor": "white",
           "landcolor": "#E5ECF6",
           "showlakes": true,
           "showland": true,
           "subunitcolor": "white"
          },
          "hoverlabel": {
           "align": "left"
          },
          "hovermode": "closest",
          "mapbox": {
           "style": "light"
          },
          "paper_bgcolor": "white",
          "plot_bgcolor": "#E5ECF6",
          "polar": {
           "angularaxis": {
            "gridcolor": "white",
            "linecolor": "white",
            "ticks": ""
           },
           "bgcolor": "#E5ECF6",
           "radialaxis": {
            "gridcolor": "white",
            "linecolor": "white",
            "ticks": ""
           }
          },
          "scene": {
           "xaxis": {
            "backgroundcolor": "#E5ECF6",
            "gridcolor": "white",
            "gridwidth": 2,
            "linecolor": "white",
            "showbackground": true,
            "ticks": "",
            "zerolinecolor": "white"
           },
           "yaxis": {
            "backgroundcolor": "#E5ECF6",
            "gridcolor": "white",
            "gridwidth": 2,
            "linecolor": "white",
            "showbackground": true,
            "ticks": "",
            "zerolinecolor": "white"
           },
           "zaxis": {
            "backgroundcolor": "#E5ECF6",
            "gridcolor": "white",
            "gridwidth": 2,
            "linecolor": "white",
            "showbackground": true,
            "ticks": "",
            "zerolinecolor": "white"
           }
          },
          "shapedefaults": {
           "line": {
            "color": "#2a3f5f"
           }
          },
          "ternary": {
           "aaxis": {
            "gridcolor": "white",
            "linecolor": "white",
            "ticks": ""
           },
           "baxis": {
            "gridcolor": "white",
            "linecolor": "white",
            "ticks": ""
           },
           "bgcolor": "#E5ECF6",
           "caxis": {
            "gridcolor": "white",
            "linecolor": "white",
            "ticks": ""
           }
          },
          "title": {
           "x": 0.05
          },
          "xaxis": {
           "automargin": true,
           "gridcolor": "white",
           "linecolor": "white",
           "ticks": "",
           "title": {
            "standoff": 15
           },
           "zerolinecolor": "white",
           "zerolinewidth": 2
          },
          "yaxis": {
           "automargin": true,
           "gridcolor": "white",
           "linecolor": "white",
           "ticks": "",
           "title": {
            "standoff": 15
           },
           "zerolinecolor": "white",
           "zerolinewidth": 2
          }
         }
        },
        "title": {
         "text": "Pricing Data by Date"
        },
        "xaxis": {
         "title": {
          "text": "Date"
         }
        },
        "yaxis": {
         "title": {
          "text": "Price ($)"
         }
        }
       }
      }
     },
     "metadata": {},
     "output_type": "display_data"
    }
   ],
   "source": [
    "# Create traces\n",
    "price_data_line_fig = go.Figure()\n",
    "price_data_line_fig.add_trace(go.Scatter(x=price_data_date['check_in'], y=price_data_date['cleaning_fee'],\n",
    "                    mode='lines',\n",
    "                    name='Cleaning Fee'))\n",
    "price_data_line_fig.add_trace(go.Scatter(x=price_data_date['check_in'], y=price_data_date['service_fee'],\n",
    "                    mode='lines',\n",
    "                    name='Service Fee'))\n",
    "price_data_line_fig.add_trace(go.Scatter(x=price_data_date['check_in'], y=price_data_date['total_price'],\n",
    "                    mode='lines', \n",
    "                    name='Total Price'))\n",
    "price_data_line_fig.update_layout(title_text=\"Pricing Data by Date\", xaxis_title='Date', yaxis_title='Price ($)')\n",
    "filename = \"newsletter_features/price_data_line_fig.png\"\n",
    "price_data_line_fig.write_image(filename, engine='kaleido', width=2000, height=500)\n",
    "price_data_line_fig.show()"
   ]
  },
  {
   "cell_type": "code",
   "execution_count": 74,
   "metadata": {},
   "outputs": [
    {
     "data": {
      "application/vnd.plotly.v1+json": {
       "config": {
        "plotlyServerURL": "https://plot.ly"
       },
       "data": [
        {
         "name": "Cleaning Fee",
         "type": "bar",
         "x": [
          "2022-04-18",
          "2022-04-19",
          "2022-04-20",
          "2022-04-21",
          "2022-04-22",
          "2022-04-23",
          "2022-04-24",
          "2022-04-25",
          "2022-04-26",
          "2022-04-27",
          "2022-04-28",
          "2022-04-29",
          "2022-04-30",
          "2022-05-01",
          "2022-05-02",
          "2022-05-03",
          "2022-05-04",
          "2022-05-05",
          "2022-05-06",
          "2022-05-07",
          "2022-05-08",
          "2022-05-09",
          "2022-05-10",
          "2022-05-11",
          "2022-05-12",
          "2022-05-13",
          "2022-05-14",
          "2022-05-15",
          "2022-05-16",
          "2022-05-17",
          "2022-05-18",
          "2022-05-19",
          "2022-05-20",
          "2022-05-21",
          "2022-05-22",
          "2022-05-23",
          "2022-05-24",
          "2022-05-25",
          "2022-05-26",
          "2022-05-27",
          "2022-05-28",
          "2022-05-29",
          "2022-05-30",
          "2022-05-31",
          "2022-06-01",
          "2022-06-02",
          "2022-06-03",
          "2022-06-04",
          "2022-06-05",
          "2022-06-06",
          "2022-06-07",
          "2022-06-08",
          "2022-06-09",
          "2022-06-10",
          "2022-06-11",
          "2022-06-12",
          "2022-06-13",
          "2022-06-14",
          "2022-06-15",
          "2022-06-16",
          "2022-06-17",
          "2022-06-18",
          "2022-06-19",
          "2022-06-20",
          "2022-06-21",
          "2022-06-22",
          "2022-06-23",
          "2022-06-24",
          "2022-06-25",
          "2022-06-26",
          "2022-06-27",
          "2022-06-28",
          "2022-06-29",
          "2022-06-30",
          "2022-07-01",
          "2022-07-02",
          "2022-07-03",
          "2022-07-04",
          "2022-07-05",
          "2022-07-06",
          "2022-07-07",
          "2022-07-08",
          "2022-07-09",
          "2022-07-10",
          "2022-07-11",
          "2022-07-12",
          "2022-07-13",
          "2022-07-14",
          "2022-07-15",
          "2022-07-16",
          "2022-07-17",
          "2022-07-18",
          "2022-07-19",
          "2022-07-20",
          "2022-07-21",
          "2022-07-22",
          "2022-07-23",
          "2022-07-24",
          "2022-07-25",
          "2022-07-26",
          "2022-07-27",
          "2022-07-28",
          "2022-07-29",
          "2022-07-30",
          "2022-07-31",
          "2022-08-01",
          "2022-08-02",
          "2022-08-03",
          "2022-08-04",
          "2022-08-05",
          "2022-08-06",
          "2022-08-07",
          "2022-08-08",
          "2022-08-09",
          "2022-08-10",
          "2022-08-11",
          "2022-08-12",
          "2022-08-13",
          "2022-08-14"
         ],
         "y": [
          115.82025761124122,
          116.2538882803943,
          116.33384446878422,
          116.31186329280315,
          116.61728180633956,
          116.75339988425925,
          116.71055245189324,
          116.69661037993544,
          116.72563132096543,
          116.82269263336156,
          116.80646619941217,
          116.87487073422957,
          119.74230074282272,
          121.57227768291081,
          122.85016530992138,
          123.78976260413155,
          124.51799600560915,
          125.42500237665178,
          125.56636498158917,
          125.96605961565658,
          126.30490750517075,
          126.65156331737154,
          126.95750640905396,
          127.2059043960934,
          127.44092675997402,
          127.59675443332364,
          127.73866147997525,
          127.86474519710288,
          128.00189827381269,
          128.09926318193737,
          128.20449454557217,
          128.209461426492,
          128.2023805673254,
          128.2099789746078,
          128.21644766101969,
          128.19959726333155,
          128.20546992511603,
          128.2063116019955,
          128.2026862026862,
          128.21444280932127,
          128.1974380125188,
          128.20204920021348,
          128.1898209160367,
          128.19908785095097,
          128.19406931797965,
          128.2074107619402,
          128.2046189675249,
          128.18557017934137,
          128.21735437580386,
          128.20548033839634,
          128.2096965971318,
          128.21358139534883,
          128.20185534158827,
          128.20975763604164,
          128.20095105618995,
          128.19768542106414,
          128.2032733330099,
          128.2051899952289,
          128.20837444000583,
          128.20519020508507,
          128.2045476598635,
          128.20928013456034,
          128.20889596843313,
          128.20613205258817,
          128.2036385688296,
          128.20526545595678,
          128.20422239112506,
          128.20983731159842,
          128.21356954574122,
          128.20775943644202,
          128.2040171099126,
          128.21360063401696,
          128.20754121956546,
          128.20422802888777,
          128.2018678741813,
          128.21347987480894,
          128.2062001585222,
          128.193970466933,
          128.20053536480825,
          128.20041404184087,
          128.19663739143093,
          128.22738742236024,
          128.2299156428693,
          128.21401712719245,
          128.20277492541175,
          128.21449249579507,
          128.20134239042537,
          128.20728443082297,
          128.19192074403557,
          128.2129717229055,
          128.78694140591875,
          128.76894896626584,
          128.78298966011553,
          129.01067319927634,
          129.25403443067492,
          129.54485208594434,
          129.52073134449464,
          129.51194071563157,
          129.8939758588327,
          130.1185996036614,
          130.3088699086456,
          130.3275278964742,
          130.38371743701987,
          130.4073267258979,
          130.43613498575638,
          130.46545938817877,
          130.49976079248043,
          130.53615073613548,
          130.58581163259527,
          130.6371506125743,
          130.56476409619418,
          130.5120862518885,
          130.47956517194524,
          130.32140899957378,
          130.36543029417138,
          130.40853184582323,
          130.49002623070822,
          130.52813615152348,
          130.50504494588148
         ]
        },
        {
         "name": "Service Fee",
         "type": "bar",
         "x": [
          "2022-04-18",
          "2022-04-19",
          "2022-04-20",
          "2022-04-21",
          "2022-04-22",
          "2022-04-23",
          "2022-04-24",
          "2022-04-25",
          "2022-04-26",
          "2022-04-27",
          "2022-04-28",
          "2022-04-29",
          "2022-04-30",
          "2022-05-01",
          "2022-05-02",
          "2022-05-03",
          "2022-05-04",
          "2022-05-05",
          "2022-05-06",
          "2022-05-07",
          "2022-05-08",
          "2022-05-09",
          "2022-05-10",
          "2022-05-11",
          "2022-05-12",
          "2022-05-13",
          "2022-05-14",
          "2022-05-15",
          "2022-05-16",
          "2022-05-17",
          "2022-05-18",
          "2022-05-19",
          "2022-05-20",
          "2022-05-21",
          "2022-05-22",
          "2022-05-23",
          "2022-05-24",
          "2022-05-25",
          "2022-05-26",
          "2022-05-27",
          "2022-05-28",
          "2022-05-29",
          "2022-05-30",
          "2022-05-31",
          "2022-06-01",
          "2022-06-02",
          "2022-06-03",
          "2022-06-04",
          "2022-06-05",
          "2022-06-06",
          "2022-06-07",
          "2022-06-08",
          "2022-06-09",
          "2022-06-10",
          "2022-06-11",
          "2022-06-12",
          "2022-06-13",
          "2022-06-14",
          "2022-06-15",
          "2022-06-16",
          "2022-06-17",
          "2022-06-18",
          "2022-06-19",
          "2022-06-20",
          "2022-06-21",
          "2022-06-22",
          "2022-06-23",
          "2022-06-24",
          "2022-06-25",
          "2022-06-26",
          "2022-06-27",
          "2022-06-28",
          "2022-06-29",
          "2022-06-30",
          "2022-07-01",
          "2022-07-02",
          "2022-07-03",
          "2022-07-04",
          "2022-07-05",
          "2022-07-06",
          "2022-07-07",
          "2022-07-08",
          "2022-07-09",
          "2022-07-10",
          "2022-07-11",
          "2022-07-12",
          "2022-07-13",
          "2022-07-14",
          "2022-07-15",
          "2022-07-16",
          "2022-07-17",
          "2022-07-18",
          "2022-07-19",
          "2022-07-20",
          "2022-07-21",
          "2022-07-22",
          "2022-07-23",
          "2022-07-24",
          "2022-07-25",
          "2022-07-26",
          "2022-07-27",
          "2022-07-28",
          "2022-07-29",
          "2022-07-30",
          "2022-07-31",
          "2022-08-01",
          "2022-08-02",
          "2022-08-03",
          "2022-08-04",
          "2022-08-05",
          "2022-08-06",
          "2022-08-07",
          "2022-08-08",
          "2022-08-09",
          "2022-08-10",
          "2022-08-11",
          "2022-08-12",
          "2022-08-13",
          "2022-08-14"
         ],
         "y": [
          58.545081967213115,
          59.40142387732749,
          58.935049288061336,
          61.663380435973274,
          66.50369083803734,
          65.84252025462963,
          58.86530105524519,
          56.41705984603924,
          56.1368120617981,
          56.09901213660739,
          59.91917250734795,
          65.27362978283351,
          64.75615338285485,
          60.06603835544463,
          57.928791709499066,
          57.786897481581356,
          58.74871457102792,
          66.01026713565928,
          71.26855707354004,
          71.21930830753759,
          66.55008027307308,
          59.792630745912305,
          58.412367910961045,
          58.191922149097124,
          59.97980420874123,
          63.831471406619876,
          64.0638316682875,
          59.87761817317462,
          58.30683733390104,
          58.23452978149242,
          58.298639021195044,
          60.18685104318292,
          64.3745027007795,
          64.7008571890668,
          60.48573969999595,
          59.09111714946545,
          59.02752753562244,
          59.2549625233471,
          62.18633610686591,
          68.54464964341737,
          68.90602002361427,
          66.3692522926135,
          63.01801350204148,
          61.02640218657006,
          61.13139040287235,
          62.45982467774022,
          66.22152768792859,
          66.59453643857336,
          62.87396358282844,
          61.5079746364504,
          61.511708228518735,
          61.60074418604651,
          63.57541470200496,
          67.24741826180482,
          67.67816937857859,
          64.17654527662535,
          62.504309996280305,
          62.44166713838639,
          62.57529394640229,
          64.29320049168662,
          68.08559206908821,
          68.01352881240801,
          64.0985736694859,
          62.53273823962225,
          62.51242369112593,
          62.60424988275628,
          64.1876142115562,
          68.00663852771848,
          68.28429580995197,
          64.29268943652289,
          62.75969305657753,
          62.75194086821505,
          62.99206740682639,
          65.06450412855537,
          72.22945742702353,
          72.99805905330325,
          70.71043011274486,
          68.06703973863398,
          65.52498099535802,
          65.21094299646609,
          66.46863829718407,
          69.7384025621118,
          69.77943400651887,
          65.99915091822129,
          64.39235440131307,
          64.35502652348299,
          64.46002749474366,
          66.20130032912559,
          70.11448443186413,
          70.3962027670637,
          66.34050708047147,
          64.85029935041807,
          64.83939674111271,
          65.30174077889251,
          68.17470608499023,
          72.53097584506217,
          72.88627737357892,
          68.7445885884803,
          66.0571285205869,
          65.54621119184675,
          65.7591042858923,
          66.85914052532453,
          70.43686966224625,
          70.30762212160266,
          66.36071680747973,
          64.8945045762557,
          64.77003714752068,
          64.84526661072546,
          66.02757368254444,
          69.53963392267626,
          69.50540634099656,
          65.4172274870668,
          64.22475697710881,
          64.02115934969251,
          64.18717339667458,
          65.42869553289745,
          69.06716281339597,
          69.0327568853509,
          64.89451476793249
         ]
        }
       ],
       "layout": {
        "barmode": "stack",
        "template": {
         "data": {
          "bar": [
           {
            "error_x": {
             "color": "#2a3f5f"
            },
            "error_y": {
             "color": "#2a3f5f"
            },
            "marker": {
             "line": {
              "color": "#E5ECF6",
              "width": 0.5
             },
             "pattern": {
              "fillmode": "overlay",
              "size": 10,
              "solidity": 0.2
             }
            },
            "type": "bar"
           }
          ],
          "barpolar": [
           {
            "marker": {
             "line": {
              "color": "#E5ECF6",
              "width": 0.5
             },
             "pattern": {
              "fillmode": "overlay",
              "size": 10,
              "solidity": 0.2
             }
            },
            "type": "barpolar"
           }
          ],
          "carpet": [
           {
            "aaxis": {
             "endlinecolor": "#2a3f5f",
             "gridcolor": "white",
             "linecolor": "white",
             "minorgridcolor": "white",
             "startlinecolor": "#2a3f5f"
            },
            "baxis": {
             "endlinecolor": "#2a3f5f",
             "gridcolor": "white",
             "linecolor": "white",
             "minorgridcolor": "white",
             "startlinecolor": "#2a3f5f"
            },
            "type": "carpet"
           }
          ],
          "choropleth": [
           {
            "colorbar": {
             "outlinewidth": 0,
             "ticks": ""
            },
            "type": "choropleth"
           }
          ],
          "contour": [
           {
            "colorbar": {
             "outlinewidth": 0,
             "ticks": ""
            },
            "colorscale": [
             [
              0,
              "#0d0887"
             ],
             [
              0.1111111111111111,
              "#46039f"
             ],
             [
              0.2222222222222222,
              "#7201a8"
             ],
             [
              0.3333333333333333,
              "#9c179e"
             ],
             [
              0.4444444444444444,
              "#bd3786"
             ],
             [
              0.5555555555555556,
              "#d8576b"
             ],
             [
              0.6666666666666666,
              "#ed7953"
             ],
             [
              0.7777777777777778,
              "#fb9f3a"
             ],
             [
              0.8888888888888888,
              "#fdca26"
             ],
             [
              1,
              "#f0f921"
             ]
            ],
            "type": "contour"
           }
          ],
          "contourcarpet": [
           {
            "colorbar": {
             "outlinewidth": 0,
             "ticks": ""
            },
            "type": "contourcarpet"
           }
          ],
          "heatmap": [
           {
            "colorbar": {
             "outlinewidth": 0,
             "ticks": ""
            },
            "colorscale": [
             [
              0,
              "#0d0887"
             ],
             [
              0.1111111111111111,
              "#46039f"
             ],
             [
              0.2222222222222222,
              "#7201a8"
             ],
             [
              0.3333333333333333,
              "#9c179e"
             ],
             [
              0.4444444444444444,
              "#bd3786"
             ],
             [
              0.5555555555555556,
              "#d8576b"
             ],
             [
              0.6666666666666666,
              "#ed7953"
             ],
             [
              0.7777777777777778,
              "#fb9f3a"
             ],
             [
              0.8888888888888888,
              "#fdca26"
             ],
             [
              1,
              "#f0f921"
             ]
            ],
            "type": "heatmap"
           }
          ],
          "heatmapgl": [
           {
            "colorbar": {
             "outlinewidth": 0,
             "ticks": ""
            },
            "colorscale": [
             [
              0,
              "#0d0887"
             ],
             [
              0.1111111111111111,
              "#46039f"
             ],
             [
              0.2222222222222222,
              "#7201a8"
             ],
             [
              0.3333333333333333,
              "#9c179e"
             ],
             [
              0.4444444444444444,
              "#bd3786"
             ],
             [
              0.5555555555555556,
              "#d8576b"
             ],
             [
              0.6666666666666666,
              "#ed7953"
             ],
             [
              0.7777777777777778,
              "#fb9f3a"
             ],
             [
              0.8888888888888888,
              "#fdca26"
             ],
             [
              1,
              "#f0f921"
             ]
            ],
            "type": "heatmapgl"
           }
          ],
          "histogram": [
           {
            "marker": {
             "pattern": {
              "fillmode": "overlay",
              "size": 10,
              "solidity": 0.2
             }
            },
            "type": "histogram"
           }
          ],
          "histogram2d": [
           {
            "colorbar": {
             "outlinewidth": 0,
             "ticks": ""
            },
            "colorscale": [
             [
              0,
              "#0d0887"
             ],
             [
              0.1111111111111111,
              "#46039f"
             ],
             [
              0.2222222222222222,
              "#7201a8"
             ],
             [
              0.3333333333333333,
              "#9c179e"
             ],
             [
              0.4444444444444444,
              "#bd3786"
             ],
             [
              0.5555555555555556,
              "#d8576b"
             ],
             [
              0.6666666666666666,
              "#ed7953"
             ],
             [
              0.7777777777777778,
              "#fb9f3a"
             ],
             [
              0.8888888888888888,
              "#fdca26"
             ],
             [
              1,
              "#f0f921"
             ]
            ],
            "type": "histogram2d"
           }
          ],
          "histogram2dcontour": [
           {
            "colorbar": {
             "outlinewidth": 0,
             "ticks": ""
            },
            "colorscale": [
             [
              0,
              "#0d0887"
             ],
             [
              0.1111111111111111,
              "#46039f"
             ],
             [
              0.2222222222222222,
              "#7201a8"
             ],
             [
              0.3333333333333333,
              "#9c179e"
             ],
             [
              0.4444444444444444,
              "#bd3786"
             ],
             [
              0.5555555555555556,
              "#d8576b"
             ],
             [
              0.6666666666666666,
              "#ed7953"
             ],
             [
              0.7777777777777778,
              "#fb9f3a"
             ],
             [
              0.8888888888888888,
              "#fdca26"
             ],
             [
              1,
              "#f0f921"
             ]
            ],
            "type": "histogram2dcontour"
           }
          ],
          "mesh3d": [
           {
            "colorbar": {
             "outlinewidth": 0,
             "ticks": ""
            },
            "type": "mesh3d"
           }
          ],
          "parcoords": [
           {
            "line": {
             "colorbar": {
              "outlinewidth": 0,
              "ticks": ""
             }
            },
            "type": "parcoords"
           }
          ],
          "pie": [
           {
            "automargin": true,
            "type": "pie"
           }
          ],
          "scatter": [
           {
            "fillpattern": {
             "fillmode": "overlay",
             "size": 10,
             "solidity": 0.2
            },
            "type": "scatter"
           }
          ],
          "scatter3d": [
           {
            "line": {
             "colorbar": {
              "outlinewidth": 0,
              "ticks": ""
             }
            },
            "marker": {
             "colorbar": {
              "outlinewidth": 0,
              "ticks": ""
             }
            },
            "type": "scatter3d"
           }
          ],
          "scattercarpet": [
           {
            "marker": {
             "colorbar": {
              "outlinewidth": 0,
              "ticks": ""
             }
            },
            "type": "scattercarpet"
           }
          ],
          "scattergeo": [
           {
            "marker": {
             "colorbar": {
              "outlinewidth": 0,
              "ticks": ""
             }
            },
            "type": "scattergeo"
           }
          ],
          "scattergl": [
           {
            "marker": {
             "colorbar": {
              "outlinewidth": 0,
              "ticks": ""
             }
            },
            "type": "scattergl"
           }
          ],
          "scattermapbox": [
           {
            "marker": {
             "colorbar": {
              "outlinewidth": 0,
              "ticks": ""
             }
            },
            "type": "scattermapbox"
           }
          ],
          "scatterpolar": [
           {
            "marker": {
             "colorbar": {
              "outlinewidth": 0,
              "ticks": ""
             }
            },
            "type": "scatterpolar"
           }
          ],
          "scatterpolargl": [
           {
            "marker": {
             "colorbar": {
              "outlinewidth": 0,
              "ticks": ""
             }
            },
            "type": "scatterpolargl"
           }
          ],
          "scatterternary": [
           {
            "marker": {
             "colorbar": {
              "outlinewidth": 0,
              "ticks": ""
             }
            },
            "type": "scatterternary"
           }
          ],
          "surface": [
           {
            "colorbar": {
             "outlinewidth": 0,
             "ticks": ""
            },
            "colorscale": [
             [
              0,
              "#0d0887"
             ],
             [
              0.1111111111111111,
              "#46039f"
             ],
             [
              0.2222222222222222,
              "#7201a8"
             ],
             [
              0.3333333333333333,
              "#9c179e"
             ],
             [
              0.4444444444444444,
              "#bd3786"
             ],
             [
              0.5555555555555556,
              "#d8576b"
             ],
             [
              0.6666666666666666,
              "#ed7953"
             ],
             [
              0.7777777777777778,
              "#fb9f3a"
             ],
             [
              0.8888888888888888,
              "#fdca26"
             ],
             [
              1,
              "#f0f921"
             ]
            ],
            "type": "surface"
           }
          ],
          "table": [
           {
            "cells": {
             "fill": {
              "color": "#EBF0F8"
             },
             "line": {
              "color": "white"
             }
            },
            "header": {
             "fill": {
              "color": "#C8D4E3"
             },
             "line": {
              "color": "white"
             }
            },
            "type": "table"
           }
          ]
         },
         "layout": {
          "annotationdefaults": {
           "arrowcolor": "#2a3f5f",
           "arrowhead": 0,
           "arrowwidth": 1
          },
          "autotypenumbers": "strict",
          "coloraxis": {
           "colorbar": {
            "outlinewidth": 0,
            "ticks": ""
           }
          },
          "colorscale": {
           "diverging": [
            [
             0,
             "#8e0152"
            ],
            [
             0.1,
             "#c51b7d"
            ],
            [
             0.2,
             "#de77ae"
            ],
            [
             0.3,
             "#f1b6da"
            ],
            [
             0.4,
             "#fde0ef"
            ],
            [
             0.5,
             "#f7f7f7"
            ],
            [
             0.6,
             "#e6f5d0"
            ],
            [
             0.7,
             "#b8e186"
            ],
            [
             0.8,
             "#7fbc41"
            ],
            [
             0.9,
             "#4d9221"
            ],
            [
             1,
             "#276419"
            ]
           ],
           "sequential": [
            [
             0,
             "#0d0887"
            ],
            [
             0.1111111111111111,
             "#46039f"
            ],
            [
             0.2222222222222222,
             "#7201a8"
            ],
            [
             0.3333333333333333,
             "#9c179e"
            ],
            [
             0.4444444444444444,
             "#bd3786"
            ],
            [
             0.5555555555555556,
             "#d8576b"
            ],
            [
             0.6666666666666666,
             "#ed7953"
            ],
            [
             0.7777777777777778,
             "#fb9f3a"
            ],
            [
             0.8888888888888888,
             "#fdca26"
            ],
            [
             1,
             "#f0f921"
            ]
           ],
           "sequentialminus": [
            [
             0,
             "#0d0887"
            ],
            [
             0.1111111111111111,
             "#46039f"
            ],
            [
             0.2222222222222222,
             "#7201a8"
            ],
            [
             0.3333333333333333,
             "#9c179e"
            ],
            [
             0.4444444444444444,
             "#bd3786"
            ],
            [
             0.5555555555555556,
             "#d8576b"
            ],
            [
             0.6666666666666666,
             "#ed7953"
            ],
            [
             0.7777777777777778,
             "#fb9f3a"
            ],
            [
             0.8888888888888888,
             "#fdca26"
            ],
            [
             1,
             "#f0f921"
            ]
           ]
          },
          "colorway": [
           "#636efa",
           "#EF553B",
           "#00cc96",
           "#ab63fa",
           "#FFA15A",
           "#19d3f3",
           "#FF6692",
           "#B6E880",
           "#FF97FF",
           "#FECB52"
          ],
          "font": {
           "color": "#2a3f5f"
          },
          "geo": {
           "bgcolor": "white",
           "lakecolor": "white",
           "landcolor": "#E5ECF6",
           "showlakes": true,
           "showland": true,
           "subunitcolor": "white"
          },
          "hoverlabel": {
           "align": "left"
          },
          "hovermode": "closest",
          "mapbox": {
           "style": "light"
          },
          "paper_bgcolor": "white",
          "plot_bgcolor": "#E5ECF6",
          "polar": {
           "angularaxis": {
            "gridcolor": "white",
            "linecolor": "white",
            "ticks": ""
           },
           "bgcolor": "#E5ECF6",
           "radialaxis": {
            "gridcolor": "white",
            "linecolor": "white",
            "ticks": ""
           }
          },
          "scene": {
           "xaxis": {
            "backgroundcolor": "#E5ECF6",
            "gridcolor": "white",
            "gridwidth": 2,
            "linecolor": "white",
            "showbackground": true,
            "ticks": "",
            "zerolinecolor": "white"
           },
           "yaxis": {
            "backgroundcolor": "#E5ECF6",
            "gridcolor": "white",
            "gridwidth": 2,
            "linecolor": "white",
            "showbackground": true,
            "ticks": "",
            "zerolinecolor": "white"
           },
           "zaxis": {
            "backgroundcolor": "#E5ECF6",
            "gridcolor": "white",
            "gridwidth": 2,
            "linecolor": "white",
            "showbackground": true,
            "ticks": "",
            "zerolinecolor": "white"
           }
          },
          "shapedefaults": {
           "line": {
            "color": "#2a3f5f"
           }
          },
          "ternary": {
           "aaxis": {
            "gridcolor": "white",
            "linecolor": "white",
            "ticks": ""
           },
           "baxis": {
            "gridcolor": "white",
            "linecolor": "white",
            "ticks": ""
           },
           "bgcolor": "#E5ECF6",
           "caxis": {
            "gridcolor": "white",
            "linecolor": "white",
            "ticks": ""
           }
          },
          "title": {
           "x": 0.05
          },
          "xaxis": {
           "automargin": true,
           "gridcolor": "white",
           "linecolor": "white",
           "ticks": "",
           "title": {
            "standoff": 15
           },
           "zerolinecolor": "white",
           "zerolinewidth": 2
          },
          "yaxis": {
           "automargin": true,
           "gridcolor": "white",
           "linecolor": "white",
           "ticks": "",
           "title": {
            "standoff": 15
           },
           "zerolinecolor": "white",
           "zerolinewidth": 2
          }
         }
        },
        "title": {
         "text": "Pricing Data by Date"
        },
        "xaxis": {
         "title": {
          "text": "Date"
         }
        },
        "yaxis": {
         "title": {
          "text": "Price ($)"
         }
        }
       }
      }
     },
     "metadata": {},
     "output_type": "display_data"
    }
   ],
   "source": [
    "price_data_bar_fig = go.Figure(data=[\n",
    "    go.Bar(name='Cleaning Fee', x=price_data_date['check_in'], y=price_data_date['cleaning_fee']),\n",
    "    go.Bar(name='Service Fee', x=price_data_date['check_in'], y=price_data_date['service_fee']),\n",
    "    #go.Bar(name='Total Price', x=price_data_date['check_in'], y=price_data_date['total_price']),\n",
    "],\n",
    "    layout={\n",
    "        'xaxis': {'title': 'Date'},\n",
    "        'yaxis': {'title': 'Price ($)'},\n",
    "    }\n",
    ")\n",
    "\n",
    "# Change the bar mode\n",
    "price_data_bar_fig.update_layout(title_text='Pricing Data by Date', barmode='stack')\n",
    "filename = \"newsletter_features/price_data_bar_fig.png\"\n",
    "price_data_bar_fig.write_image(filename, engine='kaleido')\n",
    "price_data_bar_fig.show()"
   ]
  },
  {
   "cell_type": "code",
   "execution_count": 107,
   "metadata": {},
   "outputs": [
    {
     "name": "stdout",
     "output_type": "stream",
     "text": [
      "Time to run was -1388.3272874355316\n"
     ]
    }
   ],
   "source": [
    "start_time = time.time()\n",
    "listing_data['state'] = listing_data.apply(lambda row: set_state(row['lat'], row['lng']), axis=1)\n",
    "end_time = time.time()\n",
    "print('Time to run was ' + str(start_time-end_time))"
   ]
  },
  {
   "cell_type": "code",
   "execution_count": 109,
   "metadata": {},
   "outputs": [],
   "source": [
    "listing_data.to_csv('listings_w_states.csv')"
   ]
  },
  {
   "cell_type": "code",
   "execution_count": 25,
   "metadata": {},
   "outputs": [],
   "source": [
    "listing_data_static = pd.read_csv('listings_w_states.csv')\n",
    "city_data = pd.read_csv('resource_data/uscities.csv')\n",
    "state_convert = city_data[['state_name','state_id']]\n",
    "state_convert = state_convert.drop_duplicates()\n",
    "listing_data_static = listing_data_static.merge(state_convert, left_on='state', right_on='state_name')\n",
    "#home_value = pd.read_csv('resource_data/home_value_zillow.csv')\n",
    "home_value_1bed = pd.read_csv('resource_data/zillow_city_onebed.csv')\n",
    "home_value_2bed = pd.read_csv('resource_data/zillow_city_twobed.csv')\n",
    "home_value_3bed = pd.read_csv('resource_data/zillow_city_threebed.csv')\n",
    "home_value_4bed = pd.read_csv('resource_data/zillow_city_fourbed.csv')\n",
    "home_value_5plusbed = pd.read_csv('resource_data/zillow_city_fiveplusbed.csv')\n",
    "\n",
    "home_value_1bed['RegionName'] = home_value_1bed['RegionName'].str.lower()\n",
    "home_value_1bed_reduced = home_value_1bed[['RegionName','CountyName', 'Metro', 'StateName','State', '2022-04-30']]\n",
    "home_value_1bed_reduced['num_beds'] = 1\n",
    "\n",
    "home_value_2bed['RegionName'] = home_value_2bed['RegionName'].str.lower()\n",
    "home_value_2bed_reduced = home_value_2bed[['RegionName','CountyName', 'Metro', 'StateName','State', '2022-04-30']]\n",
    "home_value_2bed_reduced['num_beds'] = 2\n",
    "\n",
    "home_value_3bed['RegionName'] = home_value_3bed['RegionName'].str.lower()\n",
    "home_value_3bed_reduced = home_value_3bed[['RegionName','CountyName', 'Metro', 'StateName','State', '2022-04-30']]\n",
    "home_value_3bed_reduced['num_beds'] = 3\n",
    "\n",
    "home_value_4bed['RegionName'] = home_value_4bed['RegionName'].str.lower()\n",
    "home_value_4bed_reduced = home_value_4bed[['RegionName','CountyName', 'Metro', 'StateName','State', '2022-04-30']]\n",
    "home_value_4bed_reduced['num_beds'] = 4\n",
    "\n",
    "home_value_5plusbed['RegionName'] = home_value_5plusbed['RegionName'].str.lower()\n",
    "home_value_5plusbed_reduced = home_value_5plusbed[['RegionName','CountyName', 'Metro', 'StateName','State', '2022-04-30']]\n",
    "home_value_5plusbed_reduced['num_beds'] = 5\n",
    "\n",
    "home_values = home_value_1bed_reduced.append(home_value_2bed_reduced)\n",
    "home_values = home_values.append(home_value_3bed_reduced)\n",
    "home_values = home_values.append(home_value_4bed_reduced)\n",
    "home_values = home_values.append(home_value_5plusbed_reduced)\n",
    "\n",
    "home_values_lookup = home_values[['RegionName','State', 'num_beds', '2022-04-30']]\n",
    "home_values_lookup = home_values_lookup.drop_duplicates()\n",
    "#listing_data_static = listing_data_static.merge(home_values, how='inner', left_on = ['state_id','beds_no'], right_on=['State','num_beds'])  # <-- Join to give avg house value for bedroom size\n",
    "#home_values = [['RegionName', 'CountyName', 'Metro', 'State', 'state_name', '2022-04-30', 'num_beds']] "
   ]
  },
  {
   "cell_type": "code",
   "execution_count": 26,
   "metadata": {},
   "outputs": [],
   "source": [
    "listing_data_static['avg_home_value'] = listing_data_static.apply(lambda row: set_avg_home_val(home_values, row['town'], row['state_id'], row['beds_no']),axis=1)\n",
    "#lambda row: set_avg_home_val(home_values, listing_data_static['town'], listing_data_static['state_id'], listing_data_static['beds_no'], axis=1)"
   ]
  },
  {
   "cell_type": "code",
   "execution_count": 228,
   "metadata": {},
   "outputs": [
    {
     "name": "stdout",
     "output_type": "stream",
     "text": [
      "2122    87152.0\n",
      "Name: 2022-04-30, dtype: float64\n"
     ]
    }
   ],
   "source": [
    "value = set_avg_home_val(home_values, 'clinton', 'NC', 2)\n"
   ]
  },
  {
   "cell_type": "code",
   "execution_count": 31,
   "metadata": {},
   "outputs": [
    {
     "ename": "KeyError",
     "evalue": "'id'",
     "output_type": "error",
     "traceback": [
      "\u001b[1;31m---------------------------------------------------------------------------\u001b[0m",
      "\u001b[1;31mKeyError\u001b[0m                                  Traceback (most recent call last)",
      "File \u001b[1;32mc:\\Users\\mattg\\AppData\\Local\\Programs\\Python\\Python310\\lib\\site-packages\\pandas\\core\\indexes\\base.py:3621\u001b[0m, in \u001b[0;36mIndex.get_loc\u001b[1;34m(self, key, method, tolerance)\u001b[0m\n\u001b[0;32m   <a href='file:///c%3A/Users/mattg/AppData/Local/Programs/Python/Python310/lib/site-packages/pandas/core/indexes/base.py?line=3619'>3620</a>\u001b[0m \u001b[39mtry\u001b[39;00m:\n\u001b[1;32m-> <a href='file:///c%3A/Users/mattg/AppData/Local/Programs/Python/Python310/lib/site-packages/pandas/core/indexes/base.py?line=3620'>3621</a>\u001b[0m     \u001b[39mreturn\u001b[39;00m \u001b[39mself\u001b[39;49m\u001b[39m.\u001b[39;49m_engine\u001b[39m.\u001b[39;49mget_loc(casted_key)\n\u001b[0;32m   <a href='file:///c%3A/Users/mattg/AppData/Local/Programs/Python/Python310/lib/site-packages/pandas/core/indexes/base.py?line=3621'>3622</a>\u001b[0m \u001b[39mexcept\u001b[39;00m \u001b[39mKeyError\u001b[39;00m \u001b[39mas\u001b[39;00m err:\n",
      "File \u001b[1;32mc:\\Users\\mattg\\AppData\\Local\\Programs\\Python\\Python310\\lib\\site-packages\\pandas\\_libs\\index.pyx:136\u001b[0m, in \u001b[0;36mpandas._libs.index.IndexEngine.get_loc\u001b[1;34m()\u001b[0m\n",
      "File \u001b[1;32mc:\\Users\\mattg\\AppData\\Local\\Programs\\Python\\Python310\\lib\\site-packages\\pandas\\_libs\\index.pyx:144\u001b[0m, in \u001b[0;36mpandas._libs.index.IndexEngine.get_loc\u001b[1;34m()\u001b[0m\n",
      "File \u001b[1;32mpandas\\_libs\\index_class_helper.pxi:20\u001b[0m, in \u001b[0;36mpandas._libs.index.Float64Engine._check_type\u001b[1;34m()\u001b[0m\n",
      "\u001b[1;31mKeyError\u001b[0m: 'id'",
      "\nThe above exception was the direct cause of the following exception:\n",
      "\u001b[1;31mKeyError\u001b[0m                                  Traceback (most recent call last)",
      "\u001b[1;32mc:\\Users\\mattg\\Desktop\\Hobbies\\airbnb_reports\\table_generation.ipynb Cell 14'\u001b[0m in \u001b[0;36m<cell line: 5>\u001b[1;34m()\u001b[0m\n\u001b[0;32m      <a href='vscode-notebook-cell:/c%3A/Users/mattg/Desktop/Hobbies/airbnb_reports/table_generation.ipynb#ch0000012?line=1'>2</a>\u001b[0m listing_data[\u001b[39m'\u001b[39m\u001b[39mid\u001b[39m\u001b[39m'\u001b[39m] \u001b[39m=\u001b[39m listing_data[\u001b[39m'\u001b[39m\u001b[39mid\u001b[39m\u001b[39m'\u001b[39m]\u001b[39m.\u001b[39mastype(\u001b[39m'\u001b[39m\u001b[39mstr\u001b[39m\u001b[39m'\u001b[39m)\n\u001b[0;32m      <a href='vscode-notebook-cell:/c%3A/Users/mattg/Desktop/Hobbies/airbnb_reports/table_generation.ipynb#ch0000012?line=3'>4</a>\u001b[0m occ_rate \u001b[39m=\u001b[39m occ_data\u001b[39m.\u001b[39mgroupby(\u001b[39m'\u001b[39m\u001b[39mid\u001b[39m\u001b[39m'\u001b[39m)[\u001b[39m'\u001b[39m\u001b[39mavailable\u001b[39m\u001b[39m'\u001b[39m]\u001b[39m.\u001b[39mapply(\u001b[39mlambda\u001b[39;00m row: np\u001b[39m.\u001b[39msum(row)\u001b[39m/\u001b[39m\u001b[39mlen\u001b[39m(row))\n\u001b[1;32m----> <a href='vscode-notebook-cell:/c%3A/Users/mattg/Desktop/Hobbies/airbnb_reports/table_generation.ipynb#ch0000012?line=4'>5</a>\u001b[0m occ_rate[\u001b[39m'\u001b[39m\u001b[39mid\u001b[39m\u001b[39m'\u001b[39m] \u001b[39m=\u001b[39m occ_rate[\u001b[39m'\u001b[39;49m\u001b[39mid\u001b[39;49m\u001b[39m'\u001b[39;49m]\u001b[39m.\u001b[39mastype(\u001b[39m'\u001b[39m\u001b[39mstr\u001b[39m\u001b[39m'\u001b[39m)\n\u001b[0;32m      <a href='vscode-notebook-cell:/c%3A/Users/mattg/Desktop/Hobbies/airbnb_reports/table_generation.ipynb#ch0000012?line=5'>6</a>\u001b[0m combined_data \u001b[39m=\u001b[39m listing_data\u001b[39m.\u001b[39mmerge(occ_rate, on \u001b[39m=\u001b[39m \u001b[39m'\u001b[39m\u001b[39mid\u001b[39m\u001b[39m'\u001b[39m)\n\u001b[0;32m      <a href='vscode-notebook-cell:/c%3A/Users/mattg/Desktop/Hobbies/airbnb_reports/table_generation.ipynb#ch0000012?line=6'>7</a>\u001b[0m combined_data\u001b[39m.\u001b[39mrename(columns \u001b[39m=\u001b[39m {\u001b[39m'\u001b[39m\u001b[39mavailable\u001b[39m\u001b[39m'\u001b[39m:\u001b[39m'\u001b[39m\u001b[39moccupancy_rate\u001b[39m\u001b[39m'\u001b[39m}, inplace \u001b[39m=\u001b[39m \u001b[39mTrue\u001b[39;00m)\n",
      "File \u001b[1;32mc:\\Users\\mattg\\AppData\\Local\\Programs\\Python\\Python310\\lib\\site-packages\\pandas\\core\\series.py:958\u001b[0m, in \u001b[0;36mSeries.__getitem__\u001b[1;34m(self, key)\u001b[0m\n\u001b[0;32m    <a href='file:///c%3A/Users/mattg/AppData/Local/Programs/Python/Python310/lib/site-packages/pandas/core/series.py?line=954'>955</a>\u001b[0m     \u001b[39mreturn\u001b[39;00m \u001b[39mself\u001b[39m\u001b[39m.\u001b[39m_values[key]\n\u001b[0;32m    <a href='file:///c%3A/Users/mattg/AppData/Local/Programs/Python/Python310/lib/site-packages/pandas/core/series.py?line=956'>957</a>\u001b[0m \u001b[39melif\u001b[39;00m key_is_scalar:\n\u001b[1;32m--> <a href='file:///c%3A/Users/mattg/AppData/Local/Programs/Python/Python310/lib/site-packages/pandas/core/series.py?line=957'>958</a>\u001b[0m     \u001b[39mreturn\u001b[39;00m \u001b[39mself\u001b[39;49m\u001b[39m.\u001b[39;49m_get_value(key)\n\u001b[0;32m    <a href='file:///c%3A/Users/mattg/AppData/Local/Programs/Python/Python310/lib/site-packages/pandas/core/series.py?line=959'>960</a>\u001b[0m \u001b[39mif\u001b[39;00m is_hashable(key):\n\u001b[0;32m    <a href='file:///c%3A/Users/mattg/AppData/Local/Programs/Python/Python310/lib/site-packages/pandas/core/series.py?line=960'>961</a>\u001b[0m     \u001b[39m# Otherwise index.get_value will raise InvalidIndexError\u001b[39;00m\n\u001b[0;32m    <a href='file:///c%3A/Users/mattg/AppData/Local/Programs/Python/Python310/lib/site-packages/pandas/core/series.py?line=961'>962</a>\u001b[0m     \u001b[39mtry\u001b[39;00m:\n\u001b[0;32m    <a href='file:///c%3A/Users/mattg/AppData/Local/Programs/Python/Python310/lib/site-packages/pandas/core/series.py?line=962'>963</a>\u001b[0m         \u001b[39m# For labels that don't resolve as scalars like tuples and frozensets\u001b[39;00m\n",
      "File \u001b[1;32mc:\\Users\\mattg\\AppData\\Local\\Programs\\Python\\Python310\\lib\\site-packages\\pandas\\core\\series.py:1069\u001b[0m, in \u001b[0;36mSeries._get_value\u001b[1;34m(self, label, takeable)\u001b[0m\n\u001b[0;32m   <a href='file:///c%3A/Users/mattg/AppData/Local/Programs/Python/Python310/lib/site-packages/pandas/core/series.py?line=1065'>1066</a>\u001b[0m     \u001b[39mreturn\u001b[39;00m \u001b[39mself\u001b[39m\u001b[39m.\u001b[39m_values[label]\n\u001b[0;32m   <a href='file:///c%3A/Users/mattg/AppData/Local/Programs/Python/Python310/lib/site-packages/pandas/core/series.py?line=1067'>1068</a>\u001b[0m \u001b[39m# Similar to Index.get_value, but we do not fall back to positional\u001b[39;00m\n\u001b[1;32m-> <a href='file:///c%3A/Users/mattg/AppData/Local/Programs/Python/Python310/lib/site-packages/pandas/core/series.py?line=1068'>1069</a>\u001b[0m loc \u001b[39m=\u001b[39m \u001b[39mself\u001b[39;49m\u001b[39m.\u001b[39;49mindex\u001b[39m.\u001b[39;49mget_loc(label)\n\u001b[0;32m   <a href='file:///c%3A/Users/mattg/AppData/Local/Programs/Python/Python310/lib/site-packages/pandas/core/series.py?line=1069'>1070</a>\u001b[0m \u001b[39mreturn\u001b[39;00m \u001b[39mself\u001b[39m\u001b[39m.\u001b[39mindex\u001b[39m.\u001b[39m_get_values_for_loc(\u001b[39mself\u001b[39m, loc, label)\n",
      "File \u001b[1;32mc:\\Users\\mattg\\AppData\\Local\\Programs\\Python\\Python310\\lib\\site-packages\\pandas\\core\\indexes\\base.py:3623\u001b[0m, in \u001b[0;36mIndex.get_loc\u001b[1;34m(self, key, method, tolerance)\u001b[0m\n\u001b[0;32m   <a href='file:///c%3A/Users/mattg/AppData/Local/Programs/Python/Python310/lib/site-packages/pandas/core/indexes/base.py?line=3620'>3621</a>\u001b[0m     \u001b[39mreturn\u001b[39;00m \u001b[39mself\u001b[39m\u001b[39m.\u001b[39m_engine\u001b[39m.\u001b[39mget_loc(casted_key)\n\u001b[0;32m   <a href='file:///c%3A/Users/mattg/AppData/Local/Programs/Python/Python310/lib/site-packages/pandas/core/indexes/base.py?line=3621'>3622</a>\u001b[0m \u001b[39mexcept\u001b[39;00m \u001b[39mKeyError\u001b[39;00m \u001b[39mas\u001b[39;00m err:\n\u001b[1;32m-> <a href='file:///c%3A/Users/mattg/AppData/Local/Programs/Python/Python310/lib/site-packages/pandas/core/indexes/base.py?line=3622'>3623</a>\u001b[0m     \u001b[39mraise\u001b[39;00m \u001b[39mKeyError\u001b[39;00m(key) \u001b[39mfrom\u001b[39;00m \u001b[39merr\u001b[39;00m\n\u001b[0;32m   <a href='file:///c%3A/Users/mattg/AppData/Local/Programs/Python/Python310/lib/site-packages/pandas/core/indexes/base.py?line=3623'>3624</a>\u001b[0m \u001b[39mexcept\u001b[39;00m \u001b[39mTypeError\u001b[39;00m:\n\u001b[0;32m   <a href='file:///c%3A/Users/mattg/AppData/Local/Programs/Python/Python310/lib/site-packages/pandas/core/indexes/base.py?line=3624'>3625</a>\u001b[0m     \u001b[39m# If we have a listlike key, _check_indexing_error will raise\u001b[39;00m\n\u001b[0;32m   <a href='file:///c%3A/Users/mattg/AppData/Local/Programs/Python/Python310/lib/site-packages/pandas/core/indexes/base.py?line=3625'>3626</a>\u001b[0m     \u001b[39m#  InvalidIndexError. Otherwise we fall through and re-raise\u001b[39;00m\n\u001b[0;32m   <a href='file:///c%3A/Users/mattg/AppData/Local/Programs/Python/Python310/lib/site-packages/pandas/core/indexes/base.py?line=3626'>3627</a>\u001b[0m     \u001b[39m#  the TypeError.\u001b[39;00m\n\u001b[0;32m   <a href='file:///c%3A/Users/mattg/AppData/Local/Programs/Python/Python310/lib/site-packages/pandas/core/indexes/base.py?line=3627'>3628</a>\u001b[0m     \u001b[39mself\u001b[39m\u001b[39m.\u001b[39m_check_indexing_error(key)\n",
      "\u001b[1;31mKeyError\u001b[0m: 'id'"
     ]
    }
   ],
   "source": [
    "listing_data = listing_data_static\n",
    "listing_data['id'] = listing_data['id'].astype('str')\n",
    "\n",
    "occ_rate = occ_data.groupby('id')['available'].apply(lambda row: np.sum(row)/len(row))\n",
    "occ_rate['id'] = occ_rate['id'].astype('str')\n",
    "combined_data = listing_data.merge(occ_rate, on = 'id')\n",
    "combined_data.rename(columns = {'available':'occupancy_rate'}, inplace = True)\n",
    "\n",
    "cleaning_fee = price_data.groupby(['id'])['cleaning_fee'].median().reset_index()\n",
    "cleaning_fee.rename(columns = {'cleaning_fee':'median_cleaning_fee'}, inplace = True)\n",
    "service_fee = price_data.groupby(['id'])['service_fee'].median().reset_index()\n",
    "service_fee.rename(columns = {'service_fee':'median_service_fee'}, inplace = True)\n",
    "combined_data = combined_data.merge(cleaning_fee, on='id')\n",
    "combined_data = combined_data.merge(service_fee, on='id')\n",
    "combined_data['median_total_price'] = combined_data['price'] + combined_data['median_cleaning_fee'] + combined_data['median_service_fee']\n",
    "\n",
    "#home_value['RegionName'] = home_value['RegionName'].str.lower()\n",
    "#home_value_reduced = home_value[['RegionName','CountyName', 'Metro', 'State', '2022-04-30']]\n",
    "#combined_data = combined_data.merge(home_value, left_on='town', right_on='RegionName')\n"
   ]
  },
  {
   "cell_type": "code",
   "execution_count": 33,
   "metadata": {},
   "outputs": [],
   "source": [
    "combined_data = pd.read_csv('post_home_cals_and_merges.csv')\n",
    "\n",
    "# Adding avg mortgage and median ROI\n",
    "combined_data['avg_30_yr_mort'] = combined_data.apply(lambda row: calculate_mortgage(row['avg_home_value'], 5, 30), axis=1)\n",
    "combined_data['monthly_maintenance'] = combined_data.apply(lambda row: calculate_monthly_maintenance(row['avg_home_value']), axis=1)\n",
    "combined_data['monthly_tax'] = combined_data.apply(lambda row: calculate_monthly_taxes(row['avg_home_value'], row['state_id']), axis=1)\n",
    "combined_data['median_ROI'] = combined_data.apply(lambda row: calculate_roi(row['median_total_price'], row['occupancy_rate'], row['avg_30_yr_mort'], row['monthly_maintenance'], row['monthly_tax']), axis=1)"
   ]
  },
  {
   "cell_type": "code",
   "execution_count": 34,
   "metadata": {},
   "outputs": [
    {
     "data": {
      "text/plain": [
       "(275, 44)"
      ]
     },
     "execution_count": 34,
     "metadata": {},
     "output_type": "execute_result"
    }
   ],
   "source": [
    "combined_data.shape"
   ]
  },
  {
   "cell_type": "code",
   "execution_count": null,
   "metadata": {},
   "outputs": [],
   "source": [
    "# Table for region and property type\n",
    "region_proptype_roi = combined_data.groupby(['Region','property_type'])['median_ROI'].median().reset_index()"
   ]
  },
  {
   "cell_type": "code",
   "execution_count": 42,
   "metadata": {},
   "outputs": [
    {
     "data": {
      "text/plain": [
       "2420"
      ]
     },
     "execution_count": 42,
     "metadata": {},
     "output_type": "execute_result"
    }
   ],
   "source": [
    "len(listing_data.id.unique())"
   ]
  },
  {
   "cell_type": "code",
   "execution_count": 5,
   "metadata": {},
   "outputs": [],
   "source": [
    "combined_data = pd.read_csv('post_mort_and_roi_calcs.csv')"
   ]
  },
  {
   "cell_type": "code",
   "execution_count": 6,
   "metadata": {},
   "outputs": [
    {
     "data": {
      "application/vnd.plotly.v1+json": {
       "config": {
        "plotlyServerURL": "https://plot.ly"
       },
       "data": [
        {
         "name": "VT",
         "type": "bar",
         "x": [
          "fairfield",
          "irasburg",
          "killington",
          "newport",
          "saint albans city",
          "starksboro",
          "stowe",
          "waitsfield"
         ],
         "xaxis": "x",
         "y": [
          1.8465987171013811,
          null,
          1.5721539193507967,
          null,
          null,
          2.5473317236418302,
          5.713403265278194,
          0.24654040714847725
         ],
         "yaxis": "y"
        },
        {
         "name": "NH",
         "type": "bar",
         "x": [
          "alton",
          "bethlehem",
          "freedom",
          "lincoln"
         ],
         "xaxis": "x2",
         "y": [
          -0.4973832171239866,
          1.4512515094342655,
          null,
          0.38360029598866785
         ],
         "yaxis": "y2"
        },
        {
         "name": "NC",
         "type": "bar",
         "x": [
          "atlantic beach",
          "bald head island",
          "carolina beach",
          "holden beach",
          "wrightsville beach"
         ],
         "xaxis": "x3",
         "y": [
          1.3427844252001624,
          0.3272025368153617,
          1.8326632998894739,
          null,
          0.015178383542973784
         ],
         "yaxis": "y3"
        },
        {
         "name": "SC",
         "type": "bar",
         "x": [
          "conway",
          "murrells inlet",
          "myrtle beach",
          "north myrtle beach",
          "pawleys island"
         ],
         "xaxis": "x4",
         "y": [
          2.3273974797260397,
          2.6058880551615933,
          3.3290335903048343,
          1.9945574334787182,
          -0.030616888614572634
         ],
         "yaxis": "y4"
        },
        {
         "name": "FL",
         "type": "bar",
         "x": [
          "miami",
          "miami beach",
          "north bay village"
         ],
         "xaxis": "x5",
         "y": [
          1.9672726696522547,
          0.6821621132339374,
          4.404397562460434
         ],
         "yaxis": "y5"
        },
        {
         "name": "ME",
         "type": "bar",
         "x": [
          "andover",
          "casco",
          "denmark",
          "frye island",
          "gray",
          "greenwood",
          "hiram",
          "kennebunk",
          "naples",
          "old orchard beach",
          "poland",
          "raymond",
          "roxbury",
          "saco",
          "sebago",
          "standish",
          "windham"
         ],
         "xaxis": "x6",
         "y": [
          null,
          0.1360012595541158,
          null,
          null,
          2.752182544904737,
          null,
          null,
          -0.4912945945021206,
          3.765912138048132,
          1.0604127039805067,
          3.7382823680837767,
          0.4117126259170557,
          null,
          0.749736304904274,
          null,
          3.673776577268854,
          2.632383152379228
         ],
         "yaxis": "y6"
        }
       ],
       "layout": {
        "barmode": "group",
        "height": 1100,
        "template": {
         "data": {
          "bar": [
           {
            "error_x": {
             "color": "#2a3f5f"
            },
            "error_y": {
             "color": "#2a3f5f"
            },
            "marker": {
             "line": {
              "color": "#E5ECF6",
              "width": 0.5
             },
             "pattern": {
              "fillmode": "overlay",
              "size": 10,
              "solidity": 0.2
             }
            },
            "type": "bar"
           }
          ],
          "barpolar": [
           {
            "marker": {
             "line": {
              "color": "#E5ECF6",
              "width": 0.5
             },
             "pattern": {
              "fillmode": "overlay",
              "size": 10,
              "solidity": 0.2
             }
            },
            "type": "barpolar"
           }
          ],
          "carpet": [
           {
            "aaxis": {
             "endlinecolor": "#2a3f5f",
             "gridcolor": "white",
             "linecolor": "white",
             "minorgridcolor": "white",
             "startlinecolor": "#2a3f5f"
            },
            "baxis": {
             "endlinecolor": "#2a3f5f",
             "gridcolor": "white",
             "linecolor": "white",
             "minorgridcolor": "white",
             "startlinecolor": "#2a3f5f"
            },
            "type": "carpet"
           }
          ],
          "choropleth": [
           {
            "colorbar": {
             "outlinewidth": 0,
             "ticks": ""
            },
            "type": "choropleth"
           }
          ],
          "contour": [
           {
            "colorbar": {
             "outlinewidth": 0,
             "ticks": ""
            },
            "colorscale": [
             [
              0,
              "#0d0887"
             ],
             [
              0.1111111111111111,
              "#46039f"
             ],
             [
              0.2222222222222222,
              "#7201a8"
             ],
             [
              0.3333333333333333,
              "#9c179e"
             ],
             [
              0.4444444444444444,
              "#bd3786"
             ],
             [
              0.5555555555555556,
              "#d8576b"
             ],
             [
              0.6666666666666666,
              "#ed7953"
             ],
             [
              0.7777777777777778,
              "#fb9f3a"
             ],
             [
              0.8888888888888888,
              "#fdca26"
             ],
             [
              1,
              "#f0f921"
             ]
            ],
            "type": "contour"
           }
          ],
          "contourcarpet": [
           {
            "colorbar": {
             "outlinewidth": 0,
             "ticks": ""
            },
            "type": "contourcarpet"
           }
          ],
          "heatmap": [
           {
            "colorbar": {
             "outlinewidth": 0,
             "ticks": ""
            },
            "colorscale": [
             [
              0,
              "#0d0887"
             ],
             [
              0.1111111111111111,
              "#46039f"
             ],
             [
              0.2222222222222222,
              "#7201a8"
             ],
             [
              0.3333333333333333,
              "#9c179e"
             ],
             [
              0.4444444444444444,
              "#bd3786"
             ],
             [
              0.5555555555555556,
              "#d8576b"
             ],
             [
              0.6666666666666666,
              "#ed7953"
             ],
             [
              0.7777777777777778,
              "#fb9f3a"
             ],
             [
              0.8888888888888888,
              "#fdca26"
             ],
             [
              1,
              "#f0f921"
             ]
            ],
            "type": "heatmap"
           }
          ],
          "heatmapgl": [
           {
            "colorbar": {
             "outlinewidth": 0,
             "ticks": ""
            },
            "colorscale": [
             [
              0,
              "#0d0887"
             ],
             [
              0.1111111111111111,
              "#46039f"
             ],
             [
              0.2222222222222222,
              "#7201a8"
             ],
             [
              0.3333333333333333,
              "#9c179e"
             ],
             [
              0.4444444444444444,
              "#bd3786"
             ],
             [
              0.5555555555555556,
              "#d8576b"
             ],
             [
              0.6666666666666666,
              "#ed7953"
             ],
             [
              0.7777777777777778,
              "#fb9f3a"
             ],
             [
              0.8888888888888888,
              "#fdca26"
             ],
             [
              1,
              "#f0f921"
             ]
            ],
            "type": "heatmapgl"
           }
          ],
          "histogram": [
           {
            "marker": {
             "pattern": {
              "fillmode": "overlay",
              "size": 10,
              "solidity": 0.2
             }
            },
            "type": "histogram"
           }
          ],
          "histogram2d": [
           {
            "colorbar": {
             "outlinewidth": 0,
             "ticks": ""
            },
            "colorscale": [
             [
              0,
              "#0d0887"
             ],
             [
              0.1111111111111111,
              "#46039f"
             ],
             [
              0.2222222222222222,
              "#7201a8"
             ],
             [
              0.3333333333333333,
              "#9c179e"
             ],
             [
              0.4444444444444444,
              "#bd3786"
             ],
             [
              0.5555555555555556,
              "#d8576b"
             ],
             [
              0.6666666666666666,
              "#ed7953"
             ],
             [
              0.7777777777777778,
              "#fb9f3a"
             ],
             [
              0.8888888888888888,
              "#fdca26"
             ],
             [
              1,
              "#f0f921"
             ]
            ],
            "type": "histogram2d"
           }
          ],
          "histogram2dcontour": [
           {
            "colorbar": {
             "outlinewidth": 0,
             "ticks": ""
            },
            "colorscale": [
             [
              0,
              "#0d0887"
             ],
             [
              0.1111111111111111,
              "#46039f"
             ],
             [
              0.2222222222222222,
              "#7201a8"
             ],
             [
              0.3333333333333333,
              "#9c179e"
             ],
             [
              0.4444444444444444,
              "#bd3786"
             ],
             [
              0.5555555555555556,
              "#d8576b"
             ],
             [
              0.6666666666666666,
              "#ed7953"
             ],
             [
              0.7777777777777778,
              "#fb9f3a"
             ],
             [
              0.8888888888888888,
              "#fdca26"
             ],
             [
              1,
              "#f0f921"
             ]
            ],
            "type": "histogram2dcontour"
           }
          ],
          "mesh3d": [
           {
            "colorbar": {
             "outlinewidth": 0,
             "ticks": ""
            },
            "type": "mesh3d"
           }
          ],
          "parcoords": [
           {
            "line": {
             "colorbar": {
              "outlinewidth": 0,
              "ticks": ""
             }
            },
            "type": "parcoords"
           }
          ],
          "pie": [
           {
            "automargin": true,
            "type": "pie"
           }
          ],
          "scatter": [
           {
            "fillpattern": {
             "fillmode": "overlay",
             "size": 10,
             "solidity": 0.2
            },
            "type": "scatter"
           }
          ],
          "scatter3d": [
           {
            "line": {
             "colorbar": {
              "outlinewidth": 0,
              "ticks": ""
             }
            },
            "marker": {
             "colorbar": {
              "outlinewidth": 0,
              "ticks": ""
             }
            },
            "type": "scatter3d"
           }
          ],
          "scattercarpet": [
           {
            "marker": {
             "colorbar": {
              "outlinewidth": 0,
              "ticks": ""
             }
            },
            "type": "scattercarpet"
           }
          ],
          "scattergeo": [
           {
            "marker": {
             "colorbar": {
              "outlinewidth": 0,
              "ticks": ""
             }
            },
            "type": "scattergeo"
           }
          ],
          "scattergl": [
           {
            "marker": {
             "colorbar": {
              "outlinewidth": 0,
              "ticks": ""
             }
            },
            "type": "scattergl"
           }
          ],
          "scattermapbox": [
           {
            "marker": {
             "colorbar": {
              "outlinewidth": 0,
              "ticks": ""
             }
            },
            "type": "scattermapbox"
           }
          ],
          "scatterpolar": [
           {
            "marker": {
             "colorbar": {
              "outlinewidth": 0,
              "ticks": ""
             }
            },
            "type": "scatterpolar"
           }
          ],
          "scatterpolargl": [
           {
            "marker": {
             "colorbar": {
              "outlinewidth": 0,
              "ticks": ""
             }
            },
            "type": "scatterpolargl"
           }
          ],
          "scatterternary": [
           {
            "marker": {
             "colorbar": {
              "outlinewidth": 0,
              "ticks": ""
             }
            },
            "type": "scatterternary"
           }
          ],
          "surface": [
           {
            "colorbar": {
             "outlinewidth": 0,
             "ticks": ""
            },
            "colorscale": [
             [
              0,
              "#0d0887"
             ],
             [
              0.1111111111111111,
              "#46039f"
             ],
             [
              0.2222222222222222,
              "#7201a8"
             ],
             [
              0.3333333333333333,
              "#9c179e"
             ],
             [
              0.4444444444444444,
              "#bd3786"
             ],
             [
              0.5555555555555556,
              "#d8576b"
             ],
             [
              0.6666666666666666,
              "#ed7953"
             ],
             [
              0.7777777777777778,
              "#fb9f3a"
             ],
             [
              0.8888888888888888,
              "#fdca26"
             ],
             [
              1,
              "#f0f921"
             ]
            ],
            "type": "surface"
           }
          ],
          "table": [
           {
            "cells": {
             "fill": {
              "color": "#EBF0F8"
             },
             "line": {
              "color": "white"
             }
            },
            "header": {
             "fill": {
              "color": "#C8D4E3"
             },
             "line": {
              "color": "white"
             }
            },
            "type": "table"
           }
          ]
         },
         "layout": {
          "annotationdefaults": {
           "arrowcolor": "#2a3f5f",
           "arrowhead": 0,
           "arrowwidth": 1
          },
          "autotypenumbers": "strict",
          "coloraxis": {
           "colorbar": {
            "outlinewidth": 0,
            "ticks": ""
           }
          },
          "colorscale": {
           "diverging": [
            [
             0,
             "#8e0152"
            ],
            [
             0.1,
             "#c51b7d"
            ],
            [
             0.2,
             "#de77ae"
            ],
            [
             0.3,
             "#f1b6da"
            ],
            [
             0.4,
             "#fde0ef"
            ],
            [
             0.5,
             "#f7f7f7"
            ],
            [
             0.6,
             "#e6f5d0"
            ],
            [
             0.7,
             "#b8e186"
            ],
            [
             0.8,
             "#7fbc41"
            ],
            [
             0.9,
             "#4d9221"
            ],
            [
             1,
             "#276419"
            ]
           ],
           "sequential": [
            [
             0,
             "#0d0887"
            ],
            [
             0.1111111111111111,
             "#46039f"
            ],
            [
             0.2222222222222222,
             "#7201a8"
            ],
            [
             0.3333333333333333,
             "#9c179e"
            ],
            [
             0.4444444444444444,
             "#bd3786"
            ],
            [
             0.5555555555555556,
             "#d8576b"
            ],
            [
             0.6666666666666666,
             "#ed7953"
            ],
            [
             0.7777777777777778,
             "#fb9f3a"
            ],
            [
             0.8888888888888888,
             "#fdca26"
            ],
            [
             1,
             "#f0f921"
            ]
           ],
           "sequentialminus": [
            [
             0,
             "#0d0887"
            ],
            [
             0.1111111111111111,
             "#46039f"
            ],
            [
             0.2222222222222222,
             "#7201a8"
            ],
            [
             0.3333333333333333,
             "#9c179e"
            ],
            [
             0.4444444444444444,
             "#bd3786"
            ],
            [
             0.5555555555555556,
             "#d8576b"
            ],
            [
             0.6666666666666666,
             "#ed7953"
            ],
            [
             0.7777777777777778,
             "#fb9f3a"
            ],
            [
             0.8888888888888888,
             "#fdca26"
            ],
            [
             1,
             "#f0f921"
            ]
           ]
          },
          "colorway": [
           "#636efa",
           "#EF553B",
           "#00cc96",
           "#ab63fa",
           "#FFA15A",
           "#19d3f3",
           "#FF6692",
           "#B6E880",
           "#FF97FF",
           "#FECB52"
          ],
          "font": {
           "color": "#2a3f5f"
          },
          "geo": {
           "bgcolor": "white",
           "lakecolor": "white",
           "landcolor": "#E5ECF6",
           "showlakes": true,
           "showland": true,
           "subunitcolor": "white"
          },
          "hoverlabel": {
           "align": "left"
          },
          "hovermode": "closest",
          "mapbox": {
           "style": "light"
          },
          "paper_bgcolor": "white",
          "plot_bgcolor": "#E5ECF6",
          "polar": {
           "angularaxis": {
            "gridcolor": "white",
            "linecolor": "white",
            "ticks": ""
           },
           "bgcolor": "#E5ECF6",
           "radialaxis": {
            "gridcolor": "white",
            "linecolor": "white",
            "ticks": ""
           }
          },
          "scene": {
           "xaxis": {
            "backgroundcolor": "#E5ECF6",
            "gridcolor": "white",
            "gridwidth": 2,
            "linecolor": "white",
            "showbackground": true,
            "ticks": "",
            "zerolinecolor": "white"
           },
           "yaxis": {
            "backgroundcolor": "#E5ECF6",
            "gridcolor": "white",
            "gridwidth": 2,
            "linecolor": "white",
            "showbackground": true,
            "ticks": "",
            "zerolinecolor": "white"
           },
           "zaxis": {
            "backgroundcolor": "#E5ECF6",
            "gridcolor": "white",
            "gridwidth": 2,
            "linecolor": "white",
            "showbackground": true,
            "ticks": "",
            "zerolinecolor": "white"
           }
          },
          "shapedefaults": {
           "line": {
            "color": "#2a3f5f"
           }
          },
          "ternary": {
           "aaxis": {
            "gridcolor": "white",
            "linecolor": "white",
            "ticks": ""
           },
           "baxis": {
            "gridcolor": "white",
            "linecolor": "white",
            "ticks": ""
           },
           "bgcolor": "#E5ECF6",
           "caxis": {
            "gridcolor": "white",
            "linecolor": "white",
            "ticks": ""
           }
          },
          "title": {
           "x": 0.05
          },
          "xaxis": {
           "automargin": true,
           "gridcolor": "white",
           "linecolor": "white",
           "ticks": "",
           "title": {
            "standoff": 15
           },
           "zerolinecolor": "white",
           "zerolinewidth": 2
          },
          "yaxis": {
           "automargin": true,
           "gridcolor": "white",
           "linecolor": "white",
           "ticks": "",
           "title": {
            "standoff": 15
           },
           "zerolinecolor": "white",
           "zerolinewidth": 2
          }
         }
        },
        "title": {
         "text": "Mean ROI for Cities in each State"
        },
        "xaxis": {
         "anchor": "y",
         "domain": [
          0,
          0.45
         ]
        },
        "xaxis2": {
         "anchor": "y2",
         "domain": [
          0.55,
          1
         ]
        },
        "xaxis3": {
         "anchor": "y3",
         "domain": [
          0,
          0.45
         ]
        },
        "xaxis4": {
         "anchor": "y4",
         "domain": [
          0.55,
          1
         ]
        },
        "xaxis5": {
         "anchor": "y5",
         "domain": [
          0,
          0.45
         ]
        },
        "xaxis6": {
         "anchor": "y6",
         "domain": [
          0.55,
          1
         ]
        },
        "yaxis": {
         "anchor": "x",
         "domain": [
          0.7333333333333333,
          1
         ]
        },
        "yaxis2": {
         "anchor": "x2",
         "domain": [
          0.7333333333333333,
          1
         ]
        },
        "yaxis3": {
         "anchor": "x3",
         "domain": [
          0.36666666666666664,
          0.6333333333333333
         ]
        },
        "yaxis4": {
         "anchor": "x4",
         "domain": [
          0.36666666666666664,
          0.6333333333333333
         ]
        },
        "yaxis5": {
         "anchor": "x5",
         "domain": [
          0,
          0.26666666666666666
         ]
        },
        "yaxis6": {
         "anchor": "x6",
         "domain": [
          0,
          0.26666666666666666
         ]
        }
       }
      }
     },
     "metadata": {},
     "output_type": "display_data"
    }
   ],
   "source": [
    "from plotly.subplots import make_subplots\n",
    "import plotly.graph_objects as go\n",
    "\n",
    "roi_subplots = make_subplots(rows=3, cols=2)\n",
    "\n",
    "combined_data_vt = combined_data[(combined_data['state_id'] == 'VT')]\n",
    "combined_data_nh = combined_data[(combined_data['state_id'] == 'NH')]\n",
    "combined_data_nc = combined_data[(combined_data['state_id'] == 'NC')]\n",
    "combined_data_sc = combined_data[(combined_data['state_id'] == 'SC')]\n",
    "combined_data_fl = combined_data[(combined_data['state_id'] == 'FL')]\n",
    "combined_data_me = combined_data[(combined_data['state_id'] == 'ME')]\n",
    "\n",
    "combined_data_vt_mean_roi = combined_data_vt.groupby(['town'])['median_ROI'].mean().reset_index()\n",
    "combined_data_nh_mean_roi = combined_data_nh.groupby(['town'])['median_ROI'].mean().reset_index()\n",
    "combined_data_nc_mean_roi = combined_data_nc.groupby(['town'])['median_ROI'].mean().reset_index()\n",
    "combined_data_sc_mean_roi = combined_data_sc.groupby(['town'])['median_ROI'].mean().reset_index()\n",
    "combined_data_fl_mean_roi = combined_data_fl.groupby(['town'])['median_ROI'].mean().reset_index()\n",
    "combined_data_me_mean_roi = combined_data_me.groupby(['town'])['median_ROI'].mean().reset_index()\n",
    "\n",
    "\n",
    "roi_subplots.append_trace(\n",
    "    go.Bar(x=combined_data_vt_mean_roi['town'],\n",
    "    y=combined_data_vt_mean_roi['median_ROI'], name=\"VT\"\n",
    "), row=1, col=1)\n",
    "\n",
    "roi_subplots.append_trace(go.Bar(\n",
    "    x=combined_data_nh_mean_roi['town'],\n",
    "    y=combined_data_nh_mean_roi['median_ROI'], name=\"NH\"\n",
    "), row=1, col=2)\n",
    "\n",
    "roi_subplots.append_trace(go.Bar(\n",
    "    x=combined_data_nc_mean_roi['town'],\n",
    "    y=combined_data_nc_mean_roi['median_ROI'], name=\"NC\"\n",
    "), row=2, col=1)\n",
    "\n",
    "roi_subplots.append_trace(go.Bar(\n",
    "    x=combined_data_sc_mean_roi['town'],\n",
    "    y=combined_data_sc_mean_roi['median_ROI'], name=\"SC\"\n",
    "), row=2, col=2)\n",
    "\n",
    "roi_subplots.append_trace(go.Bar(\n",
    "    x=combined_data_fl_mean_roi['town'],\n",
    "    y=combined_data_fl_mean_roi['median_ROI'], name=\"FL\"\n",
    "), row=3, col=1)\n",
    "\n",
    "roi_subplots.append_trace(go.Bar(\n",
    "    x=combined_data_me_mean_roi['town'],\n",
    "    y=combined_data_me_mean_roi['median_ROI'], name=\"ME\"\n",
    "), row=3, col=2)\n",
    "\n",
    "\n",
    "roi_subplots.update_layout(height = 1100, title_text=\"Mean ROI for Cities in each State\", barmode='group')\n",
    "#filename = \"newsletter_features/mean_roi_for_cities_by_state.png\"\n",
    "#roi_subplots.write_image(filename, engine='kaleido')\n",
    "\n",
    "roi_subplots.show()"
   ]
  },
  {
   "cell_type": "code",
   "execution_count": 36,
   "metadata": {},
   "outputs": [
    {
     "data": {
      "application/vnd.plotly.v1+json": {
       "config": {
        "plotlyServerURL": "https://plot.ly"
       },
       "data": [
        {
         "name": "VT",
         "type": "bar",
         "x": [
          4,
          6,
          7,
          8,
          9,
          10,
          14
         ],
         "xaxis": "x",
         "y": [
          2.05743112991892,
          2.239993573492076,
          1.418151739199866,
          2.240109567319396,
          -0.20308664573418483,
          0.49361903374579413,
          -0.836254277011371
         ],
         "yaxis": "y"
        },
        {
         "name": "NH",
         "type": "bar",
         "x": [
          2,
          6,
          8,
          9
         ],
         "xaxis": "x2",
         "y": [
          1.0026226859588148,
          0.3182426665709172,
          -0.6971548827009378,
          null
         ],
         "yaxis": "y2"
        },
        {
         "name": "NC",
         "type": "bar",
         "x": [
          1,
          2,
          4,
          5,
          6,
          7,
          8,
          9,
          10,
          14,
          16
         ],
         "xaxis": "x3",
         "y": [
          null,
          0.993196833929796,
          0.08829973371525712,
          0.012286209264671508,
          0.8722219061674249,
          0.9567726886237338,
          0.08033450042261606,
          -0.6896758560318577,
          1.4122993413665688,
          1.2810610715810191,
          -1.1169703230739936
         ],
         "yaxis": "y3"
        },
        {
         "name": "SC",
         "type": "bar",
         "x": [
          1,
          2,
          3,
          4,
          5,
          6,
          7,
          8,
          9,
          10,
          15,
          16
         ],
         "xaxis": "x4",
         "y": [
          2.766014492753623,
          3.9488625108502124,
          2.0898897527043796,
          3.615914232302397,
          3.333348595235856,
          2.2007911251769765,
          2.786811684302893,
          1.306674347273019,
          1.1711625031481825,
          1.4287434008535445,
          0.8953360618364629,
          1.5334980637545765
         ],
         "yaxis": "y4"
        },
        {
         "name": "FL",
         "type": "bar",
         "x": [
          2,
          3,
          4,
          5,
          6,
          7,
          8,
          10,
          16
         ],
         "xaxis": "x5",
         "y": [
          1.4492565920810792,
          0.8088062554363715,
          1.2403548227218604,
          1.349161361930528,
          0.8666258933462547,
          0.1708974716538069,
          1.3684369651216262,
          0.11573225518059996,
          null
         ],
         "yaxis": "y5"
        },
        {
         "name": "ME",
         "type": "bar",
         "x": [
          1,
          2,
          3,
          4,
          5,
          6,
          7,
          8,
          9
         ],
         "xaxis": "x6",
         "y": [
          0.2624670476036118,
          1.3031456479040884,
          0.4613979146733842,
          1.5882001909770853,
          3.6226035343525673,
          0.8771643675478463,
          null,
          0.33490698568637944,
          1.7534432225307615
         ],
         "yaxis": "y6"
        }
       ],
       "layout": {
        "barmode": "group",
        "height": 1100,
        "template": {
         "data": {
          "bar": [
           {
            "error_x": {
             "color": "#2a3f5f"
            },
            "error_y": {
             "color": "#2a3f5f"
            },
            "marker": {
             "line": {
              "color": "#E5ECF6",
              "width": 0.5
             },
             "pattern": {
              "fillmode": "overlay",
              "size": 10,
              "solidity": 0.2
             }
            },
            "type": "bar"
           }
          ],
          "barpolar": [
           {
            "marker": {
             "line": {
              "color": "#E5ECF6",
              "width": 0.5
             },
             "pattern": {
              "fillmode": "overlay",
              "size": 10,
              "solidity": 0.2
             }
            },
            "type": "barpolar"
           }
          ],
          "carpet": [
           {
            "aaxis": {
             "endlinecolor": "#2a3f5f",
             "gridcolor": "white",
             "linecolor": "white",
             "minorgridcolor": "white",
             "startlinecolor": "#2a3f5f"
            },
            "baxis": {
             "endlinecolor": "#2a3f5f",
             "gridcolor": "white",
             "linecolor": "white",
             "minorgridcolor": "white",
             "startlinecolor": "#2a3f5f"
            },
            "type": "carpet"
           }
          ],
          "choropleth": [
           {
            "colorbar": {
             "outlinewidth": 0,
             "ticks": ""
            },
            "type": "choropleth"
           }
          ],
          "contour": [
           {
            "colorbar": {
             "outlinewidth": 0,
             "ticks": ""
            },
            "colorscale": [
             [
              0,
              "#0d0887"
             ],
             [
              0.1111111111111111,
              "#46039f"
             ],
             [
              0.2222222222222222,
              "#7201a8"
             ],
             [
              0.3333333333333333,
              "#9c179e"
             ],
             [
              0.4444444444444444,
              "#bd3786"
             ],
             [
              0.5555555555555556,
              "#d8576b"
             ],
             [
              0.6666666666666666,
              "#ed7953"
             ],
             [
              0.7777777777777778,
              "#fb9f3a"
             ],
             [
              0.8888888888888888,
              "#fdca26"
             ],
             [
              1,
              "#f0f921"
             ]
            ],
            "type": "contour"
           }
          ],
          "contourcarpet": [
           {
            "colorbar": {
             "outlinewidth": 0,
             "ticks": ""
            },
            "type": "contourcarpet"
           }
          ],
          "heatmap": [
           {
            "colorbar": {
             "outlinewidth": 0,
             "ticks": ""
            },
            "colorscale": [
             [
              0,
              "#0d0887"
             ],
             [
              0.1111111111111111,
              "#46039f"
             ],
             [
              0.2222222222222222,
              "#7201a8"
             ],
             [
              0.3333333333333333,
              "#9c179e"
             ],
             [
              0.4444444444444444,
              "#bd3786"
             ],
             [
              0.5555555555555556,
              "#d8576b"
             ],
             [
              0.6666666666666666,
              "#ed7953"
             ],
             [
              0.7777777777777778,
              "#fb9f3a"
             ],
             [
              0.8888888888888888,
              "#fdca26"
             ],
             [
              1,
              "#f0f921"
             ]
            ],
            "type": "heatmap"
           }
          ],
          "heatmapgl": [
           {
            "colorbar": {
             "outlinewidth": 0,
             "ticks": ""
            },
            "colorscale": [
             [
              0,
              "#0d0887"
             ],
             [
              0.1111111111111111,
              "#46039f"
             ],
             [
              0.2222222222222222,
              "#7201a8"
             ],
             [
              0.3333333333333333,
              "#9c179e"
             ],
             [
              0.4444444444444444,
              "#bd3786"
             ],
             [
              0.5555555555555556,
              "#d8576b"
             ],
             [
              0.6666666666666666,
              "#ed7953"
             ],
             [
              0.7777777777777778,
              "#fb9f3a"
             ],
             [
              0.8888888888888888,
              "#fdca26"
             ],
             [
              1,
              "#f0f921"
             ]
            ],
            "type": "heatmapgl"
           }
          ],
          "histogram": [
           {
            "marker": {
             "pattern": {
              "fillmode": "overlay",
              "size": 10,
              "solidity": 0.2
             }
            },
            "type": "histogram"
           }
          ],
          "histogram2d": [
           {
            "colorbar": {
             "outlinewidth": 0,
             "ticks": ""
            },
            "colorscale": [
             [
              0,
              "#0d0887"
             ],
             [
              0.1111111111111111,
              "#46039f"
             ],
             [
              0.2222222222222222,
              "#7201a8"
             ],
             [
              0.3333333333333333,
              "#9c179e"
             ],
             [
              0.4444444444444444,
              "#bd3786"
             ],
             [
              0.5555555555555556,
              "#d8576b"
             ],
             [
              0.6666666666666666,
              "#ed7953"
             ],
             [
              0.7777777777777778,
              "#fb9f3a"
             ],
             [
              0.8888888888888888,
              "#fdca26"
             ],
             [
              1,
              "#f0f921"
             ]
            ],
            "type": "histogram2d"
           }
          ],
          "histogram2dcontour": [
           {
            "colorbar": {
             "outlinewidth": 0,
             "ticks": ""
            },
            "colorscale": [
             [
              0,
              "#0d0887"
             ],
             [
              0.1111111111111111,
              "#46039f"
             ],
             [
              0.2222222222222222,
              "#7201a8"
             ],
             [
              0.3333333333333333,
              "#9c179e"
             ],
             [
              0.4444444444444444,
              "#bd3786"
             ],
             [
              0.5555555555555556,
              "#d8576b"
             ],
             [
              0.6666666666666666,
              "#ed7953"
             ],
             [
              0.7777777777777778,
              "#fb9f3a"
             ],
             [
              0.8888888888888888,
              "#fdca26"
             ],
             [
              1,
              "#f0f921"
             ]
            ],
            "type": "histogram2dcontour"
           }
          ],
          "mesh3d": [
           {
            "colorbar": {
             "outlinewidth": 0,
             "ticks": ""
            },
            "type": "mesh3d"
           }
          ],
          "parcoords": [
           {
            "line": {
             "colorbar": {
              "outlinewidth": 0,
              "ticks": ""
             }
            },
            "type": "parcoords"
           }
          ],
          "pie": [
           {
            "automargin": true,
            "type": "pie"
           }
          ],
          "scatter": [
           {
            "fillpattern": {
             "fillmode": "overlay",
             "size": 10,
             "solidity": 0.2
            },
            "type": "scatter"
           }
          ],
          "scatter3d": [
           {
            "line": {
             "colorbar": {
              "outlinewidth": 0,
              "ticks": ""
             }
            },
            "marker": {
             "colorbar": {
              "outlinewidth": 0,
              "ticks": ""
             }
            },
            "type": "scatter3d"
           }
          ],
          "scattercarpet": [
           {
            "marker": {
             "colorbar": {
              "outlinewidth": 0,
              "ticks": ""
             }
            },
            "type": "scattercarpet"
           }
          ],
          "scattergeo": [
           {
            "marker": {
             "colorbar": {
              "outlinewidth": 0,
              "ticks": ""
             }
            },
            "type": "scattergeo"
           }
          ],
          "scattergl": [
           {
            "marker": {
             "colorbar": {
              "outlinewidth": 0,
              "ticks": ""
             }
            },
            "type": "scattergl"
           }
          ],
          "scattermapbox": [
           {
            "marker": {
             "colorbar": {
              "outlinewidth": 0,
              "ticks": ""
             }
            },
            "type": "scattermapbox"
           }
          ],
          "scatterpolar": [
           {
            "marker": {
             "colorbar": {
              "outlinewidth": 0,
              "ticks": ""
             }
            },
            "type": "scatterpolar"
           }
          ],
          "scatterpolargl": [
           {
            "marker": {
             "colorbar": {
              "outlinewidth": 0,
              "ticks": ""
             }
            },
            "type": "scatterpolargl"
           }
          ],
          "scatterternary": [
           {
            "marker": {
             "colorbar": {
              "outlinewidth": 0,
              "ticks": ""
             }
            },
            "type": "scatterternary"
           }
          ],
          "surface": [
           {
            "colorbar": {
             "outlinewidth": 0,
             "ticks": ""
            },
            "colorscale": [
             [
              0,
              "#0d0887"
             ],
             [
              0.1111111111111111,
              "#46039f"
             ],
             [
              0.2222222222222222,
              "#7201a8"
             ],
             [
              0.3333333333333333,
              "#9c179e"
             ],
             [
              0.4444444444444444,
              "#bd3786"
             ],
             [
              0.5555555555555556,
              "#d8576b"
             ],
             [
              0.6666666666666666,
              "#ed7953"
             ],
             [
              0.7777777777777778,
              "#fb9f3a"
             ],
             [
              0.8888888888888888,
              "#fdca26"
             ],
             [
              1,
              "#f0f921"
             ]
            ],
            "type": "surface"
           }
          ],
          "table": [
           {
            "cells": {
             "fill": {
              "color": "#EBF0F8"
             },
             "line": {
              "color": "white"
             }
            },
            "header": {
             "fill": {
              "color": "#C8D4E3"
             },
             "line": {
              "color": "white"
             }
            },
            "type": "table"
           }
          ]
         },
         "layout": {
          "annotationdefaults": {
           "arrowcolor": "#2a3f5f",
           "arrowhead": 0,
           "arrowwidth": 1
          },
          "autotypenumbers": "strict",
          "coloraxis": {
           "colorbar": {
            "outlinewidth": 0,
            "ticks": ""
           }
          },
          "colorscale": {
           "diverging": [
            [
             0,
             "#8e0152"
            ],
            [
             0.1,
             "#c51b7d"
            ],
            [
             0.2,
             "#de77ae"
            ],
            [
             0.3,
             "#f1b6da"
            ],
            [
             0.4,
             "#fde0ef"
            ],
            [
             0.5,
             "#f7f7f7"
            ],
            [
             0.6,
             "#e6f5d0"
            ],
            [
             0.7,
             "#b8e186"
            ],
            [
             0.8,
             "#7fbc41"
            ],
            [
             0.9,
             "#4d9221"
            ],
            [
             1,
             "#276419"
            ]
           ],
           "sequential": [
            [
             0,
             "#0d0887"
            ],
            [
             0.1111111111111111,
             "#46039f"
            ],
            [
             0.2222222222222222,
             "#7201a8"
            ],
            [
             0.3333333333333333,
             "#9c179e"
            ],
            [
             0.4444444444444444,
             "#bd3786"
            ],
            [
             0.5555555555555556,
             "#d8576b"
            ],
            [
             0.6666666666666666,
             "#ed7953"
            ],
            [
             0.7777777777777778,
             "#fb9f3a"
            ],
            [
             0.8888888888888888,
             "#fdca26"
            ],
            [
             1,
             "#f0f921"
            ]
           ],
           "sequentialminus": [
            [
             0,
             "#0d0887"
            ],
            [
             0.1111111111111111,
             "#46039f"
            ],
            [
             0.2222222222222222,
             "#7201a8"
            ],
            [
             0.3333333333333333,
             "#9c179e"
            ],
            [
             0.4444444444444444,
             "#bd3786"
            ],
            [
             0.5555555555555556,
             "#d8576b"
            ],
            [
             0.6666666666666666,
             "#ed7953"
            ],
            [
             0.7777777777777778,
             "#fb9f3a"
            ],
            [
             0.8888888888888888,
             "#fdca26"
            ],
            [
             1,
             "#f0f921"
            ]
           ]
          },
          "colorway": [
           "#636efa",
           "#EF553B",
           "#00cc96",
           "#ab63fa",
           "#FFA15A",
           "#19d3f3",
           "#FF6692",
           "#B6E880",
           "#FF97FF",
           "#FECB52"
          ],
          "font": {
           "color": "#2a3f5f"
          },
          "geo": {
           "bgcolor": "white",
           "lakecolor": "white",
           "landcolor": "#E5ECF6",
           "showlakes": true,
           "showland": true,
           "subunitcolor": "white"
          },
          "hoverlabel": {
           "align": "left"
          },
          "hovermode": "closest",
          "mapbox": {
           "style": "light"
          },
          "paper_bgcolor": "white",
          "plot_bgcolor": "#E5ECF6",
          "polar": {
           "angularaxis": {
            "gridcolor": "white",
            "linecolor": "white",
            "ticks": ""
           },
           "bgcolor": "#E5ECF6",
           "radialaxis": {
            "gridcolor": "white",
            "linecolor": "white",
            "ticks": ""
           }
          },
          "scene": {
           "xaxis": {
            "backgroundcolor": "#E5ECF6",
            "gridcolor": "white",
            "gridwidth": 2,
            "linecolor": "white",
            "showbackground": true,
            "ticks": "",
            "zerolinecolor": "white"
           },
           "yaxis": {
            "backgroundcolor": "#E5ECF6",
            "gridcolor": "white",
            "gridwidth": 2,
            "linecolor": "white",
            "showbackground": true,
            "ticks": "",
            "zerolinecolor": "white"
           },
           "zaxis": {
            "backgroundcolor": "#E5ECF6",
            "gridcolor": "white",
            "gridwidth": 2,
            "linecolor": "white",
            "showbackground": true,
            "ticks": "",
            "zerolinecolor": "white"
           }
          },
          "shapedefaults": {
           "line": {
            "color": "#2a3f5f"
           }
          },
          "ternary": {
           "aaxis": {
            "gridcolor": "white",
            "linecolor": "white",
            "ticks": ""
           },
           "baxis": {
            "gridcolor": "white",
            "linecolor": "white",
            "ticks": ""
           },
           "bgcolor": "#E5ECF6",
           "caxis": {
            "gridcolor": "white",
            "linecolor": "white",
            "ticks": ""
           }
          },
          "title": {
           "x": 0.05
          },
          "xaxis": {
           "automargin": true,
           "gridcolor": "white",
           "linecolor": "white",
           "ticks": "",
           "title": {
            "standoff": 15
           },
           "zerolinecolor": "white",
           "zerolinewidth": 2
          },
          "yaxis": {
           "automargin": true,
           "gridcolor": "white",
           "linecolor": "white",
           "ticks": "",
           "title": {
            "standoff": 15
           },
           "zerolinecolor": "white",
           "zerolinewidth": 2
          }
         }
        },
        "title": {
         "text": "Mean ROI by Guest Number in each State"
        },
        "xaxis": {
         "anchor": "y",
         "domain": [
          0,
          0.45
         ]
        },
        "xaxis2": {
         "anchor": "y2",
         "domain": [
          0.55,
          1
         ]
        },
        "xaxis3": {
         "anchor": "y3",
         "domain": [
          0,
          0.45
         ]
        },
        "xaxis4": {
         "anchor": "y4",
         "domain": [
          0.55,
          1
         ]
        },
        "xaxis5": {
         "anchor": "y5",
         "domain": [
          0,
          0.45
         ]
        },
        "xaxis6": {
         "anchor": "y6",
         "domain": [
          0.55,
          1
         ]
        },
        "yaxis": {
         "anchor": "x",
         "domain": [
          0.7333333333333333,
          1
         ]
        },
        "yaxis2": {
         "anchor": "x2",
         "domain": [
          0.7333333333333333,
          1
         ]
        },
        "yaxis3": {
         "anchor": "x3",
         "domain": [
          0.36666666666666664,
          0.6333333333333333
         ]
        },
        "yaxis4": {
         "anchor": "x4",
         "domain": [
          0.36666666666666664,
          0.6333333333333333
         ]
        },
        "yaxis5": {
         "anchor": "x5",
         "domain": [
          0,
          0.26666666666666666
         ]
        },
        "yaxis6": {
         "anchor": "x6",
         "domain": [
          0,
          0.26666666666666666
         ]
        }
       }
      }
     },
     "metadata": {},
     "output_type": "display_data"
    }
   ],
   "source": [
    "from plotly.subplots import make_subplots\n",
    "import plotly.graph_objects as go\n",
    "\n",
    "roi_guest_subplots = make_subplots(rows=3, cols=2)\n",
    "\n",
    "combined_data_vt = combined_data[(combined_data['state_id'] == 'VT')]\n",
    "combined_data_nh = combined_data[(combined_data['state_id'] == 'NH')]\n",
    "combined_data_nc = combined_data[(combined_data['state_id'] == 'NC')]\n",
    "combined_data_sc = combined_data[(combined_data['state_id'] == 'SC')]\n",
    "combined_data_fl = combined_data[(combined_data['state_id'] == 'FL')]\n",
    "combined_data_me = combined_data[(combined_data['state_id'] == 'ME')]\n",
    "\n",
    "combined_data_vt_mean_roi_guest = combined_data_vt.groupby(['guest_no'])['median_ROI'].mean().reset_index()\n",
    "combined_data_nh_mean_roi_guest = combined_data_nh.groupby(['guest_no'])['median_ROI'].mean().reset_index()\n",
    "combined_data_nc_mean_roi_guest = combined_data_nc.groupby(['guest_no'])['median_ROI'].mean().reset_index()\n",
    "combined_data_sc_mean_roi_guest = combined_data_sc.groupby(['guest_no'])['median_ROI'].mean().reset_index()\n",
    "combined_data_fl_mean_roi_guest = combined_data_fl.groupby(['guest_no'])['median_ROI'].mean().reset_index()\n",
    "combined_data_me_mean_roi_guest = combined_data_me.groupby(['guest_no'])['median_ROI'].mean().reset_index()\n",
    "\n",
    "\n",
    "roi_guest_subplots.append_trace(\n",
    "    go.Bar(x=combined_data_vt_mean_roi_guest['guest_no'],\n",
    "    y=combined_data_vt_mean_roi_guest['median_ROI'], name=\"VT\"\n",
    "), row=1, col=1)\n",
    "\n",
    "roi_guest_subplots.append_trace(go.Bar(\n",
    "    x=combined_data_nh_mean_roi_guest['guest_no'],\n",
    "    y=combined_data_nh_mean_roi_guest['median_ROI'], name=\"NH\"\n",
    "), row=1, col=2)\n",
    "\n",
    "roi_guest_subplots.append_trace(go.Bar(\n",
    "    x=combined_data_nc_mean_roi_guest['guest_no'],\n",
    "    y=combined_data_nc_mean_roi_guest['median_ROI'], name=\"NC\"\n",
    "), row=2, col=1)\n",
    "\n",
    "roi_guest_subplots.append_trace(go.Bar(\n",
    "    x=combined_data_sc_mean_roi_guest['guest_no'],\n",
    "    y=combined_data_sc_mean_roi_guest['median_ROI'], name=\"SC\"\n",
    "), row=2, col=2)\n",
    "\n",
    "roi_guest_subplots.append_trace(go.Bar(\n",
    "    x=combined_data_fl_mean_roi_guest['guest_no'],\n",
    "    y=combined_data_fl_mean_roi_guest['median_ROI'], name=\"FL\"\n",
    "), row=3, col=1)\n",
    "\n",
    "roi_guest_subplots.append_trace(go.Bar(\n",
    "    x=combined_data_me_mean_roi_guest['guest_no'],\n",
    "    y=combined_data_me_mean_roi_guest['median_ROI'], name=\"ME\"\n",
    "), row=3, col=2)\n",
    "\n",
    "\n",
    "roi_guest_subplots.update_layout(height = 1100, title_text=\"Mean ROI by Guest Number in each State\", barmode='group')\n",
    "roi_guest_subplots.show()"
   ]
  },
  {
   "cell_type": "code",
   "execution_count": 266,
   "metadata": {},
   "outputs": [],
   "source": [
    "append_fig_to_html([roi_guest_subplots])"
   ]
  },
  {
   "cell_type": "code",
   "execution_count": 37,
   "metadata": {},
   "outputs": [
    {
     "data": {
      "application/vnd.plotly.v1+json": {
       "config": {
        "plotlyServerURL": "https://plot.ly"
       },
       "data": [
        {
         "name": "Total Price",
         "offsetgroup": "1",
         "type": "bar",
         "x": [
          2,
          3,
          4,
          5,
          6,
          7,
          8,
          10,
          16
         ],
         "y": [
          220,
          283,
          480,
          378,
          533,
          430,
          972,
          523,
          null
         ],
         "yaxis": "y"
        },
        {
         "name": "Occupancy Rate",
         "offsetgroup": "2",
         "type": "bar",
         "x": [
          2,
          3,
          4,
          5,
          6,
          7,
          8,
          10,
          16
         ],
         "y": [
          0.7080866106937693,
          0.4601855943437914,
          0.5133451171011931,
          0.612152010605391,
          0.5895713654441007,
          0.9263367211665929,
          0.3027904616945713,
          0.8966858152894388,
          0.8869642068051259
         ],
         "yaxis": "y2"
        }
       ],
       "layout": {
        "barmode": "group",
        "template": {
         "data": {
          "bar": [
           {
            "error_x": {
             "color": "#2a3f5f"
            },
            "error_y": {
             "color": "#2a3f5f"
            },
            "marker": {
             "line": {
              "color": "#E5ECF6",
              "width": 0.5
             },
             "pattern": {
              "fillmode": "overlay",
              "size": 10,
              "solidity": 0.2
             }
            },
            "type": "bar"
           }
          ],
          "barpolar": [
           {
            "marker": {
             "line": {
              "color": "#E5ECF6",
              "width": 0.5
             },
             "pattern": {
              "fillmode": "overlay",
              "size": 10,
              "solidity": 0.2
             }
            },
            "type": "barpolar"
           }
          ],
          "carpet": [
           {
            "aaxis": {
             "endlinecolor": "#2a3f5f",
             "gridcolor": "white",
             "linecolor": "white",
             "minorgridcolor": "white",
             "startlinecolor": "#2a3f5f"
            },
            "baxis": {
             "endlinecolor": "#2a3f5f",
             "gridcolor": "white",
             "linecolor": "white",
             "minorgridcolor": "white",
             "startlinecolor": "#2a3f5f"
            },
            "type": "carpet"
           }
          ],
          "choropleth": [
           {
            "colorbar": {
             "outlinewidth": 0,
             "ticks": ""
            },
            "type": "choropleth"
           }
          ],
          "contour": [
           {
            "colorbar": {
             "outlinewidth": 0,
             "ticks": ""
            },
            "colorscale": [
             [
              0,
              "#0d0887"
             ],
             [
              0.1111111111111111,
              "#46039f"
             ],
             [
              0.2222222222222222,
              "#7201a8"
             ],
             [
              0.3333333333333333,
              "#9c179e"
             ],
             [
              0.4444444444444444,
              "#bd3786"
             ],
             [
              0.5555555555555556,
              "#d8576b"
             ],
             [
              0.6666666666666666,
              "#ed7953"
             ],
             [
              0.7777777777777778,
              "#fb9f3a"
             ],
             [
              0.8888888888888888,
              "#fdca26"
             ],
             [
              1,
              "#f0f921"
             ]
            ],
            "type": "contour"
           }
          ],
          "contourcarpet": [
           {
            "colorbar": {
             "outlinewidth": 0,
             "ticks": ""
            },
            "type": "contourcarpet"
           }
          ],
          "heatmap": [
           {
            "colorbar": {
             "outlinewidth": 0,
             "ticks": ""
            },
            "colorscale": [
             [
              0,
              "#0d0887"
             ],
             [
              0.1111111111111111,
              "#46039f"
             ],
             [
              0.2222222222222222,
              "#7201a8"
             ],
             [
              0.3333333333333333,
              "#9c179e"
             ],
             [
              0.4444444444444444,
              "#bd3786"
             ],
             [
              0.5555555555555556,
              "#d8576b"
             ],
             [
              0.6666666666666666,
              "#ed7953"
             ],
             [
              0.7777777777777778,
              "#fb9f3a"
             ],
             [
              0.8888888888888888,
              "#fdca26"
             ],
             [
              1,
              "#f0f921"
             ]
            ],
            "type": "heatmap"
           }
          ],
          "heatmapgl": [
           {
            "colorbar": {
             "outlinewidth": 0,
             "ticks": ""
            },
            "colorscale": [
             [
              0,
              "#0d0887"
             ],
             [
              0.1111111111111111,
              "#46039f"
             ],
             [
              0.2222222222222222,
              "#7201a8"
             ],
             [
              0.3333333333333333,
              "#9c179e"
             ],
             [
              0.4444444444444444,
              "#bd3786"
             ],
             [
              0.5555555555555556,
              "#d8576b"
             ],
             [
              0.6666666666666666,
              "#ed7953"
             ],
             [
              0.7777777777777778,
              "#fb9f3a"
             ],
             [
              0.8888888888888888,
              "#fdca26"
             ],
             [
              1,
              "#f0f921"
             ]
            ],
            "type": "heatmapgl"
           }
          ],
          "histogram": [
           {
            "marker": {
             "pattern": {
              "fillmode": "overlay",
              "size": 10,
              "solidity": 0.2
             }
            },
            "type": "histogram"
           }
          ],
          "histogram2d": [
           {
            "colorbar": {
             "outlinewidth": 0,
             "ticks": ""
            },
            "colorscale": [
             [
              0,
              "#0d0887"
             ],
             [
              0.1111111111111111,
              "#46039f"
             ],
             [
              0.2222222222222222,
              "#7201a8"
             ],
             [
              0.3333333333333333,
              "#9c179e"
             ],
             [
              0.4444444444444444,
              "#bd3786"
             ],
             [
              0.5555555555555556,
              "#d8576b"
             ],
             [
              0.6666666666666666,
              "#ed7953"
             ],
             [
              0.7777777777777778,
              "#fb9f3a"
             ],
             [
              0.8888888888888888,
              "#fdca26"
             ],
             [
              1,
              "#f0f921"
             ]
            ],
            "type": "histogram2d"
           }
          ],
          "histogram2dcontour": [
           {
            "colorbar": {
             "outlinewidth": 0,
             "ticks": ""
            },
            "colorscale": [
             [
              0,
              "#0d0887"
             ],
             [
              0.1111111111111111,
              "#46039f"
             ],
             [
              0.2222222222222222,
              "#7201a8"
             ],
             [
              0.3333333333333333,
              "#9c179e"
             ],
             [
              0.4444444444444444,
              "#bd3786"
             ],
             [
              0.5555555555555556,
              "#d8576b"
             ],
             [
              0.6666666666666666,
              "#ed7953"
             ],
             [
              0.7777777777777778,
              "#fb9f3a"
             ],
             [
              0.8888888888888888,
              "#fdca26"
             ],
             [
              1,
              "#f0f921"
             ]
            ],
            "type": "histogram2dcontour"
           }
          ],
          "mesh3d": [
           {
            "colorbar": {
             "outlinewidth": 0,
             "ticks": ""
            },
            "type": "mesh3d"
           }
          ],
          "parcoords": [
           {
            "line": {
             "colorbar": {
              "outlinewidth": 0,
              "ticks": ""
             }
            },
            "type": "parcoords"
           }
          ],
          "pie": [
           {
            "automargin": true,
            "type": "pie"
           }
          ],
          "scatter": [
           {
            "fillpattern": {
             "fillmode": "overlay",
             "size": 10,
             "solidity": 0.2
            },
            "type": "scatter"
           }
          ],
          "scatter3d": [
           {
            "line": {
             "colorbar": {
              "outlinewidth": 0,
              "ticks": ""
             }
            },
            "marker": {
             "colorbar": {
              "outlinewidth": 0,
              "ticks": ""
             }
            },
            "type": "scatter3d"
           }
          ],
          "scattercarpet": [
           {
            "marker": {
             "colorbar": {
              "outlinewidth": 0,
              "ticks": ""
             }
            },
            "type": "scattercarpet"
           }
          ],
          "scattergeo": [
           {
            "marker": {
             "colorbar": {
              "outlinewidth": 0,
              "ticks": ""
             }
            },
            "type": "scattergeo"
           }
          ],
          "scattergl": [
           {
            "marker": {
             "colorbar": {
              "outlinewidth": 0,
              "ticks": ""
             }
            },
            "type": "scattergl"
           }
          ],
          "scattermapbox": [
           {
            "marker": {
             "colorbar": {
              "outlinewidth": 0,
              "ticks": ""
             }
            },
            "type": "scattermapbox"
           }
          ],
          "scatterpolar": [
           {
            "marker": {
             "colorbar": {
              "outlinewidth": 0,
              "ticks": ""
             }
            },
            "type": "scatterpolar"
           }
          ],
          "scatterpolargl": [
           {
            "marker": {
             "colorbar": {
              "outlinewidth": 0,
              "ticks": ""
             }
            },
            "type": "scatterpolargl"
           }
          ],
          "scatterternary": [
           {
            "marker": {
             "colorbar": {
              "outlinewidth": 0,
              "ticks": ""
             }
            },
            "type": "scatterternary"
           }
          ],
          "surface": [
           {
            "colorbar": {
             "outlinewidth": 0,
             "ticks": ""
            },
            "colorscale": [
             [
              0,
              "#0d0887"
             ],
             [
              0.1111111111111111,
              "#46039f"
             ],
             [
              0.2222222222222222,
              "#7201a8"
             ],
             [
              0.3333333333333333,
              "#9c179e"
             ],
             [
              0.4444444444444444,
              "#bd3786"
             ],
             [
              0.5555555555555556,
              "#d8576b"
             ],
             [
              0.6666666666666666,
              "#ed7953"
             ],
             [
              0.7777777777777778,
              "#fb9f3a"
             ],
             [
              0.8888888888888888,
              "#fdca26"
             ],
             [
              1,
              "#f0f921"
             ]
            ],
            "type": "surface"
           }
          ],
          "table": [
           {
            "cells": {
             "fill": {
              "color": "#EBF0F8"
             },
             "line": {
              "color": "white"
             }
            },
            "header": {
             "fill": {
              "color": "#C8D4E3"
             },
             "line": {
              "color": "white"
             }
            },
            "type": "table"
           }
          ]
         },
         "layout": {
          "annotationdefaults": {
           "arrowcolor": "#2a3f5f",
           "arrowhead": 0,
           "arrowwidth": 1
          },
          "autotypenumbers": "strict",
          "coloraxis": {
           "colorbar": {
            "outlinewidth": 0,
            "ticks": ""
           }
          },
          "colorscale": {
           "diverging": [
            [
             0,
             "#8e0152"
            ],
            [
             0.1,
             "#c51b7d"
            ],
            [
             0.2,
             "#de77ae"
            ],
            [
             0.3,
             "#f1b6da"
            ],
            [
             0.4,
             "#fde0ef"
            ],
            [
             0.5,
             "#f7f7f7"
            ],
            [
             0.6,
             "#e6f5d0"
            ],
            [
             0.7,
             "#b8e186"
            ],
            [
             0.8,
             "#7fbc41"
            ],
            [
             0.9,
             "#4d9221"
            ],
            [
             1,
             "#276419"
            ]
           ],
           "sequential": [
            [
             0,
             "#0d0887"
            ],
            [
             0.1111111111111111,
             "#46039f"
            ],
            [
             0.2222222222222222,
             "#7201a8"
            ],
            [
             0.3333333333333333,
             "#9c179e"
            ],
            [
             0.4444444444444444,
             "#bd3786"
            ],
            [
             0.5555555555555556,
             "#d8576b"
            ],
            [
             0.6666666666666666,
             "#ed7953"
            ],
            [
             0.7777777777777778,
             "#fb9f3a"
            ],
            [
             0.8888888888888888,
             "#fdca26"
            ],
            [
             1,
             "#f0f921"
            ]
           ],
           "sequentialminus": [
            [
             0,
             "#0d0887"
            ],
            [
             0.1111111111111111,
             "#46039f"
            ],
            [
             0.2222222222222222,
             "#7201a8"
            ],
            [
             0.3333333333333333,
             "#9c179e"
            ],
            [
             0.4444444444444444,
             "#bd3786"
            ],
            [
             0.5555555555555556,
             "#d8576b"
            ],
            [
             0.6666666666666666,
             "#ed7953"
            ],
            [
             0.7777777777777778,
             "#fb9f3a"
            ],
            [
             0.8888888888888888,
             "#fdca26"
            ],
            [
             1,
             "#f0f921"
            ]
           ]
          },
          "colorway": [
           "#636efa",
           "#EF553B",
           "#00cc96",
           "#ab63fa",
           "#FFA15A",
           "#19d3f3",
           "#FF6692",
           "#B6E880",
           "#FF97FF",
           "#FECB52"
          ],
          "font": {
           "color": "#2a3f5f"
          },
          "geo": {
           "bgcolor": "white",
           "lakecolor": "white",
           "landcolor": "#E5ECF6",
           "showlakes": true,
           "showland": true,
           "subunitcolor": "white"
          },
          "hoverlabel": {
           "align": "left"
          },
          "hovermode": "closest",
          "mapbox": {
           "style": "light"
          },
          "paper_bgcolor": "white",
          "plot_bgcolor": "#E5ECF6",
          "polar": {
           "angularaxis": {
            "gridcolor": "white",
            "linecolor": "white",
            "ticks": ""
           },
           "bgcolor": "#E5ECF6",
           "radialaxis": {
            "gridcolor": "white",
            "linecolor": "white",
            "ticks": ""
           }
          },
          "scene": {
           "xaxis": {
            "backgroundcolor": "#E5ECF6",
            "gridcolor": "white",
            "gridwidth": 2,
            "linecolor": "white",
            "showbackground": true,
            "ticks": "",
            "zerolinecolor": "white"
           },
           "yaxis": {
            "backgroundcolor": "#E5ECF6",
            "gridcolor": "white",
            "gridwidth": 2,
            "linecolor": "white",
            "showbackground": true,
            "ticks": "",
            "zerolinecolor": "white"
           },
           "zaxis": {
            "backgroundcolor": "#E5ECF6",
            "gridcolor": "white",
            "gridwidth": 2,
            "linecolor": "white",
            "showbackground": true,
            "ticks": "",
            "zerolinecolor": "white"
           }
          },
          "shapedefaults": {
           "line": {
            "color": "#2a3f5f"
           }
          },
          "ternary": {
           "aaxis": {
            "gridcolor": "white",
            "linecolor": "white",
            "ticks": ""
           },
           "baxis": {
            "gridcolor": "white",
            "linecolor": "white",
            "ticks": ""
           },
           "bgcolor": "#E5ECF6",
           "caxis": {
            "gridcolor": "white",
            "linecolor": "white",
            "ticks": ""
           }
          },
          "title": {
           "x": 0.05
          },
          "xaxis": {
           "automargin": true,
           "gridcolor": "white",
           "linecolor": "white",
           "ticks": "",
           "title": {
            "standoff": 15
           },
           "zerolinecolor": "white",
           "zerolinewidth": 2
          },
          "yaxis": {
           "automargin": true,
           "gridcolor": "white",
           "linecolor": "white",
           "ticks": "",
           "title": {
            "standoff": 15
           },
           "zerolinecolor": "white",
           "zerolinewidth": 2
          }
         }
        },
        "title": {
         "text": "Median Price and Occupancy by # of Guests in Miami"
        },
        "xaxis": {
         "title": {
          "text": "# of Guests"
         }
        },
        "yaxis": {
         "title": {
          "text": "Total Price"
         }
        },
        "yaxis2": {
         "overlaying": "y",
         "side": "right",
         "title": {
          "text": "Occupancy Rate"
         }
        }
       }
      }
     },
     "metadata": {},
     "output_type": "display_data"
    }
   ],
   "source": [
    "combined_data_fl_guests = combined_data_fl.groupby(['guest_no'])['median_total_price'].median().reset_index()\n",
    "combined_data_fl_occ = combined_data_fl.groupby(['guest_no'])['occupancy_rate'].median().reset_index()\n",
    "\n",
    "miami_fig = go.Figure(data=[\n",
    "    go.Bar(name='Total Price', x=combined_data_fl_guests['guest_no'], y=combined_data_fl_guests['median_total_price'], yaxis='y', offsetgroup=1),\n",
    "    go.Bar(name='Occupancy Rate', x=combined_data_fl_occ['guest_no'], y=combined_data_fl_occ['occupancy_rate'], yaxis='y2', offsetgroup=2),\n",
    "],\n",
    "    layout={\n",
    "        'xaxis': {'title': '# of Guests'},\n",
    "        'yaxis': {'title': 'Total Price'},\n",
    "        'yaxis2': {'title': 'Occupancy Rate', 'overlaying': 'y', 'side': 'right'}\n",
    "    }\n",
    ")\n",
    "\n",
    "# Change the bar mode\n",
    "miami_fig.update_layout(title_text='Median Price and Occupancy by # of Guests in Miami', barmode='group')\n",
    "#filename = \"newsletter_features/median_price_and_occ_by_guestno_miami.png\"\n",
    "#miami_fig.write_image(filename, engine='kaleido')\n",
    "miami_fig.show()"
   ]
  },
  {
   "cell_type": "code",
   "execution_count": 39,
   "metadata": {},
   "outputs": [
    {
     "data": {
      "application/vnd.plotly.v1+json": {
       "config": {
        "plotlyServerURL": "https://plot.ly"
       },
       "data": [
        {
         "name": "Display Price",
         "type": "bar",
         "x": [
          "33109",
          "33125",
          "33127",
          "33131",
          "33133",
          "33137",
          "33138",
          "33139",
          "33140",
          "33141",
          "33142",
          "33147",
          "33150",
          "33155",
          "33169",
          "33175"
         ],
         "y": [
          315.5,
          169,
          125.5,
          164,
          222.5,
          346,
          262,
          176.5,
          261,
          178.5,
          419,
          68,
          682,
          315,
          325,
          499
         ]
        },
        {
         "name": "Cleaning Fee",
         "type": "bar",
         "x": [
          "33109",
          "33125",
          "33127",
          "33131",
          "33133",
          "33137",
          "33138",
          "33139",
          "33140",
          "33141",
          "33142",
          "33147",
          "33150",
          "33155",
          "33169",
          "33175"
         ],
         "y": [
          160,
          225,
          110,
          120,
          170,
          130,
          180,
          100,
          150,
          117.5,
          null,
          80,
          290,
          150,
          null,
          200
         ]
        },
        {
         "name": "Service Fee",
         "type": "bar",
         "x": [
          "33109",
          "33125",
          "33127",
          "33131",
          "33133",
          "33137",
          "33138",
          "33139",
          "33140",
          "33141",
          "33142",
          "33147",
          "33150",
          "33155",
          "33169",
          "33175"
         ],
         "y": [
          73,
          57,
          34,
          52,
          70.5,
          88,
          68,
          43.5,
          64,
          55,
          155,
          21,
          0,
          66,
          39,
          99
         ]
        }
       ],
       "layout": {
        "barmode": "stack",
        "template": {
         "data": {
          "bar": [
           {
            "error_x": {
             "color": "#2a3f5f"
            },
            "error_y": {
             "color": "#2a3f5f"
            },
            "marker": {
             "line": {
              "color": "#E5ECF6",
              "width": 0.5
             },
             "pattern": {
              "fillmode": "overlay",
              "size": 10,
              "solidity": 0.2
             }
            },
            "type": "bar"
           }
          ],
          "barpolar": [
           {
            "marker": {
             "line": {
              "color": "#E5ECF6",
              "width": 0.5
             },
             "pattern": {
              "fillmode": "overlay",
              "size": 10,
              "solidity": 0.2
             }
            },
            "type": "barpolar"
           }
          ],
          "carpet": [
           {
            "aaxis": {
             "endlinecolor": "#2a3f5f",
             "gridcolor": "white",
             "linecolor": "white",
             "minorgridcolor": "white",
             "startlinecolor": "#2a3f5f"
            },
            "baxis": {
             "endlinecolor": "#2a3f5f",
             "gridcolor": "white",
             "linecolor": "white",
             "minorgridcolor": "white",
             "startlinecolor": "#2a3f5f"
            },
            "type": "carpet"
           }
          ],
          "choropleth": [
           {
            "colorbar": {
             "outlinewidth": 0,
             "ticks": ""
            },
            "type": "choropleth"
           }
          ],
          "contour": [
           {
            "colorbar": {
             "outlinewidth": 0,
             "ticks": ""
            },
            "colorscale": [
             [
              0,
              "#0d0887"
             ],
             [
              0.1111111111111111,
              "#46039f"
             ],
             [
              0.2222222222222222,
              "#7201a8"
             ],
             [
              0.3333333333333333,
              "#9c179e"
             ],
             [
              0.4444444444444444,
              "#bd3786"
             ],
             [
              0.5555555555555556,
              "#d8576b"
             ],
             [
              0.6666666666666666,
              "#ed7953"
             ],
             [
              0.7777777777777778,
              "#fb9f3a"
             ],
             [
              0.8888888888888888,
              "#fdca26"
             ],
             [
              1,
              "#f0f921"
             ]
            ],
            "type": "contour"
           }
          ],
          "contourcarpet": [
           {
            "colorbar": {
             "outlinewidth": 0,
             "ticks": ""
            },
            "type": "contourcarpet"
           }
          ],
          "heatmap": [
           {
            "colorbar": {
             "outlinewidth": 0,
             "ticks": ""
            },
            "colorscale": [
             [
              0,
              "#0d0887"
             ],
             [
              0.1111111111111111,
              "#46039f"
             ],
             [
              0.2222222222222222,
              "#7201a8"
             ],
             [
              0.3333333333333333,
              "#9c179e"
             ],
             [
              0.4444444444444444,
              "#bd3786"
             ],
             [
              0.5555555555555556,
              "#d8576b"
             ],
             [
              0.6666666666666666,
              "#ed7953"
             ],
             [
              0.7777777777777778,
              "#fb9f3a"
             ],
             [
              0.8888888888888888,
              "#fdca26"
             ],
             [
              1,
              "#f0f921"
             ]
            ],
            "type": "heatmap"
           }
          ],
          "heatmapgl": [
           {
            "colorbar": {
             "outlinewidth": 0,
             "ticks": ""
            },
            "colorscale": [
             [
              0,
              "#0d0887"
             ],
             [
              0.1111111111111111,
              "#46039f"
             ],
             [
              0.2222222222222222,
              "#7201a8"
             ],
             [
              0.3333333333333333,
              "#9c179e"
             ],
             [
              0.4444444444444444,
              "#bd3786"
             ],
             [
              0.5555555555555556,
              "#d8576b"
             ],
             [
              0.6666666666666666,
              "#ed7953"
             ],
             [
              0.7777777777777778,
              "#fb9f3a"
             ],
             [
              0.8888888888888888,
              "#fdca26"
             ],
             [
              1,
              "#f0f921"
             ]
            ],
            "type": "heatmapgl"
           }
          ],
          "histogram": [
           {
            "marker": {
             "pattern": {
              "fillmode": "overlay",
              "size": 10,
              "solidity": 0.2
             }
            },
            "type": "histogram"
           }
          ],
          "histogram2d": [
           {
            "colorbar": {
             "outlinewidth": 0,
             "ticks": ""
            },
            "colorscale": [
             [
              0,
              "#0d0887"
             ],
             [
              0.1111111111111111,
              "#46039f"
             ],
             [
              0.2222222222222222,
              "#7201a8"
             ],
             [
              0.3333333333333333,
              "#9c179e"
             ],
             [
              0.4444444444444444,
              "#bd3786"
             ],
             [
              0.5555555555555556,
              "#d8576b"
             ],
             [
              0.6666666666666666,
              "#ed7953"
             ],
             [
              0.7777777777777778,
              "#fb9f3a"
             ],
             [
              0.8888888888888888,
              "#fdca26"
             ],
             [
              1,
              "#f0f921"
             ]
            ],
            "type": "histogram2d"
           }
          ],
          "histogram2dcontour": [
           {
            "colorbar": {
             "outlinewidth": 0,
             "ticks": ""
            },
            "colorscale": [
             [
              0,
              "#0d0887"
             ],
             [
              0.1111111111111111,
              "#46039f"
             ],
             [
              0.2222222222222222,
              "#7201a8"
             ],
             [
              0.3333333333333333,
              "#9c179e"
             ],
             [
              0.4444444444444444,
              "#bd3786"
             ],
             [
              0.5555555555555556,
              "#d8576b"
             ],
             [
              0.6666666666666666,
              "#ed7953"
             ],
             [
              0.7777777777777778,
              "#fb9f3a"
             ],
             [
              0.8888888888888888,
              "#fdca26"
             ],
             [
              1,
              "#f0f921"
             ]
            ],
            "type": "histogram2dcontour"
           }
          ],
          "mesh3d": [
           {
            "colorbar": {
             "outlinewidth": 0,
             "ticks": ""
            },
            "type": "mesh3d"
           }
          ],
          "parcoords": [
           {
            "line": {
             "colorbar": {
              "outlinewidth": 0,
              "ticks": ""
             }
            },
            "type": "parcoords"
           }
          ],
          "pie": [
           {
            "automargin": true,
            "type": "pie"
           }
          ],
          "scatter": [
           {
            "fillpattern": {
             "fillmode": "overlay",
             "size": 10,
             "solidity": 0.2
            },
            "type": "scatter"
           }
          ],
          "scatter3d": [
           {
            "line": {
             "colorbar": {
              "outlinewidth": 0,
              "ticks": ""
             }
            },
            "marker": {
             "colorbar": {
              "outlinewidth": 0,
              "ticks": ""
             }
            },
            "type": "scatter3d"
           }
          ],
          "scattercarpet": [
           {
            "marker": {
             "colorbar": {
              "outlinewidth": 0,
              "ticks": ""
             }
            },
            "type": "scattercarpet"
           }
          ],
          "scattergeo": [
           {
            "marker": {
             "colorbar": {
              "outlinewidth": 0,
              "ticks": ""
             }
            },
            "type": "scattergeo"
           }
          ],
          "scattergl": [
           {
            "marker": {
             "colorbar": {
              "outlinewidth": 0,
              "ticks": ""
             }
            },
            "type": "scattergl"
           }
          ],
          "scattermapbox": [
           {
            "marker": {
             "colorbar": {
              "outlinewidth": 0,
              "ticks": ""
             }
            },
            "type": "scattermapbox"
           }
          ],
          "scatterpolar": [
           {
            "marker": {
             "colorbar": {
              "outlinewidth": 0,
              "ticks": ""
             }
            },
            "type": "scatterpolar"
           }
          ],
          "scatterpolargl": [
           {
            "marker": {
             "colorbar": {
              "outlinewidth": 0,
              "ticks": ""
             }
            },
            "type": "scatterpolargl"
           }
          ],
          "scatterternary": [
           {
            "marker": {
             "colorbar": {
              "outlinewidth": 0,
              "ticks": ""
             }
            },
            "type": "scatterternary"
           }
          ],
          "surface": [
           {
            "colorbar": {
             "outlinewidth": 0,
             "ticks": ""
            },
            "colorscale": [
             [
              0,
              "#0d0887"
             ],
             [
              0.1111111111111111,
              "#46039f"
             ],
             [
              0.2222222222222222,
              "#7201a8"
             ],
             [
              0.3333333333333333,
              "#9c179e"
             ],
             [
              0.4444444444444444,
              "#bd3786"
             ],
             [
              0.5555555555555556,
              "#d8576b"
             ],
             [
              0.6666666666666666,
              "#ed7953"
             ],
             [
              0.7777777777777778,
              "#fb9f3a"
             ],
             [
              0.8888888888888888,
              "#fdca26"
             ],
             [
              1,
              "#f0f921"
             ]
            ],
            "type": "surface"
           }
          ],
          "table": [
           {
            "cells": {
             "fill": {
              "color": "#EBF0F8"
             },
             "line": {
              "color": "white"
             }
            },
            "header": {
             "fill": {
              "color": "#C8D4E3"
             },
             "line": {
              "color": "white"
             }
            },
            "type": "table"
           }
          ]
         },
         "layout": {
          "annotationdefaults": {
           "arrowcolor": "#2a3f5f",
           "arrowhead": 0,
           "arrowwidth": 1
          },
          "autotypenumbers": "strict",
          "coloraxis": {
           "colorbar": {
            "outlinewidth": 0,
            "ticks": ""
           }
          },
          "colorscale": {
           "diverging": [
            [
             0,
             "#8e0152"
            ],
            [
             0.1,
             "#c51b7d"
            ],
            [
             0.2,
             "#de77ae"
            ],
            [
             0.3,
             "#f1b6da"
            ],
            [
             0.4,
             "#fde0ef"
            ],
            [
             0.5,
             "#f7f7f7"
            ],
            [
             0.6,
             "#e6f5d0"
            ],
            [
             0.7,
             "#b8e186"
            ],
            [
             0.8,
             "#7fbc41"
            ],
            [
             0.9,
             "#4d9221"
            ],
            [
             1,
             "#276419"
            ]
           ],
           "sequential": [
            [
             0,
             "#0d0887"
            ],
            [
             0.1111111111111111,
             "#46039f"
            ],
            [
             0.2222222222222222,
             "#7201a8"
            ],
            [
             0.3333333333333333,
             "#9c179e"
            ],
            [
             0.4444444444444444,
             "#bd3786"
            ],
            [
             0.5555555555555556,
             "#d8576b"
            ],
            [
             0.6666666666666666,
             "#ed7953"
            ],
            [
             0.7777777777777778,
             "#fb9f3a"
            ],
            [
             0.8888888888888888,
             "#fdca26"
            ],
            [
             1,
             "#f0f921"
            ]
           ],
           "sequentialminus": [
            [
             0,
             "#0d0887"
            ],
            [
             0.1111111111111111,
             "#46039f"
            ],
            [
             0.2222222222222222,
             "#7201a8"
            ],
            [
             0.3333333333333333,
             "#9c179e"
            ],
            [
             0.4444444444444444,
             "#bd3786"
            ],
            [
             0.5555555555555556,
             "#d8576b"
            ],
            [
             0.6666666666666666,
             "#ed7953"
            ],
            [
             0.7777777777777778,
             "#fb9f3a"
            ],
            [
             0.8888888888888888,
             "#fdca26"
            ],
            [
             1,
             "#f0f921"
            ]
           ]
          },
          "colorway": [
           "#636efa",
           "#EF553B",
           "#00cc96",
           "#ab63fa",
           "#FFA15A",
           "#19d3f3",
           "#FF6692",
           "#B6E880",
           "#FF97FF",
           "#FECB52"
          ],
          "font": {
           "color": "#2a3f5f"
          },
          "geo": {
           "bgcolor": "white",
           "lakecolor": "white",
           "landcolor": "#E5ECF6",
           "showlakes": true,
           "showland": true,
           "subunitcolor": "white"
          },
          "hoverlabel": {
           "align": "left"
          },
          "hovermode": "closest",
          "mapbox": {
           "style": "light"
          },
          "paper_bgcolor": "white",
          "plot_bgcolor": "#E5ECF6",
          "polar": {
           "angularaxis": {
            "gridcolor": "white",
            "linecolor": "white",
            "ticks": ""
           },
           "bgcolor": "#E5ECF6",
           "radialaxis": {
            "gridcolor": "white",
            "linecolor": "white",
            "ticks": ""
           }
          },
          "scene": {
           "xaxis": {
            "backgroundcolor": "#E5ECF6",
            "gridcolor": "white",
            "gridwidth": 2,
            "linecolor": "white",
            "showbackground": true,
            "ticks": "",
            "zerolinecolor": "white"
           },
           "yaxis": {
            "backgroundcolor": "#E5ECF6",
            "gridcolor": "white",
            "gridwidth": 2,
            "linecolor": "white",
            "showbackground": true,
            "ticks": "",
            "zerolinecolor": "white"
           },
           "zaxis": {
            "backgroundcolor": "#E5ECF6",
            "gridcolor": "white",
            "gridwidth": 2,
            "linecolor": "white",
            "showbackground": true,
            "ticks": "",
            "zerolinecolor": "white"
           }
          },
          "shapedefaults": {
           "line": {
            "color": "#2a3f5f"
           }
          },
          "ternary": {
           "aaxis": {
            "gridcolor": "white",
            "linecolor": "white",
            "ticks": ""
           },
           "baxis": {
            "gridcolor": "white",
            "linecolor": "white",
            "ticks": ""
           },
           "bgcolor": "#E5ECF6",
           "caxis": {
            "gridcolor": "white",
            "linecolor": "white",
            "ticks": ""
           }
          },
          "title": {
           "x": 0.05
          },
          "xaxis": {
           "automargin": true,
           "gridcolor": "white",
           "linecolor": "white",
           "ticks": "",
           "title": {
            "standoff": 15
           },
           "zerolinecolor": "white",
           "zerolinewidth": 2
          },
          "yaxis": {
           "automargin": true,
           "gridcolor": "white",
           "linecolor": "white",
           "ticks": "",
           "title": {
            "standoff": 15
           },
           "zerolinecolor": "white",
           "zerolinewidth": 2
          }
         }
        },
        "title": {
         "text": "Median Pricing in Miami by Zip"
        },
        "xaxis": {
         "title": {
          "text": "Zipcode"
         }
        },
        "yaxis": {
         "title": {
          "text": "Total Price ($)"
         }
        }
       }
      }
     },
     "metadata": {},
     "output_type": "display_data"
    }
   ],
   "source": [
    "combined_data_fl['zipcode'] = combined_data_fl.apply(lambda row: set_zipcode(row['lat'], row['lng']), axis=1)\n",
    "\n",
    "miami_zips_cleaning_df = combined_data_fl.groupby(['zipcode'])[['price','median_cleaning_fee','median_service_fee']].median().reset_index()\n",
    "\n",
    "miami_zips_cleaning_fig = go.Figure(data=[\n",
    "    go.Bar(name='Display Price', x=miami_zips_cleaning_df['zipcode'], y=miami_zips_cleaning_df['price']),\n",
    "    go.Bar(name='Cleaning Fee', x=miami_zips_cleaning_df['zipcode'], y=miami_zips_cleaning_df['median_cleaning_fee']),\n",
    "    go.Bar(name='Service Fee', x=miami_zips_cleaning_df['zipcode'], y=miami_zips_cleaning_df['median_service_fee']),\n",
    "],\n",
    "    layout={\n",
    "        'xaxis': {'title': 'Zipcode'},\n",
    "        'yaxis': {'title': 'Total Price ($)'},\n",
    "    }\n",
    ")\n",
    "\n",
    "# Change the bar mode\n",
    "miami_zips_cleaning_fig.update_layout(title_text='Median Pricing in Miami by Zip', barmode='stack')\n",
    "filename = \"newsletter_features/miami_zips_cleaning_fig.png\"\n",
    "miami_zips_cleaning_fig.write_image(filename, engine='kaleido')\n",
    "miami_zips_cleaning_fig.show()"
   ]
  },
  {
   "cell_type": "code",
   "execution_count": 41,
   "metadata": {},
   "outputs": [
    {
     "data": {
      "application/vnd.plotly.v1+json": {
       "config": {
        "plotlyServerURL": "https://plot.ly"
       },
       "data": [
        {
         "name": "Display Price",
         "type": "bar",
         "x": [
          "33109",
          "33125",
          "33127",
          "33131",
          "33133",
          "33137",
          "33138",
          "33139",
          "33140",
          "33141",
          "33142",
          "33147",
          "33150",
          "33155",
          "33169",
          "33175"
         ],
         "y": [
          2.4617070173871785,
          1.4048906794661227,
          0.285648335866145,
          1.0040110698130273,
          -0.0038928573310703096,
          2.847572191887433,
          1.5796272650755787,
          0.3733723980837798,
          4.7512791742629785,
          0.3644772192226628,
          null,
          -0.024817581290397787,
          5.709927731232764,
          0.6906749484611128,
          null,
          4.940073971074446
         ]
        }
       ],
       "layout": {
        "barmode": "stack",
        "template": {
         "data": {
          "bar": [
           {
            "error_x": {
             "color": "#2a3f5f"
            },
            "error_y": {
             "color": "#2a3f5f"
            },
            "marker": {
             "line": {
              "color": "#E5ECF6",
              "width": 0.5
             },
             "pattern": {
              "fillmode": "overlay",
              "size": 10,
              "solidity": 0.2
             }
            },
            "type": "bar"
           }
          ],
          "barpolar": [
           {
            "marker": {
             "line": {
              "color": "#E5ECF6",
              "width": 0.5
             },
             "pattern": {
              "fillmode": "overlay",
              "size": 10,
              "solidity": 0.2
             }
            },
            "type": "barpolar"
           }
          ],
          "carpet": [
           {
            "aaxis": {
             "endlinecolor": "#2a3f5f",
             "gridcolor": "white",
             "linecolor": "white",
             "minorgridcolor": "white",
             "startlinecolor": "#2a3f5f"
            },
            "baxis": {
             "endlinecolor": "#2a3f5f",
             "gridcolor": "white",
             "linecolor": "white",
             "minorgridcolor": "white",
             "startlinecolor": "#2a3f5f"
            },
            "type": "carpet"
           }
          ],
          "choropleth": [
           {
            "colorbar": {
             "outlinewidth": 0,
             "ticks": ""
            },
            "type": "choropleth"
           }
          ],
          "contour": [
           {
            "colorbar": {
             "outlinewidth": 0,
             "ticks": ""
            },
            "colorscale": [
             [
              0,
              "#0d0887"
             ],
             [
              0.1111111111111111,
              "#46039f"
             ],
             [
              0.2222222222222222,
              "#7201a8"
             ],
             [
              0.3333333333333333,
              "#9c179e"
             ],
             [
              0.4444444444444444,
              "#bd3786"
             ],
             [
              0.5555555555555556,
              "#d8576b"
             ],
             [
              0.6666666666666666,
              "#ed7953"
             ],
             [
              0.7777777777777778,
              "#fb9f3a"
             ],
             [
              0.8888888888888888,
              "#fdca26"
             ],
             [
              1,
              "#f0f921"
             ]
            ],
            "type": "contour"
           }
          ],
          "contourcarpet": [
           {
            "colorbar": {
             "outlinewidth": 0,
             "ticks": ""
            },
            "type": "contourcarpet"
           }
          ],
          "heatmap": [
           {
            "colorbar": {
             "outlinewidth": 0,
             "ticks": ""
            },
            "colorscale": [
             [
              0,
              "#0d0887"
             ],
             [
              0.1111111111111111,
              "#46039f"
             ],
             [
              0.2222222222222222,
              "#7201a8"
             ],
             [
              0.3333333333333333,
              "#9c179e"
             ],
             [
              0.4444444444444444,
              "#bd3786"
             ],
             [
              0.5555555555555556,
              "#d8576b"
             ],
             [
              0.6666666666666666,
              "#ed7953"
             ],
             [
              0.7777777777777778,
              "#fb9f3a"
             ],
             [
              0.8888888888888888,
              "#fdca26"
             ],
             [
              1,
              "#f0f921"
             ]
            ],
            "type": "heatmap"
           }
          ],
          "heatmapgl": [
           {
            "colorbar": {
             "outlinewidth": 0,
             "ticks": ""
            },
            "colorscale": [
             [
              0,
              "#0d0887"
             ],
             [
              0.1111111111111111,
              "#46039f"
             ],
             [
              0.2222222222222222,
              "#7201a8"
             ],
             [
              0.3333333333333333,
              "#9c179e"
             ],
             [
              0.4444444444444444,
              "#bd3786"
             ],
             [
              0.5555555555555556,
              "#d8576b"
             ],
             [
              0.6666666666666666,
              "#ed7953"
             ],
             [
              0.7777777777777778,
              "#fb9f3a"
             ],
             [
              0.8888888888888888,
              "#fdca26"
             ],
             [
              1,
              "#f0f921"
             ]
            ],
            "type": "heatmapgl"
           }
          ],
          "histogram": [
           {
            "marker": {
             "pattern": {
              "fillmode": "overlay",
              "size": 10,
              "solidity": 0.2
             }
            },
            "type": "histogram"
           }
          ],
          "histogram2d": [
           {
            "colorbar": {
             "outlinewidth": 0,
             "ticks": ""
            },
            "colorscale": [
             [
              0,
              "#0d0887"
             ],
             [
              0.1111111111111111,
              "#46039f"
             ],
             [
              0.2222222222222222,
              "#7201a8"
             ],
             [
              0.3333333333333333,
              "#9c179e"
             ],
             [
              0.4444444444444444,
              "#bd3786"
             ],
             [
              0.5555555555555556,
              "#d8576b"
             ],
             [
              0.6666666666666666,
              "#ed7953"
             ],
             [
              0.7777777777777778,
              "#fb9f3a"
             ],
             [
              0.8888888888888888,
              "#fdca26"
             ],
             [
              1,
              "#f0f921"
             ]
            ],
            "type": "histogram2d"
           }
          ],
          "histogram2dcontour": [
           {
            "colorbar": {
             "outlinewidth": 0,
             "ticks": ""
            },
            "colorscale": [
             [
              0,
              "#0d0887"
             ],
             [
              0.1111111111111111,
              "#46039f"
             ],
             [
              0.2222222222222222,
              "#7201a8"
             ],
             [
              0.3333333333333333,
              "#9c179e"
             ],
             [
              0.4444444444444444,
              "#bd3786"
             ],
             [
              0.5555555555555556,
              "#d8576b"
             ],
             [
              0.6666666666666666,
              "#ed7953"
             ],
             [
              0.7777777777777778,
              "#fb9f3a"
             ],
             [
              0.8888888888888888,
              "#fdca26"
             ],
             [
              1,
              "#f0f921"
             ]
            ],
            "type": "histogram2dcontour"
           }
          ],
          "mesh3d": [
           {
            "colorbar": {
             "outlinewidth": 0,
             "ticks": ""
            },
            "type": "mesh3d"
           }
          ],
          "parcoords": [
           {
            "line": {
             "colorbar": {
              "outlinewidth": 0,
              "ticks": ""
             }
            },
            "type": "parcoords"
           }
          ],
          "pie": [
           {
            "automargin": true,
            "type": "pie"
           }
          ],
          "scatter": [
           {
            "fillpattern": {
             "fillmode": "overlay",
             "size": 10,
             "solidity": 0.2
            },
            "type": "scatter"
           }
          ],
          "scatter3d": [
           {
            "line": {
             "colorbar": {
              "outlinewidth": 0,
              "ticks": ""
             }
            },
            "marker": {
             "colorbar": {
              "outlinewidth": 0,
              "ticks": ""
             }
            },
            "type": "scatter3d"
           }
          ],
          "scattercarpet": [
           {
            "marker": {
             "colorbar": {
              "outlinewidth": 0,
              "ticks": ""
             }
            },
            "type": "scattercarpet"
           }
          ],
          "scattergeo": [
           {
            "marker": {
             "colorbar": {
              "outlinewidth": 0,
              "ticks": ""
             }
            },
            "type": "scattergeo"
           }
          ],
          "scattergl": [
           {
            "marker": {
             "colorbar": {
              "outlinewidth": 0,
              "ticks": ""
             }
            },
            "type": "scattergl"
           }
          ],
          "scattermapbox": [
           {
            "marker": {
             "colorbar": {
              "outlinewidth": 0,
              "ticks": ""
             }
            },
            "type": "scattermapbox"
           }
          ],
          "scatterpolar": [
           {
            "marker": {
             "colorbar": {
              "outlinewidth": 0,
              "ticks": ""
             }
            },
            "type": "scatterpolar"
           }
          ],
          "scatterpolargl": [
           {
            "marker": {
             "colorbar": {
              "outlinewidth": 0,
              "ticks": ""
             }
            },
            "type": "scatterpolargl"
           }
          ],
          "scatterternary": [
           {
            "marker": {
             "colorbar": {
              "outlinewidth": 0,
              "ticks": ""
             }
            },
            "type": "scatterternary"
           }
          ],
          "surface": [
           {
            "colorbar": {
             "outlinewidth": 0,
             "ticks": ""
            },
            "colorscale": [
             [
              0,
              "#0d0887"
             ],
             [
              0.1111111111111111,
              "#46039f"
             ],
             [
              0.2222222222222222,
              "#7201a8"
             ],
             [
              0.3333333333333333,
              "#9c179e"
             ],
             [
              0.4444444444444444,
              "#bd3786"
             ],
             [
              0.5555555555555556,
              "#d8576b"
             ],
             [
              0.6666666666666666,
              "#ed7953"
             ],
             [
              0.7777777777777778,
              "#fb9f3a"
             ],
             [
              0.8888888888888888,
              "#fdca26"
             ],
             [
              1,
              "#f0f921"
             ]
            ],
            "type": "surface"
           }
          ],
          "table": [
           {
            "cells": {
             "fill": {
              "color": "#EBF0F8"
             },
             "line": {
              "color": "white"
             }
            },
            "header": {
             "fill": {
              "color": "#C8D4E3"
             },
             "line": {
              "color": "white"
             }
            },
            "type": "table"
           }
          ]
         },
         "layout": {
          "annotationdefaults": {
           "arrowcolor": "#2a3f5f",
           "arrowhead": 0,
           "arrowwidth": 1
          },
          "autotypenumbers": "strict",
          "coloraxis": {
           "colorbar": {
            "outlinewidth": 0,
            "ticks": ""
           }
          },
          "colorscale": {
           "diverging": [
            [
             0,
             "#8e0152"
            ],
            [
             0.1,
             "#c51b7d"
            ],
            [
             0.2,
             "#de77ae"
            ],
            [
             0.3,
             "#f1b6da"
            ],
            [
             0.4,
             "#fde0ef"
            ],
            [
             0.5,
             "#f7f7f7"
            ],
            [
             0.6,
             "#e6f5d0"
            ],
            [
             0.7,
             "#b8e186"
            ],
            [
             0.8,
             "#7fbc41"
            ],
            [
             0.9,
             "#4d9221"
            ],
            [
             1,
             "#276419"
            ]
           ],
           "sequential": [
            [
             0,
             "#0d0887"
            ],
            [
             0.1111111111111111,
             "#46039f"
            ],
            [
             0.2222222222222222,
             "#7201a8"
            ],
            [
             0.3333333333333333,
             "#9c179e"
            ],
            [
             0.4444444444444444,
             "#bd3786"
            ],
            [
             0.5555555555555556,
             "#d8576b"
            ],
            [
             0.6666666666666666,
             "#ed7953"
            ],
            [
             0.7777777777777778,
             "#fb9f3a"
            ],
            [
             0.8888888888888888,
             "#fdca26"
            ],
            [
             1,
             "#f0f921"
            ]
           ],
           "sequentialminus": [
            [
             0,
             "#0d0887"
            ],
            [
             0.1111111111111111,
             "#46039f"
            ],
            [
             0.2222222222222222,
             "#7201a8"
            ],
            [
             0.3333333333333333,
             "#9c179e"
            ],
            [
             0.4444444444444444,
             "#bd3786"
            ],
            [
             0.5555555555555556,
             "#d8576b"
            ],
            [
             0.6666666666666666,
             "#ed7953"
            ],
            [
             0.7777777777777778,
             "#fb9f3a"
            ],
            [
             0.8888888888888888,
             "#fdca26"
            ],
            [
             1,
             "#f0f921"
            ]
           ]
          },
          "colorway": [
           "#636efa",
           "#EF553B",
           "#00cc96",
           "#ab63fa",
           "#FFA15A",
           "#19d3f3",
           "#FF6692",
           "#B6E880",
           "#FF97FF",
           "#FECB52"
          ],
          "font": {
           "color": "#2a3f5f"
          },
          "geo": {
           "bgcolor": "white",
           "lakecolor": "white",
           "landcolor": "#E5ECF6",
           "showlakes": true,
           "showland": true,
           "subunitcolor": "white"
          },
          "hoverlabel": {
           "align": "left"
          },
          "hovermode": "closest",
          "mapbox": {
           "style": "light"
          },
          "paper_bgcolor": "white",
          "plot_bgcolor": "#E5ECF6",
          "polar": {
           "angularaxis": {
            "gridcolor": "white",
            "linecolor": "white",
            "ticks": ""
           },
           "bgcolor": "#E5ECF6",
           "radialaxis": {
            "gridcolor": "white",
            "linecolor": "white",
            "ticks": ""
           }
          },
          "scene": {
           "xaxis": {
            "backgroundcolor": "#E5ECF6",
            "gridcolor": "white",
            "gridwidth": 2,
            "linecolor": "white",
            "showbackground": true,
            "ticks": "",
            "zerolinecolor": "white"
           },
           "yaxis": {
            "backgroundcolor": "#E5ECF6",
            "gridcolor": "white",
            "gridwidth": 2,
            "linecolor": "white",
            "showbackground": true,
            "ticks": "",
            "zerolinecolor": "white"
           },
           "zaxis": {
            "backgroundcolor": "#E5ECF6",
            "gridcolor": "white",
            "gridwidth": 2,
            "linecolor": "white",
            "showbackground": true,
            "ticks": "",
            "zerolinecolor": "white"
           }
          },
          "shapedefaults": {
           "line": {
            "color": "#2a3f5f"
           }
          },
          "ternary": {
           "aaxis": {
            "gridcolor": "white",
            "linecolor": "white",
            "ticks": ""
           },
           "baxis": {
            "gridcolor": "white",
            "linecolor": "white",
            "ticks": ""
           },
           "bgcolor": "#E5ECF6",
           "caxis": {
            "gridcolor": "white",
            "linecolor": "white",
            "ticks": ""
           }
          },
          "title": {
           "x": 0.05
          },
          "xaxis": {
           "automargin": true,
           "gridcolor": "white",
           "linecolor": "white",
           "ticks": "",
           "title": {
            "standoff": 15
           },
           "zerolinecolor": "white",
           "zerolinewidth": 2
          },
          "yaxis": {
           "automargin": true,
           "gridcolor": "white",
           "linecolor": "white",
           "ticks": "",
           "title": {
            "standoff": 15
           },
           "zerolinecolor": "white",
           "zerolinewidth": 2
          }
         }
        },
        "title": {
         "text": "Average ROI in Miami by Zip"
        },
        "xaxis": {
         "title": {
          "text": "Zipcode"
         }
        },
        "yaxis": {
         "title": {
          "text": "ROI (1 = 100%)"
         }
        }
       }
      }
     },
     "metadata": {},
     "output_type": "display_data"
    }
   ],
   "source": [
    "miami_zips_roi_df = combined_data_fl.groupby(['zipcode'])[['median_ROI']].mean().reset_index()\n",
    "\n",
    "miami_zips_roi_fig = go.Figure(data=[\n",
    "    go.Bar(name='Display Price', x=miami_zips_roi_df['zipcode'], y=miami_zips_roi_df['median_ROI']),\n",
    "    ],\n",
    "    \n",
    "    layout={\n",
    "        'xaxis': {'title': 'Zipcode'},\n",
    "        'yaxis': {'title': 'ROI (1 = 100%)'},\n",
    "    }\n",
    ")\n",
    "\n",
    "# Change the bar mode\n",
    "miami_zips_roi_fig.update_layout(title_text='Average ROI in Miami by Zip', barmode='stack')\n",
    "filename = \"newsletter_features/miami_zips_roi_fig.png\"\n",
    "miami_zips_roi_fig.write_image(filename, engine='kaleido')\n",
    "miami_zips_roi_fig.show()"
   ]
  },
  {
   "cell_type": "code",
   "execution_count": 10,
   "metadata": {},
   "outputs": [],
   "source": [
    "miami_data = pd.read_csv('miami_data_w_zips.csv')"
   ]
  },
  {
   "cell_type": "code",
   "execution_count": 41,
   "metadata": {},
   "outputs": [],
   "source": [
    "miami_data_pivot_roi_zip_guests = pd.pivot_table(miami_data, values='median_ROI', index=['zipcode'], columns=['guest_no'], aggfunc=np.mean)\n"
   ]
  },
  {
   "cell_type": "code",
   "execution_count": 46,
   "metadata": {},
   "outputs": [
    {
     "data": {
      "text/html": [
       "<div>\n",
       "<style scoped>\n",
       "    .dataframe tbody tr th:only-of-type {\n",
       "        vertical-align: middle;\n",
       "    }\n",
       "\n",
       "    .dataframe tbody tr th {\n",
       "        vertical-align: top;\n",
       "    }\n",
       "\n",
       "    .dataframe thead th {\n",
       "        text-align: right;\n",
       "    }\n",
       "</style>\n",
       "<table border=\"1\" class=\"dataframe\">\n",
       "  <thead>\n",
       "    <tr style=\"text-align: right;\">\n",
       "      <th>guest_no</th>\n",
       "      <th>2.0</th>\n",
       "      <th>3.0</th>\n",
       "      <th>4.0</th>\n",
       "      <th>5.0</th>\n",
       "      <th>6.0</th>\n",
       "      <th>7.0</th>\n",
       "      <th>8.0</th>\n",
       "      <th>10.0</th>\n",
       "    </tr>\n",
       "    <tr>\n",
       "      <th>zipcode</th>\n",
       "      <th></th>\n",
       "      <th></th>\n",
       "      <th></th>\n",
       "      <th></th>\n",
       "      <th></th>\n",
       "      <th></th>\n",
       "      <th></th>\n",
       "      <th></th>\n",
       "    </tr>\n",
       "  </thead>\n",
       "  <tbody>\n",
       "    <tr>\n",
       "      <th>33109</th>\n",
       "      <td>NaN</td>\n",
       "      <td>4.377917</td>\n",
       "      <td>NaN</td>\n",
       "      <td>1.122970</td>\n",
       "      <td>NaN</td>\n",
       "      <td>NaN</td>\n",
       "      <td>NaN</td>\n",
       "      <td>NaN</td>\n",
       "    </tr>\n",
       "    <tr>\n",
       "      <th>33125</th>\n",
       "      <td>NaN</td>\n",
       "      <td>NaN</td>\n",
       "      <td>NaN</td>\n",
       "      <td>NaN</td>\n",
       "      <td>1.693627</td>\n",
       "      <td>NaN</td>\n",
       "      <td>NaN</td>\n",
       "      <td>NaN</td>\n",
       "    </tr>\n",
       "    <tr>\n",
       "      <th>33127</th>\n",
       "      <td>1.231722</td>\n",
       "      <td>NaN</td>\n",
       "      <td>NaN</td>\n",
       "      <td>-0.082953</td>\n",
       "      <td>NaN</td>\n",
       "      <td>NaN</td>\n",
       "      <td>NaN</td>\n",
       "      <td>NaN</td>\n",
       "    </tr>\n",
       "    <tr>\n",
       "      <th>33131</th>\n",
       "      <td>NaN</td>\n",
       "      <td>-0.263365</td>\n",
       "      <td>2.070803</td>\n",
       "      <td>NaN</td>\n",
       "      <td>NaN</td>\n",
       "      <td>NaN</td>\n",
       "      <td>NaN</td>\n",
       "      <td>NaN</td>\n",
       "    </tr>\n",
       "    <tr>\n",
       "      <th>33133</th>\n",
       "      <td>NaN</td>\n",
       "      <td>NaN</td>\n",
       "      <td>NaN</td>\n",
       "      <td>1.283315</td>\n",
       "      <td>NaN</td>\n",
       "      <td>NaN</td>\n",
       "      <td>-0.713628</td>\n",
       "      <td>NaN</td>\n",
       "    </tr>\n",
       "    <tr>\n",
       "      <th>33137</th>\n",
       "      <td>NaN</td>\n",
       "      <td>NaN</td>\n",
       "      <td>NaN</td>\n",
       "      <td>NaN</td>\n",
       "      <td>3.136309</td>\n",
       "      <td>NaN</td>\n",
       "      <td>NaN</td>\n",
       "      <td>NaN</td>\n",
       "    </tr>\n",
       "    <tr>\n",
       "      <th>33138</th>\n",
       "      <td>NaN</td>\n",
       "      <td>NaN</td>\n",
       "      <td>NaN</td>\n",
       "      <td>2.596511</td>\n",
       "      <td>2.236237</td>\n",
       "      <td>NaN</td>\n",
       "      <td>NaN</td>\n",
       "      <td>0.404469</td>\n",
       "    </tr>\n",
       "    <tr>\n",
       "      <th>33139</th>\n",
       "      <td>1.803501</td>\n",
       "      <td>0.457720</td>\n",
       "      <td>-0.002358</td>\n",
       "      <td>-0.321267</td>\n",
       "      <td>NaN</td>\n",
       "      <td>NaN</td>\n",
       "      <td>-0.313516</td>\n",
       "      <td>NaN</td>\n",
       "    </tr>\n",
       "    <tr>\n",
       "      <th>33140</th>\n",
       "      <td>NaN</td>\n",
       "      <td>NaN</td>\n",
       "      <td>5.040015</td>\n",
       "      <td>NaN</td>\n",
       "      <td>NaN</td>\n",
       "      <td>NaN</td>\n",
       "      <td>NaN</td>\n",
       "      <td>NaN</td>\n",
       "    </tr>\n",
       "    <tr>\n",
       "      <th>33141</th>\n",
       "      <td>2.597150</td>\n",
       "      <td>NaN</td>\n",
       "      <td>NaN</td>\n",
       "      <td>NaN</td>\n",
       "      <td>-0.404958</td>\n",
       "      <td>-0.060143</td>\n",
       "      <td>NaN</td>\n",
       "      <td>NaN</td>\n",
       "    </tr>\n",
       "    <tr>\n",
       "      <th>33147</th>\n",
       "      <td>0.263918</td>\n",
       "      <td>NaN</td>\n",
       "      <td>NaN</td>\n",
       "      <td>NaN</td>\n",
       "      <td>NaN</td>\n",
       "      <td>NaN</td>\n",
       "      <td>NaN</td>\n",
       "      <td>NaN</td>\n",
       "    </tr>\n",
       "    <tr>\n",
       "      <th>33150</th>\n",
       "      <td>NaN</td>\n",
       "      <td>NaN</td>\n",
       "      <td>NaN</td>\n",
       "      <td>NaN</td>\n",
       "      <td>NaN</td>\n",
       "      <td>NaN</td>\n",
       "      <td>5.998664</td>\n",
       "      <td>NaN</td>\n",
       "    </tr>\n",
       "    <tr>\n",
       "      <th>33155</th>\n",
       "      <td>NaN</td>\n",
       "      <td>NaN</td>\n",
       "      <td>NaN</td>\n",
       "      <td>NaN</td>\n",
       "      <td>NaN</td>\n",
       "      <td>0.979412</td>\n",
       "      <td>NaN</td>\n",
       "      <td>NaN</td>\n",
       "    </tr>\n",
       "    <tr>\n",
       "      <th>33175</th>\n",
       "      <td>NaN</td>\n",
       "      <td>NaN</td>\n",
       "      <td>NaN</td>\n",
       "      <td>5.228810</td>\n",
       "      <td>NaN</td>\n",
       "      <td>NaN</td>\n",
       "      <td>NaN</td>\n",
       "      <td>NaN</td>\n",
       "    </tr>\n",
       "  </tbody>\n",
       "</table>\n",
       "</div>"
      ],
      "text/plain": [
       "guest_no      2.0       3.0       4.0       5.0       6.0       7.0   \\\n",
       "zipcode                                                                \n",
       "33109          NaN  4.377917       NaN  1.122970       NaN       NaN   \n",
       "33125          NaN       NaN       NaN       NaN  1.693627       NaN   \n",
       "33127     1.231722       NaN       NaN -0.082953       NaN       NaN   \n",
       "33131          NaN -0.263365  2.070803       NaN       NaN       NaN   \n",
       "33133          NaN       NaN       NaN  1.283315       NaN       NaN   \n",
       "33137          NaN       NaN       NaN       NaN  3.136309       NaN   \n",
       "33138          NaN       NaN       NaN  2.596511  2.236237       NaN   \n",
       "33139     1.803501  0.457720 -0.002358 -0.321267       NaN       NaN   \n",
       "33140          NaN       NaN  5.040015       NaN       NaN       NaN   \n",
       "33141     2.597150       NaN       NaN       NaN -0.404958 -0.060143   \n",
       "33147     0.263918       NaN       NaN       NaN       NaN       NaN   \n",
       "33150          NaN       NaN       NaN       NaN       NaN       NaN   \n",
       "33155          NaN       NaN       NaN       NaN       NaN  0.979412   \n",
       "33175          NaN       NaN       NaN  5.228810       NaN       NaN   \n",
       "\n",
       "guest_no      8.0       10.0  \n",
       "zipcode                       \n",
       "33109          NaN       NaN  \n",
       "33125          NaN       NaN  \n",
       "33127          NaN       NaN  \n",
       "33131          NaN       NaN  \n",
       "33133    -0.713628       NaN  \n",
       "33137          NaN       NaN  \n",
       "33138          NaN  0.404469  \n",
       "33139    -0.313516       NaN  \n",
       "33140          NaN       NaN  \n",
       "33141          NaN       NaN  \n",
       "33147          NaN       NaN  \n",
       "33150     5.998664       NaN  \n",
       "33155          NaN       NaN  \n",
       "33175          NaN       NaN  "
      ]
     },
     "execution_count": 46,
     "metadata": {},
     "output_type": "execute_result"
    }
   ],
   "source": [
    "miami_data_pivot_roi_zip_guests"
   ]
  },
  {
   "cell_type": "code",
   "execution_count": 44,
   "metadata": {},
   "outputs": [],
   "source": [
    "miami_data_pivot_roi_zip_guests.to_html(open('newsletter_features/miami_data_pivot_roi_zip_guests.html','w'))"
   ]
  },
  {
   "cell_type": "code",
   "execution_count": 45,
   "metadata": {},
   "outputs": [
    {
     "data": {
      "image/png": "[encoded data removed]",
      "text/plain": [
       "<Figure size 432x288 with 1 Axes>"
      ]
     },
     "metadata": {
      "needs_background": "light"
     },
     "output_type": "display_data"
    }
   ],
   "source": [
    "plt.plot(data=miami_data_pivot_roi_zip_guests, table=True)\n",
    "plt.savefig('newsletter_features/miami_data_pivot_roi_zip_guests.png')"
   ]
  },
  {
   "cell_type": "code",
   "execution_count": 37,
   "metadata": {},
   "outputs": [
    {
     "ename": "AttributeError",
     "evalue": "'Index' object has no attribute 'index'",
     "output_type": "error",
     "traceback": [
      "\u001b[1;31m---------------------------------------------------------------------------\u001b[0m",
      "\u001b[1;31mAttributeError\u001b[0m                            Traceback (most recent call last)",
      "\u001b[1;32mc:\\Users\\mattg\\Desktop\\Hobbies\\airbnb_reports\\table_generation.ipynb Cell 29'\u001b[0m in \u001b[0;36m<cell line: 4>\u001b[1;34m()\u001b[0m\n\u001b[0;32m      <a href='vscode-notebook-cell:/c%3A/Users/mattg/Desktop/Hobbies/airbnb_reports/table_generation.ipynb#ch0000032?line=0'>1</a>\u001b[0m \u001b[39m#miami_data_pivot_roi_zip_guests = miami_data_pivot_roi_zip_guests.reset_index()\u001b[39;00m\n\u001b[0;32m      <a href='vscode-notebook-cell:/c%3A/Users/mattg/Desktop/Hobbies/airbnb_reports/table_generation.ipynb#ch0000032?line=1'>2</a>\u001b[0m \n\u001b[0;32m      <a href='vscode-notebook-cell:/c%3A/Users/mattg/Desktop/Hobbies/airbnb_reports/table_generation.ipynb#ch0000032?line=2'>3</a>\u001b[0m \u001b[39m#get header of data\u001b[39;00m\n\u001b[1;32m----> <a href='vscode-notebook-cell:/c%3A/Users/mattg/Desktop/Hobbies/airbnb_reports/table_generation.ipynb#ch0000032?line=3'>4</a>\u001b[0m miami_data_pivot_roi_zip_guests \u001b[39m=\u001b[39m miami_data_pivot_roi_zip_guests\u001b[39m.\u001b[39;49mindex\u001b[39m.\u001b[39mmap(\u001b[39mstr\u001b[39m)\n\u001b[0;32m      <a href='vscode-notebook-cell:/c%3A/Users/mattg/Desktop/Hobbies/airbnb_reports/table_generation.ipynb#ch0000032?line=4'>5</a>\u001b[0m data_columns \u001b[39m=\u001b[39m \u001b[39mlist\u001b[39m(miami_data_pivot_roi_zip_guests[\u001b[39m0\u001b[39m]\u001b[39m.\u001b[39mkeys())\n\u001b[0;32m      <a href='vscode-notebook-cell:/c%3A/Users/mattg/Desktop/Hobbies/airbnb_reports/table_generation.ipynb#ch0000032?line=5'>6</a>\u001b[0m \u001b[39m#get values of data and put them in a list\u001b[39;00m\n",
      "\u001b[1;31mAttributeError\u001b[0m: 'Index' object has no attribute 'index'"
     ]
    }
   ],
   "source": [
    "#miami_data_pivot_roi_zip_guests = miami_data_pivot_roi_zip_guests.reset_index()\n",
    "\n",
    "#get header of data\n",
    "miami_data_pivot_roi_zip_guests = miami_data_pivot_roi_zip_guests.index.map(str)\n",
    "data_columns = list(miami_data_pivot_roi_zip_guests[0].keys())\n",
    "#get values of data and put them in a list\n",
    "data_values = list(i[j] for j in data_columns for i in miami_data_pivot_roi_zip_guests) # I used comprehension expression\n",
    "#reshape the list because of plotly ordering type.\n",
    "data_values = np.reshape(data_values, (-1, len(miami_data_pivot_roi_zip_guests))) \n",
    "\n",
    "#figure for plotly\n",
    "fig = go.Figure(data=[go.Table(\n",
    "    header=dict(values=data_columns,\n",
    "                fill_color='paleturquoise',\n",
    "                align='left'),\n",
    "    cells=dict(values=data_values,\n",
    "               fill_color='lavender',\n",
    "               align='left'))\n",
    "])\n",
    "\n",
    "#show figure\n",
    "fig.show()"
   ]
  },
  {
   "cell_type": "code",
   "execution_count": 11,
   "metadata": {},
   "outputs": [
    {
     "data": {
      "text/html": [
       "<div>\n",
       "<style scoped>\n",
       "    .dataframe tbody tr th:only-of-type {\n",
       "        vertical-align: middle;\n",
       "    }\n",
       "\n",
       "    .dataframe tbody tr th {\n",
       "        vertical-align: top;\n",
       "    }\n",
       "\n",
       "    .dataframe thead th {\n",
       "        text-align: right;\n",
       "    }\n",
       "</style>\n",
       "<table border=\"1\" class=\"dataframe\">\n",
       "  <thead>\n",
       "    <tr style=\"text-align: right;\">\n",
       "      <th></th>\n",
       "      <th>Unnamed: 0.1</th>\n",
       "      <th>Unnamed: 0</th>\n",
       "      <th>index</th>\n",
       "      <th>id</th>\n",
       "      <th>name</th>\n",
       "      <th>price</th>\n",
       "      <th>displayPrice</th>\n",
       "      <th>monthlyPriceFactor</th>\n",
       "      <th>weeklyPriceFactor</th>\n",
       "      <th>avgRating</th>\n",
       "      <th>...</th>\n",
       "      <th>state</th>\n",
       "      <th>state_name</th>\n",
       "      <th>state_id</th>\n",
       "      <th>avg_home_value</th>\n",
       "      <th>occupancy_rate</th>\n",
       "      <th>median_cleaning_fee</th>\n",
       "      <th>median_service_fee</th>\n",
       "      <th>median_total_price</th>\n",
       "      <th>avg_30_yr_mort</th>\n",
       "      <th>median_ROI</th>\n",
       "    </tr>\n",
       "  </thead>\n",
       "  <tbody>\n",
       "    <tr>\n",
       "      <th>232</th>\n",
       "      <td>232</td>\n",
       "      <td>2</td>\n",
       "      <td>2</td>\n",
       "      <td>53231187.0</td>\n",
       "      <td>Modern Apartment in excellent location</td>\n",
       "      <td>161.0</td>\n",
       "      <td>$161</td>\n",
       "      <td>1.00</td>\n",
       "      <td>0.93</td>\n",
       "      <td>4.64</td>\n",
       "      <td>...</td>\n",
       "      <td>Florida</td>\n",
       "      <td>Florida</td>\n",
       "      <td>FL</td>\n",
       "      <td>685872.0</td>\n",
       "      <td>0.894476</td>\n",
       "      <td>110.0</td>\n",
       "      <td>38.0</td>\n",
       "      <td>309.0</td>\n",
       "      <td>3681.91</td>\n",
       "      <td>1.283315</td>\n",
       "    </tr>\n",
       "    <tr>\n",
       "      <th>233</th>\n",
       "      <td>233</td>\n",
       "      <td>3</td>\n",
       "      <td>3</td>\n",
       "      <td>52364652.0</td>\n",
       "      <td>Cozy Modern Home, Coral Gables / Coconut Grove</td>\n",
       "      <td>284.0</td>\n",
       "      <td>$284</td>\n",
       "      <td>0.85</td>\n",
       "      <td>0.93</td>\n",
       "      <td>5.00</td>\n",
       "      <td>...</td>\n",
       "      <td>Florida</td>\n",
       "      <td>Florida</td>\n",
       "      <td>FL</td>\n",
       "      <td>1182474.0</td>\n",
       "      <td>0.096863</td>\n",
       "      <td>230.0</td>\n",
       "      <td>103.0</td>\n",
       "      <td>617.0</td>\n",
       "      <td>6347.78</td>\n",
       "      <td>-0.713628</td>\n",
       "    </tr>\n",
       "    <tr>\n",
       "      <th>234</th>\n",
       "      <td>234</td>\n",
       "      <td>6</td>\n",
       "      <td>6</td>\n",
       "      <td>29828422.0</td>\n",
       "      <td>Water view, Brickell, Huge balcony, Free Parking.</td>\n",
       "      <td>164.0</td>\n",
       "      <td>$164</td>\n",
       "      <td>1.00</td>\n",
       "      <td>0.95</td>\n",
       "      <td>4.85</td>\n",
       "      <td>...</td>\n",
       "      <td>Florida</td>\n",
       "      <td>Florida</td>\n",
       "      <td>FL</td>\n",
       "      <td>425586.0</td>\n",
       "      <td>0.418118</td>\n",
       "      <td>150.0</td>\n",
       "      <td>52.0</td>\n",
       "      <td>366.0</td>\n",
       "      <td>2284.64</td>\n",
       "      <td>1.037386</td>\n",
       "    </tr>\n",
       "    <tr>\n",
       "      <th>235</th>\n",
       "      <td>235</td>\n",
       "      <td>12</td>\n",
       "      <td>12</td>\n",
       "      <td>39925347.0</td>\n",
       "      <td>✶ Modern Sky Residence w/ City &amp; Ocean Views✶</td>\n",
       "      <td>299.0</td>\n",
       "      <td>$299</td>\n",
       "      <td>0.80</td>\n",
       "      <td>0.80</td>\n",
       "      <td>4.98</td>\n",
       "      <td>...</td>\n",
       "      <td>Florida</td>\n",
       "      <td>Florida</td>\n",
       "      <td>FL</td>\n",
       "      <td>425586.0</td>\n",
       "      <td>0.635616</td>\n",
       "      <td>120.0</td>\n",
       "      <td>66.0</td>\n",
       "      <td>485.0</td>\n",
       "      <td>2284.64</td>\n",
       "      <td>3.104221</td>\n",
       "    </tr>\n",
       "    <tr>\n",
       "      <th>236</th>\n",
       "      <td>236</td>\n",
       "      <td>7</td>\n",
       "      <td>7</td>\n",
       "      <td>49032537.0</td>\n",
       "      <td>Lux Hilton Bentley Beachfront Apt Best Location</td>\n",
       "      <td>355.0</td>\n",
       "      <td>$355</td>\n",
       "      <td>1.00</td>\n",
       "      <td>1.00</td>\n",
       "      <td>4.85</td>\n",
       "      <td>...</td>\n",
       "      <td>Florida</td>\n",
       "      <td>Florida</td>\n",
       "      <td>FL</td>\n",
       "      <td>315148.0</td>\n",
       "      <td>0.460186</td>\n",
       "      <td>200.0</td>\n",
       "      <td>95.0</td>\n",
       "      <td>650.0</td>\n",
       "      <td>1691.78</td>\n",
       "      <td>4.377917</td>\n",
       "    </tr>\n",
       "    <tr>\n",
       "      <th>237</th>\n",
       "      <td>237</td>\n",
       "      <td>8</td>\n",
       "      <td>8</td>\n",
       "      <td>49567533.0</td>\n",
       "      <td>South of Fifth •GYM POOL &amp; SPA•BEACHFRONT BUIL...</td>\n",
       "      <td>336.0</td>\n",
       "      <td>$336</td>\n",
       "      <td>1.00</td>\n",
       "      <td>1.00</td>\n",
       "      <td>4.90</td>\n",
       "      <td>...</td>\n",
       "      <td>Florida</td>\n",
       "      <td>Florida</td>\n",
       "      <td>FL</td>\n",
       "      <td>315148.0</td>\n",
       "      <td>0.225365</td>\n",
       "      <td>115.0</td>\n",
       "      <td>90.0</td>\n",
       "      <td>541.0</td>\n",
       "      <td>1691.78</td>\n",
       "      <td>1.192051</td>\n",
       "    </tr>\n",
       "    <tr>\n",
       "      <th>238</th>\n",
       "      <td>238</td>\n",
       "      <td>15</td>\n",
       "      <td>15</td>\n",
       "      <td>269204.0</td>\n",
       "      <td>5 STAR HILTON BENTLEY BEACH! SOBE!!</td>\n",
       "      <td>238.0</td>\n",
       "      <td>$238</td>\n",
       "      <td>0.98</td>\n",
       "      <td>1.00</td>\n",
       "      <td>4.61</td>\n",
       "      <td>...</td>\n",
       "      <td>Florida</td>\n",
       "      <td>Florida</td>\n",
       "      <td>FL</td>\n",
       "      <td>315148.0</td>\n",
       "      <td>0.880778</td>\n",
       "      <td>150.0</td>\n",
       "      <td>51.0</td>\n",
       "      <td>439.0</td>\n",
       "      <td>1691.78</td>\n",
       "      <td>5.951821</td>\n",
       "    </tr>\n",
       "    <tr>\n",
       "      <th>239</th>\n",
       "      <td>239</td>\n",
       "      <td>18</td>\n",
       "      <td>18</td>\n",
       "      <td>31328359.0</td>\n",
       "      <td>ONLY UNIQUE PEOPLE ALLOWED TO STAY HERE-Sobe Flat</td>\n",
       "      <td>136.0</td>\n",
       "      <td>$136</td>\n",
       "      <td>0.62</td>\n",
       "      <td>1.00</td>\n",
       "      <td>4.83</td>\n",
       "      <td>...</td>\n",
       "      <td>Florida</td>\n",
       "      <td>Florida</td>\n",
       "      <td>FL</td>\n",
       "      <td>1823034.0</td>\n",
       "      <td>0.535395</td>\n",
       "      <td>80.0</td>\n",
       "      <td>30.0</td>\n",
       "      <td>246.0</td>\n",
       "      <td>9786.44</td>\n",
       "      <td>-0.590648</td>\n",
       "    </tr>\n",
       "    <tr>\n",
       "      <th>240</th>\n",
       "      <td>240</td>\n",
       "      <td>19</td>\n",
       "      <td>19</td>\n",
       "      <td>51171259.0</td>\n",
       "      <td>South of Fifth Spacious 2 Bedroom With Pool</td>\n",
       "      <td>276.0</td>\n",
       "      <td>$276</td>\n",
       "      <td>0.95</td>\n",
       "      <td>0.98</td>\n",
       "      <td>4.25</td>\n",
       "      <td>...</td>\n",
       "      <td>Florida</td>\n",
       "      <td>Florida</td>\n",
       "      <td>FL</td>\n",
       "      <td>600776.0</td>\n",
       "      <td>0.503579</td>\n",
       "      <td>120.0</td>\n",
       "      <td>51.0</td>\n",
       "      <td>447.0</td>\n",
       "      <td>3225.10</td>\n",
       "      <td>1.122970</td>\n",
       "    </tr>\n",
       "    <tr>\n",
       "      <th>241</th>\n",
       "      <td>241</td>\n",
       "      <td>9</td>\n",
       "      <td>9</td>\n",
       "      <td>37218395.0</td>\n",
       "      <td>Miami, Brickell, Downtown, Stylish Condo</td>\n",
       "      <td>162.0</td>\n",
       "      <td>$162</td>\n",
       "      <td>1.00</td>\n",
       "      <td>1.00</td>\n",
       "      <td>4.77</td>\n",
       "      <td>...</td>\n",
       "      <td>Florida</td>\n",
       "      <td>Florida</td>\n",
       "      <td>FL</td>\n",
       "      <td>425586.0</td>\n",
       "      <td>0.199028</td>\n",
       "      <td>75.0</td>\n",
       "      <td>41.0</td>\n",
       "      <td>278.0</td>\n",
       "      <td>2284.64</td>\n",
       "      <td>-0.263365</td>\n",
       "    </tr>\n",
       "    <tr>\n",
       "      <th>242</th>\n",
       "      <td>242</td>\n",
       "      <td>5</td>\n",
       "      <td>5</td>\n",
       "      <td>21893890.0</td>\n",
       "      <td>Amazing  &amp; Long Term Stay  Miami Beach Studio</td>\n",
       "      <td>55.0</td>\n",
       "      <td>$55</td>\n",
       "      <td>0.95</td>\n",
       "      <td>1.00</td>\n",
       "      <td>NaN</td>\n",
       "      <td>...</td>\n",
       "      <td>Florida</td>\n",
       "      <td>Florida</td>\n",
       "      <td>FL</td>\n",
       "      <td>2447709.0</td>\n",
       "      <td>0.199293</td>\n",
       "      <td>100.0</td>\n",
       "      <td>22.0</td>\n",
       "      <td>177.0</td>\n",
       "      <td>13139.83</td>\n",
       "      <td>-0.918344</td>\n",
       "    </tr>\n",
       "    <tr>\n",
       "      <th>243</th>\n",
       "      <td>243</td>\n",
       "      <td>14</td>\n",
       "      <td>14</td>\n",
       "      <td>26631720.0</td>\n",
       "      <td>30% OFF❤ Luxury Townhouse w/Rooftop BBQ &amp; Hot Tub</td>\n",
       "      <td>1475.0</td>\n",
       "      <td>$1,475</td>\n",
       "      <td>0.80</td>\n",
       "      <td>0.97</td>\n",
       "      <td>4.87</td>\n",
       "      <td>...</td>\n",
       "      <td>Florida</td>\n",
       "      <td>Florida</td>\n",
       "      <td>FL</td>\n",
       "      <td>5005811.0</td>\n",
       "      <td>0.302790</td>\n",
       "      <td>320.0</td>\n",
       "      <td>208.0</td>\n",
       "      <td>2003.0</td>\n",
       "      <td>26872.28</td>\n",
       "      <td>-0.313516</td>\n",
       "    </tr>\n",
       "    <tr>\n",
       "      <th>244</th>\n",
       "      <td>244</td>\n",
       "      <td>16</td>\n",
       "      <td>16</td>\n",
       "      <td>45434549.0</td>\n",
       "      <td>Miami Beach stylish Studio</td>\n",
       "      <td>1700.0</td>\n",
       "      <td>$1,700</td>\n",
       "      <td>1.00</td>\n",
       "      <td>1.00</td>\n",
       "      <td>NaN</td>\n",
       "      <td>...</td>\n",
       "      <td>Florida</td>\n",
       "      <td>Florida</td>\n",
       "      <td>FL</td>\n",
       "      <td>NaN</td>\n",
       "      <td>0.960583</td>\n",
       "      <td>NaN</td>\n",
       "      <td>240.0</td>\n",
       "      <td>NaN</td>\n",
       "      <td>NaN</td>\n",
       "      <td>NaN</td>\n",
       "    </tr>\n",
       "    <tr>\n",
       "      <th>245</th>\n",
       "      <td>245</td>\n",
       "      <td>6</td>\n",
       "      <td>6</td>\n",
       "      <td>45054625.0</td>\n",
       "      <td>Collins Ave. - Touchless Petite King Room - So...</td>\n",
       "      <td>105.0</td>\n",
       "      <td>$105</td>\n",
       "      <td>0.90</td>\n",
       "      <td>0.95</td>\n",
       "      <td>4.44</td>\n",
       "      <td>...</td>\n",
       "      <td>Florida</td>\n",
       "      <td>Florida</td>\n",
       "      <td>FL</td>\n",
       "      <td>315148.0</td>\n",
       "      <td>0.953425</td>\n",
       "      <td>80.0</td>\n",
       "      <td>35.0</td>\n",
       "      <td>220.0</td>\n",
       "      <td>1691.78</td>\n",
       "      <td>2.771176</td>\n",
       "    </tr>\n",
       "    <tr>\n",
       "      <th>246</th>\n",
       "      <td>246</td>\n",
       "      <td>17</td>\n",
       "      <td>17</td>\n",
       "      <td>31294674.0</td>\n",
       "      <td>South Beach: 5 min walk to the beach &amp; Ocean D...</td>\n",
       "      <td>125.0</td>\n",
       "      <td>$125</td>\n",
       "      <td>0.70</td>\n",
       "      <td>1.00</td>\n",
       "      <td>4.67</td>\n",
       "      <td>...</td>\n",
       "      <td>Florida</td>\n",
       "      <td>Florida</td>\n",
       "      <td>FL</td>\n",
       "      <td>600776.0</td>\n",
       "      <td>0.960583</td>\n",
       "      <td>80.0</td>\n",
       "      <td>29.0</td>\n",
       "      <td>234.0</td>\n",
       "      <td>3225.10</td>\n",
       "      <td>1.119919</td>\n",
       "    </tr>\n",
       "    <tr>\n",
       "      <th>247</th>\n",
       "      <td>247</td>\n",
       "      <td>5</td>\n",
       "      <td>5</td>\n",
       "      <td>32044795.0</td>\n",
       "      <td>🏝 Large &amp; Cosy Loft @ the ❤️ of South Beach!</td>\n",
       "      <td>160.0</td>\n",
       "      <td>$160</td>\n",
       "      <td>0.90</td>\n",
       "      <td>1.00</td>\n",
       "      <td>4.72</td>\n",
       "      <td>...</td>\n",
       "      <td>Florida</td>\n",
       "      <td>Florida</td>\n",
       "      <td>FL</td>\n",
       "      <td>315148.0</td>\n",
       "      <td>0.357667</td>\n",
       "      <td>100.0</td>\n",
       "      <td>32.0</td>\n",
       "      <td>292.0</td>\n",
       "      <td>1691.78</td>\n",
       "      <td>0.877713</td>\n",
       "    </tr>\n",
       "    <tr>\n",
       "      <th>248</th>\n",
       "      <td>248</td>\n",
       "      <td>13</td>\n",
       "      <td>13</td>\n",
       "      <td>30113457.0</td>\n",
       "      <td>Miami Cosi</td>\n",
       "      <td>168.0</td>\n",
       "      <td>$168</td>\n",
       "      <td>1.00</td>\n",
       "      <td>1.00</td>\n",
       "      <td>4.52</td>\n",
       "      <td>...</td>\n",
       "      <td>Florida</td>\n",
       "      <td>Florida</td>\n",
       "      <td>FL</td>\n",
       "      <td>1823034.0</td>\n",
       "      <td>0.394874</td>\n",
       "      <td>120.0</td>\n",
       "      <td>48.0</td>\n",
       "      <td>336.0</td>\n",
       "      <td>9786.44</td>\n",
       "      <td>-0.587632</td>\n",
       "    </tr>\n",
       "    <tr>\n",
       "      <th>249</th>\n",
       "      <td>249</td>\n",
       "      <td>14</td>\n",
       "      <td>14</td>\n",
       "      <td>31304301.0</td>\n",
       "      <td>1 Bed/1Bath. South Beach. Great Location.</td>\n",
       "      <td>149.0</td>\n",
       "      <td>$149</td>\n",
       "      <td>1.00</td>\n",
       "      <td>1.00</td>\n",
       "      <td>4.82</td>\n",
       "      <td>...</td>\n",
       "      <td>Florida</td>\n",
       "      <td>Florida</td>\n",
       "      <td>FL</td>\n",
       "      <td>600776.0</td>\n",
       "      <td>0.140698</td>\n",
       "      <td>100.0</td>\n",
       "      <td>34.0</td>\n",
       "      <td>283.0</td>\n",
       "      <td>3225.10</td>\n",
       "      <td>-0.624471</td>\n",
       "    </tr>\n",
       "    <tr>\n",
       "      <th>250</th>\n",
       "      <td>250</td>\n",
       "      <td>15</td>\n",
       "      <td>15</td>\n",
       "      <td>37054390.0</td>\n",
       "      <td>Super 💙 Amazing Deal Direct 🏖️ Ocean Dr Sleeps5</td>\n",
       "      <td>185.0</td>\n",
       "      <td>$185</td>\n",
       "      <td>1.00</td>\n",
       "      <td>1.00</td>\n",
       "      <td>4.59</td>\n",
       "      <td>...</td>\n",
       "      <td>Florida</td>\n",
       "      <td>Florida</td>\n",
       "      <td>FL</td>\n",
       "      <td>1823034.0</td>\n",
       "      <td>0.720725</td>\n",
       "      <td>69.0</td>\n",
       "      <td>49.0</td>\n",
       "      <td>303.0</td>\n",
       "      <td>9786.44</td>\n",
       "      <td>-0.321267</td>\n",
       "    </tr>\n",
       "    <tr>\n",
       "      <th>251</th>\n",
       "      <td>251</td>\n",
       "      <td>5</td>\n",
       "      <td>5</td>\n",
       "      <td>49924715.0</td>\n",
       "      <td>Beach apartment 2 blocks from mall &amp; restaurants!</td>\n",
       "      <td>350.0</td>\n",
       "      <td>$350</td>\n",
       "      <td>1.00</td>\n",
       "      <td>1.00</td>\n",
       "      <td>4.77</td>\n",
       "      <td>...</td>\n",
       "      <td>Florida</td>\n",
       "      <td>Florida</td>\n",
       "      <td>FL</td>\n",
       "      <td>5005811.0</td>\n",
       "      <td>0.608573</td>\n",
       "      <td>150.0</td>\n",
       "      <td>64.0</td>\n",
       "      <td>564.0</td>\n",
       "      <td>26872.28</td>\n",
       "      <td>-0.611493</td>\n",
       "    </tr>\n",
       "    <tr>\n",
       "      <th>252</th>\n",
       "      <td>252</td>\n",
       "      <td>8</td>\n",
       "      <td>8</td>\n",
       "      <td>45564949.0</td>\n",
       "      <td>In The Heart of South Beach! Garden, Picnic Ar...</td>\n",
       "      <td>325.0</td>\n",
       "      <td>$325</td>\n",
       "      <td>1.00</td>\n",
       "      <td>1.00</td>\n",
       "      <td>NaN</td>\n",
       "      <td>...</td>\n",
       "      <td>Florida</td>\n",
       "      <td>Florida</td>\n",
       "      <td>FL</td>\n",
       "      <td>315148.0</td>\n",
       "      <td>0.825806</td>\n",
       "      <td>NaN</td>\n",
       "      <td>39.0</td>\n",
       "      <td>NaN</td>\n",
       "      <td>1691.78</td>\n",
       "      <td>NaN</td>\n",
       "    </tr>\n",
       "    <tr>\n",
       "      <th>253</th>\n",
       "      <td>253</td>\n",
       "      <td>13</td>\n",
       "      <td>13</td>\n",
       "      <td>44701853.0</td>\n",
       "      <td>Your Exciting Miami Beach Vacation Starts Here...</td>\n",
       "      <td>325.0</td>\n",
       "      <td>$325</td>\n",
       "      <td>1.00</td>\n",
       "      <td>1.00</td>\n",
       "      <td>NaN</td>\n",
       "      <td>...</td>\n",
       "      <td>Florida</td>\n",
       "      <td>Florida</td>\n",
       "      <td>FL</td>\n",
       "      <td>315148.0</td>\n",
       "      <td>0.825806</td>\n",
       "      <td>NaN</td>\n",
       "      <td>39.0</td>\n",
       "      <td>NaN</td>\n",
       "      <td>1691.78</td>\n",
       "      <td>NaN</td>\n",
       "    </tr>\n",
       "    <tr>\n",
       "      <th>254</th>\n",
       "      <td>254</td>\n",
       "      <td>17</td>\n",
       "      <td>17</td>\n",
       "      <td>42778398.0</td>\n",
       "      <td>Awesome House With Jacuzzi in the Heart of Miami</td>\n",
       "      <td>169.0</td>\n",
       "      <td>$169</td>\n",
       "      <td>0.85</td>\n",
       "      <td>0.95</td>\n",
       "      <td>4.98</td>\n",
       "      <td>...</td>\n",
       "      <td>Florida</td>\n",
       "      <td>Florida</td>\n",
       "      <td>FL</td>\n",
       "      <td>425586.0</td>\n",
       "      <td>0.448608</td>\n",
       "      <td>225.0</td>\n",
       "      <td>57.0</td>\n",
       "      <td>451.0</td>\n",
       "      <td>2284.64</td>\n",
       "      <td>1.693627</td>\n",
       "    </tr>\n",
       "    <tr>\n",
       "      <th>255</th>\n",
       "      <td>255</td>\n",
       "      <td>16</td>\n",
       "      <td>16</td>\n",
       "      <td>39940481.0</td>\n",
       "      <td>Beautiful family home!!</td>\n",
       "      <td>499.0</td>\n",
       "      <td>$499</td>\n",
       "      <td>1.00</td>\n",
       "      <td>0.90</td>\n",
       "      <td>4.71</td>\n",
       "      <td>...</td>\n",
       "      <td>Florida</td>\n",
       "      <td>Florida</td>\n",
       "      <td>FL</td>\n",
       "      <td>685872.0</td>\n",
       "      <td>0.944852</td>\n",
       "      <td>200.0</td>\n",
       "      <td>99.0</td>\n",
       "      <td>798.0</td>\n",
       "      <td>3681.91</td>\n",
       "      <td>5.228810</td>\n",
       "    </tr>\n",
       "    <tr>\n",
       "      <th>256</th>\n",
       "      <td>256</td>\n",
       "      <td>18</td>\n",
       "      <td>18</td>\n",
       "      <td>23069234.0</td>\n",
       "      <td>Beautiful house in the best central area of Mi...</td>\n",
       "      <td>315.0</td>\n",
       "      <td>$315</td>\n",
       "      <td>0.90</td>\n",
       "      <td>0.95</td>\n",
       "      <td>4.81</td>\n",
       "      <td>...</td>\n",
       "      <td>Florida</td>\n",
       "      <td>Florida</td>\n",
       "      <td>FL</td>\n",
       "      <td>1418968.8</td>\n",
       "      <td>0.933540</td>\n",
       "      <td>150.0</td>\n",
       "      <td>66.0</td>\n",
       "      <td>531.0</td>\n",
       "      <td>7617.33</td>\n",
       "      <td>0.979412</td>\n",
       "    </tr>\n",
       "    <tr>\n",
       "      <th>257</th>\n",
       "      <td>257</td>\n",
       "      <td>8</td>\n",
       "      <td>8</td>\n",
       "      <td>38068245.0</td>\n",
       "      <td>Beautifully Decorated Wynwood Apartment</td>\n",
       "      <td>132.0</td>\n",
       "      <td>$132</td>\n",
       "      <td>1.00</td>\n",
       "      <td>1.00</td>\n",
       "      <td>4.72</td>\n",
       "      <td>...</td>\n",
       "      <td>Florida</td>\n",
       "      <td>Florida</td>\n",
       "      <td>FL</td>\n",
       "      <td>685872.0</td>\n",
       "      <td>0.417322</td>\n",
       "      <td>100.0</td>\n",
       "      <td>34.0</td>\n",
       "      <td>266.0</td>\n",
       "      <td>3681.91</td>\n",
       "      <td>-0.082953</td>\n",
       "    </tr>\n",
       "    <tr>\n",
       "      <th>258</th>\n",
       "      <td>258</td>\n",
       "      <td>11</td>\n",
       "      <td>11</td>\n",
       "      <td>41103264.0</td>\n",
       "      <td>Sextant | Wynwood Penthouse | 3000SF Private R...</td>\n",
       "      <td>682.0</td>\n",
       "      <td>$682</td>\n",
       "      <td>1.00</td>\n",
       "      <td>1.00</td>\n",
       "      <td>4.90</td>\n",
       "      <td>...</td>\n",
       "      <td>Florida</td>\n",
       "      <td>Florida</td>\n",
       "      <td>FL</td>\n",
       "      <td>685872.0</td>\n",
       "      <td>0.871586</td>\n",
       "      <td>290.0</td>\n",
       "      <td>0.0</td>\n",
       "      <td>972.0</td>\n",
       "      <td>3681.91</td>\n",
       "      <td>5.998664</td>\n",
       "    </tr>\n",
       "    <tr>\n",
       "      <th>259</th>\n",
       "      <td>259</td>\n",
       "      <td>15</td>\n",
       "      <td>15</td>\n",
       "      <td>48990447.0</td>\n",
       "      <td>Luxury NEW Condo in Miami Midtown/Design District</td>\n",
       "      <td>346.0</td>\n",
       "      <td>$346</td>\n",
       "      <td>0.85</td>\n",
       "      <td>0.93</td>\n",
       "      <td>4.86</td>\n",
       "      <td>...</td>\n",
       "      <td>Florida</td>\n",
       "      <td>Florida</td>\n",
       "      <td>FL</td>\n",
       "      <td>685872.0</td>\n",
       "      <td>0.887760</td>\n",
       "      <td>130.0</td>\n",
       "      <td>88.0</td>\n",
       "      <td>564.0</td>\n",
       "      <td>3681.91</td>\n",
       "      <td>3.136309</td>\n",
       "    </tr>\n",
       "    <tr>\n",
       "      <th>260</th>\n",
       "      <td>260</td>\n",
       "      <td>5</td>\n",
       "      <td>5</td>\n",
       "      <td>53067181.0</td>\n",
       "      <td>5BR Miami Flower Casita | Private | Pool | Hot...</td>\n",
       "      <td>419.0</td>\n",
       "      <td>$419</td>\n",
       "      <td>0.90</td>\n",
       "      <td>0.90</td>\n",
       "      <td>5.00</td>\n",
       "      <td>...</td>\n",
       "      <td>Florida</td>\n",
       "      <td>Florida</td>\n",
       "      <td>FL</td>\n",
       "      <td>2601442.8</td>\n",
       "      <td>0.886964</td>\n",
       "      <td>NaN</td>\n",
       "      <td>155.0</td>\n",
       "      <td>NaN</td>\n",
       "      <td>13965.11</td>\n",
       "      <td>NaN</td>\n",
       "    </tr>\n",
       "    <tr>\n",
       "      <th>261</th>\n",
       "      <td>261</td>\n",
       "      <td>12</td>\n",
       "      <td>12</td>\n",
       "      <td>45286702.0</td>\n",
       "      <td>Modern Studio in Heart of Miami</td>\n",
       "      <td>119.0</td>\n",
       "      <td>$119</td>\n",
       "      <td>1.00</td>\n",
       "      <td>1.00</td>\n",
       "      <td>4.48</td>\n",
       "      <td>...</td>\n",
       "      <td>Florida</td>\n",
       "      <td>Florida</td>\n",
       "      <td>FL</td>\n",
       "      <td>313692.0</td>\n",
       "      <td>0.452585</td>\n",
       "      <td>120.0</td>\n",
       "      <td>34.0</td>\n",
       "      <td>273.0</td>\n",
       "      <td>1683.97</td>\n",
       "      <td>1.231722</td>\n",
       "    </tr>\n",
       "    <tr>\n",
       "      <th>262</th>\n",
       "      <td>262</td>\n",
       "      <td>4</td>\n",
       "      <td>4</td>\n",
       "      <td>53080735.0</td>\n",
       "      <td>Beach Front Miami 3Bdm 2Bath Direct Ocean +Par...</td>\n",
       "      <td>495.0</td>\n",
       "      <td>$495</td>\n",
       "      <td>0.90</td>\n",
       "      <td>0.90</td>\n",
       "      <td>4.80</td>\n",
       "      <td>...</td>\n",
       "      <td>Florida</td>\n",
       "      <td>Florida</td>\n",
       "      <td>FL</td>\n",
       "      <td>2447709.0</td>\n",
       "      <td>0.245250</td>\n",
       "      <td>195.0</td>\n",
       "      <td>97.0</td>\n",
       "      <td>787.0</td>\n",
       "      <td>13139.83</td>\n",
       "      <td>-0.553208</td>\n",
       "    </tr>\n",
       "    <tr>\n",
       "      <th>263</th>\n",
       "      <td>263</td>\n",
       "      <td>6</td>\n",
       "      <td>6</td>\n",
       "      <td>45268413.0</td>\n",
       "      <td>Alexander Ocean front  property glass balcony 2BR</td>\n",
       "      <td>261.0</td>\n",
       "      <td>$261</td>\n",
       "      <td>1.00</td>\n",
       "      <td>0.97</td>\n",
       "      <td>4.22</td>\n",
       "      <td>...</td>\n",
       "      <td>Florida</td>\n",
       "      <td>Florida</td>\n",
       "      <td>FL</td>\n",
       "      <td>425586.0</td>\n",
       "      <td>0.955104</td>\n",
       "      <td>150.0</td>\n",
       "      <td>64.0</td>\n",
       "      <td>475.0</td>\n",
       "      <td>2284.64</td>\n",
       "      <td>5.040015</td>\n",
       "    </tr>\n",
       "    <tr>\n",
       "      <th>264</th>\n",
       "      <td>264</td>\n",
       "      <td>4</td>\n",
       "      <td>4</td>\n",
       "      <td>51484037.0</td>\n",
       "      <td>Season Discount!! Biscayne Deluxe House, 4br/2...</td>\n",
       "      <td>262.0</td>\n",
       "      <td>$262</td>\n",
       "      <td>0.95</td>\n",
       "      <td>0.98</td>\n",
       "      <td>4.70</td>\n",
       "      <td>...</td>\n",
       "      <td>Florida</td>\n",
       "      <td>Florida</td>\n",
       "      <td>FL</td>\n",
       "      <td>1891958.4</td>\n",
       "      <td>0.896686</td>\n",
       "      <td>180.0</td>\n",
       "      <td>81.0</td>\n",
       "      <td>523.0</td>\n",
       "      <td>10156.44</td>\n",
       "      <td>0.404469</td>\n",
       "    </tr>\n",
       "    <tr>\n",
       "      <th>265</th>\n",
       "      <td>265</td>\n",
       "      <td>15</td>\n",
       "      <td>15</td>\n",
       "      <td>22159493.0</td>\n",
       "      <td>2 bed/2 bath ....Because you want the best!</td>\n",
       "      <td>285.0</td>\n",
       "      <td>$285</td>\n",
       "      <td>1.00</td>\n",
       "      <td>1.00</td>\n",
       "      <td>4.91</td>\n",
       "      <td>...</td>\n",
       "      <td>Florida</td>\n",
       "      <td>Florida</td>\n",
       "      <td>FL</td>\n",
       "      <td>565497.0</td>\n",
       "      <td>0.861158</td>\n",
       "      <td>180.0</td>\n",
       "      <td>68.0</td>\n",
       "      <td>533.0</td>\n",
       "      <td>3035.71</td>\n",
       "      <td>3.598977</td>\n",
       "    </tr>\n",
       "    <tr>\n",
       "      <th>266</th>\n",
       "      <td>266</td>\n",
       "      <td>16</td>\n",
       "      <td>16</td>\n",
       "      <td>53023577.0</td>\n",
       "      <td>New Yorker Miami - Room 106</td>\n",
       "      <td>179.0</td>\n",
       "      <td>$179</td>\n",
       "      <td>0.85</td>\n",
       "      <td>0.90</td>\n",
       "      <td>4.33</td>\n",
       "      <td>...</td>\n",
       "      <td>Florida</td>\n",
       "      <td>Florida</td>\n",
       "      <td>FL</td>\n",
       "      <td>NaN</td>\n",
       "      <td>0.957313</td>\n",
       "      <td>40.0</td>\n",
       "      <td>0.0</td>\n",
       "      <td>219.0</td>\n",
       "      <td>NaN</td>\n",
       "      <td>NaN</td>\n",
       "    </tr>\n",
       "    <tr>\n",
       "      <th>267</th>\n",
       "      <td>267</td>\n",
       "      <td>17</td>\n",
       "      <td>17</td>\n",
       "      <td>51690590.0</td>\n",
       "      <td>JARDÍN DUPLEX in Sunny Miami for 6 Guests.</td>\n",
       "      <td>187.0</td>\n",
       "      <td>$187</td>\n",
       "      <td>0.90</td>\n",
       "      <td>0.95</td>\n",
       "      <td>4.92</td>\n",
       "      <td>...</td>\n",
       "      <td>Florida</td>\n",
       "      <td>Florida</td>\n",
       "      <td>FL</td>\n",
       "      <td>685872.0</td>\n",
       "      <td>0.706496</td>\n",
       "      <td>95.0</td>\n",
       "      <td>39.0</td>\n",
       "      <td>321.0</td>\n",
       "      <td>3681.91</td>\n",
       "      <td>0.873497</td>\n",
       "    </tr>\n",
       "    <tr>\n",
       "      <th>268</th>\n",
       "      <td>268</td>\n",
       "      <td>1</td>\n",
       "      <td>1</td>\n",
       "      <td>18975805.0</td>\n",
       "      <td>Luxurious Town Home Steps to the Shore | * Dhalia</td>\n",
       "      <td>217.0</td>\n",
       "      <td>$217</td>\n",
       "      <td>0.80</td>\n",
       "      <td>0.90</td>\n",
       "      <td>4.81</td>\n",
       "      <td>...</td>\n",
       "      <td>Florida</td>\n",
       "      <td>Florida</td>\n",
       "      <td>FL</td>\n",
       "      <td>2447709.0</td>\n",
       "      <td>0.589571</td>\n",
       "      <td>100.0</td>\n",
       "      <td>50.0</td>\n",
       "      <td>367.0</td>\n",
       "      <td>13139.83</td>\n",
       "      <td>-0.499131</td>\n",
       "    </tr>\n",
       "    <tr>\n",
       "      <th>269</th>\n",
       "      <td>269</td>\n",
       "      <td>1</td>\n",
       "      <td>1</td>\n",
       "      <td>30378679.0</td>\n",
       "      <td>MODERN AMAZING BEACH GETAWAY! RIGHT ON THE BEACH</td>\n",
       "      <td>95.0</td>\n",
       "      <td>$95</td>\n",
       "      <td>0.90</td>\n",
       "      <td>1.00</td>\n",
       "      <td>4.74</td>\n",
       "      <td>...</td>\n",
       "      <td>Florida</td>\n",
       "      <td>Florida</td>\n",
       "      <td>FL</td>\n",
       "      <td>315148.0</td>\n",
       "      <td>0.420062</td>\n",
       "      <td>100.0</td>\n",
       "      <td>42.0</td>\n",
       "      <td>237.0</td>\n",
       "      <td>1691.78</td>\n",
       "      <td>0.789902</td>\n",
       "    </tr>\n",
       "    <tr>\n",
       "      <th>270</th>\n",
       "      <td>270</td>\n",
       "      <td>16</td>\n",
       "      <td>16</td>\n",
       "      <td>51669928.0</td>\n",
       "      <td>Stunning 1 BR Beachfront APT @ The Carillon Hotel</td>\n",
       "      <td>367.0</td>\n",
       "      <td>$367</td>\n",
       "      <td>0.95</td>\n",
       "      <td>1.00</td>\n",
       "      <td>4.96</td>\n",
       "      <td>...</td>\n",
       "      <td>Florida</td>\n",
       "      <td>Florida</td>\n",
       "      <td>FL</td>\n",
       "      <td>1823034.0</td>\n",
       "      <td>0.415820</td>\n",
       "      <td>200.0</td>\n",
       "      <td>81.0</td>\n",
       "      <td>648.0</td>\n",
       "      <td>9786.44</td>\n",
       "      <td>-0.162534</td>\n",
       "    </tr>\n",
       "    <tr>\n",
       "      <th>271</th>\n",
       "      <td>271</td>\n",
       "      <td>13</td>\n",
       "      <td>13</td>\n",
       "      <td>48435649.0</td>\n",
       "      <td>Unit 102 Byron is a walking distance to the beach</td>\n",
       "      <td>134.0</td>\n",
       "      <td>$134</td>\n",
       "      <td>0.80</td>\n",
       "      <td>0.90</td>\n",
       "      <td>4.63</td>\n",
       "      <td>...</td>\n",
       "      <td>Florida</td>\n",
       "      <td>Florida</td>\n",
       "      <td>FL</td>\n",
       "      <td>1823034.0</td>\n",
       "      <td>0.919134</td>\n",
       "      <td>135.0</td>\n",
       "      <td>60.0</td>\n",
       "      <td>329.0</td>\n",
       "      <td>9786.44</td>\n",
       "      <td>-0.060143</td>\n",
       "    </tr>\n",
       "    <tr>\n",
       "      <th>272</th>\n",
       "      <td>272</td>\n",
       "      <td>4</td>\n",
       "      <td>4</td>\n",
       "      <td>4770882.0</td>\n",
       "      <td>Amazing Views of MIAMI in Penthouse</td>\n",
       "      <td>140.0</td>\n",
       "      <td>$140</td>\n",
       "      <td>1.00</td>\n",
       "      <td>1.00</td>\n",
       "      <td>4.92</td>\n",
       "      <td>...</td>\n",
       "      <td>Florida</td>\n",
       "      <td>Florida</td>\n",
       "      <td>FL</td>\n",
       "      <td>204675.0</td>\n",
       "      <td>0.934081</td>\n",
       "      <td>45.0</td>\n",
       "      <td>24.0</td>\n",
       "      <td>209.0</td>\n",
       "      <td>1098.74</td>\n",
       "      <td>4.404398</td>\n",
       "    </tr>\n",
       "    <tr>\n",
       "      <th>273</th>\n",
       "      <td>273</td>\n",
       "      <td>8</td>\n",
       "      <td>8</td>\n",
       "      <td>41233602.0</td>\n",
       "      <td>Little Bungalow 88</td>\n",
       "      <td>349.0</td>\n",
       "      <td>$349</td>\n",
       "      <td>1.00</td>\n",
       "      <td>1.00</td>\n",
       "      <td>4.79</td>\n",
       "      <td>...</td>\n",
       "      <td>Florida</td>\n",
       "      <td>Florida</td>\n",
       "      <td>FL</td>\n",
       "      <td>425586.0</td>\n",
       "      <td>0.430844</td>\n",
       "      <td>200.0</td>\n",
       "      <td>78.0</td>\n",
       "      <td>627.0</td>\n",
       "      <td>2284.64</td>\n",
       "      <td>2.596511</td>\n",
       "    </tr>\n",
       "    <tr>\n",
       "      <th>274</th>\n",
       "      <td>274</td>\n",
       "      <td>3</td>\n",
       "      <td>3</td>\n",
       "      <td>16147651.0</td>\n",
       "      <td>#2 Private, Spacious Room for Students in Miami</td>\n",
       "      <td>68.0</td>\n",
       "      <td>$68</td>\n",
       "      <td>0.80</td>\n",
       "      <td>1.00</td>\n",
       "      <td>4.70</td>\n",
       "      <td>...</td>\n",
       "      <td>Florida</td>\n",
       "      <td>Florida</td>\n",
       "      <td>FL</td>\n",
       "      <td>313692.0</td>\n",
       "      <td>0.414052</td>\n",
       "      <td>80.0</td>\n",
       "      <td>21.0</td>\n",
       "      <td>169.0</td>\n",
       "      <td>1683.97</td>\n",
       "      <td>0.263918</td>\n",
       "    </tr>\n",
       "  </tbody>\n",
       "</table>\n",
       "<p>43 rows × 42 columns</p>\n",
       "</div>"
      ],
      "text/plain": [
       "     Unnamed: 0.1  Unnamed: 0  index          id  \\\n",
       "232           232           2      2  53231187.0   \n",
       "233           233           3      3  52364652.0   \n",
       "234           234           6      6  29828422.0   \n",
       "235           235          12     12  39925347.0   \n",
       "236           236           7      7  49032537.0   \n",
       "237           237           8      8  49567533.0   \n",
       "238           238          15     15    269204.0   \n",
       "239           239          18     18  31328359.0   \n",
       "240           240          19     19  51171259.0   \n",
       "241           241           9      9  37218395.0   \n",
       "242           242           5      5  21893890.0   \n",
       "243           243          14     14  26631720.0   \n",
       "244           244          16     16  45434549.0   \n",
       "245           245           6      6  45054625.0   \n",
       "246           246          17     17  31294674.0   \n",
       "247           247           5      5  32044795.0   \n",
       "248           248          13     13  30113457.0   \n",
       "249           249          14     14  31304301.0   \n",
       "250           250          15     15  37054390.0   \n",
       "251           251           5      5  49924715.0   \n",
       "252           252           8      8  45564949.0   \n",
       "253           253          13     13  44701853.0   \n",
       "254           254          17     17  42778398.0   \n",
       "255           255          16     16  39940481.0   \n",
       "256           256          18     18  23069234.0   \n",
       "257           257           8      8  38068245.0   \n",
       "258           258          11     11  41103264.0   \n",
       "259           259          15     15  48990447.0   \n",
       "260           260           5      5  53067181.0   \n",
       "261           261          12     12  45286702.0   \n",
       "262           262           4      4  53080735.0   \n",
       "263           263           6      6  45268413.0   \n",
       "264           264           4      4  51484037.0   \n",
       "265           265          15     15  22159493.0   \n",
       "266           266          16     16  53023577.0   \n",
       "267           267          17     17  51690590.0   \n",
       "268           268           1      1  18975805.0   \n",
       "269           269           1      1  30378679.0   \n",
       "270           270          16     16  51669928.0   \n",
       "271           271          13     13  48435649.0   \n",
       "272           272           4      4   4770882.0   \n",
       "273           273           8      8  41233602.0   \n",
       "274           274           3      3  16147651.0   \n",
       "\n",
       "                                                  name   price displayPrice  \\\n",
       "232             Modern Apartment in excellent location   161.0         $161   \n",
       "233     Cozy Modern Home, Coral Gables / Coconut Grove   284.0         $284   \n",
       "234  Water view, Brickell, Huge balcony, Free Parking.   164.0         $164   \n",
       "235      ✶ Modern Sky Residence w/ City & Ocean Views✶   299.0         $299   \n",
       "236    Lux Hilton Bentley Beachfront Apt Best Location   355.0         $355   \n",
       "237  South of Fifth •GYM POOL & SPA•BEACHFRONT BUIL...   336.0         $336   \n",
       "238                5 STAR HILTON BENTLEY BEACH! SOBE!!   238.0         $238   \n",
       "239  ONLY UNIQUE PEOPLE ALLOWED TO STAY HERE-Sobe Flat   136.0         $136   \n",
       "240        South of Fifth Spacious 2 Bedroom With Pool   276.0         $276   \n",
       "241           Miami, Brickell, Downtown, Stylish Condo   162.0         $162   \n",
       "242      Amazing  & Long Term Stay  Miami Beach Studio    55.0          $55   \n",
       "243  30% OFF❤ Luxury Townhouse w/Rooftop BBQ & Hot Tub  1475.0       $1,475   \n",
       "244                         Miami Beach stylish Studio  1700.0       $1,700   \n",
       "245  Collins Ave. - Touchless Petite King Room - So...   105.0         $105   \n",
       "246  South Beach: 5 min walk to the beach & Ocean D...   125.0         $125   \n",
       "247       🏝 Large & Cosy Loft @ the ❤️ of South Beach!   160.0         $160   \n",
       "248                                         Miami Cosi   168.0         $168   \n",
       "249          1 Bed/1Bath. South Beach. Great Location.   149.0         $149   \n",
       "250    Super 💙 Amazing Deal Direct 🏖️ Ocean Dr Sleeps5   185.0         $185   \n",
       "251  Beach apartment 2 blocks from mall & restaurants!   350.0         $350   \n",
       "252  In The Heart of South Beach! Garden, Picnic Ar...   325.0         $325   \n",
       "253  Your Exciting Miami Beach Vacation Starts Here...   325.0         $325   \n",
       "254   Awesome House With Jacuzzi in the Heart of Miami   169.0         $169   \n",
       "255                            Beautiful family home!!   499.0         $499   \n",
       "256  Beautiful house in the best central area of Mi...   315.0         $315   \n",
       "257            Beautifully Decorated Wynwood Apartment   132.0         $132   \n",
       "258  Sextant | Wynwood Penthouse | 3000SF Private R...   682.0         $682   \n",
       "259  Luxury NEW Condo in Miami Midtown/Design District   346.0         $346   \n",
       "260  5BR Miami Flower Casita | Private | Pool | Hot...   419.0         $419   \n",
       "261                    Modern Studio in Heart of Miami   119.0         $119   \n",
       "262  Beach Front Miami 3Bdm 2Bath Direct Ocean +Par...   495.0         $495   \n",
       "263  Alexander Ocean front  property glass balcony 2BR   261.0         $261   \n",
       "264  Season Discount!! Biscayne Deluxe House, 4br/2...   262.0         $262   \n",
       "265        2 bed/2 bath ....Because you want the best!   285.0         $285   \n",
       "266                        New Yorker Miami - Room 106   179.0         $179   \n",
       "267         JARDÍN DUPLEX in Sunny Miami for 6 Guests.   187.0         $187   \n",
       "268  Luxurious Town Home Steps to the Shore | * Dhalia   217.0         $217   \n",
       "269   MODERN AMAZING BEACH GETAWAY! RIGHT ON THE BEACH    95.0          $95   \n",
       "270  Stunning 1 BR Beachfront APT @ The Carillon Hotel   367.0         $367   \n",
       "271  Unit 102 Byron is a walking distance to the beach   134.0         $134   \n",
       "272                Amazing Views of MIAMI in Penthouse   140.0         $140   \n",
       "273                                 Little Bungalow 88   349.0         $349   \n",
       "274    #2 Private, Spacious Room for Students in Miami    68.0          $68   \n",
       "\n",
       "     monthlyPriceFactor  weeklyPriceFactor  avgRating  ...    state  \\\n",
       "232                1.00               0.93       4.64  ...  Florida   \n",
       "233                0.85               0.93       5.00  ...  Florida   \n",
       "234                1.00               0.95       4.85  ...  Florida   \n",
       "235                0.80               0.80       4.98  ...  Florida   \n",
       "236                1.00               1.00       4.85  ...  Florida   \n",
       "237                1.00               1.00       4.90  ...  Florida   \n",
       "238                0.98               1.00       4.61  ...  Florida   \n",
       "239                0.62               1.00       4.83  ...  Florida   \n",
       "240                0.95               0.98       4.25  ...  Florida   \n",
       "241                1.00               1.00       4.77  ...  Florida   \n",
       "242                0.95               1.00        NaN  ...  Florida   \n",
       "243                0.80               0.97       4.87  ...  Florida   \n",
       "244                1.00               1.00        NaN  ...  Florida   \n",
       "245                0.90               0.95       4.44  ...  Florida   \n",
       "246                0.70               1.00       4.67  ...  Florida   \n",
       "247                0.90               1.00       4.72  ...  Florida   \n",
       "248                1.00               1.00       4.52  ...  Florida   \n",
       "249                1.00               1.00       4.82  ...  Florida   \n",
       "250                1.00               1.00       4.59  ...  Florida   \n",
       "251                1.00               1.00       4.77  ...  Florida   \n",
       "252                1.00               1.00        NaN  ...  Florida   \n",
       "253                1.00               1.00        NaN  ...  Florida   \n",
       "254                0.85               0.95       4.98  ...  Florida   \n",
       "255                1.00               0.90       4.71  ...  Florida   \n",
       "256                0.90               0.95       4.81  ...  Florida   \n",
       "257                1.00               1.00       4.72  ...  Florida   \n",
       "258                1.00               1.00       4.90  ...  Florida   \n",
       "259                0.85               0.93       4.86  ...  Florida   \n",
       "260                0.90               0.90       5.00  ...  Florida   \n",
       "261                1.00               1.00       4.48  ...  Florida   \n",
       "262                0.90               0.90       4.80  ...  Florida   \n",
       "263                1.00               0.97       4.22  ...  Florida   \n",
       "264                0.95               0.98       4.70  ...  Florida   \n",
       "265                1.00               1.00       4.91  ...  Florida   \n",
       "266                0.85               0.90       4.33  ...  Florida   \n",
       "267                0.90               0.95       4.92  ...  Florida   \n",
       "268                0.80               0.90       4.81  ...  Florida   \n",
       "269                0.90               1.00       4.74  ...  Florida   \n",
       "270                0.95               1.00       4.96  ...  Florida   \n",
       "271                0.80               0.90       4.63  ...  Florida   \n",
       "272                1.00               1.00       4.92  ...  Florida   \n",
       "273                1.00               1.00       4.79  ...  Florida   \n",
       "274                0.80               1.00       4.70  ...  Florida   \n",
       "\n",
       "     state_name  state_id  avg_home_value  occupancy_rate  \\\n",
       "232     Florida        FL        685872.0        0.894476   \n",
       "233     Florida        FL       1182474.0        0.096863   \n",
       "234     Florida        FL        425586.0        0.418118   \n",
       "235     Florida        FL        425586.0        0.635616   \n",
       "236     Florida        FL        315148.0        0.460186   \n",
       "237     Florida        FL        315148.0        0.225365   \n",
       "238     Florida        FL        315148.0        0.880778   \n",
       "239     Florida        FL       1823034.0        0.535395   \n",
       "240     Florida        FL        600776.0        0.503579   \n",
       "241     Florida        FL        425586.0        0.199028   \n",
       "242     Florida        FL       2447709.0        0.199293   \n",
       "243     Florida        FL       5005811.0        0.302790   \n",
       "244     Florida        FL             NaN        0.960583   \n",
       "245     Florida        FL        315148.0        0.953425   \n",
       "246     Florida        FL        600776.0        0.960583   \n",
       "247     Florida        FL        315148.0        0.357667   \n",
       "248     Florida        FL       1823034.0        0.394874   \n",
       "249     Florida        FL        600776.0        0.140698   \n",
       "250     Florida        FL       1823034.0        0.720725   \n",
       "251     Florida        FL       5005811.0        0.608573   \n",
       "252     Florida        FL        315148.0        0.825806   \n",
       "253     Florida        FL        315148.0        0.825806   \n",
       "254     Florida        FL        425586.0        0.448608   \n",
       "255     Florida        FL        685872.0        0.944852   \n",
       "256     Florida        FL       1418968.8        0.933540   \n",
       "257     Florida        FL        685872.0        0.417322   \n",
       "258     Florida        FL        685872.0        0.871586   \n",
       "259     Florida        FL        685872.0        0.887760   \n",
       "260     Florida        FL       2601442.8        0.886964   \n",
       "261     Florida        FL        313692.0        0.452585   \n",
       "262     Florida        FL       2447709.0        0.245250   \n",
       "263     Florida        FL        425586.0        0.955104   \n",
       "264     Florida        FL       1891958.4        0.896686   \n",
       "265     Florida        FL        565497.0        0.861158   \n",
       "266     Florida        FL             NaN        0.957313   \n",
       "267     Florida        FL        685872.0        0.706496   \n",
       "268     Florida        FL       2447709.0        0.589571   \n",
       "269     Florida        FL        315148.0        0.420062   \n",
       "270     Florida        FL       1823034.0        0.415820   \n",
       "271     Florida        FL       1823034.0        0.919134   \n",
       "272     Florida        FL        204675.0        0.934081   \n",
       "273     Florida        FL        425586.0        0.430844   \n",
       "274     Florida        FL        313692.0        0.414052   \n",
       "\n",
       "     median_cleaning_fee median_service_fee median_total_price avg_30_yr_mort  \\\n",
       "232                110.0               38.0              309.0        3681.91   \n",
       "233                230.0              103.0              617.0        6347.78   \n",
       "234                150.0               52.0              366.0        2284.64   \n",
       "235                120.0               66.0              485.0        2284.64   \n",
       "236                200.0               95.0              650.0        1691.78   \n",
       "237                115.0               90.0              541.0        1691.78   \n",
       "238                150.0               51.0              439.0        1691.78   \n",
       "239                 80.0               30.0              246.0        9786.44   \n",
       "240                120.0               51.0              447.0        3225.10   \n",
       "241                 75.0               41.0              278.0        2284.64   \n",
       "242                100.0               22.0              177.0       13139.83   \n",
       "243                320.0              208.0             2003.0       26872.28   \n",
       "244                  NaN              240.0                NaN            NaN   \n",
       "245                 80.0               35.0              220.0        1691.78   \n",
       "246                 80.0               29.0              234.0        3225.10   \n",
       "247                100.0               32.0              292.0        1691.78   \n",
       "248                120.0               48.0              336.0        9786.44   \n",
       "249                100.0               34.0              283.0        3225.10   \n",
       "250                 69.0               49.0              303.0        9786.44   \n",
       "251                150.0               64.0              564.0       26872.28   \n",
       "252                  NaN               39.0                NaN        1691.78   \n",
       "253                  NaN               39.0                NaN        1691.78   \n",
       "254                225.0               57.0              451.0        2284.64   \n",
       "255                200.0               99.0              798.0        3681.91   \n",
       "256                150.0               66.0              531.0        7617.33   \n",
       "257                100.0               34.0              266.0        3681.91   \n",
       "258                290.0                0.0              972.0        3681.91   \n",
       "259                130.0               88.0              564.0        3681.91   \n",
       "260                  NaN              155.0                NaN       13965.11   \n",
       "261                120.0               34.0              273.0        1683.97   \n",
       "262                195.0               97.0              787.0       13139.83   \n",
       "263                150.0               64.0              475.0        2284.64   \n",
       "264                180.0               81.0              523.0       10156.44   \n",
       "265                180.0               68.0              533.0        3035.71   \n",
       "266                 40.0                0.0              219.0            NaN   \n",
       "267                 95.0               39.0              321.0        3681.91   \n",
       "268                100.0               50.0              367.0       13139.83   \n",
       "269                100.0               42.0              237.0        1691.78   \n",
       "270                200.0               81.0              648.0        9786.44   \n",
       "271                135.0               60.0              329.0        9786.44   \n",
       "272                 45.0               24.0              209.0        1098.74   \n",
       "273                200.0               78.0              627.0        2284.64   \n",
       "274                 80.0               21.0              169.0        1683.97   \n",
       "\n",
       "    median_ROI  \n",
       "232   1.283315  \n",
       "233  -0.713628  \n",
       "234   1.037386  \n",
       "235   3.104221  \n",
       "236   4.377917  \n",
       "237   1.192051  \n",
       "238   5.951821  \n",
       "239  -0.590648  \n",
       "240   1.122970  \n",
       "241  -0.263365  \n",
       "242  -0.918344  \n",
       "243  -0.313516  \n",
       "244        NaN  \n",
       "245   2.771176  \n",
       "246   1.119919  \n",
       "247   0.877713  \n",
       "248  -0.587632  \n",
       "249  -0.624471  \n",
       "250  -0.321267  \n",
       "251  -0.611493  \n",
       "252        NaN  \n",
       "253        NaN  \n",
       "254   1.693627  \n",
       "255   5.228810  \n",
       "256   0.979412  \n",
       "257  -0.082953  \n",
       "258   5.998664  \n",
       "259   3.136309  \n",
       "260        NaN  \n",
       "261   1.231722  \n",
       "262  -0.553208  \n",
       "263   5.040015  \n",
       "264   0.404469  \n",
       "265   3.598977  \n",
       "266        NaN  \n",
       "267   0.873497  \n",
       "268  -0.499131  \n",
       "269   0.789902  \n",
       "270  -0.162534  \n",
       "271  -0.060143  \n",
       "272   4.404398  \n",
       "273   2.596511  \n",
       "274   0.263918  \n",
       "\n",
       "[43 rows x 42 columns]"
      ]
     },
     "execution_count": 11,
     "metadata": {},
     "output_type": "execute_result"
    }
   ],
   "source": [
    "towns = combined_data_nc['town'].unique()\n",
    "towns_for_dash = list_options_for_dash(towns)"
   ]
  },
  {
   "cell_type": "code",
   "execution_count": null,
   "metadata": {},
   "outputs": [],
   "source": [
    "lists_per_city = listing_data.groupby(['town'])['id'].count().reset_index()\n",
    "lists_per_city.rename(columns = {'id':'num_lists_in_town'}, inplace = True)\n",
    "median_price_per_city = listing_data.groupby(['town'])['price'].median().reset_index()\n",
    "median_price_per_city.rename(columns = {'price':'median_price_per_city'}, inplace = True)\n",
    "\n",
    "# Calculate occupancy rate\n",
    "occ_rate = occ_data.groupby('id')['available'].apply(lambda row: np.sum(row)/len(row))\n",
    "listing_occ_rate = listing_data.merge(occ_rate, on = 'id')\n",
    "\n",
    "\n",
    "# Calculate pricing avgs\n",
    "cleaning_fee = price_data.groupby(['id'])['cleaning_fee'].median().reset_index()\n",
    "cleaning_fee.rename(columns = {'cleaning_fee':'median_cleaning_fee'}, inplace = True)\n",
    "service_fee = price_data.groupby(['id'])['service_fee'].median().reset_index()\n",
    "service_fee.rename(columns = {'service_fee':'median_service_fee'}, inplace = True)\n",
    "#total_price = price_data.groupby(['id'])['total_price'].median().reset_index()\n",
    "#total_price.rename(columns = {'total_price':'median_total_price'}, inplace = True)\n",
    "\n",
    "listing_occ_rate_fees = listing_occ_rate.merge(cleaning_fee, on='id')\n",
    "listing_occ_rate_fees = listing_occ_rate_fees.merge(service_fee, on='id')\n",
    "#listing_occ_rate_fees = listing_occ_rate_fees.merge(total_price, on='id')\n",
    "\n",
    "median_occ_rate_per_city = listing_occ_rate_fees.groupby(['town'])['available'].median().reset_index()\n",
    "median_occ_rate_per_city.rename(columns = {'available':'occupancy_rate'}, inplace = True)\n",
    "\n",
    "median_cleaning_fee_per_city = listing_occ_rate_fees.groupby(['town'])['median_cleaning_fee'].median().reset_index()\n",
    "median_service_fee_per_city = listing_occ_rate_fees.groupby(['town'])['median_service_fee'].median().reset_index()\n",
    "#median_total_price_per_city = listing_occ_rate_fees.groupby(['town'])['median_total_price'].median().reset_index()\n",
    "#fees_and_price = cleaning_fee.merge(service_fee, on = 'id')\n",
    "#fees_and_price = fees_and_price.merge(total_price, on = 'id')\n",
    "\n",
    "lists_town_price = lists_per_city.merge(median_price_per_city, left_on = 'town', right_on = 'town')\n",
    "lists_town_price = lists_town_price.merge(median_cleaning_fee_per_city, left_on = 'town', right_on = 'town')\n",
    "lists_town_price = lists_town_price.merge(median_service_fee_per_city, left_on = 'town', right_on = 'town')\n",
    "#lists_town_price = lists_town_price.merge(median_total_price_per_city, left_on = 'town', right_on = 'town')\n",
    "lists_town_price['median_total_price'] = lists_town_price['median_price_per_city'] + lists_town_price['median_cleaning_fee'] + lists_town_price['median_service_fee']\n",
    "lists_town_price_occ = lists_town_price.merge(median_occ_rate_per_city, left_on = 'town', right_on = 'town')\n",
    "lists_town_home_price_occ = lists_town_price_occ.merge(city_home, left_on = 'town', right_on = 'city')\n",
    "\n",
    "lists_town_home_price_occ_vt = lists_town_home_price_occ[(lists_town_home_price_occ['state_id'] == 'VT')]\n",
    "lists_town_home_price_occ_nh = lists_town_home_price_occ[(lists_town_home_price_occ['state_id'] == 'NH')]\n",
    "lists_town_home_price_occ_nc = lists_town_home_price_occ[(lists_town_home_price_occ['state_id'] == 'NC')]\n",
    "lists_town_home_price_occ_sc = lists_town_home_price_occ[(lists_town_home_price_occ['state_id'] == 'SC')]\n",
    "\n",
    "lists_town_home_price_occ_all = lists_town_home_price_occ_vt.append(lists_town_home_price_occ_nh)\n",
    "lists_town_home_price_occ_all = lists_town_home_price_occ_all.append(lists_town_home_price_occ_nc)\n",
    "lists_town_home_price_occ_all = lists_town_home_price_occ_all.append(lists_town_home_price_occ_sc)\n",
    "\n",
    "lists_town_home_price_occ_all['avg_30_yr_mort'] = lists_town_home_price_occ_all.apply(lambda row: calculate_mortgage(row['2022-04-30'], 5, 30), axis=1)\n",
    "lists_town_home_price_occ_all['median_ROI'] = lists_town_home_price_occ_all.apply(lambda row: calculate_roi(row['median_price_per_city'], row['occupancy_rate'], row['avg_30_yr_mort']), axis=1)"
   ]
  },
  {
   "cell_type": "code",
   "execution_count": null,
   "metadata": {},
   "outputs": [],
   "source": [
    "# grouping by town and guests\n",
    "\n",
    "city_home['city'] = city_home['city'].str.lower()\n",
    "#print(\"city home shape: \" + str(city_home.shape))\n",
    "lists_per_city_guest = listing_data.groupby(['town', 'guest_no'])['id'].count().reset_index()\n",
    "lists_per_city_guest.rename(columns = {'id':'num_lists_in_town'}, inplace = True)\n",
    "#print(\"lists_per_city_guest shape: \" + str(lists_per_city_guest.shape))\n",
    "median_price_per_city_guest = listing_data.groupby(['town', 'guest_no'])['price'].median().reset_index()\n",
    "median_price_per_city_guest.rename(columns = {'price':'median_price_per_city'}, inplace = True)\n",
    "#print(\"median_price_per_city_guest shape: \" + str(median_price_per_city_guest.shape))\n",
    "\n",
    "\n",
    "# Calculate occupancy rate\n",
    "occ_rate = occ_data.groupby('id')['available'].apply(lambda row: np.sum(row)/len(row))\n",
    "listing_occ_rate = listing_data.merge(occ_rate, on = 'id')\n",
    "#print(\"listing_occ_rate shape: \" + str(listing_occ_rate.shape))\n",
    "\n",
    "\n",
    "\n",
    "# Calculate pricing avgs\n",
    "cleaning_fee = price_data.groupby(['id'])['cleaning_fee'].median().reset_index()\n",
    "cleaning_fee.rename(columns = {'cleaning_fee':'median_cleaning_fee'}, inplace = True)\n",
    "service_fee = price_data.groupby(['id'])['service_fee'].median().reset_index()\n",
    "service_fee.rename(columns = {'service_fee':'median_service_fee'}, inplace = True)\n",
    "#total_price = price_data.groupby(['id'])['total_price'].median().reset_index()\n",
    "#total_price.rename(columns = {'total_price':'median_total_price'}, inplace = True)\n",
    "\n",
    "listing_occ_rate_fees = listing_occ_rate.merge(cleaning_fee, on='id')\n",
    "#print(\"listing_occ_rate_fees shape: \" + str(listing_occ_rate_fees.shape))\n",
    "listing_occ_rate_fees = listing_occ_rate_fees.merge(service_fee, on='id')\n",
    "#print(\"listing_occ_rate_fees shape: \" + str(listing_occ_rate_fees.shape))\n",
    "\n",
    "#listing_occ_rate_fees = listing_occ_rate_fees.merge(total_price, on='id')\n",
    "\n",
    "median_occ_rate_per_city_guest = listing_occ_rate_fees.groupby(['town', 'guest_no'])['available'].median().reset_index()\n",
    "median_occ_rate_per_city_guest.rename(columns = {'available':'occupancy_rate'}, inplace = True)\n",
    "#print(\"median_occ_rate_per_city_guest shape: \" + str(median_occ_rate_per_city_guest.shape))\n",
    "\n",
    "\n",
    "median_cleaning_fee_per_city_guest = listing_occ_rate_fees.groupby(['town', 'guest_no'])['median_cleaning_fee'].median().reset_index()\n",
    "#print(\"median_occ_rate_per_city_guest shape: \" + str(median_occ_rate_per_city_guest.shape))\n",
    "\n",
    "median_service_fee_per_city_guest = listing_occ_rate_fees.groupby(['town', 'guest_no'])['median_service_fee'].median().reset_index()\n",
    "#print(\"median_service_fee_per_city_guest shape: \" + str(median_service_fee_per_city_guest.shape))\n",
    "\n",
    "\n",
    "lists_town_price_guest = lists_per_city_guest.merge(median_price_per_city_guest, on = ['town', 'guest_no'])\n",
    "#print(\"lists_town_price_guest shape: \" + str(lists_town_price_guest.shape))\n",
    "\n",
    "lists_town_price_guest = lists_town_price_guest.merge(median_cleaning_fee_per_city_guest, on = ['town', 'guest_no'])\n",
    "#print(\"lists_town_price_guest shape: \" + str(lists_town_price_guest.shape))\n",
    "\n",
    "lists_town_price_guest = lists_town_price_guest.merge(median_service_fee_per_city_guest, on = ['town', 'guest_no'])\n",
    "#print(\"lists_town_price_guest shape: \" + str(lists_town_price_guest.shape))\n",
    "\n",
    "#lists_town_price = lists_town_price.merge(median_total_price_per_city, left_on = 'town', right_on = 'town')\n",
    "lists_town_price_guest['median_total_price'] = lists_town_price_guest['median_price_per_city'] + lists_town_price_guest['median_cleaning_fee'] + lists_town_price_guest['median_service_fee']\n",
    "#print(\"lists_town_price_guest shape: \" + str(lists_town_price_guest.shape))\n",
    "\n",
    "lists_town_price_occ_guest = lists_town_price_guest.merge(median_occ_rate_per_city_guest, on = ['town', 'guest_no'])\n",
    "#print(\"lists_town_price_guest shape: \" + str(lists_town_price_guest.shape))\n",
    "\n",
    "city_home_needed_cols = city_home[['city','state_id','population','2022-04-30']]\n",
    "#print(\"city_home_needed_cols shape: \" + str(city_home_needed_cols.shape))\n",
    "\n",
    "lists_town_home_price_occ_guest = lists_town_price_occ_guest.merge(city_home_needed_cols, how='inner', left_on = 'town', right_on = 'city')\n",
    "#print(\"lists_town_home_price_occ_guest shape: \" + str(lists_town_home_price_occ_guest.shape))\n",
    "\n",
    "# Calculate 30 year mortgage for town\n",
    "lists_town_home_price_occ_guest['avg_30_yr_mort'] = lists_town_home_price_occ_guest.apply(lambda row: calculate_mortgage(row['2022-04-30'], 5, 30), axis=1)\n",
    "# Calculate median ROI for town\n",
    "lists_town_home_price_occ_guest['median_ROI'] = lists_town_home_price_occ_guest.apply(lambda row: calculate_roi(row['median_price_per_city'], row['occupancy_rate'], row['avg_30_yr_mort']), axis=1)\n",
    "\n",
    "\n",
    "wb_data = lists_town_home_price_occ_guest[lists_town_home_price_occ_guest['town'] == 'wrightsville beach']\n",
    "#print(\"wb_data shape: \" + str(wb_data.shape))\n",
    "\n",
    "# Create pivot table for nc towns\n",
    "lists_town_home_price_occ_guest_nc = lists_town_home_price_occ_guest[(lists_town_home_price_occ_guest['state_id'] == 'NC')]\n",
    "num_lists_pivot = lists_town_home_price_occ_guest_nc.pivot(index='town', columns='guest_no', values='num_lists_in_town')"
   ]
  },
  {
   "cell_type": "code",
   "execution_count": 268,
   "metadata": {},
   "outputs": [
    {
     "name": "stdout",
     "output_type": "stream",
     "text": [
      "Dash is running on http://127.0.0.1:8050/\n",
      "\n",
      " * Serving Flask app '__main__' (lazy loading)\n",
      " * Environment: production\n",
      "\u001b[31m   WARNING: This is a development server. Do not use it in a production deployment.\u001b[0m\n",
      "\u001b[2m   Use a production WSGI server instead.\u001b[0m\n",
      " * Debug mode: off\n"
     ]
    },
    {
     "name": "stderr",
     "output_type": "stream",
     "text": [
      " * Running on http://127.0.0.1:8050 (Press CTRL+C to quit)\n",
      "127.0.0.1 - - [24/May/2022 01:47:53] \"GET / HTTP/1.1\" 200 -\n",
      "127.0.0.1 - - [24/May/2022 01:47:54] \"GET /_dash-layout HTTP/1.1\" 200 -\n",
      "127.0.0.1 - - [24/May/2022 01:47:54] \"GET /_favicon.ico?v=2.4.1 HTTP/1.1\" 200 -\n",
      "127.0.0.1 - - [24/May/2022 01:47:54] \"GET /_dash-dependencies HTTP/1.1\" 200 -\n",
      "127.0.0.1 - - [24/May/2022 01:47:54] \"GET /_dash-component-suites/dash/dcc/async-dropdown.js HTTP/1.1\" 304 -\n",
      "127.0.0.1 - - [24/May/2022 01:47:54] \"GET /_dash-component-suites/dash/dcc/async-graph.js HTTP/1.1\" 304 -\n",
      "127.0.0.1 - - [24/May/2022 01:47:54] \"GET /_dash-component-suites/dash/dcc/async-plotlyjs.js HTTP/1.1\" 304 -\n"
     ]
    },
    {
     "name": "stdout",
     "output_type": "stream",
     "text": [
      "bald head island\n",
      "Exception on /_dash-update-component [POST]\n",
      "Traceback (most recent call last):\n",
      "  File \"c:\\Users\\mattg\\AppData\\Local\\Programs\\Python\\Python310\\lib\\site-packages\\pandas\\core\\indexes\\base.py\", line 3621, in get_loc\n",
      "    return self._engine.get_loc(casted_key)\n",
      "  File \"pandas\\_libs\\index.pyx\", line 136, in pandas._libs.index.IndexEngine.get_loc\n",
      "  File \"pandas\\_libs\\index.pyx\", line 163, in pandas._libs.index.IndexEngine.get_loc\n",
      "  File \"pandas\\_libs\\hashtable_class_helper.pxi\", line 5198, in pandas._libs.hashtable.PyObjectHashTable.get_item\n",
      "  File \"pandas\\_libs\\hashtable_class_helper.pxi\", line 5206, in pandas._libs.hashtable.PyObjectHashTable.get_item\n",
      "KeyError: 'bald head island'\n",
      "\n",
      "The above exception was the direct cause of the following exception:\n",
      "\n",
      "Traceback (most recent call last):\n",
      "  File \"c:\\Users\\mattg\\AppData\\Local\\Programs\\Python\\Python310\\lib\\site-packages\\flask\\app.py\", line 2077, in wsgi_app\n",
      "    response = self.full_dispatch_request()\n",
      "  File \"c:\\Users\\mattg\\AppData\\Local\\Programs\\Python\\Python310\\lib\\site-packages\\flask\\app.py\", line 1525, in full_dispatch_request\n",
      "    rv = self.handle_user_exception(e)\n",
      "  File \"c:\\Users\\mattg\\AppData\\Local\\Programs\\Python\\Python310\\lib\\site-packages\\flask\\app.py\", line 1523, in full_dispatch_request\n",
      "    rv = self.dispatch_request()\n",
      "  File \"c:\\Users\\mattg\\AppData\\Local\\Programs\\Python\\Python310\\lib\\site-packages\\flask\\app.py\", line 1509, in dispatch_request\n",
      "    return self.ensure_sync(self.view_functions[rule.endpoint])(**req.view_args)\n",
      "  File \"c:\\Users\\mattg\\AppData\\Local\\Programs\\Python\\Python310\\lib\\site-packages\\dash\\dash.py\", line 1372, in dispatch\n",
      "    response.set_data(func(*args, outputs_list=outputs_list))\n",
      "  File \"c:\\Users\\mattg\\AppData\\Local\\Programs\\Python\\Python310\\lib\\site-packages\\dash\\_callback.py\", line 151, in add_context\n",
      "    output_value = func(*func_args, **func_kwargs)  # %% callback invoked %%\n",
      "  File \"C:\\Users\\mattg\\AppData\\Local\\Temp\\ipykernel_16064\\2450195191.py\", line 32, in graph_update\n",
      "    fig = go.Figure([go.Bar(x = combined_data_nc['guest_no'], y = df['{}'.format(dropdown_value)],\\\n",
      "  File \"c:\\Users\\mattg\\AppData\\Local\\Programs\\Python\\Python310\\lib\\site-packages\\pandas\\core\\frame.py\", line 3505, in __getitem__\n",
      "    indexer = self.columns.get_loc(key)\n",
      "  File \"c:\\Users\\mattg\\AppData\\Local\\Programs\\Python\\Python310\\lib\\site-packages\\pandas\\core\\indexes\\base.py\", line 3623, in get_loc\n",
      "    raise KeyError(key) from err\n",
      "KeyError: 'bald head island'\n"
     ]
    },
    {
     "name": "stderr",
     "output_type": "stream",
     "text": [
      "127.0.0.1 - - [24/May/2022 01:47:54] \"POST /_dash-update-component HTTP/1.1\" 500 -\n"
     ]
    },
    {
     "name": "stdout",
     "output_type": "stream",
     "text": [
      "carolina beach\n",
      "Exception on /_dash-update-component [POST]\n",
      "Traceback (most recent call last):\n",
      "  File \"c:\\Users\\mattg\\AppData\\Local\\Programs\\Python\\Python310\\lib\\site-packages\\pandas\\core\\indexes\\base.py\", line 3621, in get_loc\n",
      "    return self._engine.get_loc(casted_key)\n",
      "  File \"pandas\\_libs\\index.pyx\", line 136, in pandas._libs.index.IndexEngine.get_loc\n",
      "  File \"pandas\\_libs\\index.pyx\", line 163, in pandas._libs.index.IndexEngine.get_loc\n",
      "  File \"pandas\\_libs\\hashtable_class_helper.pxi\", line 5198, in pandas._libs.hashtable.PyObjectHashTable.get_item\n",
      "  File \"pandas\\_libs\\hashtable_class_helper.pxi\", line 5206, in pandas._libs.hashtable.PyObjectHashTable.get_item\n",
      "KeyError: 'carolina beach'\n",
      "\n",
      "The above exception was the direct cause of the following exception:\n",
      "\n",
      "Traceback (most recent call last):\n",
      "  File \"c:\\Users\\mattg\\AppData\\Local\\Programs\\Python\\Python310\\lib\\site-packages\\flask\\app.py\", line 2077, in wsgi_app\n",
      "    response = self.full_dispatch_request()\n",
      "  File \"c:\\Users\\mattg\\AppData\\Local\\Programs\\Python\\Python310\\lib\\site-packages\\flask\\app.py\", line 1525, in full_dispatch_request\n",
      "    rv = self.handle_user_exception(e)\n",
      "  File \"c:\\Users\\mattg\\AppData\\Local\\Programs\\Python\\Python310\\lib\\site-packages\\flask\\app.py\", line 1523, in full_dispatch_request\n",
      "    rv = self.dispatch_request()\n",
      "  File \"c:\\Users\\mattg\\AppData\\Local\\Programs\\Python\\Python310\\lib\\site-packages\\flask\\app.py\", line 1509, in dispatch_request\n",
      "    return self.ensure_sync(self.view_functions[rule.endpoint])(**req.view_args)\n",
      "  File \"c:\\Users\\mattg\\AppData\\Local\\Programs\\Python\\Python310\\lib\\site-packages\\dash\\dash.py\", line 1372, in dispatch\n",
      "    response.set_data(func(*args, outputs_list=outputs_list))\n",
      "  File \"c:\\Users\\mattg\\AppData\\Local\\Programs\\Python\\Python310\\lib\\site-packages\\dash\\_callback.py\", line 151, in add_context\n",
      "    output_value = func(*func_args, **func_kwargs)  # %% callback invoked %%\n",
      "  File \"C:\\Users\\mattg\\AppData\\Local\\Temp\\ipykernel_16064\\2450195191.py\", line 32, in graph_update\n",
      "    fig = go.Figure([go.Bar(x = combined_data_nc['guest_no'], y = df['{}'.format(dropdown_value)],\\\n",
      "  File \"c:\\Users\\mattg\\AppData\\Local\\Programs\\Python\\Python310\\lib\\site-packages\\pandas\\core\\frame.py\", line 3505, in __getitem__\n",
      "    indexer = self.columns.get_loc(key)\n",
      "  File \"c:\\Users\\mattg\\AppData\\Local\\Programs\\Python\\Python310\\lib\\site-packages\\pandas\\core\\indexes\\base.py\", line 3623, in get_loc\n",
      "    raise KeyError(key) from err\n",
      "KeyError: 'carolina beach'\n"
     ]
    },
    {
     "name": "stderr",
     "output_type": "stream",
     "text": [
      "127.0.0.1 - - [24/May/2022 01:47:58] \"POST /_dash-update-component HTTP/1.1\" 500 -\n"
     ]
    },
    {
     "ename": "",
     "evalue": "",
     "output_type": "error",
     "traceback": [
      "\u001b[1;31mCanceled future for execute_request message before replies were done"
     ]
    },
    {
     "ename": "",
     "evalue": "",
     "output_type": "error",
     "traceback": [
      "\u001b[1;31mThe Kernel crashed while executing code in the the current cell or a previous cell. Please review the code in the cell(s) to identify a possible cause of the failure. Click <a href='https://aka.ms/vscodeJupyterKernelCrash'>here</a> for more info. View Jupyter <a href='command:jupyter.viewOutput'>log</a> for further details."
     ]
    }
   ],
   "source": [
    "import dash\n",
    "import dash_html_components as html\n",
    "import plotly.graph_objects as go\n",
    "import dash_core_components as dcc\n",
    "import plotly.express as px\n",
    "from dash.dependencies import Input, Output\n",
    "\n",
    "\n",
    "app = dash.Dash()\n",
    "\n",
    "df = px.data.stocks()\n",
    "\n",
    "towns = combined_data_nc['town'].unique()\n",
    "options_list, value_for_dropdown = list_options_for_dash(towns)\n",
    "\n",
    "\n",
    "app.layout = html.Div(id = 'parent', children = [\n",
    "    html.H1(id = 'H1', children = 'Styling using html components', style = {'textAlign':'center',\\\n",
    "                                            'marginTop':40,'marginBottom':40}),\n",
    "\n",
    "        dcc.Dropdown( id = 'dropdown',\n",
    "        options = options_list,\n",
    "        value = value_for_dropdown),\n",
    "        dcc.Graph(id = 'bar_plot')\n",
    "    ])\n",
    "    \n",
    "    \n",
    "@app.callback(Output(component_id='bar_plot', component_property= 'figure'),\n",
    "              [Input(component_id='dropdown', component_property= 'value')])\n",
    "def graph_update(dropdown_value):\n",
    "    print(dropdown_value)\n",
    "    fig = go.Figure([go.Bar(x = combined_data_nc['guest_no'], y = df['{}'.format(dropdown_value)],\\\n",
    "                     line = dict(color = 'firebrick', width = 4))\n",
    "                     ])\n",
    "    \n",
    "    fig.update_layout(title = 'Stock prices over time',\n",
    "                      xaxis_title = 'Dates',\n",
    "                      yaxis_title = 'Prices'\n",
    "                      )\n",
    "    return fig  \n",
    "\n",
    "\n",
    "\n",
    "if __name__ == '__main__': \n",
    "    app.run_server()"
   ]
  },
  {
   "cell_type": "code",
   "execution_count": 180,
   "metadata": {},
   "outputs": [],
   "source": [
    "def med_price_occ_by_guests(df, location: str):\n",
    "    df_guests = df.groupby(['guest_no'])['median_total_price'].median().reset_index()\n",
    "    df_occ = df.groupby(['guest_no'])['occupancy_rate'].median().reset_index()\n",
    "\n",
    "    med_price_occ_by_guests = go.Figure(data=[\n",
    "        go.Bar(name='Total Price', x=df_guests['guest_no'], y=df_guests['median_total_price'], yaxis='y', offsetgroup=1),\n",
    "        go.Bar(name='Occupancy Rate', x=df_occ['guest_no'], y=df_occ['occupancy_rate'], yaxis='y2', offsetgroup=2),\n",
    "    ],\n",
    "        layout={\n",
    "            'xaxis': {'title': '# of Guests'},\n",
    "            'yaxis': {'title': 'Total Price'},\n",
    "            'yaxis2': {'title': 'Occupancy Rate', 'overlaying': 'y', 'side': 'right'}\n",
    "        }\n",
    "    )\n",
    "\n",
    "    # Change the bar mode\n",
    "    med_price_occ_by_guests.update_layout(title_text='Median Price and Occupancy by # of Guests in '+location, barmode='group')\n",
    "    filename = \"newsletter_features/\"+location+\"_median_price_and_occ_by_guestno.png\"\n",
    "    med_price_occ_by_guests.write_image(filename, engine='kaleido')\n",
    "    #miami_fig.show()\n",
    "\n",
    "def avg_30yrmort_by_guests(df, location: str):\n",
    "    df_guests_mort = df.groupby(['guest_no'])['avg_30_yr_mort'].median().reset_index()\n",
    "\n",
    "    avg_mort_by_guests_fig = go.Figure(data=[\n",
    "        go.Bar(name='Total Price', x=df_guests_mort['guest_no'], y=df_guests_mort['avg_30_yr_mort'])\n",
    "    ],\n",
    "        layout={\n",
    "            'xaxis': {'title': '# of Guests'},\n",
    "            'yaxis': {'title': 'Monthly Mortgage Cost ($)'},\n",
    "        }\n",
    "    )\n",
    "\n",
    "    # Change the bar mode\n",
    "    avg_mort_by_guests_fig.update_layout(title_text='Avg 30-Year Mortgage by # of Guests in '+location)\n",
    "    filename = \"newsletter_features/\"+location+\"_monthly_mortgage_by_guestno.png\"\n",
    "    avg_mort_by_guests_fig.write_image(filename, engine='kaleido')\n",
    "    #miami_fig.show()\n",
    "\n",
    "\n",
    "def avg_roi_fig_generator(df, location: str, groupbycol='Zipcode', filename_end=\"_zips_roi_fig.png\"):\n",
    "    #df['zipcode'] = df.apply(lambda row: set_zipcode(row['lat'], row['lng']), axis=1)\n",
    "    zips_roi_df = df.groupby(groupbycol)[['median_ROI']].mean().reset_index()\n",
    "\n",
    "    zips_roi_fig = go.Figure(data=[\n",
    "        go.Bar(name='Display Price', x=zips_roi_df[groupbycol], y=zips_roi_df['median_ROI']),\n",
    "        ],\n",
    "        \n",
    "        layout={\n",
    "            'xaxis': {'title': groupbycol},\n",
    "            'yaxis': {'title': 'ROI (1 = 100%)'},\n",
    "        }\n",
    "    )\n",
    "\n",
    "    # Change the bar mode\n",
    "    zips_roi_fig.update_layout(title_text='Average ROI in '+location+' by '+groupbycol, barmode='stack')\n",
    "    filename = \"newsletter_features/\"+location+filename_end\n",
    "    zips_roi_fig.write_image(filename, engine='kaleido')\n",
    "    #zips_roi_fig.show()\n",
    "\n",
    "\n",
    "def pricing_fig_generator(df, location: str, groupbycol='Zipcode', filename_end=\"_zips_cleaning_fig.png\"):\n",
    "    #df['zipcode'] = df.apply(lambda row: set_zipcode(row['lat'], row['lng']), axis=1)\n",
    "\n",
    "    zips_cleaning_df = df.groupby([groupbycol])[['price','median_cleaning_fee','median_service_fee']].median().reset_index()\n",
    "\n",
    "    zips_cleaning_fig = go.Figure(data=[\n",
    "        go.Bar(name='Display Price', x=zips_cleaning_df[groupbycol], y=zips_cleaning_df['price']),\n",
    "        go.Bar(name='Cleaning Fee', x=zips_cleaning_df[groupbycol], y=zips_cleaning_df['median_cleaning_fee']),\n",
    "        go.Bar(name='Service Fee', x=zips_cleaning_df[groupbycol], y=zips_cleaning_df['median_service_fee']),\n",
    "    ],\n",
    "        layout={\n",
    "            'xaxis': {'title': groupbycol},\n",
    "            'yaxis': {'title': 'Total Price ($)'},\n",
    "        }\n",
    "    )\n",
    "\n",
    "    # Change the bar mode\n",
    "    zips_cleaning_fig.update_layout(title_text='Median Pricing in '+location+' by '+groupbycol, barmode='stack')\n",
    "    filename = \"newsletter_features/\"+location+filename_end\n",
    "    zips_cleaning_fig.write_image(filename, engine='kaleido')\n",
    "    #miami_zips_cleaning_fig.show()\n",
    "\n",
    "def roi_bubble_plot(df):\n",
    "    import plotly.express as px\n",
    "    #df['City'] = df.apply(lambda row: set_city(row['lat'], row['lng'], axis=1))\n",
    "    df_group = df.groupby(['City','state_id','Zipcode','guest_no'])['avg_30_yr_mort','median_ROI'].mean().reset_index()\n",
    "\n",
    "    roi_bubble_fig = px.scatter(df_group, x=\"guest_no\", y=\"median_ROI\",\n",
    "                size=\"avg_30_yr_mort\", color=\"state_id\",\n",
    "                    hover_name=\"Zipcode\")\n",
    "    \n",
    "    roi_bubble_fig.update_layout(title_text='ROI vs Guest Number, sized by the Avg Monthly Mortgage', xaxis=dict(title='Guest Number for Listing'), yaxis=dict(title='Average ROI (1 = 100%)'))\n",
    "    roi_bubble_fig.show()\n"
   ]
  },
  {
   "cell_type": "code",
   "execution_count": 130,
   "metadata": {},
   "outputs": [],
   "source": [
    "combined_data = pd.read_csv('post_mort_and_roi_calcs.csv')\n",
    "combined_data_vt = combined_data[(combined_data['state_id'] == 'VT')]\n",
    "combined_data_nh = combined_data[(combined_data['state_id'] == 'NH')]\n",
    "combined_data_nc = combined_data[(combined_data['state_id'] == 'NC')]\n",
    "combined_data_sc = combined_data[(combined_data['state_id'] == 'SC')]\n",
    "combined_data_fl = combined_data[(combined_data['state_id'] == 'FL')]\n",
    "combined_data_me = combined_data[(combined_data['state_id'] == 'ME')]"
   ]
  },
  {
   "cell_type": "code",
   "execution_count": 144,
   "metadata": {},
   "outputs": [],
   "source": [
    "df = combined_data_me\n",
    "loc = 'Maine'\n",
    "\n",
    "med_price_occ_by_guests(df, location=loc)\n",
    "df['Zipcode'] = df.apply(lambda row: set_zipcode(row['lat'], row['lng']), axis=1)\n",
    "avg_roi_fig_generator(df, location=loc)\n",
    "pricing_fig_generator(df, location=loc)\n",
    "#df['city'] = df.apply(lambda row: set_city(row['lat'], row['lng']), axis=1)\n",
    "df = df.rename(columns={'town': 'City'})\n",
    "avg_roi_fig_generator(df, location=loc,groupbycol='City',filename_end=\"_cities_roi_fig.png\")\n",
    "pricing_fig_generator(df, location=loc,groupbycol='City',filename_end=\"_cities_cleaning_fig.png\")\n"
   ]
  },
  {
   "cell_type": "code",
   "execution_count": 149,
   "metadata": {},
   "outputs": [],
   "source": [
    "avg_30yrmort_by_guests(combined_data_vt, location='Vermont')\n",
    "avg_30yrmort_by_guests(combined_data_nh, location='New_Hampshire')\n",
    "avg_30yrmort_by_guests(combined_data_nc, location='North_Carolina')\n",
    "avg_30yrmort_by_guests(combined_data_sc, location='South_Carolina')\n",
    "avg_30yrmort_by_guests(combined_data_fl, location='Miami')\n",
    "avg_30yrmort_by_guests(combined_data_me, location='Maine')"
   ]
  },
  {
   "cell_type": "code",
   "execution_count": 161,
   "metadata": {},
   "outputs": [],
   "source": [
    "#combined_data.columns\n",
    "combined_data['City'] = combined_data.apply(lambda row: set_city(row['lat'], row['lng']), axis=1)\n",
    "combined_data['Zipcode'] = combined_data.apply(lambda row: set_zipcode(row['lat'], row['lng']), axis=1)\n",
    "combined_data = combined_data[combined_data['avg_30_yr_mort'].notna()]\n"
   ]
  },
  {
   "cell_type": "code",
   "execution_count": 181,
   "metadata": {},
   "outputs": [
    {
     "data": {
      "application/vnd.plotly.v1+json": {
       "config": {
        "plotlyServerURL": "https://plot.ly"
       },
       "data": [
        {
         "hovertemplate": "<b>%{hovertext}</b><br><br>state_id=FL<br>guest_no=%{x}<br>median_ROI=%{y}<br>avg_30_yr_mort=%{marker.size}<extra></extra>",
         "hovertext": [
          "33138",
          "33141",
          "33147",
          "33155",
          "33175",
          "33125",
          "33127",
          "33127",
          "33131",
          "33131",
          "33133",
          "33133",
          "33137",
          "33138",
          "33138",
          "33142",
          "33150",
          "33109",
          "33109",
          "33139",
          "33139",
          "33139",
          "33139",
          "33139",
          "33140",
          "33141",
          "33141",
          "33141",
          "33169"
         ],
         "legendgroup": "FL",
         "marker": {
          "color": "#636efa",
          "size": [
           2284.64,
           1098.74,
           1683.97,
           7617.33,
           3681.91,
           2284.64,
           1683.97,
           3681.91,
           2284.64,
           2284.64,
           3681.91,
           6347.78,
           3681.91,
           3358.81,
           10156.44,
           13965.11,
           3681.91,
           1691.78,
           3225.1,
           6577.4575,
           2458.44,
           12783.5,
           9786.44,
           26872.28,
           2284.64,
           1691.78,
           12022.033333333333,
           9786.44,
           1691.78
          ],
          "sizemode": "area",
          "sizeref": 67.1807,
          "symbol": "circle"
         },
         "mode": "markers",
         "name": "FL",
         "orientation": "v",
         "showlegend": true,
         "type": "scatter",
         "x": [
          5,
          2,
          2,
          7,
          5,
          6,
          2,
          5,
          3,
          4,
          5,
          8,
          6,
          6,
          10,
          16,
          8,
          3,
          5,
          2,
          3,
          4,
          5,
          8,
          4,
          2,
          6,
          7,
          3
         ],
         "xaxis": "x",
         "y": [
          2.59651142891998,
          4.404397562460434,
          0.2639183225558703,
          0.9794115057587488,
          5.228810414931031,
          1.6936268917358903,
          1.231722195648647,
          -0.0829531762135027,
          -0.2633648029627687,
          2.070803324605576,
          1.283314822312157,
          -0.7136277632512079,
          3.1363086357440184,
          2.236237277625119,
          0.4044688124782357,
          null,
          5.99866417508935,
          4.377917157178855,
          1.122969930414761,
          1.8035011155271539,
          0.4577204136246849,
          -0.0023581739427303385,
          -0.321267076459053,
          -0.313516280864542,
          5.040015386532746,
          0.7899023323020341,
          -0.4049578714682475,
          -0.0601434778769817,
          null
         ],
         "yaxis": "y"
        },
        {
         "hovertemplate": "<b>%{hovertext}</b><br><br>state_id=ME<br>guest_no=%{x}<br>median_ROI=%{y}<br>avg_30_yr_mort=%{marker.size}<extra></extra>",
         "hovertext": [
          "04015",
          "04015",
          "04029",
          "04039",
          "04039",
          "04043",
          "04055",
          "04055",
          "04062",
          "04062",
          "04063",
          "04064",
          "04064",
          "04064",
          "04064",
          "04064",
          "04064",
          "04064",
          "04064",
          "04064",
          "04071",
          "04071",
          "04071",
          "04084",
          "04274",
          "04072"
         ],
         "legendgroup": "ME",
         "marker": {
          "color": "#EF553B",
          "size": [
           1972.36,
           2418.35,
           2424.45,
           2067.76,
           2310.03,
           1748.47,
           1689.03,
           2303,
           2357.15,
           3770.63,
           3785.52,
           1610.71,
           1725.3671428571429,
           2012.01,
           2407.4900000000002,
           2230.686,
           2422.567777777778,
           2605.23,
           3537.766875,
           4542.63,
           2167.47,
           2995.48,
           4209.44,
           2712.3,
           1924.6,
           2932.68
          ],
          "sizemode": "area",
          "sizeref": 67.1807,
          "symbol": "circle"
         },
         "mode": "markers",
         "name": "ME",
         "orientation": "v",
         "showlegend": true,
         "type": "scatter",
         "x": [
          2,
          6,
          8,
          4,
          6,
          2,
          2,
          6,
          6,
          8,
          7,
          1,
          2,
          3,
          4,
          5,
          6,
          7,
          8,
          9,
          3,
          6,
          8,
          6,
          4,
          6
         ],
         "xaxis": "x",
         "y": [
          1.4118404063455197,
          -0.7145581716401534,
          null,
          4.567377258482608,
          0.9369878313268656,
          -0.4912945945021206,
          4.09291069274579,
          3.4389135833504736,
          2.9136021756871866,
          2.351164129071269,
          null,
          0.6039837286531697,
          0.49721486013523286,
          1.3649432526101812,
          -0.4315792065678399,
          3.9641193464758855,
          0.41453202041267095,
          null,
          0.6373037230092046,
          2.094959172542099,
          0.240884047930731,
          2.590214812539782,
          -0.2575119102950783,
          3.673776577268854,
          3.7382823680837767,
          0.749736304904274
         ],
         "yaxis": "y"
        },
        {
         "hovertemplate": "<b>%{hovertext}</b><br><br>state_id=NC<br>guest_no=%{x}<br>median_ROI=%{y}<br>avg_30_yr_mort=%{marker.size}<extra></extra>",
         "hovertext": [
          "",
          "28428",
          "28428",
          "28428",
          "28428",
          "28428",
          "28461",
          "28461",
          "28462",
          "28480",
          "28480",
          "28480",
          "28480",
          "28480",
          "28480",
          "28480",
          "28480",
          "28480",
          "28512"
         ],
         "legendgroup": "NC",
         "marker": {
          "color": "#00cc96",
          "size": [
           4240.206666666667,
           1711.03,
           1711.03,
           4149.445,
           3944.76,
           4789.545,
           10005.29,
           18009.52,
           6733.17,
           5147.22,
           6434.765,
           7722.31,
           7722.31,
           10141.37,
           16994.55,
           15281.255000000001,
           20993.26,
           25191.916,
           4669.89
          ],
          "sizemode": "area",
          "sizeref": 67.1807,
          "symbol": "circle"
         },
         "mode": "markers",
         "name": "NC",
         "orientation": "v",
         "showlegend": true,
         "type": "scatter",
         "x": [
          6,
          1,
          2,
          6,
          8,
          10,
          8,
          9,
          9,
          2,
          4,
          5,
          6,
          7,
          8,
          9,
          14,
          16,
          6
         ],
         "xaxis": "x",
         "y": [
          1.2081510967200282,
          null,
          1.884676214829459,
          1.8786799553929625,
          null,
          1.6886170739425117,
          1.2639098478308484,
          -0.6095047742001249,
          null,
          0.6543524056624128,
          0.364617582044751,
          0.2886040575941654,
          -0.8944752623448029,
          1.2330904494390866,
          0.05423295323490709,
          -0.36432150215324344,
          1.5573788586549024,
          -0.8406525944988281,
          1.6120510821604308
         ],
         "yaxis": "y"
        },
        {
         "hovertemplate": "<b>%{hovertext}</b><br><br>state_id=NH<br>guest_no=%{x}<br>median_ROI=%{y}<br>avg_30_yr_mort=%{marker.size}<extra></extra>",
         "hovertext": [
          "03251",
          "03251",
          "03574",
          "03574",
          "03809"
         ],
         "legendgroup": "NH",
         "marker": {
          "color": "#ab63fa",
          "size": [
           8062,
           3792.96,
           981.11,
           1885.47,
           3745.66
          ],
          "sizemode": "area",
          "sizeref": 67.1807,
          "symbol": "circle"
         },
         "mode": "markers",
         "name": "NH",
         "orientation": "v",
         "showlegend": true,
         "type": "scatter",
         "x": [
          6,
          8,
          2,
          6,
          8
         ],
         "xaxis": "x",
         "y": [
          0.7668708952982807,
          0.000329696679055,
          1.4512515094342655,
          null,
          -0.4973832171239866
         ],
         "yaxis": "y"
        },
        {
         "hovertemplate": "<b>%{hovertext}</b><br><br>state_id=SC<br>guest_no=%{x}<br>median_ROI=%{y}<br>avg_30_yr_mort=%{marker.size}<extra></extra>",
         "hovertext": [
          "",
          "25982",
          "29575",
          "29575:29576",
          "29577",
          "29577",
          "29579",
          "29579",
          "29579",
          "29579",
          "29582",
          "29582",
          "29582",
          "29582",
          "29582",
          "29582",
          "29582",
          "29585",
          "29585",
          "29528",
          "29572",
          "29577",
          "29577",
          "29577",
          "29577",
          "29577",
          "29579",
          "29579",
          "29579",
          "29579",
          "29579",
          "29579"
         ],
         "legendgroup": "SC",
         "marker": {
          "color": "#FFA15A",
          "size": [
           1131.17,
           1435.76,
           2742,
           1231.22,
           1086.766,
           1672.81,
           749.34,
           749.34,
           2723.2333333333336,
           2792.05,
           1435.76,
           2552.5005,
           3973.98875,
           5785.17,
           5234.2,
           7438.08,
           9090.98,
           3373.6,
           2883.135,
           850.91,
           2381.57,
           749.34,
           1266.58,
           1672.81,
           1956.3139999999999,
           2792.05,
           749.34,
           1492.2633333333333,
           2262.2580000000003,
           2792.05,
           1672.81,
           3350.46
          ],
          "sizemode": "area",
          "sizeref": 67.1807,
          "symbol": "circle"
         },
         "mode": "markers",
         "name": "SC",
         "orientation": "v",
         "showlegend": true,
         "type": "scatter",
         "x": [
          2,
          4,
          6,
          6,
          4,
          6,
          1,
          2,
          6,
          9,
          4,
          6,
          8,
          9,
          10,
          15,
          16,
          4,
          6,
          3,
          6,
          2,
          4,
          5,
          6,
          8,
          2,
          4,
          6,
          7,
          8,
          10
         ],
         "xaxis": "x",
         "y": [
          -0.7963217404615529,
          8.97533307135337,
          -0.8326951130561634,
          6.04447122337935,
          4.116047482016819,
          5.708975977704079,
          3.0035231003282887,
          3.461165591802658,
          3.140705446407324,
          2.380167436553096,
          2.637018697353514,
          2.0355140021553026,
          1.242129568173191,
          0.4371759200756169,
          1.8672888016616531,
          1.1328450258433036,
          1.7710072019332983,
          0.1110781756382895,
          -0.1014644207410037,
          2.3273974797260397,
          2.878578107365265,
          9.230640390444176,
          3.689194152070061,
          3.570857083946468,
          3.6716540650200473,
          4.71557652570566,
          6.300412667240739,
          3.9857702295728656,
          2.0145834813480312,
          3.0243209337790846,
          0.7892207218927872,
          1.5154754869480607
         ],
         "yaxis": "y"
        },
        {
         "hovertemplate": "<b>%{hovertext}</b><br><br>state_id=VT<br>guest_no=%{x}<br>median_ROI=%{y}<br>avg_30_yr_mort=%{marker.size}<extra></extra>",
         "hovertext": [
          "05450",
          "05487",
          "05672",
          "05751",
          "05751",
          "05751",
          "",
          "05673",
          "05673"
         ],
         "legendgroup": "VT",
         "marker": {
          "color": "#19d3f3",
          "size": [
           1892.89,
           1657.94,
           2322.91,
           1413.61,
           2805.21,
           3099,
           8398.88,
           4899.35,
           4899.35
          ],
          "sizemode": "area",
          "sizeref": 67.1807,
          "symbol": "circle"
         },
         "mode": "markers",
         "name": "VT",
         "orientation": "v",
         "showlegend": true,
         "type": "scatter",
         "x": [
          7,
          6,
          4,
          4,
          6,
          8,
          14,
          9,
          10
         ],
         "xaxis": "x",
         "y": [
          1.8465987171013811,
          2.5473317236418302,
          5.713403265278194,
          -0.7416468995580184,
          2.789551171607567,
          2.668557486002842,
          -0.407806379196424,
          0.2253609605809385,
          0.9220666400609172
         ],
         "yaxis": "y"
        }
       ],
       "layout": {
        "legend": {
         "itemsizing": "constant",
         "title": {
          "text": "state_id"
         },
         "tracegroupgap": 0
        },
        "margin": {
         "t": 60
        },
        "template": {
         "data": {
          "bar": [
           {
            "error_x": {
             "color": "#2a3f5f"
            },
            "error_y": {
             "color": "#2a3f5f"
            },
            "marker": {
             "line": {
              "color": "#E5ECF6",
              "width": 0.5
             },
             "pattern": {
              "fillmode": "overlay",
              "size": 10,
              "solidity": 0.2
             }
            },
            "type": "bar"
           }
          ],
          "barpolar": [
           {
            "marker": {
             "line": {
              "color": "#E5ECF6",
              "width": 0.5
             },
             "pattern": {
              "fillmode": "overlay",
              "size": 10,
              "solidity": 0.2
             }
            },
            "type": "barpolar"
           }
          ],
          "carpet": [
           {
            "aaxis": {
             "endlinecolor": "#2a3f5f",
             "gridcolor": "white",
             "linecolor": "white",
             "minorgridcolor": "white",
             "startlinecolor": "#2a3f5f"
            },
            "baxis": {
             "endlinecolor": "#2a3f5f",
             "gridcolor": "white",
             "linecolor": "white",
             "minorgridcolor": "white",
             "startlinecolor": "#2a3f5f"
            },
            "type": "carpet"
           }
          ],
          "choropleth": [
           {
            "colorbar": {
             "outlinewidth": 0,
             "ticks": ""
            },
            "type": "choropleth"
           }
          ],
          "contour": [
           {
            "colorbar": {
             "outlinewidth": 0,
             "ticks": ""
            },
            "colorscale": [
             [
              0,
              "#0d0887"
             ],
             [
              0.1111111111111111,
              "#46039f"
             ],
             [
              0.2222222222222222,
              "#7201a8"
             ],
             [
              0.3333333333333333,
              "#9c179e"
             ],
             [
              0.4444444444444444,
              "#bd3786"
             ],
             [
              0.5555555555555556,
              "#d8576b"
             ],
             [
              0.6666666666666666,
              "#ed7953"
             ],
             [
              0.7777777777777778,
              "#fb9f3a"
             ],
             [
              0.8888888888888888,
              "#fdca26"
             ],
             [
              1,
              "#f0f921"
             ]
            ],
            "type": "contour"
           }
          ],
          "contourcarpet": [
           {
            "colorbar": {
             "outlinewidth": 0,
             "ticks": ""
            },
            "type": "contourcarpet"
           }
          ],
          "heatmap": [
           {
            "colorbar": {
             "outlinewidth": 0,
             "ticks": ""
            },
            "colorscale": [
             [
              0,
              "#0d0887"
             ],
             [
              0.1111111111111111,
              "#46039f"
             ],
             [
              0.2222222222222222,
              "#7201a8"
             ],
             [
              0.3333333333333333,
              "#9c179e"
             ],
             [
              0.4444444444444444,
              "#bd3786"
             ],
             [
              0.5555555555555556,
              "#d8576b"
             ],
             [
              0.6666666666666666,
              "#ed7953"
             ],
             [
              0.7777777777777778,
              "#fb9f3a"
             ],
             [
              0.8888888888888888,
              "#fdca26"
             ],
             [
              1,
              "#f0f921"
             ]
            ],
            "type": "heatmap"
           }
          ],
          "heatmapgl": [
           {
            "colorbar": {
             "outlinewidth": 0,
             "ticks": ""
            },
            "colorscale": [
             [
              0,
              "#0d0887"
             ],
             [
              0.1111111111111111,
              "#46039f"
             ],
             [
              0.2222222222222222,
              "#7201a8"
             ],
             [
              0.3333333333333333,
              "#9c179e"
             ],
             [
              0.4444444444444444,
              "#bd3786"
             ],
             [
              0.5555555555555556,
              "#d8576b"
             ],
             [
              0.6666666666666666,
              "#ed7953"
             ],
             [
              0.7777777777777778,
              "#fb9f3a"
             ],
             [
              0.8888888888888888,
              "#fdca26"
             ],
             [
              1,
              "#f0f921"
             ]
            ],
            "type": "heatmapgl"
           }
          ],
          "histogram": [
           {
            "marker": {
             "pattern": {
              "fillmode": "overlay",
              "size": 10,
              "solidity": 0.2
             }
            },
            "type": "histogram"
           }
          ],
          "histogram2d": [
           {
            "colorbar": {
             "outlinewidth": 0,
             "ticks": ""
            },
            "colorscale": [
             [
              0,
              "#0d0887"
             ],
             [
              0.1111111111111111,
              "#46039f"
             ],
             [
              0.2222222222222222,
              "#7201a8"
             ],
             [
              0.3333333333333333,
              "#9c179e"
             ],
             [
              0.4444444444444444,
              "#bd3786"
             ],
             [
              0.5555555555555556,
              "#d8576b"
             ],
             [
              0.6666666666666666,
              "#ed7953"
             ],
             [
              0.7777777777777778,
              "#fb9f3a"
             ],
             [
              0.8888888888888888,
              "#fdca26"
             ],
             [
              1,
              "#f0f921"
             ]
            ],
            "type": "histogram2d"
           }
          ],
          "histogram2dcontour": [
           {
            "colorbar": {
             "outlinewidth": 0,
             "ticks": ""
            },
            "colorscale": [
             [
              0,
              "#0d0887"
             ],
             [
              0.1111111111111111,
              "#46039f"
             ],
             [
              0.2222222222222222,
              "#7201a8"
             ],
             [
              0.3333333333333333,
              "#9c179e"
             ],
             [
              0.4444444444444444,
              "#bd3786"
             ],
             [
              0.5555555555555556,
              "#d8576b"
             ],
             [
              0.6666666666666666,
              "#ed7953"
             ],
             [
              0.7777777777777778,
              "#fb9f3a"
             ],
             [
              0.8888888888888888,
              "#fdca26"
             ],
             [
              1,
              "#f0f921"
             ]
            ],
            "type": "histogram2dcontour"
           }
          ],
          "mesh3d": [
           {
            "colorbar": {
             "outlinewidth": 0,
             "ticks": ""
            },
            "type": "mesh3d"
           }
          ],
          "parcoords": [
           {
            "line": {
             "colorbar": {
              "outlinewidth": 0,
              "ticks": ""
             }
            },
            "type": "parcoords"
           }
          ],
          "pie": [
           {
            "automargin": true,
            "type": "pie"
           }
          ],
          "scatter": [
           {
            "fillpattern": {
             "fillmode": "overlay",
             "size": 10,
             "solidity": 0.2
            },
            "type": "scatter"
           }
          ],
          "scatter3d": [
           {
            "line": {
             "colorbar": {
              "outlinewidth": 0,
              "ticks": ""
             }
            },
            "marker": {
             "colorbar": {
              "outlinewidth": 0,
              "ticks": ""
             }
            },
            "type": "scatter3d"
           }
          ],
          "scattercarpet": [
           {
            "marker": {
             "colorbar": {
              "outlinewidth": 0,
              "ticks": ""
             }
            },
            "type": "scattercarpet"
           }
          ],
          "scattergeo": [
           {
            "marker": {
             "colorbar": {
              "outlinewidth": 0,
              "ticks": ""
             }
            },
            "type": "scattergeo"
           }
          ],
          "scattergl": [
           {
            "marker": {
             "colorbar": {
              "outlinewidth": 0,
              "ticks": ""
             }
            },
            "type": "scattergl"
           }
          ],
          "scattermapbox": [
           {
            "marker": {
             "colorbar": {
              "outlinewidth": 0,
              "ticks": ""
             }
            },
            "type": "scattermapbox"
           }
          ],
          "scatterpolar": [
           {
            "marker": {
             "colorbar": {
              "outlinewidth": 0,
              "ticks": ""
             }
            },
            "type": "scatterpolar"
           }
          ],
          "scatterpolargl": [
           {
            "marker": {
             "colorbar": {
              "outlinewidth": 0,
              "ticks": ""
             }
            },
            "type": "scatterpolargl"
           }
          ],
          "scatterternary": [
           {
            "marker": {
             "colorbar": {
              "outlinewidth": 0,
              "ticks": ""
             }
            },
            "type": "scatterternary"
           }
          ],
          "surface": [
           {
            "colorbar": {
             "outlinewidth": 0,
             "ticks": ""
            },
            "colorscale": [
             [
              0,
              "#0d0887"
             ],
             [
              0.1111111111111111,
              "#46039f"
             ],
             [
              0.2222222222222222,
              "#7201a8"
             ],
             [
              0.3333333333333333,
              "#9c179e"
             ],
             [
              0.4444444444444444,
              "#bd3786"
             ],
             [
              0.5555555555555556,
              "#d8576b"
             ],
             [
              0.6666666666666666,
              "#ed7953"
             ],
             [
              0.7777777777777778,
              "#fb9f3a"
             ],
             [
              0.8888888888888888,
              "#fdca26"
             ],
             [
              1,
              "#f0f921"
             ]
            ],
            "type": "surface"
           }
          ],
          "table": [
           {
            "cells": {
             "fill": {
              "color": "#EBF0F8"
             },
             "line": {
              "color": "white"
             }
            },
            "header": {
             "fill": {
              "color": "#C8D4E3"
             },
             "line": {
              "color": "white"
             }
            },
            "type": "table"
           }
          ]
         },
         "layout": {
          "annotationdefaults": {
           "arrowcolor": "#2a3f5f",
           "arrowhead": 0,
           "arrowwidth": 1
          },
          "autotypenumbers": "strict",
          "coloraxis": {
           "colorbar": {
            "outlinewidth": 0,
            "ticks": ""
           }
          },
          "colorscale": {
           "diverging": [
            [
             0,
             "#8e0152"
            ],
            [
             0.1,
             "#c51b7d"
            ],
            [
             0.2,
             "#de77ae"
            ],
            [
             0.3,
             "#f1b6da"
            ],
            [
             0.4,
             "#fde0ef"
            ],
            [
             0.5,
             "#f7f7f7"
            ],
            [
             0.6,
             "#e6f5d0"
            ],
            [
             0.7,
             "#b8e186"
            ],
            [
             0.8,
             "#7fbc41"
            ],
            [
             0.9,
             "#4d9221"
            ],
            [
             1,
             "#276419"
            ]
           ],
           "sequential": [
            [
             0,
             "#0d0887"
            ],
            [
             0.1111111111111111,
             "#46039f"
            ],
            [
             0.2222222222222222,
             "#7201a8"
            ],
            [
             0.3333333333333333,
             "#9c179e"
            ],
            [
             0.4444444444444444,
             "#bd3786"
            ],
            [
             0.5555555555555556,
             "#d8576b"
            ],
            [
             0.6666666666666666,
             "#ed7953"
            ],
            [
             0.7777777777777778,
             "#fb9f3a"
            ],
            [
             0.8888888888888888,
             "#fdca26"
            ],
            [
             1,
             "#f0f921"
            ]
           ],
           "sequentialminus": [
            [
             0,
             "#0d0887"
            ],
            [
             0.1111111111111111,
             "#46039f"
            ],
            [
             0.2222222222222222,
             "#7201a8"
            ],
            [
             0.3333333333333333,
             "#9c179e"
            ],
            [
             0.4444444444444444,
             "#bd3786"
            ],
            [
             0.5555555555555556,
             "#d8576b"
            ],
            [
             0.6666666666666666,
             "#ed7953"
            ],
            [
             0.7777777777777778,
             "#fb9f3a"
            ],
            [
             0.8888888888888888,
             "#fdca26"
            ],
            [
             1,
             "#f0f921"
            ]
           ]
          },
          "colorway": [
           "#636efa",
           "#EF553B",
           "#00cc96",
           "#ab63fa",
           "#FFA15A",
           "#19d3f3",
           "#FF6692",
           "#B6E880",
           "#FF97FF",
           "#FECB52"
          ],
          "font": {
           "color": "#2a3f5f"
          },
          "geo": {
           "bgcolor": "white",
           "lakecolor": "white",
           "landcolor": "#E5ECF6",
           "showlakes": true,
           "showland": true,
           "subunitcolor": "white"
          },
          "hoverlabel": {
           "align": "left"
          },
          "hovermode": "closest",
          "mapbox": {
           "style": "light"
          },
          "paper_bgcolor": "white",
          "plot_bgcolor": "#E5ECF6",
          "polar": {
           "angularaxis": {
            "gridcolor": "white",
            "linecolor": "white",
            "ticks": ""
           },
           "bgcolor": "#E5ECF6",
           "radialaxis": {
            "gridcolor": "white",
            "linecolor": "white",
            "ticks": ""
           }
          },
          "scene": {
           "xaxis": {
            "backgroundcolor": "#E5ECF6",
            "gridcolor": "white",
            "gridwidth": 2,
            "linecolor": "white",
            "showbackground": true,
            "ticks": "",
            "zerolinecolor": "white"
           },
           "yaxis": {
            "backgroundcolor": "#E5ECF6",
            "gridcolor": "white",
            "gridwidth": 2,
            "linecolor": "white",
            "showbackground": true,
            "ticks": "",
            "zerolinecolor": "white"
           },
           "zaxis": {
            "backgroundcolor": "#E5ECF6",
            "gridcolor": "white",
            "gridwidth": 2,
            "linecolor": "white",
            "showbackground": true,
            "ticks": "",
            "zerolinecolor": "white"
           }
          },
          "shapedefaults": {
           "line": {
            "color": "#2a3f5f"
           }
          },
          "ternary": {
           "aaxis": {
            "gridcolor": "white",
            "linecolor": "white",
            "ticks": ""
           },
           "baxis": {
            "gridcolor": "white",
            "linecolor": "white",
            "ticks": ""
           },
           "bgcolor": "#E5ECF6",
           "caxis": {
            "gridcolor": "white",
            "linecolor": "white",
            "ticks": ""
           }
          },
          "title": {
           "x": 0.05
          },
          "xaxis": {
           "automargin": true,
           "gridcolor": "white",
           "linecolor": "white",
           "ticks": "",
           "title": {
            "standoff": 15
           },
           "zerolinecolor": "white",
           "zerolinewidth": 2
          },
          "yaxis": {
           "automargin": true,
           "gridcolor": "white",
           "linecolor": "white",
           "ticks": "",
           "title": {
            "standoff": 15
           },
           "zerolinecolor": "white",
           "zerolinewidth": 2
          }
         }
        },
        "title": {
         "text": "ROI vs Guest Number, sized by the Avg Monthly Mortgage"
        },
        "xaxis": {
         "anchor": "y",
         "domain": [
          0,
          1
         ],
         "title": {
          "text": "Guest Number for Listing"
         }
        },
        "yaxis": {
         "anchor": "x",
         "domain": [
          0,
          1
         ],
         "title": {
          "text": "Average ROI (1 = 100%)"
         }
        }
       }
      }
     },
     "metadata": {},
     "output_type": "display_data"
    }
   ],
   "source": [
    "roi_bubble_plot(combined_data)"
   ]
  }
 ],
 "metadata": {
  "interpreter": {
   "hash": "8cda3f1edda61d067a8dccfe73833b0b57e2a1d4ac0e36527d0cd620f4d2a66c"
  },
  "kernelspec": {
   "display_name": "Python 3.10.4 64-bit",
   "language": "python",
   "name": "python3"
  },
  "language_info": {
   "codemirror_mode": {
    "name": "ipython",
    "version": 3
   },
   "file_extension": ".py",
   "mimetype": "text/x-python",
   "name": "python",
   "nbconvert_exporter": "python",
   "pygments_lexer": "ipython3",
   "version": "3.10.4"
  },
  "orig_nbformat": 4
 },
 "nbformat": 4,
 "nbformat_minor": 2
}
