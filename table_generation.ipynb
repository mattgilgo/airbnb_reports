{
 "cells": [
  {
   "cell_type": "code",
   "execution_count": 3,
   "metadata": {},
   "outputs": [],
   "source": [
    "import pandas as pd\n",
    "import matplotlib.pyplot as plt\n",
    "import folium\n",
    "import numpy as np\n",
    "import seaborn as sns\n",
    "import os\n",
    "import fastparquet\n",
    "import warnings\n",
    "import geopy\n",
    "from geopy.point import Point\n",
    "import time\n",
    "from pandas.core.common import SettingWithCopyWarning\n",
    "warnings.simplefilter(action='ignore', category=FutureWarning)\n",
    "warnings.simplefilter(action=\"ignore\", category=SettingWithCopyWarning)\n",
    "\n",
    "#df = pd.read_parquet('Downloads/airbnb_parquets')\n",
    "#df.to_csv('csv_printout.csv')"
   ]
  },
  {
   "cell_type": "code",
   "execution_count": 24,
   "metadata": {},
   "outputs": [],
   "source": [
    "def append_fig_to_html(list_of_figs):\n",
    "    for fig in list_of_figs:\n",
    "        with open(\"reports/report_draft.html\",'a') as f:\n",
    "            f.write(fig.to_html(full_html=False, include_plotlyjs='cdn'))\n",
    "\n",
    "# write this later\n",
    "\"\"\"\n",
    "def overwrite_html(list_of_figs):\n",
    "    \n",
    "    with open(\"reports/report_draft.html\",'w') as f:\n",
    "    f.write(listing_fig.to_html(full_html=False, include_plotlyjs='cdn'))\n",
    "    f.write(price_fig.to_html(full_html=False, include_plotlyjs='cdn'))\n",
    "    f.write(price_v_numlist_fig.to_html(full_html=False, include_plotlyjs='cdn'))\n",
    "\"\"\"\n",
    "\n",
    "property_tax_map = {\n",
    "    'AL' : 0.0037,\n",
    "    'AK' : 0.0098,\n",
    "    'AZ' : 0.0060,\n",
    "    'AK' : 0.0061,\n",
    "    'CA' : 0.0070,\n",
    "    'CO' : 0.0052,\n",
    "    'CT' : 0.0173,\n",
    "    'DE' : 0.0059,\n",
    "    'FL' : 0.0086,\n",
    "    'GA' : 0.0087,\n",
    "    'HI' : 0.0031,\n",
    "    'ID' : 0.0065,\n",
    "    'IL' : 0.0197,\n",
    "    'IN' : 0.0081,\n",
    "    'IA' : 0.0143,\n",
    "    'KS' : 0.0128,\n",
    "    'KY' : 0.0078,\n",
    "    'LA' : 0.0051,\n",
    "    'ME' : 0.0120,\n",
    "    'MD' : 0.0101,\n",
    "    'MA' : 0.0108,\n",
    "    'MI' : 0.0131,\n",
    "    'MN' : 0.0105,\n",
    "    'MS' : 0.0063,\n",
    "    'MO' : 0.0096,\n",
    "    'MT' : 0.0074,\n",
    "    'NE' : 0.0154,\n",
    "    'NV' : 0.0056,\n",
    "    'NH' : 0.0189,\n",
    "    'NJ' : 0.0213,\n",
    "    'NM' : 0.0059,\n",
    "    'NY' : 0.0130,\n",
    "    'NC' : 0.0078,\n",
    "    'ND' : 0.0088,\n",
    "    'OH' : 0.0152,\n",
    "    'OK' : 0.0083,\n",
    "    'OR' : 0.0091,\n",
    "    'PA' : 0.0143,\n",
    "    'RI' : 0.0137,\n",
    "    'SC' : 0.0053,\n",
    "    'SD' : 0.0114,\n",
    "    'TN' : 0.0063,\n",
    "    'TX' : 0.0160,\n",
    "    'UT' : 0.0056,\n",
    "    'VT' : 0.0176,\n",
    "    'VA' : 0.0084,\n",
    "    'WA' : 0.0084,\n",
    "    'WV' : 0.0053,\n",
    "    'WI' : 0.0153,\n",
    "    'WY' : 0.0051,\n",
    "    'DC' : 0.0058\n",
    "}\n",
    "\n",
    "def calculate_monthly_maintenance(home_value):\n",
    "    monthly_maintenance = home_value/100/12\n",
    "    return monthly_maintenance\n",
    "\n",
    "def calculate_monthly_taxes(home_value, state_id, property_tax_map=property_tax_map):\n",
    "    tax_rate = property_tax_map.get(state_id)\n",
    "    monthly_tax = home_value*tax_rate/12\n",
    "    return monthly_tax\n",
    "\n",
    "def calculate_mortgage(home_value, interest_rate, num_years, down_payment_pct=0):\n",
    "    if home_value is None:\n",
    "        return None\n",
    "    \n",
    "    per_payment_interest = 0\n",
    "    loan_value = 0\n",
    "\n",
    "\n",
    "    if down_payment_pct >= 1:\n",
    "        down_payment = down_payment_pct/100 * home_value\n",
    "        loan_value = home_value - down_payment\n",
    "    else:\n",
    "        down_payment = down_payment_pct * home_value\n",
    "        loan_value = home_value - down_payment\n",
    "    \n",
    "    if loan_value/home_value < 0.80: \n",
    "        # insert pmi calc here\n",
    "        pmi = 0.01  # using near average value here\n",
    "        pmi_cost = 0.0007*home_value    # shot in the dark after interpolating nerdwallet calculator\n",
    "        if interest_rate >= 1:\n",
    "            per_payment_interest = interest_rate/100/12\n",
    "        else:\n",
    "            per_payment_interest = interest_rate/12\n",
    "        num_months = num_years*12\n",
    "        mortgage = loan_value*(per_payment_interest*(1+per_payment_interest)**num_months)/((1+per_payment_interest)**num_months-1) + pmi_cost\n",
    "\n",
    "        mortgage = np.round(mortgage, 2)\n",
    "        return mortgage\n",
    "    else:\n",
    "        if interest_rate >= 1:\n",
    "            per_payment_interest = interest_rate/100/12\n",
    "        else:\n",
    "            per_payment_interest = interest_rate/12\n",
    "        num_months = num_years*12\n",
    "        mortgage = loan_value*(per_payment_interest*(1+per_payment_interest)**num_months)/((1+per_payment_interest)**num_months-1)\n",
    "\n",
    "        mortgage = np.round(mortgage, 2)\n",
    "        return mortgage\n",
    "\n",
    "def calculate_roi(airbnb_daily_price, occupancy_rate, monthly_mortgage, monthly_maintenence=0, monthly_taxes=0):\n",
    "    gross_rev = airbnb_daily_price * occupancy_rate * 365/12\n",
    "    net_rev = gross_rev - monthly_maintenence - monthly_taxes\n",
    "    profit = net_rev - monthly_mortgage\n",
    "    roi = profit/monthly_mortgage\n",
    "    roi = roi\n",
    "    return roi\n",
    "\n",
    "def set_location_desc(lat,long,geolocator):\n",
    "    lat = str(lat)\n",
    "    long = str(long)\n",
    "    location = geolocator.reverse(lat+\",\"+long)\n",
    "    address = location.raw['address']\n",
    "    city = address.get('city', '')\n",
    "    state = address.get('state', '')\n",
    "    country = address.get('country')\n",
    "    country_code = address.get('country_code')\n",
    "    zipcode = address.get('postcode', '')\n",
    "    return city, state, country, country_code, zipcode\n",
    "\n",
    "def set_city(lat, long, geolocator):\n",
    "    start_time = time.time()\n",
    "    lat = str(lat)\n",
    "    print(\"---Latitude casted to string at %s seconds ---\" % (time.time() - start_time))\n",
    "\n",
    "    long = str(long)\n",
    "    print(\"---Longitude casted at %s seconds ---\" % (time.time() - start_time))\n",
    "\n",
    "    location = geolocator.reverse(lat+\",\"+long)\n",
    "    print(\"---Get location json from geopy at %s seconds ---\" % (time.time() - start_time))\n",
    "\n",
    "    address = location.raw['address']\n",
    "    print(\"---Get address json at %s seconds ---\" % (time.time() - start_time))\n",
    "\n",
    "    city = address.get('city', '')\n",
    "    print(\"---Get city value at %s seconds ---\" % (time.time() - start_time))\n",
    "    return city\n",
    "\n",
    "def set_state(lat, long):\n",
    "    from geopy.geocoders import Nominatim\n",
    "    geolocator = Nominatim(user_agent=\"geoapiExercises\")\n",
    "    lat = str(lat)\n",
    "    long = str(long)\n",
    "    location = geolocator.reverse(Point(lat,long))\n",
    "    address = location.raw['address']\n",
    "    state = address.get('state', '')\n",
    "    return state\n",
    "\n",
    "def set_country(lat, long):\n",
    "    from geopy.geocoders import Nominatim\n",
    "    geolocator = Nominatim(user_agent=\"geoapiExercises\")\n",
    "    lat = str(lat)\n",
    "    long = str(long)\n",
    "    location = geolocator.reverse(Point(lat,long))\n",
    "    address = location.raw['address']\n",
    "    country = address.get('country')\n",
    "    return country\n",
    "\n",
    "def set_country_code(lat, long):\n",
    "    from geopy.geocoders import Nominatim\n",
    "    geolocator = Nominatim(user_agent=\"geoapiExercises\")\n",
    "    lat = str(lat)\n",
    "    long = str(long)\n",
    "    location = geolocator.reverse(lat+\",\"+long)\n",
    "    address = location.raw['address']\n",
    "    country_code = address.get('country_code')\n",
    "    return country_code\n",
    "\n",
    "def set_zipcode(lat, long):\n",
    "    from geopy.geocoders import Nominatim\n",
    "    geolocator = Nominatim(user_agent=\"geoapiExercises\")\n",
    "    lat = str(lat)\n",
    "    long = str(long)\n",
    "    location = geolocator.reverse(Point(lat,long))\n",
    "    address = location.raw['address']\n",
    "    zipcode = address.get('postcode', '')\n",
    "    return zipcode\n",
    "\n",
    "def set_interpolated_state(top_lat,bottom_lat,left_long,right_long):\n",
    "    lat = (top_lat+bottom_lat)/2\n",
    "    long = (left_long+right_long)/2\n",
    "    state = set_state(lat, long)\n",
    "    return state\n",
    "\n",
    "\n",
    "def set_avg_home_val(home_values, city, state, num_beds):\n",
    "    if num_beds <= 5:\n",
    "        desired_row = home_values[(home_values['RegionName'] == city) & (home_values['State'] == state) & (home_values['num_beds'] == num_beds)]\n",
    "        avg_value = desired_row['2022-04-30']\n",
    "        if len(avg_value) == 0:\n",
    "            return None\n",
    "        else:\n",
    "            return avg_value.iloc[0]\n",
    "    else:\n",
    "        desired_row = home_values[(home_values['RegionName'] == city) & (home_values['State'] == state) & (home_values['num_beds'] == 5)]\n",
    "        avg_value = desired_row['2022-04-30']\n",
    "        if len(avg_value) == 0:\n",
    "            return None\n",
    "        else:\n",
    "            return avg_value.iloc[0]*num_beds/5  # <-- improve this with linear regression later on\n",
    "\n",
    "def list_options_for_dash(df_series):\n",
    "    options = []\n",
    "    value = 0\n",
    "    for i in df_series:\n",
    "        if value == 0:\n",
    "            value = i\n",
    "        town = {'label':i, 'value':i}\n",
    "        dict_copy = town.copy()\n",
    "        options.append(dict_copy)\n",
    "    return options, value\n"
   ]
  },
  {
   "cell_type": "code",
   "execution_count": 176,
   "metadata": {},
   "outputs": [
    {
     "data": {
      "text/plain": [
       "0    SC\n",
       "1    SC\n",
       "2    SC\n",
       "3    SC\n",
       "4    SC\n",
       "Name: state_id, dtype: object"
      ]
     },
     "execution_count": 176,
     "metadata": {},
     "output_type": "execute_result"
    }
   ],
   "source": [
    "listing_data_static['state_id'].head()"
   ]
  },
  {
   "cell_type": "code",
   "execution_count": 3,
   "metadata": {},
   "outputs": [
    {
     "name": "stdout",
     "output_type": "stream",
     "text": [
      "(1, 25)\n",
      "(2468, 25)\n",
      "(4224, 25)\n",
      "(5535, 25)\n"
     ]
    }
   ],
   "source": [
    "# Load in listing data\n",
    "nc_dir = 'C:/Users/mattg/Desktop/Hobbies/airbnb_reports/bucket_data/listings/north_carolina'\n",
    "first_file = ''\n",
    "for file in os.listdir(nc_dir):\n",
    "    first_file = os.path.join(nc_dir,file)\n",
    "    break\n",
    "listing_data = pd.read_parquet(first_file)\n",
    "print(listing_data.shape)\n",
    "for file in os.listdir(nc_dir):\n",
    "    next_file = os.path.join(nc_dir,file)\n",
    "    if next_file != first_file:\n",
    "        next_listing = pd.read_parquet(next_file)\n",
    "        listing_data = listing_data.append(next_listing)\n",
    "print(listing_data.shape)\n",
    "\n",
    "ne_dir = 'C:/Users/mattg/Desktop/Hobbies/airbnb_reports/bucket_data/listings/vt_nh'\n",
    "for file in os.listdir(ne_dir):\n",
    "    next_file = os.path.join(ne_dir,file)\n",
    "    next_listing = pd.read_parquet(next_file)\n",
    "    listing_data = listing_data.append(next_listing)\n",
    "print(listing_data.shape)\n",
    "\n",
    "miami_dir = 'C:/Users/mattg/Desktop/Hobbies/airbnb_reports/bucket_data/listings/miami'\n",
    "for file in os.listdir(miami_dir):\n",
    "    next_file = os.path.join(miami_dir,file)\n",
    "    next_listing = pd.read_parquet(next_file)\n",
    "    listing_data = listing_data.append(next_listing)\n",
    "print(listing_data.shape)\n",
    "\n",
    "# Load in occupancy data\n",
    "occ_data = pd.read_parquet('C:/Users/mattg/Desktop/Hobbies/airbnb_reports/bucket_data/occupancy')\n",
    "\n",
    "# Load in price data\n",
    "price_data = pd.read_parquet('C:/Users/mattg/Desktop/Hobbies/airbnb_reports/bucket_data/prices')"
   ]
  },
  {
   "cell_type": "code",
   "execution_count": 28,
   "metadata": {},
   "outputs": [],
   "source": [
    "# Load in occupancy data\n",
    "occ_data = pd.read_parquet('C:/Users/mattg/Desktop/Hobbies/airbnb_reports/bucket_data/occupancy')\n",
    "\n",
    "# Load in price data\n",
    "price_data = pd.read_parquet('C:/Users/mattg/Desktop/Hobbies/airbnb_reports/bucket_data/prices')"
   ]
  },
  {
   "cell_type": "code",
   "execution_count": 29,
   "metadata": {},
   "outputs": [
    {
     "ename": "KeyboardInterrupt",
     "evalue": "",
     "output_type": "error",
     "traceback": [
      "\u001b[1;31m---------------------------------------------------------------------------\u001b[0m",
      "\u001b[1;31mKeyboardInterrupt\u001b[0m                         Traceback (most recent call last)",
      "\u001b[1;32mc:\\Users\\mattg\\Desktop\\Hobbies\\airbnb_reports\\table_generation.ipynb Cell 6'\u001b[0m in \u001b[0;36m<cell line: 1>\u001b[1;34m()\u001b[0m\n\u001b[1;32m----> <a href='vscode-notebook-cell:/c%3A/Users/mattg/Desktop/Hobbies/airbnb_reports/table_generation.ipynb#ch0000033?line=0'>1</a>\u001b[0m occ_data\u001b[39m.\u001b[39;49mto_csv(\u001b[39m'\u001b[39;49m\u001b[39mocc_data.csv\u001b[39;49m\u001b[39m'\u001b[39;49m)\n\u001b[0;32m      <a href='vscode-notebook-cell:/c%3A/Users/mattg/Desktop/Hobbies/airbnb_reports/table_generation.ipynb#ch0000033?line=1'>2</a>\u001b[0m price_data\u001b[39m.\u001b[39mto_csv(\u001b[39m'\u001b[39m\u001b[39mprice_data.csv\u001b[39m\u001b[39m'\u001b[39m)\n",
      "File \u001b[1;32mc:\\Users\\mattg\\AppData\\Local\\Programs\\Python\\Python310\\lib\\site-packages\\pandas\\core\\generic.py:3551\u001b[0m, in \u001b[0;36mNDFrame.to_csv\u001b[1;34m(self, path_or_buf, sep, na_rep, float_format, columns, header, index, index_label, mode, encoding, compression, quoting, quotechar, line_terminator, chunksize, date_format, doublequote, escapechar, decimal, errors, storage_options)\u001b[0m\n\u001b[0;32m   <a href='file:///c%3A/Users/mattg/AppData/Local/Programs/Python/Python310/lib/site-packages/pandas/core/generic.py?line=3539'>3540</a>\u001b[0m df \u001b[39m=\u001b[39m \u001b[39mself\u001b[39m \u001b[39mif\u001b[39;00m \u001b[39misinstance\u001b[39m(\u001b[39mself\u001b[39m, ABCDataFrame) \u001b[39melse\u001b[39;00m \u001b[39mself\u001b[39m\u001b[39m.\u001b[39mto_frame()\n\u001b[0;32m   <a href='file:///c%3A/Users/mattg/AppData/Local/Programs/Python/Python310/lib/site-packages/pandas/core/generic.py?line=3541'>3542</a>\u001b[0m formatter \u001b[39m=\u001b[39m DataFrameFormatter(\n\u001b[0;32m   <a href='file:///c%3A/Users/mattg/AppData/Local/Programs/Python/Python310/lib/site-packages/pandas/core/generic.py?line=3542'>3543</a>\u001b[0m     frame\u001b[39m=\u001b[39mdf,\n\u001b[0;32m   <a href='file:///c%3A/Users/mattg/AppData/Local/Programs/Python/Python310/lib/site-packages/pandas/core/generic.py?line=3543'>3544</a>\u001b[0m     header\u001b[39m=\u001b[39mheader,\n\u001b[1;32m   (...)\u001b[0m\n\u001b[0;32m   <a href='file:///c%3A/Users/mattg/AppData/Local/Programs/Python/Python310/lib/site-packages/pandas/core/generic.py?line=3547'>3548</a>\u001b[0m     decimal\u001b[39m=\u001b[39mdecimal,\n\u001b[0;32m   <a href='file:///c%3A/Users/mattg/AppData/Local/Programs/Python/Python310/lib/site-packages/pandas/core/generic.py?line=3548'>3549</a>\u001b[0m )\n\u001b[1;32m-> <a href='file:///c%3A/Users/mattg/AppData/Local/Programs/Python/Python310/lib/site-packages/pandas/core/generic.py?line=3550'>3551</a>\u001b[0m \u001b[39mreturn\u001b[39;00m DataFrameRenderer(formatter)\u001b[39m.\u001b[39;49mto_csv(\n\u001b[0;32m   <a href='file:///c%3A/Users/mattg/AppData/Local/Programs/Python/Python310/lib/site-packages/pandas/core/generic.py?line=3551'>3552</a>\u001b[0m     path_or_buf,\n\u001b[0;32m   <a href='file:///c%3A/Users/mattg/AppData/Local/Programs/Python/Python310/lib/site-packages/pandas/core/generic.py?line=3552'>3553</a>\u001b[0m     line_terminator\u001b[39m=\u001b[39;49mline_terminator,\n\u001b[0;32m   <a href='file:///c%3A/Users/mattg/AppData/Local/Programs/Python/Python310/lib/site-packages/pandas/core/generic.py?line=3553'>3554</a>\u001b[0m     sep\u001b[39m=\u001b[39;49msep,\n\u001b[0;32m   <a href='file:///c%3A/Users/mattg/AppData/Local/Programs/Python/Python310/lib/site-packages/pandas/core/generic.py?line=3554'>3555</a>\u001b[0m     encoding\u001b[39m=\u001b[39;49mencoding,\n\u001b[0;32m   <a href='file:///c%3A/Users/mattg/AppData/Local/Programs/Python/Python310/lib/site-packages/pandas/core/generic.py?line=3555'>3556</a>\u001b[0m     errors\u001b[39m=\u001b[39;49merrors,\n\u001b[0;32m   <a href='file:///c%3A/Users/mattg/AppData/Local/Programs/Python/Python310/lib/site-packages/pandas/core/generic.py?line=3556'>3557</a>\u001b[0m     compression\u001b[39m=\u001b[39;49mcompression,\n\u001b[0;32m   <a href='file:///c%3A/Users/mattg/AppData/Local/Programs/Python/Python310/lib/site-packages/pandas/core/generic.py?line=3557'>3558</a>\u001b[0m     quoting\u001b[39m=\u001b[39;49mquoting,\n\u001b[0;32m   <a href='file:///c%3A/Users/mattg/AppData/Local/Programs/Python/Python310/lib/site-packages/pandas/core/generic.py?line=3558'>3559</a>\u001b[0m     columns\u001b[39m=\u001b[39;49mcolumns,\n\u001b[0;32m   <a href='file:///c%3A/Users/mattg/AppData/Local/Programs/Python/Python310/lib/site-packages/pandas/core/generic.py?line=3559'>3560</a>\u001b[0m     index_label\u001b[39m=\u001b[39;49mindex_label,\n\u001b[0;32m   <a href='file:///c%3A/Users/mattg/AppData/Local/Programs/Python/Python310/lib/site-packages/pandas/core/generic.py?line=3560'>3561</a>\u001b[0m     mode\u001b[39m=\u001b[39;49mmode,\n\u001b[0;32m   <a href='file:///c%3A/Users/mattg/AppData/Local/Programs/Python/Python310/lib/site-packages/pandas/core/generic.py?line=3561'>3562</a>\u001b[0m     chunksize\u001b[39m=\u001b[39;49mchunksize,\n\u001b[0;32m   <a href='file:///c%3A/Users/mattg/AppData/Local/Programs/Python/Python310/lib/site-packages/pandas/core/generic.py?line=3562'>3563</a>\u001b[0m     quotechar\u001b[39m=\u001b[39;49mquotechar,\n\u001b[0;32m   <a href='file:///c%3A/Users/mattg/AppData/Local/Programs/Python/Python310/lib/site-packages/pandas/core/generic.py?line=3563'>3564</a>\u001b[0m     date_format\u001b[39m=\u001b[39;49mdate_format,\n\u001b[0;32m   <a href='file:///c%3A/Users/mattg/AppData/Local/Programs/Python/Python310/lib/site-packages/pandas/core/generic.py?line=3564'>3565</a>\u001b[0m     doublequote\u001b[39m=\u001b[39;49mdoublequote,\n\u001b[0;32m   <a href='file:///c%3A/Users/mattg/AppData/Local/Programs/Python/Python310/lib/site-packages/pandas/core/generic.py?line=3565'>3566</a>\u001b[0m     escapechar\u001b[39m=\u001b[39;49mescapechar,\n\u001b[0;32m   <a href='file:///c%3A/Users/mattg/AppData/Local/Programs/Python/Python310/lib/site-packages/pandas/core/generic.py?line=3566'>3567</a>\u001b[0m     storage_options\u001b[39m=\u001b[39;49mstorage_options,\n\u001b[0;32m   <a href='file:///c%3A/Users/mattg/AppData/Local/Programs/Python/Python310/lib/site-packages/pandas/core/generic.py?line=3567'>3568</a>\u001b[0m )\n",
      "File \u001b[1;32mc:\\Users\\mattg\\AppData\\Local\\Programs\\Python\\Python310\\lib\\site-packages\\pandas\\io\\formats\\format.py:1180\u001b[0m, in \u001b[0;36mDataFrameRenderer.to_csv\u001b[1;34m(self, path_or_buf, encoding, sep, columns, index_label, mode, compression, quoting, quotechar, line_terminator, chunksize, date_format, doublequote, escapechar, errors, storage_options)\u001b[0m\n\u001b[0;32m   <a href='file:///c%3A/Users/mattg/AppData/Local/Programs/Python/Python310/lib/site-packages/pandas/io/formats/format.py?line=1158'>1159</a>\u001b[0m     created_buffer \u001b[39m=\u001b[39m \u001b[39mFalse\u001b[39;00m\n\u001b[0;32m   <a href='file:///c%3A/Users/mattg/AppData/Local/Programs/Python/Python310/lib/site-packages/pandas/io/formats/format.py?line=1160'>1161</a>\u001b[0m csv_formatter \u001b[39m=\u001b[39m CSVFormatter(\n\u001b[0;32m   <a href='file:///c%3A/Users/mattg/AppData/Local/Programs/Python/Python310/lib/site-packages/pandas/io/formats/format.py?line=1161'>1162</a>\u001b[0m     path_or_buf\u001b[39m=\u001b[39mpath_or_buf,\n\u001b[0;32m   <a href='file:///c%3A/Users/mattg/AppData/Local/Programs/Python/Python310/lib/site-packages/pandas/io/formats/format.py?line=1162'>1163</a>\u001b[0m     line_terminator\u001b[39m=\u001b[39mline_terminator,\n\u001b[1;32m   (...)\u001b[0m\n\u001b[0;32m   <a href='file:///c%3A/Users/mattg/AppData/Local/Programs/Python/Python310/lib/site-packages/pandas/io/formats/format.py?line=1177'>1178</a>\u001b[0m     formatter\u001b[39m=\u001b[39m\u001b[39mself\u001b[39m\u001b[39m.\u001b[39mfmt,\n\u001b[0;32m   <a href='file:///c%3A/Users/mattg/AppData/Local/Programs/Python/Python310/lib/site-packages/pandas/io/formats/format.py?line=1178'>1179</a>\u001b[0m )\n\u001b[1;32m-> <a href='file:///c%3A/Users/mattg/AppData/Local/Programs/Python/Python310/lib/site-packages/pandas/io/formats/format.py?line=1179'>1180</a>\u001b[0m csv_formatter\u001b[39m.\u001b[39;49msave()\n\u001b[0;32m   <a href='file:///c%3A/Users/mattg/AppData/Local/Programs/Python/Python310/lib/site-packages/pandas/io/formats/format.py?line=1181'>1182</a>\u001b[0m \u001b[39mif\u001b[39;00m created_buffer:\n\u001b[0;32m   <a href='file:///c%3A/Users/mattg/AppData/Local/Programs/Python/Python310/lib/site-packages/pandas/io/formats/format.py?line=1182'>1183</a>\u001b[0m     \u001b[39massert\u001b[39;00m \u001b[39misinstance\u001b[39m(path_or_buf, StringIO)\n",
      "File \u001b[1;32mc:\\Users\\mattg\\AppData\\Local\\Programs\\Python\\Python310\\lib\\site-packages\\pandas\\io\\formats\\csvs.py:261\u001b[0m, in \u001b[0;36mCSVFormatter.save\u001b[1;34m(self)\u001b[0m\n\u001b[0;32m    <a href='file:///c%3A/Users/mattg/AppData/Local/Programs/Python/Python310/lib/site-packages/pandas/io/formats/csvs.py?line=240'>241</a>\u001b[0m \u001b[39mwith\u001b[39;00m get_handle(\n\u001b[0;32m    <a href='file:///c%3A/Users/mattg/AppData/Local/Programs/Python/Python310/lib/site-packages/pandas/io/formats/csvs.py?line=241'>242</a>\u001b[0m     \u001b[39mself\u001b[39m\u001b[39m.\u001b[39mfilepath_or_buffer,\n\u001b[0;32m    <a href='file:///c%3A/Users/mattg/AppData/Local/Programs/Python/Python310/lib/site-packages/pandas/io/formats/csvs.py?line=242'>243</a>\u001b[0m     \u001b[39mself\u001b[39m\u001b[39m.\u001b[39mmode,\n\u001b[1;32m   (...)\u001b[0m\n\u001b[0;32m    <a href='file:///c%3A/Users/mattg/AppData/Local/Programs/Python/Python310/lib/site-packages/pandas/io/formats/csvs.py?line=248'>249</a>\u001b[0m \n\u001b[0;32m    <a href='file:///c%3A/Users/mattg/AppData/Local/Programs/Python/Python310/lib/site-packages/pandas/io/formats/csvs.py?line=249'>250</a>\u001b[0m     \u001b[39m# Note: self.encoding is irrelevant here\u001b[39;00m\n\u001b[0;32m    <a href='file:///c%3A/Users/mattg/AppData/Local/Programs/Python/Python310/lib/site-packages/pandas/io/formats/csvs.py?line=250'>251</a>\u001b[0m     \u001b[39mself\u001b[39m\u001b[39m.\u001b[39mwriter \u001b[39m=\u001b[39m csvlib\u001b[39m.\u001b[39mwriter(\n\u001b[0;32m    <a href='file:///c%3A/Users/mattg/AppData/Local/Programs/Python/Python310/lib/site-packages/pandas/io/formats/csvs.py?line=251'>252</a>\u001b[0m         handles\u001b[39m.\u001b[39mhandle,\n\u001b[0;32m    <a href='file:///c%3A/Users/mattg/AppData/Local/Programs/Python/Python310/lib/site-packages/pandas/io/formats/csvs.py?line=252'>253</a>\u001b[0m         lineterminator\u001b[39m=\u001b[39m\u001b[39mself\u001b[39m\u001b[39m.\u001b[39mline_terminator,\n\u001b[1;32m   (...)\u001b[0m\n\u001b[0;32m    <a href='file:///c%3A/Users/mattg/AppData/Local/Programs/Python/Python310/lib/site-packages/pandas/io/formats/csvs.py?line=257'>258</a>\u001b[0m         quotechar\u001b[39m=\u001b[39m\u001b[39mself\u001b[39m\u001b[39m.\u001b[39mquotechar,\n\u001b[0;32m    <a href='file:///c%3A/Users/mattg/AppData/Local/Programs/Python/Python310/lib/site-packages/pandas/io/formats/csvs.py?line=258'>259</a>\u001b[0m     )\n\u001b[1;32m--> <a href='file:///c%3A/Users/mattg/AppData/Local/Programs/Python/Python310/lib/site-packages/pandas/io/formats/csvs.py?line=260'>261</a>\u001b[0m     \u001b[39mself\u001b[39;49m\u001b[39m.\u001b[39;49m_save()\n",
      "File \u001b[1;32mc:\\Users\\mattg\\AppData\\Local\\Programs\\Python\\Python310\\lib\\site-packages\\pandas\\io\\formats\\csvs.py:266\u001b[0m, in \u001b[0;36mCSVFormatter._save\u001b[1;34m(self)\u001b[0m\n\u001b[0;32m    <a href='file:///c%3A/Users/mattg/AppData/Local/Programs/Python/Python310/lib/site-packages/pandas/io/formats/csvs.py?line=263'>264</a>\u001b[0m \u001b[39mif\u001b[39;00m \u001b[39mself\u001b[39m\u001b[39m.\u001b[39m_need_to_save_header:\n\u001b[0;32m    <a href='file:///c%3A/Users/mattg/AppData/Local/Programs/Python/Python310/lib/site-packages/pandas/io/formats/csvs.py?line=264'>265</a>\u001b[0m     \u001b[39mself\u001b[39m\u001b[39m.\u001b[39m_save_header()\n\u001b[1;32m--> <a href='file:///c%3A/Users/mattg/AppData/Local/Programs/Python/Python310/lib/site-packages/pandas/io/formats/csvs.py?line=265'>266</a>\u001b[0m \u001b[39mself\u001b[39;49m\u001b[39m.\u001b[39;49m_save_body()\n",
      "File \u001b[1;32mc:\\Users\\mattg\\AppData\\Local\\Programs\\Python\\Python310\\lib\\site-packages\\pandas\\io\\formats\\csvs.py:304\u001b[0m, in \u001b[0;36mCSVFormatter._save_body\u001b[1;34m(self)\u001b[0m\n\u001b[0;32m    <a href='file:///c%3A/Users/mattg/AppData/Local/Programs/Python/Python310/lib/site-packages/pandas/io/formats/csvs.py?line=301'>302</a>\u001b[0m \u001b[39mif\u001b[39;00m start_i \u001b[39m>\u001b[39m\u001b[39m=\u001b[39m end_i:\n\u001b[0;32m    <a href='file:///c%3A/Users/mattg/AppData/Local/Programs/Python/Python310/lib/site-packages/pandas/io/formats/csvs.py?line=302'>303</a>\u001b[0m     \u001b[39mbreak\u001b[39;00m\n\u001b[1;32m--> <a href='file:///c%3A/Users/mattg/AppData/Local/Programs/Python/Python310/lib/site-packages/pandas/io/formats/csvs.py?line=303'>304</a>\u001b[0m \u001b[39mself\u001b[39;49m\u001b[39m.\u001b[39;49m_save_chunk(start_i, end_i)\n",
      "File \u001b[1;32mc:\\Users\\mattg\\AppData\\Local\\Programs\\Python\\Python310\\lib\\site-packages\\pandas\\io\\formats\\csvs.py:311\u001b[0m, in \u001b[0;36mCSVFormatter._save_chunk\u001b[1;34m(self, start_i, end_i)\u001b[0m\n\u001b[0;32m    <a href='file:///c%3A/Users/mattg/AppData/Local/Programs/Python/Python310/lib/site-packages/pandas/io/formats/csvs.py?line=307'>308</a>\u001b[0m slicer \u001b[39m=\u001b[39m \u001b[39mslice\u001b[39m(start_i, end_i)\n\u001b[0;32m    <a href='file:///c%3A/Users/mattg/AppData/Local/Programs/Python/Python310/lib/site-packages/pandas/io/formats/csvs.py?line=308'>309</a>\u001b[0m df \u001b[39m=\u001b[39m \u001b[39mself\u001b[39m\u001b[39m.\u001b[39mobj\u001b[39m.\u001b[39miloc[slicer]\n\u001b[1;32m--> <a href='file:///c%3A/Users/mattg/AppData/Local/Programs/Python/Python310/lib/site-packages/pandas/io/formats/csvs.py?line=310'>311</a>\u001b[0m res \u001b[39m=\u001b[39m df\u001b[39m.\u001b[39m_mgr\u001b[39m.\u001b[39mto_native_types(\u001b[39m*\u001b[39m\u001b[39m*\u001b[39m\u001b[39mself\u001b[39m\u001b[39m.\u001b[39m_number_format)\n\u001b[0;32m    <a href='file:///c%3A/Users/mattg/AppData/Local/Programs/Python/Python310/lib/site-packages/pandas/io/formats/csvs.py?line=311'>312</a>\u001b[0m data \u001b[39m=\u001b[39m [res\u001b[39m.\u001b[39miget_values(i) \u001b[39mfor\u001b[39;00m i \u001b[39min\u001b[39;00m \u001b[39mrange\u001b[39m(\u001b[39mlen\u001b[39m(res\u001b[39m.\u001b[39mitems))]\n\u001b[0;32m    <a href='file:///c%3A/Users/mattg/AppData/Local/Programs/Python/Python310/lib/site-packages/pandas/io/formats/csvs.py?line=313'>314</a>\u001b[0m ix \u001b[39m=\u001b[39m \u001b[39mself\u001b[39m\u001b[39m.\u001b[39mdata_index[slicer]\u001b[39m.\u001b[39m_format_native_types(\u001b[39m*\u001b[39m\u001b[39m*\u001b[39m\u001b[39mself\u001b[39m\u001b[39m.\u001b[39m_number_format)\n",
      "File \u001b[1;32mc:\\Users\\mattg\\AppData\\Local\\Programs\\Python\\Python310\\lib\\site-packages\\pandas\\core\\internals\\managers.py:473\u001b[0m, in \u001b[0;36mBaseBlockManager.to_native_types\u001b[1;34m(self, **kwargs)\u001b[0m\n\u001b[0;32m    <a href='file:///c%3A/Users/mattg/AppData/Local/Programs/Python/Python310/lib/site-packages/pandas/core/internals/managers.py?line=467'>468</a>\u001b[0m \u001b[39mdef\u001b[39;00m \u001b[39mto_native_types\u001b[39m(\u001b[39mself\u001b[39m: T, \u001b[39m*\u001b[39m\u001b[39m*\u001b[39mkwargs) \u001b[39m-\u001b[39m\u001b[39m>\u001b[39m T:\n\u001b[0;32m    <a href='file:///c%3A/Users/mattg/AppData/Local/Programs/Python/Python310/lib/site-packages/pandas/core/internals/managers.py?line=468'>469</a>\u001b[0m     \u001b[39m\"\"\"\u001b[39;00m\n\u001b[0;32m    <a href='file:///c%3A/Users/mattg/AppData/Local/Programs/Python/Python310/lib/site-packages/pandas/core/internals/managers.py?line=469'>470</a>\u001b[0m \u001b[39m    Convert values to native types (strings / python objects) that are used\u001b[39;00m\n\u001b[0;32m    <a href='file:///c%3A/Users/mattg/AppData/Local/Programs/Python/Python310/lib/site-packages/pandas/core/internals/managers.py?line=470'>471</a>\u001b[0m \u001b[39m    in formatting (repr / csv).\u001b[39;00m\n\u001b[0;32m    <a href='file:///c%3A/Users/mattg/AppData/Local/Programs/Python/Python310/lib/site-packages/pandas/core/internals/managers.py?line=471'>472</a>\u001b[0m \u001b[39m    \"\"\"\u001b[39;00m\n\u001b[1;32m--> <a href='file:///c%3A/Users/mattg/AppData/Local/Programs/Python/Python310/lib/site-packages/pandas/core/internals/managers.py?line=472'>473</a>\u001b[0m     \u001b[39mreturn\u001b[39;00m \u001b[39mself\u001b[39m\u001b[39m.\u001b[39mapply(\u001b[39m\"\u001b[39m\u001b[39mto_native_types\u001b[39m\u001b[39m\"\u001b[39m, \u001b[39m*\u001b[39m\u001b[39m*\u001b[39mkwargs)\n",
      "File \u001b[1;32mc:\\Users\\mattg\\AppData\\Local\\Programs\\Python\\Python310\\lib\\site-packages\\pandas\\core\\internals\\managers.py:304\u001b[0m, in \u001b[0;36mBaseBlockManager.apply\u001b[1;34m(self, f, align_keys, ignore_failures, **kwargs)\u001b[0m\n\u001b[0;32m    <a href='file:///c%3A/Users/mattg/AppData/Local/Programs/Python/Python310/lib/site-packages/pandas/core/internals/managers.py?line=301'>302</a>\u001b[0m         applied \u001b[39m=\u001b[39m b\u001b[39m.\u001b[39mapply(f, \u001b[39m*\u001b[39m\u001b[39m*\u001b[39mkwargs)\n\u001b[0;32m    <a href='file:///c%3A/Users/mattg/AppData/Local/Programs/Python/Python310/lib/site-packages/pandas/core/internals/managers.py?line=302'>303</a>\u001b[0m     \u001b[39melse\u001b[39;00m:\n\u001b[1;32m--> <a href='file:///c%3A/Users/mattg/AppData/Local/Programs/Python/Python310/lib/site-packages/pandas/core/internals/managers.py?line=303'>304</a>\u001b[0m         applied \u001b[39m=\u001b[39m \u001b[39mgetattr\u001b[39m(b, f)(\u001b[39m*\u001b[39m\u001b[39m*\u001b[39mkwargs)\n\u001b[0;32m    <a href='file:///c%3A/Users/mattg/AppData/Local/Programs/Python/Python310/lib/site-packages/pandas/core/internals/managers.py?line=304'>305</a>\u001b[0m \u001b[39mexcept\u001b[39;00m (\u001b[39mTypeError\u001b[39;00m, \u001b[39mNotImplementedError\u001b[39;00m):\n\u001b[0;32m    <a href='file:///c%3A/Users/mattg/AppData/Local/Programs/Python/Python310/lib/site-packages/pandas/core/internals/managers.py?line=305'>306</a>\u001b[0m     \u001b[39mif\u001b[39;00m \u001b[39mnot\u001b[39;00m ignore_failures:\n",
      "File \u001b[1;32mc:\\Users\\mattg\\AppData\\Local\\Programs\\Python\\Python310\\lib\\site-packages\\pandas\\core\\internals\\blocks.py:634\u001b[0m, in \u001b[0;36mBlock.to_native_types\u001b[1;34m(self, na_rep, quoting, **kwargs)\u001b[0m\n\u001b[0;32m    <a href='file:///c%3A/Users/mattg/AppData/Local/Programs/Python/Python310/lib/site-packages/pandas/core/internals/blocks.py?line=630'>631</a>\u001b[0m \u001b[39m@final\u001b[39m\n\u001b[0;32m    <a href='file:///c%3A/Users/mattg/AppData/Local/Programs/Python/Python310/lib/site-packages/pandas/core/internals/blocks.py?line=631'>632</a>\u001b[0m \u001b[39mdef\u001b[39;00m \u001b[39mto_native_types\u001b[39m(\u001b[39mself\u001b[39m, na_rep\u001b[39m=\u001b[39m\u001b[39m\"\u001b[39m\u001b[39mnan\u001b[39m\u001b[39m\"\u001b[39m, quoting\u001b[39m=\u001b[39m\u001b[39mNone\u001b[39;00m, \u001b[39m*\u001b[39m\u001b[39m*\u001b[39mkwargs):\n\u001b[0;32m    <a href='file:///c%3A/Users/mattg/AppData/Local/Programs/Python/Python310/lib/site-packages/pandas/core/internals/blocks.py?line=632'>633</a>\u001b[0m     \u001b[39m\"\"\"convert to our native types format\"\"\"\u001b[39;00m\n\u001b[1;32m--> <a href='file:///c%3A/Users/mattg/AppData/Local/Programs/Python/Python310/lib/site-packages/pandas/core/internals/blocks.py?line=633'>634</a>\u001b[0m     result \u001b[39m=\u001b[39m to_native_types(\u001b[39mself\u001b[39m\u001b[39m.\u001b[39mvalues, na_rep\u001b[39m=\u001b[39mna_rep, quoting\u001b[39m=\u001b[39mquoting, \u001b[39m*\u001b[39m\u001b[39m*\u001b[39mkwargs)\n\u001b[0;32m    <a href='file:///c%3A/Users/mattg/AppData/Local/Programs/Python/Python310/lib/site-packages/pandas/core/internals/blocks.py?line=634'>635</a>\u001b[0m     \u001b[39mreturn\u001b[39;00m \u001b[39mself\u001b[39m\u001b[39m.\u001b[39mmake_block(result)\n",
      "File \u001b[1;32mc:\\Users\\mattg\\AppData\\Local\\Programs\\Python\\Python310\\lib\\site-packages\\pandas\\core\\internals\\blocks.py:2235\u001b[0m, in \u001b[0;36mto_native_types\u001b[1;34m(values, na_rep, quoting, float_format, decimal, **kwargs)\u001b[0m\n\u001b[0;32m   <a href='file:///c%3A/Users/mattg/AppData/Local/Programs/Python/Python310/lib/site-packages/pandas/core/internals/blocks.py?line=2231'>2232</a>\u001b[0m     values \u001b[39m=\u001b[39m np\u001b[39m.\u001b[39marray(values, dtype\u001b[39m=\u001b[39m\u001b[39m\"\u001b[39m\u001b[39mobject\u001b[39m\u001b[39m\"\u001b[39m)\n\u001b[0;32m   <a href='file:///c%3A/Users/mattg/AppData/Local/Programs/Python/Python310/lib/site-packages/pandas/core/internals/blocks.py?line=2233'>2234</a>\u001b[0m values[mask] \u001b[39m=\u001b[39m na_rep\n\u001b[1;32m-> <a href='file:///c%3A/Users/mattg/AppData/Local/Programs/Python/Python310/lib/site-packages/pandas/core/internals/blocks.py?line=2234'>2235</a>\u001b[0m values \u001b[39m=\u001b[39m values\u001b[39m.\u001b[39;49mastype(\u001b[39mobject\u001b[39;49m, copy\u001b[39m=\u001b[39;49m\u001b[39mFalse\u001b[39;49;00m)\n\u001b[0;32m   <a href='file:///c%3A/Users/mattg/AppData/Local/Programs/Python/Python310/lib/site-packages/pandas/core/internals/blocks.py?line=2235'>2236</a>\u001b[0m \u001b[39mreturn\u001b[39;00m values\n",
      "\u001b[1;31mKeyboardInterrupt\u001b[0m: "
     ]
    }
   ],
   "source": [
    "occ_data.to_csv('occ_data.csv')\n",
    "price_data.to_csv('price_data.csv')"
   ]
  },
  {
   "cell_type": "code",
   "execution_count": 4,
   "metadata": {},
   "outputs": [
    {
     "ename": "ValueError",
     "evalue": "All arrays must be of the same length",
     "output_type": "error",
     "traceback": [
      "\u001b[1;31m---------------------------------------------------------------------------\u001b[0m",
      "\u001b[1;31mValueError\u001b[0m                                Traceback (most recent call last)",
      "\u001b[1;32mc:\\Users\\mattg\\Desktop\\Hobbies\\airbnb_reports\\table_generation.ipynb Cell 5'\u001b[0m in \u001b[0;36m<cell line: 6>\u001b[1;34m()\u001b[0m\n\u001b[0;32m      <a href='vscode-notebook-cell:/c%3A/Users/mattg/Desktop/Hobbies/airbnb_reports/table_generation.ipynb#ch0000004?line=3'>4</a>\u001b[0m right_longs \u001b[39m=\u001b[39m listing_data\u001b[39m.\u001b[39mright_long\u001b[39m.\u001b[39munique()\n\u001b[0;32m      <a href='vscode-notebook-cell:/c%3A/Users/mattg/Desktop/Hobbies/airbnb_reports/table_generation.ipynb#ch0000004?line=4'>5</a>\u001b[0m partitions \u001b[39m=\u001b[39m {\u001b[39m'\u001b[39m\u001b[39mtop_lat\u001b[39m\u001b[39m'\u001b[39m: top_lats, \u001b[39m'\u001b[39m\u001b[39mbottom_lat\u001b[39m\u001b[39m'\u001b[39m: bottom_lats, \u001b[39m'\u001b[39m\u001b[39mleft_long\u001b[39m\u001b[39m'\u001b[39m: left_longs, \u001b[39m'\u001b[39m\u001b[39mright_long\u001b[39m\u001b[39m'\u001b[39m: right_longs}\n\u001b[1;32m----> <a href='vscode-notebook-cell:/c%3A/Users/mattg/Desktop/Hobbies/airbnb_reports/table_generation.ipynb#ch0000004?line=5'>6</a>\u001b[0m partition_df \u001b[39m=\u001b[39m pd\u001b[39m.\u001b[39;49mDataFrame(data\u001b[39m=\u001b[39;49mpartitions)\n",
      "File \u001b[1;32mc:\\Users\\mattg\\AppData\\Local\\Programs\\Python\\Python310\\lib\\site-packages\\pandas\\core\\frame.py:636\u001b[0m, in \u001b[0;36mDataFrame.__init__\u001b[1;34m(self, data, index, columns, dtype, copy)\u001b[0m\n\u001b[0;32m    <a href='file:///c%3A/Users/mattg/AppData/Local/Programs/Python/Python310/lib/site-packages/pandas/core/frame.py?line=629'>630</a>\u001b[0m     mgr \u001b[39m=\u001b[39m \u001b[39mself\u001b[39m\u001b[39m.\u001b[39m_init_mgr(\n\u001b[0;32m    <a href='file:///c%3A/Users/mattg/AppData/Local/Programs/Python/Python310/lib/site-packages/pandas/core/frame.py?line=630'>631</a>\u001b[0m         data, axes\u001b[39m=\u001b[39m{\u001b[39m\"\u001b[39m\u001b[39mindex\u001b[39m\u001b[39m\"\u001b[39m: index, \u001b[39m\"\u001b[39m\u001b[39mcolumns\u001b[39m\u001b[39m\"\u001b[39m: columns}, dtype\u001b[39m=\u001b[39mdtype, copy\u001b[39m=\u001b[39mcopy\n\u001b[0;32m    <a href='file:///c%3A/Users/mattg/AppData/Local/Programs/Python/Python310/lib/site-packages/pandas/core/frame.py?line=631'>632</a>\u001b[0m     )\n\u001b[0;32m    <a href='file:///c%3A/Users/mattg/AppData/Local/Programs/Python/Python310/lib/site-packages/pandas/core/frame.py?line=633'>634</a>\u001b[0m \u001b[39melif\u001b[39;00m \u001b[39misinstance\u001b[39m(data, \u001b[39mdict\u001b[39m):\n\u001b[0;32m    <a href='file:///c%3A/Users/mattg/AppData/Local/Programs/Python/Python310/lib/site-packages/pandas/core/frame.py?line=634'>635</a>\u001b[0m     \u001b[39m# GH#38939 de facto copy defaults to False only in non-dict cases\u001b[39;00m\n\u001b[1;32m--> <a href='file:///c%3A/Users/mattg/AppData/Local/Programs/Python/Python310/lib/site-packages/pandas/core/frame.py?line=635'>636</a>\u001b[0m     mgr \u001b[39m=\u001b[39m dict_to_mgr(data, index, columns, dtype\u001b[39m=\u001b[39;49mdtype, copy\u001b[39m=\u001b[39;49mcopy, typ\u001b[39m=\u001b[39;49mmanager)\n\u001b[0;32m    <a href='file:///c%3A/Users/mattg/AppData/Local/Programs/Python/Python310/lib/site-packages/pandas/core/frame.py?line=636'>637</a>\u001b[0m \u001b[39melif\u001b[39;00m \u001b[39misinstance\u001b[39m(data, ma\u001b[39m.\u001b[39mMaskedArray):\n\u001b[0;32m    <a href='file:///c%3A/Users/mattg/AppData/Local/Programs/Python/Python310/lib/site-packages/pandas/core/frame.py?line=637'>638</a>\u001b[0m     \u001b[39mimport\u001b[39;00m \u001b[39mnumpy\u001b[39;00m\u001b[39m.\u001b[39;00m\u001b[39mma\u001b[39;00m\u001b[39m.\u001b[39;00m\u001b[39mmrecords\u001b[39;00m \u001b[39mas\u001b[39;00m \u001b[39mmrecords\u001b[39;00m\n",
      "File \u001b[1;32mc:\\Users\\mattg\\AppData\\Local\\Programs\\Python\\Python310\\lib\\site-packages\\pandas\\core\\internals\\construction.py:502\u001b[0m, in \u001b[0;36mdict_to_mgr\u001b[1;34m(data, index, columns, dtype, typ, copy)\u001b[0m\n\u001b[0;32m    <a href='file:///c%3A/Users/mattg/AppData/Local/Programs/Python/Python310/lib/site-packages/pandas/core/internals/construction.py?line=493'>494</a>\u001b[0m     arrays \u001b[39m=\u001b[39m [\n\u001b[0;32m    <a href='file:///c%3A/Users/mattg/AppData/Local/Programs/Python/Python310/lib/site-packages/pandas/core/internals/construction.py?line=494'>495</a>\u001b[0m         x\n\u001b[0;32m    <a href='file:///c%3A/Users/mattg/AppData/Local/Programs/Python/Python310/lib/site-packages/pandas/core/internals/construction.py?line=495'>496</a>\u001b[0m         \u001b[39mif\u001b[39;00m \u001b[39mnot\u001b[39;00m \u001b[39mhasattr\u001b[39m(x, \u001b[39m\"\u001b[39m\u001b[39mdtype\u001b[39m\u001b[39m\"\u001b[39m) \u001b[39mor\u001b[39;00m \u001b[39mnot\u001b[39;00m \u001b[39misinstance\u001b[39m(x\u001b[39m.\u001b[39mdtype, ExtensionDtype)\n\u001b[0;32m    <a href='file:///c%3A/Users/mattg/AppData/Local/Programs/Python/Python310/lib/site-packages/pandas/core/internals/construction.py?line=496'>497</a>\u001b[0m         \u001b[39melse\u001b[39;00m x\u001b[39m.\u001b[39mcopy()\n\u001b[0;32m    <a href='file:///c%3A/Users/mattg/AppData/Local/Programs/Python/Python310/lib/site-packages/pandas/core/internals/construction.py?line=497'>498</a>\u001b[0m         \u001b[39mfor\u001b[39;00m x \u001b[39min\u001b[39;00m arrays\n\u001b[0;32m    <a href='file:///c%3A/Users/mattg/AppData/Local/Programs/Python/Python310/lib/site-packages/pandas/core/internals/construction.py?line=498'>499</a>\u001b[0m     ]\n\u001b[0;32m    <a href='file:///c%3A/Users/mattg/AppData/Local/Programs/Python/Python310/lib/site-packages/pandas/core/internals/construction.py?line=499'>500</a>\u001b[0m     \u001b[39m# TODO: can we get rid of the dt64tz special case above?\u001b[39;00m\n\u001b[1;32m--> <a href='file:///c%3A/Users/mattg/AppData/Local/Programs/Python/Python310/lib/site-packages/pandas/core/internals/construction.py?line=501'>502</a>\u001b[0m \u001b[39mreturn\u001b[39;00m arrays_to_mgr(arrays, columns, index, dtype\u001b[39m=\u001b[39;49mdtype, typ\u001b[39m=\u001b[39;49mtyp, consolidate\u001b[39m=\u001b[39;49mcopy)\n",
      "File \u001b[1;32mc:\\Users\\mattg\\AppData\\Local\\Programs\\Python\\Python310\\lib\\site-packages\\pandas\\core\\internals\\construction.py:120\u001b[0m, in \u001b[0;36marrays_to_mgr\u001b[1;34m(arrays, columns, index, dtype, verify_integrity, typ, consolidate)\u001b[0m\n\u001b[0;32m    <a href='file:///c%3A/Users/mattg/AppData/Local/Programs/Python/Python310/lib/site-packages/pandas/core/internals/construction.py?line=116'>117</a>\u001b[0m \u001b[39mif\u001b[39;00m verify_integrity:\n\u001b[0;32m    <a href='file:///c%3A/Users/mattg/AppData/Local/Programs/Python/Python310/lib/site-packages/pandas/core/internals/construction.py?line=117'>118</a>\u001b[0m     \u001b[39m# figure out the index, if necessary\u001b[39;00m\n\u001b[0;32m    <a href='file:///c%3A/Users/mattg/AppData/Local/Programs/Python/Python310/lib/site-packages/pandas/core/internals/construction.py?line=118'>119</a>\u001b[0m     \u001b[39mif\u001b[39;00m index \u001b[39mis\u001b[39;00m \u001b[39mNone\u001b[39;00m:\n\u001b[1;32m--> <a href='file:///c%3A/Users/mattg/AppData/Local/Programs/Python/Python310/lib/site-packages/pandas/core/internals/construction.py?line=119'>120</a>\u001b[0m         index \u001b[39m=\u001b[39m _extract_index(arrays)\n\u001b[0;32m    <a href='file:///c%3A/Users/mattg/AppData/Local/Programs/Python/Python310/lib/site-packages/pandas/core/internals/construction.py?line=120'>121</a>\u001b[0m     \u001b[39melse\u001b[39;00m:\n\u001b[0;32m    <a href='file:///c%3A/Users/mattg/AppData/Local/Programs/Python/Python310/lib/site-packages/pandas/core/internals/construction.py?line=121'>122</a>\u001b[0m         index \u001b[39m=\u001b[39m ensure_index(index)\n",
      "File \u001b[1;32mc:\\Users\\mattg\\AppData\\Local\\Programs\\Python\\Python310\\lib\\site-packages\\pandas\\core\\internals\\construction.py:674\u001b[0m, in \u001b[0;36m_extract_index\u001b[1;34m(data)\u001b[0m\n\u001b[0;32m    <a href='file:///c%3A/Users/mattg/AppData/Local/Programs/Python/Python310/lib/site-packages/pandas/core/internals/construction.py?line=671'>672</a>\u001b[0m lengths \u001b[39m=\u001b[39m \u001b[39mlist\u001b[39m(\u001b[39mset\u001b[39m(raw_lengths))\n\u001b[0;32m    <a href='file:///c%3A/Users/mattg/AppData/Local/Programs/Python/Python310/lib/site-packages/pandas/core/internals/construction.py?line=672'>673</a>\u001b[0m \u001b[39mif\u001b[39;00m \u001b[39mlen\u001b[39m(lengths) \u001b[39m>\u001b[39m \u001b[39m1\u001b[39m:\n\u001b[1;32m--> <a href='file:///c%3A/Users/mattg/AppData/Local/Programs/Python/Python310/lib/site-packages/pandas/core/internals/construction.py?line=673'>674</a>\u001b[0m     \u001b[39mraise\u001b[39;00m \u001b[39mValueError\u001b[39;00m(\u001b[39m\"\u001b[39m\u001b[39mAll arrays must be of the same length\u001b[39m\u001b[39m\"\u001b[39m)\n\u001b[0;32m    <a href='file:///c%3A/Users/mattg/AppData/Local/Programs/Python/Python310/lib/site-packages/pandas/core/internals/construction.py?line=675'>676</a>\u001b[0m \u001b[39mif\u001b[39;00m have_dicts:\n\u001b[0;32m    <a href='file:///c%3A/Users/mattg/AppData/Local/Programs/Python/Python310/lib/site-packages/pandas/core/internals/construction.py?line=676'>677</a>\u001b[0m     \u001b[39mraise\u001b[39;00m \u001b[39mValueError\u001b[39;00m(\n\u001b[0;32m    <a href='file:///c%3A/Users/mattg/AppData/Local/Programs/Python/Python310/lib/site-packages/pandas/core/internals/construction.py?line=677'>678</a>\u001b[0m         \u001b[39m\"\u001b[39m\u001b[39mMixing dicts with non-Series may lead to ambiguous ordering.\u001b[39m\u001b[39m\"\u001b[39m\n\u001b[0;32m    <a href='file:///c%3A/Users/mattg/AppData/Local/Programs/Python/Python310/lib/site-packages/pandas/core/internals/construction.py?line=678'>679</a>\u001b[0m     )\n",
      "\u001b[1;31mValueError\u001b[0m: All arrays must be of the same length"
     ]
    }
   ],
   "source": [
    "top_lats = listing_data.top_lat.unique()\n",
    "bottom_lats = listing_data.bottom_lat.unique()\n",
    "left_longs = listing_data.left_long.unique()\n",
    "right_longs = listing_data.right_long.unique()\n",
    "partitions = {'top_lat': top_lats, 'bottom_lat': bottom_lats, 'left_long': left_longs, 'right_long': right_longs}\n",
    "partition_df = pd.DataFrame(data=partitions)"
   ]
  },
  {
   "cell_type": "code",
   "execution_count": 5,
   "metadata": {},
   "outputs": [],
   "source": [
    "# Clean up listing_data\n",
    "conditions = [\n",
    "    listing_data['baths'].str.contains('shared', na=False),\n",
    "    listing_data['baths'].str.contains('Shared', na=False)\n",
    "]\n",
    "\n",
    "values = ['Shared', 'Shared']\n",
    "\n",
    "listing_data['baths_type'] = np.select(conditions, values, default='Private')\n",
    "\n",
    "conditions_loc = [\n",
    "    listing_data['top_lat'] > 35.5,\n",
    "    listing_data['top_lat'] < 28\n",
    "]\n",
    "\n",
    "values_loc = ['New England', 'Miami']\n",
    "\n",
    "listing_data['Region'] = np.select(conditions_loc, values_loc, default='Carolinas')\n",
    "\n",
    "\n",
    "conditions_halfbath = [\n",
    "    listing_data['baths'].str.contains('Half-bath', na=False),\n",
    "    listing_data['baths'].str.contains('Shared half-bath', na=False),\n",
    "    listing_data['baths'].str.contains('Private half-bath', na=False)\n",
    "]\n",
    "\n",
    "values_halfbath = [0.5,0.5,0.5]\n",
    "\n",
    "listing_data['baths'] = np.select(conditions_halfbath, values_halfbath, default=listing_data['baths'])\n",
    "\n",
    "listing_data['baths_no'] = listing_data['baths'].str.split(' ').str[0]\n",
    "listing_data['beds_no'] = listing_data['beds'].str.split(' ').str[0]\n",
    "listing_data['guest_no'] = listing_data['title'].str.split(' ').str[0]\n",
    "listing_data['guest_no'] = listing_data['guest_no'].astype('float')\n",
    "listing_data['id'] = listing_data['id'].astype('float64')\n",
    "listing_data['id'] = listing_data['id'].astype('str')\n",
    "listing_data['town'] = listing_data['town'].str.lower()\n",
    "listing_data = listing_data[listing_data.lat.isna() == False]\n",
    "#listing_data['city_geopy'] = listing_data.apply(lambda row: set_city(row['lat'], row['lng']), axis=1)\n",
    "#listing_data['state_geopy'] = listing_data.apply(lambda row: set_state(row['lat'], row['lng']), axis=1)\n",
    "#listing_data['country_geopy'] = listing_data.apply(lambda row: set_country(row['lat'], row['lng']), axis=1)\n",
    "#listing_data['country_code_geopy'] = listing_data.apply(lambda row: set_country_code(row['lat'], row['lng']), axis=1)\n",
    "#listing_data['zipcode_geopy'] = listing_data.apply(lambda row: set_zipcode(row['lat'], row['lng']), axis=1)\n",
    "\n",
    "# Clean up occ_data\n",
    "#occ_data['id'] = occ_data['id'].astype('int')\n",
    "occ_data['id'] = occ_data['id'].astype('str')\n",
    "\n",
    "# Clean up price_data\n",
    "#price_data['id'] = price_data['id'].astype('int')\n",
    "price_data['id'] = price_data['id'].astype('str')"
   ]
  },
  {
   "cell_type": "code",
   "execution_count": 107,
   "metadata": {},
   "outputs": [
    {
     "name": "stdout",
     "output_type": "stream",
     "text": [
      "Time to run was -1388.3272874355316\n"
     ]
    }
   ],
   "source": [
    "start_time = time.time()\n",
    "listing_data['state'] = listing_data.apply(lambda row: set_state(row['lat'], row['lng']), axis=1)\n",
    "end_time = time.time()\n",
    "print('Time to run was ' + str(start_time-end_time))"
   ]
  },
  {
   "cell_type": "code",
   "execution_count": 109,
   "metadata": {},
   "outputs": [],
   "source": [
    "listing_data.to_csv('listings_w_states.csv')"
   ]
  },
  {
   "cell_type": "code",
   "execution_count": 25,
   "metadata": {},
   "outputs": [],
   "source": [
    "listing_data_static = pd.read_csv('listings_w_states.csv')\n",
    "city_data = pd.read_csv('resource_data/uscities.csv')\n",
    "state_convert = city_data[['state_name','state_id']]\n",
    "state_convert = state_convert.drop_duplicates()\n",
    "listing_data_static = listing_data_static.merge(state_convert, left_on='state', right_on='state_name')\n",
    "#home_value = pd.read_csv('resource_data/home_value_zillow.csv')\n",
    "home_value_1bed = pd.read_csv('resource_data/zillow_city_onebed.csv')\n",
    "home_value_2bed = pd.read_csv('resource_data/zillow_city_twobed.csv')\n",
    "home_value_3bed = pd.read_csv('resource_data/zillow_city_threebed.csv')\n",
    "home_value_4bed = pd.read_csv('resource_data/zillow_city_fourbed.csv')\n",
    "home_value_5plusbed = pd.read_csv('resource_data/zillow_city_fiveplusbed.csv')\n",
    "\n",
    "home_value_1bed['RegionName'] = home_value_1bed['RegionName'].str.lower()\n",
    "home_value_1bed_reduced = home_value_1bed[['RegionName','CountyName', 'Metro', 'StateName','State', '2022-04-30']]\n",
    "home_value_1bed_reduced['num_beds'] = 1\n",
    "\n",
    "home_value_2bed['RegionName'] = home_value_2bed['RegionName'].str.lower()\n",
    "home_value_2bed_reduced = home_value_2bed[['RegionName','CountyName', 'Metro', 'StateName','State', '2022-04-30']]\n",
    "home_value_2bed_reduced['num_beds'] = 2\n",
    "\n",
    "home_value_3bed['RegionName'] = home_value_3bed['RegionName'].str.lower()\n",
    "home_value_3bed_reduced = home_value_3bed[['RegionName','CountyName', 'Metro', 'StateName','State', '2022-04-30']]\n",
    "home_value_3bed_reduced['num_beds'] = 3\n",
    "\n",
    "home_value_4bed['RegionName'] = home_value_4bed['RegionName'].str.lower()\n",
    "home_value_4bed_reduced = home_value_4bed[['RegionName','CountyName', 'Metro', 'StateName','State', '2022-04-30']]\n",
    "home_value_4bed_reduced['num_beds'] = 4\n",
    "\n",
    "home_value_5plusbed['RegionName'] = home_value_5plusbed['RegionName'].str.lower()\n",
    "home_value_5plusbed_reduced = home_value_5plusbed[['RegionName','CountyName', 'Metro', 'StateName','State', '2022-04-30']]\n",
    "home_value_5plusbed_reduced['num_beds'] = 5\n",
    "\n",
    "home_values = home_value_1bed_reduced.append(home_value_2bed_reduced)\n",
    "home_values = home_values.append(home_value_3bed_reduced)\n",
    "home_values = home_values.append(home_value_4bed_reduced)\n",
    "home_values = home_values.append(home_value_5plusbed_reduced)\n",
    "\n",
    "home_values_lookup = home_values[['RegionName','State', 'num_beds', '2022-04-30']]\n",
    "home_values_lookup = home_values_lookup.drop_duplicates()\n",
    "#listing_data_static = listing_data_static.merge(home_values, how='inner', left_on = ['state_id','beds_no'], right_on=['State','num_beds'])  # <-- Join to give avg house value for bedroom size\n",
    "#home_values = [['RegionName', 'CountyName', 'Metro', 'State', 'state_name', '2022-04-30', 'num_beds']] "
   ]
  },
  {
   "cell_type": "code",
   "execution_count": 26,
   "metadata": {},
   "outputs": [],
   "source": [
    "listing_data_static['avg_home_value'] = listing_data_static.apply(lambda row: set_avg_home_val(home_values, row['town'], row['state_id'], row['beds_no']),axis=1)\n",
    "#lambda row: set_avg_home_val(home_values, listing_data_static['town'], listing_data_static['state_id'], listing_data_static['beds_no'], axis=1)"
   ]
  },
  {
   "cell_type": "code",
   "execution_count": 228,
   "metadata": {},
   "outputs": [
    {
     "name": "stdout",
     "output_type": "stream",
     "text": [
      "2122    87152.0\n",
      "Name: 2022-04-30, dtype: float64\n"
     ]
    }
   ],
   "source": [
    "value = set_avg_home_val(home_values, 'clinton', 'NC', 2)\n"
   ]
  },
  {
   "cell_type": "code",
   "execution_count": 31,
   "metadata": {},
   "outputs": [
    {
     "ename": "KeyError",
     "evalue": "'id'",
     "output_type": "error",
     "traceback": [
      "\u001b[1;31m---------------------------------------------------------------------------\u001b[0m",
      "\u001b[1;31mKeyError\u001b[0m                                  Traceback (most recent call last)",
      "File \u001b[1;32mc:\\Users\\mattg\\AppData\\Local\\Programs\\Python\\Python310\\lib\\site-packages\\pandas\\core\\indexes\\base.py:3621\u001b[0m, in \u001b[0;36mIndex.get_loc\u001b[1;34m(self, key, method, tolerance)\u001b[0m\n\u001b[0;32m   <a href='file:///c%3A/Users/mattg/AppData/Local/Programs/Python/Python310/lib/site-packages/pandas/core/indexes/base.py?line=3619'>3620</a>\u001b[0m \u001b[39mtry\u001b[39;00m:\n\u001b[1;32m-> <a href='file:///c%3A/Users/mattg/AppData/Local/Programs/Python/Python310/lib/site-packages/pandas/core/indexes/base.py?line=3620'>3621</a>\u001b[0m     \u001b[39mreturn\u001b[39;00m \u001b[39mself\u001b[39;49m\u001b[39m.\u001b[39;49m_engine\u001b[39m.\u001b[39;49mget_loc(casted_key)\n\u001b[0;32m   <a href='file:///c%3A/Users/mattg/AppData/Local/Programs/Python/Python310/lib/site-packages/pandas/core/indexes/base.py?line=3621'>3622</a>\u001b[0m \u001b[39mexcept\u001b[39;00m \u001b[39mKeyError\u001b[39;00m \u001b[39mas\u001b[39;00m err:\n",
      "File \u001b[1;32mc:\\Users\\mattg\\AppData\\Local\\Programs\\Python\\Python310\\lib\\site-packages\\pandas\\_libs\\index.pyx:136\u001b[0m, in \u001b[0;36mpandas._libs.index.IndexEngine.get_loc\u001b[1;34m()\u001b[0m\n",
      "File \u001b[1;32mc:\\Users\\mattg\\AppData\\Local\\Programs\\Python\\Python310\\lib\\site-packages\\pandas\\_libs\\index.pyx:144\u001b[0m, in \u001b[0;36mpandas._libs.index.IndexEngine.get_loc\u001b[1;34m()\u001b[0m\n",
      "File \u001b[1;32mpandas\\_libs\\index_class_helper.pxi:20\u001b[0m, in \u001b[0;36mpandas._libs.index.Float64Engine._check_type\u001b[1;34m()\u001b[0m\n",
      "\u001b[1;31mKeyError\u001b[0m: 'id'",
      "\nThe above exception was the direct cause of the following exception:\n",
      "\u001b[1;31mKeyError\u001b[0m                                  Traceback (most recent call last)",
      "\u001b[1;32mc:\\Users\\mattg\\Desktop\\Hobbies\\airbnb_reports\\table_generation.ipynb Cell 14'\u001b[0m in \u001b[0;36m<cell line: 5>\u001b[1;34m()\u001b[0m\n\u001b[0;32m      <a href='vscode-notebook-cell:/c%3A/Users/mattg/Desktop/Hobbies/airbnb_reports/table_generation.ipynb#ch0000012?line=1'>2</a>\u001b[0m listing_data[\u001b[39m'\u001b[39m\u001b[39mid\u001b[39m\u001b[39m'\u001b[39m] \u001b[39m=\u001b[39m listing_data[\u001b[39m'\u001b[39m\u001b[39mid\u001b[39m\u001b[39m'\u001b[39m]\u001b[39m.\u001b[39mastype(\u001b[39m'\u001b[39m\u001b[39mstr\u001b[39m\u001b[39m'\u001b[39m)\n\u001b[0;32m      <a href='vscode-notebook-cell:/c%3A/Users/mattg/Desktop/Hobbies/airbnb_reports/table_generation.ipynb#ch0000012?line=3'>4</a>\u001b[0m occ_rate \u001b[39m=\u001b[39m occ_data\u001b[39m.\u001b[39mgroupby(\u001b[39m'\u001b[39m\u001b[39mid\u001b[39m\u001b[39m'\u001b[39m)[\u001b[39m'\u001b[39m\u001b[39mavailable\u001b[39m\u001b[39m'\u001b[39m]\u001b[39m.\u001b[39mapply(\u001b[39mlambda\u001b[39;00m row: np\u001b[39m.\u001b[39msum(row)\u001b[39m/\u001b[39m\u001b[39mlen\u001b[39m(row))\n\u001b[1;32m----> <a href='vscode-notebook-cell:/c%3A/Users/mattg/Desktop/Hobbies/airbnb_reports/table_generation.ipynb#ch0000012?line=4'>5</a>\u001b[0m occ_rate[\u001b[39m'\u001b[39m\u001b[39mid\u001b[39m\u001b[39m'\u001b[39m] \u001b[39m=\u001b[39m occ_rate[\u001b[39m'\u001b[39;49m\u001b[39mid\u001b[39;49m\u001b[39m'\u001b[39;49m]\u001b[39m.\u001b[39mastype(\u001b[39m'\u001b[39m\u001b[39mstr\u001b[39m\u001b[39m'\u001b[39m)\n\u001b[0;32m      <a href='vscode-notebook-cell:/c%3A/Users/mattg/Desktop/Hobbies/airbnb_reports/table_generation.ipynb#ch0000012?line=5'>6</a>\u001b[0m combined_data \u001b[39m=\u001b[39m listing_data\u001b[39m.\u001b[39mmerge(occ_rate, on \u001b[39m=\u001b[39m \u001b[39m'\u001b[39m\u001b[39mid\u001b[39m\u001b[39m'\u001b[39m)\n\u001b[0;32m      <a href='vscode-notebook-cell:/c%3A/Users/mattg/Desktop/Hobbies/airbnb_reports/table_generation.ipynb#ch0000012?line=6'>7</a>\u001b[0m combined_data\u001b[39m.\u001b[39mrename(columns \u001b[39m=\u001b[39m {\u001b[39m'\u001b[39m\u001b[39mavailable\u001b[39m\u001b[39m'\u001b[39m:\u001b[39m'\u001b[39m\u001b[39moccupancy_rate\u001b[39m\u001b[39m'\u001b[39m}, inplace \u001b[39m=\u001b[39m \u001b[39mTrue\u001b[39;00m)\n",
      "File \u001b[1;32mc:\\Users\\mattg\\AppData\\Local\\Programs\\Python\\Python310\\lib\\site-packages\\pandas\\core\\series.py:958\u001b[0m, in \u001b[0;36mSeries.__getitem__\u001b[1;34m(self, key)\u001b[0m\n\u001b[0;32m    <a href='file:///c%3A/Users/mattg/AppData/Local/Programs/Python/Python310/lib/site-packages/pandas/core/series.py?line=954'>955</a>\u001b[0m     \u001b[39mreturn\u001b[39;00m \u001b[39mself\u001b[39m\u001b[39m.\u001b[39m_values[key]\n\u001b[0;32m    <a href='file:///c%3A/Users/mattg/AppData/Local/Programs/Python/Python310/lib/site-packages/pandas/core/series.py?line=956'>957</a>\u001b[0m \u001b[39melif\u001b[39;00m key_is_scalar:\n\u001b[1;32m--> <a href='file:///c%3A/Users/mattg/AppData/Local/Programs/Python/Python310/lib/site-packages/pandas/core/series.py?line=957'>958</a>\u001b[0m     \u001b[39mreturn\u001b[39;00m \u001b[39mself\u001b[39;49m\u001b[39m.\u001b[39;49m_get_value(key)\n\u001b[0;32m    <a href='file:///c%3A/Users/mattg/AppData/Local/Programs/Python/Python310/lib/site-packages/pandas/core/series.py?line=959'>960</a>\u001b[0m \u001b[39mif\u001b[39;00m is_hashable(key):\n\u001b[0;32m    <a href='file:///c%3A/Users/mattg/AppData/Local/Programs/Python/Python310/lib/site-packages/pandas/core/series.py?line=960'>961</a>\u001b[0m     \u001b[39m# Otherwise index.get_value will raise InvalidIndexError\u001b[39;00m\n\u001b[0;32m    <a href='file:///c%3A/Users/mattg/AppData/Local/Programs/Python/Python310/lib/site-packages/pandas/core/series.py?line=961'>962</a>\u001b[0m     \u001b[39mtry\u001b[39;00m:\n\u001b[0;32m    <a href='file:///c%3A/Users/mattg/AppData/Local/Programs/Python/Python310/lib/site-packages/pandas/core/series.py?line=962'>963</a>\u001b[0m         \u001b[39m# For labels that don't resolve as scalars like tuples and frozensets\u001b[39;00m\n",
      "File \u001b[1;32mc:\\Users\\mattg\\AppData\\Local\\Programs\\Python\\Python310\\lib\\site-packages\\pandas\\core\\series.py:1069\u001b[0m, in \u001b[0;36mSeries._get_value\u001b[1;34m(self, label, takeable)\u001b[0m\n\u001b[0;32m   <a href='file:///c%3A/Users/mattg/AppData/Local/Programs/Python/Python310/lib/site-packages/pandas/core/series.py?line=1065'>1066</a>\u001b[0m     \u001b[39mreturn\u001b[39;00m \u001b[39mself\u001b[39m\u001b[39m.\u001b[39m_values[label]\n\u001b[0;32m   <a href='file:///c%3A/Users/mattg/AppData/Local/Programs/Python/Python310/lib/site-packages/pandas/core/series.py?line=1067'>1068</a>\u001b[0m \u001b[39m# Similar to Index.get_value, but we do not fall back to positional\u001b[39;00m\n\u001b[1;32m-> <a href='file:///c%3A/Users/mattg/AppData/Local/Programs/Python/Python310/lib/site-packages/pandas/core/series.py?line=1068'>1069</a>\u001b[0m loc \u001b[39m=\u001b[39m \u001b[39mself\u001b[39;49m\u001b[39m.\u001b[39;49mindex\u001b[39m.\u001b[39;49mget_loc(label)\n\u001b[0;32m   <a href='file:///c%3A/Users/mattg/AppData/Local/Programs/Python/Python310/lib/site-packages/pandas/core/series.py?line=1069'>1070</a>\u001b[0m \u001b[39mreturn\u001b[39;00m \u001b[39mself\u001b[39m\u001b[39m.\u001b[39mindex\u001b[39m.\u001b[39m_get_values_for_loc(\u001b[39mself\u001b[39m, loc, label)\n",
      "File \u001b[1;32mc:\\Users\\mattg\\AppData\\Local\\Programs\\Python\\Python310\\lib\\site-packages\\pandas\\core\\indexes\\base.py:3623\u001b[0m, in \u001b[0;36mIndex.get_loc\u001b[1;34m(self, key, method, tolerance)\u001b[0m\n\u001b[0;32m   <a href='file:///c%3A/Users/mattg/AppData/Local/Programs/Python/Python310/lib/site-packages/pandas/core/indexes/base.py?line=3620'>3621</a>\u001b[0m     \u001b[39mreturn\u001b[39;00m \u001b[39mself\u001b[39m\u001b[39m.\u001b[39m_engine\u001b[39m.\u001b[39mget_loc(casted_key)\n\u001b[0;32m   <a href='file:///c%3A/Users/mattg/AppData/Local/Programs/Python/Python310/lib/site-packages/pandas/core/indexes/base.py?line=3621'>3622</a>\u001b[0m \u001b[39mexcept\u001b[39;00m \u001b[39mKeyError\u001b[39;00m \u001b[39mas\u001b[39;00m err:\n\u001b[1;32m-> <a href='file:///c%3A/Users/mattg/AppData/Local/Programs/Python/Python310/lib/site-packages/pandas/core/indexes/base.py?line=3622'>3623</a>\u001b[0m     \u001b[39mraise\u001b[39;00m \u001b[39mKeyError\u001b[39;00m(key) \u001b[39mfrom\u001b[39;00m \u001b[39merr\u001b[39;00m\n\u001b[0;32m   <a href='file:///c%3A/Users/mattg/AppData/Local/Programs/Python/Python310/lib/site-packages/pandas/core/indexes/base.py?line=3623'>3624</a>\u001b[0m \u001b[39mexcept\u001b[39;00m \u001b[39mTypeError\u001b[39;00m:\n\u001b[0;32m   <a href='file:///c%3A/Users/mattg/AppData/Local/Programs/Python/Python310/lib/site-packages/pandas/core/indexes/base.py?line=3624'>3625</a>\u001b[0m     \u001b[39m# If we have a listlike key, _check_indexing_error will raise\u001b[39;00m\n\u001b[0;32m   <a href='file:///c%3A/Users/mattg/AppData/Local/Programs/Python/Python310/lib/site-packages/pandas/core/indexes/base.py?line=3625'>3626</a>\u001b[0m     \u001b[39m#  InvalidIndexError. Otherwise we fall through and re-raise\u001b[39;00m\n\u001b[0;32m   <a href='file:///c%3A/Users/mattg/AppData/Local/Programs/Python/Python310/lib/site-packages/pandas/core/indexes/base.py?line=3626'>3627</a>\u001b[0m     \u001b[39m#  the TypeError.\u001b[39;00m\n\u001b[0;32m   <a href='file:///c%3A/Users/mattg/AppData/Local/Programs/Python/Python310/lib/site-packages/pandas/core/indexes/base.py?line=3627'>3628</a>\u001b[0m     \u001b[39mself\u001b[39m\u001b[39m.\u001b[39m_check_indexing_error(key)\n",
      "\u001b[1;31mKeyError\u001b[0m: 'id'"
     ]
    }
   ],
   "source": [
    "listing_data = listing_data_static\n",
    "listing_data['id'] = listing_data['id'].astype('str')\n",
    "\n",
    "occ_rate = occ_data.groupby('id')['available'].apply(lambda row: np.sum(row)/len(row))\n",
    "occ_rate['id'] = occ_rate['id'].astype('str')\n",
    "combined_data = listing_data.merge(occ_rate, on = 'id')\n",
    "combined_data.rename(columns = {'available':'occupancy_rate'}, inplace = True)\n",
    "\n",
    "cleaning_fee = price_data.groupby(['id'])['cleaning_fee'].median().reset_index()\n",
    "cleaning_fee.rename(columns = {'cleaning_fee':'median_cleaning_fee'}, inplace = True)\n",
    "service_fee = price_data.groupby(['id'])['service_fee'].median().reset_index()\n",
    "service_fee.rename(columns = {'service_fee':'median_service_fee'}, inplace = True)\n",
    "combined_data = combined_data.merge(cleaning_fee, on='id')\n",
    "combined_data = combined_data.merge(service_fee, on='id')\n",
    "combined_data['median_total_price'] = combined_data['price'] + combined_data['median_cleaning_fee'] + combined_data['median_service_fee']\n",
    "\n",
    "#home_value['RegionName'] = home_value['RegionName'].str.lower()\n",
    "#home_value_reduced = home_value[['RegionName','CountyName', 'Metro', 'State', '2022-04-30']]\n",
    "#combined_data = combined_data.merge(home_value, left_on='town', right_on='RegionName')\n"
   ]
  },
  {
   "cell_type": "code",
   "execution_count": 33,
   "metadata": {},
   "outputs": [],
   "source": [
    "combined_data = pd.read_csv('post_home_cals_and_merges.csv')\n",
    "\n",
    "# Adding avg mortgage and median ROI\n",
    "combined_data['avg_30_yr_mort'] = combined_data.apply(lambda row: calculate_mortgage(row['avg_home_value'], 5, 30), axis=1)\n",
    "combined_data['monthly_maintenance'] = combined_data.apply(lambda row: calculate_monthly_maintenance(row['avg_home_value']), axis=1)\n",
    "combined_data['monthly_tax'] = combined_data.apply(lambda row: calculate_monthly_taxes(row['avg_home_value'], row['state_id']), axis=1)\n",
    "combined_data['median_ROI'] = combined_data.apply(lambda row: calculate_roi(row['median_total_price'], row['occupancy_rate'], row['avg_30_yr_mort'], row['monthly_maintenance'], row['monthly_tax']), axis=1)"
   ]
  },
  {
   "cell_type": "code",
   "execution_count": 34,
   "metadata": {},
   "outputs": [
    {
     "data": {
      "text/plain": [
       "(275, 44)"
      ]
     },
     "execution_count": 34,
     "metadata": {},
     "output_type": "execute_result"
    }
   ],
   "source": [
    "combined_data.shape"
   ]
  },
  {
   "cell_type": "code",
   "execution_count": null,
   "metadata": {},
   "outputs": [],
   "source": [
    "# Table for region and property type\n",
    "region_proptype_roi = combined_data.groupby(['Region','property_type'])['median_ROI'].median().reset_index()"
   ]
  },
  {
   "cell_type": "code",
   "execution_count": 42,
   "metadata": {},
   "outputs": [
    {
     "data": {
      "text/plain": [
       "2420"
      ]
     },
     "execution_count": 42,
     "metadata": {},
     "output_type": "execute_result"
    }
   ],
   "source": [
    "len(listing_data.id.unique())"
   ]
  },
  {
   "cell_type": "code",
   "execution_count": 5,
   "metadata": {},
   "outputs": [],
   "source": [
    "combined_data = pd.read_csv('post_mort_and_roi_calcs.csv')"
   ]
  },
  {
   "cell_type": "code",
   "execution_count": 35,
   "metadata": {},
   "outputs": [
    {
     "data": {
      "application/vnd.plotly.v1+json": {
       "config": {
        "plotlyServerURL": "https://plot.ly"
       },
       "data": [
        {
         "name": "VT",
         "type": "bar",
         "x": [
          "fairfield",
          "irasburg",
          "killington",
          "newport",
          "saint albans city",
          "starksboro",
          "stowe",
          "waitsfield"
         ],
         "xaxis": "x",
         "y": [
          1.418151739199866,
          null,
          1.14370645058074,
          null,
          null,
          2.118883649525759,
          5.284955972873409,
          -0.1819072963332539
         ],
         "yaxis": "y"
        },
        {
         "name": "NH",
         "type": "bar",
         "x": [
          "alton",
          "bethlehem",
          "freedom",
          "lincoln"
         ],
         "xaxis": "x2",
         "y": [
          -0.946011057967345,
          1.0026226859588148,
          null,
          -0.06502802043180675
         ],
         "yaxis": "y2"
        },
        {
         "name": "NC",
         "type": "bar",
         "x": [
          "atlantic beach",
          "bald head island",
          "carolina beach",
          "holden beach",
          "wrightsville beach"
         ],
         "xaxis": "x3",
         "y": [
          1.0664667369355454,
          0.050884878505625675,
          1.5563456346036033,
          null,
          -0.26113935209558137
         ],
         "yaxis": "y3"
        },
        {
         "name": "SC",
         "type": "bar",
         "x": [
          "conway",
          "murrells inlet",
          "myrtle beach",
          "north myrtle beach",
          "pawleys island"
         ],
         "xaxis": "x4",
         "y": [
          2.0898897527043796,
          2.3683791438946926,
          3.091524610091163,
          1.7570483639693892,
          -0.2681259576287574
         ],
         "yaxis": "y4"
        },
        {
         "name": "FL",
         "type": "bar",
         "x": [
          "miami",
          "miami beach",
          "north bay village"
         ],
         "xaxis": "x5",
         "y": [
          1.6785363523281114,
          0.39342552531125685,
          4.115661146201811
         ],
         "yaxis": "y5"
        },
        {
         "name": "ME",
         "type": "bar",
         "x": [
          "andover",
          "casco",
          "denmark",
          "frye island",
          "gray",
          "greenwood",
          "hiram",
          "kennebunk",
          "naples",
          "old orchard beach",
          "poland",
          "raymond",
          "roxbury",
          "saco",
          "sebago",
          "standish",
          "windham"
         ],
         "xaxis": "x6",
         "y": [
          null,
          -0.20551564492700672,
          null,
          null,
          2.410665755874583,
          null,
          null,
          -0.832811082250457,
          3.424395651981577,
          0.7188964019796128,
          3.39676664187227,
          0.07019652456839721,
          null,
          0.4082202399625367,
          null,
          3.3322607051308166,
          2.2908669991658916
         ],
         "yaxis": "y6"
        }
       ],
       "layout": {
        "barmode": "group",
        "height": 1100,
        "template": {
         "data": {
          "bar": [
           {
            "error_x": {
             "color": "#2a3f5f"
            },
            "error_y": {
             "color": "#2a3f5f"
            },
            "marker": {
             "line": {
              "color": "#E5ECF6",
              "width": 0.5
             },
             "pattern": {
              "fillmode": "overlay",
              "size": 10,
              "solidity": 0.2
             }
            },
            "type": "bar"
           }
          ],
          "barpolar": [
           {
            "marker": {
             "line": {
              "color": "#E5ECF6",
              "width": 0.5
             },
             "pattern": {
              "fillmode": "overlay",
              "size": 10,
              "solidity": 0.2
             }
            },
            "type": "barpolar"
           }
          ],
          "carpet": [
           {
            "aaxis": {
             "endlinecolor": "#2a3f5f",
             "gridcolor": "white",
             "linecolor": "white",
             "minorgridcolor": "white",
             "startlinecolor": "#2a3f5f"
            },
            "baxis": {
             "endlinecolor": "#2a3f5f",
             "gridcolor": "white",
             "linecolor": "white",
             "minorgridcolor": "white",
             "startlinecolor": "#2a3f5f"
            },
            "type": "carpet"
           }
          ],
          "choropleth": [
           {
            "colorbar": {
             "outlinewidth": 0,
             "ticks": ""
            },
            "type": "choropleth"
           }
          ],
          "contour": [
           {
            "colorbar": {
             "outlinewidth": 0,
             "ticks": ""
            },
            "colorscale": [
             [
              0,
              "#0d0887"
             ],
             [
              0.1111111111111111,
              "#46039f"
             ],
             [
              0.2222222222222222,
              "#7201a8"
             ],
             [
              0.3333333333333333,
              "#9c179e"
             ],
             [
              0.4444444444444444,
              "#bd3786"
             ],
             [
              0.5555555555555556,
              "#d8576b"
             ],
             [
              0.6666666666666666,
              "#ed7953"
             ],
             [
              0.7777777777777778,
              "#fb9f3a"
             ],
             [
              0.8888888888888888,
              "#fdca26"
             ],
             [
              1,
              "#f0f921"
             ]
            ],
            "type": "contour"
           }
          ],
          "contourcarpet": [
           {
            "colorbar": {
             "outlinewidth": 0,
             "ticks": ""
            },
            "type": "contourcarpet"
           }
          ],
          "heatmap": [
           {
            "colorbar": {
             "outlinewidth": 0,
             "ticks": ""
            },
            "colorscale": [
             [
              0,
              "#0d0887"
             ],
             [
              0.1111111111111111,
              "#46039f"
             ],
             [
              0.2222222222222222,
              "#7201a8"
             ],
             [
              0.3333333333333333,
              "#9c179e"
             ],
             [
              0.4444444444444444,
              "#bd3786"
             ],
             [
              0.5555555555555556,
              "#d8576b"
             ],
             [
              0.6666666666666666,
              "#ed7953"
             ],
             [
              0.7777777777777778,
              "#fb9f3a"
             ],
             [
              0.8888888888888888,
              "#fdca26"
             ],
             [
              1,
              "#f0f921"
             ]
            ],
            "type": "heatmap"
           }
          ],
          "heatmapgl": [
           {
            "colorbar": {
             "outlinewidth": 0,
             "ticks": ""
            },
            "colorscale": [
             [
              0,
              "#0d0887"
             ],
             [
              0.1111111111111111,
              "#46039f"
             ],
             [
              0.2222222222222222,
              "#7201a8"
             ],
             [
              0.3333333333333333,
              "#9c179e"
             ],
             [
              0.4444444444444444,
              "#bd3786"
             ],
             [
              0.5555555555555556,
              "#d8576b"
             ],
             [
              0.6666666666666666,
              "#ed7953"
             ],
             [
              0.7777777777777778,
              "#fb9f3a"
             ],
             [
              0.8888888888888888,
              "#fdca26"
             ],
             [
              1,
              "#f0f921"
             ]
            ],
            "type": "heatmapgl"
           }
          ],
          "histogram": [
           {
            "marker": {
             "pattern": {
              "fillmode": "overlay",
              "size": 10,
              "solidity": 0.2
             }
            },
            "type": "histogram"
           }
          ],
          "histogram2d": [
           {
            "colorbar": {
             "outlinewidth": 0,
             "ticks": ""
            },
            "colorscale": [
             [
              0,
              "#0d0887"
             ],
             [
              0.1111111111111111,
              "#46039f"
             ],
             [
              0.2222222222222222,
              "#7201a8"
             ],
             [
              0.3333333333333333,
              "#9c179e"
             ],
             [
              0.4444444444444444,
              "#bd3786"
             ],
             [
              0.5555555555555556,
              "#d8576b"
             ],
             [
              0.6666666666666666,
              "#ed7953"
             ],
             [
              0.7777777777777778,
              "#fb9f3a"
             ],
             [
              0.8888888888888888,
              "#fdca26"
             ],
             [
              1,
              "#f0f921"
             ]
            ],
            "type": "histogram2d"
           }
          ],
          "histogram2dcontour": [
           {
            "colorbar": {
             "outlinewidth": 0,
             "ticks": ""
            },
            "colorscale": [
             [
              0,
              "#0d0887"
             ],
             [
              0.1111111111111111,
              "#46039f"
             ],
             [
              0.2222222222222222,
              "#7201a8"
             ],
             [
              0.3333333333333333,
              "#9c179e"
             ],
             [
              0.4444444444444444,
              "#bd3786"
             ],
             [
              0.5555555555555556,
              "#d8576b"
             ],
             [
              0.6666666666666666,
              "#ed7953"
             ],
             [
              0.7777777777777778,
              "#fb9f3a"
             ],
             [
              0.8888888888888888,
              "#fdca26"
             ],
             [
              1,
              "#f0f921"
             ]
            ],
            "type": "histogram2dcontour"
           }
          ],
          "mesh3d": [
           {
            "colorbar": {
             "outlinewidth": 0,
             "ticks": ""
            },
            "type": "mesh3d"
           }
          ],
          "parcoords": [
           {
            "line": {
             "colorbar": {
              "outlinewidth": 0,
              "ticks": ""
             }
            },
            "type": "parcoords"
           }
          ],
          "pie": [
           {
            "automargin": true,
            "type": "pie"
           }
          ],
          "scatter": [
           {
            "fillpattern": {
             "fillmode": "overlay",
             "size": 10,
             "solidity": 0.2
            },
            "type": "scatter"
           }
          ],
          "scatter3d": [
           {
            "line": {
             "colorbar": {
              "outlinewidth": 0,
              "ticks": ""
             }
            },
            "marker": {
             "colorbar": {
              "outlinewidth": 0,
              "ticks": ""
             }
            },
            "type": "scatter3d"
           }
          ],
          "scattercarpet": [
           {
            "marker": {
             "colorbar": {
              "outlinewidth": 0,
              "ticks": ""
             }
            },
            "type": "scattercarpet"
           }
          ],
          "scattergeo": [
           {
            "marker": {
             "colorbar": {
              "outlinewidth": 0,
              "ticks": ""
             }
            },
            "type": "scattergeo"
           }
          ],
          "scattergl": [
           {
            "marker": {
             "colorbar": {
              "outlinewidth": 0,
              "ticks": ""
             }
            },
            "type": "scattergl"
           }
          ],
          "scattermapbox": [
           {
            "marker": {
             "colorbar": {
              "outlinewidth": 0,
              "ticks": ""
             }
            },
            "type": "scattermapbox"
           }
          ],
          "scatterpolar": [
           {
            "marker": {
             "colorbar": {
              "outlinewidth": 0,
              "ticks": ""
             }
            },
            "type": "scatterpolar"
           }
          ],
          "scatterpolargl": [
           {
            "marker": {
             "colorbar": {
              "outlinewidth": 0,
              "ticks": ""
             }
            },
            "type": "scatterpolargl"
           }
          ],
          "scatterternary": [
           {
            "marker": {
             "colorbar": {
              "outlinewidth": 0,
              "ticks": ""
             }
            },
            "type": "scatterternary"
           }
          ],
          "surface": [
           {
            "colorbar": {
             "outlinewidth": 0,
             "ticks": ""
            },
            "colorscale": [
             [
              0,
              "#0d0887"
             ],
             [
              0.1111111111111111,
              "#46039f"
             ],
             [
              0.2222222222222222,
              "#7201a8"
             ],
             [
              0.3333333333333333,
              "#9c179e"
             ],
             [
              0.4444444444444444,
              "#bd3786"
             ],
             [
              0.5555555555555556,
              "#d8576b"
             ],
             [
              0.6666666666666666,
              "#ed7953"
             ],
             [
              0.7777777777777778,
              "#fb9f3a"
             ],
             [
              0.8888888888888888,
              "#fdca26"
             ],
             [
              1,
              "#f0f921"
             ]
            ],
            "type": "surface"
           }
          ],
          "table": [
           {
            "cells": {
             "fill": {
              "color": "#EBF0F8"
             },
             "line": {
              "color": "white"
             }
            },
            "header": {
             "fill": {
              "color": "#C8D4E3"
             },
             "line": {
              "color": "white"
             }
            },
            "type": "table"
           }
          ]
         },
         "layout": {
          "annotationdefaults": {
           "arrowcolor": "#2a3f5f",
           "arrowhead": 0,
           "arrowwidth": 1
          },
          "autotypenumbers": "strict",
          "coloraxis": {
           "colorbar": {
            "outlinewidth": 0,
            "ticks": ""
           }
          },
          "colorscale": {
           "diverging": [
            [
             0,
             "#8e0152"
            ],
            [
             0.1,
             "#c51b7d"
            ],
            [
             0.2,
             "#de77ae"
            ],
            [
             0.3,
             "#f1b6da"
            ],
            [
             0.4,
             "#fde0ef"
            ],
            [
             0.5,
             "#f7f7f7"
            ],
            [
             0.6,
             "#e6f5d0"
            ],
            [
             0.7,
             "#b8e186"
            ],
            [
             0.8,
             "#7fbc41"
            ],
            [
             0.9,
             "#4d9221"
            ],
            [
             1,
             "#276419"
            ]
           ],
           "sequential": [
            [
             0,
             "#0d0887"
            ],
            [
             0.1111111111111111,
             "#46039f"
            ],
            [
             0.2222222222222222,
             "#7201a8"
            ],
            [
             0.3333333333333333,
             "#9c179e"
            ],
            [
             0.4444444444444444,
             "#bd3786"
            ],
            [
             0.5555555555555556,
             "#d8576b"
            ],
            [
             0.6666666666666666,
             "#ed7953"
            ],
            [
             0.7777777777777778,
             "#fb9f3a"
            ],
            [
             0.8888888888888888,
             "#fdca26"
            ],
            [
             1,
             "#f0f921"
            ]
           ],
           "sequentialminus": [
            [
             0,
             "#0d0887"
            ],
            [
             0.1111111111111111,
             "#46039f"
            ],
            [
             0.2222222222222222,
             "#7201a8"
            ],
            [
             0.3333333333333333,
             "#9c179e"
            ],
            [
             0.4444444444444444,
             "#bd3786"
            ],
            [
             0.5555555555555556,
             "#d8576b"
            ],
            [
             0.6666666666666666,
             "#ed7953"
            ],
            [
             0.7777777777777778,
             "#fb9f3a"
            ],
            [
             0.8888888888888888,
             "#fdca26"
            ],
            [
             1,
             "#f0f921"
            ]
           ]
          },
          "colorway": [
           "#636efa",
           "#EF553B",
           "#00cc96",
           "#ab63fa",
           "#FFA15A",
           "#19d3f3",
           "#FF6692",
           "#B6E880",
           "#FF97FF",
           "#FECB52"
          ],
          "font": {
           "color": "#2a3f5f"
          },
          "geo": {
           "bgcolor": "white",
           "lakecolor": "white",
           "landcolor": "#E5ECF6",
           "showlakes": true,
           "showland": true,
           "subunitcolor": "white"
          },
          "hoverlabel": {
           "align": "left"
          },
          "hovermode": "closest",
          "mapbox": {
           "style": "light"
          },
          "paper_bgcolor": "white",
          "plot_bgcolor": "#E5ECF6",
          "polar": {
           "angularaxis": {
            "gridcolor": "white",
            "linecolor": "white",
            "ticks": ""
           },
           "bgcolor": "#E5ECF6",
           "radialaxis": {
            "gridcolor": "white",
            "linecolor": "white",
            "ticks": ""
           }
          },
          "scene": {
           "xaxis": {
            "backgroundcolor": "#E5ECF6",
            "gridcolor": "white",
            "gridwidth": 2,
            "linecolor": "white",
            "showbackground": true,
            "ticks": "",
            "zerolinecolor": "white"
           },
           "yaxis": {
            "backgroundcolor": "#E5ECF6",
            "gridcolor": "white",
            "gridwidth": 2,
            "linecolor": "white",
            "showbackground": true,
            "ticks": "",
            "zerolinecolor": "white"
           },
           "zaxis": {
            "backgroundcolor": "#E5ECF6",
            "gridcolor": "white",
            "gridwidth": 2,
            "linecolor": "white",
            "showbackground": true,
            "ticks": "",
            "zerolinecolor": "white"
           }
          },
          "shapedefaults": {
           "line": {
            "color": "#2a3f5f"
           }
          },
          "ternary": {
           "aaxis": {
            "gridcolor": "white",
            "linecolor": "white",
            "ticks": ""
           },
           "baxis": {
            "gridcolor": "white",
            "linecolor": "white",
            "ticks": ""
           },
           "bgcolor": "#E5ECF6",
           "caxis": {
            "gridcolor": "white",
            "linecolor": "white",
            "ticks": ""
           }
          },
          "title": {
           "x": 0.05
          },
          "xaxis": {
           "automargin": true,
           "gridcolor": "white",
           "linecolor": "white",
           "ticks": "",
           "title": {
            "standoff": 15
           },
           "zerolinecolor": "white",
           "zerolinewidth": 2
          },
          "yaxis": {
           "automargin": true,
           "gridcolor": "white",
           "linecolor": "white",
           "ticks": "",
           "title": {
            "standoff": 15
           },
           "zerolinecolor": "white",
           "zerolinewidth": 2
          }
         }
        },
        "title": {
         "text": "Mean ROI for Cities in each State"
        },
        "xaxis": {
         "anchor": "y",
         "domain": [
          0,
          0.45
         ]
        },
        "xaxis2": {
         "anchor": "y2",
         "domain": [
          0.55,
          1
         ]
        },
        "xaxis3": {
         "anchor": "y3",
         "domain": [
          0,
          0.45
         ]
        },
        "xaxis4": {
         "anchor": "y4",
         "domain": [
          0.55,
          1
         ]
        },
        "xaxis5": {
         "anchor": "y5",
         "domain": [
          0,
          0.45
         ]
        },
        "xaxis6": {
         "anchor": "y6",
         "domain": [
          0.55,
          1
         ]
        },
        "yaxis": {
         "anchor": "x",
         "domain": [
          0.7333333333333333,
          1
         ]
        },
        "yaxis2": {
         "anchor": "x2",
         "domain": [
          0.7333333333333333,
          1
         ]
        },
        "yaxis3": {
         "anchor": "x3",
         "domain": [
          0.36666666666666664,
          0.6333333333333333
         ]
        },
        "yaxis4": {
         "anchor": "x4",
         "domain": [
          0.36666666666666664,
          0.6333333333333333
         ]
        },
        "yaxis5": {
         "anchor": "x5",
         "domain": [
          0,
          0.26666666666666666
         ]
        },
        "yaxis6": {
         "anchor": "x6",
         "domain": [
          0,
          0.26666666666666666
         ]
        }
       }
      }
     },
     "metadata": {},
     "output_type": "display_data"
    }
   ],
   "source": [
    "from plotly.subplots import make_subplots\n",
    "import plotly.graph_objects as go\n",
    "\n",
    "roi_subplots = make_subplots(rows=3, cols=2)\n",
    "\n",
    "combined_data_vt = combined_data[(combined_data['state_id'] == 'VT')]\n",
    "combined_data_nh = combined_data[(combined_data['state_id'] == 'NH')]\n",
    "combined_data_nc = combined_data[(combined_data['state_id'] == 'NC')]\n",
    "combined_data_sc = combined_data[(combined_data['state_id'] == 'SC')]\n",
    "combined_data_fl = combined_data[(combined_data['state_id'] == 'FL')]\n",
    "combined_data_me = combined_data[(combined_data['state_id'] == 'ME')]\n",
    "\n",
    "combined_data_vt_mean_roi = combined_data_vt.groupby(['town'])['median_ROI'].mean().reset_index()\n",
    "combined_data_nh_mean_roi = combined_data_nh.groupby(['town'])['median_ROI'].mean().reset_index()\n",
    "combined_data_nc_mean_roi = combined_data_nc.groupby(['town'])['median_ROI'].mean().reset_index()\n",
    "combined_data_sc_mean_roi = combined_data_sc.groupby(['town'])['median_ROI'].mean().reset_index()\n",
    "combined_data_fl_mean_roi = combined_data_fl.groupby(['town'])['median_ROI'].mean().reset_index()\n",
    "combined_data_me_mean_roi = combined_data_me.groupby(['town'])['median_ROI'].mean().reset_index()\n",
    "\n",
    "\n",
    "roi_subplots.append_trace(\n",
    "    go.Bar(x=combined_data_vt_mean_roi['town'],\n",
    "    y=combined_data_vt_mean_roi['median_ROI'], name=\"VT\"\n",
    "), row=1, col=1)\n",
    "\n",
    "roi_subplots.append_trace(go.Bar(\n",
    "    x=combined_data_nh_mean_roi['town'],\n",
    "    y=combined_data_nh_mean_roi['median_ROI'], name=\"NH\"\n",
    "), row=1, col=2)\n",
    "\n",
    "roi_subplots.append_trace(go.Bar(\n",
    "    x=combined_data_nc_mean_roi['town'],\n",
    "    y=combined_data_nc_mean_roi['median_ROI'], name=\"NC\"\n",
    "), row=2, col=1)\n",
    "\n",
    "roi_subplots.append_trace(go.Bar(\n",
    "    x=combined_data_sc_mean_roi['town'],\n",
    "    y=combined_data_sc_mean_roi['median_ROI'], name=\"SC\"\n",
    "), row=2, col=2)\n",
    "\n",
    "roi_subplots.append_trace(go.Bar(\n",
    "    x=combined_data_fl_mean_roi['town'],\n",
    "    y=combined_data_fl_mean_roi['median_ROI'], name=\"FL\"\n",
    "), row=3, col=1)\n",
    "\n",
    "roi_subplots.append_trace(go.Bar(\n",
    "    x=combined_data_me_mean_roi['town'],\n",
    "    y=combined_data_me_mean_roi['median_ROI'], name=\"ME\"\n",
    "), row=3, col=2)\n",
    "\n",
    "\n",
    "roi_subplots.update_layout(height = 1100, title_text=\"Mean ROI for Cities in each State\", barmode='group')\n",
    "#filename = \"newsletter_features/mean_roi_for_cities_by_state.png\"\n",
    "#roi_subplots.write_image(filename, engine='kaleido')\n",
    "\n",
    "roi_subplots.show()"
   ]
  },
  {
   "cell_type": "code",
   "execution_count": 36,
   "metadata": {},
   "outputs": [
    {
     "data": {
      "application/vnd.plotly.v1+json": {
       "config": {
        "plotlyServerURL": "https://plot.ly"
       },
       "data": [
        {
         "name": "VT",
         "type": "bar",
         "x": [
          4,
          6,
          7,
          8,
          9,
          10,
          14
         ],
         "xaxis": "x",
         "y": [
          2.05743112991892,
          2.239993573492076,
          1.418151739199866,
          2.240109567319396,
          -0.20308664573418483,
          0.49361903374579413,
          -0.836254277011371
         ],
         "yaxis": "y"
        },
        {
         "name": "NH",
         "type": "bar",
         "x": [
          2,
          6,
          8,
          9
         ],
         "xaxis": "x2",
         "y": [
          1.0026226859588148,
          0.3182426665709172,
          -0.6971548827009378,
          null
         ],
         "yaxis": "y2"
        },
        {
         "name": "NC",
         "type": "bar",
         "x": [
          1,
          2,
          4,
          5,
          6,
          7,
          8,
          9,
          10,
          14,
          16
         ],
         "xaxis": "x3",
         "y": [
          null,
          0.993196833929796,
          0.08829973371525712,
          0.012286209264671508,
          0.8722219061674249,
          0.9567726886237338,
          0.08033450042261606,
          -0.6896758560318577,
          1.4122993413665688,
          1.2810610715810191,
          -1.1169703230739936
         ],
         "yaxis": "y3"
        },
        {
         "name": "SC",
         "type": "bar",
         "x": [
          1,
          2,
          3,
          4,
          5,
          6,
          7,
          8,
          9,
          10,
          15,
          16
         ],
         "xaxis": "x4",
         "y": [
          2.766014492753623,
          3.9488625108502124,
          2.0898897527043796,
          3.615914232302397,
          3.333348595235856,
          2.2007911251769765,
          2.786811684302893,
          1.306674347273019,
          1.1711625031481825,
          1.4287434008535445,
          0.8953360618364629,
          1.5334980637545765
         ],
         "yaxis": "y4"
        },
        {
         "name": "FL",
         "type": "bar",
         "x": [
          2,
          3,
          4,
          5,
          6,
          7,
          8,
          10,
          16
         ],
         "xaxis": "x5",
         "y": [
          1.4492565920810792,
          0.8088062554363715,
          1.2403548227218604,
          1.349161361930528,
          0.8666258933462547,
          0.1708974716538069,
          1.3684369651216262,
          0.11573225518059996,
          null
         ],
         "yaxis": "y5"
        },
        {
         "name": "ME",
         "type": "bar",
         "x": [
          1,
          2,
          3,
          4,
          5,
          6,
          7,
          8,
          9
         ],
         "xaxis": "x6",
         "y": [
          0.2624670476036118,
          1.3031456479040884,
          0.4613979146733842,
          1.5882001909770853,
          3.6226035343525673,
          0.8771643675478463,
          null,
          0.33490698568637944,
          1.7534432225307615
         ],
         "yaxis": "y6"
        }
       ],
       "layout": {
        "barmode": "group",
        "height": 1100,
        "template": {
         "data": {
          "bar": [
           {
            "error_x": {
             "color": "#2a3f5f"
            },
            "error_y": {
             "color": "#2a3f5f"
            },
            "marker": {
             "line": {
              "color": "#E5ECF6",
              "width": 0.5
             },
             "pattern": {
              "fillmode": "overlay",
              "size": 10,
              "solidity": 0.2
             }
            },
            "type": "bar"
           }
          ],
          "barpolar": [
           {
            "marker": {
             "line": {
              "color": "#E5ECF6",
              "width": 0.5
             },
             "pattern": {
              "fillmode": "overlay",
              "size": 10,
              "solidity": 0.2
             }
            },
            "type": "barpolar"
           }
          ],
          "carpet": [
           {
            "aaxis": {
             "endlinecolor": "#2a3f5f",
             "gridcolor": "white",
             "linecolor": "white",
             "minorgridcolor": "white",
             "startlinecolor": "#2a3f5f"
            },
            "baxis": {
             "endlinecolor": "#2a3f5f",
             "gridcolor": "white",
             "linecolor": "white",
             "minorgridcolor": "white",
             "startlinecolor": "#2a3f5f"
            },
            "type": "carpet"
           }
          ],
          "choropleth": [
           {
            "colorbar": {
             "outlinewidth": 0,
             "ticks": ""
            },
            "type": "choropleth"
           }
          ],
          "contour": [
           {
            "colorbar": {
             "outlinewidth": 0,
             "ticks": ""
            },
            "colorscale": [
             [
              0,
              "#0d0887"
             ],
             [
              0.1111111111111111,
              "#46039f"
             ],
             [
              0.2222222222222222,
              "#7201a8"
             ],
             [
              0.3333333333333333,
              "#9c179e"
             ],
             [
              0.4444444444444444,
              "#bd3786"
             ],
             [
              0.5555555555555556,
              "#d8576b"
             ],
             [
              0.6666666666666666,
              "#ed7953"
             ],
             [
              0.7777777777777778,
              "#fb9f3a"
             ],
             [
              0.8888888888888888,
              "#fdca26"
             ],
             [
              1,
              "#f0f921"
             ]
            ],
            "type": "contour"
           }
          ],
          "contourcarpet": [
           {
            "colorbar": {
             "outlinewidth": 0,
             "ticks": ""
            },
            "type": "contourcarpet"
           }
          ],
          "heatmap": [
           {
            "colorbar": {
             "outlinewidth": 0,
             "ticks": ""
            },
            "colorscale": [
             [
              0,
              "#0d0887"
             ],
             [
              0.1111111111111111,
              "#46039f"
             ],
             [
              0.2222222222222222,
              "#7201a8"
             ],
             [
              0.3333333333333333,
              "#9c179e"
             ],
             [
              0.4444444444444444,
              "#bd3786"
             ],
             [
              0.5555555555555556,
              "#d8576b"
             ],
             [
              0.6666666666666666,
              "#ed7953"
             ],
             [
              0.7777777777777778,
              "#fb9f3a"
             ],
             [
              0.8888888888888888,
              "#fdca26"
             ],
             [
              1,
              "#f0f921"
             ]
            ],
            "type": "heatmap"
           }
          ],
          "heatmapgl": [
           {
            "colorbar": {
             "outlinewidth": 0,
             "ticks": ""
            },
            "colorscale": [
             [
              0,
              "#0d0887"
             ],
             [
              0.1111111111111111,
              "#46039f"
             ],
             [
              0.2222222222222222,
              "#7201a8"
             ],
             [
              0.3333333333333333,
              "#9c179e"
             ],
             [
              0.4444444444444444,
              "#bd3786"
             ],
             [
              0.5555555555555556,
              "#d8576b"
             ],
             [
              0.6666666666666666,
              "#ed7953"
             ],
             [
              0.7777777777777778,
              "#fb9f3a"
             ],
             [
              0.8888888888888888,
              "#fdca26"
             ],
             [
              1,
              "#f0f921"
             ]
            ],
            "type": "heatmapgl"
           }
          ],
          "histogram": [
           {
            "marker": {
             "pattern": {
              "fillmode": "overlay",
              "size": 10,
              "solidity": 0.2
             }
            },
            "type": "histogram"
           }
          ],
          "histogram2d": [
           {
            "colorbar": {
             "outlinewidth": 0,
             "ticks": ""
            },
            "colorscale": [
             [
              0,
              "#0d0887"
             ],
             [
              0.1111111111111111,
              "#46039f"
             ],
             [
              0.2222222222222222,
              "#7201a8"
             ],
             [
              0.3333333333333333,
              "#9c179e"
             ],
             [
              0.4444444444444444,
              "#bd3786"
             ],
             [
              0.5555555555555556,
              "#d8576b"
             ],
             [
              0.6666666666666666,
              "#ed7953"
             ],
             [
              0.7777777777777778,
              "#fb9f3a"
             ],
             [
              0.8888888888888888,
              "#fdca26"
             ],
             [
              1,
              "#f0f921"
             ]
            ],
            "type": "histogram2d"
           }
          ],
          "histogram2dcontour": [
           {
            "colorbar": {
             "outlinewidth": 0,
             "ticks": ""
            },
            "colorscale": [
             [
              0,
              "#0d0887"
             ],
             [
              0.1111111111111111,
              "#46039f"
             ],
             [
              0.2222222222222222,
              "#7201a8"
             ],
             [
              0.3333333333333333,
              "#9c179e"
             ],
             [
              0.4444444444444444,
              "#bd3786"
             ],
             [
              0.5555555555555556,
              "#d8576b"
             ],
             [
              0.6666666666666666,
              "#ed7953"
             ],
             [
              0.7777777777777778,
              "#fb9f3a"
             ],
             [
              0.8888888888888888,
              "#fdca26"
             ],
             [
              1,
              "#f0f921"
             ]
            ],
            "type": "histogram2dcontour"
           }
          ],
          "mesh3d": [
           {
            "colorbar": {
             "outlinewidth": 0,
             "ticks": ""
            },
            "type": "mesh3d"
           }
          ],
          "parcoords": [
           {
            "line": {
             "colorbar": {
              "outlinewidth": 0,
              "ticks": ""
             }
            },
            "type": "parcoords"
           }
          ],
          "pie": [
           {
            "automargin": true,
            "type": "pie"
           }
          ],
          "scatter": [
           {
            "fillpattern": {
             "fillmode": "overlay",
             "size": 10,
             "solidity": 0.2
            },
            "type": "scatter"
           }
          ],
          "scatter3d": [
           {
            "line": {
             "colorbar": {
              "outlinewidth": 0,
              "ticks": ""
             }
            },
            "marker": {
             "colorbar": {
              "outlinewidth": 0,
              "ticks": ""
             }
            },
            "type": "scatter3d"
           }
          ],
          "scattercarpet": [
           {
            "marker": {
             "colorbar": {
              "outlinewidth": 0,
              "ticks": ""
             }
            },
            "type": "scattercarpet"
           }
          ],
          "scattergeo": [
           {
            "marker": {
             "colorbar": {
              "outlinewidth": 0,
              "ticks": ""
             }
            },
            "type": "scattergeo"
           }
          ],
          "scattergl": [
           {
            "marker": {
             "colorbar": {
              "outlinewidth": 0,
              "ticks": ""
             }
            },
            "type": "scattergl"
           }
          ],
          "scattermapbox": [
           {
            "marker": {
             "colorbar": {
              "outlinewidth": 0,
              "ticks": ""
             }
            },
            "type": "scattermapbox"
           }
          ],
          "scatterpolar": [
           {
            "marker": {
             "colorbar": {
              "outlinewidth": 0,
              "ticks": ""
             }
            },
            "type": "scatterpolar"
           }
          ],
          "scatterpolargl": [
           {
            "marker": {
             "colorbar": {
              "outlinewidth": 0,
              "ticks": ""
             }
            },
            "type": "scatterpolargl"
           }
          ],
          "scatterternary": [
           {
            "marker": {
             "colorbar": {
              "outlinewidth": 0,
              "ticks": ""
             }
            },
            "type": "scatterternary"
           }
          ],
          "surface": [
           {
            "colorbar": {
             "outlinewidth": 0,
             "ticks": ""
            },
            "colorscale": [
             [
              0,
              "#0d0887"
             ],
             [
              0.1111111111111111,
              "#46039f"
             ],
             [
              0.2222222222222222,
              "#7201a8"
             ],
             [
              0.3333333333333333,
              "#9c179e"
             ],
             [
              0.4444444444444444,
              "#bd3786"
             ],
             [
              0.5555555555555556,
              "#d8576b"
             ],
             [
              0.6666666666666666,
              "#ed7953"
             ],
             [
              0.7777777777777778,
              "#fb9f3a"
             ],
             [
              0.8888888888888888,
              "#fdca26"
             ],
             [
              1,
              "#f0f921"
             ]
            ],
            "type": "surface"
           }
          ],
          "table": [
           {
            "cells": {
             "fill": {
              "color": "#EBF0F8"
             },
             "line": {
              "color": "white"
             }
            },
            "header": {
             "fill": {
              "color": "#C8D4E3"
             },
             "line": {
              "color": "white"
             }
            },
            "type": "table"
           }
          ]
         },
         "layout": {
          "annotationdefaults": {
           "arrowcolor": "#2a3f5f",
           "arrowhead": 0,
           "arrowwidth": 1
          },
          "autotypenumbers": "strict",
          "coloraxis": {
           "colorbar": {
            "outlinewidth": 0,
            "ticks": ""
           }
          },
          "colorscale": {
           "diverging": [
            [
             0,
             "#8e0152"
            ],
            [
             0.1,
             "#c51b7d"
            ],
            [
             0.2,
             "#de77ae"
            ],
            [
             0.3,
             "#f1b6da"
            ],
            [
             0.4,
             "#fde0ef"
            ],
            [
             0.5,
             "#f7f7f7"
            ],
            [
             0.6,
             "#e6f5d0"
            ],
            [
             0.7,
             "#b8e186"
            ],
            [
             0.8,
             "#7fbc41"
            ],
            [
             0.9,
             "#4d9221"
            ],
            [
             1,
             "#276419"
            ]
           ],
           "sequential": [
            [
             0,
             "#0d0887"
            ],
            [
             0.1111111111111111,
             "#46039f"
            ],
            [
             0.2222222222222222,
             "#7201a8"
            ],
            [
             0.3333333333333333,
             "#9c179e"
            ],
            [
             0.4444444444444444,
             "#bd3786"
            ],
            [
             0.5555555555555556,
             "#d8576b"
            ],
            [
             0.6666666666666666,
             "#ed7953"
            ],
            [
             0.7777777777777778,
             "#fb9f3a"
            ],
            [
             0.8888888888888888,
             "#fdca26"
            ],
            [
             1,
             "#f0f921"
            ]
           ],
           "sequentialminus": [
            [
             0,
             "#0d0887"
            ],
            [
             0.1111111111111111,
             "#46039f"
            ],
            [
             0.2222222222222222,
             "#7201a8"
            ],
            [
             0.3333333333333333,
             "#9c179e"
            ],
            [
             0.4444444444444444,
             "#bd3786"
            ],
            [
             0.5555555555555556,
             "#d8576b"
            ],
            [
             0.6666666666666666,
             "#ed7953"
            ],
            [
             0.7777777777777778,
             "#fb9f3a"
            ],
            [
             0.8888888888888888,
             "#fdca26"
            ],
            [
             1,
             "#f0f921"
            ]
           ]
          },
          "colorway": [
           "#636efa",
           "#EF553B",
           "#00cc96",
           "#ab63fa",
           "#FFA15A",
           "#19d3f3",
           "#FF6692",
           "#B6E880",
           "#FF97FF",
           "#FECB52"
          ],
          "font": {
           "color": "#2a3f5f"
          },
          "geo": {
           "bgcolor": "white",
           "lakecolor": "white",
           "landcolor": "#E5ECF6",
           "showlakes": true,
           "showland": true,
           "subunitcolor": "white"
          },
          "hoverlabel": {
           "align": "left"
          },
          "hovermode": "closest",
          "mapbox": {
           "style": "light"
          },
          "paper_bgcolor": "white",
          "plot_bgcolor": "#E5ECF6",
          "polar": {
           "angularaxis": {
            "gridcolor": "white",
            "linecolor": "white",
            "ticks": ""
           },
           "bgcolor": "#E5ECF6",
           "radialaxis": {
            "gridcolor": "white",
            "linecolor": "white",
            "ticks": ""
           }
          },
          "scene": {
           "xaxis": {
            "backgroundcolor": "#E5ECF6",
            "gridcolor": "white",
            "gridwidth": 2,
            "linecolor": "white",
            "showbackground": true,
            "ticks": "",
            "zerolinecolor": "white"
           },
           "yaxis": {
            "backgroundcolor": "#E5ECF6",
            "gridcolor": "white",
            "gridwidth": 2,
            "linecolor": "white",
            "showbackground": true,
            "ticks": "",
            "zerolinecolor": "white"
           },
           "zaxis": {
            "backgroundcolor": "#E5ECF6",
            "gridcolor": "white",
            "gridwidth": 2,
            "linecolor": "white",
            "showbackground": true,
            "ticks": "",
            "zerolinecolor": "white"
           }
          },
          "shapedefaults": {
           "line": {
            "color": "#2a3f5f"
           }
          },
          "ternary": {
           "aaxis": {
            "gridcolor": "white",
            "linecolor": "white",
            "ticks": ""
           },
           "baxis": {
            "gridcolor": "white",
            "linecolor": "white",
            "ticks": ""
           },
           "bgcolor": "#E5ECF6",
           "caxis": {
            "gridcolor": "white",
            "linecolor": "white",
            "ticks": ""
           }
          },
          "title": {
           "x": 0.05
          },
          "xaxis": {
           "automargin": true,
           "gridcolor": "white",
           "linecolor": "white",
           "ticks": "",
           "title": {
            "standoff": 15
           },
           "zerolinecolor": "white",
           "zerolinewidth": 2
          },
          "yaxis": {
           "automargin": true,
           "gridcolor": "white",
           "linecolor": "white",
           "ticks": "",
           "title": {
            "standoff": 15
           },
           "zerolinecolor": "white",
           "zerolinewidth": 2
          }
         }
        },
        "title": {
         "text": "Mean ROI by Guest Number in each State"
        },
        "xaxis": {
         "anchor": "y",
         "domain": [
          0,
          0.45
         ]
        },
        "xaxis2": {
         "anchor": "y2",
         "domain": [
          0.55,
          1
         ]
        },
        "xaxis3": {
         "anchor": "y3",
         "domain": [
          0,
          0.45
         ]
        },
        "xaxis4": {
         "anchor": "y4",
         "domain": [
          0.55,
          1
         ]
        },
        "xaxis5": {
         "anchor": "y5",
         "domain": [
          0,
          0.45
         ]
        },
        "xaxis6": {
         "anchor": "y6",
         "domain": [
          0.55,
          1
         ]
        },
        "yaxis": {
         "anchor": "x",
         "domain": [
          0.7333333333333333,
          1
         ]
        },
        "yaxis2": {
         "anchor": "x2",
         "domain": [
          0.7333333333333333,
          1
         ]
        },
        "yaxis3": {
         "anchor": "x3",
         "domain": [
          0.36666666666666664,
          0.6333333333333333
         ]
        },
        "yaxis4": {
         "anchor": "x4",
         "domain": [
          0.36666666666666664,
          0.6333333333333333
         ]
        },
        "yaxis5": {
         "anchor": "x5",
         "domain": [
          0,
          0.26666666666666666
         ]
        },
        "yaxis6": {
         "anchor": "x6",
         "domain": [
          0,
          0.26666666666666666
         ]
        }
       }
      }
     },
     "metadata": {},
     "output_type": "display_data"
    }
   ],
   "source": [
    "from plotly.subplots import make_subplots\n",
    "import plotly.graph_objects as go\n",
    "\n",
    "roi_guest_subplots = make_subplots(rows=3, cols=2)\n",
    "\n",
    "combined_data_vt = combined_data[(combined_data['state_id'] == 'VT')]\n",
    "combined_data_nh = combined_data[(combined_data['state_id'] == 'NH')]\n",
    "combined_data_nc = combined_data[(combined_data['state_id'] == 'NC')]\n",
    "combined_data_sc = combined_data[(combined_data['state_id'] == 'SC')]\n",
    "combined_data_fl = combined_data[(combined_data['state_id'] == 'FL')]\n",
    "combined_data_me = combined_data[(combined_data['state_id'] == 'ME')]\n",
    "\n",
    "combined_data_vt_mean_roi_guest = combined_data_vt.groupby(['guest_no'])['median_ROI'].mean().reset_index()\n",
    "combined_data_nh_mean_roi_guest = combined_data_nh.groupby(['guest_no'])['median_ROI'].mean().reset_index()\n",
    "combined_data_nc_mean_roi_guest = combined_data_nc.groupby(['guest_no'])['median_ROI'].mean().reset_index()\n",
    "combined_data_sc_mean_roi_guest = combined_data_sc.groupby(['guest_no'])['median_ROI'].mean().reset_index()\n",
    "combined_data_fl_mean_roi_guest = combined_data_fl.groupby(['guest_no'])['median_ROI'].mean().reset_index()\n",
    "combined_data_me_mean_roi_guest = combined_data_me.groupby(['guest_no'])['median_ROI'].mean().reset_index()\n",
    "\n",
    "\n",
    "roi_guest_subplots.append_trace(\n",
    "    go.Bar(x=combined_data_vt_mean_roi_guest['guest_no'],\n",
    "    y=combined_data_vt_mean_roi_guest['median_ROI'], name=\"VT\"\n",
    "), row=1, col=1)\n",
    "\n",
    "roi_guest_subplots.append_trace(go.Bar(\n",
    "    x=combined_data_nh_mean_roi_guest['guest_no'],\n",
    "    y=combined_data_nh_mean_roi_guest['median_ROI'], name=\"NH\"\n",
    "), row=1, col=2)\n",
    "\n",
    "roi_guest_subplots.append_trace(go.Bar(\n",
    "    x=combined_data_nc_mean_roi_guest['guest_no'],\n",
    "    y=combined_data_nc_mean_roi_guest['median_ROI'], name=\"NC\"\n",
    "), row=2, col=1)\n",
    "\n",
    "roi_guest_subplots.append_trace(go.Bar(\n",
    "    x=combined_data_sc_mean_roi_guest['guest_no'],\n",
    "    y=combined_data_sc_mean_roi_guest['median_ROI'], name=\"SC\"\n",
    "), row=2, col=2)\n",
    "\n",
    "roi_guest_subplots.append_trace(go.Bar(\n",
    "    x=combined_data_fl_mean_roi_guest['guest_no'],\n",
    "    y=combined_data_fl_mean_roi_guest['median_ROI'], name=\"FL\"\n",
    "), row=3, col=1)\n",
    "\n",
    "roi_guest_subplots.append_trace(go.Bar(\n",
    "    x=combined_data_me_mean_roi_guest['guest_no'],\n",
    "    y=combined_data_me_mean_roi_guest['median_ROI'], name=\"ME\"\n",
    "), row=3, col=2)\n",
    "\n",
    "\n",
    "roi_guest_subplots.update_layout(height = 1100, title_text=\"Mean ROI by Guest Number in each State\", barmode='group')\n",
    "roi_guest_subplots.show()"
   ]
  },
  {
   "cell_type": "code",
   "execution_count": 266,
   "metadata": {},
   "outputs": [],
   "source": [
    "append_fig_to_html([roi_guest_subplots])"
   ]
  },
  {
   "cell_type": "code",
   "execution_count": 37,
   "metadata": {},
   "outputs": [
    {
     "data": {
      "application/vnd.plotly.v1+json": {
       "config": {
        "plotlyServerURL": "https://plot.ly"
       },
       "data": [
        {
         "name": "Total Price",
         "offsetgroup": "1",
         "type": "bar",
         "x": [
          2,
          3,
          4,
          5,
          6,
          7,
          8,
          10,
          16
         ],
         "y": [
          220,
          283,
          480,
          378,
          533,
          430,
          972,
          523,
          null
         ],
         "yaxis": "y"
        },
        {
         "name": "Occupancy Rate",
         "offsetgroup": "2",
         "type": "bar",
         "x": [
          2,
          3,
          4,
          5,
          6,
          7,
          8,
          10,
          16
         ],
         "y": [
          0.7080866106937693,
          0.4601855943437914,
          0.5133451171011931,
          0.612152010605391,
          0.5895713654441007,
          0.9263367211665929,
          0.3027904616945713,
          0.8966858152894388,
          0.8869642068051259
         ],
         "yaxis": "y2"
        }
       ],
       "layout": {
        "barmode": "group",
        "template": {
         "data": {
          "bar": [
           {
            "error_x": {
             "color": "#2a3f5f"
            },
            "error_y": {
             "color": "#2a3f5f"
            },
            "marker": {
             "line": {
              "color": "#E5ECF6",
              "width": 0.5
             },
             "pattern": {
              "fillmode": "overlay",
              "size": 10,
              "solidity": 0.2
             }
            },
            "type": "bar"
           }
          ],
          "barpolar": [
           {
            "marker": {
             "line": {
              "color": "#E5ECF6",
              "width": 0.5
             },
             "pattern": {
              "fillmode": "overlay",
              "size": 10,
              "solidity": 0.2
             }
            },
            "type": "barpolar"
           }
          ],
          "carpet": [
           {
            "aaxis": {
             "endlinecolor": "#2a3f5f",
             "gridcolor": "white",
             "linecolor": "white",
             "minorgridcolor": "white",
             "startlinecolor": "#2a3f5f"
            },
            "baxis": {
             "endlinecolor": "#2a3f5f",
             "gridcolor": "white",
             "linecolor": "white",
             "minorgridcolor": "white",
             "startlinecolor": "#2a3f5f"
            },
            "type": "carpet"
           }
          ],
          "choropleth": [
           {
            "colorbar": {
             "outlinewidth": 0,
             "ticks": ""
            },
            "type": "choropleth"
           }
          ],
          "contour": [
           {
            "colorbar": {
             "outlinewidth": 0,
             "ticks": ""
            },
            "colorscale": [
             [
              0,
              "#0d0887"
             ],
             [
              0.1111111111111111,
              "#46039f"
             ],
             [
              0.2222222222222222,
              "#7201a8"
             ],
             [
              0.3333333333333333,
              "#9c179e"
             ],
             [
              0.4444444444444444,
              "#bd3786"
             ],
             [
              0.5555555555555556,
              "#d8576b"
             ],
             [
              0.6666666666666666,
              "#ed7953"
             ],
             [
              0.7777777777777778,
              "#fb9f3a"
             ],
             [
              0.8888888888888888,
              "#fdca26"
             ],
             [
              1,
              "#f0f921"
             ]
            ],
            "type": "contour"
           }
          ],
          "contourcarpet": [
           {
            "colorbar": {
             "outlinewidth": 0,
             "ticks": ""
            },
            "type": "contourcarpet"
           }
          ],
          "heatmap": [
           {
            "colorbar": {
             "outlinewidth": 0,
             "ticks": ""
            },
            "colorscale": [
             [
              0,
              "#0d0887"
             ],
             [
              0.1111111111111111,
              "#46039f"
             ],
             [
              0.2222222222222222,
              "#7201a8"
             ],
             [
              0.3333333333333333,
              "#9c179e"
             ],
             [
              0.4444444444444444,
              "#bd3786"
             ],
             [
              0.5555555555555556,
              "#d8576b"
             ],
             [
              0.6666666666666666,
              "#ed7953"
             ],
             [
              0.7777777777777778,
              "#fb9f3a"
             ],
             [
              0.8888888888888888,
              "#fdca26"
             ],
             [
              1,
              "#f0f921"
             ]
            ],
            "type": "heatmap"
           }
          ],
          "heatmapgl": [
           {
            "colorbar": {
             "outlinewidth": 0,
             "ticks": ""
            },
            "colorscale": [
             [
              0,
              "#0d0887"
             ],
             [
              0.1111111111111111,
              "#46039f"
             ],
             [
              0.2222222222222222,
              "#7201a8"
             ],
             [
              0.3333333333333333,
              "#9c179e"
             ],
             [
              0.4444444444444444,
              "#bd3786"
             ],
             [
              0.5555555555555556,
              "#d8576b"
             ],
             [
              0.6666666666666666,
              "#ed7953"
             ],
             [
              0.7777777777777778,
              "#fb9f3a"
             ],
             [
              0.8888888888888888,
              "#fdca26"
             ],
             [
              1,
              "#f0f921"
             ]
            ],
            "type": "heatmapgl"
           }
          ],
          "histogram": [
           {
            "marker": {
             "pattern": {
              "fillmode": "overlay",
              "size": 10,
              "solidity": 0.2
             }
            },
            "type": "histogram"
           }
          ],
          "histogram2d": [
           {
            "colorbar": {
             "outlinewidth": 0,
             "ticks": ""
            },
            "colorscale": [
             [
              0,
              "#0d0887"
             ],
             [
              0.1111111111111111,
              "#46039f"
             ],
             [
              0.2222222222222222,
              "#7201a8"
             ],
             [
              0.3333333333333333,
              "#9c179e"
             ],
             [
              0.4444444444444444,
              "#bd3786"
             ],
             [
              0.5555555555555556,
              "#d8576b"
             ],
             [
              0.6666666666666666,
              "#ed7953"
             ],
             [
              0.7777777777777778,
              "#fb9f3a"
             ],
             [
              0.8888888888888888,
              "#fdca26"
             ],
             [
              1,
              "#f0f921"
             ]
            ],
            "type": "histogram2d"
           }
          ],
          "histogram2dcontour": [
           {
            "colorbar": {
             "outlinewidth": 0,
             "ticks": ""
            },
            "colorscale": [
             [
              0,
              "#0d0887"
             ],
             [
              0.1111111111111111,
              "#46039f"
             ],
             [
              0.2222222222222222,
              "#7201a8"
             ],
             [
              0.3333333333333333,
              "#9c179e"
             ],
             [
              0.4444444444444444,
              "#bd3786"
             ],
             [
              0.5555555555555556,
              "#d8576b"
             ],
             [
              0.6666666666666666,
              "#ed7953"
             ],
             [
              0.7777777777777778,
              "#fb9f3a"
             ],
             [
              0.8888888888888888,
              "#fdca26"
             ],
             [
              1,
              "#f0f921"
             ]
            ],
            "type": "histogram2dcontour"
           }
          ],
          "mesh3d": [
           {
            "colorbar": {
             "outlinewidth": 0,
             "ticks": ""
            },
            "type": "mesh3d"
           }
          ],
          "parcoords": [
           {
            "line": {
             "colorbar": {
              "outlinewidth": 0,
              "ticks": ""
             }
            },
            "type": "parcoords"
           }
          ],
          "pie": [
           {
            "automargin": true,
            "type": "pie"
           }
          ],
          "scatter": [
           {
            "fillpattern": {
             "fillmode": "overlay",
             "size": 10,
             "solidity": 0.2
            },
            "type": "scatter"
           }
          ],
          "scatter3d": [
           {
            "line": {
             "colorbar": {
              "outlinewidth": 0,
              "ticks": ""
             }
            },
            "marker": {
             "colorbar": {
              "outlinewidth": 0,
              "ticks": ""
             }
            },
            "type": "scatter3d"
           }
          ],
          "scattercarpet": [
           {
            "marker": {
             "colorbar": {
              "outlinewidth": 0,
              "ticks": ""
             }
            },
            "type": "scattercarpet"
           }
          ],
          "scattergeo": [
           {
            "marker": {
             "colorbar": {
              "outlinewidth": 0,
              "ticks": ""
             }
            },
            "type": "scattergeo"
           }
          ],
          "scattergl": [
           {
            "marker": {
             "colorbar": {
              "outlinewidth": 0,
              "ticks": ""
             }
            },
            "type": "scattergl"
           }
          ],
          "scattermapbox": [
           {
            "marker": {
             "colorbar": {
              "outlinewidth": 0,
              "ticks": ""
             }
            },
            "type": "scattermapbox"
           }
          ],
          "scatterpolar": [
           {
            "marker": {
             "colorbar": {
              "outlinewidth": 0,
              "ticks": ""
             }
            },
            "type": "scatterpolar"
           }
          ],
          "scatterpolargl": [
           {
            "marker": {
             "colorbar": {
              "outlinewidth": 0,
              "ticks": ""
             }
            },
            "type": "scatterpolargl"
           }
          ],
          "scatterternary": [
           {
            "marker": {
             "colorbar": {
              "outlinewidth": 0,
              "ticks": ""
             }
            },
            "type": "scatterternary"
           }
          ],
          "surface": [
           {
            "colorbar": {
             "outlinewidth": 0,
             "ticks": ""
            },
            "colorscale": [
             [
              0,
              "#0d0887"
             ],
             [
              0.1111111111111111,
              "#46039f"
             ],
             [
              0.2222222222222222,
              "#7201a8"
             ],
             [
              0.3333333333333333,
              "#9c179e"
             ],
             [
              0.4444444444444444,
              "#bd3786"
             ],
             [
              0.5555555555555556,
              "#d8576b"
             ],
             [
              0.6666666666666666,
              "#ed7953"
             ],
             [
              0.7777777777777778,
              "#fb9f3a"
             ],
             [
              0.8888888888888888,
              "#fdca26"
             ],
             [
              1,
              "#f0f921"
             ]
            ],
            "type": "surface"
           }
          ],
          "table": [
           {
            "cells": {
             "fill": {
              "color": "#EBF0F8"
             },
             "line": {
              "color": "white"
             }
            },
            "header": {
             "fill": {
              "color": "#C8D4E3"
             },
             "line": {
              "color": "white"
             }
            },
            "type": "table"
           }
          ]
         },
         "layout": {
          "annotationdefaults": {
           "arrowcolor": "#2a3f5f",
           "arrowhead": 0,
           "arrowwidth": 1
          },
          "autotypenumbers": "strict",
          "coloraxis": {
           "colorbar": {
            "outlinewidth": 0,
            "ticks": ""
           }
          },
          "colorscale": {
           "diverging": [
            [
             0,
             "#8e0152"
            ],
            [
             0.1,
             "#c51b7d"
            ],
            [
             0.2,
             "#de77ae"
            ],
            [
             0.3,
             "#f1b6da"
            ],
            [
             0.4,
             "#fde0ef"
            ],
            [
             0.5,
             "#f7f7f7"
            ],
            [
             0.6,
             "#e6f5d0"
            ],
            [
             0.7,
             "#b8e186"
            ],
            [
             0.8,
             "#7fbc41"
            ],
            [
             0.9,
             "#4d9221"
            ],
            [
             1,
             "#276419"
            ]
           ],
           "sequential": [
            [
             0,
             "#0d0887"
            ],
            [
             0.1111111111111111,
             "#46039f"
            ],
            [
             0.2222222222222222,
             "#7201a8"
            ],
            [
             0.3333333333333333,
             "#9c179e"
            ],
            [
             0.4444444444444444,
             "#bd3786"
            ],
            [
             0.5555555555555556,
             "#d8576b"
            ],
            [
             0.6666666666666666,
             "#ed7953"
            ],
            [
             0.7777777777777778,
             "#fb9f3a"
            ],
            [
             0.8888888888888888,
             "#fdca26"
            ],
            [
             1,
             "#f0f921"
            ]
           ],
           "sequentialminus": [
            [
             0,
             "#0d0887"
            ],
            [
             0.1111111111111111,
             "#46039f"
            ],
            [
             0.2222222222222222,
             "#7201a8"
            ],
            [
             0.3333333333333333,
             "#9c179e"
            ],
            [
             0.4444444444444444,
             "#bd3786"
            ],
            [
             0.5555555555555556,
             "#d8576b"
            ],
            [
             0.6666666666666666,
             "#ed7953"
            ],
            [
             0.7777777777777778,
             "#fb9f3a"
            ],
            [
             0.8888888888888888,
             "#fdca26"
            ],
            [
             1,
             "#f0f921"
            ]
           ]
          },
          "colorway": [
           "#636efa",
           "#EF553B",
           "#00cc96",
           "#ab63fa",
           "#FFA15A",
           "#19d3f3",
           "#FF6692",
           "#B6E880",
           "#FF97FF",
           "#FECB52"
          ],
          "font": {
           "color": "#2a3f5f"
          },
          "geo": {
           "bgcolor": "white",
           "lakecolor": "white",
           "landcolor": "#E5ECF6",
           "showlakes": true,
           "showland": true,
           "subunitcolor": "white"
          },
          "hoverlabel": {
           "align": "left"
          },
          "hovermode": "closest",
          "mapbox": {
           "style": "light"
          },
          "paper_bgcolor": "white",
          "plot_bgcolor": "#E5ECF6",
          "polar": {
           "angularaxis": {
            "gridcolor": "white",
            "linecolor": "white",
            "ticks": ""
           },
           "bgcolor": "#E5ECF6",
           "radialaxis": {
            "gridcolor": "white",
            "linecolor": "white",
            "ticks": ""
           }
          },
          "scene": {
           "xaxis": {
            "backgroundcolor": "#E5ECF6",
            "gridcolor": "white",
            "gridwidth": 2,
            "linecolor": "white",
            "showbackground": true,
            "ticks": "",
            "zerolinecolor": "white"
           },
           "yaxis": {
            "backgroundcolor": "#E5ECF6",
            "gridcolor": "white",
            "gridwidth": 2,
            "linecolor": "white",
            "showbackground": true,
            "ticks": "",
            "zerolinecolor": "white"
           },
           "zaxis": {
            "backgroundcolor": "#E5ECF6",
            "gridcolor": "white",
            "gridwidth": 2,
            "linecolor": "white",
            "showbackground": true,
            "ticks": "",
            "zerolinecolor": "white"
           }
          },
          "shapedefaults": {
           "line": {
            "color": "#2a3f5f"
           }
          },
          "ternary": {
           "aaxis": {
            "gridcolor": "white",
            "linecolor": "white",
            "ticks": ""
           },
           "baxis": {
            "gridcolor": "white",
            "linecolor": "white",
            "ticks": ""
           },
           "bgcolor": "#E5ECF6",
           "caxis": {
            "gridcolor": "white",
            "linecolor": "white",
            "ticks": ""
           }
          },
          "title": {
           "x": 0.05
          },
          "xaxis": {
           "automargin": true,
           "gridcolor": "white",
           "linecolor": "white",
           "ticks": "",
           "title": {
            "standoff": 15
           },
           "zerolinecolor": "white",
           "zerolinewidth": 2
          },
          "yaxis": {
           "automargin": true,
           "gridcolor": "white",
           "linecolor": "white",
           "ticks": "",
           "title": {
            "standoff": 15
           },
           "zerolinecolor": "white",
           "zerolinewidth": 2
          }
         }
        },
        "title": {
         "text": "Median Price and Occupancy by # of Guests in Miami"
        },
        "xaxis": {
         "title": {
          "text": "# of Guests"
         }
        },
        "yaxis": {
         "title": {
          "text": "Total Price"
         }
        },
        "yaxis2": {
         "overlaying": "y",
         "side": "right",
         "title": {
          "text": "Occupancy Rate"
         }
        }
       }
      }
     },
     "metadata": {},
     "output_type": "display_data"
    }
   ],
   "source": [
    "combined_data_fl_guests = combined_data_fl.groupby(['guest_no'])['median_total_price'].median().reset_index()\n",
    "combined_data_fl_occ = combined_data_fl.groupby(['guest_no'])['occupancy_rate'].median().reset_index()\n",
    "\n",
    "miami_fig = go.Figure(data=[\n",
    "    go.Bar(name='Total Price', x=combined_data_fl_guests['guest_no'], y=combined_data_fl_guests['median_total_price'], yaxis='y', offsetgroup=1),\n",
    "    go.Bar(name='Occupancy Rate', x=combined_data_fl_occ['guest_no'], y=combined_data_fl_occ['occupancy_rate'], yaxis='y2', offsetgroup=2),\n",
    "],\n",
    "    layout={\n",
    "        'xaxis': {'title': '# of Guests'},\n",
    "        'yaxis': {'title': 'Total Price'},\n",
    "        'yaxis2': {'title': 'Occupancy Rate', 'overlaying': 'y', 'side': 'right'}\n",
    "    }\n",
    ")\n",
    "\n",
    "# Change the bar mode\n",
    "miami_fig.update_layout(title_text='Median Price and Occupancy by # of Guests in Miami', barmode='group')\n",
    "#filename = \"newsletter_features/median_price_and_occ_by_guestno_miami.png\"\n",
    "#miami_fig.write_image(filename, engine='kaleido')\n",
    "miami_fig.show()"
   ]
  },
  {
   "cell_type": "code",
   "execution_count": 39,
   "metadata": {},
   "outputs": [
    {
     "data": {
      "application/vnd.plotly.v1+json": {
       "config": {
        "plotlyServerURL": "https://plot.ly"
       },
       "data": [
        {
         "name": "Display Price",
         "type": "bar",
         "x": [
          "33109",
          "33125",
          "33127",
          "33131",
          "33133",
          "33137",
          "33138",
          "33139",
          "33140",
          "33141",
          "33142",
          "33147",
          "33150",
          "33155",
          "33169",
          "33175"
         ],
         "y": [
          315.5,
          169,
          125.5,
          164,
          222.5,
          346,
          262,
          176.5,
          261,
          178.5,
          419,
          68,
          682,
          315,
          325,
          499
         ]
        },
        {
         "name": "Cleaning Fee",
         "type": "bar",
         "x": [
          "33109",
          "33125",
          "33127",
          "33131",
          "33133",
          "33137",
          "33138",
          "33139",
          "33140",
          "33141",
          "33142",
          "33147",
          "33150",
          "33155",
          "33169",
          "33175"
         ],
         "y": [
          160,
          225,
          110,
          120,
          170,
          130,
          180,
          100,
          150,
          117.5,
          null,
          80,
          290,
          150,
          null,
          200
         ]
        },
        {
         "name": "Service Fee",
         "type": "bar",
         "x": [
          "33109",
          "33125",
          "33127",
          "33131",
          "33133",
          "33137",
          "33138",
          "33139",
          "33140",
          "33141",
          "33142",
          "33147",
          "33150",
          "33155",
          "33169",
          "33175"
         ],
         "y": [
          73,
          57,
          34,
          52,
          70.5,
          88,
          68,
          43.5,
          64,
          55,
          155,
          21,
          0,
          66,
          39,
          99
         ]
        }
       ],
       "layout": {
        "barmode": "stack",
        "template": {
         "data": {
          "bar": [
           {
            "error_x": {
             "color": "#2a3f5f"
            },
            "error_y": {
             "color": "#2a3f5f"
            },
            "marker": {
             "line": {
              "color": "#E5ECF6",
              "width": 0.5
             },
             "pattern": {
              "fillmode": "overlay",
              "size": 10,
              "solidity": 0.2
             }
            },
            "type": "bar"
           }
          ],
          "barpolar": [
           {
            "marker": {
             "line": {
              "color": "#E5ECF6",
              "width": 0.5
             },
             "pattern": {
              "fillmode": "overlay",
              "size": 10,
              "solidity": 0.2
             }
            },
            "type": "barpolar"
           }
          ],
          "carpet": [
           {
            "aaxis": {
             "endlinecolor": "#2a3f5f",
             "gridcolor": "white",
             "linecolor": "white",
             "minorgridcolor": "white",
             "startlinecolor": "#2a3f5f"
            },
            "baxis": {
             "endlinecolor": "#2a3f5f",
             "gridcolor": "white",
             "linecolor": "white",
             "minorgridcolor": "white",
             "startlinecolor": "#2a3f5f"
            },
            "type": "carpet"
           }
          ],
          "choropleth": [
           {
            "colorbar": {
             "outlinewidth": 0,
             "ticks": ""
            },
            "type": "choropleth"
           }
          ],
          "contour": [
           {
            "colorbar": {
             "outlinewidth": 0,
             "ticks": ""
            },
            "colorscale": [
             [
              0,
              "#0d0887"
             ],
             [
              0.1111111111111111,
              "#46039f"
             ],
             [
              0.2222222222222222,
              "#7201a8"
             ],
             [
              0.3333333333333333,
              "#9c179e"
             ],
             [
              0.4444444444444444,
              "#bd3786"
             ],
             [
              0.5555555555555556,
              "#d8576b"
             ],
             [
              0.6666666666666666,
              "#ed7953"
             ],
             [
              0.7777777777777778,
              "#fb9f3a"
             ],
             [
              0.8888888888888888,
              "#fdca26"
             ],
             [
              1,
              "#f0f921"
             ]
            ],
            "type": "contour"
           }
          ],
          "contourcarpet": [
           {
            "colorbar": {
             "outlinewidth": 0,
             "ticks": ""
            },
            "type": "contourcarpet"
           }
          ],
          "heatmap": [
           {
            "colorbar": {
             "outlinewidth": 0,
             "ticks": ""
            },
            "colorscale": [
             [
              0,
              "#0d0887"
             ],
             [
              0.1111111111111111,
              "#46039f"
             ],
             [
              0.2222222222222222,
              "#7201a8"
             ],
             [
              0.3333333333333333,
              "#9c179e"
             ],
             [
              0.4444444444444444,
              "#bd3786"
             ],
             [
              0.5555555555555556,
              "#d8576b"
             ],
             [
              0.6666666666666666,
              "#ed7953"
             ],
             [
              0.7777777777777778,
              "#fb9f3a"
             ],
             [
              0.8888888888888888,
              "#fdca26"
             ],
             [
              1,
              "#f0f921"
             ]
            ],
            "type": "heatmap"
           }
          ],
          "heatmapgl": [
           {
            "colorbar": {
             "outlinewidth": 0,
             "ticks": ""
            },
            "colorscale": [
             [
              0,
              "#0d0887"
             ],
             [
              0.1111111111111111,
              "#46039f"
             ],
             [
              0.2222222222222222,
              "#7201a8"
             ],
             [
              0.3333333333333333,
              "#9c179e"
             ],
             [
              0.4444444444444444,
              "#bd3786"
             ],
             [
              0.5555555555555556,
              "#d8576b"
             ],
             [
              0.6666666666666666,
              "#ed7953"
             ],
             [
              0.7777777777777778,
              "#fb9f3a"
             ],
             [
              0.8888888888888888,
              "#fdca26"
             ],
             [
              1,
              "#f0f921"
             ]
            ],
            "type": "heatmapgl"
           }
          ],
          "histogram": [
           {
            "marker": {
             "pattern": {
              "fillmode": "overlay",
              "size": 10,
              "solidity": 0.2
             }
            },
            "type": "histogram"
           }
          ],
          "histogram2d": [
           {
            "colorbar": {
             "outlinewidth": 0,
             "ticks": ""
            },
            "colorscale": [
             [
              0,
              "#0d0887"
             ],
             [
              0.1111111111111111,
              "#46039f"
             ],
             [
              0.2222222222222222,
              "#7201a8"
             ],
             [
              0.3333333333333333,
              "#9c179e"
             ],
             [
              0.4444444444444444,
              "#bd3786"
             ],
             [
              0.5555555555555556,
              "#d8576b"
             ],
             [
              0.6666666666666666,
              "#ed7953"
             ],
             [
              0.7777777777777778,
              "#fb9f3a"
             ],
             [
              0.8888888888888888,
              "#fdca26"
             ],
             [
              1,
              "#f0f921"
             ]
            ],
            "type": "histogram2d"
           }
          ],
          "histogram2dcontour": [
           {
            "colorbar": {
             "outlinewidth": 0,
             "ticks": ""
            },
            "colorscale": [
             [
              0,
              "#0d0887"
             ],
             [
              0.1111111111111111,
              "#46039f"
             ],
             [
              0.2222222222222222,
              "#7201a8"
             ],
             [
              0.3333333333333333,
              "#9c179e"
             ],
             [
              0.4444444444444444,
              "#bd3786"
             ],
             [
              0.5555555555555556,
              "#d8576b"
             ],
             [
              0.6666666666666666,
              "#ed7953"
             ],
             [
              0.7777777777777778,
              "#fb9f3a"
             ],
             [
              0.8888888888888888,
              "#fdca26"
             ],
             [
              1,
              "#f0f921"
             ]
            ],
            "type": "histogram2dcontour"
           }
          ],
          "mesh3d": [
           {
            "colorbar": {
             "outlinewidth": 0,
             "ticks": ""
            },
            "type": "mesh3d"
           }
          ],
          "parcoords": [
           {
            "line": {
             "colorbar": {
              "outlinewidth": 0,
              "ticks": ""
             }
            },
            "type": "parcoords"
           }
          ],
          "pie": [
           {
            "automargin": true,
            "type": "pie"
           }
          ],
          "scatter": [
           {
            "fillpattern": {
             "fillmode": "overlay",
             "size": 10,
             "solidity": 0.2
            },
            "type": "scatter"
           }
          ],
          "scatter3d": [
           {
            "line": {
             "colorbar": {
              "outlinewidth": 0,
              "ticks": ""
             }
            },
            "marker": {
             "colorbar": {
              "outlinewidth": 0,
              "ticks": ""
             }
            },
            "type": "scatter3d"
           }
          ],
          "scattercarpet": [
           {
            "marker": {
             "colorbar": {
              "outlinewidth": 0,
              "ticks": ""
             }
            },
            "type": "scattercarpet"
           }
          ],
          "scattergeo": [
           {
            "marker": {
             "colorbar": {
              "outlinewidth": 0,
              "ticks": ""
             }
            },
            "type": "scattergeo"
           }
          ],
          "scattergl": [
           {
            "marker": {
             "colorbar": {
              "outlinewidth": 0,
              "ticks": ""
             }
            },
            "type": "scattergl"
           }
          ],
          "scattermapbox": [
           {
            "marker": {
             "colorbar": {
              "outlinewidth": 0,
              "ticks": ""
             }
            },
            "type": "scattermapbox"
           }
          ],
          "scatterpolar": [
           {
            "marker": {
             "colorbar": {
              "outlinewidth": 0,
              "ticks": ""
             }
            },
            "type": "scatterpolar"
           }
          ],
          "scatterpolargl": [
           {
            "marker": {
             "colorbar": {
              "outlinewidth": 0,
              "ticks": ""
             }
            },
            "type": "scatterpolargl"
           }
          ],
          "scatterternary": [
           {
            "marker": {
             "colorbar": {
              "outlinewidth": 0,
              "ticks": ""
             }
            },
            "type": "scatterternary"
           }
          ],
          "surface": [
           {
            "colorbar": {
             "outlinewidth": 0,
             "ticks": ""
            },
            "colorscale": [
             [
              0,
              "#0d0887"
             ],
             [
              0.1111111111111111,
              "#46039f"
             ],
             [
              0.2222222222222222,
              "#7201a8"
             ],
             [
              0.3333333333333333,
              "#9c179e"
             ],
             [
              0.4444444444444444,
              "#bd3786"
             ],
             [
              0.5555555555555556,
              "#d8576b"
             ],
             [
              0.6666666666666666,
              "#ed7953"
             ],
             [
              0.7777777777777778,
              "#fb9f3a"
             ],
             [
              0.8888888888888888,
              "#fdca26"
             ],
             [
              1,
              "#f0f921"
             ]
            ],
            "type": "surface"
           }
          ],
          "table": [
           {
            "cells": {
             "fill": {
              "color": "#EBF0F8"
             },
             "line": {
              "color": "white"
             }
            },
            "header": {
             "fill": {
              "color": "#C8D4E3"
             },
             "line": {
              "color": "white"
             }
            },
            "type": "table"
           }
          ]
         },
         "layout": {
          "annotationdefaults": {
           "arrowcolor": "#2a3f5f",
           "arrowhead": 0,
           "arrowwidth": 1
          },
          "autotypenumbers": "strict",
          "coloraxis": {
           "colorbar": {
            "outlinewidth": 0,
            "ticks": ""
           }
          },
          "colorscale": {
           "diverging": [
            [
             0,
             "#8e0152"
            ],
            [
             0.1,
             "#c51b7d"
            ],
            [
             0.2,
             "#de77ae"
            ],
            [
             0.3,
             "#f1b6da"
            ],
            [
             0.4,
             "#fde0ef"
            ],
            [
             0.5,
             "#f7f7f7"
            ],
            [
             0.6,
             "#e6f5d0"
            ],
            [
             0.7,
             "#b8e186"
            ],
            [
             0.8,
             "#7fbc41"
            ],
            [
             0.9,
             "#4d9221"
            ],
            [
             1,
             "#276419"
            ]
           ],
           "sequential": [
            [
             0,
             "#0d0887"
            ],
            [
             0.1111111111111111,
             "#46039f"
            ],
            [
             0.2222222222222222,
             "#7201a8"
            ],
            [
             0.3333333333333333,
             "#9c179e"
            ],
            [
             0.4444444444444444,
             "#bd3786"
            ],
            [
             0.5555555555555556,
             "#d8576b"
            ],
            [
             0.6666666666666666,
             "#ed7953"
            ],
            [
             0.7777777777777778,
             "#fb9f3a"
            ],
            [
             0.8888888888888888,
             "#fdca26"
            ],
            [
             1,
             "#f0f921"
            ]
           ],
           "sequentialminus": [
            [
             0,
             "#0d0887"
            ],
            [
             0.1111111111111111,
             "#46039f"
            ],
            [
             0.2222222222222222,
             "#7201a8"
            ],
            [
             0.3333333333333333,
             "#9c179e"
            ],
            [
             0.4444444444444444,
             "#bd3786"
            ],
            [
             0.5555555555555556,
             "#d8576b"
            ],
            [
             0.6666666666666666,
             "#ed7953"
            ],
            [
             0.7777777777777778,
             "#fb9f3a"
            ],
            [
             0.8888888888888888,
             "#fdca26"
            ],
            [
             1,
             "#f0f921"
            ]
           ]
          },
          "colorway": [
           "#636efa",
           "#EF553B",
           "#00cc96",
           "#ab63fa",
           "#FFA15A",
           "#19d3f3",
           "#FF6692",
           "#B6E880",
           "#FF97FF",
           "#FECB52"
          ],
          "font": {
           "color": "#2a3f5f"
          },
          "geo": {
           "bgcolor": "white",
           "lakecolor": "white",
           "landcolor": "#E5ECF6",
           "showlakes": true,
           "showland": true,
           "subunitcolor": "white"
          },
          "hoverlabel": {
           "align": "left"
          },
          "hovermode": "closest",
          "mapbox": {
           "style": "light"
          },
          "paper_bgcolor": "white",
          "plot_bgcolor": "#E5ECF6",
          "polar": {
           "angularaxis": {
            "gridcolor": "white",
            "linecolor": "white",
            "ticks": ""
           },
           "bgcolor": "#E5ECF6",
           "radialaxis": {
            "gridcolor": "white",
            "linecolor": "white",
            "ticks": ""
           }
          },
          "scene": {
           "xaxis": {
            "backgroundcolor": "#E5ECF6",
            "gridcolor": "white",
            "gridwidth": 2,
            "linecolor": "white",
            "showbackground": true,
            "ticks": "",
            "zerolinecolor": "white"
           },
           "yaxis": {
            "backgroundcolor": "#E5ECF6",
            "gridcolor": "white",
            "gridwidth": 2,
            "linecolor": "white",
            "showbackground": true,
            "ticks": "",
            "zerolinecolor": "white"
           },
           "zaxis": {
            "backgroundcolor": "#E5ECF6",
            "gridcolor": "white",
            "gridwidth": 2,
            "linecolor": "white",
            "showbackground": true,
            "ticks": "",
            "zerolinecolor": "white"
           }
          },
          "shapedefaults": {
           "line": {
            "color": "#2a3f5f"
           }
          },
          "ternary": {
           "aaxis": {
            "gridcolor": "white",
            "linecolor": "white",
            "ticks": ""
           },
           "baxis": {
            "gridcolor": "white",
            "linecolor": "white",
            "ticks": ""
           },
           "bgcolor": "#E5ECF6",
           "caxis": {
            "gridcolor": "white",
            "linecolor": "white",
            "ticks": ""
           }
          },
          "title": {
           "x": 0.05
          },
          "xaxis": {
           "automargin": true,
           "gridcolor": "white",
           "linecolor": "white",
           "ticks": "",
           "title": {
            "standoff": 15
           },
           "zerolinecolor": "white",
           "zerolinewidth": 2
          },
          "yaxis": {
           "automargin": true,
           "gridcolor": "white",
           "linecolor": "white",
           "ticks": "",
           "title": {
            "standoff": 15
           },
           "zerolinecolor": "white",
           "zerolinewidth": 2
          }
         }
        },
        "title": {
         "text": "Median Pricing in Miami by Zip"
        },
        "xaxis": {
         "title": {
          "text": "Zipcode"
         }
        },
        "yaxis": {
         "title": {
          "text": "Total Price ($)"
         }
        }
       }
      }
     },
     "metadata": {},
     "output_type": "display_data"
    }
   ],
   "source": [
    "combined_data_fl['zipcode'] = combined_data_fl.apply(lambda row: set_zipcode(row['lat'], row['lng']), axis=1)\n",
    "\n",
    "miami_zips_cleaning_df = combined_data_fl.groupby(['zipcode'])[['price','median_cleaning_fee','median_service_fee']].median().reset_index()\n",
    "\n",
    "miami_zips_cleaning_fig = go.Figure(data=[\n",
    "    go.Bar(name='Display Price', x=miami_zips_cleaning_df['zipcode'], y=miami_zips_cleaning_df['price']),\n",
    "    go.Bar(name='Cleaning Fee', x=miami_zips_cleaning_df['zipcode'], y=miami_zips_cleaning_df['median_cleaning_fee']),\n",
    "    go.Bar(name='Service Fee', x=miami_zips_cleaning_df['zipcode'], y=miami_zips_cleaning_df['median_service_fee']),\n",
    "],\n",
    "    layout={\n",
    "        'xaxis': {'title': 'Zipcode'},\n",
    "        'yaxis': {'title': 'Total Price ($)'},\n",
    "    }\n",
    ")\n",
    "\n",
    "# Change the bar mode\n",
    "miami_zips_cleaning_fig.update_layout(title_text='Median Pricing in Miami by Zip', barmode='stack')\n",
    "filename = \"newsletter_features/miami_zips_cleaning_fig.png\"\n",
    "miami_zips_cleaning_fig.write_image(filename, engine='kaleido')\n",
    "miami_zips_cleaning_fig.show()"
   ]
  },
  {
   "cell_type": "code",
   "execution_count": 41,
   "metadata": {},
   "outputs": [
    {
     "data": {
      "application/vnd.plotly.v1+json": {
       "config": {
        "plotlyServerURL": "https://plot.ly"
       },
       "data": [
        {
         "name": "Display Price",
         "type": "bar",
         "x": [
          "33109",
          "33125",
          "33127",
          "33131",
          "33133",
          "33137",
          "33138",
          "33139",
          "33140",
          "33141",
          "33142",
          "33147",
          "33150",
          "33155",
          "33169",
          "33175"
         ],
         "y": [
          2.4617070173871785,
          1.4048906794661227,
          0.285648335866145,
          1.0040110698130273,
          -0.0038928573310703096,
          2.847572191887433,
          1.5796272650755787,
          0.3733723980837798,
          4.7512791742629785,
          0.3644772192226628,
          null,
          -0.024817581290397787,
          5.709927731232764,
          0.6906749484611128,
          null,
          4.940073971074446
         ]
        }
       ],
       "layout": {
        "barmode": "stack",
        "template": {
         "data": {
          "bar": [
           {
            "error_x": {
             "color": "#2a3f5f"
            },
            "error_y": {
             "color": "#2a3f5f"
            },
            "marker": {
             "line": {
              "color": "#E5ECF6",
              "width": 0.5
             },
             "pattern": {
              "fillmode": "overlay",
              "size": 10,
              "solidity": 0.2
             }
            },
            "type": "bar"
           }
          ],
          "barpolar": [
           {
            "marker": {
             "line": {
              "color": "#E5ECF6",
              "width": 0.5
             },
             "pattern": {
              "fillmode": "overlay",
              "size": 10,
              "solidity": 0.2
             }
            },
            "type": "barpolar"
           }
          ],
          "carpet": [
           {
            "aaxis": {
             "endlinecolor": "#2a3f5f",
             "gridcolor": "white",
             "linecolor": "white",
             "minorgridcolor": "white",
             "startlinecolor": "#2a3f5f"
            },
            "baxis": {
             "endlinecolor": "#2a3f5f",
             "gridcolor": "white",
             "linecolor": "white",
             "minorgridcolor": "white",
             "startlinecolor": "#2a3f5f"
            },
            "type": "carpet"
           }
          ],
          "choropleth": [
           {
            "colorbar": {
             "outlinewidth": 0,
             "ticks": ""
            },
            "type": "choropleth"
           }
          ],
          "contour": [
           {
            "colorbar": {
             "outlinewidth": 0,
             "ticks": ""
            },
            "colorscale": [
             [
              0,
              "#0d0887"
             ],
             [
              0.1111111111111111,
              "#46039f"
             ],
             [
              0.2222222222222222,
              "#7201a8"
             ],
             [
              0.3333333333333333,
              "#9c179e"
             ],
             [
              0.4444444444444444,
              "#bd3786"
             ],
             [
              0.5555555555555556,
              "#d8576b"
             ],
             [
              0.6666666666666666,
              "#ed7953"
             ],
             [
              0.7777777777777778,
              "#fb9f3a"
             ],
             [
              0.8888888888888888,
              "#fdca26"
             ],
             [
              1,
              "#f0f921"
             ]
            ],
            "type": "contour"
           }
          ],
          "contourcarpet": [
           {
            "colorbar": {
             "outlinewidth": 0,
             "ticks": ""
            },
            "type": "contourcarpet"
           }
          ],
          "heatmap": [
           {
            "colorbar": {
             "outlinewidth": 0,
             "ticks": ""
            },
            "colorscale": [
             [
              0,
              "#0d0887"
             ],
             [
              0.1111111111111111,
              "#46039f"
             ],
             [
              0.2222222222222222,
              "#7201a8"
             ],
             [
              0.3333333333333333,
              "#9c179e"
             ],
             [
              0.4444444444444444,
              "#bd3786"
             ],
             [
              0.5555555555555556,
              "#d8576b"
             ],
             [
              0.6666666666666666,
              "#ed7953"
             ],
             [
              0.7777777777777778,
              "#fb9f3a"
             ],
             [
              0.8888888888888888,
              "#fdca26"
             ],
             [
              1,
              "#f0f921"
             ]
            ],
            "type": "heatmap"
           }
          ],
          "heatmapgl": [
           {
            "colorbar": {
             "outlinewidth": 0,
             "ticks": ""
            },
            "colorscale": [
             [
              0,
              "#0d0887"
             ],
             [
              0.1111111111111111,
              "#46039f"
             ],
             [
              0.2222222222222222,
              "#7201a8"
             ],
             [
              0.3333333333333333,
              "#9c179e"
             ],
             [
              0.4444444444444444,
              "#bd3786"
             ],
             [
              0.5555555555555556,
              "#d8576b"
             ],
             [
              0.6666666666666666,
              "#ed7953"
             ],
             [
              0.7777777777777778,
              "#fb9f3a"
             ],
             [
              0.8888888888888888,
              "#fdca26"
             ],
             [
              1,
              "#f0f921"
             ]
            ],
            "type": "heatmapgl"
           }
          ],
          "histogram": [
           {
            "marker": {
             "pattern": {
              "fillmode": "overlay",
              "size": 10,
              "solidity": 0.2
             }
            },
            "type": "histogram"
           }
          ],
          "histogram2d": [
           {
            "colorbar": {
             "outlinewidth": 0,
             "ticks": ""
            },
            "colorscale": [
             [
              0,
              "#0d0887"
             ],
             [
              0.1111111111111111,
              "#46039f"
             ],
             [
              0.2222222222222222,
              "#7201a8"
             ],
             [
              0.3333333333333333,
              "#9c179e"
             ],
             [
              0.4444444444444444,
              "#bd3786"
             ],
             [
              0.5555555555555556,
              "#d8576b"
             ],
             [
              0.6666666666666666,
              "#ed7953"
             ],
             [
              0.7777777777777778,
              "#fb9f3a"
             ],
             [
              0.8888888888888888,
              "#fdca26"
             ],
             [
              1,
              "#f0f921"
             ]
            ],
            "type": "histogram2d"
           }
          ],
          "histogram2dcontour": [
           {
            "colorbar": {
             "outlinewidth": 0,
             "ticks": ""
            },
            "colorscale": [
             [
              0,
              "#0d0887"
             ],
             [
              0.1111111111111111,
              "#46039f"
             ],
             [
              0.2222222222222222,
              "#7201a8"
             ],
             [
              0.3333333333333333,
              "#9c179e"
             ],
             [
              0.4444444444444444,
              "#bd3786"
             ],
             [
              0.5555555555555556,
              "#d8576b"
             ],
             [
              0.6666666666666666,
              "#ed7953"
             ],
             [
              0.7777777777777778,
              "#fb9f3a"
             ],
             [
              0.8888888888888888,
              "#fdca26"
             ],
             [
              1,
              "#f0f921"
             ]
            ],
            "type": "histogram2dcontour"
           }
          ],
          "mesh3d": [
           {
            "colorbar": {
             "outlinewidth": 0,
             "ticks": ""
            },
            "type": "mesh3d"
           }
          ],
          "parcoords": [
           {
            "line": {
             "colorbar": {
              "outlinewidth": 0,
              "ticks": ""
             }
            },
            "type": "parcoords"
           }
          ],
          "pie": [
           {
            "automargin": true,
            "type": "pie"
           }
          ],
          "scatter": [
           {
            "fillpattern": {
             "fillmode": "overlay",
             "size": 10,
             "solidity": 0.2
            },
            "type": "scatter"
           }
          ],
          "scatter3d": [
           {
            "line": {
             "colorbar": {
              "outlinewidth": 0,
              "ticks": ""
             }
            },
            "marker": {
             "colorbar": {
              "outlinewidth": 0,
              "ticks": ""
             }
            },
            "type": "scatter3d"
           }
          ],
          "scattercarpet": [
           {
            "marker": {
             "colorbar": {
              "outlinewidth": 0,
              "ticks": ""
             }
            },
            "type": "scattercarpet"
           }
          ],
          "scattergeo": [
           {
            "marker": {
             "colorbar": {
              "outlinewidth": 0,
              "ticks": ""
             }
            },
            "type": "scattergeo"
           }
          ],
          "scattergl": [
           {
            "marker": {
             "colorbar": {
              "outlinewidth": 0,
              "ticks": ""
             }
            },
            "type": "scattergl"
           }
          ],
          "scattermapbox": [
           {
            "marker": {
             "colorbar": {
              "outlinewidth": 0,
              "ticks": ""
             }
            },
            "type": "scattermapbox"
           }
          ],
          "scatterpolar": [
           {
            "marker": {
             "colorbar": {
              "outlinewidth": 0,
              "ticks": ""
             }
            },
            "type": "scatterpolar"
           }
          ],
          "scatterpolargl": [
           {
            "marker": {
             "colorbar": {
              "outlinewidth": 0,
              "ticks": ""
             }
            },
            "type": "scatterpolargl"
           }
          ],
          "scatterternary": [
           {
            "marker": {
             "colorbar": {
              "outlinewidth": 0,
              "ticks": ""
             }
            },
            "type": "scatterternary"
           }
          ],
          "surface": [
           {
            "colorbar": {
             "outlinewidth": 0,
             "ticks": ""
            },
            "colorscale": [
             [
              0,
              "#0d0887"
             ],
             [
              0.1111111111111111,
              "#46039f"
             ],
             [
              0.2222222222222222,
              "#7201a8"
             ],
             [
              0.3333333333333333,
              "#9c179e"
             ],
             [
              0.4444444444444444,
              "#bd3786"
             ],
             [
              0.5555555555555556,
              "#d8576b"
             ],
             [
              0.6666666666666666,
              "#ed7953"
             ],
             [
              0.7777777777777778,
              "#fb9f3a"
             ],
             [
              0.8888888888888888,
              "#fdca26"
             ],
             [
              1,
              "#f0f921"
             ]
            ],
            "type": "surface"
           }
          ],
          "table": [
           {
            "cells": {
             "fill": {
              "color": "#EBF0F8"
             },
             "line": {
              "color": "white"
             }
            },
            "header": {
             "fill": {
              "color": "#C8D4E3"
             },
             "line": {
              "color": "white"
             }
            },
            "type": "table"
           }
          ]
         },
         "layout": {
          "annotationdefaults": {
           "arrowcolor": "#2a3f5f",
           "arrowhead": 0,
           "arrowwidth": 1
          },
          "autotypenumbers": "strict",
          "coloraxis": {
           "colorbar": {
            "outlinewidth": 0,
            "ticks": ""
           }
          },
          "colorscale": {
           "diverging": [
            [
             0,
             "#8e0152"
            ],
            [
             0.1,
             "#c51b7d"
            ],
            [
             0.2,
             "#de77ae"
            ],
            [
             0.3,
             "#f1b6da"
            ],
            [
             0.4,
             "#fde0ef"
            ],
            [
             0.5,
             "#f7f7f7"
            ],
            [
             0.6,
             "#e6f5d0"
            ],
            [
             0.7,
             "#b8e186"
            ],
            [
             0.8,
             "#7fbc41"
            ],
            [
             0.9,
             "#4d9221"
            ],
            [
             1,
             "#276419"
            ]
           ],
           "sequential": [
            [
             0,
             "#0d0887"
            ],
            [
             0.1111111111111111,
             "#46039f"
            ],
            [
             0.2222222222222222,
             "#7201a8"
            ],
            [
             0.3333333333333333,
             "#9c179e"
            ],
            [
             0.4444444444444444,
             "#bd3786"
            ],
            [
             0.5555555555555556,
             "#d8576b"
            ],
            [
             0.6666666666666666,
             "#ed7953"
            ],
            [
             0.7777777777777778,
             "#fb9f3a"
            ],
            [
             0.8888888888888888,
             "#fdca26"
            ],
            [
             1,
             "#f0f921"
            ]
           ],
           "sequentialminus": [
            [
             0,
             "#0d0887"
            ],
            [
             0.1111111111111111,
             "#46039f"
            ],
            [
             0.2222222222222222,
             "#7201a8"
            ],
            [
             0.3333333333333333,
             "#9c179e"
            ],
            [
             0.4444444444444444,
             "#bd3786"
            ],
            [
             0.5555555555555556,
             "#d8576b"
            ],
            [
             0.6666666666666666,
             "#ed7953"
            ],
            [
             0.7777777777777778,
             "#fb9f3a"
            ],
            [
             0.8888888888888888,
             "#fdca26"
            ],
            [
             1,
             "#f0f921"
            ]
           ]
          },
          "colorway": [
           "#636efa",
           "#EF553B",
           "#00cc96",
           "#ab63fa",
           "#FFA15A",
           "#19d3f3",
           "#FF6692",
           "#B6E880",
           "#FF97FF",
           "#FECB52"
          ],
          "font": {
           "color": "#2a3f5f"
          },
          "geo": {
           "bgcolor": "white",
           "lakecolor": "white",
           "landcolor": "#E5ECF6",
           "showlakes": true,
           "showland": true,
           "subunitcolor": "white"
          },
          "hoverlabel": {
           "align": "left"
          },
          "hovermode": "closest",
          "mapbox": {
           "style": "light"
          },
          "paper_bgcolor": "white",
          "plot_bgcolor": "#E5ECF6",
          "polar": {
           "angularaxis": {
            "gridcolor": "white",
            "linecolor": "white",
            "ticks": ""
           },
           "bgcolor": "#E5ECF6",
           "radialaxis": {
            "gridcolor": "white",
            "linecolor": "white",
            "ticks": ""
           }
          },
          "scene": {
           "xaxis": {
            "backgroundcolor": "#E5ECF6",
            "gridcolor": "white",
            "gridwidth": 2,
            "linecolor": "white",
            "showbackground": true,
            "ticks": "",
            "zerolinecolor": "white"
           },
           "yaxis": {
            "backgroundcolor": "#E5ECF6",
            "gridcolor": "white",
            "gridwidth": 2,
            "linecolor": "white",
            "showbackground": true,
            "ticks": "",
            "zerolinecolor": "white"
           },
           "zaxis": {
            "backgroundcolor": "#E5ECF6",
            "gridcolor": "white",
            "gridwidth": 2,
            "linecolor": "white",
            "showbackground": true,
            "ticks": "",
            "zerolinecolor": "white"
           }
          },
          "shapedefaults": {
           "line": {
            "color": "#2a3f5f"
           }
          },
          "ternary": {
           "aaxis": {
            "gridcolor": "white",
            "linecolor": "white",
            "ticks": ""
           },
           "baxis": {
            "gridcolor": "white",
            "linecolor": "white",
            "ticks": ""
           },
           "bgcolor": "#E5ECF6",
           "caxis": {
            "gridcolor": "white",
            "linecolor": "white",
            "ticks": ""
           }
          },
          "title": {
           "x": 0.05
          },
          "xaxis": {
           "automargin": true,
           "gridcolor": "white",
           "linecolor": "white",
           "ticks": "",
           "title": {
            "standoff": 15
           },
           "zerolinecolor": "white",
           "zerolinewidth": 2
          },
          "yaxis": {
           "automargin": true,
           "gridcolor": "white",
           "linecolor": "white",
           "ticks": "",
           "title": {
            "standoff": 15
           },
           "zerolinecolor": "white",
           "zerolinewidth": 2
          }
         }
        },
        "title": {
         "text": "Average ROI in Miami by Zip"
        },
        "xaxis": {
         "title": {
          "text": "Zipcode"
         }
        },
        "yaxis": {
         "title": {
          "text": "ROI (1 = 100%)"
         }
        }
       }
      }
     },
     "metadata": {},
     "output_type": "display_data"
    }
   ],
   "source": [
    "miami_zips_roi_df = combined_data_fl.groupby(['zipcode'])[['median_ROI']].mean().reset_index()\n",
    "\n",
    "miami_zips_roi_fig = go.Figure(data=[\n",
    "    go.Bar(name='Display Price', x=miami_zips_roi_df['zipcode'], y=miami_zips_roi_df['median_ROI']),\n",
    "    ],\n",
    "    \n",
    "    layout={\n",
    "        'xaxis': {'title': 'Zipcode'},\n",
    "        'yaxis': {'title': 'ROI (1 = 100%)'},\n",
    "    }\n",
    ")\n",
    "\n",
    "# Change the bar mode\n",
    "miami_zips_roi_fig.update_layout(title_text='Average ROI in Miami by Zip', barmode='stack')\n",
    "filename = \"newsletter_features/miami_zips_roi_fig.png\"\n",
    "miami_zips_roi_fig.write_image(filename, engine='kaleido')\n",
    "miami_zips_roi_fig.show()"
   ]
  },
  {
   "cell_type": "code",
   "execution_count": 11,
   "metadata": {},
   "outputs": [
    {
     "data": {
      "text/html": [
       "<div>\n",
       "<style scoped>\n",
       "    .dataframe tbody tr th:only-of-type {\n",
       "        vertical-align: middle;\n",
       "    }\n",
       "\n",
       "    .dataframe tbody tr th {\n",
       "        vertical-align: top;\n",
       "    }\n",
       "\n",
       "    .dataframe thead th {\n",
       "        text-align: right;\n",
       "    }\n",
       "</style>\n",
       "<table border=\"1\" class=\"dataframe\">\n",
       "  <thead>\n",
       "    <tr style=\"text-align: right;\">\n",
       "      <th></th>\n",
       "      <th>Unnamed: 0.1</th>\n",
       "      <th>Unnamed: 0</th>\n",
       "      <th>index</th>\n",
       "      <th>id</th>\n",
       "      <th>name</th>\n",
       "      <th>price</th>\n",
       "      <th>displayPrice</th>\n",
       "      <th>monthlyPriceFactor</th>\n",
       "      <th>weeklyPriceFactor</th>\n",
       "      <th>avgRating</th>\n",
       "      <th>...</th>\n",
       "      <th>state</th>\n",
       "      <th>state_name</th>\n",
       "      <th>state_id</th>\n",
       "      <th>avg_home_value</th>\n",
       "      <th>occupancy_rate</th>\n",
       "      <th>median_cleaning_fee</th>\n",
       "      <th>median_service_fee</th>\n",
       "      <th>median_total_price</th>\n",
       "      <th>avg_30_yr_mort</th>\n",
       "      <th>median_ROI</th>\n",
       "    </tr>\n",
       "  </thead>\n",
       "  <tbody>\n",
       "    <tr>\n",
       "      <th>232</th>\n",
       "      <td>232</td>\n",
       "      <td>2</td>\n",
       "      <td>2</td>\n",
       "      <td>53231187.0</td>\n",
       "      <td>Modern Apartment in excellent location</td>\n",
       "      <td>161.0</td>\n",
       "      <td>$161</td>\n",
       "      <td>1.00</td>\n",
       "      <td>0.93</td>\n",
       "      <td>4.64</td>\n",
       "      <td>...</td>\n",
       "      <td>Florida</td>\n",
       "      <td>Florida</td>\n",
       "      <td>FL</td>\n",
       "      <td>685872.0</td>\n",
       "      <td>0.894476</td>\n",
       "      <td>110.0</td>\n",
       "      <td>38.0</td>\n",
       "      <td>309.0</td>\n",
       "      <td>3681.91</td>\n",
       "      <td>1.283315</td>\n",
       "    </tr>\n",
       "    <tr>\n",
       "      <th>233</th>\n",
       "      <td>233</td>\n",
       "      <td>3</td>\n",
       "      <td>3</td>\n",
       "      <td>52364652.0</td>\n",
       "      <td>Cozy Modern Home, Coral Gables / Coconut Grove</td>\n",
       "      <td>284.0</td>\n",
       "      <td>$284</td>\n",
       "      <td>0.85</td>\n",
       "      <td>0.93</td>\n",
       "      <td>5.00</td>\n",
       "      <td>...</td>\n",
       "      <td>Florida</td>\n",
       "      <td>Florida</td>\n",
       "      <td>FL</td>\n",
       "      <td>1182474.0</td>\n",
       "      <td>0.096863</td>\n",
       "      <td>230.0</td>\n",
       "      <td>103.0</td>\n",
       "      <td>617.0</td>\n",
       "      <td>6347.78</td>\n",
       "      <td>-0.713628</td>\n",
       "    </tr>\n",
       "    <tr>\n",
       "      <th>234</th>\n",
       "      <td>234</td>\n",
       "      <td>6</td>\n",
       "      <td>6</td>\n",
       "      <td>29828422.0</td>\n",
       "      <td>Water view, Brickell, Huge balcony, Free Parking.</td>\n",
       "      <td>164.0</td>\n",
       "      <td>$164</td>\n",
       "      <td>1.00</td>\n",
       "      <td>0.95</td>\n",
       "      <td>4.85</td>\n",
       "      <td>...</td>\n",
       "      <td>Florida</td>\n",
       "      <td>Florida</td>\n",
       "      <td>FL</td>\n",
       "      <td>425586.0</td>\n",
       "      <td>0.418118</td>\n",
       "      <td>150.0</td>\n",
       "      <td>52.0</td>\n",
       "      <td>366.0</td>\n",
       "      <td>2284.64</td>\n",
       "      <td>1.037386</td>\n",
       "    </tr>\n",
       "    <tr>\n",
       "      <th>235</th>\n",
       "      <td>235</td>\n",
       "      <td>12</td>\n",
       "      <td>12</td>\n",
       "      <td>39925347.0</td>\n",
       "      <td>✶ Modern Sky Residence w/ City &amp; Ocean Views✶</td>\n",
       "      <td>299.0</td>\n",
       "      <td>$299</td>\n",
       "      <td>0.80</td>\n",
       "      <td>0.80</td>\n",
       "      <td>4.98</td>\n",
       "      <td>...</td>\n",
       "      <td>Florida</td>\n",
       "      <td>Florida</td>\n",
       "      <td>FL</td>\n",
       "      <td>425586.0</td>\n",
       "      <td>0.635616</td>\n",
       "      <td>120.0</td>\n",
       "      <td>66.0</td>\n",
       "      <td>485.0</td>\n",
       "      <td>2284.64</td>\n",
       "      <td>3.104221</td>\n",
       "    </tr>\n",
       "    <tr>\n",
       "      <th>236</th>\n",
       "      <td>236</td>\n",
       "      <td>7</td>\n",
       "      <td>7</td>\n",
       "      <td>49032537.0</td>\n",
       "      <td>Lux Hilton Bentley Beachfront Apt Best Location</td>\n",
       "      <td>355.0</td>\n",
       "      <td>$355</td>\n",
       "      <td>1.00</td>\n",
       "      <td>1.00</td>\n",
       "      <td>4.85</td>\n",
       "      <td>...</td>\n",
       "      <td>Florida</td>\n",
       "      <td>Florida</td>\n",
       "      <td>FL</td>\n",
       "      <td>315148.0</td>\n",
       "      <td>0.460186</td>\n",
       "      <td>200.0</td>\n",
       "      <td>95.0</td>\n",
       "      <td>650.0</td>\n",
       "      <td>1691.78</td>\n",
       "      <td>4.377917</td>\n",
       "    </tr>\n",
       "    <tr>\n",
       "      <th>237</th>\n",
       "      <td>237</td>\n",
       "      <td>8</td>\n",
       "      <td>8</td>\n",
       "      <td>49567533.0</td>\n",
       "      <td>South of Fifth •GYM POOL &amp; SPA•BEACHFRONT BUIL...</td>\n",
       "      <td>336.0</td>\n",
       "      <td>$336</td>\n",
       "      <td>1.00</td>\n",
       "      <td>1.00</td>\n",
       "      <td>4.90</td>\n",
       "      <td>...</td>\n",
       "      <td>Florida</td>\n",
       "      <td>Florida</td>\n",
       "      <td>FL</td>\n",
       "      <td>315148.0</td>\n",
       "      <td>0.225365</td>\n",
       "      <td>115.0</td>\n",
       "      <td>90.0</td>\n",
       "      <td>541.0</td>\n",
       "      <td>1691.78</td>\n",
       "      <td>1.192051</td>\n",
       "    </tr>\n",
       "    <tr>\n",
       "      <th>238</th>\n",
       "      <td>238</td>\n",
       "      <td>15</td>\n",
       "      <td>15</td>\n",
       "      <td>269204.0</td>\n",
       "      <td>5 STAR HILTON BENTLEY BEACH! SOBE!!</td>\n",
       "      <td>238.0</td>\n",
       "      <td>$238</td>\n",
       "      <td>0.98</td>\n",
       "      <td>1.00</td>\n",
       "      <td>4.61</td>\n",
       "      <td>...</td>\n",
       "      <td>Florida</td>\n",
       "      <td>Florida</td>\n",
       "      <td>FL</td>\n",
       "      <td>315148.0</td>\n",
       "      <td>0.880778</td>\n",
       "      <td>150.0</td>\n",
       "      <td>51.0</td>\n",
       "      <td>439.0</td>\n",
       "      <td>1691.78</td>\n",
       "      <td>5.951821</td>\n",
       "    </tr>\n",
       "    <tr>\n",
       "      <th>239</th>\n",
       "      <td>239</td>\n",
       "      <td>18</td>\n",
       "      <td>18</td>\n",
       "      <td>31328359.0</td>\n",
       "      <td>ONLY UNIQUE PEOPLE ALLOWED TO STAY HERE-Sobe Flat</td>\n",
       "      <td>136.0</td>\n",
       "      <td>$136</td>\n",
       "      <td>0.62</td>\n",
       "      <td>1.00</td>\n",
       "      <td>4.83</td>\n",
       "      <td>...</td>\n",
       "      <td>Florida</td>\n",
       "      <td>Florida</td>\n",
       "      <td>FL</td>\n",
       "      <td>1823034.0</td>\n",
       "      <td>0.535395</td>\n",
       "      <td>80.0</td>\n",
       "      <td>30.0</td>\n",
       "      <td>246.0</td>\n",
       "      <td>9786.44</td>\n",
       "      <td>-0.590648</td>\n",
       "    </tr>\n",
       "    <tr>\n",
       "      <th>240</th>\n",
       "      <td>240</td>\n",
       "      <td>19</td>\n",
       "      <td>19</td>\n",
       "      <td>51171259.0</td>\n",
       "      <td>South of Fifth Spacious 2 Bedroom With Pool</td>\n",
       "      <td>276.0</td>\n",
       "      <td>$276</td>\n",
       "      <td>0.95</td>\n",
       "      <td>0.98</td>\n",
       "      <td>4.25</td>\n",
       "      <td>...</td>\n",
       "      <td>Florida</td>\n",
       "      <td>Florida</td>\n",
       "      <td>FL</td>\n",
       "      <td>600776.0</td>\n",
       "      <td>0.503579</td>\n",
       "      <td>120.0</td>\n",
       "      <td>51.0</td>\n",
       "      <td>447.0</td>\n",
       "      <td>3225.10</td>\n",
       "      <td>1.122970</td>\n",
       "    </tr>\n",
       "    <tr>\n",
       "      <th>241</th>\n",
       "      <td>241</td>\n",
       "      <td>9</td>\n",
       "      <td>9</td>\n",
       "      <td>37218395.0</td>\n",
       "      <td>Miami, Brickell, Downtown, Stylish Condo</td>\n",
       "      <td>162.0</td>\n",
       "      <td>$162</td>\n",
       "      <td>1.00</td>\n",
       "      <td>1.00</td>\n",
       "      <td>4.77</td>\n",
       "      <td>...</td>\n",
       "      <td>Florida</td>\n",
       "      <td>Florida</td>\n",
       "      <td>FL</td>\n",
       "      <td>425586.0</td>\n",
       "      <td>0.199028</td>\n",
       "      <td>75.0</td>\n",
       "      <td>41.0</td>\n",
       "      <td>278.0</td>\n",
       "      <td>2284.64</td>\n",
       "      <td>-0.263365</td>\n",
       "    </tr>\n",
       "    <tr>\n",
       "      <th>242</th>\n",
       "      <td>242</td>\n",
       "      <td>5</td>\n",
       "      <td>5</td>\n",
       "      <td>21893890.0</td>\n",
       "      <td>Amazing  &amp; Long Term Stay  Miami Beach Studio</td>\n",
       "      <td>55.0</td>\n",
       "      <td>$55</td>\n",
       "      <td>0.95</td>\n",
       "      <td>1.00</td>\n",
       "      <td>NaN</td>\n",
       "      <td>...</td>\n",
       "      <td>Florida</td>\n",
       "      <td>Florida</td>\n",
       "      <td>FL</td>\n",
       "      <td>2447709.0</td>\n",
       "      <td>0.199293</td>\n",
       "      <td>100.0</td>\n",
       "      <td>22.0</td>\n",
       "      <td>177.0</td>\n",
       "      <td>13139.83</td>\n",
       "      <td>-0.918344</td>\n",
       "    </tr>\n",
       "    <tr>\n",
       "      <th>243</th>\n",
       "      <td>243</td>\n",
       "      <td>14</td>\n",
       "      <td>14</td>\n",
       "      <td>26631720.0</td>\n",
       "      <td>30% OFF❤ Luxury Townhouse w/Rooftop BBQ &amp; Hot Tub</td>\n",
       "      <td>1475.0</td>\n",
       "      <td>$1,475</td>\n",
       "      <td>0.80</td>\n",
       "      <td>0.97</td>\n",
       "      <td>4.87</td>\n",
       "      <td>...</td>\n",
       "      <td>Florida</td>\n",
       "      <td>Florida</td>\n",
       "      <td>FL</td>\n",
       "      <td>5005811.0</td>\n",
       "      <td>0.302790</td>\n",
       "      <td>320.0</td>\n",
       "      <td>208.0</td>\n",
       "      <td>2003.0</td>\n",
       "      <td>26872.28</td>\n",
       "      <td>-0.313516</td>\n",
       "    </tr>\n",
       "    <tr>\n",
       "      <th>244</th>\n",
       "      <td>244</td>\n",
       "      <td>16</td>\n",
       "      <td>16</td>\n",
       "      <td>45434549.0</td>\n",
       "      <td>Miami Beach stylish Studio</td>\n",
       "      <td>1700.0</td>\n",
       "      <td>$1,700</td>\n",
       "      <td>1.00</td>\n",
       "      <td>1.00</td>\n",
       "      <td>NaN</td>\n",
       "      <td>...</td>\n",
       "      <td>Florida</td>\n",
       "      <td>Florida</td>\n",
       "      <td>FL</td>\n",
       "      <td>NaN</td>\n",
       "      <td>0.960583</td>\n",
       "      <td>NaN</td>\n",
       "      <td>240.0</td>\n",
       "      <td>NaN</td>\n",
       "      <td>NaN</td>\n",
       "      <td>NaN</td>\n",
       "    </tr>\n",
       "    <tr>\n",
       "      <th>245</th>\n",
       "      <td>245</td>\n",
       "      <td>6</td>\n",
       "      <td>6</td>\n",
       "      <td>45054625.0</td>\n",
       "      <td>Collins Ave. - Touchless Petite King Room - So...</td>\n",
       "      <td>105.0</td>\n",
       "      <td>$105</td>\n",
       "      <td>0.90</td>\n",
       "      <td>0.95</td>\n",
       "      <td>4.44</td>\n",
       "      <td>...</td>\n",
       "      <td>Florida</td>\n",
       "      <td>Florida</td>\n",
       "      <td>FL</td>\n",
       "      <td>315148.0</td>\n",
       "      <td>0.953425</td>\n",
       "      <td>80.0</td>\n",
       "      <td>35.0</td>\n",
       "      <td>220.0</td>\n",
       "      <td>1691.78</td>\n",
       "      <td>2.771176</td>\n",
       "    </tr>\n",
       "    <tr>\n",
       "      <th>246</th>\n",
       "      <td>246</td>\n",
       "      <td>17</td>\n",
       "      <td>17</td>\n",
       "      <td>31294674.0</td>\n",
       "      <td>South Beach: 5 min walk to the beach &amp; Ocean D...</td>\n",
       "      <td>125.0</td>\n",
       "      <td>$125</td>\n",
       "      <td>0.70</td>\n",
       "      <td>1.00</td>\n",
       "      <td>4.67</td>\n",
       "      <td>...</td>\n",
       "      <td>Florida</td>\n",
       "      <td>Florida</td>\n",
       "      <td>FL</td>\n",
       "      <td>600776.0</td>\n",
       "      <td>0.960583</td>\n",
       "      <td>80.0</td>\n",
       "      <td>29.0</td>\n",
       "      <td>234.0</td>\n",
       "      <td>3225.10</td>\n",
       "      <td>1.119919</td>\n",
       "    </tr>\n",
       "    <tr>\n",
       "      <th>247</th>\n",
       "      <td>247</td>\n",
       "      <td>5</td>\n",
       "      <td>5</td>\n",
       "      <td>32044795.0</td>\n",
       "      <td>🏝 Large &amp; Cosy Loft @ the ❤️ of South Beach!</td>\n",
       "      <td>160.0</td>\n",
       "      <td>$160</td>\n",
       "      <td>0.90</td>\n",
       "      <td>1.00</td>\n",
       "      <td>4.72</td>\n",
       "      <td>...</td>\n",
       "      <td>Florida</td>\n",
       "      <td>Florida</td>\n",
       "      <td>FL</td>\n",
       "      <td>315148.0</td>\n",
       "      <td>0.357667</td>\n",
       "      <td>100.0</td>\n",
       "      <td>32.0</td>\n",
       "      <td>292.0</td>\n",
       "      <td>1691.78</td>\n",
       "      <td>0.877713</td>\n",
       "    </tr>\n",
       "    <tr>\n",
       "      <th>248</th>\n",
       "      <td>248</td>\n",
       "      <td>13</td>\n",
       "      <td>13</td>\n",
       "      <td>30113457.0</td>\n",
       "      <td>Miami Cosi</td>\n",
       "      <td>168.0</td>\n",
       "      <td>$168</td>\n",
       "      <td>1.00</td>\n",
       "      <td>1.00</td>\n",
       "      <td>4.52</td>\n",
       "      <td>...</td>\n",
       "      <td>Florida</td>\n",
       "      <td>Florida</td>\n",
       "      <td>FL</td>\n",
       "      <td>1823034.0</td>\n",
       "      <td>0.394874</td>\n",
       "      <td>120.0</td>\n",
       "      <td>48.0</td>\n",
       "      <td>336.0</td>\n",
       "      <td>9786.44</td>\n",
       "      <td>-0.587632</td>\n",
       "    </tr>\n",
       "    <tr>\n",
       "      <th>249</th>\n",
       "      <td>249</td>\n",
       "      <td>14</td>\n",
       "      <td>14</td>\n",
       "      <td>31304301.0</td>\n",
       "      <td>1 Bed/1Bath. South Beach. Great Location.</td>\n",
       "      <td>149.0</td>\n",
       "      <td>$149</td>\n",
       "      <td>1.00</td>\n",
       "      <td>1.00</td>\n",
       "      <td>4.82</td>\n",
       "      <td>...</td>\n",
       "      <td>Florida</td>\n",
       "      <td>Florida</td>\n",
       "      <td>FL</td>\n",
       "      <td>600776.0</td>\n",
       "      <td>0.140698</td>\n",
       "      <td>100.0</td>\n",
       "      <td>34.0</td>\n",
       "      <td>283.0</td>\n",
       "      <td>3225.10</td>\n",
       "      <td>-0.624471</td>\n",
       "    </tr>\n",
       "    <tr>\n",
       "      <th>250</th>\n",
       "      <td>250</td>\n",
       "      <td>15</td>\n",
       "      <td>15</td>\n",
       "      <td>37054390.0</td>\n",
       "      <td>Super 💙 Amazing Deal Direct 🏖️ Ocean Dr Sleeps5</td>\n",
       "      <td>185.0</td>\n",
       "      <td>$185</td>\n",
       "      <td>1.00</td>\n",
       "      <td>1.00</td>\n",
       "      <td>4.59</td>\n",
       "      <td>...</td>\n",
       "      <td>Florida</td>\n",
       "      <td>Florida</td>\n",
       "      <td>FL</td>\n",
       "      <td>1823034.0</td>\n",
       "      <td>0.720725</td>\n",
       "      <td>69.0</td>\n",
       "      <td>49.0</td>\n",
       "      <td>303.0</td>\n",
       "      <td>9786.44</td>\n",
       "      <td>-0.321267</td>\n",
       "    </tr>\n",
       "    <tr>\n",
       "      <th>251</th>\n",
       "      <td>251</td>\n",
       "      <td>5</td>\n",
       "      <td>5</td>\n",
       "      <td>49924715.0</td>\n",
       "      <td>Beach apartment 2 blocks from mall &amp; restaurants!</td>\n",
       "      <td>350.0</td>\n",
       "      <td>$350</td>\n",
       "      <td>1.00</td>\n",
       "      <td>1.00</td>\n",
       "      <td>4.77</td>\n",
       "      <td>...</td>\n",
       "      <td>Florida</td>\n",
       "      <td>Florida</td>\n",
       "      <td>FL</td>\n",
       "      <td>5005811.0</td>\n",
       "      <td>0.608573</td>\n",
       "      <td>150.0</td>\n",
       "      <td>64.0</td>\n",
       "      <td>564.0</td>\n",
       "      <td>26872.28</td>\n",
       "      <td>-0.611493</td>\n",
       "    </tr>\n",
       "    <tr>\n",
       "      <th>252</th>\n",
       "      <td>252</td>\n",
       "      <td>8</td>\n",
       "      <td>8</td>\n",
       "      <td>45564949.0</td>\n",
       "      <td>In The Heart of South Beach! Garden, Picnic Ar...</td>\n",
       "      <td>325.0</td>\n",
       "      <td>$325</td>\n",
       "      <td>1.00</td>\n",
       "      <td>1.00</td>\n",
       "      <td>NaN</td>\n",
       "      <td>...</td>\n",
       "      <td>Florida</td>\n",
       "      <td>Florida</td>\n",
       "      <td>FL</td>\n",
       "      <td>315148.0</td>\n",
       "      <td>0.825806</td>\n",
       "      <td>NaN</td>\n",
       "      <td>39.0</td>\n",
       "      <td>NaN</td>\n",
       "      <td>1691.78</td>\n",
       "      <td>NaN</td>\n",
       "    </tr>\n",
       "    <tr>\n",
       "      <th>253</th>\n",
       "      <td>253</td>\n",
       "      <td>13</td>\n",
       "      <td>13</td>\n",
       "      <td>44701853.0</td>\n",
       "      <td>Your Exciting Miami Beach Vacation Starts Here...</td>\n",
       "      <td>325.0</td>\n",
       "      <td>$325</td>\n",
       "      <td>1.00</td>\n",
       "      <td>1.00</td>\n",
       "      <td>NaN</td>\n",
       "      <td>...</td>\n",
       "      <td>Florida</td>\n",
       "      <td>Florida</td>\n",
       "      <td>FL</td>\n",
       "      <td>315148.0</td>\n",
       "      <td>0.825806</td>\n",
       "      <td>NaN</td>\n",
       "      <td>39.0</td>\n",
       "      <td>NaN</td>\n",
       "      <td>1691.78</td>\n",
       "      <td>NaN</td>\n",
       "    </tr>\n",
       "    <tr>\n",
       "      <th>254</th>\n",
       "      <td>254</td>\n",
       "      <td>17</td>\n",
       "      <td>17</td>\n",
       "      <td>42778398.0</td>\n",
       "      <td>Awesome House With Jacuzzi in the Heart of Miami</td>\n",
       "      <td>169.0</td>\n",
       "      <td>$169</td>\n",
       "      <td>0.85</td>\n",
       "      <td>0.95</td>\n",
       "      <td>4.98</td>\n",
       "      <td>...</td>\n",
       "      <td>Florida</td>\n",
       "      <td>Florida</td>\n",
       "      <td>FL</td>\n",
       "      <td>425586.0</td>\n",
       "      <td>0.448608</td>\n",
       "      <td>225.0</td>\n",
       "      <td>57.0</td>\n",
       "      <td>451.0</td>\n",
       "      <td>2284.64</td>\n",
       "      <td>1.693627</td>\n",
       "    </tr>\n",
       "    <tr>\n",
       "      <th>255</th>\n",
       "      <td>255</td>\n",
       "      <td>16</td>\n",
       "      <td>16</td>\n",
       "      <td>39940481.0</td>\n",
       "      <td>Beautiful family home!!</td>\n",
       "      <td>499.0</td>\n",
       "      <td>$499</td>\n",
       "      <td>1.00</td>\n",
       "      <td>0.90</td>\n",
       "      <td>4.71</td>\n",
       "      <td>...</td>\n",
       "      <td>Florida</td>\n",
       "      <td>Florida</td>\n",
       "      <td>FL</td>\n",
       "      <td>685872.0</td>\n",
       "      <td>0.944852</td>\n",
       "      <td>200.0</td>\n",
       "      <td>99.0</td>\n",
       "      <td>798.0</td>\n",
       "      <td>3681.91</td>\n",
       "      <td>5.228810</td>\n",
       "    </tr>\n",
       "    <tr>\n",
       "      <th>256</th>\n",
       "      <td>256</td>\n",
       "      <td>18</td>\n",
       "      <td>18</td>\n",
       "      <td>23069234.0</td>\n",
       "      <td>Beautiful house in the best central area of Mi...</td>\n",
       "      <td>315.0</td>\n",
       "      <td>$315</td>\n",
       "      <td>0.90</td>\n",
       "      <td>0.95</td>\n",
       "      <td>4.81</td>\n",
       "      <td>...</td>\n",
       "      <td>Florida</td>\n",
       "      <td>Florida</td>\n",
       "      <td>FL</td>\n",
       "      <td>1418968.8</td>\n",
       "      <td>0.933540</td>\n",
       "      <td>150.0</td>\n",
       "      <td>66.0</td>\n",
       "      <td>531.0</td>\n",
       "      <td>7617.33</td>\n",
       "      <td>0.979412</td>\n",
       "    </tr>\n",
       "    <tr>\n",
       "      <th>257</th>\n",
       "      <td>257</td>\n",
       "      <td>8</td>\n",
       "      <td>8</td>\n",
       "      <td>38068245.0</td>\n",
       "      <td>Beautifully Decorated Wynwood Apartment</td>\n",
       "      <td>132.0</td>\n",
       "      <td>$132</td>\n",
       "      <td>1.00</td>\n",
       "      <td>1.00</td>\n",
       "      <td>4.72</td>\n",
       "      <td>...</td>\n",
       "      <td>Florida</td>\n",
       "      <td>Florida</td>\n",
       "      <td>FL</td>\n",
       "      <td>685872.0</td>\n",
       "      <td>0.417322</td>\n",
       "      <td>100.0</td>\n",
       "      <td>34.0</td>\n",
       "      <td>266.0</td>\n",
       "      <td>3681.91</td>\n",
       "      <td>-0.082953</td>\n",
       "    </tr>\n",
       "    <tr>\n",
       "      <th>258</th>\n",
       "      <td>258</td>\n",
       "      <td>11</td>\n",
       "      <td>11</td>\n",
       "      <td>41103264.0</td>\n",
       "      <td>Sextant | Wynwood Penthouse | 3000SF Private R...</td>\n",
       "      <td>682.0</td>\n",
       "      <td>$682</td>\n",
       "      <td>1.00</td>\n",
       "      <td>1.00</td>\n",
       "      <td>4.90</td>\n",
       "      <td>...</td>\n",
       "      <td>Florida</td>\n",
       "      <td>Florida</td>\n",
       "      <td>FL</td>\n",
       "      <td>685872.0</td>\n",
       "      <td>0.871586</td>\n",
       "      <td>290.0</td>\n",
       "      <td>0.0</td>\n",
       "      <td>972.0</td>\n",
       "      <td>3681.91</td>\n",
       "      <td>5.998664</td>\n",
       "    </tr>\n",
       "    <tr>\n",
       "      <th>259</th>\n",
       "      <td>259</td>\n",
       "      <td>15</td>\n",
       "      <td>15</td>\n",
       "      <td>48990447.0</td>\n",
       "      <td>Luxury NEW Condo in Miami Midtown/Design District</td>\n",
       "      <td>346.0</td>\n",
       "      <td>$346</td>\n",
       "      <td>0.85</td>\n",
       "      <td>0.93</td>\n",
       "      <td>4.86</td>\n",
       "      <td>...</td>\n",
       "      <td>Florida</td>\n",
       "      <td>Florida</td>\n",
       "      <td>FL</td>\n",
       "      <td>685872.0</td>\n",
       "      <td>0.887760</td>\n",
       "      <td>130.0</td>\n",
       "      <td>88.0</td>\n",
       "      <td>564.0</td>\n",
       "      <td>3681.91</td>\n",
       "      <td>3.136309</td>\n",
       "    </tr>\n",
       "    <tr>\n",
       "      <th>260</th>\n",
       "      <td>260</td>\n",
       "      <td>5</td>\n",
       "      <td>5</td>\n",
       "      <td>53067181.0</td>\n",
       "      <td>5BR Miami Flower Casita | Private | Pool | Hot...</td>\n",
       "      <td>419.0</td>\n",
       "      <td>$419</td>\n",
       "      <td>0.90</td>\n",
       "      <td>0.90</td>\n",
       "      <td>5.00</td>\n",
       "      <td>...</td>\n",
       "      <td>Florida</td>\n",
       "      <td>Florida</td>\n",
       "      <td>FL</td>\n",
       "      <td>2601442.8</td>\n",
       "      <td>0.886964</td>\n",
       "      <td>NaN</td>\n",
       "      <td>155.0</td>\n",
       "      <td>NaN</td>\n",
       "      <td>13965.11</td>\n",
       "      <td>NaN</td>\n",
       "    </tr>\n",
       "    <tr>\n",
       "      <th>261</th>\n",
       "      <td>261</td>\n",
       "      <td>12</td>\n",
       "      <td>12</td>\n",
       "      <td>45286702.0</td>\n",
       "      <td>Modern Studio in Heart of Miami</td>\n",
       "      <td>119.0</td>\n",
       "      <td>$119</td>\n",
       "      <td>1.00</td>\n",
       "      <td>1.00</td>\n",
       "      <td>4.48</td>\n",
       "      <td>...</td>\n",
       "      <td>Florida</td>\n",
       "      <td>Florida</td>\n",
       "      <td>FL</td>\n",
       "      <td>313692.0</td>\n",
       "      <td>0.452585</td>\n",
       "      <td>120.0</td>\n",
       "      <td>34.0</td>\n",
       "      <td>273.0</td>\n",
       "      <td>1683.97</td>\n",
       "      <td>1.231722</td>\n",
       "    </tr>\n",
       "    <tr>\n",
       "      <th>262</th>\n",
       "      <td>262</td>\n",
       "      <td>4</td>\n",
       "      <td>4</td>\n",
       "      <td>53080735.0</td>\n",
       "      <td>Beach Front Miami 3Bdm 2Bath Direct Ocean +Par...</td>\n",
       "      <td>495.0</td>\n",
       "      <td>$495</td>\n",
       "      <td>0.90</td>\n",
       "      <td>0.90</td>\n",
       "      <td>4.80</td>\n",
       "      <td>...</td>\n",
       "      <td>Florida</td>\n",
       "      <td>Florida</td>\n",
       "      <td>FL</td>\n",
       "      <td>2447709.0</td>\n",
       "      <td>0.245250</td>\n",
       "      <td>195.0</td>\n",
       "      <td>97.0</td>\n",
       "      <td>787.0</td>\n",
       "      <td>13139.83</td>\n",
       "      <td>-0.553208</td>\n",
       "    </tr>\n",
       "    <tr>\n",
       "      <th>263</th>\n",
       "      <td>263</td>\n",
       "      <td>6</td>\n",
       "      <td>6</td>\n",
       "      <td>45268413.0</td>\n",
       "      <td>Alexander Ocean front  property glass balcony 2BR</td>\n",
       "      <td>261.0</td>\n",
       "      <td>$261</td>\n",
       "      <td>1.00</td>\n",
       "      <td>0.97</td>\n",
       "      <td>4.22</td>\n",
       "      <td>...</td>\n",
       "      <td>Florida</td>\n",
       "      <td>Florida</td>\n",
       "      <td>FL</td>\n",
       "      <td>425586.0</td>\n",
       "      <td>0.955104</td>\n",
       "      <td>150.0</td>\n",
       "      <td>64.0</td>\n",
       "      <td>475.0</td>\n",
       "      <td>2284.64</td>\n",
       "      <td>5.040015</td>\n",
       "    </tr>\n",
       "    <tr>\n",
       "      <th>264</th>\n",
       "      <td>264</td>\n",
       "      <td>4</td>\n",
       "      <td>4</td>\n",
       "      <td>51484037.0</td>\n",
       "      <td>Season Discount!! Biscayne Deluxe House, 4br/2...</td>\n",
       "      <td>262.0</td>\n",
       "      <td>$262</td>\n",
       "      <td>0.95</td>\n",
       "      <td>0.98</td>\n",
       "      <td>4.70</td>\n",
       "      <td>...</td>\n",
       "      <td>Florida</td>\n",
       "      <td>Florida</td>\n",
       "      <td>FL</td>\n",
       "      <td>1891958.4</td>\n",
       "      <td>0.896686</td>\n",
       "      <td>180.0</td>\n",
       "      <td>81.0</td>\n",
       "      <td>523.0</td>\n",
       "      <td>10156.44</td>\n",
       "      <td>0.404469</td>\n",
       "    </tr>\n",
       "    <tr>\n",
       "      <th>265</th>\n",
       "      <td>265</td>\n",
       "      <td>15</td>\n",
       "      <td>15</td>\n",
       "      <td>22159493.0</td>\n",
       "      <td>2 bed/2 bath ....Because you want the best!</td>\n",
       "      <td>285.0</td>\n",
       "      <td>$285</td>\n",
       "      <td>1.00</td>\n",
       "      <td>1.00</td>\n",
       "      <td>4.91</td>\n",
       "      <td>...</td>\n",
       "      <td>Florida</td>\n",
       "      <td>Florida</td>\n",
       "      <td>FL</td>\n",
       "      <td>565497.0</td>\n",
       "      <td>0.861158</td>\n",
       "      <td>180.0</td>\n",
       "      <td>68.0</td>\n",
       "      <td>533.0</td>\n",
       "      <td>3035.71</td>\n",
       "      <td>3.598977</td>\n",
       "    </tr>\n",
       "    <tr>\n",
       "      <th>266</th>\n",
       "      <td>266</td>\n",
       "      <td>16</td>\n",
       "      <td>16</td>\n",
       "      <td>53023577.0</td>\n",
       "      <td>New Yorker Miami - Room 106</td>\n",
       "      <td>179.0</td>\n",
       "      <td>$179</td>\n",
       "      <td>0.85</td>\n",
       "      <td>0.90</td>\n",
       "      <td>4.33</td>\n",
       "      <td>...</td>\n",
       "      <td>Florida</td>\n",
       "      <td>Florida</td>\n",
       "      <td>FL</td>\n",
       "      <td>NaN</td>\n",
       "      <td>0.957313</td>\n",
       "      <td>40.0</td>\n",
       "      <td>0.0</td>\n",
       "      <td>219.0</td>\n",
       "      <td>NaN</td>\n",
       "      <td>NaN</td>\n",
       "    </tr>\n",
       "    <tr>\n",
       "      <th>267</th>\n",
       "      <td>267</td>\n",
       "      <td>17</td>\n",
       "      <td>17</td>\n",
       "      <td>51690590.0</td>\n",
       "      <td>JARDÍN DUPLEX in Sunny Miami for 6 Guests.</td>\n",
       "      <td>187.0</td>\n",
       "      <td>$187</td>\n",
       "      <td>0.90</td>\n",
       "      <td>0.95</td>\n",
       "      <td>4.92</td>\n",
       "      <td>...</td>\n",
       "      <td>Florida</td>\n",
       "      <td>Florida</td>\n",
       "      <td>FL</td>\n",
       "      <td>685872.0</td>\n",
       "      <td>0.706496</td>\n",
       "      <td>95.0</td>\n",
       "      <td>39.0</td>\n",
       "      <td>321.0</td>\n",
       "      <td>3681.91</td>\n",
       "      <td>0.873497</td>\n",
       "    </tr>\n",
       "    <tr>\n",
       "      <th>268</th>\n",
       "      <td>268</td>\n",
       "      <td>1</td>\n",
       "      <td>1</td>\n",
       "      <td>18975805.0</td>\n",
       "      <td>Luxurious Town Home Steps to the Shore | * Dhalia</td>\n",
       "      <td>217.0</td>\n",
       "      <td>$217</td>\n",
       "      <td>0.80</td>\n",
       "      <td>0.90</td>\n",
       "      <td>4.81</td>\n",
       "      <td>...</td>\n",
       "      <td>Florida</td>\n",
       "      <td>Florida</td>\n",
       "      <td>FL</td>\n",
       "      <td>2447709.0</td>\n",
       "      <td>0.589571</td>\n",
       "      <td>100.0</td>\n",
       "      <td>50.0</td>\n",
       "      <td>367.0</td>\n",
       "      <td>13139.83</td>\n",
       "      <td>-0.499131</td>\n",
       "    </tr>\n",
       "    <tr>\n",
       "      <th>269</th>\n",
       "      <td>269</td>\n",
       "      <td>1</td>\n",
       "      <td>1</td>\n",
       "      <td>30378679.0</td>\n",
       "      <td>MODERN AMAZING BEACH GETAWAY! RIGHT ON THE BEACH</td>\n",
       "      <td>95.0</td>\n",
       "      <td>$95</td>\n",
       "      <td>0.90</td>\n",
       "      <td>1.00</td>\n",
       "      <td>4.74</td>\n",
       "      <td>...</td>\n",
       "      <td>Florida</td>\n",
       "      <td>Florida</td>\n",
       "      <td>FL</td>\n",
       "      <td>315148.0</td>\n",
       "      <td>0.420062</td>\n",
       "      <td>100.0</td>\n",
       "      <td>42.0</td>\n",
       "      <td>237.0</td>\n",
       "      <td>1691.78</td>\n",
       "      <td>0.789902</td>\n",
       "    </tr>\n",
       "    <tr>\n",
       "      <th>270</th>\n",
       "      <td>270</td>\n",
       "      <td>16</td>\n",
       "      <td>16</td>\n",
       "      <td>51669928.0</td>\n",
       "      <td>Stunning 1 BR Beachfront APT @ The Carillon Hotel</td>\n",
       "      <td>367.0</td>\n",
       "      <td>$367</td>\n",
       "      <td>0.95</td>\n",
       "      <td>1.00</td>\n",
       "      <td>4.96</td>\n",
       "      <td>...</td>\n",
       "      <td>Florida</td>\n",
       "      <td>Florida</td>\n",
       "      <td>FL</td>\n",
       "      <td>1823034.0</td>\n",
       "      <td>0.415820</td>\n",
       "      <td>200.0</td>\n",
       "      <td>81.0</td>\n",
       "      <td>648.0</td>\n",
       "      <td>9786.44</td>\n",
       "      <td>-0.162534</td>\n",
       "    </tr>\n",
       "    <tr>\n",
       "      <th>271</th>\n",
       "      <td>271</td>\n",
       "      <td>13</td>\n",
       "      <td>13</td>\n",
       "      <td>48435649.0</td>\n",
       "      <td>Unit 102 Byron is a walking distance to the beach</td>\n",
       "      <td>134.0</td>\n",
       "      <td>$134</td>\n",
       "      <td>0.80</td>\n",
       "      <td>0.90</td>\n",
       "      <td>4.63</td>\n",
       "      <td>...</td>\n",
       "      <td>Florida</td>\n",
       "      <td>Florida</td>\n",
       "      <td>FL</td>\n",
       "      <td>1823034.0</td>\n",
       "      <td>0.919134</td>\n",
       "      <td>135.0</td>\n",
       "      <td>60.0</td>\n",
       "      <td>329.0</td>\n",
       "      <td>9786.44</td>\n",
       "      <td>-0.060143</td>\n",
       "    </tr>\n",
       "    <tr>\n",
       "      <th>272</th>\n",
       "      <td>272</td>\n",
       "      <td>4</td>\n",
       "      <td>4</td>\n",
       "      <td>4770882.0</td>\n",
       "      <td>Amazing Views of MIAMI in Penthouse</td>\n",
       "      <td>140.0</td>\n",
       "      <td>$140</td>\n",
       "      <td>1.00</td>\n",
       "      <td>1.00</td>\n",
       "      <td>4.92</td>\n",
       "      <td>...</td>\n",
       "      <td>Florida</td>\n",
       "      <td>Florida</td>\n",
       "      <td>FL</td>\n",
       "      <td>204675.0</td>\n",
       "      <td>0.934081</td>\n",
       "      <td>45.0</td>\n",
       "      <td>24.0</td>\n",
       "      <td>209.0</td>\n",
       "      <td>1098.74</td>\n",
       "      <td>4.404398</td>\n",
       "    </tr>\n",
       "    <tr>\n",
       "      <th>273</th>\n",
       "      <td>273</td>\n",
       "      <td>8</td>\n",
       "      <td>8</td>\n",
       "      <td>41233602.0</td>\n",
       "      <td>Little Bungalow 88</td>\n",
       "      <td>349.0</td>\n",
       "      <td>$349</td>\n",
       "      <td>1.00</td>\n",
       "      <td>1.00</td>\n",
       "      <td>4.79</td>\n",
       "      <td>...</td>\n",
       "      <td>Florida</td>\n",
       "      <td>Florida</td>\n",
       "      <td>FL</td>\n",
       "      <td>425586.0</td>\n",
       "      <td>0.430844</td>\n",
       "      <td>200.0</td>\n",
       "      <td>78.0</td>\n",
       "      <td>627.0</td>\n",
       "      <td>2284.64</td>\n",
       "      <td>2.596511</td>\n",
       "    </tr>\n",
       "    <tr>\n",
       "      <th>274</th>\n",
       "      <td>274</td>\n",
       "      <td>3</td>\n",
       "      <td>3</td>\n",
       "      <td>16147651.0</td>\n",
       "      <td>#2 Private, Spacious Room for Students in Miami</td>\n",
       "      <td>68.0</td>\n",
       "      <td>$68</td>\n",
       "      <td>0.80</td>\n",
       "      <td>1.00</td>\n",
       "      <td>4.70</td>\n",
       "      <td>...</td>\n",
       "      <td>Florida</td>\n",
       "      <td>Florida</td>\n",
       "      <td>FL</td>\n",
       "      <td>313692.0</td>\n",
       "      <td>0.414052</td>\n",
       "      <td>80.0</td>\n",
       "      <td>21.0</td>\n",
       "      <td>169.0</td>\n",
       "      <td>1683.97</td>\n",
       "      <td>0.263918</td>\n",
       "    </tr>\n",
       "  </tbody>\n",
       "</table>\n",
       "<p>43 rows × 42 columns</p>\n",
       "</div>"
      ],
      "text/plain": [
       "     Unnamed: 0.1  Unnamed: 0  index          id  \\\n",
       "232           232           2      2  53231187.0   \n",
       "233           233           3      3  52364652.0   \n",
       "234           234           6      6  29828422.0   \n",
       "235           235          12     12  39925347.0   \n",
       "236           236           7      7  49032537.0   \n",
       "237           237           8      8  49567533.0   \n",
       "238           238          15     15    269204.0   \n",
       "239           239          18     18  31328359.0   \n",
       "240           240          19     19  51171259.0   \n",
       "241           241           9      9  37218395.0   \n",
       "242           242           5      5  21893890.0   \n",
       "243           243          14     14  26631720.0   \n",
       "244           244          16     16  45434549.0   \n",
       "245           245           6      6  45054625.0   \n",
       "246           246          17     17  31294674.0   \n",
       "247           247           5      5  32044795.0   \n",
       "248           248          13     13  30113457.0   \n",
       "249           249          14     14  31304301.0   \n",
       "250           250          15     15  37054390.0   \n",
       "251           251           5      5  49924715.0   \n",
       "252           252           8      8  45564949.0   \n",
       "253           253          13     13  44701853.0   \n",
       "254           254          17     17  42778398.0   \n",
       "255           255          16     16  39940481.0   \n",
       "256           256          18     18  23069234.0   \n",
       "257           257           8      8  38068245.0   \n",
       "258           258          11     11  41103264.0   \n",
       "259           259          15     15  48990447.0   \n",
       "260           260           5      5  53067181.0   \n",
       "261           261          12     12  45286702.0   \n",
       "262           262           4      4  53080735.0   \n",
       "263           263           6      6  45268413.0   \n",
       "264           264           4      4  51484037.0   \n",
       "265           265          15     15  22159493.0   \n",
       "266           266          16     16  53023577.0   \n",
       "267           267          17     17  51690590.0   \n",
       "268           268           1      1  18975805.0   \n",
       "269           269           1      1  30378679.0   \n",
       "270           270          16     16  51669928.0   \n",
       "271           271          13     13  48435649.0   \n",
       "272           272           4      4   4770882.0   \n",
       "273           273           8      8  41233602.0   \n",
       "274           274           3      3  16147651.0   \n",
       "\n",
       "                                                  name   price displayPrice  \\\n",
       "232             Modern Apartment in excellent location   161.0         $161   \n",
       "233     Cozy Modern Home, Coral Gables / Coconut Grove   284.0         $284   \n",
       "234  Water view, Brickell, Huge balcony, Free Parking.   164.0         $164   \n",
       "235      ✶ Modern Sky Residence w/ City & Ocean Views✶   299.0         $299   \n",
       "236    Lux Hilton Bentley Beachfront Apt Best Location   355.0         $355   \n",
       "237  South of Fifth •GYM POOL & SPA•BEACHFRONT BUIL...   336.0         $336   \n",
       "238                5 STAR HILTON BENTLEY BEACH! SOBE!!   238.0         $238   \n",
       "239  ONLY UNIQUE PEOPLE ALLOWED TO STAY HERE-Sobe Flat   136.0         $136   \n",
       "240        South of Fifth Spacious 2 Bedroom With Pool   276.0         $276   \n",
       "241           Miami, Brickell, Downtown, Stylish Condo   162.0         $162   \n",
       "242      Amazing  & Long Term Stay  Miami Beach Studio    55.0          $55   \n",
       "243  30% OFF❤ Luxury Townhouse w/Rooftop BBQ & Hot Tub  1475.0       $1,475   \n",
       "244                         Miami Beach stylish Studio  1700.0       $1,700   \n",
       "245  Collins Ave. - Touchless Petite King Room - So...   105.0         $105   \n",
       "246  South Beach: 5 min walk to the beach & Ocean D...   125.0         $125   \n",
       "247       🏝 Large & Cosy Loft @ the ❤️ of South Beach!   160.0         $160   \n",
       "248                                         Miami Cosi   168.0         $168   \n",
       "249          1 Bed/1Bath. South Beach. Great Location.   149.0         $149   \n",
       "250    Super 💙 Amazing Deal Direct 🏖️ Ocean Dr Sleeps5   185.0         $185   \n",
       "251  Beach apartment 2 blocks from mall & restaurants!   350.0         $350   \n",
       "252  In The Heart of South Beach! Garden, Picnic Ar...   325.0         $325   \n",
       "253  Your Exciting Miami Beach Vacation Starts Here...   325.0         $325   \n",
       "254   Awesome House With Jacuzzi in the Heart of Miami   169.0         $169   \n",
       "255                            Beautiful family home!!   499.0         $499   \n",
       "256  Beautiful house in the best central area of Mi...   315.0         $315   \n",
       "257            Beautifully Decorated Wynwood Apartment   132.0         $132   \n",
       "258  Sextant | Wynwood Penthouse | 3000SF Private R...   682.0         $682   \n",
       "259  Luxury NEW Condo in Miami Midtown/Design District   346.0         $346   \n",
       "260  5BR Miami Flower Casita | Private | Pool | Hot...   419.0         $419   \n",
       "261                    Modern Studio in Heart of Miami   119.0         $119   \n",
       "262  Beach Front Miami 3Bdm 2Bath Direct Ocean +Par...   495.0         $495   \n",
       "263  Alexander Ocean front  property glass balcony 2BR   261.0         $261   \n",
       "264  Season Discount!! Biscayne Deluxe House, 4br/2...   262.0         $262   \n",
       "265        2 bed/2 bath ....Because you want the best!   285.0         $285   \n",
       "266                        New Yorker Miami - Room 106   179.0         $179   \n",
       "267         JARDÍN DUPLEX in Sunny Miami for 6 Guests.   187.0         $187   \n",
       "268  Luxurious Town Home Steps to the Shore | * Dhalia   217.0         $217   \n",
       "269   MODERN AMAZING BEACH GETAWAY! RIGHT ON THE BEACH    95.0          $95   \n",
       "270  Stunning 1 BR Beachfront APT @ The Carillon Hotel   367.0         $367   \n",
       "271  Unit 102 Byron is a walking distance to the beach   134.0         $134   \n",
       "272                Amazing Views of MIAMI in Penthouse   140.0         $140   \n",
       "273                                 Little Bungalow 88   349.0         $349   \n",
       "274    #2 Private, Spacious Room for Students in Miami    68.0          $68   \n",
       "\n",
       "     monthlyPriceFactor  weeklyPriceFactor  avgRating  ...    state  \\\n",
       "232                1.00               0.93       4.64  ...  Florida   \n",
       "233                0.85               0.93       5.00  ...  Florida   \n",
       "234                1.00               0.95       4.85  ...  Florida   \n",
       "235                0.80               0.80       4.98  ...  Florida   \n",
       "236                1.00               1.00       4.85  ...  Florida   \n",
       "237                1.00               1.00       4.90  ...  Florida   \n",
       "238                0.98               1.00       4.61  ...  Florida   \n",
       "239                0.62               1.00       4.83  ...  Florida   \n",
       "240                0.95               0.98       4.25  ...  Florida   \n",
       "241                1.00               1.00       4.77  ...  Florida   \n",
       "242                0.95               1.00        NaN  ...  Florida   \n",
       "243                0.80               0.97       4.87  ...  Florida   \n",
       "244                1.00               1.00        NaN  ...  Florida   \n",
       "245                0.90               0.95       4.44  ...  Florida   \n",
       "246                0.70               1.00       4.67  ...  Florida   \n",
       "247                0.90               1.00       4.72  ...  Florida   \n",
       "248                1.00               1.00       4.52  ...  Florida   \n",
       "249                1.00               1.00       4.82  ...  Florida   \n",
       "250                1.00               1.00       4.59  ...  Florida   \n",
       "251                1.00               1.00       4.77  ...  Florida   \n",
       "252                1.00               1.00        NaN  ...  Florida   \n",
       "253                1.00               1.00        NaN  ...  Florida   \n",
       "254                0.85               0.95       4.98  ...  Florida   \n",
       "255                1.00               0.90       4.71  ...  Florida   \n",
       "256                0.90               0.95       4.81  ...  Florida   \n",
       "257                1.00               1.00       4.72  ...  Florida   \n",
       "258                1.00               1.00       4.90  ...  Florida   \n",
       "259                0.85               0.93       4.86  ...  Florida   \n",
       "260                0.90               0.90       5.00  ...  Florida   \n",
       "261                1.00               1.00       4.48  ...  Florida   \n",
       "262                0.90               0.90       4.80  ...  Florida   \n",
       "263                1.00               0.97       4.22  ...  Florida   \n",
       "264                0.95               0.98       4.70  ...  Florida   \n",
       "265                1.00               1.00       4.91  ...  Florida   \n",
       "266                0.85               0.90       4.33  ...  Florida   \n",
       "267                0.90               0.95       4.92  ...  Florida   \n",
       "268                0.80               0.90       4.81  ...  Florida   \n",
       "269                0.90               1.00       4.74  ...  Florida   \n",
       "270                0.95               1.00       4.96  ...  Florida   \n",
       "271                0.80               0.90       4.63  ...  Florida   \n",
       "272                1.00               1.00       4.92  ...  Florida   \n",
       "273                1.00               1.00       4.79  ...  Florida   \n",
       "274                0.80               1.00       4.70  ...  Florida   \n",
       "\n",
       "     state_name  state_id  avg_home_value  occupancy_rate  \\\n",
       "232     Florida        FL        685872.0        0.894476   \n",
       "233     Florida        FL       1182474.0        0.096863   \n",
       "234     Florida        FL        425586.0        0.418118   \n",
       "235     Florida        FL        425586.0        0.635616   \n",
       "236     Florida        FL        315148.0        0.460186   \n",
       "237     Florida        FL        315148.0        0.225365   \n",
       "238     Florida        FL        315148.0        0.880778   \n",
       "239     Florida        FL       1823034.0        0.535395   \n",
       "240     Florida        FL        600776.0        0.503579   \n",
       "241     Florida        FL        425586.0        0.199028   \n",
       "242     Florida        FL       2447709.0        0.199293   \n",
       "243     Florida        FL       5005811.0        0.302790   \n",
       "244     Florida        FL             NaN        0.960583   \n",
       "245     Florida        FL        315148.0        0.953425   \n",
       "246     Florida        FL        600776.0        0.960583   \n",
       "247     Florida        FL        315148.0        0.357667   \n",
       "248     Florida        FL       1823034.0        0.394874   \n",
       "249     Florida        FL        600776.0        0.140698   \n",
       "250     Florida        FL       1823034.0        0.720725   \n",
       "251     Florida        FL       5005811.0        0.608573   \n",
       "252     Florida        FL        315148.0        0.825806   \n",
       "253     Florida        FL        315148.0        0.825806   \n",
       "254     Florida        FL        425586.0        0.448608   \n",
       "255     Florida        FL        685872.0        0.944852   \n",
       "256     Florida        FL       1418968.8        0.933540   \n",
       "257     Florida        FL        685872.0        0.417322   \n",
       "258     Florida        FL        685872.0        0.871586   \n",
       "259     Florida        FL        685872.0        0.887760   \n",
       "260     Florida        FL       2601442.8        0.886964   \n",
       "261     Florida        FL        313692.0        0.452585   \n",
       "262     Florida        FL       2447709.0        0.245250   \n",
       "263     Florida        FL        425586.0        0.955104   \n",
       "264     Florida        FL       1891958.4        0.896686   \n",
       "265     Florida        FL        565497.0        0.861158   \n",
       "266     Florida        FL             NaN        0.957313   \n",
       "267     Florida        FL        685872.0        0.706496   \n",
       "268     Florida        FL       2447709.0        0.589571   \n",
       "269     Florida        FL        315148.0        0.420062   \n",
       "270     Florida        FL       1823034.0        0.415820   \n",
       "271     Florida        FL       1823034.0        0.919134   \n",
       "272     Florida        FL        204675.0        0.934081   \n",
       "273     Florida        FL        425586.0        0.430844   \n",
       "274     Florida        FL        313692.0        0.414052   \n",
       "\n",
       "     median_cleaning_fee median_service_fee median_total_price avg_30_yr_mort  \\\n",
       "232                110.0               38.0              309.0        3681.91   \n",
       "233                230.0              103.0              617.0        6347.78   \n",
       "234                150.0               52.0              366.0        2284.64   \n",
       "235                120.0               66.0              485.0        2284.64   \n",
       "236                200.0               95.0              650.0        1691.78   \n",
       "237                115.0               90.0              541.0        1691.78   \n",
       "238                150.0               51.0              439.0        1691.78   \n",
       "239                 80.0               30.0              246.0        9786.44   \n",
       "240                120.0               51.0              447.0        3225.10   \n",
       "241                 75.0               41.0              278.0        2284.64   \n",
       "242                100.0               22.0              177.0       13139.83   \n",
       "243                320.0              208.0             2003.0       26872.28   \n",
       "244                  NaN              240.0                NaN            NaN   \n",
       "245                 80.0               35.0              220.0        1691.78   \n",
       "246                 80.0               29.0              234.0        3225.10   \n",
       "247                100.0               32.0              292.0        1691.78   \n",
       "248                120.0               48.0              336.0        9786.44   \n",
       "249                100.0               34.0              283.0        3225.10   \n",
       "250                 69.0               49.0              303.0        9786.44   \n",
       "251                150.0               64.0              564.0       26872.28   \n",
       "252                  NaN               39.0                NaN        1691.78   \n",
       "253                  NaN               39.0                NaN        1691.78   \n",
       "254                225.0               57.0              451.0        2284.64   \n",
       "255                200.0               99.0              798.0        3681.91   \n",
       "256                150.0               66.0              531.0        7617.33   \n",
       "257                100.0               34.0              266.0        3681.91   \n",
       "258                290.0                0.0              972.0        3681.91   \n",
       "259                130.0               88.0              564.0        3681.91   \n",
       "260                  NaN              155.0                NaN       13965.11   \n",
       "261                120.0               34.0              273.0        1683.97   \n",
       "262                195.0               97.0              787.0       13139.83   \n",
       "263                150.0               64.0              475.0        2284.64   \n",
       "264                180.0               81.0              523.0       10156.44   \n",
       "265                180.0               68.0              533.0        3035.71   \n",
       "266                 40.0                0.0              219.0            NaN   \n",
       "267                 95.0               39.0              321.0        3681.91   \n",
       "268                100.0               50.0              367.0       13139.83   \n",
       "269                100.0               42.0              237.0        1691.78   \n",
       "270                200.0               81.0              648.0        9786.44   \n",
       "271                135.0               60.0              329.0        9786.44   \n",
       "272                 45.0               24.0              209.0        1098.74   \n",
       "273                200.0               78.0              627.0        2284.64   \n",
       "274                 80.0               21.0              169.0        1683.97   \n",
       "\n",
       "    median_ROI  \n",
       "232   1.283315  \n",
       "233  -0.713628  \n",
       "234   1.037386  \n",
       "235   3.104221  \n",
       "236   4.377917  \n",
       "237   1.192051  \n",
       "238   5.951821  \n",
       "239  -0.590648  \n",
       "240   1.122970  \n",
       "241  -0.263365  \n",
       "242  -0.918344  \n",
       "243  -0.313516  \n",
       "244        NaN  \n",
       "245   2.771176  \n",
       "246   1.119919  \n",
       "247   0.877713  \n",
       "248  -0.587632  \n",
       "249  -0.624471  \n",
       "250  -0.321267  \n",
       "251  -0.611493  \n",
       "252        NaN  \n",
       "253        NaN  \n",
       "254   1.693627  \n",
       "255   5.228810  \n",
       "256   0.979412  \n",
       "257  -0.082953  \n",
       "258   5.998664  \n",
       "259   3.136309  \n",
       "260        NaN  \n",
       "261   1.231722  \n",
       "262  -0.553208  \n",
       "263   5.040015  \n",
       "264   0.404469  \n",
       "265   3.598977  \n",
       "266        NaN  \n",
       "267   0.873497  \n",
       "268  -0.499131  \n",
       "269   0.789902  \n",
       "270  -0.162534  \n",
       "271  -0.060143  \n",
       "272   4.404398  \n",
       "273   2.596511  \n",
       "274   0.263918  \n",
       "\n",
       "[43 rows x 42 columns]"
      ]
     },
     "execution_count": 11,
     "metadata": {},
     "output_type": "execute_result"
    }
   ],
   "source": [
    "towns = combined_data_nc['town'].unique()\n",
    "towns_for_dash = list_options_for_dash(towns)"
   ]
  },
  {
   "cell_type": "code",
   "execution_count": null,
   "metadata": {},
   "outputs": [],
   "source": [
    "lists_per_city = listing_data.groupby(['town'])['id'].count().reset_index()\n",
    "lists_per_city.rename(columns = {'id':'num_lists_in_town'}, inplace = True)\n",
    "median_price_per_city = listing_data.groupby(['town'])['price'].median().reset_index()\n",
    "median_price_per_city.rename(columns = {'price':'median_price_per_city'}, inplace = True)\n",
    "\n",
    "# Calculate occupancy rate\n",
    "occ_rate = occ_data.groupby('id')['available'].apply(lambda row: np.sum(row)/len(row))\n",
    "listing_occ_rate = listing_data.merge(occ_rate, on = 'id')\n",
    "\n",
    "\n",
    "# Calculate pricing avgs\n",
    "cleaning_fee = price_data.groupby(['id'])['cleaning_fee'].median().reset_index()\n",
    "cleaning_fee.rename(columns = {'cleaning_fee':'median_cleaning_fee'}, inplace = True)\n",
    "service_fee = price_data.groupby(['id'])['service_fee'].median().reset_index()\n",
    "service_fee.rename(columns = {'service_fee':'median_service_fee'}, inplace = True)\n",
    "#total_price = price_data.groupby(['id'])['total_price'].median().reset_index()\n",
    "#total_price.rename(columns = {'total_price':'median_total_price'}, inplace = True)\n",
    "\n",
    "listing_occ_rate_fees = listing_occ_rate.merge(cleaning_fee, on='id')\n",
    "listing_occ_rate_fees = listing_occ_rate_fees.merge(service_fee, on='id')\n",
    "#listing_occ_rate_fees = listing_occ_rate_fees.merge(total_price, on='id')\n",
    "\n",
    "median_occ_rate_per_city = listing_occ_rate_fees.groupby(['town'])['available'].median().reset_index()\n",
    "median_occ_rate_per_city.rename(columns = {'available':'occupancy_rate'}, inplace = True)\n",
    "\n",
    "median_cleaning_fee_per_city = listing_occ_rate_fees.groupby(['town'])['median_cleaning_fee'].median().reset_index()\n",
    "median_service_fee_per_city = listing_occ_rate_fees.groupby(['town'])['median_service_fee'].median().reset_index()\n",
    "#median_total_price_per_city = listing_occ_rate_fees.groupby(['town'])['median_total_price'].median().reset_index()\n",
    "#fees_and_price = cleaning_fee.merge(service_fee, on = 'id')\n",
    "#fees_and_price = fees_and_price.merge(total_price, on = 'id')\n",
    "\n",
    "lists_town_price = lists_per_city.merge(median_price_per_city, left_on = 'town', right_on = 'town')\n",
    "lists_town_price = lists_town_price.merge(median_cleaning_fee_per_city, left_on = 'town', right_on = 'town')\n",
    "lists_town_price = lists_town_price.merge(median_service_fee_per_city, left_on = 'town', right_on = 'town')\n",
    "#lists_town_price = lists_town_price.merge(median_total_price_per_city, left_on = 'town', right_on = 'town')\n",
    "lists_town_price['median_total_price'] = lists_town_price['median_price_per_city'] + lists_town_price['median_cleaning_fee'] + lists_town_price['median_service_fee']\n",
    "lists_town_price_occ = lists_town_price.merge(median_occ_rate_per_city, left_on = 'town', right_on = 'town')\n",
    "lists_town_home_price_occ = lists_town_price_occ.merge(city_home, left_on = 'town', right_on = 'city')\n",
    "\n",
    "lists_town_home_price_occ_vt = lists_town_home_price_occ[(lists_town_home_price_occ['state_id'] == 'VT')]\n",
    "lists_town_home_price_occ_nh = lists_town_home_price_occ[(lists_town_home_price_occ['state_id'] == 'NH')]\n",
    "lists_town_home_price_occ_nc = lists_town_home_price_occ[(lists_town_home_price_occ['state_id'] == 'NC')]\n",
    "lists_town_home_price_occ_sc = lists_town_home_price_occ[(lists_town_home_price_occ['state_id'] == 'SC')]\n",
    "\n",
    "lists_town_home_price_occ_all = lists_town_home_price_occ_vt.append(lists_town_home_price_occ_nh)\n",
    "lists_town_home_price_occ_all = lists_town_home_price_occ_all.append(lists_town_home_price_occ_nc)\n",
    "lists_town_home_price_occ_all = lists_town_home_price_occ_all.append(lists_town_home_price_occ_sc)\n",
    "\n",
    "lists_town_home_price_occ_all['avg_30_yr_mort'] = lists_town_home_price_occ_all.apply(lambda row: calculate_mortgage(row['2022-04-30'], 5, 30), axis=1)\n",
    "lists_town_home_price_occ_all['median_ROI'] = lists_town_home_price_occ_all.apply(lambda row: calculate_roi(row['median_price_per_city'], row['occupancy_rate'], row['avg_30_yr_mort']), axis=1)"
   ]
  },
  {
   "cell_type": "code",
   "execution_count": null,
   "metadata": {},
   "outputs": [],
   "source": [
    "# grouping by town and guests\n",
    "\n",
    "city_home['city'] = city_home['city'].str.lower()\n",
    "#print(\"city home shape: \" + str(city_home.shape))\n",
    "lists_per_city_guest = listing_data.groupby(['town', 'guest_no'])['id'].count().reset_index()\n",
    "lists_per_city_guest.rename(columns = {'id':'num_lists_in_town'}, inplace = True)\n",
    "#print(\"lists_per_city_guest shape: \" + str(lists_per_city_guest.shape))\n",
    "median_price_per_city_guest = listing_data.groupby(['town', 'guest_no'])['price'].median().reset_index()\n",
    "median_price_per_city_guest.rename(columns = {'price':'median_price_per_city'}, inplace = True)\n",
    "#print(\"median_price_per_city_guest shape: \" + str(median_price_per_city_guest.shape))\n",
    "\n",
    "\n",
    "# Calculate occupancy rate\n",
    "occ_rate = occ_data.groupby('id')['available'].apply(lambda row: np.sum(row)/len(row))\n",
    "listing_occ_rate = listing_data.merge(occ_rate, on = 'id')\n",
    "#print(\"listing_occ_rate shape: \" + str(listing_occ_rate.shape))\n",
    "\n",
    "\n",
    "\n",
    "# Calculate pricing avgs\n",
    "cleaning_fee = price_data.groupby(['id'])['cleaning_fee'].median().reset_index()\n",
    "cleaning_fee.rename(columns = {'cleaning_fee':'median_cleaning_fee'}, inplace = True)\n",
    "service_fee = price_data.groupby(['id'])['service_fee'].median().reset_index()\n",
    "service_fee.rename(columns = {'service_fee':'median_service_fee'}, inplace = True)\n",
    "#total_price = price_data.groupby(['id'])['total_price'].median().reset_index()\n",
    "#total_price.rename(columns = {'total_price':'median_total_price'}, inplace = True)\n",
    "\n",
    "listing_occ_rate_fees = listing_occ_rate.merge(cleaning_fee, on='id')\n",
    "#print(\"listing_occ_rate_fees shape: \" + str(listing_occ_rate_fees.shape))\n",
    "listing_occ_rate_fees = listing_occ_rate_fees.merge(service_fee, on='id')\n",
    "#print(\"listing_occ_rate_fees shape: \" + str(listing_occ_rate_fees.shape))\n",
    "\n",
    "#listing_occ_rate_fees = listing_occ_rate_fees.merge(total_price, on='id')\n",
    "\n",
    "median_occ_rate_per_city_guest = listing_occ_rate_fees.groupby(['town', 'guest_no'])['available'].median().reset_index()\n",
    "median_occ_rate_per_city_guest.rename(columns = {'available':'occupancy_rate'}, inplace = True)\n",
    "#print(\"median_occ_rate_per_city_guest shape: \" + str(median_occ_rate_per_city_guest.shape))\n",
    "\n",
    "\n",
    "median_cleaning_fee_per_city_guest = listing_occ_rate_fees.groupby(['town', 'guest_no'])['median_cleaning_fee'].median().reset_index()\n",
    "#print(\"median_occ_rate_per_city_guest shape: \" + str(median_occ_rate_per_city_guest.shape))\n",
    "\n",
    "median_service_fee_per_city_guest = listing_occ_rate_fees.groupby(['town', 'guest_no'])['median_service_fee'].median().reset_index()\n",
    "#print(\"median_service_fee_per_city_guest shape: \" + str(median_service_fee_per_city_guest.shape))\n",
    "\n",
    "\n",
    "lists_town_price_guest = lists_per_city_guest.merge(median_price_per_city_guest, on = ['town', 'guest_no'])\n",
    "#print(\"lists_town_price_guest shape: \" + str(lists_town_price_guest.shape))\n",
    "\n",
    "lists_town_price_guest = lists_town_price_guest.merge(median_cleaning_fee_per_city_guest, on = ['town', 'guest_no'])\n",
    "#print(\"lists_town_price_guest shape: \" + str(lists_town_price_guest.shape))\n",
    "\n",
    "lists_town_price_guest = lists_town_price_guest.merge(median_service_fee_per_city_guest, on = ['town', 'guest_no'])\n",
    "#print(\"lists_town_price_guest shape: \" + str(lists_town_price_guest.shape))\n",
    "\n",
    "#lists_town_price = lists_town_price.merge(median_total_price_per_city, left_on = 'town', right_on = 'town')\n",
    "lists_town_price_guest['median_total_price'] = lists_town_price_guest['median_price_per_city'] + lists_town_price_guest['median_cleaning_fee'] + lists_town_price_guest['median_service_fee']\n",
    "#print(\"lists_town_price_guest shape: \" + str(lists_town_price_guest.shape))\n",
    "\n",
    "lists_town_price_occ_guest = lists_town_price_guest.merge(median_occ_rate_per_city_guest, on = ['town', 'guest_no'])\n",
    "#print(\"lists_town_price_guest shape: \" + str(lists_town_price_guest.shape))\n",
    "\n",
    "city_home_needed_cols = city_home[['city','state_id','population','2022-04-30']]\n",
    "#print(\"city_home_needed_cols shape: \" + str(city_home_needed_cols.shape))\n",
    "\n",
    "lists_town_home_price_occ_guest = lists_town_price_occ_guest.merge(city_home_needed_cols, how='inner', left_on = 'town', right_on = 'city')\n",
    "#print(\"lists_town_home_price_occ_guest shape: \" + str(lists_town_home_price_occ_guest.shape))\n",
    "\n",
    "# Calculate 30 year mortgage for town\n",
    "lists_town_home_price_occ_guest['avg_30_yr_mort'] = lists_town_home_price_occ_guest.apply(lambda row: calculate_mortgage(row['2022-04-30'], 5, 30), axis=1)\n",
    "# Calculate median ROI for town\n",
    "lists_town_home_price_occ_guest['median_ROI'] = lists_town_home_price_occ_guest.apply(lambda row: calculate_roi(row['median_price_per_city'], row['occupancy_rate'], row['avg_30_yr_mort']), axis=1)\n",
    "\n",
    "\n",
    "wb_data = lists_town_home_price_occ_guest[lists_town_home_price_occ_guest['town'] == 'wrightsville beach']\n",
    "#print(\"wb_data shape: \" + str(wb_data.shape))\n",
    "\n",
    "# Create pivot table for nc towns\n",
    "lists_town_home_price_occ_guest_nc = lists_town_home_price_occ_guest[(lists_town_home_price_occ_guest['state_id'] == 'NC')]\n",
    "num_lists_pivot = lists_town_home_price_occ_guest_nc.pivot(index='town', columns='guest_no', values='num_lists_in_town')"
   ]
  },
  {
   "cell_type": "code",
   "execution_count": 268,
   "metadata": {},
   "outputs": [
    {
     "name": "stdout",
     "output_type": "stream",
     "text": [
      "Dash is running on http://127.0.0.1:8050/\n",
      "\n",
      " * Serving Flask app '__main__' (lazy loading)\n",
      " * Environment: production\n",
      "\u001b[31m   WARNING: This is a development server. Do not use it in a production deployment.\u001b[0m\n",
      "\u001b[2m   Use a production WSGI server instead.\u001b[0m\n",
      " * Debug mode: off\n"
     ]
    },
    {
     "name": "stderr",
     "output_type": "stream",
     "text": [
      " * Running on http://127.0.0.1:8050 (Press CTRL+C to quit)\n",
      "127.0.0.1 - - [24/May/2022 01:47:53] \"GET / HTTP/1.1\" 200 -\n",
      "127.0.0.1 - - [24/May/2022 01:47:54] \"GET /_dash-layout HTTP/1.1\" 200 -\n",
      "127.0.0.1 - - [24/May/2022 01:47:54] \"GET /_favicon.ico?v=2.4.1 HTTP/1.1\" 200 -\n",
      "127.0.0.1 - - [24/May/2022 01:47:54] \"GET /_dash-dependencies HTTP/1.1\" 200 -\n",
      "127.0.0.1 - - [24/May/2022 01:47:54] \"GET /_dash-component-suites/dash/dcc/async-dropdown.js HTTP/1.1\" 304 -\n",
      "127.0.0.1 - - [24/May/2022 01:47:54] \"GET /_dash-component-suites/dash/dcc/async-graph.js HTTP/1.1\" 304 -\n",
      "127.0.0.1 - - [24/May/2022 01:47:54] \"GET /_dash-component-suites/dash/dcc/async-plotlyjs.js HTTP/1.1\" 304 -\n"
     ]
    },
    {
     "name": "stdout",
     "output_type": "stream",
     "text": [
      "bald head island\n",
      "Exception on /_dash-update-component [POST]\n",
      "Traceback (most recent call last):\n",
      "  File \"c:\\Users\\mattg\\AppData\\Local\\Programs\\Python\\Python310\\lib\\site-packages\\pandas\\core\\indexes\\base.py\", line 3621, in get_loc\n",
      "    return self._engine.get_loc(casted_key)\n",
      "  File \"pandas\\_libs\\index.pyx\", line 136, in pandas._libs.index.IndexEngine.get_loc\n",
      "  File \"pandas\\_libs\\index.pyx\", line 163, in pandas._libs.index.IndexEngine.get_loc\n",
      "  File \"pandas\\_libs\\hashtable_class_helper.pxi\", line 5198, in pandas._libs.hashtable.PyObjectHashTable.get_item\n",
      "  File \"pandas\\_libs\\hashtable_class_helper.pxi\", line 5206, in pandas._libs.hashtable.PyObjectHashTable.get_item\n",
      "KeyError: 'bald head island'\n",
      "\n",
      "The above exception was the direct cause of the following exception:\n",
      "\n",
      "Traceback (most recent call last):\n",
      "  File \"c:\\Users\\mattg\\AppData\\Local\\Programs\\Python\\Python310\\lib\\site-packages\\flask\\app.py\", line 2077, in wsgi_app\n",
      "    response = self.full_dispatch_request()\n",
      "  File \"c:\\Users\\mattg\\AppData\\Local\\Programs\\Python\\Python310\\lib\\site-packages\\flask\\app.py\", line 1525, in full_dispatch_request\n",
      "    rv = self.handle_user_exception(e)\n",
      "  File \"c:\\Users\\mattg\\AppData\\Local\\Programs\\Python\\Python310\\lib\\site-packages\\flask\\app.py\", line 1523, in full_dispatch_request\n",
      "    rv = self.dispatch_request()\n",
      "  File \"c:\\Users\\mattg\\AppData\\Local\\Programs\\Python\\Python310\\lib\\site-packages\\flask\\app.py\", line 1509, in dispatch_request\n",
      "    return self.ensure_sync(self.view_functions[rule.endpoint])(**req.view_args)\n",
      "  File \"c:\\Users\\mattg\\AppData\\Local\\Programs\\Python\\Python310\\lib\\site-packages\\dash\\dash.py\", line 1372, in dispatch\n",
      "    response.set_data(func(*args, outputs_list=outputs_list))\n",
      "  File \"c:\\Users\\mattg\\AppData\\Local\\Programs\\Python\\Python310\\lib\\site-packages\\dash\\_callback.py\", line 151, in add_context\n",
      "    output_value = func(*func_args, **func_kwargs)  # %% callback invoked %%\n",
      "  File \"C:\\Users\\mattg\\AppData\\Local\\Temp\\ipykernel_16064\\2450195191.py\", line 32, in graph_update\n",
      "    fig = go.Figure([go.Bar(x = combined_data_nc['guest_no'], y = df['{}'.format(dropdown_value)],\\\n",
      "  File \"c:\\Users\\mattg\\AppData\\Local\\Programs\\Python\\Python310\\lib\\site-packages\\pandas\\core\\frame.py\", line 3505, in __getitem__\n",
      "    indexer = self.columns.get_loc(key)\n",
      "  File \"c:\\Users\\mattg\\AppData\\Local\\Programs\\Python\\Python310\\lib\\site-packages\\pandas\\core\\indexes\\base.py\", line 3623, in get_loc\n",
      "    raise KeyError(key) from err\n",
      "KeyError: 'bald head island'\n"
     ]
    },
    {
     "name": "stderr",
     "output_type": "stream",
     "text": [
      "127.0.0.1 - - [24/May/2022 01:47:54] \"POST /_dash-update-component HTTP/1.1\" 500 -\n"
     ]
    },
    {
     "name": "stdout",
     "output_type": "stream",
     "text": [
      "carolina beach\n",
      "Exception on /_dash-update-component [POST]\n",
      "Traceback (most recent call last):\n",
      "  File \"c:\\Users\\mattg\\AppData\\Local\\Programs\\Python\\Python310\\lib\\site-packages\\pandas\\core\\indexes\\base.py\", line 3621, in get_loc\n",
      "    return self._engine.get_loc(casted_key)\n",
      "  File \"pandas\\_libs\\index.pyx\", line 136, in pandas._libs.index.IndexEngine.get_loc\n",
      "  File \"pandas\\_libs\\index.pyx\", line 163, in pandas._libs.index.IndexEngine.get_loc\n",
      "  File \"pandas\\_libs\\hashtable_class_helper.pxi\", line 5198, in pandas._libs.hashtable.PyObjectHashTable.get_item\n",
      "  File \"pandas\\_libs\\hashtable_class_helper.pxi\", line 5206, in pandas._libs.hashtable.PyObjectHashTable.get_item\n",
      "KeyError: 'carolina beach'\n",
      "\n",
      "The above exception was the direct cause of the following exception:\n",
      "\n",
      "Traceback (most recent call last):\n",
      "  File \"c:\\Users\\mattg\\AppData\\Local\\Programs\\Python\\Python310\\lib\\site-packages\\flask\\app.py\", line 2077, in wsgi_app\n",
      "    response = self.full_dispatch_request()\n",
      "  File \"c:\\Users\\mattg\\AppData\\Local\\Programs\\Python\\Python310\\lib\\site-packages\\flask\\app.py\", line 1525, in full_dispatch_request\n",
      "    rv = self.handle_user_exception(e)\n",
      "  File \"c:\\Users\\mattg\\AppData\\Local\\Programs\\Python\\Python310\\lib\\site-packages\\flask\\app.py\", line 1523, in full_dispatch_request\n",
      "    rv = self.dispatch_request()\n",
      "  File \"c:\\Users\\mattg\\AppData\\Local\\Programs\\Python\\Python310\\lib\\site-packages\\flask\\app.py\", line 1509, in dispatch_request\n",
      "    return self.ensure_sync(self.view_functions[rule.endpoint])(**req.view_args)\n",
      "  File \"c:\\Users\\mattg\\AppData\\Local\\Programs\\Python\\Python310\\lib\\site-packages\\dash\\dash.py\", line 1372, in dispatch\n",
      "    response.set_data(func(*args, outputs_list=outputs_list))\n",
      "  File \"c:\\Users\\mattg\\AppData\\Local\\Programs\\Python\\Python310\\lib\\site-packages\\dash\\_callback.py\", line 151, in add_context\n",
      "    output_value = func(*func_args, **func_kwargs)  # %% callback invoked %%\n",
      "  File \"C:\\Users\\mattg\\AppData\\Local\\Temp\\ipykernel_16064\\2450195191.py\", line 32, in graph_update\n",
      "    fig = go.Figure([go.Bar(x = combined_data_nc['guest_no'], y = df['{}'.format(dropdown_value)],\\\n",
      "  File \"c:\\Users\\mattg\\AppData\\Local\\Programs\\Python\\Python310\\lib\\site-packages\\pandas\\core\\frame.py\", line 3505, in __getitem__\n",
      "    indexer = self.columns.get_loc(key)\n",
      "  File \"c:\\Users\\mattg\\AppData\\Local\\Programs\\Python\\Python310\\lib\\site-packages\\pandas\\core\\indexes\\base.py\", line 3623, in get_loc\n",
      "    raise KeyError(key) from err\n",
      "KeyError: 'carolina beach'\n"
     ]
    },
    {
     "name": "stderr",
     "output_type": "stream",
     "text": [
      "127.0.0.1 - - [24/May/2022 01:47:58] \"POST /_dash-update-component HTTP/1.1\" 500 -\n"
     ]
    },
    {
     "ename": "",
     "evalue": "",
     "output_type": "error",
     "traceback": [
      "\u001b[1;31mCanceled future for execute_request message before replies were done"
     ]
    },
    {
     "ename": "",
     "evalue": "",
     "output_type": "error",
     "traceback": [
      "\u001b[1;31mThe Kernel crashed while executing code in the the current cell or a previous cell. Please review the code in the cell(s) to identify a possible cause of the failure. Click <a href='https://aka.ms/vscodeJupyterKernelCrash'>here</a> for more info. View Jupyter <a href='command:jupyter.viewOutput'>log</a> for further details."
     ]
    }
   ],
   "source": [
    "import dash\n",
    "import dash_html_components as html\n",
    "import plotly.graph_objects as go\n",
    "import dash_core_components as dcc\n",
    "import plotly.express as px\n",
    "from dash.dependencies import Input, Output\n",
    "\n",
    "\n",
    "app = dash.Dash()\n",
    "\n",
    "df = px.data.stocks()\n",
    "\n",
    "towns = combined_data_nc['town'].unique()\n",
    "options_list, value_for_dropdown = list_options_for_dash(towns)\n",
    "\n",
    "\n",
    "app.layout = html.Div(id = 'parent', children = [\n",
    "    html.H1(id = 'H1', children = 'Styling using html components', style = {'textAlign':'center',\\\n",
    "                                            'marginTop':40,'marginBottom':40}),\n",
    "\n",
    "        dcc.Dropdown( id = 'dropdown',\n",
    "        options = options_list,\n",
    "        value = value_for_dropdown),\n",
    "        dcc.Graph(id = 'bar_plot')\n",
    "    ])\n",
    "    \n",
    "    \n",
    "@app.callback(Output(component_id='bar_plot', component_property= 'figure'),\n",
    "              [Input(component_id='dropdown', component_property= 'value')])\n",
    "def graph_update(dropdown_value):\n",
    "    print(dropdown_value)\n",
    "    fig = go.Figure([go.Bar(x = combined_data_nc['guest_no'], y = df['{}'.format(dropdown_value)],\\\n",
    "                     line = dict(color = 'firebrick', width = 4))\n",
    "                     ])\n",
    "    \n",
    "    fig.update_layout(title = 'Stock prices over time',\n",
    "                      xaxis_title = 'Dates',\n",
    "                      yaxis_title = 'Prices'\n",
    "                      )\n",
    "    return fig  \n",
    "\n",
    "\n",
    "\n",
    "if __name__ == '__main__': \n",
    "    app.run_server()"
   ]
  },
  {
   "cell_type": "code",
   "execution_count": null,
   "metadata": {},
   "outputs": [],
   "source": [
    "calculate_mortgage"
   ]
  }
 ],
 "metadata": {
  "interpreter": {
   "hash": "8cda3f1edda61d067a8dccfe73833b0b57e2a1d4ac0e36527d0cd620f4d2a66c"
  },
  "kernelspec": {
   "display_name": "Python 3.10.4 64-bit",
   "language": "python",
   "name": "python3"
  },
  "language_info": {
   "codemirror_mode": {
    "name": "ipython",
    "version": 3
   },
   "file_extension": ".py",
   "mimetype": "text/x-python",
   "name": "python",
   "nbconvert_exporter": "python",
   "pygments_lexer": "ipython3",
   "version": "3.10.4"
  },
  "orig_nbformat": 4
 },
 "nbformat": 4,
 "nbformat_minor": 2
}
