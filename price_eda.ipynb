{
 "cells": [
  {
   "cell_type": "code",
   "execution_count": 1,
   "metadata": {},
   "outputs": [],
   "source": [
    "import pandas as pd\n",
    "import matplotlib.pyplot as plt\n",
    "import folium\n",
    "import numpy as np\n",
    "import seaborn as sns\n",
    "import os\n",
    "import fastparquet\n",
    "import warnings\n",
    "import geopy\n",
    "from geopy.point import Point\n",
    "import time\n",
    "from pandas.core.common import SettingWithCopyWarning\n",
    "import plotly.graph_objects as go\n",
    "import plotly.express as px\n",
    "from datetime import datetime, timedelta, date\n",
    "warnings.simplefilter(action='ignore', category=FutureWarning)\n",
    "warnings.simplefilter(action=\"ignore\", category=SettingWithCopyWarning)"
   ]
  },
  {
   "cell_type": "code",
   "execution_count": 2,
   "metadata": {},
   "outputs": [],
   "source": [
    "# Load in price data\n",
    "price_data = pd.read_parquet('C:/Users/mattg/Desktop/Hobbies/airbnb_reports/bucket_data/prices')"
   ]
  },
  {
   "cell_type": "code",
   "execution_count": 3,
   "metadata": {},
   "outputs": [],
   "source": [
    "price_data.id = price_data.id.astype('str')"
   ]
  },
  {
   "cell_type": "code",
   "execution_count": 5,
   "metadata": {},
   "outputs": [],
   "source": [
    "miami_example = price_data[price_data['id'] == '52364652.0']"
   ]
  },
  {
   "cell_type": "code",
   "execution_count": 4,
   "metadata": {},
   "outputs": [
    {
     "ename": "NameError",
     "evalue": "name 'miami_example' is not defined",
     "output_type": "error",
     "traceback": [
      "\u001b[1;31m---------------------------------------------------------------------------\u001b[0m",
      "\u001b[1;31mNameError\u001b[0m                                 Traceback (most recent call last)",
      "\u001b[1;32mc:\\Users\\mattg\\Desktop\\Hobbies\\airbnb_reports\\price_eda.ipynb Cell 5\u001b[0m in \u001b[0;36m<cell line: 2>\u001b[1;34m()\u001b[0m\n\u001b[0;32m      <a href='vscode-notebook-cell:/c%3A/Users/mattg/Desktop/Hobbies/airbnb_reports/price_eda.ipynb#ch0000004?line=0'>1</a>\u001b[0m start_time \u001b[39m=\u001b[39m time\u001b[39m.\u001b[39mtime()\n\u001b[1;32m----> <a href='vscode-notebook-cell:/c%3A/Users/mattg/Desktop/Hobbies/airbnb_reports/price_eda.ipynb#ch0000004?line=1'>2</a>\u001b[0m miami_example[\u001b[39m'\u001b[39m\u001b[39mpull_time\u001b[39m\u001b[39m'\u001b[39m] \u001b[39m=\u001b[39m pd\u001b[39m.\u001b[39mto_datetime(miami_example[\u001b[39m'\u001b[39m\u001b[39mpull_time\u001b[39m\u001b[39m'\u001b[39m])\n\u001b[0;32m      <a href='vscode-notebook-cell:/c%3A/Users/mattg/Desktop/Hobbies/airbnb_reports/price_eda.ipynb#ch0000004?line=2'>3</a>\u001b[0m \u001b[39mprint\u001b[39m(\u001b[39m'\u001b[39m\u001b[39mdone with datatype change\u001b[39m\u001b[39m'\u001b[39m)\n\u001b[0;32m      <a href='vscode-notebook-cell:/c%3A/Users/mattg/Desktop/Hobbies/airbnb_reports/price_eda.ipynb#ch0000004?line=3'>4</a>\u001b[0m middle_time \u001b[39m=\u001b[39m time\u001b[39m.\u001b[39mtime()\n",
      "\u001b[1;31mNameError\u001b[0m: name 'miami_example' is not defined"
     ]
    }
   ],
   "source": [
    "start_time = time.time()\n",
    "miami_example['pull_time'] = pd.to_datetime(miami_example['pull_time'])\n",
    "print('done with datatype change')\n",
    "middle_time = time.time()\n",
    "miami_example['pull_time'] = miami_example['pull_time'].dt.date\n",
    "print('done with change to date')\n",
    "end_time = time.time()\n",
    "\n",
    "print('Start Time '+ str(start_time))\n",
    "print('Middle Time '+ str(middle_time-start_time))\n",
    "print('End Time '+ str(end_time-start_time))\n"
   ]
  },
  {
   "cell_type": "code",
   "execution_count": 7,
   "metadata": {},
   "outputs": [],
   "source": [
    "miami_example_by_pull_time = miami_example.groupby(['id','pull_time'])['cleaning_fee','service_fee','total_price'].mean().reset_index()\n",
    "miami_example_by_pull_time_count = miami_example.groupby(['pull_time','check_in'])['cleaning_fee','service_fee','total_price'].count().reset_index()"
   ]
  },
  {
   "cell_type": "code",
   "execution_count": 8,
   "metadata": {},
   "outputs": [
    {
     "data": {
      "application/vnd.plotly.v1+json": {
       "config": {
        "plotlyServerURL": "https://plot.ly"
       },
       "data": [
        {
         "mode": "lines",
         "name": "Cleaning Fee",
         "type": "scatter",
         "x": [
          "2022-01-05",
          "2022-02-05",
          "2022-03-05",
          "2022-04-05",
          "2022-04-18",
          "2022-04-19",
          "2022-04-20",
          "2022-04-21",
          "2022-04-22",
          "2022-04-23",
          "2022-04-24",
          "2022-04-27",
          "2022-04-28",
          "2022-04-29",
          "2022-04-30",
          "2022-05-05",
          "2022-05-13",
          "2022-05-14",
          "2022-05-15",
          "2022-05-16",
          "2022-05-17",
          "2022-05-18",
          "2022-06-05",
          "2022-07-05",
          "2022-08-05",
          "2022-09-05",
          "2022-10-05",
          "2022-11-05",
          "2022-12-05"
         ],
         "y": [
          230,
          230,
          230,
          230,
          230,
          230,
          230,
          230,
          230,
          230,
          230,
          230,
          230,
          230,
          230,
          230,
          230,
          230,
          230,
          230,
          230,
          230,
          230,
          230,
          230,
          230,
          230,
          230,
          230
         ]
        },
        {
         "mode": "lines",
         "name": "Service Fee",
         "type": "scatter",
         "x": [
          "2022-01-05",
          "2022-02-05",
          "2022-03-05",
          "2022-04-05",
          "2022-04-18",
          "2022-04-19",
          "2022-04-20",
          "2022-04-21",
          "2022-04-22",
          "2022-04-23",
          "2022-04-24",
          "2022-04-27",
          "2022-04-28",
          "2022-04-29",
          "2022-04-30",
          "2022-05-05",
          "2022-05-13",
          "2022-05-14",
          "2022-05-15",
          "2022-05-16",
          "2022-05-17",
          "2022-05-18",
          "2022-06-05",
          "2022-07-05",
          "2022-08-05",
          "2022-09-05",
          "2022-10-05",
          "2022-11-05",
          "2022-12-05"
         ],
         "y": [
          98.06741573033707,
          98.3932584269663,
          98.56179775280899,
          98.64044943820225,
          85,
          97.41836734693878,
          98.64044943820225,
          98.64044943820225,
          99.24719101123596,
          97.82022471910112,
          97.53932584269663,
          96.67415730337079,
          97.02247191011236,
          97.37078651685393,
          97.71910112359551,
          98.71910112359551,
          96.42696629213484,
          96.50561797752809,
          95.68539325842697,
          95.86516853932584,
          95.50561797752809,
          95.78651685393258,
          98.79775280898876,
          98.87640449438203,
          98.95505617977528,
          99.03370786516854,
          99.11235955056179,
          97.61797752808988,
          97.69662921348315
         ]
        },
        {
         "mode": "lines",
         "name": "Total Price",
         "type": "scatter",
         "x": [
          "2022-01-05",
          "2022-02-05",
          "2022-03-05",
          "2022-04-05",
          "2022-04-18",
          "2022-04-19",
          "2022-04-20",
          "2022-04-21",
          "2022-04-22",
          "2022-04-23",
          "2022-04-24",
          "2022-04-27",
          "2022-04-28",
          "2022-04-29",
          "2022-04-30",
          "2022-05-05",
          "2022-05-13",
          "2022-05-14",
          "2022-05-15",
          "2022-05-16",
          "2022-05-17",
          "2022-05-18",
          "2022-06-05",
          "2022-07-05",
          "2022-08-05",
          "2022-09-05",
          "2022-10-05",
          "2022-11-05",
          "2022-12-05"
         ],
         "y": [
          465.07865168539325,
          467.40449438202245,
          468.64044943820227,
          469.2022471910112,
          370,
          459.6938775510204,
          468.53932584269666,
          468.53932584269666,
          472.92134831460675,
          462.82022471910113,
          461.1573033707865,
          455.2808988764045,
          457.7303370786517,
          460.17977528089887,
          462.6292134831461,
          469.76404494382024,
          453.314606741573,
          453.87640449438203,
          448.82022471910113,
          450.13483146067415,
          447.685393258427,
          449.64044943820227,
          470.3258426966292,
          470.8876404494382,
          471.44943820224717,
          472.0112359550562,
          472.5730337078652,
          461.8988764044944,
          462.46067415730334
         ]
        }
       ],
       "layout": {
        "template": {
         "data": {
          "bar": [
           {
            "error_x": {
             "color": "#2a3f5f"
            },
            "error_y": {
             "color": "#2a3f5f"
            },
            "marker": {
             "line": {
              "color": "#E5ECF6",
              "width": 0.5
             },
             "pattern": {
              "fillmode": "overlay",
              "size": 10,
              "solidity": 0.2
             }
            },
            "type": "bar"
           }
          ],
          "barpolar": [
           {
            "marker": {
             "line": {
              "color": "#E5ECF6",
              "width": 0.5
             },
             "pattern": {
              "fillmode": "overlay",
              "size": 10,
              "solidity": 0.2
             }
            },
            "type": "barpolar"
           }
          ],
          "carpet": [
           {
            "aaxis": {
             "endlinecolor": "#2a3f5f",
             "gridcolor": "white",
             "linecolor": "white",
             "minorgridcolor": "white",
             "startlinecolor": "#2a3f5f"
            },
            "baxis": {
             "endlinecolor": "#2a3f5f",
             "gridcolor": "white",
             "linecolor": "white",
             "minorgridcolor": "white",
             "startlinecolor": "#2a3f5f"
            },
            "type": "carpet"
           }
          ],
          "choropleth": [
           {
            "colorbar": {
             "outlinewidth": 0,
             "ticks": ""
            },
            "type": "choropleth"
           }
          ],
          "contour": [
           {
            "colorbar": {
             "outlinewidth": 0,
             "ticks": ""
            },
            "colorscale": [
             [
              0,
              "#0d0887"
             ],
             [
              0.1111111111111111,
              "#46039f"
             ],
             [
              0.2222222222222222,
              "#7201a8"
             ],
             [
              0.3333333333333333,
              "#9c179e"
             ],
             [
              0.4444444444444444,
              "#bd3786"
             ],
             [
              0.5555555555555556,
              "#d8576b"
             ],
             [
              0.6666666666666666,
              "#ed7953"
             ],
             [
              0.7777777777777778,
              "#fb9f3a"
             ],
             [
              0.8888888888888888,
              "#fdca26"
             ],
             [
              1,
              "#f0f921"
             ]
            ],
            "type": "contour"
           }
          ],
          "contourcarpet": [
           {
            "colorbar": {
             "outlinewidth": 0,
             "ticks": ""
            },
            "type": "contourcarpet"
           }
          ],
          "heatmap": [
           {
            "colorbar": {
             "outlinewidth": 0,
             "ticks": ""
            },
            "colorscale": [
             [
              0,
              "#0d0887"
             ],
             [
              0.1111111111111111,
              "#46039f"
             ],
             [
              0.2222222222222222,
              "#7201a8"
             ],
             [
              0.3333333333333333,
              "#9c179e"
             ],
             [
              0.4444444444444444,
              "#bd3786"
             ],
             [
              0.5555555555555556,
              "#d8576b"
             ],
             [
              0.6666666666666666,
              "#ed7953"
             ],
             [
              0.7777777777777778,
              "#fb9f3a"
             ],
             [
              0.8888888888888888,
              "#fdca26"
             ],
             [
              1,
              "#f0f921"
             ]
            ],
            "type": "heatmap"
           }
          ],
          "heatmapgl": [
           {
            "colorbar": {
             "outlinewidth": 0,
             "ticks": ""
            },
            "colorscale": [
             [
              0,
              "#0d0887"
             ],
             [
              0.1111111111111111,
              "#46039f"
             ],
             [
              0.2222222222222222,
              "#7201a8"
             ],
             [
              0.3333333333333333,
              "#9c179e"
             ],
             [
              0.4444444444444444,
              "#bd3786"
             ],
             [
              0.5555555555555556,
              "#d8576b"
             ],
             [
              0.6666666666666666,
              "#ed7953"
             ],
             [
              0.7777777777777778,
              "#fb9f3a"
             ],
             [
              0.8888888888888888,
              "#fdca26"
             ],
             [
              1,
              "#f0f921"
             ]
            ],
            "type": "heatmapgl"
           }
          ],
          "histogram": [
           {
            "marker": {
             "pattern": {
              "fillmode": "overlay",
              "size": 10,
              "solidity": 0.2
             }
            },
            "type": "histogram"
           }
          ],
          "histogram2d": [
           {
            "colorbar": {
             "outlinewidth": 0,
             "ticks": ""
            },
            "colorscale": [
             [
              0,
              "#0d0887"
             ],
             [
              0.1111111111111111,
              "#46039f"
             ],
             [
              0.2222222222222222,
              "#7201a8"
             ],
             [
              0.3333333333333333,
              "#9c179e"
             ],
             [
              0.4444444444444444,
              "#bd3786"
             ],
             [
              0.5555555555555556,
              "#d8576b"
             ],
             [
              0.6666666666666666,
              "#ed7953"
             ],
             [
              0.7777777777777778,
              "#fb9f3a"
             ],
             [
              0.8888888888888888,
              "#fdca26"
             ],
             [
              1,
              "#f0f921"
             ]
            ],
            "type": "histogram2d"
           }
          ],
          "histogram2dcontour": [
           {
            "colorbar": {
             "outlinewidth": 0,
             "ticks": ""
            },
            "colorscale": [
             [
              0,
              "#0d0887"
             ],
             [
              0.1111111111111111,
              "#46039f"
             ],
             [
              0.2222222222222222,
              "#7201a8"
             ],
             [
              0.3333333333333333,
              "#9c179e"
             ],
             [
              0.4444444444444444,
              "#bd3786"
             ],
             [
              0.5555555555555556,
              "#d8576b"
             ],
             [
              0.6666666666666666,
              "#ed7953"
             ],
             [
              0.7777777777777778,
              "#fb9f3a"
             ],
             [
              0.8888888888888888,
              "#fdca26"
             ],
             [
              1,
              "#f0f921"
             ]
            ],
            "type": "histogram2dcontour"
           }
          ],
          "mesh3d": [
           {
            "colorbar": {
             "outlinewidth": 0,
             "ticks": ""
            },
            "type": "mesh3d"
           }
          ],
          "parcoords": [
           {
            "line": {
             "colorbar": {
              "outlinewidth": 0,
              "ticks": ""
             }
            },
            "type": "parcoords"
           }
          ],
          "pie": [
           {
            "automargin": true,
            "type": "pie"
           }
          ],
          "scatter": [
           {
            "fillpattern": {
             "fillmode": "overlay",
             "size": 10,
             "solidity": 0.2
            },
            "type": "scatter"
           }
          ],
          "scatter3d": [
           {
            "line": {
             "colorbar": {
              "outlinewidth": 0,
              "ticks": ""
             }
            },
            "marker": {
             "colorbar": {
              "outlinewidth": 0,
              "ticks": ""
             }
            },
            "type": "scatter3d"
           }
          ],
          "scattercarpet": [
           {
            "marker": {
             "colorbar": {
              "outlinewidth": 0,
              "ticks": ""
             }
            },
            "type": "scattercarpet"
           }
          ],
          "scattergeo": [
           {
            "marker": {
             "colorbar": {
              "outlinewidth": 0,
              "ticks": ""
             }
            },
            "type": "scattergeo"
           }
          ],
          "scattergl": [
           {
            "marker": {
             "colorbar": {
              "outlinewidth": 0,
              "ticks": ""
             }
            },
            "type": "scattergl"
           }
          ],
          "scattermapbox": [
           {
            "marker": {
             "colorbar": {
              "outlinewidth": 0,
              "ticks": ""
             }
            },
            "type": "scattermapbox"
           }
          ],
          "scatterpolar": [
           {
            "marker": {
             "colorbar": {
              "outlinewidth": 0,
              "ticks": ""
             }
            },
            "type": "scatterpolar"
           }
          ],
          "scatterpolargl": [
           {
            "marker": {
             "colorbar": {
              "outlinewidth": 0,
              "ticks": ""
             }
            },
            "type": "scatterpolargl"
           }
          ],
          "scatterternary": [
           {
            "marker": {
             "colorbar": {
              "outlinewidth": 0,
              "ticks": ""
             }
            },
            "type": "scatterternary"
           }
          ],
          "surface": [
           {
            "colorbar": {
             "outlinewidth": 0,
             "ticks": ""
            },
            "colorscale": [
             [
              0,
              "#0d0887"
             ],
             [
              0.1111111111111111,
              "#46039f"
             ],
             [
              0.2222222222222222,
              "#7201a8"
             ],
             [
              0.3333333333333333,
              "#9c179e"
             ],
             [
              0.4444444444444444,
              "#bd3786"
             ],
             [
              0.5555555555555556,
              "#d8576b"
             ],
             [
              0.6666666666666666,
              "#ed7953"
             ],
             [
              0.7777777777777778,
              "#fb9f3a"
             ],
             [
              0.8888888888888888,
              "#fdca26"
             ],
             [
              1,
              "#f0f921"
             ]
            ],
            "type": "surface"
           }
          ],
          "table": [
           {
            "cells": {
             "fill": {
              "color": "#EBF0F8"
             },
             "line": {
              "color": "white"
             }
            },
            "header": {
             "fill": {
              "color": "#C8D4E3"
             },
             "line": {
              "color": "white"
             }
            },
            "type": "table"
           }
          ]
         },
         "layout": {
          "annotationdefaults": {
           "arrowcolor": "#2a3f5f",
           "arrowhead": 0,
           "arrowwidth": 1
          },
          "autotypenumbers": "strict",
          "coloraxis": {
           "colorbar": {
            "outlinewidth": 0,
            "ticks": ""
           }
          },
          "colorscale": {
           "diverging": [
            [
             0,
             "#8e0152"
            ],
            [
             0.1,
             "#c51b7d"
            ],
            [
             0.2,
             "#de77ae"
            ],
            [
             0.3,
             "#f1b6da"
            ],
            [
             0.4,
             "#fde0ef"
            ],
            [
             0.5,
             "#f7f7f7"
            ],
            [
             0.6,
             "#e6f5d0"
            ],
            [
             0.7,
             "#b8e186"
            ],
            [
             0.8,
             "#7fbc41"
            ],
            [
             0.9,
             "#4d9221"
            ],
            [
             1,
             "#276419"
            ]
           ],
           "sequential": [
            [
             0,
             "#0d0887"
            ],
            [
             0.1111111111111111,
             "#46039f"
            ],
            [
             0.2222222222222222,
             "#7201a8"
            ],
            [
             0.3333333333333333,
             "#9c179e"
            ],
            [
             0.4444444444444444,
             "#bd3786"
            ],
            [
             0.5555555555555556,
             "#d8576b"
            ],
            [
             0.6666666666666666,
             "#ed7953"
            ],
            [
             0.7777777777777778,
             "#fb9f3a"
            ],
            [
             0.8888888888888888,
             "#fdca26"
            ],
            [
             1,
             "#f0f921"
            ]
           ],
           "sequentialminus": [
            [
             0,
             "#0d0887"
            ],
            [
             0.1111111111111111,
             "#46039f"
            ],
            [
             0.2222222222222222,
             "#7201a8"
            ],
            [
             0.3333333333333333,
             "#9c179e"
            ],
            [
             0.4444444444444444,
             "#bd3786"
            ],
            [
             0.5555555555555556,
             "#d8576b"
            ],
            [
             0.6666666666666666,
             "#ed7953"
            ],
            [
             0.7777777777777778,
             "#fb9f3a"
            ],
            [
             0.8888888888888888,
             "#fdca26"
            ],
            [
             1,
             "#f0f921"
            ]
           ]
          },
          "colorway": [
           "#636efa",
           "#EF553B",
           "#00cc96",
           "#ab63fa",
           "#FFA15A",
           "#19d3f3",
           "#FF6692",
           "#B6E880",
           "#FF97FF",
           "#FECB52"
          ],
          "font": {
           "color": "#2a3f5f"
          },
          "geo": {
           "bgcolor": "white",
           "lakecolor": "white",
           "landcolor": "#E5ECF6",
           "showlakes": true,
           "showland": true,
           "subunitcolor": "white"
          },
          "hoverlabel": {
           "align": "left"
          },
          "hovermode": "closest",
          "mapbox": {
           "style": "light"
          },
          "paper_bgcolor": "white",
          "plot_bgcolor": "#E5ECF6",
          "polar": {
           "angularaxis": {
            "gridcolor": "white",
            "linecolor": "white",
            "ticks": ""
           },
           "bgcolor": "#E5ECF6",
           "radialaxis": {
            "gridcolor": "white",
            "linecolor": "white",
            "ticks": ""
           }
          },
          "scene": {
           "xaxis": {
            "backgroundcolor": "#E5ECF6",
            "gridcolor": "white",
            "gridwidth": 2,
            "linecolor": "white",
            "showbackground": true,
            "ticks": "",
            "zerolinecolor": "white"
           },
           "yaxis": {
            "backgroundcolor": "#E5ECF6",
            "gridcolor": "white",
            "gridwidth": 2,
            "linecolor": "white",
            "showbackground": true,
            "ticks": "",
            "zerolinecolor": "white"
           },
           "zaxis": {
            "backgroundcolor": "#E5ECF6",
            "gridcolor": "white",
            "gridwidth": 2,
            "linecolor": "white",
            "showbackground": true,
            "ticks": "",
            "zerolinecolor": "white"
           }
          },
          "shapedefaults": {
           "line": {
            "color": "#2a3f5f"
           }
          },
          "ternary": {
           "aaxis": {
            "gridcolor": "white",
            "linecolor": "white",
            "ticks": ""
           },
           "baxis": {
            "gridcolor": "white",
            "linecolor": "white",
            "ticks": ""
           },
           "bgcolor": "#E5ECF6",
           "caxis": {
            "gridcolor": "white",
            "linecolor": "white",
            "ticks": ""
           }
          },
          "title": {
           "x": 0.05
          },
          "xaxis": {
           "automargin": true,
           "gridcolor": "white",
           "linecolor": "white",
           "ticks": "",
           "title": {
            "standoff": 15
           },
           "zerolinecolor": "white",
           "zerolinewidth": 2
          },
          "yaxis": {
           "automargin": true,
           "gridcolor": "white",
           "linecolor": "white",
           "ticks": "",
           "title": {
            "standoff": 15
           },
           "zerolinecolor": "white",
           "zerolinewidth": 2
          }
         }
        },
        "title": {
         "text": "Pricing Data by Date"
        },
        "xaxis": {
         "title": {
          "text": "Date"
         }
        },
        "yaxis": {
         "title": {
          "text": "Price ($)"
         }
        }
       }
      }
     },
     "metadata": {},
     "output_type": "display_data"
    }
   ],
   "source": [
    "# Create traces\n",
    "miami_example_grouped_fig = go.Figure()\n",
    "miami_example_grouped_fig.add_trace(go.Scatter(x=miami_example_by_pull_time['pull_time'], y=miami_example_by_pull_time['cleaning_fee'],\n",
    "                    mode='lines',\n",
    "                    name='Cleaning Fee'))\n",
    "miami_example_grouped_fig.add_trace(go.Scatter(x=miami_example_by_pull_time['pull_time'], y=miami_example_by_pull_time['service_fee'],\n",
    "                    mode='lines',\n",
    "                    name='Service Fee'))\n",
    "miami_example_grouped_fig.add_trace(go.Scatter(x=miami_example_by_pull_time['pull_time'], y=miami_example_by_pull_time['total_price'],\n",
    "                    mode='lines', \n",
    "                    name='Total Price'))\n",
    "miami_example_grouped_fig.update_layout(title_text=\"Pricing Data by Date\", xaxis_title='Date', yaxis_title='Price ($)')\n",
    "filename = \"newsletter_features/price_data_line_fig_miami_example.png\"\n",
    "miami_example_grouped_fig.write_image(filename, engine='kaleido', width=2000, height=500)\n",
    "miami_example_grouped_fig.show()"
   ]
  },
  {
   "cell_type": "code",
   "execution_count": 9,
   "metadata": {},
   "outputs": [
    {
     "data": {
      "application/vnd.plotly.v1+json": {
       "config": {
        "plotlyServerURL": "https://plot.ly"
       },
       "data": [
        {
         "alignmentgroup": "True",
         "bingroup": "x",
         "hovertemplate": "pull_time=%{x}<br>count=%{y}<extra></extra>",
         "legendgroup": "",
         "marker": {
          "color": "#636efa",
          "pattern": {
           "shape": ""
          }
         },
         "name": "",
         "nbinsx": 50,
         "offsetgroup": "",
         "orientation": "v",
         "showlegend": false,
         "type": "histogram",
         "x": [
          "2022-01-05",
          "2022-01-05",
          "2022-01-05",
          "2022-01-05",
          "2022-01-05",
          "2022-01-05",
          "2022-01-05",
          "2022-01-05",
          "2022-01-05",
          "2022-01-05",
          "2022-01-05",
          "2022-01-05",
          "2022-01-05",
          "2022-01-05",
          "2022-01-05",
          "2022-01-05",
          "2022-01-05",
          "2022-01-05",
          "2022-01-05",
          "2022-01-05",
          "2022-01-05",
          "2022-01-05",
          "2022-01-05",
          "2022-01-05",
          "2022-01-05",
          "2022-01-05",
          "2022-01-05",
          "2022-01-05",
          "2022-01-05",
          "2022-01-05",
          "2022-01-05",
          "2022-01-05",
          "2022-01-05",
          "2022-01-05",
          "2022-01-05",
          "2022-01-05",
          "2022-01-05",
          "2022-01-05",
          "2022-01-05",
          "2022-01-05",
          "2022-01-05",
          "2022-01-05",
          "2022-01-05",
          "2022-01-05",
          "2022-01-05",
          "2022-01-05",
          "2022-01-05",
          "2022-01-05",
          "2022-01-05",
          "2022-01-05",
          "2022-01-05",
          "2022-01-05",
          "2022-01-05",
          "2022-01-05",
          "2022-01-05",
          "2022-01-05",
          "2022-01-05",
          "2022-01-05",
          "2022-01-05",
          "2022-01-05",
          "2022-01-05",
          "2022-01-05",
          "2022-01-05",
          "2022-01-05",
          "2022-01-05",
          "2022-01-05",
          "2022-01-05",
          "2022-01-05",
          "2022-01-05",
          "2022-01-05",
          "2022-01-05",
          "2022-01-05",
          "2022-01-05",
          "2022-01-05",
          "2022-01-05",
          "2022-01-05",
          "2022-01-05",
          "2022-01-05",
          "2022-01-05",
          "2022-01-05",
          "2022-01-05",
          "2022-01-05",
          "2022-01-05",
          "2022-01-05",
          "2022-01-05",
          "2022-01-05",
          "2022-01-05",
          "2022-01-05",
          "2022-01-05",
          "2022-02-05",
          "2022-02-05",
          "2022-02-05",
          "2022-02-05",
          "2022-02-05",
          "2022-02-05",
          "2022-02-05",
          "2022-02-05",
          "2022-02-05",
          "2022-02-05",
          "2022-02-05",
          "2022-02-05",
          "2022-02-05",
          "2022-02-05",
          "2022-02-05",
          "2022-02-05",
          "2022-02-05",
          "2022-02-05",
          "2022-02-05",
          "2022-02-05",
          "2022-02-05",
          "2022-02-05",
          "2022-02-05",
          "2022-02-05",
          "2022-02-05",
          "2022-02-05",
          "2022-02-05",
          "2022-02-05",
          "2022-02-05",
          "2022-02-05",
          "2022-02-05",
          "2022-02-05",
          "2022-02-05",
          "2022-02-05",
          "2022-02-05",
          "2022-02-05",
          "2022-02-05",
          "2022-02-05",
          "2022-02-05",
          "2022-02-05",
          "2022-02-05",
          "2022-02-05",
          "2022-02-05",
          "2022-02-05",
          "2022-02-05",
          "2022-02-05",
          "2022-02-05",
          "2022-02-05",
          "2022-02-05",
          "2022-02-05",
          "2022-02-05",
          "2022-02-05",
          "2022-02-05",
          "2022-02-05",
          "2022-02-05",
          "2022-02-05",
          "2022-02-05",
          "2022-02-05",
          "2022-02-05",
          "2022-02-05",
          "2022-02-05",
          "2022-02-05",
          "2022-02-05",
          "2022-02-05",
          "2022-02-05",
          "2022-02-05",
          "2022-02-05",
          "2022-02-05",
          "2022-02-05",
          "2022-02-05",
          "2022-02-05",
          "2022-02-05",
          "2022-02-05",
          "2022-02-05",
          "2022-02-05",
          "2022-02-05",
          "2022-02-05",
          "2022-02-05",
          "2022-02-05",
          "2022-02-05",
          "2022-02-05",
          "2022-02-05",
          "2022-02-05",
          "2022-02-05",
          "2022-02-05",
          "2022-02-05",
          "2022-02-05",
          "2022-02-05",
          "2022-02-05",
          "2022-03-05",
          "2022-03-05",
          "2022-03-05",
          "2022-03-05",
          "2022-03-05",
          "2022-03-05",
          "2022-03-05",
          "2022-03-05",
          "2022-03-05",
          "2022-03-05",
          "2022-03-05",
          "2022-03-05",
          "2022-03-05",
          "2022-03-05",
          "2022-03-05",
          "2022-03-05",
          "2022-03-05",
          "2022-03-05",
          "2022-03-05",
          "2022-03-05",
          "2022-03-05",
          "2022-03-05",
          "2022-03-05",
          "2022-03-05",
          "2022-03-05",
          "2022-03-05",
          "2022-03-05",
          "2022-03-05",
          "2022-03-05",
          "2022-03-05",
          "2022-03-05",
          "2022-03-05",
          "2022-03-05",
          "2022-03-05",
          "2022-03-05",
          "2022-03-05",
          "2022-03-05",
          "2022-03-05",
          "2022-03-05",
          "2022-03-05",
          "2022-03-05",
          "2022-03-05",
          "2022-03-05",
          "2022-03-05",
          "2022-03-05",
          "2022-03-05",
          "2022-03-05",
          "2022-03-05",
          "2022-03-05",
          "2022-03-05",
          "2022-03-05",
          "2022-03-05",
          "2022-03-05",
          "2022-03-05",
          "2022-03-05",
          "2022-03-05",
          "2022-03-05",
          "2022-03-05",
          "2022-03-05",
          "2022-03-05",
          "2022-03-05",
          "2022-03-05",
          "2022-03-05",
          "2022-03-05",
          "2022-03-05",
          "2022-03-05",
          "2022-03-05",
          "2022-03-05",
          "2022-03-05",
          "2022-03-05",
          "2022-03-05",
          "2022-03-05",
          "2022-03-05",
          "2022-03-05",
          "2022-03-05",
          "2022-03-05",
          "2022-03-05",
          "2022-03-05",
          "2022-03-05",
          "2022-03-05",
          "2022-03-05",
          "2022-03-05",
          "2022-03-05",
          "2022-03-05",
          "2022-03-05",
          "2022-03-05",
          "2022-03-05",
          "2022-03-05",
          "2022-03-05",
          "2022-04-05",
          "2022-04-05",
          "2022-04-05",
          "2022-04-05",
          "2022-04-05",
          "2022-04-05",
          "2022-04-05",
          "2022-04-05",
          "2022-04-05",
          "2022-04-05",
          "2022-04-05",
          "2022-04-05",
          "2022-04-05",
          "2022-04-05",
          "2022-04-05",
          "2022-04-05",
          "2022-04-05",
          "2022-04-05",
          "2022-04-05",
          "2022-04-05",
          "2022-04-05",
          "2022-04-05",
          "2022-04-05",
          "2022-04-05",
          "2022-04-05",
          "2022-04-05",
          "2022-04-05",
          "2022-04-05",
          "2022-04-05",
          "2022-04-05",
          "2022-04-05",
          "2022-04-05",
          "2022-04-05",
          "2022-04-05",
          "2022-04-05",
          "2022-04-05",
          "2022-04-05",
          "2022-04-05",
          "2022-04-05",
          "2022-04-05",
          "2022-04-05",
          "2022-04-05",
          "2022-04-05",
          "2022-04-05",
          "2022-04-05",
          "2022-04-05",
          "2022-04-05",
          "2022-04-05",
          "2022-04-05",
          "2022-04-05",
          "2022-04-05",
          "2022-04-05",
          "2022-04-05",
          "2022-04-05",
          "2022-04-05",
          "2022-04-05",
          "2022-04-05",
          "2022-04-05",
          "2022-04-05",
          "2022-04-05",
          "2022-04-05",
          "2022-04-05",
          "2022-04-05",
          "2022-04-05",
          "2022-04-05",
          "2022-04-05",
          "2022-04-05",
          "2022-04-05",
          "2022-04-05",
          "2022-04-05",
          "2022-04-05",
          "2022-04-05",
          "2022-04-05",
          "2022-04-05",
          "2022-04-05",
          "2022-04-05",
          "2022-04-05",
          "2022-04-05",
          "2022-04-05",
          "2022-04-05",
          "2022-04-05",
          "2022-04-05",
          "2022-04-05",
          "2022-04-05",
          "2022-04-05",
          "2022-04-05",
          "2022-04-05",
          "2022-04-05",
          "2022-04-05",
          "2022-04-18",
          "2022-04-18",
          "2022-04-18",
          "2022-04-18",
          "2022-04-18",
          "2022-04-18",
          "2022-04-18",
          "2022-04-18",
          "2022-04-18",
          "2022-04-19",
          "2022-04-19",
          "2022-04-19",
          "2022-04-19",
          "2022-04-19",
          "2022-04-19",
          "2022-04-19",
          "2022-04-19",
          "2022-04-19",
          "2022-04-19",
          "2022-04-19",
          "2022-04-19",
          "2022-04-19",
          "2022-04-19",
          "2022-04-19",
          "2022-04-19",
          "2022-04-19",
          "2022-04-19",
          "2022-04-19",
          "2022-04-19",
          "2022-04-19",
          "2022-04-19",
          "2022-04-19",
          "2022-04-19",
          "2022-04-19",
          "2022-04-19",
          "2022-04-19",
          "2022-04-19",
          "2022-04-19",
          "2022-04-19",
          "2022-04-19",
          "2022-04-19",
          "2022-04-19",
          "2022-04-19",
          "2022-04-19",
          "2022-04-19",
          "2022-04-19",
          "2022-04-19",
          "2022-04-19",
          "2022-04-19",
          "2022-04-19",
          "2022-04-19",
          "2022-04-19",
          "2022-04-19",
          "2022-04-19",
          "2022-04-19",
          "2022-04-19",
          "2022-04-19",
          "2022-04-19",
          "2022-04-19",
          "2022-04-19",
          "2022-04-19",
          "2022-04-19",
          "2022-04-19",
          "2022-04-19",
          "2022-04-19",
          "2022-04-19",
          "2022-04-19",
          "2022-04-19",
          "2022-04-19",
          "2022-04-19",
          "2022-04-19",
          "2022-04-19",
          "2022-04-19",
          "2022-04-19",
          "2022-04-19",
          "2022-04-19",
          "2022-04-19",
          "2022-04-19",
          "2022-04-19",
          "2022-04-19",
          "2022-04-19",
          "2022-04-19",
          "2022-04-19",
          "2022-04-19",
          "2022-04-19",
          "2022-04-19",
          "2022-04-19",
          "2022-04-19",
          "2022-04-19",
          "2022-04-19",
          "2022-04-19",
          "2022-04-19",
          "2022-04-19",
          "2022-04-19",
          "2022-04-19",
          "2022-04-19",
          "2022-04-19",
          "2022-04-19",
          "2022-04-20",
          "2022-04-20",
          "2022-04-20",
          "2022-04-20",
          "2022-04-20",
          "2022-04-20",
          "2022-04-20",
          "2022-04-20",
          "2022-04-20",
          "2022-04-20",
          "2022-04-20",
          "2022-04-20",
          "2022-04-20",
          "2022-04-20",
          "2022-04-20",
          "2022-04-20",
          "2022-04-20",
          "2022-04-20",
          "2022-04-20",
          "2022-04-20",
          "2022-04-20",
          "2022-04-20",
          "2022-04-20",
          "2022-04-20",
          "2022-04-20",
          "2022-04-20",
          "2022-04-20",
          "2022-04-20",
          "2022-04-20",
          "2022-04-20",
          "2022-04-20",
          "2022-04-20",
          "2022-04-20",
          "2022-04-20",
          "2022-04-20",
          "2022-04-20",
          "2022-04-20",
          "2022-04-20",
          "2022-04-20",
          "2022-04-20",
          "2022-04-20",
          "2022-04-20",
          "2022-04-20",
          "2022-04-20",
          "2022-04-20",
          "2022-04-20",
          "2022-04-20",
          "2022-04-20",
          "2022-04-20",
          "2022-04-20",
          "2022-04-20",
          "2022-04-20",
          "2022-04-20",
          "2022-04-20",
          "2022-04-20",
          "2022-04-20",
          "2022-04-20",
          "2022-04-20",
          "2022-04-20",
          "2022-04-20",
          "2022-04-20",
          "2022-04-20",
          "2022-04-20",
          "2022-04-20",
          "2022-04-20",
          "2022-04-20",
          "2022-04-20",
          "2022-04-20",
          "2022-04-20",
          "2022-04-20",
          "2022-04-20",
          "2022-04-20",
          "2022-04-20",
          "2022-04-20",
          "2022-04-20",
          "2022-04-20",
          "2022-04-20",
          "2022-04-20",
          "2022-04-20",
          "2022-04-20",
          "2022-04-20",
          "2022-04-20",
          "2022-04-20",
          "2022-04-20",
          "2022-04-20",
          "2022-04-20",
          "2022-04-20",
          "2022-04-20",
          "2022-04-20",
          "2022-04-21",
          "2022-04-21",
          "2022-04-21",
          "2022-04-21",
          "2022-04-21",
          "2022-04-21",
          "2022-04-21",
          "2022-04-21",
          "2022-04-21",
          "2022-04-21",
          "2022-04-21",
          "2022-04-21",
          "2022-04-21",
          "2022-04-21",
          "2022-04-21",
          "2022-04-21",
          "2022-04-21",
          "2022-04-21",
          "2022-04-21",
          "2022-04-21",
          "2022-04-21",
          "2022-04-21",
          "2022-04-21",
          "2022-04-21",
          "2022-04-21",
          "2022-04-21",
          "2022-04-21",
          "2022-04-21",
          "2022-04-21",
          "2022-04-21",
          "2022-04-21",
          "2022-04-21",
          "2022-04-21",
          "2022-04-21",
          "2022-04-21",
          "2022-04-21",
          "2022-04-21",
          "2022-04-21",
          "2022-04-21",
          "2022-04-21",
          "2022-04-21",
          "2022-04-21",
          "2022-04-21",
          "2022-04-21",
          "2022-04-21",
          "2022-04-21",
          "2022-04-21",
          "2022-04-21",
          "2022-04-21",
          "2022-04-21",
          "2022-04-21",
          "2022-04-21",
          "2022-04-21",
          "2022-04-21",
          "2022-04-21",
          "2022-04-21",
          "2022-04-21",
          "2022-04-21",
          "2022-04-21",
          "2022-04-21",
          "2022-04-21",
          "2022-04-21",
          "2022-04-21",
          "2022-04-21",
          "2022-04-21",
          "2022-04-21",
          "2022-04-21",
          "2022-04-21",
          "2022-04-21",
          "2022-04-21",
          "2022-04-21",
          "2022-04-21",
          "2022-04-21",
          "2022-04-21",
          "2022-04-21",
          "2022-04-21",
          "2022-04-21",
          "2022-04-21",
          "2022-04-21",
          "2022-04-21",
          "2022-04-21",
          "2022-04-21",
          "2022-04-21",
          "2022-04-21",
          "2022-04-21",
          "2022-04-21",
          "2022-04-21",
          "2022-04-21",
          "2022-04-21",
          "2022-04-22",
          "2022-04-22",
          "2022-04-22",
          "2022-04-22",
          "2022-04-22",
          "2022-04-22",
          "2022-04-22",
          "2022-04-22",
          "2022-04-22",
          "2022-04-22",
          "2022-04-22",
          "2022-04-22",
          "2022-04-22",
          "2022-04-22",
          "2022-04-22",
          "2022-04-22",
          "2022-04-22",
          "2022-04-22",
          "2022-04-22",
          "2022-04-22",
          "2022-04-22",
          "2022-04-22",
          "2022-04-22",
          "2022-04-22",
          "2022-04-22",
          "2022-04-22",
          "2022-04-22",
          "2022-04-22",
          "2022-04-22",
          "2022-04-22",
          "2022-04-22",
          "2022-04-22",
          "2022-04-22",
          "2022-04-22",
          "2022-04-22",
          "2022-04-22",
          "2022-04-22",
          "2022-04-22",
          "2022-04-22",
          "2022-04-22",
          "2022-04-22",
          "2022-04-22",
          "2022-04-22",
          "2022-04-22",
          "2022-04-22",
          "2022-04-22",
          "2022-04-22",
          "2022-04-22",
          "2022-04-22",
          "2022-04-22",
          "2022-04-22",
          "2022-04-22",
          "2022-04-22",
          "2022-04-22",
          "2022-04-22",
          "2022-04-22",
          "2022-04-22",
          "2022-04-22",
          "2022-04-22",
          "2022-04-22",
          "2022-04-22",
          "2022-04-22",
          "2022-04-22",
          "2022-04-22",
          "2022-04-22",
          "2022-04-22",
          "2022-04-22",
          "2022-04-22",
          "2022-04-22",
          "2022-04-22",
          "2022-04-22",
          "2022-04-22",
          "2022-04-22",
          "2022-04-22",
          "2022-04-22",
          "2022-04-22",
          "2022-04-22",
          "2022-04-22",
          "2022-04-22",
          "2022-04-22",
          "2022-04-22",
          "2022-04-22",
          "2022-04-22",
          "2022-04-22",
          "2022-04-22",
          "2022-04-22",
          "2022-04-22",
          "2022-04-22",
          "2022-04-22",
          "2022-04-23",
          "2022-04-23",
          "2022-04-23",
          "2022-04-23",
          "2022-04-23",
          "2022-04-23",
          "2022-04-23",
          "2022-04-23",
          "2022-04-23",
          "2022-04-23",
          "2022-04-23",
          "2022-04-23",
          "2022-04-23",
          "2022-04-23",
          "2022-04-23",
          "2022-04-23",
          "2022-04-23",
          "2022-04-23",
          "2022-04-23",
          "2022-04-23",
          "2022-04-23",
          "2022-04-23",
          "2022-04-23",
          "2022-04-23",
          "2022-04-23",
          "2022-04-23",
          "2022-04-23",
          "2022-04-23",
          "2022-04-23",
          "2022-04-23",
          "2022-04-23",
          "2022-04-23",
          "2022-04-23",
          "2022-04-23",
          "2022-04-23",
          "2022-04-23",
          "2022-04-23",
          "2022-04-23",
          "2022-04-23",
          "2022-04-23",
          "2022-04-23",
          "2022-04-23",
          "2022-04-23",
          "2022-04-23",
          "2022-04-23",
          "2022-04-23",
          "2022-04-23",
          "2022-04-23",
          "2022-04-23",
          "2022-04-23",
          "2022-04-23",
          "2022-04-23",
          "2022-04-23",
          "2022-04-23",
          "2022-04-23",
          "2022-04-23",
          "2022-04-23",
          "2022-04-23",
          "2022-04-23",
          "2022-04-23",
          "2022-04-23",
          "2022-04-23",
          "2022-04-23",
          "2022-04-23",
          "2022-04-23",
          "2022-04-23",
          "2022-04-23",
          "2022-04-23",
          "2022-04-23",
          "2022-04-23",
          "2022-04-23",
          "2022-04-23",
          "2022-04-23",
          "2022-04-23",
          "2022-04-23",
          "2022-04-23",
          "2022-04-23",
          "2022-04-23",
          "2022-04-23",
          "2022-04-23",
          "2022-04-23",
          "2022-04-23",
          "2022-04-23",
          "2022-04-23",
          "2022-04-23",
          "2022-04-23",
          "2022-04-23",
          "2022-04-23",
          "2022-04-23",
          "2022-04-24",
          "2022-04-24",
          "2022-04-24",
          "2022-04-24",
          "2022-04-24",
          "2022-04-24",
          "2022-04-24",
          "2022-04-24",
          "2022-04-24",
          "2022-04-24",
          "2022-04-24",
          "2022-04-24",
          "2022-04-24",
          "2022-04-24",
          "2022-04-24",
          "2022-04-24",
          "2022-04-24",
          "2022-04-24",
          "2022-04-24",
          "2022-04-24",
          "2022-04-24",
          "2022-04-24",
          "2022-04-24",
          "2022-04-24",
          "2022-04-24",
          "2022-04-24",
          "2022-04-24",
          "2022-04-24",
          "2022-04-24",
          "2022-04-24",
          "2022-04-24",
          "2022-04-24",
          "2022-04-24",
          "2022-04-24",
          "2022-04-24",
          "2022-04-24",
          "2022-04-24",
          "2022-04-24",
          "2022-04-24",
          "2022-04-24",
          "2022-04-24",
          "2022-04-24",
          "2022-04-24",
          "2022-04-24",
          "2022-04-24",
          "2022-04-24",
          "2022-04-24",
          "2022-04-24",
          "2022-04-24",
          "2022-04-24",
          "2022-04-24",
          "2022-04-24",
          "2022-04-24",
          "2022-04-24",
          "2022-04-24",
          "2022-04-24",
          "2022-04-24",
          "2022-04-24",
          "2022-04-24",
          "2022-04-24",
          "2022-04-24",
          "2022-04-24",
          "2022-04-24",
          "2022-04-24",
          "2022-04-24",
          "2022-04-24",
          "2022-04-24",
          "2022-04-24",
          "2022-04-24",
          "2022-04-24",
          "2022-04-24",
          "2022-04-24",
          "2022-04-24",
          "2022-04-24",
          "2022-04-24",
          "2022-04-24",
          "2022-04-24",
          "2022-04-24",
          "2022-04-24",
          "2022-04-24",
          "2022-04-24",
          "2022-04-24",
          "2022-04-24",
          "2022-04-24",
          "2022-04-24",
          "2022-04-24",
          "2022-04-24",
          "2022-04-24",
          "2022-04-24",
          "2022-04-27",
          "2022-04-27",
          "2022-04-27",
          "2022-04-27",
          "2022-04-27",
          "2022-04-27",
          "2022-04-27",
          "2022-04-27",
          "2022-04-27",
          "2022-04-27",
          "2022-04-27",
          "2022-04-27",
          "2022-04-27",
          "2022-04-27",
          "2022-04-27",
          "2022-04-27",
          "2022-04-27",
          "2022-04-27",
          "2022-04-27",
          "2022-04-27",
          "2022-04-27",
          "2022-04-27",
          "2022-04-27",
          "2022-04-27",
          "2022-04-27",
          "2022-04-27",
          "2022-04-27",
          "2022-04-27",
          "2022-04-27",
          "2022-04-27",
          "2022-04-27",
          "2022-04-27",
          "2022-04-27",
          "2022-04-27",
          "2022-04-27",
          "2022-04-27",
          "2022-04-27",
          "2022-04-27",
          "2022-04-27",
          "2022-04-27",
          "2022-04-27",
          "2022-04-27",
          "2022-04-27",
          "2022-04-27",
          "2022-04-27",
          "2022-04-27",
          "2022-04-27",
          "2022-04-27",
          "2022-04-27",
          "2022-04-27",
          "2022-04-27",
          "2022-04-27",
          "2022-04-27",
          "2022-04-27",
          "2022-04-27",
          "2022-04-27",
          "2022-04-27",
          "2022-04-27",
          "2022-04-27",
          "2022-04-27",
          "2022-04-27",
          "2022-04-27",
          "2022-04-27",
          "2022-04-27",
          "2022-04-27",
          "2022-04-27",
          "2022-04-27",
          "2022-04-27",
          "2022-04-27",
          "2022-04-27",
          "2022-04-27",
          "2022-04-27",
          "2022-04-27",
          "2022-04-27",
          "2022-04-27",
          "2022-04-27",
          "2022-04-27",
          "2022-04-27",
          "2022-04-27",
          "2022-04-27",
          "2022-04-27",
          "2022-04-27",
          "2022-04-27",
          "2022-04-27",
          "2022-04-27",
          "2022-04-27",
          "2022-04-27",
          "2022-04-27",
          "2022-04-27",
          "2022-04-28",
          "2022-04-28",
          "2022-04-28",
          "2022-04-28",
          "2022-04-28",
          "2022-04-28",
          "2022-04-28",
          "2022-04-28",
          "2022-04-28",
          "2022-04-28",
          "2022-04-28",
          "2022-04-28",
          "2022-04-28",
          "2022-04-28",
          "2022-04-28",
          "2022-04-28",
          "2022-04-28",
          "2022-04-28",
          "2022-04-28",
          "2022-04-28",
          "2022-04-28",
          "2022-04-28",
          "2022-04-28",
          "2022-04-28",
          "2022-04-28",
          "2022-04-28",
          "2022-04-28",
          "2022-04-28",
          "2022-04-28",
          "2022-04-28",
          "2022-04-28",
          "2022-04-28",
          "2022-04-28",
          "2022-04-28",
          "2022-04-28",
          "2022-04-28",
          "2022-04-28",
          "2022-04-28",
          "2022-04-28",
          "2022-04-28",
          "2022-04-28",
          "2022-04-28",
          "2022-04-28",
          "2022-04-28",
          "2022-04-28",
          "2022-04-28",
          "2022-04-28",
          "2022-04-28",
          "2022-04-28",
          "2022-04-28",
          "2022-04-28",
          "2022-04-28",
          "2022-04-28",
          "2022-04-28",
          "2022-04-28",
          "2022-04-28",
          "2022-04-28",
          "2022-04-28",
          "2022-04-28",
          "2022-04-28",
          "2022-04-28",
          "2022-04-28",
          "2022-04-28",
          "2022-04-28",
          "2022-04-28",
          "2022-04-28",
          "2022-04-28",
          "2022-04-28",
          "2022-04-28",
          "2022-04-28",
          "2022-04-28",
          "2022-04-28",
          "2022-04-28",
          "2022-04-28",
          "2022-04-28",
          "2022-04-28",
          "2022-04-28",
          "2022-04-28",
          "2022-04-28",
          "2022-04-28",
          "2022-04-28",
          "2022-04-28",
          "2022-04-28",
          "2022-04-28",
          "2022-04-28",
          "2022-04-28",
          "2022-04-28",
          "2022-04-28",
          "2022-04-28",
          "2022-04-29",
          "2022-04-29",
          "2022-04-29",
          "2022-04-29",
          "2022-04-29",
          "2022-04-29",
          "2022-04-29",
          "2022-04-29",
          "2022-04-29",
          "2022-04-29",
          "2022-04-29",
          "2022-04-29",
          "2022-04-29",
          "2022-04-29",
          "2022-04-29",
          "2022-04-29",
          "2022-04-29",
          "2022-04-29",
          "2022-04-29",
          "2022-04-29",
          "2022-04-29",
          "2022-04-29",
          "2022-04-29",
          "2022-04-29",
          "2022-04-29",
          "2022-04-29",
          "2022-04-29",
          "2022-04-29",
          "2022-04-29",
          "2022-04-29",
          "2022-04-29",
          "2022-04-29",
          "2022-04-29",
          "2022-04-29",
          "2022-04-29",
          "2022-04-29",
          "2022-04-29",
          "2022-04-29",
          "2022-04-29",
          "2022-04-29",
          "2022-04-29",
          "2022-04-29",
          "2022-04-29",
          "2022-04-29",
          "2022-04-29",
          "2022-04-29",
          "2022-04-29",
          "2022-04-29",
          "2022-04-29",
          "2022-04-29",
          "2022-04-29",
          "2022-04-29",
          "2022-04-29",
          "2022-04-29",
          "2022-04-29",
          "2022-04-29",
          "2022-04-29",
          "2022-04-29",
          "2022-04-29",
          "2022-04-29",
          "2022-04-29",
          "2022-04-29",
          "2022-04-29",
          "2022-04-29",
          "2022-04-29",
          "2022-04-29",
          "2022-04-29",
          "2022-04-29",
          "2022-04-29",
          "2022-04-29",
          "2022-04-29",
          "2022-04-29",
          "2022-04-29",
          "2022-04-29",
          "2022-04-29",
          "2022-04-29",
          "2022-04-29",
          "2022-04-29",
          "2022-04-29",
          "2022-04-29",
          "2022-04-29",
          "2022-04-29",
          "2022-04-29",
          "2022-04-29",
          "2022-04-29",
          "2022-04-29",
          "2022-04-29",
          "2022-04-29",
          "2022-04-29",
          "2022-04-30",
          "2022-04-30",
          "2022-04-30",
          "2022-04-30",
          "2022-04-30",
          "2022-04-30",
          "2022-04-30",
          "2022-04-30",
          "2022-04-30",
          "2022-04-30",
          "2022-04-30",
          "2022-04-30",
          "2022-04-30",
          "2022-04-30",
          "2022-04-30",
          "2022-04-30",
          "2022-04-30",
          "2022-04-30",
          "2022-04-30",
          "2022-04-30",
          "2022-04-30",
          "2022-04-30",
          "2022-04-30",
          "2022-04-30",
          "2022-04-30",
          "2022-04-30",
          "2022-04-30",
          "2022-04-30",
          "2022-04-30",
          "2022-04-30",
          "2022-04-30",
          "2022-04-30",
          "2022-04-30",
          "2022-04-30",
          "2022-04-30",
          "2022-04-30",
          "2022-04-30",
          "2022-04-30",
          "2022-04-30",
          "2022-04-30",
          "2022-04-30",
          "2022-04-30",
          "2022-04-30",
          "2022-04-30",
          "2022-04-30",
          "2022-04-30",
          "2022-04-30",
          "2022-04-30",
          "2022-04-30",
          "2022-04-30",
          "2022-04-30",
          "2022-04-30",
          "2022-04-30",
          "2022-04-30",
          "2022-04-30",
          "2022-04-30",
          "2022-04-30",
          "2022-04-30",
          "2022-04-30",
          "2022-04-30",
          "2022-04-30",
          "2022-04-30",
          "2022-04-30",
          "2022-04-30",
          "2022-04-30",
          "2022-04-30",
          "2022-04-30",
          "2022-04-30",
          "2022-04-30",
          "2022-04-30",
          "2022-04-30",
          "2022-04-30",
          "2022-04-30",
          "2022-04-30",
          "2022-04-30",
          "2022-04-30",
          "2022-04-30",
          "2022-04-30",
          "2022-04-30",
          "2022-04-30",
          "2022-04-30",
          "2022-04-30",
          "2022-04-30",
          "2022-04-30",
          "2022-04-30",
          "2022-04-30",
          "2022-04-30",
          "2022-04-30",
          "2022-04-30",
          "2022-05-05",
          "2022-05-05",
          "2022-05-05",
          "2022-05-05",
          "2022-05-05",
          "2022-05-05",
          "2022-05-05",
          "2022-05-05",
          "2022-05-05",
          "2022-05-05",
          "2022-05-05",
          "2022-05-05",
          "2022-05-05",
          "2022-05-05",
          "2022-05-05",
          "2022-05-05",
          "2022-05-05",
          "2022-05-05",
          "2022-05-05",
          "2022-05-05",
          "2022-05-05",
          "2022-05-05",
          "2022-05-05",
          "2022-05-05",
          "2022-05-05",
          "2022-05-05",
          "2022-05-05",
          "2022-05-05",
          "2022-05-05",
          "2022-05-05",
          "2022-05-05",
          "2022-05-05",
          "2022-05-05",
          "2022-05-05",
          "2022-05-05",
          "2022-05-05",
          "2022-05-05",
          "2022-05-05",
          "2022-05-05",
          "2022-05-05",
          "2022-05-05",
          "2022-05-05",
          "2022-05-05",
          "2022-05-05",
          "2022-05-05",
          "2022-05-05",
          "2022-05-05",
          "2022-05-05",
          "2022-05-05",
          "2022-05-05",
          "2022-05-05",
          "2022-05-05",
          "2022-05-05",
          "2022-05-05",
          "2022-05-05",
          "2022-05-05",
          "2022-05-05",
          "2022-05-05",
          "2022-05-05",
          "2022-05-05",
          "2022-05-05",
          "2022-05-05",
          "2022-05-05",
          "2022-05-05",
          "2022-05-05",
          "2022-05-05",
          "2022-05-05",
          "2022-05-05",
          "2022-05-05",
          "2022-05-05",
          "2022-05-05",
          "2022-05-05",
          "2022-05-05",
          "2022-05-05",
          "2022-05-05",
          "2022-05-05",
          "2022-05-05",
          "2022-05-05",
          "2022-05-05",
          "2022-05-05",
          "2022-05-05",
          "2022-05-05",
          "2022-05-05",
          "2022-05-05",
          "2022-05-05",
          "2022-05-05",
          "2022-05-05",
          "2022-05-05",
          "2022-05-05",
          "2022-05-13",
          "2022-05-13",
          "2022-05-13",
          "2022-05-13",
          "2022-05-13",
          "2022-05-13",
          "2022-05-13",
          "2022-05-13",
          "2022-05-13",
          "2022-05-13",
          "2022-05-13",
          "2022-05-13",
          "2022-05-13",
          "2022-05-13",
          "2022-05-13",
          "2022-05-13",
          "2022-05-13",
          "2022-05-13",
          "2022-05-13",
          "2022-05-13",
          "2022-05-13",
          "2022-05-13",
          "2022-05-13",
          "2022-05-13",
          "2022-05-13",
          "2022-05-13",
          "2022-05-13",
          "2022-05-13",
          "2022-05-13",
          "2022-05-13",
          "2022-05-13",
          "2022-05-13",
          "2022-05-13",
          "2022-05-13",
          "2022-05-13",
          "2022-05-13",
          "2022-05-13",
          "2022-05-13",
          "2022-05-13",
          "2022-05-13",
          "2022-05-13",
          "2022-05-13",
          "2022-05-13",
          "2022-05-13",
          "2022-05-13",
          "2022-05-13",
          "2022-05-13",
          "2022-05-13",
          "2022-05-13",
          "2022-05-13",
          "2022-05-13",
          "2022-05-13",
          "2022-05-13",
          "2022-05-13",
          "2022-05-13",
          "2022-05-13",
          "2022-05-13",
          "2022-05-13",
          "2022-05-13",
          "2022-05-13",
          "2022-05-13",
          "2022-05-13",
          "2022-05-13",
          "2022-05-13",
          "2022-05-13",
          "2022-05-13",
          "2022-05-13",
          "2022-05-13",
          "2022-05-13",
          "2022-05-13",
          "2022-05-13",
          "2022-05-13",
          "2022-05-13",
          "2022-05-13",
          "2022-05-13",
          "2022-05-13",
          "2022-05-13",
          "2022-05-13",
          "2022-05-13",
          "2022-05-13",
          "2022-05-13",
          "2022-05-13",
          "2022-05-13",
          "2022-05-13",
          "2022-05-13",
          "2022-05-13",
          "2022-05-13",
          "2022-05-13",
          "2022-05-13",
          "2022-05-14",
          "2022-05-14",
          "2022-05-14",
          "2022-05-14",
          "2022-05-14",
          "2022-05-14",
          "2022-05-14",
          "2022-05-14",
          "2022-05-14",
          "2022-05-14",
          "2022-05-14",
          "2022-05-14",
          "2022-05-14",
          "2022-05-14",
          "2022-05-14",
          "2022-05-14",
          "2022-05-14",
          "2022-05-14",
          "2022-05-14",
          "2022-05-14",
          "2022-05-14",
          "2022-05-14",
          "2022-05-14",
          "2022-05-14",
          "2022-05-14",
          "2022-05-14",
          "2022-05-14",
          "2022-05-14",
          "2022-05-14",
          "2022-05-14",
          "2022-05-14",
          "2022-05-14",
          "2022-05-14",
          "2022-05-14",
          "2022-05-14",
          "2022-05-14",
          "2022-05-14",
          "2022-05-14",
          "2022-05-14",
          "2022-05-14",
          "2022-05-14",
          "2022-05-14",
          "2022-05-14",
          "2022-05-14",
          "2022-05-14",
          "2022-05-14",
          "2022-05-14",
          "2022-05-14",
          "2022-05-14",
          "2022-05-14",
          "2022-05-14",
          "2022-05-14",
          "2022-05-14",
          "2022-05-14",
          "2022-05-14",
          "2022-05-14",
          "2022-05-14",
          "2022-05-14",
          "2022-05-14",
          "2022-05-14",
          "2022-05-14",
          "2022-05-14",
          "2022-05-14",
          "2022-05-14",
          "2022-05-14",
          "2022-05-14",
          "2022-05-14",
          "2022-05-14",
          "2022-05-14",
          "2022-05-14",
          "2022-05-14",
          "2022-05-14",
          "2022-05-14",
          "2022-05-14",
          "2022-05-14",
          "2022-05-14",
          "2022-05-14",
          "2022-05-14",
          "2022-05-14",
          "2022-05-14",
          "2022-05-14",
          "2022-05-14",
          "2022-05-14",
          "2022-05-14",
          "2022-05-14",
          "2022-05-14",
          "2022-05-14",
          "2022-05-14",
          "2022-05-14",
          "2022-05-15",
          "2022-05-15",
          "2022-05-15",
          "2022-05-15",
          "2022-05-15",
          "2022-05-15",
          "2022-05-15",
          "2022-05-15",
          "2022-05-15",
          "2022-05-15",
          "2022-05-15",
          "2022-05-15",
          "2022-05-15",
          "2022-05-15",
          "2022-05-15",
          "2022-05-15",
          "2022-05-15",
          "2022-05-15",
          "2022-05-15",
          "2022-05-15",
          "2022-05-15",
          "2022-05-15",
          "2022-05-15",
          "2022-05-15",
          "2022-05-15",
          "2022-05-15",
          "2022-05-15",
          "2022-05-15",
          "2022-05-15",
          "2022-05-15",
          "2022-05-15",
          "2022-05-15",
          "2022-05-15",
          "2022-05-15",
          "2022-05-15",
          "2022-05-15",
          "2022-05-15",
          "2022-05-15",
          "2022-05-15",
          "2022-05-15",
          "2022-05-15",
          "2022-05-15",
          "2022-05-15",
          "2022-05-15",
          "2022-05-15",
          "2022-05-15",
          "2022-05-15",
          "2022-05-15",
          "2022-05-15",
          "2022-05-15",
          "2022-05-15",
          "2022-05-15",
          "2022-05-15",
          "2022-05-15",
          "2022-05-15",
          "2022-05-15",
          "2022-05-15",
          "2022-05-15",
          "2022-05-15",
          "2022-05-15",
          "2022-05-15",
          "2022-05-15",
          "2022-05-15",
          "2022-05-15",
          "2022-05-15",
          "2022-05-15",
          "2022-05-15",
          "2022-05-15",
          "2022-05-15",
          "2022-05-15",
          "2022-05-15",
          "2022-05-15",
          "2022-05-15",
          "2022-05-15",
          "2022-05-15",
          "2022-05-15",
          "2022-05-15",
          "2022-05-15",
          "2022-05-15",
          "2022-05-15",
          "2022-05-15",
          "2022-05-15",
          "2022-05-15",
          "2022-05-15",
          "2022-05-15",
          "2022-05-15",
          "2022-05-15",
          "2022-05-15",
          "2022-05-15",
          "2022-05-16",
          "2022-05-16",
          "2022-05-16",
          "2022-05-16",
          "2022-05-16",
          "2022-05-16",
          "2022-05-16",
          "2022-05-16",
          "2022-05-16",
          "2022-05-16",
          "2022-05-16",
          "2022-05-16",
          "2022-05-16",
          "2022-05-16",
          "2022-05-16",
          "2022-05-16",
          "2022-05-16",
          "2022-05-16",
          "2022-05-16",
          "2022-05-16",
          "2022-05-16",
          "2022-05-16",
          "2022-05-16",
          "2022-05-16",
          "2022-05-16",
          "2022-05-16",
          "2022-05-16",
          "2022-05-16",
          "2022-05-16",
          "2022-05-16",
          "2022-05-16",
          "2022-05-16",
          "2022-05-16",
          "2022-05-16",
          "2022-05-16",
          "2022-05-16",
          "2022-05-16",
          "2022-05-16",
          "2022-05-16",
          "2022-05-16",
          "2022-05-16",
          "2022-05-16",
          "2022-05-16",
          "2022-05-16",
          "2022-05-16",
          "2022-05-16",
          "2022-05-16",
          "2022-05-16",
          "2022-05-16",
          "2022-05-16",
          "2022-05-16",
          "2022-05-16",
          "2022-05-16",
          "2022-05-16",
          "2022-05-16",
          "2022-05-16",
          "2022-05-16",
          "2022-05-16",
          "2022-05-16",
          "2022-05-16",
          "2022-05-16",
          "2022-05-16",
          "2022-05-16",
          "2022-05-16",
          "2022-05-16",
          "2022-05-16",
          "2022-05-16",
          "2022-05-16",
          "2022-05-16",
          "2022-05-16",
          "2022-05-16",
          "2022-05-16",
          "2022-05-16",
          "2022-05-16",
          "2022-05-16",
          "2022-05-16",
          "2022-05-16",
          "2022-05-16",
          "2022-05-16",
          "2022-05-16",
          "2022-05-16",
          "2022-05-16",
          "2022-05-16",
          "2022-05-16",
          "2022-05-16",
          "2022-05-16",
          "2022-05-16",
          "2022-05-16",
          "2022-05-16",
          "2022-05-17",
          "2022-05-17",
          "2022-05-17",
          "2022-05-17",
          "2022-05-17",
          "2022-05-17",
          "2022-05-17",
          "2022-05-17",
          "2022-05-17",
          "2022-05-17",
          "2022-05-17",
          "2022-05-17",
          "2022-05-17",
          "2022-05-17",
          "2022-05-17",
          "2022-05-17",
          "2022-05-17",
          "2022-05-17",
          "2022-05-17",
          "2022-05-17",
          "2022-05-17",
          "2022-05-17",
          "2022-05-17",
          "2022-05-17",
          "2022-05-17",
          "2022-05-17",
          "2022-05-17",
          "2022-05-17",
          "2022-05-17",
          "2022-05-17",
          "2022-05-17",
          "2022-05-17",
          "2022-05-17",
          "2022-05-17",
          "2022-05-17",
          "2022-05-17",
          "2022-05-17",
          "2022-05-17",
          "2022-05-17",
          "2022-05-17",
          "2022-05-17",
          "2022-05-17",
          "2022-05-17",
          "2022-05-17",
          "2022-05-17",
          "2022-05-17",
          "2022-05-17",
          "2022-05-17",
          "2022-05-17",
          "2022-05-17",
          "2022-05-17",
          "2022-05-17",
          "2022-05-17",
          "2022-05-17",
          "2022-05-17",
          "2022-05-17",
          "2022-05-17",
          "2022-05-17",
          "2022-05-17",
          "2022-05-17",
          "2022-05-17",
          "2022-05-17",
          "2022-05-17",
          "2022-05-17",
          "2022-05-17",
          "2022-05-17",
          "2022-05-17",
          "2022-05-17",
          "2022-05-17",
          "2022-05-17",
          "2022-05-17",
          "2022-05-17",
          "2022-05-17",
          "2022-05-17",
          "2022-05-17",
          "2022-05-17",
          "2022-05-17",
          "2022-05-17",
          "2022-05-17",
          "2022-05-17",
          "2022-05-17",
          "2022-05-17",
          "2022-05-17",
          "2022-05-17",
          "2022-05-17",
          "2022-05-17",
          "2022-05-17",
          "2022-05-17",
          "2022-05-17",
          "2022-05-18",
          "2022-05-18",
          "2022-05-18",
          "2022-05-18",
          "2022-05-18",
          "2022-05-18",
          "2022-05-18",
          "2022-05-18",
          "2022-05-18",
          "2022-05-18",
          "2022-05-18",
          "2022-05-18",
          "2022-05-18",
          "2022-05-18",
          "2022-05-18",
          "2022-05-18",
          "2022-05-18",
          "2022-05-18",
          "2022-05-18",
          "2022-05-18",
          "2022-05-18",
          "2022-05-18",
          "2022-05-18",
          "2022-05-18",
          "2022-05-18",
          "2022-05-18",
          "2022-05-18",
          "2022-05-18",
          "2022-05-18",
          "2022-05-18",
          "2022-05-18",
          "2022-05-18",
          "2022-05-18",
          "2022-05-18",
          "2022-05-18",
          "2022-05-18",
          "2022-05-18",
          "2022-05-18",
          "2022-05-18",
          "2022-05-18",
          "2022-05-18",
          "2022-05-18",
          "2022-05-18",
          "2022-05-18",
          "2022-05-18",
          "2022-05-18",
          "2022-05-18",
          "2022-05-18",
          "2022-05-18",
          "2022-05-18",
          "2022-05-18",
          "2022-05-18",
          "2022-05-18",
          "2022-05-18",
          "2022-05-18",
          "2022-05-18",
          "2022-05-18",
          "2022-05-18",
          "2022-05-18",
          "2022-05-18",
          "2022-05-18",
          "2022-05-18",
          "2022-05-18",
          "2022-05-18",
          "2022-05-18",
          "2022-05-18",
          "2022-05-18",
          "2022-05-18",
          "2022-05-18",
          "2022-05-18",
          "2022-05-18",
          "2022-05-18",
          "2022-05-18",
          "2022-05-18",
          "2022-05-18",
          "2022-05-18",
          "2022-05-18",
          "2022-05-18",
          "2022-05-18",
          "2022-05-18",
          "2022-05-18",
          "2022-05-18",
          "2022-05-18",
          "2022-05-18",
          "2022-05-18",
          "2022-05-18",
          "2022-05-18",
          "2022-05-18",
          "2022-05-18",
          "2022-06-05",
          "2022-06-05",
          "2022-06-05",
          "2022-06-05",
          "2022-06-05",
          "2022-06-05",
          "2022-06-05",
          "2022-06-05",
          "2022-06-05",
          "2022-06-05",
          "2022-06-05",
          "2022-06-05",
          "2022-06-05",
          "2022-06-05",
          "2022-06-05",
          "2022-06-05",
          "2022-06-05",
          "2022-06-05",
          "2022-06-05",
          "2022-06-05",
          "2022-06-05",
          "2022-06-05",
          "2022-06-05",
          "2022-06-05",
          "2022-06-05",
          "2022-06-05",
          "2022-06-05",
          "2022-06-05",
          "2022-06-05",
          "2022-06-05",
          "2022-06-05",
          "2022-06-05",
          "2022-06-05",
          "2022-06-05",
          "2022-06-05",
          "2022-06-05",
          "2022-06-05",
          "2022-06-05",
          "2022-06-05",
          "2022-06-05",
          "2022-06-05",
          "2022-06-05",
          "2022-06-05",
          "2022-06-05",
          "2022-06-05",
          "2022-06-05",
          "2022-06-05",
          "2022-06-05",
          "2022-06-05",
          "2022-06-05",
          "2022-06-05",
          "2022-06-05",
          "2022-06-05",
          "2022-06-05",
          "2022-06-05",
          "2022-06-05",
          "2022-06-05",
          "2022-06-05",
          "2022-06-05",
          "2022-06-05",
          "2022-06-05",
          "2022-06-05",
          "2022-06-05",
          "2022-06-05",
          "2022-06-05",
          "2022-06-05",
          "2022-06-05",
          "2022-06-05",
          "2022-06-05",
          "2022-06-05",
          "2022-06-05",
          "2022-06-05",
          "2022-06-05",
          "2022-06-05",
          "2022-06-05",
          "2022-06-05",
          "2022-06-05",
          "2022-06-05",
          "2022-06-05",
          "2022-06-05",
          "2022-06-05",
          "2022-06-05",
          "2022-06-05",
          "2022-06-05",
          "2022-06-05",
          "2022-06-05",
          "2022-06-05",
          "2022-06-05",
          "2022-06-05",
          "2022-07-05",
          "2022-07-05",
          "2022-07-05",
          "2022-07-05",
          "2022-07-05",
          "2022-07-05",
          "2022-07-05",
          "2022-07-05",
          "2022-07-05",
          "2022-07-05",
          "2022-07-05",
          "2022-07-05",
          "2022-07-05",
          "2022-07-05",
          "2022-07-05",
          "2022-07-05",
          "2022-07-05",
          "2022-07-05",
          "2022-07-05",
          "2022-07-05",
          "2022-07-05",
          "2022-07-05",
          "2022-07-05",
          "2022-07-05",
          "2022-07-05",
          "2022-07-05",
          "2022-07-05",
          "2022-07-05",
          "2022-07-05",
          "2022-07-05",
          "2022-07-05",
          "2022-07-05",
          "2022-07-05",
          "2022-07-05",
          "2022-07-05",
          "2022-07-05",
          "2022-07-05",
          "2022-07-05",
          "2022-07-05",
          "2022-07-05",
          "2022-07-05",
          "2022-07-05",
          "2022-07-05",
          "2022-07-05",
          "2022-07-05",
          "2022-07-05",
          "2022-07-05",
          "2022-07-05",
          "2022-07-05",
          "2022-07-05",
          "2022-07-05",
          "2022-07-05",
          "2022-07-05",
          "2022-07-05",
          "2022-07-05",
          "2022-07-05",
          "2022-07-05",
          "2022-07-05",
          "2022-07-05",
          "2022-07-05",
          "2022-07-05",
          "2022-07-05",
          "2022-07-05",
          "2022-07-05",
          "2022-07-05",
          "2022-07-05",
          "2022-07-05",
          "2022-07-05",
          "2022-07-05",
          "2022-07-05",
          "2022-07-05",
          "2022-07-05",
          "2022-07-05",
          "2022-07-05",
          "2022-07-05",
          "2022-07-05",
          "2022-07-05",
          "2022-07-05",
          "2022-07-05",
          "2022-07-05",
          "2022-07-05",
          "2022-07-05",
          "2022-07-05",
          "2022-07-05",
          "2022-07-05",
          "2022-07-05",
          "2022-07-05",
          "2022-07-05",
          "2022-07-05",
          "2022-08-05",
          "2022-08-05",
          "2022-08-05",
          "2022-08-05",
          "2022-08-05",
          "2022-08-05",
          "2022-08-05",
          "2022-08-05",
          "2022-08-05",
          "2022-08-05",
          "2022-08-05",
          "2022-08-05",
          "2022-08-05",
          "2022-08-05",
          "2022-08-05",
          "2022-08-05",
          "2022-08-05",
          "2022-08-05",
          "2022-08-05",
          "2022-08-05",
          "2022-08-05",
          "2022-08-05",
          "2022-08-05",
          "2022-08-05",
          "2022-08-05",
          "2022-08-05",
          "2022-08-05",
          "2022-08-05",
          "2022-08-05",
          "2022-08-05",
          "2022-08-05",
          "2022-08-05",
          "2022-08-05",
          "2022-08-05",
          "2022-08-05",
          "2022-08-05",
          "2022-08-05",
          "2022-08-05",
          "2022-08-05",
          "2022-08-05",
          "2022-08-05",
          "2022-08-05",
          "2022-08-05",
          "2022-08-05",
          "2022-08-05",
          "2022-08-05",
          "2022-08-05",
          "2022-08-05",
          "2022-08-05",
          "2022-08-05",
          "2022-08-05",
          "2022-08-05",
          "2022-08-05",
          "2022-08-05",
          "2022-08-05",
          "2022-08-05",
          "2022-08-05",
          "2022-08-05",
          "2022-08-05",
          "2022-08-05",
          "2022-08-05",
          "2022-08-05",
          "2022-08-05",
          "2022-08-05",
          "2022-08-05",
          "2022-08-05",
          "2022-08-05",
          "2022-08-05",
          "2022-08-05",
          "2022-08-05",
          "2022-08-05",
          "2022-08-05",
          "2022-08-05",
          "2022-08-05",
          "2022-08-05",
          "2022-08-05",
          "2022-08-05",
          "2022-08-05",
          "2022-08-05",
          "2022-08-05",
          "2022-08-05",
          "2022-08-05",
          "2022-08-05",
          "2022-08-05",
          "2022-08-05",
          "2022-08-05",
          "2022-08-05",
          "2022-08-05",
          "2022-08-05",
          "2022-09-05",
          "2022-09-05",
          "2022-09-05",
          "2022-09-05",
          "2022-09-05",
          "2022-09-05",
          "2022-09-05",
          "2022-09-05",
          "2022-09-05",
          "2022-09-05",
          "2022-09-05",
          "2022-09-05",
          "2022-09-05",
          "2022-09-05",
          "2022-09-05",
          "2022-09-05",
          "2022-09-05",
          "2022-09-05",
          "2022-09-05",
          "2022-09-05",
          "2022-09-05",
          "2022-09-05",
          "2022-09-05",
          "2022-09-05",
          "2022-09-05",
          "2022-09-05",
          "2022-09-05",
          "2022-09-05",
          "2022-09-05",
          "2022-09-05",
          "2022-09-05",
          "2022-09-05",
          "2022-09-05",
          "2022-09-05",
          "2022-09-05",
          "2022-09-05",
          "2022-09-05",
          "2022-09-05",
          "2022-09-05",
          "2022-09-05",
          "2022-09-05",
          "2022-09-05",
          "2022-09-05",
          "2022-09-05",
          "2022-09-05",
          "2022-09-05",
          "2022-09-05",
          "2022-09-05",
          "2022-09-05",
          "2022-09-05",
          "2022-09-05",
          "2022-09-05",
          "2022-09-05",
          "2022-09-05",
          "2022-09-05",
          "2022-09-05",
          "2022-09-05",
          "2022-09-05",
          "2022-09-05",
          "2022-09-05",
          "2022-09-05",
          "2022-09-05",
          "2022-09-05",
          "2022-09-05",
          "2022-09-05",
          "2022-09-05",
          "2022-09-05",
          "2022-09-05",
          "2022-09-05",
          "2022-09-05",
          "2022-09-05",
          "2022-09-05",
          "2022-09-05",
          "2022-09-05",
          "2022-09-05",
          "2022-09-05",
          "2022-09-05",
          "2022-09-05",
          "2022-09-05",
          "2022-09-05",
          "2022-09-05",
          "2022-09-05",
          "2022-09-05",
          "2022-09-05",
          "2022-09-05",
          "2022-09-05",
          "2022-09-05",
          "2022-09-05",
          "2022-09-05",
          "2022-10-05",
          "2022-10-05",
          "2022-10-05",
          "2022-10-05",
          "2022-10-05",
          "2022-10-05",
          "2022-10-05",
          "2022-10-05",
          "2022-10-05",
          "2022-10-05",
          "2022-10-05",
          "2022-10-05",
          "2022-10-05",
          "2022-10-05",
          "2022-10-05",
          "2022-10-05",
          "2022-10-05",
          "2022-10-05",
          "2022-10-05",
          "2022-10-05",
          "2022-10-05",
          "2022-10-05",
          "2022-10-05",
          "2022-10-05",
          "2022-10-05",
          "2022-10-05",
          "2022-10-05",
          "2022-10-05",
          "2022-10-05",
          "2022-10-05",
          "2022-10-05",
          "2022-10-05",
          "2022-10-05",
          "2022-10-05",
          "2022-10-05",
          "2022-10-05",
          "2022-10-05",
          "2022-10-05",
          "2022-10-05",
          "2022-10-05",
          "2022-10-05",
          "2022-10-05",
          "2022-10-05",
          "2022-10-05",
          "2022-10-05",
          "2022-10-05",
          "2022-10-05",
          "2022-10-05",
          "2022-10-05",
          "2022-10-05",
          "2022-10-05",
          "2022-10-05",
          "2022-10-05",
          "2022-10-05",
          "2022-10-05",
          "2022-10-05",
          "2022-10-05",
          "2022-10-05",
          "2022-10-05",
          "2022-10-05",
          "2022-10-05",
          "2022-10-05",
          "2022-10-05",
          "2022-10-05",
          "2022-10-05",
          "2022-10-05",
          "2022-10-05",
          "2022-10-05",
          "2022-10-05",
          "2022-10-05",
          "2022-10-05",
          "2022-10-05",
          "2022-10-05",
          "2022-10-05",
          "2022-10-05",
          "2022-10-05",
          "2022-10-05",
          "2022-10-05",
          "2022-10-05",
          "2022-10-05",
          "2022-10-05",
          "2022-10-05",
          "2022-10-05",
          "2022-10-05",
          "2022-10-05",
          "2022-10-05",
          "2022-10-05",
          "2022-10-05",
          "2022-10-05",
          "2022-11-05",
          "2022-11-05",
          "2022-11-05",
          "2022-11-05",
          "2022-11-05",
          "2022-11-05",
          "2022-11-05",
          "2022-11-05",
          "2022-11-05",
          "2022-11-05",
          "2022-11-05",
          "2022-11-05",
          "2022-11-05",
          "2022-11-05",
          "2022-11-05",
          "2022-11-05",
          "2022-11-05",
          "2022-11-05",
          "2022-11-05",
          "2022-11-05",
          "2022-11-05",
          "2022-11-05",
          "2022-11-05",
          "2022-11-05",
          "2022-11-05",
          "2022-11-05",
          "2022-11-05",
          "2022-11-05",
          "2022-11-05",
          "2022-11-05",
          "2022-11-05",
          "2022-11-05",
          "2022-11-05",
          "2022-11-05",
          "2022-11-05",
          "2022-11-05",
          "2022-11-05",
          "2022-11-05",
          "2022-11-05",
          "2022-11-05",
          "2022-11-05",
          "2022-11-05",
          "2022-11-05",
          "2022-11-05",
          "2022-11-05",
          "2022-11-05",
          "2022-11-05",
          "2022-11-05",
          "2022-11-05",
          "2022-11-05",
          "2022-11-05",
          "2022-11-05",
          "2022-11-05",
          "2022-11-05",
          "2022-11-05",
          "2022-11-05",
          "2022-11-05",
          "2022-11-05",
          "2022-11-05",
          "2022-11-05",
          "2022-11-05",
          "2022-11-05",
          "2022-11-05",
          "2022-11-05",
          "2022-11-05",
          "2022-11-05",
          "2022-11-05",
          "2022-11-05",
          "2022-11-05",
          "2022-11-05",
          "2022-11-05",
          "2022-11-05",
          "2022-11-05",
          "2022-11-05",
          "2022-11-05",
          "2022-11-05",
          "2022-11-05",
          "2022-11-05",
          "2022-11-05",
          "2022-11-05",
          "2022-11-05",
          "2022-11-05",
          "2022-11-05",
          "2022-11-05",
          "2022-11-05",
          "2022-11-05",
          "2022-11-05",
          "2022-11-05",
          "2022-11-05",
          "2022-12-05",
          "2022-12-05",
          "2022-12-05",
          "2022-12-05",
          "2022-12-05",
          "2022-12-05",
          "2022-12-05",
          "2022-12-05",
          "2022-12-05",
          "2022-12-05",
          "2022-12-05",
          "2022-12-05",
          "2022-12-05",
          "2022-12-05",
          "2022-12-05",
          "2022-12-05",
          "2022-12-05",
          "2022-12-05",
          "2022-12-05",
          "2022-12-05",
          "2022-12-05",
          "2022-12-05",
          "2022-12-05",
          "2022-12-05",
          "2022-12-05",
          "2022-12-05",
          "2022-12-05",
          "2022-12-05",
          "2022-12-05",
          "2022-12-05",
          "2022-12-05",
          "2022-12-05",
          "2022-12-05",
          "2022-12-05",
          "2022-12-05",
          "2022-12-05",
          "2022-12-05",
          "2022-12-05",
          "2022-12-05",
          "2022-12-05",
          "2022-12-05",
          "2022-12-05",
          "2022-12-05",
          "2022-12-05",
          "2022-12-05",
          "2022-12-05",
          "2022-12-05",
          "2022-12-05",
          "2022-12-05",
          "2022-12-05",
          "2022-12-05",
          "2022-12-05",
          "2022-12-05",
          "2022-12-05",
          "2022-12-05",
          "2022-12-05",
          "2022-12-05",
          "2022-12-05",
          "2022-12-05",
          "2022-12-05",
          "2022-12-05",
          "2022-12-05",
          "2022-12-05",
          "2022-12-05",
          "2022-12-05",
          "2022-12-05",
          "2022-12-05",
          "2022-12-05",
          "2022-12-05",
          "2022-12-05",
          "2022-12-05",
          "2022-12-05",
          "2022-12-05",
          "2022-12-05",
          "2022-12-05",
          "2022-12-05",
          "2022-12-05",
          "2022-12-05",
          "2022-12-05",
          "2022-12-05",
          "2022-12-05",
          "2022-12-05",
          "2022-12-05",
          "2022-12-05",
          "2022-12-05",
          "2022-12-05",
          "2022-12-05",
          "2022-12-05",
          "2022-12-05"
         ],
         "xaxis": "x",
         "yaxis": "y"
        }
       ],
       "layout": {
        "barmode": "relative",
        "legend": {
         "tracegroupgap": 0
        },
        "margin": {
         "t": 60
        },
        "template": {
         "data": {
          "bar": [
           {
            "error_x": {
             "color": "#2a3f5f"
            },
            "error_y": {
             "color": "#2a3f5f"
            },
            "marker": {
             "line": {
              "color": "#E5ECF6",
              "width": 0.5
             },
             "pattern": {
              "fillmode": "overlay",
              "size": 10,
              "solidity": 0.2
             }
            },
            "type": "bar"
           }
          ],
          "barpolar": [
           {
            "marker": {
             "line": {
              "color": "#E5ECF6",
              "width": 0.5
             },
             "pattern": {
              "fillmode": "overlay",
              "size": 10,
              "solidity": 0.2
             }
            },
            "type": "barpolar"
           }
          ],
          "carpet": [
           {
            "aaxis": {
             "endlinecolor": "#2a3f5f",
             "gridcolor": "white",
             "linecolor": "white",
             "minorgridcolor": "white",
             "startlinecolor": "#2a3f5f"
            },
            "baxis": {
             "endlinecolor": "#2a3f5f",
             "gridcolor": "white",
             "linecolor": "white",
             "minorgridcolor": "white",
             "startlinecolor": "#2a3f5f"
            },
            "type": "carpet"
           }
          ],
          "choropleth": [
           {
            "colorbar": {
             "outlinewidth": 0,
             "ticks": ""
            },
            "type": "choropleth"
           }
          ],
          "contour": [
           {
            "colorbar": {
             "outlinewidth": 0,
             "ticks": ""
            },
            "colorscale": [
             [
              0,
              "#0d0887"
             ],
             [
              0.1111111111111111,
              "#46039f"
             ],
             [
              0.2222222222222222,
              "#7201a8"
             ],
             [
              0.3333333333333333,
              "#9c179e"
             ],
             [
              0.4444444444444444,
              "#bd3786"
             ],
             [
              0.5555555555555556,
              "#d8576b"
             ],
             [
              0.6666666666666666,
              "#ed7953"
             ],
             [
              0.7777777777777778,
              "#fb9f3a"
             ],
             [
              0.8888888888888888,
              "#fdca26"
             ],
             [
              1,
              "#f0f921"
             ]
            ],
            "type": "contour"
           }
          ],
          "contourcarpet": [
           {
            "colorbar": {
             "outlinewidth": 0,
             "ticks": ""
            },
            "type": "contourcarpet"
           }
          ],
          "heatmap": [
           {
            "colorbar": {
             "outlinewidth": 0,
             "ticks": ""
            },
            "colorscale": [
             [
              0,
              "#0d0887"
             ],
             [
              0.1111111111111111,
              "#46039f"
             ],
             [
              0.2222222222222222,
              "#7201a8"
             ],
             [
              0.3333333333333333,
              "#9c179e"
             ],
             [
              0.4444444444444444,
              "#bd3786"
             ],
             [
              0.5555555555555556,
              "#d8576b"
             ],
             [
              0.6666666666666666,
              "#ed7953"
             ],
             [
              0.7777777777777778,
              "#fb9f3a"
             ],
             [
              0.8888888888888888,
              "#fdca26"
             ],
             [
              1,
              "#f0f921"
             ]
            ],
            "type": "heatmap"
           }
          ],
          "heatmapgl": [
           {
            "colorbar": {
             "outlinewidth": 0,
             "ticks": ""
            },
            "colorscale": [
             [
              0,
              "#0d0887"
             ],
             [
              0.1111111111111111,
              "#46039f"
             ],
             [
              0.2222222222222222,
              "#7201a8"
             ],
             [
              0.3333333333333333,
              "#9c179e"
             ],
             [
              0.4444444444444444,
              "#bd3786"
             ],
             [
              0.5555555555555556,
              "#d8576b"
             ],
             [
              0.6666666666666666,
              "#ed7953"
             ],
             [
              0.7777777777777778,
              "#fb9f3a"
             ],
             [
              0.8888888888888888,
              "#fdca26"
             ],
             [
              1,
              "#f0f921"
             ]
            ],
            "type": "heatmapgl"
           }
          ],
          "histogram": [
           {
            "marker": {
             "pattern": {
              "fillmode": "overlay",
              "size": 10,
              "solidity": 0.2
             }
            },
            "type": "histogram"
           }
          ],
          "histogram2d": [
           {
            "colorbar": {
             "outlinewidth": 0,
             "ticks": ""
            },
            "colorscale": [
             [
              0,
              "#0d0887"
             ],
             [
              0.1111111111111111,
              "#46039f"
             ],
             [
              0.2222222222222222,
              "#7201a8"
             ],
             [
              0.3333333333333333,
              "#9c179e"
             ],
             [
              0.4444444444444444,
              "#bd3786"
             ],
             [
              0.5555555555555556,
              "#d8576b"
             ],
             [
              0.6666666666666666,
              "#ed7953"
             ],
             [
              0.7777777777777778,
              "#fb9f3a"
             ],
             [
              0.8888888888888888,
              "#fdca26"
             ],
             [
              1,
              "#f0f921"
             ]
            ],
            "type": "histogram2d"
           }
          ],
          "histogram2dcontour": [
           {
            "colorbar": {
             "outlinewidth": 0,
             "ticks": ""
            },
            "colorscale": [
             [
              0,
              "#0d0887"
             ],
             [
              0.1111111111111111,
              "#46039f"
             ],
             [
              0.2222222222222222,
              "#7201a8"
             ],
             [
              0.3333333333333333,
              "#9c179e"
             ],
             [
              0.4444444444444444,
              "#bd3786"
             ],
             [
              0.5555555555555556,
              "#d8576b"
             ],
             [
              0.6666666666666666,
              "#ed7953"
             ],
             [
              0.7777777777777778,
              "#fb9f3a"
             ],
             [
              0.8888888888888888,
              "#fdca26"
             ],
             [
              1,
              "#f0f921"
             ]
            ],
            "type": "histogram2dcontour"
           }
          ],
          "mesh3d": [
           {
            "colorbar": {
             "outlinewidth": 0,
             "ticks": ""
            },
            "type": "mesh3d"
           }
          ],
          "parcoords": [
           {
            "line": {
             "colorbar": {
              "outlinewidth": 0,
              "ticks": ""
             }
            },
            "type": "parcoords"
           }
          ],
          "pie": [
           {
            "automargin": true,
            "type": "pie"
           }
          ],
          "scatter": [
           {
            "fillpattern": {
             "fillmode": "overlay",
             "size": 10,
             "solidity": 0.2
            },
            "type": "scatter"
           }
          ],
          "scatter3d": [
           {
            "line": {
             "colorbar": {
              "outlinewidth": 0,
              "ticks": ""
             }
            },
            "marker": {
             "colorbar": {
              "outlinewidth": 0,
              "ticks": ""
             }
            },
            "type": "scatter3d"
           }
          ],
          "scattercarpet": [
           {
            "marker": {
             "colorbar": {
              "outlinewidth": 0,
              "ticks": ""
             }
            },
            "type": "scattercarpet"
           }
          ],
          "scattergeo": [
           {
            "marker": {
             "colorbar": {
              "outlinewidth": 0,
              "ticks": ""
             }
            },
            "type": "scattergeo"
           }
          ],
          "scattergl": [
           {
            "marker": {
             "colorbar": {
              "outlinewidth": 0,
              "ticks": ""
             }
            },
            "type": "scattergl"
           }
          ],
          "scattermapbox": [
           {
            "marker": {
             "colorbar": {
              "outlinewidth": 0,
              "ticks": ""
             }
            },
            "type": "scattermapbox"
           }
          ],
          "scatterpolar": [
           {
            "marker": {
             "colorbar": {
              "outlinewidth": 0,
              "ticks": ""
             }
            },
            "type": "scatterpolar"
           }
          ],
          "scatterpolargl": [
           {
            "marker": {
             "colorbar": {
              "outlinewidth": 0,
              "ticks": ""
             }
            },
            "type": "scatterpolargl"
           }
          ],
          "scatterternary": [
           {
            "marker": {
             "colorbar": {
              "outlinewidth": 0,
              "ticks": ""
             }
            },
            "type": "scatterternary"
           }
          ],
          "surface": [
           {
            "colorbar": {
             "outlinewidth": 0,
             "ticks": ""
            },
            "colorscale": [
             [
              0,
              "#0d0887"
             ],
             [
              0.1111111111111111,
              "#46039f"
             ],
             [
              0.2222222222222222,
              "#7201a8"
             ],
             [
              0.3333333333333333,
              "#9c179e"
             ],
             [
              0.4444444444444444,
              "#bd3786"
             ],
             [
              0.5555555555555556,
              "#d8576b"
             ],
             [
              0.6666666666666666,
              "#ed7953"
             ],
             [
              0.7777777777777778,
              "#fb9f3a"
             ],
             [
              0.8888888888888888,
              "#fdca26"
             ],
             [
              1,
              "#f0f921"
             ]
            ],
            "type": "surface"
           }
          ],
          "table": [
           {
            "cells": {
             "fill": {
              "color": "#EBF0F8"
             },
             "line": {
              "color": "white"
             }
            },
            "header": {
             "fill": {
              "color": "#C8D4E3"
             },
             "line": {
              "color": "white"
             }
            },
            "type": "table"
           }
          ]
         },
         "layout": {
          "annotationdefaults": {
           "arrowcolor": "#2a3f5f",
           "arrowhead": 0,
           "arrowwidth": 1
          },
          "autotypenumbers": "strict",
          "coloraxis": {
           "colorbar": {
            "outlinewidth": 0,
            "ticks": ""
           }
          },
          "colorscale": {
           "diverging": [
            [
             0,
             "#8e0152"
            ],
            [
             0.1,
             "#c51b7d"
            ],
            [
             0.2,
             "#de77ae"
            ],
            [
             0.3,
             "#f1b6da"
            ],
            [
             0.4,
             "#fde0ef"
            ],
            [
             0.5,
             "#f7f7f7"
            ],
            [
             0.6,
             "#e6f5d0"
            ],
            [
             0.7,
             "#b8e186"
            ],
            [
             0.8,
             "#7fbc41"
            ],
            [
             0.9,
             "#4d9221"
            ],
            [
             1,
             "#276419"
            ]
           ],
           "sequential": [
            [
             0,
             "#0d0887"
            ],
            [
             0.1111111111111111,
             "#46039f"
            ],
            [
             0.2222222222222222,
             "#7201a8"
            ],
            [
             0.3333333333333333,
             "#9c179e"
            ],
            [
             0.4444444444444444,
             "#bd3786"
            ],
            [
             0.5555555555555556,
             "#d8576b"
            ],
            [
             0.6666666666666666,
             "#ed7953"
            ],
            [
             0.7777777777777778,
             "#fb9f3a"
            ],
            [
             0.8888888888888888,
             "#fdca26"
            ],
            [
             1,
             "#f0f921"
            ]
           ],
           "sequentialminus": [
            [
             0,
             "#0d0887"
            ],
            [
             0.1111111111111111,
             "#46039f"
            ],
            [
             0.2222222222222222,
             "#7201a8"
            ],
            [
             0.3333333333333333,
             "#9c179e"
            ],
            [
             0.4444444444444444,
             "#bd3786"
            ],
            [
             0.5555555555555556,
             "#d8576b"
            ],
            [
             0.6666666666666666,
             "#ed7953"
            ],
            [
             0.7777777777777778,
             "#fb9f3a"
            ],
            [
             0.8888888888888888,
             "#fdca26"
            ],
            [
             1,
             "#f0f921"
            ]
           ]
          },
          "colorway": [
           "#636efa",
           "#EF553B",
           "#00cc96",
           "#ab63fa",
           "#FFA15A",
           "#19d3f3",
           "#FF6692",
           "#B6E880",
           "#FF97FF",
           "#FECB52"
          ],
          "font": {
           "color": "#2a3f5f"
          },
          "geo": {
           "bgcolor": "white",
           "lakecolor": "white",
           "landcolor": "#E5ECF6",
           "showlakes": true,
           "showland": true,
           "subunitcolor": "white"
          },
          "hoverlabel": {
           "align": "left"
          },
          "hovermode": "closest",
          "mapbox": {
           "style": "light"
          },
          "paper_bgcolor": "white",
          "plot_bgcolor": "#E5ECF6",
          "polar": {
           "angularaxis": {
            "gridcolor": "white",
            "linecolor": "white",
            "ticks": ""
           },
           "bgcolor": "#E5ECF6",
           "radialaxis": {
            "gridcolor": "white",
            "linecolor": "white",
            "ticks": ""
           }
          },
          "scene": {
           "xaxis": {
            "backgroundcolor": "#E5ECF6",
            "gridcolor": "white",
            "gridwidth": 2,
            "linecolor": "white",
            "showbackground": true,
            "ticks": "",
            "zerolinecolor": "white"
           },
           "yaxis": {
            "backgroundcolor": "#E5ECF6",
            "gridcolor": "white",
            "gridwidth": 2,
            "linecolor": "white",
            "showbackground": true,
            "ticks": "",
            "zerolinecolor": "white"
           },
           "zaxis": {
            "backgroundcolor": "#E5ECF6",
            "gridcolor": "white",
            "gridwidth": 2,
            "linecolor": "white",
            "showbackground": true,
            "ticks": "",
            "zerolinecolor": "white"
           }
          },
          "shapedefaults": {
           "line": {
            "color": "#2a3f5f"
           }
          },
          "ternary": {
           "aaxis": {
            "gridcolor": "white",
            "linecolor": "white",
            "ticks": ""
           },
           "baxis": {
            "gridcolor": "white",
            "linecolor": "white",
            "ticks": ""
           },
           "bgcolor": "#E5ECF6",
           "caxis": {
            "gridcolor": "white",
            "linecolor": "white",
            "ticks": ""
           }
          },
          "title": {
           "x": 0.05
          },
          "xaxis": {
           "automargin": true,
           "gridcolor": "white",
           "linecolor": "white",
           "ticks": "",
           "title": {
            "standoff": 15
           },
           "zerolinecolor": "white",
           "zerolinewidth": 2
          },
          "yaxis": {
           "automargin": true,
           "gridcolor": "white",
           "linecolor": "white",
           "ticks": "",
           "title": {
            "standoff": 15
           },
           "zerolinecolor": "white",
           "zerolinewidth": 2
          }
         }
        },
        "xaxis": {
         "anchor": "y",
         "domain": [
          0,
          1
         ],
         "title": {
          "text": "pull_time"
         }
        },
        "yaxis": {
         "anchor": "x",
         "domain": [
          0,
          1
         ],
         "title": {
          "text": "count"
         }
        }
       }
      }
     },
     "metadata": {},
     "output_type": "display_data"
    }
   ],
   "source": [
    "import plotly.express as px\n",
    "fig = px.histogram(miami_example_by_pull_time_count, x=\"pull_time\",nbins=50)\n",
    "fig.show()"
   ]
  },
  {
   "cell_type": "code",
   "execution_count": 10,
   "metadata": {},
   "outputs": [
    {
     "ename": "SyntaxError",
     "evalue": "invalid syntax (2758471106.py, line 5)",
     "output_type": "error",
     "traceback": [
      "\u001b[1;36m  Input \u001b[1;32mIn [10]\u001b[1;36m\u001b[0m\n\u001b[1;33m    counts, bins = np.histogram(.total_bill, bins=range(0, 60, 5))\u001b[0m\n\u001b[1;37m                                ^\u001b[0m\n\u001b[1;31mSyntaxError\u001b[0m\u001b[1;31m:\u001b[0m invalid syntax\n"
     ]
    }
   ],
   "source": [
    "# Reference https://plotly.com/python/histograms/ under \"Accessing the counts (y-axis) values\"\n",
    "\n",
    "df = px.data.tips()\n",
    "# create the bins\n",
    "counts, bins = np.histogram(df.total_bill, bins=range(0, 60, 5))\n",
    "bins = 0.5 * (bins[:-1] + bins[1:])\n",
    "\n",
    "fig = px.bar(x=bins, y=counts, labels={'x':'total_bill', 'y':'count'})\n",
    "fig.show()"
   ]
  },
  {
   "cell_type": "code",
   "execution_count": null,
   "metadata": {},
   "outputs": [],
   "source": [
    "# aggregate price data by mean and std grouped by id\n",
    "\n",
    "agg_price_data = price_data.groupby(['id']).agg({'cleaning_fee' :['mean','std'], 'service_fee' :['mean','std'], 'total_price' :['mean','std']}).reset_index()"
   ]
  },
  {
   "cell_type": "code",
   "execution_count": null,
   "metadata": {},
   "outputs": [],
   "source": [
    "\"\"\"\n",
    "### Miami example for abstracting price increase\n",
    "#miami_example[miami_example['check_in'] == '2022-04-19']\n",
    "#miami_example.pull_time.unique()\n",
    "#todays_date = datetime.date.today()\n",
    "days_to_subtract = 30\n",
    "last_day_from = pd.to_datetime('05/31/2022')\n",
    "date_30_days_ago = last_day_from - timedelta(days=days_to_subtract)\n",
    "pull_time_old = pd.to_datetime('04/20/2022')\n",
    "pull_time_current = pd.to_datetime('05/05/2022')\n",
    "\n",
    "miami_example_last30 = miami_example[(miami_example['check_in'] > str(date_30_days_ago)) & (miami_example['check_in'] <= str(last_day_from))]\n",
    "miami_example_previous_pull_avg = miami_example_last30[miami_example_last30['pull_time'] == pull_time_old].mean()\n",
    "miami_example_current_pull_avg = miami_example_last30[miami_example_last30['pull_time'] == pull_time_current].mean()\n",
    "price_change_total = miami_example_current_pull_avg-miami_example_previous_pull_avg\n",
    "price_change_pct = price_change_total/miami_example_previous_pull_avg\n",
    "\"\"\""
   ]
  },
  {
   "cell_type": "code",
   "execution_count": 5,
   "metadata": {},
   "outputs": [
    {
     "name": "stdout",
     "output_type": "stream",
     "text": [
      "done with datatype change\n",
      "done with change to date\n",
      "Start Time 1658195121.814264\n",
      "Middle Time 1157.8052971363068\n",
      "End Time 1162.225444316864\n"
     ]
    }
   ],
   "source": [
    "start_time = time.time()\n",
    "price_data['pull_time'] = pd.to_datetime(price_data['pull_time'])\n",
    "print('done with datatype change')\n",
    "middle_time = time.time()\n",
    "price_data['pull_time'] = price_data['pull_time'].dt.date ## Do we actually need this step if we structure it like the occupancy data? (greater than/less than pull on dates)\n",
    "print('done with change to date')\n",
    "\n",
    "end_time = time.time()\n",
    "print('Start Time '+ str(start_time))\n",
    "print('Middle Time '+ str(middle_time-start_time))\n",
    "print('End Time '+ str(end_time-start_time))\n",
    "\n"
   ]
  },
  {
   "cell_type": "code",
   "execution_count": null,
   "metadata": {},
   "outputs": [],
   "source": []
  },
  {
   "cell_type": "code",
   "execution_count": null,
   "metadata": {},
   "outputs": [
    {
     "ename": "ValueError",
     "evalue": "Can't infer object conversion type: 0    2022-04-18\n1    2022-04-18\n2    2022-04-18\n3    2022-04-18\n4    2022-04-18\n5    2022-04-18\n6    2022-04-18\n7    2022-04-18\n8    2022-04-18\n9    2022-04-18\nName: pull_time, dtype: object",
     "output_type": "error",
     "traceback": [
      "\u001b[1;31m---------------------------------------------------------------------------\u001b[0m",
      "\u001b[1;31mValueError\u001b[0m                                Traceback (most recent call last)",
      "\u001b[1;32mc:\\Users\\mattg\\Desktop\\Hobbies\\airbnb_reports\\price_eda.ipynb Cell 14'\u001b[0m in \u001b[0;36m<cell line: 3>\u001b[1;34m()\u001b[0m\n\u001b[0;32m      <a href='vscode-notebook-cell:/c%3A/Users/mattg/Desktop/Hobbies/airbnb_reports/price_eda.ipynb#ch0000016?line=0'>1</a>\u001b[0m \u001b[39mimport\u001b[39;00m \u001b[39mfastparquet\u001b[39;00m\n\u001b[0;32m      <a href='vscode-notebook-cell:/c%3A/Users/mattg/Desktop/Hobbies/airbnb_reports/price_eda.ipynb#ch0000016?line=1'>2</a>\u001b[0m \u001b[39m#price_data.to_feather('price_data_feather.feather')\u001b[39;00m\n\u001b[1;32m----> <a href='vscode-notebook-cell:/c%3A/Users/mattg/Desktop/Hobbies/airbnb_reports/price_eda.ipynb#ch0000016?line=2'>3</a>\u001b[0m price_data\u001b[39m.\u001b[39;49mto_parquet(\u001b[39m'\u001b[39;49m\u001b[39mprice_data_parquet.parquet\u001b[39;49m\u001b[39m'\u001b[39;49m)\n",
      "File \u001b[1;32mc:\\Users\\mattg\\AppData\\Local\\Programs\\Python\\Python310\\lib\\site-packages\\pandas\\util\\_decorators.py:207\u001b[0m, in \u001b[0;36mdeprecate_kwarg.<locals>._deprecate_kwarg.<locals>.wrapper\u001b[1;34m(*args, **kwargs)\u001b[0m\n\u001b[0;32m    <a href='file:///c%3A/Users/mattg/AppData/Local/Programs/Python/Python310/lib/site-packages/pandas/util/_decorators.py?line=204'>205</a>\u001b[0m     \u001b[39melse\u001b[39;00m:\n\u001b[0;32m    <a href='file:///c%3A/Users/mattg/AppData/Local/Programs/Python/Python310/lib/site-packages/pandas/util/_decorators.py?line=205'>206</a>\u001b[0m         kwargs[new_arg_name] \u001b[39m=\u001b[39m new_arg_value\n\u001b[1;32m--> <a href='file:///c%3A/Users/mattg/AppData/Local/Programs/Python/Python310/lib/site-packages/pandas/util/_decorators.py?line=206'>207</a>\u001b[0m \u001b[39mreturn\u001b[39;00m func(\u001b[39m*\u001b[39margs, \u001b[39m*\u001b[39m\u001b[39m*\u001b[39mkwargs)\n",
      "File \u001b[1;32mc:\\Users\\mattg\\AppData\\Local\\Programs\\Python\\Python310\\lib\\site-packages\\pandas\\core\\frame.py:2835\u001b[0m, in \u001b[0;36mDataFrame.to_parquet\u001b[1;34m(self, path, engine, compression, index, partition_cols, storage_options, **kwargs)\u001b[0m\n\u001b[0;32m   <a href='file:///c%3A/Users/mattg/AppData/Local/Programs/Python/Python310/lib/site-packages/pandas/core/frame.py?line=2748'>2749</a>\u001b[0m \u001b[39m\"\"\"\u001b[39;00m\n\u001b[0;32m   <a href='file:///c%3A/Users/mattg/AppData/Local/Programs/Python/Python310/lib/site-packages/pandas/core/frame.py?line=2749'>2750</a>\u001b[0m \u001b[39mWrite a DataFrame to the binary parquet format.\u001b[39;00m\n\u001b[0;32m   <a href='file:///c%3A/Users/mattg/AppData/Local/Programs/Python/Python310/lib/site-packages/pandas/core/frame.py?line=2750'>2751</a>\u001b[0m \n\u001b[1;32m   (...)\u001b[0m\n\u001b[0;32m   <a href='file:///c%3A/Users/mattg/AppData/Local/Programs/Python/Python310/lib/site-packages/pandas/core/frame.py?line=2830'>2831</a>\u001b[0m \u001b[39m>>> content = f.read()\u001b[39;00m\n\u001b[0;32m   <a href='file:///c%3A/Users/mattg/AppData/Local/Programs/Python/Python310/lib/site-packages/pandas/core/frame.py?line=2831'>2832</a>\u001b[0m \u001b[39m\"\"\"\u001b[39;00m\n\u001b[0;32m   <a href='file:///c%3A/Users/mattg/AppData/Local/Programs/Python/Python310/lib/site-packages/pandas/core/frame.py?line=2832'>2833</a>\u001b[0m \u001b[39mfrom\u001b[39;00m \u001b[39mpandas\u001b[39;00m\u001b[39m.\u001b[39;00m\u001b[39mio\u001b[39;00m\u001b[39m.\u001b[39;00m\u001b[39mparquet\u001b[39;00m \u001b[39mimport\u001b[39;00m to_parquet\n\u001b[1;32m-> <a href='file:///c%3A/Users/mattg/AppData/Local/Programs/Python/Python310/lib/site-packages/pandas/core/frame.py?line=2834'>2835</a>\u001b[0m \u001b[39mreturn\u001b[39;00m to_parquet(\n\u001b[0;32m   <a href='file:///c%3A/Users/mattg/AppData/Local/Programs/Python/Python310/lib/site-packages/pandas/core/frame.py?line=2835'>2836</a>\u001b[0m     \u001b[39mself\u001b[39m,\n\u001b[0;32m   <a href='file:///c%3A/Users/mattg/AppData/Local/Programs/Python/Python310/lib/site-packages/pandas/core/frame.py?line=2836'>2837</a>\u001b[0m     path,\n\u001b[0;32m   <a href='file:///c%3A/Users/mattg/AppData/Local/Programs/Python/Python310/lib/site-packages/pandas/core/frame.py?line=2837'>2838</a>\u001b[0m     engine,\n\u001b[0;32m   <a href='file:///c%3A/Users/mattg/AppData/Local/Programs/Python/Python310/lib/site-packages/pandas/core/frame.py?line=2838'>2839</a>\u001b[0m     compression\u001b[39m=\u001b[39mcompression,\n\u001b[0;32m   <a href='file:///c%3A/Users/mattg/AppData/Local/Programs/Python/Python310/lib/site-packages/pandas/core/frame.py?line=2839'>2840</a>\u001b[0m     index\u001b[39m=\u001b[39mindex,\n\u001b[0;32m   <a href='file:///c%3A/Users/mattg/AppData/Local/Programs/Python/Python310/lib/site-packages/pandas/core/frame.py?line=2840'>2841</a>\u001b[0m     partition_cols\u001b[39m=\u001b[39mpartition_cols,\n\u001b[0;32m   <a href='file:///c%3A/Users/mattg/AppData/Local/Programs/Python/Python310/lib/site-packages/pandas/core/frame.py?line=2841'>2842</a>\u001b[0m     storage_options\u001b[39m=\u001b[39mstorage_options,\n\u001b[0;32m   <a href='file:///c%3A/Users/mattg/AppData/Local/Programs/Python/Python310/lib/site-packages/pandas/core/frame.py?line=2842'>2843</a>\u001b[0m     \u001b[39m*\u001b[39m\u001b[39m*\u001b[39mkwargs,\n\u001b[0;32m   <a href='file:///c%3A/Users/mattg/AppData/Local/Programs/Python/Python310/lib/site-packages/pandas/core/frame.py?line=2843'>2844</a>\u001b[0m )\n",
      "File \u001b[1;32mc:\\Users\\mattg\\AppData\\Local\\Programs\\Python\\Python310\\lib\\site-packages\\pandas\\io\\parquet.py:420\u001b[0m, in \u001b[0;36mto_parquet\u001b[1;34m(df, path, engine, compression, index, storage_options, partition_cols, **kwargs)\u001b[0m\n\u001b[0;32m    <a href='file:///c%3A/Users/mattg/AppData/Local/Programs/Python/Python310/lib/site-packages/pandas/io/parquet.py?line=415'>416</a>\u001b[0m impl \u001b[39m=\u001b[39m get_engine(engine)\n\u001b[0;32m    <a href='file:///c%3A/Users/mattg/AppData/Local/Programs/Python/Python310/lib/site-packages/pandas/io/parquet.py?line=417'>418</a>\u001b[0m path_or_buf: FilePath \u001b[39m|\u001b[39m WriteBuffer[\u001b[39mbytes\u001b[39m] \u001b[39m=\u001b[39m io\u001b[39m.\u001b[39mBytesIO() \u001b[39mif\u001b[39;00m path \u001b[39mis\u001b[39;00m \u001b[39mNone\u001b[39;00m \u001b[39melse\u001b[39;00m path\n\u001b[1;32m--> <a href='file:///c%3A/Users/mattg/AppData/Local/Programs/Python/Python310/lib/site-packages/pandas/io/parquet.py?line=419'>420</a>\u001b[0m impl\u001b[39m.\u001b[39mwrite(\n\u001b[0;32m    <a href='file:///c%3A/Users/mattg/AppData/Local/Programs/Python/Python310/lib/site-packages/pandas/io/parquet.py?line=420'>421</a>\u001b[0m     df,\n\u001b[0;32m    <a href='file:///c%3A/Users/mattg/AppData/Local/Programs/Python/Python310/lib/site-packages/pandas/io/parquet.py?line=421'>422</a>\u001b[0m     path_or_buf,\n\u001b[0;32m    <a href='file:///c%3A/Users/mattg/AppData/Local/Programs/Python/Python310/lib/site-packages/pandas/io/parquet.py?line=422'>423</a>\u001b[0m     compression\u001b[39m=\u001b[39mcompression,\n\u001b[0;32m    <a href='file:///c%3A/Users/mattg/AppData/Local/Programs/Python/Python310/lib/site-packages/pandas/io/parquet.py?line=423'>424</a>\u001b[0m     index\u001b[39m=\u001b[39mindex,\n\u001b[0;32m    <a href='file:///c%3A/Users/mattg/AppData/Local/Programs/Python/Python310/lib/site-packages/pandas/io/parquet.py?line=424'>425</a>\u001b[0m     partition_cols\u001b[39m=\u001b[39mpartition_cols,\n\u001b[0;32m    <a href='file:///c%3A/Users/mattg/AppData/Local/Programs/Python/Python310/lib/site-packages/pandas/io/parquet.py?line=425'>426</a>\u001b[0m     storage_options\u001b[39m=\u001b[39mstorage_options,\n\u001b[0;32m    <a href='file:///c%3A/Users/mattg/AppData/Local/Programs/Python/Python310/lib/site-packages/pandas/io/parquet.py?line=426'>427</a>\u001b[0m     \u001b[39m*\u001b[39m\u001b[39m*\u001b[39mkwargs,\n\u001b[0;32m    <a href='file:///c%3A/Users/mattg/AppData/Local/Programs/Python/Python310/lib/site-packages/pandas/io/parquet.py?line=427'>428</a>\u001b[0m )\n\u001b[0;32m    <a href='file:///c%3A/Users/mattg/AppData/Local/Programs/Python/Python310/lib/site-packages/pandas/io/parquet.py?line=429'>430</a>\u001b[0m \u001b[39mif\u001b[39;00m path \u001b[39mis\u001b[39;00m \u001b[39mNone\u001b[39;00m:\n\u001b[0;32m    <a href='file:///c%3A/Users/mattg/AppData/Local/Programs/Python/Python310/lib/site-packages/pandas/io/parquet.py?line=430'>431</a>\u001b[0m     \u001b[39massert\u001b[39;00m \u001b[39misinstance\u001b[39m(path_or_buf, io\u001b[39m.\u001b[39mBytesIO)\n",
      "File \u001b[1;32mc:\\Users\\mattg\\AppData\\Local\\Programs\\Python\\Python310\\lib\\site-packages\\pandas\\io\\parquet.py:301\u001b[0m, in \u001b[0;36mFastParquetImpl.write\u001b[1;34m(self, df, path, compression, index, partition_cols, storage_options, **kwargs)\u001b[0m\n\u001b[0;32m    <a href='file:///c%3A/Users/mattg/AppData/Local/Programs/Python/Python310/lib/site-packages/pandas/io/parquet.py?line=295'>296</a>\u001b[0m     \u001b[39mraise\u001b[39;00m \u001b[39mValueError\u001b[39;00m(\n\u001b[0;32m    <a href='file:///c%3A/Users/mattg/AppData/Local/Programs/Python/Python310/lib/site-packages/pandas/io/parquet.py?line=296'>297</a>\u001b[0m         \u001b[39m\"\u001b[39m\u001b[39mstorage_options passed with file object or non-fsspec file path\u001b[39m\u001b[39m\"\u001b[39m\n\u001b[0;32m    <a href='file:///c%3A/Users/mattg/AppData/Local/Programs/Python/Python310/lib/site-packages/pandas/io/parquet.py?line=297'>298</a>\u001b[0m     )\n\u001b[0;32m    <a href='file:///c%3A/Users/mattg/AppData/Local/Programs/Python/Python310/lib/site-packages/pandas/io/parquet.py?line=299'>300</a>\u001b[0m \u001b[39mwith\u001b[39;00m catch_warnings(record\u001b[39m=\u001b[39m\u001b[39mTrue\u001b[39;00m):\n\u001b[1;32m--> <a href='file:///c%3A/Users/mattg/AppData/Local/Programs/Python/Python310/lib/site-packages/pandas/io/parquet.py?line=300'>301</a>\u001b[0m     \u001b[39mself\u001b[39m\u001b[39m.\u001b[39mapi\u001b[39m.\u001b[39mwrite(\n\u001b[0;32m    <a href='file:///c%3A/Users/mattg/AppData/Local/Programs/Python/Python310/lib/site-packages/pandas/io/parquet.py?line=301'>302</a>\u001b[0m         path,\n\u001b[0;32m    <a href='file:///c%3A/Users/mattg/AppData/Local/Programs/Python/Python310/lib/site-packages/pandas/io/parquet.py?line=302'>303</a>\u001b[0m         df,\n\u001b[0;32m    <a href='file:///c%3A/Users/mattg/AppData/Local/Programs/Python/Python310/lib/site-packages/pandas/io/parquet.py?line=303'>304</a>\u001b[0m         compression\u001b[39m=\u001b[39mcompression,\n\u001b[0;32m    <a href='file:///c%3A/Users/mattg/AppData/Local/Programs/Python/Python310/lib/site-packages/pandas/io/parquet.py?line=304'>305</a>\u001b[0m         write_index\u001b[39m=\u001b[39mindex,\n\u001b[0;32m    <a href='file:///c%3A/Users/mattg/AppData/Local/Programs/Python/Python310/lib/site-packages/pandas/io/parquet.py?line=305'>306</a>\u001b[0m         partition_on\u001b[39m=\u001b[39mpartition_cols,\n\u001b[0;32m    <a href='file:///c%3A/Users/mattg/AppData/Local/Programs/Python/Python310/lib/site-packages/pandas/io/parquet.py?line=306'>307</a>\u001b[0m         \u001b[39m*\u001b[39m\u001b[39m*\u001b[39mkwargs,\n\u001b[0;32m    <a href='file:///c%3A/Users/mattg/AppData/Local/Programs/Python/Python310/lib/site-packages/pandas/io/parquet.py?line=307'>308</a>\u001b[0m     )\n",
      "File \u001b[1;32mc:\\Users\\mattg\\AppData\\Local\\Programs\\Python\\Python310\\lib\\site-packages\\fastparquet\\writer.py:1213\u001b[0m, in \u001b[0;36mwrite\u001b[1;34m(filename, data, row_group_offsets, compression, file_scheme, open_with, mkdirs, has_nulls, write_index, partition_on, fixed_text, append, object_encoding, times, custom_metadata, stats)\u001b[0m\n\u001b[0;32m   <a href='file:///c%3A/Users/mattg/AppData/Local/Programs/Python/Python310/lib/site-packages/fastparquet/writer.py?line=1209'>1210</a>\u001b[0m check_column_names(data\u001b[39m.\u001b[39mcolumns, partition_on, fixed_text,\n\u001b[0;32m   <a href='file:///c%3A/Users/mattg/AppData/Local/Programs/Python/Python310/lib/site-packages/fastparquet/writer.py?line=1210'>1211</a>\u001b[0m                    object_encoding, has_nulls)\n\u001b[0;32m   <a href='file:///c%3A/Users/mattg/AppData/Local/Programs/Python/Python310/lib/site-packages/fastparquet/writer.py?line=1211'>1212</a>\u001b[0m ignore \u001b[39m=\u001b[39m partition_on \u001b[39mif\u001b[39;00m file_scheme \u001b[39m!=\u001b[39m \u001b[39m'\u001b[39m\u001b[39msimple\u001b[39m\u001b[39m'\u001b[39m \u001b[39melse\u001b[39;00m []\n\u001b[1;32m-> <a href='file:///c%3A/Users/mattg/AppData/Local/Programs/Python/Python310/lib/site-packages/fastparquet/writer.py?line=1212'>1213</a>\u001b[0m fmd \u001b[39m=\u001b[39m make_metadata(data, has_nulls\u001b[39m=\u001b[39;49mhas_nulls, ignore_columns\u001b[39m=\u001b[39;49mignore,\n\u001b[0;32m   <a href='file:///c%3A/Users/mattg/AppData/Local/Programs/Python/Python310/lib/site-packages/fastparquet/writer.py?line=1213'>1214</a>\u001b[0m                     fixed_text\u001b[39m=\u001b[39;49mfixed_text,\n\u001b[0;32m   <a href='file:///c%3A/Users/mattg/AppData/Local/Programs/Python/Python310/lib/site-packages/fastparquet/writer.py?line=1214'>1215</a>\u001b[0m                     object_encoding\u001b[39m=\u001b[39;49mobject_encoding,\n\u001b[0;32m   <a href='file:///c%3A/Users/mattg/AppData/Local/Programs/Python/Python310/lib/site-packages/fastparquet/writer.py?line=1215'>1216</a>\u001b[0m                     times\u001b[39m=\u001b[39;49mtimes, index_cols\u001b[39m=\u001b[39;49mindex_cols,\n\u001b[0;32m   <a href='file:///c%3A/Users/mattg/AppData/Local/Programs/Python/Python310/lib/site-packages/fastparquet/writer.py?line=1216'>1217</a>\u001b[0m                     partition_cols\u001b[39m=\u001b[39;49mpartition_on)\n\u001b[0;32m   <a href='file:///c%3A/Users/mattg/AppData/Local/Programs/Python/Python310/lib/site-packages/fastparquet/writer.py?line=1217'>1218</a>\u001b[0m \u001b[39mif\u001b[39;00m custom_metadata \u001b[39mis\u001b[39;00m \u001b[39mnot\u001b[39;00m \u001b[39mNone\u001b[39;00m:\n\u001b[0;32m   <a href='file:///c%3A/Users/mattg/AppData/Local/Programs/Python/Python310/lib/site-packages/fastparquet/writer.py?line=1218'>1219</a>\u001b[0m     kvm \u001b[39m=\u001b[39m fmd\u001b[39m.\u001b[39mkey_value_metadata \u001b[39mor\u001b[39;00m []\n",
      "File \u001b[1;32mc:\\Users\\mattg\\AppData\\Local\\Programs\\Python\\Python310\\lib\\site-packages\\fastparquet\\writer.py:823\u001b[0m, in \u001b[0;36mmake_metadata\u001b[1;34m(data, has_nulls, ignore_columns, fixed_text, object_encoding, times, index_cols, partition_cols)\u001b[0m\n\u001b[0;32m    <a href='file:///c%3A/Users/mattg/AppData/Local/Programs/Python/Python310/lib/site-packages/fastparquet/writer.py?line=820'>821</a>\u001b[0m     se\u001b[39m.\u001b[39mname \u001b[39m=\u001b[39m column\n\u001b[0;32m    <a href='file:///c%3A/Users/mattg/AppData/Local/Programs/Python/Python310/lib/site-packages/fastparquet/writer.py?line=821'>822</a>\u001b[0m \u001b[39melse\u001b[39;00m:\n\u001b[1;32m--> <a href='file:///c%3A/Users/mattg/AppData/Local/Programs/Python/Python310/lib/site-packages/fastparquet/writer.py?line=822'>823</a>\u001b[0m     se, \u001b[39mtype\u001b[39m \u001b[39m=\u001b[39m find_type(data[column], fixed_text\u001b[39m=\u001b[39;49mfixed,\n\u001b[0;32m    <a href='file:///c%3A/Users/mattg/AppData/Local/Programs/Python/Python310/lib/site-packages/fastparquet/writer.py?line=823'>824</a>\u001b[0m                          object_encoding\u001b[39m=\u001b[39;49moencoding, times\u001b[39m=\u001b[39;49mtimes,\n\u001b[0;32m    <a href='file:///c%3A/Users/mattg/AppData/Local/Programs/Python/Python310/lib/site-packages/fastparquet/writer.py?line=824'>825</a>\u001b[0m                          is_index\u001b[39m=\u001b[39;49mis_index)\n\u001b[0;32m    <a href='file:///c%3A/Users/mattg/AppData/Local/Programs/Python/Python310/lib/site-packages/fastparquet/writer.py?line=825'>826</a>\u001b[0m col_has_nulls \u001b[39m=\u001b[39m has_nulls\n\u001b[0;32m    <a href='file:///c%3A/Users/mattg/AppData/Local/Programs/Python/Python310/lib/site-packages/fastparquet/writer.py?line=826'>827</a>\u001b[0m \u001b[39mif\u001b[39;00m has_nulls \u001b[39mis\u001b[39;00m \u001b[39mNone\u001b[39;00m:\n",
      "File \u001b[1;32mc:\\Users\\mattg\\AppData\\Local\\Programs\\Python\\Python310\\lib\\site-packages\\fastparquet\\writer.py:124\u001b[0m, in \u001b[0;36mfind_type\u001b[1;34m(data, fixed_text, object_encoding, times, is_index)\u001b[0m\n\u001b[0;32m    <a href='file:///c%3A/Users/mattg/AppData/Local/Programs/Python/Python310/lib/site-packages/fastparquet/writer.py?line=121'>122</a>\u001b[0m \u001b[39melif\u001b[39;00m dtype \u001b[39m==\u001b[39m \u001b[39m\"\u001b[39m\u001b[39mO\u001b[39m\u001b[39m\"\u001b[39m:\n\u001b[0;32m    <a href='file:///c%3A/Users/mattg/AppData/Local/Programs/Python/Python310/lib/site-packages/fastparquet/writer.py?line=122'>123</a>\u001b[0m     \u001b[39mif\u001b[39;00m object_encoding \u001b[39m==\u001b[39m \u001b[39m'\u001b[39m\u001b[39minfer\u001b[39m\u001b[39m'\u001b[39m:\n\u001b[1;32m--> <a href='file:///c%3A/Users/mattg/AppData/Local/Programs/Python/Python310/lib/site-packages/fastparquet/writer.py?line=123'>124</a>\u001b[0m         object_encoding \u001b[39m=\u001b[39m infer_object_encoding(data)\n\u001b[0;32m    <a href='file:///c%3A/Users/mattg/AppData/Local/Programs/Python/Python310/lib/site-packages/fastparquet/writer.py?line=125'>126</a>\u001b[0m     \u001b[39mif\u001b[39;00m object_encoding \u001b[39m==\u001b[39m \u001b[39m'\u001b[39m\u001b[39mutf8\u001b[39m\u001b[39m'\u001b[39m:\n\u001b[0;32m    <a href='file:///c%3A/Users/mattg/AppData/Local/Programs/Python/Python310/lib/site-packages/fastparquet/writer.py?line=126'>127</a>\u001b[0m         \u001b[39mtype\u001b[39m, converted_type, width \u001b[39m=\u001b[39m (parquet_thrift\u001b[39m.\u001b[39mType\u001b[39m.\u001b[39mBYTE_ARRAY,\n\u001b[0;32m    <a href='file:///c%3A/Users/mattg/AppData/Local/Programs/Python/Python310/lib/site-packages/fastparquet/writer.py?line=127'>128</a>\u001b[0m                                        parquet_thrift\u001b[39m.\u001b[39mConvertedType\u001b[39m.\u001b[39mUTF8,\n\u001b[0;32m    <a href='file:///c%3A/Users/mattg/AppData/Local/Programs/Python/Python310/lib/site-packages/fastparquet/writer.py?line=128'>129</a>\u001b[0m                                        \u001b[39mNone\u001b[39;00m)\n",
      "File \u001b[1;32mc:\\Users\\mattg\\AppData\\Local\\Programs\\Python\\Python310\\lib\\site-packages\\fastparquet\\writer.py:341\u001b[0m, in \u001b[0;36minfer_object_encoding\u001b[1;34m(data)\u001b[0m\n\u001b[0;32m    <a href='file:///c%3A/Users/mattg/AppData/Local/Programs/Python/Python310/lib/site-packages/fastparquet/writer.py?line=338'>339</a>\u001b[0m     \u001b[39mreturn\u001b[39;00m \u001b[39m'\u001b[39m\u001b[39mfloat\u001b[39m\u001b[39m'\u001b[39m\n\u001b[0;32m    <a href='file:///c%3A/Users/mattg/AppData/Local/Programs/Python/Python310/lib/site-packages/fastparquet/writer.py?line=339'>340</a>\u001b[0m \u001b[39melse\u001b[39;00m:\n\u001b[1;32m--> <a href='file:///c%3A/Users/mattg/AppData/Local/Programs/Python/Python310/lib/site-packages/fastparquet/writer.py?line=340'>341</a>\u001b[0m     \u001b[39mraise\u001b[39;00m \u001b[39mValueError\u001b[39;00m(\u001b[39m\"\u001b[39m\u001b[39mCan\u001b[39m\u001b[39m'\u001b[39m\u001b[39mt infer object conversion type: \u001b[39m\u001b[39m%s\u001b[39;00m\u001b[39m\"\u001b[39m \u001b[39m%\u001b[39m head)\n",
      "\u001b[1;31mValueError\u001b[0m: Can't infer object conversion type: 0    2022-04-18\n1    2022-04-18\n2    2022-04-18\n3    2022-04-18\n4    2022-04-18\n5    2022-04-18\n6    2022-04-18\n7    2022-04-18\n8    2022-04-18\n9    2022-04-18\nName: pull_time, dtype: object"
     ]
    }
   ],
   "source": [
    "import fastparquet\n",
    "#price_data.to_feather('price_data_feather.feather')\n",
    "price_data.to_parquet('price_data_parquet.parquet')"
   ]
  },
  {
   "cell_type": "code",
   "execution_count": 9,
   "metadata": {},
   "outputs": [
    {
     "name": "stdout",
     "output_type": "stream",
     "text": [
      "(2966455, 12)\n",
      "(50097, 12)\n",
      "(149241, 12)\n",
      "(11694, 6)\n",
      "(38710, 6)\n",
      "(80017, 11)\n"
     ]
    }
   ],
   "source": [
    "days_to_subtract = 30\n",
    "last_day_from = pd.to_datetime('05/31/2022')\n",
    "date_30_days_ago = last_day_from - timedelta(days=days_to_subtract)\n",
    "pull_time_old = pd.to_datetime('04/20/2022')\n",
    "pull_time_current = pd.to_datetime('05/05/2022')\n",
    "\n",
    "price_data_last30 = price_data[(price_data['check_in'] > str(date_30_days_ago)) & (price_data['check_in'] <= str(last_day_from))]\n",
    "price_data_last30['check_in'] = pd.to_datetime(price_data_last30['check_in'])\n",
    "price_data_last30['day_of_week'] = price_data_last30['check_in'].dt.dayofweek\n",
    "print(price_data_last30.shape)\n",
    "#price_data_last30_avgs = price_data_last30.groupby(['id','pull_time']).mean().reset_index()\n",
    "price_data_previous_pull = price_data_last30[price_data_last30['pull_time'] == pull_time_old]\n",
    "print(price_data_previous_pull.shape)\n",
    "price_data_current_pull = price_data_last30[price_data_last30['pull_time'] == pull_time_current]\n",
    "print(price_data_current_pull.shape)\n",
    "price_data_previous_pull_avgs = price_data_previous_pull.groupby(['id','day_of_week']).mean().reset_index()\n",
    "print(price_data_previous_pull_avgs.shape)\n",
    "price_data_current_pull_avgs = price_data_current_pull.groupby(['id','day_of_week']).mean().reset_index()\n",
    "print(price_data_current_pull_avgs.shape)\n",
    "price_trend = price_data_previous_pull_avgs.merge(price_data_current_pull_avgs, how='inner', on='id')\n",
    "print(price_trend.shape)\n",
    "price_trend.to_csv('price_trend_miami_for_table.csv')"
   ]
  },
  {
   "cell_type": "code",
   "execution_count": 15,
   "metadata": {},
   "outputs": [
    {
     "data": {
      "text/plain": [
       "array([datetime.date(2022, 4, 24), datetime.date(2022, 4, 22),\n",
       "       datetime.date(2022, 4, 23), datetime.date(2022, 4, 21),\n",
       "       datetime.date(2022, 4, 19), datetime.date(2022, 4, 20),\n",
       "       datetime.date(2022, 4, 30), datetime.date(2022, 1, 5),\n",
       "       datetime.date(2022, 2, 5), datetime.date(2022, 3, 5),\n",
       "       datetime.date(2022, 4, 5), datetime.date(2022, 5, 14),\n",
       "       datetime.date(2022, 12, 5), datetime.date(2022, 5, 13),\n",
       "       datetime.date(2022, 5, 17), datetime.date(2022, 5, 15),\n",
       "       datetime.date(2022, 5, 16), datetime.date(2022, 5, 18),\n",
       "       datetime.date(2022, 4, 27), datetime.date(2022, 6, 5),\n",
       "       datetime.date(2022, 7, 5), datetime.date(2022, 5, 5),\n",
       "       datetime.date(2022, 9, 5), datetime.date(2022, 10, 5),\n",
       "       datetime.date(2022, 11, 5), datetime.date(2022, 8, 5),\n",
       "       datetime.date(2022, 4, 28), datetime.date(2022, 4, 29)],\n",
       "      dtype=object)"
      ]
     },
     "execution_count": 15,
     "metadata": {},
     "output_type": "execute_result"
    }
   ],
   "source": [
    "price_data_last30['pull_time'].unique()"
   ]
  },
  {
   "cell_type": "code",
   "execution_count": 96,
   "metadata": {},
   "outputs": [
    {
     "ename": "KeyError",
     "evalue": "'pull_time'",
     "output_type": "error",
     "traceback": [
      "\u001b[1;31m---------------------------------------------------------------------------\u001b[0m",
      "\u001b[1;31mKeyError\u001b[0m                                  Traceback (most recent call last)",
      "\u001b[1;32mc:\\Users\\mattg\\Desktop\\Hobbies\\airbnb_reports\\price_eda.ipynb Cell 16'\u001b[0m in \u001b[0;36m<cell line: 6>\u001b[1;34m()\u001b[0m\n\u001b[0;32m      <a href='vscode-notebook-cell:/c%3A/Users/mattg/Desktop/Hobbies/airbnb_reports/price_eda.ipynb#ch0000011?line=0'>1</a>\u001b[0m \u001b[39m# Do a delta from month of June price vs the month of May price for all properties to see increase vs decrease Month over Month\u001b[39;00m\n\u001b[0;32m      <a href='vscode-notebook-cell:/c%3A/Users/mattg/Desktop/Hobbies/airbnb_reports/price_eda.ipynb#ch0000011?line=1'>2</a>\u001b[0m \u001b[39m# Then, merge each id with its zipcode, state, and city (if city is there) from the flat csv files used in the eda_summary (listings_w_zips.csv)\u001b[39;00m\n\u001b[0;32m      <a href='vscode-notebook-cell:/c%3A/Users/mattg/Desktop/Hobbies/airbnb_reports/price_eda.ipynb#ch0000011?line=2'>3</a>\u001b[0m \u001b[39m# Then, groupby on zipcode with mean on delta from June-May to get average price increase vs decrease in that state/zip/city\u001b[39;00m\n\u001b[0;32m      <a href='vscode-notebook-cell:/c%3A/Users/mattg/Desktop/Hobbies/airbnb_reports/price_eda.ipynb#ch0000011?line=3'>4</a>\u001b[0m \n\u001b[0;32m      <a href='vscode-notebook-cell:/c%3A/Users/mattg/Desktop/Hobbies/airbnb_reports/price_eda.ipynb#ch0000011?line=4'>5</a>\u001b[0m \u001b[39m#price_data_last30_avgs = price_data_last30.groupby(['id','pull_time']).mean().reset_index()\u001b[39;00m\n\u001b[1;32m----> <a href='vscode-notebook-cell:/c%3A/Users/mattg/Desktop/Hobbies/airbnb_reports/price_eda.ipynb#ch0000011?line=5'>6</a>\u001b[0m price_trend_group \u001b[39m=\u001b[39m price_trend\u001b[39m.\u001b[39;49mgroupby([\u001b[39m'\u001b[39;49m\u001b[39mid\u001b[39;49m\u001b[39m'\u001b[39;49m,\u001b[39m'\u001b[39;49m\u001b[39mpull_time\u001b[39;49m\u001b[39m'\u001b[39;49m])\u001b[39m.\u001b[39mmean()\u001b[39m.\u001b[39mreset_index()\n",
      "File \u001b[1;32mc:\\Users\\mattg\\AppData\\Local\\Programs\\Python\\Python310\\lib\\site-packages\\pandas\\core\\frame.py:7712\u001b[0m, in \u001b[0;36mDataFrame.groupby\u001b[1;34m(self, by, axis, level, as_index, sort, group_keys, squeeze, observed, dropna)\u001b[0m\n\u001b[0;32m   <a href='file:///c%3A/Users/mattg/AppData/Local/Programs/Python/Python310/lib/site-packages/pandas/core/frame.py?line=7706'>7707</a>\u001b[0m axis \u001b[39m=\u001b[39m \u001b[39mself\u001b[39m\u001b[39m.\u001b[39m_get_axis_number(axis)\n\u001b[0;32m   <a href='file:///c%3A/Users/mattg/AppData/Local/Programs/Python/Python310/lib/site-packages/pandas/core/frame.py?line=7708'>7709</a>\u001b[0m \u001b[39m# https://github.com/python/mypy/issues/7642\u001b[39;00m\n\u001b[0;32m   <a href='file:///c%3A/Users/mattg/AppData/Local/Programs/Python/Python310/lib/site-packages/pandas/core/frame.py?line=7709'>7710</a>\u001b[0m \u001b[39m# error: Argument \"squeeze\" to \"DataFrameGroupBy\" has incompatible type\u001b[39;00m\n\u001b[0;32m   <a href='file:///c%3A/Users/mattg/AppData/Local/Programs/Python/Python310/lib/site-packages/pandas/core/frame.py?line=7710'>7711</a>\u001b[0m \u001b[39m# \"Union[bool, NoDefault]\"; expected \"bool\"\u001b[39;00m\n\u001b[1;32m-> <a href='file:///c%3A/Users/mattg/AppData/Local/Programs/Python/Python310/lib/site-packages/pandas/core/frame.py?line=7711'>7712</a>\u001b[0m \u001b[39mreturn\u001b[39;00m DataFrameGroupBy(\n\u001b[0;32m   <a href='file:///c%3A/Users/mattg/AppData/Local/Programs/Python/Python310/lib/site-packages/pandas/core/frame.py?line=7712'>7713</a>\u001b[0m     obj\u001b[39m=\u001b[39;49m\u001b[39mself\u001b[39;49m,\n\u001b[0;32m   <a href='file:///c%3A/Users/mattg/AppData/Local/Programs/Python/Python310/lib/site-packages/pandas/core/frame.py?line=7713'>7714</a>\u001b[0m     keys\u001b[39m=\u001b[39;49mby,\n\u001b[0;32m   <a href='file:///c%3A/Users/mattg/AppData/Local/Programs/Python/Python310/lib/site-packages/pandas/core/frame.py?line=7714'>7715</a>\u001b[0m     axis\u001b[39m=\u001b[39;49maxis,\n\u001b[0;32m   <a href='file:///c%3A/Users/mattg/AppData/Local/Programs/Python/Python310/lib/site-packages/pandas/core/frame.py?line=7715'>7716</a>\u001b[0m     level\u001b[39m=\u001b[39;49mlevel,\n\u001b[0;32m   <a href='file:///c%3A/Users/mattg/AppData/Local/Programs/Python/Python310/lib/site-packages/pandas/core/frame.py?line=7716'>7717</a>\u001b[0m     as_index\u001b[39m=\u001b[39;49mas_index,\n\u001b[0;32m   <a href='file:///c%3A/Users/mattg/AppData/Local/Programs/Python/Python310/lib/site-packages/pandas/core/frame.py?line=7717'>7718</a>\u001b[0m     sort\u001b[39m=\u001b[39;49msort,\n\u001b[0;32m   <a href='file:///c%3A/Users/mattg/AppData/Local/Programs/Python/Python310/lib/site-packages/pandas/core/frame.py?line=7718'>7719</a>\u001b[0m     group_keys\u001b[39m=\u001b[39;49mgroup_keys,\n\u001b[0;32m   <a href='file:///c%3A/Users/mattg/AppData/Local/Programs/Python/Python310/lib/site-packages/pandas/core/frame.py?line=7719'>7720</a>\u001b[0m     squeeze\u001b[39m=\u001b[39;49msqueeze,  \u001b[39m# type: ignore[arg-type]\u001b[39;49;00m\n\u001b[0;32m   <a href='file:///c%3A/Users/mattg/AppData/Local/Programs/Python/Python310/lib/site-packages/pandas/core/frame.py?line=7720'>7721</a>\u001b[0m     observed\u001b[39m=\u001b[39;49mobserved,\n\u001b[0;32m   <a href='file:///c%3A/Users/mattg/AppData/Local/Programs/Python/Python310/lib/site-packages/pandas/core/frame.py?line=7721'>7722</a>\u001b[0m     dropna\u001b[39m=\u001b[39;49mdropna,\n\u001b[0;32m   <a href='file:///c%3A/Users/mattg/AppData/Local/Programs/Python/Python310/lib/site-packages/pandas/core/frame.py?line=7722'>7723</a>\u001b[0m )\n",
      "File \u001b[1;32mc:\\Users\\mattg\\AppData\\Local\\Programs\\Python\\Python310\\lib\\site-packages\\pandas\\core\\groupby\\groupby.py:882\u001b[0m, in \u001b[0;36mGroupBy.__init__\u001b[1;34m(self, obj, keys, axis, level, grouper, exclusions, selection, as_index, sort, group_keys, squeeze, observed, mutated, dropna)\u001b[0m\n\u001b[0;32m    <a href='file:///c%3A/Users/mattg/AppData/Local/Programs/Python/Python310/lib/site-packages/pandas/core/groupby/groupby.py?line=878'>879</a>\u001b[0m \u001b[39mif\u001b[39;00m grouper \u001b[39mis\u001b[39;00m \u001b[39mNone\u001b[39;00m:\n\u001b[0;32m    <a href='file:///c%3A/Users/mattg/AppData/Local/Programs/Python/Python310/lib/site-packages/pandas/core/groupby/groupby.py?line=879'>880</a>\u001b[0m     \u001b[39mfrom\u001b[39;00m \u001b[39mpandas\u001b[39;00m\u001b[39m.\u001b[39;00m\u001b[39mcore\u001b[39;00m\u001b[39m.\u001b[39;00m\u001b[39mgroupby\u001b[39;00m\u001b[39m.\u001b[39;00m\u001b[39mgrouper\u001b[39;00m \u001b[39mimport\u001b[39;00m get_grouper\n\u001b[1;32m--> <a href='file:///c%3A/Users/mattg/AppData/Local/Programs/Python/Python310/lib/site-packages/pandas/core/groupby/groupby.py?line=881'>882</a>\u001b[0m     grouper, exclusions, obj \u001b[39m=\u001b[39m get_grouper(\n\u001b[0;32m    <a href='file:///c%3A/Users/mattg/AppData/Local/Programs/Python/Python310/lib/site-packages/pandas/core/groupby/groupby.py?line=882'>883</a>\u001b[0m         obj,\n\u001b[0;32m    <a href='file:///c%3A/Users/mattg/AppData/Local/Programs/Python/Python310/lib/site-packages/pandas/core/groupby/groupby.py?line=883'>884</a>\u001b[0m         keys,\n\u001b[0;32m    <a href='file:///c%3A/Users/mattg/AppData/Local/Programs/Python/Python310/lib/site-packages/pandas/core/groupby/groupby.py?line=884'>885</a>\u001b[0m         axis\u001b[39m=\u001b[39;49maxis,\n\u001b[0;32m    <a href='file:///c%3A/Users/mattg/AppData/Local/Programs/Python/Python310/lib/site-packages/pandas/core/groupby/groupby.py?line=885'>886</a>\u001b[0m         level\u001b[39m=\u001b[39;49mlevel,\n\u001b[0;32m    <a href='file:///c%3A/Users/mattg/AppData/Local/Programs/Python/Python310/lib/site-packages/pandas/core/groupby/groupby.py?line=886'>887</a>\u001b[0m         sort\u001b[39m=\u001b[39;49msort,\n\u001b[0;32m    <a href='file:///c%3A/Users/mattg/AppData/Local/Programs/Python/Python310/lib/site-packages/pandas/core/groupby/groupby.py?line=887'>888</a>\u001b[0m         observed\u001b[39m=\u001b[39;49mobserved,\n\u001b[0;32m    <a href='file:///c%3A/Users/mattg/AppData/Local/Programs/Python/Python310/lib/site-packages/pandas/core/groupby/groupby.py?line=888'>889</a>\u001b[0m         mutated\u001b[39m=\u001b[39;49m\u001b[39mself\u001b[39;49m\u001b[39m.\u001b[39;49mmutated,\n\u001b[0;32m    <a href='file:///c%3A/Users/mattg/AppData/Local/Programs/Python/Python310/lib/site-packages/pandas/core/groupby/groupby.py?line=889'>890</a>\u001b[0m         dropna\u001b[39m=\u001b[39;49m\u001b[39mself\u001b[39;49m\u001b[39m.\u001b[39;49mdropna,\n\u001b[0;32m    <a href='file:///c%3A/Users/mattg/AppData/Local/Programs/Python/Python310/lib/site-packages/pandas/core/groupby/groupby.py?line=890'>891</a>\u001b[0m     )\n\u001b[0;32m    <a href='file:///c%3A/Users/mattg/AppData/Local/Programs/Python/Python310/lib/site-packages/pandas/core/groupby/groupby.py?line=892'>893</a>\u001b[0m \u001b[39mself\u001b[39m\u001b[39m.\u001b[39mobj \u001b[39m=\u001b[39m obj\n\u001b[0;32m    <a href='file:///c%3A/Users/mattg/AppData/Local/Programs/Python/Python310/lib/site-packages/pandas/core/groupby/groupby.py?line=893'>894</a>\u001b[0m \u001b[39mself\u001b[39m\u001b[39m.\u001b[39maxis \u001b[39m=\u001b[39m obj\u001b[39m.\u001b[39m_get_axis_number(axis)\n",
      "File \u001b[1;32mc:\\Users\\mattg\\AppData\\Local\\Programs\\Python\\Python310\\lib\\site-packages\\pandas\\core\\groupby\\grouper.py:882\u001b[0m, in \u001b[0;36mget_grouper\u001b[1;34m(obj, key, axis, level, sort, observed, mutated, validate, dropna)\u001b[0m\n\u001b[0;32m    <a href='file:///c%3A/Users/mattg/AppData/Local/Programs/Python/Python310/lib/site-packages/pandas/core/groupby/grouper.py?line=879'>880</a>\u001b[0m         in_axis, level, gpr \u001b[39m=\u001b[39m \u001b[39mFalse\u001b[39;00m, gpr, \u001b[39mNone\u001b[39;00m\n\u001b[0;32m    <a href='file:///c%3A/Users/mattg/AppData/Local/Programs/Python/Python310/lib/site-packages/pandas/core/groupby/grouper.py?line=880'>881</a>\u001b[0m     \u001b[39melse\u001b[39;00m:\n\u001b[1;32m--> <a href='file:///c%3A/Users/mattg/AppData/Local/Programs/Python/Python310/lib/site-packages/pandas/core/groupby/grouper.py?line=881'>882</a>\u001b[0m         \u001b[39mraise\u001b[39;00m \u001b[39mKeyError\u001b[39;00m(gpr)\n\u001b[0;32m    <a href='file:///c%3A/Users/mattg/AppData/Local/Programs/Python/Python310/lib/site-packages/pandas/core/groupby/grouper.py?line=882'>883</a>\u001b[0m \u001b[39melif\u001b[39;00m \u001b[39misinstance\u001b[39m(gpr, Grouper) \u001b[39mand\u001b[39;00m gpr\u001b[39m.\u001b[39mkey \u001b[39mis\u001b[39;00m \u001b[39mnot\u001b[39;00m \u001b[39mNone\u001b[39;00m:\n\u001b[0;32m    <a href='file:///c%3A/Users/mattg/AppData/Local/Programs/Python/Python310/lib/site-packages/pandas/core/groupby/grouper.py?line=883'>884</a>\u001b[0m     \u001b[39m# Add key to exclusions\u001b[39;00m\n\u001b[0;32m    <a href='file:///c%3A/Users/mattg/AppData/Local/Programs/Python/Python310/lib/site-packages/pandas/core/groupby/grouper.py?line=884'>885</a>\u001b[0m     exclusions\u001b[39m.\u001b[39madd(gpr\u001b[39m.\u001b[39mkey)\n",
      "\u001b[1;31mKeyError\u001b[0m: 'pull_time'"
     ]
    }
   ],
   "source": [
    "# Do a delta from month of June price vs the month of May price for all properties to see increase vs decrease Month over Month\n",
    "# Then, merge each id with its zipcode, state, and city (if city is there) from the flat csv files used in the eda_summary (listings_w_zips.csv)\n",
    "# Then, groupby on zipcode with mean on delta from June-May to get average price increase vs decrease in that state/zip/city\n",
    "\"\"\"\n",
    "price_data_last30_avgs = price_data_last30.groupby(['id','pull_time']).mean().reset_index()\n",
    "price_data_last30_avgs.to_csv('price_data_last30_avgs.csv')\n",
    "data_w_listing_loc = pd.read_csv('post_mort_and_roi_calcs_june19.csv')\n",
    "data_w_listing_loc = data_w_listing_loc[['id','zipcode','City','Metro','CountyName','State']]\n",
    "price_data_last30_avgs.id = price_data_last30_avgs.id.astype('float64')\n",
    "price_data_last30_avgs_w_loc = price_data_last30_avgs.merge(data_w_listing_loc, how='inner', on='id')\n",
    "florida_price_trends = price_data_last30_avgs_w_loc[price_data_last30_avgs_w_loc['State'] == 'FL']\n",
    "florida_price_trends = florida_price_trends.groupby('pull_time').mean(['cleaning_fee','service_fee','total_price']).reset_index()\n",
    "\n",
    "#price_data_date = price_data.groupby(['check_in'])['cleaning_fee','service_fee','total_price'].apply(lambda row: np.sum(row)/len(row)).reset_index()\n",
    "\n",
    "# Create traces\n",
    "florida_price_trends_fig = go.Figure()\n",
    "florida_price_trends_fig.add_trace(go.Scatter(x=price_data_date['check_in'], y=price_data_date['cleaning_fee'],\n",
    "                    mode='lines',\n",
    "                    name='Cleaning Fee'))\n",
    "florida_price_trends_fig.add_trace(go.Scatter(x=price_data_date['check_in'], y=price_data_date['service_fee'],\n",
    "                    mode='lines',\n",
    "                    name='Service Fee'))\n",
    "florida_price_trends_fig.add_trace(go.Scatter(x=price_data_date['check_in'], y=price_data_date['total_price'],\n",
    "                    mode='lines', \n",
    "                    name='Total Price'))\n",
    "florida_price_trends_fig.update_layout(title_text=\"Pricing Data by Pull Time\", xaxis_title='Date', yaxis_title='Price ($)')\n",
    "filename = \"newsletter_features/florida_price_trends_fig_june19.png\"\n",
    "florida_price_trends_fig.write_image(filename, engine='kaleido', width=2000, height=500)\n",
    "florida_price_trends_fig.show()\n",
    "\"\"\""
   ]
  },
  {
   "cell_type": "code",
   "execution_count": 13,
   "metadata": {},
   "outputs": [],
   "source": [
    "price_trend['cleaning_fee_delta'] = price_trend['cleaning_fee_y'] - price_trend['cleaning_fee_x']\n",
    "price_trend['service_fee_delta'] = price_trend['service_fee_y'] - price_trend['service_fee_x']\n",
    "price_trend['total_price_delta'] = price_trend['total_price_y'] - price_trend['total_price_x']\n",
    "#price_trend['display_price_delta'] = price_trend['total_price_delta'] - price_trend['service_fee_delta'] - price_trend['cleaning_fee_delta']\n",
    "price_trend['cleaning_fee_delta_pct'] = price_trend['cleaning_fee_delta']/price_trend['cleaning_fee_x']*100\n",
    "price_trend['service_fee_delta_pct'] = price_trend['service_fee_delta']/price_trend['service_fee_x']*100\n",
    "price_trend['total_price_delta_pct'] = price_trend['total_price_delta']/price_trend['total_price_x']*100\n",
    "#price_trend['display_price_delta_pct'] = price_trend['display_price_delta']/(price_trend['total_price_x']-price_trend['service_fee_x']-price_trend['cleaning_fee_x'])*100\n",
    "price_trend['display_price_delta_pct'] = price_trend['total_price_delta_pct'] - price_trend['service_fee_delta_pct'] - price_trend['cleaning_fee_delta_pct']\n",
    "data_w_listing_loc = pd.read_csv('post_mort_and_roi_calcs_june19.csv')\n",
    "data_w_listing_loc = data_w_listing_loc[['id','zipcode','City','Metro','CountyName','State']]\n",
    "price_trend['id'] = price_trend['id'].astype('float64')\n",
    "price_trend_wloc = price_trend.merge(data_w_listing_loc, how='inner', on='id')"
   ]
  },
  {
   "cell_type": "code",
   "execution_count": 14,
   "metadata": {},
   "outputs": [
    {
     "data": {
      "application/vnd.plotly.v1+json": {
       "config": {
        "plotlyServerURL": "https://plot.ly"
       },
       "data": [
        {
         "cells": {
          "align": [
           "left",
           "left",
           "left",
           "left",
           "left"
          ],
          "fill": {
           "color": "rgb(245,245,245)"
          },
          "font": {
           "color": [
            "rgb(40,40,40)",
            [
             "rgb(255,0,0)",
             "rgb(255,0,0)",
             "rgb(255,0,0)",
             "rgb(255,0,0)",
             "rgb(255,0,0)",
             "rgb(255,0,0)",
             "rgb(255,0,0)",
             "rgb(0,125,0)",
             "rgb(255,0,0)",
             "rgb(255,0,0)",
             "rgb(0,125,0)",
             "rgb(0,125,0)",
             "rgb(0,125,0)",
             "rgb(0,125,0)"
            ],
            [
             "rgb(0,125,0)",
             "rgb(0,125,0)",
             "rgb(0,125,0)",
             "rgb(0,125,0)",
             "rgb(0,125,0)",
             "rgb(0,125,0)",
             "rgb(0,125,0)",
             "rgb(0,125,0)",
             "rgb(0,125,0)",
             "rgb(0,125,0)",
             "rgb(0,125,0)",
             "rgb(0,125,0)",
             "rgb(0,125,0)",
             "rgb(0,125,0)"
            ],
            [
             "rgb(255,0,0)",
             "rgb(255,0,0)",
             "rgb(255,0,0)",
             "rgb(255,0,0)",
             "rgb(255,0,0)",
             "rgb(255,0,0)",
             "rgb(255,0,0)",
             "rgb(0,125,0)",
             "rgb(255,0,0)",
             "rgb(255,0,0)",
             "rgb(0,125,0)",
             "rgb(0,125,0)",
             "rgb(0,125,0)",
             "rgb(0,125,0)"
            ],
            [
             "rgb(255,0,0)",
             "rgb(255,0,0)",
             "rgb(255,0,0)",
             "rgb(255,0,0)",
             "rgb(255,0,0)",
             "rgb(255,0,0)",
             "rgb(255,0,0)",
             "rgb(0,125,0)",
             "rgb(255,0,0)",
             "rgb(255,0,0)",
             "rgb(0,125,0)",
             "rgb(255,0,0)",
             "rgb(0,125,0)",
             "rgb(0,125,0)"
            ]
           ],
           "family": "Arial",
           "size": 14
          },
          "format": [
           null,
           ",.2f"
          ],
          "height": 30,
          "line": {
           "color": "#506784"
          },
          "values": [
           [
            33109,
            33125,
            33127,
            33131,
            33133,
            33137,
            33138,
            33139,
            33140,
            33141,
            33147,
            33150,
            33169,
            33175
           ],
           [
            -0.20656858752459725,
            -5.191843847438358,
            -2.1547746606255895,
            -0.406231262798217,
            -4.296875484237966,
            -0.7033832085764136,
            -0.28653478769951374,
            0.04952308652548324,
            -8.548508125284858,
            -2.8130668821166016,
            0,
            null,
            null,
            0
           ],
           [
            0,
            0,
            0,
            0,
            0,
            0,
            0,
            0,
            0,
            0,
            0,
            0,
            null,
            0
           ],
           [
            -0.22398696803095988,
            -4.615012399443543,
            -2.527756684186751,
            -10.315437119756403,
            -8.357304186278917,
            -2.5181723779854575,
            -0.3851851851851848,
            1.6971810089024872,
            -24.0039699418687,
            -6.780041293328154,
            0,
            null,
            1.112723754233192,
            0
           ],
           [
            -0.43055555555555713,
            -9.806856246881901,
            -4.6825313448123405,
            -10.72166838255462,
            -12.654179670516884,
            -3.221555586561871,
            -0.6717199728846985,
            1.743514557001376,
            -32.55247806715356,
            -9.593108175444756,
            0,
            -13.580628541988657,
            1.1207828412129501,
            0
           ]
          ]
         },
         "columnorder": [
          0,
          1,
          2,
          3,
          4
         ],
         "columnwidth": [
          50,
          50,
          50,
          50,
          50
         ],
         "header": {
          "align": [
           "left",
           "left",
           "left",
           "left",
           "left"
          ],
          "font": {
           "color": [
            "rgb(45,45,45)",
            "rgb(45,45,45)",
            "rgb(45,45,45)",
            "rgb(45,45,45)"
           ],
           "size": 14
          },
          "height": 40,
          "line": {
           "color": "rgb(50,50,50)"
          },
          "values": [
           [
            "<b>Zip Code</b>"
           ],
           [
            "<b>Display Price</b>"
           ],
           [
            "<b>Cleaning Fee</b>"
           ],
           [
            "<b>Service Fee</b>"
           ],
           [
            "<b>Total Price</b>"
           ]
          ]
         },
         "type": "table"
        }
       ],
       "layout": {
        "autosize": false,
        "height": 650,
        "showlegend": false,
        "template": {
         "data": {
          "bar": [
           {
            "error_x": {
             "color": "#2a3f5f"
            },
            "error_y": {
             "color": "#2a3f5f"
            },
            "marker": {
             "line": {
              "color": "#E5ECF6",
              "width": 0.5
             },
             "pattern": {
              "fillmode": "overlay",
              "size": 10,
              "solidity": 0.2
             }
            },
            "type": "bar"
           }
          ],
          "barpolar": [
           {
            "marker": {
             "line": {
              "color": "#E5ECF6",
              "width": 0.5
             },
             "pattern": {
              "fillmode": "overlay",
              "size": 10,
              "solidity": 0.2
             }
            },
            "type": "barpolar"
           }
          ],
          "carpet": [
           {
            "aaxis": {
             "endlinecolor": "#2a3f5f",
             "gridcolor": "white",
             "linecolor": "white",
             "minorgridcolor": "white",
             "startlinecolor": "#2a3f5f"
            },
            "baxis": {
             "endlinecolor": "#2a3f5f",
             "gridcolor": "white",
             "linecolor": "white",
             "minorgridcolor": "white",
             "startlinecolor": "#2a3f5f"
            },
            "type": "carpet"
           }
          ],
          "choropleth": [
           {
            "colorbar": {
             "outlinewidth": 0,
             "ticks": ""
            },
            "type": "choropleth"
           }
          ],
          "contour": [
           {
            "colorbar": {
             "outlinewidth": 0,
             "ticks": ""
            },
            "colorscale": [
             [
              0,
              "#0d0887"
             ],
             [
              0.1111111111111111,
              "#46039f"
             ],
             [
              0.2222222222222222,
              "#7201a8"
             ],
             [
              0.3333333333333333,
              "#9c179e"
             ],
             [
              0.4444444444444444,
              "#bd3786"
             ],
             [
              0.5555555555555556,
              "#d8576b"
             ],
             [
              0.6666666666666666,
              "#ed7953"
             ],
             [
              0.7777777777777778,
              "#fb9f3a"
             ],
             [
              0.8888888888888888,
              "#fdca26"
             ],
             [
              1,
              "#f0f921"
             ]
            ],
            "type": "contour"
           }
          ],
          "contourcarpet": [
           {
            "colorbar": {
             "outlinewidth": 0,
             "ticks": ""
            },
            "type": "contourcarpet"
           }
          ],
          "heatmap": [
           {
            "colorbar": {
             "outlinewidth": 0,
             "ticks": ""
            },
            "colorscale": [
             [
              0,
              "#0d0887"
             ],
             [
              0.1111111111111111,
              "#46039f"
             ],
             [
              0.2222222222222222,
              "#7201a8"
             ],
             [
              0.3333333333333333,
              "#9c179e"
             ],
             [
              0.4444444444444444,
              "#bd3786"
             ],
             [
              0.5555555555555556,
              "#d8576b"
             ],
             [
              0.6666666666666666,
              "#ed7953"
             ],
             [
              0.7777777777777778,
              "#fb9f3a"
             ],
             [
              0.8888888888888888,
              "#fdca26"
             ],
             [
              1,
              "#f0f921"
             ]
            ],
            "type": "heatmap"
           }
          ],
          "heatmapgl": [
           {
            "colorbar": {
             "outlinewidth": 0,
             "ticks": ""
            },
            "colorscale": [
             [
              0,
              "#0d0887"
             ],
             [
              0.1111111111111111,
              "#46039f"
             ],
             [
              0.2222222222222222,
              "#7201a8"
             ],
             [
              0.3333333333333333,
              "#9c179e"
             ],
             [
              0.4444444444444444,
              "#bd3786"
             ],
             [
              0.5555555555555556,
              "#d8576b"
             ],
             [
              0.6666666666666666,
              "#ed7953"
             ],
             [
              0.7777777777777778,
              "#fb9f3a"
             ],
             [
              0.8888888888888888,
              "#fdca26"
             ],
             [
              1,
              "#f0f921"
             ]
            ],
            "type": "heatmapgl"
           }
          ],
          "histogram": [
           {
            "marker": {
             "pattern": {
              "fillmode": "overlay",
              "size": 10,
              "solidity": 0.2
             }
            },
            "type": "histogram"
           }
          ],
          "histogram2d": [
           {
            "colorbar": {
             "outlinewidth": 0,
             "ticks": ""
            },
            "colorscale": [
             [
              0,
              "#0d0887"
             ],
             [
              0.1111111111111111,
              "#46039f"
             ],
             [
              0.2222222222222222,
              "#7201a8"
             ],
             [
              0.3333333333333333,
              "#9c179e"
             ],
             [
              0.4444444444444444,
              "#bd3786"
             ],
             [
              0.5555555555555556,
              "#d8576b"
             ],
             [
              0.6666666666666666,
              "#ed7953"
             ],
             [
              0.7777777777777778,
              "#fb9f3a"
             ],
             [
              0.8888888888888888,
              "#fdca26"
             ],
             [
              1,
              "#f0f921"
             ]
            ],
            "type": "histogram2d"
           }
          ],
          "histogram2dcontour": [
           {
            "colorbar": {
             "outlinewidth": 0,
             "ticks": ""
            },
            "colorscale": [
             [
              0,
              "#0d0887"
             ],
             [
              0.1111111111111111,
              "#46039f"
             ],
             [
              0.2222222222222222,
              "#7201a8"
             ],
             [
              0.3333333333333333,
              "#9c179e"
             ],
             [
              0.4444444444444444,
              "#bd3786"
             ],
             [
              0.5555555555555556,
              "#d8576b"
             ],
             [
              0.6666666666666666,
              "#ed7953"
             ],
             [
              0.7777777777777778,
              "#fb9f3a"
             ],
             [
              0.8888888888888888,
              "#fdca26"
             ],
             [
              1,
              "#f0f921"
             ]
            ],
            "type": "histogram2dcontour"
           }
          ],
          "mesh3d": [
           {
            "colorbar": {
             "outlinewidth": 0,
             "ticks": ""
            },
            "type": "mesh3d"
           }
          ],
          "parcoords": [
           {
            "line": {
             "colorbar": {
              "outlinewidth": 0,
              "ticks": ""
             }
            },
            "type": "parcoords"
           }
          ],
          "pie": [
           {
            "automargin": true,
            "type": "pie"
           }
          ],
          "scatter": [
           {
            "fillpattern": {
             "fillmode": "overlay",
             "size": 10,
             "solidity": 0.2
            },
            "type": "scatter"
           }
          ],
          "scatter3d": [
           {
            "line": {
             "colorbar": {
              "outlinewidth": 0,
              "ticks": ""
             }
            },
            "marker": {
             "colorbar": {
              "outlinewidth": 0,
              "ticks": ""
             }
            },
            "type": "scatter3d"
           }
          ],
          "scattercarpet": [
           {
            "marker": {
             "colorbar": {
              "outlinewidth": 0,
              "ticks": ""
             }
            },
            "type": "scattercarpet"
           }
          ],
          "scattergeo": [
           {
            "marker": {
             "colorbar": {
              "outlinewidth": 0,
              "ticks": ""
             }
            },
            "type": "scattergeo"
           }
          ],
          "scattergl": [
           {
            "marker": {
             "colorbar": {
              "outlinewidth": 0,
              "ticks": ""
             }
            },
            "type": "scattergl"
           }
          ],
          "scattermapbox": [
           {
            "marker": {
             "colorbar": {
              "outlinewidth": 0,
              "ticks": ""
             }
            },
            "type": "scattermapbox"
           }
          ],
          "scatterpolar": [
           {
            "marker": {
             "colorbar": {
              "outlinewidth": 0,
              "ticks": ""
             }
            },
            "type": "scatterpolar"
           }
          ],
          "scatterpolargl": [
           {
            "marker": {
             "colorbar": {
              "outlinewidth": 0,
              "ticks": ""
             }
            },
            "type": "scatterpolargl"
           }
          ],
          "scatterternary": [
           {
            "marker": {
             "colorbar": {
              "outlinewidth": 0,
              "ticks": ""
             }
            },
            "type": "scatterternary"
           }
          ],
          "surface": [
           {
            "colorbar": {
             "outlinewidth": 0,
             "ticks": ""
            },
            "colorscale": [
             [
              0,
              "#0d0887"
             ],
             [
              0.1111111111111111,
              "#46039f"
             ],
             [
              0.2222222222222222,
              "#7201a8"
             ],
             [
              0.3333333333333333,
              "#9c179e"
             ],
             [
              0.4444444444444444,
              "#bd3786"
             ],
             [
              0.5555555555555556,
              "#d8576b"
             ],
             [
              0.6666666666666666,
              "#ed7953"
             ],
             [
              0.7777777777777778,
              "#fb9f3a"
             ],
             [
              0.8888888888888888,
              "#fdca26"
             ],
             [
              1,
              "#f0f921"
             ]
            ],
            "type": "surface"
           }
          ],
          "table": [
           {
            "cells": {
             "fill": {
              "color": "#EBF0F8"
             },
             "line": {
              "color": "white"
             }
            },
            "header": {
             "fill": {
              "color": "#C8D4E3"
             },
             "line": {
              "color": "white"
             }
            },
            "type": "table"
           }
          ]
         },
         "layout": {
          "annotationdefaults": {
           "arrowcolor": "#2a3f5f",
           "arrowhead": 0,
           "arrowwidth": 1
          },
          "autotypenumbers": "strict",
          "coloraxis": {
           "colorbar": {
            "outlinewidth": 0,
            "ticks": ""
           }
          },
          "colorscale": {
           "diverging": [
            [
             0,
             "#8e0152"
            ],
            [
             0.1,
             "#c51b7d"
            ],
            [
             0.2,
             "#de77ae"
            ],
            [
             0.3,
             "#f1b6da"
            ],
            [
             0.4,
             "#fde0ef"
            ],
            [
             0.5,
             "#f7f7f7"
            ],
            [
             0.6,
             "#e6f5d0"
            ],
            [
             0.7,
             "#b8e186"
            ],
            [
             0.8,
             "#7fbc41"
            ],
            [
             0.9,
             "#4d9221"
            ],
            [
             1,
             "#276419"
            ]
           ],
           "sequential": [
            [
             0,
             "#0d0887"
            ],
            [
             0.1111111111111111,
             "#46039f"
            ],
            [
             0.2222222222222222,
             "#7201a8"
            ],
            [
             0.3333333333333333,
             "#9c179e"
            ],
            [
             0.4444444444444444,
             "#bd3786"
            ],
            [
             0.5555555555555556,
             "#d8576b"
            ],
            [
             0.6666666666666666,
             "#ed7953"
            ],
            [
             0.7777777777777778,
             "#fb9f3a"
            ],
            [
             0.8888888888888888,
             "#fdca26"
            ],
            [
             1,
             "#f0f921"
            ]
           ],
           "sequentialminus": [
            [
             0,
             "#0d0887"
            ],
            [
             0.1111111111111111,
             "#46039f"
            ],
            [
             0.2222222222222222,
             "#7201a8"
            ],
            [
             0.3333333333333333,
             "#9c179e"
            ],
            [
             0.4444444444444444,
             "#bd3786"
            ],
            [
             0.5555555555555556,
             "#d8576b"
            ],
            [
             0.6666666666666666,
             "#ed7953"
            ],
            [
             0.7777777777777778,
             "#fb9f3a"
            ],
            [
             0.8888888888888888,
             "#fdca26"
            ],
            [
             1,
             "#f0f921"
            ]
           ]
          },
          "colorway": [
           "#636efa",
           "#EF553B",
           "#00cc96",
           "#ab63fa",
           "#FFA15A",
           "#19d3f3",
           "#FF6692",
           "#B6E880",
           "#FF97FF",
           "#FECB52"
          ],
          "font": {
           "color": "#2a3f5f"
          },
          "geo": {
           "bgcolor": "white",
           "lakecolor": "white",
           "landcolor": "#E5ECF6",
           "showlakes": true,
           "showland": true,
           "subunitcolor": "white"
          },
          "hoverlabel": {
           "align": "left"
          },
          "hovermode": "closest",
          "mapbox": {
           "style": "light"
          },
          "paper_bgcolor": "white",
          "plot_bgcolor": "#E5ECF6",
          "polar": {
           "angularaxis": {
            "gridcolor": "white",
            "linecolor": "white",
            "ticks": ""
           },
           "bgcolor": "#E5ECF6",
           "radialaxis": {
            "gridcolor": "white",
            "linecolor": "white",
            "ticks": ""
           }
          },
          "scene": {
           "xaxis": {
            "backgroundcolor": "#E5ECF6",
            "gridcolor": "white",
            "gridwidth": 2,
            "linecolor": "white",
            "showbackground": true,
            "ticks": "",
            "zerolinecolor": "white"
           },
           "yaxis": {
            "backgroundcolor": "#E5ECF6",
            "gridcolor": "white",
            "gridwidth": 2,
            "linecolor": "white",
            "showbackground": true,
            "ticks": "",
            "zerolinecolor": "white"
           },
           "zaxis": {
            "backgroundcolor": "#E5ECF6",
            "gridcolor": "white",
            "gridwidth": 2,
            "linecolor": "white",
            "showbackground": true,
            "ticks": "",
            "zerolinecolor": "white"
           }
          },
          "shapedefaults": {
           "line": {
            "color": "#2a3f5f"
           }
          },
          "ternary": {
           "aaxis": {
            "gridcolor": "white",
            "linecolor": "white",
            "ticks": ""
           },
           "baxis": {
            "gridcolor": "white",
            "linecolor": "white",
            "ticks": ""
           },
           "bgcolor": "#E5ECF6",
           "caxis": {
            "gridcolor": "white",
            "linecolor": "white",
            "ticks": ""
           }
          },
          "title": {
           "x": 0.05
          },
          "xaxis": {
           "automargin": true,
           "gridcolor": "white",
           "linecolor": "white",
           "ticks": "",
           "title": {
            "standoff": 15
           },
           "zerolinecolor": "white",
           "zerolinewidth": 2
          },
          "yaxis": {
           "automargin": true,
           "gridcolor": "white",
           "linecolor": "white",
           "ticks": "",
           "title": {
            "standoff": 15
           },
           "zerolinecolor": "white",
           "zerolinewidth": 2
          }
         }
        },
        "title": {
         "text": "Recent Pricing Trends in Miami (%) (M/M)",
         "x": 0.5
        },
        "width": 850
       }
      }
     },
     "metadata": {},
     "output_type": "display_data"
    }
   ],
   "source": [
    "florida_price_trends = price_trend_wloc[price_trend_wloc['State'] == 'FL']\n",
    "florida_price_trends_zip = florida_price_trends.groupby('zipcode').mean(['cleaning_fee_delta_pct','service_fee_delta_pct','total_price_delta_pct']).reset_index()\n",
    "florida_price_trends_city = florida_price_trends.groupby('City').mean(['cleaning_fee_delta_pct','service_fee_delta_pct','total_price_delta_pct']).reset_index()\n",
    "\"\"\"\n",
    "florida_price_trends_fig = go.Figure()\n",
    "florida_price_trends_fig.add_trace(go.Scatter(x=price_data_date['check_in'], y=price_data_date['cleaning_fee'],\n",
    "                    mode='lines',\n",
    "                    name='Cleaning Fee'))\n",
    "florida_price_trends_fig.add_trace(go.Scatter(x=price_data_date['check_in'], y=price_data_date['service_fee'],\n",
    "                    mode='lines',\n",
    "                    name='Service Fee'))\n",
    "florida_price_trends_fig.add_trace(go.Scatter(x=price_data_date['check_in'], y=price_data_date['total_price'],\n",
    "                    mode='lines', \n",
    "                    name='Total Price'))\n",
    "florida_price_trends_fig.update_layout(title_text=\"Pricing Data by Pull Time\", xaxis_title='Date', yaxis_title='Price ($)')\n",
    "filename = \"newsletter_features/florida_price_trends_fig_june19.png\"\n",
    "florida_price_trends_fig.write_image(filename, engine='kaleido', width=2000, height=500)\n",
    "florida_price_trends_fig.show()\n",
    "\"\"\"\n",
    "import plotly.graph_objects as go\n",
    "\n",
    "zips = florida_price_trends_zip['zipcode']\n",
    "vals = [florida_price_trends_zip['display_price_delta_pct'], florida_price_trends_zip['cleaning_fee_delta_pct'], florida_price_trends_zip['service_fee_delta_pct'], florida_price_trends_zip['total_price_delta_pct']]\n",
    "font_color = ['rgb(40,40,40)'] +  [['rgb(255,0,0)' if v < 0 else 'rgb(0,125,0)' for v in vals[k]] for k in range(4)]\n",
    "\n",
    "table_trace = go.Table(\n",
    "                 columnwidth= [50]+[50]+[50]+[50]+[50],\n",
    "                 columnorder=[0, 1, 2, 3, 4],\n",
    "                 header = dict(height = 40,\n",
    "                               values = [['<b>Zip Code</b>'], ['<b>Display Price</b>'], ['<b>Cleaning Fee</b>'], ['<b>Service Fee</b>'],['<b>Total Price</b>']],\n",
    "                               line = dict(color='rgb(50,50,50)'),\n",
    "                               align = ['left']*5,\n",
    "                               font = dict(color=['rgb(45,45,45)']*4, size=14),\n",
    "                             \n",
    "                              ),\n",
    "                 cells = dict(values = [zips, vals[0], vals[1], vals[2], vals[3]],\n",
    "                              line = dict(color='#506784'),\n",
    "                              align = ['left']*5,\n",
    "                              \n",
    "                              font = dict(family=\"Arial\", size=14, color=font_color),\n",
    "                              format = [None, \",.2f\"],  #add % sign here\n",
    "                              height = 30,\n",
    "                              fill = dict(color='rgb(245,245,245)'))\n",
    "                             )\n",
    "                 \n",
    "\n",
    "layout = go.Layout(width=850, height=650, autosize=False, \n",
    "              title_text='Recent Pricing Trends in Miami (%) (M/M)',\n",
    "                   title_x=0.5, showlegend=False)\n",
    "florda_price_trend_fig = go.Figure(data=[table_trace], layout=layout)\n",
    "filename = \"newsletter_features/florida_price_trends_table_june19.png\"\n",
    "florda_price_trend_fig.write_image(filename, engine='kaleido', width=875, height=700)\n",
    "florda_price_trend_fig.show()\n",
    "\n",
    "# Look to do one price value and look and price change by day of the week"
   ]
  },
  {
   "cell_type": "code",
   "execution_count": 95,
   "metadata": {},
   "outputs": [],
   "source": [
    "# make a new notebook called occupancy_eda.ipynb and copy all this code except switch out occupancy and change up logic and table (maybe do like month over month occupancy or 3 month outlook on occupancy)\n",
    "# (could be like occupancy rate and if its green it went up and if its red it went down)"
   ]
  },
  {
   "cell_type": "code",
   "execution_count": 16,
   "metadata": {},
   "outputs": [
    {
     "name": "stdout",
     "output_type": "stream",
     "text": [
      "(2966455, 11)\n",
      "(5604, 5)\n",
      "(5604, 5)\n",
      "(5604, 9)\n"
     ]
    }
   ],
   "source": [
    "fwd_looking_days = 28\n",
    "pull_time_current = pd.to_datetime('05/05/2022') # Would be set as date for \"today\" in the future\n",
    "fwd_looking_date_current = pull_time_current + timedelta(days=fwd_looking_days)\n",
    "pull_time_old = last_day_from - timedelta(days=7)\n",
    "fwd_looking_date_old = pull_time_old + timedelta(days=fwd_looking_days)\n",
    "\n",
    "price_data_last30_current = price_data[(price_data['check_in'] > str(pull_time_current)) & (price_data['check_in'] <= str(fwd_looking_date_current))]\n",
    "price_data_last30_old = price_data[(price_data['check_in'] > str(pull_time_old)) & (price_data['check_in'] <= str(fwd_looking_date_old))]\n",
    "print(price_data_last30_current.shape)\n",
    "print(price_data_last30_old.shape)\n",
    "\"\"\"\n",
    "price_data_previous_pull = price_data_last30[price_data_last30['pull_time'] == pull_time_old]\n",
    "print(price_data_previous_pull.shape)\n",
    "price_data_current_pull = price_data_last30[price_data_last30['pull_time'] == pull_time_current]\n",
    "print(price_data_current_pull.shape)\n",
    "\"\"\"\n",
    "price_data_previous_pull_avgs = price_data_last30_current.groupby('id').mean().reset_index()\n",
    "print(price_data_previous_pull_avgs.shape)\n",
    "price_data_current_pull_avgs = price_data_last30_old.groupby('id').mean().reset_index()\n",
    "print(price_data_current_pull_avgs.shape)\n",
    "price_trend = price_data_previous_pull_avgs.merge(price_data_current_pull_avgs, how='inner', on='id')\n",
    "print(price_trend.shape)\n",
    "price_trend.to_csv('price_trend_miami_for_table_weekly.csv')"
   ]
  },
  {
   "cell_type": "code",
   "execution_count": 17,
   "metadata": {},
   "outputs": [],
   "source": [
    "price_trend['cleaning_fee_delta'] = price_trend['cleaning_fee_y'] - price_trend['cleaning_fee_x']\n",
    "price_trend['service_fee_delta'] = price_trend['service_fee_y'] - price_trend['service_fee_x']\n",
    "price_trend['total_price_delta'] = price_trend['total_price_y'] - price_trend['total_price_x']\n",
    "#price_trend['display_price_delta'] = price_trend['total_price_delta'] - price_trend['service_fee_delta'] - price_trend['cleaning_fee_delta']\n",
    "price_trend['cleaning_fee_delta_pct'] = price_trend['cleaning_fee_delta']/price_trend['cleaning_fee_x']*100\n",
    "price_trend['service_fee_delta_pct'] = price_trend['service_fee_delta']/price_trend['service_fee_x']*100\n",
    "price_trend['total_price_delta_pct'] = price_trend['total_price_delta']/price_trend['total_price_x']*100\n",
    "#price_trend['display_price_delta_pct'] = price_trend['display_price_delta']/(price_trend['total_price_x']-price_trend['service_fee_x']-price_trend['cleaning_fee_x'])*100\n",
    "price_trend['display_price_delta_pct'] = price_trend['total_price_delta_pct'] - price_trend['service_fee_delta_pct'] - price_trend['cleaning_fee_delta_pct']\n",
    "data_w_listing_loc = pd.read_csv('post_mort_and_roi_calcs_june19.csv')\n",
    "data_w_listing_loc = data_w_listing_loc[['id','zipcode','City','Metro','CountyName','State']]\n",
    "price_trend['id'] = price_trend['id'].astype('float64')\n",
    "price_trend_wloc = price_trend.merge(data_w_listing_loc, how='inner', on='id')"
   ]
  },
  {
   "cell_type": "code",
   "execution_count": 18,
   "metadata": {},
   "outputs": [
    {
     "data": {
      "application/vnd.plotly.v1+json": {
       "config": {
        "plotlyServerURL": "https://plot.ly"
       },
       "data": [
        {
         "cells": {
          "align": [
           "left",
           "left",
           "left",
           "left",
           "left"
          ],
          "fill": {
           "color": "rgb(245,245,245)"
          },
          "font": {
           "color": [
            "rgb(40,40,40)",
            [
             "rgb(255,0,0)",
             "rgb(255,0,0)",
             "rgb(255,0,0)",
             "rgb(255,0,0)",
             "rgb(0,125,0)",
             "rgb(0,125,0)",
             "rgb(0,125,0)",
             "rgb(0,125,0)",
             "rgb(0,125,0)",
             "rgb(0,125,0)",
             "rgb(0,125,0)",
             "rgb(0,125,0)",
             "rgb(0,125,0)",
             "rgb(0,125,0)"
            ],
            [
             "rgb(0,125,0)",
             "rgb(0,125,0)",
             "rgb(0,125,0)",
             "rgb(0,125,0)",
             "rgb(0,125,0)",
             "rgb(0,125,0)",
             "rgb(0,125,0)",
             "rgb(0,125,0)",
             "rgb(0,125,0)",
             "rgb(0,125,0)",
             "rgb(0,125,0)",
             "rgb(0,125,0)",
             "rgb(0,125,0)",
             "rgb(0,125,0)"
            ],
            [
             "rgb(255,0,0)",
             "rgb(255,0,0)",
             "rgb(255,0,0)",
             "rgb(255,0,0)",
             "rgb(0,125,0)",
             "rgb(0,125,0)",
             "rgb(0,125,0)",
             "rgb(0,125,0)",
             "rgb(0,125,0)",
             "rgb(0,125,0)",
             "rgb(0,125,0)",
             "rgb(0,125,0)",
             "rgb(255,0,0)",
             "rgb(0,125,0)"
            ],
            [
             "rgb(255,0,0)",
             "rgb(255,0,0)",
             "rgb(255,0,0)",
             "rgb(255,0,0)",
             "rgb(0,125,0)",
             "rgb(0,125,0)",
             "rgb(0,125,0)",
             "rgb(0,125,0)",
             "rgb(0,125,0)",
             "rgb(0,125,0)",
             "rgb(0,125,0)",
             "rgb(255,0,0)",
             "rgb(255,0,0)",
             "rgb(0,125,0)"
            ]
           ],
           "family": "Arial",
           "size": 14
          },
          "format": [
           null,
           ",.2f"
          ],
          "height": 30,
          "line": {
           "color": "#506784"
          },
          "values": [
           [
            33109,
            33125,
            33127,
            33131,
            33133,
            33137,
            33138,
            33139,
            33140,
            33141,
            33147,
            33150,
            33169,
            33175
           ],
           [
            -1.8841116604365844,
            -3.5924125234110784,
            -0.7110122035775024,
            -3.1054791613063952,
            1.8736024169978087,
            0.31049188359520286,
            0.8317984072993153,
            0.15141282673343107,
            3.0528010166636674,
            2.390930926655278,
            1.397621778411133,
            null,
            null,
            0
           ],
           [
            0,
            0,
            0,
            0,
            0,
            0,
            0,
            0,
            0,
            0.023322681481792767,
            0,
            0,
            null,
            0
           ],
           [
            -4.467369671737092,
            -2.749145918147364,
            -0.45256564656469433,
            -1.878702942617507,
            3.274443001839234,
            1.0267991853737402,
            1.4909446208781842,
            0.01613948682907598,
            6.225780320346787,
            2.759831479755368,
            1.3370865587614305,
            null,
            -3.254294840768268,
            0
           ],
           [
            -6.351481332173677,
            -6.341558441558442,
            -1.1635778501421967,
            -4.984182103923902,
            5.148045418837043,
            1.337291068968943,
            2.3227430281775,
            0.16878959477688568,
            9.278581337010454,
            5.174085087892439,
            2.7347083371725636,
            -4.8123602712161695,
            -3.088273723025357,
            0
           ]
          ]
         },
         "columnorder": [
          0,
          1,
          2,
          3,
          4
         ],
         "columnwidth": [
          50,
          50,
          50,
          50,
          50
         ],
         "header": {
          "align": [
           "left",
           "left",
           "left",
           "left",
           "left"
          ],
          "font": {
           "color": [
            "rgb(45,45,45)",
            "rgb(45,45,45)",
            "rgb(45,45,45)",
            "rgb(45,45,45)"
           ],
           "size": 14
          },
          "height": 40,
          "line": {
           "color": "rgb(50,50,50)"
          },
          "values": [
           [
            "<b>Zip Code</b>"
           ],
           [
            "<b>Display Price</b>"
           ],
           [
            "<b>Cleaning Fee</b>"
           ],
           [
            "<b>Service Fee</b>"
           ],
           [
            "<b>Total Price</b>"
           ]
          ]
         },
         "type": "table"
        }
       ],
       "layout": {
        "autosize": false,
        "height": 650,
        "showlegend": false,
        "template": {
         "data": {
          "bar": [
           {
            "error_x": {
             "color": "#2a3f5f"
            },
            "error_y": {
             "color": "#2a3f5f"
            },
            "marker": {
             "line": {
              "color": "#E5ECF6",
              "width": 0.5
             },
             "pattern": {
              "fillmode": "overlay",
              "size": 10,
              "solidity": 0.2
             }
            },
            "type": "bar"
           }
          ],
          "barpolar": [
           {
            "marker": {
             "line": {
              "color": "#E5ECF6",
              "width": 0.5
             },
             "pattern": {
              "fillmode": "overlay",
              "size": 10,
              "solidity": 0.2
             }
            },
            "type": "barpolar"
           }
          ],
          "carpet": [
           {
            "aaxis": {
             "endlinecolor": "#2a3f5f",
             "gridcolor": "white",
             "linecolor": "white",
             "minorgridcolor": "white",
             "startlinecolor": "#2a3f5f"
            },
            "baxis": {
             "endlinecolor": "#2a3f5f",
             "gridcolor": "white",
             "linecolor": "white",
             "minorgridcolor": "white",
             "startlinecolor": "#2a3f5f"
            },
            "type": "carpet"
           }
          ],
          "choropleth": [
           {
            "colorbar": {
             "outlinewidth": 0,
             "ticks": ""
            },
            "type": "choropleth"
           }
          ],
          "contour": [
           {
            "colorbar": {
             "outlinewidth": 0,
             "ticks": ""
            },
            "colorscale": [
             [
              0,
              "#0d0887"
             ],
             [
              0.1111111111111111,
              "#46039f"
             ],
             [
              0.2222222222222222,
              "#7201a8"
             ],
             [
              0.3333333333333333,
              "#9c179e"
             ],
             [
              0.4444444444444444,
              "#bd3786"
             ],
             [
              0.5555555555555556,
              "#d8576b"
             ],
             [
              0.6666666666666666,
              "#ed7953"
             ],
             [
              0.7777777777777778,
              "#fb9f3a"
             ],
             [
              0.8888888888888888,
              "#fdca26"
             ],
             [
              1,
              "#f0f921"
             ]
            ],
            "type": "contour"
           }
          ],
          "contourcarpet": [
           {
            "colorbar": {
             "outlinewidth": 0,
             "ticks": ""
            },
            "type": "contourcarpet"
           }
          ],
          "heatmap": [
           {
            "colorbar": {
             "outlinewidth": 0,
             "ticks": ""
            },
            "colorscale": [
             [
              0,
              "#0d0887"
             ],
             [
              0.1111111111111111,
              "#46039f"
             ],
             [
              0.2222222222222222,
              "#7201a8"
             ],
             [
              0.3333333333333333,
              "#9c179e"
             ],
             [
              0.4444444444444444,
              "#bd3786"
             ],
             [
              0.5555555555555556,
              "#d8576b"
             ],
             [
              0.6666666666666666,
              "#ed7953"
             ],
             [
              0.7777777777777778,
              "#fb9f3a"
             ],
             [
              0.8888888888888888,
              "#fdca26"
             ],
             [
              1,
              "#f0f921"
             ]
            ],
            "type": "heatmap"
           }
          ],
          "heatmapgl": [
           {
            "colorbar": {
             "outlinewidth": 0,
             "ticks": ""
            },
            "colorscale": [
             [
              0,
              "#0d0887"
             ],
             [
              0.1111111111111111,
              "#46039f"
             ],
             [
              0.2222222222222222,
              "#7201a8"
             ],
             [
              0.3333333333333333,
              "#9c179e"
             ],
             [
              0.4444444444444444,
              "#bd3786"
             ],
             [
              0.5555555555555556,
              "#d8576b"
             ],
             [
              0.6666666666666666,
              "#ed7953"
             ],
             [
              0.7777777777777778,
              "#fb9f3a"
             ],
             [
              0.8888888888888888,
              "#fdca26"
             ],
             [
              1,
              "#f0f921"
             ]
            ],
            "type": "heatmapgl"
           }
          ],
          "histogram": [
           {
            "marker": {
             "pattern": {
              "fillmode": "overlay",
              "size": 10,
              "solidity": 0.2
             }
            },
            "type": "histogram"
           }
          ],
          "histogram2d": [
           {
            "colorbar": {
             "outlinewidth": 0,
             "ticks": ""
            },
            "colorscale": [
             [
              0,
              "#0d0887"
             ],
             [
              0.1111111111111111,
              "#46039f"
             ],
             [
              0.2222222222222222,
              "#7201a8"
             ],
             [
              0.3333333333333333,
              "#9c179e"
             ],
             [
              0.4444444444444444,
              "#bd3786"
             ],
             [
              0.5555555555555556,
              "#d8576b"
             ],
             [
              0.6666666666666666,
              "#ed7953"
             ],
             [
              0.7777777777777778,
              "#fb9f3a"
             ],
             [
              0.8888888888888888,
              "#fdca26"
             ],
             [
              1,
              "#f0f921"
             ]
            ],
            "type": "histogram2d"
           }
          ],
          "histogram2dcontour": [
           {
            "colorbar": {
             "outlinewidth": 0,
             "ticks": ""
            },
            "colorscale": [
             [
              0,
              "#0d0887"
             ],
             [
              0.1111111111111111,
              "#46039f"
             ],
             [
              0.2222222222222222,
              "#7201a8"
             ],
             [
              0.3333333333333333,
              "#9c179e"
             ],
             [
              0.4444444444444444,
              "#bd3786"
             ],
             [
              0.5555555555555556,
              "#d8576b"
             ],
             [
              0.6666666666666666,
              "#ed7953"
             ],
             [
              0.7777777777777778,
              "#fb9f3a"
             ],
             [
              0.8888888888888888,
              "#fdca26"
             ],
             [
              1,
              "#f0f921"
             ]
            ],
            "type": "histogram2dcontour"
           }
          ],
          "mesh3d": [
           {
            "colorbar": {
             "outlinewidth": 0,
             "ticks": ""
            },
            "type": "mesh3d"
           }
          ],
          "parcoords": [
           {
            "line": {
             "colorbar": {
              "outlinewidth": 0,
              "ticks": ""
             }
            },
            "type": "parcoords"
           }
          ],
          "pie": [
           {
            "automargin": true,
            "type": "pie"
           }
          ],
          "scatter": [
           {
            "fillpattern": {
             "fillmode": "overlay",
             "size": 10,
             "solidity": 0.2
            },
            "type": "scatter"
           }
          ],
          "scatter3d": [
           {
            "line": {
             "colorbar": {
              "outlinewidth": 0,
              "ticks": ""
             }
            },
            "marker": {
             "colorbar": {
              "outlinewidth": 0,
              "ticks": ""
             }
            },
            "type": "scatter3d"
           }
          ],
          "scattercarpet": [
           {
            "marker": {
             "colorbar": {
              "outlinewidth": 0,
              "ticks": ""
             }
            },
            "type": "scattercarpet"
           }
          ],
          "scattergeo": [
           {
            "marker": {
             "colorbar": {
              "outlinewidth": 0,
              "ticks": ""
             }
            },
            "type": "scattergeo"
           }
          ],
          "scattergl": [
           {
            "marker": {
             "colorbar": {
              "outlinewidth": 0,
              "ticks": ""
             }
            },
            "type": "scattergl"
           }
          ],
          "scattermapbox": [
           {
            "marker": {
             "colorbar": {
              "outlinewidth": 0,
              "ticks": ""
             }
            },
            "type": "scattermapbox"
           }
          ],
          "scatterpolar": [
           {
            "marker": {
             "colorbar": {
              "outlinewidth": 0,
              "ticks": ""
             }
            },
            "type": "scatterpolar"
           }
          ],
          "scatterpolargl": [
           {
            "marker": {
             "colorbar": {
              "outlinewidth": 0,
              "ticks": ""
             }
            },
            "type": "scatterpolargl"
           }
          ],
          "scatterternary": [
           {
            "marker": {
             "colorbar": {
              "outlinewidth": 0,
              "ticks": ""
             }
            },
            "type": "scatterternary"
           }
          ],
          "surface": [
           {
            "colorbar": {
             "outlinewidth": 0,
             "ticks": ""
            },
            "colorscale": [
             [
              0,
              "#0d0887"
             ],
             [
              0.1111111111111111,
              "#46039f"
             ],
             [
              0.2222222222222222,
              "#7201a8"
             ],
             [
              0.3333333333333333,
              "#9c179e"
             ],
             [
              0.4444444444444444,
              "#bd3786"
             ],
             [
              0.5555555555555556,
              "#d8576b"
             ],
             [
              0.6666666666666666,
              "#ed7953"
             ],
             [
              0.7777777777777778,
              "#fb9f3a"
             ],
             [
              0.8888888888888888,
              "#fdca26"
             ],
             [
              1,
              "#f0f921"
             ]
            ],
            "type": "surface"
           }
          ],
          "table": [
           {
            "cells": {
             "fill": {
              "color": "#EBF0F8"
             },
             "line": {
              "color": "white"
             }
            },
            "header": {
             "fill": {
              "color": "#C8D4E3"
             },
             "line": {
              "color": "white"
             }
            },
            "type": "table"
           }
          ]
         },
         "layout": {
          "annotationdefaults": {
           "arrowcolor": "#2a3f5f",
           "arrowhead": 0,
           "arrowwidth": 1
          },
          "autotypenumbers": "strict",
          "coloraxis": {
           "colorbar": {
            "outlinewidth": 0,
            "ticks": ""
           }
          },
          "colorscale": {
           "diverging": [
            [
             0,
             "#8e0152"
            ],
            [
             0.1,
             "#c51b7d"
            ],
            [
             0.2,
             "#de77ae"
            ],
            [
             0.3,
             "#f1b6da"
            ],
            [
             0.4,
             "#fde0ef"
            ],
            [
             0.5,
             "#f7f7f7"
            ],
            [
             0.6,
             "#e6f5d0"
            ],
            [
             0.7,
             "#b8e186"
            ],
            [
             0.8,
             "#7fbc41"
            ],
            [
             0.9,
             "#4d9221"
            ],
            [
             1,
             "#276419"
            ]
           ],
           "sequential": [
            [
             0,
             "#0d0887"
            ],
            [
             0.1111111111111111,
             "#46039f"
            ],
            [
             0.2222222222222222,
             "#7201a8"
            ],
            [
             0.3333333333333333,
             "#9c179e"
            ],
            [
             0.4444444444444444,
             "#bd3786"
            ],
            [
             0.5555555555555556,
             "#d8576b"
            ],
            [
             0.6666666666666666,
             "#ed7953"
            ],
            [
             0.7777777777777778,
             "#fb9f3a"
            ],
            [
             0.8888888888888888,
             "#fdca26"
            ],
            [
             1,
             "#f0f921"
            ]
           ],
           "sequentialminus": [
            [
             0,
             "#0d0887"
            ],
            [
             0.1111111111111111,
             "#46039f"
            ],
            [
             0.2222222222222222,
             "#7201a8"
            ],
            [
             0.3333333333333333,
             "#9c179e"
            ],
            [
             0.4444444444444444,
             "#bd3786"
            ],
            [
             0.5555555555555556,
             "#d8576b"
            ],
            [
             0.6666666666666666,
             "#ed7953"
            ],
            [
             0.7777777777777778,
             "#fb9f3a"
            ],
            [
             0.8888888888888888,
             "#fdca26"
            ],
            [
             1,
             "#f0f921"
            ]
           ]
          },
          "colorway": [
           "#636efa",
           "#EF553B",
           "#00cc96",
           "#ab63fa",
           "#FFA15A",
           "#19d3f3",
           "#FF6692",
           "#B6E880",
           "#FF97FF",
           "#FECB52"
          ],
          "font": {
           "color": "#2a3f5f"
          },
          "geo": {
           "bgcolor": "white",
           "lakecolor": "white",
           "landcolor": "#E5ECF6",
           "showlakes": true,
           "showland": true,
           "subunitcolor": "white"
          },
          "hoverlabel": {
           "align": "left"
          },
          "hovermode": "closest",
          "mapbox": {
           "style": "light"
          },
          "paper_bgcolor": "white",
          "plot_bgcolor": "#E5ECF6",
          "polar": {
           "angularaxis": {
            "gridcolor": "white",
            "linecolor": "white",
            "ticks": ""
           },
           "bgcolor": "#E5ECF6",
           "radialaxis": {
            "gridcolor": "white",
            "linecolor": "white",
            "ticks": ""
           }
          },
          "scene": {
           "xaxis": {
            "backgroundcolor": "#E5ECF6",
            "gridcolor": "white",
            "gridwidth": 2,
            "linecolor": "white",
            "showbackground": true,
            "ticks": "",
            "zerolinecolor": "white"
           },
           "yaxis": {
            "backgroundcolor": "#E5ECF6",
            "gridcolor": "white",
            "gridwidth": 2,
            "linecolor": "white",
            "showbackground": true,
            "ticks": "",
            "zerolinecolor": "white"
           },
           "zaxis": {
            "backgroundcolor": "#E5ECF6",
            "gridcolor": "white",
            "gridwidth": 2,
            "linecolor": "white",
            "showbackground": true,
            "ticks": "",
            "zerolinecolor": "white"
           }
          },
          "shapedefaults": {
           "line": {
            "color": "#2a3f5f"
           }
          },
          "ternary": {
           "aaxis": {
            "gridcolor": "white",
            "linecolor": "white",
            "ticks": ""
           },
           "baxis": {
            "gridcolor": "white",
            "linecolor": "white",
            "ticks": ""
           },
           "bgcolor": "#E5ECF6",
           "caxis": {
            "gridcolor": "white",
            "linecolor": "white",
            "ticks": ""
           }
          },
          "title": {
           "x": 0.05
          },
          "xaxis": {
           "automargin": true,
           "gridcolor": "white",
           "linecolor": "white",
           "ticks": "",
           "title": {
            "standoff": 15
           },
           "zerolinecolor": "white",
           "zerolinewidth": 2
          },
          "yaxis": {
           "automargin": true,
           "gridcolor": "white",
           "linecolor": "white",
           "ticks": "",
           "title": {
            "standoff": 15
           },
           "zerolinecolor": "white",
           "zerolinewidth": 2
          }
         }
        },
        "title": {
         "text": "Recent Pricing Trends in Miami (%) (W/W)",
         "x": 0.5
        },
        "width": 850
       }
      }
     },
     "metadata": {},
     "output_type": "display_data"
    }
   ],
   "source": [
    "florida_price_trends = price_trend_wloc[price_trend_wloc['State'] == 'FL']\n",
    "florida_price_trends_zip = florida_price_trends.groupby('zipcode').mean(['cleaning_fee_delta_pct','service_fee_delta_pct','total_price_delta_pct']).reset_index()\n",
    "florida_price_trends_city = florida_price_trends.groupby('City').mean(['cleaning_fee_delta_pct','service_fee_delta_pct','total_price_delta_pct']).reset_index()\n",
    "\"\"\"\n",
    "florida_price_trends_fig = go.Figure()\n",
    "florida_price_trends_fig.add_trace(go.Scatter(x=price_data_date['check_in'], y=price_data_date['cleaning_fee'],\n",
    "                    mode='lines',\n",
    "                    name='Cleaning Fee'))\n",
    "florida_price_trends_fig.add_trace(go.Scatter(x=price_data_date['check_in'], y=price_data_date['service_fee'],\n",
    "                    mode='lines',\n",
    "                    name='Service Fee'))\n",
    "florida_price_trends_fig.add_trace(go.Scatter(x=price_data_date['check_in'], y=price_data_date['total_price'],\n",
    "                    mode='lines', \n",
    "                    name='Total Price'))\n",
    "florida_price_trends_fig.update_layout(title_text=\"Pricing Data by Pull Time\", xaxis_title='Date', yaxis_title='Price ($)')\n",
    "filename = \"newsletter_features/florida_price_trends_fig_june19.png\"\n",
    "florida_price_trends_fig.write_image(filename, engine='kaleido', width=2000, height=500)\n",
    "florida_price_trends_fig.show()\n",
    "\"\"\"\n",
    "import plotly.graph_objects as go\n",
    "\n",
    "zips = florida_price_trends_zip['zipcode']\n",
    "vals = [florida_price_trends_zip['display_price_delta_pct'], florida_price_trends_zip['cleaning_fee_delta_pct'], florida_price_trends_zip['service_fee_delta_pct'], florida_price_trends_zip['total_price_delta_pct']]\n",
    "font_color = ['rgb(40,40,40)'] +  [['rgb(255,0,0)' if v < 0 else 'rgb(0,125,0)' for v in vals[k]] for k in range(4)]\n",
    "\n",
    "table_trace = go.Table(\n",
    "                 columnwidth= [50]+[50]+[50]+[50]+[50],\n",
    "                 columnorder=[0, 1, 2, 3, 4],\n",
    "                 header = dict(height = 40,\n",
    "                               values = [['<b>Zip Code</b>'], ['<b>Display Price</b>'], ['<b>Cleaning Fee</b>'], ['<b>Service Fee</b>'],['<b>Total Price</b>']],\n",
    "                               line = dict(color='rgb(50,50,50)'),\n",
    "                               align = ['left']*5,\n",
    "                               font = dict(color=['rgb(45,45,45)']*4, size=14),\n",
    "                             \n",
    "                              ),\n",
    "                 cells = dict(values = [zips, vals[0], vals[1], vals[2], vals[3]],\n",
    "                              line = dict(color='#506784'),\n",
    "                              align = ['left']*5,\n",
    "                              \n",
    "                              font = dict(family=\"Arial\", size=14, color=font_color),\n",
    "                              format = [None, \",.2f\"],  #add % sign here\n",
    "                              height = 30,\n",
    "                              fill = dict(color='rgb(245,245,245)'))\n",
    "                             )\n",
    "                 \n",
    "\n",
    "layout = go.Layout(width=850, height=650, autosize=False, \n",
    "              title_text='Recent Pricing Trends in Miami (%) (W/W)',\n",
    "                   title_x=0.5, showlegend=False)\n",
    "florda_price_trend_fig = go.Figure(data=[table_trace], layout=layout)\n",
    "filename = \"newsletter_features/florida_price_trends_table_weekly.png\"\n",
    "florda_price_trend_fig.write_image(filename, engine='kaleido', width=875, height=700)\n",
    "florda_price_trend_fig.show()\n",
    "\n",
    "# Look to do one price value and look and price change by day of the week"
   ]
  },
  {
   "cell_type": "code",
   "execution_count": 19,
   "metadata": {},
   "outputs": [
    {
     "data": {
      "application/vnd.plotly.v1+json": {
       "config": {
        "plotlyServerURL": "https://plot.ly"
       },
       "data": [
        {
         "cells": {
          "align": [
           "left",
           "left",
           "left",
           "left",
           "left"
          ],
          "fill": {
           "color": "rgb(245,245,245)"
          },
          "font": {
           "color": [
            "rgb(40,40,40)",
            [
             "rgb(255,0,0)",
             "rgb(255,0,0)",
             "rgb(0,125,0)",
             "rgb(0,125,0)",
             "rgb(0,125,0)",
             "rgb(0,125,0)"
            ],
            [
             "rgb(0,125,0)",
             "rgb(0,125,0)",
             "rgb(0,125,0)",
             "rgb(0,125,0)",
             "rgb(0,125,0)",
             "rgb(0,125,0)"
            ],
            [
             "rgb(255,0,0)",
             "rgb(0,125,0)",
             "rgb(0,125,0)",
             "rgb(255,0,0)",
             "rgb(0,125,0)",
             "rgb(0,125,0)"
            ],
            [
             "rgb(255,0,0)",
             "rgb(255,0,0)",
             "rgb(0,125,0)",
             "rgb(255,0,0)",
             "rgb(0,125,0)",
             "rgb(0,125,0)"
            ]
           ],
           "family": "Arial",
           "size": 14
          },
          "format": [
           null,
           ",.2f"
          ],
          "height": 30,
          "line": {
           "color": "#506784"
          },
          "values": [
           [
            "Fisher Island",
            "Miami",
            "Miami Beach",
            "Miami Gardens",
            "Tamiami",
            "West Little River"
           ],
           [
            -1.8841116604365844,
            -0.6481485395830419,
            1.0113337103892899,
            null,
            0,
            1.397621778411133
           ],
           [
            0,
            0,
            0.007365057310039821,
            null,
            0,
            0
           ],
           [
            -4.467369671737092,
            0.22984441771312394,
            1.1497291263828493,
            -3.254294840768268,
            0,
            1.3370865587614305
           ],
           [
            -6.351481332173677,
            -0.7563084410503987,
            2.12586782982323,
            -3.088273723025357,
            0,
            2.7347083371725636
           ]
          ]
         },
         "columnorder": [
          0,
          1,
          2,
          3,
          4
         ],
         "columnwidth": [
          50,
          50,
          50,
          50,
          50
         ],
         "header": {
          "align": [
           "left",
           "left",
           "left",
           "left",
           "left"
          ],
          "font": {
           "color": [
            "rgb(45,45,45)",
            "rgb(45,45,45)",
            "rgb(45,45,45)",
            "rgb(45,45,45)"
           ],
           "size": 14
          },
          "height": 40,
          "line": {
           "color": "rgb(50,50,50)"
          },
          "values": [
           [
            "<b>City</b>"
           ],
           [
            "<b>Display Price</b>"
           ],
           [
            "<b>Cleaning Fee</b>"
           ],
           [
            "<b>Service Fee</b>"
           ],
           [
            "<b>Total Price</b>"
           ]
          ]
         },
         "type": "table"
        }
       ],
       "layout": {
        "autosize": false,
        "height": 650,
        "showlegend": false,
        "template": {
         "data": {
          "bar": [
           {
            "error_x": {
             "color": "#2a3f5f"
            },
            "error_y": {
             "color": "#2a3f5f"
            },
            "marker": {
             "line": {
              "color": "#E5ECF6",
              "width": 0.5
             },
             "pattern": {
              "fillmode": "overlay",
              "size": 10,
              "solidity": 0.2
             }
            },
            "type": "bar"
           }
          ],
          "barpolar": [
           {
            "marker": {
             "line": {
              "color": "#E5ECF6",
              "width": 0.5
             },
             "pattern": {
              "fillmode": "overlay",
              "size": 10,
              "solidity": 0.2
             }
            },
            "type": "barpolar"
           }
          ],
          "carpet": [
           {
            "aaxis": {
             "endlinecolor": "#2a3f5f",
             "gridcolor": "white",
             "linecolor": "white",
             "minorgridcolor": "white",
             "startlinecolor": "#2a3f5f"
            },
            "baxis": {
             "endlinecolor": "#2a3f5f",
             "gridcolor": "white",
             "linecolor": "white",
             "minorgridcolor": "white",
             "startlinecolor": "#2a3f5f"
            },
            "type": "carpet"
           }
          ],
          "choropleth": [
           {
            "colorbar": {
             "outlinewidth": 0,
             "ticks": ""
            },
            "type": "choropleth"
           }
          ],
          "contour": [
           {
            "colorbar": {
             "outlinewidth": 0,
             "ticks": ""
            },
            "colorscale": [
             [
              0,
              "#0d0887"
             ],
             [
              0.1111111111111111,
              "#46039f"
             ],
             [
              0.2222222222222222,
              "#7201a8"
             ],
             [
              0.3333333333333333,
              "#9c179e"
             ],
             [
              0.4444444444444444,
              "#bd3786"
             ],
             [
              0.5555555555555556,
              "#d8576b"
             ],
             [
              0.6666666666666666,
              "#ed7953"
             ],
             [
              0.7777777777777778,
              "#fb9f3a"
             ],
             [
              0.8888888888888888,
              "#fdca26"
             ],
             [
              1,
              "#f0f921"
             ]
            ],
            "type": "contour"
           }
          ],
          "contourcarpet": [
           {
            "colorbar": {
             "outlinewidth": 0,
             "ticks": ""
            },
            "type": "contourcarpet"
           }
          ],
          "heatmap": [
           {
            "colorbar": {
             "outlinewidth": 0,
             "ticks": ""
            },
            "colorscale": [
             [
              0,
              "#0d0887"
             ],
             [
              0.1111111111111111,
              "#46039f"
             ],
             [
              0.2222222222222222,
              "#7201a8"
             ],
             [
              0.3333333333333333,
              "#9c179e"
             ],
             [
              0.4444444444444444,
              "#bd3786"
             ],
             [
              0.5555555555555556,
              "#d8576b"
             ],
             [
              0.6666666666666666,
              "#ed7953"
             ],
             [
              0.7777777777777778,
              "#fb9f3a"
             ],
             [
              0.8888888888888888,
              "#fdca26"
             ],
             [
              1,
              "#f0f921"
             ]
            ],
            "type": "heatmap"
           }
          ],
          "heatmapgl": [
           {
            "colorbar": {
             "outlinewidth": 0,
             "ticks": ""
            },
            "colorscale": [
             [
              0,
              "#0d0887"
             ],
             [
              0.1111111111111111,
              "#46039f"
             ],
             [
              0.2222222222222222,
              "#7201a8"
             ],
             [
              0.3333333333333333,
              "#9c179e"
             ],
             [
              0.4444444444444444,
              "#bd3786"
             ],
             [
              0.5555555555555556,
              "#d8576b"
             ],
             [
              0.6666666666666666,
              "#ed7953"
             ],
             [
              0.7777777777777778,
              "#fb9f3a"
             ],
             [
              0.8888888888888888,
              "#fdca26"
             ],
             [
              1,
              "#f0f921"
             ]
            ],
            "type": "heatmapgl"
           }
          ],
          "histogram": [
           {
            "marker": {
             "pattern": {
              "fillmode": "overlay",
              "size": 10,
              "solidity": 0.2
             }
            },
            "type": "histogram"
           }
          ],
          "histogram2d": [
           {
            "colorbar": {
             "outlinewidth": 0,
             "ticks": ""
            },
            "colorscale": [
             [
              0,
              "#0d0887"
             ],
             [
              0.1111111111111111,
              "#46039f"
             ],
             [
              0.2222222222222222,
              "#7201a8"
             ],
             [
              0.3333333333333333,
              "#9c179e"
             ],
             [
              0.4444444444444444,
              "#bd3786"
             ],
             [
              0.5555555555555556,
              "#d8576b"
             ],
             [
              0.6666666666666666,
              "#ed7953"
             ],
             [
              0.7777777777777778,
              "#fb9f3a"
             ],
             [
              0.8888888888888888,
              "#fdca26"
             ],
             [
              1,
              "#f0f921"
             ]
            ],
            "type": "histogram2d"
           }
          ],
          "histogram2dcontour": [
           {
            "colorbar": {
             "outlinewidth": 0,
             "ticks": ""
            },
            "colorscale": [
             [
              0,
              "#0d0887"
             ],
             [
              0.1111111111111111,
              "#46039f"
             ],
             [
              0.2222222222222222,
              "#7201a8"
             ],
             [
              0.3333333333333333,
              "#9c179e"
             ],
             [
              0.4444444444444444,
              "#bd3786"
             ],
             [
              0.5555555555555556,
              "#d8576b"
             ],
             [
              0.6666666666666666,
              "#ed7953"
             ],
             [
              0.7777777777777778,
              "#fb9f3a"
             ],
             [
              0.8888888888888888,
              "#fdca26"
             ],
             [
              1,
              "#f0f921"
             ]
            ],
            "type": "histogram2dcontour"
           }
          ],
          "mesh3d": [
           {
            "colorbar": {
             "outlinewidth": 0,
             "ticks": ""
            },
            "type": "mesh3d"
           }
          ],
          "parcoords": [
           {
            "line": {
             "colorbar": {
              "outlinewidth": 0,
              "ticks": ""
             }
            },
            "type": "parcoords"
           }
          ],
          "pie": [
           {
            "automargin": true,
            "type": "pie"
           }
          ],
          "scatter": [
           {
            "fillpattern": {
             "fillmode": "overlay",
             "size": 10,
             "solidity": 0.2
            },
            "type": "scatter"
           }
          ],
          "scatter3d": [
           {
            "line": {
             "colorbar": {
              "outlinewidth": 0,
              "ticks": ""
             }
            },
            "marker": {
             "colorbar": {
              "outlinewidth": 0,
              "ticks": ""
             }
            },
            "type": "scatter3d"
           }
          ],
          "scattercarpet": [
           {
            "marker": {
             "colorbar": {
              "outlinewidth": 0,
              "ticks": ""
             }
            },
            "type": "scattercarpet"
           }
          ],
          "scattergeo": [
           {
            "marker": {
             "colorbar": {
              "outlinewidth": 0,
              "ticks": ""
             }
            },
            "type": "scattergeo"
           }
          ],
          "scattergl": [
           {
            "marker": {
             "colorbar": {
              "outlinewidth": 0,
              "ticks": ""
             }
            },
            "type": "scattergl"
           }
          ],
          "scattermapbox": [
           {
            "marker": {
             "colorbar": {
              "outlinewidth": 0,
              "ticks": ""
             }
            },
            "type": "scattermapbox"
           }
          ],
          "scatterpolar": [
           {
            "marker": {
             "colorbar": {
              "outlinewidth": 0,
              "ticks": ""
             }
            },
            "type": "scatterpolar"
           }
          ],
          "scatterpolargl": [
           {
            "marker": {
             "colorbar": {
              "outlinewidth": 0,
              "ticks": ""
             }
            },
            "type": "scatterpolargl"
           }
          ],
          "scatterternary": [
           {
            "marker": {
             "colorbar": {
              "outlinewidth": 0,
              "ticks": ""
             }
            },
            "type": "scatterternary"
           }
          ],
          "surface": [
           {
            "colorbar": {
             "outlinewidth": 0,
             "ticks": ""
            },
            "colorscale": [
             [
              0,
              "#0d0887"
             ],
             [
              0.1111111111111111,
              "#46039f"
             ],
             [
              0.2222222222222222,
              "#7201a8"
             ],
             [
              0.3333333333333333,
              "#9c179e"
             ],
             [
              0.4444444444444444,
              "#bd3786"
             ],
             [
              0.5555555555555556,
              "#d8576b"
             ],
             [
              0.6666666666666666,
              "#ed7953"
             ],
             [
              0.7777777777777778,
              "#fb9f3a"
             ],
             [
              0.8888888888888888,
              "#fdca26"
             ],
             [
              1,
              "#f0f921"
             ]
            ],
            "type": "surface"
           }
          ],
          "table": [
           {
            "cells": {
             "fill": {
              "color": "#EBF0F8"
             },
             "line": {
              "color": "white"
             }
            },
            "header": {
             "fill": {
              "color": "#C8D4E3"
             },
             "line": {
              "color": "white"
             }
            },
            "type": "table"
           }
          ]
         },
         "layout": {
          "annotationdefaults": {
           "arrowcolor": "#2a3f5f",
           "arrowhead": 0,
           "arrowwidth": 1
          },
          "autotypenumbers": "strict",
          "coloraxis": {
           "colorbar": {
            "outlinewidth": 0,
            "ticks": ""
           }
          },
          "colorscale": {
           "diverging": [
            [
             0,
             "#8e0152"
            ],
            [
             0.1,
             "#c51b7d"
            ],
            [
             0.2,
             "#de77ae"
            ],
            [
             0.3,
             "#f1b6da"
            ],
            [
             0.4,
             "#fde0ef"
            ],
            [
             0.5,
             "#f7f7f7"
            ],
            [
             0.6,
             "#e6f5d0"
            ],
            [
             0.7,
             "#b8e186"
            ],
            [
             0.8,
             "#7fbc41"
            ],
            [
             0.9,
             "#4d9221"
            ],
            [
             1,
             "#276419"
            ]
           ],
           "sequential": [
            [
             0,
             "#0d0887"
            ],
            [
             0.1111111111111111,
             "#46039f"
            ],
            [
             0.2222222222222222,
             "#7201a8"
            ],
            [
             0.3333333333333333,
             "#9c179e"
            ],
            [
             0.4444444444444444,
             "#bd3786"
            ],
            [
             0.5555555555555556,
             "#d8576b"
            ],
            [
             0.6666666666666666,
             "#ed7953"
            ],
            [
             0.7777777777777778,
             "#fb9f3a"
            ],
            [
             0.8888888888888888,
             "#fdca26"
            ],
            [
             1,
             "#f0f921"
            ]
           ],
           "sequentialminus": [
            [
             0,
             "#0d0887"
            ],
            [
             0.1111111111111111,
             "#46039f"
            ],
            [
             0.2222222222222222,
             "#7201a8"
            ],
            [
             0.3333333333333333,
             "#9c179e"
            ],
            [
             0.4444444444444444,
             "#bd3786"
            ],
            [
             0.5555555555555556,
             "#d8576b"
            ],
            [
             0.6666666666666666,
             "#ed7953"
            ],
            [
             0.7777777777777778,
             "#fb9f3a"
            ],
            [
             0.8888888888888888,
             "#fdca26"
            ],
            [
             1,
             "#f0f921"
            ]
           ]
          },
          "colorway": [
           "#636efa",
           "#EF553B",
           "#00cc96",
           "#ab63fa",
           "#FFA15A",
           "#19d3f3",
           "#FF6692",
           "#B6E880",
           "#FF97FF",
           "#FECB52"
          ],
          "font": {
           "color": "#2a3f5f"
          },
          "geo": {
           "bgcolor": "white",
           "lakecolor": "white",
           "landcolor": "#E5ECF6",
           "showlakes": true,
           "showland": true,
           "subunitcolor": "white"
          },
          "hoverlabel": {
           "align": "left"
          },
          "hovermode": "closest",
          "mapbox": {
           "style": "light"
          },
          "paper_bgcolor": "white",
          "plot_bgcolor": "#E5ECF6",
          "polar": {
           "angularaxis": {
            "gridcolor": "white",
            "linecolor": "white",
            "ticks": ""
           },
           "bgcolor": "#E5ECF6",
           "radialaxis": {
            "gridcolor": "white",
            "linecolor": "white",
            "ticks": ""
           }
          },
          "scene": {
           "xaxis": {
            "backgroundcolor": "#E5ECF6",
            "gridcolor": "white",
            "gridwidth": 2,
            "linecolor": "white",
            "showbackground": true,
            "ticks": "",
            "zerolinecolor": "white"
           },
           "yaxis": {
            "backgroundcolor": "#E5ECF6",
            "gridcolor": "white",
            "gridwidth": 2,
            "linecolor": "white",
            "showbackground": true,
            "ticks": "",
            "zerolinecolor": "white"
           },
           "zaxis": {
            "backgroundcolor": "#E5ECF6",
            "gridcolor": "white",
            "gridwidth": 2,
            "linecolor": "white",
            "showbackground": true,
            "ticks": "",
            "zerolinecolor": "white"
           }
          },
          "shapedefaults": {
           "line": {
            "color": "#2a3f5f"
           }
          },
          "ternary": {
           "aaxis": {
            "gridcolor": "white",
            "linecolor": "white",
            "ticks": ""
           },
           "baxis": {
            "gridcolor": "white",
            "linecolor": "white",
            "ticks": ""
           },
           "bgcolor": "#E5ECF6",
           "caxis": {
            "gridcolor": "white",
            "linecolor": "white",
            "ticks": ""
           }
          },
          "title": {
           "x": 0.05
          },
          "xaxis": {
           "automargin": true,
           "gridcolor": "white",
           "linecolor": "white",
           "ticks": "",
           "title": {
            "standoff": 15
           },
           "zerolinecolor": "white",
           "zerolinewidth": 2
          },
          "yaxis": {
           "automargin": true,
           "gridcolor": "white",
           "linecolor": "white",
           "ticks": "",
           "title": {
            "standoff": 15
           },
           "zerolinecolor": "white",
           "zerolinewidth": 2
          }
         }
        },
        "title": {
         "text": "Recent Pricing Trends in Miami (%) (W/W)",
         "x": 0.5
        },
        "width": 850
       }
      }
     },
     "metadata": {},
     "output_type": "display_data"
    }
   ],
   "source": [
    "florida_price_trends = price_trend_wloc[price_trend_wloc['State'] == 'FL']\n",
    "#florida_price_trends_zip = florida_price_trends.groupby('zipcode').mean(['cleaning_fee_delta_pct','service_fee_delta_pct','total_price_delta_pct']).reset_index()\n",
    "florida_price_trends_city = florida_price_trends.groupby('City').mean(['cleaning_fee_delta_pct','service_fee_delta_pct','total_price_delta_pct']).reset_index()\n",
    "\"\"\"\n",
    "florida_price_trends_fig = go.Figure()\n",
    "florida_price_trends_fig.add_trace(go.Scatter(x=price_data_date['check_in'], y=price_data_date['cleaning_fee'],\n",
    "                    mode='lines',\n",
    "                    name='Cleaning Fee'))\n",
    "florida_price_trends_fig.add_trace(go.Scatter(x=price_data_date['check_in'], y=price_data_date['service_fee'],\n",
    "                    mode='lines',\n",
    "                    name='Service Fee'))\n",
    "florida_price_trends_fig.add_trace(go.Scatter(x=price_data_date['check_in'], y=price_data_date['total_price'],\n",
    "                    mode='lines', \n",
    "                    name='Total Price'))\n",
    "florida_price_trends_fig.update_layout(title_text=\"Pricing Data by Pull Time\", xaxis_title='Date', yaxis_title='Price ($)')\n",
    "filename = \"newsletter_features/florida_price_trends_fig_june19.png\"\n",
    "florida_price_trends_fig.write_image(filename, engine='kaleido', width=2000, height=500)\n",
    "florida_price_trends_fig.show()\n",
    "\"\"\"\n",
    "import plotly.graph_objects as go\n",
    "\n",
    "cities = florida_price_trends_city['City']\n",
    "vals = [florida_price_trends_city['display_price_delta_pct'], florida_price_trends_city['cleaning_fee_delta_pct'], florida_price_trends_city['service_fee_delta_pct'], florida_price_trends_city['total_price_delta_pct']]\n",
    "font_color = ['rgb(40,40,40)'] +  [['rgb(255,0,0)' if v < 0 else 'rgb(0,125,0)' for v in vals[k]] for k in range(4)]\n",
    "\n",
    "table_trace = go.Table(\n",
    "                 columnwidth= [50]+[50]+[50]+[50]+[50],\n",
    "                 columnorder=[0, 1, 2, 3, 4],\n",
    "                 header = dict(height = 40,\n",
    "                               values = [['<b>City</b>'], ['<b>Display Price</b>'], ['<b>Cleaning Fee</b>'], ['<b>Service Fee</b>'],['<b>Total Price</b>']],\n",
    "                               line = dict(color='rgb(50,50,50)'),\n",
    "                               align = ['left']*5,\n",
    "                               font = dict(color=['rgb(45,45,45)']*4, size=14),\n",
    "                             \n",
    "                              ),\n",
    "                 cells = dict(values = [cities, vals[0], vals[1], vals[2], vals[3]],\n",
    "                              line = dict(color='#506784'),\n",
    "                              align = ['left']*5,\n",
    "                              \n",
    "                              font = dict(family=\"Arial\", size=14, color=font_color),\n",
    "                              format = [None, \",.2f\"],  #add % sign here\n",
    "                              height = 30,\n",
    "                              fill = dict(color='rgb(245,245,245)'))\n",
    "                             )\n",
    "                 \n",
    "\n",
    "layout = go.Layout(width=850, height=650, autosize=False, \n",
    "              title_text='Recent Pricing Trends in Miami (%) (W/W)',\n",
    "                   title_x=0.5, showlegend=False)\n",
    "florda_price_trend_fig = go.Figure(data=[table_trace], layout=layout)\n",
    "filename = \"newsletter_features/florida_price_trends_table_cities_weekly.png\"\n",
    "florda_price_trend_fig.write_image(filename, engine='kaleido', width=875, height=700)\n",
    "florda_price_trend_fig.show()\n",
    "\n",
    "# Look to do one price value and look and price change by day of the week"
   ]
  },
  {
   "cell_type": "code",
   "execution_count": 32,
   "metadata": {},
   "outputs": [],
   "source": [
    "# Group by day of week for price comparison\n",
    "price_trend = pd.read_csv('price_trend_miami_for_table.csv')\n",
    "\n",
    "# Calculate pull_time deltas for price\n",
    "price_trend['cleaning_fee_delta'] = price_trend['cleaning_fee_y'] - price_trend['cleaning_fee_x']\n",
    "price_trend['service_fee_delta'] = price_trend['service_fee_y'] - price_trend['service_fee_x']\n",
    "price_trend['total_price_delta'] = price_trend['total_price_y'] - price_trend['total_price_x']\n",
    "#price_trend['display_price_delta'] = price_trend['total_price_delta'] - price_trend['service_fee_delta'] - price_trend['cleaning_fee_delta']\n",
    "price_trend['cleaning_fee_delta_pct'] = price_trend['cleaning_fee_delta']/price_trend['cleaning_fee_x']*100\n",
    "price_trend['service_fee_delta_pct'] = price_trend['service_fee_delta']/price_trend['service_fee_x']*100\n",
    "price_trend['total_price_delta_pct'] = price_trend['total_price_delta']/price_trend['total_price_x']*100\n",
    "#price_trend['display_price_delta_pct'] = price_trend['display_price_delta']/(price_trend['total_price_x']-price_trend['service_fee_x']-price_trend['cleaning_fee_x'])*100\n",
    "price_trend['display_price_delta_pct'] = price_trend['total_price_delta_pct'] - price_trend['service_fee_delta_pct'] - price_trend['cleaning_fee_delta_pct']\n",
    "data_w_listing_loc = pd.read_csv('post_mort_and_roi_calcs_june19.csv')\n",
    "data_w_listing_loc = data_w_listing_loc[['id','zipcode','City','Metro','CountyName','State']]\n",
    "price_trend['id'] = price_trend['id'].astype('float64')\n",
    "price_trend_wloc = price_trend.merge(data_w_listing_loc, how='inner', on='id')\n",
    "\n",
    "# Get Florida data for example viz\n",
    "florida_price_trends = price_trend_wloc[price_trend_wloc['State'] == 'FL']\n",
    "\n",
    "# Pivot table on zipcode and day of the week\n",
    "florida_price_trends_zip_dow = florida_price_trends.pivot_table(index=['zipcode','day_of_week_x'], values='total_price_delta_pct', aggfunc='mean')\n",
    "\n"
   ]
  },
  {
   "cell_type": "code",
   "execution_count": 34,
   "metadata": {},
   "outputs": [
    {
     "data": {
      "text/html": [
       "<div>\n",
       "<style scoped>\n",
       "    .dataframe tbody tr th:only-of-type {\n",
       "        vertical-align: middle;\n",
       "    }\n",
       "\n",
       "    .dataframe tbody tr th {\n",
       "        vertical-align: top;\n",
       "    }\n",
       "\n",
       "    .dataframe thead th {\n",
       "        text-align: right;\n",
       "    }\n",
       "</style>\n",
       "<table border=\"1\" class=\"dataframe\">\n",
       "  <thead>\n",
       "    <tr style=\"text-align: right;\">\n",
       "      <th></th>\n",
       "      <th></th>\n",
       "      <th>total_price_delta_pct</th>\n",
       "    </tr>\n",
       "    <tr>\n",
       "      <th>zipcode</th>\n",
       "      <th>day_of_week_x</th>\n",
       "      <th></th>\n",
       "    </tr>\n",
       "  </thead>\n",
       "  <tbody>\n",
       "    <tr>\n",
       "      <th rowspan=\"5\" valign=\"top\">33109</th>\n",
       "      <th>0</th>\n",
       "      <td>5.571161</td>\n",
       "    </tr>\n",
       "    <tr>\n",
       "      <th>1</th>\n",
       "      <td>29.981884</td>\n",
       "    </tr>\n",
       "    <tr>\n",
       "      <th>2</th>\n",
       "      <td>32.870370</td>\n",
       "    </tr>\n",
       "    <tr>\n",
       "      <th>3</th>\n",
       "      <td>-16.481481</td>\n",
       "    </tr>\n",
       "    <tr>\n",
       "      <th>4</th>\n",
       "      <td>-16.481481</td>\n",
       "    </tr>\n",
       "    <tr>\n",
       "      <th>...</th>\n",
       "      <th>...</th>\n",
       "      <td>...</td>\n",
       "    </tr>\n",
       "    <tr>\n",
       "      <th rowspan=\"5\" valign=\"top\">33175</th>\n",
       "      <th>2</th>\n",
       "      <td>0.000000</td>\n",
       "    </tr>\n",
       "    <tr>\n",
       "      <th>3</th>\n",
       "      <td>0.000000</td>\n",
       "    </tr>\n",
       "    <tr>\n",
       "      <th>4</th>\n",
       "      <td>0.000000</td>\n",
       "    </tr>\n",
       "    <tr>\n",
       "      <th>5</th>\n",
       "      <td>0.000000</td>\n",
       "    </tr>\n",
       "    <tr>\n",
       "      <th>6</th>\n",
       "      <td>0.000000</td>\n",
       "    </tr>\n",
       "  </tbody>\n",
       "</table>\n",
       "<p>98 rows × 1 columns</p>\n",
       "</div>"
      ],
      "text/plain": [
       "                       total_price_delta_pct\n",
       "zipcode day_of_week_x                       \n",
       "33109   0                           5.571161\n",
       "        1                          29.981884\n",
       "        2                          32.870370\n",
       "        3                         -16.481481\n",
       "        4                         -16.481481\n",
       "...                                      ...\n",
       "33175   2                           0.000000\n",
       "        3                           0.000000\n",
       "        4                           0.000000\n",
       "        5                           0.000000\n",
       "        6                           0.000000\n",
       "\n",
       "[98 rows x 1 columns]"
      ]
     },
     "execution_count": 34,
     "metadata": {},
     "output_type": "execute_result"
    }
   ],
   "source": [
    "florida_price_trends_zip_dow"
   ]
  },
  {
   "cell_type": "code",
   "execution_count": 29,
   "metadata": {},
   "outputs": [
    {
     "data": {
      "text/plain": [
       "'zipcode'"
      ]
     },
     "execution_count": 29,
     "metadata": {},
     "output_type": "execute_result"
    }
   ],
   "source": [
    "florida_price_trends_zip_dow.keys()[0]"
   ]
  },
  {
   "cell_type": "code",
   "execution_count": 36,
   "metadata": {},
   "outputs": [
    {
     "ename": "KeyError",
     "evalue": "'0'",
     "output_type": "error",
     "traceback": [
      "\u001b[1;31m---------------------------------------------------------------------------\u001b[0m",
      "\u001b[1;31mKeyError\u001b[0m                                  Traceback (most recent call last)",
      "File \u001b[1;32mc:\\Users\\mattg\\AppData\\Local\\Programs\\Python\\Python310\\lib\\site-packages\\pandas\\core\\indexes\\base.py:3621\u001b[0m, in \u001b[0;36mIndex.get_loc\u001b[1;34m(self, key, method, tolerance)\u001b[0m\n\u001b[0;32m   3620\u001b[0m \u001b[39mtry\u001b[39;00m:\n\u001b[1;32m-> 3621\u001b[0m     \u001b[39mreturn\u001b[39;00m \u001b[39mself\u001b[39;49m\u001b[39m.\u001b[39;49m_engine\u001b[39m.\u001b[39;49mget_loc(casted_key)\n\u001b[0;32m   3622\u001b[0m \u001b[39mexcept\u001b[39;00m \u001b[39mKeyError\u001b[39;00m \u001b[39mas\u001b[39;00m err:\n",
      "File \u001b[1;32mc:\\Users\\mattg\\AppData\\Local\\Programs\\Python\\Python310\\lib\\site-packages\\pandas\\_libs\\index.pyx:136\u001b[0m, in \u001b[0;36mpandas._libs.index.IndexEngine.get_loc\u001b[1;34m()\u001b[0m\n",
      "File \u001b[1;32mc:\\Users\\mattg\\AppData\\Local\\Programs\\Python\\Python310\\lib\\site-packages\\pandas\\_libs\\index.pyx:163\u001b[0m, in \u001b[0;36mpandas._libs.index.IndexEngine.get_loc\u001b[1;34m()\u001b[0m\n",
      "File \u001b[1;32mpandas\\_libs\\hashtable_class_helper.pxi:5198\u001b[0m, in \u001b[0;36mpandas._libs.hashtable.PyObjectHashTable.get_item\u001b[1;34m()\u001b[0m\n",
      "File \u001b[1;32mpandas\\_libs\\hashtable_class_helper.pxi:5206\u001b[0m, in \u001b[0;36mpandas._libs.hashtable.PyObjectHashTable.get_item\u001b[1;34m()\u001b[0m\n",
      "\u001b[1;31mKeyError\u001b[0m: '0'",
      "\nThe above exception was the direct cause of the following exception:\n",
      "\u001b[1;31mKeyError\u001b[0m                                  Traceback (most recent call last)",
      "\u001b[1;32mc:\\Users\\mattg\\Desktop\\Hobbies\\airbnb_reports\\price_eda.ipynb Cell 28\u001b[0m in \u001b[0;36m<cell line: 7>\u001b[1;34m()\u001b[0m\n\u001b[0;32m      <a href='vscode-notebook-cell:/c%3A/Users/mattg/Desktop/Hobbies/airbnb_reports/price_eda.ipynb#ch0000027?line=0'>1</a>\u001b[0m \u001b[39mimport\u001b[39;00m \u001b[39mplotly\u001b[39;00m\u001b[39m.\u001b[39;00m\u001b[39mgraph_objects\u001b[39;00m \u001b[39mas\u001b[39;00m \u001b[39mgo\u001b[39;00m\n\u001b[0;32m      <a href='vscode-notebook-cell:/c%3A/Users/mattg/Desktop/Hobbies/airbnb_reports/price_eda.ipynb#ch0000027?line=2'>3</a>\u001b[0m \u001b[39m#headers = florida_price_trends_zip_dow['zipcode']\u001b[39;00m\n\u001b[0;32m      <a href='vscode-notebook-cell:/c%3A/Users/mattg/Desktop/Hobbies/airbnb_reports/price_eda.ipynb#ch0000027?line=3'>4</a>\u001b[0m \u001b[39m#vals = florida_price_trends_zip_dow['total_price_delta_pct']\u001b[39;00m\n\u001b[0;32m      <a href='vscode-notebook-cell:/c%3A/Users/mattg/Desktop/Hobbies/airbnb_reports/price_eda.ipynb#ch0000027?line=4'>5</a>\u001b[0m \u001b[39m#font_color = ['rgb(40,40,40)'] +  [['rgb(255,0,0)' if v < 0 else 'rgb(0,125,0)' for v in vals[k]] for k in range(4)]\u001b[39;00m\n\u001b[0;32m      <a href='vscode-notebook-cell:/c%3A/Users/mattg/Desktop/Hobbies/airbnb_reports/price_eda.ipynb#ch0000027?line=6'>7</a>\u001b[0m table_for_dow \u001b[39m=\u001b[39m go\u001b[39m.\u001b[39mTable(\n\u001b[0;32m      <a href='vscode-notebook-cell:/c%3A/Users/mattg/Desktop/Hobbies/airbnb_reports/price_eda.ipynb#ch0000027?line=7'>8</a>\u001b[0m                  columnwidth\u001b[39m=\u001b[39m [\u001b[39m50\u001b[39m]\u001b[39m+\u001b[39m[\u001b[39m50\u001b[39m]\u001b[39m+\u001b[39m[\u001b[39m50\u001b[39m]\u001b[39m+\u001b[39m[\u001b[39m50\u001b[39m]\u001b[39m+\u001b[39m[\u001b[39m50\u001b[39m],\n\u001b[0;32m      <a href='vscode-notebook-cell:/c%3A/Users/mattg/Desktop/Hobbies/airbnb_reports/price_eda.ipynb#ch0000027?line=8'>9</a>\u001b[0m                  columnorder\u001b[39m=\u001b[39m[\u001b[39m0\u001b[39m, \u001b[39m1\u001b[39m, \u001b[39m2\u001b[39m, \u001b[39m3\u001b[39m, \u001b[39m4\u001b[39m],\n\u001b[0;32m     <a href='vscode-notebook-cell:/c%3A/Users/mattg/Desktop/Hobbies/airbnb_reports/price_eda.ipynb#ch0000027?line=9'>10</a>\u001b[0m                  header \u001b[39m=\u001b[39m \u001b[39mdict\u001b[39m(height \u001b[39m=\u001b[39m \u001b[39m40\u001b[39m,\n\u001b[0;32m     <a href='vscode-notebook-cell:/c%3A/Users/mattg/Desktop/Hobbies/airbnb_reports/price_eda.ipynb#ch0000027?line=10'>11</a>\u001b[0m                                values \u001b[39m=\u001b[39m [[\u001b[39m'\u001b[39m\u001b[39m<b>Zip Code</b>\u001b[39m\u001b[39m'\u001b[39m], [\u001b[39m'\u001b[39m\u001b[39m<b>Monday</b>\u001b[39m\u001b[39m'\u001b[39m],[\u001b[39m'\u001b[39m\u001b[39m<b>Tuesday</b>\u001b[39m\u001b[39m'\u001b[39m],[\u001b[39m'\u001b[39m\u001b[39m<b>Wednesday</b>\u001b[39m\u001b[39m'\u001b[39m],[\u001b[39m'\u001b[39m\u001b[39m<b>Thursday</b>\u001b[39m\u001b[39m'\u001b[39m],[\u001b[39m'\u001b[39m\u001b[39m<b>Friday</b>\u001b[39m\u001b[39m'\u001b[39m],[\u001b[39m'\u001b[39m\u001b[39m<b>Saturday</b>\u001b[39m\u001b[39m'\u001b[39m],[\u001b[39m'\u001b[39m\u001b[39m<b>Sunday</b>\u001b[39m\u001b[39m'\u001b[39m]],\n\u001b[0;32m     <a href='vscode-notebook-cell:/c%3A/Users/mattg/Desktop/Hobbies/airbnb_reports/price_eda.ipynb#ch0000027?line=11'>12</a>\u001b[0m                                line \u001b[39m=\u001b[39m \u001b[39mdict\u001b[39m(color\u001b[39m=\u001b[39m\u001b[39m'\u001b[39m\u001b[39mrgb(50,50,50)\u001b[39m\u001b[39m'\u001b[39m),\n\u001b[0;32m     <a href='vscode-notebook-cell:/c%3A/Users/mattg/Desktop/Hobbies/airbnb_reports/price_eda.ipynb#ch0000027?line=12'>13</a>\u001b[0m                                align \u001b[39m=\u001b[39m [\u001b[39m'\u001b[39m\u001b[39mleft\u001b[39m\u001b[39m'\u001b[39m]\u001b[39m*\u001b[39m\u001b[39m5\u001b[39m,\n\u001b[0;32m     <a href='vscode-notebook-cell:/c%3A/Users/mattg/Desktop/Hobbies/airbnb_reports/price_eda.ipynb#ch0000027?line=13'>14</a>\u001b[0m                                font \u001b[39m=\u001b[39m \u001b[39mdict\u001b[39m(color\u001b[39m=\u001b[39m[\u001b[39m'\u001b[39m\u001b[39mrgb(45,45,45)\u001b[39m\u001b[39m'\u001b[39m]\u001b[39m*\u001b[39m\u001b[39m4\u001b[39m, size\u001b[39m=\u001b[39m\u001b[39m14\u001b[39m),\n\u001b[0;32m     <a href='vscode-notebook-cell:/c%3A/Users/mattg/Desktop/Hobbies/airbnb_reports/price_eda.ipynb#ch0000027?line=14'>15</a>\u001b[0m                              \n\u001b[0;32m     <a href='vscode-notebook-cell:/c%3A/Users/mattg/Desktop/Hobbies/airbnb_reports/price_eda.ipynb#ch0000027?line=15'>16</a>\u001b[0m                               ),\n\u001b[1;32m---> <a href='vscode-notebook-cell:/c%3A/Users/mattg/Desktop/Hobbies/airbnb_reports/price_eda.ipynb#ch0000027?line=16'>17</a>\u001b[0m                  cells \u001b[39m=\u001b[39m \u001b[39mdict\u001b[39m(values\u001b[39m=\u001b[39m[florida_price_trends_zip_dow[\u001b[39m'\u001b[39;49m\u001b[39m0\u001b[39;49m\u001b[39m'\u001b[39;49m],\n\u001b[0;32m     <a href='vscode-notebook-cell:/c%3A/Users/mattg/Desktop/Hobbies/airbnb_reports/price_eda.ipynb#ch0000027?line=17'>18</a>\u001b[0m                             florida_price_trends_zip_dow[\u001b[39m'\u001b[39m\u001b[39m1\u001b[39m\u001b[39m'\u001b[39m],\n\u001b[0;32m     <a href='vscode-notebook-cell:/c%3A/Users/mattg/Desktop/Hobbies/airbnb_reports/price_eda.ipynb#ch0000027?line=18'>19</a>\u001b[0m                             florida_price_trends_zip_dow[\u001b[39m'\u001b[39m\u001b[39m2\u001b[39m\u001b[39m'\u001b[39m],\n\u001b[0;32m     <a href='vscode-notebook-cell:/c%3A/Users/mattg/Desktop/Hobbies/airbnb_reports/price_eda.ipynb#ch0000027?line=19'>20</a>\u001b[0m                             florida_price_trends_zip_dow[\u001b[39m'\u001b[39m\u001b[39m3\u001b[39m\u001b[39m'\u001b[39m],\n\u001b[0;32m     <a href='vscode-notebook-cell:/c%3A/Users/mattg/Desktop/Hobbies/airbnb_reports/price_eda.ipynb#ch0000027?line=20'>21</a>\u001b[0m                             florida_price_trends_zip_dow[\u001b[39m'\u001b[39m\u001b[39m4\u001b[39m\u001b[39m'\u001b[39m],\n\u001b[0;32m     <a href='vscode-notebook-cell:/c%3A/Users/mattg/Desktop/Hobbies/airbnb_reports/price_eda.ipynb#ch0000027?line=21'>22</a>\u001b[0m                             florida_price_trends_zip_dow[\u001b[39m'\u001b[39m\u001b[39m5\u001b[39m\u001b[39m'\u001b[39m],\n\u001b[0;32m     <a href='vscode-notebook-cell:/c%3A/Users/mattg/Desktop/Hobbies/airbnb_reports/price_eda.ipynb#ch0000027?line=22'>23</a>\u001b[0m                             florida_price_trends_zip_dow[\u001b[39m'\u001b[39m\u001b[39m6\u001b[39m\u001b[39m'\u001b[39m]],\n\u001b[0;32m     <a href='vscode-notebook-cell:/c%3A/Users/mattg/Desktop/Hobbies/airbnb_reports/price_eda.ipynb#ch0000027?line=23'>24</a>\u001b[0m                               line \u001b[39m=\u001b[39m \u001b[39mdict\u001b[39m(color\u001b[39m=\u001b[39m\u001b[39m'\u001b[39m\u001b[39m#506784\u001b[39m\u001b[39m'\u001b[39m),\n\u001b[0;32m     <a href='vscode-notebook-cell:/c%3A/Users/mattg/Desktop/Hobbies/airbnb_reports/price_eda.ipynb#ch0000027?line=24'>25</a>\u001b[0m                               align \u001b[39m=\u001b[39m [\u001b[39m'\u001b[39m\u001b[39mleft\u001b[39m\u001b[39m'\u001b[39m]\u001b[39m*\u001b[39m\u001b[39m5\u001b[39m,\n\u001b[0;32m     <a href='vscode-notebook-cell:/c%3A/Users/mattg/Desktop/Hobbies/airbnb_reports/price_eda.ipynb#ch0000027?line=25'>26</a>\u001b[0m                               \n\u001b[0;32m     <a href='vscode-notebook-cell:/c%3A/Users/mattg/Desktop/Hobbies/airbnb_reports/price_eda.ipynb#ch0000027?line=26'>27</a>\u001b[0m                               \u001b[39m#font = dict(family=\"Arial\", size=14, color=font_color),\u001b[39;00m\n\u001b[0;32m     <a href='vscode-notebook-cell:/c%3A/Users/mattg/Desktop/Hobbies/airbnb_reports/price_eda.ipynb#ch0000027?line=27'>28</a>\u001b[0m                               \u001b[39mformat\u001b[39m \u001b[39m=\u001b[39m [\u001b[39mNone\u001b[39;00m, \u001b[39m\"\u001b[39m\u001b[39m,.2f\u001b[39m\u001b[39m\"\u001b[39m],  \u001b[39m#add % sign here\u001b[39;00m\n\u001b[0;32m     <a href='vscode-notebook-cell:/c%3A/Users/mattg/Desktop/Hobbies/airbnb_reports/price_eda.ipynb#ch0000027?line=28'>29</a>\u001b[0m                               height \u001b[39m=\u001b[39m \u001b[39m30\u001b[39m,\n\u001b[0;32m     <a href='vscode-notebook-cell:/c%3A/Users/mattg/Desktop/Hobbies/airbnb_reports/price_eda.ipynb#ch0000027?line=29'>30</a>\u001b[0m                               fill \u001b[39m=\u001b[39m \u001b[39mdict\u001b[39m(color\u001b[39m=\u001b[39m\u001b[39m'\u001b[39m\u001b[39mrgb(245,245,245)\u001b[39m\u001b[39m'\u001b[39m))\n\u001b[0;32m     <a href='vscode-notebook-cell:/c%3A/Users/mattg/Desktop/Hobbies/airbnb_reports/price_eda.ipynb#ch0000027?line=30'>31</a>\u001b[0m                              )\n\u001b[0;32m     <a href='vscode-notebook-cell:/c%3A/Users/mattg/Desktop/Hobbies/airbnb_reports/price_eda.ipynb#ch0000027?line=33'>34</a>\u001b[0m layout \u001b[39m=\u001b[39m go\u001b[39m.\u001b[39mLayout(width\u001b[39m=\u001b[39m\u001b[39m850\u001b[39m, height\u001b[39m=\u001b[39m\u001b[39m650\u001b[39m, autosize\u001b[39m=\u001b[39m\u001b[39mFalse\u001b[39;00m, \n\u001b[0;32m     <a href='vscode-notebook-cell:/c%3A/Users/mattg/Desktop/Hobbies/airbnb_reports/price_eda.ipynb#ch0000027?line=34'>35</a>\u001b[0m               title_text\u001b[39m=\u001b[39m\u001b[39m'\u001b[39m\u001b[39mRecent Pricing Trends in Miami (\u001b[39m\u001b[39m%\u001b[39m\u001b[39m) (W/W) By Day of Week\u001b[39m\u001b[39m'\u001b[39m,\n\u001b[0;32m     <a href='vscode-notebook-cell:/c%3A/Users/mattg/Desktop/Hobbies/airbnb_reports/price_eda.ipynb#ch0000027?line=35'>36</a>\u001b[0m                    title_x\u001b[39m=\u001b[39m\u001b[39m0.5\u001b[39m, showlegend\u001b[39m=\u001b[39m\u001b[39mFalse\u001b[39;00m)\n\u001b[0;32m     <a href='vscode-notebook-cell:/c%3A/Users/mattg/Desktop/Hobbies/airbnb_reports/price_eda.ipynb#ch0000027?line=36'>37</a>\u001b[0m florda_price_trend_fig \u001b[39m=\u001b[39m go\u001b[39m.\u001b[39mFigure(data\u001b[39m=\u001b[39m[table_for_dow], layout\u001b[39m=\u001b[39mlayout)\n",
      "File \u001b[1;32mc:\\Users\\mattg\\AppData\\Local\\Programs\\Python\\Python310\\lib\\site-packages\\pandas\\core\\frame.py:3505\u001b[0m, in \u001b[0;36mDataFrame.__getitem__\u001b[1;34m(self, key)\u001b[0m\n\u001b[0;32m   3503\u001b[0m \u001b[39mif\u001b[39;00m \u001b[39mself\u001b[39m\u001b[39m.\u001b[39mcolumns\u001b[39m.\u001b[39mnlevels \u001b[39m>\u001b[39m \u001b[39m1\u001b[39m:\n\u001b[0;32m   3504\u001b[0m     \u001b[39mreturn\u001b[39;00m \u001b[39mself\u001b[39m\u001b[39m.\u001b[39m_getitem_multilevel(key)\n\u001b[1;32m-> 3505\u001b[0m indexer \u001b[39m=\u001b[39m \u001b[39mself\u001b[39;49m\u001b[39m.\u001b[39;49mcolumns\u001b[39m.\u001b[39;49mget_loc(key)\n\u001b[0;32m   3506\u001b[0m \u001b[39mif\u001b[39;00m is_integer(indexer):\n\u001b[0;32m   3507\u001b[0m     indexer \u001b[39m=\u001b[39m [indexer]\n",
      "File \u001b[1;32mc:\\Users\\mattg\\AppData\\Local\\Programs\\Python\\Python310\\lib\\site-packages\\pandas\\core\\indexes\\base.py:3623\u001b[0m, in \u001b[0;36mIndex.get_loc\u001b[1;34m(self, key, method, tolerance)\u001b[0m\n\u001b[0;32m   3621\u001b[0m     \u001b[39mreturn\u001b[39;00m \u001b[39mself\u001b[39m\u001b[39m.\u001b[39m_engine\u001b[39m.\u001b[39mget_loc(casted_key)\n\u001b[0;32m   3622\u001b[0m \u001b[39mexcept\u001b[39;00m \u001b[39mKeyError\u001b[39;00m \u001b[39mas\u001b[39;00m err:\n\u001b[1;32m-> 3623\u001b[0m     \u001b[39mraise\u001b[39;00m \u001b[39mKeyError\u001b[39;00m(key) \u001b[39mfrom\u001b[39;00m \u001b[39merr\u001b[39;00m\n\u001b[0;32m   3624\u001b[0m \u001b[39mexcept\u001b[39;00m \u001b[39mTypeError\u001b[39;00m:\n\u001b[0;32m   3625\u001b[0m     \u001b[39m# If we have a listlike key, _check_indexing_error will raise\u001b[39;00m\n\u001b[0;32m   3626\u001b[0m     \u001b[39m#  InvalidIndexError. Otherwise we fall through and re-raise\u001b[39;00m\n\u001b[0;32m   3627\u001b[0m     \u001b[39m#  the TypeError.\u001b[39;00m\n\u001b[0;32m   3628\u001b[0m     \u001b[39mself\u001b[39m\u001b[39m.\u001b[39m_check_indexing_error(key)\n",
      "\u001b[1;31mKeyError\u001b[0m: '0'"
     ]
    }
   ],
   "source": [
    "import plotly.graph_objects as go\n",
    "\n",
    "#headers = florida_price_trends_zip_dow['zipcode']\n",
    "#vals = florida_price_trends_zip_dow['total_price_delta_pct']\n",
    "#font_color = ['rgb(40,40,40)'] +  [['rgb(255,0,0)' if v < 0 else 'rgb(0,125,0)' for v in vals[k]] for k in range(4)]\n",
    "\n",
    "table_for_dow = go.Table(\n",
    "                 columnwidth= [50]+[50]+[50]+[50]+[50],\n",
    "                 columnorder=[0, 1, 2, 3, 4],\n",
    "                 header = dict(height = 40,\n",
    "                               values = [['<b>Zip Code</b>'], ['<b>Monday</b>'],['<b>Tuesday</b>'],['<b>Wednesday</b>'],['<b>Thursday</b>'],['<b>Friday</b>'],['<b>Saturday</b>'],['<b>Sunday</b>']],\n",
    "                               line = dict(color='rgb(50,50,50)'),\n",
    "                               align = ['left']*5,\n",
    "                               font = dict(color=['rgb(45,45,45)']*4, size=14),\n",
    "                             \n",
    "                              ),\n",
    "                 cells = dict(values=[florida_price_trends_zip_dow['0'],\n",
    "                            florida_price_trends_zip_dow['1'],\n",
    "                            florida_price_trends_zip_dow['2'],\n",
    "                            florida_price_trends_zip_dow['3'],\n",
    "                            florida_price_trends_zip_dow['4'],\n",
    "                            florida_price_trends_zip_dow['5'],\n",
    "                            florida_price_trends_zip_dow['6']],\n",
    "                              line = dict(color='#506784'),\n",
    "                              align = ['left']*5,\n",
    "                              \n",
    "                              #font = dict(family=\"Arial\", size=14, color=font_color),\n",
    "                              format = [None, \",.2f\"],  #add % sign here\n",
    "                              height = 30,\n",
    "                              fill = dict(color='rgb(245,245,245)'))\n",
    "                             )\n",
    "                 \n",
    "\n",
    "layout = go.Layout(width=850, height=650, autosize=False, \n",
    "              title_text='Recent Pricing Trends in Miami (%) (W/W) By Day of Week',\n",
    "                   title_x=0.5, showlegend=False)\n",
    "florda_price_trend_fig = go.Figure(data=[table_for_dow], layout=layout)\n",
    "filename = \"newsletter_features/florida_price_trends_table_dow.png\"\n",
    "florda_price_trend_fig.write_image(filename, engine='kaleido', width=875, height=700)\n",
    "florda_price_trend_fig.show()"
   ]
  }
 ],
 "metadata": {
  "interpreter": {
   "hash": "8cda3f1edda61d067a8dccfe73833b0b57e2a1d4ac0e36527d0cd620f4d2a66c"
  },
  "kernelspec": {
   "display_name": "Python 3.10.4 64-bit",
   "language": "python",
   "name": "python3"
  },
  "language_info": {
   "codemirror_mode": {
    "name": "ipython",
    "version": 3
   },
   "file_extension": ".py",
   "mimetype": "text/x-python",
   "name": "python",
   "nbconvert_exporter": "python",
   "pygments_lexer": "ipython3",
   "version": "3.10.4"
  },
  "orig_nbformat": 4
 },
 "nbformat": 4,
 "nbformat_minor": 2
}
