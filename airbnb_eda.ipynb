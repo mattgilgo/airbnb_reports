{
 "cells": [
  {
   "cell_type": "code",
   "execution_count": 1,
   "metadata": {},
   "outputs": [],
   "source": [
    "import pandas as pd\n",
    "import matplotlib.pyplot as plt\n",
    "import folium\n",
    "import numpy as np\n",
    "import seaborn as sns\n",
    "import os\n",
    "import fastparquet\n",
    "\n",
    "#df = pd.read_parquet('Downloads/airbnb_parquets')\n",
    "#df.to_csv('csv_printout.csv')"
   ]
  },
  {
   "cell_type": "code",
   "execution_count": null,
   "metadata": {},
   "outputs": [],
   "source": [
    "\"\"\"\n",
    "import os, json\n",
    "import pandas as pd\n",
    "\n",
    "# this finds our json files\n",
    "path_to_json = '/Users/matthewgilgo/Downloads/airbnb_data/all_ids/all_ids.json/'\n",
    "json_files = [pos_json for pos_json in os.listdir(path_to_json) if pos_json.endswith('.json')]\n",
    "\n",
    "# here I define my pandas Dataframe with the columns I want to get from the json\n",
    "jsons_data = pd.DataFrame(columns=['index', 'id', 'name', 'price', 'displayPrice','monthlyPriceFactor','weeklyPriceFactor','avgRating','reviewsCount','isNewListing','isSuperhost','lat','lng','personCapacity','size','beds','baths','title','property_type','town','top_lat','right_long','botton_lat','left_long','url'])\n",
    "\n",
    "# we need both the json and an index number so use enumerate()\n",
    "for ind, js in enumerate(json_files):\n",
    "    with open(os.path.join(path_to_json, js)) as json_file:\n",
    "        json_text = json.load(json_file)\n",
    "\n",
    "        # here you need to know the layout of your json and each json has to have\n",
    "        # the same structure (obviously not the structure I have here)\n",
    "        index = json_text['features'][0]['index']\n",
    "        id = json_text['features'][0]['id']\n",
    "        name = json_text['features'][0]['name']\n",
    "        price = json_text['features'][0]['price']\n",
    "        displayPrice = json_text['features'][0]['displayPrice']\n",
    "        monthlyPriceFactor = json_text['features'][0]['monthlyPriceFactor']\n",
    "        weeklyPriceFactor = json_text['features'][0]['weeklyPriceFactor']\n",
    "        avgRating = json_text['features'][0]['avgRating']\n",
    "        reviewsCount = json_text['features'][0]['reviewsCount']\n",
    "        isNewListing = json_text['features'][0]['isNewListing']\n",
    "        isSuperhost = json_text['features'][0]['isSuperhost']\n",
    "        lat = json_text['features'][0]['lat']\n",
    "        lng = json_text['features'][0]['lng']\n",
    "        personCapacity = json_text['features'][0]['personCapacity']\n",
    "        size = json_text['features'][0]['size']\n",
    "        beds = json_text['features'][0]['beds']\n",
    "        baths = json_text['features'][0]['baths']\n",
    "        title = json_text['features'][0]['title']\n",
    "        property_type = json_text['features'][0]['property_type']\n",
    "        town = json_text['features'][0]['town']\n",
    "        top_lat = json_text['features'][0]['top_lat']\n",
    "        right_long = json_text['features'][0]['right_long']\n",
    "        botton_lat = json_text['features'][0]['botton_lat']\n",
    "        left_long = json_text['features'][0]['left_long']\n",
    "        url = json_text['features'][0]['url']          \n",
    "        # here I push a list of data into a pandas DataFrame at row given by 'index'\n",
    "        jsons_data.loc[ind] = [index,id,name,price,displayPrice,monthlyPriceFactor,weeklyPriceFactor,avgRating,reviewsCount,isNewListing,isSuperhost,lat,lng,personCapacity,size,beds,baths,title,property_type,town,top_lat,right_long,botton_lat,left_long,url]\n",
    "\n",
    "# now that we have the pertinent json data in our DataFrame let's look at it\n",
    "print(jsons_data)\n",
    "\"\"\""
   ]
  },
  {
   "cell_type": "code",
   "execution_count": 11,
   "metadata": {},
   "outputs": [
    {
     "name": "stderr",
     "output_type": "stream",
     "text": [
      "C:\\Users\\mattg\\AppData\\Local\\Temp\\ipykernel_7836\\4039239396.py:11: FutureWarning: The frame.append method is deprecated and will be removed from pandas in a future version. Use pandas.concat instead.\n",
      "  listing_data.append(next_listing)\n",
      "C:\\Users\\mattg\\AppData\\Local\\Temp\\ipykernel_7836\\4039239396.py:11: FutureWarning: Behavior when concatenating bool-dtype and numeric-dtype arrays is deprecated; in a future version these will cast to object dtype (instead of coercing bools to numeric values). To retain the old behavior, explicitly cast bool-dtype arrays to numeric dtype.\n",
      "  listing_data.append(next_listing)\n",
      "C:\\Users\\mattg\\AppData\\Local\\Temp\\ipykernel_7836\\4039239396.py:17: FutureWarning: The frame.append method is deprecated and will be removed from pandas in a future version. Use pandas.concat instead.\n",
      "  listing_data.append(next_listing)\n"
     ]
    }
   ],
   "source": [
    "nc_dir = 'C:/Users/mattg/Desktop/Hobbies/airbnb_reports/bucket_data/listings/north_carolina'\n",
    "first_file = ''\n",
    "for file in os.listdir(nc_dir):\n",
    "    first_file = os.path.join(nc_dir,file)\n",
    "    break\n",
    "listing_data = pd.read_parquet(first_file)\n",
    "for file in os.listdir(nc_dir):\n",
    "    next_file = os.path.join(nc_dir,file)\n",
    "    if next_file != first_file:\n",
    "        next_listing = pd.read_parquet(next_file)\n",
    "        listing_data.append(next_listing)\n",
    "\n",
    "ne_dir = 'C:/Users/mattg/Desktop/Hobbies/airbnb_reports/bucket_data/listings/vt_nh'\n",
    "for file in os.listdir(ne_dir):\n",
    "    first_file = os.path.join(nc_dir,file)\n",
    "    next_listing = pd.read_parquet(next_file)\n",
    "    listing_data.append(next_listing)\n",
    "\n",
    "#listing_data = pd.read_parquet('C:/Users/mattg/Desktop/Hobbies/airbnb_reports/bucket_data/listings/vt_nh')"
   ]
  },
  {
   "cell_type": "code",
   "execution_count": 12,
   "metadata": {},
   "outputs": [],
   "source": [
    "#listing_data = pd.read_parquet('C:/Users/mattg/Desktop/Hobbies/airbnb_reports/bucket_data/listings')\n",
    "occ_data = pd.read_parquet('C:/Users/mattg/Desktop/Hobbies/airbnb_reports/bucket_data/occupancy')\n",
    "price_data = pd.read_parquet('C:/Users/mattg/Desktop/Hobbies/airbnb_reports/bucket_data/prices')"
   ]
  },
  {
   "cell_type": "code",
   "execution_count": null,
   "metadata": {},
   "outputs": [],
   "source": [
    "# Future way to pull down listing data\n",
    "\"\"\"\n",
    "path = 'C:/Users/mattg/Desktop/Hobbies/bucket_data'\n",
    "df = pd.DataFrame(columns=['observation'])\n",
    "for directory in os.listdir(path):\n",
    "    if os.path.isdir(directory):\n",
    "        for filename in os.listdir(directory):\n",
    "            with open(os.path.join(directory, filename)) as f:\n",
    "                observation = f.read()\n",
    "                print('hi')\n",
    "                current_df = pd.DataFrame({'observation': [observation]})\n",
    "                df = df.append(current_df, ignore_index=True)\n",
    "\"\"\""
   ]
  },
  {
   "cell_type": "code",
   "execution_count": null,
   "metadata": {},
   "outputs": [],
   "source": [
    "df.head(5)"
   ]
  },
  {
   "cell_type": "code",
   "execution_count": null,
   "metadata": {},
   "outputs": [],
   "source": [
    "from pandas.plotting import scatter_matrix\n",
    "scatter_matrix(listing_data, alpha=0.2, figsize=(15,15))"
   ]
  },
  {
   "cell_type": "code",
   "execution_count": null,
   "metadata": {},
   "outputs": [],
   "source": [
    "#null_town = all_ne_data[all_ne_data['town'].isna()]\n",
    "#null_town.to_csv('nulltowns.csv')"
   ]
  },
  {
   "cell_type": "code",
   "execution_count": null,
   "metadata": {},
   "outputs": [],
   "source": [
    "#bed_bath_prices = all_ne_data.groupby(['beds', 'baths'])['price'].mean().reset_index()\n",
    "#bed_bath_counts = all_ne_data.groupby(['beds', 'baths'])['price'].count().reset_index()\n",
    "bed_bath_prices = pd.read_csv('data/bed_bath_avgs_wbeds.csv')\n",
    "bed_bath_counts = pd.read_csv('data/bed_bath_counts_wbeds.csv')\n"
   ]
  },
  {
   "cell_type": "code",
   "execution_count": null,
   "metadata": {},
   "outputs": [],
   "source": [
    "import pandas as pd\n",
    "import numpy as np\n",
    "\n",
    "conditions = [\n",
    "    listing_data['baths'].str.contains('shared', na=False),\n",
    "    listing_data['baths'].str.contains('Shared', na=False)\n",
    "]\n",
    "\n",
    "values = ['Shared', 'Shared']\n",
    "\n",
    "listing_data['baths_type'] = np.select(conditions, values, default='Private')\n",
    "\n",
    "conditions_loc = [\n",
    "    listing_data['top_lat'] > 35.5\n",
    "]\n",
    "\n",
    "values_loc = ['New England']\n",
    "\n",
    "listing_data['Region'] = np.select(conditions_loc, values_loc, default='Carolinas')\n",
    "\n",
    "\n",
    "conditions_halfbath = [\n",
    "    listing_data['baths'].str.contains('Half-bath', na=False),\n",
    "    listing_data['baths'].str.contains('Shared half-bath', na=False),\n",
    "    listing_data['baths'].str.contains('Private half-bath', na=False)\n",
    "]\n",
    "\n",
    "values_halfbath = [0.5,0.5,0.5]\n",
    "\n",
    "listing_data['baths'] = np.select(conditions_halfbath, values_halfbath, default=listing_data['baths'])\n",
    "\n",
    "listing_data['baths_no'] = listing_data['baths'].str.split(' ').str[0]\n",
    "listing_data['beds_no'] = listing_data['beds'].str.split(' ').str[0]\n",
    "listing_data['guest_no'] = listing_data['title'].str.split(' ').str[0]\n",
    "listing_data['guest_no'] = listing_data['guest_no'].astype('float')"
   ]
  },
  {
   "cell_type": "code",
   "execution_count": null,
   "metadata": {},
   "outputs": [],
   "source": [
    "\n",
    "bed_bath_prices_rev2 = listing_data.groupby(['beds_no', 'baths_no', 'baths_type'])['price'].mean().reset_index()\n",
    "bed_bath_counts_rev2 = listing_data.groupby(['beds_no', 'baths_no', 'baths_type'])['price'].count().reset_index()\n",
    "bed_bath_prices_rev2 = bed_bath_prices_rev2.dropna(axis=0, subset=['beds_no'])\n",
    "bed_bath_counts_rev2 = bed_bath_counts_rev2.dropna(axis=0, subset=['beds_no'])\n",
    "bed_bath_prices_rev2.to_csv('data/bed_bath_prices_rev2.csv')\n",
    "bed_bath_prices_rev2.to_csv('data/bed_bath_counts_rev2.csv')\n"
   ]
  },
  {
   "cell_type": "code",
   "execution_count": null,
   "metadata": {},
   "outputs": [],
   "source": [
    "bed_bath_prices_rev2 = pd.read_csv('data/bed_bath_prices_rev2.csv')\n",
    "bed_bath_counts_rev2 = pd.read_csv('data/bed_bath_counts_rev2.csv')"
   ]
  },
  {
   "cell_type": "code",
   "execution_count": null,
   "metadata": {},
   "outputs": [],
   "source": [
    "import matplotlib.pyplot as plt\n",
    "import seaborn as sns\n",
    "sns.scatterplot(x=bed_bath_prices_rev2['beds_no'], y=bed_bath_prices_rev2['baths_no'], style=bed_bath_prices_rev2['baths_type'], hue=bed_bath_prices_rev2['price'])\n",
    "plt.title('Price vs Bed/Bath Combinations')\n",
    "plt.xlabel('Baths')\n",
    "plt.ylabel('Beds')"
   ]
  },
  {
   "cell_type": "code",
   "execution_count": null,
   "metadata": {},
   "outputs": [],
   "source": [
    "avgs = listing_data.groupby(['guest_no','Region'])['price'].mean().reset_index()\n",
    "import seaborn as sns\n",
    "sns.scatterplot(x=avgs['guest_no'], y=avgs['price'], hue = avgs['Region'])\n",
    "plt.title('Price vs Guests')\n",
    "plt.xlabel('Guests')\n",
    "plt.ylabel('Avg Price')\n"
   ]
  },
  {
   "cell_type": "code",
   "execution_count": null,
   "metadata": {},
   "outputs": [],
   "source": [
    "avgRats = listing_data.groupby(['guest_no','Region'])['avgRating'].mean().reset_index()\n",
    "sns.scatterplot(x=avgRats['guest_no'], y=avgRats['avgRating'], hue = avgRats['Region'])\n",
    "plt.title('Avg Rating vs Guests')\n",
    "plt.xlabel('Guests')\n",
    "plt.ylabel('Avg Rating')\n"
   ]
  },
  {
   "cell_type": "code",
   "execution_count": null,
   "metadata": {},
   "outputs": [],
   "source": [
    "sns.boxplot(x=\"guest_no\", y=\"price\", data=listing_data)\n",
    "plt.ylim([0,2000])"
   ]
  },
  {
   "cell_type": "code",
   "execution_count": null,
   "metadata": {},
   "outputs": [],
   "source": [
    "counts = listing_data.groupby(['guest_no'])['id'].count().reset_index()\n",
    "sns.scatterplot(x=counts['guest_no'], y=counts['id'])\n",
    "plt.title('Count of IDs vs Guests')\n",
    "plt.xlabel('# of Guests')\n",
    "plt.ylabel('ID Count')"
   ]
  },
  {
   "cell_type": "code",
   "execution_count": null,
   "metadata": {},
   "outputs": [],
   "source": [
    "counts_loc = listing_data.groupby(['guest_no','Region'])['id'].count().reset_index()\n",
    "sns.scatterplot(x=counts_loc['guest_no'], y=counts_loc['id'], hue = counts_loc['Region'])\n",
    "plt.title('Count of IDs vs Guests')\n",
    "plt.xlabel('# of Guests')\n",
    "plt.ylabel('ID Count')"
   ]
  },
  {
   "cell_type": "code",
   "execution_count": null,
   "metadata": {},
   "outputs": [],
   "source": [
    "sns.boxplot(x=\"guest_no\", y=\"avgRating\", data=listing_data)\n",
    "#plt.ylim([0,2000])"
   ]
  },
  {
   "cell_type": "code",
   "execution_count": null,
   "metadata": {},
   "outputs": [],
   "source": [
    "listing_data.columns"
   ]
  },
  {
   "cell_type": "code",
   "execution_count": null,
   "metadata": {},
   "outputs": [],
   "source": [
    "import folium\n",
    "#listing_locations = all_ne_data[[\"lat\", \"lng\", \"name\"]]\n",
    "#listing_locations = listing_locations.dropna()\n",
    "listing_data = listing_data.dropna()\n",
    "m = folium.Map(location=[listing_data.lat.mean(), listing_data.lng.mean()], zoom_start=3)\n",
    "\n",
    "tooltip = \"Click me!\"\n",
    "counter = 0\n",
    "for index, location_info in listing_data.iterrows():\n",
    "#for index, location_info in listing_locations.iterrows():\n",
    "    if location_info.reviewsCount > 100:\n",
    "        folium.Marker(\n",
    "            [location_info[\"lat\"], location_info[\"lng\"]], popup=location_info[\"price\"], icon=folium.Icon(color=\"darkgreen\")\n",
    "        ).add_to(m)\n",
    "    else:\n",
    "        folium.Marker(\n",
    "            [location_info[\"lat\"], location_info[\"lng\"]], popup=location_info[\"price\"], icon=folium.Icon(color=\"blue\")\n",
    "        ).add_to(m)        \n",
    "    counter += 1\n",
    "    if counter == 1000:\n",
    "        break\n",
    "\n",
    "#m.save('map.html')"
   ]
  },
  {
   "cell_type": "code",
   "execution_count": null,
   "metadata": {},
   "outputs": [],
   "source": [
    "m"
   ]
  },
  {
   "cell_type": "code",
   "execution_count": null,
   "metadata": {},
   "outputs": [],
   "source": [
    "listing_data.isSuperhost.unique()"
   ]
  },
  {
   "cell_type": "code",
   "execution_count": null,
   "metadata": {},
   "outputs": [],
   "source": [
    "listing_data.shape"
   ]
  },
  {
   "cell_type": "code",
   "execution_count": null,
   "metadata": {},
   "outputs": [],
   "source": [
    "nc = listing_data[listing_data['top_lat'] < 35.5]"
   ]
  },
  {
   "cell_type": "code",
   "execution_count": null,
   "metadata": {},
   "outputs": [],
   "source": [
    "nc.shape"
   ]
  },
  {
   "cell_type": "code",
   "execution_count": null,
   "metadata": {},
   "outputs": [],
   "source": [
    "nc.town.unique()"
   ]
  },
  {
   "cell_type": "code",
   "execution_count": null,
   "metadata": {},
   "outputs": [],
   "source": [
    "from glob import glob\n",
    "import numpy as np\n",
    "import folium\n",
    "from folium import plugins\n",
    "from folium.plugins import HeatMap\n",
    "\n",
    "lon, lat = -77.5, 34.2\n",
    "zoom_start = 5\n",
    "\n",
    "#data = (\n",
    "#    np.random.normal(size=(100, 3)) *\n",
    "#    np.array([[1, 1, 1]]) +\n",
    "#    np.array([[48, 5, 1]])\n",
    "#).tolist()\n",
    "m = folium.Map([48, 5], tiles='stamentoner', zoom_start=6)\n",
    "#nc = nc.dropna()\n",
    "HeatMap(listing_data[['lat','lng']].groupby(['lat','lng']).sum().reset_index().values.tolist(), radius=7, max_zoom=10).add_to(folium.FeatureGroup(name='Heat Map').add_to(m))\n",
    "folium.LayerControl().add_to(m)"
   ]
  },
  {
   "cell_type": "code",
   "execution_count": null,
   "metadata": {},
   "outputs": [],
   "source": [
    "m"
   ]
  },
  {
   "cell_type": "code",
   "execution_count": null,
   "metadata": {},
   "outputs": [],
   "source": [
    "import plotly.express as px\n",
    "fig = px.density_mapbox(listing_data, lat='lat', lon='lng', z='id', radius=10,\n",
    "                        center=dict(lat=0, lon=180), zoom=0,\n",
    "                        mapbox_style=\"stamen-terrain\")\n",
    "#fig.show()\n",
    "fig.write_html(\"reports/listing_heatmap.html\")"
   ]
  }
 ],
 "metadata": {
  "interpreter": {
   "hash": "8cda3f1edda61d067a8dccfe73833b0b57e2a1d4ac0e36527d0cd620f4d2a66c"
  },
  "kernelspec": {
   "display_name": "Python 3.10.4 64-bit",
   "language": "python",
   "name": "python3"
  },
  "language_info": {
   "codemirror_mode": {
    "name": "ipython",
    "version": 3
   },
   "file_extension": ".py",
   "mimetype": "text/x-python",
   "name": "python",
   "nbconvert_exporter": "python",
   "pygments_lexer": "ipython3",
   "version": "3.10.4"
  },
  "orig_nbformat": 4
 },
 "nbformat": 4,
 "nbformat_minor": 2
}
