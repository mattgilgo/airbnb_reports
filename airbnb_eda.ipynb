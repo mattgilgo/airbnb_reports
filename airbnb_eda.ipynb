{
 "cells": [
  {
   "cell_type": "code",
   "execution_count": 46,
   "metadata": {},
   "outputs": [],
   "source": [
    "import pandas as pd\n",
    "import matplotlib.pyplot as plt\n",
    "import folium\n",
    "import numpy as np\n",
    "import seaborn as sns\n",
    "import os\n",
    "import fastparquet\n",
    "import warnings\n",
    "import geopy\n",
    "from geopy.point import Point\n",
    "import time\n",
    "warnings.simplefilter(action='ignore', category=FutureWarning)\n",
    "\n",
    "#df = pd.read_parquet('Downloads/airbnb_parquets')\n",
    "#df.to_csv('csv_printout.csv')"
   ]
  },
  {
   "cell_type": "code",
   "execution_count": 57,
   "metadata": {},
   "outputs": [],
   "source": [
    "def append_fig_to_html(list_of_figs):\n",
    "    for fig in list_of_figs:\n",
    "        with open(\"reports/report_draft.html\",'a') as f:\n",
    "            f.write(fig.to_html(full_html=False, include_plotlyjs='cdn'))\n",
    "\n",
    "# write this later\n",
    "\"\"\"\n",
    "def overwrite_html(list_of_figs):\n",
    "    \n",
    "    with open(\"reports/report_draft.html\",'w') as f:\n",
    "    f.write(listing_fig.to_html(full_html=False, include_plotlyjs='cdn'))\n",
    "    f.write(price_fig.to_html(full_html=False, include_plotlyjs='cdn'))\n",
    "    f.write(price_v_numlist_fig.to_html(full_html=False, include_plotlyjs='cdn'))\n",
    "\"\"\"\n",
    "\n",
    "def calculate_mortgage(home_value, interest_rate, num_years, down_payment_pct=0):\n",
    "    per_payment_interest = 0\n",
    "    loan_value = 0\n",
    "\n",
    "    if down_payment_pct >= 1:\n",
    "        down_payment = down_payment_pct/100 * home_value\n",
    "        loan_value = home_value - down_payment\n",
    "    else:\n",
    "        down_payment = down_payment_pct * home_value\n",
    "        loan_value = home_value - down_payment\n",
    "\n",
    "    if loan_value/home_value < 0.80: \n",
    "        # insert pmi calc here\n",
    "        pmi = 0.01  # using near average value here\n",
    "        pmi_cost = 0.0007*home_value    # shot in the dark after interpolating nerdwallet calculator\n",
    "        if interest_rate >= 1:\n",
    "            per_payment_interest = interest_rate/100/12\n",
    "        else:\n",
    "            per_payment_interest = interest_rate/12\n",
    "        num_months = num_years*12\n",
    "        mortgage = loan_value*(per_payment_interest*(1+per_payment_interest)**num_months)/((1+per_payment_interest)**num_months-1) + pmi_cost\n",
    "\n",
    "        mortgage = np.round(mortgage, 2)\n",
    "        return mortgage\n",
    "    else:\n",
    "        if interest_rate >= 1:\n",
    "            per_payment_interest = interest_rate/100/12\n",
    "        else:\n",
    "            per_payment_interest = interest_rate/12\n",
    "        num_months = num_years*12\n",
    "        mortgage = loan_value*(per_payment_interest*(1+per_payment_interest)**num_months)/((1+per_payment_interest)**num_months-1)\n",
    "\n",
    "        mortgage = np.round(mortgage, 2)\n",
    "        return mortgage\n",
    "\n",
    "def calculate_roi(airbnb_daily_price, occupancy_rate, monthly_mortgage, monthly_maintenence=0, monthly_taxes=0):\n",
    "    gross_rev = airbnb_daily_price * occupancy_rate * 365/12\n",
    "    net_rev = gross_rev - monthly_maintenence - monthly_taxes\n",
    "    profit = net_rev - monthly_mortgage\n",
    "    roi = profit/monthly_mortgage\n",
    "    roi = roi\n",
    "    return roi\n",
    "\n",
    "def set_location_desc(df,lat,long,geolocator):\n",
    "    start_time = time.time()\n",
    "    lat = str(lat)\n",
    "    print(\"---Lat casted at value at %s seconds ---\" % (time.time() - start_time))\n",
    "\n",
    "    long = str(long)\n",
    "    print(\"---Long casted at %s seconds ---\" % (time.time() - start_time))\n",
    "\n",
    "    location = geolocator.reverse(lat+\",\"+long)\n",
    "    print(\"---Get location at %s seconds ---\" % (time.time() - start_time))\n",
    "\n",
    "    address = location.raw['address']\n",
    "    print(\"---Get address at %s seconds ---\" % (time.time() - start_time))\n",
    "\n",
    "    city = address.get('city', '')\n",
    "    print(\"---Get city value at %s seconds ---\" % (time.time() - start_time))\n",
    "\n",
    "    state = address.get('state', '')\n",
    "    print(\"---Get state value at %s seconds ---\" % (time.time() - start_time))\n",
    "\n",
    "    country = address.get('country')\n",
    "    print(\"---Get country value at %s seconds ---\" % (time.time() - start_time))\n",
    "    country_code = address.get('country_code')\n",
    "    print(\"---Get country_code value at %s seconds ---\" % (time.time() - start_time))\n",
    "    return city\n",
    "\n",
    "def set_city(lat, long, geolocator):\n",
    "    start_time = time.time()\n",
    "    lat = str(lat)\n",
    "    print(\"---Latitude casted to string at %s seconds ---\" % (time.time() - start_time))\n",
    "\n",
    "    long = str(long)\n",
    "    print(\"---Longitude casted at %s seconds ---\" % (time.time() - start_time))\n",
    "\n",
    "    location = geolocator.reverse(lat+\",\"+long)\n",
    "    print(\"---Get location json from geopy at %s seconds ---\" % (time.time() - start_time))\n",
    "\n",
    "    address = location.raw['address']\n",
    "    print(\"---Get address json at %s seconds ---\" % (time.time() - start_time))\n",
    "\n",
    "    city = address.get('city', '')\n",
    "    print(\"---Get city value at %s seconds ---\" % (time.time() - start_time))\n",
    "    return city\n",
    "\n",
    "def set_state(lat, long):\n",
    "    from geopy.geocoders import Nominatim\n",
    "    geolocator = Nominatim(user_agent=\"geoapiExercises\")\n",
    "    lat = str(lat)\n",
    "    long = str(long)\n",
    "    location = geolocator.reverse(Point(lat,long))\n",
    "    address = location.raw['address']\n",
    "    state = address.get('state', '')\n",
    "    return state\n",
    "\n",
    "def set_country(lat, long):\n",
    "    from geopy.geocoders import Nominatim\n",
    "    geolocator = Nominatim(user_agent=\"geoapiExercises\")\n",
    "    lat = str(lat)\n",
    "    long = str(long)\n",
    "    location = geolocator.reverse(Point(lat,long))\n",
    "    address = location.raw['address']\n",
    "    country = address.get('country')\n",
    "    return country\n",
    "\n",
    "def set_country_code(lat, long):\n",
    "    from geopy.geocoders import Nominatim\n",
    "    geolocator = Nominatim(user_agent=\"geoapiExercises\")\n",
    "    lat = str(lat)\n",
    "    long = str(long)\n",
    "    location = geolocator.reverse(lat+\",\"+long)\n",
    "    address = location.raw['address']\n",
    "    country_code = address.get('country_code')\n",
    "    return country_code\n",
    "\n",
    "def set_zipcode(lat, long):\n",
    "    from geopy.geocoders import Nominatim\n",
    "    geolocator = Nominatim(user_agent=\"geoapiExercises\")\n",
    "    lat = str(lat)\n",
    "    long = str(long)\n",
    "    location = geolocator.reverse(Point(lat,long))\n",
    "    address = location.raw['address']\n",
    "    zipcode = address.get('postcode', '')\n",
    "    return zipcode\n"
   ]
  },
  {
   "cell_type": "code",
   "execution_count": null,
   "metadata": {},
   "outputs": [],
   "source": [
    "\"\"\"\n",
    "import os, json\n",
    "import pandas as pd\n",
    "\n",
    "# this finds our json files\n",
    "path_to_json = '/Users/matthewgilgo/Downloads/airbnb_data/all_ids/all_ids.json/'\n",
    "json_files = [pos_json for pos_json in os.listdir(path_to_json) if pos_json.endswith('.json')]\n",
    "\n",
    "# here I define my pandas Dataframe with the columns I want to get from the json\n",
    "jsons_data = pd.DataFrame(columns=['index', 'id', 'name', 'price', 'displayPrice','monthlyPriceFactor','weeklyPriceFactor','avgRating','reviewsCount','isNewListing','isSuperhost','lat','lng','personCapacity','size','beds','baths','title','property_type','town','top_lat','right_long','botton_lat','left_long','url'])\n",
    "\n",
    "# we need both the json and an index number so use enumerate()\n",
    "for ind, js in enumerate(json_files):\n",
    "    with open(os.path.join(path_to_json, js)) as json_file:\n",
    "        json_text = json.load(json_file)\n",
    "\n",
    "        # here you need to know the layout of your json and each json has to have\n",
    "        # the same structure (obviously not the structure I have here)\n",
    "        index = json_text['features'][0]['index']\n",
    "        id = json_text['features'][0]['id']\n",
    "        name = json_text['features'][0]['name']\n",
    "        price = json_text['features'][0]['price']\n",
    "        displayPrice = json_text['features'][0]['displayPrice']\n",
    "        monthlyPriceFactor = json_text['features'][0]['monthlyPriceFactor']\n",
    "        weeklyPriceFactor = json_text['features'][0]['weeklyPriceFactor']\n",
    "        avgRating = json_text['features'][0]['avgRating']\n",
    "        reviewsCount = json_text['features'][0]['reviewsCount']\n",
    "        isNewListing = json_text['features'][0]['isNewListing']\n",
    "        isSuperhost = json_text['features'][0]['isSuperhost']\n",
    "        lat = json_text['features'][0]['lat']\n",
    "        lng = json_text['features'][0]['lng']\n",
    "        personCapacity = json_text['features'][0]['personCapacity']\n",
    "        size = json_text['features'][0]['size']\n",
    "        beds = json_text['features'][0]['beds']\n",
    "        baths = json_text['features'][0]['baths']\n",
    "        title = json_text['features'][0]['title']\n",
    "        property_type = json_text['features'][0]['property_type']\n",
    "        town = json_text['features'][0]['town']\n",
    "        top_lat = json_text['features'][0]['top_lat']\n",
    "        right_long = json_text['features'][0]['right_long']\n",
    "        botton_lat = json_text['features'][0]['botton_lat']\n",
    "        left_long = json_text['features'][0]['left_long']\n",
    "        url = json_text['features'][0]['url']          \n",
    "        # here I push a list of data into a pandas DataFrame at row given by 'index'\n",
    "        jsons_data.loc[ind] = [index,id,name,price,displayPrice,monthlyPriceFactor,weeklyPriceFactor,avgRating,reviewsCount,isNewListing,isSuperhost,lat,lng,personCapacity,size,beds,baths,title,property_type,town,top_lat,right_long,botton_lat,left_long,url]\n",
    "\n",
    "# now that we have the pertinent json data in our DataFrame let's look at it\n",
    "print(jsons_data)\n",
    "\"\"\""
   ]
  },
  {
   "cell_type": "code",
   "execution_count": 27,
   "metadata": {},
   "outputs": [
    {
     "name": "stdout",
     "output_type": "stream",
     "text": [
      "(20, 25)\n",
      "(19427, 25)\n",
      "(35284, 25)\n"
     ]
    }
   ],
   "source": [
    "nc_dir = 'C:/Users/mattg/Desktop/Hobbies/airbnb_reports/bucket_data/listings/north_carolina'\n",
    "first_file = ''\n",
    "for file in os.listdir(nc_dir):\n",
    "    first_file = os.path.join(nc_dir,file)\n",
    "    break\n",
    "listing_data = pd.read_parquet(first_file)\n",
    "print(listing_data.shape)\n",
    "for file in os.listdir(nc_dir):\n",
    "    next_file = os.path.join(nc_dir,file)\n",
    "    if next_file != first_file:\n",
    "        next_listing = pd.read_parquet(next_file)\n",
    "        listing_data = listing_data.append(next_listing)\n",
    "print(listing_data.shape)\n",
    "\n",
    "ne_dir = 'C:/Users/mattg/Desktop/Hobbies/airbnb_reports/bucket_data/listings/vt_nh'\n",
    "for file in os.listdir(ne_dir):\n",
    "    next_file = os.path.join(ne_dir,file)\n",
    "    next_listing = pd.read_parquet(next_file)\n",
    "    listing_data = listing_data.append(next_listing)\n",
    "print(listing_data.shape)\n",
    "\n",
    "#listing_data = pd.read_parquet('C:/Users/mattg/Desktop/Hobbies/airbnb_reports/bucket_data/listings/vt_nh')"
   ]
  },
  {
   "cell_type": "code",
   "execution_count": 28,
   "metadata": {},
   "outputs": [],
   "source": [
    "#listing_data = pd.read_parquet('C:/Users/mattg/Desktop/Hobbies/airbnb_reports/bucket_data/listings')\n",
    "occ_data = pd.read_parquet('C:/Users/mattg/Desktop/Hobbies/airbnb_reports/bucket_data/occupancy')\n",
    "price_data = pd.read_parquet('C:/Users/mattg/Desktop/Hobbies/airbnb_reports/bucket_data/prices')"
   ]
  },
  {
   "cell_type": "code",
   "execution_count": 60,
   "metadata": {},
   "outputs": [],
   "source": [
    "# Clean up listing_data\n",
    "conditions = [\n",
    "    listing_data['baths'].str.contains('shared', na=False),\n",
    "    listing_data['baths'].str.contains('Shared', na=False)\n",
    "]\n",
    "\n",
    "values = ['Shared', 'Shared']\n",
    "\n",
    "listing_data['baths_type'] = np.select(conditions, values, default='Private')\n",
    "\n",
    "conditions_loc = [\n",
    "    listing_data['top_lat'] > 35.5\n",
    "]\n",
    "\n",
    "values_loc = ['New England']\n",
    "\n",
    "listing_data['Region'] = np.select(conditions_loc, values_loc, default='Carolinas')\n",
    "\n",
    "\n",
    "conditions_halfbath = [\n",
    "    listing_data['baths'].str.contains('Half-bath', na=False),\n",
    "    listing_data['baths'].str.contains('Shared half-bath', na=False),\n",
    "    listing_data['baths'].str.contains('Private half-bath', na=False)\n",
    "]\n",
    "\n",
    "values_halfbath = [0.5,0.5,0.5]\n",
    "\n",
    "listing_data['baths'] = np.select(conditions_halfbath, values_halfbath, default=listing_data['baths'])\n",
    "\n",
    "listing_data['baths_no'] = listing_data['baths'].str.split(' ').str[0]\n",
    "listing_data['beds_no'] = listing_data['beds'].str.split(' ').str[0]\n",
    "listing_data['guest_no'] = listing_data['title'].str.split(' ').str[0]\n",
    "listing_data['guest_no'] = listing_data['guest_no'].astype('float')\n",
    "listing_data['id'] = listing_data['id'].astype('float64')\n",
    "listing_data['id'] = listing_data['id'].astype('str')\n",
    "listing_data['town'] = listing_data['town'].str.lower()\n",
    "listing_data = listing_data[listing_data.lat.isna() == False]\n",
    "#listing_data['city_geopy'] = listing_data.apply(lambda row: set_city(row['lat'], row['lng']), axis=1)\n",
    "#listing_data['state_geopy'] = listing_data.apply(lambda row: set_state(row['lat'], row['lng']), axis=1)\n",
    "#listing_data['country_geopy'] = listing_data.apply(lambda row: set_country(row['lat'], row['lng']), axis=1)\n",
    "#listing_data['country_code_geopy'] = listing_data.apply(lambda row: set_country_code(row['lat'], row['lng']), axis=1)\n",
    "#listing_data['zipcode_geopy'] = listing_data.apply(lambda row: set_zipcode(row['lat'], row['lng']), axis=1)\n",
    "\n",
    "# Clean up occ_data\n",
    "#occ_data['id'] = occ_data['id'].astype('int')\n",
    "occ_data['id'] = occ_data['id'].astype('str')\n",
    "\n",
    "# Clean up price_data\n",
    "#price_data['id'] = price_data['id'].astype('int')\n",
    "price_data['id'] = price_data['id'].astype('str')"
   ]
  },
  {
   "cell_type": "code",
   "execution_count": 59,
   "metadata": {},
   "outputs": [
    {
     "name": "stdout",
     "output_type": "stream",
     "text": [
      "---Latitude casted to string at 0.0 seconds ---\n",
      "---Longitude casted at 0.0 seconds ---\n",
      "---Get location json from geopy at 0.34982752799987793 seconds ---\n",
      "---Get address json at 0.34982752799987793 seconds ---\n",
      "---Get city value at 0.34982752799987793 seconds ---\n",
      "\n"
     ]
    }
   ],
   "source": [
    "from geopy.geocoders import Nominatim\n",
    "geolocator = Nominatim(user_agent=\"geoapiExercises\")\n",
    "#listing_data['city_geopy'] = listing_data.apply(lambda row: set_city(row['lat'], row['lng'], geolocator), axis=1)\n",
    "print(set_city(35, -76, geolocator))\n"
   ]
  },
  {
   "cell_type": "code",
   "execution_count": 6,
   "metadata": {},
   "outputs": [],
   "source": [
    "price_data_grouped = price_data.groupby('id').mean()"
   ]
  },
  {
   "cell_type": "code",
   "execution_count": 7,
   "metadata": {},
   "outputs": [],
   "source": [
    "list_n_price_data = listing_data.merge(price_data_grouped, how = 'left', on='id')"
   ]
  },
  {
   "cell_type": "code",
   "execution_count": null,
   "metadata": {},
   "outputs": [],
   "source": [
    "# Future way to pull down listing data\n",
    "\"\"\"\n",
    "path = 'C:/Users/mattg/Desktop/Hobbies/bucket_data'\n",
    "df = pd.DataFrame(columns=['observation'])\n",
    "for directory in os.listdir(path):\n",
    "    if os.path.isdir(directory):\n",
    "        for filename in os.listdir(directory):\n",
    "            with open(os.path.join(directory, filename)) as f:\n",
    "                observation = f.read()\n",
    "                print('hi')\n",
    "                current_df = pd.DataFrame({'observation': [observation]})\n",
    "                df = df.append(current_df, ignore_index=True)\n",
    "\"\"\""
   ]
  },
  {
   "cell_type": "code",
   "execution_count": null,
   "metadata": {},
   "outputs": [],
   "source": [
    "from pandas.plotting import scatter_matrix\n",
    "scatter_matrix(listing_data, alpha=0.2, figsize=(15,15))"
   ]
  },
  {
   "cell_type": "code",
   "execution_count": null,
   "metadata": {},
   "outputs": [],
   "source": [
    "#null_town = all_ne_data[all_ne_data['town'].isna()]\n",
    "#null_town.to_csv('nulltowns.csv')"
   ]
  },
  {
   "cell_type": "code",
   "execution_count": null,
   "metadata": {},
   "outputs": [],
   "source": [
    "#bed_bath_prices = all_ne_data.groupby(['beds', 'baths'])['price'].mean().reset_index()\n",
    "#bed_bath_counts = all_ne_data.groupby(['beds', 'baths'])['price'].count().reset_index()\n",
    "bed_bath_prices = pd.read_csv('data/bed_bath_avgs_wbeds.csv')\n",
    "bed_bath_counts = pd.read_csv('data/bed_bath_counts_wbeds.csv')\n"
   ]
  },
  {
   "cell_type": "code",
   "execution_count": 53,
   "metadata": {},
   "outputs": [],
   "source": []
  },
  {
   "cell_type": "code",
   "execution_count": 15,
   "metadata": {},
   "outputs": [],
   "source": [
    "\n",
    "bed_bath_prices_rev2 = listing_data.groupby(['beds_no', 'baths_no', 'baths_type'])['price'].mean().reset_index()\n",
    "bed_bath_counts_rev2 = listing_data.groupby(['beds_no', 'baths_no', 'baths_type'])['price'].count().reset_index()\n",
    "bed_bath_prices_rev2 = bed_bath_prices_rev2.dropna(axis=0, subset=['beds_no'])\n",
    "bed_bath_counts_rev2 = bed_bath_counts_rev2.dropna(axis=0, subset=['beds_no'])\n",
    "bed_bath_prices_rev2.to_csv('grouped_data/bed_bath_prices_rev2.csv')\n",
    "bed_bath_prices_rev2.to_csv('grouped_data/bed_bath_counts_rev2.csv')\n"
   ]
  },
  {
   "cell_type": "code",
   "execution_count": null,
   "metadata": {},
   "outputs": [],
   "source": [
    "bed_bath_prices_rev2 = pd.read_csv('grouped_data/bed_bath_prices_rev2.csv')\n",
    "bed_bath_counts_rev2 = pd.read_csv('grouped_data/bed_bath_counts_rev2.csv')"
   ]
  },
  {
   "cell_type": "code",
   "execution_count": null,
   "metadata": {},
   "outputs": [],
   "source": [
    "import matplotlib.pyplot as plt\n",
    "import seaborn as sns\n",
    "sns.scatterplot(x=bed_bath_prices_rev2['beds_no'], y=bed_bath_prices_rev2['baths_no'], style=bed_bath_prices_rev2['baths_type'], hue=bed_bath_prices_rev2['price'])\n",
    "plt.title('Price vs Bed/Bath Combinations')\n",
    "plt.xlabel('Baths')\n",
    "plt.ylabel('Beds')"
   ]
  },
  {
   "cell_type": "code",
   "execution_count": null,
   "metadata": {},
   "outputs": [],
   "source": [
    "avgs = listing_data.groupby(['guest_no','Region'])['price'].mean().reset_index()\n",
    "import seaborn as sns\n",
    "sns.scatterplot(x=avgs['guest_no'], y=avgs['price'], hue = avgs['Region'])\n",
    "plt.title('Price vs Guests')\n",
    "plt.xlabel('Guests')\n",
    "plt.ylabel('Avg Price')\n"
   ]
  },
  {
   "cell_type": "code",
   "execution_count": null,
   "metadata": {},
   "outputs": [],
   "source": [
    "avgRats = listing_data.groupby(['guest_no','Region'])['avgRating'].mean().reset_index()\n",
    "sns.scatterplot(x=avgRats['guest_no'], y=avgRats['avgRating'], hue = avgRats['Region'])\n",
    "plt.title('Avg Rating vs Guests')\n",
    "plt.xlabel('Guests')\n",
    "plt.ylabel('Avg Rating')\n"
   ]
  },
  {
   "cell_type": "code",
   "execution_count": null,
   "metadata": {},
   "outputs": [],
   "source": [
    "sns.boxplot(x=\"guest_no\", y=\"price\", data=listing_data)\n",
    "plt.ylim([0,2000])"
   ]
  },
  {
   "cell_type": "code",
   "execution_count": null,
   "metadata": {},
   "outputs": [],
   "source": [
    "counts = listing_data.groupby(['guest_no'])['id'].count().reset_index()\n",
    "sns.scatterplot(x=counts['guest_no'], y=counts['id'])\n",
    "plt.title('Count of IDs vs Guests')\n",
    "plt.xlabel('# of Guests')\n",
    "plt.ylabel('ID Count')"
   ]
  },
  {
   "cell_type": "code",
   "execution_count": null,
   "metadata": {},
   "outputs": [],
   "source": [
    "counts_loc = listing_data.groupby(['guest_no','Region'])['id'].count().reset_index()\n",
    "sns.scatterplot(x=counts_loc['guest_no'], y=counts_loc['id'], hue = counts_loc['Region'])\n",
    "plt.title('Count of IDs vs Guests')\n",
    "plt.xlabel('# of Guests')\n",
    "plt.ylabel('ID Count')"
   ]
  },
  {
   "cell_type": "code",
   "execution_count": null,
   "metadata": {},
   "outputs": [],
   "source": [
    "sns.boxplot(x=\"guest_no\", y=\"avgRating\", data=listing_data)\n",
    "#plt.ylim([0,2000])"
   ]
  },
  {
   "cell_type": "code",
   "execution_count": null,
   "metadata": {},
   "outputs": [],
   "source": [
    "listing_data.columns"
   ]
  },
  {
   "cell_type": "code",
   "execution_count": null,
   "metadata": {},
   "outputs": [],
   "source": [
    "import folium\n",
    "#listing_locations = all_ne_data[[\"lat\", \"lng\", \"name\"]]\n",
    "#listing_locations = listing_locations.dropna()\n",
    "listing_data = listing_data.dropna()\n",
    "m = folium.Map(location=[listing_data.lat.mean(), listing_data.lng.mean()], zoom_start=3)\n",
    "\n",
    "tooltip = \"Click me!\"\n",
    "counter = 0\n",
    "for index, location_info in listing_data.iterrows():\n",
    "#for index, location_info in listing_locations.iterrows():\n",
    "    if location_info.reviewsCount > 100:\n",
    "        folium.Marker(\n",
    "            [location_info[\"lat\"], location_info[\"lng\"]], popup=location_info[\"price\"], icon=folium.Icon(color=\"darkgreen\")\n",
    "        ).add_to(m)\n",
    "    else:\n",
    "        folium.Marker(\n",
    "            [location_info[\"lat\"], location_info[\"lng\"]], popup=location_info[\"price\"], icon=folium.Icon(color=\"blue\")\n",
    "        ).add_to(m)        \n",
    "    counter += 1\n",
    "    if counter == 1000:\n",
    "        break\n",
    "\n",
    "#m.save('map.html')"
   ]
  },
  {
   "cell_type": "code",
   "execution_count": null,
   "metadata": {},
   "outputs": [],
   "source": [
    "m"
   ]
  },
  {
   "cell_type": "code",
   "execution_count": null,
   "metadata": {},
   "outputs": [],
   "source": [
    "listing_data.isSuperhost.unique()"
   ]
  },
  {
   "cell_type": "code",
   "execution_count": 22,
   "metadata": {},
   "outputs": [
    {
     "data": {
      "text/plain": [
       "(35284, 30)"
      ]
     },
     "execution_count": 22,
     "metadata": {},
     "output_type": "execute_result"
    }
   ],
   "source": [
    "listing_data.shape"
   ]
  },
  {
   "cell_type": "code",
   "execution_count": null,
   "metadata": {},
   "outputs": [],
   "source": [
    "listing_data"
   ]
  },
  {
   "cell_type": "code",
   "execution_count": null,
   "metadata": {},
   "outputs": [],
   "source": [
    "nc = listing_data[listing_data['top_lat'] < 35.5]"
   ]
  },
  {
   "cell_type": "code",
   "execution_count": null,
   "metadata": {},
   "outputs": [],
   "source": [
    "nc.shape"
   ]
  },
  {
   "cell_type": "code",
   "execution_count": null,
   "metadata": {},
   "outputs": [],
   "source": [
    "nc.town.unique()"
   ]
  },
  {
   "cell_type": "code",
   "execution_count": null,
   "metadata": {},
   "outputs": [],
   "source": [
    "from glob import glob\n",
    "import numpy as np\n",
    "import folium\n",
    "from folium import plugins\n",
    "from folium.plugins import HeatMap\n",
    "\n",
    "lon, lat = -77.5, 34.2\n",
    "zoom_start = 5\n",
    "\n",
    "#data = (\n",
    "#    np.random.normal(size=(100, 3)) *\n",
    "#    np.array([[1, 1, 1]]) +\n",
    "#    np.array([[48, 5, 1]])\n",
    "#).tolist()\n",
    "m = folium.Map([48, 5], tiles='stamentoner', zoom_start=6)\n",
    "#nc = nc.dropna()\n",
    "HeatMap(listing_data[['lat','lng']].groupby(['lat','lng']).sum().reset_index().values.tolist(), radius=7, max_zoom=10).add_to(folium.FeatureGroup(name='Heat Map').add_to(m))\n",
    "folium.LayerControl().add_to(m)"
   ]
  },
  {
   "cell_type": "code",
   "execution_count": null,
   "metadata": {},
   "outputs": [],
   "source": [
    "m"
   ]
  },
  {
   "cell_type": "code",
   "execution_count": 82,
   "metadata": {},
   "outputs": [],
   "source": [
    "import plotly.express as px\n",
    "listing_fig = px.density_mapbox(listing_data, lat='lat', lon='lng', z='id', radius=10,\n",
    "                        center=dict(lat=listing_data.lat.mean(), lon=listing_data.lng.mean()), zoom=3,\n",
    "                        mapbox_style=\"stamen-terrain\")\n",
    "#fig.show()\n",
    "listing_fig.update_layout(title_text=\"Heatmap for Airbnb Listings\")\n",
    "\n",
    "listing_fig.write_html(\"reports/listing_heatmap.html\")"
   ]
  },
  {
   "cell_type": "code",
   "execution_count": 83,
   "metadata": {},
   "outputs": [],
   "source": [
    "price_fig = px.density_mapbox(listing_data, lat='lat', lon='lng', z='price', radius=10,\n",
    "                        center=dict(lat=listing_data.lat.mean(), lon=listing_data.lng.mean()), zoom=3,\n",
    "                        mapbox_style=\"stamen-terrain\")\n",
    "#fig.show()\n",
    "price_fig.update_layout(title_text=\"Heatmap for Airbnb Price\")\n",
    "price_fig.write_html(\"reports/price_heatmap.html\")"
   ]
  },
  {
   "cell_type": "code",
   "execution_count": 90,
   "metadata": {},
   "outputs": [],
   "source": [
    "with open(\"reports/report_draft.html\",'w') as f:\n",
    "    f.write(listing_fig.to_html(full_html=False, include_plotlyjs='cdn'))\n",
    "    f.write(price_fig.to_html(full_html=False, include_plotlyjs='cdn'))\n",
    "    f.write(price_v_numlist_fig.to_html(full_html=False, include_plotlyjs='cdn'))\n",
    "    f.write(roi_fig.to_html(full_html=False, include_plotlyjs='cdn'))\n",
    "    f.write(roi_subplots.to_html(full_html=False, include_plotlyjs='cdn'))"
   ]
  },
  {
   "cell_type": "code",
   "execution_count": 1,
   "metadata": {},
   "outputs": [
    {
     "name": "stdout",
     "output_type": "stream",
     "text": [
      "Collecting us\n",
      "  Downloading us-2.0.2.tar.gz (14 kB)\n",
      "  Preparing metadata (setup.py): started\n",
      "  Preparing metadata (setup.py): finished with status 'done'\n",
      "Collecting jellyfish==0.6.1\n",
      "  Downloading jellyfish-0.6.1.tar.gz (132 kB)\n",
      "     -------------------------------------- 132.6/132.6 KB 2.6 MB/s eta 0:00:00\n",
      "  Preparing metadata (setup.py): started\n",
      "  Preparing metadata (setup.py): finished with status 'done'\n",
      "Using legacy 'setup.py install' for us, since package 'wheel' is not installed.\n",
      "Using legacy 'setup.py install' for jellyfish, since package 'wheel' is not installed.\n",
      "Installing collected packages: jellyfish, us\n",
      "  Running setup.py install for jellyfish: started\n",
      "  Running setup.py install for jellyfish: finished with status 'done'\n",
      "  Running setup.py install for us: started\n",
      "  Running setup.py install for us: finished with status 'done'\n",
      "Successfully installed jellyfish-0.6.1 us-2.0.2\n",
      "Note: you may need to restart the kernel to use updated packages.\n"
     ]
    }
   ],
   "source": [
    "pip install us"
   ]
  },
  {
   "cell_type": "code",
   "execution_count": 10,
   "metadata": {},
   "outputs": [],
   "source": [
    "city_data = pd.read_csv('resource_data/uscities.csv')"
   ]
  },
  {
   "cell_type": "code",
   "execution_count": 47,
   "metadata": {},
   "outputs": [
    {
     "data": {
      "text/plain": [
       "Index(['city', 'city_ascii', 'state_id', 'state_name', 'county_fips',\n",
       "       'county_name', 'lat', 'lng', 'population', 'density', 'source',\n",
       "       'military', 'incorporated', 'timezone', 'ranking', 'zips', 'id'],\n",
       "      dtype='object')"
      ]
     },
     "execution_count": 47,
     "metadata": {},
     "output_type": "execute_result"
    }
   ],
   "source": [
    "city_data.columns"
   ]
  },
  {
   "cell_type": "code",
   "execution_count": 20,
   "metadata": {},
   "outputs": [
    {
     "data": {
      "text/plain": [
       "1        91367 90291 90293 90292 91316 91311 90035 9003...\n",
       "23721                                                78580\n",
       "Name: zips, dtype: object"
      ]
     },
     "execution_count": 20,
     "metadata": {},
     "output_type": "execute_result"
    }
   ],
   "source": [
    "test_zip = 91311\n",
    "city_name = 'Los Angeles'\n",
    "    zip_codes = city_data[city_data['city'] == city_name].zips"
   ]
  },
  {
   "cell_type": "code",
   "execution_count": 11,
   "metadata": {},
   "outputs": [],
   "source": [
    "home_value = pd.read_csv('resource_data/home_value_zillow.csv')"
   ]
  },
  {
   "cell_type": "code",
   "execution_count": 12,
   "metadata": {},
   "outputs": [],
   "source": [
    "city_home = city_data.merge(home_value, left_on = ['city','state_id'], right_on = ['RegionName','State'])"
   ]
  },
  {
   "cell_type": "code",
   "execution_count": 54,
   "metadata": {},
   "outputs": [
    {
     "data": {
      "text/html": [
       "<div>\n",
       "<style scoped>\n",
       "    .dataframe tbody tr th:only-of-type {\n",
       "        vertical-align: middle;\n",
       "    }\n",
       "\n",
       "    .dataframe tbody tr th {\n",
       "        vertical-align: top;\n",
       "    }\n",
       "\n",
       "    .dataframe thead th {\n",
       "        text-align: right;\n",
       "    }\n",
       "</style>\n",
       "<table border=\"1\" class=\"dataframe\">\n",
       "  <thead>\n",
       "    <tr style=\"text-align: right;\">\n",
       "      <th></th>\n",
       "      <th>city</th>\n",
       "      <th>city_ascii</th>\n",
       "      <th>state_id</th>\n",
       "      <th>state_name</th>\n",
       "      <th>county_fips</th>\n",
       "      <th>county_name</th>\n",
       "      <th>lat</th>\n",
       "      <th>lng</th>\n",
       "      <th>population</th>\n",
       "      <th>density</th>\n",
       "      <th>...</th>\n",
       "      <th>2021-07-31</th>\n",
       "      <th>2021-08-31</th>\n",
       "      <th>2021-09-30</th>\n",
       "      <th>2021-10-31</th>\n",
       "      <th>2021-11-30</th>\n",
       "      <th>2021-12-31</th>\n",
       "      <th>2022-01-31</th>\n",
       "      <th>2022-02-28</th>\n",
       "      <th>2022-03-31</th>\n",
       "      <th>2022-04-30</th>\n",
       "    </tr>\n",
       "  </thead>\n",
       "  <tbody>\n",
       "    <tr>\n",
       "      <th>0</th>\n",
       "      <td>New York</td>\n",
       "      <td>New York</td>\n",
       "      <td>NY</td>\n",
       "      <td>New York</td>\n",
       "      <td>36081</td>\n",
       "      <td>Queens</td>\n",
       "      <td>40.6943</td>\n",
       "      <td>-73.9249</td>\n",
       "      <td>18680025</td>\n",
       "      <td>10768.0</td>\n",
       "      <td>...</td>\n",
       "      <td>716872.0</td>\n",
       "      <td>721839.0</td>\n",
       "      <td>727737.0</td>\n",
       "      <td>732735.0</td>\n",
       "      <td>736427.0</td>\n",
       "      <td>739231.0</td>\n",
       "      <td>743318.0</td>\n",
       "      <td>748195.0</td>\n",
       "      <td>754331.0</td>\n",
       "      <td>759901.0</td>\n",
       "    </tr>\n",
       "    <tr>\n",
       "      <th>1</th>\n",
       "      <td>Los Angeles</td>\n",
       "      <td>Los Angeles</td>\n",
       "      <td>CA</td>\n",
       "      <td>California</td>\n",
       "      <td>6037</td>\n",
       "      <td>Los Angeles</td>\n",
       "      <td>34.1141</td>\n",
       "      <td>-118.4068</td>\n",
       "      <td>12531334</td>\n",
       "      <td>3267.0</td>\n",
       "      <td>...</td>\n",
       "      <td>901800.0</td>\n",
       "      <td>915560.0</td>\n",
       "      <td>925407.0</td>\n",
       "      <td>928293.0</td>\n",
       "      <td>932714.0</td>\n",
       "      <td>938376.0</td>\n",
       "      <td>943426.0</td>\n",
       "      <td>952509.0</td>\n",
       "      <td>968695.0</td>\n",
       "      <td>988288.0</td>\n",
       "    </tr>\n",
       "    <tr>\n",
       "      <th>2</th>\n",
       "      <td>Chicago</td>\n",
       "      <td>Chicago</td>\n",
       "      <td>IL</td>\n",
       "      <td>Illinois</td>\n",
       "      <td>17031</td>\n",
       "      <td>Cook</td>\n",
       "      <td>41.8375</td>\n",
       "      <td>-87.6866</td>\n",
       "      <td>8586888</td>\n",
       "      <td>4576.0</td>\n",
       "      <td>...</td>\n",
       "      <td>295982.0</td>\n",
       "      <td>299067.0</td>\n",
       "      <td>301141.0</td>\n",
       "      <td>303191.0</td>\n",
       "      <td>305794.0</td>\n",
       "      <td>308245.0</td>\n",
       "      <td>310569.0</td>\n",
       "      <td>311893.0</td>\n",
       "      <td>313825.0</td>\n",
       "      <td>315196.0</td>\n",
       "    </tr>\n",
       "    <tr>\n",
       "      <th>3</th>\n",
       "      <td>Miami</td>\n",
       "      <td>Miami</td>\n",
       "      <td>FL</td>\n",
       "      <td>Florida</td>\n",
       "      <td>12086</td>\n",
       "      <td>Miami-Dade</td>\n",
       "      <td>25.7840</td>\n",
       "      <td>-80.2101</td>\n",
       "      <td>6076316</td>\n",
       "      <td>4945.0</td>\n",
       "      <td>...</td>\n",
       "      <td>415291.0</td>\n",
       "      <td>422454.0</td>\n",
       "      <td>430923.0</td>\n",
       "      <td>439804.0</td>\n",
       "      <td>447950.0</td>\n",
       "      <td>456631.0</td>\n",
       "      <td>466100.0</td>\n",
       "      <td>475103.0</td>\n",
       "      <td>484963.0</td>\n",
       "      <td>494527.0</td>\n",
       "    </tr>\n",
       "    <tr>\n",
       "      <th>4</th>\n",
       "      <td>Dallas</td>\n",
       "      <td>Dallas</td>\n",
       "      <td>TX</td>\n",
       "      <td>Texas</td>\n",
       "      <td>48113</td>\n",
       "      <td>Dallas</td>\n",
       "      <td>32.7935</td>\n",
       "      <td>-96.7667</td>\n",
       "      <td>5910669</td>\n",
       "      <td>1522.0</td>\n",
       "      <td>...</td>\n",
       "      <td>270708.0</td>\n",
       "      <td>277608.0</td>\n",
       "      <td>284215.0</td>\n",
       "      <td>289697.0</td>\n",
       "      <td>292707.0</td>\n",
       "      <td>295313.0</td>\n",
       "      <td>299936.0</td>\n",
       "      <td>306606.0</td>\n",
       "      <td>313368.0</td>\n",
       "      <td>321569.0</td>\n",
       "    </tr>\n",
       "    <tr>\n",
       "      <th>...</th>\n",
       "      <td>...</td>\n",
       "      <td>...</td>\n",
       "      <td>...</td>\n",
       "      <td>...</td>\n",
       "      <td>...</td>\n",
       "      <td>...</td>\n",
       "      <td>...</td>\n",
       "      <td>...</td>\n",
       "      <td>...</td>\n",
       "      <td>...</td>\n",
       "      <td>...</td>\n",
       "      <td>...</td>\n",
       "      <td>...</td>\n",
       "      <td>...</td>\n",
       "      <td>...</td>\n",
       "      <td>...</td>\n",
       "      <td>...</td>\n",
       "      <td>...</td>\n",
       "      <td>...</td>\n",
       "      <td>...</td>\n",
       "      <td>...</td>\n",
       "    </tr>\n",
       "    <tr>\n",
       "      <th>18376</th>\n",
       "      <td>Belvidere</td>\n",
       "      <td>Belvidere</td>\n",
       "      <td>TN</td>\n",
       "      <td>Tennessee</td>\n",
       "      <td>47051</td>\n",
       "      <td>Franklin</td>\n",
       "      <td>35.1281</td>\n",
       "      <td>-86.1881</td>\n",
       "      <td>8</td>\n",
       "      <td>6.0</td>\n",
       "      <td>...</td>\n",
       "      <td>192853.0</td>\n",
       "      <td>196955.0</td>\n",
       "      <td>200832.0</td>\n",
       "      <td>204849.0</td>\n",
       "      <td>208177.0</td>\n",
       "      <td>211980.0</td>\n",
       "      <td>216874.0</td>\n",
       "      <td>221173.0</td>\n",
       "      <td>224086.0</td>\n",
       "      <td>226282.0</td>\n",
       "    </tr>\n",
       "    <tr>\n",
       "      <th>18377</th>\n",
       "      <td>Monarch</td>\n",
       "      <td>Monarch</td>\n",
       "      <td>MT</td>\n",
       "      <td>Montana</td>\n",
       "      <td>30013</td>\n",
       "      <td>Cascade</td>\n",
       "      <td>47.1003</td>\n",
       "      <td>-110.8448</td>\n",
       "      <td>5</td>\n",
       "      <td>2.0</td>\n",
       "      <td>...</td>\n",
       "      <td>227330.0</td>\n",
       "      <td>237445.0</td>\n",
       "      <td>245249.0</td>\n",
       "      <td>252902.0</td>\n",
       "      <td>258049.0</td>\n",
       "      <td>260623.0</td>\n",
       "      <td>265979.0</td>\n",
       "      <td>269531.0</td>\n",
       "      <td>273999.0</td>\n",
       "      <td>275404.0</td>\n",
       "    </tr>\n",
       "    <tr>\n",
       "      <th>18378</th>\n",
       "      <td>Lake Buena Vista</td>\n",
       "      <td>Lake Buena Vista</td>\n",
       "      <td>FL</td>\n",
       "      <td>Florida</td>\n",
       "      <td>12095</td>\n",
       "      <td>Orange</td>\n",
       "      <td>28.3790</td>\n",
       "      <td>-81.5262</td>\n",
       "      <td>4</td>\n",
       "      <td>338.6</td>\n",
       "      <td>...</td>\n",
       "      <td>3656825.0</td>\n",
       "      <td>3763472.0</td>\n",
       "      <td>3858074.0</td>\n",
       "      <td>3927890.0</td>\n",
       "      <td>4006278.0</td>\n",
       "      <td>4076415.0</td>\n",
       "      <td>4159371.0</td>\n",
       "      <td>4237784.0</td>\n",
       "      <td>4344569.0</td>\n",
       "      <td>4476184.0</td>\n",
       "    </tr>\n",
       "    <tr>\n",
       "      <th>18379</th>\n",
       "      <td>Harwood</td>\n",
       "      <td>Harwood</td>\n",
       "      <td>MO</td>\n",
       "      <td>Missouri</td>\n",
       "      <td>29217</td>\n",
       "      <td>Vernon</td>\n",
       "      <td>37.9567</td>\n",
       "      <td>-94.1541</td>\n",
       "      <td>3</td>\n",
       "      <td>59.7</td>\n",
       "      <td>...</td>\n",
       "      <td>NaN</td>\n",
       "      <td>NaN</td>\n",
       "      <td>NaN</td>\n",
       "      <td>62534.0</td>\n",
       "      <td>61983.0</td>\n",
       "      <td>63615.0</td>\n",
       "      <td>65138.0</td>\n",
       "      <td>67367.0</td>\n",
       "      <td>68567.0</td>\n",
       "      <td>69566.0</td>\n",
       "    </tr>\n",
       "    <tr>\n",
       "      <th>18380</th>\n",
       "      <td>Goldcreek</td>\n",
       "      <td>Goldcreek</td>\n",
       "      <td>MT</td>\n",
       "      <td>Montana</td>\n",
       "      <td>30077</td>\n",
       "      <td>Powell</td>\n",
       "      <td>46.5838</td>\n",
       "      <td>-112.9284</td>\n",
       "      <td>1</td>\n",
       "      <td>1.9</td>\n",
       "      <td>...</td>\n",
       "      <td>211650.0</td>\n",
       "      <td>213350.0</td>\n",
       "      <td>214687.0</td>\n",
       "      <td>215886.0</td>\n",
       "      <td>217457.0</td>\n",
       "      <td>222035.0</td>\n",
       "      <td>224867.0</td>\n",
       "      <td>229474.0</td>\n",
       "      <td>232785.0</td>\n",
       "      <td>236059.0</td>\n",
       "    </tr>\n",
       "  </tbody>\n",
       "</table>\n",
       "<p>18381 rows × 293 columns</p>\n",
       "</div>"
      ],
      "text/plain": [
       "                   city        city_ascii state_id  state_name  county_fips  \\\n",
       "0              New York          New York       NY    New York        36081   \n",
       "1           Los Angeles       Los Angeles       CA  California         6037   \n",
       "2               Chicago           Chicago       IL    Illinois        17031   \n",
       "3                 Miami             Miami       FL     Florida        12086   \n",
       "4                Dallas            Dallas       TX       Texas        48113   \n",
       "...                 ...               ...      ...         ...          ...   \n",
       "18376         Belvidere         Belvidere       TN   Tennessee        47051   \n",
       "18377           Monarch           Monarch       MT     Montana        30013   \n",
       "18378  Lake Buena Vista  Lake Buena Vista       FL     Florida        12095   \n",
       "18379           Harwood           Harwood       MO    Missouri        29217   \n",
       "18380         Goldcreek         Goldcreek       MT     Montana        30077   \n",
       "\n",
       "       county_name      lat       lng  population  density  ... 2021-07-31  \\\n",
       "0           Queens  40.6943  -73.9249    18680025  10768.0  ...   716872.0   \n",
       "1      Los Angeles  34.1141 -118.4068    12531334   3267.0  ...   901800.0   \n",
       "2             Cook  41.8375  -87.6866     8586888   4576.0  ...   295982.0   \n",
       "3       Miami-Dade  25.7840  -80.2101     6076316   4945.0  ...   415291.0   \n",
       "4           Dallas  32.7935  -96.7667     5910669   1522.0  ...   270708.0   \n",
       "...            ...      ...       ...         ...      ...  ...        ...   \n",
       "18376     Franklin  35.1281  -86.1881           8      6.0  ...   192853.0   \n",
       "18377      Cascade  47.1003 -110.8448           5      2.0  ...   227330.0   \n",
       "18378       Orange  28.3790  -81.5262           4    338.6  ...  3656825.0   \n",
       "18379       Vernon  37.9567  -94.1541           3     59.7  ...        NaN   \n",
       "18380       Powell  46.5838 -112.9284           1      1.9  ...   211650.0   \n",
       "\n",
       "       2021-08-31  2021-09-30 2021-10-31  2021-11-30 2021-12-31  2022-01-31  \\\n",
       "0        721839.0    727737.0   732735.0    736427.0   739231.0    743318.0   \n",
       "1        915560.0    925407.0   928293.0    932714.0   938376.0    943426.0   \n",
       "2        299067.0    301141.0   303191.0    305794.0   308245.0    310569.0   \n",
       "3        422454.0    430923.0   439804.0    447950.0   456631.0    466100.0   \n",
       "4        277608.0    284215.0   289697.0    292707.0   295313.0    299936.0   \n",
       "...           ...         ...        ...         ...        ...         ...   \n",
       "18376    196955.0    200832.0   204849.0    208177.0   211980.0    216874.0   \n",
       "18377    237445.0    245249.0   252902.0    258049.0   260623.0    265979.0   \n",
       "18378   3763472.0   3858074.0  3927890.0   4006278.0  4076415.0   4159371.0   \n",
       "18379         NaN         NaN    62534.0     61983.0    63615.0     65138.0   \n",
       "18380    213350.0    214687.0   215886.0    217457.0   222035.0    224867.0   \n",
       "\n",
       "       2022-02-28  2022-03-31 2022-04-30  \n",
       "0        748195.0    754331.0   759901.0  \n",
       "1        952509.0    968695.0   988288.0  \n",
       "2        311893.0    313825.0   315196.0  \n",
       "3        475103.0    484963.0   494527.0  \n",
       "4        306606.0    313368.0   321569.0  \n",
       "...           ...         ...        ...  \n",
       "18376    221173.0    224086.0   226282.0  \n",
       "18377    269531.0    273999.0   275404.0  \n",
       "18378   4237784.0   4344569.0  4476184.0  \n",
       "18379     67367.0     68567.0    69566.0  \n",
       "18380    229474.0    232785.0   236059.0  \n",
       "\n",
       "[18381 rows x 293 columns]"
      ]
     },
     "execution_count": 54,
     "metadata": {},
     "output_type": "execute_result"
    }
   ],
   "source": [
    "city_home"
   ]
  },
  {
   "cell_type": "code",
   "execution_count": 28,
   "metadata": {},
   "outputs": [
    {
     "data": {
      "text/plain": [
       "(75322, 293)"
      ]
     },
     "execution_count": 28,
     "metadata": {},
     "output_type": "execute_result"
    }
   ],
   "source": [
    "city_home.shape"
   ]
  },
  {
   "cell_type": "code",
   "execution_count": 92,
   "metadata": {},
   "outputs": [],
   "source": [
    "city_home['city'] = city_home['city'].str.lower()\n",
    "lists_per_city = listing_data.groupby(['town'])['id'].count().reset_index()\n",
    "lists_per_city.rename(columns = {'id':'num_lists_in_town'}, inplace = True)\n",
    "median_price_per_city = listing_data.groupby(['town'])['price'].median().reset_index()\n",
    "median_price_per_city.rename(columns = {'price':'median_price_per_city'}, inplace = True)\n",
    "\n",
    "# Calculate occupancy rate\n",
    "occ_rate = occ_data.groupby('id')['available'].apply(lambda row: np.sum(row)/len(row))\n",
    "listing_occ_rate = listing_data.merge(occ_rate, on = 'id')\n",
    "median_occ_rate_per_city = listing_occ_rate.groupby(['town'])['available'].median().reset_index()\n",
    "median_occ_rate_per_city.rename(columns = {'available':'occupancy_rate'}, inplace = True)\n",
    "\n",
    "# Calculate pricing avgs\n",
    "cleaning_fee = price_data.groupby(['id'])['cleaning_fee'].median().reset_index()\n",
    "service_fee = price_data.groupby(['id'])['service_fee'].median().reset_index()\n",
    "total_price = price_data.groupby(['id'])['total_price'].median().reset_index()\n"
   ]
  },
  {
   "cell_type": "code",
   "execution_count": 14,
   "metadata": {},
   "outputs": [],
   "source": [
    "lists_town_price = lists_per_city.merge(median_price_per_city, left_on = 'town', right_on = 'town')\n",
    "lists_town_price_occ = lists_town_price.merge(median_occ_rate_per_city, left_on = 'town', right_on = 'town')\n",
    "lists_town_home_price_occ = lists_town_price_occ.merge(city_home, left_on = 'town', right_on = 'city')"
   ]
  },
  {
   "cell_type": "code",
   "execution_count": 91,
   "metadata": {},
   "outputs": [
    {
     "data": {
      "text/html": [
       "<div>\n",
       "<style scoped>\n",
       "    .dataframe tbody tr th:only-of-type {\n",
       "        vertical-align: middle;\n",
       "    }\n",
       "\n",
       "    .dataframe tbody tr th {\n",
       "        vertical-align: top;\n",
       "    }\n",
       "\n",
       "    .dataframe thead th {\n",
       "        text-align: right;\n",
       "    }\n",
       "</style>\n",
       "<table border=\"1\" class=\"dataframe\">\n",
       "  <thead>\n",
       "    <tr style=\"text-align: right;\">\n",
       "      <th></th>\n",
       "      <th>index</th>\n",
       "      <th>cleaning_fee</th>\n",
       "      <th>service_fee</th>\n",
       "      <th>total_price</th>\n",
       "      <th>check_in</th>\n",
       "      <th>check_out</th>\n",
       "      <th>total_price_description</th>\n",
       "      <th>currency</th>\n",
       "      <th>pull_time</th>\n",
       "      <th>id</th>\n",
       "      <th>parition_col</th>\n",
       "    </tr>\n",
       "  </thead>\n",
       "  <tbody>\n",
       "    <tr>\n",
       "      <th>0</th>\n",
       "      <td>0</td>\n",
       "      <td>129.0</td>\n",
       "      <td>46.0</td>\n",
       "      <td>199.0</td>\n",
       "      <td>2022-04-18</td>\n",
       "      <td>2022-04-19</td>\n",
       "      <td>$199 x 1 night</td>\n",
       "      <td>$</td>\n",
       "      <td>18/04/2022 23:52:23</td>\n",
       "      <td>41935100.0</td>\n",
       "      <td>0.0</td>\n",
       "    </tr>\n",
       "    <tr>\n",
       "      <th>1</th>\n",
       "      <td>0</td>\n",
       "      <td>NaN</td>\n",
       "      <td>39.0</td>\n",
       "      <td>275.0</td>\n",
       "      <td>2022-04-18</td>\n",
       "      <td>2022-04-19</td>\n",
       "      <td>$275 x 1 night</td>\n",
       "      <td>$</td>\n",
       "      <td>18/04/2022 23:52:38</td>\n",
       "      <td>41508820.0</td>\n",
       "      <td>0.0</td>\n",
       "    </tr>\n",
       "    <tr>\n",
       "      <th>2</th>\n",
       "      <td>0</td>\n",
       "      <td>129.0</td>\n",
       "      <td>46.0</td>\n",
       "      <td>199.0</td>\n",
       "      <td>2022-04-19</td>\n",
       "      <td>2022-04-20</td>\n",
       "      <td>$199 x 1 night</td>\n",
       "      <td>$</td>\n",
       "      <td>18/04/2022 23:52:48</td>\n",
       "      <td>41935100.0</td>\n",
       "      <td>0.0</td>\n",
       "    </tr>\n",
       "    <tr>\n",
       "      <th>3</th>\n",
       "      <td>0</td>\n",
       "      <td>NaN</td>\n",
       "      <td>39.0</td>\n",
       "      <td>275.0</td>\n",
       "      <td>2022-04-19</td>\n",
       "      <td>2022-04-20</td>\n",
       "      <td>$275 x 1 night</td>\n",
       "      <td>$</td>\n",
       "      <td>18/04/2022 23:52:55</td>\n",
       "      <td>41508820.0</td>\n",
       "      <td>0.0</td>\n",
       "    </tr>\n",
       "    <tr>\n",
       "      <th>4</th>\n",
       "      <td>0</td>\n",
       "      <td>129.0</td>\n",
       "      <td>46.0</td>\n",
       "      <td>199.0</td>\n",
       "      <td>2022-04-20</td>\n",
       "      <td>2022-04-21</td>\n",
       "      <td>$199 x 1 night</td>\n",
       "      <td>$</td>\n",
       "      <td>18/04/2022 23:53:02</td>\n",
       "      <td>41935100.0</td>\n",
       "      <td>0.0</td>\n",
       "    </tr>\n",
       "  </tbody>\n",
       "</table>\n",
       "</div>"
      ],
      "text/plain": [
       "   index  cleaning_fee  service_fee  total_price    check_in   check_out  \\\n",
       "0      0         129.0         46.0        199.0  2022-04-18  2022-04-19   \n",
       "1      0           NaN         39.0        275.0  2022-04-18  2022-04-19   \n",
       "2      0         129.0         46.0        199.0  2022-04-19  2022-04-20   \n",
       "3      0           NaN         39.0        275.0  2022-04-19  2022-04-20   \n",
       "4      0         129.0         46.0        199.0  2022-04-20  2022-04-21   \n",
       "\n",
       "  total_price_description currency            pull_time          id  \\\n",
       "0          $199 x 1 night        $  18/04/2022 23:52:23  41935100.0   \n",
       "1          $275 x 1 night        $  18/04/2022 23:52:38  41508820.0   \n",
       "2          $199 x 1 night        $  18/04/2022 23:52:48  41935100.0   \n",
       "3          $275 x 1 night        $  18/04/2022 23:52:55  41508820.0   \n",
       "4          $199 x 1 night        $  18/04/2022 23:53:02  41935100.0   \n",
       "\n",
       "  parition_col  \n",
       "0          0.0  \n",
       "1          0.0  \n",
       "2          0.0  \n",
       "3          0.0  \n",
       "4          0.0  "
      ]
     },
     "execution_count": 91,
     "metadata": {},
     "output_type": "execute_result"
    }
   ],
   "source": [
    "price_data.head(5)"
   ]
  },
  {
   "cell_type": "code",
   "execution_count": 57,
   "metadata": {},
   "outputs": [],
   "source": [
    "newbury_example = city_home_airbnblist_price[city_home_airbnblist_price['city'] == 'newbury']\n",
    "newbury_example.to_csv('newbury.csv')"
   ]
  },
  {
   "cell_type": "code",
   "execution_count": 15,
   "metadata": {},
   "outputs": [],
   "source": [
    "lists_town_home_price_occ_vt = lists_town_home_price_occ[(lists_town_home_price_occ['state_id'] == 'VT')]\n",
    "lists_town_home_price_occ_nh = lists_town_home_price_occ[(lists_town_home_price_occ['state_id'] == 'NH')]\n",
    "lists_town_home_price_occ_nc = lists_town_home_price_occ[(lists_town_home_price_occ['state_id'] == 'NC')]\n",
    "lists_town_home_price_occ_sc = lists_town_home_price_occ[(lists_town_home_price_occ['state_id'] == 'SC')]\n",
    "\n",
    "lists_town_home_price_occ_all = lists_town_home_price_occ_vt.append(lists_town_home_price_occ_nh)\n",
    "lists_town_home_price_occ_all = lists_town_home_price_occ_all.append(lists_town_home_price_occ_nc)\n",
    "lists_town_home_price_occ_all = lists_town_home_price_occ_all.append(lists_town_home_price_occ_sc)\n"
   ]
  },
  {
   "cell_type": "code",
   "execution_count": 121,
   "metadata": {},
   "outputs": [
    {
     "data": {
      "text/html": [
       "<div>\n",
       "<style scoped>\n",
       "    .dataframe tbody tr th:only-of-type {\n",
       "        vertical-align: middle;\n",
       "    }\n",
       "\n",
       "    .dataframe tbody tr th {\n",
       "        vertical-align: top;\n",
       "    }\n",
       "\n",
       "    .dataframe thead th {\n",
       "        text-align: right;\n",
       "    }\n",
       "</style>\n",
       "<table border=\"1\" class=\"dataframe\">\n",
       "  <thead>\n",
       "    <tr style=\"text-align: right;\">\n",
       "      <th></th>\n",
       "      <th>town</th>\n",
       "      <th>num_lists_in_town</th>\n",
       "      <th>median_price_per_city</th>\n",
       "      <th>occupancy_rate</th>\n",
       "      <th>city</th>\n",
       "      <th>city_ascii</th>\n",
       "      <th>state_id</th>\n",
       "      <th>state_name</th>\n",
       "      <th>county_fips</th>\n",
       "      <th>county_name</th>\n",
       "      <th>...</th>\n",
       "      <th>2021-07-31</th>\n",
       "      <th>2021-08-31</th>\n",
       "      <th>2021-09-30</th>\n",
       "      <th>2021-10-31</th>\n",
       "      <th>2021-11-30</th>\n",
       "      <th>2021-12-31</th>\n",
       "      <th>2022-01-31</th>\n",
       "      <th>2022-02-28</th>\n",
       "      <th>2022-03-31</th>\n",
       "      <th>2022-04-30</th>\n",
       "    </tr>\n",
       "  </thead>\n",
       "  <tbody>\n",
       "    <tr>\n",
       "      <th>58</th>\n",
       "      <td>barre</td>\n",
       "      <td>46</td>\n",
       "      <td>115.0</td>\n",
       "      <td>0.892603</td>\n",
       "      <td>barre</td>\n",
       "      <td>Barre</td>\n",
       "      <td>VT</td>\n",
       "      <td>Vermont</td>\n",
       "      <td>50023</td>\n",
       "      <td>Washington</td>\n",
       "      <td>...</td>\n",
       "      <td>222827.0</td>\n",
       "      <td>224359.0</td>\n",
       "      <td>228725.0</td>\n",
       "      <td>232781.0</td>\n",
       "      <td>236740.0</td>\n",
       "      <td>240078.0</td>\n",
       "      <td>245099.0</td>\n",
       "      <td>250053.0</td>\n",
       "      <td>255472.0</td>\n",
       "      <td>255168.0</td>\n",
       "    </tr>\n",
       "    <tr>\n",
       "      <th>106</th>\n",
       "      <td>bolton</td>\n",
       "      <td>6</td>\n",
       "      <td>137.5</td>\n",
       "      <td>0.437808</td>\n",
       "      <td>bolton</td>\n",
       "      <td>Bolton</td>\n",
       "      <td>VT</td>\n",
       "      <td>Vermont</td>\n",
       "      <td>50007</td>\n",
       "      <td>Chittenden</td>\n",
       "      <td>...</td>\n",
       "      <td>277040.0</td>\n",
       "      <td>282711.0</td>\n",
       "      <td>285847.0</td>\n",
       "      <td>293143.0</td>\n",
       "      <td>298243.0</td>\n",
       "      <td>304080.0</td>\n",
       "      <td>305394.0</td>\n",
       "      <td>307785.0</td>\n",
       "      <td>310612.0</td>\n",
       "      <td>315936.0</td>\n",
       "    </tr>\n",
       "    <tr>\n",
       "      <th>199</th>\n",
       "      <td>chittenden</td>\n",
       "      <td>15</td>\n",
       "      <td>249.0</td>\n",
       "      <td>0.476712</td>\n",
       "      <td>chittenden</td>\n",
       "      <td>Chittenden</td>\n",
       "      <td>VT</td>\n",
       "      <td>Vermont</td>\n",
       "      <td>50021</td>\n",
       "      <td>Rutland</td>\n",
       "      <td>...</td>\n",
       "      <td>326685.0</td>\n",
       "      <td>331385.0</td>\n",
       "      <td>336711.0</td>\n",
       "      <td>342811.0</td>\n",
       "      <td>346676.0</td>\n",
       "      <td>349019.0</td>\n",
       "      <td>350501.0</td>\n",
       "      <td>354296.0</td>\n",
       "      <td>357322.0</td>\n",
       "      <td>360709.0</td>\n",
       "    </tr>\n",
       "    <tr>\n",
       "      <th>239</th>\n",
       "      <td>danby</td>\n",
       "      <td>10</td>\n",
       "      <td>272.5</td>\n",
       "      <td>0.527397</td>\n",
       "      <td>danby</td>\n",
       "      <td>Danby</td>\n",
       "      <td>VT</td>\n",
       "      <td>Vermont</td>\n",
       "      <td>50021</td>\n",
       "      <td>Rutland</td>\n",
       "      <td>...</td>\n",
       "      <td>290377.0</td>\n",
       "      <td>293850.0</td>\n",
       "      <td>301736.0</td>\n",
       "      <td>308725.0</td>\n",
       "      <td>307010.0</td>\n",
       "      <td>300192.0</td>\n",
       "      <td>292006.0</td>\n",
       "      <td>294239.0</td>\n",
       "      <td>297632.0</td>\n",
       "      <td>300998.0</td>\n",
       "    </tr>\n",
       "    <tr>\n",
       "      <th>420</th>\n",
       "      <td>grafton</td>\n",
       "      <td>27</td>\n",
       "      <td>176.0</td>\n",
       "      <td>0.829041</td>\n",
       "      <td>grafton</td>\n",
       "      <td>Grafton</td>\n",
       "      <td>VT</td>\n",
       "      <td>Vermont</td>\n",
       "      <td>50025</td>\n",
       "      <td>Windham</td>\n",
       "      <td>...</td>\n",
       "      <td>387753.0</td>\n",
       "      <td>383065.0</td>\n",
       "      <td>382901.0</td>\n",
       "      <td>393556.0</td>\n",
       "      <td>394396.0</td>\n",
       "      <td>395337.0</td>\n",
       "      <td>396719.0</td>\n",
       "      <td>402751.0</td>\n",
       "      <td>408554.0</td>\n",
       "      <td>415550.0</td>\n",
       "    </tr>\n",
       "    <tr>\n",
       "      <th>...</th>\n",
       "      <td>...</td>\n",
       "      <td>...</td>\n",
       "      <td>...</td>\n",
       "      <td>...</td>\n",
       "      <td>...</td>\n",
       "      <td>...</td>\n",
       "      <td>...</td>\n",
       "      <td>...</td>\n",
       "      <td>...</td>\n",
       "      <td>...</td>\n",
       "      <td>...</td>\n",
       "      <td>...</td>\n",
       "      <td>...</td>\n",
       "      <td>...</td>\n",
       "      <td>...</td>\n",
       "      <td>...</td>\n",
       "      <td>...</td>\n",
       "      <td>...</td>\n",
       "      <td>...</td>\n",
       "      <td>...</td>\n",
       "      <td>...</td>\n",
       "    </tr>\n",
       "    <tr>\n",
       "      <th>942</th>\n",
       "      <td>troy</td>\n",
       "      <td>6</td>\n",
       "      <td>169.5</td>\n",
       "      <td>0.408219</td>\n",
       "      <td>troy</td>\n",
       "      <td>Troy</td>\n",
       "      <td>SC</td>\n",
       "      <td>South Carolina</td>\n",
       "      <td>45047</td>\n",
       "      <td>Greenwood</td>\n",
       "      <td>...</td>\n",
       "      <td>80869.0</td>\n",
       "      <td>82541.0</td>\n",
       "      <td>84666.0</td>\n",
       "      <td>88649.0</td>\n",
       "      <td>91523.0</td>\n",
       "      <td>96403.0</td>\n",
       "      <td>98923.0</td>\n",
       "      <td>100756.0</td>\n",
       "      <td>99626.0</td>\n",
       "      <td>98450.0</td>\n",
       "    </tr>\n",
       "    <tr>\n",
       "      <th>950</th>\n",
       "      <td>wallace</td>\n",
       "      <td>4</td>\n",
       "      <td>104.5</td>\n",
       "      <td>0.180274</td>\n",
       "      <td>wallace</td>\n",
       "      <td>Wallace</td>\n",
       "      <td>SC</td>\n",
       "      <td>South Carolina</td>\n",
       "      <td>45069</td>\n",
       "      <td>Marlboro</td>\n",
       "      <td>...</td>\n",
       "      <td>61076.0</td>\n",
       "      <td>61955.0</td>\n",
       "      <td>62766.0</td>\n",
       "      <td>63719.0</td>\n",
       "      <td>65087.0</td>\n",
       "      <td>67673.0</td>\n",
       "      <td>69428.0</td>\n",
       "      <td>70971.0</td>\n",
       "      <td>69539.0</td>\n",
       "      <td>68445.0</td>\n",
       "    </tr>\n",
       "    <tr>\n",
       "      <th>1014</th>\n",
       "      <td>williston</td>\n",
       "      <td>14</td>\n",
       "      <td>133.5</td>\n",
       "      <td>0.443836</td>\n",
       "      <td>williston</td>\n",
       "      <td>Williston</td>\n",
       "      <td>SC</td>\n",
       "      <td>South Carolina</td>\n",
       "      <td>45011</td>\n",
       "      <td>Barnwell</td>\n",
       "      <td>...</td>\n",
       "      <td>127116.0</td>\n",
       "      <td>127429.0</td>\n",
       "      <td>128398.0</td>\n",
       "      <td>129386.0</td>\n",
       "      <td>130987.0</td>\n",
       "      <td>133448.0</td>\n",
       "      <td>135737.0</td>\n",
       "      <td>138493.0</td>\n",
       "      <td>140110.0</td>\n",
       "      <td>142649.0</td>\n",
       "    </tr>\n",
       "    <tr>\n",
       "      <th>1031</th>\n",
       "      <td>windsor</td>\n",
       "      <td>27</td>\n",
       "      <td>127.0</td>\n",
       "      <td>0.643836</td>\n",
       "      <td>windsor</td>\n",
       "      <td>Windsor</td>\n",
       "      <td>SC</td>\n",
       "      <td>South Carolina</td>\n",
       "      <td>45003</td>\n",
       "      <td>Aiken</td>\n",
       "      <td>...</td>\n",
       "      <td>153242.0</td>\n",
       "      <td>153236.0</td>\n",
       "      <td>154587.0</td>\n",
       "      <td>155441.0</td>\n",
       "      <td>158788.0</td>\n",
       "      <td>162620.0</td>\n",
       "      <td>166052.0</td>\n",
       "      <td>168770.0</td>\n",
       "      <td>170462.0</td>\n",
       "      <td>175491.0</td>\n",
       "    </tr>\n",
       "    <tr>\n",
       "      <th>1043</th>\n",
       "      <td>york</td>\n",
       "      <td>269</td>\n",
       "      <td>350.0</td>\n",
       "      <td>0.576438</td>\n",
       "      <td>york</td>\n",
       "      <td>York</td>\n",
       "      <td>SC</td>\n",
       "      <td>South Carolina</td>\n",
       "      <td>45091</td>\n",
       "      <td>York</td>\n",
       "      <td>...</td>\n",
       "      <td>263091.0</td>\n",
       "      <td>269399.0</td>\n",
       "      <td>275918.0</td>\n",
       "      <td>282464.0</td>\n",
       "      <td>288950.0</td>\n",
       "      <td>295108.0</td>\n",
       "      <td>300204.0</td>\n",
       "      <td>305569.0</td>\n",
       "      <td>310873.0</td>\n",
       "      <td>318429.0</td>\n",
       "    </tr>\n",
       "  </tbody>\n",
       "</table>\n",
       "<p>141 rows × 297 columns</p>\n",
       "</div>"
      ],
      "text/plain": [
       "            town  num_lists_in_town  median_price_per_city  occupancy_rate  \\\n",
       "58         barre                 46                  115.0        0.892603   \n",
       "106       bolton                  6                  137.5        0.437808   \n",
       "199   chittenden                 15                  249.0        0.476712   \n",
       "239        danby                 10                  272.5        0.527397   \n",
       "420      grafton                 27                  176.0        0.829041   \n",
       "...          ...                ...                    ...             ...   \n",
       "942         troy                  6                  169.5        0.408219   \n",
       "950      wallace                  4                  104.5        0.180274   \n",
       "1014   williston                 14                  133.5        0.443836   \n",
       "1031     windsor                 27                  127.0        0.643836   \n",
       "1043        york                269                  350.0        0.576438   \n",
       "\n",
       "            city  city_ascii state_id      state_name  county_fips  \\\n",
       "58         barre       Barre       VT         Vermont        50023   \n",
       "106       bolton      Bolton       VT         Vermont        50007   \n",
       "199   chittenden  Chittenden       VT         Vermont        50021   \n",
       "239        danby       Danby       VT         Vermont        50021   \n",
       "420      grafton     Grafton       VT         Vermont        50025   \n",
       "...          ...         ...      ...             ...          ...   \n",
       "942         troy        Troy       SC  South Carolina        45047   \n",
       "950      wallace     Wallace       SC  South Carolina        45069   \n",
       "1014   williston   Williston       SC  South Carolina        45011   \n",
       "1031     windsor     Windsor       SC  South Carolina        45003   \n",
       "1043        york        York       SC  South Carolina        45091   \n",
       "\n",
       "     county_name  ...  2021-07-31  2021-08-31  2021-09-30  2021-10-31  \\\n",
       "58    Washington  ...    222827.0    224359.0    228725.0    232781.0   \n",
       "106   Chittenden  ...    277040.0    282711.0    285847.0    293143.0   \n",
       "199      Rutland  ...    326685.0    331385.0    336711.0    342811.0   \n",
       "239      Rutland  ...    290377.0    293850.0    301736.0    308725.0   \n",
       "420      Windham  ...    387753.0    383065.0    382901.0    393556.0   \n",
       "...          ...  ...         ...         ...         ...         ...   \n",
       "942    Greenwood  ...     80869.0     82541.0     84666.0     88649.0   \n",
       "950     Marlboro  ...     61076.0     61955.0     62766.0     63719.0   \n",
       "1014    Barnwell  ...    127116.0    127429.0    128398.0    129386.0   \n",
       "1031       Aiken  ...    153242.0    153236.0    154587.0    155441.0   \n",
       "1043        York  ...    263091.0    269399.0    275918.0    282464.0   \n",
       "\n",
       "     2021-11-30  2021-12-31  2022-01-31 2022-02-28  2022-03-31 2022-04-30  \n",
       "58     236740.0    240078.0    245099.0   250053.0    255472.0   255168.0  \n",
       "106    298243.0    304080.0    305394.0   307785.0    310612.0   315936.0  \n",
       "199    346676.0    349019.0    350501.0   354296.0    357322.0   360709.0  \n",
       "239    307010.0    300192.0    292006.0   294239.0    297632.0   300998.0  \n",
       "420    394396.0    395337.0    396719.0   402751.0    408554.0   415550.0  \n",
       "...         ...         ...         ...        ...         ...        ...  \n",
       "942     91523.0     96403.0     98923.0   100756.0     99626.0    98450.0  \n",
       "950     65087.0     67673.0     69428.0    70971.0     69539.0    68445.0  \n",
       "1014   130987.0    133448.0    135737.0   138493.0    140110.0   142649.0  \n",
       "1031   158788.0    162620.0    166052.0   168770.0    170462.0   175491.0  \n",
       "1043   288950.0    295108.0    300204.0   305569.0    310873.0   318429.0  \n",
       "\n",
       "[141 rows x 297 columns]"
      ]
     },
     "execution_count": 121,
     "metadata": {},
     "output_type": "execute_result"
    }
   ],
   "source": [
    "lists_town_home_price_occ_all"
   ]
  },
  {
   "cell_type": "code",
   "execution_count": 77,
   "metadata": {},
   "outputs": [
    {
     "data": {
      "application/vnd.plotly.v1+json": {
       "config": {
        "plotlyServerURL": "https://plot.ly"
       },
       "data": [
        {
         "name": "Price",
         "type": "bar",
         "x": [
          "barre",
          "bolton",
          "chittenden",
          "danby",
          "grafton",
          "huntington",
          "jeffersonville",
          "lincoln",
          "londonderry",
          "lunenburg",
          "lyndon",
          "middletown springs",
          "montpelier",
          "newport",
          "pawlet",
          "proctor",
          "rutland",
          "sheffield",
          "south burlington",
          "weston",
          "winooski",
          "wolcott",
          "berlin",
          "claremont",
          "concord",
          "dover",
          "franklin",
          "laconia",
          "lebanon",
          "manchester",
          "rochester",
          "arapahoe",
          "atlantic",
          "atlantic beach",
          "bald head island",
          "bath",
          "beaufort",
          "belmont",
          "bethel",
          "beulaville",
          "bolton",
          "burgaw",
          "calabash",
          "canton",
          "carolina beach",
          "caswell beach",
          "cedar point",
          "claremont",
          "concord",
          "conway",
          "davis",
          "dover",
          "eden",
          "elizabethtown",
          "emerald isle",
          "enfield",
          "fair bluff",
          "fairfield",
          "fayetteville",
          "franklin",
          "gloucester",
          "greensboro",
          "hampstead",
          "harkers island",
          "harrells",
          "havelock",
          "holden beach",
          "holly ridge",
          "hope mills",
          "indian beach",
          "jackson",
          "jacksonville",
          "jefferson",
          "kure beach",
          "leland",
          "littleton",
          "lowell",
          "lumber bridge",
          "lumberton",
          "madison",
          "marshallberg",
          "middlesex",
          "milton",
          "minnesott beach",
          "morehead city",
          "mount holly",
          "new london",
          "newport",
          "north topsail beach",
          "oak island",
          "ocean isle beach",
          "oriental",
          "ossipee",
          "pine knoll shores",
          "plymouth",
          "rocky point",
          "roseboro",
          "salisbury",
          "sanford",
          "shallotte",
          "sneads ferry",
          "southport",
          "sunset beach",
          "surf city",
          "swansboro",
          "tabor city",
          "troy",
          "wallace",
          "washington",
          "wentworth",
          "whiteville",
          "wilmington",
          "windsor",
          "wrightsville beach",
          "atlantic beach",
          "aynor",
          "beaufort",
          "charleston",
          "chester",
          "conway",
          "denmark",
          "fairfax",
          "georgetown",
          "greenwood",
          "jackson",
          "jefferson",
          "lancaster",
          "little river",
          "lyman",
          "murrells inlet",
          "myrtle beach",
          "north myrtle beach",
          "norway",
          "pawleys island",
          "sharon",
          "surfside beach",
          "troy",
          "wallace",
          "williston",
          "windsor",
          "york"
         ],
         "y": [
          115,
          137.5,
          249,
          272.5,
          176,
          170,
          260,
          199,
          295,
          295.5,
          148.5,
          400,
          106.5,
          135.5,
          99,
          300,
          149,
          101,
          126.5,
          188,
          124,
          171.5,
          131,
          92,
          82,
          115,
          180,
          193,
          133.5,
          262.5,
          169,
          270,
          112.5,
          178.5,
          407,
          218,
          175,
          350,
          250,
          54,
          137.5,
          100,
          95,
          192.5,
          199,
          237.5,
          280,
          92,
          82,
          225,
          167,
          115,
          250,
          140,
          250,
          145,
          79,
          209,
          88,
          180,
          242,
          244,
          144,
          177,
          86,
          100,
          327,
          175,
          94,
          227,
          248,
          96,
          371,
          241,
          87.5,
          157,
          134,
          47,
          75,
          255,
          120,
          125,
          185,
          174,
          132,
          280,
          149,
          135.5,
          185,
          248.5,
          318,
          145,
          240,
          226,
          271,
          116,
          45,
          161.5,
          201,
          150.5,
          163,
          175,
          152,
          204,
          142,
          135,
          169.5,
          104.5,
          200,
          117.5,
          75,
          149,
          127,
          325,
          178.5,
          96,
          175,
          125,
          278,
          225,
          150,
          104.5,
          150,
          223,
          248,
          371,
          122,
          155,
          186,
          199,
          150,
          239,
          150,
          150,
          180,
          242,
          169.5,
          104.5,
          133.5,
          127,
          350
         ]
        },
        {
         "name": "# of Listings",
         "type": "bar",
         "x": [
          "barre",
          "bolton",
          "chittenden",
          "danby",
          "grafton",
          "huntington",
          "jeffersonville",
          "lincoln",
          "londonderry",
          "lunenburg",
          "lyndon",
          "middletown springs",
          "montpelier",
          "newport",
          "pawlet",
          "proctor",
          "rutland",
          "sheffield",
          "south burlington",
          "weston",
          "winooski",
          "wolcott",
          "berlin",
          "claremont",
          "concord",
          "dover",
          "franklin",
          "laconia",
          "lebanon",
          "manchester",
          "rochester",
          "arapahoe",
          "atlantic",
          "atlantic beach",
          "bald head island",
          "bath",
          "beaufort",
          "belmont",
          "bethel",
          "beulaville",
          "bolton",
          "burgaw",
          "calabash",
          "canton",
          "carolina beach",
          "caswell beach",
          "cedar point",
          "claremont",
          "concord",
          "conway",
          "davis",
          "dover",
          "eden",
          "elizabethtown",
          "emerald isle",
          "enfield",
          "fair bluff",
          "fairfield",
          "fayetteville",
          "franklin",
          "gloucester",
          "greensboro",
          "hampstead",
          "harkers island",
          "harrells",
          "havelock",
          "holden beach",
          "holly ridge",
          "hope mills",
          "indian beach",
          "jackson",
          "jacksonville",
          "jefferson",
          "kure beach",
          "leland",
          "littleton",
          "lowell",
          "lumber bridge",
          "lumberton",
          "madison",
          "marshallberg",
          "middlesex",
          "milton",
          "minnesott beach",
          "morehead city",
          "mount holly",
          "new london",
          "newport",
          "north topsail beach",
          "oak island",
          "ocean isle beach",
          "oriental",
          "ossipee",
          "pine knoll shores",
          "plymouth",
          "rocky point",
          "roseboro",
          "salisbury",
          "sanford",
          "shallotte",
          "sneads ferry",
          "southport",
          "sunset beach",
          "surf city",
          "swansboro",
          "tabor city",
          "troy",
          "wallace",
          "washington",
          "wentworth",
          "whiteville",
          "wilmington",
          "windsor",
          "wrightsville beach",
          "atlantic beach",
          "aynor",
          "beaufort",
          "charleston",
          "chester",
          "conway",
          "denmark",
          "fairfax",
          "georgetown",
          "greenwood",
          "jackson",
          "jefferson",
          "lancaster",
          "little river",
          "lyman",
          "murrells inlet",
          "myrtle beach",
          "north myrtle beach",
          "norway",
          "pawleys island",
          "sharon",
          "surfside beach",
          "troy",
          "wallace",
          "williston",
          "windsor",
          "york"
         ],
         "y": [
          46,
          6,
          15,
          10,
          27,
          9,
          18,
          457,
          101,
          4,
          20,
          7,
          62,
          94,
          16,
          5,
          76,
          6,
          40,
          27,
          34,
          24,
          64,
          10,
          57,
          37,
          22,
          209,
          38,
          112,
          53,
          21,
          4,
          492,
          134,
          16,
          161,
          15,
          224,
          3,
          6,
          3,
          217,
          4,
          1164,
          20,
          15,
          10,
          57,
          462,
          12,
          37,
          15,
          16,
          251,
          28,
          3,
          4,
          49,
          22,
          10,
          29,
          41,
          31,
          5,
          13,
          367,
          63,
          28,
          12,
          82,
          203,
          35,
          324,
          28,
          39,
          10,
          7,
          21,
          97,
          4,
          9,
          17,
          11,
          80,
          55,
          41,
          94,
          313,
          880,
          276,
          5,
          59,
          52,
          117,
          7,
          5,
          12,
          24,
          28,
          63,
          113,
          227,
          320,
          46,
          4,
          6,
          4,
          13,
          10,
          14,
          1091,
          27,
          403,
          492,
          13,
          161,
          11,
          71,
          462,
          27,
          20,
          1,
          44,
          82,
          35,
          14,
          107,
          18,
          442,
          6202,
          3749,
          25,
          316,
          7,
          375,
          6,
          4,
          14,
          27,
          269
         ]
        }
       ],
       "layout": {
        "barmode": "group",
        "template": {
         "data": {
          "bar": [
           {
            "error_x": {
             "color": "#2a3f5f"
            },
            "error_y": {
             "color": "#2a3f5f"
            },
            "marker": {
             "line": {
              "color": "#E5ECF6",
              "width": 0.5
             },
             "pattern": {
              "fillmode": "overlay",
              "size": 10,
              "solidity": 0.2
             }
            },
            "type": "bar"
           }
          ],
          "barpolar": [
           {
            "marker": {
             "line": {
              "color": "#E5ECF6",
              "width": 0.5
             },
             "pattern": {
              "fillmode": "overlay",
              "size": 10,
              "solidity": 0.2
             }
            },
            "type": "barpolar"
           }
          ],
          "carpet": [
           {
            "aaxis": {
             "endlinecolor": "#2a3f5f",
             "gridcolor": "white",
             "linecolor": "white",
             "minorgridcolor": "white",
             "startlinecolor": "#2a3f5f"
            },
            "baxis": {
             "endlinecolor": "#2a3f5f",
             "gridcolor": "white",
             "linecolor": "white",
             "minorgridcolor": "white",
             "startlinecolor": "#2a3f5f"
            },
            "type": "carpet"
           }
          ],
          "choropleth": [
           {
            "colorbar": {
             "outlinewidth": 0,
             "ticks": ""
            },
            "type": "choropleth"
           }
          ],
          "contour": [
           {
            "colorbar": {
             "outlinewidth": 0,
             "ticks": ""
            },
            "colorscale": [
             [
              0,
              "#0d0887"
             ],
             [
              0.1111111111111111,
              "#46039f"
             ],
             [
              0.2222222222222222,
              "#7201a8"
             ],
             [
              0.3333333333333333,
              "#9c179e"
             ],
             [
              0.4444444444444444,
              "#bd3786"
             ],
             [
              0.5555555555555556,
              "#d8576b"
             ],
             [
              0.6666666666666666,
              "#ed7953"
             ],
             [
              0.7777777777777778,
              "#fb9f3a"
             ],
             [
              0.8888888888888888,
              "#fdca26"
             ],
             [
              1,
              "#f0f921"
             ]
            ],
            "type": "contour"
           }
          ],
          "contourcarpet": [
           {
            "colorbar": {
             "outlinewidth": 0,
             "ticks": ""
            },
            "type": "contourcarpet"
           }
          ],
          "heatmap": [
           {
            "colorbar": {
             "outlinewidth": 0,
             "ticks": ""
            },
            "colorscale": [
             [
              0,
              "#0d0887"
             ],
             [
              0.1111111111111111,
              "#46039f"
             ],
             [
              0.2222222222222222,
              "#7201a8"
             ],
             [
              0.3333333333333333,
              "#9c179e"
             ],
             [
              0.4444444444444444,
              "#bd3786"
             ],
             [
              0.5555555555555556,
              "#d8576b"
             ],
             [
              0.6666666666666666,
              "#ed7953"
             ],
             [
              0.7777777777777778,
              "#fb9f3a"
             ],
             [
              0.8888888888888888,
              "#fdca26"
             ],
             [
              1,
              "#f0f921"
             ]
            ],
            "type": "heatmap"
           }
          ],
          "heatmapgl": [
           {
            "colorbar": {
             "outlinewidth": 0,
             "ticks": ""
            },
            "colorscale": [
             [
              0,
              "#0d0887"
             ],
             [
              0.1111111111111111,
              "#46039f"
             ],
             [
              0.2222222222222222,
              "#7201a8"
             ],
             [
              0.3333333333333333,
              "#9c179e"
             ],
             [
              0.4444444444444444,
              "#bd3786"
             ],
             [
              0.5555555555555556,
              "#d8576b"
             ],
             [
              0.6666666666666666,
              "#ed7953"
             ],
             [
              0.7777777777777778,
              "#fb9f3a"
             ],
             [
              0.8888888888888888,
              "#fdca26"
             ],
             [
              1,
              "#f0f921"
             ]
            ],
            "type": "heatmapgl"
           }
          ],
          "histogram": [
           {
            "marker": {
             "pattern": {
              "fillmode": "overlay",
              "size": 10,
              "solidity": 0.2
             }
            },
            "type": "histogram"
           }
          ],
          "histogram2d": [
           {
            "colorbar": {
             "outlinewidth": 0,
             "ticks": ""
            },
            "colorscale": [
             [
              0,
              "#0d0887"
             ],
             [
              0.1111111111111111,
              "#46039f"
             ],
             [
              0.2222222222222222,
              "#7201a8"
             ],
             [
              0.3333333333333333,
              "#9c179e"
             ],
             [
              0.4444444444444444,
              "#bd3786"
             ],
             [
              0.5555555555555556,
              "#d8576b"
             ],
             [
              0.6666666666666666,
              "#ed7953"
             ],
             [
              0.7777777777777778,
              "#fb9f3a"
             ],
             [
              0.8888888888888888,
              "#fdca26"
             ],
             [
              1,
              "#f0f921"
             ]
            ],
            "type": "histogram2d"
           }
          ],
          "histogram2dcontour": [
           {
            "colorbar": {
             "outlinewidth": 0,
             "ticks": ""
            },
            "colorscale": [
             [
              0,
              "#0d0887"
             ],
             [
              0.1111111111111111,
              "#46039f"
             ],
             [
              0.2222222222222222,
              "#7201a8"
             ],
             [
              0.3333333333333333,
              "#9c179e"
             ],
             [
              0.4444444444444444,
              "#bd3786"
             ],
             [
              0.5555555555555556,
              "#d8576b"
             ],
             [
              0.6666666666666666,
              "#ed7953"
             ],
             [
              0.7777777777777778,
              "#fb9f3a"
             ],
             [
              0.8888888888888888,
              "#fdca26"
             ],
             [
              1,
              "#f0f921"
             ]
            ],
            "type": "histogram2dcontour"
           }
          ],
          "mesh3d": [
           {
            "colorbar": {
             "outlinewidth": 0,
             "ticks": ""
            },
            "type": "mesh3d"
           }
          ],
          "parcoords": [
           {
            "line": {
             "colorbar": {
              "outlinewidth": 0,
              "ticks": ""
             }
            },
            "type": "parcoords"
           }
          ],
          "pie": [
           {
            "automargin": true,
            "type": "pie"
           }
          ],
          "scatter": [
           {
            "fillpattern": {
             "fillmode": "overlay",
             "size": 10,
             "solidity": 0.2
            },
            "type": "scatter"
           }
          ],
          "scatter3d": [
           {
            "line": {
             "colorbar": {
              "outlinewidth": 0,
              "ticks": ""
             }
            },
            "marker": {
             "colorbar": {
              "outlinewidth": 0,
              "ticks": ""
             }
            },
            "type": "scatter3d"
           }
          ],
          "scattercarpet": [
           {
            "marker": {
             "colorbar": {
              "outlinewidth": 0,
              "ticks": ""
             }
            },
            "type": "scattercarpet"
           }
          ],
          "scattergeo": [
           {
            "marker": {
             "colorbar": {
              "outlinewidth": 0,
              "ticks": ""
             }
            },
            "type": "scattergeo"
           }
          ],
          "scattergl": [
           {
            "marker": {
             "colorbar": {
              "outlinewidth": 0,
              "ticks": ""
             }
            },
            "type": "scattergl"
           }
          ],
          "scattermapbox": [
           {
            "marker": {
             "colorbar": {
              "outlinewidth": 0,
              "ticks": ""
             }
            },
            "type": "scattermapbox"
           }
          ],
          "scatterpolar": [
           {
            "marker": {
             "colorbar": {
              "outlinewidth": 0,
              "ticks": ""
             }
            },
            "type": "scatterpolar"
           }
          ],
          "scatterpolargl": [
           {
            "marker": {
             "colorbar": {
              "outlinewidth": 0,
              "ticks": ""
             }
            },
            "type": "scatterpolargl"
           }
          ],
          "scatterternary": [
           {
            "marker": {
             "colorbar": {
              "outlinewidth": 0,
              "ticks": ""
             }
            },
            "type": "scatterternary"
           }
          ],
          "surface": [
           {
            "colorbar": {
             "outlinewidth": 0,
             "ticks": ""
            },
            "colorscale": [
             [
              0,
              "#0d0887"
             ],
             [
              0.1111111111111111,
              "#46039f"
             ],
             [
              0.2222222222222222,
              "#7201a8"
             ],
             [
              0.3333333333333333,
              "#9c179e"
             ],
             [
              0.4444444444444444,
              "#bd3786"
             ],
             [
              0.5555555555555556,
              "#d8576b"
             ],
             [
              0.6666666666666666,
              "#ed7953"
             ],
             [
              0.7777777777777778,
              "#fb9f3a"
             ],
             [
              0.8888888888888888,
              "#fdca26"
             ],
             [
              1,
              "#f0f921"
             ]
            ],
            "type": "surface"
           }
          ],
          "table": [
           {
            "cells": {
             "fill": {
              "color": "#EBF0F8"
             },
             "line": {
              "color": "white"
             }
            },
            "header": {
             "fill": {
              "color": "#C8D4E3"
             },
             "line": {
              "color": "white"
             }
            },
            "type": "table"
           }
          ]
         },
         "layout": {
          "annotationdefaults": {
           "arrowcolor": "#2a3f5f",
           "arrowhead": 0,
           "arrowwidth": 1
          },
          "autotypenumbers": "strict",
          "coloraxis": {
           "colorbar": {
            "outlinewidth": 0,
            "ticks": ""
           }
          },
          "colorscale": {
           "diverging": [
            [
             0,
             "#8e0152"
            ],
            [
             0.1,
             "#c51b7d"
            ],
            [
             0.2,
             "#de77ae"
            ],
            [
             0.3,
             "#f1b6da"
            ],
            [
             0.4,
             "#fde0ef"
            ],
            [
             0.5,
             "#f7f7f7"
            ],
            [
             0.6,
             "#e6f5d0"
            ],
            [
             0.7,
             "#b8e186"
            ],
            [
             0.8,
             "#7fbc41"
            ],
            [
             0.9,
             "#4d9221"
            ],
            [
             1,
             "#276419"
            ]
           ],
           "sequential": [
            [
             0,
             "#0d0887"
            ],
            [
             0.1111111111111111,
             "#46039f"
            ],
            [
             0.2222222222222222,
             "#7201a8"
            ],
            [
             0.3333333333333333,
             "#9c179e"
            ],
            [
             0.4444444444444444,
             "#bd3786"
            ],
            [
             0.5555555555555556,
             "#d8576b"
            ],
            [
             0.6666666666666666,
             "#ed7953"
            ],
            [
             0.7777777777777778,
             "#fb9f3a"
            ],
            [
             0.8888888888888888,
             "#fdca26"
            ],
            [
             1,
             "#f0f921"
            ]
           ],
           "sequentialminus": [
            [
             0,
             "#0d0887"
            ],
            [
             0.1111111111111111,
             "#46039f"
            ],
            [
             0.2222222222222222,
             "#7201a8"
            ],
            [
             0.3333333333333333,
             "#9c179e"
            ],
            [
             0.4444444444444444,
             "#bd3786"
            ],
            [
             0.5555555555555556,
             "#d8576b"
            ],
            [
             0.6666666666666666,
             "#ed7953"
            ],
            [
             0.7777777777777778,
             "#fb9f3a"
            ],
            [
             0.8888888888888888,
             "#fdca26"
            ],
            [
             1,
             "#f0f921"
            ]
           ]
          },
          "colorway": [
           "#636efa",
           "#EF553B",
           "#00cc96",
           "#ab63fa",
           "#FFA15A",
           "#19d3f3",
           "#FF6692",
           "#B6E880",
           "#FF97FF",
           "#FECB52"
          ],
          "font": {
           "color": "#2a3f5f"
          },
          "geo": {
           "bgcolor": "white",
           "lakecolor": "white",
           "landcolor": "#E5ECF6",
           "showlakes": true,
           "showland": true,
           "subunitcolor": "white"
          },
          "hoverlabel": {
           "align": "left"
          },
          "hovermode": "closest",
          "mapbox": {
           "style": "light"
          },
          "paper_bgcolor": "white",
          "plot_bgcolor": "#E5ECF6",
          "polar": {
           "angularaxis": {
            "gridcolor": "white",
            "linecolor": "white",
            "ticks": ""
           },
           "bgcolor": "#E5ECF6",
           "radialaxis": {
            "gridcolor": "white",
            "linecolor": "white",
            "ticks": ""
           }
          },
          "scene": {
           "xaxis": {
            "backgroundcolor": "#E5ECF6",
            "gridcolor": "white",
            "gridwidth": 2,
            "linecolor": "white",
            "showbackground": true,
            "ticks": "",
            "zerolinecolor": "white"
           },
           "yaxis": {
            "backgroundcolor": "#E5ECF6",
            "gridcolor": "white",
            "gridwidth": 2,
            "linecolor": "white",
            "showbackground": true,
            "ticks": "",
            "zerolinecolor": "white"
           },
           "zaxis": {
            "backgroundcolor": "#E5ECF6",
            "gridcolor": "white",
            "gridwidth": 2,
            "linecolor": "white",
            "showbackground": true,
            "ticks": "",
            "zerolinecolor": "white"
           }
          },
          "shapedefaults": {
           "line": {
            "color": "#2a3f5f"
           }
          },
          "ternary": {
           "aaxis": {
            "gridcolor": "white",
            "linecolor": "white",
            "ticks": ""
           },
           "baxis": {
            "gridcolor": "white",
            "linecolor": "white",
            "ticks": ""
           },
           "bgcolor": "#E5ECF6",
           "caxis": {
            "gridcolor": "white",
            "linecolor": "white",
            "ticks": ""
           }
          },
          "title": {
           "x": 0.05
          },
          "xaxis": {
           "automargin": true,
           "gridcolor": "white",
           "linecolor": "white",
           "ticks": "",
           "title": {
            "standoff": 15
           },
           "zerolinecolor": "white",
           "zerolinewidth": 2
          },
          "yaxis": {
           "automargin": true,
           "gridcolor": "white",
           "linecolor": "white",
           "ticks": "",
           "title": {
            "standoff": 15
           },
           "zerolinecolor": "white",
           "zerolinewidth": 2
          }
         }
        },
        "title": {
         "text": "Price vs Number of Airbnb Listings"
        }
       }
      }
     },
     "metadata": {},
     "output_type": "display_data"
    }
   ],
   "source": [
    "import plotly.graph_objects as go\n",
    "\n",
    "price_v_numlist_fig = go.Figure(data=[\n",
    "    go.Bar(name='Price', x=lists_town_home_price_occ_all['town'], y=lists_town_home_price_occ_all['median_price_per_city']),\n",
    "    go.Bar(name='# of Listings', x=lists_town_home_price_occ_all['town'], y=lists_town_home_price_occ_all['num_lists_in_town'])\n",
    "])\n",
    "# Change the bar mode\n",
    "price_v_numlist_fig.update_layout(title_text='Price vs Number of Airbnb Listings', barmode='group')\n",
    "price_v_numlist_fig.show()"
   ]
  },
  {
   "cell_type": "code",
   "execution_count": 125,
   "metadata": {},
   "outputs": [
    {
     "name": "stdout",
     "output_type": "stream",
     "text": [
      "690.58\n"
     ]
    }
   ],
   "source": [
    "print(calculate_mortgage(100000, 3, 15))"
   ]
  },
  {
   "cell_type": "code",
   "execution_count": 17,
   "metadata": {},
   "outputs": [],
   "source": [
    "lists_town_home_price_occ_all['avg_30_yr_mort'] = lists_town_home_price_occ_all.apply(lambda row: calculate_mortgage(row['2022-04-30'], 5, 30), axis=1)"
   ]
  },
  {
   "cell_type": "code",
   "execution_count": 18,
   "metadata": {},
   "outputs": [],
   "source": [
    "lists_town_home_price_occ_all['median_ROI'] = lists_town_home_price_occ_all.apply(lambda row: calculate_roi(row['median_price_per_city'], row['occupancy_rate'], row['avg_30_yr_mort']), axis=1)"
   ]
  },
  {
   "cell_type": "code",
   "execution_count": 64,
   "metadata": {},
   "outputs": [
    {
     "data": {
      "text/html": [
       "<div>\n",
       "<style scoped>\n",
       "    .dataframe tbody tr th:only-of-type {\n",
       "        vertical-align: middle;\n",
       "    }\n",
       "\n",
       "    .dataframe tbody tr th {\n",
       "        vertical-align: top;\n",
       "    }\n",
       "\n",
       "    .dataframe thead th {\n",
       "        text-align: right;\n",
       "    }\n",
       "</style>\n",
       "<table border=\"1\" class=\"dataframe\">\n",
       "  <thead>\n",
       "    <tr style=\"text-align: right;\">\n",
       "      <th></th>\n",
       "      <th>town</th>\n",
       "      <th>num_lists_in_town</th>\n",
       "      <th>median_price_per_city</th>\n",
       "      <th>occupancy_rate</th>\n",
       "      <th>city</th>\n",
       "      <th>city_ascii</th>\n",
       "      <th>state_id</th>\n",
       "      <th>state_name</th>\n",
       "      <th>county_fips</th>\n",
       "      <th>county_name</th>\n",
       "      <th>...</th>\n",
       "      <th>2021-09-30</th>\n",
       "      <th>2021-10-31</th>\n",
       "      <th>2021-11-30</th>\n",
       "      <th>2021-12-31</th>\n",
       "      <th>2022-01-31</th>\n",
       "      <th>2022-02-28</th>\n",
       "      <th>2022-03-31</th>\n",
       "      <th>2022-04-30</th>\n",
       "      <th>avg_30_yr_mort</th>\n",
       "      <th>median_ROI</th>\n",
       "    </tr>\n",
       "  </thead>\n",
       "  <tbody>\n",
       "    <tr>\n",
       "      <th>58</th>\n",
       "      <td>barre</td>\n",
       "      <td>46</td>\n",
       "      <td>115.0</td>\n",
       "      <td>0.892603</td>\n",
       "      <td>barre</td>\n",
       "      <td>Barre</td>\n",
       "      <td>VT</td>\n",
       "      <td>Vermont</td>\n",
       "      <td>50023</td>\n",
       "      <td>Washington</td>\n",
       "      <td>...</td>\n",
       "      <td>228725.0</td>\n",
       "      <td>232781.0</td>\n",
       "      <td>236740.0</td>\n",
       "      <td>240078.0</td>\n",
       "      <td>245099.0</td>\n",
       "      <td>250053.0</td>\n",
       "      <td>255472.0</td>\n",
       "      <td>255168.0</td>\n",
       "      <td>1369.80</td>\n",
       "      <td>1.279347</td>\n",
       "    </tr>\n",
       "    <tr>\n",
       "      <th>106</th>\n",
       "      <td>bolton</td>\n",
       "      <td>6</td>\n",
       "      <td>137.5</td>\n",
       "      <td>0.437808</td>\n",
       "      <td>bolton</td>\n",
       "      <td>Bolton</td>\n",
       "      <td>VT</td>\n",
       "      <td>Vermont</td>\n",
       "      <td>50007</td>\n",
       "      <td>Chittenden</td>\n",
       "      <td>...</td>\n",
       "      <td>285847.0</td>\n",
       "      <td>293143.0</td>\n",
       "      <td>298243.0</td>\n",
       "      <td>304080.0</td>\n",
       "      <td>305394.0</td>\n",
       "      <td>307785.0</td>\n",
       "      <td>310612.0</td>\n",
       "      <td>315936.0</td>\n",
       "      <td>1696.01</td>\n",
       "      <td>0.079617</td>\n",
       "    </tr>\n",
       "    <tr>\n",
       "      <th>199</th>\n",
       "      <td>chittenden</td>\n",
       "      <td>15</td>\n",
       "      <td>249.0</td>\n",
       "      <td>0.476712</td>\n",
       "      <td>chittenden</td>\n",
       "      <td>Chittenden</td>\n",
       "      <td>VT</td>\n",
       "      <td>Vermont</td>\n",
       "      <td>50021</td>\n",
       "      <td>Rutland</td>\n",
       "      <td>...</td>\n",
       "      <td>336711.0</td>\n",
       "      <td>342811.0</td>\n",
       "      <td>346676.0</td>\n",
       "      <td>349019.0</td>\n",
       "      <td>350501.0</td>\n",
       "      <td>354296.0</td>\n",
       "      <td>357322.0</td>\n",
       "      <td>360709.0</td>\n",
       "      <td>1936.36</td>\n",
       "      <td>0.864581</td>\n",
       "    </tr>\n",
       "    <tr>\n",
       "      <th>239</th>\n",
       "      <td>danby</td>\n",
       "      <td>10</td>\n",
       "      <td>272.5</td>\n",
       "      <td>0.527397</td>\n",
       "      <td>danby</td>\n",
       "      <td>Danby</td>\n",
       "      <td>VT</td>\n",
       "      <td>Vermont</td>\n",
       "      <td>50021</td>\n",
       "      <td>Rutland</td>\n",
       "      <td>...</td>\n",
       "      <td>301736.0</td>\n",
       "      <td>308725.0</td>\n",
       "      <td>307010.0</td>\n",
       "      <td>300192.0</td>\n",
       "      <td>292006.0</td>\n",
       "      <td>294239.0</td>\n",
       "      <td>297632.0</td>\n",
       "      <td>300998.0</td>\n",
       "      <td>1615.82</td>\n",
       "      <td>1.705347</td>\n",
       "    </tr>\n",
       "    <tr>\n",
       "      <th>420</th>\n",
       "      <td>grafton</td>\n",
       "      <td>27</td>\n",
       "      <td>176.0</td>\n",
       "      <td>0.829041</td>\n",
       "      <td>grafton</td>\n",
       "      <td>Grafton</td>\n",
       "      <td>VT</td>\n",
       "      <td>Vermont</td>\n",
       "      <td>50025</td>\n",
       "      <td>Windham</td>\n",
       "      <td>...</td>\n",
       "      <td>382901.0</td>\n",
       "      <td>393556.0</td>\n",
       "      <td>394396.0</td>\n",
       "      <td>395337.0</td>\n",
       "      <td>396719.0</td>\n",
       "      <td>402751.0</td>\n",
       "      <td>408554.0</td>\n",
       "      <td>415550.0</td>\n",
       "      <td>2230.76</td>\n",
       "      <td>0.989516</td>\n",
       "    </tr>\n",
       "  </tbody>\n",
       "</table>\n",
       "<p>5 rows × 299 columns</p>\n",
       "</div>"
      ],
      "text/plain": [
       "           town  num_lists_in_town  median_price_per_city  occupancy_rate  \\\n",
       "58        barre                 46                  115.0        0.892603   \n",
       "106      bolton                  6                  137.5        0.437808   \n",
       "199  chittenden                 15                  249.0        0.476712   \n",
       "239       danby                 10                  272.5        0.527397   \n",
       "420     grafton                 27                  176.0        0.829041   \n",
       "\n",
       "           city  city_ascii state_id state_name  county_fips county_name  ...  \\\n",
       "58        barre       Barre       VT    Vermont        50023  Washington  ...   \n",
       "106      bolton      Bolton       VT    Vermont        50007  Chittenden  ...   \n",
       "199  chittenden  Chittenden       VT    Vermont        50021     Rutland  ...   \n",
       "239       danby       Danby       VT    Vermont        50021     Rutland  ...   \n",
       "420     grafton     Grafton       VT    Vermont        50025     Windham  ...   \n",
       "\n",
       "     2021-09-30  2021-10-31  2021-11-30  2021-12-31 2022-01-31  2022-02-28  \\\n",
       "58     228725.0    232781.0    236740.0    240078.0   245099.0    250053.0   \n",
       "106    285847.0    293143.0    298243.0    304080.0   305394.0    307785.0   \n",
       "199    336711.0    342811.0    346676.0    349019.0   350501.0    354296.0   \n",
       "239    301736.0    308725.0    307010.0    300192.0   292006.0    294239.0   \n",
       "420    382901.0    393556.0    394396.0    395337.0   396719.0    402751.0   \n",
       "\n",
       "     2022-03-31 2022-04-30  avg_30_yr_mort median_ROI  \n",
       "58     255472.0   255168.0         1369.80   1.279347  \n",
       "106    310612.0   315936.0         1696.01   0.079617  \n",
       "199    357322.0   360709.0         1936.36   0.864581  \n",
       "239    297632.0   300998.0         1615.82   1.705347  \n",
       "420    408554.0   415550.0         2230.76   0.989516  \n",
       "\n",
       "[5 rows x 299 columns]"
      ]
     },
     "execution_count": 64,
     "metadata": {},
     "output_type": "execute_result"
    }
   ],
   "source": [
    "lists_town_home_price_occ_all.head(5)"
   ]
  },
  {
   "cell_type": "code",
   "execution_count": 78,
   "metadata": {},
   "outputs": [
    {
     "data": {
      "application/vnd.plotly.v1+json": {
       "config": {
        "plotlyServerURL": "https://plot.ly"
       },
       "data": [
        {
         "name": "ROI",
         "type": "bar",
         "x": [
          "barre",
          "bolton",
          "chittenden",
          "danby",
          "grafton",
          "huntington",
          "jeffersonville",
          "lincoln",
          "londonderry",
          "lunenburg",
          "lyndon",
          "middletown springs",
          "montpelier",
          "newport",
          "pawlet",
          "proctor",
          "rutland",
          "sheffield",
          "south burlington",
          "weston",
          "winooski",
          "wolcott",
          "berlin",
          "claremont",
          "concord",
          "dover",
          "franklin",
          "laconia",
          "lebanon",
          "manchester",
          "rochester",
          "arapahoe",
          "atlantic",
          "atlantic beach",
          "bald head island",
          "bath",
          "beaufort",
          "belmont",
          "bethel",
          "beulaville",
          "bolton",
          "burgaw",
          "calabash",
          "canton",
          "carolina beach",
          "caswell beach",
          "cedar point",
          "claremont",
          "concord",
          "conway",
          "davis",
          "dover",
          "eden",
          "elizabethtown",
          "emerald isle",
          "enfield",
          "fair bluff",
          "fairfield",
          "fayetteville",
          "franklin",
          "gloucester",
          "greensboro",
          "hampstead",
          "harkers island",
          "harrells",
          "havelock",
          "holden beach",
          "holly ridge",
          "hope mills",
          "indian beach",
          "jackson",
          "jacksonville",
          "jefferson",
          "kure beach",
          "leland",
          "littleton",
          "lowell",
          "lumber bridge",
          "lumberton",
          "madison",
          "marshallberg",
          "middlesex",
          "milton",
          "minnesott beach",
          "morehead city",
          "mount holly",
          "new london",
          "newport",
          "north topsail beach",
          "oak island",
          "ocean isle beach",
          "oriental",
          "ossipee",
          "pine knoll shores",
          "plymouth",
          "rocky point",
          "roseboro",
          "salisbury",
          "sanford",
          "shallotte",
          "sneads ferry",
          "southport",
          "sunset beach",
          "surf city",
          "swansboro",
          "tabor city",
          "troy",
          "wallace",
          "washington",
          "wentworth",
          "whiteville",
          "wilmington",
          "windsor",
          "wrightsville beach",
          "atlantic beach",
          "aynor",
          "beaufort",
          "charleston",
          "chester",
          "conway",
          "denmark",
          "fairfax",
          "georgetown",
          "greenwood",
          "jackson",
          "jefferson",
          "lancaster",
          "little river",
          "lyman",
          "murrells inlet",
          "myrtle beach",
          "north myrtle beach",
          "norway",
          "pawleys island",
          "sharon",
          "surfside beach",
          "troy",
          "wallace",
          "williston",
          "windsor",
          "york"
         ],
         "y": [
          1.279347349978099,
          0.0796172585460385,
          0.8645809663492326,
          1.705347233396459,
          0.9895162784581635,
          0.8223061069923084,
          2.850790975075049,
          0.6966682979723832,
          1.6388315479165305,
          10.50059705453098,
          2.118409439842608,
          3.0543956803991437,
          -0.3953999650909689,
          1.7269687487274903,
          0.33369120559761606,
          1.1053727219394032,
          0.21811315090450498,
          1.133881908150784,
          -0.6541166446230542,
          0.6197499228445573,
          0.49213867445513554,
          0.9228795779679828,
          3.0976796531064843,
          1.305039327879447,
          -0.6393428062426233,
          -0.16221230167133988,
          -1,
          1.0707229495241037,
          0.18029338387354116,
          1.5612494486547177,
          0.6958142201834863,
          6.8271597416839285,
          2.5042090216010164,
          0.3092595139393704,
          -0.29762571173100966,
          1.6608673465472652,
          0.3102109396084167,
          1.1512205333547392,
          9.009188763454974,
          0.9287798201486356,
          1.6011331458173517,
          0.867155915637025,
          0.3650500943044326,
          1.9062231571254333,
          0.32557336191153263,
          -0.5756312934815815,
          0.7438815519413422,
          1.01301132640644,
          -0.6379979563985984,
          9.21866276751296,
          3.487981070577912,
          2.2155804464097018,
          4.277590130128707,
          2.156545077202247,
          0.060730513970231124,
          3.2279710519019895,
          4.0341400203629725,
          4.4683036958836615,
          -0.22938934943902517,
          -1,
          1.8329458115352322,
          1.7229697248239533,
          -0.38048954382830324,
          -0.7526423795758953,
          2.717989959545742,
          1.1376979256785307,
          0.37185296610564145,
          1.477966713554828,
          -0.6055896088733216,
          0.09150532341573683,
          7.758902510215996,
          0.7897338368108191,
          4.535116328140768,
          0.35705095110331203,
          -0.36506533395254587,
          1.1459683115478858,
          1.7373329670407076,
          -0.8770339114309277,
          1.7934394642913551,
          4.7730838455530264,
          0.7443481067441281,
          -0.7831518804229518,
          2.5432602183203445,
          0.35146851631082704,
          0.2656657684246548,
          1.2382276272077433,
          1.25017399058276,
          0.8732100861310319,
          0.3915769443450543,
          0.5180725851009396,
          1.6835443037974687,
          0.6349740370619192,
          4.0211933485490725,
          -0.09233450510104287,
          10.285397001665741,
          0.9989565897000496,
          1.1366251044411595,
          0.09002747122625876,
          1.5118258242806992,
          1.5468906463299652,
          0.20750373249148088,
          0.9752348703648376,
          0.47864330083895457,
          0.03979587859453658,
          1.4797747603264548,
          5.104053555426704,
          1.5509369242703386,
          -0.3078857202675009,
          1.7232238677827858,
          1.8112659698025553,
          1.3754192961510037,
          0.1157292172179695,
          4.177648242600881,
          -0.040629176110186224,
          1.0891329972663208,
          0.7409269334067903,
          0.40074011198475107,
          -0.36693089339955154,
          10.400822315155098,
          2.6655018800065395,
          7.100526677352875,
          4.219360558602611,
          1.3512330429506343,
          3.0184054879893507,
          4.0955370750075355,
          9.58809464267695,
          0.8786602561713445,
          1.1884554713821107,
          1.1487334260232631,
          0.9696672974146117,
          1.0146308965587927,
          0.9959465321161296,
          8.81716185331394,
          0.03581669531400608,
          1.1564000325494346,
          0.013931964338423877,
          2.9822611163670767,
          0.5595033974725344,
          1.3535134570432377,
          1.6400196729896221,
          2.5899535899535895
         ]
        }
       ],
       "layout": {
        "barmode": "group",
        "template": {
         "data": {
          "bar": [
           {
            "error_x": {
             "color": "#2a3f5f"
            },
            "error_y": {
             "color": "#2a3f5f"
            },
            "marker": {
             "line": {
              "color": "#E5ECF6",
              "width": 0.5
             },
             "pattern": {
              "fillmode": "overlay",
              "size": 10,
              "solidity": 0.2
             }
            },
            "type": "bar"
           }
          ],
          "barpolar": [
           {
            "marker": {
             "line": {
              "color": "#E5ECF6",
              "width": 0.5
             },
             "pattern": {
              "fillmode": "overlay",
              "size": 10,
              "solidity": 0.2
             }
            },
            "type": "barpolar"
           }
          ],
          "carpet": [
           {
            "aaxis": {
             "endlinecolor": "#2a3f5f",
             "gridcolor": "white",
             "linecolor": "white",
             "minorgridcolor": "white",
             "startlinecolor": "#2a3f5f"
            },
            "baxis": {
             "endlinecolor": "#2a3f5f",
             "gridcolor": "white",
             "linecolor": "white",
             "minorgridcolor": "white",
             "startlinecolor": "#2a3f5f"
            },
            "type": "carpet"
           }
          ],
          "choropleth": [
           {
            "colorbar": {
             "outlinewidth": 0,
             "ticks": ""
            },
            "type": "choropleth"
           }
          ],
          "contour": [
           {
            "colorbar": {
             "outlinewidth": 0,
             "ticks": ""
            },
            "colorscale": [
             [
              0,
              "#0d0887"
             ],
             [
              0.1111111111111111,
              "#46039f"
             ],
             [
              0.2222222222222222,
              "#7201a8"
             ],
             [
              0.3333333333333333,
              "#9c179e"
             ],
             [
              0.4444444444444444,
              "#bd3786"
             ],
             [
              0.5555555555555556,
              "#d8576b"
             ],
             [
              0.6666666666666666,
              "#ed7953"
             ],
             [
              0.7777777777777778,
              "#fb9f3a"
             ],
             [
              0.8888888888888888,
              "#fdca26"
             ],
             [
              1,
              "#f0f921"
             ]
            ],
            "type": "contour"
           }
          ],
          "contourcarpet": [
           {
            "colorbar": {
             "outlinewidth": 0,
             "ticks": ""
            },
            "type": "contourcarpet"
           }
          ],
          "heatmap": [
           {
            "colorbar": {
             "outlinewidth": 0,
             "ticks": ""
            },
            "colorscale": [
             [
              0,
              "#0d0887"
             ],
             [
              0.1111111111111111,
              "#46039f"
             ],
             [
              0.2222222222222222,
              "#7201a8"
             ],
             [
              0.3333333333333333,
              "#9c179e"
             ],
             [
              0.4444444444444444,
              "#bd3786"
             ],
             [
              0.5555555555555556,
              "#d8576b"
             ],
             [
              0.6666666666666666,
              "#ed7953"
             ],
             [
              0.7777777777777778,
              "#fb9f3a"
             ],
             [
              0.8888888888888888,
              "#fdca26"
             ],
             [
              1,
              "#f0f921"
             ]
            ],
            "type": "heatmap"
           }
          ],
          "heatmapgl": [
           {
            "colorbar": {
             "outlinewidth": 0,
             "ticks": ""
            },
            "colorscale": [
             [
              0,
              "#0d0887"
             ],
             [
              0.1111111111111111,
              "#46039f"
             ],
             [
              0.2222222222222222,
              "#7201a8"
             ],
             [
              0.3333333333333333,
              "#9c179e"
             ],
             [
              0.4444444444444444,
              "#bd3786"
             ],
             [
              0.5555555555555556,
              "#d8576b"
             ],
             [
              0.6666666666666666,
              "#ed7953"
             ],
             [
              0.7777777777777778,
              "#fb9f3a"
             ],
             [
              0.8888888888888888,
              "#fdca26"
             ],
             [
              1,
              "#f0f921"
             ]
            ],
            "type": "heatmapgl"
           }
          ],
          "histogram": [
           {
            "marker": {
             "pattern": {
              "fillmode": "overlay",
              "size": 10,
              "solidity": 0.2
             }
            },
            "type": "histogram"
           }
          ],
          "histogram2d": [
           {
            "colorbar": {
             "outlinewidth": 0,
             "ticks": ""
            },
            "colorscale": [
             [
              0,
              "#0d0887"
             ],
             [
              0.1111111111111111,
              "#46039f"
             ],
             [
              0.2222222222222222,
              "#7201a8"
             ],
             [
              0.3333333333333333,
              "#9c179e"
             ],
             [
              0.4444444444444444,
              "#bd3786"
             ],
             [
              0.5555555555555556,
              "#d8576b"
             ],
             [
              0.6666666666666666,
              "#ed7953"
             ],
             [
              0.7777777777777778,
              "#fb9f3a"
             ],
             [
              0.8888888888888888,
              "#fdca26"
             ],
             [
              1,
              "#f0f921"
             ]
            ],
            "type": "histogram2d"
           }
          ],
          "histogram2dcontour": [
           {
            "colorbar": {
             "outlinewidth": 0,
             "ticks": ""
            },
            "colorscale": [
             [
              0,
              "#0d0887"
             ],
             [
              0.1111111111111111,
              "#46039f"
             ],
             [
              0.2222222222222222,
              "#7201a8"
             ],
             [
              0.3333333333333333,
              "#9c179e"
             ],
             [
              0.4444444444444444,
              "#bd3786"
             ],
             [
              0.5555555555555556,
              "#d8576b"
             ],
             [
              0.6666666666666666,
              "#ed7953"
             ],
             [
              0.7777777777777778,
              "#fb9f3a"
             ],
             [
              0.8888888888888888,
              "#fdca26"
             ],
             [
              1,
              "#f0f921"
             ]
            ],
            "type": "histogram2dcontour"
           }
          ],
          "mesh3d": [
           {
            "colorbar": {
             "outlinewidth": 0,
             "ticks": ""
            },
            "type": "mesh3d"
           }
          ],
          "parcoords": [
           {
            "line": {
             "colorbar": {
              "outlinewidth": 0,
              "ticks": ""
             }
            },
            "type": "parcoords"
           }
          ],
          "pie": [
           {
            "automargin": true,
            "type": "pie"
           }
          ],
          "scatter": [
           {
            "fillpattern": {
             "fillmode": "overlay",
             "size": 10,
             "solidity": 0.2
            },
            "type": "scatter"
           }
          ],
          "scatter3d": [
           {
            "line": {
             "colorbar": {
              "outlinewidth": 0,
              "ticks": ""
             }
            },
            "marker": {
             "colorbar": {
              "outlinewidth": 0,
              "ticks": ""
             }
            },
            "type": "scatter3d"
           }
          ],
          "scattercarpet": [
           {
            "marker": {
             "colorbar": {
              "outlinewidth": 0,
              "ticks": ""
             }
            },
            "type": "scattercarpet"
           }
          ],
          "scattergeo": [
           {
            "marker": {
             "colorbar": {
              "outlinewidth": 0,
              "ticks": ""
             }
            },
            "type": "scattergeo"
           }
          ],
          "scattergl": [
           {
            "marker": {
             "colorbar": {
              "outlinewidth": 0,
              "ticks": ""
             }
            },
            "type": "scattergl"
           }
          ],
          "scattermapbox": [
           {
            "marker": {
             "colorbar": {
              "outlinewidth": 0,
              "ticks": ""
             }
            },
            "type": "scattermapbox"
           }
          ],
          "scatterpolar": [
           {
            "marker": {
             "colorbar": {
              "outlinewidth": 0,
              "ticks": ""
             }
            },
            "type": "scatterpolar"
           }
          ],
          "scatterpolargl": [
           {
            "marker": {
             "colorbar": {
              "outlinewidth": 0,
              "ticks": ""
             }
            },
            "type": "scatterpolargl"
           }
          ],
          "scatterternary": [
           {
            "marker": {
             "colorbar": {
              "outlinewidth": 0,
              "ticks": ""
             }
            },
            "type": "scatterternary"
           }
          ],
          "surface": [
           {
            "colorbar": {
             "outlinewidth": 0,
             "ticks": ""
            },
            "colorscale": [
             [
              0,
              "#0d0887"
             ],
             [
              0.1111111111111111,
              "#46039f"
             ],
             [
              0.2222222222222222,
              "#7201a8"
             ],
             [
              0.3333333333333333,
              "#9c179e"
             ],
             [
              0.4444444444444444,
              "#bd3786"
             ],
             [
              0.5555555555555556,
              "#d8576b"
             ],
             [
              0.6666666666666666,
              "#ed7953"
             ],
             [
              0.7777777777777778,
              "#fb9f3a"
             ],
             [
              0.8888888888888888,
              "#fdca26"
             ],
             [
              1,
              "#f0f921"
             ]
            ],
            "type": "surface"
           }
          ],
          "table": [
           {
            "cells": {
             "fill": {
              "color": "#EBF0F8"
             },
             "line": {
              "color": "white"
             }
            },
            "header": {
             "fill": {
              "color": "#C8D4E3"
             },
             "line": {
              "color": "white"
             }
            },
            "type": "table"
           }
          ]
         },
         "layout": {
          "annotationdefaults": {
           "arrowcolor": "#2a3f5f",
           "arrowhead": 0,
           "arrowwidth": 1
          },
          "autotypenumbers": "strict",
          "coloraxis": {
           "colorbar": {
            "outlinewidth": 0,
            "ticks": ""
           }
          },
          "colorscale": {
           "diverging": [
            [
             0,
             "#8e0152"
            ],
            [
             0.1,
             "#c51b7d"
            ],
            [
             0.2,
             "#de77ae"
            ],
            [
             0.3,
             "#f1b6da"
            ],
            [
             0.4,
             "#fde0ef"
            ],
            [
             0.5,
             "#f7f7f7"
            ],
            [
             0.6,
             "#e6f5d0"
            ],
            [
             0.7,
             "#b8e186"
            ],
            [
             0.8,
             "#7fbc41"
            ],
            [
             0.9,
             "#4d9221"
            ],
            [
             1,
             "#276419"
            ]
           ],
           "sequential": [
            [
             0,
             "#0d0887"
            ],
            [
             0.1111111111111111,
             "#46039f"
            ],
            [
             0.2222222222222222,
             "#7201a8"
            ],
            [
             0.3333333333333333,
             "#9c179e"
            ],
            [
             0.4444444444444444,
             "#bd3786"
            ],
            [
             0.5555555555555556,
             "#d8576b"
            ],
            [
             0.6666666666666666,
             "#ed7953"
            ],
            [
             0.7777777777777778,
             "#fb9f3a"
            ],
            [
             0.8888888888888888,
             "#fdca26"
            ],
            [
             1,
             "#f0f921"
            ]
           ],
           "sequentialminus": [
            [
             0,
             "#0d0887"
            ],
            [
             0.1111111111111111,
             "#46039f"
            ],
            [
             0.2222222222222222,
             "#7201a8"
            ],
            [
             0.3333333333333333,
             "#9c179e"
            ],
            [
             0.4444444444444444,
             "#bd3786"
            ],
            [
             0.5555555555555556,
             "#d8576b"
            ],
            [
             0.6666666666666666,
             "#ed7953"
            ],
            [
             0.7777777777777778,
             "#fb9f3a"
            ],
            [
             0.8888888888888888,
             "#fdca26"
            ],
            [
             1,
             "#f0f921"
            ]
           ]
          },
          "colorway": [
           "#636efa",
           "#EF553B",
           "#00cc96",
           "#ab63fa",
           "#FFA15A",
           "#19d3f3",
           "#FF6692",
           "#B6E880",
           "#FF97FF",
           "#FECB52"
          ],
          "font": {
           "color": "#2a3f5f"
          },
          "geo": {
           "bgcolor": "white",
           "lakecolor": "white",
           "landcolor": "#E5ECF6",
           "showlakes": true,
           "showland": true,
           "subunitcolor": "white"
          },
          "hoverlabel": {
           "align": "left"
          },
          "hovermode": "closest",
          "mapbox": {
           "style": "light"
          },
          "paper_bgcolor": "white",
          "plot_bgcolor": "#E5ECF6",
          "polar": {
           "angularaxis": {
            "gridcolor": "white",
            "linecolor": "white",
            "ticks": ""
           },
           "bgcolor": "#E5ECF6",
           "radialaxis": {
            "gridcolor": "white",
            "linecolor": "white",
            "ticks": ""
           }
          },
          "scene": {
           "xaxis": {
            "backgroundcolor": "#E5ECF6",
            "gridcolor": "white",
            "gridwidth": 2,
            "linecolor": "white",
            "showbackground": true,
            "ticks": "",
            "zerolinecolor": "white"
           },
           "yaxis": {
            "backgroundcolor": "#E5ECF6",
            "gridcolor": "white",
            "gridwidth": 2,
            "linecolor": "white",
            "showbackground": true,
            "ticks": "",
            "zerolinecolor": "white"
           },
           "zaxis": {
            "backgroundcolor": "#E5ECF6",
            "gridcolor": "white",
            "gridwidth": 2,
            "linecolor": "white",
            "showbackground": true,
            "ticks": "",
            "zerolinecolor": "white"
           }
          },
          "shapedefaults": {
           "line": {
            "color": "#2a3f5f"
           }
          },
          "ternary": {
           "aaxis": {
            "gridcolor": "white",
            "linecolor": "white",
            "ticks": ""
           },
           "baxis": {
            "gridcolor": "white",
            "linecolor": "white",
            "ticks": ""
           },
           "bgcolor": "#E5ECF6",
           "caxis": {
            "gridcolor": "white",
            "linecolor": "white",
            "ticks": ""
           }
          },
          "title": {
           "x": 0.05
          },
          "xaxis": {
           "automargin": true,
           "gridcolor": "white",
           "linecolor": "white",
           "ticks": "",
           "title": {
            "standoff": 15
           },
           "zerolinecolor": "white",
           "zerolinewidth": 2
          },
          "yaxis": {
           "automargin": true,
           "gridcolor": "white",
           "linecolor": "white",
           "ticks": "",
           "title": {
            "standoff": 15
           },
           "zerolinecolor": "white",
           "zerolinewidth": 2
          }
         }
        },
        "title": {
         "text": "ROI by City"
        }
       }
      }
     },
     "metadata": {},
     "output_type": "display_data"
    }
   ],
   "source": [
    "import plotly.graph_objects as go\n",
    "\n",
    "roi_fig = go.Figure(data=[\n",
    "    go.Bar(name='ROI', x=lists_town_home_price_occ_all['town'], y=lists_town_home_price_occ_all['median_ROI']),\n",
    "])\n",
    "# Change the bar mode\n",
    "roi_fig.update_layout(title_text = 'ROI by City', barmode='group')\n",
    "roi_fig.show()"
   ]
  },
  {
   "cell_type": "code",
   "execution_count": 132,
   "metadata": {},
   "outputs": [
    {
     "data": {
      "text/plain": [
       "635    10.500597\n",
       "189    10.400822\n",
       "802    10.285397\n",
       "560     9.588095\n",
       "221     9.218663\n",
       "         ...    \n",
       "458    -0.752642\n",
       "685    -0.783152\n",
       "631    -0.877034\n",
       "364    -1.000000\n",
       "358    -1.000000\n",
       "Name: median_ROI, Length: 141, dtype: float64"
      ]
     },
     "execution_count": 132,
     "metadata": {},
     "output_type": "execute_result"
    }
   ],
   "source": [
    "lists_town_home_price_occ_all['median_ROI'].sort_values(ascending=False)"
   ]
  },
  {
   "cell_type": "code",
   "execution_count": 89,
   "metadata": {},
   "outputs": [
    {
     "data": {
      "application/vnd.plotly.v1+json": {
       "config": {
        "plotlyServerURL": "https://plot.ly"
       },
       "data": [
        {
         "name": "VT",
         "type": "bar",
         "x": [
          "barre",
          "bolton",
          "chittenden",
          "danby",
          "grafton",
          "huntington",
          "jeffersonville",
          "lincoln",
          "londonderry",
          "lunenburg",
          "lyndon",
          "middletown springs",
          "montpelier",
          "newport",
          "pawlet",
          "proctor",
          "rutland",
          "sheffield",
          "south burlington",
          "weston",
          "winooski",
          "wolcott"
         ],
         "xaxis": "x",
         "y": [
          1.279347349978099,
          0.0796172585460385,
          0.8645809663492326,
          1.705347233396459,
          0.9895162784581635,
          0.8223061069923084,
          2.850790975075049,
          0.6966682979723832,
          1.6388315479165305,
          10.50059705453098,
          2.118409439842608,
          3.0543956803991437,
          -0.3953999650909689,
          1.7269687487274903,
          0.33369120559761606,
          1.1053727219394032,
          0.21811315090450498,
          1.133881908150784,
          -0.6541166446230542,
          0.6197499228445573,
          0.49213867445513554,
          0.9228795779679828
         ],
         "yaxis": "y"
        },
        {
         "name": "NH",
         "type": "bar",
         "x": [
          "berlin",
          "claremont",
          "concord",
          "dover",
          "franklin",
          "laconia",
          "lebanon",
          "manchester",
          "rochester"
         ],
         "xaxis": "x2",
         "y": [
          3.0976796531064843,
          1.305039327879447,
          -0.6393428062426233,
          -0.16221230167133988,
          -1,
          1.0707229495241037,
          0.18029338387354116,
          1.5612494486547177,
          0.6958142201834863
         ],
         "yaxis": "y2"
        },
        {
         "name": "NC",
         "type": "bar",
         "x": [
          "arapahoe",
          "atlantic",
          "atlantic beach",
          "bald head island",
          "bath",
          "beaufort",
          "belmont",
          "bethel",
          "beulaville",
          "bolton",
          "burgaw",
          "calabash",
          "canton",
          "carolina beach",
          "caswell beach",
          "cedar point",
          "claremont",
          "concord",
          "conway",
          "davis",
          "dover",
          "eden",
          "elizabethtown",
          "emerald isle",
          "enfield",
          "fair bluff",
          "fairfield",
          "fayetteville",
          "franklin",
          "gloucester",
          "greensboro",
          "hampstead",
          "harkers island",
          "harrells",
          "havelock",
          "holden beach",
          "holly ridge",
          "hope mills",
          "indian beach",
          "jackson",
          "jacksonville",
          "jefferson",
          "kure beach",
          "leland",
          "littleton",
          "lowell",
          "lumber bridge",
          "lumberton",
          "madison",
          "marshallberg",
          "middlesex",
          "milton",
          "minnesott beach",
          "morehead city",
          "mount holly",
          "new london",
          "newport",
          "north topsail beach",
          "oak island",
          "ocean isle beach",
          "oriental",
          "ossipee",
          "pine knoll shores",
          "plymouth",
          "rocky point",
          "roseboro",
          "salisbury",
          "sanford",
          "shallotte",
          "sneads ferry",
          "southport",
          "sunset beach",
          "surf city",
          "swansboro",
          "tabor city",
          "troy",
          "wallace",
          "washington",
          "wentworth",
          "whiteville",
          "wilmington",
          "windsor",
          "wrightsville beach"
         ],
         "xaxis": "x3",
         "y": [
          6.8271597416839285,
          2.5042090216010164,
          0.3092595139393704,
          -0.29762571173100966,
          1.6608673465472652,
          0.3102109396084167,
          1.1512205333547392,
          9.009188763454974,
          0.9287798201486356,
          1.6011331458173517,
          0.867155915637025,
          0.3650500943044326,
          1.9062231571254333,
          0.32557336191153263,
          -0.5756312934815815,
          0.7438815519413422,
          1.01301132640644,
          -0.6379979563985984,
          9.21866276751296,
          3.487981070577912,
          2.2155804464097018,
          4.277590130128707,
          2.156545077202247,
          0.060730513970231124,
          3.2279710519019895,
          4.0341400203629725,
          4.4683036958836615,
          -0.22938934943902517,
          -1,
          1.8329458115352322,
          1.7229697248239533,
          -0.38048954382830324,
          -0.7526423795758953,
          2.717989959545742,
          1.1376979256785307,
          0.37185296610564145,
          1.477966713554828,
          -0.6055896088733216,
          0.09150532341573683,
          7.758902510215996,
          0.7897338368108191,
          4.535116328140768,
          0.35705095110331203,
          -0.36506533395254587,
          1.1459683115478858,
          1.7373329670407076,
          -0.8770339114309277,
          1.7934394642913551,
          4.7730838455530264,
          0.7443481067441281,
          -0.7831518804229518,
          2.5432602183203445,
          0.35146851631082704,
          0.2656657684246548,
          1.2382276272077433,
          1.25017399058276,
          0.8732100861310319,
          0.3915769443450543,
          0.5180725851009396,
          1.6835443037974687,
          0.6349740370619192,
          4.0211933485490725,
          -0.09233450510104287,
          10.285397001665741,
          0.9989565897000496,
          1.1366251044411595,
          0.09002747122625876,
          1.5118258242806992,
          1.5468906463299652,
          0.20750373249148088,
          0.9752348703648376,
          0.47864330083895457,
          0.03979587859453658,
          1.4797747603264548,
          5.104053555426704,
          1.5509369242703386,
          -0.3078857202675009,
          1.7232238677827858,
          1.8112659698025553,
          1.3754192961510037,
          0.1157292172179695,
          4.177648242600881,
          -0.040629176110186224
         ],
         "yaxis": "y3"
        },
        {
         "name": "SC",
         "type": "bar",
         "x": [
          "atlantic beach",
          "aynor",
          "beaufort",
          "charleston",
          "chester",
          "conway",
          "denmark",
          "fairfax",
          "georgetown",
          "greenwood",
          "jackson",
          "jefferson",
          "lancaster",
          "little river",
          "lyman",
          "murrells inlet",
          "myrtle beach",
          "north myrtle beach",
          "norway",
          "pawleys island",
          "sharon",
          "surfside beach",
          "troy",
          "wallace",
          "williston",
          "windsor",
          "york"
         ],
         "xaxis": "x4",
         "y": [
          1.0891329972663208,
          0.7409269334067903,
          0.40074011198475107,
          -0.36693089339955154,
          10.400822315155098,
          2.6655018800065395,
          7.100526677352875,
          4.219360558602611,
          1.3512330429506343,
          3.0184054879893507,
          4.0955370750075355,
          9.58809464267695,
          0.8786602561713445,
          1.1884554713821107,
          1.1487334260232631,
          0.9696672974146117,
          1.0146308965587927,
          0.9959465321161296,
          8.81716185331394,
          0.03581669531400608,
          1.1564000325494346,
          0.013931964338423877,
          2.9822611163670767,
          0.5595033974725344,
          1.3535134570432377,
          1.6400196729896221,
          2.5899535899535895
         ],
         "yaxis": "y4"
        }
       ],
       "layout": {
        "barmode": "group",
        "height": 1100,
        "template": {
         "data": {
          "bar": [
           {
            "error_x": {
             "color": "#2a3f5f"
            },
            "error_y": {
             "color": "#2a3f5f"
            },
            "marker": {
             "line": {
              "color": "#E5ECF6",
              "width": 0.5
             },
             "pattern": {
              "fillmode": "overlay",
              "size": 10,
              "solidity": 0.2
             }
            },
            "type": "bar"
           }
          ],
          "barpolar": [
           {
            "marker": {
             "line": {
              "color": "#E5ECF6",
              "width": 0.5
             },
             "pattern": {
              "fillmode": "overlay",
              "size": 10,
              "solidity": 0.2
             }
            },
            "type": "barpolar"
           }
          ],
          "carpet": [
           {
            "aaxis": {
             "endlinecolor": "#2a3f5f",
             "gridcolor": "white",
             "linecolor": "white",
             "minorgridcolor": "white",
             "startlinecolor": "#2a3f5f"
            },
            "baxis": {
             "endlinecolor": "#2a3f5f",
             "gridcolor": "white",
             "linecolor": "white",
             "minorgridcolor": "white",
             "startlinecolor": "#2a3f5f"
            },
            "type": "carpet"
           }
          ],
          "choropleth": [
           {
            "colorbar": {
             "outlinewidth": 0,
             "ticks": ""
            },
            "type": "choropleth"
           }
          ],
          "contour": [
           {
            "colorbar": {
             "outlinewidth": 0,
             "ticks": ""
            },
            "colorscale": [
             [
              0,
              "#0d0887"
             ],
             [
              0.1111111111111111,
              "#46039f"
             ],
             [
              0.2222222222222222,
              "#7201a8"
             ],
             [
              0.3333333333333333,
              "#9c179e"
             ],
             [
              0.4444444444444444,
              "#bd3786"
             ],
             [
              0.5555555555555556,
              "#d8576b"
             ],
             [
              0.6666666666666666,
              "#ed7953"
             ],
             [
              0.7777777777777778,
              "#fb9f3a"
             ],
             [
              0.8888888888888888,
              "#fdca26"
             ],
             [
              1,
              "#f0f921"
             ]
            ],
            "type": "contour"
           }
          ],
          "contourcarpet": [
           {
            "colorbar": {
             "outlinewidth": 0,
             "ticks": ""
            },
            "type": "contourcarpet"
           }
          ],
          "heatmap": [
           {
            "colorbar": {
             "outlinewidth": 0,
             "ticks": ""
            },
            "colorscale": [
             [
              0,
              "#0d0887"
             ],
             [
              0.1111111111111111,
              "#46039f"
             ],
             [
              0.2222222222222222,
              "#7201a8"
             ],
             [
              0.3333333333333333,
              "#9c179e"
             ],
             [
              0.4444444444444444,
              "#bd3786"
             ],
             [
              0.5555555555555556,
              "#d8576b"
             ],
             [
              0.6666666666666666,
              "#ed7953"
             ],
             [
              0.7777777777777778,
              "#fb9f3a"
             ],
             [
              0.8888888888888888,
              "#fdca26"
             ],
             [
              1,
              "#f0f921"
             ]
            ],
            "type": "heatmap"
           }
          ],
          "heatmapgl": [
           {
            "colorbar": {
             "outlinewidth": 0,
             "ticks": ""
            },
            "colorscale": [
             [
              0,
              "#0d0887"
             ],
             [
              0.1111111111111111,
              "#46039f"
             ],
             [
              0.2222222222222222,
              "#7201a8"
             ],
             [
              0.3333333333333333,
              "#9c179e"
             ],
             [
              0.4444444444444444,
              "#bd3786"
             ],
             [
              0.5555555555555556,
              "#d8576b"
             ],
             [
              0.6666666666666666,
              "#ed7953"
             ],
             [
              0.7777777777777778,
              "#fb9f3a"
             ],
             [
              0.8888888888888888,
              "#fdca26"
             ],
             [
              1,
              "#f0f921"
             ]
            ],
            "type": "heatmapgl"
           }
          ],
          "histogram": [
           {
            "marker": {
             "pattern": {
              "fillmode": "overlay",
              "size": 10,
              "solidity": 0.2
             }
            },
            "type": "histogram"
           }
          ],
          "histogram2d": [
           {
            "colorbar": {
             "outlinewidth": 0,
             "ticks": ""
            },
            "colorscale": [
             [
              0,
              "#0d0887"
             ],
             [
              0.1111111111111111,
              "#46039f"
             ],
             [
              0.2222222222222222,
              "#7201a8"
             ],
             [
              0.3333333333333333,
              "#9c179e"
             ],
             [
              0.4444444444444444,
              "#bd3786"
             ],
             [
              0.5555555555555556,
              "#d8576b"
             ],
             [
              0.6666666666666666,
              "#ed7953"
             ],
             [
              0.7777777777777778,
              "#fb9f3a"
             ],
             [
              0.8888888888888888,
              "#fdca26"
             ],
             [
              1,
              "#f0f921"
             ]
            ],
            "type": "histogram2d"
           }
          ],
          "histogram2dcontour": [
           {
            "colorbar": {
             "outlinewidth": 0,
             "ticks": ""
            },
            "colorscale": [
             [
              0,
              "#0d0887"
             ],
             [
              0.1111111111111111,
              "#46039f"
             ],
             [
              0.2222222222222222,
              "#7201a8"
             ],
             [
              0.3333333333333333,
              "#9c179e"
             ],
             [
              0.4444444444444444,
              "#bd3786"
             ],
             [
              0.5555555555555556,
              "#d8576b"
             ],
             [
              0.6666666666666666,
              "#ed7953"
             ],
             [
              0.7777777777777778,
              "#fb9f3a"
             ],
             [
              0.8888888888888888,
              "#fdca26"
             ],
             [
              1,
              "#f0f921"
             ]
            ],
            "type": "histogram2dcontour"
           }
          ],
          "mesh3d": [
           {
            "colorbar": {
             "outlinewidth": 0,
             "ticks": ""
            },
            "type": "mesh3d"
           }
          ],
          "parcoords": [
           {
            "line": {
             "colorbar": {
              "outlinewidth": 0,
              "ticks": ""
             }
            },
            "type": "parcoords"
           }
          ],
          "pie": [
           {
            "automargin": true,
            "type": "pie"
           }
          ],
          "scatter": [
           {
            "fillpattern": {
             "fillmode": "overlay",
             "size": 10,
             "solidity": 0.2
            },
            "type": "scatter"
           }
          ],
          "scatter3d": [
           {
            "line": {
             "colorbar": {
              "outlinewidth": 0,
              "ticks": ""
             }
            },
            "marker": {
             "colorbar": {
              "outlinewidth": 0,
              "ticks": ""
             }
            },
            "type": "scatter3d"
           }
          ],
          "scattercarpet": [
           {
            "marker": {
             "colorbar": {
              "outlinewidth": 0,
              "ticks": ""
             }
            },
            "type": "scattercarpet"
           }
          ],
          "scattergeo": [
           {
            "marker": {
             "colorbar": {
              "outlinewidth": 0,
              "ticks": ""
             }
            },
            "type": "scattergeo"
           }
          ],
          "scattergl": [
           {
            "marker": {
             "colorbar": {
              "outlinewidth": 0,
              "ticks": ""
             }
            },
            "type": "scattergl"
           }
          ],
          "scattermapbox": [
           {
            "marker": {
             "colorbar": {
              "outlinewidth": 0,
              "ticks": ""
             }
            },
            "type": "scattermapbox"
           }
          ],
          "scatterpolar": [
           {
            "marker": {
             "colorbar": {
              "outlinewidth": 0,
              "ticks": ""
             }
            },
            "type": "scatterpolar"
           }
          ],
          "scatterpolargl": [
           {
            "marker": {
             "colorbar": {
              "outlinewidth": 0,
              "ticks": ""
             }
            },
            "type": "scatterpolargl"
           }
          ],
          "scatterternary": [
           {
            "marker": {
             "colorbar": {
              "outlinewidth": 0,
              "ticks": ""
             }
            },
            "type": "scatterternary"
           }
          ],
          "surface": [
           {
            "colorbar": {
             "outlinewidth": 0,
             "ticks": ""
            },
            "colorscale": [
             [
              0,
              "#0d0887"
             ],
             [
              0.1111111111111111,
              "#46039f"
             ],
             [
              0.2222222222222222,
              "#7201a8"
             ],
             [
              0.3333333333333333,
              "#9c179e"
             ],
             [
              0.4444444444444444,
              "#bd3786"
             ],
             [
              0.5555555555555556,
              "#d8576b"
             ],
             [
              0.6666666666666666,
              "#ed7953"
             ],
             [
              0.7777777777777778,
              "#fb9f3a"
             ],
             [
              0.8888888888888888,
              "#fdca26"
             ],
             [
              1,
              "#f0f921"
             ]
            ],
            "type": "surface"
           }
          ],
          "table": [
           {
            "cells": {
             "fill": {
              "color": "#EBF0F8"
             },
             "line": {
              "color": "white"
             }
            },
            "header": {
             "fill": {
              "color": "#C8D4E3"
             },
             "line": {
              "color": "white"
             }
            },
            "type": "table"
           }
          ]
         },
         "layout": {
          "annotationdefaults": {
           "arrowcolor": "#2a3f5f",
           "arrowhead": 0,
           "arrowwidth": 1
          },
          "autotypenumbers": "strict",
          "coloraxis": {
           "colorbar": {
            "outlinewidth": 0,
            "ticks": ""
           }
          },
          "colorscale": {
           "diverging": [
            [
             0,
             "#8e0152"
            ],
            [
             0.1,
             "#c51b7d"
            ],
            [
             0.2,
             "#de77ae"
            ],
            [
             0.3,
             "#f1b6da"
            ],
            [
             0.4,
             "#fde0ef"
            ],
            [
             0.5,
             "#f7f7f7"
            ],
            [
             0.6,
             "#e6f5d0"
            ],
            [
             0.7,
             "#b8e186"
            ],
            [
             0.8,
             "#7fbc41"
            ],
            [
             0.9,
             "#4d9221"
            ],
            [
             1,
             "#276419"
            ]
           ],
           "sequential": [
            [
             0,
             "#0d0887"
            ],
            [
             0.1111111111111111,
             "#46039f"
            ],
            [
             0.2222222222222222,
             "#7201a8"
            ],
            [
             0.3333333333333333,
             "#9c179e"
            ],
            [
             0.4444444444444444,
             "#bd3786"
            ],
            [
             0.5555555555555556,
             "#d8576b"
            ],
            [
             0.6666666666666666,
             "#ed7953"
            ],
            [
             0.7777777777777778,
             "#fb9f3a"
            ],
            [
             0.8888888888888888,
             "#fdca26"
            ],
            [
             1,
             "#f0f921"
            ]
           ],
           "sequentialminus": [
            [
             0,
             "#0d0887"
            ],
            [
             0.1111111111111111,
             "#46039f"
            ],
            [
             0.2222222222222222,
             "#7201a8"
            ],
            [
             0.3333333333333333,
             "#9c179e"
            ],
            [
             0.4444444444444444,
             "#bd3786"
            ],
            [
             0.5555555555555556,
             "#d8576b"
            ],
            [
             0.6666666666666666,
             "#ed7953"
            ],
            [
             0.7777777777777778,
             "#fb9f3a"
            ],
            [
             0.8888888888888888,
             "#fdca26"
            ],
            [
             1,
             "#f0f921"
            ]
           ]
          },
          "colorway": [
           "#636efa",
           "#EF553B",
           "#00cc96",
           "#ab63fa",
           "#FFA15A",
           "#19d3f3",
           "#FF6692",
           "#B6E880",
           "#FF97FF",
           "#FECB52"
          ],
          "font": {
           "color": "#2a3f5f"
          },
          "geo": {
           "bgcolor": "white",
           "lakecolor": "white",
           "landcolor": "#E5ECF6",
           "showlakes": true,
           "showland": true,
           "subunitcolor": "white"
          },
          "hoverlabel": {
           "align": "left"
          },
          "hovermode": "closest",
          "mapbox": {
           "style": "light"
          },
          "paper_bgcolor": "white",
          "plot_bgcolor": "#E5ECF6",
          "polar": {
           "angularaxis": {
            "gridcolor": "white",
            "linecolor": "white",
            "ticks": ""
           },
           "bgcolor": "#E5ECF6",
           "radialaxis": {
            "gridcolor": "white",
            "linecolor": "white",
            "ticks": ""
           }
          },
          "scene": {
           "xaxis": {
            "backgroundcolor": "#E5ECF6",
            "gridcolor": "white",
            "gridwidth": 2,
            "linecolor": "white",
            "showbackground": true,
            "ticks": "",
            "zerolinecolor": "white"
           },
           "yaxis": {
            "backgroundcolor": "#E5ECF6",
            "gridcolor": "white",
            "gridwidth": 2,
            "linecolor": "white",
            "showbackground": true,
            "ticks": "",
            "zerolinecolor": "white"
           },
           "zaxis": {
            "backgroundcolor": "#E5ECF6",
            "gridcolor": "white",
            "gridwidth": 2,
            "linecolor": "white",
            "showbackground": true,
            "ticks": "",
            "zerolinecolor": "white"
           }
          },
          "shapedefaults": {
           "line": {
            "color": "#2a3f5f"
           }
          },
          "ternary": {
           "aaxis": {
            "gridcolor": "white",
            "linecolor": "white",
            "ticks": ""
           },
           "baxis": {
            "gridcolor": "white",
            "linecolor": "white",
            "ticks": ""
           },
           "bgcolor": "#E5ECF6",
           "caxis": {
            "gridcolor": "white",
            "linecolor": "white",
            "ticks": ""
           }
          },
          "title": {
           "x": 0.05
          },
          "xaxis": {
           "automargin": true,
           "gridcolor": "white",
           "linecolor": "white",
           "ticks": "",
           "title": {
            "standoff": 15
           },
           "zerolinecolor": "white",
           "zerolinewidth": 2
          },
          "yaxis": {
           "automargin": true,
           "gridcolor": "white",
           "linecolor": "white",
           "ticks": "",
           "title": {
            "standoff": 15
           },
           "zerolinecolor": "white",
           "zerolinewidth": 2
          }
         }
        },
        "title": {
         "text": "ROI for Cities in each State"
        },
        "xaxis": {
         "anchor": "y",
         "domain": [
          0,
          0.45
         ]
        },
        "xaxis2": {
         "anchor": "y2",
         "domain": [
          0.55,
          1
         ]
        },
        "xaxis3": {
         "anchor": "y3",
         "domain": [
          0,
          0.45
         ]
        },
        "xaxis4": {
         "anchor": "y4",
         "domain": [
          0.55,
          1
         ]
        },
        "yaxis": {
         "anchor": "x",
         "domain": [
          0.575,
          1
         ]
        },
        "yaxis2": {
         "anchor": "x2",
         "domain": [
          0.575,
          1
         ]
        },
        "yaxis3": {
         "anchor": "x3",
         "domain": [
          0,
          0.425
         ]
        },
        "yaxis4": {
         "anchor": "x4",
         "domain": [
          0,
          0.425
         ]
        }
       }
      }
     },
     "metadata": {},
     "output_type": "display_data"
    }
   ],
   "source": [
    "from plotly.subplots import make_subplots\n",
    "import plotly.graph_objects as go\n",
    "\n",
    "roi_subplots = make_subplots(rows=2, cols=2)\n",
    "\n",
    "lists_town_home_price_occ_vt = lists_town_home_price_occ_all[(lists_town_home_price_occ_all['state_id'] == 'VT')]\n",
    "lists_town_home_price_occ_nh = lists_town_home_price_occ_all[(lists_town_home_price_occ_all['state_id'] == 'NH')]\n",
    "lists_town_home_price_occ_nc = lists_town_home_price_occ_all[(lists_town_home_price_occ_all['state_id'] == 'NC')]\n",
    "lists_town_home_price_occ_sc = lists_town_home_price_occ_all[(lists_town_home_price_occ_all['state_id'] == 'SC')]\n",
    "\n",
    "roi_subplots.append_trace(go.Bar(\n",
    "    x=lists_town_home_price_occ_vt['town'],\n",
    "    y=lists_town_home_price_occ_vt['median_ROI'], name=\"VT\"\n",
    "), row=1, col=1)\n",
    "\n",
    "roi_subplots.append_trace(go.Bar(\n",
    "    x=lists_town_home_price_occ_nh['town'],\n",
    "    y=lists_town_home_price_occ_nh['median_ROI'], name=\"NH\"\n",
    "), row=1, col=2)\n",
    "\n",
    "roi_subplots.append_trace(go.Bar(\n",
    "    x=lists_town_home_price_occ_nc['town'],\n",
    "    y=lists_town_home_price_occ_nc['median_ROI'], name=\"NC\"\n",
    "), row=2, col=1)\n",
    "\n",
    "roi_subplots.append_trace(go.Bar(\n",
    "    x=lists_town_home_price_occ_sc['town'],\n",
    "    y=lists_town_home_price_occ_sc['median_ROI'], name=\"SC\"\n",
    "), row=2, col=2)\n",
    "\n",
    "\n",
    "roi_subplots.update_layout(height = 1100, title_text=\"ROI for Cities in each State\", barmode='group')\n",
    "roi_subplots.show()"
   ]
  },
  {
   "cell_type": "code",
   "execution_count": null,
   "metadata": {},
   "outputs": [],
   "source": [
    "\n",
    "    \n",
    "    \n",
    "# include price viz's next\n",
    "\n",
    "\n"
   ]
  }
 ],
 "metadata": {
  "interpreter": {
   "hash": "8cda3f1edda61d067a8dccfe73833b0b57e2a1d4ac0e36527d0cd620f4d2a66c"
  },
  "kernelspec": {
   "display_name": "Python 3.10.4 64-bit",
   "language": "python",
   "name": "python3"
  },
  "language_info": {
   "codemirror_mode": {
    "name": "ipython",
    "version": 3
   },
   "file_extension": ".py",
   "mimetype": "text/x-python",
   "name": "python",
   "nbconvert_exporter": "python",
   "pygments_lexer": "ipython3",
   "version": "3.10.4"
  },
  "orig_nbformat": 4
 },
 "nbformat": 4,
 "nbformat_minor": 2
}
