{
 "cells": [
  {
   "cell_type": "code",
   "execution_count": null,
   "metadata": {},
   "outputs": [],
   "source": [
    "import pandas as pd\n",
    "import matplotlib.pyplot as plt\n",
    "import folium\n",
    "import numpy as np\n",
    "import seaborn as sns\n",
    "import os\n",
    "import fastparquet\n",
    "import warnings\n",
    "import geopy\n",
    "from geopy.point import Point\n",
    "import time\n",
    "from pandas.core.common import SettingWithCopyWarning\n",
    "import plotly\n",
    "import plotly.graph_objects as go\n",
    "import plotly.express as px\n",
    "from datetime import datetime, timedelta, date\n",
    "warnings.simplefilter(action='ignore', category=FutureWarning)\n",
    "warnings.simplefilter(action=\"ignore\", category=SettingWithCopyWarning)"
   ]
  },
  {
   "cell_type": "code",
   "execution_count": null,
   "metadata": {},
   "outputs": [],
   "source": [
    "# Load in price data with delta lake tables\n",
    "price_trend = pd.read_parquet('C:/Users/mattg/Desktop/Hobbies/airbnb_reports/bucket_data/price_deltalake')"
   ]
  },
  {
   "cell_type": "code",
   "execution_count": null,
   "metadata": {},
   "outputs": [],
   "source": [
    "data_w_listing_loc = pd.read_csv('post_mort_and_roi_calcs_june19.csv')\n",
    "data_w_listing_loc = data_w_listing_loc[['id','zipcode','City','Metro','CountyName','State']]\n",
    "price_trend['id'] = price_trend['id'].astype('float64')\n",
    "price_trend_wloc = price_trend.merge(data_w_listing_loc, how='inner', on='id')\n",
    "price_trend_wloc['CountyName'] = price_trend_wloc['CountyName'].str.strip(' County')"
   ]
  },
  {
   "cell_type": "code",
   "execution_count": null,
   "metadata": {},
   "outputs": [],
   "source": [
    "import plotly.express as px\n",
    "from urllib.request import urlopen\n",
    "import json\n",
    "with urlopen('https://raw.githubusercontent.com/plotly/datasets/master/geojson-counties-fips.json') as response:\n",
    "    counties = json.load(response)\n",
    "\n",
    "#with urlopen('https://raw.githubusercontent.com/OpenDataDE/State-zip-code-GeoJSON/master/fl_florida_zip_codes_geo.min.json') as response:\n",
    "#    zipcodes = json.load(response)\n",
    "\n",
    "last_date_pulled = price_trend_wloc['day_pulled'].max()\n",
    "recent_price_trend_wloc = price_trend_wloc[price_trend_wloc['day_pulled'] == last_date_pulled]\n",
    "recent_price_trends_countyformap = recent_price_trend_wloc.groupby('CountyName').mean('avg_nightly_price_pct_change').reset_index()\n",
    "\n",
    "fig = px.choropleth(recent_price_trends_countyformap, \n",
    "                    geojson=counties, \n",
    "                    locations='CountyName', \n",
    "                    color='avg_nightly_price_pct_change',\n",
    "                    color_continuous_scale=\"RdYlGn\",\n",
    "                    featureidkey=\"properties.ZCTA5CE10\",\n",
    "                    range_color=(-100,100),\n",
    "                    scope=\"usa\"\n",
    "                    #labels={'Price Change':'Cluster_Category'}\n",
    "                          )\n",
    "fig.update_layout(margin={\"r\":0,\"t\":0,\"l\":0,\"b\":0})\n",
    "filename = \"newsletter_features/florida_price_trends_heatmap_county_weekly.png\"\n",
    "fig.write_image(filename, engine='kaleido', width=875, height=700)\n",
    "fig.show()"
   ]
  },
  {
   "cell_type": "code",
   "execution_count": null,
   "metadata": {},
   "outputs": [],
   "source": [
    "price_trend_wloc_zip = price_trend_wloc.groupby(['zipcode','day_pulled']).mean('avg_nightly_price_pct_change').reset_index()\n",
    "fig_line_prices_zips = px.line(price_trend_wloc_zip, x=\"day_pulled\", y=\"avg_nightly_price_pct_change\", color='zipcode', markers=True, labels={\n",
    "                     \"day_pulled\": \"Date\",\n",
    "                     \"avg_nightly_price_pct_change\": \"Pct Price Change\"\n",
    "                 })\n",
    "fig_line_prices_zips.update_layout(title='Price Changes W/W Monday-Sunday')\n",
    "#fig_line_prices_zips.update_yaxes(range=[-100, 100])\n",
    "filename = \"newsletter_features/recent_price_trends_lines_zip_weekly.png\"\n",
    "fig_line_prices_zips.write_image(filename, engine='kaleido', width=875, height=700)\n",
    "fig_line_prices_zips.write_html('newsletter_features/recent_price_trends_lines_zip_weekly.html')\n",
    "fig_line_prices_zips.show()"
   ]
  },
  {
   "cell_type": "code",
   "execution_count": null,
   "metadata": {},
   "outputs": [],
   "source": [
    "# Load in occupancy data with delta lake tables\n",
    "occ_trend = pd.read_parquet('C:/Users/mattg/Desktop/Hobbies/airbnb_reports/bucket_data/occupancy_deltalake')"
   ]
  },
  {
   "cell_type": "code",
   "execution_count": null,
   "metadata": {},
   "outputs": [],
   "source": [
    "pull_dates = occ_trend.day_pulled.unique().sort()"
   ]
  },
  {
   "cell_type": "code",
   "execution_count": null,
   "metadata": {},
   "outputs": [],
   "source": [
    "data_w_listing_loc = pd.read_csv('post_mort_and_roi_calcs_june19.csv')\n",
    "data_w_listing_loc = data_w_listing_loc[['id','zipcode','City','Metro','CountyName','State']]\n",
    "occ_trend['id'] = occ_trend['id'].astype('float64')\n",
    "occ_trend_wloc = occ_trend.merge(data_w_listing_loc, how='inner', on='id')\n",
    "occ_trend_wloc['CountyName'] = occ_trend_wloc['CountyName'].str.strip(' County')"
   ]
  },
  {
   "cell_type": "code",
   "execution_count": null,
   "metadata": {},
   "outputs": [],
   "source": [
    "#recent_price_trend_wloc_zip_dow_linechart = recent_price_trend_wloc.groupby(['zipcode','day_of_week']).mean('avg_nightly_price_pct_change').reset_index()\n",
    "occ_trend_wloc_zip = occ_trend_wloc.groupby(['zipcode','day_pulled']).mean('occ_pct_change').reset_index()\n",
    "fig_line_occ_zips = px.line(occ_trend_wloc_zip, x=\"day_pulled\", y=\"occ_pct_change\", color='zipcode', markers=True, labels={\n",
    "                     \"day_pulled\": \"Date\",\n",
    "                     \"occ_pct_change\": \"Pct Occupancy Change\"\n",
    "                 })\n",
    "fig_line_occ_zips.update_layout(title='Occupancy Rate Changes W/W Monday-Sunday')\n",
    "#fig_line_occ_zips.update_yaxes(range=[-100, 100])\n",
    "filename = \"newsletter_features/recent_occ_trends_lines_zip_weekly.png\"\n",
    "fig_line_occ_zips.write_image(filename, engine='kaleido', width=875, height=700)\n",
    "fig_line_occ_zips.write_html('newsletter_features/recent_occ_trends_lines_zip_weekly.html')\n",
    "fig_line_occ_zips.show()"
   ]
  },
  {
   "cell_type": "code",
   "execution_count": null,
   "metadata": {},
   "outputs": [],
   "source": [
    "occ_trend_wloc_zip[occ_trend_wloc_zip['zipcode'] == 33137].tail(25)"
   ]
  },
  {
   "cell_type": "code",
   "execution_count": null,
   "metadata": {},
   "outputs": [],
   "source": []
  }
 ],
 "metadata": {
  "kernelspec": {
   "display_name": "Python 3.10.4 64-bit",
   "language": "python",
   "name": "python3"
  },
  "language_info": {
   "codemirror_mode": {
    "name": "ipython",
    "version": 3
   },
   "file_extension": ".py",
   "mimetype": "text/x-python",
   "name": "python",
   "nbconvert_exporter": "python",
   "pygments_lexer": "ipython3",
   "version": "3.10.4"
  },
  "orig_nbformat": 4,
  "vscode": {
   "interpreter": {
    "hash": "8cda3f1edda61d067a8dccfe73833b0b57e2a1d4ac0e36527d0cd620f4d2a66c"
   }
  }
 },
 "nbformat": 4,
 "nbformat_minor": 2
}
