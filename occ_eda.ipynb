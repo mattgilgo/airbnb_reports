{
 "cells": [
  {
   "cell_type": "code",
   "execution_count": 2,
   "metadata": {},
   "outputs": [],
   "source": [
    "import pandas as pd\n",
    "import matplotlib.pyplot as plt\n",
    "import folium\n",
    "import numpy as np\n",
    "import seaborn as sns\n",
    "import os\n",
    "import fastparquet\n",
    "import warnings\n",
    "import geopy\n",
    "from geopy.point import Point\n",
    "import time\n",
    "from pandas.core.common import SettingWithCopyWarning\n",
    "import plotly.graph_objects as go\n",
    "import plotly.express as px\n",
    "from datetime import datetime, timedelta, date\n",
    "warnings.simplefilter(action='ignore', category=FutureWarning)\n",
    "warnings.simplefilter(action=\"ignore\", category=SettingWithCopyWarning)"
   ]
  },
  {
   "cell_type": "code",
   "execution_count": 3,
   "metadata": {},
   "outputs": [
    {
     "data": {
      "text/plain": [
       "\"\\nstart_time = time.time()\\nmiami_example['pull_time'] = pd.to_datetime(miami_example['pull_time'])\\nprint('done with datatype change')\\nmiddle_time = time.time()\\nmiami_example['pull_time'] = miami_example['pull_time'].dt.date\\nprint('done with change to date')\\nend_time = time.time()\\n\\nprint('Start Time '+ str(start_time))\\nprint('Middle Time '+ str(middle_time-start_time))\\nprint('End Time '+ str(end_time-start_time))\\n\\nmiami_example_by_pull_time = miami_example.groupby(['id','pull_time'])['cleaning_fee','service_fee','total_price'].mean().reset_index()\\nmiami_example_by_pull_time_count = miami_example.groupby(['pull_time','check_in'])['cleaning_fee','service_fee','total_price'].count().reset_index()\\n\""
      ]
     },
     "execution_count": 3,
     "metadata": {},
     "output_type": "execute_result"
    }
   ],
   "source": [
    "# Load in price data\n",
    "occ_data = pd.read_parquet('C:/Users/mattg/Desktop/Hobbies/airbnb_reports/bucket_data/occupancy')\n",
    "occ_data.id = occ_data.id.astype('str')\n",
    "miami_example = occ_data[occ_data['id'] == '52364652.0']\n",
    "#start_time = time.time()\n",
    "#miami_example['pulled'] = pd.to_datetime(miami_example['pulled'])\n",
    "#print('done with datatype change')\n",
    "#middle_time = time.time()\n",
    "#miami_example['pulled'] = miami_example['pulled'].dt.date\n",
    "#print('done with change to date')\n",
    "#end_time = time.time()\n",
    "\n",
    "#print('Start Time '+ str(start_time))\n",
    "#print('Middle Time '+ str(middle_time-start_time))\n",
    "#print('End Time '+ str(end_time-start_time))\n"
   ]
  },
  {
   "cell_type": "code",
   "execution_count": 6,
   "metadata": {},
   "outputs": [
    {
     "data": {
      "application/vnd.plotly.v1+json": {
       "config": {
        "plotlyServerURL": "https://plot.ly"
       },
       "data": [
        {
         "mode": "lines",
         "name": "Available",
         "type": "scatter",
         "x": [
          "01/05/2022 06:21:58",
          "02/05/2022 06:21:44",
          "03/05/2022 06:21:45",
          "04/05/2022 06:21:55",
          "05/05/2022 06:21:53",
          "06/05/2022 06:21:46",
          "07/05/2022 06:21:53",
          "08/05/2022 06:21:48",
          "09/05/2022 06:21:52",
          "10/05/2022 06:22:32",
          "11/05/2022 06:22:37",
          "12/05/2022 06:22:27",
          "13/05/2022 06:21:56",
          "14/05/2022 06:21:49",
          "15/05/2022 06:21:49",
          "16/05/2022 06:21:46",
          "17/05/2022 06:21:48",
          "18/04/2022 23:52:12",
          "18/05/2022 06:22:08",
          "19/04/2022 00:32:09",
          "19/04/2022 06:21:39",
          "20/04/2022 06:21:51",
          "21/04/2022 06:21:58",
          "22/04/2022 06:21:37",
          "23/04/2022 06:22:08",
          "24/04/2022 06:21:38",
          "27/04/2022 23:10:11",
          "27/04/2022 23:34:25",
          "28/04/2022 20:05:14",
          "29/04/2022 06:21:47",
          "30/04/2022 06:22:10"
         ],
         "y": [
          0.09041095890410959,
          0.08767123287671233,
          0.08767123287671233,
          0.08767123287671233,
          0.08767123287671233,
          0.08767123287671233,
          0.08767123287671233,
          0.08767123287671233,
          0.08767123287671233,
          0.08767123287671233,
          0.12876712328767123,
          0.12876712328767123,
          0.12876712328767123,
          0.12876712328767123,
          0.12876712328767123,
          0.12876712328767123,
          0.1178082191780822,
          0.0821917808219178,
          0.08493150684931507,
          0.0821917808219178,
          0.0821917808219178,
          0.0821917808219178,
          0.0821917808219178,
          0.0821917808219178,
          0.10136986301369863,
          0.10136986301369863,
          0.09041095890410959,
          0.09041095890410959,
          0.09041095890410959,
          0.09041095890410959,
          0.09041095890410959
         ]
        },
        {
         "mode": "lines",
         "name": "Available for Check In",
         "type": "scatter",
         "x": [
          "01/05/2022 06:21:58",
          "02/05/2022 06:21:44",
          "03/05/2022 06:21:45",
          "04/05/2022 06:21:55",
          "05/05/2022 06:21:53",
          "06/05/2022 06:21:46",
          "07/05/2022 06:21:53",
          "08/05/2022 06:21:48",
          "09/05/2022 06:21:52",
          "10/05/2022 06:22:32",
          "11/05/2022 06:22:37",
          "12/05/2022 06:22:27",
          "13/05/2022 06:21:56",
          "14/05/2022 06:21:49",
          "15/05/2022 06:21:49",
          "16/05/2022 06:21:46",
          "17/05/2022 06:21:48",
          "18/04/2022 23:52:12",
          "18/05/2022 06:22:08",
          "19/04/2022 00:32:09",
          "19/04/2022 06:21:39",
          "20/04/2022 06:21:51",
          "21/04/2022 06:21:58",
          "22/04/2022 06:21:37",
          "23/04/2022 06:22:08",
          "24/04/2022 06:21:38",
          "27/04/2022 23:10:11",
          "27/04/2022 23:34:25",
          "28/04/2022 20:05:14",
          "29/04/2022 06:21:47",
          "30/04/2022 06:22:10"
         ],
         "y": [
          0.06575342465753424,
          0.06575342465753424,
          0.06575342465753424,
          0.06575342465753424,
          0.06575342465753424,
          0.06575342465753424,
          0.06575342465753424,
          0.06575342465753424,
          0.06575342465753424,
          0.06575342465753424,
          0.10684931506849316,
          0.10684931506849316,
          0.10684931506849316,
          0.10684931506849316,
          0.10684931506849316,
          0.10684931506849316,
          0.08493150684931507,
          0.052054794520547946,
          0.052054794520547946,
          0.052054794520547946,
          0.052054794520547946,
          0.052054794520547946,
          0.052054794520547946,
          0.052054794520547946,
          0.07123287671232877,
          0.07123287671232877,
          0.06575342465753424,
          0.06575342465753424,
          0.06575342465753424,
          0.06575342465753424,
          0.06575342465753424
         ]
        },
        {
         "mode": "lines",
         "name": "Available for Check Out",
         "type": "scatter",
         "x": [
          "01/05/2022 06:21:58",
          "02/05/2022 06:21:44",
          "03/05/2022 06:21:45",
          "04/05/2022 06:21:55",
          "05/05/2022 06:21:53",
          "06/05/2022 06:21:46",
          "07/05/2022 06:21:53",
          "08/05/2022 06:21:48",
          "09/05/2022 06:21:52",
          "10/05/2022 06:22:32",
          "11/05/2022 06:22:37",
          "12/05/2022 06:22:27",
          "13/05/2022 06:21:56",
          "14/05/2022 06:21:49",
          "15/05/2022 06:21:49",
          "16/05/2022 06:21:46",
          "17/05/2022 06:21:48",
          "18/04/2022 23:52:12",
          "18/05/2022 06:22:08",
          "19/04/2022 00:32:09",
          "19/04/2022 06:21:39",
          "20/04/2022 06:21:51",
          "21/04/2022 06:21:58",
          "22/04/2022 06:21:37",
          "23/04/2022 06:22:08",
          "24/04/2022 06:21:38",
          "27/04/2022 23:10:11",
          "27/04/2022 23:34:25",
          "28/04/2022 20:05:14",
          "29/04/2022 06:21:47",
          "30/04/2022 06:22:10"
         ],
         "y": [
          0.08767123287671233,
          0.08767123287671233,
          0.08767123287671233,
          0.08767123287671233,
          0.08767123287671233,
          0.08767123287671233,
          0.08767123287671233,
          0.08767123287671233,
          0.08767123287671233,
          0.08767123287671233,
          0.12876712328767123,
          0.12876712328767123,
          0.12876712328767123,
          0.12876712328767123,
          0.12876712328767123,
          0.12876712328767123,
          0.1178082191780822,
          0.0821917808219178,
          0.08493150684931507,
          0.0821917808219178,
          0.0821917808219178,
          0.0821917808219178,
          0.0821917808219178,
          0.0821917808219178,
          0.10136986301369863,
          0.10136986301369863,
          0.08767123287671233,
          0.08767123287671233,
          0.08767123287671233,
          0.08767123287671233,
          0.08767123287671233
         ]
        },
        {
         "mode": "lines",
         "name": "Bookable",
         "type": "scatter",
         "x": [
          "01/05/2022 06:21:58",
          "02/05/2022 06:21:44",
          "03/05/2022 06:21:45",
          "04/05/2022 06:21:55",
          "05/05/2022 06:21:53",
          "06/05/2022 06:21:46",
          "07/05/2022 06:21:53",
          "08/05/2022 06:21:48",
          "09/05/2022 06:21:52",
          "10/05/2022 06:22:32",
          "11/05/2022 06:22:37",
          "12/05/2022 06:22:27",
          "13/05/2022 06:21:56",
          "14/05/2022 06:21:49",
          "15/05/2022 06:21:49",
          "16/05/2022 06:21:46",
          "17/05/2022 06:21:48",
          "18/04/2022 23:52:12",
          "18/05/2022 06:22:08",
          "19/04/2022 00:32:09",
          "19/04/2022 06:21:39",
          "20/04/2022 06:21:51",
          "21/04/2022 06:21:58",
          "22/04/2022 06:21:37",
          "23/04/2022 06:22:08",
          "24/04/2022 06:21:38",
          "27/04/2022 23:10:11",
          "27/04/2022 23:34:25",
          "28/04/2022 20:05:14",
          "29/04/2022 06:21:47",
          "30/04/2022 06:22:10"
         ],
         "y": [
          0.08767123287671233,
          0.08767123287671233,
          0.08767123287671233,
          0.08767123287671233,
          0.08767123287671233,
          0.08767123287671233,
          0.08767123287671233,
          0.08767123287671233,
          0.08767123287671233,
          0.08767123287671233,
          0.12876712328767123,
          0.12876712328767123,
          0.12876712328767123,
          0.12876712328767123,
          0.12876712328767123,
          0.12876712328767123,
          0.1178082191780822,
          0.0821917808219178,
          0.08493150684931507,
          0.0821917808219178,
          0.0821917808219178,
          0.0821917808219178,
          0.0821917808219178,
          0.0821917808219178,
          0.10136986301369863,
          0.10136986301369863,
          0.08767123287671233,
          0.08767123287671233,
          0.08767123287671233,
          0.08767123287671233,
          0.08767123287671233
         ]
        }
       ],
       "layout": {
        "template": {
         "data": {
          "bar": [
           {
            "error_x": {
             "color": "#2a3f5f"
            },
            "error_y": {
             "color": "#2a3f5f"
            },
            "marker": {
             "line": {
              "color": "#E5ECF6",
              "width": 0.5
             },
             "pattern": {
              "fillmode": "overlay",
              "size": 10,
              "solidity": 0.2
             }
            },
            "type": "bar"
           }
          ],
          "barpolar": [
           {
            "marker": {
             "line": {
              "color": "#E5ECF6",
              "width": 0.5
             },
             "pattern": {
              "fillmode": "overlay",
              "size": 10,
              "solidity": 0.2
             }
            },
            "type": "barpolar"
           }
          ],
          "carpet": [
           {
            "aaxis": {
             "endlinecolor": "#2a3f5f",
             "gridcolor": "white",
             "linecolor": "white",
             "minorgridcolor": "white",
             "startlinecolor": "#2a3f5f"
            },
            "baxis": {
             "endlinecolor": "#2a3f5f",
             "gridcolor": "white",
             "linecolor": "white",
             "minorgridcolor": "white",
             "startlinecolor": "#2a3f5f"
            },
            "type": "carpet"
           }
          ],
          "choropleth": [
           {
            "colorbar": {
             "outlinewidth": 0,
             "ticks": ""
            },
            "type": "choropleth"
           }
          ],
          "contour": [
           {
            "colorbar": {
             "outlinewidth": 0,
             "ticks": ""
            },
            "colorscale": [
             [
              0,
              "#0d0887"
             ],
             [
              0.1111111111111111,
              "#46039f"
             ],
             [
              0.2222222222222222,
              "#7201a8"
             ],
             [
              0.3333333333333333,
              "#9c179e"
             ],
             [
              0.4444444444444444,
              "#bd3786"
             ],
             [
              0.5555555555555556,
              "#d8576b"
             ],
             [
              0.6666666666666666,
              "#ed7953"
             ],
             [
              0.7777777777777778,
              "#fb9f3a"
             ],
             [
              0.8888888888888888,
              "#fdca26"
             ],
             [
              1,
              "#f0f921"
             ]
            ],
            "type": "contour"
           }
          ],
          "contourcarpet": [
           {
            "colorbar": {
             "outlinewidth": 0,
             "ticks": ""
            },
            "type": "contourcarpet"
           }
          ],
          "heatmap": [
           {
            "colorbar": {
             "outlinewidth": 0,
             "ticks": ""
            },
            "colorscale": [
             [
              0,
              "#0d0887"
             ],
             [
              0.1111111111111111,
              "#46039f"
             ],
             [
              0.2222222222222222,
              "#7201a8"
             ],
             [
              0.3333333333333333,
              "#9c179e"
             ],
             [
              0.4444444444444444,
              "#bd3786"
             ],
             [
              0.5555555555555556,
              "#d8576b"
             ],
             [
              0.6666666666666666,
              "#ed7953"
             ],
             [
              0.7777777777777778,
              "#fb9f3a"
             ],
             [
              0.8888888888888888,
              "#fdca26"
             ],
             [
              1,
              "#f0f921"
             ]
            ],
            "type": "heatmap"
           }
          ],
          "heatmapgl": [
           {
            "colorbar": {
             "outlinewidth": 0,
             "ticks": ""
            },
            "colorscale": [
             [
              0,
              "#0d0887"
             ],
             [
              0.1111111111111111,
              "#46039f"
             ],
             [
              0.2222222222222222,
              "#7201a8"
             ],
             [
              0.3333333333333333,
              "#9c179e"
             ],
             [
              0.4444444444444444,
              "#bd3786"
             ],
             [
              0.5555555555555556,
              "#d8576b"
             ],
             [
              0.6666666666666666,
              "#ed7953"
             ],
             [
              0.7777777777777778,
              "#fb9f3a"
             ],
             [
              0.8888888888888888,
              "#fdca26"
             ],
             [
              1,
              "#f0f921"
             ]
            ],
            "type": "heatmapgl"
           }
          ],
          "histogram": [
           {
            "marker": {
             "pattern": {
              "fillmode": "overlay",
              "size": 10,
              "solidity": 0.2
             }
            },
            "type": "histogram"
           }
          ],
          "histogram2d": [
           {
            "colorbar": {
             "outlinewidth": 0,
             "ticks": ""
            },
            "colorscale": [
             [
              0,
              "#0d0887"
             ],
             [
              0.1111111111111111,
              "#46039f"
             ],
             [
              0.2222222222222222,
              "#7201a8"
             ],
             [
              0.3333333333333333,
              "#9c179e"
             ],
             [
              0.4444444444444444,
              "#bd3786"
             ],
             [
              0.5555555555555556,
              "#d8576b"
             ],
             [
              0.6666666666666666,
              "#ed7953"
             ],
             [
              0.7777777777777778,
              "#fb9f3a"
             ],
             [
              0.8888888888888888,
              "#fdca26"
             ],
             [
              1,
              "#f0f921"
             ]
            ],
            "type": "histogram2d"
           }
          ],
          "histogram2dcontour": [
           {
            "colorbar": {
             "outlinewidth": 0,
             "ticks": ""
            },
            "colorscale": [
             [
              0,
              "#0d0887"
             ],
             [
              0.1111111111111111,
              "#46039f"
             ],
             [
              0.2222222222222222,
              "#7201a8"
             ],
             [
              0.3333333333333333,
              "#9c179e"
             ],
             [
              0.4444444444444444,
              "#bd3786"
             ],
             [
              0.5555555555555556,
              "#d8576b"
             ],
             [
              0.6666666666666666,
              "#ed7953"
             ],
             [
              0.7777777777777778,
              "#fb9f3a"
             ],
             [
              0.8888888888888888,
              "#fdca26"
             ],
             [
              1,
              "#f0f921"
             ]
            ],
            "type": "histogram2dcontour"
           }
          ],
          "mesh3d": [
           {
            "colorbar": {
             "outlinewidth": 0,
             "ticks": ""
            },
            "type": "mesh3d"
           }
          ],
          "parcoords": [
           {
            "line": {
             "colorbar": {
              "outlinewidth": 0,
              "ticks": ""
             }
            },
            "type": "parcoords"
           }
          ],
          "pie": [
           {
            "automargin": true,
            "type": "pie"
           }
          ],
          "scatter": [
           {
            "fillpattern": {
             "fillmode": "overlay",
             "size": 10,
             "solidity": 0.2
            },
            "type": "scatter"
           }
          ],
          "scatter3d": [
           {
            "line": {
             "colorbar": {
              "outlinewidth": 0,
              "ticks": ""
             }
            },
            "marker": {
             "colorbar": {
              "outlinewidth": 0,
              "ticks": ""
             }
            },
            "type": "scatter3d"
           }
          ],
          "scattercarpet": [
           {
            "marker": {
             "colorbar": {
              "outlinewidth": 0,
              "ticks": ""
             }
            },
            "type": "scattercarpet"
           }
          ],
          "scattergeo": [
           {
            "marker": {
             "colorbar": {
              "outlinewidth": 0,
              "ticks": ""
             }
            },
            "type": "scattergeo"
           }
          ],
          "scattergl": [
           {
            "marker": {
             "colorbar": {
              "outlinewidth": 0,
              "ticks": ""
             }
            },
            "type": "scattergl"
           }
          ],
          "scattermapbox": [
           {
            "marker": {
             "colorbar": {
              "outlinewidth": 0,
              "ticks": ""
             }
            },
            "type": "scattermapbox"
           }
          ],
          "scatterpolar": [
           {
            "marker": {
             "colorbar": {
              "outlinewidth": 0,
              "ticks": ""
             }
            },
            "type": "scatterpolar"
           }
          ],
          "scatterpolargl": [
           {
            "marker": {
             "colorbar": {
              "outlinewidth": 0,
              "ticks": ""
             }
            },
            "type": "scatterpolargl"
           }
          ],
          "scatterternary": [
           {
            "marker": {
             "colorbar": {
              "outlinewidth": 0,
              "ticks": ""
             }
            },
            "type": "scatterternary"
           }
          ],
          "surface": [
           {
            "colorbar": {
             "outlinewidth": 0,
             "ticks": ""
            },
            "colorscale": [
             [
              0,
              "#0d0887"
             ],
             [
              0.1111111111111111,
              "#46039f"
             ],
             [
              0.2222222222222222,
              "#7201a8"
             ],
             [
              0.3333333333333333,
              "#9c179e"
             ],
             [
              0.4444444444444444,
              "#bd3786"
             ],
             [
              0.5555555555555556,
              "#d8576b"
             ],
             [
              0.6666666666666666,
              "#ed7953"
             ],
             [
              0.7777777777777778,
              "#fb9f3a"
             ],
             [
              0.8888888888888888,
              "#fdca26"
             ],
             [
              1,
              "#f0f921"
             ]
            ],
            "type": "surface"
           }
          ],
          "table": [
           {
            "cells": {
             "fill": {
              "color": "#EBF0F8"
             },
             "line": {
              "color": "white"
             }
            },
            "header": {
             "fill": {
              "color": "#C8D4E3"
             },
             "line": {
              "color": "white"
             }
            },
            "type": "table"
           }
          ]
         },
         "layout": {
          "annotationdefaults": {
           "arrowcolor": "#2a3f5f",
           "arrowhead": 0,
           "arrowwidth": 1
          },
          "autotypenumbers": "strict",
          "coloraxis": {
           "colorbar": {
            "outlinewidth": 0,
            "ticks": ""
           }
          },
          "colorscale": {
           "diverging": [
            [
             0,
             "#8e0152"
            ],
            [
             0.1,
             "#c51b7d"
            ],
            [
             0.2,
             "#de77ae"
            ],
            [
             0.3,
             "#f1b6da"
            ],
            [
             0.4,
             "#fde0ef"
            ],
            [
             0.5,
             "#f7f7f7"
            ],
            [
             0.6,
             "#e6f5d0"
            ],
            [
             0.7,
             "#b8e186"
            ],
            [
             0.8,
             "#7fbc41"
            ],
            [
             0.9,
             "#4d9221"
            ],
            [
             1,
             "#276419"
            ]
           ],
           "sequential": [
            [
             0,
             "#0d0887"
            ],
            [
             0.1111111111111111,
             "#46039f"
            ],
            [
             0.2222222222222222,
             "#7201a8"
            ],
            [
             0.3333333333333333,
             "#9c179e"
            ],
            [
             0.4444444444444444,
             "#bd3786"
            ],
            [
             0.5555555555555556,
             "#d8576b"
            ],
            [
             0.6666666666666666,
             "#ed7953"
            ],
            [
             0.7777777777777778,
             "#fb9f3a"
            ],
            [
             0.8888888888888888,
             "#fdca26"
            ],
            [
             1,
             "#f0f921"
            ]
           ],
           "sequentialminus": [
            [
             0,
             "#0d0887"
            ],
            [
             0.1111111111111111,
             "#46039f"
            ],
            [
             0.2222222222222222,
             "#7201a8"
            ],
            [
             0.3333333333333333,
             "#9c179e"
            ],
            [
             0.4444444444444444,
             "#bd3786"
            ],
            [
             0.5555555555555556,
             "#d8576b"
            ],
            [
             0.6666666666666666,
             "#ed7953"
            ],
            [
             0.7777777777777778,
             "#fb9f3a"
            ],
            [
             0.8888888888888888,
             "#fdca26"
            ],
            [
             1,
             "#f0f921"
            ]
           ]
          },
          "colorway": [
           "#636efa",
           "#EF553B",
           "#00cc96",
           "#ab63fa",
           "#FFA15A",
           "#19d3f3",
           "#FF6692",
           "#B6E880",
           "#FF97FF",
           "#FECB52"
          ],
          "font": {
           "color": "#2a3f5f"
          },
          "geo": {
           "bgcolor": "white",
           "lakecolor": "white",
           "landcolor": "#E5ECF6",
           "showlakes": true,
           "showland": true,
           "subunitcolor": "white"
          },
          "hoverlabel": {
           "align": "left"
          },
          "hovermode": "closest",
          "mapbox": {
           "style": "light"
          },
          "paper_bgcolor": "white",
          "plot_bgcolor": "#E5ECF6",
          "polar": {
           "angularaxis": {
            "gridcolor": "white",
            "linecolor": "white",
            "ticks": ""
           },
           "bgcolor": "#E5ECF6",
           "radialaxis": {
            "gridcolor": "white",
            "linecolor": "white",
            "ticks": ""
           }
          },
          "scene": {
           "xaxis": {
            "backgroundcolor": "#E5ECF6",
            "gridcolor": "white",
            "gridwidth": 2,
            "linecolor": "white",
            "showbackground": true,
            "ticks": "",
            "zerolinecolor": "white"
           },
           "yaxis": {
            "backgroundcolor": "#E5ECF6",
            "gridcolor": "white",
            "gridwidth": 2,
            "linecolor": "white",
            "showbackground": true,
            "ticks": "",
            "zerolinecolor": "white"
           },
           "zaxis": {
            "backgroundcolor": "#E5ECF6",
            "gridcolor": "white",
            "gridwidth": 2,
            "linecolor": "white",
            "showbackground": true,
            "ticks": "",
            "zerolinecolor": "white"
           }
          },
          "shapedefaults": {
           "line": {
            "color": "#2a3f5f"
           }
          },
          "ternary": {
           "aaxis": {
            "gridcolor": "white",
            "linecolor": "white",
            "ticks": ""
           },
           "baxis": {
            "gridcolor": "white",
            "linecolor": "white",
            "ticks": ""
           },
           "bgcolor": "#E5ECF6",
           "caxis": {
            "gridcolor": "white",
            "linecolor": "white",
            "ticks": ""
           }
          },
          "title": {
           "x": 0.05
          },
          "xaxis": {
           "automargin": true,
           "gridcolor": "white",
           "linecolor": "white",
           "ticks": "",
           "title": {
            "standoff": 15
           },
           "zerolinecolor": "white",
           "zerolinewidth": 2
          },
          "yaxis": {
           "automargin": true,
           "gridcolor": "white",
           "linecolor": "white",
           "ticks": "",
           "title": {
            "standoff": 15
           },
           "zerolinecolor": "white",
           "zerolinewidth": 2
          }
         }
        },
        "title": {
         "text": "Occupancy Data by Date"
        },
        "xaxis": {
         "title": {
          "text": "Date"
         }
        },
        "yaxis": {
         "title": {
          "text": "Availability"
         }
        }
       }
      }
     },
     "metadata": {},
     "output_type": "display_data"
    }
   ],
   "source": [
    "miami_example_by_pull_time = miami_example.groupby(['id','pulled'])['available','min_nights','available_for_checkin','available_for_checkout','bookable'].mean().reset_index()\n",
    "miami_example_by_pull_time_count = miami_example.groupby(['pulled','date'])['available','min_nights','available_for_checkin','available_for_checkout','bookable'].count().reset_index()\n",
    "\n",
    "# Create traces\n",
    "miami_example_grouped_fig = go.Figure()\n",
    "miami_example_grouped_fig.add_trace(go.Scatter(x=miami_example_by_pull_time['pulled'], y=miami_example_by_pull_time['available'],\n",
    "                    mode='lines',\n",
    "                    name='Available'))\n",
    "miami_example_grouped_fig.add_trace(go.Scatter(x=miami_example_by_pull_time['pulled'], y=miami_example_by_pull_time['available_for_checkin'],\n",
    "                    mode='lines', \n",
    "                    name='Available for Check In'))\n",
    "miami_example_grouped_fig.add_trace(go.Scatter(x=miami_example_by_pull_time['pulled'], y=miami_example_by_pull_time['available_for_checkout'],\n",
    "                    mode='lines', \n",
    "                    name='Available for Check Out'))\n",
    "miami_example_grouped_fig.add_trace(go.Scatter(x=miami_example_by_pull_time['pulled'], y=miami_example_by_pull_time['bookable'],\n",
    "                    mode='lines', \n",
    "                    name='Bookable'))\n",
    "miami_example_grouped_fig.update_layout(title_text=\"Occupancy Data by Date\", xaxis_title='Date', yaxis_title='Availability')\n",
    "filename = \"newsletter_features/occupancy_data_line_fig_miami_example.png\"\n",
    "miami_example_grouped_fig.write_image(filename, engine='kaleido', width=2000, height=500)\n",
    "miami_example_grouped_fig.show()"
   ]
  },
  {
   "cell_type": "code",
   "execution_count": 4,
   "metadata": {},
   "outputs": [
    {
     "data": {
      "text/html": [
       "<div>\n",
       "<style scoped>\n",
       "    .dataframe tbody tr th:only-of-type {\n",
       "        vertical-align: middle;\n",
       "    }\n",
       "\n",
       "    .dataframe tbody tr th {\n",
       "        vertical-align: top;\n",
       "    }\n",
       "\n",
       "    .dataframe thead th {\n",
       "        text-align: right;\n",
       "    }\n",
       "</style>\n",
       "<table border=\"1\" class=\"dataframe\">\n",
       "  <thead>\n",
       "    <tr style=\"text-align: right;\">\n",
       "      <th></th>\n",
       "      <th>index</th>\n",
       "      <th>date</th>\n",
       "      <th>available</th>\n",
       "      <th>max_nights</th>\n",
       "      <th>min_nights</th>\n",
       "      <th>available_for_checkin</th>\n",
       "      <th>available_for_checkout</th>\n",
       "      <th>bookable</th>\n",
       "      <th>pulled</th>\n",
       "      <th>id</th>\n",
       "      <th>parition_col</th>\n",
       "    </tr>\n",
       "  </thead>\n",
       "  <tbody>\n",
       "    <tr>\n",
       "      <th>8880085</th>\n",
       "      <td>0</td>\n",
       "      <td>2022-04-01</td>\n",
       "      <td>False</td>\n",
       "      <td>1125</td>\n",
       "      <td>5</td>\n",
       "      <td>False</td>\n",
       "      <td>False</td>\n",
       "      <td>False</td>\n",
       "      <td>18/04/2022 23:52:12</td>\n",
       "      <td>52364652.0</td>\n",
       "      <td>12.0</td>\n",
       "    </tr>\n",
       "    <tr>\n",
       "      <th>8880086</th>\n",
       "      <td>1</td>\n",
       "      <td>2022-04-02</td>\n",
       "      <td>False</td>\n",
       "      <td>1125</td>\n",
       "      <td>5</td>\n",
       "      <td>False</td>\n",
       "      <td>False</td>\n",
       "      <td>False</td>\n",
       "      <td>18/04/2022 23:52:12</td>\n",
       "      <td>52364652.0</td>\n",
       "      <td>12.0</td>\n",
       "    </tr>\n",
       "    <tr>\n",
       "      <th>8880087</th>\n",
       "      <td>2</td>\n",
       "      <td>2022-04-03</td>\n",
       "      <td>False</td>\n",
       "      <td>1125</td>\n",
       "      <td>5</td>\n",
       "      <td>False</td>\n",
       "      <td>False</td>\n",
       "      <td>False</td>\n",
       "      <td>18/04/2022 23:52:12</td>\n",
       "      <td>52364652.0</td>\n",
       "      <td>12.0</td>\n",
       "    </tr>\n",
       "    <tr>\n",
       "      <th>8880088</th>\n",
       "      <td>3</td>\n",
       "      <td>2022-04-04</td>\n",
       "      <td>False</td>\n",
       "      <td>1125</td>\n",
       "      <td>5</td>\n",
       "      <td>False</td>\n",
       "      <td>False</td>\n",
       "      <td>False</td>\n",
       "      <td>18/04/2022 23:52:12</td>\n",
       "      <td>52364652.0</td>\n",
       "      <td>12.0</td>\n",
       "    </tr>\n",
       "    <tr>\n",
       "      <th>8880089</th>\n",
       "      <td>4</td>\n",
       "      <td>2022-04-05</td>\n",
       "      <td>False</td>\n",
       "      <td>1125</td>\n",
       "      <td>5</td>\n",
       "      <td>False</td>\n",
       "      <td>False</td>\n",
       "      <td>False</td>\n",
       "      <td>18/04/2022 23:52:12</td>\n",
       "      <td>52364652.0</td>\n",
       "      <td>12.0</td>\n",
       "    </tr>\n",
       "    <tr>\n",
       "      <th>...</th>\n",
       "      <td>...</td>\n",
       "      <td>...</td>\n",
       "      <td>...</td>\n",
       "      <td>...</td>\n",
       "      <td>...</td>\n",
       "      <td>...</td>\n",
       "      <td>...</td>\n",
       "      <td>...</td>\n",
       "      <td>...</td>\n",
       "      <td>...</td>\n",
       "      <td>...</td>\n",
       "    </tr>\n",
       "    <tr>\n",
       "      <th>10678800</th>\n",
       "      <td>360</td>\n",
       "      <td>2023-04-26</td>\n",
       "      <td>False</td>\n",
       "      <td>1125</td>\n",
       "      <td>5</td>\n",
       "      <td>False</td>\n",
       "      <td>False</td>\n",
       "      <td>False</td>\n",
       "      <td>11/05/2022 06:22:37</td>\n",
       "      <td>52364652.0</td>\n",
       "      <td>12.0</td>\n",
       "    </tr>\n",
       "    <tr>\n",
       "      <th>10678801</th>\n",
       "      <td>361</td>\n",
       "      <td>2023-04-27</td>\n",
       "      <td>False</td>\n",
       "      <td>1125</td>\n",
       "      <td>5</td>\n",
       "      <td>False</td>\n",
       "      <td>False</td>\n",
       "      <td>False</td>\n",
       "      <td>11/05/2022 06:22:37</td>\n",
       "      <td>52364652.0</td>\n",
       "      <td>12.0</td>\n",
       "    </tr>\n",
       "    <tr>\n",
       "      <th>10678802</th>\n",
       "      <td>362</td>\n",
       "      <td>2023-04-28</td>\n",
       "      <td>False</td>\n",
       "      <td>1125</td>\n",
       "      <td>5</td>\n",
       "      <td>False</td>\n",
       "      <td>False</td>\n",
       "      <td>False</td>\n",
       "      <td>11/05/2022 06:22:37</td>\n",
       "      <td>52364652.0</td>\n",
       "      <td>12.0</td>\n",
       "    </tr>\n",
       "    <tr>\n",
       "      <th>10678803</th>\n",
       "      <td>363</td>\n",
       "      <td>2023-04-29</td>\n",
       "      <td>False</td>\n",
       "      <td>1125</td>\n",
       "      <td>5</td>\n",
       "      <td>False</td>\n",
       "      <td>False</td>\n",
       "      <td>False</td>\n",
       "      <td>11/05/2022 06:22:37</td>\n",
       "      <td>52364652.0</td>\n",
       "      <td>12.0</td>\n",
       "    </tr>\n",
       "    <tr>\n",
       "      <th>10678804</th>\n",
       "      <td>364</td>\n",
       "      <td>2023-04-30</td>\n",
       "      <td>False</td>\n",
       "      <td>1125</td>\n",
       "      <td>5</td>\n",
       "      <td>False</td>\n",
       "      <td>False</td>\n",
       "      <td>False</td>\n",
       "      <td>11/05/2022 06:22:37</td>\n",
       "      <td>52364652.0</td>\n",
       "      <td>12.0</td>\n",
       "    </tr>\n",
       "  </tbody>\n",
       "</table>\n",
       "<p>11315 rows × 11 columns</p>\n",
       "</div>"
      ],
      "text/plain": [
       "          index        date  available  max_nights  min_nights  \\\n",
       "8880085       0  2022-04-01      False        1125           5   \n",
       "8880086       1  2022-04-02      False        1125           5   \n",
       "8880087       2  2022-04-03      False        1125           5   \n",
       "8880088       3  2022-04-04      False        1125           5   \n",
       "8880089       4  2022-04-05      False        1125           5   \n",
       "...         ...         ...        ...         ...         ...   \n",
       "10678800    360  2023-04-26      False        1125           5   \n",
       "10678801    361  2023-04-27      False        1125           5   \n",
       "10678802    362  2023-04-28      False        1125           5   \n",
       "10678803    363  2023-04-29      False        1125           5   \n",
       "10678804    364  2023-04-30      False        1125           5   \n",
       "\n",
       "          available_for_checkin  available_for_checkout  bookable  \\\n",
       "8880085                   False                   False     False   \n",
       "8880086                   False                   False     False   \n",
       "8880087                   False                   False     False   \n",
       "8880088                   False                   False     False   \n",
       "8880089                   False                   False     False   \n",
       "...                         ...                     ...       ...   \n",
       "10678800                  False                   False     False   \n",
       "10678801                  False                   False     False   \n",
       "10678802                  False                   False     False   \n",
       "10678803                  False                   False     False   \n",
       "10678804                  False                   False     False   \n",
       "\n",
       "                       pulled          id parition_col  \n",
       "8880085   18/04/2022 23:52:12  52364652.0         12.0  \n",
       "8880086   18/04/2022 23:52:12  52364652.0         12.0  \n",
       "8880087   18/04/2022 23:52:12  52364652.0         12.0  \n",
       "8880088   18/04/2022 23:52:12  52364652.0         12.0  \n",
       "8880089   18/04/2022 23:52:12  52364652.0         12.0  \n",
       "...                       ...         ...          ...  \n",
       "10678800  11/05/2022 06:22:37  52364652.0         12.0  \n",
       "10678801  11/05/2022 06:22:37  52364652.0         12.0  \n",
       "10678802  11/05/2022 06:22:37  52364652.0         12.0  \n",
       "10678803  11/05/2022 06:22:37  52364652.0         12.0  \n",
       "10678804  11/05/2022 06:22:37  52364652.0         12.0  \n",
       "\n",
       "[11315 rows x 11 columns]"
      ]
     },
     "execution_count": 4,
     "metadata": {},
     "output_type": "execute_result"
    }
   ],
   "source": [
    "miami_example"
   ]
  }
 ],
 "metadata": {
  "kernelspec": {
   "display_name": "Python 3.10.4 64-bit",
   "language": "python",
   "name": "python3"
  },
  "language_info": {
   "codemirror_mode": {
    "name": "ipython",
    "version": 3
   },
   "file_extension": ".py",
   "mimetype": "text/x-python",
   "name": "python",
   "nbconvert_exporter": "python",
   "pygments_lexer": "ipython3",
   "version": "3.10.4"
  },
  "orig_nbformat": 4,
  "vscode": {
   "interpreter": {
    "hash": "8cda3f1edda61d067a8dccfe73833b0b57e2a1d4ac0e36527d0cd620f4d2a66c"
   }
  }
 },
 "nbformat": 4,
 "nbformat_minor": 2
}
