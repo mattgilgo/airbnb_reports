{
 "cells": [
  {
   "cell_type": "code",
   "execution_count": 1,
   "metadata": {},
   "outputs": [],
   "source": [
    "import pandas as pd\n",
    "import matplotlib.pyplot as plt\n",
    "import folium\n",
    "import numpy as np\n",
    "import seaborn as sns\n",
    "import os\n",
    "import fastparquet\n",
    "import warnings\n",
    "import geopy\n",
    "from geopy.point import Point\n",
    "import time\n",
    "from pandas.core.common import SettingWithCopyWarning\n",
    "import plotly.graph_objects as go\n",
    "import plotly.express as px\n",
    "from datetime import datetime, timedelta, date\n",
    "warnings.simplefilter(action='ignore', category=FutureWarning)\n",
    "warnings.simplefilter(action=\"ignore\", category=SettingWithCopyWarning)"
   ]
  },
  {
   "cell_type": "code",
   "execution_count": 2,
   "metadata": {},
   "outputs": [],
   "source": [
    "# Load in price data\n",
    "occ_data = pd.read_parquet('C:/Users/mattg/Desktop/Hobbies/airbnb_reports/bucket_data/occupancy')\n",
    "occ_data.id = occ_data.id.astype('str')\n",
    "miami_example = occ_data[occ_data['id'] == '52364652.0']\n",
    "#start_time = time.time()\n",
    "#miami_example['pulled'] = pd.to_datetime(miami_example['pulled'])\n",
    "#print('done with datatype change')\n",
    "#middle_time = time.time()\n",
    "#miami_example['pulled'] = miami_example['pulled'].dt.date\n",
    "#print('done with change to date')\n",
    "#end_time = time.time()\n",
    "\n",
    "#print('Start Time '+ str(start_time))\n",
    "#print('Middle Time '+ str(middle_time-start_time))\n",
    "#print('End Time '+ str(end_time-start_time))\n"
   ]
  },
  {
   "cell_type": "code",
   "execution_count": 3,
   "metadata": {},
   "outputs": [
    {
     "data": {
      "application/vnd.plotly.v1+json": {
       "config": {
        "plotlyServerURL": "https://plot.ly"
       },
       "data": [
        {
         "mode": "lines",
         "name": "Available",
         "type": "scatter",
         "x": [
          "01/05/2022 06:21:58",
          "02/05/2022 06:21:44",
          "03/05/2022 06:21:45",
          "04/05/2022 06:21:55",
          "05/05/2022 06:21:53",
          "06/05/2022 06:21:46",
          "07/05/2022 06:21:53",
          "08/05/2022 06:21:48",
          "09/05/2022 06:21:52",
          "10/05/2022 06:22:32",
          "11/05/2022 06:22:37",
          "12/05/2022 06:22:27",
          "13/05/2022 06:21:56",
          "14/05/2022 06:21:49",
          "15/05/2022 06:21:49",
          "16/05/2022 06:21:46",
          "17/05/2022 06:21:48",
          "18/04/2022 23:52:12",
          "18/05/2022 06:22:08",
          "19/04/2022 00:32:09",
          "19/04/2022 06:21:39",
          "20/04/2022 06:21:51",
          "21/04/2022 06:21:58",
          "22/04/2022 06:21:37",
          "23/04/2022 06:22:08",
          "24/04/2022 06:21:38",
          "27/04/2022 23:10:11",
          "27/04/2022 23:34:25",
          "28/04/2022 20:05:14",
          "29/04/2022 06:21:47",
          "30/04/2022 06:22:10"
         ],
         "y": [
          0.09041095890410959,
          0.08767123287671233,
          0.08767123287671233,
          0.08767123287671233,
          0.08767123287671233,
          0.08767123287671233,
          0.08767123287671233,
          0.08767123287671233,
          0.08767123287671233,
          0.08767123287671233,
          0.12876712328767123,
          0.12876712328767123,
          0.12876712328767123,
          0.12876712328767123,
          0.12876712328767123,
          0.12876712328767123,
          0.1178082191780822,
          0.0821917808219178,
          0.08493150684931507,
          0.0821917808219178,
          0.0821917808219178,
          0.0821917808219178,
          0.0821917808219178,
          0.0821917808219178,
          0.10136986301369863,
          0.10136986301369863,
          0.09041095890410959,
          0.09041095890410959,
          0.09041095890410959,
          0.09041095890410959,
          0.09041095890410959
         ]
        },
        {
         "mode": "lines",
         "name": "Available for Check In",
         "type": "scatter",
         "x": [
          "01/05/2022 06:21:58",
          "02/05/2022 06:21:44",
          "03/05/2022 06:21:45",
          "04/05/2022 06:21:55",
          "05/05/2022 06:21:53",
          "06/05/2022 06:21:46",
          "07/05/2022 06:21:53",
          "08/05/2022 06:21:48",
          "09/05/2022 06:21:52",
          "10/05/2022 06:22:32",
          "11/05/2022 06:22:37",
          "12/05/2022 06:22:27",
          "13/05/2022 06:21:56",
          "14/05/2022 06:21:49",
          "15/05/2022 06:21:49",
          "16/05/2022 06:21:46",
          "17/05/2022 06:21:48",
          "18/04/2022 23:52:12",
          "18/05/2022 06:22:08",
          "19/04/2022 00:32:09",
          "19/04/2022 06:21:39",
          "20/04/2022 06:21:51",
          "21/04/2022 06:21:58",
          "22/04/2022 06:21:37",
          "23/04/2022 06:22:08",
          "24/04/2022 06:21:38",
          "27/04/2022 23:10:11",
          "27/04/2022 23:34:25",
          "28/04/2022 20:05:14",
          "29/04/2022 06:21:47",
          "30/04/2022 06:22:10"
         ],
         "y": [
          0.06575342465753424,
          0.06575342465753424,
          0.06575342465753424,
          0.06575342465753424,
          0.06575342465753424,
          0.06575342465753424,
          0.06575342465753424,
          0.06575342465753424,
          0.06575342465753424,
          0.06575342465753424,
          0.10684931506849316,
          0.10684931506849316,
          0.10684931506849316,
          0.10684931506849316,
          0.10684931506849316,
          0.10684931506849316,
          0.08493150684931507,
          0.052054794520547946,
          0.052054794520547946,
          0.052054794520547946,
          0.052054794520547946,
          0.052054794520547946,
          0.052054794520547946,
          0.052054794520547946,
          0.07123287671232877,
          0.07123287671232877,
          0.06575342465753424,
          0.06575342465753424,
          0.06575342465753424,
          0.06575342465753424,
          0.06575342465753424
         ]
        },
        {
         "mode": "lines",
         "name": "Available for Check Out",
         "type": "scatter",
         "x": [
          "01/05/2022 06:21:58",
          "02/05/2022 06:21:44",
          "03/05/2022 06:21:45",
          "04/05/2022 06:21:55",
          "05/05/2022 06:21:53",
          "06/05/2022 06:21:46",
          "07/05/2022 06:21:53",
          "08/05/2022 06:21:48",
          "09/05/2022 06:21:52",
          "10/05/2022 06:22:32",
          "11/05/2022 06:22:37",
          "12/05/2022 06:22:27",
          "13/05/2022 06:21:56",
          "14/05/2022 06:21:49",
          "15/05/2022 06:21:49",
          "16/05/2022 06:21:46",
          "17/05/2022 06:21:48",
          "18/04/2022 23:52:12",
          "18/05/2022 06:22:08",
          "19/04/2022 00:32:09",
          "19/04/2022 06:21:39",
          "20/04/2022 06:21:51",
          "21/04/2022 06:21:58",
          "22/04/2022 06:21:37",
          "23/04/2022 06:22:08",
          "24/04/2022 06:21:38",
          "27/04/2022 23:10:11",
          "27/04/2022 23:34:25",
          "28/04/2022 20:05:14",
          "29/04/2022 06:21:47",
          "30/04/2022 06:22:10"
         ],
         "y": [
          0.08767123287671233,
          0.08767123287671233,
          0.08767123287671233,
          0.08767123287671233,
          0.08767123287671233,
          0.08767123287671233,
          0.08767123287671233,
          0.08767123287671233,
          0.08767123287671233,
          0.08767123287671233,
          0.12876712328767123,
          0.12876712328767123,
          0.12876712328767123,
          0.12876712328767123,
          0.12876712328767123,
          0.12876712328767123,
          0.1178082191780822,
          0.0821917808219178,
          0.08493150684931507,
          0.0821917808219178,
          0.0821917808219178,
          0.0821917808219178,
          0.0821917808219178,
          0.0821917808219178,
          0.10136986301369863,
          0.10136986301369863,
          0.08767123287671233,
          0.08767123287671233,
          0.08767123287671233,
          0.08767123287671233,
          0.08767123287671233
         ]
        },
        {
         "mode": "lines",
         "name": "Bookable",
         "type": "scatter",
         "x": [
          "01/05/2022 06:21:58",
          "02/05/2022 06:21:44",
          "03/05/2022 06:21:45",
          "04/05/2022 06:21:55",
          "05/05/2022 06:21:53",
          "06/05/2022 06:21:46",
          "07/05/2022 06:21:53",
          "08/05/2022 06:21:48",
          "09/05/2022 06:21:52",
          "10/05/2022 06:22:32",
          "11/05/2022 06:22:37",
          "12/05/2022 06:22:27",
          "13/05/2022 06:21:56",
          "14/05/2022 06:21:49",
          "15/05/2022 06:21:49",
          "16/05/2022 06:21:46",
          "17/05/2022 06:21:48",
          "18/04/2022 23:52:12",
          "18/05/2022 06:22:08",
          "19/04/2022 00:32:09",
          "19/04/2022 06:21:39",
          "20/04/2022 06:21:51",
          "21/04/2022 06:21:58",
          "22/04/2022 06:21:37",
          "23/04/2022 06:22:08",
          "24/04/2022 06:21:38",
          "27/04/2022 23:10:11",
          "27/04/2022 23:34:25",
          "28/04/2022 20:05:14",
          "29/04/2022 06:21:47",
          "30/04/2022 06:22:10"
         ],
         "y": [
          0.08767123287671233,
          0.08767123287671233,
          0.08767123287671233,
          0.08767123287671233,
          0.08767123287671233,
          0.08767123287671233,
          0.08767123287671233,
          0.08767123287671233,
          0.08767123287671233,
          0.08767123287671233,
          0.12876712328767123,
          0.12876712328767123,
          0.12876712328767123,
          0.12876712328767123,
          0.12876712328767123,
          0.12876712328767123,
          0.1178082191780822,
          0.0821917808219178,
          0.08493150684931507,
          0.0821917808219178,
          0.0821917808219178,
          0.0821917808219178,
          0.0821917808219178,
          0.0821917808219178,
          0.10136986301369863,
          0.10136986301369863,
          0.08767123287671233,
          0.08767123287671233,
          0.08767123287671233,
          0.08767123287671233,
          0.08767123287671233
         ]
        }
       ],
       "layout": {
        "template": {
         "data": {
          "bar": [
           {
            "error_x": {
             "color": "#2a3f5f"
            },
            "error_y": {
             "color": "#2a3f5f"
            },
            "marker": {
             "line": {
              "color": "#E5ECF6",
              "width": 0.5
             },
             "pattern": {
              "fillmode": "overlay",
              "size": 10,
              "solidity": 0.2
             }
            },
            "type": "bar"
           }
          ],
          "barpolar": [
           {
            "marker": {
             "line": {
              "color": "#E5ECF6",
              "width": 0.5
             },
             "pattern": {
              "fillmode": "overlay",
              "size": 10,
              "solidity": 0.2
             }
            },
            "type": "barpolar"
           }
          ],
          "carpet": [
           {
            "aaxis": {
             "endlinecolor": "#2a3f5f",
             "gridcolor": "white",
             "linecolor": "white",
             "minorgridcolor": "white",
             "startlinecolor": "#2a3f5f"
            },
            "baxis": {
             "endlinecolor": "#2a3f5f",
             "gridcolor": "white",
             "linecolor": "white",
             "minorgridcolor": "white",
             "startlinecolor": "#2a3f5f"
            },
            "type": "carpet"
           }
          ],
          "choropleth": [
           {
            "colorbar": {
             "outlinewidth": 0,
             "ticks": ""
            },
            "type": "choropleth"
           }
          ],
          "contour": [
           {
            "colorbar": {
             "outlinewidth": 0,
             "ticks": ""
            },
            "colorscale": [
             [
              0,
              "#0d0887"
             ],
             [
              0.1111111111111111,
              "#46039f"
             ],
             [
              0.2222222222222222,
              "#7201a8"
             ],
             [
              0.3333333333333333,
              "#9c179e"
             ],
             [
              0.4444444444444444,
              "#bd3786"
             ],
             [
              0.5555555555555556,
              "#d8576b"
             ],
             [
              0.6666666666666666,
              "#ed7953"
             ],
             [
              0.7777777777777778,
              "#fb9f3a"
             ],
             [
              0.8888888888888888,
              "#fdca26"
             ],
             [
              1,
              "#f0f921"
             ]
            ],
            "type": "contour"
           }
          ],
          "contourcarpet": [
           {
            "colorbar": {
             "outlinewidth": 0,
             "ticks": ""
            },
            "type": "contourcarpet"
           }
          ],
          "heatmap": [
           {
            "colorbar": {
             "outlinewidth": 0,
             "ticks": ""
            },
            "colorscale": [
             [
              0,
              "#0d0887"
             ],
             [
              0.1111111111111111,
              "#46039f"
             ],
             [
              0.2222222222222222,
              "#7201a8"
             ],
             [
              0.3333333333333333,
              "#9c179e"
             ],
             [
              0.4444444444444444,
              "#bd3786"
             ],
             [
              0.5555555555555556,
              "#d8576b"
             ],
             [
              0.6666666666666666,
              "#ed7953"
             ],
             [
              0.7777777777777778,
              "#fb9f3a"
             ],
             [
              0.8888888888888888,
              "#fdca26"
             ],
             [
              1,
              "#f0f921"
             ]
            ],
            "type": "heatmap"
           }
          ],
          "heatmapgl": [
           {
            "colorbar": {
             "outlinewidth": 0,
             "ticks": ""
            },
            "colorscale": [
             [
              0,
              "#0d0887"
             ],
             [
              0.1111111111111111,
              "#46039f"
             ],
             [
              0.2222222222222222,
              "#7201a8"
             ],
             [
              0.3333333333333333,
              "#9c179e"
             ],
             [
              0.4444444444444444,
              "#bd3786"
             ],
             [
              0.5555555555555556,
              "#d8576b"
             ],
             [
              0.6666666666666666,
              "#ed7953"
             ],
             [
              0.7777777777777778,
              "#fb9f3a"
             ],
             [
              0.8888888888888888,
              "#fdca26"
             ],
             [
              1,
              "#f0f921"
             ]
            ],
            "type": "heatmapgl"
           }
          ],
          "histogram": [
           {
            "marker": {
             "pattern": {
              "fillmode": "overlay",
              "size": 10,
              "solidity": 0.2
             }
            },
            "type": "histogram"
           }
          ],
          "histogram2d": [
           {
            "colorbar": {
             "outlinewidth": 0,
             "ticks": ""
            },
            "colorscale": [
             [
              0,
              "#0d0887"
             ],
             [
              0.1111111111111111,
              "#46039f"
             ],
             [
              0.2222222222222222,
              "#7201a8"
             ],
             [
              0.3333333333333333,
              "#9c179e"
             ],
             [
              0.4444444444444444,
              "#bd3786"
             ],
             [
              0.5555555555555556,
              "#d8576b"
             ],
             [
              0.6666666666666666,
              "#ed7953"
             ],
             [
              0.7777777777777778,
              "#fb9f3a"
             ],
             [
              0.8888888888888888,
              "#fdca26"
             ],
             [
              1,
              "#f0f921"
             ]
            ],
            "type": "histogram2d"
           }
          ],
          "histogram2dcontour": [
           {
            "colorbar": {
             "outlinewidth": 0,
             "ticks": ""
            },
            "colorscale": [
             [
              0,
              "#0d0887"
             ],
             [
              0.1111111111111111,
              "#46039f"
             ],
             [
              0.2222222222222222,
              "#7201a8"
             ],
             [
              0.3333333333333333,
              "#9c179e"
             ],
             [
              0.4444444444444444,
              "#bd3786"
             ],
             [
              0.5555555555555556,
              "#d8576b"
             ],
             [
              0.6666666666666666,
              "#ed7953"
             ],
             [
              0.7777777777777778,
              "#fb9f3a"
             ],
             [
              0.8888888888888888,
              "#fdca26"
             ],
             [
              1,
              "#f0f921"
             ]
            ],
            "type": "histogram2dcontour"
           }
          ],
          "mesh3d": [
           {
            "colorbar": {
             "outlinewidth": 0,
             "ticks": ""
            },
            "type": "mesh3d"
           }
          ],
          "parcoords": [
           {
            "line": {
             "colorbar": {
              "outlinewidth": 0,
              "ticks": ""
             }
            },
            "type": "parcoords"
           }
          ],
          "pie": [
           {
            "automargin": true,
            "type": "pie"
           }
          ],
          "scatter": [
           {
            "fillpattern": {
             "fillmode": "overlay",
             "size": 10,
             "solidity": 0.2
            },
            "type": "scatter"
           }
          ],
          "scatter3d": [
           {
            "line": {
             "colorbar": {
              "outlinewidth": 0,
              "ticks": ""
             }
            },
            "marker": {
             "colorbar": {
              "outlinewidth": 0,
              "ticks": ""
             }
            },
            "type": "scatter3d"
           }
          ],
          "scattercarpet": [
           {
            "marker": {
             "colorbar": {
              "outlinewidth": 0,
              "ticks": ""
             }
            },
            "type": "scattercarpet"
           }
          ],
          "scattergeo": [
           {
            "marker": {
             "colorbar": {
              "outlinewidth": 0,
              "ticks": ""
             }
            },
            "type": "scattergeo"
           }
          ],
          "scattergl": [
           {
            "marker": {
             "colorbar": {
              "outlinewidth": 0,
              "ticks": ""
             }
            },
            "type": "scattergl"
           }
          ],
          "scattermapbox": [
           {
            "marker": {
             "colorbar": {
              "outlinewidth": 0,
              "ticks": ""
             }
            },
            "type": "scattermapbox"
           }
          ],
          "scatterpolar": [
           {
            "marker": {
             "colorbar": {
              "outlinewidth": 0,
              "ticks": ""
             }
            },
            "type": "scatterpolar"
           }
          ],
          "scatterpolargl": [
           {
            "marker": {
             "colorbar": {
              "outlinewidth": 0,
              "ticks": ""
             }
            },
            "type": "scatterpolargl"
           }
          ],
          "scatterternary": [
           {
            "marker": {
             "colorbar": {
              "outlinewidth": 0,
              "ticks": ""
             }
            },
            "type": "scatterternary"
           }
          ],
          "surface": [
           {
            "colorbar": {
             "outlinewidth": 0,
             "ticks": ""
            },
            "colorscale": [
             [
              0,
              "#0d0887"
             ],
             [
              0.1111111111111111,
              "#46039f"
             ],
             [
              0.2222222222222222,
              "#7201a8"
             ],
             [
              0.3333333333333333,
              "#9c179e"
             ],
             [
              0.4444444444444444,
              "#bd3786"
             ],
             [
              0.5555555555555556,
              "#d8576b"
             ],
             [
              0.6666666666666666,
              "#ed7953"
             ],
             [
              0.7777777777777778,
              "#fb9f3a"
             ],
             [
              0.8888888888888888,
              "#fdca26"
             ],
             [
              1,
              "#f0f921"
             ]
            ],
            "type": "surface"
           }
          ],
          "table": [
           {
            "cells": {
             "fill": {
              "color": "#EBF0F8"
             },
             "line": {
              "color": "white"
             }
            },
            "header": {
             "fill": {
              "color": "#C8D4E3"
             },
             "line": {
              "color": "white"
             }
            },
            "type": "table"
           }
          ]
         },
         "layout": {
          "annotationdefaults": {
           "arrowcolor": "#2a3f5f",
           "arrowhead": 0,
           "arrowwidth": 1
          },
          "autotypenumbers": "strict",
          "coloraxis": {
           "colorbar": {
            "outlinewidth": 0,
            "ticks": ""
           }
          },
          "colorscale": {
           "diverging": [
            [
             0,
             "#8e0152"
            ],
            [
             0.1,
             "#c51b7d"
            ],
            [
             0.2,
             "#de77ae"
            ],
            [
             0.3,
             "#f1b6da"
            ],
            [
             0.4,
             "#fde0ef"
            ],
            [
             0.5,
             "#f7f7f7"
            ],
            [
             0.6,
             "#e6f5d0"
            ],
            [
             0.7,
             "#b8e186"
            ],
            [
             0.8,
             "#7fbc41"
            ],
            [
             0.9,
             "#4d9221"
            ],
            [
             1,
             "#276419"
            ]
           ],
           "sequential": [
            [
             0,
             "#0d0887"
            ],
            [
             0.1111111111111111,
             "#46039f"
            ],
            [
             0.2222222222222222,
             "#7201a8"
            ],
            [
             0.3333333333333333,
             "#9c179e"
            ],
            [
             0.4444444444444444,
             "#bd3786"
            ],
            [
             0.5555555555555556,
             "#d8576b"
            ],
            [
             0.6666666666666666,
             "#ed7953"
            ],
            [
             0.7777777777777778,
             "#fb9f3a"
            ],
            [
             0.8888888888888888,
             "#fdca26"
            ],
            [
             1,
             "#f0f921"
            ]
           ],
           "sequentialminus": [
            [
             0,
             "#0d0887"
            ],
            [
             0.1111111111111111,
             "#46039f"
            ],
            [
             0.2222222222222222,
             "#7201a8"
            ],
            [
             0.3333333333333333,
             "#9c179e"
            ],
            [
             0.4444444444444444,
             "#bd3786"
            ],
            [
             0.5555555555555556,
             "#d8576b"
            ],
            [
             0.6666666666666666,
             "#ed7953"
            ],
            [
             0.7777777777777778,
             "#fb9f3a"
            ],
            [
             0.8888888888888888,
             "#fdca26"
            ],
            [
             1,
             "#f0f921"
            ]
           ]
          },
          "colorway": [
           "#636efa",
           "#EF553B",
           "#00cc96",
           "#ab63fa",
           "#FFA15A",
           "#19d3f3",
           "#FF6692",
           "#B6E880",
           "#FF97FF",
           "#FECB52"
          ],
          "font": {
           "color": "#2a3f5f"
          },
          "geo": {
           "bgcolor": "white",
           "lakecolor": "white",
           "landcolor": "#E5ECF6",
           "showlakes": true,
           "showland": true,
           "subunitcolor": "white"
          },
          "hoverlabel": {
           "align": "left"
          },
          "hovermode": "closest",
          "mapbox": {
           "style": "light"
          },
          "paper_bgcolor": "white",
          "plot_bgcolor": "#E5ECF6",
          "polar": {
           "angularaxis": {
            "gridcolor": "white",
            "linecolor": "white",
            "ticks": ""
           },
           "bgcolor": "#E5ECF6",
           "radialaxis": {
            "gridcolor": "white",
            "linecolor": "white",
            "ticks": ""
           }
          },
          "scene": {
           "xaxis": {
            "backgroundcolor": "#E5ECF6",
            "gridcolor": "white",
            "gridwidth": 2,
            "linecolor": "white",
            "showbackground": true,
            "ticks": "",
            "zerolinecolor": "white"
           },
           "yaxis": {
            "backgroundcolor": "#E5ECF6",
            "gridcolor": "white",
            "gridwidth": 2,
            "linecolor": "white",
            "showbackground": true,
            "ticks": "",
            "zerolinecolor": "white"
           },
           "zaxis": {
            "backgroundcolor": "#E5ECF6",
            "gridcolor": "white",
            "gridwidth": 2,
            "linecolor": "white",
            "showbackground": true,
            "ticks": "",
            "zerolinecolor": "white"
           }
          },
          "shapedefaults": {
           "line": {
            "color": "#2a3f5f"
           }
          },
          "ternary": {
           "aaxis": {
            "gridcolor": "white",
            "linecolor": "white",
            "ticks": ""
           },
           "baxis": {
            "gridcolor": "white",
            "linecolor": "white",
            "ticks": ""
           },
           "bgcolor": "#E5ECF6",
           "caxis": {
            "gridcolor": "white",
            "linecolor": "white",
            "ticks": ""
           }
          },
          "title": {
           "x": 0.05
          },
          "xaxis": {
           "automargin": true,
           "gridcolor": "white",
           "linecolor": "white",
           "ticks": "",
           "title": {
            "standoff": 15
           },
           "zerolinecolor": "white",
           "zerolinewidth": 2
          },
          "yaxis": {
           "automargin": true,
           "gridcolor": "white",
           "linecolor": "white",
           "ticks": "",
           "title": {
            "standoff": 15
           },
           "zerolinecolor": "white",
           "zerolinewidth": 2
          }
         }
        },
        "title": {
         "text": "Occupancy Data by Date"
        },
        "xaxis": {
         "title": {
          "text": "Date"
         }
        },
        "yaxis": {
         "title": {
          "text": "Availability"
         }
        }
       }
      }
     },
     "metadata": {},
     "output_type": "display_data"
    }
   ],
   "source": [
    "miami_example_by_pull_time = miami_example.groupby(['id','pulled'])['available','min_nights','available_for_checkin','available_for_checkout','bookable'].mean().reset_index()\n",
    "miami_example_by_pull_time_count = miami_example.groupby(['pulled','date'])['available','min_nights','available_for_checkin','available_for_checkout','bookable'].count().reset_index()\n",
    "\n",
    "# Create traces\n",
    "miami_example_grouped_fig = go.Figure()\n",
    "miami_example_grouped_fig.add_trace(go.Scatter(x=miami_example_by_pull_time['pulled'], y=miami_example_by_pull_time['available'],\n",
    "                    mode='lines',\n",
    "                    name='Available'))\n",
    "miami_example_grouped_fig.add_trace(go.Scatter(x=miami_example_by_pull_time['pulled'], y=miami_example_by_pull_time['available_for_checkin'],\n",
    "                    mode='lines', \n",
    "                    name='Available for Check In'))\n",
    "miami_example_grouped_fig.add_trace(go.Scatter(x=miami_example_by_pull_time['pulled'], y=miami_example_by_pull_time['available_for_checkout'],\n",
    "                    mode='lines', \n",
    "                    name='Available for Check Out'))\n",
    "miami_example_grouped_fig.add_trace(go.Scatter(x=miami_example_by_pull_time['pulled'], y=miami_example_by_pull_time['bookable'],\n",
    "                    mode='lines', \n",
    "                    name='Bookable'))\n",
    "miami_example_grouped_fig.update_layout(title_text=\"Occupancy Data by Date\", xaxis_title='Date', yaxis_title='Availability')\n",
    "filename = \"newsletter_features/occupancy_data_line_fig_miami_example.png\"\n",
    "miami_example_grouped_fig.write_image(filename, engine='kaleido', width=2000, height=500)\n",
    "miami_example_grouped_fig.show()"
   ]
  },
  {
   "cell_type": "code",
   "execution_count": 21,
   "metadata": {},
   "outputs": [
    {
     "name": "stderr",
     "output_type": "stream",
     "text": [
      "C:\\Users\\mattg\\AppData\\Local\\Temp\\ipykernel_3312\\2004464441.py:5: UserWarning:\n",
      "\n",
      "Parsing '19/04/2022' in DD/MM/YYYY format. Provide format or specify infer_datetime_format=True for consistent parsing.\n",
      "\n",
      "C:\\Users\\mattg\\AppData\\Local\\Temp\\ipykernel_3312\\2004464441.py:6: UserWarning:\n",
      "\n",
      "Parsing '21/04/2022' in DD/MM/YYYY format. Provide format or specify infer_datetime_format=True for consistent parsing.\n",
      "\n"
     ]
    },
    {
     "name": "stdout",
     "output_type": "stream",
     "text": [
      "(3733530, 11)\n",
      "(152730, 11)\n",
      "(2086890, 11)\n",
      "(1681, 8)\n",
      "(5608, 8)\n",
      "(1681, 15)\n"
     ]
    }
   ],
   "source": [
    "days_to_subtract = 30\n",
    "last_day_from = pd.to_datetime('05/31/2022')\n",
    "date_30_days_ago = last_day_from - timedelta(days=days_to_subtract)\n",
    "occ_data['pulled'] = pd.to_datetime(occ_data.pulled)\n",
    "pull_time_old_start = pd.to_datetime('19/04/2022')\n",
    "pull_time_old_end = pd.to_datetime('21/04/2022')\n",
    "pull_time_current_start = pd.to_datetime('04/05/2022')\n",
    "pull_time_current_end = pd.to_datetime('06/05/2022')\n",
    "\n",
    "\n",
    "occ_data_last30 = occ_data[(occ_data['date'] > str(date_30_days_ago)) & (occ_data['date'] <= str(last_day_from))]\n",
    "print(occ_data_last30.shape)\n",
    "#price_data_last30_avgs = price_data_last30.groupby(['id','pull_time']).mean().reset_index()\n",
    "occ_data_previous_pull = occ_data_last30[(occ_data_last30['pulled'] > str(pull_time_old_start)) & (occ_data_last30['pulled'] < str(pull_time_old_end))]\n",
    "print(occ_data_previous_pull.shape)\n",
    "occ_data_current_pull = occ_data_last30[(occ_data_last30['pulled'] > str(pull_time_current_start)) & (occ_data_last30['pulled'] < str(pull_time_current_end))]\n",
    "print(occ_data_current_pull.shape)\n",
    "occ_data_previous_pull_avgs = occ_data_previous_pull.groupby('id').mean().reset_index()\n",
    "print(occ_data_previous_pull_avgs.shape)\n",
    "occ_data_current_pull_avgs = occ_data_current_pull.groupby('id').mean().reset_index()\n",
    "print(occ_data_current_pull_avgs.shape)\n",
    "occ_trend = occ_data_previous_pull_avgs.merge(occ_data_current_pull_avgs, how='inner', on='id')\n",
    "print(occ_trend.shape)\n",
    "\n",
    "# Fix zero data remaining issue"
   ]
  },
  {
   "cell_type": "code",
   "execution_count": null,
   "metadata": {},
   "outputs": [],
   "source": []
  },
  {
   "cell_type": "code",
   "execution_count": 19,
   "metadata": {},
   "outputs": [
    {
     "data": {
      "text/plain": [
       "0          2022-04-19 06:22:01\n",
       "1          2022-04-19 06:22:01\n",
       "2          2022-04-19 06:22:01\n",
       "3          2022-04-19 06:22:01\n",
       "4          2022-04-19 06:22:01\n",
       "                   ...        \n",
       "45424610   2022-05-18 06:22:11\n",
       "45424611   2022-05-18 06:22:11\n",
       "45424612   2022-05-18 06:22:11\n",
       "45424613   2022-05-18 06:22:11\n",
       "45424614   2022-05-18 06:22:11\n",
       "Name: pulled, Length: 45424615, dtype: datetime64[ns]"
      ]
     },
     "execution_count": 19,
     "metadata": {},
     "output_type": "execute_result"
    }
   ],
   "source": []
  },
  {
   "cell_type": "code",
   "execution_count": 22,
   "metadata": {},
   "outputs": [],
   "source": [
    "# Look at occ data in head(10) statement above to figure out what delta calcs need to be made\n",
    "occ_trend['available_delta'] = occ_trend['available_y'] - occ_trend['available_x']\n",
    "occ_trend['available_for_checkin_delta'] = occ_trend['available_for_checkin_y'] - occ_trend['available_for_checkin_x']\n",
    "occ_trend['available_for_checkout_delta'] = occ_trend['available_for_checkout_y'] - occ_trend['available_for_checkout_x']\n",
    "occ_trend['bookable_delta'] = occ_trend['bookable_y'] - occ_trend['bookable_x']\n",
    "occ_trend['available_delta_pct'] = occ_trend['available_delta']/occ_trend['available_x']*100\n",
    "occ_trend['available_for_checkin_delta_pct'] = occ_trend['available_for_checkin_delta']/occ_trend['available_for_checkin_x']*100\n",
    "occ_trend['available_for_checkout_delta_pct'] = occ_trend['available_for_checkout_delta']/occ_trend['available_for_checkout_x']*100\n",
    "occ_trend['bookable_delta_pct'] = occ_trend['bookable_delta']/occ_trend['bookable_x']*100\n",
    "\n",
    "occ_data_w_listing_loc = pd.read_csv('post_mort_and_roi_calcs_june19.csv')\n",
    "occ_data_w_listing_loc = occ_data_w_listing_loc[['id','zipcode','City','Metro','CountyName','State']]\n",
    "occ_trend['id'] = occ_trend['id'].astype('float64')\n",
    "occ_trend_wloc = occ_trend.merge(occ_data_w_listing_loc, how='inner', on='id')"
   ]
  },
  {
   "cell_type": "code",
   "execution_count": 23,
   "metadata": {},
   "outputs": [
    {
     "data": {
      "application/vnd.plotly.v1+json": {
       "config": {
        "plotlyServerURL": "https://plot.ly"
       },
       "data": [
        {
         "cells": {
          "align": [
           "left",
           "left",
           "left",
           "left",
           "left"
          ],
          "fill": {
           "color": "rgb(245,245,245)"
          },
          "font": {
           "color": [
            "rgb(40,40,40)",
            [
             "rgb(255,0,0)",
             "rgb(255,0,0)",
             "rgb(255,0,0)",
             "rgb(255,0,0)",
             "rgb(0,125,0)",
             "rgb(255,0,0)",
             "rgb(255,0,0)",
             "rgb(255,0,0)",
             "rgb(255,0,0)",
             "rgb(255,0,0)",
             "rgb(0,125,0)",
             "rgb(255,0,0)",
             "rgb(255,0,0)",
             "rgb(255,0,0)"
            ],
            [
             "rgb(255,0,0)",
             "rgb(255,0,0)",
             "rgb(255,0,0)",
             "rgb(255,0,0)",
             "rgb(0,125,0)",
             "rgb(255,0,0)",
             "rgb(255,0,0)",
             "rgb(255,0,0)",
             "rgb(255,0,0)",
             "rgb(255,0,0)",
             "rgb(0,125,0)",
             "rgb(255,0,0)",
             "rgb(255,0,0)",
             "rgb(255,0,0)"
            ],
            [
             "rgb(255,0,0)",
             "rgb(255,0,0)",
             "rgb(255,0,0)",
             "rgb(255,0,0)",
             "rgb(0,125,0)",
             "rgb(255,0,0)",
             "rgb(255,0,0)",
             "rgb(255,0,0)",
             "rgb(255,0,0)",
             "rgb(255,0,0)",
             "rgb(0,125,0)",
             "rgb(255,0,0)",
             "rgb(255,0,0)",
             "rgb(255,0,0)"
            ],
            [
             "rgb(255,0,0)",
             "rgb(255,0,0)",
             "rgb(255,0,0)",
             "rgb(255,0,0)",
             "rgb(0,125,0)",
             "rgb(255,0,0)",
             "rgb(255,0,0)",
             "rgb(255,0,0)",
             "rgb(255,0,0)",
             "rgb(255,0,0)",
             "rgb(0,125,0)",
             "rgb(255,0,0)",
             "rgb(255,0,0)",
             "rgb(255,0,0)"
            ]
           ],
           "family": "Arial",
           "size": 14
          },
          "format": [
           null,
           ",.2f"
          ],
          "height": 30,
          "line": {
           "color": "#506784"
          },
          "values": [
           [
            33109,
            33125,
            33127,
            33131,
            33133,
            33137,
            33138,
            33139,
            33140,
            33141,
            33147,
            33150,
            33169,
            33175
           ],
           [
            -31.372549019607842,
            -21.190476190476183,
            -17.26699226699227,
            -34.18752384269625,
            7.857142857142863,
            -17.14285714285713,
            -26.870748299319725,
            -22.200408428478607,
            -19.365079365079364,
            -27.32954832846812,
            0,
            -20.748299319727888,
            -18.253968253968257,
            -14.920634920634923
           ],
           [
            -34.73389355742296,
            -30.272108843537417,
            -19.78021978021978,
            -36.82565746605155,
            27.380952380952383,
            -22.222222222222218,
            -29.255794910556816,
            -26.489898989898993,
            -20.63492063492064,
            -29.422302737520127,
            0,
            -19.04761904761905,
            -18.253968253968257,
            -14.920634920634923
           ],
           [
            -33.33333333333333,
            -26.190476190476193,
            -32.142857142857146,
            -39.008795437366864,
            0.27341079972659177,
            -16.66666666666667,
            -29.118015365350118,
            -27.032465121437554,
            -20.793650793650798,
            -35.944831665799754,
            0,
            -24.17582417582418,
            -20.899470899470902,
            -15.435139573070611
           ],
           [
            -31.372549019607842,
            -22.14285714285713,
            -26.327838827838825,
            -36.6704814980677,
            7.857142857142863,
            -14.81481481481482,
            -27.755102040816325,
            -25.259107364370525,
            -19.523809523809522,
            -28.785575363215116,
            0,
            -20.87912087912088,
            -18.253968253968257,
            -14.920634920634923
           ]
          ]
         },
         "columnorder": [
          0,
          1,
          2,
          3,
          4
         ],
         "columnwidth": [
          50,
          50,
          50,
          50,
          50
         ],
         "header": {
          "align": [
           "left",
           "left",
           "left",
           "left",
           "left"
          ],
          "font": {
           "color": [
            "rgb(45,45,45)",
            "rgb(45,45,45)",
            "rgb(45,45,45)",
            "rgb(45,45,45)"
           ],
           "size": 14
          },
          "height": 40,
          "line": {
           "color": "rgb(50,50,50)"
          },
          "values": [
           [
            "<b>Zip Code</b>"
           ],
           [
            "<b>Availability</b>"
           ],
           [
            "<b>Check-in Availability</b>"
           ],
           [
            "<b>Check-out Availability</b>"
           ],
           [
            "<b>Bookable</b>"
           ]
          ]
         },
         "type": "table"
        }
       ],
       "layout": {
        "autosize": false,
        "height": 650,
        "showlegend": false,
        "template": {
         "data": {
          "bar": [
           {
            "error_x": {
             "color": "#2a3f5f"
            },
            "error_y": {
             "color": "#2a3f5f"
            },
            "marker": {
             "line": {
              "color": "#E5ECF6",
              "width": 0.5
             },
             "pattern": {
              "fillmode": "overlay",
              "size": 10,
              "solidity": 0.2
             }
            },
            "type": "bar"
           }
          ],
          "barpolar": [
           {
            "marker": {
             "line": {
              "color": "#E5ECF6",
              "width": 0.5
             },
             "pattern": {
              "fillmode": "overlay",
              "size": 10,
              "solidity": 0.2
             }
            },
            "type": "barpolar"
           }
          ],
          "carpet": [
           {
            "aaxis": {
             "endlinecolor": "#2a3f5f",
             "gridcolor": "white",
             "linecolor": "white",
             "minorgridcolor": "white",
             "startlinecolor": "#2a3f5f"
            },
            "baxis": {
             "endlinecolor": "#2a3f5f",
             "gridcolor": "white",
             "linecolor": "white",
             "minorgridcolor": "white",
             "startlinecolor": "#2a3f5f"
            },
            "type": "carpet"
           }
          ],
          "choropleth": [
           {
            "colorbar": {
             "outlinewidth": 0,
             "ticks": ""
            },
            "type": "choropleth"
           }
          ],
          "contour": [
           {
            "colorbar": {
             "outlinewidth": 0,
             "ticks": ""
            },
            "colorscale": [
             [
              0,
              "#0d0887"
             ],
             [
              0.1111111111111111,
              "#46039f"
             ],
             [
              0.2222222222222222,
              "#7201a8"
             ],
             [
              0.3333333333333333,
              "#9c179e"
             ],
             [
              0.4444444444444444,
              "#bd3786"
             ],
             [
              0.5555555555555556,
              "#d8576b"
             ],
             [
              0.6666666666666666,
              "#ed7953"
             ],
             [
              0.7777777777777778,
              "#fb9f3a"
             ],
             [
              0.8888888888888888,
              "#fdca26"
             ],
             [
              1,
              "#f0f921"
             ]
            ],
            "type": "contour"
           }
          ],
          "contourcarpet": [
           {
            "colorbar": {
             "outlinewidth": 0,
             "ticks": ""
            },
            "type": "contourcarpet"
           }
          ],
          "heatmap": [
           {
            "colorbar": {
             "outlinewidth": 0,
             "ticks": ""
            },
            "colorscale": [
             [
              0,
              "#0d0887"
             ],
             [
              0.1111111111111111,
              "#46039f"
             ],
             [
              0.2222222222222222,
              "#7201a8"
             ],
             [
              0.3333333333333333,
              "#9c179e"
             ],
             [
              0.4444444444444444,
              "#bd3786"
             ],
             [
              0.5555555555555556,
              "#d8576b"
             ],
             [
              0.6666666666666666,
              "#ed7953"
             ],
             [
              0.7777777777777778,
              "#fb9f3a"
             ],
             [
              0.8888888888888888,
              "#fdca26"
             ],
             [
              1,
              "#f0f921"
             ]
            ],
            "type": "heatmap"
           }
          ],
          "heatmapgl": [
           {
            "colorbar": {
             "outlinewidth": 0,
             "ticks": ""
            },
            "colorscale": [
             [
              0,
              "#0d0887"
             ],
             [
              0.1111111111111111,
              "#46039f"
             ],
             [
              0.2222222222222222,
              "#7201a8"
             ],
             [
              0.3333333333333333,
              "#9c179e"
             ],
             [
              0.4444444444444444,
              "#bd3786"
             ],
             [
              0.5555555555555556,
              "#d8576b"
             ],
             [
              0.6666666666666666,
              "#ed7953"
             ],
             [
              0.7777777777777778,
              "#fb9f3a"
             ],
             [
              0.8888888888888888,
              "#fdca26"
             ],
             [
              1,
              "#f0f921"
             ]
            ],
            "type": "heatmapgl"
           }
          ],
          "histogram": [
           {
            "marker": {
             "pattern": {
              "fillmode": "overlay",
              "size": 10,
              "solidity": 0.2
             }
            },
            "type": "histogram"
           }
          ],
          "histogram2d": [
           {
            "colorbar": {
             "outlinewidth": 0,
             "ticks": ""
            },
            "colorscale": [
             [
              0,
              "#0d0887"
             ],
             [
              0.1111111111111111,
              "#46039f"
             ],
             [
              0.2222222222222222,
              "#7201a8"
             ],
             [
              0.3333333333333333,
              "#9c179e"
             ],
             [
              0.4444444444444444,
              "#bd3786"
             ],
             [
              0.5555555555555556,
              "#d8576b"
             ],
             [
              0.6666666666666666,
              "#ed7953"
             ],
             [
              0.7777777777777778,
              "#fb9f3a"
             ],
             [
              0.8888888888888888,
              "#fdca26"
             ],
             [
              1,
              "#f0f921"
             ]
            ],
            "type": "histogram2d"
           }
          ],
          "histogram2dcontour": [
           {
            "colorbar": {
             "outlinewidth": 0,
             "ticks": ""
            },
            "colorscale": [
             [
              0,
              "#0d0887"
             ],
             [
              0.1111111111111111,
              "#46039f"
             ],
             [
              0.2222222222222222,
              "#7201a8"
             ],
             [
              0.3333333333333333,
              "#9c179e"
             ],
             [
              0.4444444444444444,
              "#bd3786"
             ],
             [
              0.5555555555555556,
              "#d8576b"
             ],
             [
              0.6666666666666666,
              "#ed7953"
             ],
             [
              0.7777777777777778,
              "#fb9f3a"
             ],
             [
              0.8888888888888888,
              "#fdca26"
             ],
             [
              1,
              "#f0f921"
             ]
            ],
            "type": "histogram2dcontour"
           }
          ],
          "mesh3d": [
           {
            "colorbar": {
             "outlinewidth": 0,
             "ticks": ""
            },
            "type": "mesh3d"
           }
          ],
          "parcoords": [
           {
            "line": {
             "colorbar": {
              "outlinewidth": 0,
              "ticks": ""
             }
            },
            "type": "parcoords"
           }
          ],
          "pie": [
           {
            "automargin": true,
            "type": "pie"
           }
          ],
          "scatter": [
           {
            "fillpattern": {
             "fillmode": "overlay",
             "size": 10,
             "solidity": 0.2
            },
            "type": "scatter"
           }
          ],
          "scatter3d": [
           {
            "line": {
             "colorbar": {
              "outlinewidth": 0,
              "ticks": ""
             }
            },
            "marker": {
             "colorbar": {
              "outlinewidth": 0,
              "ticks": ""
             }
            },
            "type": "scatter3d"
           }
          ],
          "scattercarpet": [
           {
            "marker": {
             "colorbar": {
              "outlinewidth": 0,
              "ticks": ""
             }
            },
            "type": "scattercarpet"
           }
          ],
          "scattergeo": [
           {
            "marker": {
             "colorbar": {
              "outlinewidth": 0,
              "ticks": ""
             }
            },
            "type": "scattergeo"
           }
          ],
          "scattergl": [
           {
            "marker": {
             "colorbar": {
              "outlinewidth": 0,
              "ticks": ""
             }
            },
            "type": "scattergl"
           }
          ],
          "scattermapbox": [
           {
            "marker": {
             "colorbar": {
              "outlinewidth": 0,
              "ticks": ""
             }
            },
            "type": "scattermapbox"
           }
          ],
          "scatterpolar": [
           {
            "marker": {
             "colorbar": {
              "outlinewidth": 0,
              "ticks": ""
             }
            },
            "type": "scatterpolar"
           }
          ],
          "scatterpolargl": [
           {
            "marker": {
             "colorbar": {
              "outlinewidth": 0,
              "ticks": ""
             }
            },
            "type": "scatterpolargl"
           }
          ],
          "scatterternary": [
           {
            "marker": {
             "colorbar": {
              "outlinewidth": 0,
              "ticks": ""
             }
            },
            "type": "scatterternary"
           }
          ],
          "surface": [
           {
            "colorbar": {
             "outlinewidth": 0,
             "ticks": ""
            },
            "colorscale": [
             [
              0,
              "#0d0887"
             ],
             [
              0.1111111111111111,
              "#46039f"
             ],
             [
              0.2222222222222222,
              "#7201a8"
             ],
             [
              0.3333333333333333,
              "#9c179e"
             ],
             [
              0.4444444444444444,
              "#bd3786"
             ],
             [
              0.5555555555555556,
              "#d8576b"
             ],
             [
              0.6666666666666666,
              "#ed7953"
             ],
             [
              0.7777777777777778,
              "#fb9f3a"
             ],
             [
              0.8888888888888888,
              "#fdca26"
             ],
             [
              1,
              "#f0f921"
             ]
            ],
            "type": "surface"
           }
          ],
          "table": [
           {
            "cells": {
             "fill": {
              "color": "#EBF0F8"
             },
             "line": {
              "color": "white"
             }
            },
            "header": {
             "fill": {
              "color": "#C8D4E3"
             },
             "line": {
              "color": "white"
             }
            },
            "type": "table"
           }
          ]
         },
         "layout": {
          "annotationdefaults": {
           "arrowcolor": "#2a3f5f",
           "arrowhead": 0,
           "arrowwidth": 1
          },
          "autotypenumbers": "strict",
          "coloraxis": {
           "colorbar": {
            "outlinewidth": 0,
            "ticks": ""
           }
          },
          "colorscale": {
           "diverging": [
            [
             0,
             "#8e0152"
            ],
            [
             0.1,
             "#c51b7d"
            ],
            [
             0.2,
             "#de77ae"
            ],
            [
             0.3,
             "#f1b6da"
            ],
            [
             0.4,
             "#fde0ef"
            ],
            [
             0.5,
             "#f7f7f7"
            ],
            [
             0.6,
             "#e6f5d0"
            ],
            [
             0.7,
             "#b8e186"
            ],
            [
             0.8,
             "#7fbc41"
            ],
            [
             0.9,
             "#4d9221"
            ],
            [
             1,
             "#276419"
            ]
           ],
           "sequential": [
            [
             0,
             "#0d0887"
            ],
            [
             0.1111111111111111,
             "#46039f"
            ],
            [
             0.2222222222222222,
             "#7201a8"
            ],
            [
             0.3333333333333333,
             "#9c179e"
            ],
            [
             0.4444444444444444,
             "#bd3786"
            ],
            [
             0.5555555555555556,
             "#d8576b"
            ],
            [
             0.6666666666666666,
             "#ed7953"
            ],
            [
             0.7777777777777778,
             "#fb9f3a"
            ],
            [
             0.8888888888888888,
             "#fdca26"
            ],
            [
             1,
             "#f0f921"
            ]
           ],
           "sequentialminus": [
            [
             0,
             "#0d0887"
            ],
            [
             0.1111111111111111,
             "#46039f"
            ],
            [
             0.2222222222222222,
             "#7201a8"
            ],
            [
             0.3333333333333333,
             "#9c179e"
            ],
            [
             0.4444444444444444,
             "#bd3786"
            ],
            [
             0.5555555555555556,
             "#d8576b"
            ],
            [
             0.6666666666666666,
             "#ed7953"
            ],
            [
             0.7777777777777778,
             "#fb9f3a"
            ],
            [
             0.8888888888888888,
             "#fdca26"
            ],
            [
             1,
             "#f0f921"
            ]
           ]
          },
          "colorway": [
           "#636efa",
           "#EF553B",
           "#00cc96",
           "#ab63fa",
           "#FFA15A",
           "#19d3f3",
           "#FF6692",
           "#B6E880",
           "#FF97FF",
           "#FECB52"
          ],
          "font": {
           "color": "#2a3f5f"
          },
          "geo": {
           "bgcolor": "white",
           "lakecolor": "white",
           "landcolor": "#E5ECF6",
           "showlakes": true,
           "showland": true,
           "subunitcolor": "white"
          },
          "hoverlabel": {
           "align": "left"
          },
          "hovermode": "closest",
          "mapbox": {
           "style": "light"
          },
          "paper_bgcolor": "white",
          "plot_bgcolor": "#E5ECF6",
          "polar": {
           "angularaxis": {
            "gridcolor": "white",
            "linecolor": "white",
            "ticks": ""
           },
           "bgcolor": "#E5ECF6",
           "radialaxis": {
            "gridcolor": "white",
            "linecolor": "white",
            "ticks": ""
           }
          },
          "scene": {
           "xaxis": {
            "backgroundcolor": "#E5ECF6",
            "gridcolor": "white",
            "gridwidth": 2,
            "linecolor": "white",
            "showbackground": true,
            "ticks": "",
            "zerolinecolor": "white"
           },
           "yaxis": {
            "backgroundcolor": "#E5ECF6",
            "gridcolor": "white",
            "gridwidth": 2,
            "linecolor": "white",
            "showbackground": true,
            "ticks": "",
            "zerolinecolor": "white"
           },
           "zaxis": {
            "backgroundcolor": "#E5ECF6",
            "gridcolor": "white",
            "gridwidth": 2,
            "linecolor": "white",
            "showbackground": true,
            "ticks": "",
            "zerolinecolor": "white"
           }
          },
          "shapedefaults": {
           "line": {
            "color": "#2a3f5f"
           }
          },
          "ternary": {
           "aaxis": {
            "gridcolor": "white",
            "linecolor": "white",
            "ticks": ""
           },
           "baxis": {
            "gridcolor": "white",
            "linecolor": "white",
            "ticks": ""
           },
           "bgcolor": "#E5ECF6",
           "caxis": {
            "gridcolor": "white",
            "linecolor": "white",
            "ticks": ""
           }
          },
          "title": {
           "x": 0.05
          },
          "xaxis": {
           "automargin": true,
           "gridcolor": "white",
           "linecolor": "white",
           "ticks": "",
           "title": {
            "standoff": 15
           },
           "zerolinecolor": "white",
           "zerolinewidth": 2
          },
          "yaxis": {
           "automargin": true,
           "gridcolor": "white",
           "linecolor": "white",
           "ticks": "",
           "title": {
            "standoff": 15
           },
           "zerolinecolor": "white",
           "zerolinewidth": 2
          }
         }
        },
        "title": {
         "text": "Recent Occupancy Trends in Miami (%) (M/M)",
         "x": 0.5
        },
        "width": 850
       }
      }
     },
     "metadata": {},
     "output_type": "display_data"
    }
   ],
   "source": [
    "florida_occ_trends = occ_trend_wloc[occ_trend_wloc['State'] == 'FL']\n",
    "florida_occ_trends_zip = florida_occ_trends.groupby('zipcode').mean(['available_delta_pct','available_for_checkin_delta_pct','available_for_checkout_delta_pct','bookable_delta_pct']).reset_index()\n",
    "florida_occ_trends_city = florida_occ_trends.groupby('City').mean(['available_delta_pct','available_for_checkin_delta_pct','available_for_checkout_delta_pct','bookable_delta_pct']).reset_index()\n",
    "\"\"\"\n",
    "florida_price_trends_fig = go.Figure()\n",
    "florida_price_trends_fig.add_trace(go.Scatter(x=price_data_date['check_in'], y=price_data_date['cleaning_fee'],\n",
    "                    mode='lines',\n",
    "                    name='Cleaning Fee'))\n",
    "florida_price_trends_fig.add_trace(go.Scatter(x=price_data_date['check_in'], y=price_data_date['service_fee'],\n",
    "                    mode='lines',\n",
    "                    name='Service Fee'))\n",
    "florida_price_trends_fig.add_trace(go.Scatter(x=price_data_date['check_in'], y=price_data_date['total_price'],\n",
    "                    mode='lines', \n",
    "                    name='Total Price'))\n",
    "florida_price_trends_fig.update_layout(title_text=\"Pricing Data by Pull Time\", xaxis_title='Date', yaxis_title='Price ($)')\n",
    "filename = \"newsletter_features/florida_price_trends_fig_june19.png\"\n",
    "florida_price_trends_fig.write_image(filename, engine='kaleido', width=2000, height=500)\n",
    "florida_price_trends_fig.show()\n",
    "\"\"\"\n",
    "import plotly.graph_objects as go\n",
    "\n",
    "zips = florida_occ_trends_zip['zipcode']\n",
    "vals = [florida_occ_trends_zip['available_delta_pct'], florida_occ_trends_zip['available_for_checkin_delta_pct'], florida_occ_trends_zip['available_for_checkout_delta_pct'], florida_occ_trends_zip['bookable_delta_pct']]\n",
    "font_color = ['rgb(40,40,40)'] +  [['rgb(255,0,0)' if v < 0 else 'rgb(0,125,0)' for v in vals[k]] for k in range(4)]\n",
    "\n",
    "table_trace = go.Table(\n",
    "                 columnwidth= [50]+[50]+[50]+[50]+[50],\n",
    "                 columnorder=[0, 1, 2, 3, 4],\n",
    "                 header = dict(height = 40,\n",
    "                               values = [['<b>Zip Code</b>'], ['<b>Availability</b>'], ['<b>Check-in Availability</b>'], ['<b>Check-out Availability</b>'],['<b>Bookable</b>']],\n",
    "                               line = dict(color='rgb(50,50,50)'),\n",
    "                               align = ['left']*5,\n",
    "                               font = dict(color=['rgb(45,45,45)']*4, size=14),\n",
    "                             \n",
    "                              ),\n",
    "                 cells = dict(values = [zips, vals[0], vals[1], vals[2], vals[3]],\n",
    "                              line = dict(color='#506784'),\n",
    "                              align = ['left']*5,\n",
    "                              \n",
    "                              font = dict(family=\"Arial\", size=14, color=font_color),\n",
    "                              format = [None, \",.2f\"],  #add % sign here\n",
    "                              height = 30,\n",
    "                              fill = dict(color='rgb(245,245,245)'))\n",
    "                             )\n",
    "                 \n",
    "\n",
    "layout = go.Layout(width=850, height=650, autosize=False, \n",
    "              title_text='Recent Occupancy Trends in Miami (%) (M/M)',\n",
    "                   title_x=0.5, showlegend=False)\n",
    "florda_occ_trend_fig = go.Figure(data=[table_trace], layout=layout)\n",
    "filename = \"newsletter_features/florida_occ_trends_table_june19.png\"\n",
    "florda_occ_trend_fig.write_image(filename, engine='kaleido', width=875, height=700)\n",
    "florda_occ_trend_fig.show()\n",
    "\n",
    "# Look to do one price value and look and price change by day of the week"
   ]
  },
  {
   "cell_type": "code",
   "execution_count": null,
   "metadata": {},
   "outputs": [],
   "source": []
  }
 ],
 "metadata": {
  "kernelspec": {
   "display_name": "Python 3.10.4 64-bit",
   "language": "python",
   "name": "python3"
  },
  "language_info": {
   "codemirror_mode": {
    "name": "ipython",
    "version": 3
   },
   "file_extension": ".py",
   "mimetype": "text/x-python",
   "name": "python",
   "nbconvert_exporter": "python",
   "pygments_lexer": "ipython3",
   "version": "3.10.4"
  },
  "orig_nbformat": 4,
  "vscode": {
   "interpreter": {
    "hash": "8cda3f1edda61d067a8dccfe73833b0b57e2a1d4ac0e36527d0cd620f4d2a66c"
   }
  }
 },
 "nbformat": 4,
 "nbformat_minor": 2
}
