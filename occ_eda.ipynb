{
 "cells": [
  {
   "cell_type": "code",
   "execution_count": 1,
   "metadata": {},
   "outputs": [],
   "source": [
    "import pandas as pd\n",
    "import matplotlib.pyplot as plt\n",
    "import folium\n",
    "import numpy as np\n",
    "import seaborn as sns\n",
    "import os\n",
    "import fastparquet\n",
    "import warnings\n",
    "import geopy\n",
    "from geopy.point import Point\n",
    "import time\n",
    "from pandas.core.common import SettingWithCopyWarning\n",
    "import plotly.graph_objects as go\n",
    "import plotly.express as px\n",
    "from datetime import datetime, timedelta, date\n",
    "warnings.simplefilter(action='ignore', category=FutureWarning)\n",
    "warnings.simplefilter(action=\"ignore\", category=SettingWithCopyWarning)"
   ]
  },
  {
   "cell_type": "code",
   "execution_count": 2,
   "metadata": {},
   "outputs": [],
   "source": [
    "# Load in price data\n",
    "occ_data = pd.read_parquet('C:/Users/mattg/Desktop/Hobbies/airbnb_reports/bucket_data/occupancy')\n",
    "occ_data.id = occ_data.id.astype('str')\n",
    "miami_example = occ_data[occ_data['id'] == '52364652.0']\n",
    "#start_time = time.time()\n",
    "#miami_example['pulled'] = pd.to_datetime(miami_example['pulled'])\n",
    "#print('done with datatype change')\n",
    "#middle_time = time.time()\n",
    "#miami_example['pulled'] = miami_example['pulled'].dt.date\n",
    "#print('done with change to date')\n",
    "#end_time = time.time()\n",
    "\n",
    "#print('Start Time '+ str(start_time))\n",
    "#print('Middle Time '+ str(middle_time-start_time))\n",
    "#print('End Time '+ str(end_time-start_time))\n"
   ]
  },
  {
   "cell_type": "code",
   "execution_count": 3,
   "metadata": {},
   "outputs": [
    {
     "data": {
      "application/vnd.plotly.v1+json": {
       "config": {
        "plotlyServerURL": "https://plot.ly"
       },
       "data": [
        {
         "mode": "lines",
         "name": "Available",
         "type": "scatter",
         "x": [
          "01/05/2022 06:21:58",
          "02/05/2022 06:21:44",
          "03/05/2022 06:21:45",
          "04/05/2022 06:21:55",
          "05/05/2022 06:21:53",
          "06/05/2022 06:21:46",
          "07/05/2022 06:21:53",
          "08/05/2022 06:21:48",
          "09/05/2022 06:21:52",
          "10/05/2022 06:22:32",
          "11/05/2022 06:22:37",
          "12/05/2022 06:22:27",
          "13/05/2022 06:21:56",
          "14/05/2022 06:21:49",
          "15/05/2022 06:21:49",
          "16/05/2022 06:21:46",
          "17/05/2022 06:21:48",
          "18/04/2022 23:52:12",
          "18/05/2022 06:22:08",
          "19/04/2022 00:32:09",
          "19/04/2022 06:21:39",
          "20/04/2022 06:21:51",
          "21/04/2022 06:21:58",
          "22/04/2022 06:21:37",
          "23/04/2022 06:22:08",
          "24/04/2022 06:21:38",
          "27/04/2022 23:10:11",
          "27/04/2022 23:34:25",
          "28/04/2022 20:05:14",
          "29/04/2022 06:21:47",
          "30/04/2022 06:22:10"
         ],
         "y": [
          0.09041095890410959,
          0.08767123287671233,
          0.08767123287671233,
          0.08767123287671233,
          0.08767123287671233,
          0.08767123287671233,
          0.08767123287671233,
          0.08767123287671233,
          0.08767123287671233,
          0.08767123287671233,
          0.12876712328767123,
          0.12876712328767123,
          0.12876712328767123,
          0.12876712328767123,
          0.12876712328767123,
          0.12876712328767123,
          0.1178082191780822,
          0.0821917808219178,
          0.08493150684931507,
          0.0821917808219178,
          0.0821917808219178,
          0.0821917808219178,
          0.0821917808219178,
          0.0821917808219178,
          0.10136986301369863,
          0.10136986301369863,
          0.09041095890410959,
          0.09041095890410959,
          0.09041095890410959,
          0.09041095890410959,
          0.09041095890410959
         ]
        },
        {
         "mode": "lines",
         "name": "Available for Check In",
         "type": "scatter",
         "x": [
          "01/05/2022 06:21:58",
          "02/05/2022 06:21:44",
          "03/05/2022 06:21:45",
          "04/05/2022 06:21:55",
          "05/05/2022 06:21:53",
          "06/05/2022 06:21:46",
          "07/05/2022 06:21:53",
          "08/05/2022 06:21:48",
          "09/05/2022 06:21:52",
          "10/05/2022 06:22:32",
          "11/05/2022 06:22:37",
          "12/05/2022 06:22:27",
          "13/05/2022 06:21:56",
          "14/05/2022 06:21:49",
          "15/05/2022 06:21:49",
          "16/05/2022 06:21:46",
          "17/05/2022 06:21:48",
          "18/04/2022 23:52:12",
          "18/05/2022 06:22:08",
          "19/04/2022 00:32:09",
          "19/04/2022 06:21:39",
          "20/04/2022 06:21:51",
          "21/04/2022 06:21:58",
          "22/04/2022 06:21:37",
          "23/04/2022 06:22:08",
          "24/04/2022 06:21:38",
          "27/04/2022 23:10:11",
          "27/04/2022 23:34:25",
          "28/04/2022 20:05:14",
          "29/04/2022 06:21:47",
          "30/04/2022 06:22:10"
         ],
         "y": [
          0.06575342465753424,
          0.06575342465753424,
          0.06575342465753424,
          0.06575342465753424,
          0.06575342465753424,
          0.06575342465753424,
          0.06575342465753424,
          0.06575342465753424,
          0.06575342465753424,
          0.06575342465753424,
          0.10684931506849316,
          0.10684931506849316,
          0.10684931506849316,
          0.10684931506849316,
          0.10684931506849316,
          0.10684931506849316,
          0.08493150684931507,
          0.052054794520547946,
          0.052054794520547946,
          0.052054794520547946,
          0.052054794520547946,
          0.052054794520547946,
          0.052054794520547946,
          0.052054794520547946,
          0.07123287671232877,
          0.07123287671232877,
          0.06575342465753424,
          0.06575342465753424,
          0.06575342465753424,
          0.06575342465753424,
          0.06575342465753424
         ]
        },
        {
         "mode": "lines",
         "name": "Available for Check Out",
         "type": "scatter",
         "x": [
          "01/05/2022 06:21:58",
          "02/05/2022 06:21:44",
          "03/05/2022 06:21:45",
          "04/05/2022 06:21:55",
          "05/05/2022 06:21:53",
          "06/05/2022 06:21:46",
          "07/05/2022 06:21:53",
          "08/05/2022 06:21:48",
          "09/05/2022 06:21:52",
          "10/05/2022 06:22:32",
          "11/05/2022 06:22:37",
          "12/05/2022 06:22:27",
          "13/05/2022 06:21:56",
          "14/05/2022 06:21:49",
          "15/05/2022 06:21:49",
          "16/05/2022 06:21:46",
          "17/05/2022 06:21:48",
          "18/04/2022 23:52:12",
          "18/05/2022 06:22:08",
          "19/04/2022 00:32:09",
          "19/04/2022 06:21:39",
          "20/04/2022 06:21:51",
          "21/04/2022 06:21:58",
          "22/04/2022 06:21:37",
          "23/04/2022 06:22:08",
          "24/04/2022 06:21:38",
          "27/04/2022 23:10:11",
          "27/04/2022 23:34:25",
          "28/04/2022 20:05:14",
          "29/04/2022 06:21:47",
          "30/04/2022 06:22:10"
         ],
         "y": [
          0.08767123287671233,
          0.08767123287671233,
          0.08767123287671233,
          0.08767123287671233,
          0.08767123287671233,
          0.08767123287671233,
          0.08767123287671233,
          0.08767123287671233,
          0.08767123287671233,
          0.08767123287671233,
          0.12876712328767123,
          0.12876712328767123,
          0.12876712328767123,
          0.12876712328767123,
          0.12876712328767123,
          0.12876712328767123,
          0.1178082191780822,
          0.0821917808219178,
          0.08493150684931507,
          0.0821917808219178,
          0.0821917808219178,
          0.0821917808219178,
          0.0821917808219178,
          0.0821917808219178,
          0.10136986301369863,
          0.10136986301369863,
          0.08767123287671233,
          0.08767123287671233,
          0.08767123287671233,
          0.08767123287671233,
          0.08767123287671233
         ]
        },
        {
         "mode": "lines",
         "name": "Bookable",
         "type": "scatter",
         "x": [
          "01/05/2022 06:21:58",
          "02/05/2022 06:21:44",
          "03/05/2022 06:21:45",
          "04/05/2022 06:21:55",
          "05/05/2022 06:21:53",
          "06/05/2022 06:21:46",
          "07/05/2022 06:21:53",
          "08/05/2022 06:21:48",
          "09/05/2022 06:21:52",
          "10/05/2022 06:22:32",
          "11/05/2022 06:22:37",
          "12/05/2022 06:22:27",
          "13/05/2022 06:21:56",
          "14/05/2022 06:21:49",
          "15/05/2022 06:21:49",
          "16/05/2022 06:21:46",
          "17/05/2022 06:21:48",
          "18/04/2022 23:52:12",
          "18/05/2022 06:22:08",
          "19/04/2022 00:32:09",
          "19/04/2022 06:21:39",
          "20/04/2022 06:21:51",
          "21/04/2022 06:21:58",
          "22/04/2022 06:21:37",
          "23/04/2022 06:22:08",
          "24/04/2022 06:21:38",
          "27/04/2022 23:10:11",
          "27/04/2022 23:34:25",
          "28/04/2022 20:05:14",
          "29/04/2022 06:21:47",
          "30/04/2022 06:22:10"
         ],
         "y": [
          0.08767123287671233,
          0.08767123287671233,
          0.08767123287671233,
          0.08767123287671233,
          0.08767123287671233,
          0.08767123287671233,
          0.08767123287671233,
          0.08767123287671233,
          0.08767123287671233,
          0.08767123287671233,
          0.12876712328767123,
          0.12876712328767123,
          0.12876712328767123,
          0.12876712328767123,
          0.12876712328767123,
          0.12876712328767123,
          0.1178082191780822,
          0.0821917808219178,
          0.08493150684931507,
          0.0821917808219178,
          0.0821917808219178,
          0.0821917808219178,
          0.0821917808219178,
          0.0821917808219178,
          0.10136986301369863,
          0.10136986301369863,
          0.08767123287671233,
          0.08767123287671233,
          0.08767123287671233,
          0.08767123287671233,
          0.08767123287671233
         ]
        }
       ],
       "layout": {
        "template": {
         "data": {
          "bar": [
           {
            "error_x": {
             "color": "#2a3f5f"
            },
            "error_y": {
             "color": "#2a3f5f"
            },
            "marker": {
             "line": {
              "color": "#E5ECF6",
              "width": 0.5
             },
             "pattern": {
              "fillmode": "overlay",
              "size": 10,
              "solidity": 0.2
             }
            },
            "type": "bar"
           }
          ],
          "barpolar": [
           {
            "marker": {
             "line": {
              "color": "#E5ECF6",
              "width": 0.5
             },
             "pattern": {
              "fillmode": "overlay",
              "size": 10,
              "solidity": 0.2
             }
            },
            "type": "barpolar"
           }
          ],
          "carpet": [
           {
            "aaxis": {
             "endlinecolor": "#2a3f5f",
             "gridcolor": "white",
             "linecolor": "white",
             "minorgridcolor": "white",
             "startlinecolor": "#2a3f5f"
            },
            "baxis": {
             "endlinecolor": "#2a3f5f",
             "gridcolor": "white",
             "linecolor": "white",
             "minorgridcolor": "white",
             "startlinecolor": "#2a3f5f"
            },
            "type": "carpet"
           }
          ],
          "choropleth": [
           {
            "colorbar": {
             "outlinewidth": 0,
             "ticks": ""
            },
            "type": "choropleth"
           }
          ],
          "contour": [
           {
            "colorbar": {
             "outlinewidth": 0,
             "ticks": ""
            },
            "colorscale": [
             [
              0,
              "#0d0887"
             ],
             [
              0.1111111111111111,
              "#46039f"
             ],
             [
              0.2222222222222222,
              "#7201a8"
             ],
             [
              0.3333333333333333,
              "#9c179e"
             ],
             [
              0.4444444444444444,
              "#bd3786"
             ],
             [
              0.5555555555555556,
              "#d8576b"
             ],
             [
              0.6666666666666666,
              "#ed7953"
             ],
             [
              0.7777777777777778,
              "#fb9f3a"
             ],
             [
              0.8888888888888888,
              "#fdca26"
             ],
             [
              1,
              "#f0f921"
             ]
            ],
            "type": "contour"
           }
          ],
          "contourcarpet": [
           {
            "colorbar": {
             "outlinewidth": 0,
             "ticks": ""
            },
            "type": "contourcarpet"
           }
          ],
          "heatmap": [
           {
            "colorbar": {
             "outlinewidth": 0,
             "ticks": ""
            },
            "colorscale": [
             [
              0,
              "#0d0887"
             ],
             [
              0.1111111111111111,
              "#46039f"
             ],
             [
              0.2222222222222222,
              "#7201a8"
             ],
             [
              0.3333333333333333,
              "#9c179e"
             ],
             [
              0.4444444444444444,
              "#bd3786"
             ],
             [
              0.5555555555555556,
              "#d8576b"
             ],
             [
              0.6666666666666666,
              "#ed7953"
             ],
             [
              0.7777777777777778,
              "#fb9f3a"
             ],
             [
              0.8888888888888888,
              "#fdca26"
             ],
             [
              1,
              "#f0f921"
             ]
            ],
            "type": "heatmap"
           }
          ],
          "heatmapgl": [
           {
            "colorbar": {
             "outlinewidth": 0,
             "ticks": ""
            },
            "colorscale": [
             [
              0,
              "#0d0887"
             ],
             [
              0.1111111111111111,
              "#46039f"
             ],
             [
              0.2222222222222222,
              "#7201a8"
             ],
             [
              0.3333333333333333,
              "#9c179e"
             ],
             [
              0.4444444444444444,
              "#bd3786"
             ],
             [
              0.5555555555555556,
              "#d8576b"
             ],
             [
              0.6666666666666666,
              "#ed7953"
             ],
             [
              0.7777777777777778,
              "#fb9f3a"
             ],
             [
              0.8888888888888888,
              "#fdca26"
             ],
             [
              1,
              "#f0f921"
             ]
            ],
            "type": "heatmapgl"
           }
          ],
          "histogram": [
           {
            "marker": {
             "pattern": {
              "fillmode": "overlay",
              "size": 10,
              "solidity": 0.2
             }
            },
            "type": "histogram"
           }
          ],
          "histogram2d": [
           {
            "colorbar": {
             "outlinewidth": 0,
             "ticks": ""
            },
            "colorscale": [
             [
              0,
              "#0d0887"
             ],
             [
              0.1111111111111111,
              "#46039f"
             ],
             [
              0.2222222222222222,
              "#7201a8"
             ],
             [
              0.3333333333333333,
              "#9c179e"
             ],
             [
              0.4444444444444444,
              "#bd3786"
             ],
             [
              0.5555555555555556,
              "#d8576b"
             ],
             [
              0.6666666666666666,
              "#ed7953"
             ],
             [
              0.7777777777777778,
              "#fb9f3a"
             ],
             [
              0.8888888888888888,
              "#fdca26"
             ],
             [
              1,
              "#f0f921"
             ]
            ],
            "type": "histogram2d"
           }
          ],
          "histogram2dcontour": [
           {
            "colorbar": {
             "outlinewidth": 0,
             "ticks": ""
            },
            "colorscale": [
             [
              0,
              "#0d0887"
             ],
             [
              0.1111111111111111,
              "#46039f"
             ],
             [
              0.2222222222222222,
              "#7201a8"
             ],
             [
              0.3333333333333333,
              "#9c179e"
             ],
             [
              0.4444444444444444,
              "#bd3786"
             ],
             [
              0.5555555555555556,
              "#d8576b"
             ],
             [
              0.6666666666666666,
              "#ed7953"
             ],
             [
              0.7777777777777778,
              "#fb9f3a"
             ],
             [
              0.8888888888888888,
              "#fdca26"
             ],
             [
              1,
              "#f0f921"
             ]
            ],
            "type": "histogram2dcontour"
           }
          ],
          "mesh3d": [
           {
            "colorbar": {
             "outlinewidth": 0,
             "ticks": ""
            },
            "type": "mesh3d"
           }
          ],
          "parcoords": [
           {
            "line": {
             "colorbar": {
              "outlinewidth": 0,
              "ticks": ""
             }
            },
            "type": "parcoords"
           }
          ],
          "pie": [
           {
            "automargin": true,
            "type": "pie"
           }
          ],
          "scatter": [
           {
            "fillpattern": {
             "fillmode": "overlay",
             "size": 10,
             "solidity": 0.2
            },
            "type": "scatter"
           }
          ],
          "scatter3d": [
           {
            "line": {
             "colorbar": {
              "outlinewidth": 0,
              "ticks": ""
             }
            },
            "marker": {
             "colorbar": {
              "outlinewidth": 0,
              "ticks": ""
             }
            },
            "type": "scatter3d"
           }
          ],
          "scattercarpet": [
           {
            "marker": {
             "colorbar": {
              "outlinewidth": 0,
              "ticks": ""
             }
            },
            "type": "scattercarpet"
           }
          ],
          "scattergeo": [
           {
            "marker": {
             "colorbar": {
              "outlinewidth": 0,
              "ticks": ""
             }
            },
            "type": "scattergeo"
           }
          ],
          "scattergl": [
           {
            "marker": {
             "colorbar": {
              "outlinewidth": 0,
              "ticks": ""
             }
            },
            "type": "scattergl"
           }
          ],
          "scattermapbox": [
           {
            "marker": {
             "colorbar": {
              "outlinewidth": 0,
              "ticks": ""
             }
            },
            "type": "scattermapbox"
           }
          ],
          "scatterpolar": [
           {
            "marker": {
             "colorbar": {
              "outlinewidth": 0,
              "ticks": ""
             }
            },
            "type": "scatterpolar"
           }
          ],
          "scatterpolargl": [
           {
            "marker": {
             "colorbar": {
              "outlinewidth": 0,
              "ticks": ""
             }
            },
            "type": "scatterpolargl"
           }
          ],
          "scatterternary": [
           {
            "marker": {
             "colorbar": {
              "outlinewidth": 0,
              "ticks": ""
             }
            },
            "type": "scatterternary"
           }
          ],
          "surface": [
           {
            "colorbar": {
             "outlinewidth": 0,
             "ticks": ""
            },
            "colorscale": [
             [
              0,
              "#0d0887"
             ],
             [
              0.1111111111111111,
              "#46039f"
             ],
             [
              0.2222222222222222,
              "#7201a8"
             ],
             [
              0.3333333333333333,
              "#9c179e"
             ],
             [
              0.4444444444444444,
              "#bd3786"
             ],
             [
              0.5555555555555556,
              "#d8576b"
             ],
             [
              0.6666666666666666,
              "#ed7953"
             ],
             [
              0.7777777777777778,
              "#fb9f3a"
             ],
             [
              0.8888888888888888,
              "#fdca26"
             ],
             [
              1,
              "#f0f921"
             ]
            ],
            "type": "surface"
           }
          ],
          "table": [
           {
            "cells": {
             "fill": {
              "color": "#EBF0F8"
             },
             "line": {
              "color": "white"
             }
            },
            "header": {
             "fill": {
              "color": "#C8D4E3"
             },
             "line": {
              "color": "white"
             }
            },
            "type": "table"
           }
          ]
         },
         "layout": {
          "annotationdefaults": {
           "arrowcolor": "#2a3f5f",
           "arrowhead": 0,
           "arrowwidth": 1
          },
          "autotypenumbers": "strict",
          "coloraxis": {
           "colorbar": {
            "outlinewidth": 0,
            "ticks": ""
           }
          },
          "colorscale": {
           "diverging": [
            [
             0,
             "#8e0152"
            ],
            [
             0.1,
             "#c51b7d"
            ],
            [
             0.2,
             "#de77ae"
            ],
            [
             0.3,
             "#f1b6da"
            ],
            [
             0.4,
             "#fde0ef"
            ],
            [
             0.5,
             "#f7f7f7"
            ],
            [
             0.6,
             "#e6f5d0"
            ],
            [
             0.7,
             "#b8e186"
            ],
            [
             0.8,
             "#7fbc41"
            ],
            [
             0.9,
             "#4d9221"
            ],
            [
             1,
             "#276419"
            ]
           ],
           "sequential": [
            [
             0,
             "#0d0887"
            ],
            [
             0.1111111111111111,
             "#46039f"
            ],
            [
             0.2222222222222222,
             "#7201a8"
            ],
            [
             0.3333333333333333,
             "#9c179e"
            ],
            [
             0.4444444444444444,
             "#bd3786"
            ],
            [
             0.5555555555555556,
             "#d8576b"
            ],
            [
             0.6666666666666666,
             "#ed7953"
            ],
            [
             0.7777777777777778,
             "#fb9f3a"
            ],
            [
             0.8888888888888888,
             "#fdca26"
            ],
            [
             1,
             "#f0f921"
            ]
           ],
           "sequentialminus": [
            [
             0,
             "#0d0887"
            ],
            [
             0.1111111111111111,
             "#46039f"
            ],
            [
             0.2222222222222222,
             "#7201a8"
            ],
            [
             0.3333333333333333,
             "#9c179e"
            ],
            [
             0.4444444444444444,
             "#bd3786"
            ],
            [
             0.5555555555555556,
             "#d8576b"
            ],
            [
             0.6666666666666666,
             "#ed7953"
            ],
            [
             0.7777777777777778,
             "#fb9f3a"
            ],
            [
             0.8888888888888888,
             "#fdca26"
            ],
            [
             1,
             "#f0f921"
            ]
           ]
          },
          "colorway": [
           "#636efa",
           "#EF553B",
           "#00cc96",
           "#ab63fa",
           "#FFA15A",
           "#19d3f3",
           "#FF6692",
           "#B6E880",
           "#FF97FF",
           "#FECB52"
          ],
          "font": {
           "color": "#2a3f5f"
          },
          "geo": {
           "bgcolor": "white",
           "lakecolor": "white",
           "landcolor": "#E5ECF6",
           "showlakes": true,
           "showland": true,
           "subunitcolor": "white"
          },
          "hoverlabel": {
           "align": "left"
          },
          "hovermode": "closest",
          "mapbox": {
           "style": "light"
          },
          "paper_bgcolor": "white",
          "plot_bgcolor": "#E5ECF6",
          "polar": {
           "angularaxis": {
            "gridcolor": "white",
            "linecolor": "white",
            "ticks": ""
           },
           "bgcolor": "#E5ECF6",
           "radialaxis": {
            "gridcolor": "white",
            "linecolor": "white",
            "ticks": ""
           }
          },
          "scene": {
           "xaxis": {
            "backgroundcolor": "#E5ECF6",
            "gridcolor": "white",
            "gridwidth": 2,
            "linecolor": "white",
            "showbackground": true,
            "ticks": "",
            "zerolinecolor": "white"
           },
           "yaxis": {
            "backgroundcolor": "#E5ECF6",
            "gridcolor": "white",
            "gridwidth": 2,
            "linecolor": "white",
            "showbackground": true,
            "ticks": "",
            "zerolinecolor": "white"
           },
           "zaxis": {
            "backgroundcolor": "#E5ECF6",
            "gridcolor": "white",
            "gridwidth": 2,
            "linecolor": "white",
            "showbackground": true,
            "ticks": "",
            "zerolinecolor": "white"
           }
          },
          "shapedefaults": {
           "line": {
            "color": "#2a3f5f"
           }
          },
          "ternary": {
           "aaxis": {
            "gridcolor": "white",
            "linecolor": "white",
            "ticks": ""
           },
           "baxis": {
            "gridcolor": "white",
            "linecolor": "white",
            "ticks": ""
           },
           "bgcolor": "#E5ECF6",
           "caxis": {
            "gridcolor": "white",
            "linecolor": "white",
            "ticks": ""
           }
          },
          "title": {
           "x": 0.05
          },
          "xaxis": {
           "automargin": true,
           "gridcolor": "white",
           "linecolor": "white",
           "ticks": "",
           "title": {
            "standoff": 15
           },
           "zerolinecolor": "white",
           "zerolinewidth": 2
          },
          "yaxis": {
           "automargin": true,
           "gridcolor": "white",
           "linecolor": "white",
           "ticks": "",
           "title": {
            "standoff": 15
           },
           "zerolinecolor": "white",
           "zerolinewidth": 2
          }
         }
        },
        "title": {
         "text": "Occupancy Data by Date"
        },
        "xaxis": {
         "title": {
          "text": "Date"
         }
        },
        "yaxis": {
         "title": {
          "text": "Availability"
         }
        }
       }
      }
     },
     "metadata": {},
     "output_type": "display_data"
    }
   ],
   "source": [
    "miami_example_by_pull_time = miami_example.groupby(['id','pulled'])['available','min_nights','available_for_checkin','available_for_checkout','bookable'].mean().reset_index()\n",
    "miami_example_by_pull_time_count = miami_example.groupby(['pulled','date'])['available','min_nights','available_for_checkin','available_for_checkout','bookable'].count().reset_index()\n",
    "\n",
    "# Create traces\n",
    "miami_example_grouped_fig = go.Figure()\n",
    "miami_example_grouped_fig.add_trace(go.Scatter(x=miami_example_by_pull_time['pulled'], y=miami_example_by_pull_time['available'],\n",
    "                    mode='lines',\n",
    "                    name='Available'))\n",
    "miami_example_grouped_fig.add_trace(go.Scatter(x=miami_example_by_pull_time['pulled'], y=miami_example_by_pull_time['available_for_checkin'],\n",
    "                    mode='lines', \n",
    "                    name='Available for Check In'))\n",
    "miami_example_grouped_fig.add_trace(go.Scatter(x=miami_example_by_pull_time['pulled'], y=miami_example_by_pull_time['available_for_checkout'],\n",
    "                    mode='lines', \n",
    "                    name='Available for Check Out'))\n",
    "miami_example_grouped_fig.add_trace(go.Scatter(x=miami_example_by_pull_time['pulled'], y=miami_example_by_pull_time['bookable'],\n",
    "                    mode='lines', \n",
    "                    name='Bookable'))\n",
    "miami_example_grouped_fig.update_layout(title_text=\"Occupancy Data by Date\", xaxis_title='Date', yaxis_title='Availability')\n",
    "filename = \"newsletter_features/occupancy_data_line_fig_miami_example.png\"\n",
    "miami_example_grouped_fig.write_image(filename, engine='kaleido', width=2000, height=500)\n",
    "miami_example_grouped_fig.show()"
   ]
  },
  {
   "cell_type": "code",
   "execution_count": 21,
   "metadata": {},
   "outputs": [
    {
     "name": "stderr",
     "output_type": "stream",
     "text": [
      "C:\\Users\\mattg\\AppData\\Local\\Temp\\ipykernel_3312\\2004464441.py:5: UserWarning:\n",
      "\n",
      "Parsing '19/04/2022' in DD/MM/YYYY format. Provide format or specify infer_datetime_format=True for consistent parsing.\n",
      "\n",
      "C:\\Users\\mattg\\AppData\\Local\\Temp\\ipykernel_3312\\2004464441.py:6: UserWarning:\n",
      "\n",
      "Parsing '21/04/2022' in DD/MM/YYYY format. Provide format or specify infer_datetime_format=True for consistent parsing.\n",
      "\n"
     ]
    },
    {
     "name": "stdout",
     "output_type": "stream",
     "text": [
      "(3733530, 11)\n",
      "(152730, 11)\n",
      "(2086890, 11)\n",
      "(1681, 8)\n",
      "(5608, 8)\n",
      "(1681, 15)\n"
     ]
    }
   ],
   "source": [
    "days_to_subtract = 30\n",
    "last_day_from = pd.to_datetime('05/31/2022')\n",
    "date_30_days_ago = last_day_from - timedelta(days=days_to_subtract)\n",
    "occ_data['pulled'] = pd.to_datetime(occ_data.pulled)\n",
    "pull_time_old_start = pd.to_datetime('19/04/2022')\n",
    "pull_time_old_end = pd.to_datetime('21/04/2022')\n",
    "pull_time_current_start = pd.to_datetime('04/05/2022')\n",
    "pull_time_current_end = pd.to_datetime('06/05/2022')\n",
    "\n",
    "\n",
    "occ_data_last30 = occ_data[(occ_data['date'] > str(date_30_days_ago)) & (occ_data['date'] <= str(last_day_from))]\n",
    "print(occ_data_last30.shape)\n",
    "#price_data_last30_avgs = price_data_last30.groupby(['id','pull_time']).mean().reset_index()\n",
    "occ_data_previous_pull = occ_data_last30[(occ_data_last30['pulled'] > str(pull_time_old_start)) & (occ_data_last30['pulled'] < str(pull_time_old_end))]\n",
    "print(occ_data_previous_pull.shape)\n",
    "occ_data_current_pull = occ_data_last30[(occ_data_last30['pulled'] > str(pull_time_current_start)) & (occ_data_last30['pulled'] < str(pull_time_current_end))]\n",
    "print(occ_data_current_pull.shape)\n",
    "occ_data_previous_pull_avgs = occ_data_previous_pull.groupby('id').mean().reset_index()\n",
    "print(occ_data_previous_pull_avgs.shape)\n",
    "occ_data_current_pull_avgs = occ_data_current_pull.groupby('id').mean().reset_index()\n",
    "print(occ_data_current_pull_avgs.shape)\n",
    "occ_trend = occ_data_previous_pull_avgs.merge(occ_data_current_pull_avgs, how='inner', on='id')\n",
    "print(occ_trend.shape)\n"
   ]
  },
  {
   "cell_type": "code",
   "execution_count": null,
   "metadata": {},
   "outputs": [],
   "source": []
  },
  {
   "cell_type": "code",
   "execution_count": 19,
   "metadata": {},
   "outputs": [
    {
     "data": {
      "text/plain": [
       "0          2022-04-19 06:22:01\n",
       "1          2022-04-19 06:22:01\n",
       "2          2022-04-19 06:22:01\n",
       "3          2022-04-19 06:22:01\n",
       "4          2022-04-19 06:22:01\n",
       "                   ...        \n",
       "45424610   2022-05-18 06:22:11\n",
       "45424611   2022-05-18 06:22:11\n",
       "45424612   2022-05-18 06:22:11\n",
       "45424613   2022-05-18 06:22:11\n",
       "45424614   2022-05-18 06:22:11\n",
       "Name: pulled, Length: 45424615, dtype: datetime64[ns]"
      ]
     },
     "execution_count": 19,
     "metadata": {},
     "output_type": "execute_result"
    }
   ],
   "source": []
  },
  {
   "cell_type": "code",
   "execution_count": 22,
   "metadata": {},
   "outputs": [],
   "source": [
    "# Look at occ data in head(10) statement above to figure out what delta calcs need to be made\n",
    "occ_trend['available_delta'] = occ_trend['available_y'] - occ_trend['available_x']\n",
    "occ_trend['available_for_checkin_delta'] = occ_trend['available_for_checkin_y'] - occ_trend['available_for_checkin_x']\n",
    "occ_trend['available_for_checkout_delta'] = occ_trend['available_for_checkout_y'] - occ_trend['available_for_checkout_x']\n",
    "occ_trend['bookable_delta'] = occ_trend['bookable_y'] - occ_trend['bookable_x']\n",
    "occ_trend['available_delta_pct'] = occ_trend['available_delta']/occ_trend['available_x']*100\n",
    "occ_trend['available_for_checkin_delta_pct'] = occ_trend['available_for_checkin_delta']/occ_trend['available_for_checkin_x']*100\n",
    "occ_trend['available_for_checkout_delta_pct'] = occ_trend['available_for_checkout_delta']/occ_trend['available_for_checkout_x']*100\n",
    "occ_trend['bookable_delta_pct'] = occ_trend['bookable_delta']/occ_trend['bookable_x']*100\n",
    "\n",
    "occ_data_w_listing_loc = pd.read_csv('post_mort_and_roi_calcs_june19.csv')\n",
    "occ_data_w_listing_loc = occ_data_w_listing_loc[['id','zipcode','City','Metro','CountyName','State']]\n",
    "occ_trend['id'] = occ_trend['id'].astype('float64')\n",
    "occ_trend_wloc = occ_trend.merge(occ_data_w_listing_loc, how='inner', on='id')"
   ]
  },
  {
   "cell_type": "code",
   "execution_count": 23,
   "metadata": {},
   "outputs": [
    {
     "data": {
      "application/vnd.plotly.v1+json": {
       "config": {
        "plotlyServerURL": "https://plot.ly"
       },
       "data": [
        {
         "cells": {
          "align": [
           "left",
           "left",
           "left",
           "left",
           "left"
          ],
          "fill": {
           "color": "rgb(245,245,245)"
          },
          "font": {
           "color": [
            "rgb(40,40,40)",
            [
             "rgb(255,0,0)",
             "rgb(255,0,0)",
             "rgb(255,0,0)",
             "rgb(255,0,0)",
             "rgb(0,125,0)",
             "rgb(255,0,0)",
             "rgb(255,0,0)",
             "rgb(255,0,0)",
             "rgb(255,0,0)",
             "rgb(255,0,0)",
             "rgb(0,125,0)",
             "rgb(255,0,0)",
             "rgb(255,0,0)",
             "rgb(255,0,0)"
            ],
            [
             "rgb(255,0,0)",
             "rgb(255,0,0)",
             "rgb(255,0,0)",
             "rgb(255,0,0)",
             "rgb(0,125,0)",
             "rgb(255,0,0)",
             "rgb(255,0,0)",
             "rgb(255,0,0)",
             "rgb(255,0,0)",
             "rgb(255,0,0)",
             "rgb(0,125,0)",
             "rgb(255,0,0)",
             "rgb(255,0,0)",
             "rgb(255,0,0)"
            ],
            [
             "rgb(255,0,0)",
             "rgb(255,0,0)",
             "rgb(255,0,0)",
             "rgb(255,0,0)",
             "rgb(0,125,0)",
             "rgb(255,0,0)",
             "rgb(255,0,0)",
             "rgb(255,0,0)",
             "rgb(255,0,0)",
             "rgb(255,0,0)",
             "rgb(0,125,0)",
             "rgb(255,0,0)",
             "rgb(255,0,0)",
             "rgb(255,0,0)"
            ],
            [
             "rgb(255,0,0)",
             "rgb(255,0,0)",
             "rgb(255,0,0)",
             "rgb(255,0,0)",
             "rgb(0,125,0)",
             "rgb(255,0,0)",
             "rgb(255,0,0)",
             "rgb(255,0,0)",
             "rgb(255,0,0)",
             "rgb(255,0,0)",
             "rgb(0,125,0)",
             "rgb(255,0,0)",
             "rgb(255,0,0)",
             "rgb(255,0,0)"
            ]
           ],
           "family": "Arial",
           "size": 14
          },
          "format": [
           null,
           ",.2f"
          ],
          "height": 30,
          "line": {
           "color": "#506784"
          },
          "values": [
           [
            33109,
            33125,
            33127,
            33131,
            33133,
            33137,
            33138,
            33139,
            33140,
            33141,
            33147,
            33150,
            33169,
            33175
           ],
           [
            -31.372549019607842,
            -21.190476190476183,
            -17.26699226699227,
            -34.18752384269625,
            7.857142857142863,
            -17.14285714285713,
            -26.870748299319725,
            -22.200408428478607,
            -19.365079365079364,
            -27.32954832846812,
            0,
            -20.748299319727888,
            -18.253968253968257,
            -14.920634920634923
           ],
           [
            -34.73389355742296,
            -30.272108843537417,
            -19.78021978021978,
            -36.82565746605155,
            27.380952380952383,
            -22.222222222222218,
            -29.255794910556816,
            -26.489898989898993,
            -20.63492063492064,
            -29.422302737520127,
            0,
            -19.04761904761905,
            -18.253968253968257,
            -14.920634920634923
           ],
           [
            -33.33333333333333,
            -26.190476190476193,
            -32.142857142857146,
            -39.008795437366864,
            0.27341079972659177,
            -16.66666666666667,
            -29.118015365350118,
            -27.032465121437554,
            -20.793650793650798,
            -35.944831665799754,
            0,
            -24.17582417582418,
            -20.899470899470902,
            -15.435139573070611
           ],
           [
            -31.372549019607842,
            -22.14285714285713,
            -26.327838827838825,
            -36.6704814980677,
            7.857142857142863,
            -14.81481481481482,
            -27.755102040816325,
            -25.259107364370525,
            -19.523809523809522,
            -28.785575363215116,
            0,
            -20.87912087912088,
            -18.253968253968257,
            -14.920634920634923
           ]
          ]
         },
         "columnorder": [
          0,
          1,
          2,
          3,
          4
         ],
         "columnwidth": [
          50,
          50,
          50,
          50,
          50
         ],
         "header": {
          "align": [
           "left",
           "left",
           "left",
           "left",
           "left"
          ],
          "font": {
           "color": [
            "rgb(45,45,45)",
            "rgb(45,45,45)",
            "rgb(45,45,45)",
            "rgb(45,45,45)"
           ],
           "size": 14
          },
          "height": 40,
          "line": {
           "color": "rgb(50,50,50)"
          },
          "values": [
           [
            "<b>Zip Code</b>"
           ],
           [
            "<b>Availability</b>"
           ],
           [
            "<b>Check-in Availability</b>"
           ],
           [
            "<b>Check-out Availability</b>"
           ],
           [
            "<b>Bookable</b>"
           ]
          ]
         },
         "type": "table"
        }
       ],
       "layout": {
        "autosize": false,
        "height": 650,
        "showlegend": false,
        "template": {
         "data": {
          "bar": [
           {
            "error_x": {
             "color": "#2a3f5f"
            },
            "error_y": {
             "color": "#2a3f5f"
            },
            "marker": {
             "line": {
              "color": "#E5ECF6",
              "width": 0.5
             },
             "pattern": {
              "fillmode": "overlay",
              "size": 10,
              "solidity": 0.2
             }
            },
            "type": "bar"
           }
          ],
          "barpolar": [
           {
            "marker": {
             "line": {
              "color": "#E5ECF6",
              "width": 0.5
             },
             "pattern": {
              "fillmode": "overlay",
              "size": 10,
              "solidity": 0.2
             }
            },
            "type": "barpolar"
           }
          ],
          "carpet": [
           {
            "aaxis": {
             "endlinecolor": "#2a3f5f",
             "gridcolor": "white",
             "linecolor": "white",
             "minorgridcolor": "white",
             "startlinecolor": "#2a3f5f"
            },
            "baxis": {
             "endlinecolor": "#2a3f5f",
             "gridcolor": "white",
             "linecolor": "white",
             "minorgridcolor": "white",
             "startlinecolor": "#2a3f5f"
            },
            "type": "carpet"
           }
          ],
          "choropleth": [
           {
            "colorbar": {
             "outlinewidth": 0,
             "ticks": ""
            },
            "type": "choropleth"
           }
          ],
          "contour": [
           {
            "colorbar": {
             "outlinewidth": 0,
             "ticks": ""
            },
            "colorscale": [
             [
              0,
              "#0d0887"
             ],
             [
              0.1111111111111111,
              "#46039f"
             ],
             [
              0.2222222222222222,
              "#7201a8"
             ],
             [
              0.3333333333333333,
              "#9c179e"
             ],
             [
              0.4444444444444444,
              "#bd3786"
             ],
             [
              0.5555555555555556,
              "#d8576b"
             ],
             [
              0.6666666666666666,
              "#ed7953"
             ],
             [
              0.7777777777777778,
              "#fb9f3a"
             ],
             [
              0.8888888888888888,
              "#fdca26"
             ],
             [
              1,
              "#f0f921"
             ]
            ],
            "type": "contour"
           }
          ],
          "contourcarpet": [
           {
            "colorbar": {
             "outlinewidth": 0,
             "ticks": ""
            },
            "type": "contourcarpet"
           }
          ],
          "heatmap": [
           {
            "colorbar": {
             "outlinewidth": 0,
             "ticks": ""
            },
            "colorscale": [
             [
              0,
              "#0d0887"
             ],
             [
              0.1111111111111111,
              "#46039f"
             ],
             [
              0.2222222222222222,
              "#7201a8"
             ],
             [
              0.3333333333333333,
              "#9c179e"
             ],
             [
              0.4444444444444444,
              "#bd3786"
             ],
             [
              0.5555555555555556,
              "#d8576b"
             ],
             [
              0.6666666666666666,
              "#ed7953"
             ],
             [
              0.7777777777777778,
              "#fb9f3a"
             ],
             [
              0.8888888888888888,
              "#fdca26"
             ],
             [
              1,
              "#f0f921"
             ]
            ],
            "type": "heatmap"
           }
          ],
          "heatmapgl": [
           {
            "colorbar": {
             "outlinewidth": 0,
             "ticks": ""
            },
            "colorscale": [
             [
              0,
              "#0d0887"
             ],
             [
              0.1111111111111111,
              "#46039f"
             ],
             [
              0.2222222222222222,
              "#7201a8"
             ],
             [
              0.3333333333333333,
              "#9c179e"
             ],
             [
              0.4444444444444444,
              "#bd3786"
             ],
             [
              0.5555555555555556,
              "#d8576b"
             ],
             [
              0.6666666666666666,
              "#ed7953"
             ],
             [
              0.7777777777777778,
              "#fb9f3a"
             ],
             [
              0.8888888888888888,
              "#fdca26"
             ],
             [
              1,
              "#f0f921"
             ]
            ],
            "type": "heatmapgl"
           }
          ],
          "histogram": [
           {
            "marker": {
             "pattern": {
              "fillmode": "overlay",
              "size": 10,
              "solidity": 0.2
             }
            },
            "type": "histogram"
           }
          ],
          "histogram2d": [
           {
            "colorbar": {
             "outlinewidth": 0,
             "ticks": ""
            },
            "colorscale": [
             [
              0,
              "#0d0887"
             ],
             [
              0.1111111111111111,
              "#46039f"
             ],
             [
              0.2222222222222222,
              "#7201a8"
             ],
             [
              0.3333333333333333,
              "#9c179e"
             ],
             [
              0.4444444444444444,
              "#bd3786"
             ],
             [
              0.5555555555555556,
              "#d8576b"
             ],
             [
              0.6666666666666666,
              "#ed7953"
             ],
             [
              0.7777777777777778,
              "#fb9f3a"
             ],
             [
              0.8888888888888888,
              "#fdca26"
             ],
             [
              1,
              "#f0f921"
             ]
            ],
            "type": "histogram2d"
           }
          ],
          "histogram2dcontour": [
           {
            "colorbar": {
             "outlinewidth": 0,
             "ticks": ""
            },
            "colorscale": [
             [
              0,
              "#0d0887"
             ],
             [
              0.1111111111111111,
              "#46039f"
             ],
             [
              0.2222222222222222,
              "#7201a8"
             ],
             [
              0.3333333333333333,
              "#9c179e"
             ],
             [
              0.4444444444444444,
              "#bd3786"
             ],
             [
              0.5555555555555556,
              "#d8576b"
             ],
             [
              0.6666666666666666,
              "#ed7953"
             ],
             [
              0.7777777777777778,
              "#fb9f3a"
             ],
             [
              0.8888888888888888,
              "#fdca26"
             ],
             [
              1,
              "#f0f921"
             ]
            ],
            "type": "histogram2dcontour"
           }
          ],
          "mesh3d": [
           {
            "colorbar": {
             "outlinewidth": 0,
             "ticks": ""
            },
            "type": "mesh3d"
           }
          ],
          "parcoords": [
           {
            "line": {
             "colorbar": {
              "outlinewidth": 0,
              "ticks": ""
             }
            },
            "type": "parcoords"
           }
          ],
          "pie": [
           {
            "automargin": true,
            "type": "pie"
           }
          ],
          "scatter": [
           {
            "fillpattern": {
             "fillmode": "overlay",
             "size": 10,
             "solidity": 0.2
            },
            "type": "scatter"
           }
          ],
          "scatter3d": [
           {
            "line": {
             "colorbar": {
              "outlinewidth": 0,
              "ticks": ""
             }
            },
            "marker": {
             "colorbar": {
              "outlinewidth": 0,
              "ticks": ""
             }
            },
            "type": "scatter3d"
           }
          ],
          "scattercarpet": [
           {
            "marker": {
             "colorbar": {
              "outlinewidth": 0,
              "ticks": ""
             }
            },
            "type": "scattercarpet"
           }
          ],
          "scattergeo": [
           {
            "marker": {
             "colorbar": {
              "outlinewidth": 0,
              "ticks": ""
             }
            },
            "type": "scattergeo"
           }
          ],
          "scattergl": [
           {
            "marker": {
             "colorbar": {
              "outlinewidth": 0,
              "ticks": ""
             }
            },
            "type": "scattergl"
           }
          ],
          "scattermapbox": [
           {
            "marker": {
             "colorbar": {
              "outlinewidth": 0,
              "ticks": ""
             }
            },
            "type": "scattermapbox"
           }
          ],
          "scatterpolar": [
           {
            "marker": {
             "colorbar": {
              "outlinewidth": 0,
              "ticks": ""
             }
            },
            "type": "scatterpolar"
           }
          ],
          "scatterpolargl": [
           {
            "marker": {
             "colorbar": {
              "outlinewidth": 0,
              "ticks": ""
             }
            },
            "type": "scatterpolargl"
           }
          ],
          "scatterternary": [
           {
            "marker": {
             "colorbar": {
              "outlinewidth": 0,
              "ticks": ""
             }
            },
            "type": "scatterternary"
           }
          ],
          "surface": [
           {
            "colorbar": {
             "outlinewidth": 0,
             "ticks": ""
            },
            "colorscale": [
             [
              0,
              "#0d0887"
             ],
             [
              0.1111111111111111,
              "#46039f"
             ],
             [
              0.2222222222222222,
              "#7201a8"
             ],
             [
              0.3333333333333333,
              "#9c179e"
             ],
             [
              0.4444444444444444,
              "#bd3786"
             ],
             [
              0.5555555555555556,
              "#d8576b"
             ],
             [
              0.6666666666666666,
              "#ed7953"
             ],
             [
              0.7777777777777778,
              "#fb9f3a"
             ],
             [
              0.8888888888888888,
              "#fdca26"
             ],
             [
              1,
              "#f0f921"
             ]
            ],
            "type": "surface"
           }
          ],
          "table": [
           {
            "cells": {
             "fill": {
              "color": "#EBF0F8"
             },
             "line": {
              "color": "white"
             }
            },
            "header": {
             "fill": {
              "color": "#C8D4E3"
             },
             "line": {
              "color": "white"
             }
            },
            "type": "table"
           }
          ]
         },
         "layout": {
          "annotationdefaults": {
           "arrowcolor": "#2a3f5f",
           "arrowhead": 0,
           "arrowwidth": 1
          },
          "autotypenumbers": "strict",
          "coloraxis": {
           "colorbar": {
            "outlinewidth": 0,
            "ticks": ""
           }
          },
          "colorscale": {
           "diverging": [
            [
             0,
             "#8e0152"
            ],
            [
             0.1,
             "#c51b7d"
            ],
            [
             0.2,
             "#de77ae"
            ],
            [
             0.3,
             "#f1b6da"
            ],
            [
             0.4,
             "#fde0ef"
            ],
            [
             0.5,
             "#f7f7f7"
            ],
            [
             0.6,
             "#e6f5d0"
            ],
            [
             0.7,
             "#b8e186"
            ],
            [
             0.8,
             "#7fbc41"
            ],
            [
             0.9,
             "#4d9221"
            ],
            [
             1,
             "#276419"
            ]
           ],
           "sequential": [
            [
             0,
             "#0d0887"
            ],
            [
             0.1111111111111111,
             "#46039f"
            ],
            [
             0.2222222222222222,
             "#7201a8"
            ],
            [
             0.3333333333333333,
             "#9c179e"
            ],
            [
             0.4444444444444444,
             "#bd3786"
            ],
            [
             0.5555555555555556,
             "#d8576b"
            ],
            [
             0.6666666666666666,
             "#ed7953"
            ],
            [
             0.7777777777777778,
             "#fb9f3a"
            ],
            [
             0.8888888888888888,
             "#fdca26"
            ],
            [
             1,
             "#f0f921"
            ]
           ],
           "sequentialminus": [
            [
             0,
             "#0d0887"
            ],
            [
             0.1111111111111111,
             "#46039f"
            ],
            [
             0.2222222222222222,
             "#7201a8"
            ],
            [
             0.3333333333333333,
             "#9c179e"
            ],
            [
             0.4444444444444444,
             "#bd3786"
            ],
            [
             0.5555555555555556,
             "#d8576b"
            ],
            [
             0.6666666666666666,
             "#ed7953"
            ],
            [
             0.7777777777777778,
             "#fb9f3a"
            ],
            [
             0.8888888888888888,
             "#fdca26"
            ],
            [
             1,
             "#f0f921"
            ]
           ]
          },
          "colorway": [
           "#636efa",
           "#EF553B",
           "#00cc96",
           "#ab63fa",
           "#FFA15A",
           "#19d3f3",
           "#FF6692",
           "#B6E880",
           "#FF97FF",
           "#FECB52"
          ],
          "font": {
           "color": "#2a3f5f"
          },
          "geo": {
           "bgcolor": "white",
           "lakecolor": "white",
           "landcolor": "#E5ECF6",
           "showlakes": true,
           "showland": true,
           "subunitcolor": "white"
          },
          "hoverlabel": {
           "align": "left"
          },
          "hovermode": "closest",
          "mapbox": {
           "style": "light"
          },
          "paper_bgcolor": "white",
          "plot_bgcolor": "#E5ECF6",
          "polar": {
           "angularaxis": {
            "gridcolor": "white",
            "linecolor": "white",
            "ticks": ""
           },
           "bgcolor": "#E5ECF6",
           "radialaxis": {
            "gridcolor": "white",
            "linecolor": "white",
            "ticks": ""
           }
          },
          "scene": {
           "xaxis": {
            "backgroundcolor": "#E5ECF6",
            "gridcolor": "white",
            "gridwidth": 2,
            "linecolor": "white",
            "showbackground": true,
            "ticks": "",
            "zerolinecolor": "white"
           },
           "yaxis": {
            "backgroundcolor": "#E5ECF6",
            "gridcolor": "white",
            "gridwidth": 2,
            "linecolor": "white",
            "showbackground": true,
            "ticks": "",
            "zerolinecolor": "white"
           },
           "zaxis": {
            "backgroundcolor": "#E5ECF6",
            "gridcolor": "white",
            "gridwidth": 2,
            "linecolor": "white",
            "showbackground": true,
            "ticks": "",
            "zerolinecolor": "white"
           }
          },
          "shapedefaults": {
           "line": {
            "color": "#2a3f5f"
           }
          },
          "ternary": {
           "aaxis": {
            "gridcolor": "white",
            "linecolor": "white",
            "ticks": ""
           },
           "baxis": {
            "gridcolor": "white",
            "linecolor": "white",
            "ticks": ""
           },
           "bgcolor": "#E5ECF6",
           "caxis": {
            "gridcolor": "white",
            "linecolor": "white",
            "ticks": ""
           }
          },
          "title": {
           "x": 0.05
          },
          "xaxis": {
           "automargin": true,
           "gridcolor": "white",
           "linecolor": "white",
           "ticks": "",
           "title": {
            "standoff": 15
           },
           "zerolinecolor": "white",
           "zerolinewidth": 2
          },
          "yaxis": {
           "automargin": true,
           "gridcolor": "white",
           "linecolor": "white",
           "ticks": "",
           "title": {
            "standoff": 15
           },
           "zerolinecolor": "white",
           "zerolinewidth": 2
          }
         }
        },
        "title": {
         "text": "Recent Occupancy Trends in Miami (%) (M/M)",
         "x": 0.5
        },
        "width": 850
       }
      }
     },
     "metadata": {},
     "output_type": "display_data"
    }
   ],
   "source": [
    "florida_occ_trends = occ_trend_wloc[occ_trend_wloc['State'] == 'FL']\n",
    "florida_occ_trends_zip = florida_occ_trends.groupby('zipcode').mean(['available_delta_pct','available_for_checkin_delta_pct','available_for_checkout_delta_pct','bookable_delta_pct']).reset_index()\n",
    "florida_occ_trends_city = florida_occ_trends.groupby('City').mean(['available_delta_pct','available_for_checkin_delta_pct','available_for_checkout_delta_pct','bookable_delta_pct']).reset_index()\n",
    "\"\"\"\n",
    "florida_price_trends_fig = go.Figure()\n",
    "florida_price_trends_fig.add_trace(go.Scatter(x=price_data_date['check_in'], y=price_data_date['cleaning_fee'],\n",
    "                    mode='lines',\n",
    "                    name='Cleaning Fee'))\n",
    "florida_price_trends_fig.add_trace(go.Scatter(x=price_data_date['check_in'], y=price_data_date['service_fee'],\n",
    "                    mode='lines',\n",
    "                    name='Service Fee'))\n",
    "florida_price_trends_fig.add_trace(go.Scatter(x=price_data_date['check_in'], y=price_data_date['total_price'],\n",
    "                    mode='lines', \n",
    "                    name='Total Price'))\n",
    "florida_price_trends_fig.update_layout(title_text=\"Pricing Data by Pull Time\", xaxis_title='Date', yaxis_title='Price ($)')\n",
    "filename = \"newsletter_features/florida_price_trends_fig_june19.png\"\n",
    "florida_price_trends_fig.write_image(filename, engine='kaleido', width=2000, height=500)\n",
    "florida_price_trends_fig.show()\n",
    "\"\"\"\n",
    "import plotly.graph_objects as go\n",
    "\n",
    "zips = florida_occ_trends_zip['zipcode']\n",
    "vals = [florida_occ_trends_zip['available_delta_pct'], florida_occ_trends_zip['available_for_checkin_delta_pct'], florida_occ_trends_zip['available_for_checkout_delta_pct'], florida_occ_trends_zip['bookable_delta_pct']]\n",
    "font_color = ['rgb(40,40,40)'] +  [['rgb(255,0,0)' if v < 0 else 'rgb(0,125,0)' for v in vals[k]] for k in range(4)]\n",
    "\n",
    "table_trace = go.Table(\n",
    "                 columnwidth= [50]+[50]+[50]+[50]+[50],\n",
    "                 columnorder=[0, 1, 2, 3, 4],\n",
    "                 header = dict(height = 40,\n",
    "                               values = [['<b>Zip Code</b>'], ['<b>Availability</b>'], ['<b>Check-in Availability</b>'], ['<b>Check-out Availability</b>'],['<b>Bookable</b>']],\n",
    "                               line = dict(color='rgb(50,50,50)'),\n",
    "                               align = ['left']*5,\n",
    "                               font = dict(color=['rgb(45,45,45)']*4, size=14),\n",
    "                             \n",
    "                              ),\n",
    "                 cells = dict(values = [zips, vals[0], vals[1], vals[2], vals[3]],\n",
    "                              line = dict(color='#506784'),\n",
    "                              align = ['left']*5,\n",
    "                              \n",
    "                              font = dict(family=\"Arial\", size=14, color=font_color),\n",
    "                              format = [None, \",.2f\"],  #add % sign here\n",
    "                              height = 30,\n",
    "                              fill = dict(color='rgb(245,245,245)'))\n",
    "                             )\n",
    "                 \n",
    "\n",
    "layout = go.Layout(width=850, height=650, autosize=False, \n",
    "              title_text='Recent Occupancy Trends in Miami (%) (M/M)',\n",
    "                   title_x=0.5, showlegend=False)\n",
    "florda_occ_trend_fig = go.Figure(data=[table_trace], layout=layout)\n",
    "filename = \"newsletter_features/florida_occ_trends_table_june19.png\"\n",
    "florda_occ_trend_fig.write_image(filename, engine='kaleido', width=875, height=700)\n",
    "florda_occ_trend_fig.show()\n",
    "\n",
    "# Look to do one price value and look and price change by day of the week"
   ]
  },
  {
   "cell_type": "code",
   "execution_count": 24,
   "metadata": {},
   "outputs": [
    {
     "name": "stdout",
     "output_type": "stream",
     "text": [
      "(3484628, 11)\n",
      "(3484628, 11)\n",
      "(5608, 8)\n",
      "(5608, 8)\n",
      "(5608, 15)\n"
     ]
    }
   ],
   "source": [
    "fwd_looking_days = 28\n",
    "pull_time_current = pd.to_datetime('05/05/2022') # Would be set as date for \"today\" in the future\n",
    "fwd_looking_date_current = pull_time_current + timedelta(days=fwd_looking_days)\n",
    "pull_time_old = last_day_from - timedelta(days=7)\n",
    "fwd_looking_date_old = pull_time_old + timedelta(days=fwd_looking_days)\n",
    "\n",
    "occ_data_last30_current = occ_data[(occ_data['date'] > str(pull_time_current)) & (occ_data['date'] <= str(fwd_looking_date_current))]\n",
    "occ_data_last30_old = occ_data[(occ_data['date'] > str(pull_time_old)) & (occ_data['date'] <= str(fwd_looking_date_old))]\n",
    "print(occ_data_last30_current.shape)\n",
    "print(occ_data_last30_old.shape)\n",
    "occ_data_previous_pull_avgs = occ_data_last30_current.groupby('id').mean().reset_index()\n",
    "print(occ_data_previous_pull_avgs.shape)\n",
    "occ_data_current_pull_avgs = occ_data_last30_old.groupby('id').mean().reset_index()\n",
    "print(occ_data_current_pull_avgs.shape)\n",
    "occ_trend = occ_data_previous_pull_avgs.merge(occ_data_current_pull_avgs, how='inner', on='id')\n",
    "print(occ_trend.shape)"
   ]
  },
  {
   "cell_type": "code",
   "execution_count": 39,
   "metadata": {},
   "outputs": [],
   "source": [
    "#occ_trend['available_delta'] = occ_trend['available_y'] - occ_trend['available_x']\n",
    "#occ_trend['available_for_checkin_delta'] = occ_trend['available_for_checkin_y'] - occ_trend['available_for_checkin_x']\n",
    "#occ_trend['available_for_checkout_delta'] = occ_trend['available_for_checkout_y'] - occ_trend['available_for_checkout_x']\n",
    "#occ_trend['bookable_delta'] = occ_trend['bookable_y'] - occ_trend['bookable_x']\n",
    "#occ_trend['available_delta_pct'] = occ_trend['available_delta']/occ_trend['available_x']*100\n",
    "#occ_trend['available_for_checkin_delta_pct'] = occ_trend['available_for_checkin_delta']/occ_trend['available_for_checkin_x']*100\n",
    "#occ_trend['available_for_checkout_delta_pct'] = occ_trend['available_for_checkout_delta']/occ_trend['available_for_checkout_x']*100\n",
    "#occ_trend['bookable_delta_pct'] = occ_trend['bookable_delta']/occ_trend['bookable_x']*100\n",
    "occ_trend['available_delta_pct'] = (occ_trend['available_y'] - occ_trend['available_x']) * 100\n",
    "occ_trend['available_for_checkin_delta_pct'] = (occ_trend['available_for_checkin_y'] - occ_trend['available_for_checkin_x']) * 100\n",
    "occ_trend['available_for_checkout_delta_pct'] = (occ_trend['available_for_checkout_y'] - occ_trend['available_for_checkout_x']) * 100\n",
    "occ_trend['bookable_delta_pct'] = (occ_trend['bookable_y'] - occ_trend['bookable_x']) * 100\n",
    "data_w_listing_loc = pd.read_csv('post_mort_and_roi_calcs_june19.csv')\n",
    "data_w_listing_loc = data_w_listing_loc[['id','zipcode','City','Metro','CountyName','State']]\n",
    "occ_trend['id'] = occ_trend['id'].astype('float64')\n",
    "occ_trend_wloc = occ_trend.merge(data_w_listing_loc, how='inner', on='id')"
   ]
  },
  {
   "cell_type": "code",
   "execution_count": 42,
   "metadata": {},
   "outputs": [
    {
     "data": {
      "application/vnd.plotly.v1+json": {
       "config": {
        "plotlyServerURL": "https://plot.ly"
       },
       "data": [
        {
         "cells": {
          "align": [
           "left",
           "left",
           "left",
           "left",
           "left"
          ],
          "fill": {
           "color": "rgb(245,245,245)"
          },
          "font": {
           "color": [
            "rgb(40,40,40)",
            [
             "rgb(255,0,0)",
             "rgb(255,0,0)",
             "rgb(255,0,0)",
             "rgb(255,0,0)",
             "rgb(0,125,0)",
             "rgb(255,0,0)",
             "rgb(255,0,0)",
             "rgb(255,0,0)",
             "rgb(255,0,0)",
             "rgb(255,0,0)",
             "rgb(255,0,0)",
             "rgb(255,0,0)",
             "rgb(255,0,0)",
             "rgb(255,0,0)"
            ],
            [
             "rgb(255,0,0)",
             "rgb(255,0,0)",
             "rgb(255,0,0)",
             "rgb(255,0,0)",
             "rgb(0,125,0)",
             "rgb(255,0,0)",
             "rgb(255,0,0)",
             "rgb(255,0,0)",
             "rgb(255,0,0)",
             "rgb(255,0,0)",
             "rgb(255,0,0)",
             "rgb(255,0,0)",
             "rgb(255,0,0)",
             "rgb(255,0,0)"
            ],
            [
             "rgb(255,0,0)",
             "rgb(255,0,0)",
             "rgb(255,0,0)",
             "rgb(255,0,0)",
             "rgb(0,125,0)",
             "rgb(255,0,0)",
             "rgb(255,0,0)",
             "rgb(255,0,0)",
             "rgb(255,0,0)",
             "rgb(255,0,0)",
             "rgb(255,0,0)",
             "rgb(255,0,0)",
             "rgb(255,0,0)",
             "rgb(255,0,0)"
            ],
            [
             "rgb(255,0,0)",
             "rgb(255,0,0)",
             "rgb(255,0,0)",
             "rgb(255,0,0)",
             "rgb(0,125,0)",
             "rgb(255,0,0)",
             "rgb(255,0,0)",
             "rgb(255,0,0)",
             "rgb(255,0,0)",
             "rgb(255,0,0)",
             "rgb(255,0,0)",
             "rgb(255,0,0)",
             "rgb(255,0,0)",
             "rgb(255,0,0)"
            ]
           ],
           "family": "Arial",
           "size": 14
          },
          "format": [
           null,
           ",.2f"
          ],
          "height": 30,
          "line": {
           "color": "#506784"
          },
          "values": [
           [
            33109,
            33125,
            33127,
            33131,
            33133,
            33137,
            33138,
            33139,
            33140,
            33141,
            33147,
            33150,
            33169,
            33175
           ],
           [
            35.13824884792627,
            22.69585253456221,
            30.64516129032258,
            30.837173579109063,
            -5.1267281105990765,
            52.64976958525346,
            12.596006144393241,
            16.034503131277326,
            12.211981566820274,
            34.68149234278266,
            67.85714285714285,
            27.88018433179723,
            12.096774193548388,
            8.755760368663601
           ],
           [
            33.7557603686636,
            34.677419354838705,
            34.965437788018434,
            31.605222734254994,
            -5.472350230414747,
            52.649769585253445,
            12.17357910906298,
            15.819515013063398,
            13.018433179723498,
            36.80410091700414,
            67.85714285714285,
            23.04147465437788,
            12.096774193548388,
            5.299539170506917
           ],
           [
            38.13364055299539,
            26.95852534562212,
            39.112903225806456,
            33.256528417818735,
            -3.0529953917050685,
            56.10599078341014,
            15.168970814132102,
            15.946538527183689,
            14.055299539170507,
            35.426849136526556,
            67.85714285714286,
            36.63594470046083,
            12.096774193548388,
            10.368663594470052
           ],
           [
            35.13824884792627,
            23.38709677419355,
            35.59907834101383,
            31.37480798771121,
            -5.1267281105990765,
            52.64976958525346,
            13.364055299539173,
            15.467328370554176,
            12.557603686635943,
            34.35158031932225,
            67.85714285714285,
            30.529953917050683,
            12.096774193548388,
            8.755760368663601
           ]
          ]
         },
         "columnorder": [
          0,
          1,
          2,
          3,
          4
         ],
         "columnwidth": [
          50,
          50,
          50,
          50,
          50
         ],
         "header": {
          "align": [
           "left",
           "left",
           "left",
           "left",
           "left"
          ],
          "font": {
           "color": [
            "rgb(45,45,45)",
            "rgb(45,45,45)",
            "rgb(45,45,45)",
            "rgb(45,45,45)"
           ],
           "size": 14
          },
          "height": 40,
          "line": {
           "color": "rgb(50,50,50)"
          },
          "values": [
           [
            "<b>Zip Code</b>"
           ],
           [
            "<b>Availability</b>"
           ],
           [
            "<b>Check-in Availability</b>"
           ],
           [
            "<b>Check-out Availability</b>"
           ],
           [
            "<b>Bookable</b>"
           ]
          ]
         },
         "type": "table"
        }
       ],
       "layout": {
        "autosize": false,
        "height": 650,
        "showlegend": false,
        "template": {
         "data": {
          "bar": [
           {
            "error_x": {
             "color": "#2a3f5f"
            },
            "error_y": {
             "color": "#2a3f5f"
            },
            "marker": {
             "line": {
              "color": "#E5ECF6",
              "width": 0.5
             },
             "pattern": {
              "fillmode": "overlay",
              "size": 10,
              "solidity": 0.2
             }
            },
            "type": "bar"
           }
          ],
          "barpolar": [
           {
            "marker": {
             "line": {
              "color": "#E5ECF6",
              "width": 0.5
             },
             "pattern": {
              "fillmode": "overlay",
              "size": 10,
              "solidity": 0.2
             }
            },
            "type": "barpolar"
           }
          ],
          "carpet": [
           {
            "aaxis": {
             "endlinecolor": "#2a3f5f",
             "gridcolor": "white",
             "linecolor": "white",
             "minorgridcolor": "white",
             "startlinecolor": "#2a3f5f"
            },
            "baxis": {
             "endlinecolor": "#2a3f5f",
             "gridcolor": "white",
             "linecolor": "white",
             "minorgridcolor": "white",
             "startlinecolor": "#2a3f5f"
            },
            "type": "carpet"
           }
          ],
          "choropleth": [
           {
            "colorbar": {
             "outlinewidth": 0,
             "ticks": ""
            },
            "type": "choropleth"
           }
          ],
          "contour": [
           {
            "colorbar": {
             "outlinewidth": 0,
             "ticks": ""
            },
            "colorscale": [
             [
              0,
              "#0d0887"
             ],
             [
              0.1111111111111111,
              "#46039f"
             ],
             [
              0.2222222222222222,
              "#7201a8"
             ],
             [
              0.3333333333333333,
              "#9c179e"
             ],
             [
              0.4444444444444444,
              "#bd3786"
             ],
             [
              0.5555555555555556,
              "#d8576b"
             ],
             [
              0.6666666666666666,
              "#ed7953"
             ],
             [
              0.7777777777777778,
              "#fb9f3a"
             ],
             [
              0.8888888888888888,
              "#fdca26"
             ],
             [
              1,
              "#f0f921"
             ]
            ],
            "type": "contour"
           }
          ],
          "contourcarpet": [
           {
            "colorbar": {
             "outlinewidth": 0,
             "ticks": ""
            },
            "type": "contourcarpet"
           }
          ],
          "heatmap": [
           {
            "colorbar": {
             "outlinewidth": 0,
             "ticks": ""
            },
            "colorscale": [
             [
              0,
              "#0d0887"
             ],
             [
              0.1111111111111111,
              "#46039f"
             ],
             [
              0.2222222222222222,
              "#7201a8"
             ],
             [
              0.3333333333333333,
              "#9c179e"
             ],
             [
              0.4444444444444444,
              "#bd3786"
             ],
             [
              0.5555555555555556,
              "#d8576b"
             ],
             [
              0.6666666666666666,
              "#ed7953"
             ],
             [
              0.7777777777777778,
              "#fb9f3a"
             ],
             [
              0.8888888888888888,
              "#fdca26"
             ],
             [
              1,
              "#f0f921"
             ]
            ],
            "type": "heatmap"
           }
          ],
          "heatmapgl": [
           {
            "colorbar": {
             "outlinewidth": 0,
             "ticks": ""
            },
            "colorscale": [
             [
              0,
              "#0d0887"
             ],
             [
              0.1111111111111111,
              "#46039f"
             ],
             [
              0.2222222222222222,
              "#7201a8"
             ],
             [
              0.3333333333333333,
              "#9c179e"
             ],
             [
              0.4444444444444444,
              "#bd3786"
             ],
             [
              0.5555555555555556,
              "#d8576b"
             ],
             [
              0.6666666666666666,
              "#ed7953"
             ],
             [
              0.7777777777777778,
              "#fb9f3a"
             ],
             [
              0.8888888888888888,
              "#fdca26"
             ],
             [
              1,
              "#f0f921"
             ]
            ],
            "type": "heatmapgl"
           }
          ],
          "histogram": [
           {
            "marker": {
             "pattern": {
              "fillmode": "overlay",
              "size": 10,
              "solidity": 0.2
             }
            },
            "type": "histogram"
           }
          ],
          "histogram2d": [
           {
            "colorbar": {
             "outlinewidth": 0,
             "ticks": ""
            },
            "colorscale": [
             [
              0,
              "#0d0887"
             ],
             [
              0.1111111111111111,
              "#46039f"
             ],
             [
              0.2222222222222222,
              "#7201a8"
             ],
             [
              0.3333333333333333,
              "#9c179e"
             ],
             [
              0.4444444444444444,
              "#bd3786"
             ],
             [
              0.5555555555555556,
              "#d8576b"
             ],
             [
              0.6666666666666666,
              "#ed7953"
             ],
             [
              0.7777777777777778,
              "#fb9f3a"
             ],
             [
              0.8888888888888888,
              "#fdca26"
             ],
             [
              1,
              "#f0f921"
             ]
            ],
            "type": "histogram2d"
           }
          ],
          "histogram2dcontour": [
           {
            "colorbar": {
             "outlinewidth": 0,
             "ticks": ""
            },
            "colorscale": [
             [
              0,
              "#0d0887"
             ],
             [
              0.1111111111111111,
              "#46039f"
             ],
             [
              0.2222222222222222,
              "#7201a8"
             ],
             [
              0.3333333333333333,
              "#9c179e"
             ],
             [
              0.4444444444444444,
              "#bd3786"
             ],
             [
              0.5555555555555556,
              "#d8576b"
             ],
             [
              0.6666666666666666,
              "#ed7953"
             ],
             [
              0.7777777777777778,
              "#fb9f3a"
             ],
             [
              0.8888888888888888,
              "#fdca26"
             ],
             [
              1,
              "#f0f921"
             ]
            ],
            "type": "histogram2dcontour"
           }
          ],
          "mesh3d": [
           {
            "colorbar": {
             "outlinewidth": 0,
             "ticks": ""
            },
            "type": "mesh3d"
           }
          ],
          "parcoords": [
           {
            "line": {
             "colorbar": {
              "outlinewidth": 0,
              "ticks": ""
             }
            },
            "type": "parcoords"
           }
          ],
          "pie": [
           {
            "automargin": true,
            "type": "pie"
           }
          ],
          "scatter": [
           {
            "fillpattern": {
             "fillmode": "overlay",
             "size": 10,
             "solidity": 0.2
            },
            "type": "scatter"
           }
          ],
          "scatter3d": [
           {
            "line": {
             "colorbar": {
              "outlinewidth": 0,
              "ticks": ""
             }
            },
            "marker": {
             "colorbar": {
              "outlinewidth": 0,
              "ticks": ""
             }
            },
            "type": "scatter3d"
           }
          ],
          "scattercarpet": [
           {
            "marker": {
             "colorbar": {
              "outlinewidth": 0,
              "ticks": ""
             }
            },
            "type": "scattercarpet"
           }
          ],
          "scattergeo": [
           {
            "marker": {
             "colorbar": {
              "outlinewidth": 0,
              "ticks": ""
             }
            },
            "type": "scattergeo"
           }
          ],
          "scattergl": [
           {
            "marker": {
             "colorbar": {
              "outlinewidth": 0,
              "ticks": ""
             }
            },
            "type": "scattergl"
           }
          ],
          "scattermapbox": [
           {
            "marker": {
             "colorbar": {
              "outlinewidth": 0,
              "ticks": ""
             }
            },
            "type": "scattermapbox"
           }
          ],
          "scatterpolar": [
           {
            "marker": {
             "colorbar": {
              "outlinewidth": 0,
              "ticks": ""
             }
            },
            "type": "scatterpolar"
           }
          ],
          "scatterpolargl": [
           {
            "marker": {
             "colorbar": {
              "outlinewidth": 0,
              "ticks": ""
             }
            },
            "type": "scatterpolargl"
           }
          ],
          "scatterternary": [
           {
            "marker": {
             "colorbar": {
              "outlinewidth": 0,
              "ticks": ""
             }
            },
            "type": "scatterternary"
           }
          ],
          "surface": [
           {
            "colorbar": {
             "outlinewidth": 0,
             "ticks": ""
            },
            "colorscale": [
             [
              0,
              "#0d0887"
             ],
             [
              0.1111111111111111,
              "#46039f"
             ],
             [
              0.2222222222222222,
              "#7201a8"
             ],
             [
              0.3333333333333333,
              "#9c179e"
             ],
             [
              0.4444444444444444,
              "#bd3786"
             ],
             [
              0.5555555555555556,
              "#d8576b"
             ],
             [
              0.6666666666666666,
              "#ed7953"
             ],
             [
              0.7777777777777778,
              "#fb9f3a"
             ],
             [
              0.8888888888888888,
              "#fdca26"
             ],
             [
              1,
              "#f0f921"
             ]
            ],
            "type": "surface"
           }
          ],
          "table": [
           {
            "cells": {
             "fill": {
              "color": "#EBF0F8"
             },
             "line": {
              "color": "white"
             }
            },
            "header": {
             "fill": {
              "color": "#C8D4E3"
             },
             "line": {
              "color": "white"
             }
            },
            "type": "table"
           }
          ]
         },
         "layout": {
          "annotationdefaults": {
           "arrowcolor": "#2a3f5f",
           "arrowhead": 0,
           "arrowwidth": 1
          },
          "autotypenumbers": "strict",
          "coloraxis": {
           "colorbar": {
            "outlinewidth": 0,
            "ticks": ""
           }
          },
          "colorscale": {
           "diverging": [
            [
             0,
             "#8e0152"
            ],
            [
             0.1,
             "#c51b7d"
            ],
            [
             0.2,
             "#de77ae"
            ],
            [
             0.3,
             "#f1b6da"
            ],
            [
             0.4,
             "#fde0ef"
            ],
            [
             0.5,
             "#f7f7f7"
            ],
            [
             0.6,
             "#e6f5d0"
            ],
            [
             0.7,
             "#b8e186"
            ],
            [
             0.8,
             "#7fbc41"
            ],
            [
             0.9,
             "#4d9221"
            ],
            [
             1,
             "#276419"
            ]
           ],
           "sequential": [
            [
             0,
             "#0d0887"
            ],
            [
             0.1111111111111111,
             "#46039f"
            ],
            [
             0.2222222222222222,
             "#7201a8"
            ],
            [
             0.3333333333333333,
             "#9c179e"
            ],
            [
             0.4444444444444444,
             "#bd3786"
            ],
            [
             0.5555555555555556,
             "#d8576b"
            ],
            [
             0.6666666666666666,
             "#ed7953"
            ],
            [
             0.7777777777777778,
             "#fb9f3a"
            ],
            [
             0.8888888888888888,
             "#fdca26"
            ],
            [
             1,
             "#f0f921"
            ]
           ],
           "sequentialminus": [
            [
             0,
             "#0d0887"
            ],
            [
             0.1111111111111111,
             "#46039f"
            ],
            [
             0.2222222222222222,
             "#7201a8"
            ],
            [
             0.3333333333333333,
             "#9c179e"
            ],
            [
             0.4444444444444444,
             "#bd3786"
            ],
            [
             0.5555555555555556,
             "#d8576b"
            ],
            [
             0.6666666666666666,
             "#ed7953"
            ],
            [
             0.7777777777777778,
             "#fb9f3a"
            ],
            [
             0.8888888888888888,
             "#fdca26"
            ],
            [
             1,
             "#f0f921"
            ]
           ]
          },
          "colorway": [
           "#636efa",
           "#EF553B",
           "#00cc96",
           "#ab63fa",
           "#FFA15A",
           "#19d3f3",
           "#FF6692",
           "#B6E880",
           "#FF97FF",
           "#FECB52"
          ],
          "font": {
           "color": "#2a3f5f"
          },
          "geo": {
           "bgcolor": "white",
           "lakecolor": "white",
           "landcolor": "#E5ECF6",
           "showlakes": true,
           "showland": true,
           "subunitcolor": "white"
          },
          "hoverlabel": {
           "align": "left"
          },
          "hovermode": "closest",
          "mapbox": {
           "style": "light"
          },
          "paper_bgcolor": "white",
          "plot_bgcolor": "#E5ECF6",
          "polar": {
           "angularaxis": {
            "gridcolor": "white",
            "linecolor": "white",
            "ticks": ""
           },
           "bgcolor": "#E5ECF6",
           "radialaxis": {
            "gridcolor": "white",
            "linecolor": "white",
            "ticks": ""
           }
          },
          "scene": {
           "xaxis": {
            "backgroundcolor": "#E5ECF6",
            "gridcolor": "white",
            "gridwidth": 2,
            "linecolor": "white",
            "showbackground": true,
            "ticks": "",
            "zerolinecolor": "white"
           },
           "yaxis": {
            "backgroundcolor": "#E5ECF6",
            "gridcolor": "white",
            "gridwidth": 2,
            "linecolor": "white",
            "showbackground": true,
            "ticks": "",
            "zerolinecolor": "white"
           },
           "zaxis": {
            "backgroundcolor": "#E5ECF6",
            "gridcolor": "white",
            "gridwidth": 2,
            "linecolor": "white",
            "showbackground": true,
            "ticks": "",
            "zerolinecolor": "white"
           }
          },
          "shapedefaults": {
           "line": {
            "color": "#2a3f5f"
           }
          },
          "ternary": {
           "aaxis": {
            "gridcolor": "white",
            "linecolor": "white",
            "ticks": ""
           },
           "baxis": {
            "gridcolor": "white",
            "linecolor": "white",
            "ticks": ""
           },
           "bgcolor": "#E5ECF6",
           "caxis": {
            "gridcolor": "white",
            "linecolor": "white",
            "ticks": ""
           }
          },
          "title": {
           "x": 0.05
          },
          "xaxis": {
           "automargin": true,
           "gridcolor": "white",
           "linecolor": "white",
           "ticks": "",
           "title": {
            "standoff": 15
           },
           "zerolinecolor": "white",
           "zerolinewidth": 2
          },
          "yaxis": {
           "automargin": true,
           "gridcolor": "white",
           "linecolor": "white",
           "ticks": "",
           "title": {
            "standoff": 15
           },
           "zerolinecolor": "white",
           "zerolinewidth": 2
          }
         }
        },
        "title": {
         "text": "Recent Occupancy Trends in Miami (%) (W/W)",
         "x": 0.5
        },
        "width": 850
       }
      }
     },
     "metadata": {},
     "output_type": "display_data"
    }
   ],
   "source": [
    "florida_occ_trends = occ_trend_wloc[occ_trend_wloc['State'] == 'FL']\n",
    "florida_occ_trends_zip = florida_occ_trends.groupby('zipcode').mean(['available_delta_pct','available_for_checkin_delta_pct','available_for_checkout_delta_pct','bookable_delta_pct']).reset_index()\n",
    "florida_occ_trends_city = florida_occ_trends.groupby('City').mean(['available_delta_pct','available_for_checkin_delta_pct','available_for_checkout_delta_pct','bookable_delta_pct']).reset_index()\n",
    "\"\"\"\n",
    "florida_price_trends_fig = go.Figure()\n",
    "florida_price_trends_fig.add_trace(go.Scatter(x=price_data_date['check_in'], y=price_data_date['cleaning_fee'],\n",
    "                    mode='lines',\n",
    "                    name='Cleaning Fee'))\n",
    "florida_price_trends_fig.add_trace(go.Scatter(x=price_data_date['check_in'], y=price_data_date['service_fee'],\n",
    "                    mode='lines',\n",
    "                    name='Service Fee'))\n",
    "florida_price_trends_fig.add_trace(go.Scatter(x=price_data_date['check_in'], y=price_data_date['total_price'],\n",
    "                    mode='lines', \n",
    "                    name='Total Price'))\n",
    "florida_price_trends_fig.update_layout(title_text=\"Pricing Data by Pull Time\", xaxis_title='Date', yaxis_title='Price ($)')\n",
    "filename = \"newsletter_features/florida_price_trends_fig_june19.png\"\n",
    "florida_price_trends_fig.write_image(filename, engine='kaleido', width=2000, height=500)\n",
    "florida_price_trends_fig.show()\n",
    "\"\"\"\n",
    "import plotly.graph_objects as go\n",
    "\n",
    "zips = florida_occ_trends_zip['zipcode']\n",
    "vals = [florida_occ_trends_zip['available_delta_pct'], florida_occ_trends_zip['available_for_checkin_delta_pct'], florida_occ_trends_zip['available_for_checkout_delta_pct'], florida_occ_trends_zip['bookable_delta_pct']]\n",
    "font_color = ['rgb(40,40,40)'] +  [['rgb(0,125,0)' if v < 0 else 'rgb(255,0,0)' for v in vals[k]] for k in range(4)]\n",
    "\n",
    "table_trace = go.Table(\n",
    "                 columnwidth= [50]+[50]+[50]+[50]+[50],\n",
    "                 columnorder=[0, 1, 2, 3, 4],\n",
    "                 header = dict(height = 40,\n",
    "                               values = [['<b>Zip Code</b>'], ['<b>Availability</b>'], ['<b>Check-in Availability</b>'], ['<b>Check-out Availability</b>'],['<b>Bookable</b>']],\n",
    "                               line = dict(color='rgb(50,50,50)'),\n",
    "                               align = ['left']*5,\n",
    "                               font = dict(color=['rgb(45,45,45)']*4, size=14),\n",
    "                             \n",
    "                              ),\n",
    "                 cells = dict(values = [zips, vals[0], vals[1], vals[2], vals[3]],\n",
    "                              line = dict(color='#506784'),\n",
    "                              align = ['left']*5,\n",
    "                              \n",
    "                              font = dict(family=\"Arial\", size=14, color=font_color),\n",
    "                              format = [None, \",.2f\"],  #add % sign here\n",
    "                              height = 30,\n",
    "                              fill = dict(color='rgb(245,245,245)'))\n",
    "                             )\n",
    "                 \n",
    "\n",
    "layout = go.Layout(width=850, height=650, autosize=False, \n",
    "              title_text='Recent Occupancy Trends in Miami (%) (W/W)',\n",
    "                   title_x=0.5, showlegend=False)\n",
    "florda_occ_trend_fig = go.Figure(data=[table_trace], layout=layout)\n",
    "filename = \"newsletter_features/florida_occ_trends_table_weekly.png\"\n",
    "florda_occ_trend_fig.write_image(filename, engine='kaleido', width=875, height=700)\n",
    "florda_occ_trend_fig.show()\n",
    "\n",
    "# Look to do one price value and look and price change by day of the week"
   ]
  },
  {
   "cell_type": "code",
   "execution_count": 46,
   "metadata": {},
   "outputs": [
    {
     "data": {
      "text/html": [
       "<div>\n",
       "<style scoped>\n",
       "    .dataframe tbody tr th:only-of-type {\n",
       "        vertical-align: middle;\n",
       "    }\n",
       "\n",
       "    .dataframe tbody tr th {\n",
       "        vertical-align: top;\n",
       "    }\n",
       "\n",
       "    .dataframe thead th {\n",
       "        text-align: right;\n",
       "    }\n",
       "</style>\n",
       "<table border=\"1\" class=\"dataframe\">\n",
       "  <thead>\n",
       "    <tr style=\"text-align: right;\">\n",
       "      <th></th>\n",
       "      <th>zipcode</th>\n",
       "      <th>id</th>\n",
       "      <th>index_x</th>\n",
       "      <th>available_x</th>\n",
       "      <th>max_nights_x</th>\n",
       "      <th>min_nights_x</th>\n",
       "      <th>available_for_checkin_x</th>\n",
       "      <th>available_for_checkout_x</th>\n",
       "      <th>bookable_x</th>\n",
       "      <th>index_y</th>\n",
       "      <th>...</th>\n",
       "      <th>available_for_checkout_delta</th>\n",
       "      <th>bookable_delta</th>\n",
       "      <th>available_delta_pct</th>\n",
       "      <th>available_for_checkin_delta_pct</th>\n",
       "      <th>available_for_checkout_delta_pct</th>\n",
       "      <th>bookable_delta_pct</th>\n",
       "      <th>City</th>\n",
       "      <th>Metro</th>\n",
       "      <th>CountyName</th>\n",
       "      <th>State</th>\n",
       "    </tr>\n",
       "  </thead>\n",
       "  <tbody>\n",
       "    <tr>\n",
       "      <th>0</th>\n",
       "      <td>33109</td>\n",
       "      <td>1</td>\n",
       "      <td>1</td>\n",
       "      <td>1</td>\n",
       "      <td>1</td>\n",
       "      <td>1</td>\n",
       "      <td>1</td>\n",
       "      <td>1</td>\n",
       "      <td>1</td>\n",
       "      <td>1</td>\n",
       "      <td>...</td>\n",
       "      <td>1</td>\n",
       "      <td>1</td>\n",
       "      <td>1</td>\n",
       "      <td>1</td>\n",
       "      <td>1</td>\n",
       "      <td>1</td>\n",
       "      <td>1</td>\n",
       "      <td>1</td>\n",
       "      <td>1</td>\n",
       "      <td>1</td>\n",
       "    </tr>\n",
       "    <tr>\n",
       "      <th>1</th>\n",
       "      <td>33125</td>\n",
       "      <td>1</td>\n",
       "      <td>1</td>\n",
       "      <td>1</td>\n",
       "      <td>1</td>\n",
       "      <td>1</td>\n",
       "      <td>1</td>\n",
       "      <td>1</td>\n",
       "      <td>1</td>\n",
       "      <td>1</td>\n",
       "      <td>...</td>\n",
       "      <td>1</td>\n",
       "      <td>1</td>\n",
       "      <td>1</td>\n",
       "      <td>1</td>\n",
       "      <td>1</td>\n",
       "      <td>1</td>\n",
       "      <td>1</td>\n",
       "      <td>1</td>\n",
       "      <td>1</td>\n",
       "      <td>1</td>\n",
       "    </tr>\n",
       "    <tr>\n",
       "      <th>2</th>\n",
       "      <td>33127</td>\n",
       "      <td>2</td>\n",
       "      <td>2</td>\n",
       "      <td>2</td>\n",
       "      <td>2</td>\n",
       "      <td>2</td>\n",
       "      <td>2</td>\n",
       "      <td>2</td>\n",
       "      <td>2</td>\n",
       "      <td>2</td>\n",
       "      <td>...</td>\n",
       "      <td>2</td>\n",
       "      <td>2</td>\n",
       "      <td>2</td>\n",
       "      <td>2</td>\n",
       "      <td>2</td>\n",
       "      <td>2</td>\n",
       "      <td>2</td>\n",
       "      <td>2</td>\n",
       "      <td>2</td>\n",
       "      <td>2</td>\n",
       "    </tr>\n",
       "    <tr>\n",
       "      <th>3</th>\n",
       "      <td>33131</td>\n",
       "      <td>3</td>\n",
       "      <td>3</td>\n",
       "      <td>3</td>\n",
       "      <td>3</td>\n",
       "      <td>3</td>\n",
       "      <td>3</td>\n",
       "      <td>3</td>\n",
       "      <td>3</td>\n",
       "      <td>3</td>\n",
       "      <td>...</td>\n",
       "      <td>3</td>\n",
       "      <td>3</td>\n",
       "      <td>3</td>\n",
       "      <td>3</td>\n",
       "      <td>3</td>\n",
       "      <td>3</td>\n",
       "      <td>3</td>\n",
       "      <td>3</td>\n",
       "      <td>3</td>\n",
       "      <td>3</td>\n",
       "    </tr>\n",
       "    <tr>\n",
       "      <th>4</th>\n",
       "      <td>33133</td>\n",
       "      <td>2</td>\n",
       "      <td>2</td>\n",
       "      <td>2</td>\n",
       "      <td>2</td>\n",
       "      <td>2</td>\n",
       "      <td>2</td>\n",
       "      <td>2</td>\n",
       "      <td>2</td>\n",
       "      <td>2</td>\n",
       "      <td>...</td>\n",
       "      <td>2</td>\n",
       "      <td>2</td>\n",
       "      <td>2</td>\n",
       "      <td>2</td>\n",
       "      <td>2</td>\n",
       "      <td>2</td>\n",
       "      <td>2</td>\n",
       "      <td>2</td>\n",
       "      <td>2</td>\n",
       "      <td>2</td>\n",
       "    </tr>\n",
       "    <tr>\n",
       "      <th>5</th>\n",
       "      <td>33137</td>\n",
       "      <td>1</td>\n",
       "      <td>1</td>\n",
       "      <td>1</td>\n",
       "      <td>1</td>\n",
       "      <td>1</td>\n",
       "      <td>1</td>\n",
       "      <td>1</td>\n",
       "      <td>1</td>\n",
       "      <td>1</td>\n",
       "      <td>...</td>\n",
       "      <td>1</td>\n",
       "      <td>1</td>\n",
       "      <td>1</td>\n",
       "      <td>1</td>\n",
       "      <td>1</td>\n",
       "      <td>1</td>\n",
       "      <td>1</td>\n",
       "      <td>1</td>\n",
       "      <td>1</td>\n",
       "      <td>1</td>\n",
       "    </tr>\n",
       "    <tr>\n",
       "      <th>6</th>\n",
       "      <td>33138</td>\n",
       "      <td>3</td>\n",
       "      <td>3</td>\n",
       "      <td>3</td>\n",
       "      <td>3</td>\n",
       "      <td>3</td>\n",
       "      <td>3</td>\n",
       "      <td>3</td>\n",
       "      <td>3</td>\n",
       "      <td>3</td>\n",
       "      <td>...</td>\n",
       "      <td>3</td>\n",
       "      <td>3</td>\n",
       "      <td>3</td>\n",
       "      <td>3</td>\n",
       "      <td>3</td>\n",
       "      <td>3</td>\n",
       "      <td>3</td>\n",
       "      <td>3</td>\n",
       "      <td>3</td>\n",
       "      <td>3</td>\n",
       "    </tr>\n",
       "    <tr>\n",
       "      <th>7</th>\n",
       "      <td>33139</td>\n",
       "      <td>13</td>\n",
       "      <td>13</td>\n",
       "      <td>13</td>\n",
       "      <td>13</td>\n",
       "      <td>13</td>\n",
       "      <td>13</td>\n",
       "      <td>13</td>\n",
       "      <td>13</td>\n",
       "      <td>13</td>\n",
       "      <td>...</td>\n",
       "      <td>13</td>\n",
       "      <td>13</td>\n",
       "      <td>13</td>\n",
       "      <td>13</td>\n",
       "      <td>13</td>\n",
       "      <td>13</td>\n",
       "      <td>13</td>\n",
       "      <td>13</td>\n",
       "      <td>13</td>\n",
       "      <td>13</td>\n",
       "    </tr>\n",
       "    <tr>\n",
       "      <th>8</th>\n",
       "      <td>33140</td>\n",
       "      <td>1</td>\n",
       "      <td>1</td>\n",
       "      <td>1</td>\n",
       "      <td>1</td>\n",
       "      <td>1</td>\n",
       "      <td>1</td>\n",
       "      <td>1</td>\n",
       "      <td>1</td>\n",
       "      <td>1</td>\n",
       "      <td>...</td>\n",
       "      <td>1</td>\n",
       "      <td>1</td>\n",
       "      <td>1</td>\n",
       "      <td>1</td>\n",
       "      <td>1</td>\n",
       "      <td>1</td>\n",
       "      <td>1</td>\n",
       "      <td>1</td>\n",
       "      <td>1</td>\n",
       "      <td>1</td>\n",
       "    </tr>\n",
       "    <tr>\n",
       "      <th>9</th>\n",
       "      <td>33141</td>\n",
       "      <td>6</td>\n",
       "      <td>6</td>\n",
       "      <td>6</td>\n",
       "      <td>6</td>\n",
       "      <td>6</td>\n",
       "      <td>6</td>\n",
       "      <td>6</td>\n",
       "      <td>6</td>\n",
       "      <td>6</td>\n",
       "      <td>...</td>\n",
       "      <td>6</td>\n",
       "      <td>6</td>\n",
       "      <td>6</td>\n",
       "      <td>6</td>\n",
       "      <td>6</td>\n",
       "      <td>6</td>\n",
       "      <td>6</td>\n",
       "      <td>6</td>\n",
       "      <td>6</td>\n",
       "      <td>6</td>\n",
       "    </tr>\n",
       "    <tr>\n",
       "      <th>10</th>\n",
       "      <td>33147</td>\n",
       "      <td>1</td>\n",
       "      <td>1</td>\n",
       "      <td>1</td>\n",
       "      <td>1</td>\n",
       "      <td>1</td>\n",
       "      <td>1</td>\n",
       "      <td>1</td>\n",
       "      <td>1</td>\n",
       "      <td>1</td>\n",
       "      <td>...</td>\n",
       "      <td>1</td>\n",
       "      <td>1</td>\n",
       "      <td>1</td>\n",
       "      <td>1</td>\n",
       "      <td>1</td>\n",
       "      <td>1</td>\n",
       "      <td>1</td>\n",
       "      <td>1</td>\n",
       "      <td>1</td>\n",
       "      <td>1</td>\n",
       "    </tr>\n",
       "    <tr>\n",
       "      <th>11</th>\n",
       "      <td>33150</td>\n",
       "      <td>1</td>\n",
       "      <td>1</td>\n",
       "      <td>1</td>\n",
       "      <td>1</td>\n",
       "      <td>1</td>\n",
       "      <td>1</td>\n",
       "      <td>1</td>\n",
       "      <td>1</td>\n",
       "      <td>1</td>\n",
       "      <td>...</td>\n",
       "      <td>1</td>\n",
       "      <td>1</td>\n",
       "      <td>1</td>\n",
       "      <td>1</td>\n",
       "      <td>1</td>\n",
       "      <td>1</td>\n",
       "      <td>1</td>\n",
       "      <td>1</td>\n",
       "      <td>1</td>\n",
       "      <td>1</td>\n",
       "    </tr>\n",
       "    <tr>\n",
       "      <th>12</th>\n",
       "      <td>33169</td>\n",
       "      <td>1</td>\n",
       "      <td>1</td>\n",
       "      <td>1</td>\n",
       "      <td>1</td>\n",
       "      <td>1</td>\n",
       "      <td>1</td>\n",
       "      <td>1</td>\n",
       "      <td>1</td>\n",
       "      <td>1</td>\n",
       "      <td>...</td>\n",
       "      <td>1</td>\n",
       "      <td>1</td>\n",
       "      <td>1</td>\n",
       "      <td>1</td>\n",
       "      <td>1</td>\n",
       "      <td>1</td>\n",
       "      <td>1</td>\n",
       "      <td>1</td>\n",
       "      <td>1</td>\n",
       "      <td>1</td>\n",
       "    </tr>\n",
       "    <tr>\n",
       "      <th>13</th>\n",
       "      <td>33175</td>\n",
       "      <td>1</td>\n",
       "      <td>1</td>\n",
       "      <td>1</td>\n",
       "      <td>1</td>\n",
       "      <td>1</td>\n",
       "      <td>1</td>\n",
       "      <td>1</td>\n",
       "      <td>1</td>\n",
       "      <td>1</td>\n",
       "      <td>...</td>\n",
       "      <td>1</td>\n",
       "      <td>1</td>\n",
       "      <td>1</td>\n",
       "      <td>1</td>\n",
       "      <td>1</td>\n",
       "      <td>1</td>\n",
       "      <td>1</td>\n",
       "      <td>1</td>\n",
       "      <td>1</td>\n",
       "      <td>1</td>\n",
       "    </tr>\n",
       "  </tbody>\n",
       "</table>\n",
       "<p>14 rows × 28 columns</p>\n",
       "</div>"
      ],
      "text/plain": [
       "    zipcode  id  index_x  available_x  max_nights_x  min_nights_x  \\\n",
       "0     33109   1        1            1             1             1   \n",
       "1     33125   1        1            1             1             1   \n",
       "2     33127   2        2            2             2             2   \n",
       "3     33131   3        3            3             3             3   \n",
       "4     33133   2        2            2             2             2   \n",
       "5     33137   1        1            1             1             1   \n",
       "6     33138   3        3            3             3             3   \n",
       "7     33139  13       13           13            13            13   \n",
       "8     33140   1        1            1             1             1   \n",
       "9     33141   6        6            6             6             6   \n",
       "10    33147   1        1            1             1             1   \n",
       "11    33150   1        1            1             1             1   \n",
       "12    33169   1        1            1             1             1   \n",
       "13    33175   1        1            1             1             1   \n",
       "\n",
       "    available_for_checkin_x  available_for_checkout_x  bookable_x  index_y  \\\n",
       "0                         1                         1           1        1   \n",
       "1                         1                         1           1        1   \n",
       "2                         2                         2           2        2   \n",
       "3                         3                         3           3        3   \n",
       "4                         2                         2           2        2   \n",
       "5                         1                         1           1        1   \n",
       "6                         3                         3           3        3   \n",
       "7                        13                        13          13       13   \n",
       "8                         1                         1           1        1   \n",
       "9                         6                         6           6        6   \n",
       "10                        1                         1           1        1   \n",
       "11                        1                         1           1        1   \n",
       "12                        1                         1           1        1   \n",
       "13                        1                         1           1        1   \n",
       "\n",
       "    ...  available_for_checkout_delta  bookable_delta  available_delta_pct  \\\n",
       "0   ...                             1               1                    1   \n",
       "1   ...                             1               1                    1   \n",
       "2   ...                             2               2                    2   \n",
       "3   ...                             3               3                    3   \n",
       "4   ...                             2               2                    2   \n",
       "5   ...                             1               1                    1   \n",
       "6   ...                             3               3                    3   \n",
       "7   ...                            13              13                   13   \n",
       "8   ...                             1               1                    1   \n",
       "9   ...                             6               6                    6   \n",
       "10  ...                             1               1                    1   \n",
       "11  ...                             1               1                    1   \n",
       "12  ...                             1               1                    1   \n",
       "13  ...                             1               1                    1   \n",
       "\n",
       "    available_for_checkin_delta_pct  available_for_checkout_delta_pct  \\\n",
       "0                                 1                                 1   \n",
       "1                                 1                                 1   \n",
       "2                                 2                                 2   \n",
       "3                                 3                                 3   \n",
       "4                                 2                                 2   \n",
       "5                                 1                                 1   \n",
       "6                                 3                                 3   \n",
       "7                                13                                13   \n",
       "8                                 1                                 1   \n",
       "9                                 6                                 6   \n",
       "10                                1                                 1   \n",
       "11                                1                                 1   \n",
       "12                                1                                 1   \n",
       "13                                1                                 1   \n",
       "\n",
       "    bookable_delta_pct  City  Metro  CountyName  State  \n",
       "0                    1     1      1           1      1  \n",
       "1                    1     1      1           1      1  \n",
       "2                    2     2      2           2      2  \n",
       "3                    3     3      3           3      3  \n",
       "4                    2     2      2           2      2  \n",
       "5                    1     1      1           1      1  \n",
       "6                    3     3      3           3      3  \n",
       "7                   13    13     13          13     13  \n",
       "8                    1     1      1           1      1  \n",
       "9                    6     6      6           6      6  \n",
       "10                   1     1      1           1      1  \n",
       "11                   1     1      1           1      1  \n",
       "12                   1     1      1           1      1  \n",
       "13                   1     1      1           1      1  \n",
       "\n",
       "[14 rows x 28 columns]"
      ]
     },
     "execution_count": 46,
     "metadata": {},
     "output_type": "execute_result"
    }
   ],
   "source": [
    "florida_occ_trends_zip_propcounts = florida_occ_trends.groupby('zipcode').count().reset_index()\n",
    "florida_occ_trends_zip_propcounts"
   ]
  },
  {
   "cell_type": "code",
   "execution_count": 48,
   "metadata": {},
   "outputs": [
    {
     "data": {
      "application/vnd.plotly.v1+json": {
       "config": {
        "plotlyServerURL": "https://plot.ly"
       },
       "data": [
        {
         "cells": {
          "align": [
           "left",
           "left",
           "left",
           "left",
           "left"
          ],
          "fill": {
           "color": "rgb(245,245,245)"
          },
          "font": {
           "color": [
            "rgb(40,40,40)",
            [
             "rgb(255,0,0)",
             "rgb(255,0,0)",
             "rgb(255,0,0)",
             "rgb(255,0,0)",
             "rgb(255,0,0)",
             "rgb(255,0,0)"
            ],
            [
             "rgb(255,0,0)",
             "rgb(255,0,0)",
             "rgb(255,0,0)",
             "rgb(255,0,0)",
             "rgb(255,0,0)",
             "rgb(255,0,0)"
            ],
            [
             "rgb(255,0,0)",
             "rgb(255,0,0)",
             "rgb(255,0,0)",
             "rgb(255,0,0)",
             "rgb(255,0,0)",
             "rgb(255,0,0)"
            ],
            [
             "rgb(255,0,0)",
             "rgb(255,0,0)",
             "rgb(255,0,0)",
             "rgb(255,0,0)",
             "rgb(255,0,0)",
             "rgb(255,0,0)"
            ]
           ],
           "family": "Arial",
           "size": 14
          },
          "format": [
           null,
           ",.2f"
          ],
          "height": 30,
          "line": {
           "color": "#506784"
          },
          "values": [
           [
            "Fisher Island",
            "Miami",
            "Miami Beach",
            "Miami Gardens",
            "Tamiami",
            "West Little River"
           ],
           [
            35.13824884792627,
            21.889400921658986,
            21.437473816506074,
            12.096774193548388,
            8.755760368663601,
            67.85714285714285
           ],
           [
            33.7557603686636,
            23.13009571074087,
            21.974836692578627,
            12.096774193548388,
            5.299539170506917,
            67.85714285714285
           ],
           [
            38.13364055299539,
            25.930521091811418,
            21.69606976058589,
            12.096774193548388,
            10.368663594470052,
            67.85714285714286
           ],
           [
            35.13824884792627,
            23.209854661467563,
            20.987117720988685,
            12.096774193548388,
            8.755760368663601,
            67.85714285714285
           ]
          ]
         },
         "columnorder": [
          0,
          1,
          2,
          3,
          4
         ],
         "columnwidth": [
          50,
          50,
          50,
          50,
          50
         ],
         "header": {
          "align": [
           "left",
           "left",
           "left",
           "left",
           "left"
          ],
          "font": {
           "color": [
            "rgb(45,45,45)",
            "rgb(45,45,45)",
            "rgb(45,45,45)",
            "rgb(45,45,45)"
           ],
           "size": 14
          },
          "height": 40,
          "line": {
           "color": "rgb(50,50,50)"
          },
          "values": [
           [
            "<b>City</b>"
           ],
           [
            "<b>Availability</b>"
           ],
           [
            "<b>Check-in Availability</b>"
           ],
           [
            "<b>Check-out Availability</b>"
           ],
           [
            "<b>Bookable</b>"
           ]
          ]
         },
         "type": "table"
        }
       ],
       "layout": {
        "autosize": false,
        "height": 650,
        "showlegend": false,
        "template": {
         "data": {
          "bar": [
           {
            "error_x": {
             "color": "#2a3f5f"
            },
            "error_y": {
             "color": "#2a3f5f"
            },
            "marker": {
             "line": {
              "color": "#E5ECF6",
              "width": 0.5
             },
             "pattern": {
              "fillmode": "overlay",
              "size": 10,
              "solidity": 0.2
             }
            },
            "type": "bar"
           }
          ],
          "barpolar": [
           {
            "marker": {
             "line": {
              "color": "#E5ECF6",
              "width": 0.5
             },
             "pattern": {
              "fillmode": "overlay",
              "size": 10,
              "solidity": 0.2
             }
            },
            "type": "barpolar"
           }
          ],
          "carpet": [
           {
            "aaxis": {
             "endlinecolor": "#2a3f5f",
             "gridcolor": "white",
             "linecolor": "white",
             "minorgridcolor": "white",
             "startlinecolor": "#2a3f5f"
            },
            "baxis": {
             "endlinecolor": "#2a3f5f",
             "gridcolor": "white",
             "linecolor": "white",
             "minorgridcolor": "white",
             "startlinecolor": "#2a3f5f"
            },
            "type": "carpet"
           }
          ],
          "choropleth": [
           {
            "colorbar": {
             "outlinewidth": 0,
             "ticks": ""
            },
            "type": "choropleth"
           }
          ],
          "contour": [
           {
            "colorbar": {
             "outlinewidth": 0,
             "ticks": ""
            },
            "colorscale": [
             [
              0,
              "#0d0887"
             ],
             [
              0.1111111111111111,
              "#46039f"
             ],
             [
              0.2222222222222222,
              "#7201a8"
             ],
             [
              0.3333333333333333,
              "#9c179e"
             ],
             [
              0.4444444444444444,
              "#bd3786"
             ],
             [
              0.5555555555555556,
              "#d8576b"
             ],
             [
              0.6666666666666666,
              "#ed7953"
             ],
             [
              0.7777777777777778,
              "#fb9f3a"
             ],
             [
              0.8888888888888888,
              "#fdca26"
             ],
             [
              1,
              "#f0f921"
             ]
            ],
            "type": "contour"
           }
          ],
          "contourcarpet": [
           {
            "colorbar": {
             "outlinewidth": 0,
             "ticks": ""
            },
            "type": "contourcarpet"
           }
          ],
          "heatmap": [
           {
            "colorbar": {
             "outlinewidth": 0,
             "ticks": ""
            },
            "colorscale": [
             [
              0,
              "#0d0887"
             ],
             [
              0.1111111111111111,
              "#46039f"
             ],
             [
              0.2222222222222222,
              "#7201a8"
             ],
             [
              0.3333333333333333,
              "#9c179e"
             ],
             [
              0.4444444444444444,
              "#bd3786"
             ],
             [
              0.5555555555555556,
              "#d8576b"
             ],
             [
              0.6666666666666666,
              "#ed7953"
             ],
             [
              0.7777777777777778,
              "#fb9f3a"
             ],
             [
              0.8888888888888888,
              "#fdca26"
             ],
             [
              1,
              "#f0f921"
             ]
            ],
            "type": "heatmap"
           }
          ],
          "heatmapgl": [
           {
            "colorbar": {
             "outlinewidth": 0,
             "ticks": ""
            },
            "colorscale": [
             [
              0,
              "#0d0887"
             ],
             [
              0.1111111111111111,
              "#46039f"
             ],
             [
              0.2222222222222222,
              "#7201a8"
             ],
             [
              0.3333333333333333,
              "#9c179e"
             ],
             [
              0.4444444444444444,
              "#bd3786"
             ],
             [
              0.5555555555555556,
              "#d8576b"
             ],
             [
              0.6666666666666666,
              "#ed7953"
             ],
             [
              0.7777777777777778,
              "#fb9f3a"
             ],
             [
              0.8888888888888888,
              "#fdca26"
             ],
             [
              1,
              "#f0f921"
             ]
            ],
            "type": "heatmapgl"
           }
          ],
          "histogram": [
           {
            "marker": {
             "pattern": {
              "fillmode": "overlay",
              "size": 10,
              "solidity": 0.2
             }
            },
            "type": "histogram"
           }
          ],
          "histogram2d": [
           {
            "colorbar": {
             "outlinewidth": 0,
             "ticks": ""
            },
            "colorscale": [
             [
              0,
              "#0d0887"
             ],
             [
              0.1111111111111111,
              "#46039f"
             ],
             [
              0.2222222222222222,
              "#7201a8"
             ],
             [
              0.3333333333333333,
              "#9c179e"
             ],
             [
              0.4444444444444444,
              "#bd3786"
             ],
             [
              0.5555555555555556,
              "#d8576b"
             ],
             [
              0.6666666666666666,
              "#ed7953"
             ],
             [
              0.7777777777777778,
              "#fb9f3a"
             ],
             [
              0.8888888888888888,
              "#fdca26"
             ],
             [
              1,
              "#f0f921"
             ]
            ],
            "type": "histogram2d"
           }
          ],
          "histogram2dcontour": [
           {
            "colorbar": {
             "outlinewidth": 0,
             "ticks": ""
            },
            "colorscale": [
             [
              0,
              "#0d0887"
             ],
             [
              0.1111111111111111,
              "#46039f"
             ],
             [
              0.2222222222222222,
              "#7201a8"
             ],
             [
              0.3333333333333333,
              "#9c179e"
             ],
             [
              0.4444444444444444,
              "#bd3786"
             ],
             [
              0.5555555555555556,
              "#d8576b"
             ],
             [
              0.6666666666666666,
              "#ed7953"
             ],
             [
              0.7777777777777778,
              "#fb9f3a"
             ],
             [
              0.8888888888888888,
              "#fdca26"
             ],
             [
              1,
              "#f0f921"
             ]
            ],
            "type": "histogram2dcontour"
           }
          ],
          "mesh3d": [
           {
            "colorbar": {
             "outlinewidth": 0,
             "ticks": ""
            },
            "type": "mesh3d"
           }
          ],
          "parcoords": [
           {
            "line": {
             "colorbar": {
              "outlinewidth": 0,
              "ticks": ""
             }
            },
            "type": "parcoords"
           }
          ],
          "pie": [
           {
            "automargin": true,
            "type": "pie"
           }
          ],
          "scatter": [
           {
            "fillpattern": {
             "fillmode": "overlay",
             "size": 10,
             "solidity": 0.2
            },
            "type": "scatter"
           }
          ],
          "scatter3d": [
           {
            "line": {
             "colorbar": {
              "outlinewidth": 0,
              "ticks": ""
             }
            },
            "marker": {
             "colorbar": {
              "outlinewidth": 0,
              "ticks": ""
             }
            },
            "type": "scatter3d"
           }
          ],
          "scattercarpet": [
           {
            "marker": {
             "colorbar": {
              "outlinewidth": 0,
              "ticks": ""
             }
            },
            "type": "scattercarpet"
           }
          ],
          "scattergeo": [
           {
            "marker": {
             "colorbar": {
              "outlinewidth": 0,
              "ticks": ""
             }
            },
            "type": "scattergeo"
           }
          ],
          "scattergl": [
           {
            "marker": {
             "colorbar": {
              "outlinewidth": 0,
              "ticks": ""
             }
            },
            "type": "scattergl"
           }
          ],
          "scattermapbox": [
           {
            "marker": {
             "colorbar": {
              "outlinewidth": 0,
              "ticks": ""
             }
            },
            "type": "scattermapbox"
           }
          ],
          "scatterpolar": [
           {
            "marker": {
             "colorbar": {
              "outlinewidth": 0,
              "ticks": ""
             }
            },
            "type": "scatterpolar"
           }
          ],
          "scatterpolargl": [
           {
            "marker": {
             "colorbar": {
              "outlinewidth": 0,
              "ticks": ""
             }
            },
            "type": "scatterpolargl"
           }
          ],
          "scatterternary": [
           {
            "marker": {
             "colorbar": {
              "outlinewidth": 0,
              "ticks": ""
             }
            },
            "type": "scatterternary"
           }
          ],
          "surface": [
           {
            "colorbar": {
             "outlinewidth": 0,
             "ticks": ""
            },
            "colorscale": [
             [
              0,
              "#0d0887"
             ],
             [
              0.1111111111111111,
              "#46039f"
             ],
             [
              0.2222222222222222,
              "#7201a8"
             ],
             [
              0.3333333333333333,
              "#9c179e"
             ],
             [
              0.4444444444444444,
              "#bd3786"
             ],
             [
              0.5555555555555556,
              "#d8576b"
             ],
             [
              0.6666666666666666,
              "#ed7953"
             ],
             [
              0.7777777777777778,
              "#fb9f3a"
             ],
             [
              0.8888888888888888,
              "#fdca26"
             ],
             [
              1,
              "#f0f921"
             ]
            ],
            "type": "surface"
           }
          ],
          "table": [
           {
            "cells": {
             "fill": {
              "color": "#EBF0F8"
             },
             "line": {
              "color": "white"
             }
            },
            "header": {
             "fill": {
              "color": "#C8D4E3"
             },
             "line": {
              "color": "white"
             }
            },
            "type": "table"
           }
          ]
         },
         "layout": {
          "annotationdefaults": {
           "arrowcolor": "#2a3f5f",
           "arrowhead": 0,
           "arrowwidth": 1
          },
          "autotypenumbers": "strict",
          "coloraxis": {
           "colorbar": {
            "outlinewidth": 0,
            "ticks": ""
           }
          },
          "colorscale": {
           "diverging": [
            [
             0,
             "#8e0152"
            ],
            [
             0.1,
             "#c51b7d"
            ],
            [
             0.2,
             "#de77ae"
            ],
            [
             0.3,
             "#f1b6da"
            ],
            [
             0.4,
             "#fde0ef"
            ],
            [
             0.5,
             "#f7f7f7"
            ],
            [
             0.6,
             "#e6f5d0"
            ],
            [
             0.7,
             "#b8e186"
            ],
            [
             0.8,
             "#7fbc41"
            ],
            [
             0.9,
             "#4d9221"
            ],
            [
             1,
             "#276419"
            ]
           ],
           "sequential": [
            [
             0,
             "#0d0887"
            ],
            [
             0.1111111111111111,
             "#46039f"
            ],
            [
             0.2222222222222222,
             "#7201a8"
            ],
            [
             0.3333333333333333,
             "#9c179e"
            ],
            [
             0.4444444444444444,
             "#bd3786"
            ],
            [
             0.5555555555555556,
             "#d8576b"
            ],
            [
             0.6666666666666666,
             "#ed7953"
            ],
            [
             0.7777777777777778,
             "#fb9f3a"
            ],
            [
             0.8888888888888888,
             "#fdca26"
            ],
            [
             1,
             "#f0f921"
            ]
           ],
           "sequentialminus": [
            [
             0,
             "#0d0887"
            ],
            [
             0.1111111111111111,
             "#46039f"
            ],
            [
             0.2222222222222222,
             "#7201a8"
            ],
            [
             0.3333333333333333,
             "#9c179e"
            ],
            [
             0.4444444444444444,
             "#bd3786"
            ],
            [
             0.5555555555555556,
             "#d8576b"
            ],
            [
             0.6666666666666666,
             "#ed7953"
            ],
            [
             0.7777777777777778,
             "#fb9f3a"
            ],
            [
             0.8888888888888888,
             "#fdca26"
            ],
            [
             1,
             "#f0f921"
            ]
           ]
          },
          "colorway": [
           "#636efa",
           "#EF553B",
           "#00cc96",
           "#ab63fa",
           "#FFA15A",
           "#19d3f3",
           "#FF6692",
           "#B6E880",
           "#FF97FF",
           "#FECB52"
          ],
          "font": {
           "color": "#2a3f5f"
          },
          "geo": {
           "bgcolor": "white",
           "lakecolor": "white",
           "landcolor": "#E5ECF6",
           "showlakes": true,
           "showland": true,
           "subunitcolor": "white"
          },
          "hoverlabel": {
           "align": "left"
          },
          "hovermode": "closest",
          "mapbox": {
           "style": "light"
          },
          "paper_bgcolor": "white",
          "plot_bgcolor": "#E5ECF6",
          "polar": {
           "angularaxis": {
            "gridcolor": "white",
            "linecolor": "white",
            "ticks": ""
           },
           "bgcolor": "#E5ECF6",
           "radialaxis": {
            "gridcolor": "white",
            "linecolor": "white",
            "ticks": ""
           }
          },
          "scene": {
           "xaxis": {
            "backgroundcolor": "#E5ECF6",
            "gridcolor": "white",
            "gridwidth": 2,
            "linecolor": "white",
            "showbackground": true,
            "ticks": "",
            "zerolinecolor": "white"
           },
           "yaxis": {
            "backgroundcolor": "#E5ECF6",
            "gridcolor": "white",
            "gridwidth": 2,
            "linecolor": "white",
            "showbackground": true,
            "ticks": "",
            "zerolinecolor": "white"
           },
           "zaxis": {
            "backgroundcolor": "#E5ECF6",
            "gridcolor": "white",
            "gridwidth": 2,
            "linecolor": "white",
            "showbackground": true,
            "ticks": "",
            "zerolinecolor": "white"
           }
          },
          "shapedefaults": {
           "line": {
            "color": "#2a3f5f"
           }
          },
          "ternary": {
           "aaxis": {
            "gridcolor": "white",
            "linecolor": "white",
            "ticks": ""
           },
           "baxis": {
            "gridcolor": "white",
            "linecolor": "white",
            "ticks": ""
           },
           "bgcolor": "#E5ECF6",
           "caxis": {
            "gridcolor": "white",
            "linecolor": "white",
            "ticks": ""
           }
          },
          "title": {
           "x": 0.05
          },
          "xaxis": {
           "automargin": true,
           "gridcolor": "white",
           "linecolor": "white",
           "ticks": "",
           "title": {
            "standoff": 15
           },
           "zerolinecolor": "white",
           "zerolinewidth": 2
          },
          "yaxis": {
           "automargin": true,
           "gridcolor": "white",
           "linecolor": "white",
           "ticks": "",
           "title": {
            "standoff": 15
           },
           "zerolinecolor": "white",
           "zerolinewidth": 2
          }
         }
        },
        "title": {
         "text": "Recent Occupancy Trends in Miami (%) (W/W)",
         "x": 0.5
        },
        "width": 850
       }
      }
     },
     "metadata": {},
     "output_type": "display_data"
    }
   ],
   "source": [
    "florida_occ_trends = occ_trend_wloc[occ_trend_wloc['State'] == 'FL']\n",
    "#florida_occ_trends_zip = florida_occ_trends.groupby('zipcode').mean(['available_delta_pct','available_for_checkin_delta_pct','available_for_checkout_delta_pct','bookable_delta_pct']).reset_index()\n",
    "florida_occ_trends_city = florida_occ_trends.groupby('City').mean(['available_delta_pct','available_for_checkin_delta_pct','available_for_checkout_delta_pct','bookable_delta_pct']).reset_index()\n",
    "\"\"\"\n",
    "florida_price_trends_fig = go.Figure()\n",
    "florida_price_trends_fig.add_trace(go.Scatter(x=price_data_date['check_in'], y=price_data_date['cleaning_fee'],\n",
    "                    mode='lines',\n",
    "                    name='Cleaning Fee'))\n",
    "florida_price_trends_fig.add_trace(go.Scatter(x=price_data_date['check_in'], y=price_data_date['service_fee'],\n",
    "                    mode='lines',\n",
    "                    name='Service Fee'))\n",
    "florida_price_trends_fig.add_trace(go.Scatter(x=price_data_date['check_in'], y=price_data_date['total_price'],\n",
    "                    mode='lines', \n",
    "                    name='Total Price'))\n",
    "florida_price_trends_fig.update_layout(title_text=\"Pricing Data by Pull Time\", xaxis_title='Date', yaxis_title='Price ($)')\n",
    "filename = \"newsletter_features/florida_price_trends_fig_june19.png\"\n",
    "florida_price_trends_fig.write_image(filename, engine='kaleido', width=2000, height=500)\n",
    "florida_price_trends_fig.show()\n",
    "\"\"\"\n",
    "import plotly.graph_objects as go\n",
    "\n",
    "cities = florida_occ_trends_city['City']\n",
    "vals = [florida_occ_trends_city['available_delta_pct'], florida_occ_trends_city['available_for_checkin_delta_pct'], florida_occ_trends_city['available_for_checkout_delta_pct'], florida_occ_trends_city['bookable_delta_pct']]\n",
    "font_color = ['rgb(40,40,40)'] +  [['rgb(0,125,0)' if v < 0 else 'rgb(255,0,0)' for v in vals[k]] for k in range(4)]\n",
    "\n",
    "table_trace = go.Table(\n",
    "                 columnwidth= [50]+[50]+[50]+[50]+[50],\n",
    "                 columnorder=[0, 1, 2, 3, 4],\n",
    "                 header = dict(height = 40,\n",
    "                               values = [['<b>City</b>'], ['<b>Availability</b>'], ['<b>Check-in Availability</b>'], ['<b>Check-out Availability</b>'],['<b>Bookable</b>']],\n",
    "                               line = dict(color='rgb(50,50,50)'),\n",
    "                               align = ['left']*5,\n",
    "                               font = dict(color=['rgb(45,45,45)']*4, size=14),\n",
    "                             \n",
    "                              ),\n",
    "                 cells = dict(values = [cities, vals[0], vals[1], vals[2], vals[3]],\n",
    "                              line = dict(color='#506784'),\n",
    "                              align = ['left']*5,\n",
    "                              \n",
    "                              font = dict(family=\"Arial\", size=14, color=font_color),\n",
    "                              format = [None, \",.2f\"],  #add % sign here\n",
    "                              height = 30,\n",
    "                              fill = dict(color='rgb(245,245,245)'))\n",
    "                             )\n",
    "                 \n",
    "\n",
    "layout = go.Layout(width=850, height=650, autosize=False, \n",
    "              title_text='Recent Occupancy Trends in Miami (%) (W/W)',\n",
    "                   title_x=0.5, showlegend=False)\n",
    "florda_occ_trend_fig = go.Figure(data=[table_trace], layout=layout)\n",
    "filename = \"newsletter_features/florida_occ_trends_table_city_weekly.png\"\n",
    "florda_occ_trend_fig.write_image(filename, engine='kaleido', width=875, height=700)\n",
    "florda_occ_trend_fig.show()\n",
    "\n",
    "# Look to do one price value and look and price change by day of the week"
   ]
  },
  {
   "cell_type": "code",
   "execution_count": null,
   "metadata": {},
   "outputs": [],
   "source": []
  }
 ],
 "metadata": {
  "kernelspec": {
   "display_name": "Python 3.10.4 64-bit",
   "language": "python",
   "name": "python3"
  },
  "language_info": {
   "codemirror_mode": {
    "name": "ipython",
    "version": 3
   },
   "file_extension": ".py",
   "mimetype": "text/x-python",
   "name": "python",
   "nbconvert_exporter": "python",
   "pygments_lexer": "ipython3",
   "version": "3.10.4"
  },
  "orig_nbformat": 4,
  "vscode": {
   "interpreter": {
    "hash": "8cda3f1edda61d067a8dccfe73833b0b57e2a1d4ac0e36527d0cd620f4d2a66c"
   }
  }
 },
 "nbformat": 4,
 "nbformat_minor": 2
}
