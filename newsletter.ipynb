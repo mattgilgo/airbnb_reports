{
 "cells": [
  {
   "cell_type": "code",
   "execution_count": 21,
   "metadata": {},
   "outputs": [],
   "source": [
    "import smtplib\n",
    "from pathlib import Path\n",
    "from email.mime.multipart import MIMEMultipart\n",
    "from email.mime.base import MIMEBase\n",
    "from email.mime.text import MIMEText\n",
    "from email.utils import COMMASPACE, formatdate\n",
    "from email import encoders\n",
    "\n",
    "\n",
    "def send_mail(send_from, send_to, subject, message, files=[],\n",
    "              server=\"localhost\", port=587, username='', password='',\n",
    "              use_tls=True):\n",
    "    \"\"\"Compose and send email with provided info and attachments.\n",
    "\n",
    "    Args:\n",
    "        send_from (str): from name\n",
    "        send_to (list[str]): to name(s)\n",
    "        subject (str): message title\n",
    "        message (str): message body\n",
    "        files (list[str]): list of file paths to be attached to email\n",
    "        server (str): mail server host name\n",
    "        port (int): port number\n",
    "        username (str): server auth username\n",
    "        password (str): server auth password\n",
    "        use_tls (bool): use TLS mode\n",
    "    \"\"\"\n",
    "    msg = MIMEMultipart()\n",
    "    msg['From'] = send_from\n",
    "    msg['To'] = COMMASPACE.join(send_to)\n",
    "    msg['Date'] = formatdate(localtime=True)\n",
    "    msg['Subject'] = subject\n",
    "\n",
    "    msg.attach(MIMEText(message))\n",
    "\n",
    "    for path in files:\n",
    "        part = MIMEBase('application', \"octet-stream\")\n",
    "        with open(path, 'rb') as file:\n",
    "            part.set_payload(file.read())\n",
    "        encoders.encode_base64(part)\n",
    "        part.add_header('Content-Disposition',\n",
    "                        'attachment; filename={}'.format(Path(path).name))\n",
    "        msg.attach(part)\n",
    "\n",
    "    smtp = smtplib.SMTP(server, port)\n",
    "    if use_tls:\n",
    "        smtp.starttls()\n",
    "    smtp.login(username, password)\n",
    "    smtp.sendmail(send_from, send_to, msg.as_string())\n",
    "    smtp.quit()"
   ]
  },
  {
   "cell_type": "code",
   "execution_count": 24,
   "metadata": {},
   "outputs": [],
   "source": [
    "send_mail('gilgotesting@gmail.com', ['mattgilgo@gmail.com', 'a09flores@gmail.com'], 'Airbnb Newsletter', 'Hi there! This report was generated and sent in an email using python. Please download the html to see your AirBnb market report. Thank you! :) ', files=['reports/report_draft.html'], server=\"smtp.gmail.com\", username='gilgotesting@gmail.com', password='gilgotest1!')"
   ]
  },
  {
   "cell_type": "code",
   "execution_count": null,
   "metadata": {},
   "outputs": [],
   "source": []
  }
 ],
 "metadata": {
  "interpreter": {
   "hash": "8cda3f1edda61d067a8dccfe73833b0b57e2a1d4ac0e36527d0cd620f4d2a66c"
  },
  "kernelspec": {
   "display_name": "Python 3.10.4 64-bit",
   "language": "python",
   "name": "python3"
  },
  "language_info": {
   "codemirror_mode": {
    "name": "ipython",
    "version": 3
   },
   "file_extension": ".py",
   "mimetype": "text/x-python",
   "name": "python",
   "nbconvert_exporter": "python",
   "pygments_lexer": "ipython3",
   "version": "3.10.4"
  },
  "orig_nbformat": 4
 },
 "nbformat": 4,
 "nbformat_minor": 2
}
