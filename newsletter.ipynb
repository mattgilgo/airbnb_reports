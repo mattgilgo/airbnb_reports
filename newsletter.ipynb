{
 "cells": [
  {
   "cell_type": "code",
   "execution_count": 16,
   "metadata": {},
   "outputs": [],
   "source": [
    "import smtplib\n",
    "from pathlib import Path\n",
    "from email.mime.multipart import MIMEMultipart\n",
    "from email.mime.base import MIMEBase\n",
    "from email.mime.text import MIMEText\n",
    "from email.utils import COMMASPACE, formatdate\n",
    "from email import encoders\n",
    "\n",
    "\n",
    "def send_mail(send_from, send_to, subject, message, files=[],\n",
    "              server=\"localhost\", port=587, username='', password='',\n",
    "              use_tls=True):\n",
    "    \"\"\"Compose and send email with provided info and attachments.\n",
    "\n",
    "    Args:\n",
    "        send_from (str): from name\n",
    "        send_to (list[str]): to name(s)\n",
    "        subject (str): message title\n",
    "        message (str): message body\n",
    "        files (list[str]): list of file paths to be attached to email\n",
    "        server (str): mail server host name\n",
    "        port (int): port number\n",
    "        username (str): server auth username\n",
    "        password (str): server auth password\n",
    "        use_tls (bool): use TLS mode\n",
    "    \"\"\"\n",
    "    msg = MIMEMultipart()\n",
    "    msg['From'] = send_from\n",
    "    msg['To'] = COMMASPACE.join(send_to)\n",
    "    msg['Date'] = formatdate(localtime=True)\n",
    "    msg['Subject'] = subject\n",
    "\n",
    "    msg.attach(MIMEText(message))\n",
    "\n",
    "    for path in files:\n",
    "        part = MIMEBase('application', \"octet-stream\")\n",
    "        with open(path, 'rb') as file:\n",
    "            part.set_payload(file.read())\n",
    "        encoders.encode_base64(part)\n",
    "        part.add_header('Content-Disposition',\n",
    "                        'attachment; filename={}'.format(Path(path).name))\n",
    "        msg.attach(part)\n",
    "\n",
    "    smtp = smtplib.SMTP(server, port)\n",
    "    if use_tls:\n",
    "        smtp.starttls()\n",
    "    smtp.login(username, password)\n",
    "    smtp.sendmail(send_from, send_to, msg.as_string())\n",
    "    smtp.quit()"
   ]
  },
  {
   "cell_type": "code",
   "execution_count": 18,
   "metadata": {},
   "outputs": [
    {
     "ename": "SMTPAuthenticationError",
     "evalue": "(535, b'5.7.8 Username and Password not accepted. Learn more at\\n5.7.8  https://support.google.com/mail/?p=BadCredentials c19-20020a05620a165300b0069fc13ce1e5sm5474006qko.22 - gsmtp')",
     "output_type": "error",
     "traceback": [
      "\u001b[1;31m---------------------------------------------------------------------------\u001b[0m",
      "\u001b[1;31mSMTPAuthenticationError\u001b[0m                   Traceback (most recent call last)",
      "\u001b[1;32mc:\\Users\\mattg\\Desktop\\Hobbies\\airbnb_reports\\newsletter.ipynb Cell 2'\u001b[0m in \u001b[0;36m<cell line: 1>\u001b[1;34m()\u001b[0m\n\u001b[1;32m----> <a href='vscode-notebook-cell:/c%3A/Users/mattg/Desktop/Hobbies/airbnb_reports/newsletter.ipynb#ch0000001?line=0'>1</a>\u001b[0m send_mail(\u001b[39m'\u001b[39;49m\u001b[39mgilgotesting@gmail.com\u001b[39;49m\u001b[39m'\u001b[39;49m, [\u001b[39m'\u001b[39;49m\u001b[39mmattgilgo@gmail.com\u001b[39;49m\u001b[39m'\u001b[39;49m], \u001b[39m'\u001b[39;49m\u001b[39mAirbnb Newsletter\u001b[39;49m\u001b[39m'\u001b[39;49m, \u001b[39m'\u001b[39;49m\u001b[39mtesting 1, 2, 3...\u001b[39;49m\u001b[39m'\u001b[39;49m, files\u001b[39m=\u001b[39;49m[\u001b[39m'\u001b[39;49m\u001b[39mreports/report_draft.html\u001b[39;49m\u001b[39m'\u001b[39;49m], server\u001b[39m=\u001b[39;49m\u001b[39m\"\u001b[39;49m\u001b[39msmtp.gmail.com\u001b[39;49m\u001b[39m\"\u001b[39;49m, username\u001b[39m=\u001b[39;49m\u001b[39m'\u001b[39;49m\u001b[39mgilgotesting@gmail.com\u001b[39;49m\u001b[39m'\u001b[39;49m, password\u001b[39m=\u001b[39;49m\u001b[39m'\u001b[39;49m\u001b[39mPirates15!\u001b[39;49m\u001b[39m'\u001b[39;49m)\n",
      "\u001b[1;32mc:\\Users\\mattg\\Desktop\\Hobbies\\airbnb_reports\\newsletter.ipynb Cell 1'\u001b[0m in \u001b[0;36msend_mail\u001b[1;34m(send_from, send_to, subject, message, files, server, port, username, password, use_tls)\u001b[0m\n\u001b[0;32m     <a href='vscode-notebook-cell:/c%3A/Users/mattg/Desktop/Hobbies/airbnb_reports/newsletter.ipynb#ch0000000?line=44'>45</a>\u001b[0m \u001b[39mif\u001b[39;00m use_tls:\n\u001b[0;32m     <a href='vscode-notebook-cell:/c%3A/Users/mattg/Desktop/Hobbies/airbnb_reports/newsletter.ipynb#ch0000000?line=45'>46</a>\u001b[0m     smtp\u001b[39m.\u001b[39mstarttls()\n\u001b[1;32m---> <a href='vscode-notebook-cell:/c%3A/Users/mattg/Desktop/Hobbies/airbnb_reports/newsletter.ipynb#ch0000000?line=46'>47</a>\u001b[0m smtp\u001b[39m.\u001b[39;49mlogin(username, password)\n\u001b[0;32m     <a href='vscode-notebook-cell:/c%3A/Users/mattg/Desktop/Hobbies/airbnb_reports/newsletter.ipynb#ch0000000?line=47'>48</a>\u001b[0m smtp\u001b[39m.\u001b[39msendmail(send_from, send_to, msg\u001b[39m.\u001b[39mas_string())\n\u001b[0;32m     <a href='vscode-notebook-cell:/c%3A/Users/mattg/Desktop/Hobbies/airbnb_reports/newsletter.ipynb#ch0000000?line=48'>49</a>\u001b[0m smtp\u001b[39m.\u001b[39mquit()\n",
      "File \u001b[1;32mc:\\Users\\mattg\\AppData\\Local\\Programs\\Python\\Python310\\lib\\smtplib.py:750\u001b[0m, in \u001b[0;36mSMTP.login\u001b[1;34m(self, user, password, initial_response_ok)\u001b[0m\n\u001b[0;32m    <a href='file:///c%3A/Users/mattg/AppData/Local/Programs/Python/Python310/lib/smtplib.py?line=746'>747</a>\u001b[0m         last_exception \u001b[39m=\u001b[39m e\n\u001b[0;32m    <a href='file:///c%3A/Users/mattg/AppData/Local/Programs/Python/Python310/lib/smtplib.py?line=748'>749</a>\u001b[0m \u001b[39m# We could not login successfully.  Return result of last attempt.\u001b[39;00m\n\u001b[1;32m--> <a href='file:///c%3A/Users/mattg/AppData/Local/Programs/Python/Python310/lib/smtplib.py?line=749'>750</a>\u001b[0m \u001b[39mraise\u001b[39;00m last_exception\n",
      "File \u001b[1;32mc:\\Users\\mattg\\AppData\\Local\\Programs\\Python\\Python310\\lib\\smtplib.py:739\u001b[0m, in \u001b[0;36mSMTP.login\u001b[1;34m(self, user, password, initial_response_ok)\u001b[0m\n\u001b[0;32m    <a href='file:///c%3A/Users/mattg/AppData/Local/Programs/Python/Python310/lib/smtplib.py?line=736'>737</a>\u001b[0m method_name \u001b[39m=\u001b[39m \u001b[39m'\u001b[39m\u001b[39mauth_\u001b[39m\u001b[39m'\u001b[39m \u001b[39m+\u001b[39m authmethod\u001b[39m.\u001b[39mlower()\u001b[39m.\u001b[39mreplace(\u001b[39m'\u001b[39m\u001b[39m-\u001b[39m\u001b[39m'\u001b[39m, \u001b[39m'\u001b[39m\u001b[39m_\u001b[39m\u001b[39m'\u001b[39m)\n\u001b[0;32m    <a href='file:///c%3A/Users/mattg/AppData/Local/Programs/Python/Python310/lib/smtplib.py?line=737'>738</a>\u001b[0m \u001b[39mtry\u001b[39;00m:\n\u001b[1;32m--> <a href='file:///c%3A/Users/mattg/AppData/Local/Programs/Python/Python310/lib/smtplib.py?line=738'>739</a>\u001b[0m     (code, resp) \u001b[39m=\u001b[39m \u001b[39mself\u001b[39;49m\u001b[39m.\u001b[39;49mauth(\n\u001b[0;32m    <a href='file:///c%3A/Users/mattg/AppData/Local/Programs/Python/Python310/lib/smtplib.py?line=739'>740</a>\u001b[0m         authmethod, \u001b[39mgetattr\u001b[39;49m(\u001b[39mself\u001b[39;49m, method_name),\n\u001b[0;32m    <a href='file:///c%3A/Users/mattg/AppData/Local/Programs/Python/Python310/lib/smtplib.py?line=740'>741</a>\u001b[0m         initial_response_ok\u001b[39m=\u001b[39;49minitial_response_ok)\n\u001b[0;32m    <a href='file:///c%3A/Users/mattg/AppData/Local/Programs/Python/Python310/lib/smtplib.py?line=741'>742</a>\u001b[0m     \u001b[39m# 235 == 'Authentication successful'\u001b[39;00m\n\u001b[0;32m    <a href='file:///c%3A/Users/mattg/AppData/Local/Programs/Python/Python310/lib/smtplib.py?line=742'>743</a>\u001b[0m     \u001b[39m# 503 == 'Error: already authenticated'\u001b[39;00m\n\u001b[0;32m    <a href='file:///c%3A/Users/mattg/AppData/Local/Programs/Python/Python310/lib/smtplib.py?line=743'>744</a>\u001b[0m     \u001b[39mif\u001b[39;00m code \u001b[39min\u001b[39;00m (\u001b[39m235\u001b[39m, \u001b[39m503\u001b[39m):\n",
      "File \u001b[1;32mc:\\Users\\mattg\\AppData\\Local\\Programs\\Python\\Python310\\lib\\smtplib.py:662\u001b[0m, in \u001b[0;36mSMTP.auth\u001b[1;34m(self, mechanism, authobject, initial_response_ok)\u001b[0m\n\u001b[0;32m    <a href='file:///c%3A/Users/mattg/AppData/Local/Programs/Python/Python310/lib/smtplib.py?line=659'>660</a>\u001b[0m \u001b[39mif\u001b[39;00m code \u001b[39min\u001b[39;00m (\u001b[39m235\u001b[39m, \u001b[39m503\u001b[39m):\n\u001b[0;32m    <a href='file:///c%3A/Users/mattg/AppData/Local/Programs/Python/Python310/lib/smtplib.py?line=660'>661</a>\u001b[0m     \u001b[39mreturn\u001b[39;00m (code, resp)\n\u001b[1;32m--> <a href='file:///c%3A/Users/mattg/AppData/Local/Programs/Python/Python310/lib/smtplib.py?line=661'>662</a>\u001b[0m \u001b[39mraise\u001b[39;00m SMTPAuthenticationError(code, resp)\n",
      "\u001b[1;31mSMTPAuthenticationError\u001b[0m: (535, b'5.7.8 Username and Password not accepted. Learn more at\\n5.7.8  https://support.google.com/mail/?p=BadCredentials c19-20020a05620a165300b0069fc13ce1e5sm5474006qko.22 - gsmtp')"
     ]
    }
   ],
   "source": [
    "send_mail('gilgotesting@gmail.com', ['mattgilgo@gmail.com'], 'Airbnb Newsletter', 'testing 1, 2, 3...', files=['reports/report_draft.html'], server=\"smtp.gmail.com\", username='gilgotesting@gmail.com', password='Testing1!')"
   ]
  },
  {
   "cell_type": "code",
   "execution_count": null,
   "metadata": {},
   "outputs": [],
   "source": [
    "import smtplib, ssl\n",
    "from email.mime.text import MIMEText\n",
    "from email.mime.multipart import MIMEMultipart\n",
    "\n",
    "sender_email = \"my_sender_email@gmail.com\"\n",
    "receiver_email = \"myemail@yahoo.com\"\n",
    "# sender email password\n",
    "password = \"**************\"\n",
    "\n",
    "message = MIMEMultipart(\"alternative\")\n",
    "message[\"Subject\"] = \"My awesome newsletter\"\n",
    "message[\"From\"] = sender_email\n",
    "message[\"To\"] = receiver_email\n",
    "\n",
    "# Create the plain-text and HTML version of your message\n",
    "text = \"Hi, I've found some article that you might find interesting: %s\" % previews\n",
    "html = email_content\n",
    "\n",
    "# Turn these into plain/html MIMEText objects\n",
    "part1 = MIMEText(text, \"plain\")\n",
    "part2 = MIMEText(html, \"html\")\n",
    "\n",
    "# Add HTML/plain-text parts to MIMEMultipart message\n",
    "# The email client will try to render the last part first\n",
    "message.attach(part1)\n",
    "message.attach(part2)\n",
    "\n",
    "# Create secure connection with server and send email\n",
    "context = ssl.create_default_context()\n",
    "with smtplib.SMTP_SSL(\"smtp.gmail.com\", 465, context=context) as server:\n",
    "    server.ehlo()\n",
    "    server.login(sender_email, password)\n",
    "    server.sendmail(\n",
    "        sender_email, receiver_email, message.as_string()\n",
    "    )"
   ]
  },
  {
   "cell_type": "code",
   "execution_count": null,
   "metadata": {},
   "outputs": [],
   "source": []
  }
 ],
 "metadata": {
  "interpreter": {
   "hash": "8cda3f1edda61d067a8dccfe73833b0b57e2a1d4ac0e36527d0cd620f4d2a66c"
  },
  "kernelspec": {
   "display_name": "Python 3.10.4 64-bit",
   "language": "python",
   "name": "python3"
  },
  "language_info": {
   "codemirror_mode": {
    "name": "ipython",
    "version": 3
   },
   "file_extension": ".py",
   "mimetype": "text/x-python",
   "name": "python",
   "nbconvert_exporter": "python",
   "pygments_lexer": "ipython3",
   "version": "3.10.4"
  },
  "orig_nbformat": 4
 },
 "nbformat": 4,
 "nbformat_minor": 2
}
